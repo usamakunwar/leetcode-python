{
 "cells": [
  {
   "cell_type": "markdown",
   "metadata": {},
   "source": [
    "# 1091. Shortest Path in Binary Matrix (Medium)\n"
   ]
  },
  {
   "cell_type": "markdown",
   "metadata": {},
   "source": [
    "<div><p>In an N by N square grid, each cell is either empty (0) or blocked (1).</p>\n",
    "\n",
    "<p>A&nbsp;<em>clear&nbsp;path from top-left to bottom-right</em>&nbsp;has length <code>k</code> if and only if it is composed of cells <code>C_1, C_2, ..., C_k</code>&nbsp;such that:</p>\n",
    "\n",
    "<ul>\n",
    "\t<li>Adjacent cells <code>C_i</code> and <code>C_{i+1}</code> are connected 8-directionally (ie., they are different and&nbsp;share an edge or corner)</li>\n",
    "\t<li><code>C_1</code> is at location <code>(0, 0)</code> (ie. has value <code>grid[0][0]</code>)</li>\n",
    "\t<li><code>C_k</code>&nbsp;is at location <code>(N-1, N-1)</code> (ie. has value <code>grid[N-1][N-1]</code>)</li>\n",
    "\t<li>If <code>C_i</code> is located at&nbsp;<code>(r, c)</code>, then <code>grid[r][c]</code> is empty (ie.&nbsp;<code>grid[r][c] ==&nbsp;0</code>).</li>\n",
    "</ul>\n",
    "\n",
    "<p>Return the length of the shortest such clear path from top-left to bottom-right.&nbsp; If such a path does not exist, return -1.</p>\n",
    "\n",
    "<p>&nbsp;</p>\n",
    "\n",
    "<p><strong>Example 1:</strong></p>\n",
    "\n",
    "<pre><strong>Input: </strong><span id=\"example-input-1-1\">[[0,1],[1,0]]\n",
    "<img alt=\"\" src=\"https://assets.leetcode.com/uploads/2019/08/04/example1_1.png\" style=\"width: 151px; height: 152px;\">\n",
    "</span>\n",
    "<strong>Output: </strong>2\n",
    "<img alt=\"\" src=\"https://assets.leetcode.com/uploads/2019/08/04/example1_2.png\" style=\"width: 151px; height: 152px;\">\n",
    "</pre>\n",
    "\n",
    "<div>\n",
    "<p><strong>Example 2:</strong></p>\n",
    "\n",
    "<pre><strong>Input: </strong><span id=\"example-input-2-1\">[[0,0,0],[1,1,0],[1,1,0]]\n",
    "<img alt=\"\" src=\"https://assets.leetcode.com/uploads/2019/08/04/example2_1.png\" style=\"width: 151px; height: 152px;\">\n",
    "</span>\n",
    "<strong>Output:</strong> 4\n",
    "<img alt=\"\" src=\"https://assets.leetcode.com/uploads/2019/08/04/example2_2.png\" style=\"width: 151px; height: 152px;\">\n",
    "</pre>\n",
    "\n",
    "<p>&nbsp;</p>\n",
    "</div>\n",
    "\n",
    "<p><strong>Note:</strong></p>\n",
    "\n",
    "<ol>\n",
    "\t<li><code>1 &lt;= grid.length == grid[0].length &lt;= 100</code></li>\n",
    "\t<li><code>grid[r][c]</code> is <code>0</code> or <code>1</code></li>\n",
    "</ol>\n",
    "</div>"
   ]
  },
  {
   "cell_type": "markdown",
   "metadata": {},
   "source": [
    "## Option 1\n",
    "  <p>\n",
    "Time complexity: O(n)\n",
    "<br>\n",
    "Space complexity: O(n)"
   ]
  },
  {
   "cell_type": "code",
   "execution_count": null,
   "metadata": {},
   "outputs": [],
   "source": [
    "class Solution(object):\n",
    "    def shortestPathBinaryMatrix(self, grid):\n",
    "        li = len(grid)\n",
    "        d = [(1,0),(-1,0),(0,1),(0,-1),(1,1),(1,-1),(-1,1),(-1,-1)]\n",
    "        \n",
    "        if grid[0][0]: return -1\n",
    "        \n",
    "        q = [(0,0,1)]\n",
    "        for i,j,lev in q:\n",
    "            if i == li-1 and j == i : return lev\n",
    "            for ni,nj in d:\n",
    "                ni,nj = i+ni,j+nj\n",
    "                if ni >= 0 and ni < li and nj >= 0 and nj < li and grid[ni][nj] == 0:\n",
    "                    q.append((ni,nj,lev+1))\n",
    "                    grid[ni][nj] = '#'\n",
    "\n",
    "        return -1\n",
    "\n",
    "Solution().shortestPathBinaryMatrix([[0,0,1,1,0],\n",
    "                                     [1,0,0,1,0],\n",
    "                                     [1,1,0,1,0],\n",
    "                                     [1,0,1,1,1],\n",
    "                                     [1,0,0,0,0],])"
   ]
  },
  {
   "cell_type": "markdown",
   "metadata": {},
   "source": [
    "#### Result: 512ms (89.97%)\n"
   ]
  }
 ],
 "metadata": {
  "kernelspec": {
   "display_name": "Python 2",
   "language": "python",
   "name": "python2"
  },
  "language_info": {
   "codemirror_mode": {
    "name": "ipython",
    "version": 2
   },
   "file_extension": ".py",
   "mimetype": "text/x-python",
   "name": "python",
   "nbconvert_exporter": "python",
   "pygments_lexer": "ipython2",
   "version": "2.7.16"
  }
 },
 "nbformat": 4,
 "nbformat_minor": 2
}
