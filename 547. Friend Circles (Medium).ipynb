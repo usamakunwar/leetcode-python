{
 "cells": [
  {
   "cell_type": "markdown",
   "metadata": {},
   "source": [
    "# 547. Friend Circles (Medium)"
   ]
  },
  {
   "cell_type": "markdown",
   "metadata": {},
   "source": [
    "<div><p>\n",
    "There are <b>N</b> students in a class. Some of them are friends, while some are not. Their friendship is transitive in nature. For example, if A is a <b>direct</b> friend of B, and B is a <b>direct</b> friend of C, then A is an <b>indirect</b> friend of C. And we defined a friend circle is a group of students who are direct or indirect friends.\n",
    "</p>\n",
    "\n",
    "<p>\n",
    "Given a <b>N*N</b> matrix <b>M</b> representing the friend relationship between students in the class. If M[i][j] = 1, then the i<sub>th</sub> and j<sub>th</sub> students are <b>direct</b> friends with each other, otherwise not. And you have to output the total number of friend circles among all the students.\n",
    "</p>\n",
    "\n",
    "<p><b>Example 1:</b><br>\n",
    "</p><pre><b>Input:</b> \n",
    "[[1,1,0],\n",
    " [1,1,0],\n",
    " [0,0,1]]\n",
    "<b>Output:</b> 2\n",
    "<b>Explanation:</b>The 0<sub>th</sub> and 1<sub>st</sub> students are direct friends, so they are in a friend circle. <br>The 2<sub>nd</sub> student himself is in a friend circle. So return 2.\n",
    "</pre>\n",
    "<p></p>\n",
    "\n",
    "<p><b>Example 2:</b><br>\n",
    "</p><pre><b>Input:</b> \n",
    "[[1,1,0],\n",
    " [1,1,1],\n",
    " [0,1,1]]\n",
    "<b>Output:</b> 1\n",
    "<b>Explanation:</b>The 0<sub>th</sub> and 1<sub>st</sub> students are direct friends, the 1<sub>st</sub> and 2<sub>nd</sub> students are direct friends, <br>so the 0<sub>th</sub> and 2<sub>nd</sub> students are indirect friends. All of them are in the same friend circle, so return 1.\n",
    "</pre>\n",
    "<p></p>\n",
    "\n",
    "\n",
    "<p><b>Note:</b><br>\n",
    "</p><ol>\n",
    "<li>N is in range [1,200].</li>\n",
    "<li>M[i][i] = 1 for all students.</li>\n",
    "<li>If M[i][j] = 1, then M[j][i] = 1.</li>\n",
    "</ol>\n",
    "<p></p></div>"
   ]
  },
  {
   "cell_type": "markdown",
   "metadata": {},
   "source": [
    "## Option 1\n",
    "<p>\n",
    "    DFS\n",
    "<p>\n",
    "    <p>\n",
    "Time complexity: O(n*n)\n",
    "    <br>\n",
    "Space complexity: O(n)\n"
   ]
  },
  {
   "cell_type": "code",
   "execution_count": null,
   "metadata": {},
   "outputs": [],
   "source": [
    "import collections\n",
    "class Solution(object):\n",
    "    def findCircleNum(self, M):\n",
    "        self.seen = [0]*len(M)\n",
    "        def search(i):\n",
    "            self.seen[i] = 1\n",
    "            #You may think as the matrix looks symmetrical (diagonally), we can iterate from i+1 onwards\n",
    "            #However to ensure we seen the entire network in one go, we need 2 way relations\n",
    "            #Like we would in a map, e.g.  0:1  1:0. (same relation 2 ways)\n",
    "            for j in range(i, len(M)):\n",
    "                if not self.seen[j] and M[i][j]:\n",
    "                    search(j)\n",
    "        res = 0\n",
    "        for i in range(len(M)):\n",
    "            if not self.seen[i]:\n",
    "                search(i)\n",
    "                res += 1\n",
    "        return res\n",
    "        \n",
    "        \n",
    "Solution().findCircleNum([[1,0,0,1],\n",
    "                          [0,1,1,0],\n",
    "                          [0,1,1,1],\n",
    "                          [1,0,1,1]])"
   ]
  },
  {
   "cell_type": "markdown",
   "metadata": {},
   "source": [
    "\n",
    "#### Result: 168ms (85.21%)"
   ]
  }
 ],
 "metadata": {
  "kernelspec": {
   "display_name": "Python 2",
   "language": "python",
   "name": "python2"
  },
  "language_info": {
   "codemirror_mode": {
    "name": "ipython",
    "version": 2
   },
   "file_extension": ".py",
   "mimetype": "text/x-python",
   "name": "python",
   "nbconvert_exporter": "python",
   "pygments_lexer": "ipython2",
   "version": "2.7.16"
  }
 },
 "nbformat": 4,
 "nbformat_minor": 2
}
