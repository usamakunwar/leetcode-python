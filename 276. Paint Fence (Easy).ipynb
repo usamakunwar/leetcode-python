{
 "cells": [
  {
   "cell_type": "markdown",
   "metadata": {},
   "source": [
    "# 276. Paint Fence (Easy)"
   ]
  },
  {
   "cell_type": "markdown",
   "metadata": {},
   "source": [
    "<div><p>There is a fence with n posts, each post can be painted with one of the k colors.</p>\n",
    "\n",
    "<p>You have to paint all the posts such that no more than two adjacent fence posts have the same color.</p>\n",
    "\n",
    "<p>Return the total number of ways you can paint the fence.</p>\n",
    "\n",
    "<p><b>Note:</b><br>\n",
    "n and k are non-negative integers.</p>\n",
    "\n",
    "<p><b>Example:</b></p>\n",
    "\n",
    "<pre><b>Input:</b> n = 3, k = 2\n",
    "<b>Output:</b> 6\n",
    "<strong>Explanation: </strong>Take c1 as color 1, c2 as color 2. All possible ways are:\n",
    "\n",
    "&nbsp;           post1  post2  post3      \n",
    " -----      -----  -----  -----       \n",
    "   1         c1     c1     c2 \n",
    "&nbsp;  2         c1     c2     c1 \n",
    "&nbsp;  3         c1     c2     c2 \n",
    "&nbsp;  4         c2     c1     c1&nbsp; \n",
    "   5         c2     c1     c2\n",
    "&nbsp;  6         c2     c2     c1\n",
    "</pre>\n",
    "</div>"
   ]
  },
  {
   "cell_type": "markdown",
   "metadata": {},
   "source": [
    "## Option 1\n",
    "\n",
    "<p>\n",
    "    DP\n",
    "    <p>\n",
    "   <p>\n",
    "       <p>\n",
    "           \n",
    "Time complexity: O(n)\n",
    "    <br>\n",
    "Space complexity: O(1)\n"
   ]
  },
  {
   "cell_type": "code",
   "execution_count": null,
   "metadata": {},
   "outputs": [],
   "source": [
    "class Solution(object):\n",
    "    def numWays(self, n, k):\n",
    "        if not n: return 0\n",
    "        dp = k\n",
    "        #The number of current bad paths (to reduce) is the number of previous good paths \n",
    "        to_reduce = 0 \n",
    "        for i in range(2,n+1):\n",
    "            dp, to_reduce = (dp*k) - to_reduce, dp - to_reduce\n",
    "        return dp\n",
    "            \n",
    "        \n",
    "Solution().numWays(1,3)\n",
    "    "
   ]
  },
  {
   "cell_type": "markdown",
   "metadata": {},
   "source": [
    "#### Result: 28ms (13.00%)"
   ]
  }
 ],
 "metadata": {
  "kernelspec": {
   "display_name": "Python 2",
   "language": "python",
   "name": "python2"
  },
  "language_info": {
   "codemirror_mode": {
    "name": "ipython",
    "version": 2
   },
   "file_extension": ".py",
   "mimetype": "text/x-python",
   "name": "python",
   "nbconvert_exporter": "python",
   "pygments_lexer": "ipython2",
   "version": "2.7.16"
  }
 },
 "nbformat": 4,
 "nbformat_minor": 2
}
