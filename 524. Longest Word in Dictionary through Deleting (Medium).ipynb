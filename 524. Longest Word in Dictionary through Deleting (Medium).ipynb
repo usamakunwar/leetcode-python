{
 "cells": [
  {
   "cell_type": "markdown",
   "metadata": {},
   "source": [
    "# 524. Longest Word in Dictionary through Deleting (Medium)"
   ]
  },
  {
   "cell_type": "markdown",
   "metadata": {},
   "source": [
    "<div><p>\n",
    "Given a string and a string dictionary, find the longest string in the dictionary that can be formed by deleting some characters of the given string. If there are more than one possible results, return the longest word with the smallest lexicographical order. If there is no possible result, return the empty string.\n",
    "</p>\n",
    "<p><b>Example 1:</b><br>\n",
    "</p><pre><b>Input:</b>\n",
    "s = \"abpcplea\", d = [\"ale\",\"apple\",\"monkey\",\"plea\"]\n",
    "\n",
    "<b>Output:</b> \n",
    "\"apple\"\n",
    "</pre>\n",
    "<p></p>\n",
    "\n",
    "<p></p>\n",
    "<p><b>Example 2:</b><br>\n",
    "</p><pre><b>Input:</b>\n",
    "s = \"abpcplea\", d = [\"a\",\"b\",\"c\"]\n",
    "\n",
    "<b>Output:</b> \n",
    "\"a\"\n",
    "</pre>\n",
    "<p></p>\n",
    "\n",
    "<p><b>Note:</b><br>\n",
    "</p><ol>\n",
    "<li>All the strings in the input will only contain lower-case letters.</li>\n",
    "<li>The size of the dictionary won't exceed 1,000.</li>\n",
    "<li>The length of all the strings in the input won't exceed 1,000.</li>\n",
    "</ol>\n",
    "<p></p></div>"
   ]
  },
  {
   "cell_type": "markdown",
   "metadata": {},
   "source": [
    "## Option 1\n",
    "<p>\n",
    "    <p>\n",
    "    Buckets solutions. Works particularly well when the string and words are long (same as 792)\n",
    " <p>\n",
    "    <p>\n",
    "Time complexity: O(n) words length * lenght of words\n",
    "<br>\n",
    "Space complexity: O(d) words length "
   ]
  },
  {
   "cell_type": "code",
   "execution_count": null,
   "metadata": {},
   "outputs": [],
   "source": [
    "import collections\n",
    "class Solution(object):\n",
    "    def findLongestWord(self, S, d):\n",
    "        buckets = [[] for _ in range(26)]\n",
    "        for w in d:\n",
    "            it = iter(w)\n",
    "            buckets[ord(next(it))-ord('a')].append((it,w))\n",
    "            \n",
    "        res = ''\n",
    "        \n",
    "        for s in S:\n",
    "            idx = ord(s)-ord('a')\n",
    "            curr_bucket = buckets[idx]\n",
    "            buckets[idx] = []\n",
    "            \n",
    "            while curr_bucket:\n",
    "                it,w = curr_bucket.pop()\n",
    "                next_it = next(it,None)\n",
    "                if next_it:\n",
    "                    buckets[ord(next_it)-ord('a')].append((it,w))\n",
    "                else:\n",
    "                    if len(w) > len(res) or (len(w) == len(res) and w < res):\n",
    "                        res = w\n",
    "        return res\n",
    "    \n",
    "\n",
    "Solution().findLongestWord(\"abbpcplea\", [\"ale\",\"apple\",\"monkey\",\"abple\",\"abble\"])\n",
    "        "
   ]
  },
  {
   "cell_type": "markdown",
   "metadata": {},
   "source": [
    "#### Result: 92ms (94.22%)\n"
   ]
  }
 ],
 "metadata": {
  "kernelspec": {
   "display_name": "Python 2",
   "language": "python",
   "name": "python2"
  },
  "language_info": {
   "codemirror_mode": {
    "name": "ipython",
    "version": 2
   },
   "file_extension": ".py",
   "mimetype": "text/x-python",
   "name": "python",
   "nbconvert_exporter": "python",
   "pygments_lexer": "ipython2",
   "version": "2.7.16"
  }
 },
 "nbformat": 4,
 "nbformat_minor": 2
}
