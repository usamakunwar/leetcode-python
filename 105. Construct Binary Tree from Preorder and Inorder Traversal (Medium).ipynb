{
 "cells": [
  {
   "cell_type": "markdown",
   "metadata": {},
   "source": [
    "# 105. Construct Binary Tree from Preorder and Inorder Traversal (Medium)"
   ]
  },
  {
   "cell_type": "markdown",
   "metadata": {},
   "source": [
    "<div><p>Given preorder and inorder traversal of a tree, construct the binary tree.</p>\n",
    "\n",
    "<p><strong>Note:</strong><br>\n",
    "You may assume that duplicates do not exist in the tree.</p>\n",
    "\n",
    "<p>For example, given</p>\n",
    "\n",
    "<pre>preorder =&nbsp;[3,9,20,15,7]\n",
    "inorder = [9,3,15,20,7]</pre>\n",
    "\n",
    "<p>Return the following binary tree:</p>\n",
    "\n",
    "<pre>    3\n",
    "   / \\\n",
    "  9  20\n",
    "    /  \\\n",
    "   15   7</pre>\n",
    "</div>"
   ]
  },
  {
   "cell_type": "markdown",
   "metadata": {},
   "source": [
    "## Option 1\n",
    "\n",
    "Recursive\n",
    "<br>\n",
    "Time complexity = O(n)\n",
    "<br>\n",
    "Space complexity = O(n)"
   ]
  },
  {
   "cell_type": "code",
   "execution_count": null,
   "metadata": {
    "scrolled": false
   },
   "outputs": [],
   "source": [
    "# Definition for a binary tree node.\n",
    "# class TreeNode:\n",
    "#     def __init__(self, x):\n",
    "#         self.val = x\n",
    "#         self.left = None\n",
    "#         self.right = None\n",
    "\n",
    "class Solution:\n",
    "    def buildTree(self, preorder: List[int], inorder: List[int]) -> TreeNode:\n",
    "        inorder_map = {v:i for i,v in enumerate(inorder)}\n",
    "        preorder = preorder[::-1]\n",
    "        \n",
    "        def check(l,r):\n",
    "            if l > r: return None\n",
    "            val = preorder.pop()\n",
    "            i = inorder_map[val]\n",
    "            node = TreeNode(val)\n",
    "            node.left = check(l,i-1)\n",
    "            node.right = check(i+1,r)\n",
    "            return node\n",
    "\n",
    "        return check(0,len(inorder)-1)"
   ]
  },
  {
   "cell_type": "markdown",
   "metadata": {},
   "source": [
    "#### Result:  52ms (91.32%)"
   ]
  }
 ],
 "metadata": {
  "kernelspec": {
   "display_name": "Python 3",
   "language": "python",
   "name": "python3"
  },
  "language_info": {
   "codemirror_mode": {
    "name": "ipython",
    "version": 3
   },
   "file_extension": ".py",
   "mimetype": "text/x-python",
   "name": "python",
   "nbconvert_exporter": "python",
   "pygments_lexer": "ipython3",
   "version": "3.7.4"
  }
 },
 "nbformat": 4,
 "nbformat_minor": 2
}
