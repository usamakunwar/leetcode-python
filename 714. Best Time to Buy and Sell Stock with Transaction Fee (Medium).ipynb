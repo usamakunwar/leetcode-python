{
 "cells": [
  {
   "cell_type": "markdown",
   "metadata": {},
   "source": [
    "# 714. Best Time to Buy and Sell Stock with Transaction Fee (Medium)"
   ]
  },
  {
   "cell_type": "markdown",
   "metadata": {},
   "source": [
    "<div><p>Your are given an array of integers <code>prices</code>, for which the <code>i</code>-th element is the price of a given stock on day <code>i</code>; and a non-negative integer <code>fee</code> representing a transaction fee.</p>\n",
    "<p>You may complete as many transactions as you like, but you need to pay the transaction fee for each transaction.  You may not buy more than 1 share of a stock at a time (ie. you must sell the stock share before you buy again.)</p>\n",
    "<p>Return the maximum profit you can make.</p>\n",
    "\n",
    "<p><b>Example 1:</b><br>\n",
    "</p><pre><b>Input:</b> prices = [1, 3, 2, 8, 4, 9], fee = 2\n",
    "<b>Output:</b> 8\n",
    "<b>Explanation:</b> The maximum profit can be achieved by:\n",
    "<li>Buying at prices[0] = 1</li><li>Selling at prices[3] = 8</li><li>Buying at prices[4] = 4</li><li>Selling at prices[5] = 9</li>The total profit is ((8 - 1) - 2) + ((9 - 4) - 2) = 8.\n",
    "</pre>\n",
    "<p></p>\n",
    "\n",
    "<p><b>Note:</b>\n",
    "</p><li><code>0 &lt; prices.length &lt;= 50000</code>.</li>\n",
    "<li><code>0 &lt; prices[i] &lt; 50000</code>.</li>\n",
    "<li><code>0 &lt;= fee &lt; 50000</code>.</li>\n",
    "<p></p></div>"
   ]
  },
  {
   "cell_type": "markdown",
   "metadata": {},
   "source": [
    "## Option 1\n",
    "\n",
    "<p>\n",
    "Greedy\n",
    "    <p>\n",
    "    <li>total_profit = cashed in profit (complete)\n",
    "    <li>curr_profit = profit that could be made (not cashed in) (we try to maximize this)\n",
    "    <li>If there is a drop larger than fee between profits, that means we should certainly cash-in. As if we buy from this position we will make more money\n",
    "    <li>E.g. [1,10,5,15] ... To buy at 1 and sell at 15 doesn't make sense as there is a drop in between\n",
    "<p>\n",
    "\n",
    "Time complexity: O(n)\n",
    "    <br>\n",
    "Space complexity: O(1)\n"
   ]
  },
  {
   "cell_type": "code",
   "execution_count": null,
   "metadata": {},
   "outputs": [],
   "source": [
    "class Solution(object):\n",
    "    def maxProfit(self, prices, fee):\n",
    "        buy = prices[0]\n",
    "        total_profit = curr_profit = 0\n",
    "        for i in range(1,len(prices)):\n",
    "            profit = prices[i]-buy-fee\n",
    "            if profit > curr_profit:\n",
    "                curr_profit = profit #Maximize on going profit (not cashed in yet)\n",
    "            elif curr_profit-profit > fee:\n",
    "                total_profit += curr_profit #We cash in\n",
    "                curr_profit = 0\n",
    "                buy = prices[i] #As we have cashed in, the previous buy prices are irrelevant, start over\n",
    "            else:\n",
    "                buy = min(buy, prices[i]) #Minimuze the buy price\n",
    "        \n",
    "        return total_profit + curr_profit\n",
    "        \n",
    "    \n",
    "Solution().maxProfit([1,3,2,8,4,9,10,11,12,3,4],2)\n"
   ]
  },
  {
   "cell_type": "markdown",
   "metadata": {},
   "source": [
    "\n",
    "#### Result: 568ms (99.11%)"
   ]
  }
 ],
 "metadata": {
  "kernelspec": {
   "display_name": "Python 2",
   "language": "python",
   "name": "python2"
  },
  "language_info": {
   "codemirror_mode": {
    "name": "ipython",
    "version": 2
   },
   "file_extension": ".py",
   "mimetype": "text/x-python",
   "name": "python",
   "nbconvert_exporter": "python",
   "pygments_lexer": "ipython2",
   "version": "2.7.16"
  }
 },
 "nbformat": 4,
 "nbformat_minor": 2
}
