{
 "cells": [
  {
   "cell_type": "markdown",
   "metadata": {},
   "source": [
    "# 802. Find Eventual Safe States (Medium)"
   ]
  },
  {
   "cell_type": "markdown",
   "metadata": {},
   "source": [
    "<div><p>In a directed graph, we start at some node and every turn, walk along a directed edge of the graph.&nbsp; If we reach a node that is terminal (that is, it has no outgoing directed edges), we stop.</p>\n",
    "\n",
    "<p>Now, say our starting node is <em>eventually safe&nbsp;</em>if and only if we must eventually walk to a terminal node.&nbsp; More specifically, there exists a natural number <code>K</code> so that for any choice of where to walk, we must have stopped at a terminal node in less than <code>K</code> steps.</p>\n",
    "\n",
    "<p>Which nodes are eventually safe?&nbsp; Return them as an array in sorted order.</p>\n",
    "\n",
    "<p>The directed graph has <code>N</code> nodes with labels <code>0, 1, ..., N-1</code>, where <code>N</code> is the length of <code>graph</code>.&nbsp; The&nbsp;graph is given in the following form: <code>graph[i]</code> is a list of labels <code>j</code> such that <code>(i, j)</code> is a directed edge of the graph.</p>\n",
    "\n",
    "<pre><strong>Example:</strong>\n",
    "<strong>Input:</strong> graph = [[1,2],[2,3],[5],[0],[5],[],[]]\n",
    "<strong>Output:</strong> [2,4,5,6]\n",
    "Here is a diagram of the above graph.\n",
    "\n",
    "</pre>\n",
    "\n",
    "<p><img alt=\"Illustration of graph\" src=\"https://s3-lc-upload.s3.amazonaws.com/uploads/2018/03/17/picture1.png\" style=\"height:86px; width:300px\"></p>\n",
    "\n",
    "<p><strong>Note:</strong></p>\n",
    "\n",
    "<ul>\n",
    "\t<li><code>graph</code> will have length at most <code>10000</code>.</li>\n",
    "\t<li>The number of edges in the graph will not exceed <code>32000</code>.</li>\n",
    "\t<li>Each <code>graph[i]</code> will be a sorted list of different integers, chosen within the range <code>[0, graph.length - 1]</code>.</li>\n",
    "</ul>\n",
    "</div>"
   ]
  },
  {
   "cell_type": "markdown",
   "metadata": {},
   "source": [
    "## Option 1\n",
    "<p>\n",
    "    DFS\n",
    "    <p>\n",
    "    <li>If there is a cycle in any child node, that node cannot be a safe node\n",
    "    <li>We would like to do this in O(n)\n",
    "    <li>There are 2 issues (1) Searching every node for a cycle is n^2  (2) The result has to be sorted\n",
    "    <li>SOLVE (1) Do a search and set in seen whether that node is a safe node or not, so a complete network is done together, so theres no need to search a seen node\n",
    "    <li>SOLVE (2) Add the nodes in the interation order, referring to the seen result\n",
    "        \n",
    "<p>\n"
   ]
  },
  {
   "cell_type": "code",
   "execution_count": null,
   "metadata": {
    "scrolled": true
   },
   "outputs": [],
   "source": [
    "from collections import defaultdict\n",
    "class Solution(object):\n",
    "    def eventualSafeNodes(self, graph):\n",
    "        #This seen will hold values -1,0,1\n",
    "        # -1 = seen but cannot be added\n",
    "        # 0 = not seen\n",
    "        # 1 = seen and can be added\n",
    "        self.seen = [0]*len(graph) \n",
    "        \n",
    "        def search(i):\n",
    "            self.seen[i] = -1\n",
    "            for j in graph[i]:\n",
    "                #We can exit here if theres a cycle (the remaining items can be done in its partner node)\n",
    "                if self.seen[j] == -1 or (self.seen[j] == 0 and search(j) == -1): \n",
    "                    return -1 \n",
    "            self.seen[i] = 1\n",
    "            return self.seen[i]\n",
    "\n",
    "        return [i for i in range(len(graph)) if self.seen[i] == 1 or (self.seen[j] == 0 and search(i) == 1)]\n",
    "                    \n",
    "        \n",
    "Solution().eventualSafeNodes([[1,2],[2,3],[5],[0],[5],[],[]])"
   ]
  },
  {
   "cell_type": "markdown",
   "metadata": {},
   "source": [
    "#### Result: 620ms (86.03%)"
   ]
  }
 ],
 "metadata": {
  "kernelspec": {
   "display_name": "Python 2",
   "language": "python",
   "name": "python2"
  },
  "language_info": {
   "codemirror_mode": {
    "name": "ipython",
    "version": 2
   },
   "file_extension": ".py",
   "mimetype": "text/x-python",
   "name": "python",
   "nbconvert_exporter": "python",
   "pygments_lexer": "ipython2",
   "version": "2.7.16"
  }
 },
 "nbformat": 4,
 "nbformat_minor": 2
}
