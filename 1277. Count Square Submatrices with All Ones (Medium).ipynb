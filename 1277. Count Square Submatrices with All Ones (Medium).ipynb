{
 "cells": [
  {
   "cell_type": "markdown",
   "metadata": {},
   "source": [
    "# 1277. Count Square Submatrices with All Ones (Medium)"
   ]
  },
  {
   "cell_type": "markdown",
   "metadata": {},
   "source": [
    "<div><p>Given a <code>m * n</code> matrix of ones and zeros, return how many <strong>square</strong> submatrices have all ones.</p>\n",
    "\n",
    "<p>&nbsp;</p>\n",
    "<p><strong>Example 1:</strong></p>\n",
    "\n",
    "<pre><strong>Input:</strong> matrix =\n",
    "[\n",
    "&nbsp; [0,1,1,1],\n",
    "&nbsp; [1,1,1,1],\n",
    "&nbsp; [0,1,1,1]\n",
    "]\n",
    "<strong>Output:</strong> 15\n",
    "<strong>Explanation:</strong> \n",
    "There are <strong>10</strong> squares of side 1.\n",
    "There are <strong>4</strong> squares of side 2.\n",
    "There is  <strong>1</strong> square of side 3.\n",
    "Total number of squares = 10 + 4 + 1 = <strong>15</strong>.\n",
    "</pre>\n",
    "\n",
    "<p><strong>Example 2:</strong></p>\n",
    "\n",
    "<pre><strong>Input:</strong> matrix = \n",
    "[\n",
    "  [1,0,1],\n",
    "  [1,1,0],\n",
    "  [1,1,0]\n",
    "]\n",
    "<strong>Output:</strong> 7\n",
    "<strong>Explanation:</strong> \n",
    "There are <b>6</b> squares of side 1.  \n",
    "There is <strong>1</strong> square of side 2. \n",
    "Total number of squares = 6 + 1 = <b>7</b>.\n",
    "</pre>\n",
    "\n",
    "<p>&nbsp;</p>\n",
    "<p><strong>Constraints:</strong></p>\n",
    "\n",
    "<ul>\n",
    "\t<li><code>1 &lt;= arr.length&nbsp;&lt;= 300</code></li>\n",
    "\t<li><code>1 &lt;= arr[0].length&nbsp;&lt;= 300</code></li>\n",
    "\t<li><code>0 &lt;= arr[i][j] &lt;= 1</code></li>\n",
    "</ul>\n",
    "</div>"
   ]
  },
  {
   "cell_type": "markdown",
   "metadata": {},
   "source": [
    "## Option 1\n",
    "\n",
    "Dynamic Programming, consider k[i][j] as the size of the biggest square where i and j is the position of the bottom right cell.\n",
    "<p>\n",
    "Time complexity = O(mn)\n",
    "<br>\n",
    "Space complexity = O(n)  "
   ]
  },
  {
   "cell_type": "code",
   "execution_count": 34,
   "metadata": {
    "scrolled": false
   },
   "outputs": [
    {
     "data": {
      "text/plain": [
       "15"
      ]
     },
     "execution_count": 34,
     "metadata": {},
     "output_type": "execute_result"
    }
   ],
   "source": [
    "class Solution:\n",
    "    def countSquares(self, matrix: [[int]]) -> int:\n",
    "        for i in range(1,len(matrix)):\n",
    "            for j in range(1,len(matrix[0])):\n",
    "                matrix[i][j] *= min(matrix[i-1][j],matrix[i][j-1],matrix[i-1][j-1])+1\n",
    "        return sum(map(sum, matrix))\n",
    "        \n",
    "Solution().countSquares([[0,1,1,1],[1,1,1,1],[0,1,1,1]])"
   ]
  },
  {
   "cell_type": "markdown",
   "metadata": {},
   "source": [
    "#### Result:  688ms (53.00%)"
   ]
  }
 ],
 "metadata": {
  "kernelspec": {
   "display_name": "Python 3",
   "language": "python",
   "name": "python3"
  },
  "language_info": {
   "codemirror_mode": {
    "name": "ipython",
    "version": 3
   },
   "file_extension": ".py",
   "mimetype": "text/x-python",
   "name": "python",
   "nbconvert_exporter": "python",
   "pygments_lexer": "ipython3",
   "version": "3.7.4"
  }
 },
 "nbformat": 4,
 "nbformat_minor": 2
}
