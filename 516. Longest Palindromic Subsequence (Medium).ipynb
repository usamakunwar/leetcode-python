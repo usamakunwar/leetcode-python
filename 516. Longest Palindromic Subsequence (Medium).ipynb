{
 "cells": [
  {
   "cell_type": "markdown",
   "metadata": {},
   "source": [
    "# 516. Longest Palindromic Subsequence (Medium)"
   ]
  },
  {
   "cell_type": "markdown",
   "metadata": {},
   "source": [
    "<div><p>\n",
    "Given a string s, find the longest palindromic subsequence's length in s. You may assume that the maximum length of s is 1000.\n",
    "</p>\n",
    "\n",
    "<p><b>Example 1:</b><br>\n",
    "Input: \n",
    "</p><pre>\"bbbab\"\n",
    "</pre>\n",
    "Output: \n",
    "<pre>4\n",
    "</pre>\n",
    "One possible longest palindromic subsequence is \"bbbb\".\n",
    "<p></p>\n",
    "\n",
    "<p><b>Example 2:</b><br>\n",
    "Input:\n",
    "</p><pre>\"cbbd\"\n",
    "</pre>\n",
    "Output:\n",
    "<pre>2\n",
    "</pre>\n",
    "One possible longest palindromic subsequence is \"bb\".\n",
    "<p></p></div>"
   ]
  },
  {
   "cell_type": "markdown",
   "metadata": {},
   "source": [
    "## Option 1\n",
    "\n",
    "<p>\n",
    "DP. The longest palindromic subsequence is the same as longest common subsequence, with the second string being the reverse of the first \n",
    "    \n",
    "   <p>\n",
    "Time complexity: O(n^2)\n",
    "    <br>\n",
    "Space complexity: O(n^2)\n"
   ]
  },
  {
   "cell_type": "code",
   "execution_count": null,
   "metadata": {},
   "outputs": [],
   "source": [
    "class Solution(object):\n",
    "    def longestPalindromeSubseq(self, s):\n",
    "        k = [[0]*(len(s)+1) for i in range(len(s)+1)]\n",
    "        \n",
    "        for i in range(len(s)):\n",
    "            for j in range(len(s)):\n",
    "                if s[i] == s[len(s)-1-j]:\n",
    "                    k[i+1][j+1] = k[i][j]+1 #Note the indexes are forwarded due to the sentinel\n",
    "                else:\n",
    "                    k[i+1][j+1] = max(k[i][j+1],k[i+1][j])\n",
    "        return k[-1][-1]\n",
    "  \n",
    "Solution().longestPalindromeSubseq(\"cbbd\")\n",
    "\n"
   ]
  },
  {
   "cell_type": "markdown",
   "metadata": {},
   "source": [
    "\n",
    "#### Result: 2744ms (19.89%)"
   ]
  }
 ],
 "metadata": {
  "kernelspec": {
   "display_name": "Python 2",
   "language": "python",
   "name": "python2"
  },
  "language_info": {
   "codemirror_mode": {
    "name": "ipython",
    "version": 2
   },
   "file_extension": ".py",
   "mimetype": "text/x-python",
   "name": "python",
   "nbconvert_exporter": "python",
   "pygments_lexer": "ipython2",
   "version": "2.7.16"
  }
 },
 "nbformat": 4,
 "nbformat_minor": 2
}
