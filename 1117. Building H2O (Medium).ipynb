{
 "cells": [
  {
   "cell_type": "markdown",
   "metadata": {},
   "source": [
    "# 1117. Building H2O (Medium)\n"
   ]
  },
  {
   "cell_type": "markdown",
   "metadata": {},
   "source": [
    "<div><p>There are two kinds of threads, <code>oxygen</code> and <code>hydrogen</code>. Your goal is to group these threads to form water molecules.&nbsp;There is a barrier where each thread has to&nbsp;wait until a complete molecule can be formed. Hydrogen and oxygen threads will be given <code>releaseHydrogen</code>&nbsp;and <code>releaseOxygen</code>&nbsp;methods respectively, which will allow them to pass the barrier. These threads should pass the barrier in groups of three, and they must be able to immediately bond with each other to form a water molecule.&nbsp;You must guarantee that all the threads from one molecule bond <em>before</em> any other threads from the next molecule do.</p>\n",
    "\n",
    "<p>In other words:</p>\n",
    "\n",
    "<ul>\n",
    "\t<li>If an oxygen thread arrives at the barrier when no hydrogen threads are present, it has to wait for two hydrogen threads.</li>\n",
    "\t<li>If a hydrogen thread arrives at the barrier when no other threads are present, it has to wait for an oxygen thread and another hydrogen thread.</li>\n",
    "</ul>\n",
    "\n",
    "<p>We don’t have to worry about matching the threads up explicitly; that is, the threads do not necessarily know which other threads they are paired up with. The key is just that threads pass the barrier in complete sets; thus, if we examine the sequence of threads that bond and divide them into groups of three, each group should contain one oxygen and two hydrogen threads.</p>\n",
    "\n",
    "<p>Write synchronization code for oxygen and hydrogen molecules that enforces these constraints.</p>\n",
    "\n",
    "<div>\n",
    "<p>&nbsp;</p>\n",
    "</div>\n",
    "\n",
    "<div>\n",
    "<p><strong>Example 1:</strong></p>\n",
    "\n",
    "<pre><strong>Input: </strong><span id=\"example-input-1-1\">\"HOH\"</span>\n",
    "<strong>Output: </strong><span id=\"example-output-1\">\"HHO\"\n",
    "<strong>Explanation:</strong> \"HOH\" and \"OHH\" are also valid answers.</span>\n",
    "</pre>\n",
    "\n",
    "<div>\n",
    "<p><strong>Example 2:</strong></p>\n",
    "\n",
    "<pre><strong>Input: </strong><span id=\"example-input-1-1\">\"OOHHHH\"</span>\n",
    "<strong>Output: </strong><span id=\"example-output-1\">\"HHOHHO\"\n",
    "<strong>Explanation:</strong> \"HOHHHO\", \"OHHHHO\", \"HHOHOH\", \"HOHHOH\", \"OHHHOH\", \"HHOOHH\", \"HOHOHH\" and \"OHHOHH\" are also valid answers.</span>\n",
    "</pre>\n",
    "</div>\n",
    "</div>\n",
    "\n",
    "<p>&nbsp;</p>\n",
    "<p><strong>Constraints:</strong></p>\n",
    "\n",
    "<ul>\n",
    "\t<li>Total length of input string will be 3<em>n</em>, where 1 ≤&nbsp;<em>n</em>&nbsp;≤ 20.</li>\n",
    "\t<li>Total number of <code>H</code> will be 2<em>n</em>&nbsp;in the input string.</li>\n",
    "\t<li>Total number of <code>O</code> will&nbsp;be <em>n</em>&nbsp;in the input&nbsp;string.</li>\n",
    "</ul>\n",
    "</div>"
   ]
  },
  {
   "cell_type": "markdown",
   "metadata": {},
   "source": [
    "## Option 1\n",
    " <p>\n",
    "Time complexity: O(n)\n",
    "<br>\n",
    "Space complexity: O(n)"
   ]
  },
  {
   "cell_type": "code",
   "execution_count": null,
   "metadata": {},
   "outputs": [],
   "source": [
    "import Queue as queue\n",
    "\n",
    "class H2O(object):\n",
    "    def __init__(self):\n",
    "        self.h = queue.Queue()\n",
    "        self.o = queue.Queue()\n",
    "        self.c = {'h':0,'o':0}\n",
    "\n",
    "    def hydrogen(self, releaseHydrogen):\n",
    "        \"\"\"\n",
    "        :type releaseHydrogen: method\n",
    "        :rtype: void\n",
    "        \"\"\"\n",
    "        # releaseHydrogen() outputs \"H\". Do not change or remove this line.\n",
    "        self.h.put(releaseHydrogen)\n",
    "        self.c['h'] += 1\n",
    "        self.release()\n",
    "    \n",
    "    def release(self):\n",
    "        if self.c['o'] > 0  and self.c['h'] > 1:\n",
    "            self.h.get()()\n",
    "            self.h.get()()\n",
    "            self.o.get()()\n",
    "            self.c['o'] -= 1\n",
    "            self.c['h'] -= 2\n",
    "        \n",
    "\n",
    "    def oxygen(self, releaseOxygen):\n",
    "        \"\"\"\n",
    "        :type releaseOxygen: method\n",
    "        :rtype: void\n",
    "        \"\"\"\n",
    "        # releaseOxygen() outputs \"O\". Do not change or remove this line.\n",
    "        self.o.put(releaseOxygen)\n",
    "        self.c['o'] += 1\n",
    "        self.release()\n"
   ]
  },
  {
   "cell_type": "markdown",
   "metadata": {},
   "source": [
    "#### Result: 32ms (30.23%)\n"
   ]
  },
  {
   "cell_type": "markdown",
   "metadata": {},
   "source": [
    "## Option 2\n",
    "<p>\n",
    "    Deque\n",
    " <p>\n",
    "Time complexity: O(n)\n",
    "<br>\n",
    "Space complexity: O(n)"
   ]
  },
  {
   "cell_type": "code",
   "execution_count": null,
   "metadata": {},
   "outputs": [],
   "source": [
    "import Queue as queue\n",
    "\n",
    "class H2O(object):\n",
    "    def __init__(self):\n",
    "        self.h, self.o = collections.deque(), collections.deque()\n",
    "    def hydrogen(self, releaseHydrogen):\n",
    "        \"\"\"\n",
    "        :type releaseHydrogen: method\n",
    "        :rtype: void\n",
    "        \"\"\"\n",
    "        # releaseHydrogen() outputs \"H\". Do not change or remove this line.\n",
    "        self.h.append(releaseHydrogen)\n",
    "        self.release()\n",
    "    \n",
    "    def release(self):\n",
    "        if len(self.o) > 0  and len(self.h) > 1:\n",
    "            self.h.pop()()\n",
    "            self.h.pop()()\n",
    "            self.o.pop()()\n",
    "\n",
    "    def oxygen(self, releaseOxygen):\n",
    "        \"\"\"\n",
    "        :type releaseOxygen: method\n",
    "        :rtype: void\n",
    "        \"\"\"\n",
    "        # releaseOxygen() outputs \"O\". Do not change or remove this line.\n",
    "        self.o.append(releaseOxygen)\n",
    "        self.release()"
   ]
  },
  {
   "cell_type": "markdown",
   "metadata": {},
   "source": [
    "#### Result: 28ms (51.16%)\n"
   ]
  }
 ],
 "metadata": {
  "kernelspec": {
   "display_name": "Python 2",
   "language": "python",
   "name": "python2"
  },
  "language_info": {
   "codemirror_mode": {
    "name": "ipython",
    "version": 2
   },
   "file_extension": ".py",
   "mimetype": "text/x-python",
   "name": "python",
   "nbconvert_exporter": "python",
   "pygments_lexer": "ipython2",
   "version": "2.7.16"
  }
 },
 "nbformat": 4,
 "nbformat_minor": 2
}
