{
 "cells": [
  {
   "cell_type": "markdown",
   "metadata": {},
   "source": [
    "# 75. Sort Colors (Medium)"
   ]
  },
  {
   "cell_type": "markdown",
   "metadata": {},
   "source": [
    "<div><p>Given an array with <em>n</em> objects colored red, white or blue, sort them <strong><a href=\"https://en.wikipedia.org/wiki/In-place_algorithm\" target=\"_blank\">in-place</a>&nbsp;</strong>so that objects of the same color are adjacent, with the colors in the order red, white and blue.</p>\n",
    "\n",
    "<p>Here, we will use the integers 0, 1, and 2 to represent the color red, white, and blue respectively.</p>\n",
    "\n",
    "<p><strong>Note:</strong>&nbsp;You are not suppose to use the library's sort function for this problem.</p>\n",
    "\n",
    "<p><strong>Example:</strong></p>\n",
    "\n",
    "<pre><strong>Input:</strong> [2,0,2,1,1,0]\n",
    "<strong>Output:</strong> [0,0,1,1,2,2]</pre>\n",
    "\n",
    "<p><strong>Follow up:</strong></p>\n",
    "\n",
    "<ul>\n",
    "\t<li>A rather straight forward solution is a two-pass algorithm using counting sort.<br>\n",
    "\tFirst, iterate the array counting number of 0's, 1's, and 2's, then overwrite array with total number of 0's, then 1's and followed by 2's.</li>\n",
    "\t<li>Could you come up with a&nbsp;one-pass algorithm using only constant space?</li>\n",
    "</ul>\n",
    "</div>"
   ]
  },
  {
   "cell_type": "markdown",
   "metadata": {},
   "source": [
    "## Option 1\n",
    "\n",
    "Time complexity = O(n)\n",
    "<br>\n",
    "Space complexity = O(1)"
   ]
  },
  {
   "cell_type": "code",
   "execution_count": 13,
   "metadata": {
    "scrolled": false
   },
   "outputs": [
    {
     "name": "stdout",
     "output_type": "stream",
     "text": [
      "[0, 0, 0, 0, 1, 1, 1, 2, 2, 2, 2]\n"
     ]
    }
   ],
   "source": [
    "import collections\n",
    "class Solution(object):\n",
    "    def sortColors(self, nums):\n",
    "        counter = [0]*3\n",
    "        for i in nums: counter[i] += 1\n",
    "        i,j = 0,0\n",
    "        while i < len(counter):\n",
    "            while counter[i] > 0:\n",
    "                nums[j] = i\n",
    "                j += 1\n",
    "                counter[i] -= 1\n",
    "            i += 1\n",
    "        print(nums)\n",
    "Solution().sortColors([2,0,2,1,1,0,2,1,2,0,0])"
   ]
  },
  {
   "cell_type": "markdown",
   "metadata": {},
   "source": [
    "#### Result: 20ms (68.53%)"
   ]
  },
  {
   "cell_type": "markdown",
   "metadata": {},
   "source": [
    "## Option 1\n",
    "<p>\n",
    "Dutch national flag problem\n",
    "<li>Imaging 2 posts, p0 and p2 (facing each other), these posts are stocking 0s and 2s respectively\n",
    "<li>We have a runner (curr) who runs from p0 to p2, collecting items, if the found item is a 0 he swaps it with p0 (allowing p0 to move forward) if its 2 he swaps it with p2 (allowing p2 can move forward)\n",
    "<p>\n",
    "Time complexity = O(n)\n",
    "<br>\n",
    "Space complexity = O(1)"
   ]
  },
  {
   "cell_type": "code",
   "execution_count": 12,
   "metadata": {
    "scrolled": true
   },
   "outputs": [
    {
     "name": "stdout",
     "output_type": "stream",
     "text": [
      "[0, 0, 0, 0, 1, 1, 1, 2, 2, 2, 2]\n"
     ]
    }
   ],
   "source": [
    "import collections\n",
    "class Solution(object):\n",
    "    def sortColors(self, nums):\n",
    "        p0,curr,p2 = 0,0,len(nums)-1\n",
    "        while curr <= p2:\n",
    "            if nums[curr] == 0:\n",
    "                #Swap backward\n",
    "                nums[p0],nums[curr] = nums[curr],nums[p0]\n",
    "                p0 += 1\n",
    "                #As curr has already see everything behind, it can move forward\n",
    "                curr += 1\n",
    "            elif nums[curr] == 2:\n",
    "                #Swap forward\n",
    "                nums[p2],nums[curr] = nums[curr],nums[p2]\n",
    "                p2 -= 1\n",
    "                #Curr cannot move forward here before checking the swapped item\n",
    "            else:\n",
    "                curr += 1\n",
    "        print(nums)\n",
    "\n",
    "Solution().sortColors([2,0,2,1,1,0,2,1,2,0,0])"
   ]
  },
  {
   "cell_type": "markdown",
   "metadata": {},
   "source": [
    "#### Result: 28ms (17.44%)"
   ]
  }
 ],
 "metadata": {
  "kernelspec": {
   "display_name": "Python 2",
   "language": "python",
   "name": "python2"
  },
  "language_info": {
   "codemirror_mode": {
    "name": "ipython",
    "version": 2
   },
   "file_extension": ".py",
   "mimetype": "text/x-python",
   "name": "python",
   "nbconvert_exporter": "python",
   "pygments_lexer": "ipython2",
   "version": "2.7.16"
  }
 },
 "nbformat": 4,
 "nbformat_minor": 2
}
