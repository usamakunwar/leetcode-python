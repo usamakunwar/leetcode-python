{
 "cells": [
  {
   "cell_type": "markdown",
   "metadata": {},
   "source": [
    "# 531. Lonely Pixel I (Medium)"
   ]
  },
  {
   "cell_type": "markdown",
   "metadata": {},
   "source": [
    "<div><p>Given a picture consisting of black and white pixels, find the number of <b>black</b> lonely pixels.</p>\n",
    "\n",
    "<p>The picture is represented by a 2D char array consisting of 'B' and 'W', which means black and white pixels respectively. </p>\n",
    "\n",
    "<p>A black lonely pixel is character 'B' that located at a specific position where the same row and same column don't have any other black pixels.</p>\n",
    "\n",
    "<p><b>Example:</b><br>\n",
    "</p><pre><b>Input:</b> \n",
    "[['W', 'W', 'B'],\n",
    " ['W', 'B', 'W'],\n",
    " ['B', 'W', 'W']]\n",
    "\n",
    "<b>Output:</b> 3\n",
    "<b>Explanation:</b> All the three 'B's are black lonely pixels.\n",
    "</pre>\n",
    "<p></p>\n",
    "\n",
    "<p><b>Note:</b><br>\n",
    "</p><ol>\n",
    "<li>The range of width and height of the input 2D array is [1,500].</li>\n",
    "</ol>\n",
    "<p></p></div>"
   ]
  },
  {
   "cell_type": "markdown",
   "metadata": {},
   "source": [
    "## Option 1\n",
    "<p>\n",
    "Time complexity: O(mn)\n",
    "<br>\n",
    "Space complexity: O(mn)"
   ]
  },
  {
   "cell_type": "code",
   "execution_count": null,
   "metadata": {
    "scrolled": true
   },
   "outputs": [],
   "source": [
    "import collections\n",
    "class Solution(object):\n",
    "    def findLonelyPixel(self, p):\n",
    "        li,lj = len(p),len(p[0])\n",
    "        r = collections.defaultdict(int)\n",
    "        c = collections.defaultdict(int)\n",
    "        for i in range(li):\n",
    "            for j in range(lj):\n",
    "                if p[i][j] == 'B':\n",
    "                    r[i] += 1\n",
    "                    c[j] += 1\n",
    "        return sum((p[i][j] == 'B' and r[i] == 1 and c[j] == 1) for i in range(li) for j in range(lj))\n",
    "\n",
    "        \n",
    "Solution().findLonelyPixel([[\"W\",\"W\",\"B\"],\n",
    "                            [\"W\",\"B\",\"W\"],\n",
    "                            [\"B\",\"W\",\"W\"]])\n"
   ]
  },
  {
   "cell_type": "markdown",
   "metadata": {},
   "source": [
    "#### Result: 472ms 23.21%)"
   ]
  }
 ],
 "metadata": {
  "kernelspec": {
   "display_name": "Python 2",
   "language": "python",
   "name": "python2"
  },
  "language_info": {
   "codemirror_mode": {
    "name": "ipython",
    "version": 2
   },
   "file_extension": ".py",
   "mimetype": "text/x-python",
   "name": "python",
   "nbconvert_exporter": "python",
   "pygments_lexer": "ipython2",
   "version": "2.7.16"
  }
 },
 "nbformat": 4,
 "nbformat_minor": 2
}
