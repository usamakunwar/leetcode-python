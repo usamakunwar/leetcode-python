{
 "cells": [
  {
   "cell_type": "markdown",
   "metadata": {},
   "source": [
    "# 209. Minimum Size Subarray Sum (Medium)"
   ]
  },
  {
   "cell_type": "markdown",
   "metadata": {},
   "source": [
    "<div><p>Given an array of <strong>n</strong> positive integers and a positive integer <strong>s</strong>, find the minimal length of a <b>contiguous</b> subarray of which the sum ≥ <strong>s</strong>. If there isn't one, return 0 instead.</p>\n",
    "\n",
    "<p><strong>Example:&nbsp;</strong></p>\n",
    "\n",
    "<pre><strong>Input:</strong> <code>s = 7, nums = [2,3,1,2,4,3]</code>\n",
    "<strong>Output:</strong> 2\n",
    "<strong>Explanation: </strong>the subarray <code>[4,3]</code> has the minimal length under the problem constraint.</pre>\n",
    "\n",
    "<div class=\"spoilers\"><b>Follow up:</b></div>\n",
    "\n",
    "<div class=\"spoilers\">If you have figured out the <i>O</i>(<i>n</i>) solution, try coding another solution of which the time complexity is <i>O</i>(<i>n</i> log <i>n</i>).&nbsp;</div>\n",
    "</div>"
   ]
  },
  {
   "cell_type": "markdown",
   "metadata": {},
   "source": [
    "## Option 1\n",
    "\n",
    "Sliding window\n",
    "<p>\n",
    "Time complexity = O(n)\n",
    "<br>\n",
    "Space complexity = O(1)"
   ]
  },
  {
   "cell_type": "code",
   "execution_count": 11,
   "metadata": {
    "scrolled": true
   },
   "outputs": [
    {
     "data": {
      "text/plain": [
       "1"
      ]
     },
     "execution_count": 11,
     "metadata": {},
     "output_type": "execute_result"
    }
   ],
   "source": [
    "class Solution(object):\n",
    "    def minSubArrayLen(self, s, nums):\n",
    "        p1, min_len = 0, float('inf')\n",
    "        for i in range(len(nums)):\n",
    "            s -= nums[i]\n",
    "            while s <= 0:\n",
    "                min_len = min(min_len, i-p1+1)\n",
    "                s += nums[p1]\n",
    "                p1 += 1\n",
    "        return 0 if min_len == float('inf') else min_len\n",
    "\n",
    "Solution().minSubArrayLen(34,[2,3,1,2,4,3,7,3,4,5,3,3,4,5,6,7,5,6,7,4])  "
   ]
  },
  {
   "cell_type": "markdown",
   "metadata": {},
   "source": [
    "#### Result: 56ms (84.62%)"
   ]
  }
 ],
 "metadata": {
  "kernelspec": {
   "display_name": "Python 3",
   "language": "python",
   "name": "python3"
  },
  "language_info": {
   "codemirror_mode": {
    "name": "ipython",
    "version": 3
   },
   "file_extension": ".py",
   "mimetype": "text/x-python",
   "name": "python",
   "nbconvert_exporter": "python",
   "pygments_lexer": "ipython3",
   "version": "3.7.4"
  }
 },
 "nbformat": 4,
 "nbformat_minor": 2
}
