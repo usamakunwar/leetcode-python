{
 "cells": [
  {
   "cell_type": "markdown",
   "metadata": {},
   "source": [
    "# 875. Koko Eating Bananas (Medium)"
   ]
  },
  {
   "cell_type": "markdown",
   "metadata": {},
   "source": [
    "<div><p>Koko loves to eat bananas.&nbsp; There are <code>N</code>&nbsp;piles of bananas, the <code>i</code>-th&nbsp;pile has <code>piles[i]</code> bananas.&nbsp; The guards have gone and will come back in <code>H</code> hours.</p>\n",
    "\n",
    "<p>Koko can decide her bananas-per-hour eating speed of <code>K</code>.&nbsp; Each hour, she chooses some pile of bananas, and eats K bananas from that pile.&nbsp; If the pile has less than <code>K</code> bananas, she eats all of them instead, and won't eat any more bananas during this hour.</p>\n",
    "\n",
    "<p>Koko likes to eat slowly, but still wants to finish eating all the bananas before the guards come back.</p>\n",
    "\n",
    "<p>Return the minimum integer <code>K</code> such that she can eat all the bananas within <code>H</code> hours.</p>\n",
    "\n",
    "<p>&nbsp;</p>\n",
    "\n",
    "<ul>\n",
    "</ul>\n",
    "\n",
    "<div>\n",
    "<p><strong>Example 1:</strong></p>\n",
    "\n",
    "<pre><strong>Input: </strong>piles = <span id=\"example-input-1-1\">[3,6,7,11]</span>, H = <span id=\"example-input-1-2\">8</span>\n",
    "<strong>Output: </strong><span id=\"example-output-1\">4</span>\n",
    "</pre>\n",
    "\n",
    "<div>\n",
    "<p><strong>Example 2:</strong></p>\n",
    "\n",
    "<pre><strong>Input: </strong>piles = <span id=\"example-input-2-1\">[30,11,23,4,20]</span>, H = <span id=\"example-input-2-2\">5</span>\n",
    "<strong>Output: </strong><span id=\"example-output-2\">30</span>\n",
    "</pre>\n",
    "\n",
    "<div>\n",
    "<p><strong>Example 3:</strong></p>\n",
    "\n",
    "<pre><strong>Input: </strong>piles = <span id=\"example-input-3-1\">[30,11,23,4,20]</span>, H = <span id=\"example-input-3-2\">6</span>\n",
    "<strong>Output: </strong><span id=\"example-output-3\">23</span>\n",
    "</pre>\n",
    "\n",
    "<p>&nbsp;</p>\n",
    "\n",
    "<p><strong>Note:</strong></p>\n",
    "\n",
    "<ul>\n",
    "\t<li><code>1 &lt;= piles.length &lt;= 10^4</code></li>\n",
    "\t<li><code>piles.length &lt;= H &lt;= 10^9</code></li>\n",
    "\t<li><code>1 &lt;= piles[i] &lt;= 10^9</code></li>\n",
    "</ul>\n",
    "</div>\n",
    "</div>\n",
    "</div>\n",
    "</div>"
   ]
  },
  {
   "cell_type": "markdown",
   "metadata": {},
   "source": [
    "## Option 1\n",
    "<p>\n",
    "    Binary Search, from the minimum bananas per hour to the max\n",
    "  <p>\n",
    "    <p>\n",
    "Time complexity: O(nlogm) n = number of piles, m = max - min (speed per hour)\n",
    "<br>\n",
    "Space complexity: O(1)"
   ]
  },
  {
   "cell_type": "code",
   "execution_count": null,
   "metadata": {
    "scrolled": true
   },
   "outputs": [],
   "source": [
    "class Solution(object):\n",
    "    def minEatingSpeed(self, piles, H):\n",
    "        #l = minimum per hour r = max per hour\n",
    "        l,r = math.ceil(float(sum(piles))/H), max(piles)\n",
    "        while l < r:\n",
    "            mid = (l+r)//2\n",
    "            t = sum(math.ceil(float(p)/mid) for p in piles)\n",
    "            if t > H:\n",
    "                l = mid + 1\n",
    "            else:\n",
    "                r = mid\n",
    "        return int(l)\n",
    "        \n",
    "Solution().minEatingSpeed([30,11,23,4,20],6)\n"
   ]
  },
  {
   "cell_type": "markdown",
   "metadata": {},
   "source": [
    "#### Result: 676ms (19.78%)"
   ]
  }
 ],
 "metadata": {
  "kernelspec": {
   "display_name": "Python 2",
   "language": "python",
   "name": "python2"
  },
  "language_info": {
   "codemirror_mode": {
    "name": "ipython",
    "version": 2
   },
   "file_extension": ".py",
   "mimetype": "text/x-python",
   "name": "python",
   "nbconvert_exporter": "python",
   "pygments_lexer": "ipython2",
   "version": "2.7.16"
  }
 },
 "nbformat": 4,
 "nbformat_minor": 2
}
