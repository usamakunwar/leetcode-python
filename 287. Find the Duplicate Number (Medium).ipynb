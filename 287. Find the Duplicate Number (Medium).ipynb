{
 "cells": [
  {
   "cell_type": "markdown",
   "metadata": {},
   "source": [
    "# 287. Find the Duplicate Number (Medium)\n"
   ]
  },
  {
   "cell_type": "markdown",
   "metadata": {},
   "source": [
    "<div><p>Given an array <i>nums</i> containing <i>n</i> + 1 integers where each integer is between 1 and <i>n</i> (inclusive), prove that at least one duplicate number must exist. Assume that there is only one duplicate number, find the duplicate one.</p>\n",
    "\n",
    "<p><b>Example 1:</b></p>\n",
    "\n",
    "<pre><b>Input:</b> <code>[1,3,4,2,2]</code>\n",
    "<b>Output:</b> 2\n",
    "</pre>\n",
    "\n",
    "<p><b>Example 2:</b></p>\n",
    "\n",
    "<pre><b>Input:</b> [3,1,3,4,2]\n",
    "<b>Output:</b> 3</pre>\n",
    "\n",
    "<p><b>Note:</b></p>\n",
    "\n",
    "<ol>\n",
    "\t<li>You <b>must not</b> modify the array (assume the array is read only).</li>\n",
    "\t<li>You must use only constant, <i>O</i>(1) extra space.</li>\n",
    "\t<li>Your runtime complexity should be less than <em>O</em>(<em>n</em><sup>2</sup>).</li>\n",
    "\t<li>There is only one duplicate number in the array, but it could be repeated more than once.</li>\n",
    "</ol>\n",
    "</div>"
   ]
  },
  {
   "cell_type": "markdown",
   "metadata": {},
   "source": [
    "## Option 1\n",
    "\n",
    "Easy way would be to sort it then iterate over \n",
    "<p>\n",
    "Time complexity = O(nlogn)\n",
    "<br>\n",
    "Space complexity = O(1)"
   ]
  },
  {
   "cell_type": "code",
   "execution_count": 5,
   "metadata": {
    "scrolled": true
   },
   "outputs": [
    {
     "data": {
      "text/plain": [
       "3"
      ]
     },
     "execution_count": 5,
     "metadata": {},
     "output_type": "execute_result"
    }
   ],
   "source": [
    "class Solution:\n",
    "    def findDuplicate(self, nums: [int]) -> int:\n",
    "        nums.sort()\n",
    "        for i in range(len(nums)-1):\n",
    "            if nums[i] == nums[i+1]: return nums[i]\n",
    "Solution().findDuplicate([3,1,3,4])"
   ]
  },
  {
   "cell_type": "markdown",
   "metadata": {},
   "source": [
    "#### Result:  140ms (5.34%)"
   ]
  },
  {
   "cell_type": "markdown",
   "metadata": {},
   "source": [
    "## Option 2\n",
    "\n",
    "The trick is:\n",
    "<li>Refer to the nums indexes as values (as values can only be netween 1...n)\n",
    "<li>If there is a duplicate in the array, there must be a cycle in the value-index references\n",
    "<li>We need to identify and locate this cycle, that is where the duplicate value lies\n",
    "<li>Use a tortoise / hare (slow/fast) approach to identify the cycle\n",
    "<li>Also the cycle cannot be at index 0, as 0 is not a possible value\n",
    "<p>\n",
    "<p>\n",
    "Time complexity = O(n)\n",
    "<br>\n",
    "Space complexity = O(1)"
   ]
  },
  {
   "cell_type": "code",
   "execution_count": 31,
   "metadata": {},
   "outputs": [
    {
     "data": {
      "text/plain": [
       "9"
      ]
     },
     "execution_count": 31,
     "metadata": {},
     "output_type": "execute_result"
    }
   ],
   "source": [
    "class Solution:\n",
    "    def findDuplicate(self, nums: [int]) -> int:\n",
    "        tortoise, hare = nums[0], nums[nums[0]]\n",
    "        while tortoise != hare:\n",
    "            tortoise = nums[tortoise]\n",
    "            #the hare is one step ahead\n",
    "            hare = nums[nums[hare]]\n",
    "        \n",
    "        #At this point we know the hare found the cycle\n",
    "        #However the tortoise could either be where the cycle starts OR before the cycle starts\n",
    "        #So we need to run the tortoise further and reset the hare\n",
    "        hare = 0\n",
    "        while tortoise != hare:\n",
    "            tortoise = nums[tortoise]\n",
    "            hare = nums[hare]\n",
    "        return tortoise\n",
    "        \n",
    "Solution().findDuplicate([2,5,9,6,9,3,8,9,7,1])"
   ]
  },
  {
   "cell_type": "markdown",
   "metadata": {},
   "source": [
    "#### Result:  88ms (14.62)"
   ]
  }
 ],
 "metadata": {
  "kernelspec": {
   "display_name": "Python 3",
   "language": "python",
   "name": "python3"
  },
  "language_info": {
   "codemirror_mode": {
    "name": "ipython",
    "version": 3
   },
   "file_extension": ".py",
   "mimetype": "text/x-python",
   "name": "python",
   "nbconvert_exporter": "python",
   "pygments_lexer": "ipython3",
   "version": "3.7.4"
  }
 },
 "nbformat": 4,
 "nbformat_minor": 2
}
