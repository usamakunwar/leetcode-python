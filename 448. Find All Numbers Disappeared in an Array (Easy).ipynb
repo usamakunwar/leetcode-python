{
 "cells": [
  {
   "cell_type": "markdown",
   "metadata": {},
   "source": [
    "# 448. Find All Numbers Disappeared in an Array (Easy)"
   ]
  },
  {
   "cell_type": "markdown",
   "metadata": {},
   "source": [
    "<div><p>Given an array of integers where 1 ≤ a[i] ≤ <i>n</i> (<i>n</i> = size of array), some elements appear twice and others appear once.</p>\n",
    "\n",
    "<p>Find all the elements of [1, <i>n</i>] inclusive that do not appear in this array.</p>\n",
    "\n",
    "<p>Could you do it without extra space and in O(<i>n</i>) runtime? You may assume the returned list does not count as extra space.</p>\n",
    "\n",
    "<p><b>Example:</b>\n",
    "</p><pre><b>Input:</b>\n",
    "[4,3,2,7,8,2,3,1]\n",
    "\n",
    "<b>Output:</b>\n",
    "[5,6]\n",
    "</pre>\n",
    "<p></p></div>"
   ]
  },
  {
   "cell_type": "markdown",
   "metadata": {},
   "source": [
    "## Option 1\n",
    "<p>\n",
    "Time complexity: O(n)\n",
    "<br>\n",
    "Space complexity: O(1)"
   ]
  },
  {
   "cell_type": "code",
   "execution_count": null,
   "metadata": {
    "scrolled": false
   },
   "outputs": [],
   "source": [
    "class Solution(object):\n",
    "    def findDisappearedNumbers(self, nums):\n",
    "        #Set all visited indexes to negative, if index was not visited that is missing item\n",
    "        for i,v in enumerate(nums):\n",
    "            idx = abs(v)-1\n",
    "            if nums[idx] > 0: nums[idx] *= -1\n",
    "        \n",
    "        return [i+1 for i,v in enumerate(nums) if v > 0]\n",
    "        \n",
    "        \n",
    "Solution().findDisappearedNumbers([4,3,2,7,8,2,3,1])"
   ]
  },
  {
   "cell_type": "markdown",
   "metadata": {},
   "source": [
    "#### Result: 64ms (53.01%)"
   ]
  }
 ],
 "metadata": {
  "kernelspec": {
   "display_name": "Python 2",
   "language": "python",
   "name": "python2"
  },
  "language_info": {
   "codemirror_mode": {
    "name": "ipython",
    "version": 2
   },
   "file_extension": ".py",
   "mimetype": "text/x-python",
   "name": "python",
   "nbconvert_exporter": "python",
   "pygments_lexer": "ipython2",
   "version": "2.7.16"
  }
 },
 "nbformat": 4,
 "nbformat_minor": 2
}
