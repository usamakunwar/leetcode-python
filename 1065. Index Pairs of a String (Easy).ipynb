{
 "cells": [
  {
   "cell_type": "markdown",
   "metadata": {},
   "source": [
    "# 1065. Index Pairs of a String (Easy)\n"
   ]
  },
  {
   "cell_type": "markdown",
   "metadata": {},
   "source": [
    "<div><p>Given a <code>text</code>&nbsp;string and <code>words</code> (a list of strings), return all index pairs <code>[i, j]</code> so that the substring <code>text[i]...text[j]</code>&nbsp;is in the list of <code>words</code>.</p>\n",
    "\n",
    "<p>&nbsp;</p>\n",
    "\n",
    "<p><strong>Example 1:</strong></p>\n",
    "\n",
    "<pre><strong>Input: </strong>text = <span id=\"example-input-1-1\">\"thestoryofleetcodeandme\"</span>, words = <span id=\"example-input-1-2\">[\"story\",\"fleet\",\"leetcode\"]</span>\n",
    "<strong>Output: </strong><span id=\"example-output-1\">[[3,7],[9,13],[10,17]]</span>\n",
    "</pre>\n",
    "\n",
    "<p><strong>Example 2:</strong></p>\n",
    "\n",
    "<pre><strong>Input: </strong>text = <span id=\"example-input-2-1\">\"ababa\"</span>, words = <span id=\"example-input-2-2\">[\"aba\",\"ab\"]</span>\n",
    "<strong>Output: </strong><span id=\"example-output-2\">[[0,1],[0,2],[2,3],[2,4]]</span>\n",
    "<strong>Explanation: </strong>\n",
    "Notice that matches can overlap, see \"aba\" is found in [0,2] and [2,4].\n",
    "</pre>\n",
    "\n",
    "<p>&nbsp;</p>\n",
    "\n",
    "<p><strong>Note:</strong></p>\n",
    "\n",
    "<ol>\n",
    "\t<li>All strings contains only lowercase English letters.</li>\n",
    "\t<li>It's guaranteed that all strings in <code>words</code> are different.</li>\n",
    "\t<li><code>1 &lt;= text.length &lt;= 100</code></li>\n",
    "\t<li><code>1 &lt;= words.length &lt;= 20</code></li>\n",
    "\t<li><code>1 &lt;= words[i].length &lt;= 50</code></li>\n",
    "\t<li>Return the pairs <code>[i,j]</code> in sorted order (i.e. sort them by their first coordinate in case of ties sort them by their second coordinate).</li>\n",
    "</ol></div>"
   ]
  },
  {
   "cell_type": "markdown",
   "metadata": {},
   "source": [
    "## Option 1\n",
    "<p>\n",
    "  <p>Brute force\n",
    "      <p>\n",
    "Time complexity: O(n^2)\n",
    "<br>\n",
    "Space complexity: O(w) words"
   ]
  },
  {
   "cell_type": "code",
   "execution_count": null,
   "metadata": {
    "scrolled": false
   },
   "outputs": [],
   "source": [
    "class Solution(object):\n",
    "    def indexPairs(self, text, words):\n",
    "        words = set(words)\n",
    "        res = []\n",
    "        for i in range(len(text)):\n",
    "            for j in range(i,len(text)):\n",
    "                if text[i:j+1] in words:\n",
    "                    res.append([i,j])\n",
    "        return res  \n",
    "                        \n",
    "Solution().indexPairs('thestoryofleetcodeandme', [\"story\",\"fleet\",\"leetcode\"])"
   ]
  },
  {
   "cell_type": "markdown",
   "metadata": {},
   "source": [
    "#### Result: 32ms (21.05%)"
   ]
  },
  {
   "cell_type": "markdown",
   "metadata": {},
   "source": [
    "## Option 2\n",
    "<p>\n",
    "  <p>As there are less words then text lenght, we could look for each word by sliding\n",
    "      <p>\n",
    "Time complexity: O(nw) length of text * length of words \n",
    "<br>\n",
    "Space complexity: O(w) words"
   ]
  },
  {
   "cell_type": "code",
   "execution_count": null,
   "metadata": {},
   "outputs": [],
   "source": [
    "class Solution(object):\n",
    "    def indexPairs(self, text, words):\n",
    "        res = []\n",
    "        for w in words:\n",
    "            for i in range(len(text)-len(w)+1):\n",
    "                if text[i:i+len(w)] == w:\n",
    "                    res.append([i,i+len(w)-1])\n",
    "        return sorted(res)  \n",
    "                        \n",
    "Solution().indexPairs('ababa', [\"aba\",\"ab\"])"
   ]
  },
  {
   "cell_type": "markdown",
   "metadata": {},
   "source": [
    "#### Result: 24ms (84.21%)\n"
   ]
  }
 ],
 "metadata": {
  "kernelspec": {
   "display_name": "Python 2",
   "language": "python",
   "name": "python2"
  },
  "language_info": {
   "codemirror_mode": {
    "name": "ipython",
    "version": 2
   },
   "file_extension": ".py",
   "mimetype": "text/x-python",
   "name": "python",
   "nbconvert_exporter": "python",
   "pygments_lexer": "ipython2",
   "version": "2.7.16"
  }
 },
 "nbformat": 4,
 "nbformat_minor": 2
}
