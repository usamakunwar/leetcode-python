{
 "cells": [
  {
   "cell_type": "markdown",
   "metadata": {},
   "source": [
    "# 916. Word Subsets (Medium)"
   ]
  },
  {
   "cell_type": "markdown",
   "metadata": {},
   "source": [
    "<div><p>We are given two arrays <code>A</code> and <code>B</code> of words.&nbsp; Each word is a string of lowercase letters.</p>\n",
    "\n",
    "<p>Now, say that&nbsp;word <code>b</code> is a subset of word <code>a</code><strong>&nbsp;</strong>if every letter in <code>b</code> occurs in <code>a</code>, <strong>including multiplicity</strong>.&nbsp; For example, <code>\"wrr\"</code> is a subset of <code>\"warrior\"</code>, but is not a subset of <code>\"world\"</code>.</p>\n",
    "\n",
    "<p>Now say a word <code>a</code> from <code>A</code> is <em>universal</em> if for every <code>b</code> in <code>B</code>, <code>b</code>&nbsp;is a subset of <code>a</code>.&nbsp;</p>\n",
    "\n",
    "<p>Return a list of all universal words in <code>A</code>.&nbsp; You can return the words in any order.</p>\n",
    "\n",
    "<p>&nbsp;</p>\n",
    "\n",
    "<ol>\n",
    "</ol>\n",
    "\n",
    "<div>\n",
    "<p><strong>Example 1:</strong></p>\n",
    "\n",
    "<pre><strong>Input: </strong>A = <span id=\"example-input-1-1\">[\"amazon\",\"apple\",\"facebook\",\"google\",\"leetcode\"]</span>, B = <span id=\"example-input-1-2\">[\"e\",\"o\"]</span>\n",
    "<strong>Output: </strong><span id=\"example-output-1\">[\"facebook\",\"google\",\"leetcode\"]</span>\n",
    "</pre>\n",
    "\n",
    "<div>\n",
    "<p><strong>Example 2:</strong></p>\n",
    "\n",
    "<pre><strong>Input: </strong>A = <span id=\"example-input-2-1\">[\"amazon\",\"apple\",\"facebook\",\"google\",\"leetcode\"]</span>, B = <span id=\"example-input-2-2\">[\"l\",\"e\"]</span>\n",
    "<strong>Output: </strong><span id=\"example-output-2\">[\"apple\",\"google\",\"leetcode\"]</span>\n",
    "</pre>\n",
    "\n",
    "<div>\n",
    "<p><strong>Example 3:</strong></p>\n",
    "\n",
    "<pre><strong>Input: </strong>A = <span id=\"example-input-3-1\">[\"amazon\",\"apple\",\"facebook\",\"google\",\"leetcode\"]</span>, B = <span id=\"example-input-3-2\">[\"e\",\"oo\"]</span>\n",
    "<strong>Output: </strong><span id=\"example-output-3\">[\"facebook\",\"google\"]</span>\n",
    "</pre>\n",
    "\n",
    "<div>\n",
    "<p><strong>Example 4:</strong></p>\n",
    "\n",
    "<pre><strong>Input: </strong>A = <span id=\"example-input-4-1\">[\"amazon\",\"apple\",\"facebook\",\"google\",\"leetcode\"]</span>, B = <span id=\"example-input-4-2\">[\"lo\",\"eo\"]</span>\n",
    "<strong>Output: </strong><span id=\"example-output-4\">[\"google\",\"leetcode\"]</span>\n",
    "</pre>\n",
    "\n",
    "<div>\n",
    "<p><strong>Example 5:</strong></p>\n",
    "\n",
    "<pre><strong>Input: </strong>A = <span id=\"example-input-5-1\">[\"amazon\",\"apple\",\"facebook\",\"google\",\"leetcode\"]</span>, B = <span id=\"example-input-5-2\">[\"ec\",\"oc\",\"ceo\"]</span>\n",
    "<strong>Output: </strong><span id=\"example-output-5\">[\"facebook\",\"leetcode\"]</span>\n",
    "</pre>\n",
    "\n",
    "<p>&nbsp;</p>\n",
    "\n",
    "<p><strong>Note:</strong></p>\n",
    "\n",
    "<ol>\n",
    "\t<li><code>1 &lt;= A.length, B.length &lt;= 10000</code></li>\n",
    "\t<li><code>1 &lt;= A[i].length, B[i].length&nbsp;&lt;= 10</code></li>\n",
    "\t<li><code>A[i]</code> and <code>B[i]</code> consist only of lowercase letters.</li>\n",
    "\t<li>All words in <code>A[i]</code> are unique: there isn't <code>i != j</code> with <code>A[i] == A[j]</code>.</li>\n",
    "</ol>\n",
    "</div>\n",
    "</div>\n",
    "</div>\n",
    "</div>\n",
    "</div>\n",
    "</div>"
   ]
  },
  {
   "cell_type": "markdown",
   "metadata": {},
   "source": [
    "## Option 1\n",
    "<p>"
   ]
  },
  {
   "cell_type": "code",
   "execution_count": null,
   "metadata": {
    "scrolled": true
   },
   "outputs": [],
   "source": [
    "import collections\n",
    "class Solution(object):\n",
    "    def wordSubsets(self, A, B):\n",
    "        #c = characters required\n",
    "        c = collections.defaultdict(int)\n",
    "        d = map(lambda x:collections.Counter(x) ,B)\n",
    "        #We will join Bs together, whilst ensuring the internal duplicates are kept but not the external\n",
    "        for i in d:\n",
    "            for k,v in i.items(): c[k] = max(c[k],v)\n",
    "        res = []\n",
    "        #Now its just a matter of checking which words contain all of the characters required\n",
    "        for i in A:\n",
    "            s = collections.Counter(i)\n",
    "            if all(s[k] >= v for k,v in c.items()):\n",
    "                res.append(i)\n",
    "        return res\n",
    "\n",
    "Solution().wordSubsets([\"amazon\",\"apple\",\"facebook\",\"google\",\"leetcode\"], [\"lo\",\"eo\"])\n"
   ]
  },
  {
   "cell_type": "markdown",
   "metadata": {},
   "source": [
    "#### Result: 1436ms 33.04%)"
   ]
  }
 ],
 "metadata": {
  "kernelspec": {
   "display_name": "Python 2",
   "language": "python",
   "name": "python2"
  },
  "language_info": {
   "codemirror_mode": {
    "name": "ipython",
    "version": 2
   },
   "file_extension": ".py",
   "mimetype": "text/x-python",
   "name": "python",
   "nbconvert_exporter": "python",
   "pygments_lexer": "ipython2",
   "version": "2.7.16"
  }
 },
 "nbformat": 4,
 "nbformat_minor": 2
}
