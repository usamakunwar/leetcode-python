{
 "cells": [
  {
   "cell_type": "markdown",
   "metadata": {},
   "source": [
    "# 433. Minimum Genetic Mutation (Medium)"
   ]
  },
  {
   "cell_type": "markdown",
   "metadata": {},
   "source": [
    "<div><p>A gene string can be represented by an 8-character long string, with choices from <code>\"A\"</code>, <code>\"C\"</code>, <code>\"G\"</code>, <code>\"T\"</code>.</p>\n",
    "\n",
    "<p>Suppose we need to investigate about a mutation (mutation from \"start\" to \"end\"), where ONE mutation is defined as ONE single character changed in the gene string.</p>\n",
    "\n",
    "<p>For example, <code>\"AACCGGTT\"</code> -&gt; <code>\"AACCGGTA\"</code> is 1 mutation.</p>\n",
    "\n",
    "<p>Also, there is a given gene \"bank\", which records all the valid gene mutations. A gene must be in the bank to make it a valid gene string.</p>\n",
    "\n",
    "<p>Now, given 3 things - start, end, bank, your task is to determine what is the minimum number of mutations needed to mutate from \"start\" to \"end\". If there is no such a mutation, return -1.</p>\n",
    "\n",
    "<p><b>Note:</b></p>\n",
    "\n",
    "<ol>\n",
    "\t<li>Starting point is assumed to be valid, so it might not be included in the bank.</li>\n",
    "\t<li>If multiple mutations are needed, all mutations during in the sequence must be valid.</li>\n",
    "\t<li>You may assume start and end string is not the same.</li>\n",
    "</ol>\n",
    "\n",
    "<p>&nbsp;</p>\n",
    "\n",
    "<p><b>Example 1:</b></p>\n",
    "\n",
    "<pre>start: \"AACCGGTT\"\n",
    "end:   \"AACCGGTA\"\n",
    "bank: [\"AACCGGTA\"]\n",
    "\n",
    "return: 1\n",
    "</pre>\n",
    "\n",
    "<p>&nbsp;</p>\n",
    "\n",
    "<p><b>Example 2:</b></p>\n",
    "\n",
    "<pre>start: \"AACCGGTT\"\n",
    "end:   \"AAACGGTA\"\n",
    "bank: [\"AACCGGTA\", \"AACCGCTA\", \"AAACGGTA\"]\n",
    "\n",
    "return: 2\n",
    "</pre>\n",
    "\n",
    "<p>&nbsp;</p>\n",
    "\n",
    "<p><b>Example 3:</b></p>\n",
    "\n",
    "<pre>start: \"AAAAACCC\"\n",
    "end:   \"AACCCCCC\"\n",
    "bank: [\"AAAACCCC\", \"AAACCCCC\", \"AACCCCCC\"]\n",
    "\n",
    "return: 3\n",
    "</pre>\n",
    "\n",
    "<p>&nbsp;</p>\n",
    "</div>"
   ]
  },
  {
   "cell_type": "markdown",
   "metadata": {},
   "source": [
    "## Option 1\n",
    "\n",
    "<p>\n",
    "    <li>BFS with a map of wildcards\n",
    " <p>\n",
    "     <p>\n",
    "Time complexity: O(n) size of the bank\n",
    "<br>\n",
    "Space complexity: O(n)"
   ]
  },
  {
   "cell_type": "code",
   "execution_count": null,
   "metadata": {
    "scrolled": false
   },
   "outputs": [],
   "source": [
    "import collections\n",
    "class Solution(object):\n",
    "    def minMutation(self, start, end, bank):\n",
    "        wild_cards = collections.defaultdict(list)\n",
    "        for b in bank:\n",
    "            for i in range(8):\n",
    "                wild_cards[b[:i]+'*'+b[i+1:]].append(b)\n",
    "        \n",
    "        bank = set(bank)\n",
    "        q,seen = collections.deque(), set()\n",
    "        q.append((start,0))\n",
    "        \n",
    "        while q:\n",
    "            curr,lev = q.popleft()\n",
    "            if curr == end: return lev\n",
    "            for i in range(8):\n",
    "                for w in wild_cards[curr[:i]+'*'+curr[i+1:]]:\n",
    "                    if w not in seen: \n",
    "                        q.append((w,lev+1))\n",
    "                        seen.add(curr)\n",
    "        return -1\n",
    "            \n",
    "    \n",
    "Solution().minMutation(\"AAAAACCC\",\"AACCCCCCB\", [\"AAAACCCC\", \"AAACCCCC\", \"AACCCCCC\"])\n",
    "\n"
   ]
  },
  {
   "cell_type": "markdown",
   "metadata": {},
   "source": [
    "#### Result: 8ms (98.13%)"
   ]
  },
  {
   "cell_type": "markdown",
   "metadata": {},
   "source": [
    "## Option 2\n",
    "\n",
    "<p>\n",
    "    <li>BFS using characters\n",
    " <p>\n",
    "     <p>\n",
    "Time complexity: O(n) size of the bank\n",
    "<br>\n",
    "Space complexity: O(n)"
   ]
  },
  {
   "cell_type": "code",
   "execution_count": null,
   "metadata": {},
   "outputs": [],
   "source": [
    "import collections\n",
    "class Solution(object):\n",
    "    def minMutation(self, start, end, bank):\n",
    "        bank = set(bank)\n",
    "        q,seen = collections.deque(), set()\n",
    "        q.append((start,0))\n",
    "        \n",
    "        while q:\n",
    "            curr,lev = q.popleft()\n",
    "            if curr == end: return lev\n",
    "            for i in range(8):\n",
    "                for ch in \"ACGT\":\n",
    "                    w = curr[:i]+ch+curr[i+1:]\n",
    "                    if w in bank and w not in seen: \n",
    "                        q.append((w,lev+1))\n",
    "                        seen.add(curr)\n",
    "        return -1\n",
    "            \n",
    "    \n",
    "Solution().minMutation(\"AAAAACCC\",\"AACCCCCCB\", [\"AAAACCCC\", \"AAACCCCC\", \"AACCCCCC\"])\n",
    "\n"
   ]
  },
  {
   "cell_type": "markdown",
   "metadata": {},
   "source": [
    "#### Result: 12ms (92.52%)"
   ]
  }
 ],
 "metadata": {
  "kernelspec": {
   "display_name": "Python 2",
   "language": "python",
   "name": "python2"
  },
  "language_info": {
   "codemirror_mode": {
    "name": "ipython",
    "version": 2
   },
   "file_extension": ".py",
   "mimetype": "text/x-python",
   "name": "python",
   "nbconvert_exporter": "python",
   "pygments_lexer": "ipython2",
   "version": "2.7.16"
  }
 },
 "nbformat": 4,
 "nbformat_minor": 2
}
