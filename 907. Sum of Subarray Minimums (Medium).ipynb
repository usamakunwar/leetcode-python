{
 "cells": [
  {
   "cell_type": "markdown",
   "metadata": {},
   "source": [
    "# 907. Sum of Subarray Minimums (Medium)"
   ]
  },
  {
   "cell_type": "markdown",
   "metadata": {},
   "source": [
    "<div><p>Given an array of integers <code>A</code>, find the sum of <code>min(B)</code>, where <code>B</code> ranges over&nbsp;every (contiguous) subarray of <code>A</code>.</p>\n",
    "\n",
    "<p>Since the answer may be large, <strong>return the answer modulo <code>10^9 + 7</code>.</strong></p>\n",
    "\n",
    "<p>&nbsp;</p>\n",
    "\n",
    "<p><strong>Example 1:</strong></p>\n",
    "\n",
    "<pre><strong>Input: </strong><span id=\"example-input-1-1\">[3,1,2,4]</span>\n",
    "<strong>Output: </strong><span id=\"example-output-1\">17</span>\n",
    "<strong>Explanation:</strong> Subarrays are [3], [1], [2], [4], [3,1], [1,2], [2,4], [3,1,2], [1,2,4], [3,1,2,4]. \n",
    "Minimums are 3, 1, 2, 4, 1, 1, 2, 1, 1, 1.&nbsp; Sum is 17.</pre>\n",
    "\n",
    "<p>&nbsp;</p>\n",
    "\n",
    "<p><strong>Note:</strong></p>\n",
    "\n",
    "<ol>\n",
    "\t<li><code>1 &lt;= A.length &lt;= 30000</code></li>\n",
    "\t<li><code>1 &lt;= A[i] &lt;= 30000</code></li>\n",
    "</ol>\n",
    "\n",
    "<div>\n",
    "<p>&nbsp;</p>\n",
    "</div>\n",
    "</div>"
   ]
  },
  {
   "cell_type": "markdown",
   "metadata": {},
   "source": [
    "## Option 1\n",
    "\n",
    "<p>\n",
    "<li>We need to know the number of sub arrays an element is minimum in\n",
    "<li>Calculate the PLE and NLE arrays. Which are the prev low element for each element, and next low element for each element\n",
    "<li>The product of PLE and NLE gives us the number of sub arrays an element is minimum in\n",
    "<li>Final answer is PLE * NLE * Value\n",
    "<p>\n",
    "<p>\n",
    "Time complexity: O(n)\n",
    "<br>\n",
    "Space complexity: O(n)\n"
   ]
  },
  {
   "cell_type": "code",
   "execution_count": null,
   "metadata": {},
   "outputs": [],
   "source": [
    "class Solution(object):\n",
    "    def sumSubarrayMins(self, A):\n",
    "        ln,mod = len(A),(10**9 + 7)\n",
    "        left, right = [None]*ln, [None]*ln\n",
    "        #LEFT (Prev low elements)\n",
    "        stack = []\n",
    "        for i in range(ln):\n",
    "            while stack and A[i] < A[stack[-1]]:\n",
    "                stack.pop()\n",
    "            left[i] = (i-stack[-1]) if stack else i+1\n",
    "            stack.append(i)\n",
    "        #RIGHT (Next low elements)\n",
    "        stack = []\n",
    "        for i in range(ln)[::-1]:\n",
    "            #Here we use <=, if we use < in both we exclude sub arrays with duplicates \n",
    "            #(doesn't matter where you use it but one of the passes have to have <=)\n",
    "            while stack and A[i] <= A[stack[-1]]:\n",
    "                stack.pop()\n",
    "            right[i] = (stack[-1]-i) if stack else ln-i\n",
    "            stack.append(i)\n",
    "        \n",
    "        return sum(a*b*c for a,b,c in zip(A,left,right)) % mod\n",
    "    \n",
    "Solution().sumSubarrayMins([1,7,5,2,4,3,9])"
   ]
  },
  {
   "cell_type": "markdown",
   "metadata": {},
   "source": [
    "#### Result: 520ms (53.72%)"
   ]
  },
  {
   "cell_type": "markdown",
   "metadata": {},
   "source": [
    "## Option 2\n",
    "<p>\n",
    "<li>The above can done in one pass. \n",
    "<li>The idea is for every element we add on the stack we know its left (PLE) as its the item before it. \n",
    "<li>However at the point we do not know its right (NLE). \n",
    "<li>So lets wait for it!. The next item that gets added (after all its pops) is the right. Once we know the left and right we calculate the product\n",
    "<p>\n",
    "    <p>\n",
    "Time complexity: O(n)\n",
    "<br>\n",
    "Space complexity: O(n)\n"
   ]
  },
  {
   "cell_type": "code",
   "execution_count": null,
   "metadata": {},
   "outputs": [],
   "source": [
    "class Solution(object):\n",
    "    def sumSubarrayMins(self, A):\n",
    "        A,res,stack,mod = A+[0],0,[],(10**9 + 7)\n",
    "        ln = len(A)\n",
    "        for i in range(len(A)):\n",
    "            while stack and A[i] < A[stack[-1][0]]:\n",
    "                #The item at A[i] is popping v, that means it must be smaller than it\n",
    "                #Hence we can identify A[i] as the last (exclusive) position of the right\n",
    "                v = stack.pop()\n",
    "                right = i-v[0]\n",
    "                res += v[1]*right*A[v[0]]\n",
    "            left = (i-stack[-1][0] if stack else i+1)\n",
    "            stack.append((i,left))\n",
    "        return res%mod\n",
    "\n",
    "Solution().sumSubarrayMins([71,55,82,55])\n"
   ]
  }
 ],
 "metadata": {
  "kernelspec": {
   "display_name": "Python 2",
   "language": "python",
   "name": "python2"
  },
  "language_info": {
   "codemirror_mode": {
    "name": "ipython",
    "version": 2
   },
   "file_extension": ".py",
   "mimetype": "text/x-python",
   "name": "python",
   "nbconvert_exporter": "python",
   "pygments_lexer": "ipython2",
   "version": "2.7.16"
  }
 },
 "nbformat": 4,
 "nbformat_minor": 2
}
