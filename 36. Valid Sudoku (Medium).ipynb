{
 "cells": [
  {
   "cell_type": "markdown",
   "metadata": {},
   "source": [
    "# 36. Valid Sudoku (Medium)\n",
    "\n",
    "\n",
    "Determine if a 9x9 Sudoku board is valid. Only the filled cells need to be validated according to the following rules:\n",
    "\n",
    "Each row must contain the digits 1-9 without repetition.\n",
    "Each column must contain the digits 1-9 without repetition.\n",
    "Each of the 9 3x3 sub-boxes of the grid must contain the digits 1-9 without repetition.\n",
    "\n",
    "A partially filled sudoku which is valid.\n",
    "\n",
    "The Sudoku board could be partially filled, where empty cells are filled with the character '.'.\n",
    "\n",
    "Example 1:\n",
    "\n",
    "Input:\n",
    "[\n",
    "  [\"5\",\"3\",\".\",\".\",\"7\",\".\",\".\",\".\",\".\"],\n",
    "  [\"6\",\".\",\".\",\"1\",\"9\",\"5\",\".\",\".\",\".\"],\n",
    "  [\".\",\"9\",\"8\",\".\",\".\",\".\",\".\",\"6\",\".\"],\n",
    "  [\"8\",\".\",\".\",\".\",\"6\",\".\",\".\",\".\",\"3\"],\n",
    "  [\"4\",\".\",\".\",\"8\",\".\",\"3\",\".\",\".\",\"1\"],\n",
    "  [\"7\",\".\",\".\",\".\",\"2\",\".\",\".\",\".\",\"6\"],\n",
    "  [\".\",\"6\",\".\",\".\",\".\",\".\",\"2\",\"8\",\".\"],\n",
    "  [\".\",\".\",\".\",\"4\",\"1\",\"9\",\".\",\".\",\"5\"],\n",
    "  [\".\",\".\",\".\",\".\",\"8\",\".\",\".\",\"7\",\"9\"]\n",
    "]\n",
    "Output: true\n",
    "Example 2:\n",
    "\n",
    "Input:\n",
    "[\n",
    "  [\"8\",\"3\",\".\",\".\",\"7\",\".\",\".\",\".\",\".\"],\n",
    "  [\"6\",\".\",\".\",\"1\",\"9\",\"5\",\".\",\".\",\".\"],\n",
    "  [\".\",\"9\",\"8\",\".\",\".\",\".\",\".\",\"6\",\".\"],\n",
    "  [\"8\",\".\",\".\",\".\",\"6\",\".\",\".\",\".\",\"3\"],\n",
    "  [\"4\",\".\",\".\",\"8\",\".\",\"3\",\".\",\".\",\"1\"],\n",
    "  [\"7\",\".\",\".\",\".\",\"2\",\".\",\".\",\".\",\"6\"],\n",
    "  [\".\",\"6\",\".\",\".\",\".\",\".\",\"2\",\"8\",\".\"],\n",
    "  [\".\",\".\",\".\",\"4\",\"1\",\"9\",\".\",\".\",\"5\"],\n",
    "  [\".\",\".\",\".\",\".\",\"8\",\".\",\".\",\"7\",\"9\"]\n",
    "]\n",
    "Output: false\n",
    "Explanation: Same as Example 1, except with the 5 in the top left corner being \n",
    "    modified to 8. Since there are two 8's in the top left 3x3 sub-box, it is invalid.\n",
    "Note:\n",
    "\n",
    "A Sudoku board (partially filled) could be valid but is not necessarily solvable.\n",
    "Only the filled cells need to be validated according to the mentioned rules.\n",
    "The given board contain only digits 1-9 and the character '.'.\n",
    "The given board size is always 9x9."
   ]
  },
  {
   "cell_type": "markdown",
   "metadata": {},
   "source": [
    "# Option 1\n",
    "\n",
    "Iterate row, column and the extra 4 cells to check for duplicate values. At any time a duplicate is found return false\n",
    "\n",
    "Time complexity is constant as its a standard 9x9 board \n"
   ]
  },
  {
   "cell_type": "code",
   "execution_count": 19,
   "metadata": {
    "scrolled": false
   },
   "outputs": [
    {
     "data": {
      "text/plain": [
       "True"
      ]
     },
     "execution_count": 19,
     "metadata": {},
     "output_type": "execute_result"
    }
   ],
   "source": [
    "class Solution:\n",
    "    \n",
    "    def isValidSudoku(self, board: [[str]]) -> bool:\n",
    "        \n",
    "        def get_box_extra_cells(i):\n",
    "            if i == 1 or i == 4 or i == 7:\n",
    "                return [i-1, i+1]\n",
    "            elif i == 0 or i == 3 or i == 6:\n",
    "                return [i+1, i+2]\n",
    "            elif i == 2 or i == 5 or i == 8:\n",
    "                return [i-1, i-2]\n",
    "        \n",
    "\n",
    "        for i, row in enumerate(board):\n",
    "            for j, cell in enumerate(row):\n",
    "                if cell != '.':\n",
    "                    extra_is = get_box_extra_cells(i)\n",
    "                    extra_js = get_box_extra_cells(j)\n",
    "                    for i_s in extra_is:\n",
    "                        for j_s in extra_js:\n",
    "                            #print(\"i \"+str(i)+\" box \"+str(board[i_s][j_s]))\n",
    "                            if board[i_s][j_s] == cell:\n",
    "                                print(cell)\n",
    "                                return False\n",
    "\n",
    "                    for i_x in range(0, 9):\n",
    "                        if i_x != j :\n",
    "                            if row[i_x] == cell:\n",
    "                                print(cell)\n",
    "                                return False\n",
    "                            #print(\"i \"+str(i)+\" horz \"+str(row[i_x]))\n",
    "                        if i_x != i:\n",
    "                            if board[i_x][j] == cell:\n",
    "                                print(cell)\n",
    "                                return False\n",
    "                            #print(\"i \"+str(i)+\" vert \"+str(board[i_x][j]))\n",
    "        return True\n",
    "\n",
    "        \n",
    "        \n",
    "        \n",
    "\n",
    "sudoku = [\n",
    "  [\"3\",\"2\",\".\",\".\",\"7\",\".\",\".\",\".\",\".\"],\n",
    "  [\"6\",\".\",\".\",\"2\",\"9\",\"5\",\".\",\".\",\".\"],\n",
    "  [\".\",\"9\",\"8\",\".\",\".\",\".\",\".\",\"6\",\".\"],\n",
    "  [\"8\",\".\",\".\",\".\",\"6\",\".\",\".\",\".\",\"3\"],\n",
    "  [\"4\",\".\",\".\",\"8\",\".\",\"3\",\"5\",\".\",\"1\"],\n",
    "  [\"7\",\".\",\".\",\".\",\"2\",\".\",\".\",\".\",\"6\"],\n",
    "  [\".\",\"6\",\".\",\".\",\".\",\".\",\"2\",\"8\",\".\"],\n",
    "  [\".\",\".\",\".\",\"4\",\"1\",\"9\",\".\",\".\",\"5\"],\n",
    "  [\".\",\".\",\"1\",\".\",\"8\",\".\",\".\",\"7\",\"9\"]\n",
    "]\n",
    "\n",
    "Solution().isValidSudoku(sudoku)\n"
   ]
  },
  {
   "cell_type": "markdown",
   "metadata": {},
   "source": [
    "#### Result:  Accepted\n",
    "#### Runtime: 92ms (98.15%)\n",
    "#### Memory: 12.8mb (100%)"
   ]
  },
  {
   "cell_type": "markdown",
   "metadata": {},
   "source": [
    "# Option 2\n",
    "\n",
    "We are currently iterating over each value multiple times, instead if we keep a counter of values the number of interations will reduce. IE just iterate over the entire board once and keep a track of the number of times a value appears in a certain row/col/box\n",
    "ALSO box index can be found by 1) divide horizontally, then add vertically (0-8 boxes)"
   ]
  },
  {
   "cell_type": "code",
   "execution_count": 20,
   "metadata": {},
   "outputs": [
    {
     "data": {
      "text/plain": [
       "True"
      ]
     },
     "execution_count": 20,
     "metadata": {},
     "output_type": "execute_result"
    }
   ],
   "source": [
    "class Solution:\n",
    "    \n",
    "    def isValidSudoku(self, board: [[str]]) -> bool:\n",
    "        \n",
    "        #These are just arrays with 9 empty dictionaries, for values counts to be added\n",
    "        rows = [ {} for i in range(9) ]\n",
    "        cols = [ {} for i in range(9) ]\n",
    "        boxes = [ {} for i in range(9) ]\n",
    "        \n",
    "        for i in range(9):\n",
    "            for j in range(9):\n",
    "                val = board[i][j]\n",
    "                if val != '.':\n",
    "                    #get safely from dictionary, use 0 as a default\n",
    "                    rows[i][val] = rows[i].get(val,0) + 1\n",
    "                    cols[j][val] = cols[j].get(val,0) + 1\n",
    "                    box_idx = (j//3) + (3*(i//3))\n",
    "                    boxes[box_idx][val] = boxes[box_idx].get(val,0) + 1\n",
    "\n",
    "                    if rows[i][val] > 1:\n",
    "                        return False\n",
    "                    if cols[j][val] > 1:\n",
    "                        return False\n",
    "                    if boxes[box_idx][val] > 1:\n",
    "                        return False\n",
    "        return True\n",
    "        \n",
    "        \n",
    "\n",
    "sudoku = [\n",
    "  [\"5\",\"3\",\".\",\".\",\"7\",\".\",\".\",\".\",\".\"],\n",
    "  [\"6\",\".\",\".\",\"1\",\"9\",\"5\",\".\",\".\",\".\"],\n",
    "  [\".\",\"9\",\"8\",\".\",\".\",\".\",\".\",\"6\",\".\"],\n",
    "  [\"8\",\".\",\".\",\".\",\"6\",\".\",\".\",\".\",\"3\"],\n",
    "  [\"4\",\".\",\".\",\"8\",\".\",\"3\",\".\",\".\",\"1\"],\n",
    "  [\"7\",\".\",\".\",\".\",\"2\",\".\",\".\",\".\",\"6\"],\n",
    "  [\".\",\"6\",\".\",\".\",\".\",\".\",\"2\",\"8\",\".\"],\n",
    "  [\".\",\".\",\".\",\"4\",\"1\",\"9\",\".\",\".\",\"5\"],\n",
    "  [\".\",\".\",\".\",\".\",\"8\",\".\",\".\",\"7\",\"9\"]\n",
    "]\n",
    "\n",
    "Solution().isValidSudoku(sudoku)\n"
   ]
  },
  {
   "cell_type": "markdown",
   "metadata": {},
   "source": [
    "For some reason this is slower\n",
    "\n",
    "#### Result:  Accepted\n",
    "#### Runtime: 172ms (5.37%)\n",
    "#### Memory: 12.8mb (100%)"
   ]
  }
 ],
 "metadata": {
  "kernelspec": {
   "display_name": "Python 3",
   "language": "python",
   "name": "python3"
  },
  "language_info": {
   "codemirror_mode": {
    "name": "ipython",
    "version": 3
   },
   "file_extension": ".py",
   "mimetype": "text/x-python",
   "name": "python",
   "nbconvert_exporter": "python",
   "pygments_lexer": "ipython3",
   "version": "3.7.4"
  }
 },
 "nbformat": 4,
 "nbformat_minor": 2
}
