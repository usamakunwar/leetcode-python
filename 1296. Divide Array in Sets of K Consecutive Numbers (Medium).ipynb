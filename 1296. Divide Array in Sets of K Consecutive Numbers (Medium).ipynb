{
 "cells": [
  {
   "cell_type": "markdown",
   "metadata": {},
   "source": [
    "# 1296. Divide Array in Sets of K Consecutive Numbers (Medium)"
   ]
  },
  {
   "cell_type": "markdown",
   "metadata": {},
   "source": [
    "<div><p>Given an array of integers&nbsp;<code>nums</code>&nbsp;and a positive integer&nbsp;<code>k</code>, find whether it's possible to divide this array into&nbsp;sets of <code>k</code> consecutive numbers<br>\n",
    "Return&nbsp;<code>True</code>&nbsp;if its possible<strong>&nbsp;</strong>otherwise&nbsp;return&nbsp;<code>False</code>.</p>\n",
    "\n",
    "<p>&nbsp;</p>\n",
    "<p><strong>Example 1:</strong></p>\n",
    "\n",
    "<pre><strong>Input:</strong> nums = [1,2,3,3,4,4,5,6], k = 4\n",
    "<strong>Output:</strong> true\n",
    "<strong>Explanation:</strong> Array can be divided into [1,2,3,4] and [3,4,5,6].\n",
    "</pre>\n",
    "\n",
    "<p><strong>Example 2:</strong></p>\n",
    "\n",
    "<pre><strong>Input:</strong> nums = [3,2,1,2,3,4,3,4,5,9,10,11], k = 3\n",
    "<strong>Output:</strong> true\n",
    "<strong>Explanation:</strong> Array can be divided into [1,2,3] , [2,3,4] , [3,4,5] and [9,10,11].\n",
    "</pre>\n",
    "\n",
    "<p><strong>Example 3:</strong></p>\n",
    "\n",
    "<pre><strong>Input:</strong> nums = [3,3,2,2,1,1], k = 3\n",
    "<strong>Output:</strong> true\n",
    "</pre>\n",
    "\n",
    "<p><strong>Example 4:</strong></p>\n",
    "\n",
    "<pre><strong>Input:</strong> nums = [1,2,3,4], k = 3\n",
    "<strong>Output:</strong> false\n",
    "<strong>Explanation:</strong> Each array should be divided in subarrays of size 3.\n",
    "</pre>\n",
    "\n",
    "<p>&nbsp;</p>\n",
    "<p><strong>Constraints:</strong></p>\n",
    "\n",
    "<ul>\n",
    "\t<li><code>1 &lt;= nums.length &lt;= 10^5</code></li>\n",
    "\t<li><code>1 &lt;= nums[i] &lt;= 10^9</code></li>\n",
    "\t<li><code>1 &lt;= k &lt;= nums.length</code></li>\n",
    "</ul></div>"
   ]
  },
  {
   "cell_type": "markdown",
   "metadata": {},
   "source": [
    "## Option 1\n",
    "<p>\n",
    "<p>\n",
    "Time complexity = O(nlogn)\n",
    "<br>\n",
    "Space complexity = O(n)"
   ]
  },
  {
   "cell_type": "code",
   "execution_count": null,
   "metadata": {},
   "outputs": [],
   "source": [
    "import collections\n",
    "class Solution(object):\n",
    "    def isPossibleDivide(self, nums, k):\n",
    "        nums.sort()\n",
    "        c = collections.Counter(nums)\n",
    "        for i in nums:\n",
    "            n,count = i,k\n",
    "            while c[n] > 0 and count > 0:\n",
    "                c[n] -= 1\n",
    "                n += 1\n",
    "                count -= 1\n",
    "            if count > 0 and count < k: return False\n",
    "        return True\n",
    "        \n",
    "Solution().isPossibleDivide([3,2,1,2,3,4,3,4,5,9,10,11], 3)\n",
    "        "
   ]
  },
  {
   "cell_type": "markdown",
   "metadata": {},
   "source": [
    "#### Result: 528ms (30.49%)"
   ]
  }
 ],
 "metadata": {
  "kernelspec": {
   "display_name": "Python 2",
   "language": "python",
   "name": "python2"
  },
  "language_info": {
   "codemirror_mode": {
    "name": "ipython",
    "version": 2
   },
   "file_extension": ".py",
   "mimetype": "text/x-python",
   "name": "python",
   "nbconvert_exporter": "python",
   "pygments_lexer": "ipython2",
   "version": "2.7.16"
  }
 },
 "nbformat": 4,
 "nbformat_minor": 2
}
