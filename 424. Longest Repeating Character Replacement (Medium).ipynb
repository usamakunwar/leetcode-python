{
 "cells": [
  {
   "cell_type": "markdown",
   "metadata": {},
   "source": [
    "# 424. Longest Repeating Character Replacement (Medium)"
   ]
  },
  {
   "cell_type": "markdown",
   "metadata": {},
   "source": [
    "<div><p>Given a string <code>s</code>&nbsp;that consists of only uppercase English letters, you can perform at most <code>k</code> operations on that string.</p>\n",
    "\n",
    "<p>In one operation, you can choose <strong>any</strong> character of the string and change it to any other uppercase English character.</p>\n",
    "\n",
    "<p>Find the length of the longest sub-string containing all repeating letters you can get after performing the above operations.</p>\n",
    "\n",
    "<p><b>Note:</b><br>\n",
    "Both the string's length and <i>k</i> will not exceed 10<sup>4</sup>.</p>\n",
    "\n",
    "<p><b>Example 1:</b></p>\n",
    "\n",
    "<pre><b>Input:</b>\n",
    "s = \"ABAB\", k = 2\n",
    "\n",
    "<b>Output:</b>\n",
    "4\n",
    "\n",
    "<b>Explanation:</b>\n",
    "Replace the two 'A's with two 'B's or vice versa.\n",
    "</pre>\n",
    "\n",
    "<p>&nbsp;</p>\n",
    "\n",
    "<p><b>Example 2:</b></p>\n",
    "\n",
    "<pre><b>Input:</b>\n",
    "s = \"AABABBA\", k = 1\n",
    "\n",
    "<b>Output:</b>\n",
    "4\n",
    "\n",
    "<b>Explanation:</b>\n",
    "Replace the one 'A' in the middle with 'B' and form \"AABBBBA\".\n",
    "The substring \"BBBB\" has the longest repeating letters, which is 4.\n",
    "</pre>\n",
    "\n",
    "<p>&nbsp;</p>\n",
    "</div>"
   ]
  },
  {
   "cell_type": "markdown",
   "metadata": {},
   "source": [
    "## Option 1\n",
    "\n",
    "Sliding window with a map\n",
    "\n",
    "<p>\n",
    "Time complexity = O(n)\n",
    "<br>\n",
    "Space complexity = O(1)"
   ]
  },
  {
   "cell_type": "code",
   "execution_count": null,
   "metadata": {
    "scrolled": true
   },
   "outputs": [],
   "source": [
    "class Solution(object):\n",
    "    def characterReplacement(self, s, k):\n",
    "        s_map, max_len, left = [0]*26, 0, 0\n",
    "        \n",
    "        for i,v in enumerate(s):\n",
    "            o = ord(v)-ord('A')\n",
    "            s_map[o] += 1\n",
    "            max_, total = max(s_map), sum(s_map)\n",
    "            if (total - max_) > k :\n",
    "                s_map[ord(s[left])-ord('A')] -= 1\n",
    "                total -= 1\n",
    "                left += 1                \n",
    "            max_len = max(max_len, total)\n",
    "        return max_len\n",
    "                \n",
    "        \n",
    "        \n",
    "Solution().characterReplacement(\"AABBCCDDEEEDEEEABCDDDD\",6)"
   ]
  },
  {
   "cell_type": "markdown",
   "metadata": {},
   "source": [
    "#### Result: 156ms (35.39%)"
   ]
  },
  {
   "cell_type": "markdown",
   "metadata": {},
   "source": [
    "## Option 2\n",
    "\n",
    "A better sliding window solution\n",
    "\n",
    "<p>\n",
    "Time complexity = O(n)\n",
    "<br>\n",
    "Space complexity = O(1)"
   ]
  },
  {
   "cell_type": "code",
   "execution_count": null,
   "metadata": {},
   "outputs": [],
   "source": [
    "import collections\n",
    "class Solution(object):\n",
    "    def characterReplacement(self, s, k):\n",
    "        s_map, window, curr_max = collections.Counter(), 0, 0\n",
    "        for i,v in enumerate(s):\n",
    "            s_map[v] += 1\n",
    "            curr_max = max(curr_max, s_map[v])\n",
    "            if (window - curr_max) < k:\n",
    "                window += 1\n",
    "            else:\n",
    "                s_map[s[i-window]] -= 1\n",
    "        return window\n",
    "                \n",
    "Solution().characterReplacement(\"AABBCCDDEEEDEEEABCDDDD\",6)"
   ]
  },
  {
   "cell_type": "markdown",
   "metadata": {},
   "source": [
    "#### Result: 112ms (58.99%)"
   ]
  }
 ],
 "metadata": {
  "kernelspec": {
   "display_name": "Python 3",
   "language": "python",
   "name": "python3"
  },
  "language_info": {
   "codemirror_mode": {
    "name": "ipython",
    "version": 3
   },
   "file_extension": ".py",
   "mimetype": "text/x-python",
   "name": "python",
   "nbconvert_exporter": "python",
   "pygments_lexer": "ipython3",
   "version": "3.7.4"
  }
 },
 "nbformat": 4,
 "nbformat_minor": 2
}
