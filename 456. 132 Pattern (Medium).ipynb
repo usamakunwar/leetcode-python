{
 "cells": [
  {
   "cell_type": "markdown",
   "metadata": {},
   "source": [
    "# 456. 132 Pattern\n"
   ]
  },
  {
   "cell_type": "markdown",
   "metadata": {},
   "source": [
    "<div><p>\n",
    "Given a sequence of n integers a<sub>1</sub>, a<sub>2</sub>, ..., a<sub>n</sub>, a 132 pattern is a subsequence a<sub><b>i</b></sub>, a<sub><b>j</b></sub>, a<sub><b>k</b></sub> such\n",
    "that <b>i</b> &lt; <b>j</b> &lt; <b>k</b> and a<sub><b>i</b></sub> &lt; a<sub><b>k</b></sub> &lt; a<sub><b>j</b></sub>. Design an algorithm that takes a list of n numbers as input and checks whether there is a 132 pattern in the list.</p>\n",
    "\n",
    "<p><b>Note:</b> n will be less than 15,000.</p>\n",
    "\n",
    "<p><b>Example 1:</b><br>\n",
    "</p><pre><b>Input:</b> [1, 2, 3, 4]\n",
    "\n",
    "<b>Output:</b> False\n",
    "\n",
    "<b>Explanation:</b> There is no 132 pattern in the sequence.\n",
    "</pre>\n",
    "<p></p>\n",
    "\n",
    "<p><b>Example 2:</b><br>\n",
    "</p><pre><b>Input:</b> [3, 1, 4, 2]\n",
    "\n",
    "<b>Output:</b> True\n",
    "\n",
    "<b>Explanation:</b> There is a 132 pattern in the sequence: [1, 4, 2].\n",
    "</pre>\n",
    "<p></p>\n",
    "\n",
    "<p><b>Example 3:</b><br>\n",
    "</p><pre><b>Input:</b> [-1, 3, 2, 0]\n",
    "\n",
    "<b>Output:</b> True\n",
    "\n",
    "<b>Explanation:</b> There are three 132 patterns in the sequence: [-1, 3, 2], [-1, 3, 0] and [-1, 2, 0].\n",
    "</pre>\n",
    "<p></p></div>"
   ]
  },
  {
   "cell_type": "markdown",
   "metadata": {},
   "source": [
    "## Option 1\n",
    "<p>\n",
    "    <li>Brute Force\n",
    "<p>\n",
    "    <p>\n",
    "Time complexity: O(n^3)\n",
    "<br>\n",
    "Space complexity: O(1)\n"
   ]
  },
  {
   "cell_type": "code",
   "execution_count": null,
   "metadata": {},
   "outputs": [],
   "source": [
    "class Solution(object):\n",
    "    def find132pattern(self, nums):\n",
    "        ln = len(nums)\n",
    "        for i in range(ln):\n",
    "            for j in range(i+1,ln):\n",
    "                for k in range(j+1,ln):\n",
    "                    if nums[j] > nums[k] and nums[k] > nums[i]: return True\n",
    "        return False\n",
    "\n",
    "Solution().find132pattern([1, 2, 3, 4])"
   ]
  },
  {
   "cell_type": "markdown",
   "metadata": {},
   "source": [
    "#### Time Limit Exceeded"
   ]
  },
  {
   "cell_type": "markdown",
   "metadata": {},
   "source": [
    "## Option 2\n",
    "<p>\n",
    "    We can get rid of the i loop by keeping a min_i. As all solutions that work with the ith element will also work with the min(ith) element (incrementally) \n",
    "<p>\n",
    "    <p>\n",
    "Time complexity: O(n^3)\n",
    "<br>\n",
    "Space complexity: O(n)\n"
   ]
  },
  {
   "cell_type": "code",
   "execution_count": null,
   "metadata": {},
   "outputs": [],
   "source": [
    "class Solution(object):\n",
    "    def find132pattern(self, nums):\n",
    "        ln = len(nums)\n",
    "        min_i = float('inf')\n",
    "        for j in range(ln):\n",
    "            min_i = min(min_i, nums[j])\n",
    "            for k in range(j+1,ln):\n",
    "                if nums[j] > nums[k] and nums[k] > min_i: return True\n",
    "        return False\n",
    "\n",
    "Solution().find132pattern([-1, 3, 2, 0])"
   ]
  },
  {
   "cell_type": "markdown",
   "metadata": {},
   "source": [
    "#### Time Limit Exceeded"
   ]
  },
  {
   "cell_type": "markdown",
   "metadata": {},
   "source": [
    "## Option 3\n",
    "<p>\n",
    "    <p>\n",
    "We can use a stack\n",
    "    <li>Consider the sequence to be acb, where a < c < b\n",
    "    <li>We have some conditions:\n",
    "        <ul>\n",
    "            <li>(A) If we know a and c, then in order to find out b we must follow two conditions. b > a and b < c\n",
    "            <li>(B) If we know c and b, then in order to find out a we must follow one condition. a < b\n",
    "         </ul>\n",
    "    <li>Lets go for (B) as it has a single condition. In order for this to work, b has to be the highest value that is smaller than c. That way we have a wider range for a\n",
    "                                                     \n",
    "<p>\n",
    "    <p>\n",
    "Time complexity: O(n)\n",
    "<br>\n",
    "Space complexity: O(n)\n"
   ]
  },
  {
   "cell_type": "code",
   "execution_count": null,
   "metadata": {},
   "outputs": [],
   "source": [
    "class Solution(object):\n",
    "    def find132pattern(self, nums):\n",
    "        stack = []\n",
    "        c = None\n",
    "        for i in nums[::-1]:\n",
    "            if c and i < c:\n",
    "                return True\n",
    "            while stack and i > stack[-1]:\n",
    "                c = stack.pop()\n",
    "            stack.append(i)\n",
    "        return False\n",
    "            \n",
    "Solution().find132pattern([-1, 3, 2, 0])"
   ]
  },
  {
   "cell_type": "markdown",
   "metadata": {},
   "source": [
    "#### Result: 128ms (81.45%)"
   ]
  }
 ],
 "metadata": {
  "kernelspec": {
   "display_name": "Python 2",
   "language": "python",
   "name": "python2"
  },
  "language_info": {
   "codemirror_mode": {
    "name": "ipython",
    "version": 2
   },
   "file_extension": ".py",
   "mimetype": "text/x-python",
   "name": "python",
   "nbconvert_exporter": "python",
   "pygments_lexer": "ipython2",
   "version": "2.7.16"
  }
 },
 "nbformat": 4,
 "nbformat_minor": 2
}
