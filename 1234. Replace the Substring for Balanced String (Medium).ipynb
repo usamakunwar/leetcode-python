{
 "cells": [
  {
   "cell_type": "markdown",
   "metadata": {},
   "source": [
    "# 1234. Replace the Substring for Balanced String (Medium)\n"
   ]
  },
  {
   "cell_type": "markdown",
   "metadata": {},
   "source": [
    "<div><p>You are given a string containing only 4&nbsp;kinds of characters <code>'Q',</code> <code>'W', 'E'</code> and&nbsp;<code>'R'</code>.</p>\n",
    "\n",
    "<p>A string is said to be&nbsp;<strong>balanced</strong><em>&nbsp;</em>if each of its characters appears&nbsp;<code>n/4</code> times where <code>n</code> is the length of the string.</p>\n",
    "\n",
    "<p>Return the minimum length of the substring that can be replaced with <strong>any</strong> other string of the same length to make the original string <code>s</code>&nbsp;<strong>balanced</strong>.</p>\n",
    "\n",
    "<p>Return 0 if the string is already <strong>balanced</strong>.</p>\n",
    "\n",
    "<p>&nbsp;</p>\n",
    "<p><strong>Example 1:</strong></p>\n",
    "\n",
    "<pre><strong>Input:</strong> s = \"QWER\"\n",
    "<strong>Output:</strong> 0\n",
    "<strong>Explanation: </strong>s is already balanced.</pre>\n",
    "\n",
    "<p><strong>Example 2:</strong></p>\n",
    "\n",
    "<pre><strong>Input:</strong> s = \"QQWE\"\n",
    "<strong>Output:</strong> 1\n",
    "<strong>Explanation: </strong>We need to replace a 'Q' to 'R', so that \"RQWE\" (or \"QRWE\") is balanced.\n",
    "</pre>\n",
    "\n",
    "<p><strong>Example 3:</strong></p>\n",
    "\n",
    "<pre><strong>Input:</strong> s = \"QQQW\"\n",
    "<strong>Output:</strong> 2\n",
    "<strong>Explanation: </strong>We can replace the first \"QQ\" to \"ER\". \n",
    "</pre>\n",
    "\n",
    "<p><strong>Example 4:</strong></p>\n",
    "\n",
    "<pre><strong>Input:</strong> s = \"QQQQ\"\n",
    "<strong>Output:</strong> 3\n",
    "<strong>Explanation: </strong>We can replace the last 3 'Q' to make s = \"QWER\".\n",
    "</pre>\n",
    "\n",
    "<p>&nbsp;</p>\n",
    "<p><strong>Constraints:</strong></p>\n",
    "\n",
    "<ul>\n",
    "\t<li><code>1 &lt;= s.length &lt;= 10^5</code></li>\n",
    "\t<li><code>s.length</code> is a multiple of <code>4</code></li>\n",
    "\t<li><code>s&nbsp;</code>contains only <code>'Q'</code>, <code>'W'</code>, <code>'E'</code> and&nbsp;<code>'R'</code>.</li>\n",
    "</ul>\n",
    "</div>"
   ]
  },
  {
   "cell_type": "markdown",
   "metadata": {},
   "source": [
    "## Option 1\n",
    "\n",
    "<p>\n",
    "    Sliding Window\n",
    "<p>\n",
    "Time complexity: O(n)\n",
    "<br>\n",
    "Space complexity: O(1)"
   ]
  },
  {
   "cell_type": "code",
   "execution_count": null,
   "metadata": {
    "scrolled": false
   },
   "outputs": [],
   "source": [
    "import collections\n",
    "class Solution(object):\n",
    "    def balancedString(self, s):\n",
    "        c = collections.Counter(s)\n",
    "        left, res, qtr = 0, len(s), len(s)/4\n",
    "        if all(count <= qtr for count in c.values()): return 0\n",
    "        for i,v in enumerate(s):\n",
    "            c[v] -= 1\n",
    "            valid = all(count <= qtr for count in c.values())\n",
    "            if valid:\n",
    "                res = min(res, i-left+1)\n",
    "                while left < i and c[s[left]] < qtr:\n",
    "                    c[s[left]] += 1\n",
    "                    left += 1\n",
    "                    res = min(res, i-left+1)\n",
    "        return res\n",
    "\n",
    "        \n",
    "\n",
    "Solution().balancedString(\"WQWRQQQW\")"
   ]
  },
  {
   "cell_type": "markdown",
   "metadata": {},
   "source": [
    "#### Result: 412ms (64.29%)"
   ]
  }
 ],
 "metadata": {
  "kernelspec": {
   "display_name": "Python 2",
   "language": "python",
   "name": "python2"
  },
  "language_info": {
   "codemirror_mode": {
    "name": "ipython",
    "version": 2
   },
   "file_extension": ".py",
   "mimetype": "text/x-python",
   "name": "python",
   "nbconvert_exporter": "python",
   "pygments_lexer": "ipython2",
   "version": "2.7.16"
  }
 },
 "nbformat": 4,
 "nbformat_minor": 2
}
