{
 "cells": [
  {
   "cell_type": "markdown",
   "metadata": {},
   "source": [
    "# 677. Map Sum Pairs (Medium)\n",
    "\n"
   ]
  },
  {
   "cell_type": "markdown",
   "metadata": {},
   "source": [
    "<div><p>\n",
    "Implement a MapSum class with <code>insert</code>, and <code>sum</code> methods.\n",
    "</p>\n",
    "\n",
    "<p>\n",
    "For the method <code>insert</code>, you'll be given a pair of (string, integer). The string represents the key and the integer represents the value. If the key already existed, then the original key-value pair will be overridden to the new one.\n",
    "</p>\n",
    "\n",
    "<p>\n",
    "For the method <code>sum</code>, you'll be given a string representing the prefix, and you need to return the sum of all the pairs' value whose key starts with the prefix.\n",
    "</p>\n",
    "\n",
    "<p><b>Example 1:</b><br>\n",
    "</p><pre>Input: insert(\"apple\", 3), Output: Null\n",
    "Input: sum(\"ap\"), Output: 3\n",
    "Input: insert(\"app\", 2), Output: Null\n",
    "Input: sum(\"ap\"), Output: 5\n",
    "</pre>\n",
    "<p></p>\n",
    "</div>"
   ]
  },
  {
   "cell_type": "markdown",
   "metadata": {},
   "source": [
    "## Option 1\n",
    "\n",
    "Trie"
   ]
  },
  {
   "cell_type": "code",
   "execution_count": null,
   "metadata": {
    "scrolled": false
   },
   "outputs": [],
   "source": [
    "class Node(object):\n",
    "    def __init__(self):\n",
    "        self.children = collections.defaultdict(Node)\n",
    "        self.val = 0\n",
    "    \n",
    "class MapSum(object):\n",
    "    \n",
    "    def __init__(self):\n",
    "        self.root = Node()\n",
    "        self.v_map = collections.defaultdict(int)\n",
    "        \n",
    "    def insert(self, key, val):\n",
    "        val, self.v_map[key] = val-self.v_map[key], val\n",
    "        curr = self.root\n",
    "        for k in key:\n",
    "            curr.children[k].val += val\n",
    "            curr = curr.children[k]\n",
    "\n",
    "    def sum(self, prefix):\n",
    "        curr = self.root\n",
    "        for k in prefix:\n",
    "            curr = curr.children[k]\n",
    "        return curr.val\n"
   ]
  },
  {
   "cell_type": "markdown",
   "metadata": {},
   "source": [
    "#### Result: 12ms (97.86%)"
   ]
  }
 ],
 "metadata": {
  "kernelspec": {
   "display_name": "Python 2",
   "language": "python",
   "name": "python2"
  },
  "language_info": {
   "codemirror_mode": {
    "name": "ipython",
    "version": 2
   },
   "file_extension": ".py",
   "mimetype": "text/x-python",
   "name": "python",
   "nbconvert_exporter": "python",
   "pygments_lexer": "ipython2",
   "version": "2.7.16"
  }
 },
 "nbformat": 4,
 "nbformat_minor": 2
}
