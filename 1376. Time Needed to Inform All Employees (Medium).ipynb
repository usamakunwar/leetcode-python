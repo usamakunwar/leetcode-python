{
 "cells": [
  {
   "cell_type": "markdown",
   "metadata": {},
   "source": [
    "# 1376. Time Needed to Inform All Employees (Medium)\n"
   ]
  },
  {
   "cell_type": "markdown",
   "metadata": {},
   "source": [
    "<div><p>A company has <code>n</code> employees with a unique ID for each employee from <code>0</code> to <code>n - 1</code>. The head of the company has is the one with <code>headID</code>.</p>\n",
    "\n",
    "<p>Each employee has one&nbsp;direct manager given in the <code>manager</code> array where <code>manager[i]</code> is the direct manager of the <code>i-th</code> employee,&nbsp;<code>manager[headID] = -1</code>. Also it's guaranteed that the subordination relationships have a tree structure.</p>\n",
    "\n",
    "<p>The head of the company wants to inform all the employees of the company of an urgent piece of news. He will inform his direct subordinates and they will inform their subordinates and so on until all employees know about the urgent news.</p>\n",
    "\n",
    "<p>The <code>i-th</code> employee needs <code>informTime[i]</code> minutes to inform all of his direct subordinates (i.e After informTime[i] minutes, all his direct subordinates can start spreading the news).</p>\n",
    "\n",
    "<p>Return <em>the number of minutes</em> needed to inform all the employees about the urgent news.</p>\n",
    "\n",
    "<p>&nbsp;</p>\n",
    "<p><strong>Example 1:</strong></p>\n",
    "\n",
    "<pre><strong>Input:</strong> n = 1, headID = 0, manager = [-1], informTime = [0]\n",
    "<strong>Output:</strong> 0\n",
    "<strong>Explanation:</strong> The head of the company is the only employee in the company.\n",
    "</pre>\n",
    "\n",
    "<p><strong>Example 2:</strong></p>\n",
    "<img alt=\"\" src=\"https://assets.leetcode.com/uploads/2020/02/27/graph.png\" style=\"width: 404px; height: 174px;\">\n",
    "<pre><strong>Input:</strong> n = 6, headID = 2, manager = [2,2,-1,2,2,2], informTime = [0,0,1,0,0,0]\n",
    "<strong>Output:</strong> 1\n",
    "<strong>Explanation:</strong> The head of the company with id = 2 is the direct manager of all the employees in the company and needs 1 minute to inform them all.\n",
    "The tree structure of the employees in the company is shown.\n",
    "</pre>\n",
    "\n",
    "<p><strong>Example 3:</strong></p>\n",
    "<img alt=\"\" src=\"https://assets.leetcode.com/uploads/2020/02/28/1730_example_3_5.PNG\" style=\"width: 568px; height: 432px;\">\n",
    "<pre><strong>Input:</strong> n = 7, headID = 6, manager = [1,2,3,4,5,6,-1], informTime = [0,6,5,4,3,2,1]\n",
    "<strong>Output:</strong> 21\n",
    "<strong>Explanation:</strong> The head has id = 6. He will inform employee with id = 5 in 1 minute.\n",
    "The employee with id = 5 will inform the employee with id = 4 in 2 minutes.\n",
    "The employee with id = 4 will inform the employee with id = 3 in 3 minutes.\n",
    "The employee with id = 3 will inform the employee with id = 2 in 4 minutes.\n",
    "The employee with id = 2 will inform the employee with id = 1 in 5 minutes.\n",
    "The employee with id = 1 will inform the employee with id = 0 in 6 minutes.\n",
    "Needed time = 1 + 2 + 3 + 4 + 5 + 6 = 21.\n",
    "</pre>\n",
    "\n",
    "<p><strong>Example 4:</strong></p>\n",
    "\n",
    "<pre><strong>Input:</strong> n = 15, headID = 0, manager = [-1,0,0,1,1,2,2,3,3,4,4,5,5,6,6], informTime = [1,1,1,1,1,1,1,0,0,0,0,0,0,0,0]\n",
    "<strong>Output:</strong> 3\n",
    "<strong>Explanation:</strong> The first minute the head will inform employees 1 and 2.\n",
    "The second minute they will inform employees 3, 4, 5 and 6.\n",
    "The third minute they will inform the rest of employees.\n",
    "</pre>\n",
    "\n",
    "<p><strong>Example 5:</strong></p>\n",
    "\n",
    "<pre><strong>Input:</strong> n = 4, headID = 2, manager = [3,3,-1,2], informTime = [0,0,162,914]\n",
    "<strong>Output:</strong> 1076\n",
    "</pre>\n",
    "\n",
    "<p>&nbsp;</p>\n",
    "<p><strong>Constraints:</strong></p>\n",
    "\n",
    "<ul>\n",
    "\t<li><code>1 &lt;= n &lt;= 10^5</code></li>\n",
    "\t<li><code>0 &lt;= headID &lt; n</code></li>\n",
    "\t<li><code>manager.length == n</code></li>\n",
    "\t<li><code>0 &lt;= manager[i] &lt; n</code></li>\n",
    "\t<li><code>manager[headID] == -1</code></li>\n",
    "\t<li><code>informTime.length&nbsp;== n</code></li>\n",
    "\t<li><code>0 &lt;= informTime[i] &lt;= 1000</code></li>\n",
    "\t<li><code>informTime[i] == 0</code> if employee <code>i</code> has&nbsp;no subordinates.</li>\n",
    "\t<li>It is <strong>guaranteed</strong> that all the employees can be informed.</li>\n",
    "</ul>\n",
    "</div>"
   ]
  },
  {
   "cell_type": "markdown",
   "metadata": {},
   "source": [
    "## Option 1\n",
    "<p>DFS\n",
    "    <p>\n",
    "Time complexity: O(n)\n",
    "<br>\n",
    "Space complexity: O(n)"
   ]
  },
  {
   "cell_type": "code",
   "execution_count": null,
   "metadata": {},
   "outputs": [],
   "source": [
    "import collections\n",
    "class Solution(object):\n",
    "    def numOfMinutes(self, n, headID, manager, informTime):\n",
    "        m_map = collections.defaultdict(list)\n",
    "        for i,v in enumerate(manager): m_map[v].append(i)\n",
    "            \n",
    "        def search(id):\n",
    "            return informTime[id]+ max([search(employee) for employee in m_map[id]] or [0])        \n",
    "        return search(headID)\n",
    "\n",
    "        \n",
    "Solution().numOfMinutes(11, 4, [5,9,6,10,-1,8,9,1,9,3,4], [0,213,0,253,686,800,975,0,261,309,337])"
   ]
  },
  {
   "cell_type": "markdown",
   "metadata": {},
   "source": [
    "#### Result: 1472ms (60.25%)\n"
   ]
  }
 ],
 "metadata": {
  "kernelspec": {
   "display_name": "Python 2",
   "language": "python",
   "name": "python2"
  },
  "language_info": {
   "codemirror_mode": {
    "name": "ipython",
    "version": 2
   },
   "file_extension": ".py",
   "mimetype": "text/x-python",
   "name": "python",
   "nbconvert_exporter": "python",
   "pygments_lexer": "ipython2",
   "version": "2.7.16"
  }
 },
 "nbformat": 4,
 "nbformat_minor": 2
}
