{
 "cells": [
  {
   "cell_type": "markdown",
   "metadata": {},
   "source": [
    "# 947. Most Stones Removed with Same Row or Column (Medium)"
   ]
  },
  {
   "cell_type": "markdown",
   "metadata": {},
   "source": [
    "<div><p>On a 2D plane, we place stones at some integer coordinate points.&nbsp; Each coordinate point may have at most one stone.</p>\n",
    "\n",
    "<p>Now, a <em>move</em> consists of removing a stone&nbsp;that shares a column or row with another stone on the grid.</p>\n",
    "\n",
    "<p>What is the largest possible number of moves we can make?</p>\n",
    "\n",
    "<p>&nbsp;</p>\n",
    "\n",
    "<div>\n",
    "<p><strong>Example 1:</strong></p>\n",
    "\n",
    "<pre><strong>Input: </strong>stones = <span id=\"example-input-1-2\">[[0,0],[0,1],[1,0],[1,2],[2,1],[2,2]]</span>\n",
    "<strong>Output: </strong>5\n",
    "</pre>\n",
    "\n",
    "<div>\n",
    "<p><strong>Example 2:</strong></p>\n",
    "\n",
    "<pre><strong>Input: </strong>stones = <span id=\"example-input-2-2\">[[0,0],[0,2],[1,1],[2,0],[2,2]]</span>\n",
    "<strong>Output: </strong>3\n",
    "</pre>\n",
    "\n",
    "<div>\n",
    "<p><strong>Example 3:</strong></p>\n",
    "\n",
    "<pre><strong>Input: </strong>stones = <span id=\"example-input-3-2\">[[0,0]]</span>\n",
    "<strong>Output: </strong>0\n",
    "</pre>\n",
    "\n",
    "<p>&nbsp;</p>\n",
    "\n",
    "<p><strong><span>Note:</span></strong></p>\n",
    "\n",
    "<ol>\n",
    "\t<li><code>1 &lt;= stones.length &lt;= 1000</code></li>\n",
    "\t<li><code>0 &lt;= stones[i][j] &lt; 10000</code></li>\n",
    "</ol>\n",
    "</div>\n",
    "</div>\n",
    "</div>\n",
    "</div>"
   ]
  },
  {
   "cell_type": "markdown",
   "metadata": {},
   "source": [
    "## Option 1\n",
    "<p>\n",
    "    Union find\n",
    "    <p>\n",
    "    <li>The number of stones that can be removed is the number of stones in a nework - 1 (the last stone can't be removed)\n",
    "    <li>We have to union on the basis of rows and columns\n",
    "    <li>(1) Create edges between row / col => stone\n",
    "    <li>(2) Arr Start values at -1, which means a stone is the parent. Then -1 will accumulate union values. A positive value is a reference to parent index\n",
    "    <li>(3) Find() return index if < 0 as its a parent node\n",
    "    <li>(4) Do a union find, i.e. accummulate union values                       \n",
    "<p>\n",
    "    <p>\n",
    "Time complexity: O(n)\n",
    "    <br>\n",
    "Space complexity: O(n)\n"
   ]
  },
  {
   "cell_type": "code",
   "execution_count": null,
   "metadata": {},
   "outputs": [],
   "source": [
    "import collections\n",
    "class Solution(object):\n",
    "    def removeStones(self, stones):\n",
    "        rows = collections.defaultdict(list)\n",
    "        cols = collections.defaultdict(list)\n",
    "\n",
    "        for i,(r,c) in enumerate(stones):\n",
    "            rows[r].append(i)\n",
    "            cols[c].append(i)\n",
    "            \n",
    "        arr = [-1]*len(stones)\n",
    "        \n",
    "        def find(v):\n",
    "            if arr[v] < 0:\n",
    "                return v\n",
    "            arr[v] = find(arr[v])\n",
    "            return arr[v]\n",
    "        \n",
    "        for edges in rows.values() + cols.values():\n",
    "            for i in range(1,len(edges)):\n",
    "                find_u, find_v = find(edges[0]), find(edges[i])\n",
    "                if find_u != find_v:\n",
    "                    arr[find_u] += arr[find_v]\n",
    "                    arr[find_v] = find_u                 \n",
    "                    \n",
    "        return sum((i*-1)-1 for i in arr if i < 0)\n",
    "        \n",
    "        \n",
    "Solution().removeStones([[0,0],[0,1],[1,0],[1,2],[2,1],[2,2]])\n"
   ]
  },
  {
   "cell_type": "markdown",
   "metadata": {},
   "source": [
    "#### Result: 124ms (100.00%)"
   ]
  },
  {
   "cell_type": "markdown",
   "metadata": {},
   "source": [
    "## Option 1\n",
    "<p>\n",
    "    Union find\n",
    "    <p>\n",
    "    <li>Its cleaner to not track the size of each stone network during union find, we can instead just use a set at the end\n",
    "<p>\n",
    "    <p>\n",
    "Time complexity: O(n)\n",
    "    <br>\n",
    "Space complexity: O(n)\n"
   ]
  },
  {
   "cell_type": "code",
   "execution_count": null,
   "metadata": {},
   "outputs": [],
   "source": [
    "import collections\n",
    "class Solution(object):\n",
    "    def removeStones(self, stones):\n",
    "        rows = collections.defaultdict(list)\n",
    "        cols = collections.defaultdict(list)\n",
    "\n",
    "        for i,(r,c) in enumerate(stones):\n",
    "            rows[r].append(i)\n",
    "            cols[c].append(i)\n",
    "            \n",
    "        arr = range(len(stones))\n",
    "        \n",
    "        def find(v):\n",
    "            if arr[v] != v:\n",
    "                 arr[v] = find(arr[v])\n",
    "            return arr[v]\n",
    "        \n",
    "        for edges in rows.values() + cols.values():\n",
    "            for i in range(1,len(edges)):\n",
    "                arr[find(edges[i])] = find(edges[0]) \n",
    "                \n",
    "        return len(arr) - len(set(map(find,arr)))\n",
    "        \n",
    "Solution().removeStones([[0,1],[1,0],[1,1]])\n"
   ]
  },
  {
   "cell_type": "markdown",
   "metadata": {},
   "source": [
    "#### Result: 128ms (99.42%)"
   ]
  }
 ],
 "metadata": {
  "kernelspec": {
   "display_name": "Python 2",
   "language": "python",
   "name": "python2"
  },
  "language_info": {
   "codemirror_mode": {
    "name": "ipython",
    "version": 2
   },
   "file_extension": ".py",
   "mimetype": "text/x-python",
   "name": "python",
   "nbconvert_exporter": "python",
   "pygments_lexer": "ipython2",
   "version": "2.7.16"
  }
 },
 "nbformat": 4,
 "nbformat_minor": 2
}
