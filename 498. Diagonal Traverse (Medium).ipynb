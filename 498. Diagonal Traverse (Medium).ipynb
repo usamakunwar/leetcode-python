{
 "cells": [
  {
   "cell_type": "markdown",
   "metadata": {},
   "source": [
    "# 498. Diagonal Traverse (Medium)\n",
    "\n"
   ]
  },
  {
   "cell_type": "markdown",
   "metadata": {},
   "source": [
    "<div><p>Given a matrix of M x N elements (M rows, N columns), return all elements of the matrix in diagonal order as shown in the below image.</p>\n",
    "\n",
    "<p>&nbsp;</p>\n",
    "\n",
    "<p><b>Example:</b></p>\n",
    "\n",
    "<pre><b>Input:</b>\n",
    "[\n",
    " [ 1, 2, 3 ],\n",
    " [ 4, 5, 6 ],\n",
    " [ 7, 8, 9 ]\n",
    "]\n",
    "\n",
    "<b>Output:</b>  [1,2,4,7,5,3,6,8,9]\n",
    "\n",
    "<b>Explanation:</b>\n",
    "<img src=\"https://assets.leetcode.com/uploads/2018/10/12/diagonal_traverse.png\" style=\"width: 220px;\">\n",
    "</pre>\n",
    "\n",
    "<p>&nbsp;</p>\n",
    "\n",
    "<p><b>Note:</b></p>\n",
    "\n",
    "<p>The total number of elements of the given matrix will not exceed 10,000.</p>\n",
    "</div>"
   ]
  },
  {
   "cell_type": "markdown",
   "metadata": {},
   "source": [
    "## Option 1\n",
    "<p>\n",
    "    <li>Create the diagnols, first downwards then upwards. \n",
    "    <p>\n",
    "        <p>\n",
    "Time complexity: O(n)\n",
    "<br>\n",
    "Space complexity: O(n)"
   ]
  },
  {
   "cell_type": "code",
   "execution_count": null,
   "metadata": {},
   "outputs": [],
   "source": [
    "class Solution(object):\n",
    "    def findDiagonalOrder(self, matrix):\n",
    "        if not matrix: return []\n",
    "        li,lj = len(matrix),len(matrix[0])\n",
    "        diags = [[] for i in range(li+lj)]\n",
    "        \n",
    "        #Down diagnols, starting from j = 1\n",
    "        i,j = 0, 1\n",
    "        while i < li:\n",
    "            while j < lj:\n",
    "                diags[i+j].append(matrix[i][j])\n",
    "                j += 2\n",
    "            i += 1\n",
    "            #Switch every row, start either 0 or 1\n",
    "            j = not i%2\n",
    "        \n",
    "        #Up diagnols, start from j = 1. \n",
    "        #Exactly the same as above switching i with j\n",
    "        i,j = 0, 0\n",
    "        while j < lj:\n",
    "            while i < li:\n",
    "                diags[i+j].append(matrix[i][j])\n",
    "                i += 2\n",
    "            j += 1\n",
    "            #As we start at 0, its opposite of above\n",
    "            i = j%2   \n",
    "        \n",
    "        return reduce(lambda x,y:x+y ,diags)\n",
    "\n",
    "        \n",
    "Solution().findDiagonalOrder([[1,2,3,4], [5,6,7,8]])"
   ]
  },
  {
   "cell_type": "markdown",
   "metadata": {},
   "source": [
    "#### Result: 1368ms 5.03%)\n"
   ]
  },
  {
   "cell_type": "markdown",
   "metadata": {},
   "source": [
    "## Option 2\n",
    "<p>\n",
    "    <li>Reverse make diagnols\n",
    "    <p>\n",
    "        <p>\n",
    "Time complexity: O(n)\n",
    "<br>\n",
    "Space complexity: O(n)"
   ]
  },
  {
   "cell_type": "code",
   "execution_count": null,
   "metadata": {},
   "outputs": [],
   "source": [
    "class Solution(object):\n",
    "    def findDiagonalOrder(self, matrix):\n",
    "        if not matrix: return []\n",
    "        li,lj = len(matrix),len(matrix[0])\n",
    "        diags = [[] for i in range(li+lj)]\n",
    "        for i in range(li):\n",
    "            for j in range(lj):\n",
    "                if (i+j)%2:\n",
    "                    diags[i+j].append(matrix[i][j])\n",
    "                else:\n",
    "                    diags[i+j] = [matrix[i][j]] + diags[i+j]\n",
    "        return reduce(lambda x,y:x+y ,diags)\n",
    "\n",
    "        \n",
    "Solution().findDiagonalOrder([[1,2,3], [5,6,7], [5,6,7]])"
   ]
  },
  {
   "cell_type": "markdown",
   "metadata": {},
   "source": [
    "#### Result: 1384ms 5.03%)"
   ]
  }
 ],
 "metadata": {
  "kernelspec": {
   "display_name": "Python 2",
   "language": "python",
   "name": "python2"
  },
  "language_info": {
   "codemirror_mode": {
    "name": "ipython",
    "version": 2
   },
   "file_extension": ".py",
   "mimetype": "text/x-python",
   "name": "python",
   "nbconvert_exporter": "python",
   "pygments_lexer": "ipython2",
   "version": "2.7.16"
  }
 },
 "nbformat": 4,
 "nbformat_minor": 2
}
