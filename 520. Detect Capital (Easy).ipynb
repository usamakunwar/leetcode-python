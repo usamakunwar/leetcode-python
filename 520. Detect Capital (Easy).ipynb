{
 "cells": [
  {
   "cell_type": "markdown",
   "metadata": {},
   "source": [
    "# 520. Detect Capital (Easy)"
   ]
  },
  {
   "cell_type": "markdown",
   "metadata": {},
   "source": [
    "<div><p>Given a word, you need to judge whether the usage of capitals in it is right or not.</p>\n",
    "\n",
    "<p>We define the usage of capitals in a word to be right when one of the following cases holds:</p>\n",
    "\n",
    "<ol>\n",
    "\t<li>All letters in this word are capitals, like \"USA\".</li>\n",
    "\t<li>All letters in this word are not capitals, like \"leetcode\".</li>\n",
    "\t<li>Only the first letter in this word is capital, like \"Google\".</li>\n",
    "</ol>\n",
    "Otherwise, we define that this word doesn't use capitals in a right way.\n",
    "\n",
    "<p>&nbsp;</p>\n",
    "\n",
    "<p><b>Example 1:</b></p>\n",
    "\n",
    "<pre><b>Input:</b> \"USA\"\n",
    "<b>Output:</b> True\n",
    "</pre>\n",
    "\n",
    "<p>&nbsp;</p>\n",
    "\n",
    "<p><b>Example 2:</b></p>\n",
    "\n",
    "<pre><b>Input:</b> \"FlaG\"\n",
    "<b>Output:</b> False\n",
    "</pre>\n",
    "\n",
    "<p>&nbsp;</p>\n",
    "\n",
    "<p><b>Note:</b> The input will be a non-empty word consisting of uppercase and lowercase latin letters.</p>\n",
    "</div>"
   ]
  },
  {
   "cell_type": "markdown",
   "metadata": {},
   "source": [
    "## Option 1\n",
    "<p>\n",
    "Time complexity: O(n)\n",
    "<br>\n",
    "Space complexity: O(1)"
   ]
  },
  {
   "cell_type": "code",
   "execution_count": null,
   "metadata": {
    "scrolled": false
   },
   "outputs": [],
   "source": [
    "class Solution(object):\n",
    "    def detectCapitalUse(self, word):\n",
    "        caps = sum(map(lambda x: int(x.isupper()), word[1:]))\n",
    "        if not word or not caps or (word[0].isupper() and caps == len(word)-1) :\n",
    "            return True\n",
    "        return False\n",
    "    \n",
    "Solution().detectCapitalUse('Flag')"
   ]
  },
  {
   "cell_type": "markdown",
   "metadata": {},
   "source": [
    "#### Result: 20ms (44.87%)"
   ]
  },
  {
   "cell_type": "code",
   "execution_count": null,
   "metadata": {},
   "outputs": [],
   "source": [
    "class Solution(object):\n",
    "    def detectCapitalUse(self, word):\n",
    "        return word.isupper() or word.islower() or word.istitle()\n",
    "    \n",
    "Solution().detectCapitalUse('Flag')"
   ]
  },
  {
   "cell_type": "markdown",
   "metadata": {},
   "source": [
    "#### Result: 20ms (44.87%)"
   ]
  }
 ],
 "metadata": {
  "kernelspec": {
   "display_name": "Python 2",
   "language": "python",
   "name": "python2"
  },
  "language_info": {
   "codemirror_mode": {
    "name": "ipython",
    "version": 2
   },
   "file_extension": ".py",
   "mimetype": "text/x-python",
   "name": "python",
   "nbconvert_exporter": "python",
   "pygments_lexer": "ipython2",
   "version": "2.7.16"
  }
 },
 "nbformat": 4,
 "nbformat_minor": 2
}
