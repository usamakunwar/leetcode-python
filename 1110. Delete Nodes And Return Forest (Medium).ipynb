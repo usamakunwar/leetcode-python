{
 "cells": [
  {
   "cell_type": "markdown",
   "metadata": {},
   "source": [
    "# 1110. Delete Nodes And Return Forest (Medium)\n"
   ]
  },
  {
   "cell_type": "markdown",
   "metadata": {},
   "source": [
    "<div><p>Given the <code>root</code>&nbsp;of a binary tree, each node in the tree has a distinct value.</p>\n",
    "\n",
    "<p>After deleting&nbsp;all nodes with a value in <code>to_delete</code>, we are left with a forest (a&nbsp;disjoint union of trees).</p>\n",
    "\n",
    "<p>Return the roots of the trees in the remaining forest.&nbsp; You may return the result in any order.</p>\n",
    "\n",
    "<p>&nbsp;</p>\n",
    "<p><strong>Example 1:</strong></p>\n",
    "\n",
    "<p><strong><img alt=\"\" src=\"https://assets.leetcode.com/uploads/2019/07/01/screen-shot-2019-07-01-at-53836-pm.png\" style=\"width: 237px; height: 150px;\"></strong></p>\n",
    "\n",
    "<pre><strong>Input:</strong> root = [1,2,3,4,5,6,7], to_delete = [3,5]\n",
    "<strong>Output:</strong> [[1,2,null,4],[6],[7]]\n",
    "</pre>\n",
    "\n",
    "<p>&nbsp;</p>\n",
    "<p><strong>Constraints:</strong></p>\n",
    "\n",
    "<ul>\n",
    "\t<li>The number of nodes in the given tree is at most <code>1000</code>.</li>\n",
    "\t<li>Each node has a distinct value between <code>1</code> and <code>1000</code>.</li>\n",
    "\t<li><code>to_delete.length &lt;= 1000</code></li>\n",
    "\t<li><code>to_delete</code> contains distinct values between <code>1</code> and <code>1000</code>.</li>\n",
    "</ul></div>"
   ]
  },
  {
   "cell_type": "markdown",
   "metadata": {},
   "source": [
    "## Option 1\n",
    " <p>\n",
    "Time complexity: O(n)\n",
    "<br>\n",
    "Space complexity: O(n)"
   ]
  },
  {
   "cell_type": "code",
   "execution_count": null,
   "metadata": {},
   "outputs": [],
   "source": [
    "# Definition for a binary tree node.\n",
    "# class TreeNode(object):\n",
    "#     def __init__(self, x):\n",
    "#         self.val = x\n",
    "#         self.left = None\n",
    "#         self.right = None\n",
    "\n",
    "class Solution(object):\n",
    "    def delNodes(self, root, to_delete):\n",
    "        \"\"\"\n",
    "        :type root: TreeNode\n",
    "        :type to_delete: List[int]\n",
    "        :rtype: List[TreeNode]\n",
    "        \"\"\"\n",
    "        if not root: return []\n",
    "\n",
    "        self.res, to_delete = [], set(to_delete)\n",
    "        \n",
    "        def search(node):\n",
    "            node.left = search(node.left) if node.left else None\n",
    "            node.right = search(node.right) if node.right else None\n",
    "            \n",
    "            if node.val in to_delete:\n",
    "                if node.left: self.res.append(node.left)\n",
    "                if node.right: self.res.append(node.right)\n",
    "                return None\n",
    "            return node\n",
    "            \n",
    "        s = search(root)\n",
    "        if s: self.res.append(s)\n",
    "        \n",
    "        return self.res"
   ]
  },
  {
   "cell_type": "markdown",
   "metadata": {},
   "source": [
    "#### Result: 60ms (63.15%)\n"
   ]
  }
 ],
 "metadata": {
  "kernelspec": {
   "display_name": "Python 2",
   "language": "python",
   "name": "python2"
  },
  "language_info": {
   "codemirror_mode": {
    "name": "ipython",
    "version": 2
   },
   "file_extension": ".py",
   "mimetype": "text/x-python",
   "name": "python",
   "nbconvert_exporter": "python",
   "pygments_lexer": "ipython2",
   "version": "2.7.16"
  }
 },
 "nbformat": 4,
 "nbformat_minor": 2
}
