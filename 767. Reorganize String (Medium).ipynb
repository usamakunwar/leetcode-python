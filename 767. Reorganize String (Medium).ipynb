{
 "cells": [
  {
   "cell_type": "markdown",
   "metadata": {},
   "source": [
    "# 767. Reorganize String (Medium)"
   ]
  },
  {
   "cell_type": "markdown",
   "metadata": {},
   "source": [
    "<div><p>Given a string <code>S</code>, check if the letters can be rearranged so that two characters that are adjacent to each other are not the same.</p>\n",
    "\n",
    "<p>If possible, output any possible result.&nbsp; If not possible, return the empty string.</p>\n",
    "\n",
    "<p><strong>Example 1:</strong></p>\n",
    "\n",
    "<pre><strong>Input:</strong> S = \"aab\"\n",
    "<strong>Output:</strong> \"aba\"\n",
    "</pre>\n",
    "\n",
    "<p><strong>Example 2:</strong></p>\n",
    "\n",
    "<pre><strong>Input:</strong> S = \"aaab\"\n",
    "<strong>Output:</strong> \"\"\n",
    "</pre>\n",
    "\n",
    "<p><strong>Note:</strong></p>\n",
    "\n",
    "<ul>\n",
    "\t<li><code>S</code> will consist of lowercase letters and have length in range <code>[1, 500]</code>.</li>\n",
    "</ul>\n",
    "\n",
    "<p>&nbsp;</p>\n",
    "</div>"
   ]
  },
  {
   "cell_type": "markdown",
   "metadata": {},
   "source": [
    "## Option 1\n",
    "\n",
    "Time complexity = O(n)\n",
    "<br>\n",
    "Space complexity = O(n)"
   ]
  },
  {
   "cell_type": "code",
   "execution_count": null,
   "metadata": {
    "scrolled": false
   },
   "outputs": [],
   "source": [
    "import collections\n",
    "class Solution(object):\n",
    "    def reorganizeString(self, S):\n",
    "        ln,s = len(S),[]\n",
    "        counter, half = sorted([(v,i) for i,v in collections.Counter(S).items()]), (ln+1)/2\n",
    "        for c,v in counter:\n",
    "            if c > half: return ''\n",
    "            s.extend(v*c)\n",
    "        res = [None]*ln\n",
    "        res[::2], res[1::2] = s[ln/2:], s[:ln/2]\n",
    "        return ''.join(res)\n",
    "            \n",
    "Solution().reorganizeString(\"jsssddfofffffffjjokjo\")"
   ]
  },
  {
   "cell_type": "markdown",
   "metadata": {},
   "source": [
    "#### Result: 20ms (79.59%)"
   ]
  }
 ],
 "metadata": {
  "kernelspec": {
   "display_name": "Python 2",
   "language": "python",
   "name": "python2"
  },
  "language_info": {
   "codemirror_mode": {
    "name": "ipython",
    "version": 2
   },
   "file_extension": ".py",
   "mimetype": "text/x-python",
   "name": "python",
   "nbconvert_exporter": "python",
   "pygments_lexer": "ipython2",
   "version": "2.7.16"
  }
 },
 "nbformat": 4,
 "nbformat_minor": 2
}
