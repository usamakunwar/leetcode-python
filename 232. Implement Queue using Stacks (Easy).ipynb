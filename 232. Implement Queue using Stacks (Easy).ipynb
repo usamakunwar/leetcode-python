{
 "cells": [
  {
   "cell_type": "markdown",
   "metadata": {},
   "source": [
    "# 232. Implement Queue using Stacks (Easy)\n",
    "\n"
   ]
  },
  {
   "cell_type": "markdown",
   "metadata": {},
   "source": [
    "<div>\n",
    "<p><strong>Example 1:</strong></p>\n",
    "\n",
    "<pre><strong>Input: </strong>S = <span id=\"example-input-1-1\">\"ab#c\"</span>, T = <span id=\"example-input-1-2\">\"ad#c\"</span>\n",
    "<strong>Output: </strong><span id=\"example-output-1\">true\n",
    "</span><span><strong>Explanation</strong>: Both S and T become \"ac\".</span>\n",
    "</pre>\n",
    "\n",
    "<div>\n",
    "<p><strong>Example 2:</strong></p>\n",
    "\n",
    "<pre><strong>Input: </strong>S = <span id=\"example-input-2-1\">\"ab##\"</span>, T = <span id=\"example-input-2-2\">\"c#d#\"</span>\n",
    "<strong>Output: </strong><span id=\"example-output-2\">true\n",
    "</span><span><strong>Explanation</strong>: Both S and T become \"\".</span>\n",
    "</pre>\n",
    "\n",
    "<div>\n",
    "<p><strong>Example 3:</strong></p>\n",
    "\n",
    "<pre><strong>Input: </strong>S = <span id=\"example-input-3-1\">\"a##c\"</span>, T = <span id=\"example-input-3-2\">\"#a#c\"</span>\n",
    "<strong>Output: </strong><span id=\"example-output-3\">true\n",
    "</span><span><strong>Explanation</strong>: Both S and T become \"c\".</span>\n",
    "</pre>\n",
    "\n",
    "<div>\n",
    "<p><strong>Example 4:</strong></p>\n",
    "\n",
    "<pre><strong>Input: </strong>S = <span id=\"example-input-4-1\">\"a#c\"</span>, T = <span id=\"example-input-4-2\">\"b\"</span>\n",
    "<strong>Output: </strong><span id=\"example-output-4\">false\n",
    "</span><span><strong>Explanation</strong>: S becomes \"c\" while T becomes \"b\".</span>\n",
    "</pre>\n",
    "\n",
    "<p><span><strong>Note</strong>:</span></p>\n",
    "\n",
    "<ol>\n",
    "\t<li><code><span>1 &lt;= S.length &lt;= 200</span></code></li>\n",
    "\t<li><code><span>1 &lt;= T.length &lt;= 200</span></code></li>\n",
    "\t<li><span><code>S</code>&nbsp;and <code>T</code> only contain&nbsp;lowercase letters and <code>'#'</code> characters.</span></li>\n",
    "</ol>\n",
    "\n",
    "<p><strong>Follow up:</strong></p>\n",
    "\n",
    "<ul>\n",
    "\t<li>Can you solve it in <code>O(N)</code> time and <code>O(1)</code> space?</li>\n",
    "</ul>\n",
    "</div>\n",
    "</div>\n",
    "</div>\n",
    "</div>"
   ]
  },
  {
   "cell_type": "markdown",
   "metadata": {},
   "source": [
    "## Option 1\n",
    "\n",
    "Time complexity: Push O(n), Pop/Peek/Empty O(1)\n",
    "<br>\n",
    "Space complexity: O(n)\n"
   ]
  },
  {
   "cell_type": "code",
   "execution_count": null,
   "metadata": {
    "scrolled": false
   },
   "outputs": [],
   "source": [
    "class MyQueue(object):\n",
    "    def __init__(self):\n",
    "        self.stack = []\n",
    "\n",
    "    def push(self, x):\n",
    "        self.stack = [x] + self.stack\n",
    "\n",
    "    def pop(self):\n",
    "        return self.stack.pop()\n",
    "\n",
    "    def peek(self):\n",
    "        return self.stack[-1]\n",
    "    \n",
    "    def empty(self):\n",
    "        return not self.stack\n",
    "        "
   ]
  },
  {
   "cell_type": "markdown",
   "metadata": {},
   "source": [
    "#### Result: 30ms (38.52%)"
   ]
  },
  {
   "cell_type": "markdown",
   "metadata": {},
   "source": [
    "## Option 2\n",
    "\n",
    "The above Push has a linear time complexity due to the array rebuild/copy, to make this constant we can use two stacks. <br>Note that the worst case for Push is O(n)\n",
    "\n",
    "\n",
    "Time complexity: Push/Pop/Peek/Empty O(1)\n",
    "<br>\n",
    "Space complexity: O(n)\n"
   ]
  },
  {
   "cell_type": "code",
   "execution_count": null,
   "metadata": {},
   "outputs": [],
   "source": [
    "class MyQueue(object):\n",
    "    def __init__(self):\n",
    "        self.in_stack, self.out_stack = [],[]\n",
    "\n",
    "    def push(self, x):\n",
    "        self.in_stack.append(x)\n",
    "\n",
    "    def pop(self):\n",
    "        self.queue()\n",
    "        return self.out_stack.pop()\n",
    "\n",
    "    def peek(self):\n",
    "        self.queue()\n",
    "        return self.out_stack[-1]\n",
    "    \n",
    "    def empty(self):\n",
    "        return not (self.in_stack or self.out_stack)\n",
    "    \n",
    "    def queue(self):\n",
    "        if not self.out_stack:\n",
    "            while self.in_stack:\n",
    "                self.out_stack.append(self.in_stack.pop())"
   ]
  },
  {
   "cell_type": "markdown",
   "metadata": {},
   "source": [
    "#### Result: 16ms (69.04%)"
   ]
  }
 ],
 "metadata": {
  "kernelspec": {
   "display_name": "Python 2",
   "language": "python",
   "name": "python2"
  },
  "language_info": {
   "codemirror_mode": {
    "name": "ipython",
    "version": 2
   },
   "file_extension": ".py",
   "mimetype": "text/x-python",
   "name": "python",
   "nbconvert_exporter": "python",
   "pygments_lexer": "ipython2",
   "version": "2.7.16"
  }
 },
 "nbformat": 4,
 "nbformat_minor": 2
}
