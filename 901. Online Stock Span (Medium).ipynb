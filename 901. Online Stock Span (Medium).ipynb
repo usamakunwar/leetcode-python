{
 "cells": [
  {
   "cell_type": "markdown",
   "metadata": {},
   "source": [
    "# 901. Online Stock Span (Medium)"
   ]
  },
  {
   "cell_type": "markdown",
   "metadata": {},
   "source": [
    "<div><p>Write a class <code>StockSpanner</code> which collects daily price quotes for some stock, and returns the <em>span</em>&nbsp;of that stock's price for the current day.</p>\n",
    "\n",
    "<p>The span of the stock's price today&nbsp;is defined as the maximum number of consecutive days (starting from today and going backwards)&nbsp;for which the price of the stock was less than or equal to today's price.</p>\n",
    "\n",
    "<p>For example, if the price of a stock over the next 7 days were <code>[100, 80, 60, 70, 60, 75, 85]</code>, then the stock spans would be <code>[1, 1, 1, 2, 1, 4, 6]</code>.</p>\n",
    "\n",
    "<p>&nbsp;</p>\n",
    "\n",
    "<div>\n",
    "<p><strong>Example 1:</strong></p>\n",
    "\n",
    "<pre><strong>Input: </strong><span id=\"example-input-1-1\">[\"StockSpanner\",\"next\",\"next\",\"next\",\"next\",\"next\",\"next\",\"next\"]</span>, <span id=\"example-input-1-2\">[[],[100],[80],[60],[70],[60],[75],[85]]</span>\n",
    "<strong>Output: </strong><span id=\"example-output-1\">[null,1,1,1,2,1,4,6]</span>\n",
    "<strong>Explanation: </strong>\n",
    "First, S = StockSpanner() is initialized.  Then:\n",
    "S.next(100) is called and returns 1,\n",
    "S.next(80) is called and returns 1,\n",
    "S.next(60) is called and returns 1,\n",
    "S.next(70) is called and returns 2,\n",
    "S.next(60) is called and returns 1,\n",
    "S.next(75) is called and returns 4,\n",
    "S.next(85) is called and returns 6.\n",
    "\n",
    "Note that (for example) S.next(75) returned 4, because the last 4 prices\n",
    "(including today's price of 75) were less than or equal to today's price.\n",
    "</pre>\n",
    "\n",
    "<p>&nbsp;</p>\n",
    "\n",
    "<p><strong>Note:</strong></p>\n",
    "\n",
    "<ol>\n",
    "\t<li>Calls to <code>StockSpanner.next(int price)</code> will have <code>1 &lt;= price &lt;= 10^5</code>.</li>\n",
    "\t<li>There will be at most <code>10000</code> calls to <code>StockSpanner.next</code>&nbsp;per test case.</li>\n",
    "\t<li>There will be at most <code>150000</code> calls to <code>StockSpanner.next</code> across all test cases.</li>\n",
    "\t<li>The total&nbsp;time limit for this problem has been reduced by 75% for&nbsp;C++, and 50% for all other languages.</li>\n",
    "</ol>\n",
    "</div>\n",
    "</div>"
   ]
  },
  {
   "cell_type": "markdown",
   "metadata": {},
   "source": [
    "## Option 1\n",
    "\n",
    "Time complexity: O(n)\n",
    "<br>\n",
    "Space complexity: O(n)\n"
   ]
  },
  {
   "cell_type": "code",
   "execution_count": null,
   "metadata": {
    "scrolled": false
   },
   "outputs": [],
   "source": [
    "class StockSpanner(object):\n",
    "    def __init__(self):\n",
    "        self.stack = []\n",
    "\n",
    "    def next(self, price):\n",
    "        count = 1\n",
    "        while self.stack and self.stack[-1][0] <= price:\n",
    "            count += self.stack.pop()[1]\n",
    "        self.stack.append((price, count))\n",
    "        return count"
   ]
  },
  {
   "cell_type": "markdown",
   "metadata": {},
   "source": [
    "#### Result: 452ms (87.61%)"
   ]
  }
 ],
 "metadata": {
  "kernelspec": {
   "display_name": "Python 2",
   "language": "python",
   "name": "python2"
  },
  "language_info": {
   "codemirror_mode": {
    "name": "ipython",
    "version": 2
   },
   "file_extension": ".py",
   "mimetype": "text/x-python",
   "name": "python",
   "nbconvert_exporter": "python",
   "pygments_lexer": "ipython2",
   "version": "2.7.16"
  }
 },
 "nbformat": 4,
 "nbformat_minor": 2
}
