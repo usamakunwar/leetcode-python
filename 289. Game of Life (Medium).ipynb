{
 "cells": [
  {
   "cell_type": "markdown",
   "metadata": {},
   "source": [
    "# 289. Game of Life (Medium)"
   ]
  },
  {
   "cell_type": "markdown",
   "metadata": {},
   "source": [
    "<div><p>According to the <a href=\"https://en.wikipedia.org/wiki/Conway%27s_Game_of_Life\" target=\"_blank\">Wikipedia's article</a>: \"The <b>Game of Life</b>, also known simply as <b>Life</b>, is a cellular automaton devised by the British mathematician John Horton Conway in 1970.\"</p>\n",
    "\n",
    "<p>Given a <i>board</i> with <i>m</i> by <i>n</i> cells, each cell has an initial state <i>live</i> (1) or <i>dead</i> (0). Each cell interacts with its <a href=\"https://en.wikipedia.org/wiki/Moore_neighborhood\" target=\"_blank\">eight neighbors</a> (horizontal, vertical, diagonal) using the following four rules (taken from the above Wikipedia article):</p>\n",
    "\n",
    "<ol>\n",
    "\t<li>Any live cell with fewer than two live neighbors dies, as if caused by under-population.</li>\n",
    "\t<li>Any live cell with two or three live neighbors lives on to the next generation.</li>\n",
    "\t<li>Any live cell with more than three live neighbors dies, as if by over-population..</li>\n",
    "\t<li>Any dead cell with exactly three live neighbors becomes a live cell, as if by reproduction.</li>\n",
    "</ol>\n",
    "\n",
    "<p>Write a function to compute the next state (after one update) of the board given its current state.&nbsp;<span>The next state is created by applying the above rules simultaneously to every cell in the current state, where&nbsp;births and deaths occur simultaneously.</span></p>\n",
    "\n",
    "<p><strong>Example:</strong></p>\n",
    "\n",
    "<pre><strong>Input: \n",
    "</strong><span id=\"example-input-1-1\">[\n",
    "&nbsp; [0,1,0],\n",
    "&nbsp; [0,0,1],\n",
    "&nbsp; [1,1,1],\n",
    "&nbsp; [0,0,0]\n",
    "]</span>\n",
    "<strong>Output: \n",
    "</strong><span id=\"example-output-1\">[\n",
    "&nbsp; [0,0,0],\n",
    "&nbsp; [1,0,1],\n",
    "&nbsp; [0,1,1],\n",
    "&nbsp; [0,1,0]\n",
    "]</span>\n",
    "</pre>\n",
    "\n",
    "<p><b>Follow up</b>:</p>\n",
    "\n",
    "<ol>\n",
    "\t<li>Could you solve it in-place? Remember that the board needs to be updated at the same time: You cannot update some cells first and then use their updated values to update other cells.</li>\n",
    "\t<li>In this question, we represent the board using a 2D array. In principle, the board is infinite, which would cause problems when the active area encroaches the border of the array. How would you address these problems?</li>\n",
    "</ol>\n",
    "</div>"
   ]
  },
  {
   "cell_type": "markdown",
   "metadata": {},
   "source": [
    "## Option 1\n",
    "Iterate over all cells, creating a new state.\n",
    "<br>\n",
    "Time complexity = O(rC) rows*colums\n",
    "<br>\n",
    "Space complexity = O(rC) rows*columns\n"
   ]
  },
  {
   "cell_type": "code",
   "execution_count": 55,
   "metadata": {
    "scrolled": true
   },
   "outputs": [
    {
     "name": "stdout",
     "output_type": "stream",
     "text": [
      "[[0, 0, 0], [1, 0, 1], [0, 1, 1], [0, 1, 0]]\n"
     ]
    }
   ],
   "source": [
    "class Solution:\n",
    "    def gameOfLife(self, board: [[int]]) -> None:\n",
    "        new_state = []\n",
    "        \n",
    "        for i in range(len(board)):\n",
    "            for j in range(len(board[i])):\n",
    "                #check for living neighbours\n",
    "                living_neighbours = 0\n",
    "                if j > 0 : living_neighbours += board[i][j-1]\n",
    "                if j < (len(board[i])-1): living_neighbours += board[i][j+1]\n",
    "                if i > 0 : living_neighbours += board[i-1][j]\n",
    "                if i < (len(board)-1): living_neighbours += board[i+1][j]\n",
    "                \n",
    "                if j < (len(board[i])-1) and i > 0: living_neighbours += board[i-1][j+1]\n",
    "                if j < (len(board[i])-1) and i < (len(board)-1): living_neighbours += board[i+1][j+1]\n",
    "                if j > 0 and i < (len(board)-1): living_neighbours+= board[i+1][j-1]\n",
    "                if j > 0 and i > 0: living_neighbours += board[i-1][j-1]\n",
    "                \n",
    "                #apply conditions\n",
    "                new_value = board[i][j]\n",
    "                if board[i][j] == 1:\n",
    "                    if living_neighbours == 2 or living_neighbours == 3:\n",
    "                        new_value = 1\n",
    "                    else:\n",
    "                        new_value = 0\n",
    "                else:\n",
    "                    if living_neighbours == 3:\n",
    "                        new_value = 1\n",
    "                #update new state\n",
    "                if len(new_state) > i:\n",
    "                    if len(new_state[i]) > j:\n",
    "                        new_state[i][j] = new_value\n",
    "                    else:\n",
    "                        new_state[i].append(new_value)\n",
    "                else:\n",
    "                    new_state.append([new_value])\n",
    "         #Copy onto original board\n",
    "        for i in range(len(board)):\n",
    "            for j in range(len(board[i])):\n",
    "                board[i][j] = new_state[i][j]\n",
    "        \n",
    "        print(board)\n",
    "        \n",
    "Solution().gameOfLife([\n",
    "  [0,1,0],\n",
    "  [0,0,1],\n",
    "  [1,1,1],\n",
    "  [0,0,0]\n",
    "])"
   ]
  },
  {
   "cell_type": "markdown",
   "metadata": {},
   "source": [
    "#### Result:  Accepted\n",
    "#### Runtime: 32ms (86.24%)"
   ]
  },
  {
   "cell_type": "markdown",
   "metadata": {},
   "source": [
    "## Option 2\n",
    "\n",
    "The above has an unecessary space complexity of O(rC). We can actually edit the board in-place, by coding the changed values. So if we make a living cell dead, we use -1. And 2 a dead cell to living.\n",
    "Then at the end just go back to reset values\n",
    "\n",
    "Time complexity = O(rC)<br>\n",
    "Space complexity = O(1)"
   ]
  },
  {
   "cell_type": "code",
   "execution_count": 56,
   "metadata": {},
   "outputs": [],
   "source": [
    "class Solution:\n",
    "    def gameOfLife(self, board: [[int]]) -> None:\n",
    "        neighbours = [(0,-1), (0,1), (-1,0), (1,0), (-1,1), (1,1), (1,-1), (-1,-1)]\n",
    "        \n",
    "        for i in range(len(board)):\n",
    "            for j in range(len(board[i])):\n",
    "                #check for living neighbours\n",
    "                living_neighbours = 0\n",
    "                \n",
    "                for neighbour in neighbours:\n",
    "                    ni = i+neighbour[0]\n",
    "                    nj = j+neighbour[1]\n",
    "                    if ni >= 0 and nj >= 0 and ni < len(board) and nj < len(board[i]):\n",
    "                        if abs(board[ni][nj]) == 1: #checks for 1 and -1\n",
    "                            living_neighbours += 1\n",
    "                #apply conditions\n",
    "                if board[i][j] == 1:                    \n",
    "                    if living_neighbours != 2 and living_neighbours != 3:\n",
    "                        board[i][j] = -1\n",
    "                else:\n",
    "                    if living_neighbours == 3:\n",
    "                        board[i][j] = 2\n",
    "        \n",
    "        #Decode -1 and 2 values to 0 and 1\n",
    "        for i in range(len(board)):\n",
    "            for j in range(len(board[i])):\n",
    "                if board[i][j] == -1:\n",
    "                    board[i][j] = 0\n",
    "                elif board[i][j] == 2:\n",
    "                    board[i][j] = 1\n",
    "        \n",
    "Solution().gameOfLife([\n",
    "  [0,1,0],\n",
    "  [0,0,1],\n",
    "  [1,1,1],\n",
    "  [0,0,0]\n",
    "])"
   ]
  },
  {
   "cell_type": "markdown",
   "metadata": {},
   "source": [
    "#### Result:  Accepted\n",
    "#### Runtime: 28ms (95.12%)"
   ]
  }
 ],
 "metadata": {
  "kernelspec": {
   "display_name": "Python 3",
   "language": "python",
   "name": "python3"
  },
  "language_info": {
   "codemirror_mode": {
    "name": "ipython",
    "version": 3
   },
   "file_extension": ".py",
   "mimetype": "text/x-python",
   "name": "python",
   "nbconvert_exporter": "python",
   "pygments_lexer": "ipython3",
   "version": "3.7.4"
  }
 },
 "nbformat": 4,
 "nbformat_minor": 2
}
