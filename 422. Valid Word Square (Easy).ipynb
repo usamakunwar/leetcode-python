{
 "cells": [
  {
   "cell_type": "markdown",
   "metadata": {},
   "source": [
    "# 422. Valid Word Square (Easy)"
   ]
  },
  {
   "cell_type": "markdown",
   "metadata": {},
   "source": [
    "<div><p>Given a sequence of words, check whether it forms a valid word square.</p>\n",
    "\n",
    "<p>A sequence of words forms a valid word square if the <i>k</i><sup>th</sup> row and column read the exact same string, where 0 ≤ <i>k</i> &lt; max(numRows, numColumns).</p>\n",
    "\n",
    "<p><b>Note:</b><br>\n",
    "</p><ol>\n",
    "<li>The number of words given is at least 1 and does not exceed 500.</li>\n",
    "<li>Word length will be at least 1 and does not exceed 500.</li>\n",
    "<li>Each word contains only lowercase English alphabet <code>a-z</code>.</li>\n",
    "</ol>\n",
    "<p></p>\n",
    "\n",
    "<p><b>Example 1:</b>\n",
    "</p><pre><b>Input:</b>\n",
    "[\n",
    "  \"abcd\",\n",
    "  \"bnrt\",\n",
    "  \"crmy\",\n",
    "  \"dtye\"\n",
    "]\n",
    "\n",
    "<b>Output:</b>\n",
    "true\n",
    "\n",
    "<b>Explanation:</b>\n",
    "The first row and first column both read \"abcd\".\n",
    "The second row and second column both read \"bnrt\".\n",
    "The third row and third column both read \"crmy\".\n",
    "The fourth row and fourth column both read \"dtye\".\n",
    "\n",
    "Therefore, it is a valid word square.\n",
    "</pre>\n",
    "<p></p>\n",
    "\n",
    "<p><b>Example 2:</b>\n",
    "</p><pre><b>Input:</b>\n",
    "[\n",
    "  \"abcd\",\n",
    "  \"bnrt\",\n",
    "  \"crm\",\n",
    "  \"dt\"\n",
    "]\n",
    "\n",
    "<b>Output:</b>\n",
    "true\n",
    "\n",
    "<b>Explanation:</b>\n",
    "The first row and first column both read \"abcd\".\n",
    "The second row and second column both read \"bnrt\".\n",
    "The third row and third column both read \"crm\".\n",
    "The fourth row and fourth column both read \"dt\".\n",
    "\n",
    "Therefore, it is a valid word square.\n",
    "</pre>\n",
    "<p></p>\n",
    "\n",
    "<p><b>Example 3:</b>\n",
    "</p><pre><b>Input:</b>\n",
    "[\n",
    "  \"ball\",\n",
    "  \"area\",\n",
    "  \"read\",\n",
    "  \"lady\"\n",
    "]\n",
    "\n",
    "<b>Output:</b>\n",
    "false\n",
    "\n",
    "<b>Explanation:</b>\n",
    "The third row reads \"read\" while the third column reads \"lead\".\n",
    "\n",
    "Therefore, it is <b>NOT</b> a valid word square.\n",
    "</pre>\n",
    "<p></p></div>"
   ]
  },
  {
   "cell_type": "markdown",
   "metadata": {},
   "source": [
    "## Option 1\n",
    "<p>\n",
    "Time complexity: O(n)\n",
    "<br>\n",
    "Space complexity: O(1)"
   ]
  },
  {
   "cell_type": "code",
   "execution_count": null,
   "metadata": {
    "scrolled": false
   },
   "outputs": [],
   "source": [
    "class Solution(object):\n",
    "    def validWordSquare(self, words):\n",
    "        for i in range(len(words)):\n",
    "            for j in range(len(words[i])):\n",
    "                if j >= len(words) or i >= len(words[j]) or words[i][j] != words[j][i]:\n",
    "                    return False\n",
    "        return True"
   ]
  },
  {
   "cell_type": "markdown",
   "metadata": {},
   "source": [
    "#### Result: 64ms (53.01%)"
   ]
  }
 ],
 "metadata": {
  "kernelspec": {
   "display_name": "Python 2",
   "language": "python",
   "name": "python2"
  },
  "language_info": {
   "codemirror_mode": {
    "name": "ipython",
    "version": 2
   },
   "file_extension": ".py",
   "mimetype": "text/x-python",
   "name": "python",
   "nbconvert_exporter": "python",
   "pygments_lexer": "ipython2",
   "version": "2.7.16"
  }
 },
 "nbformat": 4,
 "nbformat_minor": 2
}
