{
 "cells": [
  {
   "cell_type": "markdown",
   "metadata": {},
   "source": [
    "# 1343. Number of Sub-arrays of Size K and Average Greater than or Equal to Threshold (Medium)\n"
   ]
  },
  {
   "cell_type": "markdown",
   "metadata": {},
   "source": [
    "<div><p>Given an array of integers <code>arr</code> and two integers <code>k</code> and <code>threshold</code>.</p>\n",
    "\n",
    "<p>Return <em>the number of sub-arrays</em> of size <code>k</code> and average greater than or equal to <code>threshold</code>.</p>\n",
    "\n",
    "<p>&nbsp;</p>\n",
    "<p><strong>Example 1:</strong></p>\n",
    "\n",
    "<pre><strong>Input:</strong> arr = [2,2,2,2,5,5,5,8], k = 3, threshold = 4\n",
    "<strong>Output:</strong> 3\n",
    "<strong>Explanation:</strong> Sub-arrays [2,5,5],[5,5,5] and [5,5,8] have averages 4, 5 and 6 respectively. All other sub-arrays of size 3 have averages less than 4 (the threshold).\n",
    "</pre>\n",
    "\n",
    "<p><strong>Example 2:</strong></p>\n",
    "\n",
    "<pre><strong>Input:</strong> arr = [1,1,1,1,1], k = 1, threshold = 0\n",
    "<strong>Output:</strong> 5\n",
    "</pre>\n",
    "\n",
    "<p><strong>Example 3:</strong></p>\n",
    "\n",
    "<pre><strong>Input:</strong> arr = [11,13,17,23,29,31,7,5,2,3], k = 3, threshold = 5\n",
    "<strong>Output:</strong> 6\n",
    "<strong>Explanation:</strong> The first 6 sub-arrays of size 3 have averages greater than 5. Note that averages are not integers.\n",
    "</pre>\n",
    "\n",
    "<p><strong>Example 4:</strong></p>\n",
    "\n",
    "<pre><strong>Input:</strong> arr = [7,7,7,7,7,7,7], k = 7, threshold = 7\n",
    "<strong>Output:</strong> 1\n",
    "</pre>\n",
    "\n",
    "<p><strong>Example 5:</strong></p>\n",
    "\n",
    "<pre><strong>Input:</strong> arr = [4,4,4,4], k = 4, threshold = 1\n",
    "<strong>Output:</strong> 1\n",
    "</pre>\n",
    "\n",
    "<p>&nbsp;</p>\n",
    "<p><strong>Constraints:</strong></p>\n",
    "\n",
    "<ul>\n",
    "\t<li><code>1 &lt;= arr.length &lt;= 10^5</code></li>\n",
    "\t<li><code>1 &lt;= arr[i] &lt;= 10^4</code></li>\n",
    "\t<li><code>1 &lt;= k &lt;= arr.length</code></li>\n",
    "\t<li><code>0 &lt;= threshold &lt;= 10^4</code></li>\n",
    "</ul></div>"
   ]
  },
  {
   "cell_type": "markdown",
   "metadata": {},
   "source": [
    "## Option 1\n",
    "\n",
    "<p>\n",
    "    Sliding window\n",
    "<p>\n",
    "Time complexity: O(n)\n",
    "<br>\n",
    "Space complexity: O(1)"
   ]
  },
  {
   "cell_type": "code",
   "execution_count": null,
   "metadata": {
    "scrolled": false
   },
   "outputs": [],
   "source": [
    "class Solution(object):\n",
    "    def numOfSubarrays(self, arr, k, threshold):\n",
    "        curr = float(sum(arr[:k]))/k\n",
    "        res = int(curr >= threshold)\n",
    "        for i in range(k,len(arr)):\n",
    "            curr = ((curr*k)-arr[i-k]+arr[i])/k \n",
    "            res += int(curr >= threshold)\n",
    "        return res\n",
    "    \n",
    "Solution().numOfSubarrays([11,13,17,23,29,31,7,5,2,3], 3, 5)"
   ]
  },
  {
   "cell_type": "markdown",
   "metadata": {},
   "source": [
    "#### Result: 596ms (48.46%)"
   ]
  },
  {
   "cell_type": "markdown",
   "metadata": {},
   "source": [
    "## Option 2\n",
    "\n",
    "<p>\n",
    "    Sliding window same as above, however curr does not need to hold average, the sum can be enough\n",
    "<p>\n",
    "Time complexity: O(n)\n",
    "<br>\n",
    "Space complexity: O(1)"
   ]
  },
  {
   "cell_type": "code",
   "execution_count": null,
   "metadata": {},
   "outputs": [],
   "source": [
    "class Solution(object):\n",
    "    def numOfSubarrays(self, arr, k, threshold):\n",
    "        curr = float(sum(arr[:k]))\n",
    "        res = int(curr/k >= threshold)\n",
    "        for i in range(k,len(arr)):\n",
    "            curr += arr[i]-arr[i-k]\n",
    "            res += int(curr/k >= threshold)\n",
    "        return res\n",
    "    \n",
    "Solution().numOfSubarrays([11,13,17,23,29,31,7,5,2,3], 3, 5)"
   ]
  },
  {
   "cell_type": "markdown",
   "metadata": {},
   "source": [
    "#### Result: 584ms (64.51%)"
   ]
  }
 ],
 "metadata": {
  "kernelspec": {
   "display_name": "Python 2",
   "language": "python",
   "name": "python2"
  },
  "language_info": {
   "codemirror_mode": {
    "name": "ipython",
    "version": 2
   },
   "file_extension": ".py",
   "mimetype": "text/x-python",
   "name": "python",
   "nbconvert_exporter": "python",
   "pygments_lexer": "ipython2",
   "version": "2.7.16"
  }
 },
 "nbformat": 4,
 "nbformat_minor": 2
}
