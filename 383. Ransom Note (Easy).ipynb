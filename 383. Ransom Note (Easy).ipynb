{
 "cells": [
  {
   "cell_type": "markdown",
   "metadata": {},
   "source": [
    "# 383. Ransom Note (Easy)"
   ]
  },
  {
   "cell_type": "markdown",
   "metadata": {},
   "source": [
    "<div><p>\n",
    "Given an arbitrary ransom note string and another string containing letters from all the magazines, write a function that will return true if the ransom \n",
    "note can be constructed from the magazines ; otherwise, it will return false. \n",
    "</p>\n",
    "<p>\n",
    "Each letter in the magazine string can only be used once in your ransom note.\n",
    "</p>\n",
    "\n",
    "<p><b>Note:</b><br>\n",
    "You may assume that both strings contain only lowercase letters.\n",
    "</p>\n",
    "\n",
    "<pre>canConstruct(\"a\", \"b\") -&gt; false\n",
    "canConstruct(\"aa\", \"ab\") -&gt; false\n",
    "canConstruct(\"aa\", \"aab\") -&gt; true\n",
    "</pre>\n",
    "</div>"
   ]
  },
  {
   "cell_type": "markdown",
   "metadata": {},
   "source": [
    "## Option 1\n",
    "<p>\n",
    "    Two Maps\n",
    "<p>\n",
    "Time complexity: O(n) ransomNote + magazine\n",
    "<br>\n",
    "Space complexity: O(1)"
   ]
  },
  {
   "cell_type": "code",
   "execution_count": null,
   "metadata": {
    "scrolled": false
   },
   "outputs": [],
   "source": [
    "class Solution(object):\n",
    "    def canConstruct(self, ransomNote, magazine):\n",
    "        m = collections.Counter(magazine)\n",
    "        return all(map(lambda (x,y): m[x] >= y, collections.Counter(ransomNote).items()))\n",
    "        #could be\n",
    "        #return not collections.Counter(ransomNote) - collections.Counter(magazine)"
   ]
  },
  {
   "cell_type": "markdown",
   "metadata": {},
   "source": [
    "#### Result: 100ms (41.79%)"
   ]
  },
  {
   "cell_type": "markdown",
   "metadata": {},
   "source": [
    "## Option 2\n",
    "<p>\n",
    "    Single Map\n",
    "<p>\n",
    "Time complexity: O(n) ransomNote + magazine\n",
    "<br>\n",
    "Space complexity: O(1)"
   ]
  },
  {
   "cell_type": "code",
   "execution_count": null,
   "metadata": {},
   "outputs": [],
   "source": [
    "class Solution(object):\n",
    "    def canConstruct(self, ransomNote, magazine):\n",
    "        m = collections.Counter(magazine)\n",
    "        for r in ransomNote:\n",
    "            m[r] -= 1\n",
    "            if m[r] < 0 : return False\n",
    "        return True"
   ]
  },
  {
   "cell_type": "markdown",
   "metadata": {},
   "source": [
    "#### Result: 100ms (41.79%)"
   ]
  }
 ],
 "metadata": {
  "kernelspec": {
   "display_name": "Python 2",
   "language": "python",
   "name": "python2"
  },
  "language_info": {
   "codemirror_mode": {
    "name": "ipython",
    "version": 2
   },
   "file_extension": ".py",
   "mimetype": "text/x-python",
   "name": "python",
   "nbconvert_exporter": "python",
   "pygments_lexer": "ipython2",
   "version": "2.7.16"
  }
 },
 "nbformat": 4,
 "nbformat_minor": 2
}
