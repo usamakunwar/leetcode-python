{
 "cells": [
  {
   "cell_type": "markdown",
   "metadata": {},
   "source": [
    "# 870. Advantage Shuffle (Medium)\n"
   ]
  },
  {
   "cell_type": "markdown",
   "metadata": {},
   "source": [
    "<div><p>Given two arrays <code>A</code> and <code>B</code> of equal size, the <em>advantage of <code>A</code> with respect to <code>B</code></em> is the number of indices <code>i</code>&nbsp;for which <code>A[i] &gt; B[i]</code>.</p>\n",
    "\n",
    "<p>Return <strong>any</strong> permutation of <code>A</code> that maximizes its advantage with respect to <code>B</code>.</p>\n",
    "\n",
    "<p>&nbsp;</p>\n",
    "\n",
    "<div>\n",
    "<p><strong>Example 1:</strong></p>\n",
    "\n",
    "<pre><strong>Input: </strong>A = <span id=\"example-input-1-1\">[2,7,11,15]</span>, B = <span id=\"example-input-1-2\">[1,10,4,11]</span>\n",
    "<strong>Output: </strong><span id=\"example-output-1\">[2,11,7,15]</span>\n",
    "</pre>\n",
    "\n",
    "<div>\n",
    "<p><strong>Example 2:</strong></p>\n",
    "\n",
    "<pre><strong>Input: </strong>A = <span id=\"example-input-2-1\">[12,24,8,32]</span>, B = <span id=\"example-input-2-2\">[13,25,32,11]</span>\n",
    "<strong>Output: </strong><span id=\"example-output-2\">[24,32,8,12]</span>\n",
    "</pre>\n",
    "\n",
    "<p>&nbsp;</p>\n",
    "\n",
    "<p><strong>Note:</strong></p>\n",
    "\n",
    "<ol>\n",
    "\t<li><code>1 &lt;= A.length = B.length &lt;= 10000</code></li>\n",
    "\t<li><code>0 &lt;= A[i] &lt;= 10^9</code></li>\n",
    "\t<li><code>0 &lt;= B[i] &lt;= 10^9</code></li>\n",
    "</ol>\n",
    "</div>\n",
    "</div>\n",
    "</div>"
   ]
  },
  {
   "cell_type": "markdown",
   "metadata": {},
   "source": [
    "## Option 1\n",
    "\n",
    "Sort A, then do a binary search for its permutation in B\n",
    "<p>\n",
    "Time complexity = O(nlogn)\n",
    "<br>\n",
    "Space complexity = O(1)"
   ]
  },
  {
   "cell_type": "code",
   "execution_count": null,
   "metadata": {
    "scrolled": true
   },
   "outputs": [],
   "source": [
    "class Solution(object):\n",
    "    def search(self, b):\n",
    "        left,right = 0, len(self.A)-1\n",
    "        while left < right:\n",
    "            mid = (left+right)//2\n",
    "            if self.A[mid] <= b:\n",
    "                left = mid + 1\n",
    "            else:\n",
    "                right = mid\n",
    "        left = left if self.A[left] > b else 0\n",
    "        val = self.A[left]\n",
    "        self.A = self.A[:left] + self.A[left+1:]\n",
    "        return val\n",
    "    def advantageCount(self, A: [int], B:[int]) -> [int]:\n",
    "        A.sort()\n",
    "        self.A = A\n",
    "        return [self.search(b) for b in B]\n",
    "\n",
    "Solution().advantageCount([2,0,4,1,2], [1,3,0,0,2])  "
   ]
  },
  {
   "cell_type": "markdown",
   "metadata": {},
   "source": [
    "#### Result:  Time Limit Exceeded"
   ]
  },
  {
   "cell_type": "markdown",
   "metadata": {},
   "source": [
    "## Option 2\n",
    "\n",
    "Binary search is not needed, instead sort A and B, then just use a map to keep a track of permutations\n",
    "<p>\n",
    "Time complexity = O(nlogn)\n",
    "<br>\n",
    "Space complexity = O(n)"
   ]
  },
  {
   "cell_type": "code",
   "execution_count": 61,
   "metadata": {},
   "outputs": [
    {
     "data": {
      "text/plain": [
       "[2, 0, 2, 1, 4]"
      ]
     },
     "execution_count": 61,
     "metadata": {},
     "output_type": "execute_result"
    }
   ],
   "source": [
    "import collections\n",
    "class Solution(object):\n",
    "    def advantageCount(self, A: [int], B:[int]) -> [int]:\n",
    "        A.sort()\n",
    "        sorted_B, map_B = sorted(B),collections.defaultdict(list)\n",
    "        for a in A:\n",
    "            if a > sorted_B[0]:\n",
    "                map_B[sorted_B[0]].append(a)\n",
    "                sorted_B = sorted_B[1:]\n",
    "            else:\n",
    "                map_B[sorted_B[-1]].append(a)\n",
    "                sorted_B.pop()\n",
    "        for i in range(len(B)): B[i] = map_B[B[i]].pop()\n",
    "        return B\n",
    "\n",
    "Solution().advantageCount([2,0,4,1,2], [1,3,0,0,2])"
   ]
  },
  {
   "cell_type": "markdown",
   "metadata": {},
   "source": [
    "#### Result:  2300ms (5.24%)"
   ]
  }
 ],
 "metadata": {
  "kernelspec": {
   "display_name": "Python 3",
   "language": "python",
   "name": "python3"
  },
  "language_info": {
   "codemirror_mode": {
    "name": "ipython",
    "version": 3
   },
   "file_extension": ".py",
   "mimetype": "text/x-python",
   "name": "python",
   "nbconvert_exporter": "python",
   "pygments_lexer": "ipython3",
   "version": "3.7.4"
  }
 },
 "nbformat": 4,
 "nbformat_minor": 2
}
