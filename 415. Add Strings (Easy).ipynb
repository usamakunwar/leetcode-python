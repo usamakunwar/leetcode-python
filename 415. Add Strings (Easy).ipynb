{
 "cells": [
  {
   "cell_type": "markdown",
   "metadata": {},
   "source": [
    "# 415. Add Strings (Easy)"
   ]
  },
  {
   "cell_type": "markdown",
   "metadata": {},
   "source": [
    "<div><p>Given two non-negative integers <code>num1</code> and <code>num2</code> represented as string, return the sum of <code>num1</code> and <code>num2</code>.</p>\n",
    "\n",
    "<p><b>Note:</b>\n",
    "</p><ol>\n",
    "<li>The length of both <code>num1</code> and <code>num2</code> is &lt; 5100.</li>\n",
    "<li>Both <code>num1</code> and <code>num2</code> contains only digits <code>0-9</code>.</li>\n",
    "<li>Both <code>num1</code> and <code>num2</code> does not contain any leading zero.</li>\n",
    "<li>You <b>must not use any built-in BigInteger library</b> or <b>convert the inputs to integer</b> directly.</li>\n",
    "</ol>\n",
    "<p></p></div>"
   ]
  },
  {
   "cell_type": "markdown",
   "metadata": {},
   "source": [
    "## Option 1\n",
    "Time complexity = O(n)\n",
    "<br>\n",
    "Space complexity = O(n)"
   ]
  },
  {
   "cell_type": "code",
   "execution_count": 22,
   "metadata": {
    "scrolled": true
   },
   "outputs": [
    {
     "data": {
      "text/plain": [
       "'1020'"
      ]
     },
     "execution_count": 22,
     "metadata": {},
     "output_type": "execute_result"
    }
   ],
   "source": [
    "import collections\n",
    "class Solution:\n",
    "    def addStrings(self, num1: str, num2: str) -> str:\n",
    "        num1 = num1[::-1]\n",
    "        num2 = num2[::-1]\n",
    "        carry = 0\n",
    "        total_sum = \"\"\n",
    "        \n",
    "        for i in range(max(len(num1),len(num2))):\n",
    "            a = num1[i] if i < len(num1) else 0\n",
    "            b = num2[i] if i < len(num2) else 0\n",
    "            total = int(a) + int(b) + carry \n",
    "            carry = 0\n",
    "            if total >= 10:\n",
    "                carry = 1\n",
    "                total = total - 10                \n",
    "            total_sum = str(total) + total_sum\n",
    "        \n",
    "        if carry > 0 :\n",
    "            total_sum = \"1\" + total_sum\n",
    "\n",
    "        return total_sum\n",
    "        \n",
    "Solution().addStrings(\"973\",\"47\")"
   ]
  },
  {
   "cell_type": "markdown",
   "metadata": {},
   "source": [
    "#### Result:  44ms (71.84%)"
   ]
  }
 ],
 "metadata": {
  "kernelspec": {
   "display_name": "Python 3",
   "language": "python",
   "name": "python3"
  },
  "language_info": {
   "codemirror_mode": {
    "name": "ipython",
    "version": 3
   },
   "file_extension": ".py",
   "mimetype": "text/x-python",
   "name": "python",
   "nbconvert_exporter": "python",
   "pygments_lexer": "ipython3",
   "version": "3.7.4"
  }
 },
 "nbformat": 4,
 "nbformat_minor": 2
}
