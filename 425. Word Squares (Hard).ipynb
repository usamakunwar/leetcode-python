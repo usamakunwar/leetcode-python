{
 "cells": [
  {
   "cell_type": "markdown",
   "metadata": {},
   "source": [
    "# 425. Word Squares (Hard)\n",
    "\n"
   ]
  },
  {
   "cell_type": "markdown",
   "metadata": {},
   "source": [
    "<div><p>Given a set of words <b>(without duplicates)</b>, find all <a href=\"https://en.wikipedia.org/wiki/Word_square\" target=\"_blank\">word squares</a> you can build from them.</p>\n",
    "\n",
    "<p>A sequence of words forms a valid word square if the <i>k</i><sup>th</sup> row and column read the exact same string, where 0 ≤ <i>k</i> &lt; max(numRows, numColumns).</p>\n",
    "\n",
    "<p>For example, the word sequence <code>[\"ball\",\"area\",\"lead\",\"lady\"]</code> forms a word square because each word reads the same both horizontally and vertically.</p>\n",
    "\n",
    "<pre>b a l l\n",
    "a r e a\n",
    "l e a d\n",
    "l a d y\n",
    "</pre>\n",
    "\n",
    "<p><b>Note:</b><br>\n",
    "</p><ol>\n",
    "<li>There are at least 1 and at most 1000 words.</li>\n",
    "<li>All words will have the exact same length.</li>\n",
    "<li>Word length is at least 1 and at most 5.</li>\n",
    "<li>Each word contains only lowercase English alphabet <code>a-z</code>.</li>\n",
    "</ol>\n",
    "<p></p>\n",
    "\n",
    "<p><b>Example 1:</b>\n",
    "</p><pre><b>Input:</b>\n",
    "[\"area\",\"lead\",\"wall\",\"lady\",\"ball\"]\n",
    "\n",
    "<b>Output:</b>\n",
    "[\n",
    "  [ \"wall\",\n",
    "    \"area\",\n",
    "    \"lead\",\n",
    "    \"lady\"\n",
    "  ],\n",
    "  [ \"ball\",\n",
    "    \"area\",\n",
    "    \"lead\",\n",
    "    \"lady\"\n",
    "  ]\n",
    "]\n",
    "\n",
    "<b>Explanation:</b>\n",
    "The output consists of two word squares. The order of output does not matter (just the order of words in each word square matters).\n",
    "</pre>\n",
    "<p></p>\n",
    "\n",
    "<p><b>Example 2:</b>\n",
    "</p><pre><b>Input:</b>\n",
    "[\"abat\",\"baba\",\"atan\",\"atal\"]\n",
    "\n",
    "<b>Output:</b>\n",
    "[\n",
    "  [ \"baba\",\n",
    "    \"abat\",\n",
    "    \"baba\",\n",
    "    \"atan\"\n",
    "  ],\n",
    "  [ \"baba\",\n",
    "    \"abat\",\n",
    "    \"baba\",\n",
    "    \"atal\"\n",
    "  ]\n",
    "]\n",
    "\n",
    "<b>Explanation:</b>\n",
    "The output consists of two word squares. The order of output does not matter (just the order of words in each word square matters).\n",
    "</pre>\n",
    "<p></p></div>"
   ]
  },
  {
   "cell_type": "markdown",
   "metadata": {},
   "source": [
    "## Option 1\n",
    "\n",
    "DFS + Backtrack"
   ]
  },
  {
   "cell_type": "code",
   "execution_count": null,
   "metadata": {
    "scrolled": false
   },
   "outputs": [],
   "source": [
    "import collections\n",
    "class Solution(object):\n",
    "    def wordSquares(self, words):\n",
    "        ln, w_map = len(words[0]), collections.defaultdict(list)\n",
    "        #Create a map of all prefixes, including ''\n",
    "        for w in words:\n",
    "            for i in range(ln): w_map[w[:i]].append(w)\n",
    "        def search(n,curr):\n",
    "            if n == ln :\n",
    "                return [curr]\n",
    "            res, prefix = [], ''\n",
    "            #Create the prefix needed to match (from cols)\n",
    "            for c in curr: prefix += c[n]\n",
    "            #Search all words that match the prefix\n",
    "            for w in w_map[prefix]:\n",
    "                res += search(n+1,curr+[w])\n",
    "            return res\n",
    "        return search(0,[])\n",
    "    \n",
    "Solution().wordSquares([\"abat\",\"baba\",\"atan\",\"atal\"])"
   ]
  },
  {
   "cell_type": "markdown",
   "metadata": {},
   "source": [
    "#### Result: 292ms (97.99%)"
   ]
  }
 ],
 "metadata": {
  "kernelspec": {
   "display_name": "Python 2",
   "language": "python",
   "name": "python2"
  },
  "language_info": {
   "codemirror_mode": {
    "name": "ipython",
    "version": 2
   },
   "file_extension": ".py",
   "mimetype": "text/x-python",
   "name": "python",
   "nbconvert_exporter": "python",
   "pygments_lexer": "ipython2",
   "version": "2.7.16"
  }
 },
 "nbformat": 4,
 "nbformat_minor": 2
}
