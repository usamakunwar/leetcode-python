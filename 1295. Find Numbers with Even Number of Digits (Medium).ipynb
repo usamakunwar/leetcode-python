{
 "cells": [
  {
   "cell_type": "markdown",
   "metadata": {},
   "source": [
    "# 1295. Find Numbers with Even Number of Digits (Medium)"
   ]
  },
  {
   "cell_type": "markdown",
   "metadata": {},
   "source": [
    "<div>Given an array <code>nums</code> of integers, return how many of them contain an <strong>even number</strong> of digits.\n",
    "<p>&nbsp;</p>\n",
    "<p><strong>Example 1:</strong></p>\n",
    "\n",
    "<pre><strong>Input:</strong> nums = [12,345,2,6,7896]\n",
    "<strong>Output:</strong> 2\n",
    "<strong>Explanation: \n",
    "</strong>12 contains 2 digits (even number of digits).&nbsp;\n",
    "345 contains 3 digits (odd number of digits).&nbsp;\n",
    "2 contains 1 digit (odd number of digits).&nbsp;\n",
    "6 contains 1 digit (odd number of digits).&nbsp;\n",
    "7896 contains 4 digits (even number of digits).&nbsp;\n",
    "Therefore only 12 and 7896 contain an even number of digits.\n",
    "</pre>\n",
    "\n",
    "<p><strong>Example 2:</strong></p>\n",
    "\n",
    "<pre><strong>Input:</strong> nums = [555,901,482,1771]\n",
    "<strong>Output:</strong> 1 \n",
    "<strong>Explanation: </strong>\n",
    "Only 1771 contains an even number of digits.\n",
    "</pre>\n",
    "\n",
    "<p>&nbsp;</p>\n",
    "<p><strong>Constraints:</strong></p>\n",
    "\n",
    "<ul>\n",
    "\t<li><code>1 &lt;= nums.length &lt;= 500</code></li>\n",
    "\t<li><code>1 &lt;= nums[i] &lt;= 10^5</code></li>\n",
    "</ul>\n",
    "</div>"
   ]
  },
  {
   "cell_type": "markdown",
   "metadata": {},
   "source": [
    "## Option 1\n",
    "<p>\n",
    "    Numeric\n",
    "<p>\n",
    "Time complexity: O(nlogd) d = digit lenght (base10)\n",
    "<br>\n",
    "Space complexity: O(1)"
   ]
  },
  {
   "cell_type": "code",
   "execution_count": null,
   "metadata": {
    "scrolled": true
   },
   "outputs": [],
   "source": [
    "class Solution(object):\n",
    "    def findNumbers(self, nums):\n",
    "        res = 0 \n",
    "        for i in nums:\n",
    "            dig = 0\n",
    "            while i > 0: \n",
    "                i = i/10\n",
    "                dig += 1\n",
    "            if not dig%2: res += 1\n",
    "        return res\n",
    "Solution().findNumbers([12,345,2,6,7896])\n"
   ]
  },
  {
   "cell_type": "markdown",
   "metadata": {},
   "source": [
    "#### Result: 48ms (20.64%)"
   ]
  },
  {
   "cell_type": "markdown",
   "metadata": {},
   "source": [
    "## Option 2\n",
    "<p>\n",
    "Time complexity: O(n)\n",
    "<br>\n",
    "Space complexity: O(n)"
   ]
  },
  {
   "cell_type": "code",
   "execution_count": null,
   "metadata": {},
   "outputs": [],
   "source": [
    "class Solution(object):\n",
    "    def findNumbers(self, nums):\n",
    "        return sum([1 if not len(str(i))%2 else 0 for i in nums])\n",
    "Solution().findNumbers([12,345,2,6,7896])\n"
   ]
  },
  {
   "cell_type": "markdown",
   "metadata": {},
   "source": [
    "#### Result: 40ms (65.00%)"
   ]
  }
 ],
 "metadata": {
  "kernelspec": {
   "display_name": "Python 2",
   "language": "python",
   "name": "python2"
  },
  "language_info": {
   "codemirror_mode": {
    "name": "ipython",
    "version": 2
   },
   "file_extension": ".py",
   "mimetype": "text/x-python",
   "name": "python",
   "nbconvert_exporter": "python",
   "pygments_lexer": "ipython2",
   "version": "2.7.16"
  }
 },
 "nbformat": 4,
 "nbformat_minor": 2
}
