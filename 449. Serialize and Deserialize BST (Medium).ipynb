{
 "cells": [
  {
   "cell_type": "markdown",
   "metadata": {},
   "source": [
    "# 449. Serialize and Deserialize BST (Medium)\n",
    "\n"
   ]
  },
  {
   "cell_type": "markdown",
   "metadata": {},
   "source": [
    "<div><p>Serialization is the process of converting a data structure or object into a sequence of bits so that it can be stored in a file or memory buffer, or transmitted across a network connection link to be reconstructed later in the same or another computer environment.</p>\n",
    "\n",
    "<p>Design an algorithm to serialize and deserialize a <b>binary search tree</b>. There is no restriction on how your serialization/deserialization algorithm should work. You just need to ensure that a binary search tree can be serialized to a string and this string can be deserialized to the original tree structure.</p>\n",
    "\n",
    "<p><b>The encoded string should be as compact as possible.</b></p>\n",
    "\n",
    "<p><b>Note:</b> Do not use class member/global/static variables to store states. Your serialize and deserialize algorithms should be stateless.</p>\n",
    "</div>"
   ]
  },
  {
   "cell_type": "markdown",
   "metadata": {},
   "source": [
    "## Option 1\n",
    "<p><p>\n",
    "    Pre order\n",
    "            <p>\n",
    "Time complexity: O(n)\n",
    "<br>\n",
    "Space complexity: O(n)"
   ]
  },
  {
   "cell_type": "code",
   "execution_count": null,
   "metadata": {},
   "outputs": [],
   "source": [
    "# Definition for a binary tree node.\n",
    "# class TreeNode(object):\n",
    "#     def __init__(self, x):\n",
    "#         self.val = x\n",
    "#         self.left = None\n",
    "#         self.right = None\n",
    "\n",
    "class Codec:\n",
    "\n",
    "    def serialize(self, root):\n",
    "        self.res = ''\n",
    "        if not root: return self.res\n",
    "        def preorder(node):\n",
    "            self.res += str(node.val)+' '\n",
    "            if node.left: preorder(node.left)\n",
    "            if node.right: preorder(node.right)                \n",
    "        preorder(root)\n",
    "        return strip(self.res)\n",
    "\n",
    "    def deserialize(self, data):\n",
    "        if not data: return None\n",
    "        self.i = 0\n",
    "        data = data.split(' ')\n",
    "        def create(bound):\n",
    "            node = TreeNode(int(data[self.i]))\n",
    "            self.i += 1\n",
    "            if self.i < len(data) and node.val > int(data[self.i]):\n",
    "                node.left = create(node.val)\n",
    "            if self.i < len(data) and int(data[self.i]) < bound:\n",
    "                node.right = create(bound)\n",
    "            return node\n",
    "        \n",
    "        return create(float('inf'))\n",
    "        \n",
    "        \n",
    "        \n",
    "\n",
    "# Your Codec object will be instantiated and called as such:\n",
    "# codec = Codec()\n",
    "# codec.deserialize(codec.serialize(root))"
   ]
  },
  {
   "cell_type": "markdown",
   "metadata": {},
   "source": [
    "#### Result: 80ms (41.93%)\n"
   ]
  }
 ],
 "metadata": {
  "kernelspec": {
   "display_name": "Python 2",
   "language": "python",
   "name": "python2"
  },
  "language_info": {
   "codemirror_mode": {
    "name": "ipython",
    "version": 2
   },
   "file_extension": ".py",
   "mimetype": "text/x-python",
   "name": "python",
   "nbconvert_exporter": "python",
   "pygments_lexer": "ipython2",
   "version": "2.7.16"
  }
 },
 "nbformat": 4,
 "nbformat_minor": 2
}
