{
 "cells": [
  {
   "cell_type": "markdown",
   "metadata": {},
   "source": [
    "# 1061. Lexicographically Smallest Equivalent String (Medium)"
   ]
  },
  {
   "cell_type": "markdown",
   "metadata": {},
   "source": [
    "<div><p>Given strings <code>A</code> and <code>B</code> of the same length, we say A[i] and B[i] are equivalent characters. For example, if <code>A = \"abc\"</code> and <code>B = \"cde\"</code>, then we have <code>'a' == 'c', 'b' == 'd', 'c' == 'e'</code>.</p>\n",
    "\n",
    "<p>Equivalent characters follow the usual rules of any equivalence relation:</p>\n",
    "\n",
    "<ul>\n",
    "\t<li>Reflexivity: 'a' == 'a'</li>\n",
    "\t<li>Symmetry: 'a' == 'b' implies 'b' == 'a'</li>\n",
    "\t<li>Transitivity: 'a' == 'b' and 'b' == 'c' implies 'a' == 'c'</li>\n",
    "</ul>\n",
    "\n",
    "<p>For example, given the equivalency information from <code>A</code> and <code>B</code> above, <code>S = \"eed\"</code>, <code>\"acd\"</code>, and <code>\"aab\"</code> are equivalent strings, and <code>\"aab\"</code> is the lexicographically smallest equivalent string of <code>S</code>.</p>\n",
    "\n",
    "<p>Return the lexicographically smallest equivalent string of <code>S</code> by using the equivalency information from <code>A</code> and <code>B</code>.</p>\n",
    "\n",
    "<p>&nbsp;</p>\n",
    "\n",
    "<p><strong>Example 1:</strong></p>\n",
    "\n",
    "<pre><strong>Input: </strong>A = <span id=\"example-input-1-1\">\"parker\"</span>, B = <span id=\"example-input-1-2\">\"morris\"</span>, S = <span id=\"example-input-1-3\">\"parser\"</span>\n",
    "<strong>Output: </strong><span id=\"example-output-1\">\"makkek\"</span>\n",
    "<strong>Explanation:</strong> Based on the equivalency information in <code>A</code> and <code>B</code>, we can group their characters as <code>[m,p]</code>, <code>[a,o]</code>, <code>[k,r,s]</code>, <code>[e,i]</code>. The characters in each group are equivalent and sorted in lexicographical order. So the answer is <code>\"makkek\"</code>.\n",
    "</pre>\n",
    "\n",
    "<p><strong>Example 2:</strong></p>\n",
    "\n",
    "<pre><strong>Input: </strong>A = <span id=\"example-input-2-1\">\"hello\"</span>, B = <span id=\"example-input-2-2\">\"world\"</span>, S = <span id=\"example-input-2-3\">\"hold\"</span>\n",
    "<strong>Output: </strong><span id=\"example-output-2\">\"hdld\"</span>\n",
    "<strong>Explanation: </strong> Based on the equivalency information in <code>A</code> and <code>B</code>, we can group their characters as <code>[h,w]</code>, <code>[d,e,o]</code>, <code>[l,r]</code>. So only the second letter <code>'o'</code> in <code>S</code> is changed to <code>'d'</code>, the answer is <code>\"hdld\"</code>.\n",
    "</pre>\n",
    "\n",
    "<p><strong>Example 3:</strong></p>\n",
    "\n",
    "<pre><strong>Input: </strong>A = <span id=\"example-input-3-1\">\"leetcode\"</span>, B = <span id=\"example-input-3-2\">\"programs\"</span>, S = <span id=\"example-input-3-3\">\"sourcecode\"</span>\n",
    "<strong>Output: </strong><span id=\"example-output-3\">\"aauaaaaada\"</span>\n",
    "<strong>Explanation: </strong> We group the equivalent characters in <code>A</code> and <code>B</code> as <code>[a,o,e,r,s,c]</code>, <code>[l,p]</code>, <code>[g,t]</code> and <code>[d,m]</code>, thus all letters in <code>S</code> except <code>'u'</code> and <code>'d'</code> are transformed to <code>'a'</code>, the answer is <code>\"aauaaaaada\"</code>.\n",
    "</pre>\n",
    "\n",
    "<p>&nbsp;</p>\n",
    "\n",
    "<p><strong>Note:</strong></p>\n",
    "\n",
    "<ol>\n",
    "\t<li>String <code>A</code>, <code>B</code> and <code>S</code> consist of only lowercase English letters from <code>'a'</code> - <code>'z'</code>.</li>\n",
    "\t<li>The lengths of string <code>A</code>, <code>B</code> and <code>S</code> are between <code>1</code> and <code>1000</code>.</li>\n",
    "\t<li>String <code>A</code> and <code>B</code> are of the same length.</li>\n",
    "</ol></div>"
   ]
  },
  {
   "cell_type": "markdown",
   "metadata": {},
   "source": [
    "## Option 1\n",
    " <p>\n",
    "    <p>\n",
    "        <p>\n",
    "Time complexity: O(n)\n",
    "    <br>\n",
    "Space complexity: O(n) \n"
   ]
  },
  {
   "cell_type": "code",
   "execution_count": null,
   "metadata": {},
   "outputs": [],
   "source": [
    "class Solution(object):\n",
    "    def smallestEquivalentString(self, A, B, S):\n",
    "        arr = range(26)\n",
    "        \n",
    "        def find(v):\n",
    "            if arr[v] != v:\n",
    "                arr[v] = find(arr[v])\n",
    "            return arr[v]\n",
    "                \n",
    "        for i in range(len(A)):\n",
    "            u,v = ord(A[i])-ord('a'), ord(B[i])-ord('a')\n",
    "            find_u, find_v = find(u), find(v)\n",
    "            #Union\n",
    "            arr[max(find_u,find_v)] = min(find_u,find_v)\n",
    "\n",
    "        arr = map(find,arr)\n",
    "\n",
    "        return ''.join(chr(arr[ord(s)-ord('a')]+ord('a')) for s in S)\n",
    "        \n",
    "Solution().smallestEquivalentString(\n",
    "\"dfeffdfafbbebbebacbbdfcfdbcacdcbeeffdfebbdebbdafff\",\n",
    "\"adcdfabadbeeafeabbadcefcaabdecabfecffbabbfcdfcaaae\",\n",
    "\"myickvflcpfyqievitqtwvfpsrxigauvlqdtqhpfugguwfcpqv\")        \n"
   ]
  },
  {
   "cell_type": "markdown",
   "metadata": {},
   "source": [
    "\n",
    "#### Result: 16ms (96.15%)"
   ]
  }
 ],
 "metadata": {
  "kernelspec": {
   "display_name": "Python 2",
   "language": "python",
   "name": "python2"
  },
  "language_info": {
   "codemirror_mode": {
    "name": "ipython",
    "version": 2
   },
   "file_extension": ".py",
   "mimetype": "text/x-python",
   "name": "python",
   "nbconvert_exporter": "python",
   "pygments_lexer": "ipython2",
   "version": "2.7.16"
  }
 },
 "nbformat": 4,
 "nbformat_minor": 2
}
