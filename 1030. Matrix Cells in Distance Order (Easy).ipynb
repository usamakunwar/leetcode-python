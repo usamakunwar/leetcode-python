{
 "cells": [
  {
   "cell_type": "markdown",
   "metadata": {},
   "source": [
    "# 1030. Matrix Cells in Distance Order (Easy)"
   ]
  },
  {
   "cell_type": "markdown",
   "metadata": {},
   "source": [
    "<div><p>We are given a matrix with <code>R</code> rows and <code>C</code> columns has cells with integer coordinates&nbsp;<code>(r, c)</code>, where <code>0 &lt;= r &lt; R</code> and <code>0 &lt;= c &lt; C</code>.</p>\n",
    "\n",
    "<p>Additionally, we are given a cell in that matrix with coordinates&nbsp;<code>(r0, c0)</code>.</p>\n",
    "\n",
    "<p>Return the coordinates of&nbsp;all cells in the matrix, sorted by their distance from <code>(r0, c0)</code>&nbsp;from smallest distance to largest distance.&nbsp; Here,&nbsp;the distance between two cells <code>(r1, c1)</code> and <code>(r2, c2)</code> is the Manhattan distance,&nbsp;<code>|r1 - r2| + |c1 - c2|</code>.&nbsp; (You may return the answer in any order that satisfies this condition.)</p>\n",
    "\n",
    "<p>&nbsp;</p>\n",
    "\n",
    "<div>\n",
    "<p><strong>Example 1:</strong></p>\n",
    "\n",
    "<pre><strong>Input: </strong>R = <span id=\"example-input-1-1\">1</span>, C = <span id=\"example-input-1-2\">2</span>, r0 = <span id=\"example-input-1-3\">0</span>, c0 = <span id=\"example-input-1-4\">0</span>\n",
    "<strong>Output: </strong><span id=\"example-output-1\">[[0,0],[0,1]]\n",
    "<strong>Explanation:</strong> The distances from (r0, c0) to other cells are: [0,1]</span>\n",
    "</pre>\n",
    "\n",
    "<div>\n",
    "<p><strong>Example 2:</strong></p>\n",
    "\n",
    "<pre><strong>Input: </strong>R = <span id=\"example-input-2-1\">2</span>, C = <span id=\"example-input-2-2\">2</span>, r0 = <span id=\"example-input-2-3\">0</span>, c0 = <span id=\"example-input-2-4\">1</span>\n",
    "<strong>Output: </strong><span id=\"example-output-2\">[[0,1],[0,0],[1,1],[1,0]]\n",
    "</span><span id=\"example-output-1\"><strong>Explanation:</strong> The distances from (r0, c0) to other cells are:</span><span> [0,1,1,2]</span>\n",
    "The answer [[0,1],[1,1],[0,0],[1,0]] would also be accepted as correct.\n",
    "</pre>\n",
    "\n",
    "<div>\n",
    "<p><strong>Example 3:</strong></p>\n",
    "\n",
    "<pre><strong>Input: </strong>R = <span id=\"example-input-3-1\">2</span>, C = <span id=\"example-input-3-2\">3</span>, r0 = <span id=\"example-input-3-3\">1</span>, c0 = <span id=\"example-input-3-4\">2</span>\n",
    "<strong>Output: </strong><span id=\"example-output-3\">[[1,2],[0,2],[1,1],[0,1],[1,0],[0,0]]</span>\n",
    "<span id=\"example-output-1\"><strong>Explanation:</strong> The distances from (r0, c0) to other cells are:</span><span> [0,1,1,2,2,3]</span>\n",
    "There are other answers that would also be accepted as correct, such as [[1,2],[1,1],[0,2],[1,0],[0,1],[0,0]].\n",
    "</pre>\n",
    "\n",
    "<p>&nbsp;</p>\n",
    "\n",
    "<p><strong><span>Note:</span></strong></p>\n",
    "\n",
    "<ol>\n",
    "\t<li><code>1 &lt;= R &lt;= 100</code></li>\n",
    "\t<li><code>1 &lt;= C &lt;= 100</code></li>\n",
    "\t<li><code>0 &lt;= r0 &lt; R</code></li>\n",
    "\t<li><code>0 &lt;= c0 &lt; C</code></li>\n",
    "</ol>\n",
    "</div>\n",
    "</div>\n",
    "</div>\n",
    "</div>"
   ]
  },
  {
   "cell_type": "markdown",
   "metadata": {},
   "source": [
    "## Option 1\n",
    "<p>\n",
    "  <p>BFS\n",
    "      <p>\n",
    "Time complexity: O(n)\n",
    "<br>\n",
    "Space complexity: O(n)"
   ]
  },
  {
   "cell_type": "code",
   "execution_count": null,
   "metadata": {
    "scrolled": false
   },
   "outputs": [],
   "source": [
    "import collections\n",
    "class Solution(object):\n",
    "    def allCellsDistOrder(self, R, C, r0, c0):\n",
    "        q = collections.deque()\n",
    "        q.append((r0,c0))\n",
    "        res,seen = [],set([(r0,c0)])\n",
    "        while q:\n",
    "            i,j = q.popleft()\n",
    "            res.append([i,j])\n",
    "            for ni,nj in ((i+1,j),(i-1,j),(i,j+1),(i,j-1)):\n",
    "                if ni >= 0 and ni < R and nj >= 0 and nj < C and (ni,nj) not in seen:\n",
    "                    seen.add((ni,nj))\n",
    "                    q.append((ni,nj))\n",
    "        return res\n",
    "            \n",
    "            \n",
    "Solution().allCellsDistOrder(2,3,1,2)"
   ]
  },
  {
   "cell_type": "markdown",
   "metadata": {},
   "source": [
    "#### Result: 200ms (28.78%)"
   ]
  },
  {
   "cell_type": "markdown",
   "metadata": {},
   "source": [
    "## Option 2\n",
    "<p>\n",
    "  <p>We could just group the results by distance, then put them together\n",
    "      <p>\n",
    "Time complexity: O(n)\n",
    "<br>\n",
    "Space complexity: O(n)"
   ]
  },
  {
   "cell_type": "code",
   "execution_count": null,
   "metadata": {},
   "outputs": [],
   "source": [
    "import collections\n",
    "class Solution(object):\n",
    "    def allCellsDistOrder(self, R, C, r0, c0):\n",
    "        arr = [[]*i for i in range(R+C)]\n",
    "        for i in range(R):\n",
    "            for j in range(C):\n",
    "                arr[abs(i-r0)+abs(j-c0)].append([i,j])\n",
    "        res = []\n",
    "        for r in arr: res += r\n",
    "        return res\n",
    "            \n",
    "Solution().allCellsDistOrder(2,3,1,2)"
   ]
  },
  {
   "cell_type": "markdown",
   "metadata": {},
   "source": [
    "#### Result: 136ms (94.96%)\n"
   ]
  }
 ],
 "metadata": {
  "kernelspec": {
   "display_name": "Python 2",
   "language": "python",
   "name": "python2"
  },
  "language_info": {
   "codemirror_mode": {
    "name": "ipython",
    "version": 2
   },
   "file_extension": ".py",
   "mimetype": "text/x-python",
   "name": "python",
   "nbconvert_exporter": "python",
   "pygments_lexer": "ipython2",
   "version": "2.7.16"
  }
 },
 "nbformat": 4,
 "nbformat_minor": 2
}
