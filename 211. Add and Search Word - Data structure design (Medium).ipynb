{
 "cells": [
  {
   "cell_type": "markdown",
   "metadata": {},
   "source": [
    "# 211. Add and Search Word - Data structure design (Medium)"
   ]
  },
  {
   "cell_type": "markdown",
   "metadata": {},
   "source": [
    "<div><p>Design a data structure that supports the following two operations:</p>\n",
    "\n",
    "<pre>void addWord(word)\n",
    "bool search(word)\n",
    "</pre>\n",
    "\n",
    "<p>search(word) can search a literal word or a regular expression string containing only letters <code>a-z</code> or <code>.</code>. A <code>.</code> means it can represent any one letter.</p>\n",
    "\n",
    "<p><strong>Example:</strong></p>\n",
    "\n",
    "<pre>addWord(\"bad\")\n",
    "addWord(\"dad\")\n",
    "addWord(\"mad\")\n",
    "search(\"pad\") -&gt; false\n",
    "search(\"bad\") -&gt; true\n",
    "search(\".ad\") -&gt; true\n",
    "search(\"b..\") -&gt; true\n",
    "</pre>\n",
    "\n",
    "<p><b>Note:</b><br>\n",
    "You may assume that all words are consist of lowercase letters <code>a-z</code>.</p>\n",
    "</div>"
   ]
  },
  {
   "cell_type": "markdown",
   "metadata": {},
   "source": [
    "## Option 1\n",
    " <p>\n",
    "    Trie\n",
    "<p>\n",
    "    <li>Iterate wildcard over trie\n",
    "    <p>\n",
    "        <p>\n",
    "Time complexity: O(n) total number of characters\n",
    "    <br>\n",
    "Space complexity: O(n)\n"
   ]
  },
  {
   "cell_type": "code",
   "execution_count": null,
   "metadata": {},
   "outputs": [],
   "source": [
    "class Trie(object):\n",
    "    def __init__(self):\n",
    "        self.children = collections.defaultdict(Trie)\n",
    "        self.is_word = False\n",
    "\n",
    "class WordDictionary(object):\n",
    "\n",
    "    def __init__(self):\n",
    "        self.trie = Trie()\n",
    "\n",
    "    def addWord(self, word):\n",
    "        curr = self.trie\n",
    "        for ch in word:\n",
    "            curr = curr.children[ch]            \n",
    "        curr.is_word = True\n",
    "\n",
    "    def search(self, word):\n",
    "        def sr(i, curr):\n",
    "            if i == len(word):\n",
    "                return curr.is_word\n",
    "            \n",
    "            if word[i] == '.':\n",
    "                for child in curr.children:\n",
    "                    if sr(i+1, curr.children[child]) : return True\n",
    "                \n",
    "            elif word[i] in curr.children:\n",
    "                return sr(i+1, curr.children[word[i]])\n",
    "            else:\n",
    "                return False\n",
    "                 \n",
    "        return sr(0, self.trie)        \n",
    "\n",
    "# Your WordDictionary object will be instantiated and called as such:\n",
    "# obj = WordDictionary()\n",
    "# obj.addWord(word)\n",
    "# param_2 = obj.search(word)"
   ]
  },
  {
   "cell_type": "markdown",
   "metadata": {},
   "source": [
    "\n",
    "#### Result: 380ms (57.99%)"
   ]
  }
 ],
 "metadata": {
  "kernelspec": {
   "display_name": "Python 2",
   "language": "python",
   "name": "python2"
  },
  "language_info": {
   "codemirror_mode": {
    "name": "ipython",
    "version": 2
   },
   "file_extension": ".py",
   "mimetype": "text/x-python",
   "name": "python",
   "nbconvert_exporter": "python",
   "pygments_lexer": "ipython2",
   "version": "2.7.16"
  }
 },
 "nbformat": 4,
 "nbformat_minor": 2
}
