{
 "cells": [
  {
   "cell_type": "markdown",
   "metadata": {},
   "source": [
    "# 733. Flood Fill (Easy)"
   ]
  },
  {
   "cell_type": "markdown",
   "metadata": {},
   "source": [
    "<div><p>\n",
    "An <code>image</code> is represented by a 2-D array of integers, each integer representing the pixel value of the image (from 0 to 65535).\n",
    "</p><p>\n",
    "Given a coordinate <code>(sr, sc)</code> representing the starting pixel (row and column) of the flood fill, and a pixel value <code>newColor</code>, \"flood fill\" the image.\n",
    "</p><p>\n",
    "To perform a \"flood fill\", consider the starting pixel, plus any pixels connected 4-directionally to the starting pixel of the same color as the starting pixel, plus any pixels connected 4-directionally to those pixels (also with the same color as the starting pixel), and so on.  Replace the color of all of the aforementioned pixels with the newColor.\n",
    "</p><p>\n",
    "At the end, return the modified image.\n",
    "</p>\n",
    "<p><b>Example 1:</b><br>\n",
    "</p><pre><b>Input:</b> \n",
    "image = [[1,1,1],[1,1,0],[1,0,1]]\n",
    "sr = 1, sc = 1, newColor = 2\n",
    "<b>Output:</b> [[2,2,2],[2,2,0],[2,0,1]]\n",
    "<b>Explanation:</b> \n",
    "From the center of the image (with position (sr, sc) = (1, 1)), all pixels connected \n",
    "by a path of the same color as the starting pixel are colored with the new color.\n",
    "Note the bottom corner is not colored 2, because it is not 4-directionally connected\n",
    "to the starting pixel.\n",
    "</pre>\n",
    "<p></p>\n",
    "\n",
    "<p><b>Note:</b>\n",
    "</p><li>The length of <code>image</code> and <code>image[0]</code> will be in the range <code>[1, 50]</code>.</li>\n",
    "<li>The given starting pixel will satisfy <code>0 &lt;= sr &lt; image.length</code> and <code>0 &lt;= sc &lt; image[0].length</code>.</li>\n",
    "<li>The value of each color in <code>image[i][j]</code> and <code>newColor</code> will be an integer in <code>[0, 65535]</code>.</li>\n",
    "<p></p></div>"
   ]
  },
  {
   "cell_type": "markdown",
   "metadata": {},
   "source": [
    "## Option 1\n",
    "\n",
    "  <p>\n",
    "Time complexity: O(n)\n",
    "<br>\n",
    "Space complexity: O(n)"
   ]
  },
  {
   "cell_type": "code",
   "execution_count": null,
   "metadata": {
    "scrolled": false
   },
   "outputs": [],
   "source": [
    "class Solution(object):\n",
    "    def floodFill(self, image, sr, sc, newColor):\n",
    "        \n",
    "        li,lj = len(image), len(image[0])\n",
    "        self.color = image[sr][sc]\n",
    "        \n",
    "        if self.color == newColor: return image\n",
    "        \n",
    "        def search(i,j):\n",
    "            image[i][j] = newColor\n",
    "            for ni,nj in ((i+1,j),(i-1,j),(i,j+1),(i,j-1)):\n",
    "                if ni >= 0 and ni < li and nj >= 0 and nj < lj and image[ni][nj] == self.color:\n",
    "                    search(ni,nj)\n",
    "            \n",
    "        search(sr,sc)\n",
    "        \n",
    "        return image\n",
    "\n",
    "Solution().floodFill([[1,1,1],[1,1,0],[1,0,1]],1,1,2)"
   ]
  },
  {
   "cell_type": "markdown",
   "metadata": {},
   "source": [
    "#### Result: 60ms (78.94%)"
   ]
  }
 ],
 "metadata": {
  "kernelspec": {
   "display_name": "Python 2",
   "language": "python",
   "name": "python2"
  },
  "language_info": {
   "codemirror_mode": {
    "name": "ipython",
    "version": 2
   },
   "file_extension": ".py",
   "mimetype": "text/x-python",
   "name": "python",
   "nbconvert_exporter": "python",
   "pygments_lexer": "ipython2",
   "version": "2.7.16"
  }
 },
 "nbformat": 4,
 "nbformat_minor": 2
}
