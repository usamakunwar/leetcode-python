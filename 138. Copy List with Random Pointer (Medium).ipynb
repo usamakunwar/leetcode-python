{
 "cells": [
  {
   "cell_type": "markdown",
   "metadata": {},
   "source": [
    "# 138. Copy List with Random Pointer (Medium)"
   ]
  },
  {
   "cell_type": "markdown",
   "metadata": {},
   "source": [
    "<div><p>A linked list is given such that each node contains an additional random pointer which could point to any node in the list or null.</p>\n",
    "\n",
    "<p>Return a <a href=\"https://en.wikipedia.org/wiki/Object_copying#Deep_copy\" target=\"_blank\"><strong>deep copy</strong></a> of the list.</p>\n",
    "\n",
    "<p>The Linked List is represented in the input/output as a list of <code>n</code> nodes. Each node is represented as a pair of <code>[val, random_index]</code> where:</p>\n",
    "\n",
    "<ul>\n",
    "\t<li><code>val</code>: an integer representing <code>Node.val</code></li>\n",
    "\t<li><code>random_index</code>: the index of the node (range from <code>0</code> to <code>n-1</code>) where random pointer points to, or <code>null</code> if it does not point to any node.</li>\n",
    "</ul>\n",
    "\n",
    "<p>&nbsp;</p>\n",
    "<p><strong>Example 1:</strong></p>\n",
    "<img alt=\"\" src=\"https://assets.leetcode.com/uploads/2019/12/18/e1.png\" style=\"width: 700px; height: 142px;\">\n",
    "<pre><strong>Input:</strong> head = [[7,null],[13,0],[11,4],[10,2],[1,0]]\n",
    "<strong>Output:</strong> [[7,null],[13,0],[11,4],[10,2],[1,0]]\n",
    "</pre>\n",
    "\n",
    "<p><strong>Example 2:</strong></p>\n",
    "<img alt=\"\" src=\"https://assets.leetcode.com/uploads/2019/12/18/e2.png\" style=\"width: 700px; height: 114px;\">\n",
    "<pre><strong>Input:</strong> head = [[1,1],[2,1]]\n",
    "<strong>Output:</strong> [[1,1],[2,1]]\n",
    "</pre>\n",
    "\n",
    "<p><strong>Example 3:</strong></p>\n",
    "\n",
    "<p><strong><img alt=\"\" src=\"https://assets.leetcode.com/uploads/2019/12/18/e3.png\" style=\"width: 700px; height: 122px;\"></strong></p>\n",
    "\n",
    "<pre><strong>Input:</strong> head = [[3,null],[3,0],[3,null]]\n",
    "<strong>Output:</strong> [[3,null],[3,0],[3,null]]\n",
    "</pre>\n",
    "\n",
    "<p><strong>Example 4:</strong></p>\n",
    "\n",
    "<pre><strong>Input:</strong> head = []\n",
    "<strong>Output:</strong> []\n",
    "<strong>Explanation:</strong> Given linked list is empty (null pointer), so return null.\n",
    "</pre>\n",
    "\n",
    "<p>&nbsp;</p>\n",
    "<p><strong>Constraints:</strong></p>\n",
    "\n",
    "<ul>\n",
    "\t<li><code>-10000 &lt;= Node.val &lt;= 10000</code></li>\n",
    "\t<li><code>Node.random</code> is null or pointing to a node in the linked list.</li>\n",
    "\t<li>Number of Nodes will not exceed 1000.</li>\n",
    "</ul>\n",
    "</div>"
   ]
  },
  {
   "cell_type": "markdown",
   "metadata": {},
   "source": [
    "## Option 1\n",
    "<p>Iterative (Two pass) + Map\n",
    "    <p>\n",
    "Time complexity: O(n)\n",
    "<br>\n",
    "Space complexity: O(n)"
   ]
  },
  {
   "cell_type": "code",
   "execution_count": null,
   "metadata": {
    "scrolled": true
   },
   "outputs": [],
   "source": [
    "\"\"\"\n",
    "# Definition for a Node.\n",
    "class Node:\n",
    "    def __init__(self, x, next=None, random=None):\n",
    "        self.val = int(x)\n",
    "        self.next = next\n",
    "        self.random = random\n",
    "\"\"\"\n",
    "class Solution(object):\n",
    "    def copyRandomList(self, head):\n",
    "        \"\"\"\n",
    "        :type head: Node\n",
    "        :rtype: Node\n",
    "        \"\"\"\n",
    "        if not head: return None\n",
    "        nodes1, n1_map, nodes2 = [], {}, []\n",
    "        res = Node(0)\n",
    "        node1, node2 = head,res\n",
    "\n",
    "        while node1:\n",
    "            nodes1.append(node1)\n",
    "            n1_map[node1] = len(nodes1)-1\n",
    "            \n",
    "            node2.next = Node(node1.val)\n",
    "            nodes2.append(node2.next)\n",
    "            \n",
    "            node2 = node2.next\n",
    "            node1 = node1.next\n",
    "        \n",
    "        node1,node2 = head,res.next\n",
    "        while node1:\n",
    "            if node1.random in n1_map:\n",
    "                node2.random = nodes2[n1_map[node1.random]]\n",
    "            node1 = node1.next\n",
    "            node2 = node2.next\n",
    "        \n",
    "        return res.next\n"
   ]
  },
  {
   "cell_type": "markdown",
   "metadata": {},
   "source": [
    "#### Result: 44ms 79.24%)"
   ]
  }
 ],
 "metadata": {
  "kernelspec": {
   "display_name": "Python 2",
   "language": "python",
   "name": "python2"
  },
  "language_info": {
   "codemirror_mode": {
    "name": "ipython",
    "version": 2
   },
   "file_extension": ".py",
   "mimetype": "text/x-python",
   "name": "python",
   "nbconvert_exporter": "python",
   "pygments_lexer": "ipython2",
   "version": "2.7.16"
  }
 },
 "nbformat": 4,
 "nbformat_minor": 2
}
