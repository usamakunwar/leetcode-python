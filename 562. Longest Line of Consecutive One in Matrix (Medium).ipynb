{
 "cells": [
  {
   "cell_type": "markdown",
   "metadata": {},
   "source": [
    "# 562. Longest Line of Consecutive One in Matrix (Medium)"
   ]
  },
  {
   "cell_type": "markdown",
   "metadata": {},
   "source": [
    "<div>Given a 01 matrix <b>M</b>, find the longest line of consecutive one in the matrix. The line could be horizontal, vertical, diagonal or anti-diagonal.\n",
    "\n",
    "<p><b>Example:</b><br>\n",
    "</p><pre><b>Input:</b>\n",
    "[[0,1,1,0],\n",
    " [0,1,1,0],\n",
    " [0,0,0,1]]\n",
    "<b>Output:</b> 3\n",
    "</pre>\n",
    "<p></p>\n",
    "\n",
    "<p>\n",
    "<b>Hint:</b>\n",
    "The number of elements in the given matrix will not exceed 10,000.\n",
    "</p></div>"
   ]
  },
  {
   "cell_type": "markdown",
   "metadata": {},
   "source": [
    "## Option 1\n",
    "<p>\n",
    "    <li>To maintain consecutive 1's, we need to maintain the count of 1's and respective positions (i,j)'s \n",
    "  <p>\n",
    "      <p>\n",
    "Time complexity: O(n) row*col\n",
    "<br>\n",
    "Space complexity: O(n)"
   ]
  },
  {
   "cell_type": "code",
   "execution_count": null,
   "metadata": {
    "scrolled": false
   },
   "outputs": [],
   "source": [
    "class Solution(object):\n",
    "    def longestLine(self, M):\n",
    "        if not M or not M[0]: return 0\n",
    "        \n",
    "        li,lj = len(M), len(M[0])\n",
    "        \n",
    "        #[Rows,Cols,Diagnols, Anti-Diagnols] ((i,j), count)   \n",
    "        arr = [[None]*li,[None]*lj,[None]*(li+lj),[None]*(li+lj)] \n",
    "        res = 0\n",
    "        for i in range(li):\n",
    "            for j in range(lj):\n",
    "                if M[i][j] == 1:\n",
    "                    #Check if consecutive, either add to the count or reset\n",
    "                    #ROWS (Consecutive if (curr j == prev j + 1))\n",
    "                    arr[0][i] = ((i,j), arr[0][i][1]+1) if arr[0][i] and arr[0][i][0][1]+1 == j else ((i,j),1)\n",
    "                    #COLUMNS (Consecutive if (curr i == prev i + 1))\n",
    "                    arr[1][j] = ((i,j), arr[1][j][1]+1) if arr[1][j] and arr[1][j][0][0]+1 == i else ((i,j),1)\n",
    "                    \n",
    "                    #DIAGNOLS (Consecutive if (curr i == prev i + 1) AND (curr j == prev j + 1)\n",
    "                    if arr[2][j-i] and arr[2][j-i][0][0]+1 == i and arr[2][j-i][0][1]+1 == j:\n",
    "                        arr[2][j-i] = ((i,j), arr[2][j-i][1]+1)  \n",
    "                    else:\n",
    "                        arr[2][j-i] = ((i,j),1)\n",
    "                        \n",
    "                    #ANTI_DIAGNOLS (Consecutive if (curr i == prev i + 1) AND (curr j == prev j - 1)\n",
    "                    if arr[3][j+i] and arr[3][j+i][0][0]+1 == i and arr[3][j+i][0][1]-1 == j:\n",
    "                        arr[3][j+i] = ((i,j), arr[3][j+i][1]+1)  \n",
    "                    else:\n",
    "                        arr[3][j+i] = ((i,j),1)\n",
    "                        \n",
    "                    res = max(res, arr[0][i][1], arr[1][j][1], arr[2][j-i][1], arr[3][j+i][1])\n",
    "\n",
    "        return res\n",
    "        \n",
    "        \n",
    "        \n",
    "Solution().longestLine([[0,1,1,0],[0,1,1,0],[0,0,0,1]])\n",
    "        "
   ]
  },
  {
   "cell_type": "markdown",
   "metadata": {},
   "source": [
    "#### Result: 428ms (73.05%)"
   ]
  },
  {
   "cell_type": "markdown",
   "metadata": {},
   "source": [
    "## Option 2\n",
    "<p>\n",
    "    <li>Dynamic Programming, accumulate the consecutive 1 count. Every position has 4 different counts\n",
    "  <p>\n",
    "      <p>\n",
    "Time complexity: O(n) row*col\n",
    "<br>\n",
    "Space complexity: O(n)"
   ]
  },
  {
   "cell_type": "code",
   "execution_count": null,
   "metadata": {},
   "outputs": [],
   "source": [
    "import collections\n",
    "class Solution(object):\n",
    "    def longestLine(self, M):\n",
    "        if not M or not M[0]: return 0        \n",
    "        li,lj = len(M), len(M[0])\n",
    "        \n",
    "        k = collections.defaultdict(int)\n",
    "        res = 0\n",
    "        for i in range(li):\n",
    "            for j in range(lj):\n",
    "                if M[i][j] == 1:\n",
    "                    #For every (W,NW,N,NE) we have a count of consecutive 1's\n",
    "                    for ni,nj in ((0,-1),(-1,-1),(-1,0),(-1,1)):\n",
    "                        #ni,nj represents the direction of consecutive 1 count. )\n",
    "                        k[(i,j,ni,nj)] = k[(i+ni,j+nj,ni,nj)] + 1 if k[(i+ni,j+nj,ni,nj)] else 1\n",
    "                        res = max(res, k[(i,j,ni,nj)])\n",
    "        return res\n",
    "        \n",
    "Solution().longestLine([[0,1,1,0],[0,1,1,0],[0,0,0,1]])"
   ]
  },
  {
   "cell_type": "markdown",
   "metadata": {},
   "source": [
    "#### Result: 640ms (16.31%)"
   ]
  }
 ],
 "metadata": {
  "kernelspec": {
   "display_name": "Python 2",
   "language": "python",
   "name": "python2"
  },
  "language_info": {
   "codemirror_mode": {
    "name": "ipython",
    "version": 2
   },
   "file_extension": ".py",
   "mimetype": "text/x-python",
   "name": "python",
   "nbconvert_exporter": "python",
   "pygments_lexer": "ipython2",
   "version": "2.7.16"
  }
 },
 "nbformat": 4,
 "nbformat_minor": 2
}
