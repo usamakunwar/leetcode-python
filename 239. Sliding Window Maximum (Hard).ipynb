{
 "cells": [
  {
   "cell_type": "markdown",
   "metadata": {},
   "source": [
    "# 239. Sliding Window Maximum (Hard)"
   ]
  },
  {
   "cell_type": "markdown",
   "metadata": {},
   "source": [
    "<div><p>Given an array <em>nums</em>, there is a sliding window of size <em>k</em> which is moving from the very left of the array to the very right. You can only see the <em>k</em> numbers in the window. Each time the sliding window moves right by one position. Return the max sliding window.</p>\n",
    "\n",
    "<p><strong>Example:</strong></p>\n",
    "\n",
    "<pre><strong>Input:</strong> <em>nums</em> = <code>[1,3,-1,-3,5,3,6,7]</code>, and <em>k</em> = 3\n",
    "<strong>Output: </strong><code>[3,3,5,5,6,7] \n",
    "<strong>Explanation: \n",
    "</strong></code>\n",
    "Window position                Max\n",
    "---------------               -----\n",
    "[1  3  -1] -3  5  3  6  7       <strong>3</strong>\n",
    " 1 [3  -1  -3] 5  3  6  7       <strong>3</strong>\n",
    " 1  3 [-1  -3  5] 3  6  7      <strong> 5</strong>\n",
    " 1  3  -1 [-3  5  3] 6  7       <strong>5</strong>\n",
    " 1  3  -1  -3 [5  3  6] 7       <strong>6</strong>\n",
    " 1  3  -1  -3  5 [3  6  7]      <strong>7</strong>\n",
    "</pre>\n",
    "\n",
    "<p><strong>Note: </strong><br>\n",
    "You may assume <em>k</em> is always valid, 1 ≤ k ≤ input array's size for non-empty array.</p>\n",
    "\n",
    "<p><strong>Follow up:</strong><br>\n",
    "Could you solve it in linear time?</p></div>"
   ]
  },
  {
   "cell_type": "markdown",
   "metadata": {},
   "source": [
    "## Option 1\n",
    "\n",
    "Slide the window, whilst doing a binary search on the item to add and remove\n",
    "\n",
    "Time complexity = O(nlogk)\n",
    "<br>\n",
    "Space complexity = O(k)"
   ]
  },
  {
   "cell_type": "code",
   "execution_count": 5,
   "metadata": {
    "scrolled": false
   },
   "outputs": [
    {
     "data": {
      "text/plain": [
       "[0.0, 1.0, 1.0, 4.0, 5.5]"
      ]
     },
     "execution_count": 5,
     "metadata": {},
     "output_type": "execute_result"
    }
   ],
   "source": [
    "import collections\n",
    "class Solution(object):\n",
    "    def maxSlidingWindow(self, nums, k):\n",
    "        max_v, max_idx = float('-inf'), 0\n",
    "        max_v, max_idx = float('-inf'), 0\n",
    "        for i,v in enumerated(nums):\n",
    "            if v > max_v:\n",
    "                max_v = v\n",
    "                max_idx = i\n",
    "            if i > k:\n",
    "                \n",
    "            \n",
    "        \n",
    "                \n",
    "Solution().maxSlidingWindow([1,3,-1,-3,5,3,6,7], 3)"
   ]
  },
  {
   "cell_type": "markdown",
   "metadata": {},
   "source": [
    "#### Result: 1356ms (5.88%)"
   ]
  }
 ],
 "metadata": {
  "kernelspec": {
   "display_name": "Python 2",
   "language": "python",
   "name": "python2"
  },
  "language_info": {
   "codemirror_mode": {
    "name": "ipython",
    "version": 2
   },
   "file_extension": ".py",
   "mimetype": "text/x-python",
   "name": "python",
   "nbconvert_exporter": "python",
   "pygments_lexer": "ipython2",
   "version": "2.7.16"
  }
 },
 "nbformat": 4,
 "nbformat_minor": 2
}
