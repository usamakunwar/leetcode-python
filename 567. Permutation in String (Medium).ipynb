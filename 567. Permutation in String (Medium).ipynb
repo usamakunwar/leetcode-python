{
 "cells": [
  {
   "cell_type": "markdown",
   "metadata": {},
   "source": [
    "# 567. Permutation in String (Medium)"
   ]
  },
  {
   "cell_type": "markdown",
   "metadata": {},
   "source": [
    "<div><p>Given two strings <b>s1</b> and <b>s2</b>, write a function to return true if <b>s2</b> contains the permutation of <b>s1</b>. In other words, one of the first string's permutations is the <b>substring</b> of the second string.</p>\n",
    "\n",
    "<p>&nbsp;</p>\n",
    "\n",
    "<p><b>Example 1:</b></p>\n",
    "\n",
    "<pre><b>Input: </b>s1 = \"ab\" s2 = \"eidbaooo\"\n",
    "<b>Output: </b>True\n",
    "<b>Explanation:</b> s2 contains one permutation of s1 (\"ba\").\n",
    "</pre>\n",
    "\n",
    "<p><b>Example 2:</b></p>\n",
    "\n",
    "<pre><b>Input:</b>s1= \"ab\" s2 = \"eidboaoo\"\n",
    "<b>Output:</b> False\n",
    "</pre>\n",
    "\n",
    "<p>&nbsp;</p>\n",
    "\n",
    "<p><b>Note:</b></p>\n",
    "\n",
    "<ol>\n",
    "\t<li>The input strings only contain lower case letters.</li>\n",
    "\t<li>The length of both given strings is in range [1, 10,000].</li>\n",
    "</ol>\n",
    "</div>"
   ]
  },
  {
   "cell_type": "markdown",
   "metadata": {},
   "source": [
    "## Option 1\n",
    "\n",
    "Sliding window with a map\n"
   ]
  },
  {
   "cell_type": "code",
   "execution_count": null,
   "metadata": {
    "scrolled": true
   },
   "outputs": [],
   "source": [
    "import collections\n",
    "class Solution(object):\n",
    "    def checkInclusion(self, s1, s2):\n",
    "        counter, left, ln = collections.Counter(s1), 0, len(s1)\n",
    "        for i,v in enumerate(s2):\n",
    "            if v in counter:\n",
    "                while counter[v] == 0:\n",
    "                    counter[s2[left]] += 1\n",
    "                    left += 1\n",
    "                counter[v] -= 1                    \n",
    "            else:\n",
    "                while left < i:\n",
    "                    counter[s2[left]] += 1\n",
    "                    left += 1\n",
    "                left += 1\n",
    "                    \n",
    "            if (i-left+1) == len(s1): return True\n",
    "        return False\n",
    "Solution().checkInclusion(\"abcd\", \"eifbacoaboowerewcdabo\")"
   ]
  },
  {
   "cell_type": "markdown",
   "metadata": {},
   "source": [
    "#### Result: 80ms (40.48%)"
   ]
  },
  {
   "cell_type": "markdown",
   "metadata": {},
   "source": [
    "## Option 2\n",
    "\n",
    "The above has a dynamic sliding window, which is not needed as the result requires a fixed lenght window. So instead we can wait until the window is the same lenght as s1, then slide it. <p>\n",
    "Also instead of using a counter, a ord map can be used\n",
    "<p>\n",
    "Time complexity = O(n)\n",
    "<br>\n",
    "Space complexity = O(n)"
   ]
  },
  {
   "cell_type": "code",
   "execution_count": null,
   "metadata": {},
   "outputs": [],
   "source": [
    "class Solution(object):\n",
    "    def checkInclusion(self, s1, s2):\n",
    "        s1_map, s2_map, ln = [0]*26, [0]*26, len(s1)\n",
    "        for i in s1: s1_map[ord(i) - ord('a')] += 1        \n",
    "        for i,v in enumerate(s2):\n",
    "            s2_map[ord(v) - ord('a')] += 1\n",
    "            if i >= ln:\n",
    "                s2_map[ord(s2[i-ln]) - ord('a')] -= 1\n",
    "            if s1_map == s2_map: return True\n",
    "        return False\n",
    "    \n",
    "Solution().checkInclusion(\"abcd\", \"abocd\")"
   ]
  },
  {
   "cell_type": "markdown",
   "metadata": {},
   "source": [
    "#### Result: 44ms (93.80%)"
   ]
  }
 ],
 "metadata": {
  "kernelspec": {
   "display_name": "Python 3",
   "language": "python",
   "name": "python3"
  },
  "language_info": {
   "codemirror_mode": {
    "name": "ipython",
    "version": 3
   },
   "file_extension": ".py",
   "mimetype": "text/x-python",
   "name": "python",
   "nbconvert_exporter": "python",
   "pygments_lexer": "ipython3",
   "version": "3.7.4"
  }
 },
 "nbformat": 4,
 "nbformat_minor": 2
}
