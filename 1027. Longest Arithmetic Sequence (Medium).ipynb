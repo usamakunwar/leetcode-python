{
 "cells": [
  {
   "cell_type": "markdown",
   "metadata": {},
   "source": [
    "# 1027. Longest Arithmetic Sequence (Medium)"
   ]
  },
  {
   "cell_type": "markdown",
   "metadata": {},
   "source": [
    "<div><p>Given an array <code>A</code> of integers, return the <strong>length</strong> of the longest arithmetic subsequence in <code>A</code>.</p>\n",
    "\n",
    "<p>Recall that a <em>subsequence</em> of <code>A</code> is a list <code>A[i_1], A[i_2], ..., A[i_k]</code> with <code>0 &lt;= i_1 &lt; i_2 &lt; ... &lt; i_k &lt;= A.length - 1</code>, and that a sequence <code>B</code>&nbsp;is <em>arithmetic</em> if <code>B[i+1] - B[i]</code> are all the same value (for <code>0 &lt;= i &lt; B.length - 1</code>).</p>\n",
    "\n",
    "<p>&nbsp;</p>\n",
    "\n",
    "<p><strong>Example 1:</strong></p>\n",
    "\n",
    "<pre><strong>Input: </strong><span id=\"example-input-1-1\">[3,6,9,12]</span>\n",
    "<strong>Output: </strong><span id=\"example-output-1\">4</span>\n",
    "<strong>Explanation: </strong>\n",
    "The whole array is an arithmetic sequence with steps of length = 3.\n",
    "</pre>\n",
    "\n",
    "<div>\n",
    "<p><strong>Example 2:</strong></p>\n",
    "\n",
    "<pre><strong>Input: </strong><span id=\"example-input-2-1\">[9,4,7,2,10]</span>\n",
    "<strong>Output: </strong><span id=\"example-output-2\">3</span>\n",
    "<strong>Explanation: </strong>\n",
    "The longest arithmetic subsequence is [4,7,10].\n",
    "</pre>\n",
    "\n",
    "<div>\n",
    "<p><strong>Example 3:</strong></p>\n",
    "\n",
    "<pre><strong>Input: </strong><span id=\"example-input-3-1\">[20,1,15,3,10,5,8]</span>\n",
    "<strong>Output: </strong><span id=\"example-output-3\">4</span>\n",
    "<strong>Explanation: </strong>\n",
    "The longest arithmetic subsequence is [20,15,10,5].\n",
    "</pre>\n",
    "</div>\n",
    "\n",
    "<p>&nbsp;</p>\n",
    "\n",
    "<p><strong>Note:</strong></p>\n",
    "\n",
    "<ol>\n",
    "\t<li><code>2 &lt;= A.length &lt;= 2000</code></li>\n",
    "\t<li><code>0 &lt;= A[i] &lt;= 10000</code></li>\n",
    "</ol>\n",
    "</div></div>"
   ]
  },
  {
   "cell_type": "markdown",
   "metadata": {},
   "source": [
    "## Option 1\n",
    "\n",
    "<p>\n",
    "DP\n",
    "    \n",
    "   <p>\n",
    "Time complexity: O(n^2)\n",
    "    <br>\n",
    "Space complexity: O(n^2)\n"
   ]
  },
  {
   "cell_type": "code",
   "execution_count": null,
   "metadata": {},
   "outputs": [],
   "source": [
    "from collections import Counter\n",
    "class Solution(object):\n",
    "    def longestArithSeqLength(self, A):\n",
    "        k = [Counter() for i in range(len(A))]\n",
    "        res = 0        \n",
    "        for i in range(len(A)):\n",
    "            for j in range(i-1,-1,-1):\n",
    "                #We need to fetch the sequence matching the current difference\n",
    "                #We only need the last item of sequence, as the size of the sequence is accumulated\n",
    "                if not k[i][A[i]-A[j]]:\n",
    "                    k[i][A[i]-A[j]] = k[j][A[i]-A[j]] + 1\n",
    "                res = max(res, k[i][A[i]-A[j]])\n",
    "                \n",
    "        return res+1\n",
    "  \n",
    "Solution().longestArithSeqLength([20])\n",
    "\n"
   ]
  },
  {
   "cell_type": "markdown",
   "metadata": {},
   "source": [
    "\n",
    "#### Result: 3420ms (5.07%)"
   ]
  },
  {
   "cell_type": "markdown",
   "metadata": {},
   "source": [
    "## Option 2\n",
    "\n",
    "<p>\n",
    "Same as above, shorter, we can use a 1d map instead\n",
    "    \n",
    "   <p>\n",
    "Time complexity: O(n^2)\n",
    "    <br>\n",
    "Space complexity: O(n)\n"
   ]
  },
  {
   "cell_type": "code",
   "execution_count": null,
   "metadata": {},
   "outputs": [],
   "source": [
    "from collections import Counter\n",
    "class Solution(object):\n",
    "    def longestArithSeqLength(self, A):\n",
    "        k,res = {},0\n",
    "        for i in range(len(A)):\n",
    "            for j in range(i-1,-1,-1):\n",
    "                if (i,A[i]-A[j]) not in k:\n",
    "                    k[(i, A[i]-A[j])] = k.get((j,A[i]-A[j]),0) + 1\n",
    "                res = max(res, k[(i, A[i]-A[j])])\n",
    "        return res+1\n",
    "    \n",
    "Solution().longestArithSeqLength([20])\n"
   ]
  },
  {
   "cell_type": "markdown",
   "metadata": {},
   "source": [
    "#### Result: 2508ms (14.93%)"
   ]
  }
 ],
 "metadata": {
  "kernelspec": {
   "display_name": "Python 2",
   "language": "python",
   "name": "python2"
  },
  "language_info": {
   "codemirror_mode": {
    "name": "ipython",
    "version": 2
   },
   "file_extension": ".py",
   "mimetype": "text/x-python",
   "name": "python",
   "nbconvert_exporter": "python",
   "pygments_lexer": "ipython2",
   "version": "2.7.16"
  }
 },
 "nbformat": 4,
 "nbformat_minor": 2
}
