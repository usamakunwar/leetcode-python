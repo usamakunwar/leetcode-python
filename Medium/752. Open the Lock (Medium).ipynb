{
 "cells": [
  {
   "cell_type": "markdown",
   "metadata": {},
   "source": [
    "# 752. Open the Lock (Medium)"
   ]
  },
  {
   "cell_type": "markdown",
   "metadata": {},
   "source": [
    "<div><p>You have a lock in front of you with 4 circular wheels. Each wheel has 10 slots: <code>'0', '1', '2', '3', '4', '5', '6', '7', '8', '9'</code>. The wheels can rotate freely and wrap around: for example we can turn <code>'9'</code> to be <code>'0'</code>, or <code>'0'</code> to be <code>'9'</code>. Each move consists of turning one wheel one slot.</p>\n",
    "\n",
    "<p>The lock initially starts at <code>'0000'</code>, a string representing the state of the 4 wheels.</p>\n",
    "\n",
    "<p>You are given a list of <code>deadends</code> dead ends, meaning if the lock displays any of these codes, the wheels of the lock will stop turning and you will be unable to open it.</p>\n",
    "\n",
    "<p>Given a <code>target</code> representing the value of the wheels that will unlock the lock, return the minimum total number of turns required to open the lock, or -1 if it is impossible.</p>\n",
    "\n",
    "<p>&nbsp;</p>\n",
    "<p><strong>Example 1:</strong></p>\n",
    "\n",
    "<pre><strong>Input:</strong> deadends = [\"0201\",\"0101\",\"0102\",\"1212\",\"2002\"], target = \"0202\"\n",
    "<strong>Output:</strong> 6\n",
    "<strong>Explanation:</strong>\n",
    "A sequence of valid moves would be \"0000\" -&gt; \"1000\" -&gt; \"1100\" -&gt; \"1200\" -&gt; \"1201\" -&gt; \"1202\" -&gt; \"0202\".\n",
    "Note that a sequence like \"0000\" -&gt; \"0001\" -&gt; \"0002\" -&gt; \"0102\" -&gt; \"0202\" would be invalid,\n",
    "because the wheels of the lock become stuck after the display becomes the dead end \"0102\".\n",
    "</pre>\n",
    "\n",
    "<p><strong>Example 2:</strong></p>\n",
    "\n",
    "<pre><strong>Input:</strong> deadends = [\"8888\"], target = \"0009\"\n",
    "<strong>Output:</strong> 1\n",
    "<strong>Explanation:</strong>\n",
    "We can turn the last wheel in reverse to move from \"0000\" -&gt; \"0009\".\n",
    "</pre>\n",
    "\n",
    "<p><strong>Example 3:</strong></p>\n",
    "\n",
    "<pre><strong>Input:</strong> deadends = [\"8887\",\"8889\",\"8878\",\"8898\",\"8788\",\"8988\",\"7888\",\"9888\"], target = \"8888\"\n",
    "<strong>Output:</strong> -1\n",
    "Explanation:\n",
    "We can't reach the target without getting stuck.\n",
    "</pre>\n",
    "\n",
    "<p><strong>Example 4:</strong></p>\n",
    "\n",
    "<pre><strong>Input:</strong> deadends = [\"0000\"], target = \"8888\"\n",
    "<strong>Output:</strong> -1\n",
    "</pre>\n",
    "\n",
    "<p>&nbsp;</p>\n",
    "<p><strong>Constraints:</strong></p>\n",
    "\n",
    "<ul>\n",
    "\t<li><code>1 &lt;=&nbsp;deadends.length &lt;= 500</code></li>\n",
    "\t<li><code><font face=\"monospace\">deadends[i].length == 4</font></code></li>\n",
    "\t<li><code><font face=\"monospace\">target.length == 4</font></code></li>\n",
    "\t<li>target <strong>will not be</strong> in the list <code>deadends</code>.</li>\n",
    "\t<li><code>target</code> and <code>deadends[i]</code> consist of digits only.</li>\n",
    "</ul>\n",
    "</div>"
   ]
  },
  {
   "cell_type": "markdown",
   "metadata": {},
   "source": [
    "## Option 1\n",
    "<p>\n",
    "    BFS\n",
    "    <p> \n",
    "<p>\n",
    "    <p>\n",
    "Time complexity: O(n*(d^n)) n = number of wheels, d = number of digits\n",
    "    <br>\n",
    "Space complexity: O(d^n)"
   ]
  },
  {
   "cell_type": "code",
   "execution_count": null,
   "metadata": {},
   "outputs": [],
   "source": [
    "class Solution(object):\n",
    "    def openLock(self, deadends, target):\n",
    "        deadends = set(deadends)\n",
    "        \n",
    "        if '0000' in deadends: return -1\n",
    "        \n",
    "        q = collections.deque([('0000',0)])\n",
    "        seen = set(['0000'])\n",
    "        \n",
    "        while q:\n",
    "            curr,lev = q.popleft()\n",
    "            \n",
    "            if curr == target: return lev\n",
    "            \n",
    "            for i in range(4):\n",
    "                pref,val,suf = curr[:i],int(curr[i]),curr[i+1:]\n",
    "                \n",
    "                up_state = pref+str((val+1)%10)+suf\n",
    "                down_state = pref+str((val-1)%10)+suf\n",
    "                \n",
    "                if up_state not in seen and up_state not in deadends:\n",
    "                    seen.add(up_state)\n",
    "                    q.append((up_state, lev+1))\n",
    "                \n",
    "                if down_state not in seen and down_state not in deadends:\n",
    "                    seen.add(down_state)\n",
    "                    q.append((down_state, lev+1))                \n",
    "        \n",
    "        return -1\n",
    "        \n",
    "Solution().openLock([\"0201\",\"0101\",\"0102\",\"1212\",\"2002\"], \"0202\")\n",
    "        "
   ]
  },
  {
   "cell_type": "markdown",
   "metadata": {},
   "source": [
    "#### Result: 888ms (32.68%)"
   ]
  }
 ],
 "metadata": {
  "kernelspec": {
   "display_name": "Python 2",
   "language": "python",
   "name": "python2"
  },
  "language_info": {
   "codemirror_mode": {
    "name": "ipython",
    "version": 2
   },
   "file_extension": ".py",
   "mimetype": "text/x-python",
   "name": "python",
   "nbconvert_exporter": "python",
   "pygments_lexer": "ipython2",
   "version": "2.7.16"
  }
 },
 "nbformat": 4,
 "nbformat_minor": 2
}
