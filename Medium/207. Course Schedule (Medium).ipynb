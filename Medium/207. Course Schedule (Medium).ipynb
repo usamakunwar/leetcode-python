{
 "cells": [
  {
   "cell_type": "markdown",
   "metadata": {},
   "source": [
    "# 207. Course Schedule (Medium)"
   ]
  },
  {
   "cell_type": "markdown",
   "metadata": {},
   "source": [
    "<div><p>There are a total of <code>numCourses</code> courses you have to take, labeled from <code>0</code> to <code>numCourses-1</code>.</p>\n",
    "\n",
    "<p>Some courses may have prerequisites, for example to take course 0 you have to first take course 1, which is expressed as a pair: <code>[0,1]</code></p>\n",
    "\n",
    "<p>Given the total number of courses and a list of prerequisite <b>pairs</b>, is it possible for you to finish all courses?</p>\n",
    "\n",
    "<p>&nbsp;</p>\n",
    "<p><strong>Example 1:</strong></p>\n",
    "\n",
    "<pre><strong>Input:</strong> numCourses = 2, prerequisites = [[1,0]]\n",
    "<strong>Output:</strong> true\n",
    "<strong>Explanation:</strong>&nbsp;There are a total of 2 courses to take. \n",
    "&nbsp;            To take course 1 you should have finished course 0. So it is possible.\n",
    "</pre>\n",
    "\n",
    "<p><strong>Example 2:</strong></p>\n",
    "\n",
    "<pre><strong>Input:</strong> numCourses = 2, prerequisites = [[1,0],[0,1]]\n",
    "<strong>Output:</strong> false\n",
    "<strong>Explanation:</strong>&nbsp;There are a total of 2 courses to take. \n",
    "&nbsp;            To take course 1 you should have finished course 0, and to take course 0 you should\n",
    "&nbsp;            also have finished course 1. So it is impossible.\n",
    "</pre>\n",
    "\n",
    "<p>&nbsp;</p>\n",
    "<p><strong>Constraints:</strong></p>\n",
    "\n",
    "<ul>\n",
    "\t<li>The input prerequisites is a graph represented by <b>a list of edges</b>, not adjacency matrices. Read more about <a href=\"https://www.khanacademy.org/computing/computer-science/algorithms/graph-representation/a/representing-graphs\" target=\"_blank\">how a graph is represented</a>.</li>\n",
    "\t<li>You may assume that there are no duplicate edges in the input prerequisites.</li>\n",
    "\t<li><code>1 &lt;=&nbsp;numCourses &lt;= 10^5</code></li>\n",
    "</ul>\n",
    "</div>"
   ]
  },
  {
   "cell_type": "markdown",
   "metadata": {},
   "source": [
    "## Option 1\n",
    "  <p>DFS\n",
    "    <p>\n",
    "<li>Topological sort - we can satisfy every course only if there is no cycle in a directed graph. i.e. the graph must be acyclic\n",
    "<p>\n",
    "<p>\n",
    "Time complexity: O(v+e)\n",
    "<br>\n",
    "Space complexity: O(v+e) "
   ]
  },
  {
   "cell_type": "code",
   "execution_count": null,
   "metadata": {},
   "outputs": [],
   "source": [
    "class Solution(object):\n",
    "    def canFinish(self, numCourses, prerequisites):\n",
    "        graph = collections.defaultdict(list)\n",
    "        for u,v in prerequisites:\n",
    "            graph[u].append(v)\n",
    "        \n",
    "        self.seen = [0]*numCourses\n",
    "        self.path = [0]*numCourses\n",
    "        \n",
    "        def search(i):\n",
    "            if self.path[i]: return False\n",
    "            if self.seen[i]: return True\n",
    "            self.path[i] = 1\n",
    "            for j in graph[i]:\n",
    "                if not search(j): return False\n",
    "            self.path[i] = 0\n",
    "            self.seen[i] = 1\n",
    "            return True\n",
    "        \n",
    "        for i in range(numCourses):\n",
    "            if not search(i): return False\n",
    "            \n",
    "        return True"
   ]
  },
  {
   "cell_type": "markdown",
   "metadata": {},
   "source": [
    "#### Result: 96ms (57.81%)"
   ]
  }
 ],
 "metadata": {
  "kernelspec": {
   "display_name": "Python 2",
   "language": "python",
   "name": "python2"
  },
  "language_info": {
   "codemirror_mode": {
    "name": "ipython",
    "version": 2
   },
   "file_extension": ".py",
   "mimetype": "text/x-python",
   "name": "python",
   "nbconvert_exporter": "python",
   "pygments_lexer": "ipython2",
   "version": "2.7.16"
  }
 },
 "nbformat": 4,
 "nbformat_minor": 2
}
