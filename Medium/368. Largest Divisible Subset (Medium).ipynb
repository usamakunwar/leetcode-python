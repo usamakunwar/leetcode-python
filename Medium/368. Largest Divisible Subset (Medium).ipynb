{
 "cells": [
  {
   "cell_type": "markdown",
   "metadata": {},
   "source": [
    "# 368. Largest Divisible Subset (Medium)"
   ]
  },
  {
   "cell_type": "markdown",
   "metadata": {},
   "source": [
    "<div><p>Given a set of <b>distinct</b> positive integers, find the largest subset such that every pair (S<sub>i</sub>, S<sub>j</sub>) of elements in this subset satisfies:</p>\n",
    "\n",
    "<p>S<sub>i</sub> % S<sub>j</sub> = 0 or S<sub>j</sub> % S<sub>i</sub> = 0.</p>\n",
    "\n",
    "<p>If there are multiple solutions, return any subset is fine.</p>\n",
    "\n",
    "<p><strong>Example 1:</strong></p>\n",
    "\n",
    "<div>\n",
    "<pre><strong>Input: </strong><span id=\"example-input-1-1\">[1,2,3]</span>\n",
    "<strong>Output: </strong><span id=\"example-output-1\">[1,2] </span>(of course, [1,3] will also be ok)\n",
    "</pre>\n",
    "\n",
    "<div>\n",
    "<p><strong>Example 2:</strong></p>\n",
    "\n",
    "<pre><strong>Input: </strong><span id=\"example-input-2-1\">[1,2,4,8]</span>\n",
    "<strong>Output: </strong><span id=\"example-output-2\">[1,2,4,8]</span>\n",
    "</pre>\n",
    "</div>\n",
    "</div></div>"
   ]
  },
  {
   "cell_type": "markdown",
   "metadata": {},
   "source": [
    "## Option 1\n",
    " <p> \n",
    "    DP\n",
    "    <p>\n",
    "    <li>If the maximum item in a subarray (dp[ j ]) is divisible by nums[ i ], then anything below that item is also divisible by nums[ i ] (or vice versa). \n",
    "    <li>Apparently the result can be in any order. Therefore, we can sort the array and do something similar to longest increasing subsequence\n",
    "    <p>\n",
    "    <p>\n",
    "        <p>\n",
    "        \n",
    "Time complexity: O(n^2)\n",
    "    <br>\n",
    "Space complexity: O(n^2)\n"
   ]
  },
  {
   "cell_type": "code",
   "execution_count": null,
   "metadata": {
    "scrolled": true
   },
   "outputs": [],
   "source": [
    "import collections\n",
    "class Solution(object):\n",
    "    def largestDivisibleSubset(self, nums):\n",
    "        nums.sort()\n",
    "        dp, res = collections.defaultdict(list), []\n",
    "        for i in range(len(nums)):\n",
    "            k = None\n",
    "            for j in dp:\n",
    "                if not dp[j][-1]%nums[i] or not nums[i]%dp[j][-1]:\n",
    "                    if not k or len(dp[j]) >= len(dp[k]):\n",
    "                        k = j\n",
    "            dp[nums[i]] = (dp[k] if k else []) + [nums[i]]            \n",
    "        \n",
    "        return max(dp.values(), key=len) if dp else []            \n",
    "        \n",
    "Solution().largestDivisibleSubset([])\n"
   ]
  },
  {
   "cell_type": "markdown",
   "metadata": {},
   "source": [
    "#### Result: 724ms (5.08%)"
   ]
  }
 ],
 "metadata": {
  "kernelspec": {
   "display_name": "Python 2",
   "language": "python",
   "name": "python2"
  },
  "language_info": {
   "codemirror_mode": {
    "name": "ipython",
    "version": 2
   },
   "file_extension": ".py",
   "mimetype": "text/x-python",
   "name": "python",
   "nbconvert_exporter": "python",
   "pygments_lexer": "ipython2",
   "version": "2.7.16"
  }
 },
 "nbformat": 4,
 "nbformat_minor": 2
}
