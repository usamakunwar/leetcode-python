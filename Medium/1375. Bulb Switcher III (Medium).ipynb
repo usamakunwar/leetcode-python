{
 "cells": [
  {
   "cell_type": "markdown",
   "metadata": {},
   "source": [
    "# 1375. Bulb Switcher III (Medium)\n"
   ]
  },
  {
   "cell_type": "markdown",
   "metadata": {},
   "source": [
    "<div><p>There is a room with <code>n</code> bulbs, numbered from <code>1</code> to <code>n</code>, arranged in a row from left to right. Initially, all the bulbs are turned off.</p>\n",
    "\n",
    "<p>At moment <em>k</em> (for <em>k</em> from <code>0</code> to <code>n - 1</code>), we turn on the <code>light[k]</code> bulb. A bulb <strong>change&nbsp;color to blue</strong> only if it is on and all the previous bulbs (to the left)&nbsp;are turned on too.</p>\n",
    "\n",
    "<p>Return the number of moments in&nbsp;which <strong>all&nbsp;turned on</strong> bulbs&nbsp;<strong>are blue.</strong></p>\n",
    "\n",
    "<p>&nbsp;</p>\n",
    "<p><strong>Example 1:</strong></p>\n",
    "\n",
    "<p><img alt=\"\" src=\"https://assets.leetcode.com/uploads/2020/02/29/sample_2_1725.png\" style=\"width: 575px; height: 300px;\"></p>\n",
    "\n",
    "<pre><strong>Input:</strong> light = [2,1,3,5,4]\n",
    "<strong>Output:</strong> 3\n",
    "<strong>Explanation:</strong> All bulbs turned on, are blue at the moment 1, 2 and 4.\n",
    "</pre>\n",
    "\n",
    "<p><strong>Example 2:</strong></p>\n",
    "\n",
    "<pre><strong>Input:</strong> light = [3,2,4,1,5]\n",
    "<strong>Output:</strong> 2\n",
    "<strong>Explanation:</strong> All bulbs turned on, are blue at the moment 3, and 4 (index-0).\n",
    "</pre>\n",
    "\n",
    "<p><strong>Example 3:</strong></p>\n",
    "\n",
    "<pre><strong>Input:</strong> light = [4,1,2,3]\n",
    "<strong>Output:</strong> 1\n",
    "<strong>Explanation:</strong> All bulbs turned on, are blue at the moment 3 (index-0).\n",
    "Bulb 4th changes to blue at the moment 3.\n",
    "</pre>\n",
    "\n",
    "<p><strong>Example 4:</strong></p>\n",
    "\n",
    "<pre><strong>Input:</strong> light = [2,1,4,3,6,5]\n",
    "<strong>Output:</strong> 3\n",
    "</pre>\n",
    "\n",
    "<p><strong>Example 5:</strong></p>\n",
    "\n",
    "<pre><strong>Input:</strong> light = [1,2,3,4,5,6]\n",
    "<strong>Output:</strong> 6\n",
    "</pre>\n",
    "\n",
    "<p>&nbsp;</p>\n",
    "<p><strong>Constraints:</strong></p>\n",
    "\n",
    "<ul>\n",
    "\t<li><code>n ==&nbsp;light.length</code></li>\n",
    "\t<li><code>1 &lt;= n &lt;= 5 * 10^4</code></li>\n",
    "\t<li><code>light</code> is a permutation of&nbsp;&nbsp;<code>[1, 2, ..., n]</code></li>\n",
    "</ul>\n",
    "</div>"
   ]
  },
  {
   "cell_type": "markdown",
   "metadata": {},
   "source": [
    "## Option 1\n",
    "<p>\n",
    "      <p>\n",
    "Time complexity: O(n)\n",
    "<br>\n",
    "Space complexity: O(1)"
   ]
  },
  {
   "cell_type": "code",
   "execution_count": null,
   "metadata": {
    "scrolled": false
   },
   "outputs": [],
   "source": [
    "class Solution(object):\n",
    "    def numTimesAllBlue(self, light):\n",
    "        res=curr_max=0\n",
    "        for i in range(len(light)):\n",
    "            curr_max = max(curr_max, light[i])\n",
    "            res += i+1 == curr_max\n",
    "        return res\n",
    "    \n",
    " \n",
    "Solution().numTimesAllBlue([6])"
   ]
  },
  {
   "cell_type": "markdown",
   "metadata": {},
   "source": [
    "#### Result: 400ms (63.13%)\n"
   ]
  }
 ],
 "metadata": {
  "kernelspec": {
   "display_name": "Python 2",
   "language": "python",
   "name": "python2"
  },
  "language_info": {
   "codemirror_mode": {
    "name": "ipython",
    "version": 2
   },
   "file_extension": ".py",
   "mimetype": "text/x-python",
   "name": "python",
   "nbconvert_exporter": "python",
   "pygments_lexer": "ipython2",
   "version": "2.7.16"
  }
 },
 "nbformat": 4,
 "nbformat_minor": 2
}
