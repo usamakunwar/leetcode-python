{
 "cells": [
  {
   "cell_type": "markdown",
   "metadata": {},
   "source": [
    "# 402. Remove K Digits (Medium)"
   ]
  },
  {
   "cell_type": "markdown",
   "metadata": {},
   "source": [
    "<div><p>Given a non-negative integer <i>num</i> represented as a string, remove <i>k</i> digits from the number so that the new number is the smallest possible.\n",
    "</p>\n",
    "\n",
    "<p><b>Note:</b><br>\n",
    "</p><ul>\n",
    "<li>The length of <i>num</i> is less than 10002 and will be ≥ <i>k</i>.</li>\n",
    "<li>The given <i>num</i> does not contain any leading zero.</li>\n",
    "</ul>\n",
    "\n",
    "<p></p>\n",
    "\n",
    "<p><b>Example 1:</b>\n",
    "</p><pre>Input: num = \"1432219\", k = 3\n",
    "Output: \"1219\"\n",
    "Explanation: Remove the three digits 4, 3, and 2 to form the new number 1219 which is the smallest.\n",
    "</pre>\n",
    "<p></p>\n",
    "\n",
    "<p><b>Example 2:</b>\n",
    "</p><pre>Input: num = \"10200\", k = 1\n",
    "Output: \"200\"\n",
    "Explanation: Remove the leading 1 and the number is 200. Note that the output must not contain leading zeroes.\n",
    "</pre>\n",
    "<p></p>\n",
    "\n",
    "<p><b>Example 3:</b>\n",
    "</p><pre>Input: num = \"10\", k = 2\n",
    "Output: \"0\"\n",
    "Explanation: Remove all the digits from the number and it is left with nothing which is 0.\n",
    "</pre>\n",
    "<p></p></div>"
   ]
  },
  {
   "cell_type": "markdown",
   "metadata": {},
   "source": [
    "## Option 1\n",
    "<p>\n",
    "<li>Use a stack to knock out all digits that are smaller than a digit, until k\n",
    "<li>If none were smaller that means the digits are in incremental order, so we will just reduce the end by k \n",
    "<p>\n",
    "<p>\n",
    "Time complexity = O(n)\n",
    "<br>\n",
    "Space complexity = O(n)"
   ]
  },
  {
   "cell_type": "code",
   "execution_count": 46,
   "metadata": {
    "scrolled": true
   },
   "outputs": [
    {
     "name": "stdout",
     "output_type": "stream",
     "text": [
      "['0', '2', '0', '0']\n"
     ]
    },
    {
     "data": {
      "text/plain": [
       "'200'"
      ]
     },
     "execution_count": 46,
     "metadata": {},
     "output_type": "execute_result"
    }
   ],
   "source": [
    "import collections, heapq\n",
    "class Solution(object):\n",
    "    def removeKdigits(self, num, k):\n",
    "        stack = []\n",
    "        for i in num:\n",
    "            #Knock out smaller values, that have come before\n",
    "            while k and stack and stack[-1] > i:\n",
    "                stack.pop()\n",
    "                k -= 1\n",
    "            stack.append(i)\n",
    "        #At this point, one kind will not work eg. 234567 (incremental values)\n",
    "        #So truncate by k\n",
    "        stack = stack[:-k] if k else stack\n",
    "        print(stack)\n",
    "        return ''.join(stack).lstrip('0') or \"0\"      \n",
    "Solution().removeKdigits('10200',1)\n",
    "        "
   ]
  },
  {
   "cell_type": "markdown",
   "metadata": {},
   "source": [
    "#### Result: 36ms (48.34%)"
   ]
  }
 ],
 "metadata": {
  "kernelspec": {
   "display_name": "Python 2",
   "language": "python",
   "name": "python2"
  },
  "language_info": {
   "codemirror_mode": {
    "name": "ipython",
    "version": 2
   },
   "file_extension": ".py",
   "mimetype": "text/x-python",
   "name": "python",
   "nbconvert_exporter": "python",
   "pygments_lexer": "ipython2",
   "version": "2.7.16"
  }
 },
 "nbformat": 4,
 "nbformat_minor": 2
}
