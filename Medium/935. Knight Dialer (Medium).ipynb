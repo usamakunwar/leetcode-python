{
 "cells": [
  {
   "cell_type": "markdown",
   "metadata": {},
   "source": [
    "# 935. Knight Dialer (Medium)"
   ]
  },
  {
   "cell_type": "markdown",
   "metadata": {},
   "source": [
    "<div><p>A chess knight can move as indicated in the chess diagram below:</p>\n",
    "\n",
    "<p><img alt=\"\" src=\"https://assets.leetcode.com/uploads/2018/10/12/knight.png\" style=\"width: 150px; height: 150px;\">&nbsp;.&nbsp; &nbsp; &nbsp; &nbsp; &nbsp; &nbsp;<img alt=\"\" src=\"https://assets.leetcode.com/uploads/2018/10/30/keypad.png\" style=\"width: 134px; height: 150px;\"></p>\n",
    "\n",
    "<p>&nbsp;</p>\n",
    "\n",
    "<p>This time, we place our chess knight on any numbered key of a phone pad (indicated above), and the knight makes <code>N-1</code> hops.&nbsp; Each hop must be from one key to another numbered key.</p>\n",
    "\n",
    "<p>Each time it lands on a key (including the initial placement of the knight), it presses the number of that key, pressing <code>N</code> digits total.</p>\n",
    "\n",
    "<p>How many distinct numbers can you dial in this manner?</p>\n",
    "\n",
    "<p>Since the answer may be large, <strong>output the answer&nbsp;modulo <code>10^9 + 7</code></strong>.</p>\n",
    "\n",
    "<p>&nbsp;</p>\n",
    "\n",
    "<ul>\n",
    "</ul>\n",
    "\n",
    "<div>\n",
    "<p><strong>Example 1:</strong></p>\n",
    "\n",
    "<pre><strong>Input: </strong><span id=\"example-input-1-1\">1</span>\n",
    "<strong>Output: </strong><span id=\"example-output-1\">10</span>\n",
    "</pre>\n",
    "\n",
    "<div>\n",
    "<p><strong>Example 2:</strong></p>\n",
    "\n",
    "<pre><strong>Input: </strong><span id=\"example-input-2-1\">2</span>\n",
    "<strong>Output: </strong><span id=\"example-output-2\">20</span>\n",
    "</pre>\n",
    "\n",
    "<div>\n",
    "<p><strong>Example 3:</strong></p>\n",
    "\n",
    "<pre><strong>Input: </strong><span id=\"example-input-3-1\">3</span>\n",
    "<strong>Output: </strong><span id=\"example-output-3\">46</span>\n",
    "</pre>\n",
    "\n",
    "<p>&nbsp;</p>\n",
    "\n",
    "<p><strong>Note:</strong></p>\n",
    "\n",
    "<ul>\n",
    "\t<li><code>1 &lt;= N &lt;= 5000</code></li>\n",
    "</ul>\n",
    "</div>\n",
    "</div>\n",
    "</div>\n",
    "</div>"
   ]
  },
  {
   "cell_type": "markdown",
   "metadata": {},
   "source": [
    "## Option 1\n",
    " <p>    \n",
    "   DP Top down\n",
    "    <p>\n",
    "<p>\n",
    "<p>\n",
    "        \n"
   ]
  },
  {
   "cell_type": "code",
   "execution_count": null,
   "metadata": {},
   "outputs": [],
   "source": [
    "class Solution(object):\n",
    "    def knightDialer(self, N):\n",
    "        m = {1:[6,8], 2:[7,9], 3:[4,8], 4:[0,3,9], 5:[], 6:[0,1,7], 7:[2,6], 8:[1,3], 9:[2,4], 0:[4,6]}\n",
    "        self.seen = {}\n",
    "        def search(i,hops):\n",
    "            if hops == 0: return 1\n",
    "            if (i,hops) in self.seen: return self.seen[(i,hops)]\n",
    "            res = 0\n",
    "            for j in m[i]:\n",
    "                res += search(j,hops-1)\n",
    "            self.seen[(i,hops)] = res\n",
    "            return res\n",
    "            \n",
    "        return sum(search(i,N-1) for i in m)%(10**9+7)\n",
    "        \n",
    "Solution().knightDialer(3)\n",
    "        "
   ]
  },
  {
   "cell_type": "markdown",
   "metadata": {},
   "source": [
    "#### Result:  3588ms (16.52%)"
   ]
  },
  {
   "cell_type": "markdown",
   "metadata": {},
   "source": [
    "## Option 2\n",
    " <p>    \n",
    "DP Bottom Up \n",
    "    <p>\n",
    "\n",
    "<p>\n",
    "            \n",
    "        \n"
   ]
  },
  {
   "cell_type": "code",
   "execution_count": null,
   "metadata": {},
   "outputs": [],
   "source": [
    "class Solution(object):\n",
    "    def knightDialer(self, N):\n",
    "        m = [[6,8],[7,9],[4,8],[0,3,9],[],[0,1,7],[2,6],[1,3],[2,4],[4,6]]\n",
    "        \n",
    "        dp = [1]*10\n",
    "        for i in range(1,N):\n",
    "            new = [0]*10\n",
    "            for j in range(10):\n",
    "                for k in m[j-1]:\n",
    "                    new[j] += dp[k]\n",
    "            dp = new\n",
    "            \n",
    "        return sum(dp)%(10**9+7)\n",
    "\n",
    "        \n",
    "Solution().knightDialer(3)\n",
    "        "
   ]
  },
  {
   "cell_type": "markdown",
   "metadata": {},
   "source": [
    "#### Result:  1332ms (47.95%)"
   ]
  }
 ],
 "metadata": {
  "kernelspec": {
   "display_name": "Python 2",
   "language": "python",
   "name": "python2"
  },
  "language_info": {
   "codemirror_mode": {
    "name": "ipython",
    "version": 2
   },
   "file_extension": ".py",
   "mimetype": "text/x-python",
   "name": "python",
   "nbconvert_exporter": "python",
   "pygments_lexer": "ipython2",
   "version": "2.7.16"
  }
 },
 "nbformat": 4,
 "nbformat_minor": 2
}
