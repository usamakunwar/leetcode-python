{
 "cells": [
  {
   "cell_type": "markdown",
   "metadata": {},
   "source": [
    "# 781. Rabbits in Forest (Medium)\n"
   ]
  },
  {
   "cell_type": "markdown",
   "metadata": {},
   "source": [
    "<div><p>In a forest, each rabbit has some color. Some subset of rabbits (possibly all of them) tell you how many other rabbits have the same color as them. Those <code>answers</code> are placed in an array.</p>\n",
    "\n",
    "<p>Return the minimum number of rabbits that could be in the forest.</p>\n",
    "\n",
    "<pre><strong>Examples:</strong>\n",
    "<strong>Input:</strong> answers = [1, 1, 2]\n",
    "<strong>Output:</strong> 5\n",
    "<strong>Explanation:</strong>\n",
    "The two rabbits that answered \"1\" could both be the same color, say red.\n",
    "The rabbit than answered \"2\" can't be red or the answers would be inconsistent.\n",
    "Say the rabbit that answered \"2\" was blue.\n",
    "Then there should be 2 other blue rabbits in the forest that didn't answer into the array.\n",
    "The smallest possible number of rabbits in the forest is therefore 5: 3 that answered plus 2 that didn't.\n",
    "\n",
    "<strong>Input:</strong> answers = [10, 10, 10]\n",
    "<strong>Output:</strong> 11\n",
    "\n",
    "<strong>Input:</strong> answers = []\n",
    "<strong>Output:</strong> 0\n",
    "</pre>\n",
    "\n",
    "<p><strong>Note:</strong></p>\n",
    "\n",
    "<ol>\n",
    "\t<li><code>answers</code> will have length at most <code>1000</code>.</li>\n",
    "\t<li>Each <code>answers[i]</code> will be an integer in the range <code>[0, 999]</code>.</li>\n",
    "</ol>\n",
    "</div>"
   ]
  },
  {
   "cell_type": "markdown",
   "metadata": {},
   "source": [
    "## Option 1\n",
    "<p>\n",
    "      <p>         <p>\n",
    "Time complexity: O(n)\n",
    "    <br>\n",
    "Space complexity: O(n)\n"
   ]
  },
  {
   "cell_type": "code",
   "execution_count": null,
   "metadata": {
    "scrolled": false
   },
   "outputs": [],
   "source": [
    "from collections import Counter\n",
    "class Solution(object):\n",
    "    def numRabbits(self, answers):\n",
    "        res = 0\n",
    "        for k,v in Counter(answers).items():\n",
    "            if k == 0:\n",
    "                res += v\n",
    "            else:\n",
    "                k = k+1\n",
    "                res += k*(v/k) + (k if v%k else 0)\n",
    "        return res\n",
    "        \n",
    "    \n",
    "Solution().numRabbits([3,3])    \n"
   ]
  },
  {
   "cell_type": "markdown",
   "metadata": {},
   "source": [
    "#### Result: 36ms (40.86%)"
   ]
  }
 ],
 "metadata": {
  "kernelspec": {
   "display_name": "Python 2",
   "language": "python",
   "name": "python2"
  },
  "language_info": {
   "codemirror_mode": {
    "name": "ipython",
    "version": 2
   },
   "file_extension": ".py",
   "mimetype": "text/x-python",
   "name": "python",
   "nbconvert_exporter": "python",
   "pygments_lexer": "ipython2",
   "version": "2.7.16"
  }
 },
 "nbformat": 4,
 "nbformat_minor": 2
}
