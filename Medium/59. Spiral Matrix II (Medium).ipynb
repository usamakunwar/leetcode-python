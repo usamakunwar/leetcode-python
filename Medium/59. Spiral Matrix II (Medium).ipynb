{
 "cells": [
  {
   "cell_type": "markdown",
   "metadata": {},
   "source": [
    "# 59. Spiral Matrix II (Medium)"
   ]
  },
  {
   "cell_type": "markdown",
   "metadata": {},
   "source": [
    "<div><p>Given a positive integer <em>n</em>, generate a square matrix filled with elements from 1 to <em>n</em><sup>2</sup> in spiral order.</p>\n",
    "\n",
    "<p><strong>Example:</strong></p>\n",
    "\n",
    "<pre><strong>Input:</strong> 3\n",
    "<strong>Output:</strong>\n",
    "[\n",
    " [ 1, 2, 3 ],\n",
    " [ 8, 9, 4 ],\n",
    " [ 7, 6, 5 ]\n",
    "]\n",
    "</pre>\n",
    "</div>"
   ]
  },
  {
   "cell_type": "markdown",
   "metadata": {},
   "source": [
    "## Option 1\n",
    "<p>\n",
    "   Search \n",
    "<p>\n",
    "    <p>\n",
    "Time complexity: O(n)\n",
    "<br>\n",
    "Space complexity: O(n) "
   ]
  },
  {
   "cell_type": "code",
   "execution_count": null,
   "metadata": {},
   "outputs": [],
   "source": [
    "import collections\n",
    "class Solution(object):\n",
    "    def generateMatrix(self, N):\n",
    "        m = [[0]*N for i in range(N)]\n",
    "        dir = [(0,1),(1,0),(0,-1),(-1,0)]\n",
    "        def search((i,j),d,n):\n",
    "            if i < 0 or i >= N or j < 0 or j >= N or m[i][j]: return False\n",
    "            m[i][j] = n\n",
    "            if not search((i+dir[d][0],j+dir[d][1]),d,n+1):\n",
    "                search((i+dir[(d+1)%4][0],j+dir[(d+1)%4][1]),(d+1)%4,n+1)\n",
    "            return True\n",
    "        \n",
    "        search((0,0),0,1)\n",
    "        return m \n",
    "            \n",
    "    \n",
    "Solution().generateMatrix(3)\n",
    "\n"
   ]
  },
  {
   "cell_type": "markdown",
   "metadata": {},
   "source": [
    "#### Result: 16ms (87.37%)\n"
   ]
  },
  {
   "cell_type": "markdown",
   "metadata": {},
   "source": [
    "## Option 2\n",
    "<p>\n",
    "   Do not really need a search, as we are only going one way \n",
    "<p>\n",
    "    <p>\n",
    "Time complexity: O(n)\n",
    "<br>\n",
    "Space complexity: O(n) "
   ]
  },
  {
   "cell_type": "code",
   "execution_count": null,
   "metadata": {},
   "outputs": [],
   "source": [
    "import collections\n",
    "class Solution(object):\n",
    "    def generateMatrix(self, N):\n",
    "        m = [[0]*N for i in range(N)]\n",
    "        dir = [(0,1),(1,0),(0,-1),(-1,0)]\n",
    "        i,j,d = 0,0,0\n",
    "        \n",
    "        for n in range(1,N*N+1):\n",
    "            m[i][j] = n\n",
    "            ni,nj = i+dir[d][0], j+dir[d][1]\n",
    "            if ni < 0 or ni >= N or nj < 0 or nj >= N or m[ni][nj]:\n",
    "                ni,nj,d = i+dir[(d+1)%4][0], j+dir[(d+1)%4][1], (d+1)%4            \n",
    "            i,j = ni,nj\n",
    "            \n",
    "        return m \n",
    "    \n",
    "Solution().generateMatrix(3)\n",
    "\n"
   ]
  },
  {
   "cell_type": "markdown",
   "metadata": {},
   "source": [
    "#### Result: 16ms (87.37%)\n"
   ]
  },
  {
   "cell_type": "markdown",
   "metadata": {},
   "source": [
    "## Option 3\n",
    "<p>\n",
    "   <li>The conditions above are unnecessary. We can mod by N instead, which will not let the new (i,j) go of grid, then all we need to check is its already been set\n",
    "    <li>Also the directions array above can be replaced by di,dj = dj,-di\n",
    "<p>\n",
    "    <p>\n",
    "Time complexity: O(n)\n",
    "<br>\n",
    "Space complexity: O(n) "
   ]
  },
  {
   "cell_type": "code",
   "execution_count": null,
   "metadata": {},
   "outputs": [],
   "source": [
    "import collections\n",
    "class Solution(object):\n",
    "    def generateMatrix(self, N):\n",
    "        m = [[0]*N for i in range(N)]\n",
    "        i,j,di,dj = 0,0,0,1\n",
    "        for n in range(N*N):\n",
    "            m[i][j] = n+1\n",
    "            if m[(i+di)%N][(j+dj)%N]:\n",
    "                di,dj = dj,-di\n",
    "            i += di\n",
    "            j += dj\n",
    "        return m \n",
    "    \n",
    "Solution().generateMatrix(3)\n"
   ]
  },
  {
   "cell_type": "markdown",
   "metadata": {},
   "source": [
    "#### Result: 16ms (87.37%)\n"
   ]
  }
 ],
 "metadata": {
  "kernelspec": {
   "display_name": "Python 2",
   "language": "python",
   "name": "python2"
  },
  "language_info": {
   "codemirror_mode": {
    "name": "ipython",
    "version": 2
   },
   "file_extension": ".py",
   "mimetype": "text/x-python",
   "name": "python",
   "nbconvert_exporter": "python",
   "pygments_lexer": "ipython2",
   "version": "2.7.16"
  }
 },
 "nbformat": 4,
 "nbformat_minor": 2
}
