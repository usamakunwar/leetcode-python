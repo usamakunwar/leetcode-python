{
 "cells": [
  {
   "cell_type": "markdown",
   "metadata": {},
   "source": [
    "# 855. Exam Room (Medium)"
   ]
  },
  {
   "cell_type": "markdown",
   "metadata": {},
   "source": [
    "<div><p>In an exam room, there are <code>N</code> seats in a single row, numbered <code>0, 1, 2, ..., N-1</code>.</p>\n",
    "\n",
    "<p>When a student enters the room, they must sit in the seat that maximizes the distance to the closest person.&nbsp; If there are multiple such seats, they sit in the seat with the lowest number.&nbsp; (Also, if no one is in the room, then the student sits at seat number 0.)</p>\n",
    "\n",
    "<p>Return a class <code>ExamRoom(int N)</code>&nbsp;that exposes two functions: <code>ExamRoom.seat()</code>&nbsp;returning an <code>int</code>&nbsp;representing what seat the student sat in, and <code>ExamRoom.leave(int p)</code>&nbsp;representing that the student in seat number <code>p</code>&nbsp;now leaves the room.&nbsp; It is guaranteed that any calls to <code>ExamRoom.leave(p)</code> have a student sitting in seat <code>p</code>.</p>\n",
    "\n",
    "<p>&nbsp;</p>\n",
    "\n",
    "<p><strong>Example 1:</strong></p>\n",
    "\n",
    "<pre><strong>Input: </strong><span id=\"example-input-1-1\">[\"ExamRoom\",\"seat\",\"seat\",\"seat\",\"seat\",\"leave\",\"seat\"]</span>, <span id=\"example-input-1-2\">[[10],[],[],[],[],[4],[]]</span>\n",
    "<strong>Output: </strong><span id=\"example-output-1\">[null,0,9,4,2,null,5]</span>\n",
    "<span><strong>Explanation</strong>:\n",
    "ExamRoom(10) -&gt; null\n",
    "seat() -&gt; 0, no one is in the room, then the student sits at seat number 0.\n",
    "seat() -&gt; 9, the student sits at the last seat number 9.\n",
    "seat() -&gt; 4, the student sits at the last seat number 4.\n",
    "seat() -&gt; 2, the student sits at the last seat number 2.\n",
    "leave(4) -&gt; null\n",
    "seat() -&gt; 5, the student sits at the last seat number 5.</span>\n",
    "</pre>\n",
    "\n",
    "<p><span>​​​​​​​</span></p>\n",
    "\n",
    "<p><strong>Note:</strong></p>\n",
    "\n",
    "<ol>\n",
    "\t<li><code>1 &lt;= N &lt;= 10^9</code></li>\n",
    "\t<li><code>ExamRoom.seat()</code> and <code>ExamRoom.leave()</code> will be called at most <code>10^4</code> times across all test cases.</li>\n",
    "\t<li>Calls to <code>ExamRoom.leave(p)</code> are guaranteed to have a student currently sitting in seat number <code>p</code>.</li>\n",
    "</ol>\n",
    "</div>"
   ]
  },
  {
   "cell_type": "markdown",
   "metadata": {},
   "source": [
    "## Option 1\n",
    " <p>\n",
    "    <p>\n",
    "        <p>\n",
    "Time complexity: O(p)\n",
    "    <br>\n",
    "Space complexity: O(p) \n"
   ]
  },
  {
   "cell_type": "code",
   "execution_count": null,
   "metadata": {},
   "outputs": [],
   "source": [
    "class ExamRoom(object):\n",
    "\n",
    "    def __init__(self, N):\n",
    "        self.seats = []\n",
    "        self.n = N-1\n",
    "        \n",
    "    def seat(self):\n",
    "        seat, gap = 0, (self.seats[0] if self.seats else 0)\n",
    "               \n",
    "        for i in range(len(self.seats)-1):\n",
    "            curr_gap = ((self.seats[i]+self.seats[i+1])/2)-self.seats[i]\n",
    "            if curr_gap > gap: \n",
    "                seat, gap = self.seats[i]+curr_gap, curr_gap\n",
    "        \n",
    "        if self.seats and self.n - self.seats[-1] > gap:\n",
    "            seat = self.n\n",
    "        \n",
    "        bisect.insort(self.seats, seat)\n",
    "        return seat\n",
    "            \n",
    "        \n",
    "    def leave(self, p):\n",
    "        self.seats.remove(p)\n"
   ]
  },
  {
   "cell_type": "markdown",
   "metadata": {},
   "source": [
    "\n",
    "#### Result: 428ms (22.92%)"
   ]
  }
 ],
 "metadata": {
  "kernelspec": {
   "display_name": "Python 2",
   "language": "python",
   "name": "python2"
  },
  "language_info": {
   "codemirror_mode": {
    "name": "ipython",
    "version": 2
   },
   "file_extension": ".py",
   "mimetype": "text/x-python",
   "name": "python",
   "nbconvert_exporter": "python",
   "pygments_lexer": "ipython2",
   "version": "2.7.16"
  }
 },
 "nbformat": 4,
 "nbformat_minor": 2
}
