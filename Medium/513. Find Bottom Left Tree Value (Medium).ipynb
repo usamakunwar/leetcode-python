{
 "cells": [
  {
   "cell_type": "markdown",
   "metadata": {},
   "source": [
    "# 513. Find Bottom Left Tree Value (Medium)"
   ]
  },
  {
   "cell_type": "markdown",
   "metadata": {},
   "source": [
    "<div><p>\n",
    "Given a binary tree, find the leftmost value in the last row of the tree. \n",
    "</p>\n",
    "\n",
    "<p><b>Example 1:</b><br>\n",
    "</p><pre>Input:\n",
    "\n",
    "    2\n",
    "   / \\\n",
    "  1   3\n",
    "\n",
    "Output:\n",
    "1\n",
    "</pre>\n",
    "<p></p>\n",
    "\n",
    "<p> <b> Example 2: </b><br>\n",
    "</p><pre>Input:\n",
    "\n",
    "        1\n",
    "       / \\\n",
    "      2   3\n",
    "     /   / \\\n",
    "    4   5   6\n",
    "       /\n",
    "      7\n",
    "\n",
    "Output:\n",
    "7\n",
    "</pre>\n",
    "<p></p>\n",
    "\n",
    "<p><b>Note:</b>\n",
    "You may assume the tree (i.e., the given root node) is not <b>NULL</b>.\n",
    "</p></div>"
   ]
  },
  {
   "cell_type": "markdown",
   "metadata": {},
   "source": [
    "## Option 1\n",
    "\n",
    "Recursive (or could've used a while loop)\n",
    "<br>\n",
    "Time complexity = O(n)\n",
    "<br>\n",
    "Space complexity = O(1)"
   ]
  },
  {
   "cell_type": "code",
   "execution_count": 90,
   "metadata": {
    "scrolled": false
   },
   "outputs": [
    {
     "data": {
      "text/plain": [
       "3"
      ]
     },
     "execution_count": 90,
     "metadata": {},
     "output_type": "execute_result"
    }
   ],
   "source": [
    "# Definition for a binary tree node.\n",
    "# class TreeNode:\n",
    "#     def __init__(self, x):\n",
    "#         self.val = x\n",
    "#         self.left = None\n",
    "#         self.right = None\n",
    "class Solution:\n",
    "    def findBottomLeftValue(self, root: TreeNode) -> int:\n",
    "        def check(node,level):\n",
    "            if node.right is None and node.left is None:\n",
    "                return node.val, level\n",
    "            \n",
    "            if node.left:\n",
    "                lval, llevel = check(node.left, level+1)\n",
    "                if node.right == None: return lval, llevel\n",
    "            if node.right:\n",
    "                rval, rlevel = check(node.right, level+1)\n",
    "                if node.left == None: return rval, rlevel\n",
    "            \n",
    "            if llevel >= rlevel:\n",
    "                return lval, llevel\n",
    "            else:\n",
    "                return rval, rlevel\n",
    "        \n",
    "        val,level = check(root,0)\n",
    "        return val"
   ]
  },
  {
   "cell_type": "markdown",
   "metadata": {},
   "source": [
    "#### Result:  40ms (90.98%)"
   ]
  }
 ],
 "metadata": {
  "kernelspec": {
   "display_name": "Python 3",
   "language": "python",
   "name": "python3"
  },
  "language_info": {
   "codemirror_mode": {
    "name": "ipython",
    "version": 3
   },
   "file_extension": ".py",
   "mimetype": "text/x-python",
   "name": "python",
   "nbconvert_exporter": "python",
   "pygments_lexer": "ipython3",
   "version": "3.7.4"
  }
 },
 "nbformat": 4,
 "nbformat_minor": 2
}
