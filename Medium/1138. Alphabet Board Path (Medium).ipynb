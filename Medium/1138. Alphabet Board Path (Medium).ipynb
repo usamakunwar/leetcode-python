{
 "cells": [
  {
   "cell_type": "markdown",
   "metadata": {},
   "source": [
    "# 1138. Alphabet Board Path (Medium)"
   ]
  },
  {
   "cell_type": "markdown",
   "metadata": {},
   "source": [
    "<div><p>On an alphabet board, we start at position <code>(0, 0)</code>, corresponding to character&nbsp;<code>board[0][0]</code>.</p>\n",
    "\n",
    "<p>Here, <code>board = [\"abcde\", \"fghij\", \"klmno\", \"pqrst\", \"uvwxy\", \"z\"]</code>, as shown in the diagram below.</p>\n",
    "\n",
    "<p><img alt=\"\" src=\"https://assets.leetcode.com/uploads/2019/07/28/azboard.png\" style=\"width: 250px; height: 317px;\"></p>\n",
    "\n",
    "<p>We may make the following moves:</p>\n",
    "\n",
    "<ul>\n",
    "\t<li><code>'U'</code> moves our position up one row, if the position exists on the board;</li>\n",
    "\t<li><code>'D'</code> moves our position down one row, if the position exists on the board;</li>\n",
    "\t<li><code>'L'</code> moves our position left one column, if the position exists on the board;</li>\n",
    "\t<li><code>'R'</code> moves our position right one column, if the position exists on the board;</li>\n",
    "\t<li><code>'!'</code>&nbsp;adds the character <code>board[r][c]</code> at our current position <code>(r, c)</code>&nbsp;to the&nbsp;answer.</li>\n",
    "</ul>\n",
    "\n",
    "<p>(Here, the only positions that exist on the board are positions with letters on them.)</p>\n",
    "\n",
    "<p>Return a sequence of moves that makes our answer equal to <code>target</code>&nbsp;in the minimum number of moves.&nbsp; You may return any path that does so.</p>\n",
    "\n",
    "<p>&nbsp;</p>\n",
    "<p><strong>Example 1:</strong></p>\n",
    "<pre><strong>Input:</strong> target = \"leet\"\n",
    "<strong>Output:</strong> \"DDR!UURRR!!DDD!\"\n",
    "</pre><p><strong>Example 2:</strong></p>\n",
    "<pre><strong>Input:</strong> target = \"code\"\n",
    "<strong>Output:</strong> \"RR!DDRR!UUL!R!\"\n",
    "</pre>\n",
    "<p>&nbsp;</p>\n",
    "<p><strong>Constraints:</strong></p>\n",
    "\n",
    "<ul>\n",
    "\t<li><code>1 &lt;= target.length &lt;= 100</code></li>\n",
    "\t<li><code>target</code> consists only of English lowercase letters.</li>\n",
    "</ul></div>"
   ]
  },
  {
   "cell_type": "markdown",
   "metadata": {},
   "source": [
    "## Option 1\n",
    "\n",
    "<p>\n",
    "    Sliding window\n",
    "<p>\n",
    "Time complexity: O(n)\n",
    "<br>\n",
    "Space complexity: O(1)"
   ]
  },
  {
   "cell_type": "code",
   "execution_count": null,
   "metadata": {
    "scrolled": false
   },
   "outputs": [],
   "source": [
    "class Solution(object):\n",
    "    def alphabetBoardPath(self, target):\n",
    "        res, curr = '', 0\n",
    "        for t in target:\n",
    "            new = ord(t)-ord('a')\n",
    "            row = (new/5)-(curr/5) #Row difference\n",
    "            col = (new%5)-(curr%5) #Column difference\n",
    "            \n",
    "            #In order to avoid going over the board when going from or to z\n",
    "            #We go Left or Up first then Right or Down\n",
    "            if col < 0: res += 'L'*-col\n",
    "            if row < 0: res += 'U'*-row\n",
    "            if col > 0: res += 'R'*col\n",
    "            if row > 0: res += 'D'*row\n",
    "            res += '!'\n",
    "            curr = new\n",
    "            \n",
    "        return res\n",
    "Solution().alphabetBoardPath(\"oz\")"
   ]
  },
  {
   "cell_type": "markdown",
   "metadata": {},
   "source": [
    "#### Result: 16ms (77.06%)"
   ]
  }
 ],
 "metadata": {
  "kernelspec": {
   "display_name": "Python 2",
   "language": "python",
   "name": "python2"
  },
  "language_info": {
   "codemirror_mode": {
    "name": "ipython",
    "version": 2
   },
   "file_extension": ".py",
   "mimetype": "text/x-python",
   "name": "python",
   "nbconvert_exporter": "python",
   "pygments_lexer": "ipython2",
   "version": "2.7.16"
  }
 },
 "nbformat": 4,
 "nbformat_minor": 2
}
