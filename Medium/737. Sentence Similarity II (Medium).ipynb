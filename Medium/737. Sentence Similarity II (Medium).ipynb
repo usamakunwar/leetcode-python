{
 "cells": [
  {
   "cell_type": "markdown",
   "metadata": {},
   "source": [
    "# 737. Sentence Similarity II (Medium)"
   ]
  },
  {
   "cell_type": "markdown",
   "metadata": {},
   "source": [
    "<div><p>Given two sentences <code>words1, words2</code> (each represented as an array of strings), and a list of similar word pairs <code>pairs</code>, determine if two sentences are similar.</p>\n",
    "\n",
    "<p>For example, <code>words1 = [\"great\", \"acting\", \"skills\"]</code> and <code>words2 = [\"fine\", \"drama\", \"talent\"]</code> are similar, if the similar word pairs are <code>pairs = [[\"great\", \"good\"], [\"fine\", \"good\"], [\"acting\",\"drama\"], [\"skills\",\"talent\"]]</code>.</p>\n",
    "\n",
    "<p>Note that the similarity relation <b>is</b> transitive. For example, if \"great\" and \"good\" are similar, and \"fine\" and \"good\" are similar, then \"great\" and \"fine\" <b>are similar</b>.</p>\n",
    "\n",
    "<p>Similarity is also symmetric. For example, \"great\" and \"fine\" being similar is the same as \"fine\" and \"great\" being similar.</p>\n",
    "\n",
    "<p>Also, a word is always similar with itself. For example, the sentences <code>words1 = [\"great\"], words2 = [\"great\"], pairs = []</code> are similar, even though there are no specified similar word pairs.</p>\n",
    "\n",
    "<p>Finally, sentences can only be similar if they have the same number of words. So a sentence like <code>words1 = [\"great\"]</code> can never be similar to <code>words2 = [\"doubleplus\",\"good\"]</code>.</p>\n",
    "\n",
    "<p><b>Note:</b></p>\n",
    "\n",
    "<ul>\n",
    "\t<li>The length of <code>words1</code> and <code>words2</code> will not exceed <code>1000</code>.</li>\n",
    "\t<li>The length of <code>pairs</code> will not exceed <code>2000</code>.</li>\n",
    "\t<li>The length of each <code>pairs[i]</code> will be <code>2</code>.</li>\n",
    "\t<li>The length of each <code>words[i]</code> and <code>pairs[i][j]</code> will be in the range <code>[1, 20]</code>.</li>\n",
    "</ul>\n",
    "\n",
    "<p>&nbsp;</p>\n",
    "</div>"
   ]
  },
  {
   "cell_type": "markdown",
   "metadata": {},
   "source": [
    "## Option 1\n",
    "<p>\n",
    "   Two maps\n",
    "<p>\n",
    "    <p>\n",
    "Time complexity: O(np) length of words, length of pairs\n",
    "<br>\n",
    "Space complexity: O(p) "
   ]
  },
  {
   "cell_type": "code",
   "execution_count": null,
   "metadata": {},
   "outputs": [],
   "source": [
    "import collections\n",
    "class Solution(object):\n",
    "    def areSentencesSimilarTwo(self, words1, words2, pairs):\n",
    "        if len(words1) != len(words2): return False\n",
    "        buckets,bucket_map = {},{}\n",
    "        i = 0\n",
    "        for a,b in pairs:\n",
    "            if a in bucket_map and b in bucket_map:\n",
    "                #If a and b exist and they are not equal, we have to merge the buckets\n",
    "                if bucket_map[a] != bucket_map[b]:\n",
    "                    to_merge = bucket_map[b]\n",
    "                    for j in buckets[to_merge]:\n",
    "                        buckets[bucket_map[a]].append(j)\n",
    "                        bucket_map[j] = bucket_map[a] \n",
    "                    del buckets[to_merge]\n",
    "            elif a in bucket_map:\n",
    "                buckets[bucket_map[a]].append(b)\n",
    "                bucket_map[b] = bucket_map[a]\n",
    "            elif b in bucket_map:\n",
    "                buckets[bucket_map[b]].append(a)\n",
    "                bucket_map[a] = bucket_map[b]            \n",
    "            else:\n",
    "                buckets[i] = [a,b]\n",
    "                bucket_map[a] = bucket_map[b] = i\n",
    "                i += 1\n",
    "                \n",
    "            \n",
    "        for i in range(len(words1)):\n",
    "            if not ((words1[i] == words2[i]) or \n",
    "                    (words1[i] in bucket_map and words2[i] in bucket_map\n",
    "                     and bucket_map[words1[i]] == bucket_map[words2[i]])):\n",
    "                return False\n",
    "        return True\n",
    "    \n",
    "Solution().areSentencesSimilarTwo([\"great\",\"acting\",\"skills\"], [\"fine\",\"drama\",\"talent\"],\n",
    "                                  [[\"great\",\"good\"],[\"fine\",\"good\"],[\"drama\",\"acting\"],[\"skills\",\"talent\"]])\n",
    "\n"
   ]
  },
  {
   "cell_type": "markdown",
   "metadata": {},
   "source": [
    "#### Result: 372ms (98.38%)\n"
   ]
  },
  {
   "cell_type": "markdown",
   "metadata": {},
   "source": [
    "## Option 2\n",
    "<p>\n",
    "   DFS\n",
    "<p>\n",
    "    <p>\n",
    "Time complexity: O(np) length of words, length of pairs\n",
    "<br>\n",
    "Space complexity: O(p) "
   ]
  },
  {
   "cell_type": "code",
   "execution_count": null,
   "metadata": {},
   "outputs": [],
   "source": [
    "import collections\n",
    "class Solution(object):\n",
    "    def areSentencesSimilarTwo(self, words1, words2, pairs):\n",
    "        if len(words1) != len(words2): return False\n",
    "        self.m = collections.defaultdict(set)\n",
    "        for a,b in pairs:\n",
    "            self.m[a].add(b)\n",
    "            self.m[b].add(a)\n",
    "        \n",
    "        def search(needle,haystack,seen):\n",
    "            if needle in haystack: return True\n",
    "            for w in haystack:\n",
    "                if w not in seen:\n",
    "                    seen.add(w)\n",
    "                    if search(needle,self.m[w],seen): return True\n",
    "            return False\n",
    "        \n",
    "        for i in range(len(words1)):\n",
    "            if words1[i] == words2[i]: continue\n",
    "            if not search(words1[i], self.m[words2[i]], set(words2[i])): \n",
    "                return False\n",
    "            \n",
    "        return True\n",
    "\n",
    "    Solution().areSentencesSimilarTwo([\"great\",\"acting\",\"skills\"], [\"fine\",\"drama\",\"talent\"],\n",
    "                                  [[\"great\",\"good\"],[\"fine\",\"good\"],[\"drama\",\"acting\"],[\"skills\",\"talent\"]])"
   ]
  },
  {
   "cell_type": "markdown",
   "metadata": {},
   "source": [
    "#### Result: 432ms (53.72%)\n"
   ]
  }
 ],
 "metadata": {
  "kernelspec": {
   "display_name": "Python 2",
   "language": "python",
   "name": "python2"
  },
  "language_info": {
   "codemirror_mode": {
    "name": "ipython",
    "version": 2
   },
   "file_extension": ".py",
   "mimetype": "text/x-python",
   "name": "python",
   "nbconvert_exporter": "python",
   "pygments_lexer": "ipython2",
   "version": "2.7.16"
  }
 },
 "nbformat": 4,
 "nbformat_minor": 2
}
