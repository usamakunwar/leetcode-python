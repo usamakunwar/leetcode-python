{
 "cells": [
  {
   "cell_type": "markdown",
   "metadata": {},
   "source": [
    "# 162. Find Peak Element (Medium)"
   ]
  },
  {
   "cell_type": "markdown",
   "metadata": {},
   "source": [
    "<div><p>A peak element is an element that is greater than its neighbors.</p>\n",
    "\n",
    "<p>Given an input array <code>nums</code>, where <code>nums[i] ≠ nums[i+1]</code>, find a peak element and return its index.</p>\n",
    "\n",
    "<p>The array may contain multiple peaks, in that case return the index to any one of the peaks is fine.</p>\n",
    "\n",
    "<p>You may imagine that <code>nums[-1] = nums[n] = -∞</code>.</p>\n",
    "\n",
    "<p><strong>Example 1:</strong></p>\n",
    "\n",
    "<pre><strong>Input:</strong> <strong>nums</strong> = <code>[1,2,3,1]</code>\n",
    "<strong>Output:</strong> 2\n",
    "<strong>Explanation:</strong> 3 is a peak element and your function should return the index number 2.</pre>\n",
    "\n",
    "<p><strong>Example 2:</strong></p>\n",
    "\n",
    "<pre><strong>Input:</strong> <strong>nums</strong> = <code>[</code>1,2,1,3,5,6,4]\n",
    "<strong>Output:</strong> 1 or 5 \n",
    "<strong>Explanation:</strong> Your function can return either index number 1 where the peak element is 2, \n",
    "&nbsp;            or index number 5 where the peak element is 6.\n",
    "</pre>\n",
    "\n",
    "<p><strong>Follow up:</strong>&nbsp;Your solution should be in logarithmic complexity.</p>\n",
    "</div>"
   ]
  },
  {
   "cell_type": "markdown",
   "metadata": {},
   "source": [
    "## Option 1\n",
    " <p>    \n",
    "<p>\n",
    "    Binary search\n",
    "    <p>       \n",
    "<p>\n",
    "        \n",
    "Time complexity: O(logn)\n",
    "    <br>\n",
    "Space complexity: O(1)\n"
   ]
  },
  {
   "cell_type": "code",
   "execution_count": null,
   "metadata": {},
   "outputs": [],
   "source": [
    "class Solution(object):\n",
    "    def findPeakElement(self, nums):\n",
    "        l,r = 0, len(nums)-1\n",
    "        nums.append(float('-inf')) #Add this to exist early, for nums[-1] lookup\n",
    "        \n",
    "        while l < r:\n",
    "            mid = (l+r)/2            \n",
    "            if nums[mid-1] < nums[mid] > nums[mid+1] :\n",
    "                return mid\n",
    "            elif nums[mid-1] < nums[mid] < nums[mid+1]:\n",
    "                l = mid + 1\n",
    "            else:\n",
    "                r = mid - 1\n",
    "        \n",
    "        return l"
   ]
  },
  {
   "cell_type": "markdown",
   "metadata": {},
   "source": [
    "#### Result:  24ms (98.41%)"
   ]
  }
 ],
 "metadata": {
  "kernelspec": {
   "display_name": "Python 2",
   "language": "python",
   "name": "python2"
  },
  "language_info": {
   "codemirror_mode": {
    "name": "ipython",
    "version": 2
   },
   "file_extension": ".py",
   "mimetype": "text/x-python",
   "name": "python",
   "nbconvert_exporter": "python",
   "pygments_lexer": "ipython2",
   "version": "2.7.16"
  }
 },
 "nbformat": 4,
 "nbformat_minor": 2
}
