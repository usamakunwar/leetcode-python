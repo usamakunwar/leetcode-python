{
 "cells": [
  {
   "cell_type": "markdown",
   "metadata": {},
   "source": [
    "# 1008. Construct Binary Search Tree from Preorder Traversal (Medium)\n"
   ]
  },
  {
   "cell_type": "markdown",
   "metadata": {},
   "source": [
    "<div><p>Return the root node of a binary <strong>search</strong> tree that matches the given <code>preorder</code> traversal.</p>\n",
    "\n",
    "<p><em>(Recall that a binary search tree&nbsp;is a binary tree where for every <font face=\"monospace\">node</font>, any descendant of <code>node.left</code> has a value <code>&lt;</code>&nbsp;<code>node.val</code>, and any descendant of <code>node.right</code> has a value <code>&gt;</code>&nbsp;<code>node.val</code>.&nbsp; Also recall that a preorder traversal&nbsp;displays the value of the&nbsp;<code>node</code> first, then traverses <code>node.left</code>, then traverses <code>node.right</code>.)</em></p>\n",
    "\n",
    "<p>&nbsp;</p>\n",
    "\n",
    "<p><strong>Example 1:</strong></p>\n",
    "\n",
    "<pre><strong>Input: </strong><span id=\"example-input-1-1\">[8,5,1,7,10,12]</span>\n",
    "<strong>Output: </strong><span id=\"example-output-1\">[8,5,10,1,7,null,12]\n",
    "<img alt=\"\" src=\"https://assets.leetcode.com/uploads/2019/03/06/1266.png\" style=\"height: 200px; width: 306px;\"></span>\n",
    "</pre>\n",
    "\n",
    "<p>&nbsp;</p>\n",
    "\n",
    "<p><strong>Note:</strong>&nbsp;</p>\n",
    "\n",
    "<ol>\n",
    "\t<li><code>1 &lt;= preorder.length &lt;= 100</code></li>\n",
    "\t<li>The values of <code>preorder</code> are distinct.</li>\n",
    "</ol>\n",
    "</div>"
   ]
  },
  {
   "cell_type": "markdown",
   "metadata": {},
   "source": [
    "## Option 1\n",
    "<p>\n",
    "    Recursive\n",
    "\n",
    "Time complexity: O(n)\n",
    "<br>\n",
    "Space complexity: O(n)"
   ]
  },
  {
   "cell_type": "code",
   "execution_count": null,
   "metadata": {
    "scrolled": false
   },
   "outputs": [],
   "source": [
    "# Definition for a binary tree node.\n",
    "# class TreeNode(object):\n",
    "#     def __init__(self, x):\n",
    "#         self.val = x\n",
    "#         self.left = None\n",
    "#         self.right = None\n",
    "\n",
    "class Solution(object):\n",
    "    def bstFromPreorder(self, preorder):\n",
    "        \"\"\"\n",
    "        :type preorder: List[int]\n",
    "        :rtype: TreeNode\n",
    "        \"\"\"\n",
    "        ln = len(preorder)-1\n",
    "        def make(i,parent):\n",
    "            node = TreeNode(preorder[i])\n",
    "\n",
    "            if i < ln and preorder[i+1] < node.val:\n",
    "                node.left, i = make(i+1, node.val)\n",
    "                \n",
    "            if i < ln and preorder[i+1] > node.val and (not parent or preorder[i+1] < parent):\n",
    "                node.right,i = make(i+1, parent) \n",
    "\n",
    "            return node,i\n",
    "        \n",
    "        \n",
    "        return make(0,None)[0]"
   ]
  },
  {
   "cell_type": "markdown",
   "metadata": {},
   "source": [
    "#### Result: 8ms (100.0%)"
   ]
  },
  {
   "cell_type": "markdown",
   "metadata": {},
   "source": [
    "## Option 2\n",
    "<p>\n",
    "    Recursive similar to above, better code\n",
    "   <li><strong>preorder[i+1] > node.val</strong> This condition above is unecessary as all values below would have already <br>\n",
    "       been dealt with by the left recursion. \n",
    "   <li>Also, as we are sending the parent value, we can check the condition at the node instead of its parent \n",
    "<p>\n",
    "    <p>\n",
    "Time complexity: O(n)\n",
    "<br>\n",
    "Space complexity: O(n)"
   ]
  },
  {
   "cell_type": "code",
   "execution_count": null,
   "metadata": {},
   "outputs": [],
   "source": [
    "# Definition for a binary tree node.\n",
    "# class TreeNode(object):\n",
    "#     def __init__(self, x):\n",
    "#         self.val = x\n",
    "#         self.left = None\n",
    "#         self.right = None\n",
    "\n",
    "class Solution(object):\n",
    "    def bstFromPreorder(self, preorder):\n",
    "        \"\"\"\n",
    "        :type preorder: List[int]\n",
    "        :rtype: TreeNode\n",
    "        \"\"\"\n",
    "        ln = len(preorder)\n",
    "        self.i = 0\n",
    "        def make(bound):\n",
    "            if self.i == ln or preorder[self.i] > bound: return None\n",
    "            node = TreeNode(preorder[self.i])\n",
    "            self.i += 1\n",
    "            node.left = make(node.val)\n",
    "            node.right = make(bound) \n",
    "\n",
    "            return node\n",
    "        \n",
    "        return make(float('inf'))"
   ]
  },
  {
   "cell_type": "markdown",
   "metadata": {},
   "source": [
    "#### Result: 12ms (99.74%)"
   ]
  }
 ],
 "metadata": {
  "kernelspec": {
   "display_name": "Python 2",
   "language": "python",
   "name": "python2"
  },
  "language_info": {
   "codemirror_mode": {
    "name": "ipython",
    "version": 2
   },
   "file_extension": ".py",
   "mimetype": "text/x-python",
   "name": "python",
   "nbconvert_exporter": "python",
   "pygments_lexer": "ipython2",
   "version": "2.7.16"
  }
 },
 "nbformat": 4,
 "nbformat_minor": 2
}
