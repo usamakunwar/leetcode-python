{
 "cells": [
  {
   "cell_type": "markdown",
   "metadata": {},
   "source": [
    "# 869. Reordered Power of 2 (Medium)"
   ]
  },
  {
   "cell_type": "markdown",
   "metadata": {},
   "source": [
    "<div><p>Starting with a positive integer <code>N</code>, we reorder the digits in any order (including the original order) such that the leading digit is not zero.</p>\n",
    "\n",
    "<p>Return <code>true</code>&nbsp;if and only if we can do this in a way such that the resulting number is a power of 2.</p>\n",
    "\n",
    "<p>&nbsp;</p>\n",
    "\n",
    "<ol>\n",
    "</ol>\n",
    "\n",
    "<div>\n",
    "<p><strong>Example 1:</strong></p>\n",
    "\n",
    "<pre><strong>Input: </strong><span id=\"example-input-1-1\">1</span>\n",
    "<strong>Output: </strong><span id=\"example-output-1\">true</span>\n",
    "</pre>\n",
    "\n",
    "<div>\n",
    "<p><strong>Example 2:</strong></p>\n",
    "\n",
    "<pre><strong>Input: </strong><span id=\"example-input-2-1\">10</span>\n",
    "<strong>Output: </strong><span id=\"example-output-2\">false</span>\n",
    "</pre>\n",
    "\n",
    "<div>\n",
    "<p><strong>Example 3:</strong></p>\n",
    "\n",
    "<pre><strong>Input: </strong><span id=\"example-input-3-1\">16</span>\n",
    "<strong>Output: </strong><span id=\"example-output-3\">true</span>\n",
    "</pre>\n",
    "\n",
    "<div>\n",
    "<p><strong>Example 4:</strong></p>\n",
    "\n",
    "<pre><strong>Input: </strong><span id=\"example-input-4-1\">24</span>\n",
    "<strong>Output: </strong><span id=\"example-output-4\">false</span>\n",
    "</pre>\n",
    "\n",
    "<div>\n",
    "<p><strong>Example 5:</strong></p>\n",
    "\n",
    "<pre><strong>Input: </strong><span id=\"example-input-5-1\">46</span>\n",
    "<strong>Output: </strong><span id=\"example-output-5\">true</span>\n",
    "</pre>\n",
    "\n",
    "<p>&nbsp;</p>\n",
    "\n",
    "<p><strong>Note:</strong></p>\n",
    "\n",
    "<ol>\n",
    "\t<li><code>1 &lt;= N &lt;= 10^9</code></li>\n",
    "</ol>\n",
    "</div>\n",
    "</div>\n",
    "</div>\n",
    "</div>\n",
    "</div>\n",
    "</div>"
   ]
  },
  {
   "cell_type": "markdown",
   "metadata": {},
   "source": [
    "## Option 1\n",
    " <p>     <p>\n",
    "    <p>\n",
    "        <p>\n",
    "        \n",
    "Time complexity: O(1)\n",
    "    <br>\n",
    "Space complexity: O(1)\n"
   ]
  },
  {
   "cell_type": "code",
   "execution_count": null,
   "metadata": {
    "scrolled": true
   },
   "outputs": [],
   "source": [
    "import collections\n",
    "class Solution(object):\n",
    "    def reorderedPowerOf2(self, N):\n",
    "        arr = collections.defaultdict(set)\n",
    "        \n",
    "        for i in range(35):\n",
    "            v = str(2**i)\n",
    "            arr[len(v)].add(''.join(sorted(list(v))))\n",
    "        \n",
    "        N = ''.join(sorted(list(str(N))))\n",
    "        for n in arr[len(N)]:\n",
    "            if n == N: return True\n",
    "        \n",
    "        return False\n",
    "        \n",
    "\n",
    "Solution().reorderedPowerOf2(46)\n",
    "        "
   ]
  },
  {
   "cell_type": "markdown",
   "metadata": {},
   "source": [
    "#### Result: 16ms (92.59%)"
   ]
  }
 ],
 "metadata": {
  "kernelspec": {
   "display_name": "Python 2",
   "language": "python",
   "name": "python2"
  },
  "language_info": {
   "codemirror_mode": {
    "name": "ipython",
    "version": 2
   },
   "file_extension": ".py",
   "mimetype": "text/x-python",
   "name": "python",
   "nbconvert_exporter": "python",
   "pygments_lexer": "ipython2",
   "version": "2.7.16"
  }
 },
 "nbformat": 4,
 "nbformat_minor": 2
}
