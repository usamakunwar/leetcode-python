{
 "cells": [
  {
   "cell_type": "markdown",
   "metadata": {},
   "source": [
    "# 886. Possible Bipartition (Medium)"
   ]
  },
  {
   "cell_type": "markdown",
   "metadata": {},
   "source": [
    "<div><p>Given a set of <code>N</code>&nbsp;people (numbered <code>1, 2, ..., N</code>), we would like to split everyone into two groups of <strong>any</strong> size.</p>\n",
    "\n",
    "<p>Each person may dislike some other people, and they should not go into the same group.&nbsp;</p>\n",
    "\n",
    "<p>Formally, if <code>dislikes[i] = [a, b]</code>, it means it is not allowed to put the people numbered <code>a</code> and <code>b</code> into the same group.</p>\n",
    "\n",
    "<p>Return <code>true</code>&nbsp;if and only if it is possible to split everyone into two groups in this way.</p>\n",
    "\n",
    "<p>&nbsp;</p>\n",
    "\n",
    "<div>\n",
    "<div>\n",
    "<ol>\n",
    "</ol>\n",
    "</div>\n",
    "</div>\n",
    "\n",
    "<div>\n",
    "<p><strong>Example 1:</strong></p>\n",
    "\n",
    "<pre><strong>Input: </strong>N = <span id=\"example-input-1-1\">4</span>, dislikes = <span id=\"example-input-1-2\">[[1,2],[1,3],[2,4]]</span>\n",
    "<strong>Output: </strong><span id=\"example-output-1\">true</span>\n",
    "<strong>Explanation</strong>: group1 [1,4], group2 [2,3]\n",
    "</pre>\n",
    "\n",
    "<div>\n",
    "<p><strong>Example 2:</strong></p>\n",
    "\n",
    "<pre><strong>Input: </strong>N = <span id=\"example-input-2-1\">3</span>, dislikes = <span id=\"example-input-2-2\">[[1,2],[1,3],[2,3]]</span>\n",
    "<strong>Output: </strong><span id=\"example-output-2\">false</span>\n",
    "</pre>\n",
    "\n",
    "<div>\n",
    "<p><strong>Example 3:</strong></p>\n",
    "\n",
    "<pre><strong>Input: </strong>N = <span id=\"example-input-3-1\">5</span>, dislikes = <span id=\"example-input-3-2\">[[1,2],[2,3],[3,4],[4,5],[1,5]]</span>\n",
    "<strong>Output: </strong><span id=\"example-output-3\">false</span>\n",
    "</pre>\n",
    "</div>\n",
    "</div>\n",
    "</div>\n",
    "\n",
    "<p>&nbsp;</p>\n",
    "<p><strong>Constraints:</strong></p>\n",
    "\n",
    "<ul>\n",
    "\t<li><code>1 &lt;= N &lt;= 2000</code></li>\n",
    "\t<li><code>0 &lt;= dislikes.length &lt;= 10000</code></li>\n",
    "\t<li><code>dislikes[i].length == 2</code></li>\n",
    "\t<li><code>1 &lt;= dislikes[i][j] &lt;= N</code></li>\n",
    "\t<li><code>dislikes[i][0] &lt; dislikes[i][1]</code></li>\n",
    "\t<li>There does not exist <code>i != j</code> for which <code>dislikes[i] == dislikes[j]</code>.</li>\n",
    "</ul>\n",
    "</div>"
   ]
  },
  {
   "cell_type": "markdown",
   "metadata": {},
   "source": [
    "## Option 1\n",
    " <p>    \n",
    "<p>\n",
    "    <li>Similar to Graph Bipartite, curr is a color. If we can get through the search without an odd cycle, it is possible to partition\n",
    "<p>\n",
    "        \n",
    "Time complexity: O(n)\n",
    "    <br>\n",
    "Space complexity: O(n)\n"
   ]
  },
  {
   "cell_type": "code",
   "execution_count": 3,
   "metadata": {},
   "outputs": [
    {
     "data": {
      "text/plain": [
       "True"
      ]
     },
     "execution_count": 3,
     "metadata": {},
     "output_type": "execute_result"
    }
   ],
   "source": [
    "import collections\n",
    "class Solution(object):\n",
    "    def possibleBipartition(self, N, dislikes):\n",
    "        graph = collections.defaultdict(list)\n",
    "        for u,v in dislikes:\n",
    "            graph[u].append(v)\n",
    "            graph[v].append(u)\n",
    "        \n",
    "        self.seen = {}\n",
    "        \n",
    "        def search(i, curr):\n",
    "            self.seen[i] = curr\n",
    "            for j in graph[i]:\n",
    "                if j not in self.seen:\n",
    "                    if not search(j, not curr): return False\n",
    "                elif self.seen[j] == curr:\n",
    "                    return False\n",
    "            return True\n",
    "        \n",
    "        return all(search(i, True) for i in range(1,N+1) if i not in self.seen)\n",
    "            \n",
    "                \n",
    "Solution().possibleBipartition(4, [[1,2],[1,3],[2,4]])\n",
    "        "
   ]
  },
  {
   "cell_type": "markdown",
   "metadata": {},
   "source": [
    "#### Result:  672ms (60.54%)"
   ]
  }
 ],
 "metadata": {
  "kernelspec": {
   "display_name": "Python 2",
   "language": "python",
   "name": "python2"
  },
  "language_info": {
   "codemirror_mode": {
    "name": "ipython",
    "version": 2
   },
   "file_extension": ".py",
   "mimetype": "text/x-python",
   "name": "python",
   "nbconvert_exporter": "python",
   "pygments_lexer": "ipython2",
   "version": "2.7.16"
  }
 },
 "nbformat": 4,
 "nbformat_minor": 2
}
