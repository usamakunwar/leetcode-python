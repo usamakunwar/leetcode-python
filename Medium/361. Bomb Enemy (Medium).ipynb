{
 "cells": [
  {
   "cell_type": "markdown",
   "metadata": {},
   "source": [
    "# 361. Bomb Enemy (Medium)"
   ]
  },
  {
   "cell_type": "markdown",
   "metadata": {},
   "source": [
    "<div><p>Given a 2D grid, each cell is either a wall <code>'W'</code>, an enemy <code>'E'</code> or empty <code>'0'</code> (the number zero), return the maximum enemies you can kill using one bomb.<br>\n",
    "The bomb kills all the enemies in the same row and column from the planted point until it hits the wall since the wall is too strong to be destroyed.<br>\n",
    "<strong>Note: </strong>You can only put the bomb at an empty cell.</p>\n",
    "\n",
    "<p><strong>Example:</strong></p>\n",
    "\n",
    "<div>\n",
    "<pre><strong>Input: </strong><span id=\"example-input-1-1\">[[\"0\",\"E\",\"0\",\"0\"],[\"E\",\"0\",\"W\",\"E\"],[\"0\",\"E\",\"0\",\"0\"]]</span>\n",
    "<strong>Output: </strong><span id=\"example-output-1\">3 \n",
    "<strong>Explanation: </strong></span>For the given grid,\n",
    "\n",
    "0 E 0 0 \n",
    "E 0 W E \n",
    "0 E 0 0\n",
    "\n",
    "Placing a bomb at (1,1) kills 3 enemies.\n",
    "</pre>\n",
    "</div></div>"
   ]
  },
  {
   "cell_type": "markdown",
   "metadata": {},
   "source": [
    "## Option 1\n",
    "\n",
    "<p>\n",
    "    <li>We need the sum of E's in every row and column, between W's\n",
    "   <p>\n",
    "       <p>\n",
    "           \n",
    "Time complexity: O(n*m)\n",
    "    <br>\n",
    "Space complexity: O(n*m)\n"
   ]
  },
  {
   "cell_type": "code",
   "execution_count": null,
   "metadata": {},
   "outputs": [],
   "source": [
    "class Solution(object):\n",
    "    def maxKilledEnemies(self, grid):\n",
    "        dp = [[(0,0)]*(len(grid[0])+2) for i in range(len(grid)+2)]\n",
    "        \n",
    "        #accumulate E's in all rows and columns\n",
    "        for i in range(len(grid)):\n",
    "            for j in range(len(grid[0])):\n",
    "                if grid[i][j] != 'W': \n",
    "                    r = dp[i+1][j][0] + (grid[i][j] == \"E\")\n",
    "                    c = dp[i][j+1][1] + (grid[i][j] == \"E\")\n",
    "                    dp[i+1][j+1] = (r,c)\n",
    "                    \n",
    "        #The sum has to be spread back, whilst doing that we can figure out the max\n",
    "        res = 0\n",
    "        for i in range(len(grid)-1,-1,-1):\n",
    "            for j in range(len(grid[0])-1,-1,-1):\n",
    "                if grid[i][j] != 'W': \n",
    "                    r = max(dp[i+1][j+1][0], dp[i+1][j+2][0])                \n",
    "                    c = max(dp[i+1][j+1][1], dp[i+2][j+1][1])\n",
    "                    dp[i+1][j+1] = (r,c)\n",
    "                if grid[i][j] == \"0\": res = max(res,r+c)\n",
    "                    \n",
    "        return res\n",
    "\n",
    "Solution().maxKilledEnemies([[\"0\",\"W\",\"E\",\"W\"]])\n",
    "    "
   ]
  },
  {
   "cell_type": "markdown",
   "metadata": {},
   "source": [
    "#### Result: 476ms (27.78%)"
   ]
  }
 ],
 "metadata": {
  "kernelspec": {
   "display_name": "Python 2",
   "language": "python",
   "name": "python2"
  },
  "language_info": {
   "codemirror_mode": {
    "name": "ipython",
    "version": 2
   },
   "file_extension": ".py",
   "mimetype": "text/x-python",
   "name": "python",
   "nbconvert_exporter": "python",
   "pygments_lexer": "ipython2",
   "version": "2.7.16"
  }
 },
 "nbformat": 4,
 "nbformat_minor": 2
}
