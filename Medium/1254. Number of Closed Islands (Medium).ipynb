{
 "cells": [
  {
   "cell_type": "markdown",
   "metadata": {},
   "source": [
    "# 1254. Number of Closed Islands (Medium)"
   ]
  },
  {
   "cell_type": "markdown",
   "metadata": {},
   "source": [
    "<div><p>Given a 2D&nbsp;<code>grid</code> consists of <code>0s</code> (land)&nbsp;and <code>1s</code> (water).&nbsp; An <em>island</em> is a maximal 4-directionally connected group of <code><font face=\"monospace\">0</font>s</code> and a <em>closed island</em>&nbsp;is an island <strong>totally</strong>&nbsp;(all left, top, right, bottom) surrounded by <code>1s.</code></p>\n",
    "\n",
    "<p>Return the number of <em>closed islands</em>.</p>\n",
    "\n",
    "<p>&nbsp;</p>\n",
    "<p><strong>Example 1:</strong></p>\n",
    "\n",
    "<p><img alt=\"\" src=\"https://assets.leetcode.com/uploads/2019/10/31/sample_3_1610.png\" style=\"width: 240px; height: 120px;\"></p>\n",
    "\n",
    "<pre><strong>Input:</strong> grid = [[1,1,1,1,1,1,1,0],[1,0,0,0,0,1,1,0],[1,0,1,0,1,1,1,0],[1,0,0,0,0,1,0,1],[1,1,1,1,1,1,1,0]]\n",
    "<strong>Output:</strong> 2\n",
    "<strong>Explanation:</strong> \n",
    "Islands in gray are closed because they are completely surrounded by water (group of 1s).</pre>\n",
    "\n",
    "<p><strong>Example 2:</strong></p>\n",
    "\n",
    "<p><img alt=\"\" src=\"https://assets.leetcode.com/uploads/2019/10/31/sample_4_1610.png\" style=\"width: 160px; height: 80px;\"></p>\n",
    "\n",
    "<pre><strong>Input:</strong> grid = [[0,0,1,0,0],[0,1,0,1,0],[0,1,1,1,0]]\n",
    "<strong>Output:</strong> 1\n",
    "</pre>\n",
    "\n",
    "<p><strong>Example 3:</strong></p>\n",
    "\n",
    "<pre><strong>Input:</strong> grid = [[1,1,1,1,1,1,1],\n",
    "&nbsp;              [1,0,0,0,0,0,1],\n",
    "&nbsp;              [1,0,1,1,1,0,1],\n",
    "&nbsp;              [1,0,1,0,1,0,1],\n",
    "&nbsp;              [1,0,1,1,1,0,1],\n",
    "&nbsp;              [1,0,0,0,0,0,1],\n",
    "               [1,1,1,1,1,1,1]]\n",
    "<strong>Output:</strong> 2\n",
    "</pre>\n",
    "\n",
    "<p>&nbsp;</p>\n",
    "<p><strong>Constraints:</strong></p>\n",
    "\n",
    "<ul>\n",
    "\t<li><code>1 &lt;= grid.length, grid[0].length &lt;= 100</code></li>\n",
    "\t<li><code>0 &lt;= grid[i][j] &lt;=1</code></li>\n",
    "</ul></div>"
   ]
  },
  {
   "cell_type": "markdown",
   "metadata": {},
   "source": [
    "## Option 1\n",
    "<p>\n",
    "Time complexity = O(n)\n",
    "<br>\n",
    "Space complexity = O(n)"
   ]
  },
  {
   "cell_type": "code",
   "execution_count": 7,
   "metadata": {},
   "outputs": [
    {
     "data": {
      "text/plain": [
       "5"
      ]
     },
     "execution_count": 7,
     "metadata": {},
     "output_type": "execute_result"
    }
   ],
   "source": [
    "class Solution:\n",
    "    def closedIsland(self, grid: [[int]]) -> int:\n",
    "        islands,leni,lenj = 0,len(grid),len(grid[0])\n",
    "        def isclosed(i,j,v):\n",
    "            if i == 0 or j == 0 or i == (leni-1) or j == (lenj-1):\n",
    "                v = False\n",
    "            grid[i][j] = \"#\"\n",
    "            for ni,nj in ((i+1,j),(i,j+1),(i-1,j),(i,j-1)):\n",
    "                if ni >= 0 and nj >= 0 and ni < leni and nj < lenj and grid[ni][nj] == 0:\n",
    "                    v = isclosed(ni,nj,v)\n",
    "            return v        \n",
    "            \n",
    "        for i in range(1,leni-1):\n",
    "            for j in range(1,lenj-1):\n",
    "                if grid[i][j] == 0 and isclosed(i,j,True):\n",
    "                    islands += 1\n",
    "        return islands\n",
    "\n",
    "Solution().closedIsland([[0,0,1,1,0,1,0,0,1,0],[1,1,0,1,1,0,1,1,1,0],[1,0,1,1,1,0,0,1,1,0],[0,1,1,0,0,0,0,1,0,1],[0,0,0,0,0,0,1,1,1,0],[0,1,0,1,0,1,0,1,1,1],[1,0,1,0,1,1,0,0,0,1],[1,1,1,1,1,1,0,0,0,0],[1,1,1,0,0,1,0,1,0,1],[1,1,1,0,1,1,0,1,1,0]])"
   ]
  },
  {
   "cell_type": "markdown",
   "metadata": {},
   "source": [
    "#### Result:  128ms (94.29%)"
   ]
  }
 ],
 "metadata": {
  "kernelspec": {
   "display_name": "Python 3",
   "language": "python",
   "name": "python3"
  },
  "language_info": {
   "codemirror_mode": {
    "name": "ipython",
    "version": 3
   },
   "file_extension": ".py",
   "mimetype": "text/x-python",
   "name": "python",
   "nbconvert_exporter": "python",
   "pygments_lexer": "ipython3",
   "version": "3.7.4"
  }
 },
 "nbformat": 4,
 "nbformat_minor": 2
}
