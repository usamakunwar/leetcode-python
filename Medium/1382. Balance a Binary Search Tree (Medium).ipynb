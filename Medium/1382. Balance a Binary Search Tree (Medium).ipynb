{
 "cells": [
  {
   "cell_type": "markdown",
   "metadata": {},
   "source": [
    "# 1382. Balance a Binary Search Tree (Medium)"
   ]
  },
  {
   "cell_type": "markdown",
   "metadata": {},
   "source": [
    "<div><p>Given a binary search tree, return a <strong>balanced</strong> binary search tree with the same node values.</p>\n",
    "\n",
    "<p>A binary search tree is <em>balanced</em> if and only if&nbsp;the depth of the two subtrees of&nbsp;every&nbsp;node never differ by more than 1.</p>\n",
    "\n",
    "<p>If there is more than one answer, return any of them.</p>\n",
    "\n",
    "<p>&nbsp;</p>\n",
    "<p><strong>Example 1:</strong></p>\n",
    "\n",
    "<p><strong><img alt=\"\" src=\"https://assets.leetcode.com/uploads/2019/08/22/1515_ex1.png\" style=\"width: 250px; height: 248px;\"><img alt=\"\" src=\"https://assets.leetcode.com/uploads/2019/08/22/1515_ex1_out.png\" style=\"width: 200px; height: 200px;\"></strong></p>\n",
    "\n",
    "<pre><strong>Input:</strong> root = [1,null,2,null,3,null,4,null,null]\n",
    "<strong>Output:</strong> [2,1,3,null,null,null,4]\n",
    "<b>Explanation:</b> This is not the only correct answer, [3,1,4,null,2,null,null] is also correct.\n",
    "</pre>\n",
    "\n",
    "<p>&nbsp;</p>\n",
    "<p><strong>Constraints:</strong></p>\n",
    "\n",
    "<ul>\n",
    "\t<li>The number of nodes in the tree is between&nbsp;<code>1</code>&nbsp;and&nbsp;<code>10^4</code>.</li>\n",
    "\t<li>The tree nodes will have distinct values between&nbsp;<code>1</code>&nbsp;and&nbsp;<code>10^5</code>.</li>\n",
    "</ul></div>"
   ]
  },
  {
   "cell_type": "markdown",
   "metadata": {},
   "source": [
    "## Option 1\n",
    " <p>    \n",
    "<p>\n",
    "   Re create using a sorted list\n",
    "    <p>       \n",
    "<p>\n",
    "        \n",
    "Time complexity: O(n)\n",
    "    <br>\n",
    "Space complexity: O(n)\n"
   ]
  },
  {
   "cell_type": "code",
   "execution_count": null,
   "metadata": {},
   "outputs": [],
   "source": [
    "class Solution(object):\n",
    "    def balanceBST(self, root):\n",
    "        self.arr = []\n",
    "        def search(node):\n",
    "            if node.left: search(node.left)\n",
    "            self.arr.append(node.val)\n",
    "            if node.right: search(node.right)\n",
    "        search(root)\n",
    "    \n",
    "        def create(l,r):\n",
    "            if r < l: return None\n",
    "            mid = (l+r)/2\n",
    "            node = TreeNode(self.arr[mid])\n",
    "            node.left = create(l,mid-1)\n",
    "            node.right = create(mid+1,r)\n",
    "            return node\n",
    "        \n",
    "        return create(0,len(self.arr)-1)\n",
    "    "
   ]
  },
  {
   "cell_type": "markdown",
   "metadata": {},
   "source": [
    "#### Result:  660ms (5.20%)"
   ]
  }
 ],
 "metadata": {
  "kernelspec": {
   "display_name": "Python 2",
   "language": "python",
   "name": "python2"
  },
  "language_info": {
   "codemirror_mode": {
    "name": "ipython",
    "version": 2
   },
   "file_extension": ".py",
   "mimetype": "text/x-python",
   "name": "python",
   "nbconvert_exporter": "python",
   "pygments_lexer": "ipython2",
   "version": "2.7.16"
  }
 },
 "nbformat": 4,
 "nbformat_minor": 2
}
