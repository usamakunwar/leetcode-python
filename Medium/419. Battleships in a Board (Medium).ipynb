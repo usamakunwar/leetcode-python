{
 "cells": [
  {
   "cell_type": "markdown",
   "metadata": {},
   "source": [
    "# 419. Battleships in a Board (Medium)"
   ]
  },
  {
   "cell_type": "markdown",
   "metadata": {},
   "source": [
    "<div>Given an 2D board, count how many battleships are in it. The battleships are represented with <code>'X'</code>s, empty slots are represented with <code>'.'</code>s. You may assume the following rules:\n",
    "\n",
    "<ul>\n",
    "<li>You receive a valid board, made of only battleships or empty slots.</li>\n",
    "<li>Battleships can only be placed horizontally or vertically. In other words, they can only be made of the shape <code>1xN</code> (1 row, N columns) or <code>Nx1</code> (N rows, 1 column), where N can be of any size.</li>\n",
    "<li>At least one horizontal or vertical cell separates between two battleships - there are no adjacent battleships.</li>\n",
    "</ul>\n",
    "\n",
    "<p><b>Example:</b><br>\n",
    "</p><pre>X..X\n",
    "...X\n",
    "...X\n",
    "</pre>\n",
    "In the above board there are 2 battleships.\n",
    "\n",
    "<p><b>Invalid Example:</b><br>\n",
    "</p><pre>...X\n",
    "XXXX\n",
    "...X\n",
    "</pre>\n",
    "This is an invalid board that you will not receive - as battleships will always have a cell separating between them.\n",
    "<p></p>\n",
    "<p><b>Follow up:</b><br>Could you do it in <b>one-pass</b>, using only <b>O(1) extra memory</b> and <b>without modifying</b> the value of the board?</p></div>"
   ]
  },
  {
   "cell_type": "markdown",
   "metadata": {},
   "source": [
    "## Option 1\n",
    "           \n",
    "Time complexity: O(n)\n",
    "    <br>\n",
    "Space complexity: O(1)\n"
   ]
  },
  {
   "cell_type": "code",
   "execution_count": null,
   "metadata": {},
   "outputs": [],
   "source": [
    "class Solution(object):\n",
    "    def countBattleships(self, board):\n",
    "        if not board or not board[0]: return 0\n",
    "        li,lj = len(board), len(board[0])\n",
    "        \n",
    "        res = 0\n",
    "        for i in range(li):\n",
    "            for j in range(lj):\n",
    "                if board[i][j] != \"X\": continue\n",
    "                if i > 0 and board[i-1][j] == \"X\": continue\n",
    "                if j > 0 and board[i][j-1] == \"X\": continue\n",
    "                res += 1\n",
    "        return res\n",
    "        \n",
    "Solution().countBattleships([[\"X\",\".\",\".\",\"X\"],\n",
    "                             [\".\",\".\",\".\",\"X\"],\n",
    "                             [\".\",\".\",\".\",\"X\"]])\n",
    "        "
   ]
  },
  {
   "cell_type": "markdown",
   "metadata": {},
   "source": [
    "#### Result: 60ms (60.79%)"
   ]
  }
 ],
 "metadata": {
  "kernelspec": {
   "display_name": "Python 2",
   "language": "python",
   "name": "python2"
  },
  "language_info": {
   "codemirror_mode": {
    "name": "ipython",
    "version": 2
   },
   "file_extension": ".py",
   "mimetype": "text/x-python",
   "name": "python",
   "nbconvert_exporter": "python",
   "pygments_lexer": "ipython2",
   "version": "2.7.16"
  }
 },
 "nbformat": 4,
 "nbformat_minor": 2
}
