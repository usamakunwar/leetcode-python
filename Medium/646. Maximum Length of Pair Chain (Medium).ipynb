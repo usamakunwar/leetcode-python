{
 "cells": [
  {
   "cell_type": "markdown",
   "metadata": {},
   "source": [
    "# 646. Maximum Length of Pair Chain (Medium)"
   ]
  },
  {
   "cell_type": "markdown",
   "metadata": {},
   "source": [
    "<div><p>\n",
    "Given a string s, find the longest palindromic subsequence's length in s. You may assume that the maximum length of s is 1000.\n",
    "</p>\n",
    "\n",
    "<p><b>Example 1:</b><br>\n",
    "Input: \n",
    "</p><pre>\"bbbab\"\n",
    "</pre>\n",
    "Output: \n",
    "<pre>4\n",
    "</pre>\n",
    "One possible longest palindromic subsequence is \"bbbb\".}\n",
    "<p></p>\n",
    "\n",
    "<p><b>Example 2:</b><br>\n",
    "Input:\n",
    "</p><pre>\"cbbd\"\n",
    "</pre>\n",
    "Output:\n",
    "<pre>2\n",
    "</pre>\n",
    "One possible longest palindromic subsequence is \"bb\".\n",
    "<p></p></div>"
   ]
  },
  {
   "cell_type": "markdown",
   "metadata": {},
   "source": [
    "## Option 1\n",
    "\n",
    "<p>DP. As the chain is not a subsequence, can be in any order, so sort it\n",
    "    \n",
    "   <p>\n",
    "Time complexity: O(n^2)\n",
    "    <br>\n",
    "Space complexity: O(n^2)\n"
   ]
  },
  {
   "cell_type": "code",
   "execution_count": null,
   "metadata": {},
   "outputs": [],
   "source": [
    "class Solution(object):\n",
    "    def findLongestChain(self, pairs):\n",
    "        pairs.sort()\n",
    "        k = [1]*len(pairs)\n",
    "        res = 0\n",
    "        for i in range(len(pairs)):\n",
    "            for j in range(i):\n",
    "                if pairs[i][0] > pairs[j][1]:\n",
    "                    k[i] = max(k[i], k[j]+1)\n",
    "                    res = max(res, k[i])\n",
    "        return max(1, res)\n",
    "        \n",
    "Solution().findLongestChain([[4,5],[1,2],[3,6],[6,7]])\n"
   ]
  },
  {
   "cell_type": "markdown",
   "metadata": {},
   "source": [
    "#### Result: 2744ms (19.89%)"
   ]
  },
  {
   "cell_type": "markdown",
   "metadata": {},
   "source": [
    "## Option 2\n",
    "\n",
    "<p>Greedy\n",
    "    <p>\n",
    "    <li>The tail will either be replaced if the chain is being extended, or we could improve it\n",
    "   <p>\n",
    "       <p>\n",
    "Time complexity: O(nlogn)\n",
    "    <br>\n",
    "Space complexity: O(n)\n"
   ]
  },
  {
   "cell_type": "code",
   "execution_count": null,
   "metadata": {},
   "outputs": [],
   "source": [
    "class Solution(object):\n",
    "    def findLongestChain(self, pairs):\n",
    "        if not pairs: return\n",
    "        pairs.sort()\n",
    "        tail, res = pairs[0][1], 1\n",
    "        for a,b in pairs:\n",
    "            if a > tail:\n",
    "                res, tail = res+1, b\n",
    "            else:\n",
    "                tail = min(tail, b)\n",
    "        return res"
   ]
  },
  {
   "cell_type": "markdown",
   "metadata": {},
   "source": [
    "#### Result: 188ms (85.35%)"
   ]
  }
 ],
 "metadata": {
  "kernelspec": {
   "display_name": "Python 2",
   "language": "python",
   "name": "python2"
  },
  "language_info": {
   "codemirror_mode": {
    "name": "ipython",
    "version": 2
   },
   "file_extension": ".py",
   "mimetype": "text/x-python",
   "name": "python",
   "nbconvert_exporter": "python",
   "pygments_lexer": "ipython2",
   "version": "2.7.16"
  }
 },
 "nbformat": 4,
 "nbformat_minor": 2
}
