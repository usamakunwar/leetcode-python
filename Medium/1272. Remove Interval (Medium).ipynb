{
 "cells": [
  {
   "cell_type": "markdown",
   "metadata": {},
   "source": [
    "# 1272. Remove Interval (Medium)\n"
   ]
  },
  {
   "cell_type": "markdown",
   "metadata": {},
   "source": [
    "<div><p>Given a <strong>sorted</strong> list of disjoint <code>intervals</code>, each interval <code>intervals[i] = [a, b]</code> represents the set of real numbers&nbsp;<code>x</code> such that&nbsp;<code>a &lt;= x &lt; b</code>.</p>\n",
    "\n",
    "<p>We remove the intersections between any interval in <code>intervals</code> and the interval <code>toBeRemoved</code>.</p>\n",
    "\n",
    "<p>Return a <strong>sorted</strong>&nbsp;list of <code>intervals</code> after all such removals.</p>\n",
    "\n",
    "<p>&nbsp;</p>\n",
    "<p><strong>Example 1:</strong></p>\n",
    "<pre><strong>Input:</strong> intervals = [[0,2],[3,4],[5,7]], toBeRemoved = [1,6]\n",
    "<strong>Output:</strong> [[0,1],[6,7]]\n",
    "</pre><p><strong>Example 2:</strong></p>\n",
    "<pre><strong>Input:</strong> intervals = [[0,5]], toBeRemoved = [2,3]\n",
    "<strong>Output:</strong> [[0,2],[3,5]]\n",
    "</pre>\n",
    "<p>&nbsp;</p>\n",
    "<p><strong>Constraints:</strong></p>\n",
    "\n",
    "<ul>\n",
    "\t<li><code>1 &lt;= intervals.length &lt;= 10^4</code></li>\n",
    "\t<li><code>-10^9 &lt;= intervals[i][0] &lt; intervals[i][1] &lt;= 10^9</code></li>\n",
    "</ul>\n",
    "</div>"
   ]
  },
  {
   "cell_type": "markdown",
   "metadata": {},
   "source": [
    "## Option 1\n",
    " <p>     <p>\n",
    "    <p>\n",
    "        <li>Consider (a,b) (c,d) (to remove) then we have the following possibilities\n",
    "        <li><strong>If a < b:</strong>\n",
    "        <br>&nbsp;&nbsp;a c b d (a-c ok)\n",
    "        <br>&nbsp;&nbsp;a c d b (a-c and d-b ok)\n",
    "        <li><strong>else:</strong>\n",
    "        <br>&nbsp;&nbsp;c a b d (nothing ok)\n",
    "        <br>&nbsp;&nbsp;c a d b (db ok)\n",
    "        <p>\n",
    "        <li>The above can be simplified to the below code\n",
    "        <li>Also for the cases (a b c d) or (c d a b) (no intersect) we use min and max\n",
    "<p>\n",
    "        \n",
    "Time complexity: O(n)\n",
    "    <br>\n",
    "Space complexity: O(n)\n"
   ]
  },
  {
   "cell_type": "code",
   "execution_count": null,
   "metadata": {
    "scrolled": true
   },
   "outputs": [],
   "source": [
    "class Solution(object):\n",
    "    def removeInterval(self, intervals, (c,d)):\n",
    "        res = []\n",
    "        for a,b in intervals:\n",
    "            if a < c:\n",
    "                res.append([a,min(b,c)])\n",
    "            if d < b:\n",
    "                res.append([max(d,a),b]) \n",
    "        return res\n",
    "\n",
    "        \n",
    "Solution().removeInterval([[0,2],[3,4],[5,7]], [3,4])\n",
    "        "
   ]
  },
  {
   "cell_type": "markdown",
   "metadata": {},
   "source": [
    "#### Result: 340ms (88.64%)"
   ]
  }
 ],
 "metadata": {
  "kernelspec": {
   "display_name": "Python 2",
   "language": "python",
   "name": "python2"
  },
  "language_info": {
   "codemirror_mode": {
    "name": "ipython",
    "version": 2
   },
   "file_extension": ".py",
   "mimetype": "text/x-python",
   "name": "python",
   "nbconvert_exporter": "python",
   "pygments_lexer": "ipython2",
   "version": "2.7.16"
  }
 },
 "nbformat": 4,
 "nbformat_minor": 2
}
