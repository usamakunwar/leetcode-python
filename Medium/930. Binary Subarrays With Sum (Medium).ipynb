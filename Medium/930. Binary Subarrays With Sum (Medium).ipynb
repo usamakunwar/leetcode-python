{
 "cells": [
  {
   "cell_type": "markdown",
   "metadata": {},
   "source": [
    "# 930. Binary Subarrays With Sum (Medium)\n"
   ]
  },
  {
   "cell_type": "markdown",
   "metadata": {},
   "source": [
    "<div><p>In an array <code>A</code> of <code>0</code>s and <code>1</code>s, how many <strong>non-empty</strong> subarrays have sum <code>S</code>?</p>\n",
    "\n",
    "<p>&nbsp;</p>\n",
    "\n",
    "<p><strong>Example 1:</strong></p>\n",
    "\n",
    "<pre><strong>Input: </strong>A = <span id=\"example-input-1-1\">[1,0,1,0,1]</span>, S = <span id=\"example-input-1-2\">2</span>\n",
    "<strong>Output: </strong><span id=\"example-output-1\">4</span>\n",
    "<strong>Explanation: </strong>\n",
    "The 4 subarrays are bolded below:\n",
    "[<strong>1,0,1</strong>,0,1]\n",
    "[<strong>1,0,1,0</strong>,1]\n",
    "[1,<strong>0,1,0,1</strong>]\n",
    "[1,0,<strong>1,0,1</strong>]\n",
    "</pre>\n",
    "\n",
    "<p>&nbsp;</p>\n",
    "\n",
    "<p><strong>Note:</strong></p>\n",
    "\n",
    "<ol>\n",
    "\t<li><code>A.length &lt;= 30000</code></li>\n",
    "\t<li><code>0 &lt;= S &lt;= A.length</code></li>\n",
    "\t<li><code>A[i]</code>&nbsp;is either <code>0</code>&nbsp;or <code>1</code>.</li>\n",
    "</ol></div>"
   ]
  },
  {
   "cell_type": "markdown",
   "metadata": {},
   "source": [
    "## Option 1\n",
    "<p>\n",
    "    Prefix Sum\n",
    "<p>\n",
    "    <p>\n",
    "Time complexity: O(n)\n",
    "    <br>\n",
    "Space complexity: O(n)\n"
   ]
  },
  {
   "cell_type": "code",
   "execution_count": null,
   "metadata": {},
   "outputs": [],
   "source": [
    "import collections\n",
    "class Solution(object):\n",
    "    def numSubarraysWithSum(self, A, S):\n",
    "        c = collections.Counter([0])\n",
    "        curr = res = 0\n",
    "        for a in A:\n",
    "            curr += a\n",
    "            res += c[curr-S]\n",
    "            c[curr] += 1\n",
    "        return res\n",
    "    \n",
    "Solution().numSubarraysWithSum([1,0,1,0,1], 2)"
   ]
  },
  {
   "cell_type": "markdown",
   "metadata": {},
   "source": [
    "\n",
    "#### Result: 288ms (23.33%)"
   ]
  }
 ],
 "metadata": {
  "kernelspec": {
   "display_name": "Python 2",
   "language": "python",
   "name": "python2"
  },
  "language_info": {
   "codemirror_mode": {
    "name": "ipython",
    "version": 2
   },
   "file_extension": ".py",
   "mimetype": "text/x-python",
   "name": "python",
   "nbconvert_exporter": "python",
   "pygments_lexer": "ipython2",
   "version": "2.7.16"
  }
 },
 "nbformat": 4,
 "nbformat_minor": 2
}
