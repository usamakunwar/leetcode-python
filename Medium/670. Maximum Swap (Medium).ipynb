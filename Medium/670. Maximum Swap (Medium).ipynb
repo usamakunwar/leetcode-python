{
 "cells": [
  {
   "cell_type": "markdown",
   "metadata": {},
   "source": [
    "# 670. Maximum Swap (Medium)\n"
   ]
  },
  {
   "cell_type": "markdown",
   "metadata": {},
   "source": [
    "<div><p>\n",
    "Given a non-negative integer, you could swap two digits <b>at most</b> once to get the maximum valued number. Return the maximum valued number you could get.\n",
    "</p>\n",
    "\n",
    "<p><b>Example 1:</b><br>\n",
    "</p><pre><b>Input:</b> 2736\n",
    "<b>Output:</b> 7236\n",
    "<b>Explanation:</b> Swap the number 2 and the number 7.\n",
    "</pre>\n",
    "<p></p>\n",
    "\n",
    "<p><b>Example 2:</b><br>\n",
    "</p><pre><b>Input:</b> 9973\n",
    "<b>Output:</b> 9973\n",
    "<b>Explanation:</b> No swap.\n",
    "</pre>\n",
    "<p></p>\n",
    "\n",
    "\n",
    "<p><b>Note:</b><br>\n",
    "</p><ol>\n",
    "<li>The given number is in the range [0, 10<sup>8</sup>]</li>\n",
    "</ol>\n",
    "<p></p></div>"
   ]
  },
  {
   "cell_type": "markdown",
   "metadata": {},
   "source": [
    "## Option 1\n",
    "\n",
    "If we keep a track of the two numbers to swap and their difference, we can plus/minus them at the end\n",
    "<p>\n",
    "Time complexity = O(n)\n",
    "<br>\n",
    "Space complexity = O(1)"
   ]
  },
  {
   "cell_type": "code",
   "execution_count": null,
   "metadata": {
    "scrolled": true
   },
   "outputs": [],
   "source": [
    "class Solution(object):\n",
    "    def maximumSwap(self, num: int) -> int:\n",
    "        n,i,max_v, max_i, diff, plus_i, minus_i = num,0,0,0,0,0,0\n",
    "        while n > 0:\n",
    "            val = n%10\n",
    "            if val > max_v:\n",
    "                max_v,max_i = val,i\n",
    "            if max_v > val:\n",
    "                diff,plus_i,minus_i = max_v - val,i,max_i\n",
    "            n = n//10\n",
    "            i += 1\n",
    "        return num + (diff*10**plus_i) - (diff*10**minus_i)\n",
    "Solution().maximumSwap(1390)  "
   ]
  },
  {
   "cell_type": "markdown",
   "metadata": {},
   "source": [
    "#### Result: 16ms (99.44%)"
   ]
  },
  {
   "cell_type": "markdown",
   "metadata": {},
   "source": [
    "## Option 2\n",
    "\n",
    "Greedy - Numeric\n",
    "<p>\n",
    "Time complexity = O(n)\n",
    "<br>\n",
    "Space complexity = O(n)"
   ]
  },
  {
   "cell_type": "code",
   "execution_count": null,
   "metadata": {},
   "outputs": [],
   "source": [
    "class Solution(object):\n",
    "    def maximumSwap(self, num):\n",
    "        num_arr, max_arr = [], []\n",
    "        \n",
    "        i = 0\n",
    "        while num:\n",
    "            curr = num%10\n",
    "            num_arr.append(curr)\n",
    "            if max_arr and max_arr[-1][0] >= curr:\n",
    "                max_arr.append(max_arr[-1])\n",
    "            else:\n",
    "                max_arr.append((curr,i))\n",
    "            num /= 10\n",
    "            i += 1\n",
    "            \n",
    "        res, swaps = 0, 1\n",
    "        for i in range(len(num_arr)-1,-1,-1):\n",
    "            if swaps and num_arr[i] < max_arr[i][0]:\n",
    "                num_arr[i], num_arr[max_arr[i][1]] = num_arr[max_arr[i][1]], num_arr[i]\n",
    "                swaps -= 1\n",
    "            \n",
    "            res = res*10+num_arr[i]\n",
    "        \n",
    "        return res"
   ]
  },
  {
   "cell_type": "markdown",
   "metadata": {},
   "source": [
    "#### Result: 20ms (59.81%)"
   ]
  }
 ],
 "metadata": {
  "kernelspec": {
   "display_name": "Python 2",
   "language": "python",
   "name": "python2"
  },
  "language_info": {
   "codemirror_mode": {
    "name": "ipython",
    "version": 2
   },
   "file_extension": ".py",
   "mimetype": "text/x-python",
   "name": "python",
   "nbconvert_exporter": "python",
   "pygments_lexer": "ipython2",
   "version": "2.7.16"
  }
 },
 "nbformat": 4,
 "nbformat_minor": 2
}
