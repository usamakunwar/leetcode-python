{
 "cells": [
  {
   "cell_type": "markdown",
   "metadata": {},
   "source": [
    "# 1490. Clone N-ary Tree (Medium)"
   ]
  },
  {
   "cell_type": "markdown",
   "metadata": {},
   "source": [
    "<div><p>Given a <code>root</code>&nbsp;of an N-ary tree,&nbsp;return a&nbsp;<a href=\"https://en.wikipedia.org/wiki/Object_copying#Deep_copy\" target=\"_blank\"><strong>deep copy</strong></a>&nbsp;(clone) of the tree.</p>\n",
    "\n",
    "<p>Each node in the n-ary tree&nbsp;contains a val (<code>int</code>) and a list (<code>List[Node]</code>) of its children.</p>\n",
    "\n",
    "<pre>class Node {\n",
    "    public int val;\n",
    "    public List&lt;Node&gt; children;\n",
    "}\n",
    "</pre>\n",
    "\n",
    "<p><em>Nary-Tree input serialization&nbsp;is represented in their level order traversal, each group of children is separated by the null value (See examples).</em></p>\n",
    "\n",
    "<p><strong>Follow up:&nbsp;</strong>Can your solution work for the <a href=\"https://leetcode.com/problems/clone-graph/\">graph problem</a>?</p>\n",
    "\n",
    "<p>&nbsp;</p>\n",
    "<p><strong>Example 1:</strong></p>\n",
    "\n",
    "<p><img src=\"https://assets.leetcode.com/uploads/2018/10/12/narytreeexample.png\" style=\"width: 100%; max-width: 300px;\"></p>\n",
    "\n",
    "<pre><strong>Input:</strong> root = [1,null,3,2,4,null,5,6]\n",
    "<strong>Output:</strong> [1,null,3,2,4,null,5,6]\n",
    "</pre>\n",
    "\n",
    "<p><strong>Example 2:</strong></p>\n",
    "\n",
    "<p><img alt=\"\" src=\"https://assets.leetcode.com/uploads/2019/11/08/sample_4_964.png\" style=\"width: 296px; height: 241px;\"></p>\n",
    "\n",
    "<pre><strong>Input:</strong> root = [1,null,2,3,4,5,null,null,6,7,null,8,null,9,10,null,null,11,null,12,null,13,null,null,14]\n",
    "<strong>Output:</strong> [1,null,2,3,4,5,null,null,6,7,null,8,null,9,10,null,null,11,null,12,null,13,null,null,14]\n",
    "</pre>\n",
    "\n",
    "<p>&nbsp;</p>\n",
    "<p><strong>Constraints:</strong></p>\n",
    "\n",
    "<ul>\n",
    "\t<li>The depth of the n-ary tree is less than or equal to <code>1000</code>.</li>\n",
    "\t<li>The total number of nodes is between <code>[0,&nbsp;10^4]</code>.</li>\n",
    "</ul>\n",
    "</div>"
   ]
  },
  {
   "cell_type": "markdown",
   "metadata": {},
   "source": [
    "## Option 1\n",
    " <p>    <p>\n",
    "    DFS\n",
    "<p>\n",
    "            \n",
    "Time complexity: O(n)\n",
    "    <br>\n",
    "Space complexity: O(h)\n"
   ]
  },
  {
   "cell_type": "code",
   "execution_count": null,
   "metadata": {
    "scrolled": true
   },
   "outputs": [],
   "source": [
    "class Solution(object):\n",
    "    def cloneTree(self, root):\n",
    "        \n",
    "        def search(node):\n",
    "            copy = Node(node.val)\n",
    "            copy.children = [search(child) for child in node.children]\n",
    "            return copy\n",
    "        \n",
    "        return search(root) if root else None\n"
   ]
  },
  {
   "cell_type": "markdown",
   "metadata": {},
   "source": [
    "#### Result: 96ms (98.13%)"
   ]
  }
 ],
 "metadata": {
  "kernelspec": {
   "display_name": "Python 2",
   "language": "python",
   "name": "python2"
  },
  "language_info": {
   "codemirror_mode": {
    "name": "ipython",
    "version": 2
   },
   "file_extension": ".py",
   "mimetype": "text/x-python",
   "name": "python",
   "nbconvert_exporter": "python",
   "pygments_lexer": "ipython2",
   "version": "2.7.16"
  }
 },
 "nbformat": 4,
 "nbformat_minor": 2
}
