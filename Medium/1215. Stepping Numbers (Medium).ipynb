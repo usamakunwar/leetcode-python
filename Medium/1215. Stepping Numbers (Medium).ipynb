{
 "cells": [
  {
   "cell_type": "markdown",
   "metadata": {},
   "source": [
    "# 1215. Stepping Numbers (Medium)"
   ]
  },
  {
   "cell_type": "markdown",
   "metadata": {},
   "source": [
    "<div><p>A <em>Stepping Number</em> is&nbsp;an integer&nbsp;such that&nbsp;all of its adjacent digits have an absolute difference of exactly <code>1</code>. For example, <code>321</code> is a Stepping Number while <code>421</code> is not.</p>\n",
    "\n",
    "<p>Given two integers <code>low</code> and <code>high</code>, find and return a <strong>sorted</strong> list of all the Stepping Numbers in the range <code>[low, high]</code>&nbsp;inclusive.</p>\n",
    "\n",
    "<p>&nbsp;</p>\n",
    "<p><strong>Example 1:</strong></p>\n",
    "<pre><strong>Input:</strong> low = 0, high = 21\n",
    "<strong>Output:</strong> [0,1,2,3,4,5,6,7,8,9,10,12,21]\n",
    "</pre>\n",
    "<p>&nbsp;</p>\n",
    "<p><strong>Constraints:</strong></p>\n",
    "\n",
    "<ul>\n",
    "\t<li><code>0 &lt;= low &lt;= high &lt;= 2 * 10^9</code></li>\n",
    "</ul>\n",
    "</div>"
   ]
  },
  {
   "cell_type": "markdown",
   "metadata": {},
   "source": [
    "## Option 1\n",
    " <p>   \n",
    "    BFS\n",
    "    <p>"
   ]
  },
  {
   "cell_type": "code",
   "execution_count": null,
   "metadata": {},
   "outputs": [],
   "source": [
    "import collections\n",
    "class Solution(object):\n",
    "    def countSteppingNumbers(self, low, high):\n",
    "        q = collections.deque(range(1,10))\n",
    "        res = []\n",
    "        if low == 0: res.append(0)\n",
    "        while q:\n",
    "            n = q.popleft()\n",
    "            if low <= n <= high:\n",
    "                res.append(n)\n",
    "            if n > high: break\n",
    "            last_digit = n%10\n",
    "            if last_digit > 0:\n",
    "                q.append((n*10)+last_digit-1)\n",
    "            if last_digit < 9:\n",
    "                q.append((n*10)+last_digit+1)\n",
    "\n",
    "        return res\n",
    "        \n",
    "Solution().countSteppingNumbers(0,21)\n",
    "        \n"
   ]
  },
  {
   "cell_type": "markdown",
   "metadata": {},
   "source": [
    "#### Result:  276ms (47.56%)"
   ]
  }
 ],
 "metadata": {
  "kernelspec": {
   "display_name": "Python 2",
   "language": "python",
   "name": "python2"
  },
  "language_info": {
   "codemirror_mode": {
    "name": "ipython",
    "version": 2
   },
   "file_extension": ".py",
   "mimetype": "text/x-python",
   "name": "python",
   "nbconvert_exporter": "python",
   "pygments_lexer": "ipython2",
   "version": "2.7.16"
  }
 },
 "nbformat": 4,
 "nbformat_minor": 2
}
