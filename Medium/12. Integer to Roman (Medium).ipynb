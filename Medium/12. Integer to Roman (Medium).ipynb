{
 "cells": [
  {
   "cell_type": "markdown",
   "metadata": {},
   "source": [
    "# 12. Integer to Roman (Medium)\n"
   ]
  },
  {
   "cell_type": "markdown",
   "metadata": {},
   "source": [
    "<div><p>Roman numerals are represented by seven different symbols:&nbsp;<code>I</code>, <code>V</code>, <code>X</code>, <code>L</code>, <code>C</code>, <code>D</code> and <code>M</code>.</p>\n",
    "\n",
    "<pre><strong>Symbol</strong>       <strong>Value</strong>\n",
    "I             1\n",
    "V             5\n",
    "X             10\n",
    "L             50\n",
    "C             100\n",
    "D             500\n",
    "M             1000</pre>\n",
    "\n",
    "<p>For example,&nbsp;two is written as <code>II</code>&nbsp;in Roman numeral, just two one's added together. Twelve is written as, <code>XII</code>, which is simply <code>X</code> + <code>II</code>. The number twenty seven is written as <code>XXVII</code>, which is <code>XX</code> + <code>V</code> + <code>II</code>.</p>\n",
    "\n",
    "<p>Roman numerals are usually written largest to smallest from left to right. However, the numeral for four is not <code>IIII</code>. Instead, the number four is written as <code>IV</code>. Because the one is before the five we subtract it making four. The same principle applies to the number nine, which is written as <code>IX</code>. There are six instances where subtraction is used:</p>\n",
    "\n",
    "<ul>\n",
    "\t<li><code>I</code> can be placed before <code>V</code> (5) and <code>X</code> (10) to make 4 and 9.&nbsp;</li>\n",
    "\t<li><code>X</code> can be placed before <code>L</code> (50) and <code>C</code> (100) to make 40 and 90.&nbsp;</li>\n",
    "\t<li><code>C</code> can be placed before <code>D</code> (500) and <code>M</code> (1000) to make 400 and 900.</li>\n",
    "</ul>\n",
    "\n",
    "<p>Given an integer, convert it to a roman numeral. Input is guaranteed to be within the range from 1 to 3999.</p>\n",
    "\n",
    "<p><strong>Example 1:</strong></p>\n",
    "\n",
    "<pre><strong>Input:</strong>&nbsp;3\n",
    "<strong>Output:</strong> \"III\"</pre>\n",
    "\n",
    "<p><strong>Example 2:</strong></p>\n",
    "\n",
    "<pre><strong>Input:</strong>&nbsp;4\n",
    "<strong>Output:</strong> \"IV\"</pre>\n",
    "\n",
    "<p><strong>Example 3:</strong></p>\n",
    "\n",
    "<pre><strong>Input:</strong>&nbsp;9\n",
    "<strong>Output:</strong> \"IX\"</pre>\n",
    "\n",
    "<p><strong>Example 4:</strong></p>\n",
    "\n",
    "<pre><strong>Input:</strong>&nbsp;58\n",
    "<strong>Output:</strong> \"LVIII\"\n",
    "<strong>Explanation:</strong> L = 50, V = 5, III = 3.\n",
    "</pre>\n",
    "\n",
    "<p><strong>Example 5:</strong></p>\n",
    "\n",
    "<pre><strong>Input:</strong>&nbsp;1994\n",
    "<strong>Output:</strong> \"MCMXCIV\"\n",
    "<strong>Explanation:</strong> M = 1000, CM = 900, XC = 90 and IV = 4.</pre>\n",
    "</div>"
   ]
  },
  {
   "cell_type": "markdown",
   "metadata": {},
   "source": [
    "## Option 1\n",
    "<p>    \n",
    " <p> <p>\n",
    "Time complexity: O(1)\n",
    "    <br>\n",
    "Space complexity: O(1)\n"
   ]
  },
  {
   "cell_type": "code",
   "execution_count": 7,
   "metadata": {
    "scrolled": false
   },
   "outputs": [
    {
     "data": {
      "text/plain": [
       "'MCMXCIV'"
      ]
     },
     "execution_count": 7,
     "metadata": {},
     "output_type": "execute_result"
    }
   ],
   "source": [
    "class Solution(object):\n",
    "    def intToRoman(self, num):\n",
    "        arr = [(1000,'M'),(900,'CM'),(500,'D'),(400,'CD'),\n",
    "               (100,'C'),(90,'XC'),(50,'L'),(40,'XL'),\n",
    "               (10,'X'),(9,'IX'),(5,'V'),(4,'IV'),(1,'I')]\n",
    "        \n",
    "        res, i = '', 0\n",
    "        while num > 0:\n",
    "            while arr[i][0] <= num:\n",
    "                num -= arr[i][0]\n",
    "                res += arr[i][1]\n",
    "            i += 1\n",
    "            \n",
    "        return res\n",
    "        \n",
    "Solution().intToRoman(1994)\n",
    "    "
   ]
  },
  {
   "cell_type": "markdown",
   "metadata": {},
   "source": [
    "#### Result: 32ms (90.46%)"
   ]
  },
  {
   "cell_type": "markdown",
   "metadata": {},
   "source": [
    "## Option 2\n",
    "<p>    \n",
    " <p> <p>\n",
    "Time complexity: O(1)\n",
    "    <br>\n",
    "Space complexity: O(1)\n"
   ]
  },
  {
   "cell_type": "code",
   "execution_count": 13,
   "metadata": {},
   "outputs": [
    {
     "data": {
      "text/plain": [
       "'MCMXCIV'"
      ]
     },
     "execution_count": 13,
     "metadata": {},
     "output_type": "execute_result"
    }
   ],
   "source": [
    "class Solution(object):\n",
    "    def intToRoman(self, num):\n",
    "        arr = [(1000,'M'),(900,'CM'),(500,'D'),(400,'CD'),\n",
    "               (100,'C'),(90,'XC'),(50,'L'),(40,'XL'),\n",
    "               (10,'X'),(9,'IX'),(5,'V'),(4,'IV'),(1,'I')]\n",
    "        \n",
    "        res = ''        \n",
    "        for a,b in arr:\n",
    "            if num == 0: break\n",
    "            count, num = divmod(num, a)\n",
    "            res += b*count\n",
    "            \n",
    "        return res\n",
    "        \n",
    "Solution().intToRoman(1994)\n",
    "    "
   ]
  },
  {
   "cell_type": "markdown",
   "metadata": {},
   "source": [
    "#### Result: 36ms (80.46%)"
   ]
  }
 ],
 "metadata": {
  "kernelspec": {
   "display_name": "Python 2",
   "language": "python",
   "name": "python2"
  },
  "language_info": {
   "codemirror_mode": {
    "name": "ipython",
    "version": 2
   },
   "file_extension": ".py",
   "mimetype": "text/x-python",
   "name": "python",
   "nbconvert_exporter": "python",
   "pygments_lexer": "ipython2",
   "version": "2.7.16"
  }
 },
 "nbformat": 4,
 "nbformat_minor": 2
}
