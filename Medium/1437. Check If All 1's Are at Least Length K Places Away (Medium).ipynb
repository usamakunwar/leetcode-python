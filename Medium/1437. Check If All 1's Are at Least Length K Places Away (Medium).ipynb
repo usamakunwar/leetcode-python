{
 "cells": [
  {
   "cell_type": "markdown",
   "metadata": {},
   "source": [
    "# 1437. Check If All 1's Are at Least Length K Places Away (Medium)"
   ]
  },
  {
   "cell_type": "markdown",
   "metadata": {},
   "source": [
    "<div><p>Given an array <code>nums</code> of 0s and 1s and an integer <code>k</code>, return <code>True</code> if all 1's are at least <code>k</code> places away from each other, otherwise return <code>False</code>.</p>\n",
    "\n",
    "<p>&nbsp;</p>\n",
    "<p><strong>Example 1:</strong></p>\n",
    "\n",
    "<p><strong><img alt=\"\" src=\"https://assets.leetcode.com/uploads/2020/04/15/sample_1_1791.png\" style=\"width: 214px; height: 90px;\"></strong></p>\n",
    "\n",
    "<pre><strong>Input:</strong> nums = [1,0,0,0,1,0,0,1], k = 2\n",
    "<strong>Output:</strong> true\n",
    "<strong>Explanation:</strong> Each of the 1s are at least 2 places away from each other.\n",
    "</pre>\n",
    "\n",
    "<p><strong>Example 2:</strong></p>\n",
    "\n",
    "<p><strong><img alt=\"\" src=\"https://assets.leetcode.com/uploads/2020/04/15/sample_2_1791.png\" style=\"width: 160px; height: 86px;\"></strong></p>\n",
    "\n",
    "<pre><strong>Input:</strong> nums = [1,0,0,1,0,1], k = 2\n",
    "<strong>Output:</strong> false\n",
    "<strong>Explanation: </strong>The second 1 and third 1 are only one apart from each other.</pre>\n",
    "\n",
    "<p><strong>Example 3:</strong></p>\n",
    "\n",
    "<pre><strong>Input:</strong> nums = [1,1,1,1,1], k = 0\n",
    "<strong>Output:</strong> true\n",
    "</pre>\n",
    "\n",
    "<p><strong>Example 4:</strong></p>\n",
    "\n",
    "<pre><strong>Input:</strong> nums = [0,1,0,1], k = 1\n",
    "<strong>Output:</strong> true\n",
    "</pre>\n",
    "\n",
    "<p>&nbsp;</p>\n",
    "<p><strong>Constraints:</strong></p>\n",
    "\n",
    "<ul>\n",
    "\t<li><code>1 &lt;= nums.length &lt;= 10^5</code></li>\n",
    "\t<li><code>0 &lt;= k &lt;= nums.length</code></li>\n",
    "\t<li><code>nums[i]</code>&nbsp;is&nbsp;<code>0</code>&nbsp;or&nbsp;<code>1</code></li>\n",
    "</ul>\n",
    "</div>"
   ]
  },
  {
   "cell_type": "markdown",
   "metadata": {},
   "source": [
    "## Option 1\n",
    "<p>             \n",
    "           \n",
    "Time complexity: O(n)\n",
    "    <br>\n",
    "Space complexity: O(1)\n"
   ]
  },
  {
   "cell_type": "code",
   "execution_count": null,
   "metadata": {},
   "outputs": [],
   "source": [
    "class Solution(object):\n",
    "    def kLengthApart(self, nums, k):\n",
    "        zeros = k\n",
    "        for n in nums:\n",
    "            if not n:\n",
    "                zeros += 1\n",
    "            else:\n",
    "                if zeros < k: return False\n",
    "                zeros = 0\n",
    "        return True\n",
    "\n",
    "Solution().kLengthApart([1,0,0,0,1], 1)\n",
    "        "
   ]
  },
  {
   "cell_type": "markdown",
   "metadata": {},
   "source": [
    "#### Result: 504ms (100.00%)"
   ]
  }
 ],
 "metadata": {
  "kernelspec": {
   "display_name": "Python 2",
   "language": "python",
   "name": "python2"
  },
  "language_info": {
   "codemirror_mode": {
    "name": "ipython",
    "version": 2
   },
   "file_extension": ".py",
   "mimetype": "text/x-python",
   "name": "python",
   "nbconvert_exporter": "python",
   "pygments_lexer": "ipython2",
   "version": "2.7.16"
  }
 },
 "nbformat": 4,
 "nbformat_minor": 2
}
