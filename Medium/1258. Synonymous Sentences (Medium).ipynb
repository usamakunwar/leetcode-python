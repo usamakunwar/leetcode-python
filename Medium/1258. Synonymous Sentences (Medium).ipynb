{
 "cells": [
  {
   "cell_type": "markdown",
   "metadata": {},
   "source": [
    "# 1258. Synonymous Sentences (Medium)"
   ]
  },
  {
   "cell_type": "markdown",
   "metadata": {},
   "source": [
    "<div>Given a list of pairs of equivalent words&nbsp;<code>synonyms</code> and a sentence <code>text</code>,&nbsp;Return all possible synonymous sentences <strong>sorted lexicographically</strong>.\n",
    "<p>&nbsp;</p>\n",
    "<p><strong>Example 1:</strong></p>\n",
    "\n",
    "<pre><strong>Input:\n",
    "</strong>synonyms = [[\"happy\",\"joy\"],[\"sad\",\"sorrow\"],[\"joy\",\"cheerful\"]],\n",
    "text = \"I am happy today but was sad yesterday\"\n",
    "<strong>Output:\n",
    "</strong>[\"I am cheerful today but was sad yesterday\",\n",
    "​​​​​​​\"I am cheerful today but was sorrow yesterday\",\n",
    "\"I am happy today but was sad yesterday\",\n",
    "\"I am happy today but was sorrow yesterday\",\n",
    "\"I am joy today but was sad yesterday\",\n",
    "\"I am joy today but was sorrow yesterday\"]\n",
    "</pre>\n",
    "\n",
    "<p>&nbsp;</p>\n",
    "<p><strong>Constraints:</strong></p>\n",
    "\n",
    "<ul>\n",
    "\t<li><code>0 &lt;=&nbsp;synonyms.length &lt;= 10</code></li>\n",
    "\t<li><code>synonyms[i].length == 2</code></li>\n",
    "\t<li><code>synonyms[0] != synonyms[1]</code></li>\n",
    "\t<li>All words consist of at most <code>10</code> English letters only.</li>\n",
    "\t<li><code>text</code>&nbsp;is a single space separated sentence of at most <code>10</code> words.</li>\n",
    "</ul>\n",
    "</div>"
   ]
  },
  {
   "cell_type": "markdown",
   "metadata": {},
   "source": [
    "## Option 1\n",
    "<p>\n",
    "    DFS\n",
    "<p>          "
   ]
  },
  {
   "cell_type": "code",
   "execution_count": null,
   "metadata": {},
   "outputs": [],
   "source": [
    "import collections\n",
    "class Solution(object):\n",
    "    def generateSentences(self, synonyms, text):\n",
    "        edges = collections.defaultdict(list)\n",
    "        for a,b in synonyms:\n",
    "            edges[a].append(b)\n",
    "            edges[b].append(a)\n",
    "            \n",
    "        self.arr = text.split(' ')\n",
    "        self.seen = set()\n",
    "        \n",
    "        def search(i):\n",
    "            self.seen.add(i)\n",
    "            res = [i]\n",
    "            for j in edges[i]:\n",
    "                if j not in self.seen:\n",
    "                    res += search(j)\n",
    "            self.seen.remove(i)\n",
    "            return res \n",
    "        \n",
    "        def make(i, curr):\n",
    "            if i == len(self.arr):\n",
    "                return [' '.join(curr)]\n",
    "            res = []\n",
    "            sa = search(self.arr[i])\n",
    "            for w in sa:\n",
    "                res += make(i+1, curr+[w])\n",
    "            return res\n",
    "        \n",
    "        return sorted(make(0, []))\n",
    "        \n",
    "Solution().generateSentences([[\"happy\",\"joy\"],[\"sad\",\"sorrow\"],[\"joy\",\"cheerful\"]],\"I am happy today but was sad yesterday\")\n",
    "        "
   ]
  },
  {
   "cell_type": "markdown",
   "metadata": {},
   "source": [
    "#### Result: 20ms (85.37%)"
   ]
  }
 ],
 "metadata": {
  "kernelspec": {
   "display_name": "Python 2",
   "language": "python",
   "name": "python2"
  },
  "language_info": {
   "codemirror_mode": {
    "name": "ipython",
    "version": 2
   },
   "file_extension": ".py",
   "mimetype": "text/x-python",
   "name": "python",
   "nbconvert_exporter": "python",
   "pygments_lexer": "ipython2",
   "version": "2.7.16"
  }
 },
 "nbformat": 4,
 "nbformat_minor": 2
}
