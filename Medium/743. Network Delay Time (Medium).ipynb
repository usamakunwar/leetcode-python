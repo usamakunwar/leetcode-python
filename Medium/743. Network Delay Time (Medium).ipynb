{
 "cells": [
  {
   "cell_type": "markdown",
   "metadata": {},
   "source": [
    "# 743. Network Delay Time (Medium)"
   ]
  },
  {
   "cell_type": "markdown",
   "metadata": {},
   "source": [
    "<div><p>There are <code>N</code> network nodes, labelled <code>1</code> to <code>N</code>.</p>\n",
    "\n",
    "<p>Given <code>times</code>, a list of travel times as <b>directed</b> edges <code>times[i] = (u, v, w)</code>, where <code>u</code> is the source node, <code>v</code> is the target node, and <code>w</code> is the time it takes for a signal to travel from source to target.</p>\n",
    "\n",
    "<p>Now, we send a signal from a certain node <code>K</code>. How long will it take for all nodes to receive the signal? If it is impossible, return <code>-1</code>.</p>\n",
    "\n",
    "<p>&nbsp;</p>\n",
    "\n",
    "<p><strong>Example 1:</strong></p>\n",
    "\n",
    "<p><img alt=\"\" src=\"https://assets.leetcode.com/uploads/2019/05/23/931_example_1.png\" style=\"width: 200px; height: 220px;\"></p>\n",
    "\n",
    "<pre><strong>Input: </strong>times = <span id=\"example-input-1-1\">[[2,1,1],[2,3,1],[3,4,1]]</span>, N = <span id=\"example-input-1-2\">4</span>, K = <span id=\"example-input-1-3\">2</span>\n",
    "<strong>Output: </strong><span id=\"example-output-1\">2</span>\n",
    "</pre>\n",
    "\n",
    "<p>&nbsp;</p>\n",
    "\n",
    "<p><b>Note:</b></p>\n",
    "\n",
    "<ol>\n",
    "\t<li><code>N</code> will be in the range <code>[1, 100]</code>.</li>\n",
    "\t<li><code>K</code> will be in the range <code>[1, N]</code>.</li>\n",
    "\t<li>The length of <code>times</code> will be in the range <code>[1, 6000]</code>.</li>\n",
    "\t<li>All edges <code>times[i] = (u, v, w)</code> will have <code>1 &lt;= u, v &lt;= N</code> and <code>0 &lt;= w &lt;= 100</code>.</li>\n",
    "</ol>\n",
    "</div>"
   ]
  },
  {
   "cell_type": "markdown",
   "metadata": {},
   "source": [
    "## Option 1\n",
    " <p>    \n",
    "<p>\n",
    "    Dijkstra's shortest path with queue\n",
    "    <p>    \n",
    "<strong>Main ideas:</strong>\n",
    "    <li>In order for our queue to work, we need to accumulate the times forward\n",
    "    <li>We know the network is complete if length of seen == N, as all nodes are unique\n",
    "<p>\n",
    "        \n",
    "Time complexity: O(n^2)\n",
    "    <br>\n",
    "Space complexity: O(n)\n"
   ]
  },
  {
   "cell_type": "code",
   "execution_count": null,
   "metadata": {},
   "outputs": [],
   "source": [
    "import collections\n",
    "import heapq\n",
    "class Solution(object):\n",
    "    def networkDelayTime(self, times, N, K):\n",
    "        graph = collections.defaultdict(list)\n",
    "        for u,v,w in times:\n",
    "            graph[u].append((v,w))\n",
    "        \n",
    "        q = [(0,K)]\n",
    "        seen = set()\n",
    "        while q:\n",
    "            new_q = []\n",
    "            time,u = heapq.heappop(q)\n",
    "            if u in seen: continue\n",
    "            seen.add(u)\n",
    "            if len(seen) == N:\n",
    "                return time\n",
    "            for v,w in graph[u]:\n",
    "                heapq.heappush(q,(time+w,v))\n",
    "        \n",
    "        return -1\n",
    "        \n",
    "        \n",
    "        \n",
    "                \n",
    "Solution().networkDelayTime([[2,1,3],[2,4,1],[2,3,4],[4,8,2],[8,7,1],[7,5,3],[3,5,7],[5,6,1]], 8, 2)\n",
    "        "
   ]
  },
  {
   "cell_type": "markdown",
   "metadata": {},
   "source": [
    "#### Result:  684ms (31.89%)"
   ]
  }
 ],
 "metadata": {
  "kernelspec": {
   "display_name": "Python 2",
   "language": "python",
   "name": "python2"
  },
  "language_info": {
   "codemirror_mode": {
    "name": "ipython",
    "version": 2
   },
   "file_extension": ".py",
   "mimetype": "text/x-python",
   "name": "python",
   "nbconvert_exporter": "python",
   "pygments_lexer": "ipython2",
   "version": "2.7.16"
  }
 },
 "nbformat": 4,
 "nbformat_minor": 2
}
