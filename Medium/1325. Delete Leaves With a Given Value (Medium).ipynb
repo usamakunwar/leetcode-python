{
 "cells": [
  {
   "cell_type": "markdown",
   "metadata": {},
   "source": [
    "# 1325. Delete Leaves With a Given Value (Medium)\n"
   ]
  },
  {
   "cell_type": "markdown",
   "metadata": {},
   "source": [
    "<div><p>Given a binary tree&nbsp;<code>root</code>&nbsp;and an integer&nbsp;<code>target</code>, delete all the&nbsp;<strong>leaf nodes</strong>&nbsp;with value <code>target</code>.</p>\n",
    "\n",
    "<p>Note&nbsp;that once you delete a leaf node with value <code>target</code><strong>,&nbsp;</strong>if it's parent node becomes a leaf node and has the value <code><font face=\"monospace\">target</font></code>, it should also be deleted (you need to continue doing that until you can't).</p>\n",
    "\n",
    "<p>&nbsp;</p>\n",
    "<p><strong>Example 1:</strong></p>\n",
    "\n",
    "<p><strong><img alt=\"\" src=\"https://assets.leetcode.com/uploads/2020/01/09/sample_1_1684.png\" style=\"width: 550px; height: 120px;\"></strong></p>\n",
    "\n",
    "<pre><strong>Input:</strong> root = [1,2,3,2,null,2,4], target = 2\n",
    "<strong>Output:</strong> [1,null,3,null,4]\n",
    "<strong>Explanation:</strong> Leaf nodes in green with value (target = 2) are removed (Picture in left). \n",
    "After removing, new nodes become leaf nodes with value (target = 2) (Picture in center).\n",
    "</pre>\n",
    "\n",
    "<p><strong>Example 2:</strong></p>\n",
    "\n",
    "<p><strong><img alt=\"\" src=\"https://assets.leetcode.com/uploads/2020/01/09/sample_2_1684.png\" style=\"width: 300px; height: 120px;\"></strong></p>\n",
    "\n",
    "<pre><strong>Input:</strong> root = [1,3,3,3,2], target = 3\n",
    "<strong>Output:</strong> [1,3,null,null,2]\n",
    "</pre>\n",
    "\n",
    "<p><strong>Example 3:</strong></p>\n",
    "\n",
    "<p><strong><img alt=\"\" src=\"https://assets.leetcode.com/uploads/2020/01/15/sample_3_1684.png\" style=\"width: 420px; height: 150px;\"></strong></p>\n",
    "\n",
    "<pre><strong>Input:</strong> root = [1,2,null,2,null,2], target = 2\n",
    "<strong>Output:</strong> [1]\n",
    "<strong>Explanation:</strong> Leaf nodes in green with value (target = 2) are removed at each step.\n",
    "</pre>\n",
    "\n",
    "<p><strong>Example 4:</strong></p>\n",
    "\n",
    "<pre><strong>Input:</strong> root = [1,1,1], target = 1\n",
    "<strong>Output:</strong> []\n",
    "</pre>\n",
    "\n",
    "<p><strong>Example 5:</strong></p>\n",
    "\n",
    "<pre><strong>Input:</strong> root = [1,2,3], target = 1\n",
    "<strong>Output:</strong> [1,2,3]\n",
    "</pre>\n",
    "\n",
    "<p>&nbsp;</p>\n",
    "<p><strong>Constraints:</strong></p>\n",
    "\n",
    "<ul>\n",
    "\t<li><code>1 &lt;= target&nbsp;&lt;= 1000</code></li>\n",
    "\t<li>Each tree has at most <code>3000</code> nodes.</li>\n",
    "\t<li>Each node's value is between <code>[1, 1000]</code>.</li>\n",
    "</ul></div>"
   ]
  },
  {
   "cell_type": "markdown",
   "metadata": {},
   "source": [
    "## Option 1\n",
    "\n",
    "<p>\n",
    "    DFS\n",
    "<p>\n",
    "Time complexity: O(n)\n",
    "<br>\n",
    "Space complexity: O(n)"
   ]
  },
  {
   "cell_type": "code",
   "execution_count": null,
   "metadata": {
    "scrolled": false
   },
   "outputs": [],
   "source": [
    "# Definition for a binary tree node.\n",
    "# class TreeNode(object):\n",
    "#     def __init__(self, x):\n",
    "#         self.val = x\n",
    "#         self.left = None\n",
    "#         self.right = None\n",
    "\n",
    "class Solution(object):\n",
    "    def removeLeafNodes(self, root, target):\n",
    "        \"\"\"\n",
    "        :type root: TreeNode\n",
    "        :type target: int\n",
    "        :rtype: TreeNode\n",
    "        \"\"\"\n",
    "        \n",
    "        def search(node):\n",
    "            if node.left: node.left = search(node.left)\n",
    "            if node.right: node.right = search(node.right)\n",
    "                \n",
    "            if not node.right and not node.left and node.val == target: return None\n",
    "            \n",
    "            return node\n",
    "    \n",
    "        return search(root)\n",
    "                "
   ]
  },
  {
   "cell_type": "markdown",
   "metadata": {},
   "source": [
    "#### Result: 44ms (59.39%)"
   ]
  }
 ],
 "metadata": {
  "kernelspec": {
   "display_name": "Python 2",
   "language": "python",
   "name": "python2"
  },
  "language_info": {
   "codemirror_mode": {
    "name": "ipython",
    "version": 2
   },
   "file_extension": ".py",
   "mimetype": "text/x-python",
   "name": "python",
   "nbconvert_exporter": "python",
   "pygments_lexer": "ipython2",
   "version": "2.7.16"
  }
 },
 "nbformat": 4,
 "nbformat_minor": 2
}
