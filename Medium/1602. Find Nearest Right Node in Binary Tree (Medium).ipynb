{
 "cells": [
  {
   "cell_type": "markdown",
   "metadata": {},
   "source": [
    "# 1602. Find Nearest Right Node in Binary Tree (Medium)"
   ]
  },
  {
   "cell_type": "markdown",
   "metadata": {},
   "source": [
    "<div><p>Given the <code>root</code> of a binary tree and a node <code>u</code> in the tree, return <em>the <strong>nearest</strong> node on the <strong>same level</strong> that is to the <strong>right</strong> of</em> <code>u</code><em>, or return</em> <code>null</code> <em>if </em><code>u</code> <em>is the rightmost node in its level</em>.</p>\n",
    "\n",
    "<p>&nbsp;</p>\n",
    "<p><strong>Example 1:</strong></p>\n",
    "\n",
    "<p><img alt=\"\" src=\"https://assets.leetcode.com/uploads/2020/09/24/p3.png\" style=\"width: 241px; height: 161px;\"></p>\n",
    "\n",
    "<pre><strong>Input:</strong> root = [1,2,3,null,4,5,6], u = 4\n",
    "<strong>Output:</strong> 5\n",
    "<strong>Explanation: </strong>The nearest node on the same level to the right of node 4 is node 5.\n",
    "</pre>\n",
    "\n",
    "<p><strong>Example 2:</strong></p>\n",
    "\n",
    "<p><strong><img alt=\"\" src=\"https://assets.leetcode.com/uploads/2020/09/23/p2.png\" style=\"width: 101px; height: 161px;\"></strong></p>\n",
    "\n",
    "<pre><strong>Input:</strong> root = [3,null,4,2], u = 2\n",
    "<strong>Output:</strong> null\n",
    "<strong>Explanation: </strong>There are no nodes to the right of 2.\n",
    "</pre>\n",
    "\n",
    "<p><strong>Example 3:</strong></p>\n",
    "\n",
    "<pre><strong>Input:</strong> root = [1], u = 1\n",
    "<strong>Output:</strong> null\n",
    "</pre>\n",
    "\n",
    "<p><strong>Example 4:</strong></p>\n",
    "\n",
    "<pre><strong>Input:</strong> root = [3,4,2,null,null,null,1], u = 4\n",
    "<strong>Output:</strong> 2\n",
    "</pre>\n",
    "\n",
    "<p>&nbsp;</p>\n",
    "<p><strong>Constraints:</strong></p>\n",
    "\n",
    "<ul>\n",
    "\t<li>The number of nodes in the tree is in the range <code>[1, 10<sup>5</sup>]</code>.</li>\n",
    "\t<li><code>1 &lt;= Node.val &lt;= 10<sup>5</sup></code></li>\n",
    "\t<li>All values in the tree are <strong>distinct</strong>.</li>\n",
    "\t<li><code>u</code> is a node in the binary tree rooted at <code>root</code>.</li>\n",
    "</ul>\n",
    "</div>"
   ]
  },
  {
   "cell_type": "markdown",
   "metadata": {},
   "source": [
    "## Option 1\n",
    " <p>    \n",
    "<p>BFS\n",
    "    <p>       \n",
    "<p>\n",
    "        \n",
    "Time complexity: O(n)\n",
    "    <br>\n",
    "Space complexity: O(d)\n"
   ]
  },
  {
   "cell_type": "code",
   "execution_count": null,
   "metadata": {},
   "outputs": [],
   "source": [
    "class Solution(object):\n",
    "    def findNearestRightNode(self, root, u):\n",
    "        \n",
    "        q = collections.deque([(root,0)])\n",
    "        \n",
    "        while q:\n",
    "            node, lev = q.popleft()\n",
    "            if node.val == u.val:\n",
    "                if q and q[0][1] == lev: return q[0][0]\n",
    "                return None\n",
    "            if node.left: q.append((node.left, lev+1))\n",
    "            if node.right: q.append((node.right, lev+1))"
   ]
  },
  {
   "cell_type": "markdown",
   "metadata": {},
   "source": [
    "#### Result:  392ms (72.22%)"
   ]
  }
 ],
 "metadata": {
  "kernelspec": {
   "display_name": "Python 2",
   "language": "python",
   "name": "python2"
  },
  "language_info": {
   "codemirror_mode": {
    "name": "ipython",
    "version": 2
   },
   "file_extension": ".py",
   "mimetype": "text/x-python",
   "name": "python",
   "nbconvert_exporter": "python",
   "pygments_lexer": "ipython2",
   "version": "2.7.16"
  }
 },
 "nbformat": 4,
 "nbformat_minor": 2
}
