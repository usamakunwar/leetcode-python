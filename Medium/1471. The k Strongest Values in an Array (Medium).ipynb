{
 "cells": [
  {
   "cell_type": "markdown",
   "metadata": {},
   "source": [
    "# 1471. The k Strongest Values in an Array (Medium)"
   ]
  },
  {
   "cell_type": "markdown",
   "metadata": {},
   "source": [
    "<div><p>Given an array of integers <code>arr</code>&nbsp;and an integer <code>k</code>.</p>\n",
    "\n",
    "<p>A value <code>arr[i]</code> is said to be stronger than a value <code>arr[j]</code> if <code>|arr[i] - m| &gt; |arr[j]&nbsp;- m|</code> where <code>m</code> is the <strong>median</strong> of the array.<br>\n",
    "If <code>|arr[i] - m| == |arr[j] - m|</code>, then <code>arr[i]</code> is said to be stronger than <code>arr[j]</code> if <code>arr[i] &gt; arr[j]</code>.</p>\n",
    "\n",
    "<p>Return <em>a list of the strongest <code>k</code></em> values in the array. return the answer <strong>in any arbitrary order</strong>.</p>\n",
    "\n",
    "<p><strong>Median</strong> is the middle value in an ordered integer list. More formally, if the length of the list is n, the median is the element in position <code>((n - 1) / 2)</code> in the sorted list&nbsp;<strong>(0-indexed)</strong>.</p>\n",
    "\n",
    "<ul>\n",
    "\t<li>For <code>arr =&nbsp;[6, -3, 7, 2, 11]</code>,&nbsp;<code>n = 5</code> and the median is obtained by sorting the array&nbsp;<code>arr = [-3, 2, 6, 7, 11]</code> and the median is <code>arr[m]</code> where <code>m = ((5 - 1) / 2) = 2</code>. The median is <code>6</code>.</li>\n",
    "\t<li>For <code>arr =&nbsp;[-7, 22, 17, 3]</code>,&nbsp;<code>n = 4</code> and the median is obtained by sorting the array&nbsp;<code>arr = [-7, 3, 17, 22]</code> and the median is <code>arr[m]</code> where <code>m = ((4 - 1) / 2) = 1</code>. The median is <code>3</code>.</li>\n",
    "</ul>\n",
    "\n",
    "<p>&nbsp;</p>\n",
    "<p><strong>Example 1:</strong></p>\n",
    "\n",
    "<pre><strong>Input:</strong> arr = [1,2,3,4,5], k = 2\n",
    "<strong>Output:</strong> [5,1]\n",
    "<strong>Explanation:</strong> Median is 3, the elements of the array sorted by the strongest are [5,1,4,2,3]. The strongest 2 elements are [5, 1]. [1, 5] is also <strong>accepted</strong> answer.\n",
    "Please note that although |5 - 3| == |1 - 3| but 5 is stronger than 1 because 5 &gt; 1.\n",
    "</pre>\n",
    "\n",
    "<p><strong>Example 2:</strong></p>\n",
    "\n",
    "<pre><strong>Input:</strong> arr = [1,1,3,5,5], k = 2\n",
    "<strong>Output:</strong> [5,5]\n",
    "<strong>Explanation:</strong> Median is 3, the elements of the array sorted by the strongest are [5,5,1,1,3]. The strongest 2 elements are [5, 5].\n",
    "</pre>\n",
    "\n",
    "<p><strong>Example 3:</strong></p>\n",
    "\n",
    "<pre><strong>Input:</strong> arr = [6,7,11,7,6,8], k = 5\n",
    "<strong>Output:</strong> [11,8,6,6,7]\n",
    "<strong>Explanation:</strong> Median is 7, the elements of the array sorted by the strongest are [11,8,6,6,7,7].\n",
    "Any permutation of [11,8,6,6,7] is <strong>accepted</strong>.\n",
    "</pre>\n",
    "\n",
    "<p><strong>Example 4:</strong></p>\n",
    "\n",
    "<pre><strong>Input:</strong> arr = [6,-3,7,2,11], k = 3\n",
    "<strong>Output:</strong> [-3,11,2]\n",
    "</pre>\n",
    "\n",
    "<p><strong>Example 5:</strong></p>\n",
    "\n",
    "<pre><strong>Input:</strong> arr = [-7,22,17,3], k = 2\n",
    "<strong>Output:</strong> [22,17]\n",
    "</pre>\n",
    "\n",
    "<p>&nbsp;</p>\n",
    "<p><strong>Constraints:</strong></p>\n",
    "\n",
    "<ul>\n",
    "\t<li><code>1 &lt;= arr.length &lt;= 10^5</code></li>\n",
    "\t<li><code>-10^5 &lt;= arr[i] &lt;= 10^5</code></li>\n",
    "\t<li><code>1 &lt;= k &lt;= arr.length</code></li>\n",
    "</ul></div>"
   ]
  },
  {
   "cell_type": "markdown",
   "metadata": {},
   "source": [
    "## Option 1\n",
    " <p>    \n",
    "Not the right definition of median, but ok.\n",
    "<p>\n",
    "\n",
    "<p>\n",
    "            \n",
    "Time complexity: O(nlogn)\n",
    "    <br>\n",
    "Space complexity: O(n)\n",
    "        \n"
   ]
  },
  {
   "cell_type": "code",
   "execution_count": null,
   "metadata": {
    "scrolled": true
   },
   "outputs": [],
   "source": [
    "class Solution(object):\n",
    "    def getStrongest(self, arr, k):\n",
    "        arr.sort()\n",
    "        m = (len(arr)-1)/2\n",
    "        l,r = 0,len(arr)-1        \n",
    "        res = []\n",
    "        \n",
    "        while k:\n",
    "            a,b = abs(arr[l]-arr[m]),abs(arr[r]-arr[m]) \n",
    "            if a > b or (a == b and arr[l] > arr[r]):\n",
    "                res.append(arr[l])\n",
    "                l += 1\n",
    "            else:\n",
    "                res.append(arr[r])\n",
    "                r -= 1\n",
    "            k -= 1\n",
    "            \n",
    "        return res\n",
    "        \n",
    "        \n",
    "Solution().getStrongest([6,-3,7,2,11], 6)\n",
    "\n",
    "\n"
   ]
  },
  {
   "cell_type": "markdown",
   "metadata": {},
   "source": [
    "#### Result: 904ms (80.16%)"
   ]
  }
 ],
 "metadata": {
  "kernelspec": {
   "display_name": "Python 2",
   "language": "python",
   "name": "python2"
  },
  "language_info": {
   "codemirror_mode": {
    "name": "ipython",
    "version": 2
   },
   "file_extension": ".py",
   "mimetype": "text/x-python",
   "name": "python",
   "nbconvert_exporter": "python",
   "pygments_lexer": "ipython2",
   "version": "2.7.16"
  }
 },
 "nbformat": 4,
 "nbformat_minor": 2
}
