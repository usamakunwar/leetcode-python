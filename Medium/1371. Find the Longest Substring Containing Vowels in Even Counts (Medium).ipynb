{
 "cells": [
  {
   "cell_type": "markdown",
   "metadata": {},
   "source": [
    "# 1371. Find the Longest Substring Containing Vowels in Even Counts (Medium)"
   ]
  },
  {
   "cell_type": "markdown",
   "metadata": {},
   "source": [
    "<div><p>Given the string <code>s</code>, return the size of the longest substring containing each vowel an even number of times. That is, 'a', 'e', 'i', 'o', and 'u' must appear an even number of times.</p>\n",
    "\n",
    "<p>&nbsp;</p>\n",
    "<p><strong>Example 1:</strong></p>\n",
    "\n",
    "<pre><strong>Input:</strong> s = \"eleetminicoworoep\"\n",
    "<strong>Output:</strong> 13\n",
    "<strong>Explanation: </strong>The longest substring is \"leetminicowor\" which contains two each of the vowels: <strong>e</strong>, <strong>i</strong> and <strong>o</strong> and zero of the vowels: <strong>a</strong> and <strong>u</strong>.\n",
    "</pre>\n",
    "\n",
    "<p><strong>Example 2:</strong></p>\n",
    "\n",
    "<pre><strong>Input:</strong> s = \"leetcodeisgreat\"\n",
    "<strong>Output:</strong> 5\n",
    "<strong>Explanation:</strong> The longest substring is \"leetc\" which contains two e's.\n",
    "</pre>\n",
    "\n",
    "<p><strong>Example 3:</strong></p>\n",
    "\n",
    "<pre><strong>Input:</strong> s = \"bcbcbc\"\n",
    "<strong>Output:</strong> 6\n",
    "<strong>Explanation:</strong> In this case, the given string \"bcbcbc\" is the longest because all vowels: <strong>a</strong>, <strong>e</strong>, <strong>i</strong>, <strong>o</strong> and <strong>u</strong> appear zero times.\n",
    "</pre>\n",
    "\n",
    "<p>&nbsp;</p>\n",
    "<p><strong>Constraints:</strong></p>\n",
    "\n",
    "<ul>\n",
    "\t<li><code>1 &lt;= s.length &lt;= 5 x 10^5</code></li>\n",
    "\t<li><code>s</code>&nbsp;contains only lowercase English letters.</li>\n",
    "</ul></div>"
   ]
  },
  {
   "cell_type": "markdown",
   "metadata": {},
   "source": [
    "## Option 1\n",
    " <p>     <p>\n",
    "    <p>\n",
    "        <li>Prefix sum, accumulate the count of vowels. Between any two indexes, if the same vowels are odd we have a valid window\n",
    "        <li>The key for lookup will be the odd items\n",
    "<p>\n",
    "        \n",
    "Time complexity: O(n)\n",
    "    <br>\n",
    "Space complexity: O(n)\n"
   ]
  },
  {
   "cell_type": "code",
   "execution_count": null,
   "metadata": {
    "scrolled": true
   },
   "outputs": [],
   "source": [
    "class Solution(object):\n",
    "    def findTheLongestSubstring(self, s):\n",
    "        m = {'':-1} #Start with no odd items\n",
    "        curr = {'a':0, 'e':0, 'i':0, 'o':0, 'u':0}\n",
    "        res = 0\n",
    "        for i in range(len(s)):\n",
    "            if s[i] in curr:\n",
    "                curr[s[i]] += 1\n",
    "            odds = ''.join([c for c in curr if curr[c]%2])\n",
    "            if odds in m:\n",
    "                res = max(res, i-m[odds])\n",
    "            m.setdefault(odds,i)\n",
    "        return res\n",
    "\n",
    "Solution().findTheLongestSubstring(\"bcbcbc\")\n",
    "        "
   ]
  },
  {
   "cell_type": "markdown",
   "metadata": {},
   "source": [
    "#### Result: 1588ms (12.00%)"
   ]
  }
 ],
 "metadata": {
  "kernelspec": {
   "display_name": "Python 2",
   "language": "python",
   "name": "python2"
  },
  "language_info": {
   "codemirror_mode": {
    "name": "ipython",
    "version": 2
   },
   "file_extension": ".py",
   "mimetype": "text/x-python",
   "name": "python",
   "nbconvert_exporter": "python",
   "pygments_lexer": "ipython2",
   "version": "2.7.16"
  }
 },
 "nbformat": 4,
 "nbformat_minor": 2
}
