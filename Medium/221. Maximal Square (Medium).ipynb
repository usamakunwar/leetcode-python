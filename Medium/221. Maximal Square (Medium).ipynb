{
 "cells": [
  {
   "cell_type": "markdown",
   "metadata": {},
   "source": [
    "# 221. Maximal Square (Medium)"
   ]
  },
  {
   "cell_type": "markdown",
   "metadata": {},
   "source": [
    "<div><p>Given a 2D binary matrix filled with 0's and 1's, find the largest square containing only 1's and return its area.</p>\n",
    "\n",
    "<p><strong>Example:</strong></p>\n",
    "\n",
    "<pre><strong>Input: \n",
    "</strong>\n",
    "1 0 1 0 0\n",
    "1 0 <font color=\"red\">1</font> <font color=\"red\">1</font> 1\n",
    "1 1 <font color=\"red\">1</font> <font color=\"red\">1</font> 1\n",
    "1 0 0 1 0\n",
    "\n",
    "<strong>Output: </strong>4\n",
    "</pre></div>"
   ]
  },
  {
   "cell_type": "markdown",
   "metadata": {},
   "source": [
    "## Option 1\n",
    " <p>     <p>\n",
    "    <p>DP\n",
    "        <p>\n",
    "        \n",
    "Time complexity: O(mn)\n",
    "    <br>\n",
    "Space complexity: O(1)\n"
   ]
  },
  {
   "cell_type": "code",
   "execution_count": null,
   "metadata": {
    "scrolled": true
   },
   "outputs": [],
   "source": [
    "class Solution(object):\n",
    "    def maximalSquare(self, m):\n",
    "        res = 0\n",
    "        for i in range(len(m)):\n",
    "            for j in range(len(m[0])):\n",
    "                if m[i][j] == '0':  continue\n",
    "                top = int(m[i-1][j]) if i > 0 else 0\n",
    "                left = int(m[i][j-1]) if j > 0 else 0\n",
    "                prev = int(m[i-1][j-1]) if i > 0 and j > 0 else 0\n",
    "                m[i][j] = min(top,left,prev) + 1\n",
    "                res = max(res, m[i][j])\n",
    "        \n",
    "        return res**2\n",
    "\n",
    "Solution().maximalSquare([[\"0\",\"1\",\"1\",\"1\",\"1\"],\n",
    "                          [\"1\",\"1\",\"1\",\"1\",\"1\"],\n",
    "                          [\"1\",\"1\",\"1\",\"1\",\"1\"],\n",
    "                          [\"1\",\"1\",\"1\",\"1\",\"0\"],\n",
    "                          [\"1\",\"1\",\"1\",\"0\",\"1\"],\n",
    "                          [\"1\",\"0\",\"0\",\"1\",\"1\"],\n",
    "                          [\"1\",\"1\",\"1\",\"1\",\"1\"],\n",
    "                          [\"1\",\"1\",\"1\",\"1\",\"1\"]\n",
    "                         ])\n",
    "        "
   ]
  },
  {
   "cell_type": "markdown",
   "metadata": {},
   "source": [
    "#### Result: 192ms (36.20%)"
   ]
  }
 ],
 "metadata": {
  "kernelspec": {
   "display_name": "Python 2",
   "language": "python",
   "name": "python2"
  },
  "language_info": {
   "codemirror_mode": {
    "name": "ipython",
    "version": 2
   },
   "file_extension": ".py",
   "mimetype": "text/x-python",
   "name": "python",
   "nbconvert_exporter": "python",
   "pygments_lexer": "ipython2",
   "version": "2.7.16"
  }
 },
 "nbformat": 4,
 "nbformat_minor": 2
}
