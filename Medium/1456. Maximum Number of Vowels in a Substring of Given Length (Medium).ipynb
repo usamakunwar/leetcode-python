{
 "cells": [
  {
   "cell_type": "markdown",
   "metadata": {},
   "source": [
    "# 1456. Maximum Number of Vowels in a Substring of Given Length (Medium)\n"
   ]
  },
  {
   "cell_type": "markdown",
   "metadata": {},
   "source": [
    "<div><p>Given a string <code>s</code> and an integer <code>k</code>.</p>\n",
    "\n",
    "<p>Return <em>the maximum number of vowel letters</em> in any substring of <code>s</code>&nbsp;with&nbsp;length <code>k</code>.</p>\n",
    "\n",
    "<p><strong>Vowel letters</strong> in&nbsp;English are&nbsp;(a, e, i, o, u).</p>\n",
    "\n",
    "<p>&nbsp;</p>\n",
    "<p><strong>Example 1:</strong></p>\n",
    "\n",
    "<pre><strong>Input:</strong> s = \"abciiidef\", k = 3\n",
    "<strong>Output:</strong> 3\n",
    "<strong>Explanation:</strong> The substring \"iii\" contains 3 vowel letters.\n",
    "</pre>\n",
    "\n",
    "<p><strong>Example 2:</strong></p>\n",
    "\n",
    "<pre><strong>Input:</strong> s = \"aeiou\", k = 2\n",
    "<strong>Output:</strong> 2\n",
    "<strong>Explanation:</strong> Any substring of length 2 contains 2 vowels.\n",
    "</pre>\n",
    "\n",
    "<p><strong>Example 3:</strong></p>\n",
    "\n",
    "<pre><strong>Input:</strong> s = \"leetcode\", k = 3\n",
    "<strong>Output:</strong> 2\n",
    "<strong>Explanation:</strong> \"lee\", \"eet\" and \"ode\" contain 2 vowels.\n",
    "</pre>\n",
    "\n",
    "<p><strong>Example 4:</strong></p>\n",
    "\n",
    "<pre><strong>Input:</strong> s = \"rhythms\", k = 4\n",
    "<strong>Output:</strong> 0\n",
    "<strong>Explanation:</strong> We can see that s doesn't have any vowel letters.\n",
    "</pre>\n",
    "\n",
    "<p><strong>Example 5:</strong></p>\n",
    "\n",
    "<pre><strong>Input:</strong> s = \"tryhard\", k = 4\n",
    "<strong>Output:</strong> 1\n",
    "</pre>\n",
    "\n",
    "<p>&nbsp;</p>\n",
    "<p><strong>Constraints:</strong></p>\n",
    "\n",
    "<ul>\n",
    "\t<li><code>1 &lt;= s.length &lt;= 10^5</code></li>\n",
    "\t<li><code>s</code>&nbsp;consists of lowercase English letters.</li>\n",
    "\t<li><code>1 &lt;= k &lt;= s.length</code></li>\n",
    "</ul></div>"
   ]
  },
  {
   "cell_type": "markdown",
   "metadata": {},
   "source": [
    "## Option 1\n",
    "<p>    \n",
    "    Sliding window\n",
    " <p> <p>\n",
    "Time complexity: O(n)\n",
    "    <br>\n",
    "Space complexity: O(1)\n"
   ]
  },
  {
   "cell_type": "code",
   "execution_count": null,
   "metadata": {
    "scrolled": true
   },
   "outputs": [],
   "source": [
    "class Solution(object):\n",
    "    def maxVowels(self, s, k):\n",
    "        v = set(['a','e','i','o','u'])\n",
    "        res = count = 0\n",
    "        for i in range(len(s)):\n",
    "            count += s[i] in v\n",
    "            if i >= k:\n",
    "                count -= s[i-k] in v\n",
    "            res = max(res,count)\n",
    "        return res\n",
    "        \n",
    "Solution().maxVowels(\"aeious\", 1)\n",
    "    "
   ]
  },
  {
   "cell_type": "markdown",
   "metadata": {},
   "source": [
    "#### Result: 200ms (84.05%)"
   ]
  }
 ],
 "metadata": {
  "kernelspec": {
   "display_name": "Python 2",
   "language": "python",
   "name": "python2"
  },
  "language_info": {
   "codemirror_mode": {
    "name": "ipython",
    "version": 2
   },
   "file_extension": ".py",
   "mimetype": "text/x-python",
   "name": "python",
   "nbconvert_exporter": "python",
   "pygments_lexer": "ipython2",
   "version": "2.7.16"
  }
 },
 "nbformat": 4,
 "nbformat_minor": 2
}
