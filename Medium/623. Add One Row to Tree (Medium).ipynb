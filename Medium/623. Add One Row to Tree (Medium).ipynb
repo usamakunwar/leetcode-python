{
 "cells": [
  {
   "cell_type": "markdown",
   "metadata": {},
   "source": [
    "# 623. Add One Row to Tree (Medium)\n"
   ]
  },
  {
   "cell_type": "markdown",
   "metadata": {},
   "source": [
    "<div><p>Given the root of a binary tree, then value <code>v</code> and depth <code>d</code>, you need to add a row of nodes with value <code>v</code> at the given depth <code>d</code>. The root node is at depth 1. </p>\n",
    "\n",
    "<p>The adding rule is: given a positive integer depth <code>d</code>, for each NOT null tree nodes <code>N</code> in depth <code>d-1</code>, create two tree nodes with value <code>v</code> as <code>N's</code> left subtree root and right subtree root. And <code>N's</code> <b>original left subtree</b> should be the left subtree of the new left subtree root, its <b>original right subtree</b> should be the right subtree of the new right subtree root. If depth <code>d</code> is 1 that means there is no depth d-1 at all, then create a tree node with value <b>v</b> as the new root of the whole original tree, and the original tree is the new root's left subtree.</p>\n",
    "\n",
    "<p><b>Example 1:</b><br>\n",
    "</p><pre><b>Input:</b> \n",
    "A binary tree as following:\n",
    "       4\n",
    "     /   \\\n",
    "    2     6\n",
    "   / \\   / \n",
    "  3   1 5   \n",
    "\n",
    "<b>v = 1</b>\n",
    "\n",
    "<b>d = 2</b>\n",
    "\n",
    "<b>Output:</b> \n",
    "       4\n",
    "      / \\\n",
    "     1   1\n",
    "    /     \\\n",
    "   2       6\n",
    "  / \\     / \n",
    " 3   1   5   \n",
    "\n",
    "</pre>\n",
    "<p></p>\n",
    "\n",
    "\n",
    "<p><b>Example 2:</b><br>\n",
    "</p><pre><b>Input:</b> \n",
    "A binary tree as following:\n",
    "      4\n",
    "     /   \n",
    "    2    \n",
    "   / \\   \n",
    "  3   1    \n",
    "\n",
    "<b>v = 1</b>\n",
    "\n",
    "<b>d = 3</b>\n",
    "\n",
    "<b>Output:</b> \n",
    "      4\n",
    "     /   \n",
    "    2\n",
    "   / \\    \n",
    "  1   1\n",
    " /     \\  \n",
    "3       1\n",
    "</pre>\n",
    "<p></p>\n",
    "\n",
    "<p><b>Note:</b><br>\n",
    "</p><ol>\n",
    "<li>The given d is in range [1, maximum depth of the given tree + 1].</li>\n",
    "<li>The given binary tree has at least one tree node.</li>\n",
    "</ol>\n",
    "<p></p></div>"
   ]
  },
  {
   "cell_type": "markdown",
   "metadata": {},
   "source": [
    "## Option 1\n",
    "<p>\n",
    "<li>DFS\n",
    "<p>\n",
    "\n",
    "Time complexity: O(n)\n",
    "<br>\n",
    "Space complexity: O(n)"
   ]
  },
  {
   "cell_type": "code",
   "execution_count": null,
   "metadata": {},
   "outputs": [],
   "source": [
    "# Definition for a binary tree node.\n",
    "# class TreeNode(object):\n",
    "#     def __init__(self, x):\n",
    "#         self.val = x\n",
    "#         self.left = None\n",
    "#         self.right = None\n",
    "\n",
    "class Solution(object):\n",
    "    def addOneRow(self, root, v, d):\n",
    "        \"\"\"\n",
    "        :type root: TreeNode\n",
    "        :type v: int\n",
    "        :type d: int\n",
    "        :rtype: TreeNode\n",
    "        \"\"\"\n",
    "        def search(node, lev, direction):\n",
    "            if lev == d:\n",
    "                new = TreeNode(v)\n",
    "                if direction: \n",
    "                    new.left = node\n",
    "                else:\n",
    "                    new.right = node\n",
    "                node = new\n",
    "                #Allow searching when node.left or node.right is null (for the case d is the end of the tree)\n",
    "            elif node:\n",
    "                node.left = search(node.left, lev+1, True)\n",
    "                node.right = search(node.right, lev+1, False)\n",
    "            return node\n",
    "            \n",
    "        return search(root,1,True)\n"
   ]
  },
  {
   "cell_type": "markdown",
   "metadata": {},
   "source": [
    "#### Result: 44ms (75.51%)\n"
   ]
  }
 ],
 "metadata": {
  "kernelspec": {
   "display_name": "Python 2",
   "language": "python",
   "name": "python2"
  },
  "language_info": {
   "codemirror_mode": {
    "name": "ipython",
    "version": 2
   },
   "file_extension": ".py",
   "mimetype": "text/x-python",
   "name": "python",
   "nbconvert_exporter": "python",
   "pygments_lexer": "ipython2",
   "version": "2.7.16"
  }
 },
 "nbformat": 4,
 "nbformat_minor": 2
}
