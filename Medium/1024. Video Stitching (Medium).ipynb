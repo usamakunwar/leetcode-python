{
 "cells": [
  {
   "cell_type": "markdown",
   "metadata": {},
   "source": [
    "# 1024. Video Stitching (Medium)"
   ]
  },
  {
   "cell_type": "markdown",
   "metadata": {},
   "source": [
    "<div><p>You are given a series of video clips from a sporting event that lasted <code>T</code> seconds.&nbsp;&nbsp;These video clips can be overlapping with each other and have varied lengths.</p>\n",
    "\n",
    "<p>Each video clip <code>clips[i]</code>&nbsp;is an interval: it starts at time <code>clips[i][0]</code> and ends at time <code>clips[i][1]</code>.&nbsp; We can cut these clips into segments freely: for example, a clip <code>[0, 7]</code> can be cut into segments&nbsp;<code>[0, 1] +&nbsp;[1, 3] + [3, 7]</code>.</p>\n",
    "\n",
    "<p>Return the minimum number of clips needed so that we can cut the clips into segments that cover the entire sporting event (<code>[0, T]</code>).&nbsp; If the task is impossible, return <code>-1</code>.</p>\n",
    "\n",
    "<p>&nbsp;</p>\n",
    "\n",
    "<p><strong>Example 1:</strong></p>\n",
    "\n",
    "<pre><strong>Input: </strong>clips = <span id=\"example-input-1-1\">[[0,2],[4,6],[8,10],[1,9],[1,5],[5,9]]</span>, T = <span id=\"example-input-1-2\">10</span>\n",
    "<strong>Output: </strong><span id=\"example-output-1\">3</span>\n",
    "<strong>Explanation: </strong>\n",
    "We take the clips [0,2], [8,10], [1,9]; a total of 3 clips.\n",
    "Then, we can reconstruct the sporting event as follows:\n",
    "We cut [1,9] into segments [1,2] + [2,8] + [8,9].\n",
    "Now we have segments [0,2] + [2,8] + [8,10] which cover the sporting event [0, 10].\n",
    "</pre>\n",
    "\n",
    "<p><strong>Example 2:</strong></p>\n",
    "\n",
    "<pre><strong>Input: </strong>clips = <span id=\"example-input-2-1\">[[0,1],[1,2]]</span>, T = <span id=\"example-input-2-2\">5</span>\n",
    "<strong>Output: </strong><span id=\"example-output-2\">-1</span>\n",
    "<strong>Explanation: </strong>\n",
    "We can't cover [0,5] with only [0,1] and [0,2].\n",
    "</pre>\n",
    "\n",
    "<p><strong>Example 3:</strong></p>\n",
    "\n",
    "<pre><strong>Input: </strong>clips = <span id=\"example-input-3-1\">[[0,1],[6,8],[0,2],[5,6],[0,4],[0,3],[6,7],[1,3],[4,7],[1,4],[2,5],[2,6],[3,4],[4,5],[5,7],[6,9]]</span>, T = <span id=\"example-input-3-2\">9</span>\n",
    "<strong>Output: </strong><span id=\"example-output-3\">3</span>\n",
    "<strong>Explanation: </strong>\n",
    "We can take clips [0,4], [4,7], and [6,9].\n",
    "</pre>\n",
    "\n",
    "<p><strong>Example 4:</strong></p>\n",
    "\n",
    "<pre><strong>Input: </strong>clips = <span id=\"example-input-4-1\">[[0,4],[2,8]]</span>, T = <span id=\"example-input-4-2\">5</span>\n",
    "<strong>Output: </strong><span id=\"example-output-4\">2</span>\n",
    "<strong>Explanation: </strong>\n",
    "Notice you can have extra video after the event ends.\n",
    "</pre>\n",
    "\n",
    "<p>&nbsp;</p>\n",
    "<p><strong>Constraints:</strong></p>\n",
    "\n",
    "<ul>\n",
    "\t<li><code>1 &lt;= clips.length &lt;= 100</code></li>\n",
    "\t<li><code>0 &lt;= clips[i][0] &lt;=&nbsp;clips[i][1] &lt;= 100</code></li>\n",
    "\t<li><code>0 &lt;= T &lt;= 100</code></li>\n",
    "</ul>\n",
    "</div>"
   ]
  },
  {
   "cell_type": "markdown",
   "metadata": {},
   "source": [
    "## Option 1\n",
    "<p>\n",
    "   DP\n",
    "    <p>\n",
    "    <li>Once the clips are sorted, we are sure of no gaps. \n",
    "    <li>Note that [0,10] is 0 and 10 inclusive, however if we split to [0,5][6,10] this will not be complete, as we are missing [5,6]\n",
    "    <li>So we can process by excluding the last item\n",
    "    <li>#dp[0] = 0 Sentinel\n",
    "    <li>#min(j,T+1) Exlude the last item, the segment may be bigger than T so limit to T\n",
    " <p>\n",
    "         <p>\n",
    "Time complexity: O(nlogn)\n",
    "    <br>\n",
    "Space complexity: O(n)\n"
   ]
  },
  {
   "cell_type": "code",
   "execution_count": null,
   "metadata": {
    "scrolled": true
   },
   "outputs": [],
   "source": [
    "class Solution(object):\n",
    "    def videoStitching(self, clips, T):\n",
    "        clips.sort()\n",
    "        dp = [float('inf')]*(T+2)\n",
    "        dp[0] = 0\n",
    "        for i,j in clips:\n",
    "            for k in range(i, min(j,T+1)):\n",
    "                dp[k+1] = min(dp[k+1],dp[i]+1) \n",
    "        return -1 if dp[T] == float('inf') else dp[T]\n",
    "\n",
    "Solution().videoStitching([[0,2],[3,4],[5,6],[7,8],[9,10]], 10)\n",
    "        "
   ]
  },
  {
   "cell_type": "markdown",
   "metadata": {},
   "source": [
    "#### Result: 20ms (76.00%)"
   ]
  }
 ],
 "metadata": {
  "kernelspec": {
   "display_name": "Python 2",
   "language": "python",
   "name": "python2"
  },
  "language_info": {
   "codemirror_mode": {
    "name": "ipython",
    "version": 2
   },
   "file_extension": ".py",
   "mimetype": "text/x-python",
   "name": "python",
   "nbconvert_exporter": "python",
   "pygments_lexer": "ipython2",
   "version": "2.7.16"
  }
 },
 "nbformat": 4,
 "nbformat_minor": 2
}
