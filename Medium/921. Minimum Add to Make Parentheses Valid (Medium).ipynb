{
 "cells": [
  {
   "cell_type": "markdown",
   "metadata": {},
   "source": [
    "# 921. Minimum Add to Make Parentheses Valid (Medium)\n",
    "\n"
   ]
  },
  {
   "cell_type": "markdown",
   "metadata": {},
   "source": [
    "<div><p>Given a string&nbsp;<code>S</code> of <code>'('</code> and <code>')'</code> parentheses, we add the minimum number of parentheses ( <code>'('</code> or <code>')'</code>, and in any positions ) so that the resulting parentheses string is valid.</p>\n",
    "\n",
    "<p>Formally, a parentheses string is valid if and only if:</p>\n",
    "\n",
    "<ul>\n",
    "\t<li>It is the empty string, or</li>\n",
    "\t<li>It can be written as <code>AB</code>&nbsp;(<code>A</code> concatenated with <code>B</code>), where <code>A</code> and <code>B</code> are valid strings, or</li>\n",
    "\t<li>It can be written as <code>(A)</code>, where <code>A</code> is a valid string.</li>\n",
    "</ul>\n",
    "\n",
    "<p>Given a parentheses string, return the minimum number of parentheses we must add to make the resulting string valid.</p>\n",
    "\n",
    "<p>&nbsp;</p>\n",
    "\n",
    "<p><strong>Example 1:</strong></p>\n",
    "\n",
    "<pre><strong>Input: </strong><span id=\"example-input-1-1\">\"())\"</span>\n",
    "<strong>Output: </strong><span id=\"example-output-1\">1</span>\n",
    "</pre>\n",
    "\n",
    "<div>\n",
    "<p><strong>Example 2:</strong></p>\n",
    "\n",
    "<pre><strong>Input: </strong><span id=\"example-input-2-1\">\"(((\"</span>\n",
    "<strong>Output: </strong><span id=\"example-output-2\">3</span>\n",
    "</pre>\n",
    "\n",
    "<div>\n",
    "<p><strong>Example 3:</strong></p>\n",
    "\n",
    "<pre><strong>Input: </strong><span id=\"example-input-3-1\">\"()\"</span>\n",
    "<strong>Output: </strong><span id=\"example-output-3\">0</span>\n",
    "</pre>\n",
    "\n",
    "<div>\n",
    "<p><strong>Example 4:</strong></p>\n",
    "\n",
    "<pre><strong>Input: </strong><span id=\"example-input-4-1\">\"()))((\"</span>\n",
    "<strong>Output: </strong><span id=\"example-output-4\">4</span></pre>\n",
    "\n",
    "<p>&nbsp;</p>\n",
    "</div>\n",
    "</div>\n",
    "</div>\n",
    "\n",
    "<p><strong>Note:</strong></p>\n",
    "\n",
    "<ol>\n",
    "\t<li><code>S.length &lt;= 1000</code></li>\n",
    "\t<li><code>S</code> only consists of <code>'('</code> and <code>')'</code> characters.</li>\n",
    "</ol>\n",
    "\n",
    "<div>\n",
    "<div>\n",
    "<div>\n",
    "<div>&nbsp;</div>\n",
    "</div>\n",
    "</div>\n",
    "</div></div>"
   ]
  },
  {
   "cell_type": "markdown",
   "metadata": {},
   "source": [
    "## Option 1\n",
    "\n",
    "Time complexity: O(n)\n",
    "<br>\n",
    "Space complexity: O(n)\n"
   ]
  },
  {
   "cell_type": "code",
   "execution_count": null,
   "metadata": {
    "scrolled": false
   },
   "outputs": [],
   "source": [
    "import collections\n",
    "class Solution(object):\n",
    "    def minAddToMakeValid(self, S):\n",
    "        stack = []\n",
    "        for s in S:\n",
    "            if stack and s == ')' and stack[-1] == '(':\n",
    "                stack.pop()\n",
    "            else:\n",
    "                stack.append(s)\n",
    "        return len(stack)\n",
    "    \n",
    "Solution().minAddToMakeValid(\")))(())()()\")"
   ]
  },
  {
   "cell_type": "markdown",
   "metadata": {},
   "source": [
    "#### Result: 20ms (63.27%)"
   ]
  },
  {
   "cell_type": "markdown",
   "metadata": {},
   "source": [
    "## Option 2\n",
    "\n",
    "Time complexity: O(n)\n",
    "<br>\n",
    "Space complexity: O(1)\n"
   ]
  },
  {
   "cell_type": "code",
   "execution_count": null,
   "metadata": {},
   "outputs": [],
   "source": [
    "import collections\n",
    "class Solution(object):\n",
    "    def minAddToMakeValid(self, S):\n",
    "        balance=ans= 0\n",
    "        for s in S:\n",
    "            balance += -1 if s == ')' else 1\n",
    "            #Every time we get to -1 we have a wrong bracket\n",
    "            if balance == -1 :\n",
    "                ans += 1\n",
    "                balance += 1\n",
    "        return ans + balance\n",
    "    \n",
    "Solution().minAddToMakeValid(\")))(())()()\")"
   ]
  },
  {
   "cell_type": "markdown",
   "metadata": {},
   "source": [
    "#### Result: 8ms (99.76%)"
   ]
  }
 ],
 "metadata": {
  "kernelspec": {
   "display_name": "Python 2",
   "language": "python",
   "name": "python2"
  },
  "language_info": {
   "codemirror_mode": {
    "name": "ipython",
    "version": 2
   },
   "file_extension": ".py",
   "mimetype": "text/x-python",
   "name": "python",
   "nbconvert_exporter": "python",
   "pygments_lexer": "ipython2",
   "version": "2.7.16"
  }
 },
 "nbformat": 4,
 "nbformat_minor": 2
}
