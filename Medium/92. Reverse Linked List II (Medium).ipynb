{
 "cells": [
  {
   "cell_type": "markdown",
   "metadata": {},
   "source": [
    "# 92. Reverse Linked List II (Medium)"
   ]
  },
  {
   "cell_type": "markdown",
   "metadata": {},
   "source": [
    "<div><p>Reverse a linked list from position <em>m</em> to <em>n</em>. Do it in one-pass.</p>\n",
    "\n",
    "<p><strong>Note:&nbsp;</strong>1 ≤ <em>m</em> ≤ <em>n</em> ≤ length of list.</p>\n",
    "\n",
    "<p><strong>Example:</strong></p>\n",
    "\n",
    "<pre><strong>Input:</strong> 1-&gt;2-&gt;3-&gt;4-&gt;5-&gt;NULL, <em>m</em> = 2, <em>n</em> = 4\n",
    "<strong>Output:</strong> 1-&gt;4-&gt;3-&gt;2-&gt;5-&gt;NULL\n",
    "</pre>\n",
    "</div>"
   ]
  },
  {
   "cell_type": "markdown",
   "metadata": {},
   "source": [
    "## Option 1\n",
    "<p>\n",
    "Iterative One pass   \n",
    "<p>\n",
    "Time complexity: O(n)\n",
    "<br>\n",
    "Space complexity: O(1)"
   ]
  },
  {
   "cell_type": "code",
   "execution_count": null,
   "metadata": {
    "scrolled": true
   },
   "outputs": [],
   "source": [
    "class Solution(object):\n",
    "    def reverseBetween(self, head, m, n):\n",
    "        res = ListNode(0)\n",
    "        res.next = head\n",
    "        n += 1\n",
    "        node = res\n",
    "\n",
    "        pref=suff=rev=None\n",
    "        i = 1\n",
    "        while i <= n:\n",
    "            if i == m:\n",
    "                pref = node\n",
    "                suff = node.next\n",
    "            if m <= i <= n:\n",
    "                new = node\n",
    "                node = node.next\n",
    "                new.next = rev\n",
    "                rev = new\n",
    "            else:\n",
    "                node = node.next\n",
    "            i += 1\n",
    "                \n",
    "        pref.next = rev\n",
    "        suff.next = node\n",
    "\n",
    "        return res.next\n",
    "        "
   ]
  },
  {
   "cell_type": "markdown",
   "metadata": {},
   "source": [
    "#### Result: 20ms 53.16%)"
   ]
  },
  {
   "cell_type": "markdown",
   "metadata": {},
   "source": [
    "## Option 2\n",
    "<p>\n",
    "Iterative One pass   \n",
    "<p>\n",
    "Time complexity: O(n)\n",
    "<br>\n",
    "Space complexity: O(1)"
   ]
  },
  {
   "cell_type": "code",
   "execution_count": null,
   "metadata": {},
   "outputs": [],
   "source": [
    "class Solution(object):\n",
    "    def reverseBetween(self, head, m, n):        \n",
    "        prefix, suffix, rev = ListNode(0), None, None\n",
    "        \n",
    "        prefix.next = head\n",
    "        prefix_head = prefix\n",
    "        \n",
    "        i, curr = 1, head        \n",
    "        while curr:\n",
    "            if i < m:\n",
    "                prefix = prefix.next\n",
    "                curr = curr.next\n",
    "            elif i > n:\n",
    "                suffix = curr\n",
    "                break\n",
    "            else:\n",
    "                tmp = rev\n",
    "                rev = curr\n",
    "                curr = curr.next\n",
    "                rev.next = tmp\n",
    "            i += 1\n",
    "        \n",
    "        rev_tail = prefix.next\n",
    "        prefix.next = rev\n",
    "        rev_tail.next = suffix\n",
    "        \n",
    "        return prefix_head.next\n",
    "        "
   ]
  },
  {
   "cell_type": "markdown",
   "metadata": {},
   "source": [
    "#### Result: 20ms 72.89%)"
   ]
  }
 ],
 "metadata": {
  "kernelspec": {
   "display_name": "Python 2",
   "language": "python",
   "name": "python2"
  },
  "language_info": {
   "codemirror_mode": {
    "name": "ipython",
    "version": 2
   },
   "file_extension": ".py",
   "mimetype": "text/x-python",
   "name": "python",
   "nbconvert_exporter": "python",
   "pygments_lexer": "ipython2",
   "version": "2.7.16"
  }
 },
 "nbformat": 4,
 "nbformat_minor": 2
}
