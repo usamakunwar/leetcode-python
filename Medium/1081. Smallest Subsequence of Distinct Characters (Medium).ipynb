{
 "cells": [
  {
   "cell_type": "markdown",
   "metadata": {},
   "source": [
    "# 1081. Smallest Subsequence of Distinct Characters (Medium)"
   ]
  },
  {
   "cell_type": "markdown",
   "metadata": {},
   "source": [
    "<div><p>Return the lexicographically smallest subsequence of <code>text</code> that contains all the distinct characters of <code>text</code> exactly once.</p>\n",
    "\n",
    "<p><strong>Example 1:</strong></p>\n",
    "\n",
    "<pre><strong>Input: </strong><span id=\"example-input-1-1\">\"cdadabcc\"</span>\n",
    "<strong>Output: </strong><span id=\"example-output-1\">\"adbc\"</span>\n",
    "</pre>\n",
    "\n",
    "<div>\n",
    "<p><strong>Example 2:</strong></p>\n",
    "\n",
    "<pre><strong>Input: </strong><span id=\"example-input-2-1\">\"abcd\"</span>\n",
    "<strong>Output: </strong><span id=\"example-output-2\">\"abcd\"</span>\n",
    "</pre>\n",
    "\n",
    "<div>\n",
    "<p><strong>Example 3:</strong></p>\n",
    "\n",
    "<pre><strong>Input: </strong><span id=\"example-input-3-1\">\"ecbacba\"</span>\n",
    "<strong>Output: </strong><span id=\"example-output-3\">\"eacb\"</span>\n",
    "</pre>\n",
    "\n",
    "<div>\n",
    "<p><strong>Example 4:</strong></p>\n",
    "\n",
    "<pre><strong>Input: </strong><span id=\"example-input-4-1\">\"leetcode\"</span>\n",
    "<strong>Output: </strong><span id=\"example-output-4\">\"letcod\"</span>\n",
    "</pre>\n",
    "\n",
    "<p>&nbsp;</p>\n",
    "\n",
    "<p><strong>Constraints:</strong></p>\n",
    "\n",
    "<ol>\n",
    "\t<li><code>1 &lt;= text.length &lt;= 1000</code></li>\n",
    "\t<li><code>text</code> consists of lowercase English letters.</li>\n",
    "</ol>\n",
    "\n",
    "<p><strong>Note:</strong> This question is the same as 316:&nbsp;<a href=\"https://leetcode.com/problems/remove-duplicate-letters/\">https://leetcode.com/problems/remove-duplicate-letters/</a></p>\n",
    "</div>\n",
    "</div>\n",
    "</div>\n",
    "</div>"
   ]
  },
  {
   "cell_type": "markdown",
   "metadata": {},
   "source": [
    "## Option 1\n",
    "<p>\n",
    "<p>\n",
    "    <p>\n",
    "Time complexity: O(n)\n",
    "<br>\n",
    "Space complexity: O(n) "
   ]
  },
  {
   "cell_type": "code",
   "execution_count": null,
   "metadata": {},
   "outputs": [],
   "source": [
    "import collections\n",
    "class Solution(object):\n",
    "    def smallestSubsequence(self, text):\n",
    "        #In and Out counters\n",
    "        i,o = collections.Counter(text), collections.Counter()\n",
    "        stack = []\n",
    "        for t in text:\n",
    "            #Lower characters pop of larger characters, given:\n",
    "            #1)The lower character doesn't already exist in out\n",
    "            #2)There is stock left for the item being popped\n",
    "            while stack and not o[t] and i[stack[-1]] > 0 and ord(t) < ord(stack[-1]):\n",
    "                o[stack.pop()] -= 1\n",
    "            i[t] -= 1\n",
    "            if not o[t]:\n",
    "                o[t] += 1\n",
    "                stack.append(t)\n",
    "                \n",
    "        return ''.join(stack)\n",
    "                \n",
    "            \n",
    "Solution().smallestSubsequence(\"cbaacabcaaccaacababa\")\n",
    "        "
   ]
  },
  {
   "cell_type": "markdown",
   "metadata": {},
   "source": [
    "#### Result: 32ms (14.81%)\n"
   ]
  }
 ],
 "metadata": {
  "kernelspec": {
   "display_name": "Python 2",
   "language": "python",
   "name": "python2"
  },
  "language_info": {
   "codemirror_mode": {
    "name": "ipython",
    "version": 2
   },
   "file_extension": ".py",
   "mimetype": "text/x-python",
   "name": "python",
   "nbconvert_exporter": "python",
   "pygments_lexer": "ipython2",
   "version": "2.7.16"
  }
 },
 "nbformat": 4,
 "nbformat_minor": 2
}
