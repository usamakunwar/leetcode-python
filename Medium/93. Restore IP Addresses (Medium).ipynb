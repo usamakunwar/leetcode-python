{
 "cells": [
  {
   "cell_type": "markdown",
   "metadata": {},
   "source": [
    "# 93. Restore IP Addresses (Medium)"
   ]
  },
  {
   "cell_type": "markdown",
   "metadata": {},
   "source": [
    "<div><p>Given a string containing only digits, restore it by returning all possible valid IP address combinations.</p>\n",
    "\n",
    "<p>A valid IP address consists of exactly four integers&nbsp;(each integer is between 0 and 255) separated by single points.</p>\n",
    "\n",
    "<p><strong>Example:</strong></p>\n",
    "\n",
    "<pre><strong>Input:</strong> \"25525511135\"\n",
    "<strong>Output:</strong> <code>[\"255.255.11.135\", \"255.255.111.35\"]\n",
    "</code></pre>\n",
    "</div>"
   ]
  },
  {
   "cell_type": "markdown",
   "metadata": {},
   "source": [
    "## Option 1\n",
    " <p>    \n",
    "\n"
   ]
  },
  {
   "cell_type": "code",
   "execution_count": null,
   "metadata": {},
   "outputs": [],
   "source": [
    "class Solution(object):\n",
    "    def restoreIpAddresses(self, s):\n",
    "        self.res = []\n",
    "        def search(s,ip,curr):\n",
    "            if len(s) < curr: return\n",
    "            if curr == 0:\n",
    "                if not s: self.res.append(ip[:-1])\n",
    "                return\n",
    "            for i in range(1, min(len(s),3)+1):\n",
    "                new = s[:i]\n",
    "                #Cant have leading zeros, or cant be > 255\n",
    "                if int(new) > 255 or (len(new) > 1 and new[0] == '0'): continue\n",
    "                search(s[i:], ip+new+'.', curr-1)\n",
    "        \n",
    "        search(s,'', 4)\n",
    "        \n",
    "        return self.res\n",
    "                \n",
    "Solution().restoreIpAddresses(\"25525511135\")\n",
    "        "
   ]
  },
  {
   "cell_type": "markdown",
   "metadata": {},
   "source": [
    "#### Result:  28ms (48.5%)"
   ]
  }
 ],
 "metadata": {
  "kernelspec": {
   "display_name": "Python 2",
   "language": "python",
   "name": "python2"
  },
  "language_info": {
   "codemirror_mode": {
    "name": "ipython",
    "version": 2
   },
   "file_extension": ".py",
   "mimetype": "text/x-python",
   "name": "python",
   "nbconvert_exporter": "python",
   "pygments_lexer": "ipython2",
   "version": "2.7.16"
  }
 },
 "nbformat": 4,
 "nbformat_minor": 2
}
