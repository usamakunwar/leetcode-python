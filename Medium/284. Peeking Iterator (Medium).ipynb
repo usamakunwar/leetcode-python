{
 "cells": [
  {
   "cell_type": "markdown",
   "metadata": {},
   "source": [
    "# 284. Peeking Iterator (Medium)"
   ]
  },
  {
   "cell_type": "markdown",
   "metadata": {},
   "source": [
    "<div><p>Given an Iterator class interface with methods: <code>next()</code> and <code>hasNext()</code>, design and implement a PeekingIterator that support the <code>peek()</code> operation -- it essentially peek() at the element that will be returned by the next call to next().</p>\n",
    "\n",
    "<p><strong>Example:</strong></p>\n",
    "\n",
    "<pre>Assume that the iterator is initialized to the beginning of the list: <strong><code>[1,2,3]</code></strong>.\n",
    "\n",
    "Call <strong><code>next()</code></strong> gets you <strong>1</strong>, the first element in the list.\n",
    "Now you call <strong><code>peek()</code></strong> and it returns <strong>2</strong>, the next element. Calling <strong><code>next()</code></strong> after that <i><b>still</b></i> return <strong>2</strong>. \n",
    "You call <strong><code>next()</code></strong> the final time and it returns <strong>3</strong>, the last element. \n",
    "Calling <strong><code>hasNext()</code></strong> after that should return <strong>false</strong>.\n",
    "</pre>\n",
    "\n",
    "<p><b>Follow up</b>: How would you extend your design to be generic and work with all types, not just integer?</p>\n",
    "</div>"
   ]
  },
  {
   "cell_type": "markdown",
   "metadata": {},
   "source": [
    "## Option 1\n",
    " <p>\n",
    "\n",
    "Time complexity: O(1)\n",
    "<br>\n",
    "Space complexity: O(1) "
   ]
  },
  {
   "cell_type": "code",
   "execution_count": null,
   "metadata": {
    "scrolled": false
   },
   "outputs": [],
   "source": [
    "\n",
    "# Below is the interface for Iterator, which is already defined for you.\n",
    "#\n",
    "# class Iterator(object):\n",
    "#     def __init__(self, nums):\n",
    "#         \"\"\"\n",
    "#         Initializes an iterator object to the beginning of a list.\n",
    "#         :type nums: List[int]\n",
    "#         \"\"\"\n",
    "#\n",
    "#     def hasNext(self):\n",
    "#         \"\"\"\n",
    "#         Returns true if the iteration has more elements.\n",
    "#         :rtype: bool\n",
    "#         \"\"\"\n",
    "#\n",
    "#     def next(self):\n",
    "#         \"\"\"\n",
    "#         Returns the next element in the iteration.\n",
    "#         :rtype: int\n",
    "#         \"\"\"\n",
    "\n",
    "class PeekingIterator(object):\n",
    "    def __init__(self, iterator):\n",
    "        self.iter = iterator\n",
    "        self.tmp = None\n",
    "\n",
    "    def peek(self):\n",
    "        if self.tmp != None: return self.tmp\n",
    "        self.tmp = self.iter.next() if self.iter.hasNext() else None\n",
    "        return self.tmp\n",
    "        \n",
    "\n",
    "    def next(self):\n",
    "        if self.tmp != None:\n",
    "            tmp = self.tmp\n",
    "            self.tmp = self.iter.next() if self.iter.hasNext() else None\n",
    "            return tmp\n",
    "        else:\n",
    "            return self.iter.next()\n",
    "        \n",
    "\n",
    "    def hasNext(self):\n",
    "        if self.tmp != None:  return True\n",
    "        return self.iter.hasNext()\n",
    "\n",
    "\n",
    "# Your PeekingIterator object will be instantiated and called as such:\n",
    "# iter = PeekingIterator(Iterator(nums))\n",
    "# while iter.hasNext():\n",
    "#     val = iter.peek()   # Get the next element but not advance the iterator.\n",
    "#     iter.next()         # Should return the same value as [val].\n"
   ]
  },
  {
   "cell_type": "markdown",
   "metadata": {},
   "source": [
    "#### Result: 16ms (94.15%)\n"
   ]
  }
 ],
 "metadata": {
  "kernelspec": {
   "display_name": "Python 2",
   "language": "python",
   "name": "python2"
  },
  "language_info": {
   "codemirror_mode": {
    "name": "ipython",
    "version": 2
   },
   "file_extension": ".py",
   "mimetype": "text/x-python",
   "name": "python",
   "nbconvert_exporter": "python",
   "pygments_lexer": "ipython2",
   "version": "2.7.16"
  }
 },
 "nbformat": 4,
 "nbformat_minor": 2
}
