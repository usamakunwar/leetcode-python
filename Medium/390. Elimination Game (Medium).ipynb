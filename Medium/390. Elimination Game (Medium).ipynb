{
 "cells": [
  {
   "cell_type": "markdown",
   "metadata": {},
   "source": [
    "# 390. Elimination Game (Medium)"
   ]
  },
  {
   "cell_type": "markdown",
   "metadata": {},
   "source": [
    "<div><p>\n",
    "There is a list of sorted integers from 1 to <i>n</i>. Starting from left to right, remove the first number and every other number afterward until you reach the end of the list.</p>\n",
    "\n",
    "<p>Repeat the previous step again, but this time from right to left, remove the right most number and every other number from the remaining numbers.</p>\n",
    "\n",
    "<p>We keep repeating the steps again, alternating left to right and right to left, until a single number remains.</p>\n",
    "\n",
    "<p>Find the last number that remains starting with a list of length <i>n</i>.</p>\n",
    "\n",
    "<p><b>Example:</b>\n",
    "</p><pre>Input:\n",
    "n = 9,\n",
    "<u>1</u> 2 <u>3</u> 4 <u>5</u> 6 <u>7</u> 8 <u>9</u>\n",
    "2 <u>4</u> 6 <u>8</u>\n",
    "<u>2</u> 6\n",
    "6\n",
    "\n",
    "Output:\n",
    "6\n",
    "</pre>\n",
    "<p></p></div>"
   ]
  },
  {
   "cell_type": "markdown",
   "metadata": {},
   "source": [
    "## Option 1\n",
    " <p>    \n",
    "   <li>Consider \n",
    "       <li>- n the length of the remaining array after reduction\n",
    "       <li>- curr the right most item\n",
    "       <li>The right most item will only shift left IF it gets removed, and it only gets removed if (1) The rights go (2) n is odd (so the left go ends up removing it)\n",
    "<p>\n",
    "\n",
    "<p>\n",
    "            \n",
    "Time complexity: O(logn) base2\n",
    "    <br>\n",
    "Space complexity: O(1)\n",
    "        \n"
   ]
  },
  {
   "cell_type": "code",
   "execution_count": null,
   "metadata": {},
   "outputs": [],
   "source": [
    "class Solution(object):\n",
    "    def lastRemaining(self, n):\n",
    "        curr = n\n",
    "        i = 0\n",
    "        while n > 1:\n",
    "            if n%2 or i%2:\n",
    "                curr -= 2**i  \n",
    "            n /= 2\n",
    "            i += 1\n",
    "        return curr\n",
    "    \n",
    "Solution().lastRemaining(19)\n",
    "        \n"
   ]
  },
  {
   "cell_type": "markdown",
   "metadata": {},
   "source": [
    "#### Result:  56ms (10.61%)"
   ]
  }
 ],
 "metadata": {
  "kernelspec": {
   "display_name": "Python 2",
   "language": "python",
   "name": "python2"
  },
  "language_info": {
   "codemirror_mode": {
    "name": "ipython",
    "version": 2
   },
   "file_extension": ".py",
   "mimetype": "text/x-python",
   "name": "python",
   "nbconvert_exporter": "python",
   "pygments_lexer": "ipython2",
   "version": "2.7.16"
  }
 },
 "nbformat": 4,
 "nbformat_minor": 2
}
