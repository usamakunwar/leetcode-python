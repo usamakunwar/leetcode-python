{
 "cells": [
  {
   "cell_type": "markdown",
   "metadata": {},
   "source": [
    "# 40. Combination Sum II (Medium)"
   ]
  },
  {
   "cell_type": "markdown",
   "metadata": {},
   "source": [
    "<div><p>Given a collection of candidate numbers (<code>candidates</code>) and a target number (<code>target</code>), find all unique combinations in <code>candidates</code>&nbsp;where the candidate numbers sums to <code>target</code>.</p>\n",
    "\n",
    "<p>Each number in <code>candidates</code>&nbsp;may only be used <strong>once</strong> in the combination.</p>\n",
    "\n",
    "<p><strong>Note:</strong></p>\n",
    "\n",
    "<ul>\n",
    "\t<li>All numbers (including <code>target</code>) will be positive integers.</li>\n",
    "\t<li>The solution set must not contain duplicate combinations.</li>\n",
    "</ul>\n",
    "\n",
    "<p><strong>Example 1:</strong></p>\n",
    "\n",
    "<pre><strong>Input:</strong> candidates =&nbsp;<code>[10,1,2,7,6,1,5]</code>, target =&nbsp;<code>8</code>,\n",
    "<strong>A solution set is:</strong>\n",
    "[\n",
    "  [1, 7],\n",
    "  [1, 2, 5],\n",
    "  [2, 6],\n",
    "  [1, 1, 6]\n",
    "]\n",
    "</pre>\n",
    "\n",
    "<p><strong>Example 2:</strong></p>\n",
    "\n",
    "<pre><strong>Input:</strong> candidates =&nbsp;[2,5,2,1,2], target =&nbsp;5,\n",
    "<strong>A solution set is:</strong>\n",
    "[\n",
    "&nbsp; [1,2,2],\n",
    "&nbsp; [5]\n",
    "]\n",
    "</pre>\n",
    "</div>"
   ]
  },
  {
   "cell_type": "markdown",
   "metadata": {},
   "source": [
    "## Option 1\n",
    "<p>\n",
    "    DFS\n",
    "    <p> \n",
    "<p>\n",
    "    <p>\n",
    "Time complexity: O(t^n) t = target-min(nums)\n",
    "    <br>\n",
    "Space complexity: O(n)"
   ]
  },
  {
   "cell_type": "code",
   "execution_count": null,
   "metadata": {
    "scrolled": true
   },
   "outputs": [],
   "source": [
    "class Solution(object):\n",
    "    def combinationSum2(self, nums, target):\n",
    "        nums.sort()\n",
    "        self.res = []\n",
    "        \n",
    "        def search(i,n,curr):\n",
    "            if n == target:\n",
    "                self.res.append(curr)\n",
    "                return\n",
    "            \n",
    "            for j in range(i,len(nums)):\n",
    "                if j > i and nums[j] == nums[j-1]: continue\n",
    "                if n+nums[j] > target: break\n",
    "                search(j+1, n+nums[j], curr+[nums[j]])\n",
    "        \n",
    "        search(0,0,[])\n",
    "        return self.res\n",
    "        \n",
    "\n",
    "Solution().combinationSum2([2,5,2,1,2],5)"
   ]
  },
  {
   "cell_type": "markdown",
   "metadata": {},
   "source": [
    "#### Result: 24ms (99.45%)"
   ]
  }
 ],
 "metadata": {
  "kernelspec": {
   "display_name": "Python 2",
   "language": "python",
   "name": "python2"
  },
  "language_info": {
   "codemirror_mode": {
    "name": "ipython",
    "version": 2
   },
   "file_extension": ".py",
   "mimetype": "text/x-python",
   "name": "python",
   "nbconvert_exporter": "python",
   "pygments_lexer": "ipython2",
   "version": "2.7.16"
  }
 },
 "nbformat": 4,
 "nbformat_minor": 2
}
