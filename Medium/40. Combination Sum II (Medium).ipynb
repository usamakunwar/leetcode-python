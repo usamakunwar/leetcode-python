{
 "cells": [
  {
   "cell_type": "markdown",
   "metadata": {},
   "source": [
    "# 40. Combination Sum II (Medium)"
   ]
  },
  {
   "cell_type": "markdown",
   "metadata": {},
   "source": [
    "<div><p>Given a collection of candidate numbers (<code>candidates</code>) and a target number (<code>target</code>), find all unique combinations in <code>candidates</code>&nbsp;where the candidate numbers sums to <code>target</code>.</p>\n",
    "\n",
    "<p>Each number in <code>candidates</code>&nbsp;may only be used <strong>once</strong> in the combination.</p>\n",
    "\n",
    "<p><strong>Note:</strong></p>\n",
    "\n",
    "<ul>\n",
    "\t<li>All numbers (including <code>target</code>) will be positive integers.</li>\n",
    "\t<li>The solution set must not contain duplicate combinations.</li>\n",
    "</ul>\n",
    "\n",
    "<p><strong>Example 1:</strong></p>\n",
    "\n",
    "<pre><strong>Input:</strong> candidates =&nbsp;<code>[10,1,2,7,6,1,5]</code>, target =&nbsp;<code>8</code>,\n",
    "<strong>A solution set is:</strong>\n",
    "[\n",
    "  [1, 7],\n",
    "  [1, 2, 5],\n",
    "  [2, 6],\n",
    "  [1, 1, 6]\n",
    "]\n",
    "</pre>\n",
    "\n",
    "<p><strong>Example 2:</strong></p>\n",
    "\n",
    "<pre><strong>Input:</strong> candidates =&nbsp;[2,5,2,1,2], target =&nbsp;5,\n",
    "<strong>A solution set is:</strong>\n",
    "[\n",
    "&nbsp; [1,2,2],\n",
    "&nbsp; [5]\n",
    "]\n",
    "</pre>\n",
    "</div>"
   ]
  },
  {
   "cell_type": "markdown",
   "metadata": {},
   "source": [
    "## Option \n",
    "\n",
    "DFS + Backtrack\n",
    "<p>\n",
    "    <li>1) Has duplicates in candidates, sort it and skip duplicates. Also sort is good to exit early\n",
    "    <li>2) Doesn't want duplicates in result, forward track"
   ]
  },
  {
   "cell_type": "code",
   "execution_count": null,
   "metadata": {
    "scrolled": true
   },
   "outputs": [],
   "source": [
    "class Solution(object):\n",
    "    def combinationSum2(self, c, target):\n",
    "        c.sort()\n",
    "        ln = len(c)\n",
    "        def search(t, i, curr):\n",
    "            if t == 0:\n",
    "                return [curr]\n",
    "            res = []\n",
    "            for j in range(i, ln):\n",
    "                #Skip duplicate candidates\n",
    "                if j > i and c[j] == c[j-1]: continue\n",
    "                v = t - c[j]\n",
    "                if v >= 0:\n",
    "                    #j+1 forward track to avoid duplidate combinations\n",
    "                    res += search(v,j+1, curr+[c[j]])\n",
    "                else: \n",
    "                    #Early exit, if v is negative, then no other value can make target, as c is sorted\n",
    "                    break\n",
    "            return res\n",
    "        \n",
    "        return search(target,0,[])\n",
    "        \n",
    "\n",
    "Solution().combinationSum2([2,5,2,1,2],5)"
   ]
  },
  {
   "cell_type": "markdown",
   "metadata": {},
   "source": [
    "#### Result: 24ms (98.69%)"
   ]
  }
 ],
 "metadata": {
  "kernelspec": {
   "display_name": "Python 2",
   "language": "python",
   "name": "python2"
  },
  "language_info": {
   "codemirror_mode": {
    "name": "ipython",
    "version": 2
   },
   "file_extension": ".py",
   "mimetype": "text/x-python",
   "name": "python",
   "nbconvert_exporter": "python",
   "pygments_lexer": "ipython2",
   "version": "2.7.16"
  }
 },
 "nbformat": 4,
 "nbformat_minor": 2
}
