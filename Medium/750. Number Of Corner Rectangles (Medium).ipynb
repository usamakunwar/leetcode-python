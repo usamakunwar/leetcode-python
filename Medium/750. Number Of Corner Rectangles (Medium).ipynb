{
 "cells": [
  {
   "cell_type": "markdown",
   "metadata": {},
   "source": [
    "# 750. Number Of Corner Rectangles (Medium)"
   ]
  },
  {
   "cell_type": "markdown",
   "metadata": {},
   "source": [
    "<div><p>Given a grid where each entry is only 0 or 1, find the number of corner rectangles.</p>\n",
    "\n",
    "<p>A <em>corner rectangle</em> is 4 distinct 1s on the grid that form an axis-aligned rectangle. Note that only the corners need to have the value 1. Also, all four 1s used must be distinct.</p>\n",
    "\n",
    "<p>&nbsp;</p>\n",
    "\n",
    "<p><strong>Example 1:</strong></p>\n",
    "\n",
    "<pre><strong>Input:</strong> grid = \n",
    "[[1, 0, 0, 1, 0],\n",
    " [0, 0, 1, 0, 1],\n",
    " [0, 0, 0, 1, 0],\n",
    " [1, 0, 1, 0, 1]]\n",
    "<strong>Output:</strong> 1\n",
    "<strong>Explanation:</strong> There is only one corner rectangle, with corners grid[1][2], grid[1][4], grid[3][2], grid[3][4].\n",
    "</pre>\n",
    "\n",
    "<p>&nbsp;</p>\n",
    "\n",
    "<p><strong>Example 2:</strong></p>\n",
    "\n",
    "<pre><strong>Input:</strong> grid = \n",
    "[[1, 1, 1],\n",
    " [1, 1, 1],\n",
    " [1, 1, 1]]\n",
    "<strong>Output:</strong> 9\n",
    "<strong>Explanation:</strong> There are four 2x2 rectangles, four 2x3 and 3x2 rectangles, and one 3x3 rectangle.\n",
    "</pre>\n",
    "\n",
    "<p>&nbsp;</p>\n",
    "\n",
    "<p><strong>Example 3:</strong></p>\n",
    "\n",
    "<pre><strong>Input:</strong> grid = \n",
    "[[1, 1, 1, 1]]\n",
    "<strong>Output:</strong> 0\n",
    "<strong>Explanation:</strong> Rectangles must have four distinct corners.\n",
    "</pre>\n",
    "\n",
    "<p>&nbsp;</p>\n",
    "\n",
    "<p><strong>Note:</strong></p>\n",
    "\n",
    "<ol>\n",
    "\t<li>The number of rows and columns of <code>grid</code> will each be in the range <code>[1, 200]</code>.</li>\n",
    "\t<li>Each <code>grid[i][j]</code> will be either <code>0</code> or <code>1</code>.</li>\n",
    "\t<li>The number of <code>1</code>s in the grid will be at most <code>6000</code>.</li>\n",
    "</ol>\n",
    "\n",
    "<p>&nbsp;</p>\n",
    "</div>"
   ]
  },
  {
   "cell_type": "markdown",
   "metadata": {},
   "source": [
    "## Option 1\n",
    " <p>    \n",
    "   <li> So for every row every 1 match can create more rectangles, in fact, we can create an accumulated number of rectangles, i.e. 1,3,6,10.... etc\n",
    "   <li>We can manually check the matches\n",
    "<p>\n",
    "\n",
    "<p>\n",
    "            \n",
    "Time complexity: O(nm^2)\n",
    "    <br>\n",
    "Space complexity: O(1)\n",
    "        \n"
   ]
  },
  {
   "cell_type": "code",
   "execution_count": null,
   "metadata": {},
   "outputs": [],
   "source": [
    "class Solution(object):\n",
    "    def countCornerRectangles(self, grid):\n",
    "        m,n = len(grid),len(grid[0])\n",
    "        res = 0\n",
    "        for i in range(m):\n",
    "            for k in range(i+1,m):\n",
    "                count = 0\n",
    "                for j in range(n):\n",
    "                    if grid[k][j] == grid[i][j] == 1:\n",
    "                        res += count\n",
    "                        count += 1\n",
    "        return res\n",
    "\n",
    "        \n",
    "Solution().countCornerRectangles([[1, 1, 1, 1, 0], \n",
    "                                  [1, 1, 1, 1, 1],\n",
    "                                  [1, 0, 0, 1, 1],\n",
    "                                  [1, 1, 0, 1, 1],\n",
    "                                  [1, 1, 0, 1, 1]])\n",
    "        "
   ]
  },
  {
   "cell_type": "markdown",
   "metadata": {},
   "source": [
    "#### Result:  Time Exceeded Limit"
   ]
  },
  {
   "cell_type": "markdown",
   "metadata": {},
   "source": [
    "## Option 2\n",
    " <p>    \n",
    "   <li> So above we iterate to check every cell for a match, however the problem states a max of 6000 1's in a max 40,000 cells. \n",
    "   <li>That means we are better to limit our internal iteration (only iterate if we see a 1 externally)\n",
    "   <li>Which will mean go over the column first, so to keep track of the count we need a counter\n",
    "<p>\n",
    "\n",
    "<p>   \n",
    "Time complexity: O(nm^2)\n",
    "    <br>\n",
    "Space complexity: O(n^2)\n"
   ]
  },
  {
   "cell_type": "code",
   "execution_count": null,
   "metadata": {},
   "outputs": [],
   "source": [
    "import collections\n",
    "class Solution(object):\n",
    "    def countCornerRectangles(self, grid):\n",
    "        m,n = len(grid),len(grid[0])\n",
    "        res = 0\n",
    "        for i in range(m-1):\n",
    "            counter = collections.Counter()\n",
    "            for j in range(n):\n",
    "                if grid[i][j] == 0: continue\n",
    "                for k in range(i+1,m):\n",
    "                    if grid[k][j] == 0: continue\n",
    "                    res += counter[k]\n",
    "                    counter[k] += 1\n",
    "        return res\n",
    "        \n",
    "Solution().countCornerRectangles([[1, 1, 1, 1, 0], \n",
    "                                  [1, 1, 1, 1, 1],\n",
    "                                  [1, 0, 0, 1, 1],\n",
    "                                  [1, 1, 0, 1, 1],\n",
    "                                  [1, 1, 0, 1, 1]])\n",
    "        "
   ]
  },
  {
   "cell_type": "markdown",
   "metadata": {},
   "source": [
    "#### Result:  2304ms (17.24%)"
   ]
  }
 ],
 "metadata": {
  "kernelspec": {
   "display_name": "Python 2",
   "language": "python",
   "name": "python2"
  },
  "language_info": {
   "codemirror_mode": {
    "name": "ipython",
    "version": 2
   },
   "file_extension": ".py",
   "mimetype": "text/x-python",
   "name": "python",
   "nbconvert_exporter": "python",
   "pygments_lexer": "ipython2",
   "version": "2.7.16"
  }
 },
 "nbformat": 4,
 "nbformat_minor": 2
}
