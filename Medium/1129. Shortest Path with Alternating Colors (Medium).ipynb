{
 "cells": [
  {
   "cell_type": "markdown",
   "metadata": {},
   "source": [
    "# 1129. Shortest Path with Alternating Colors (Medium)"
   ]
  },
  {
   "cell_type": "markdown",
   "metadata": {},
   "source": [
    "<div><p>Consider a directed graph, with nodes labelled <code>0, 1, ..., n-1</code>.&nbsp; In this graph, each edge is either red or blue, and there could&nbsp;be self-edges or parallel edges.</p>\n",
    "\n",
    "<p>Each <code>[i, j]</code> in <code>red_edges</code> denotes a red directed edge from node <code>i</code> to node <code>j</code>.&nbsp; Similarly, each <code>[i, j]</code> in <code>blue_edges</code> denotes a blue directed edge from node <code>i</code> to node <code>j</code>.</p>\n",
    "\n",
    "<p>Return an array <code>answer</code>&nbsp;of length <code>n</code>,&nbsp;where each&nbsp;<code>answer[X]</code>&nbsp;is&nbsp;the length of the shortest path from node <code>0</code>&nbsp;to node <code>X</code>&nbsp;such that the edge colors alternate along the path (or <code>-1</code> if such a path doesn't exist).</p>\n",
    "\n",
    "<p>&nbsp;</p>\n",
    "<p><strong>Example 1:</strong></p>\n",
    "<pre><strong>Input:</strong> n = 3, red_edges = [[0,1],[1,2]], blue_edges = []\n",
    "<strong>Output:</strong> [0,1,-1]\n",
    "</pre><p><strong>Example 2:</strong></p>\n",
    "<pre><strong>Input:</strong> n = 3, red_edges = [[0,1]], blue_edges = [[2,1]]\n",
    "<strong>Output:</strong> [0,1,-1]\n",
    "</pre><p><strong>Example 3:</strong></p>\n",
    "<pre><strong>Input:</strong> n = 3, red_edges = [[1,0]], blue_edges = [[2,1]]\n",
    "<strong>Output:</strong> [0,-1,-1]\n",
    "</pre><p><strong>Example 4:</strong></p>\n",
    "<pre><strong>Input:</strong> n = 3, red_edges = [[0,1]], blue_edges = [[1,2]]\n",
    "<strong>Output:</strong> [0,1,2]\n",
    "</pre><p><strong>Example 5:</strong></p>\n",
    "<pre><strong>Input:</strong> n = 3, red_edges = [[0,1],[0,2]], blue_edges = [[1,0]]\n",
    "<strong>Output:</strong> [0,1,1]\n",
    "</pre>\n",
    "<p>&nbsp;</p>\n",
    "<p><strong>Constraints:</strong></p>\n",
    "\n",
    "<ul>\n",
    "\t<li><code>1 &lt;= n &lt;= 100</code></li>\n",
    "\t<li><code>red_edges.length &lt;= 400</code></li>\n",
    "\t<li><code>blue_edges.length &lt;= 400</code></li>\n",
    "\t<li><code>red_edges[i].length == blue_edges[i].length == 2</code></li>\n",
    "\t<li><code>0 &lt;= red_edges[i][j], blue_edges[i][j] &lt; n</code></li>\n",
    "</ul></div>"
   ]
  },
  {
   "cell_type": "markdown",
   "metadata": {},
   "source": [
    "## Option 1\n",
    " <p>\n",
    "    <p>\n",
    "        <p>\n",
    "Time complexity: O(n)\n",
    "    <br>\n",
    "Space complexity: O(n) \n"
   ]
  },
  {
   "cell_type": "code",
   "execution_count": null,
   "metadata": {},
   "outputs": [],
   "source": [
    "import collections\n",
    "class Solution(object):\n",
    "    def shortestAlternatingPaths(self, n, red_edges, blue_edges):\n",
    "        m = collections.defaultdict(list)\n",
    "        for u,v in red_edges:\n",
    "            m[u].append((v,True)) #True = Red\n",
    "        for u,v in blue_edges:\n",
    "            m[u].append((v,False)) #False = Blue\n",
    "        \n",
    "        res, seen = [-1]*n, set()\n",
    "        q = [(0,0,None)]\n",
    "\n",
    "        while q:\n",
    "            new_q = []\n",
    "            for i,lev,color in q:\n",
    "                res[i] = lev if res[i] < 0 else min(res[i], lev)\n",
    "                for j,c in m[i]:\n",
    "                    #We need alternating colors, and we need to avoid cycles of same node with same color\n",
    "                    #We can have same nodes with different colors, \n",
    "                    if c != color and (j,c) not in seen:\n",
    "                        seen.add((j,c))\n",
    "                        new_q.append((j,lev+1,c))\n",
    "            q = new_q\n",
    "        \n",
    "        return res\n",
    "        \n",
    "Solution().shortestAlternatingPaths(5, [[1,2],[2,3],[0,1],[3,4],[3,1]], [[0,1],[1,2],[2,3],[3,1]])        \n"
   ]
  },
  {
   "cell_type": "markdown",
   "metadata": {},
   "source": [
    "\n",
    "#### Result: 68ms (90.99%)"
   ]
  }
 ],
 "metadata": {
  "kernelspec": {
   "display_name": "Python 2",
   "language": "python",
   "name": "python2"
  },
  "language_info": {
   "codemirror_mode": {
    "name": "ipython",
    "version": 2
   },
   "file_extension": ".py",
   "mimetype": "text/x-python",
   "name": "python",
   "nbconvert_exporter": "python",
   "pygments_lexer": "ipython2",
   "version": "2.7.16"
  }
 },
 "nbformat": 4,
 "nbformat_minor": 2
}
