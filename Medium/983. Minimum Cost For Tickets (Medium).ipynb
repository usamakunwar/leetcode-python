{
 "cells": [
  {
   "cell_type": "markdown",
   "metadata": {},
   "source": [
    "# 983. Minimum Cost For Tickets (Medium)"
   ]
  },
  {
   "cell_type": "markdown",
   "metadata": {},
   "source": [
    "<div><p>In a country popular for train travel, you&nbsp;have planned some train travelling one year in advance.&nbsp; The days of the year that you will travel is given as an array <code>days</code>.&nbsp; Each day is an integer from <code>1</code> to <code>365</code>.</p>\n",
    "\n",
    "<p>Train tickets are sold in 3 different ways:</p>\n",
    "\n",
    "<ul>\n",
    "\t<li>a 1-day pass is sold for <code>costs[0]</code> dollars;</li>\n",
    "\t<li>a 7-day pass is sold for <code>costs[1]</code> dollars;</li>\n",
    "\t<li>a 30-day pass is sold for <code>costs[2]</code> dollars.</li>\n",
    "</ul>\n",
    "\n",
    "<p>The passes allow that many days of consecutive travel.&nbsp; For example, if we get a 7-day pass on day 2, then we can travel for 7 days: day 2, 3, 4, 5, 6, 7, and 8.</p>\n",
    "\n",
    "<p>Return the minimum number of dollars you need to travel every day in the given list of <code>days</code>.</p>\n",
    "\n",
    "<p>&nbsp;</p>\n",
    "\n",
    "<p><strong>Example 1:</strong></p>\n",
    "\n",
    "<pre><strong>Input: </strong>days = <span id=\"example-input-1-1\">[1,4,6,7,8,20]</span>, costs = <span id=\"example-input-1-2\">[2,7,15]</span>\n",
    "<strong>Output: </strong><span id=\"example-output-1\">11</span>\n",
    "<strong>Explanation: </strong>\n",
    "For example, here is one way to buy passes that lets you travel your travel plan:\n",
    "On day 1, you bought a 1-day pass for costs[0] = $2, which covered day 1.\n",
    "On day 3, you bought a 7-day pass for costs[1] = $7, which covered days 3, 4, ..., 9.\n",
    "On day 20, you bought a 1-day pass for costs[0] = $2, which covered day 20.\n",
    "In total you spent $11 and covered all the days of your travel.\n",
    "</pre>\n",
    "\n",
    "<div>\n",
    "<p><strong>Example 2:</strong></p>\n",
    "\n",
    "<pre><strong>Input: </strong>days = <span id=\"example-input-2-1\">[1,2,3,4,5,6,7,8,9,10,30,31]</span>, costs = <span id=\"example-input-2-2\">[2,7,15]</span>\n",
    "<strong>Output: </strong><span id=\"example-output-2\">17</span>\n",
    "<strong>Explanation: </strong>\n",
    "For example, here is one way to buy passes that lets you travel your travel plan:\n",
    "On day 1, you bought a 30-day pass for costs[2] = $15 which covered days 1, 2, ..., 30.\n",
    "On day 31, you bought a 1-day pass for costs[0] = $2 which covered day 31.\n",
    "In total you spent $17 and covered all the days of your travel.\n",
    "</pre>\n",
    "\n",
    "<p>&nbsp;</p>\n",
    "</div>\n",
    "\n",
    "<p><strong>Note:</strong></p>\n",
    "\n",
    "<ol>\n",
    "\t<li><code>1 &lt;= days.length &lt;= 365</code></li>\n",
    "\t<li><code>1 &lt;= days[i] &lt;= 365</code></li>\n",
    "\t<li><code>days</code> is in strictly increasing order.</li>\n",
    "\t<li><code>costs.length == 3</code></li>\n",
    "\t<li><code>1 &lt;= costs[i] &lt;= 1000</code></li>\n",
    "</ol>\n",
    "</div>"
   ]
  },
  {
   "cell_type": "markdown",
   "metadata": {},
   "source": [
    "## Option 1\n",
    "<p>\n",
    "   DP\n",
    " <p>\n",
    "     <li>The intuition is, we could consider scenario similar to coin change, where we try to 'fit' a value in.\n",
    "     <li>We will try to fit the current day in 3 different periods, 30, 7 and 1. To fit it in we would need the DP value of (30,7 or 1) days before. The minimum of all will be kept as the cheapest\n",
    "     <li>We need the DP value for all days, use last value for days we do not travel (spread)\n",
    "     <p>\n",
    "         <p>\n",
    "Time complexity: O(n) 365 days\n",
    "    <br>\n",
    "Space complexity: O(n)\n"
   ]
  },
  {
   "cell_type": "code",
   "execution_count": null,
   "metadata": {},
   "outputs": [],
   "source": [
    "class Solution(object):\n",
    "    def mincostTickets(self, days, cost):\n",
    "        dp = [0]*366\n",
    "        \n",
    "        for i in range(len(days)):\n",
    "            before30, before7, before1 = max(0,days[i]-30), max(0, days[i]-7), max(0,days[i]-1) \n",
    "            dp[days[i]] = min(dp[before30]+cost[2], dp[before7]+cost[1], dp[before1]+cost[0])  \n",
    "            \n",
    "            #Spread the last value for missing days we do travel\n",
    "            if i < len(days)-1:\n",
    "                for j in range(days[i]+1, days[i+1]): \n",
    "                    dp[j] = dp[days[i]]\n",
    "\n",
    "        return dp[days[-1]]\n",
    "        \n",
    "Solution().mincostTickets([1,3,4,5,6,7,8,9], [2,7,15])\n",
    "        "
   ]
  },
  {
   "cell_type": "markdown",
   "metadata": {},
   "source": [
    "#### Result: 20ms (98.00%)"
   ]
  },
  {
   "cell_type": "markdown",
   "metadata": {},
   "source": [
    "## Option 1\n",
    "<p>\n",
    "   DP\n",
    " <p>\n",
    "     <li>Similar to above, however instead of iterating up to cover the missing days, we can use a set\n",
    "     <p>\n",
    "         <p>\n",
    "Time complexity: O(n) 365 days\n",
    "    <br>\n",
    "Space complexity: O(n)\n"
   ]
  },
  {
   "cell_type": "code",
   "execution_count": null,
   "metadata": {},
   "outputs": [],
   "source": [
    "class Solution(object):\n",
    "    def mincostTickets(self, days, cost):\n",
    "        dp = [0]*366        \n",
    "        m = set(days)\n",
    "        for i in range(1,366):\n",
    "            if i in m:\n",
    "                before30, before7, before1 = max(0,i-30), max(0, i-7), max(0,i-1) \n",
    "                dp[i] = min(dp[before30]+cost[2], dp[before7]+cost[1], dp[before1]+cost[0])  \n",
    "            else:\n",
    "                dp[i] = dp[i-1]\n",
    "\n",
    "        return dp[days[-1]]\n",
    "        \n",
    "Solution().mincostTickets([1,3,4,5,6,7,8,9], [2,7,15])\n",
    "        "
   ]
  },
  {
   "cell_type": "markdown",
   "metadata": {},
   "source": [
    "#### Result: 20ms (98.00%)"
   ]
  }
 ],
 "metadata": {
  "kernelspec": {
   "display_name": "Python 2",
   "language": "python",
   "name": "python2"
  },
  "language_info": {
   "codemirror_mode": {
    "name": "ipython",
    "version": 2
   },
   "file_extension": ".py",
   "mimetype": "text/x-python",
   "name": "python",
   "nbconvert_exporter": "python",
   "pygments_lexer": "ipython2",
   "version": "2.7.16"
  }
 },
 "nbformat": 4,
 "nbformat_minor": 2
}
