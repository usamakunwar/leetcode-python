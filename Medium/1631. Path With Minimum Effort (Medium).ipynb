{
 "cells": [
  {
   "cell_type": "markdown",
   "metadata": {},
   "source": [
    "# 1631. Path With Minimum Effort (Medium)"
   ]
  },
  {
   "cell_type": "markdown",
   "metadata": {},
   "source": [
    "<div><p>You are a hiker preparing for an upcoming hike. You are given <code>heights</code>, a 2D array of size <code>rows x columns</code>, where <code>heights[row][col]</code> represents the height of cell <code>(row, col)</code>. You are situated in the top-left cell, <code>(0, 0)</code>, and you hope to travel to the bottom-right cell, <code>(rows-1, columns-1)</code> (i.e.,&nbsp;<strong>0-indexed</strong>). You can move <strong>up</strong>, <strong>down</strong>, <strong>left</strong>, or <strong>right</strong>, and you wish to find a route that requires the minimum <strong>effort</strong>.</p>\n",
    "\n",
    "<p>A route's <strong>effort</strong> is the <strong>maximum absolute difference</strong><strong> </strong>in heights between two consecutive cells of the route.</p>\n",
    "\n",
    "<p>Return <em>the minimum <strong>effort</strong> required to travel from the top-left cell to the bottom-right cell.</em></p>\n",
    "\n",
    "<p>&nbsp;</p>\n",
    "<p><strong>Example 1:</strong></p>\n",
    "\n",
    "<p><img alt=\"\" src=\"https://assets.leetcode.com/uploads/2020/10/04/ex1.png\" style=\"width: 300px; height: 300px;\"></p>\n",
    "\n",
    "<pre><strong>Input:</strong> heights = [[1,2,2],[3,8,2],[5,3,5]]\n",
    "<strong>Output:</strong> 2\n",
    "<strong>Explanation:</strong> The route of [1,3,5,3,5] has a maximum absolute difference of 2 in consecutive cells.\n",
    "This is better than the route of [1,2,2,2,5], where the maximum absolute difference is 3.\n",
    "</pre>\n",
    "\n",
    "<p><strong>Example 2:</strong></p>\n",
    "\n",
    "<p><img alt=\"\" src=\"https://assets.leetcode.com/uploads/2020/10/04/ex2.png\" style=\"width: 300px; height: 300px;\"></p>\n",
    "\n",
    "<pre><strong>Input:</strong> heights = [[1,2,3],[3,8,4],[5,3,5]]\n",
    "<strong>Output:</strong> 1\n",
    "<strong>Explanation:</strong> The route of [1,2,3,4,5] has a maximum absolute difference of 1 in consecutive cells, which is better than route [1,3,5,3,5].\n",
    "</pre>\n",
    "\n",
    "<p><strong>Example 3:</strong></p>\n",
    "<img alt=\"\" src=\"https://assets.leetcode.com/uploads/2020/10/04/ex3.png\" style=\"width: 300px; height: 300px;\">\n",
    "<pre><strong>Input:</strong> heights = [[1,2,1,1,1],[1,2,1,2,1],[1,2,1,2,1],[1,2,1,2,1],[1,1,1,2,1]]\n",
    "<strong>Output:</strong> 0\n",
    "<strong>Explanation:</strong> This route does not require any effort.\n",
    "</pre>\n",
    "\n",
    "<p>&nbsp;</p>\n",
    "<p><strong>Constraints:</strong></p>\n",
    "\n",
    "<ul>\n",
    "\t<li><code>rows == heights.length</code></li>\n",
    "\t<li><code>columns == heights[i].length</code></li>\n",
    "\t<li><code>1 &lt;= rows, columns &lt;= 100</code></li>\n",
    "\t<li><code>1 &lt;= heights[i][j] &lt;= 10<sup>6</sup></code></li>\n",
    "</ul>\n",
    "</div>"
   ]
  },
  {
   "cell_type": "markdown",
   "metadata": {},
   "source": [
    "## Option 1\n",
    " <p>     <p>\n",
    "    Lazy Dijkstras\n",
    "    <p>\n",
    " \n",
    "<p>"
   ]
  },
  {
   "cell_type": "code",
   "execution_count": null,
   "metadata": {
    "scrolled": true
   },
   "outputs": [],
   "source": [
    "class Solution(object):\n",
    "    def minimumEffortPath(self, heights):\n",
    "        #There are better ways, nm complexity\n",
    "        \n",
    "        n, m = len(heights), len(heights[0])\n",
    "        \n",
    "        h = [(0,(0,0))]\n",
    "        \n",
    "        seen = {(0,0):0}\n",
    "        \n",
    "        while h:\n",
    "            effort,(i,j) = heapq.heappop(h)\n",
    "            if (i,j) == (n-1,m-1):\n",
    "                return effort\n",
    "            \n",
    "            for ni, nj in ((i,j+1),(i+1,j),(i,j-1),(i-1,j)):\n",
    "                \n",
    "                if ni >= 0 and ni < n and nj >= 0 and nj < m:\n",
    "                    new_effort = max(effort, abs(heights[i][j]-heights[ni][nj]))\n",
    "                    if (ni,nj) not in seen or (ni,nj) in seen and new_effort < seen[(ni,nj)] :\n",
    "                        seen[(ni,nj)] = new_effort\n",
    "                        heapq.heappush(h, (new_effort,(ni,nj)))\n",
    "                        \n",
    "                        \n",
    "Solution().minimumEffortPath([[1,2,1,1,1],[1,2,1,2,1],[1,2,1,2,1],[1,2,1,2,1],[1,1,1,2,1]])\n"
   ]
  },
  {
   "cell_type": "markdown",
   "metadata": {},
   "source": [
    "#### Result: 876ms (58.16%)"
   ]
  }
 ],
 "metadata": {
  "kernelspec": {
   "display_name": "Python 2",
   "language": "python",
   "name": "python2"
  },
  "language_info": {
   "codemirror_mode": {
    "name": "ipython",
    "version": 2
   },
   "file_extension": ".py",
   "mimetype": "text/x-python",
   "name": "python",
   "nbconvert_exporter": "python",
   "pygments_lexer": "ipython2",
   "version": "2.7.16"
  }
 },
 "nbformat": 4,
 "nbformat_minor": 2
}
