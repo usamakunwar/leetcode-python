{
 "cells": [
  {
   "cell_type": "markdown",
   "metadata": {},
   "source": [
    "# 1253. Reconstruct a 2-Row Binary Matrix (Medium)\n"
   ]
  },
  {
   "cell_type": "markdown",
   "metadata": {},
   "source": [
    "<div><p>Given the following details of a matrix with <code>n</code> columns and <code>2</code> rows :</p>\n",
    "\n",
    "<ul>\n",
    "\t<li>The matrix is a binary matrix, which means each element in the matrix can be <code>0</code> or <code>1</code>.</li>\n",
    "\t<li>The sum of elements of the 0-th(upper) row is given as <code>upper</code>.</li>\n",
    "\t<li>The sum of elements of the 1-st(lower) row is given as <code>lower</code>.</li>\n",
    "\t<li>The sum of elements in the i-th column(0-indexed) is <code>colsum[i]</code>, where <code>colsum</code> is given as an integer array with length <code>n</code>.</li>\n",
    "</ul>\n",
    "\n",
    "<p>Your task is to reconstruct the matrix with <code>upper</code>, <code>lower</code> and <code>colsum</code>.</p>\n",
    "\n",
    "<p>Return it as a 2-D integer array.</p>\n",
    "\n",
    "<p>If there are more than one valid solution, any of them will be accepted.</p>\n",
    "\n",
    "<p>If no valid solution exists, return an empty 2-D array.</p>\n",
    "\n",
    "<p>&nbsp;</p>\n",
    "<p><strong>Example 1:</strong></p>\n",
    "\n",
    "<pre><strong>Input:</strong> upper = 2, lower = 1, colsum = [1,1,1]\n",
    "<strong>Output:</strong> [[1,1,0],[0,0,1]]\n",
    "<strong>Explanation: </strong>[[1,0,1],[0,1,0]], and [[0,1,1],[1,0,0]] are also correct answers.\n",
    "</pre>\n",
    "\n",
    "<p><strong>Example 2:</strong></p>\n",
    "\n",
    "<pre><strong>Input:</strong> upper = 2, lower = 3, colsum = [2,2,1,1]\n",
    "<strong>Output:</strong> []\n",
    "</pre>\n",
    "\n",
    "<p><strong>Example 3:</strong></p>\n",
    "\n",
    "<pre><strong>Input:</strong> upper = 5, lower = 5, colsum = [2,1,2,0,1,0,1,2,0,1]\n",
    "<strong>Output:</strong> [[1,1,1,0,1,0,0,1,0,0],[1,0,1,0,0,0,1,1,0,1]]\n",
    "</pre>\n",
    "\n",
    "<p>&nbsp;</p>\n",
    "<p><strong>Constraints:</strong></p>\n",
    "\n",
    "<ul>\n",
    "\t<li><code>1 &lt;= colsum.length &lt;= 10^5</code></li>\n",
    "\t<li><code>0 &lt;= upper, lower &lt;= colsum.length</code></li>\n",
    "\t<li><code>0 &lt;= colsum[i] &lt;= 2</code></li>\n",
    "</ul>\n",
    "</div>"
   ]
  },
  {
   "cell_type": "markdown",
   "metadata": {},
   "source": [
    "## Option 1\n",
    "   <p>\n",
    "Time complexity: O(n) length of colsum\n",
    "<br>\n",
    "Space complexity: O(n)"
   ]
  },
  {
   "cell_type": "code",
   "execution_count": null,
   "metadata": {},
   "outputs": [],
   "source": [
    "class Solution(object):\n",
    "    def reconstructMatrix(self, upper, lower, colsum):        \n",
    "        rowsum, res = [upper,lower], [[],[]]\n",
    "        for i in range(len(rowsum)):\n",
    "            for j in range(len(colsum)):\n",
    "                val = min(colsum[j], rowsum[i])\n",
    "                rowsum[i], colsum[j] = rowsum[i]-val, colsum[j]-val\n",
    "                res[i].append(val)\n",
    "        return res if not sum(rowsum+colsum) else []\n",
    "        \n",
    "Solution().reconstructMatrix(2,3,[2,2,1,1])       \n"
   ]
  },
  {
   "cell_type": "markdown",
   "metadata": {},
   "source": [
    "#### Result: 900ms (7.23%)\n"
   ]
  }
 ],
 "metadata": {
  "kernelspec": {
   "display_name": "Python 2",
   "language": "python",
   "name": "python2"
  },
  "language_info": {
   "codemirror_mode": {
    "name": "ipython",
    "version": 2
   },
   "file_extension": ".py",
   "mimetype": "text/x-python",
   "name": "python",
   "nbconvert_exporter": "python",
   "pygments_lexer": "ipython2",
   "version": "2.7.16"
  }
 },
 "nbformat": 4,
 "nbformat_minor": 2
}
