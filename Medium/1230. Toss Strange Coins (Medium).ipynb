{
 "cells": [
  {
   "cell_type": "markdown",
   "metadata": {},
   "source": [
    "# 1230. Toss Strange Coins (Medium)"
   ]
  },
  {
   "cell_type": "markdown",
   "metadata": {},
   "source": [
    "<div><p>You have some coins.&nbsp; The <code>i</code>-th&nbsp;coin has a probability&nbsp;<code>prob[i]</code> of facing heads when tossed.</p>\n",
    "\n",
    "<p>Return the probability that the number of coins facing heads equals <code>target</code> if you toss every coin exactly once.</p>\n",
    "\n",
    "<p>&nbsp;</p>\n",
    "<p><strong>Example 1:</strong></p>\n",
    "<pre><strong>Input:</strong> prob = [0.4], target = 1\n",
    "<strong>Output:</strong> 0.40000\n",
    "</pre><p><strong>Example 2:</strong></p>\n",
    "<pre><strong>Input:</strong> prob = [0.5,0.5,0.5,0.5,0.5], target = 0\n",
    "<strong>Output:</strong> 0.03125\n",
    "</pre>\n",
    "<p>&nbsp;</p>\n",
    "<p><strong>Constraints:</strong></p>\n",
    "\n",
    "<ul>\n",
    "\t<li><code>1 &lt;= prob.length &lt;= 1000</code></li>\n",
    "\t<li><code>0 &lt;= prob[i] &lt;= 1</code></li>\n",
    "\t<li><code>0 &lt;= target&nbsp;</code><code>&lt;= prob.length</code></li>\n",
    "\t<li>Answers will be accepted as correct if they are within <code>10^-5</code> of the correct answer.</li>\n",
    "</ul>\n",
    "</div>"
   ]
  },
  {
   "cell_type": "markdown",
   "metadata": {},
   "source": [
    "## Option 1\n",
    " <p>    \n",
    "   DP Top down\n",
    "    <p>\n",
    "<p>\n",
    "\n",
    "<p>\n",
    "            \n",
    "Time complexity: O(n^2)\n",
    "    <br>\n",
    "Space complexity: O(n^2)\n",
    "        \n"
   ]
  },
  {
   "cell_type": "code",
   "execution_count": null,
   "metadata": {},
   "outputs": [],
   "source": [
    "class Solution(object):\n",
    "    def probabilityOfHeads(self, prob, target):\n",
    "        \n",
    "        self.seen = {}\n",
    "        def search(i,curr):\n",
    "            if i == len(prob) : return 1\n",
    "            if (i,curr) in self.seen: return self.seen[(i,curr)]\n",
    "            \n",
    "            head = tail = 0\n",
    "            if curr > 0: #Need heads\n",
    "                head = search(i+1, curr-1) * prob[i]\n",
    "            \n",
    "            if curr <= len(prob)-1-i: #Enough space for needed heads\n",
    "                tail = search(i+1, curr) * (1-prob[i]) \n",
    "            \n",
    "            self.seen[(i,curr)] = head+tail\n",
    "            \n",
    "            return head+tail\n",
    "            \n",
    "        return search(0, target)\n",
    "\n",
    "\n",
    "Solution().probabilityOfHeads([0.2,0.3,0.4,0.5], 3)\n",
    "        \n"
   ]
  },
  {
   "cell_type": "markdown",
   "metadata": {},
   "source": [
    "#### Result:  3028ms (38.10%)"
   ]
  },
  {
   "cell_type": "markdown",
   "metadata": {},
   "source": [
    "## Option 2\n",
    " <p>    \n",
    "DP Bottom Up\n",
    "    <p>\n",
    "        <li>- dp [ i ] = probability of i number of heads\n",
    "        <li>- dp [ 0 ] = 1, The probability of 0 heads before any toss is 1, which allows the probability of 0 heads in the future (only tails first column)\n",
    "<p>\n",
    "\n",
    "<p>\n",
    "            \n",
    "Time complexity: O(n^2)\n",
    "    <br>\n",
    "Space complexity: O(n)\n",
    "        \n"
   ]
  },
  {
   "cell_type": "code",
   "execution_count": null,
   "metadata": {},
   "outputs": [],
   "source": [
    "class Solution(object):\n",
    "    def probabilityOfHeads(self, prob, target):\n",
    "        dp = [1]+[0]*(target)\n",
    "        dp[0] = 1\n",
    "        for i in range(len(prob)):\n",
    "            for j in range(target,-1,-1):\n",
    "                dp[j] = (dp[j]*(1-prob[i])) + ((dp[j-1]*prob[i]) if j > 0 else 0)\n",
    "        \n",
    "        return dp[-1]\n",
    "\n",
    "Solution().probabilityOfHeads([0.2,0.3,0.4,0.5], 3)\n"
   ]
  },
  {
   "cell_type": "markdown",
   "metadata": {},
   "source": [
    "#### Result:  1016ms (85.71%)"
   ]
  }
 ],
 "metadata": {
  "kernelspec": {
   "display_name": "Python 2",
   "language": "python",
   "name": "python2"
  },
  "language_info": {
   "codemirror_mode": {
    "name": "ipython",
    "version": 2
   },
   "file_extension": ".py",
   "mimetype": "text/x-python",
   "name": "python",
   "nbconvert_exporter": "python",
   "pygments_lexer": "ipython2",
   "version": "2.7.16"
  }
 },
 "nbformat": 4,
 "nbformat_minor": 2
}
