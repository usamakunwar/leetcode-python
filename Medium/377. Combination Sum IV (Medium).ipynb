{
 "cells": [
  {
   "cell_type": "markdown",
   "metadata": {},
   "source": [
    "# 377. Combination Sum IV (Medium)"
   ]
  },
  {
   "cell_type": "markdown",
   "metadata": {},
   "source": [
    "<div><p>Given an integer array with all positive numbers and no duplicates, find the number of possible combinations that add up to a positive integer target.</p>\n",
    "\n",
    "<p><b>Example:</b></p>\n",
    "\n",
    "<pre><i><b>nums</b></i> = [1, 2, 3]\n",
    "<i><b>target</b></i> = 4\n",
    "\n",
    "The possible combination ways are:\n",
    "(1, 1, 1, 1)\n",
    "(1, 1, 2)\n",
    "(1, 2, 1)\n",
    "(1, 3)\n",
    "(2, 1, 1)\n",
    "(2, 2)\n",
    "(3, 1)\n",
    "\n",
    "Note that different sequences are counted as different combinations.\n",
    "\n",
    "Therefore the output is <i><b>7</b></i>.\n",
    "</pre>\n",
    "\n",
    "<p>&nbsp;</p>\n",
    "\n",
    "<p><b>Follow up:</b><br>\n",
    "What if negative numbers are allowed in the given array?<br>\n",
    "How does it change the problem?<br>\n",
    "What limitation we need to add to the question to allow negative numbers?</p>\n",
    "\n",
    "<p><b>Credits:</b><br>\n",
    "Special thanks to <a href=\"https://leetcode.com/pbrother/\">@pbrother</a> for adding this problem and creating all test cases.</p>\n",
    "</div>"
   ]
  },
  {
   "cell_type": "markdown",
   "metadata": {},
   "source": [
    "## Option 1\n",
    " <p>    \n",
    "   DP Top down\n",
    "    <p>\n",
    "<p>\n",
    "<p>\n",
    "        \n"
   ]
  },
  {
   "cell_type": "code",
   "execution_count": null,
   "metadata": {},
   "outputs": [],
   "source": [
    "class Solution(object):\n",
    "    def combinationSum4(self, nums, target):  \n",
    "        nums.sort()\n",
    "        self.seen = {}\n",
    "        \n",
    "        def search(curr):\n",
    "            if curr == 0: return 1\n",
    "            if curr in self.seen: return self.seen[curr]\n",
    "            res = 0\n",
    "            for i in range(len(nums)):\n",
    "                if curr-nums[i] < 0: break\n",
    "                res += search(curr-nums[i])\n",
    "                \n",
    "            self.seen[curr] = res\n",
    "            print(self.seen)\n",
    "            return res\n",
    "        \n",
    "        return search(target)\n",
    "    \n",
    "Solution().combinationSum4([1,2,3], 4)\n",
    "    "
   ]
  },
  {
   "cell_type": "markdown",
   "metadata": {},
   "source": [
    "#### Result:  36ms (57.79%)"
   ]
  },
  {
   "cell_type": "markdown",
   "metadata": {},
   "source": [
    "## Option 2\n",
    " <p>    \n",
    "DP Bottom Up \n",
    "    <p>"
   ]
  }
 ],
 "metadata": {
  "kernelspec": {
   "display_name": "Python 2",
   "language": "python",
   "name": "python2"
  },
  "language_info": {
   "codemirror_mode": {
    "name": "ipython",
    "version": 2
   },
   "file_extension": ".py",
   "mimetype": "text/x-python",
   "name": "python",
   "nbconvert_exporter": "python",
   "pygments_lexer": "ipython2",
   "version": "2.7.16"
  }
 },
 "nbformat": 4,
 "nbformat_minor": 2
}
