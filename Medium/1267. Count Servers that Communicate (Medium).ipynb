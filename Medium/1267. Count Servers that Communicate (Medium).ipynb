{
 "cells": [
  {
   "cell_type": "markdown",
   "metadata": {},
   "source": [
    "# 1267. Count Servers that Communicate (Medium)\n"
   ]
  },
  {
   "cell_type": "markdown",
   "metadata": {},
   "source": [
    "<div><p>You are given a map of a server center, represented as a <code>m * n</code> integer matrix&nbsp;<code>grid</code>, where 1 means that on that cell there is a server and 0 means that it is no server. Two servers are said to communicate if they are on the same row or on the same column.<br>\n",
    "<br>\n",
    "Return the number of servers&nbsp;that communicate with any other server.</p>\n",
    "\n",
    "<p>&nbsp;</p>\n",
    "<p><strong>Example 1:</strong></p>\n",
    "\n",
    "<p><img alt=\"\" src=\"https://assets.leetcode.com/uploads/2019/11/14/untitled-diagram-6.jpg\" style=\"width: 202px; height: 203px;\"></p>\n",
    "\n",
    "<pre><strong>Input:</strong> grid = [[1,0],[0,1]]\n",
    "<strong>Output:</strong> 0\n",
    "<b>Explanation:</b>&nbsp;No servers can communicate with others.</pre>\n",
    "\n",
    "<p><strong>Example 2:</strong></p>\n",
    "\n",
    "<p><strong><img alt=\"\" src=\"https://assets.leetcode.com/uploads/2019/11/13/untitled-diagram-4.jpg\" style=\"width: 203px; height: 203px;\"></strong></p>\n",
    "\n",
    "<pre><strong>Input:</strong> grid = [[1,0],[1,1]]\n",
    "<strong>Output:</strong> 3\n",
    "<b>Explanation:</b>&nbsp;All three servers can communicate with at least one other server.\n",
    "</pre>\n",
    "\n",
    "<p><strong>Example 3:</strong></p>\n",
    "\n",
    "<p><img alt=\"\" src=\"https://assets.leetcode.com/uploads/2019/11/14/untitled-diagram-1-3.jpg\" style=\"width: 443px; height: 443px;\"></p>\n",
    "\n",
    "<pre><strong>Input:</strong> grid = [[1,1,0,0],[0,0,1,0],[0,0,1,0],[0,0,0,1]]\n",
    "<strong>Output:</strong> 4\n",
    "<b>Explanation:</b>&nbsp;The two servers in the first row can communicate with each other. The two servers in the third column can communicate with each other. The server at right bottom corner can't communicate with any other server.\n",
    "</pre>\n",
    "\n",
    "<p>&nbsp;</p>\n",
    "<p><strong>Constraints:</strong></p>\n",
    "\n",
    "<ul>\n",
    "\t<li><code>m == grid.length</code></li>\n",
    "\t<li><code>n == grid[i].length</code></li>\n",
    "\t<li><code>1 &lt;= m &lt;= 250</code></li>\n",
    "\t<li><code>1 &lt;= n &lt;= 250</code></li>\n",
    "\t<li><code>grid[i][j] == 0 or 1</code></li>\n",
    "</ul>\n",
    "</div>"
   ]
  },
  {
   "cell_type": "markdown",
   "metadata": {},
   "source": [
    "## Option 1\n",
    "\n",
    "Recursive\n",
    "<p>\n",
    "Time complexity = O(m*n)\n",
    "<br>\n",
    "Space complexity = O(m+n)"
   ]
  },
  {
   "cell_type": "code",
   "execution_count": 61,
   "metadata": {
    "scrolled": true
   },
   "outputs": [
    {
     "data": {
      "text/plain": [
       "4"
      ]
     },
     "execution_count": 61,
     "metadata": {},
     "output_type": "execute_result"
    }
   ],
   "source": [
    "class Solution:\n",
    "    def countServers(self, grid: [[int]]) -> int:\n",
    "        li,lj = len(grid),len(grid[0])\n",
    "        rows, cols, servers = [0]*li , [0]*lj, 0        \n",
    "        for i in range(li):\n",
    "            for j in range(lj):\n",
    "                if grid[i][j]: \n",
    "                    rows[i] += 1\n",
    "                    cols[j] += 1\n",
    "\n",
    "        for i in range(li):\n",
    "            for j in range(lj):\n",
    "                if grid[i][j] and (rows[i] > 1 or cols[j] > 1):\n",
    "                    servers += 1\n",
    "        return servers\n",
    "        \n",
    "                        \n",
    "                        \n",
    "Solution().countServers([[1,1,0,0],[0,0,1,0],[0,0,1,0],[0,0,0,1]])"
   ]
  },
  {
   "cell_type": "markdown",
   "metadata": {},
   "source": [
    "#### Result:  836ms (9.84%)"
   ]
  }
 ],
 "metadata": {
  "kernelspec": {
   "display_name": "Python 3",
   "language": "python",
   "name": "python3"
  },
  "language_info": {
   "codemirror_mode": {
    "name": "ipython",
    "version": 3
   },
   "file_extension": ".py",
   "mimetype": "text/x-python",
   "name": "python",
   "nbconvert_exporter": "python",
   "pygments_lexer": "ipython3",
   "version": "3.7.4"
  }
 },
 "nbformat": 4,
 "nbformat_minor": 2
}
