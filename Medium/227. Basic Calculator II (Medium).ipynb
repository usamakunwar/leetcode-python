{
 "cells": [
  {
   "cell_type": "markdown",
   "metadata": {},
   "source": [
    "# 227. Basic Calculator II (Medium)\n"
   ]
  },
  {
   "cell_type": "markdown",
   "metadata": {},
   "source": [
    "<div><p>Implement a basic calculator to evaluate a simple expression string.</p>\n",
    "\n",
    "<p>The expression string contains only <b>non-negative</b> integers, <code>+</code>, <code>-</code>, <code>*</code>, <code>/</code> operators and empty spaces <code> </code>. The integer division should truncate toward zero.</p>\n",
    "\n",
    "<p><strong>Example 1:</strong></p>\n",
    "\n",
    "<pre><strong>Input: </strong>\"3+2*2\"\n",
    "<strong>Output:</strong> 7\n",
    "</pre>\n",
    "\n",
    "<p><strong>Example 2:</strong></p>\n",
    "\n",
    "<pre><strong>Input:</strong> \" 3/2 \"\n",
    "<strong>Output:</strong> 1</pre>\n",
    "\n",
    "<p><strong>Example 3:</strong></p>\n",
    "\n",
    "<pre><strong>Input:</strong> \" 3+5 / 2 \"\n",
    "<strong>Output:</strong> 5\n",
    "</pre>\n",
    "\n",
    "<p><b>Note:</b></p>\n",
    "\n",
    "<ul>\n",
    "\t<li>You may assume that the given expression is always valid.</li>\n",
    "\t<li><b>Do not</b> use the <code>eval</code> built-in library function.</li>\n",
    "</ul>\n",
    "</div>"
   ]
  },
  {
   "cell_type": "markdown",
   "metadata": {},
   "source": [
    "## Option 1\n",
    "<p>\n",
    "Time complexity: O(n)\n",
    "<br>\n",
    "Space complexity: O(n)"
   ]
  },
  {
   "cell_type": "code",
   "execution_count": null,
   "metadata": {
    "scrolled": false
   },
   "outputs": [],
   "source": [
    "import math\n",
    "class Solution(object):\n",
    "    def calculate(self, s):\n",
    "        stack = []\n",
    "        ops = {'+':(lambda x,y:x+y),'-':(lambda x,y:x-y),\n",
    "               '*':(lambda x,y:x*y),'/':(lambda x,y:int(float(x)/float(y)))}\n",
    "        ln = len(s)\n",
    "        \n",
    "        i = 0\n",
    "        while i < ln:\n",
    "            if s[i] in ops:\n",
    "                stack.append(s[i])\n",
    "                i += 1\n",
    "            else:\n",
    "                j = i+1\n",
    "                while j < ln and s[j] not in ops: j += 1\n",
    "                number = int(s[i:j])\n",
    "                i = j\n",
    "                if stack:\n",
    "                    op = stack.pop()\n",
    "                    if op in '*/':\n",
    "                        stack[-1] = ops[op](stack[-1],number)\n",
    "                    elif op == '-':\n",
    "                        stack.append(-1*number)\n",
    "                    else:\n",
    "                        stack.append(number)\n",
    "                else:\n",
    "                    stack.append(number)\n",
    "        return sum(stack)\n",
    "        \n",
    "        \n",
    "Solution().calculate(\"14-3/2\")\n",
    "        "
   ]
  },
  {
   "cell_type": "markdown",
   "metadata": {},
   "source": [
    "#### Result: 228ms (17.12%)\n"
   ]
  }
 ],
 "metadata": {
  "kernelspec": {
   "display_name": "Python 2",
   "language": "python",
   "name": "python2"
  },
  "language_info": {
   "codemirror_mode": {
    "name": "ipython",
    "version": 2
   },
   "file_extension": ".py",
   "mimetype": "text/x-python",
   "name": "python",
   "nbconvert_exporter": "python",
   "pygments_lexer": "ipython2",
   "version": "2.7.16"
  }
 },
 "nbformat": 4,
 "nbformat_minor": 2
}
