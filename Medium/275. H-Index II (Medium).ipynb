{
 "cells": [
  {
   "cell_type": "markdown",
   "metadata": {},
   "source": [
    "# 275. H-Index II (Medium)\n"
   ]
  },
  {
   "cell_type": "markdown",
   "metadata": {},
   "source": [
    "<div><p>Given an array of citations <strong>sorted&nbsp;in ascending order </strong>(each citation is a non-negative integer) of a researcher, write a function to compute the researcher's h-index.</p>\n",
    "\n",
    "<p>According to the&nbsp;<a href=\"https://en.wikipedia.org/wiki/H-index\" target=\"_blank\">definition of h-index on Wikipedia</a>: \"A scientist has index&nbsp;<i>h</i>&nbsp;if&nbsp;<i>h</i>&nbsp;of his/her&nbsp;<i>N</i>&nbsp;papers have&nbsp;<b>at least</b>&nbsp;<i>h</i>&nbsp;citations each, and the other&nbsp;<i>N − h</i>&nbsp;papers have&nbsp;<b>no more than</b>&nbsp;<i>h&nbsp;</i>citations each.\"</p>\n",
    "\n",
    "<p><b>Example:</b></p>\n",
    "\n",
    "<pre><b>Input:</b> <code>citations = [0,1,3,5,6]</code>\n",
    "<b>Output:</b> 3 \n",
    "<strong>Explanation: </strong><code>[0,1,3,5,6] </code>means the researcher has <code>5</code> papers in total and each of them had \n",
    "             received 0<code>, 1, 3, 5, 6</code> citations respectively. \n",
    "&nbsp;            Since the researcher has <code>3</code> papers with <b>at least</b> <code>3</code> citations each and the remaining \n",
    "&nbsp;            two with <b>no more than</b> <code>3</code> citations each, her h-index is <code>3</code>.</pre>\n",
    "\n",
    "<p><strong>Note:</strong></p>\n",
    "\n",
    "<p>If there are several possible values for&nbsp;<em>h</em>, the maximum one is taken as the h-index.</p>\n",
    "\n",
    "<p><strong>Follow up:</strong></p>\n",
    "\n",
    "<ul>\n",
    "\t<li>This is a follow up problem to&nbsp;<a href=\"/problems/h-index/description/\">H-Index</a>, where <code>citations</code> is now guaranteed to be sorted in ascending order.</li>\n",
    "\t<li>Could you solve it in logarithmic time complexity?</li>\n",
    "</ul>\n",
    "</div>"
   ]
  },
  {
   "cell_type": "markdown",
   "metadata": {},
   "source": [
    "## Option 1\n",
    "<p>\n",
    "      <p>         <p>\n",
    "Time complexity: O(logn)\n",
    "    <br>\n",
    "Space complexity: O(1)\n"
   ]
  },
  {
   "cell_type": "code",
   "execution_count": null,
   "metadata": {
    "scrolled": true
   },
   "outputs": [],
   "source": [
    "class Solution(object):\n",
    "    def hIndex(self, c):\n",
    "        l,r = 0, len(c)-1\n",
    "        while l < r:\n",
    "            mid = (l+r)/2\n",
    "            if c[mid] < len(c)-mid:\n",
    "                l = mid + 1\n",
    "            else:\n",
    "                r = mid\n",
    "        return len(c)-l if c and c[l] >= len(c)-l else 0\n",
    "        \n",
    "        \n",
    "Solution().hIndex([100,3000,5000])     \n"
   ]
  },
  {
   "cell_type": "markdown",
   "metadata": {},
   "source": [
    "#### Result: 124ms (85.33%)"
   ]
  }
 ],
 "metadata": {
  "kernelspec": {
   "display_name": "Python 2",
   "language": "python",
   "name": "python2"
  },
  "language_info": {
   "codemirror_mode": {
    "name": "ipython",
    "version": 2
   },
   "file_extension": ".py",
   "mimetype": "text/x-python",
   "name": "python",
   "nbconvert_exporter": "python",
   "pygments_lexer": "ipython2",
   "version": "2.7.16"
  }
 },
 "nbformat": 4,
 "nbformat_minor": 2
}
