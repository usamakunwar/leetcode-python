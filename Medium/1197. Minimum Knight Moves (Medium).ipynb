{
 "cells": [
  {
   "cell_type": "markdown",
   "metadata": {},
   "source": [
    "# 1197. Minimum Knight Moves (Medium)"
   ]
  },
  {
   "cell_type": "markdown",
   "metadata": {},
   "source": [
    "<div><p>In an <strong>infinite</strong> chess board with coordinates from <code>-infinity</code>&nbsp;to <code>+infinity</code>, you have a <strong>knight</strong> at square&nbsp;<code>[0, 0]</code>.</p>\n",
    "\n",
    "<p>A&nbsp;knight has 8 possible moves it can make, as illustrated below. Each move is two squares in a cardinal direction, then one square in an orthogonal direction.</p>\n",
    "\n",
    "<p><img src=\"https://assets.leetcode.com/uploads/2018/10/12/knight.png\" style=\"height: 200px; width: 200px;\"></p>\n",
    "\n",
    "<p>Return the&nbsp;minimum number of steps needed to move the knight to the square <code>[x, y]</code>.&nbsp; It is guaranteed the answer exists.</p>\n",
    "\n",
    "<p>&nbsp;</p>\n",
    "<p><strong>Example 1:</strong></p>\n",
    "\n",
    "<pre><strong>Input:</strong> x = 2, y = 1\n",
    "<strong>Output:</strong> 1\n",
    "<strong>Explanation: </strong>[0, 0] → [2, 1]\n",
    "</pre>\n",
    "\n",
    "<p><strong>Example 2:</strong></p>\n",
    "\n",
    "<pre><strong>Input:</strong> x = 5, y = 5\n",
    "<strong>Output:</strong> 4\n",
    "<strong>Explanation: </strong>[0, 0] → [2, 1] → [4, 2] → [3, 4] → [5, 5]\n",
    "</pre>\n",
    "\n",
    "<p>&nbsp;</p>\n",
    "<p><strong>Constraints:</strong></p>\n",
    "\n",
    "<ul>\n",
    "\t<li><code>|x| + |y| &lt;= 300</code></li>\n",
    "</ul>\n",
    "</div>"
   ]
  },
  {
   "cell_type": "markdown",
   "metadata": {},
   "source": [
    "## Option 1\n",
    "\n",
    "<p>\n",
    "    <li>BFS \n",
    " <p>\n",
    "     <p><p>\n",
    "<p>"
   ]
  },
  {
   "cell_type": "code",
   "execution_count": null,
   "metadata": {
    "scrolled": false
   },
   "outputs": [],
   "source": [
    "import collections\n",
    "class Solution(object):\n",
    "    def minKnightMoves(self, x, y):\n",
    "        p = [(2,1),(2,-1),(-2,1),(-2,-1),(1,2),(1,-2),(-1,2),(-1,-2)]\n",
    "        q = collections.deque([(0,0,0)])\n",
    "        seen = set([(0,0)])\n",
    "        \n",
    "        while q:\n",
    "            i,j,lev = q.popleft()\n",
    "            if (i,j) == (x,y): return lev\n",
    "            \n",
    "            for ni,nj in p:\n",
    "                ni,nj = i+ni, j+nj\n",
    "                if (ni,nj) not in seen:\n",
    "                    seen.add((ni,nj))\n",
    "                    q.append((ni,nj,lev+1))\n",
    "\n",
    "Solution().minKnightMoves(5,5)\n"
   ]
  },
  {
   "cell_type": "markdown",
   "metadata": {},
   "source": [
    "#### Result: 6464ms (33.63%)"
   ]
  },
  {
   "cell_type": "markdown",
   "metadata": {},
   "source": [
    "## Option 2\n",
    "\n",
    "<p>\n",
    "    DP (Top down)\n",
    "    <p>\n",
    "    <li>Suppose we have a destination of (-5,10), getting from here to (0,0), will take the same steps as getting from (5,10) => (0,0). Due to symmetry. Which means we can simply ignore all negative positions, by making them positive\n",
    "    <li>Also when landing on (2,0) (0,2) (1,1) we will end up in an infinite loop, so as we know these positions are exactly 2 moves away from (0,0), return it directly\n",
    "     \n",
    "     \n",
    " <p>\n",
    "     <p>\n",
    "         <p>\n",
    "Time complexity: O(xy)\n",
    "<br>\n",
    "Space complexity: O(xy) "
   ]
  },
  {
   "cell_type": "code",
   "execution_count": null,
   "metadata": {},
   "outputs": [],
   "source": [
    "import collections\n",
    "class Solution(object):\n",
    "    def minKnightMoves(self, x, y):\n",
    "        self.seen = {}\n",
    "        \n",
    "        def search(i,j):\n",
    "            i,j = abs(i),abs(j)\n",
    "            if i+j == 0: return 0\n",
    "            if i+j == 2: return 2\n",
    "            if (i,j) in self.seen: return self.seen[(i,j)]\n",
    "            self.seen[(i,j)] = min(search(i-2,j-1),search(i-1,j-2))+1\n",
    "            return self.seen[(i,j)]\n",
    "        \n",
    "        return search(x,y)\n",
    "\n",
    "Solution().minKnightMoves(5,5)\n"
   ]
  },
  {
   "cell_type": "markdown",
   "metadata": {},
   "source": [
    "#### Result: 48ms (90.72%)"
   ]
  }
 ],
 "metadata": {
  "kernelspec": {
   "display_name": "Python 2",
   "language": "python",
   "name": "python2"
  },
  "language_info": {
   "codemirror_mode": {
    "name": "ipython",
    "version": 2
   },
   "file_extension": ".py",
   "mimetype": "text/x-python",
   "name": "python",
   "nbconvert_exporter": "python",
   "pygments_lexer": "ipython2",
   "version": "2.7.16"
  }
 },
 "nbformat": 4,
 "nbformat_minor": 2
}
