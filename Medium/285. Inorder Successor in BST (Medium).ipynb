{
 "cells": [
  {
   "cell_type": "markdown",
   "metadata": {},
   "source": [
    "# 285. Inorder Successor in BST (Medium)\n"
   ]
  },
  {
   "cell_type": "markdown",
   "metadata": {},
   "source": [
    "<div><p>Given a binary search tree and a node in it, find the in-order successor of that node in the BST.</p>\n",
    "\n",
    "<p>The successor of a node&nbsp;<code>p</code>&nbsp;is the node with the smallest key greater than&nbsp;<code>p.val</code>.</p>\n",
    "\n",
    "<p>&nbsp;</p>\n",
    "\n",
    "<p><strong>Example 1:</strong></p>\n",
    "<img alt=\"\" src=\"https://assets.leetcode.com/uploads/2019/01/23/285_example_1.PNG\" style=\"width: 122px; height: 117px;\">\n",
    "<pre><strong>Input: </strong>root = <span id=\"example-input-1-1\">[2,1,3]</span>, p = <span id=\"example-input-1-2\">1</span>\n",
    "<strong>Output: </strong><span id=\"example-output-1\">2</span>\n",
    "<strong>Explanation: </strong>1's in-order successor node is 2. Note that both p and the return value is of TreeNode type.\n",
    "</pre>\n",
    "\n",
    "<p><strong>Example 2:</strong></p>\n",
    "<img alt=\"\" src=\"https://assets.leetcode.com/uploads/2019/01/23/285_example_2.PNG\" style=\"width: 246px; height: 229px;\">\n",
    "<pre><strong>Input: </strong>root = <span id=\"example-input-2-1\">[5,3,6,2,4,null,null,1]</span>, p = <span id=\"example-input-2-2\">6</span>\n",
    "<strong>Output: </strong><span id=\"example-output-2\">null</span>\n",
    "<strong>Explanation: </strong>There is no in-order successor of the current node, so the answer is <code>null</code>.\n",
    "</pre>\n",
    "\n",
    "<p>&nbsp;</p>\n",
    "\n",
    "<p><strong>Note:</strong></p>\n",
    "\n",
    "<ol>\n",
    "\t<li>If the given node has no in-order successor in the tree, return <code>null</code>.</li>\n",
    "\t<li>It's guaranteed that the values of the tree are unique.</li>\n",
    "</ol>\n",
    "</div>"
   ]
  },
  {
   "cell_type": "markdown",
   "metadata": {},
   "source": [
    "## Option 1\n",
    "\n",
    "Recursive\n",
    "<p>\n",
    "Time complexity = O(logn)\n",
    "<br>\n",
    "Space complexity = O(logn)"
   ]
  },
  {
   "cell_type": "code",
   "execution_count": null,
   "metadata": {
    "scrolled": false
   },
   "outputs": [],
   "source": [
    "# Definition for a binary tree node.\n",
    "# class TreeNode:\n",
    "#     def __init__(self, x):\n",
    "#         self.val = x\n",
    "#         self.left = None\n",
    "#         self.right = None\n",
    "\n",
    "class Solution:\n",
    "    def inorderSuccessor(self, root: 'TreeNode', p: 'TreeNode') -> 'TreeNode':\n",
    "        def dfs(node):\n",
    "            if not node: return None\n",
    "            return (dfs(node.left) or node) if p.val < node.val else dfs(node.right)\n",
    "        return dfs(root)"
   ]
  },
  {
   "cell_type": "markdown",
   "metadata": {},
   "source": [
    "#### Result:  68ms (86.78%)"
   ]
  }
 ],
 "metadata": {
  "kernelspec": {
   "display_name": "Python 3",
   "language": "python",
   "name": "python3"
  },
  "language_info": {
   "codemirror_mode": {
    "name": "ipython",
    "version": 3
   },
   "file_extension": ".py",
   "mimetype": "text/x-python",
   "name": "python",
   "nbconvert_exporter": "python",
   "pygments_lexer": "ipython3",
   "version": "3.7.4"
  }
 },
 "nbformat": 4,
 "nbformat_minor": 2
}
