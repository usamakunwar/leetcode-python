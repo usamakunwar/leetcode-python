{
 "cells": [
  {
   "cell_type": "markdown",
   "metadata": {},
   "source": [
    "# 131. Palindrome Partitioning (Medium)\n",
    "\n"
   ]
  },
  {
   "cell_type": "markdown",
   "metadata": {},
   "source": [
    "<div><p>Given a string <em>s</em>, partition <em>s</em> such that every substring of the partition is a palindrome.</p>\n",
    "\n",
    "<p>Return all possible palindrome partitioning of <em>s</em>.</p>\n",
    "\n",
    "<p><strong>Example:</strong></p>\n",
    "\n",
    "<pre><strong>Input:</strong>&nbsp;\"aab\"\n",
    "<strong>Output:</strong>\n",
    "[\n",
    "  [\"aa\",\"b\"],\n",
    "  [\"a\",\"a\",\"b\"]\n",
    "]\n",
    "</pre>\n",
    "</div>"
   ]
  },
  {
   "cell_type": "markdown",
   "metadata": {},
   "source": [
    "## Option \n",
    "\n",
    "DFS + Backtrack\n"
   ]
  },
  {
   "cell_type": "code",
   "execution_count": null,
   "metadata": {
    "scrolled": false
   },
   "outputs": [],
   "source": [
    "class Solution(object):\n",
    "    def partition(self, s):\n",
    "        ln = len(s)\n",
    "        def search(i,curr):\n",
    "            if i == ln:\n",
    "                return [curr]\n",
    "            res = []\n",
    "            for j in range(i,ln):\n",
    "                if s[i:j+1] == s[i:j+1][::-1]:\n",
    "                    res += search(j+1,curr+[s[i:j+1]])\n",
    "            return res\n",
    "        return search(0,[])\n",
    "\n",
    "\n",
    "Solution().partition(\"damam\")"
   ]
  },
  {
   "cell_type": "markdown",
   "metadata": {},
   "source": [
    "#### Result: 68ms (76.18%)"
   ]
  }
 ],
 "metadata": {
  "kernelspec": {
   "display_name": "Python 2",
   "language": "python",
   "name": "python2"
  },
  "language_info": {
   "codemirror_mode": {
    "name": "ipython",
    "version": 2
   },
   "file_extension": ".py",
   "mimetype": "text/x-python",
   "name": "python",
   "nbconvert_exporter": "python",
   "pygments_lexer": "ipython2",
   "version": "2.7.16"
  }
 },
 "nbformat": 4,
 "nbformat_minor": 2
}
