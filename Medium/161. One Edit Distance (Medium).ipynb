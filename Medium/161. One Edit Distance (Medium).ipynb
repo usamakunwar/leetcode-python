{
 "cells": [
  {
   "cell_type": "markdown",
   "metadata": {},
   "source": [
    "# 161. One Edit Distance (Medium)"
   ]
  },
  {
   "cell_type": "markdown",
   "metadata": {},
   "source": [
    "<div><p>Given two strings <b><i>s</i></b>&nbsp;and <b><i>t</i></b>, determine if they are both one edit distance apart.</p>\n",
    "\n",
    "<p><strong>Note:</strong>&nbsp;</p>\n",
    "\n",
    "<p>There are 3 possiblities to satisify one edit distance apart:</p>\n",
    "\n",
    "<ol>\n",
    "\t<li>Insert a&nbsp;character into <strong><em>s</em></strong>&nbsp;to get&nbsp;<strong><em>t</em></strong></li>\n",
    "\t<li>Delete a&nbsp;character from&nbsp;<strong><em>s</em></strong>&nbsp;to get&nbsp;<strong><em>t</em></strong></li>\n",
    "\t<li>Replace a character of&nbsp;<strong><em>s</em></strong>&nbsp;to get&nbsp;<strong><em>t</em></strong></li>\n",
    "</ol>\n",
    "\n",
    "<p><strong>Example 1:</strong></p>\n",
    "\n",
    "<pre><strong>Input:</strong> <strong><em>s</em></strong> = \"ab\", <strong><em>t</em></strong> = \"acb\"\n",
    "<strong>Output:</strong> true\n",
    "<strong>Explanation:</strong> We can insert 'c' into <strong><em>s</em></strong>&nbsp;to get&nbsp;<strong><em>t.</em></strong>\n",
    "</pre>\n",
    "\n",
    "<p><strong>Example 2:</strong></p>\n",
    "\n",
    "<pre><strong>Input:</strong> <strong><em>s</em></strong> = \"cab\", <strong><em>t</em></strong> = \"ad\"\n",
    "<strong>Output:</strong> false\n",
    "<strong>Explanation:</strong> We cannot get <strong><em>t </em></strong>from <strong><em>s </em></strong>by only one step.</pre>\n",
    "\n",
    "<p><strong>Example 3:</strong></p>\n",
    "\n",
    "<pre><strong>Input:</strong> <strong><em>s</em></strong> = \"1203\", <strong><em>t</em></strong> = \"1213\"\n",
    "<strong>Output:</strong> true\n",
    "<strong>Explanation:</strong> We can replace '0' with '1' to get&nbsp;<strong><em>t.</em></strong></pre>\n",
    "</div>"
   ]
  },
  {
   "cell_type": "markdown",
   "metadata": {},
   "source": [
    "## Option 1\n",
    "<p>\n",
    "<li>A bit tricky:\n",
    "    <li>The insert, delete or replace can be at any position\n",
    "    <li>As you can insert or delete on s, it kind of becomes 2 ways\n",
    "    <li>See the following cases:, (teacher, teadcher) (dead,dea) (a,) (teacher, detacher)\n",
    "<p>\n",
    "    <p>\n",
    "Time complexity: O(n)\n",
    "<br>\n",
    "Space complexity: O(1)"
   ]
  },
  {
   "cell_type": "code",
   "execution_count": null,
   "metadata": {},
   "outputs": [],
   "source": [
    "class Solution(object):\n",
    "    def isOneEditDistance(self, s, t):\n",
    "        if s == t: return False\n",
    "        #REPLACE : If they are the same lenght, we can allow one replace, so get the sum\n",
    "        if len(s) == len(t):        \n",
    "            return sum(s[i] != t[i] for i in range(len(s))) <= 1\n",
    "        \n",
    "        #INSERT/DELETE If lengths are not the same, we can allow one insert or delete\n",
    "        #We would like to skip iteration for the lower lenght item\n",
    "        #The lower length item can either be s or t\n",
    "        #For instance, if s is lower, we can add to s. If s is higer we can delete from s! (so its king of 2 ways)\n",
    "        #To make it easier we can use a low and high\n",
    "        \n",
    "        low,high = (t,s) if len(s) > len(t) else (s,t)\n",
    "        j = count = 0\n",
    "        for i in range(len(high)):\n",
    "            #the lower length item can be blank, so ensure its within range\n",
    "            if j >= len(low) or high[i] != low[j]:\n",
    "                count += 1\n",
    "                if count > 1: return False\n",
    "                continue\n",
    "            j += 1\n",
    "        return True\n",
    "        \n",
    "Solution().isOneEditDistance(\"\",\"a\")"
   ]
  },
  {
   "cell_type": "markdown",
   "metadata": {},
   "source": [
    "#### Result: 24ms (31.19%)\n"
   ]
  }
 ],
 "metadata": {
  "kernelspec": {
   "display_name": "Python 2",
   "language": "python",
   "name": "python2"
  },
  "language_info": {
   "codemirror_mode": {
    "name": "ipython",
    "version": 2
   },
   "file_extension": ".py",
   "mimetype": "text/x-python",
   "name": "python",
   "nbconvert_exporter": "python",
   "pygments_lexer": "ipython2",
   "version": "2.7.16"
  }
 },
 "nbformat": 4,
 "nbformat_minor": 2
}
