{
 "cells": [
  {
   "cell_type": "markdown",
   "metadata": {},
   "source": [
    "# 161. One Edit Distance (Medium)"
   ]
  },
  {
   "cell_type": "markdown",
   "metadata": {},
   "source": [
    "<div><p>Given two strings <b><i>s</i></b>&nbsp;and <b><i>t</i></b>, determine if they are both one edit distance apart.</p>\n",
    "\n",
    "<p><strong>Note:</strong>&nbsp;</p>\n",
    "\n",
    "<p>There are 3 possiblities to satisify one edit distance apart:</p>\n",
    "\n",
    "<ol>\n",
    "\t<li>Insert a&nbsp;character into <strong><em>s</em></strong>&nbsp;to get&nbsp;<strong><em>t</em></strong></li>\n",
    "\t<li>Delete a&nbsp;character from&nbsp;<strong><em>s</em></strong>&nbsp;to get&nbsp;<strong><em>t</em></strong></li>\n",
    "\t<li>Replace a character of&nbsp;<strong><em>s</em></strong>&nbsp;to get&nbsp;<strong><em>t</em></strong></li>\n",
    "</ol>\n",
    "\n",
    "<p><strong>Example 1:</strong></p>\n",
    "\n",
    "<pre><strong>Input:</strong> <strong><em>s</em></strong> = \"ab\", <strong><em>t</em></strong> = \"acb\"\n",
    "<strong>Output:</strong> true\n",
    "<strong>Explanation:</strong> We can insert 'c' into <strong><em>s</em></strong>&nbsp;to get&nbsp;<strong><em>t.</em></strong>\n",
    "</pre>\n",
    "\n",
    "<p><strong>Example 2:</strong></p>\n",
    "\n",
    "<pre><strong>Input:</strong> <strong><em>s</em></strong> = \"cab\", <strong><em>t</em></strong> = \"ad\"\n",
    "<strong>Output:</strong> false\n",
    "<strong>Explanation:</strong> We cannot get <strong><em>t </em></strong>from <strong><em>s </em></strong>by only one step.</pre>\n",
    "\n",
    "<p><strong>Example 3:</strong></p>\n",
    "\n",
    "<pre><strong>Input:</strong> <strong><em>s</em></strong> = \"1203\", <strong><em>t</em></strong> = \"1213\"\n",
    "<strong>Output:</strong> true\n",
    "<strong>Explanation:</strong> We can replace '0' with '1' to get&nbsp;<strong><em>t.</em></strong></pre>\n",
    "</div>"
   ]
  },
  {
   "cell_type": "markdown",
   "metadata": {},
   "source": [
    "## Option 1\n",
    "<p>\n",
    "\n",
    "\n",
    "Time complexity: O(n)\n",
    "<br>\n",
    "Space complexity: O(1)"
   ]
  },
  {
   "cell_type": "code",
   "execution_count": null,
   "metadata": {},
   "outputs": [],
   "source": [
    "class Solution(object):\n",
    "    def isOneEditDistance(self, s, t):\n",
    "        if s == t: return False\n",
    "        ls, lt = len(s), len(t)\n",
    "        \n",
    "        if ls == lt:\n",
    "            return sum(s[i] != t[i] for i in range(ls)) == 1\n",
    "        elif min(ls,lt)+1 == max(ls,lt) :\n",
    "            low, high = (t,s) if len(s) > len(t) else (s,t)\n",
    "            j = 0\n",
    "            for i in range(len(high)):\n",
    "                if j < len(low) and low[j] == high[i]: \n",
    "                    j += 1\n",
    "            return j == len(low)\n",
    "        return False\n",
    "    \n",
    "Solution().isOneEditDistance(\"ca\", \"cab\")\n"
   ]
  },
  {
   "cell_type": "markdown",
   "metadata": {},
   "source": [
    "#### Result: 12ms (98.42%)\n"
   ]
  }
 ],
 "metadata": {
  "kernelspec": {
   "display_name": "Python 2",
   "language": "python",
   "name": "python2"
  },
  "language_info": {
   "codemirror_mode": {
    "name": "ipython",
    "version": 2
   },
   "file_extension": ".py",
   "mimetype": "text/x-python",
   "name": "python",
   "nbconvert_exporter": "python",
   "pygments_lexer": "ipython2",
   "version": "2.7.16"
  }
 },
 "nbformat": 4,
 "nbformat_minor": 2
}
