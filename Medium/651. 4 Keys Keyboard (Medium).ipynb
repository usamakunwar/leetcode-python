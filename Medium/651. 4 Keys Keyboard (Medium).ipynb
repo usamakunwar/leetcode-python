{
 "cells": [
  {
   "cell_type": "markdown",
   "metadata": {},
   "source": [
    "# 651. 4 Keys Keyboard (Medium)"
   ]
  },
  {
   "cell_type": "markdown",
   "metadata": {},
   "source": [
    "<div><p>Imagine you have a special keyboard with the following keys: </p>\n",
    "<p><code>Key 1: (A)</code>:  Print one 'A' on screen.</p>\n",
    "<p><code>Key 2: (Ctrl-A)</code>: Select the whole screen.</p>\n",
    "<p><code>Key 3: (Ctrl-C)</code>: Copy selection to buffer.</p>\n",
    "<p><code>Key 4: (Ctrl-V)</code>: Print buffer on screen appending it after what has already been printed. </p>\n",
    "\n",
    "\n",
    "\n",
    "<p>Now, you can only press the keyboard for <b>N</b> times (with the above four keys), find out the maximum numbers of 'A' you can print on screen.</p>\n",
    "\n",
    "\n",
    "<p><b>Example 1:</b><br>\n",
    "</p><pre><b>Input:</b> N = 3\n",
    "<b>Output:</b> 3\n",
    "<b>Explanation:</b> \n",
    "We can at most get 3 A's on screen by pressing following key sequence:\n",
    "A, A, A\n",
    "</pre>\n",
    "<p></p>\n",
    "\n",
    "<p><b>Example 2:</b><br>\n",
    "</p><pre><b>Input:</b> N = 7\n",
    "<b>Output:</b> 9\n",
    "<b>Explanation:</b> \n",
    "We can at most get 9 A's on screen by pressing following key sequence:\n",
    "A, A, A, Ctrl A, Ctrl C, Ctrl V, Ctrl V\n",
    "</pre>\n",
    "<p></p>\n",
    "\n",
    "<p><b>Note:</b><br>\n",
    "</p><ol>\n",
    "<li>1 &lt;= N &lt;= 50 </li>\n",
    "<li>Answers will be in the range of 32-bit signed integer.</li>\n",
    "</ol>\n",
    "<p></p>\n",
    "</div>"
   ]
  },
  {
   "cell_type": "markdown",
   "metadata": {},
   "source": [
    "## Option 1\n",
    "<p>\n",
    "   Top down (DFS)\n",
    "     <p>\n",
    "         <li>A brute force search with memoization can be an option\n",
    "         <li>At any given position we can do one of (1) Type A. (2) V or (3) SCV\n",
    "         <li>(1) and (2) can be joined, as we will always V if we have a buffer (only type A if there is no buffer)\n",
    "      <p>\n"
   ]
  },
  {
   "cell_type": "code",
   "execution_count": null,
   "metadata": {
    "scrolled": true
   },
   "outputs": [],
   "source": [
    "class Solution(object):\n",
    "    def maxA(self, N):\n",
    "        if N < 4: return N\n",
    "        \n",
    "        self.seen = {} #Store state\n",
    "        def search(n, curr, buff):\n",
    "            if (n,buff,curr) in self.seen: \n",
    "                return self.seen[(n,buff,curr)]\n",
    "            if n == N:\n",
    "                return curr\n",
    "            res = search(n+1, curr+(buff if buff else 1), buff) #(1) and (2)\n",
    "            if n+3 <= N: #(3) only occurs if we have space\n",
    "                res = max(res,search(n+3, curr*2, curr)) #(3)\n",
    "                \n",
    "            self.seen[(n,buff,curr)] = res\n",
    "            return res\n",
    "        \n",
    "        return search(3,3,0)\n",
    "        \n",
    "        \n",
    "        \n",
    "Solution().maxA(30)\n",
    "        "
   ]
  },
  {
   "cell_type": "markdown",
   "metadata": {},
   "source": [
    "#### Result: 636ms (6.00%)"
   ]
  }
 ],
 "metadata": {
  "kernelspec": {
   "display_name": "Python 2",
   "language": "python",
   "name": "python2"
  },
  "language_info": {
   "codemirror_mode": {
    "name": "ipython",
    "version": 2
   },
   "file_extension": ".py",
   "mimetype": "text/x-python",
   "name": "python",
   "nbconvert_exporter": "python",
   "pygments_lexer": "ipython2",
   "version": "2.7.16"
  }
 },
 "nbformat": 4,
 "nbformat_minor": 2
}
