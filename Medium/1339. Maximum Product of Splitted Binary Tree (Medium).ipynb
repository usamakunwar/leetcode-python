{
 "cells": [
  {
   "cell_type": "markdown",
   "metadata": {},
   "source": [
    "# 1339. Maximum Product of Splitted Binary Tree (Medium)"
   ]
  },
  {
   "cell_type": "markdown",
   "metadata": {},
   "source": [
    "<div><p>Given a binary tree <code>root</code>.&nbsp;Split the binary tree into two subtrees by removing&nbsp;1 edge such that the product of the sums of the subtrees are maximized.</p>\n",
    "\n",
    "<p>Since the answer&nbsp;may be too large,&nbsp;return it modulo&nbsp;10^9 + 7.</p>\n",
    "\n",
    "<p>&nbsp;</p>\n",
    "<p><strong>Example 1:</strong></p>\n",
    "\n",
    "<p><strong><img alt=\"\" src=\"https://assets.leetcode.com/uploads/2020/01/21/sample_1_1699.png\" style=\"width: 495px; height: 200px;\"></strong></p>\n",
    "\n",
    "<pre><strong>Input:</strong> root = [1,2,3,4,5,6]\n",
    "<strong>Output:</strong> 110\n",
    "<strong>Explanation:</strong> Remove the red edge and get 2 binary trees with sum 11 and 10. Their product is 110 (11*10)\n",
    "</pre>\n",
    "\n",
    "<p><strong>Example 2:</strong></p>\n",
    "\n",
    "<p><img alt=\"\" src=\"https://assets.leetcode.com/uploads/2020/01/21/sample_2_1699.png\" style=\"width: 495px; height: 200px;\"></p>\n",
    "\n",
    "<pre><strong>Input:</strong> root = [1,null,2,3,4,null,null,5,6]\n",
    "<strong>Output:</strong> 90\n",
    "<strong>Explanation:</strong>  Remove the red edge and get 2 binary trees with sum 15 and 6.Their product is 90 (15*6)\n",
    "</pre>\n",
    "\n",
    "<p><strong>Example 3:</strong></p>\n",
    "\n",
    "<pre><strong>Input:</strong> root = [2,3,9,10,7,8,6,5,4,11,1]\n",
    "<strong>Output:</strong> 1025\n",
    "</pre>\n",
    "\n",
    "<p><strong>Example 4:</strong></p>\n",
    "\n",
    "<pre><strong>Input:</strong> root = [1,1]\n",
    "<strong>Output:</strong> 1\n",
    "</pre>\n",
    "\n",
    "<p>&nbsp;</p>\n",
    "<p><strong>Constraints:</strong></p>\n",
    "\n",
    "<ul>\n",
    "\t<li>Each tree has at most <code>50000</code> nodes and at least <code>2</code> nodes.</li>\n",
    "\t<li>Each node's value is between <code>[1, 10000]</code>.</li>\n",
    "</ul></div>"
   ]
  },
  {
   "cell_type": "markdown",
   "metadata": {},
   "source": [
    "## Option 1\n",
    " <p>    \n",
    "    Two pass\n",
    "<p>\n",
    "\n",
    "<p>\n",
    "            \n",
    "Time complexity: O(n)\n",
    "    <br>\n",
    "Space complexity: O(n)\n",
    "        \n"
   ]
  },
  {
   "cell_type": "code",
   "execution_count": null,
   "metadata": {},
   "outputs": [],
   "source": [
    "class Solution(object):\n",
    "    def maxProduct(self, root):\n",
    "        def getsum(node):\n",
    "            return node.val + getsum(node.left) + getsum(node.right) if node else 0        \n",
    "        self.total = getsum(root)\n",
    "        \n",
    "        self.res = 1\n",
    "        def search(node):\n",
    "            left = search(node.left) if node.left else 0\n",
    "            right = search(node.right) if node.right else 0\n",
    "            self.res = max(self.res, left*(self.total-left), right*(self.total-right))\n",
    "            return left + right + node.val\n",
    "            \n",
    "        search(root)\n",
    "        \n",
    "        return self.res%(10**9+7)"
   ]
  },
  {
   "cell_type": "markdown",
   "metadata": {},
   "source": [
    "#### Result:  692ms (12.68%)"
   ]
  }
 ],
 "metadata": {
  "kernelspec": {
   "display_name": "Python 2",
   "language": "python",
   "name": "python2"
  },
  "language_info": {
   "codemirror_mode": {
    "name": "ipython",
    "version": 2
   },
   "file_extension": ".py",
   "mimetype": "text/x-python",
   "name": "python",
   "nbconvert_exporter": "python",
   "pygments_lexer": "ipython2",
   "version": "2.7.16"
  }
 },
 "nbformat": 4,
 "nbformat_minor": 2
}
