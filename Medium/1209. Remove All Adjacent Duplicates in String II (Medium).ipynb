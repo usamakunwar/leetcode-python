{
 "cells": [
  {
   "cell_type": "markdown",
   "metadata": {},
   "source": [
    "# 1209. Remove All Adjacent Duplicates in String II (Medium)\n"
   ]
  },
  {
   "cell_type": "markdown",
   "metadata": {},
   "source": [
    "<div><p>Given a string&nbsp;<code>s</code>, a <em>k</em>&nbsp;<em>duplicate removal</em>&nbsp;consists of choosing <code>k</code>&nbsp;adjacent and equal letters from&nbsp;<code>s</code> and removing&nbsp;them causing the left and the right side of the deleted substring to concatenate together.</p>\n",
    "\n",
    "<p>We repeatedly make <code>k</code> duplicate removals on <code>s</code> until we no longer can.</p>\n",
    "\n",
    "<p>Return the final string after all such duplicate removals have been made.</p>\n",
    "\n",
    "<p>It is guaranteed that the answer is unique.</p>\n",
    "\n",
    "<p>&nbsp;</p>\n",
    "<p><strong>Example 1:</strong></p>\n",
    "\n",
    "<pre><strong>Input:</strong> s = \"abcd\", k = 2\n",
    "<strong>Output:</strong> \"abcd\"\n",
    "<strong>Explanation: </strong>There's nothing to delete.</pre>\n",
    "\n",
    "<p><strong>Example 2:</strong></p>\n",
    "\n",
    "<pre><strong>Input:</strong> s = \"deeedbbcccbdaa\", k = 3\n",
    "<strong>Output:</strong> \"aa\"\n",
    "<strong>Explanation: \n",
    "</strong>First delete \"eee\" and \"ccc\", get \"ddbbbdaa\"\n",
    "Then delete \"bbb\", get \"dddaa\"\n",
    "Finally delete \"ddd\", get \"aa\"</pre>\n",
    "\n",
    "<p><strong>Example 3:</strong></p>\n",
    "\n",
    "<pre><strong>Input:</strong> s = \"pbbcggttciiippooaais\", k = 2\n",
    "<strong>Output:</strong> \"ps\"\n",
    "</pre>\n",
    "\n",
    "<p>&nbsp;</p>\n",
    "<p><strong>Constraints:</strong></p>\n",
    "\n",
    "<ul>\n",
    "\t<li><code>1 &lt;= s.length &lt;= 10^5</code></li>\n",
    "\t<li><code>2 &lt;= k &lt;= 10^4</code></li>\n",
    "\t<li><code>s</code> only contains lower case English letters.</li>\n",
    "</ul>\n",
    "</div>"
   ]
  },
  {
   "cell_type": "markdown",
   "metadata": {},
   "source": [
    "## Option 1\n",
    "\n",
    "Time complexity: O(n)\n",
    "<br>\n",
    "Space complexity: O(n)\n"
   ]
  },
  {
   "cell_type": "code",
   "execution_count": null,
   "metadata": {
    "scrolled": false
   },
   "outputs": [],
   "source": [
    "import collections\n",
    "class Solution(object):\n",
    "    def removeDuplicates(self, s, k):\n",
    "        stack = []\n",
    "        for i in s:\n",
    "            if stack and stack[-1][0] == i:\n",
    "                stack[-1] = (stack[-1][0],stack[-1][1]+1)\n",
    "            else:\n",
    "                stack.append((i,1))\n",
    "            if stack[-1][1] == k: stack.pop()\n",
    "        return ''.join(map(lambda x:x[0]*x[1],stack))\n",
    "                \n",
    "Solution().removeDuplicates('pbbcggttciiippooaais',2)"
   ]
  },
  {
   "cell_type": "markdown",
   "metadata": {},
   "source": [
    "#### Result: 60ms (73.29%)"
   ]
  }
 ],
 "metadata": {
  "kernelspec": {
   "display_name": "Python 2",
   "language": "python",
   "name": "python2"
  },
  "language_info": {
   "codemirror_mode": {
    "name": "ipython",
    "version": 2
   },
   "file_extension": ".py",
   "mimetype": "text/x-python",
   "name": "python",
   "nbconvert_exporter": "python",
   "pygments_lexer": "ipython2",
   "version": "2.7.16"
  }
 },
 "nbformat": 4,
 "nbformat_minor": 2
}
