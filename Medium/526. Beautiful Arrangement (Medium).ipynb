{
 "cells": [
  {
   "cell_type": "markdown",
   "metadata": {},
   "source": [
    "# 526. Beautiful Arrangement (Medium)"
   ]
  },
  {
   "cell_type": "markdown",
   "metadata": {},
   "source": [
    "<div><p>Suppose you have <b>N</b> integers from 1 to N. We define a beautiful arrangement as an array that is constructed by these <b>N</b> numbers successfully if one of the following is true for the i<sub>th</sub> position (1 &lt;= i &lt;= N) in this array:</p>\n",
    "\n",
    "<ol>\n",
    "\t<li>The number at the i<sub>th</sub> position is divisible by <b>i</b>.</li>\n",
    "\t<li><b>i</b> is divisible by the number at the i<sub>th</sub> position.</li>\n",
    "</ol>\n",
    "\n",
    "<p>&nbsp;</p>\n",
    "\n",
    "<p>Now given N, how many beautiful arrangements can you construct?</p>\n",
    "\n",
    "<p><b>Example 1:</b></p>\n",
    "\n",
    "<pre><b>Input:</b> 2\n",
    "<b>Output:</b> 2\n",
    "<b>Explanation:</b> \n",
    "\n",
    "The first beautiful arrangement is [1, 2]:\n",
    "\n",
    "Number at the 1st position (i=1) is 1, and 1 is divisible by i (i=1).\n",
    "\n",
    "Number at the 2nd position (i=2) is 2, and 2 is divisible by i (i=2).\n",
    "\n",
    "The second beautiful arrangement is [2, 1]:\n",
    "\n",
    "Number at the 1st position (i=1) is 2, and 2 is divisible by i (i=1).\n",
    "\n",
    "Number at the 2nd position (i=2) is 1, and i (i=2) is divisible by 1.\n",
    "</pre>\n",
    "\n",
    "<p>&nbsp;</p>\n",
    "\n",
    "<p><b>Note:</b></p>\n",
    "\n",
    "<ol>\n",
    "\t<li><b>N</b> is a positive integer and will not exceed 15.</li>\n",
    "</ol>\n",
    "\n",
    "<p>&nbsp;</p>\n",
    "</div>"
   ]
  },
  {
   "cell_type": "markdown",
   "metadata": {},
   "source": [
    "## Option 1\n",
    "<p>\n",
    "    DFS + Backtrack\n",
    "    \n"
   ]
  },
  {
   "cell_type": "code",
   "execution_count": null,
   "metadata": {
    "scrolled": true
   },
   "outputs": [],
   "source": [
    "class Solution(object):\n",
    "    def countArrangement(self, N):\n",
    "        def search(lev, arr):\n",
    "            if not arr:  return 1\n",
    "            res = 0\n",
    "            for i in range(len(arr)):\n",
    "                if arr[i]%lev == 0 or lev%arr[i] == 0:\n",
    "                    res += search(lev+1, arr[:i]+arr[i+1:])\n",
    "            return res\n",
    "            \n",
    "        return search(1,[i for i in range(1,N+1)])\n",
    "\n",
    "Solution().countArrangement(10)"
   ]
  },
  {
   "cell_type": "markdown",
   "metadata": {},
   "source": [
    "#### Result: 1140ms (61.86%)"
   ]
  }
 ],
 "metadata": {
  "kernelspec": {
   "display_name": "Python 2",
   "language": "python",
   "name": "python2"
  },
  "language_info": {
   "codemirror_mode": {
    "name": "ipython",
    "version": 2
   },
   "file_extension": ".py",
   "mimetype": "text/x-python",
   "name": "python",
   "nbconvert_exporter": "python",
   "pygments_lexer": "ipython2",
   "version": "2.7.16"
  }
 },
 "nbformat": 4,
 "nbformat_minor": 2
}
