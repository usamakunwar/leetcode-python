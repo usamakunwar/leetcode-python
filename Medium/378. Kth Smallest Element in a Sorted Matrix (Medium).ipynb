{
 "cells": [
  {
   "cell_type": "markdown",
   "metadata": {},
   "source": [
    "# 378. Kth Smallest Element in a Sorted Matrix (Medium)\n"
   ]
  },
  {
   "cell_type": "markdown",
   "metadata": {},
   "source": [
    "<div><p>Given a <i>n</i> x <i>n</i> matrix where each of the rows and columns are sorted in ascending order, find the kth smallest element in the matrix.</p>\n",
    "\n",
    "<p>\n",
    "Note that it is the kth smallest element in the sorted order, not the kth distinct element.\n",
    "</p>\n",
    "\n",
    "<p><b>Example:</b>\n",
    "</p><pre>matrix = [\n",
    "   [ 1,  5,  9],\n",
    "   [10, 11, 13],\n",
    "   [12, 13, 15]\n",
    "],\n",
    "k = 8,\n",
    "\n",
    "return 13.\n",
    "</pre>\n",
    "<p></p>\n",
    "\n",
    "<p><b>Note: </b><br>\n",
    "You may assume k is always valid, 1 ≤ k ≤ n<sup>2</sup>.</p></div>"
   ]
  },
  {
   "cell_type": "markdown",
   "metadata": {},
   "source": [
    "## Option 1\n",
    "<p>\n",
    "    Priority Queue\n",
    "    <p>\n",
    "Time complexity: O(klogn)\n",
    "<br>\n",
    "Space complexity: O(n)"
   ]
  },
  {
   "cell_type": "code",
   "execution_count": null,
   "metadata": {
    "scrolled": true
   },
   "outputs": [],
   "source": [
    "import heapq\n",
    "class Solution(object):\n",
    "    def kthSmallest(self, matrix, k):\n",
    "        n,m = len(matrix), len(matrix[0])\n",
    "        \n",
    "        h = [(matrix[0][0],0,0)]\n",
    "        seen = set()\n",
    "        \n",
    "        while h:\n",
    "            val,i,j = heapq.heappop(h)\n",
    "            k -= 1\n",
    "            if not k : return val\n",
    "            \n",
    "            if i+1 < n and (i+1,j) not in seen: \n",
    "                seen.add((i+1,j))\n",
    "                heapq.heappush(h,(matrix[i+1][j],i+1,j))\n",
    "            if j+1 < m and (i,j+1) not in seen: \n",
    "                seen.add((i,j+1))\n",
    "                heapq.heappush(h,(matrix[i][j+1],i,j+1))\n",
    "                                "
   ]
  },
  {
   "cell_type": "markdown",
   "metadata": {},
   "source": [
    "#### Result: 252ms (45.23%)"
   ]
  }
 ],
 "metadata": {
  "kernelspec": {
   "display_name": "Python 2",
   "language": "python",
   "name": "python2"
  },
  "language_info": {
   "codemirror_mode": {
    "name": "ipython",
    "version": 2
   },
   "file_extension": ".py",
   "mimetype": "text/x-python",
   "name": "python",
   "nbconvert_exporter": "python",
   "pygments_lexer": "ipython2",
   "version": "2.7.16"
  }
 },
 "nbformat": 4,
 "nbformat_minor": 2
}
