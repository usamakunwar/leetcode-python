{
 "cells": [
  {
   "cell_type": "markdown",
   "metadata": {},
   "source": [
    "# 416. Partition Equal Subset Sum (Medium)"
   ]
  },
  {
   "cell_type": "markdown",
   "metadata": {},
   "source": [
    "<div><p>Given a <b>non-empty</b> array containing <b>only positive integers</b>, find if the array can be partitioned into two subsets such that the sum of elements in both subsets is equal.</p>\n",
    "\n",
    "<p><b>Note:</b></p>\n",
    "\n",
    "<ol>\n",
    "\t<li>Each of the array element will not exceed 100.</li>\n",
    "\t<li>The array size will not exceed 200.</li>\n",
    "</ol>\n",
    "\n",
    "<p>&nbsp;</p>\n",
    "\n",
    "<p><b>Example 1:</b></p>\n",
    "\n",
    "<pre>Input: [1, 5, 11, 5]\n",
    "\n",
    "Output: true\n",
    "\n",
    "Explanation: The array can be partitioned as [1, 5, 5] and [11].\n",
    "</pre>\n",
    "\n",
    "<p>&nbsp;</p>\n",
    "\n",
    "<p><b>Example 2:</b></p>\n",
    "\n",
    "<pre>Input: [1, 2, 3, 5]\n",
    "\n",
    "Output: false\n",
    "\n",
    "Explanation: The array cannot be partitioned into equal sum subsets.\n",
    "</pre>\n",
    "\n",
    "<p>&nbsp;</p>\n",
    "</div>"
   ]
  },
  {
   "cell_type": "markdown",
   "metadata": {},
   "source": [
    "## Option 1\n",
    "\n",
    "<p>\n",
    "    DP\n",
    "    <p>\n",
    "    <li>In order to have an equal sum split, each split must be half the total sum. \n",
    "    <li>If we find 1 subsequence which sums to half total sum, that means the other one must have the same sum\n",
    "   <p>\n",
    "       <p>\n",
    "           \n",
    "Time complexity: O(n^2)\n",
    "    <br>\n",
    "Space complexity: O(n^2)\n"
   ]
  },
  {
   "cell_type": "code",
   "execution_count": null,
   "metadata": {},
   "outputs": [],
   "source": [
    "class Solution(object):\n",
    "    def canPartition(self, nums):\n",
    "        total = sum(nums)\n",
    "        if total%2: return False\n",
    "        target = total/2\n",
    "        \n",
    "        dp = {0}\n",
    "        for n in nums:\n",
    "            dp.update({m+n for m in dp})\n",
    "            if target in dp: return True\n",
    "            \n",
    "        return False\n",
    "\n",
    "Solution().canPartition([1,4,5,6,8])\n",
    "    "
   ]
  },
  {
   "cell_type": "markdown",
   "metadata": {},
   "source": [
    "#### Result: 324ms (73.95%)"
   ]
  }
 ],
 "metadata": {
  "kernelspec": {
   "display_name": "Python 2",
   "language": "python",
   "name": "python2"
  },
  "language_info": {
   "codemirror_mode": {
    "name": "ipython",
    "version": 2
   },
   "file_extension": ".py",
   "mimetype": "text/x-python",
   "name": "python",
   "nbconvert_exporter": "python",
   "pygments_lexer": "ipython2",
   "version": "2.7.16"
  }
 },
 "nbformat": 4,
 "nbformat_minor": 2
}
