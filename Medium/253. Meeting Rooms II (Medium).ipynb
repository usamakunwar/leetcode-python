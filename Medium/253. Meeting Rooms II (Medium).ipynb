{
 "cells": [
  {
   "cell_type": "markdown",
   "metadata": {},
   "source": [
    "# 253. Meeting Rooms II\n"
   ]
  },
  {
   "cell_type": "markdown",
   "metadata": {},
   "source": [
    "<div><p>Given an array of meeting time intervals consisting of start and end times <code>[[s1,e1],[s2,e2],...]</code> (s<sub>i</sub> &lt; e<sub>i</sub>), find the minimum number of conference rooms required.</p>\n",
    "\n",
    "<p><strong>Example 1:</strong></p>\n",
    "\n",
    "<pre><strong>Input:</strong> <code>[[0, 30],[5, 10],[15, 20]]</code>\n",
    "<strong>Output:</strong> 2</pre>\n",
    "\n",
    "<p><b>Example 2:</b></p>\n",
    "\n",
    "<pre><b>Input:</b> [[7,10],[2,4]]\n",
    "<b>Output:</b> 1</pre>\n",
    "\n",
    "<p><strong>NOTE:</strong>&nbsp;input types have been changed on April 15, 2019. Please reset to default code definition to get new method signature.</p>\n",
    "</div>"
   ]
  },
  {
   "cell_type": "markdown",
   "metadata": {},
   "source": [
    "## Option 1\n",
    "\n",
    "<br>\n",
    "Time complexity O(nm*log(m)) n = len(intervals) m = number of rooms\n",
    "<br>\n",
    "Space complexity O(n)"
   ]
  },
  {
   "cell_type": "code",
   "execution_count": null,
   "metadata": {
    "scrolled": false
   },
   "outputs": [],
   "source": [
    "class Solution:\n",
    "    def minMeetingRooms(self, intervals: [[int]]) -> int:\n",
    "        rooms = []\n",
    "        intervals.sort(key=lambda x: x[0])\n",
    "        \n",
    "        for x,y in intervals:\n",
    "            idx = None\n",
    "            for key,val in enumerate(rooms):\n",
    "                if x >= val:\n",
    "                    idx = key\n",
    "                    break\n",
    "                    \n",
    "            if idx is None:\n",
    "                rooms.append(y)\n",
    "            else:\n",
    "                rooms[idx] = y            \n",
    "            rooms.sort()\n",
    "                \n",
    "        return len(rooms)      \n",
    "           \n",
    "Solution().minMeetingRooms([[1,5],[8,9],[8,9]])"
   ]
  },
  {
   "cell_type": "markdown",
   "metadata": {},
   "source": [
    "#### Runtime: 80ms (83.96%)"
   ]
  },
  {
   "cell_type": "markdown",
   "metadata": {},
   "source": [
    "## Option 2\n",
    "<p>\n",
    "    Priority Queue\n",
    "    <p> \n",
    "<p>\n",
    "    <p>\n",
    "Time complexity: O(nlogn)\n",
    "    <br>\n",
    "Space complexity: O(n)"
   ]
  },
  {
   "cell_type": "code",
   "execution_count": null,
   "metadata": {},
   "outputs": [],
   "source": [
    "class Solution(object):\n",
    "    def minMeetingRooms(self, intervals):\n",
    "        intervals.sort()\n",
    "        h = []\n",
    "        \n",
    "        for s,e in intervals:\n",
    "            if h and h[0] <= s:\n",
    "                heapq.heappop(h)\n",
    "            heapq.heappush(h,e)\n",
    "        \n",
    "        return len(h)\n",
    "        \n",
    "\n",
    "Solution().minMeetingRooms([[7,10],[2,4]])\n"
   ]
  },
  {
   "cell_type": "markdown",
   "metadata": {},
   "source": [
    "#### Runtime: 64ms (77.55%)"
   ]
  }
 ],
 "metadata": {
  "kernelspec": {
   "display_name": "Python 2",
   "language": "python",
   "name": "python2"
  },
  "language_info": {
   "codemirror_mode": {
    "name": "ipython",
    "version": 2
   },
   "file_extension": ".py",
   "mimetype": "text/x-python",
   "name": "python",
   "nbconvert_exporter": "python",
   "pygments_lexer": "ipython2",
   "version": "2.7.16"
  }
 },
 "nbformat": 4,
 "nbformat_minor": 2
}
