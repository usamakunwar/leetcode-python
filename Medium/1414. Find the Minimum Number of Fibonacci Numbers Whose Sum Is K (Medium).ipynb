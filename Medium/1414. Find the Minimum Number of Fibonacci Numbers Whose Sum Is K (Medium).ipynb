{
 "cells": [
  {
   "cell_type": "markdown",
   "metadata": {},
   "source": [
    "# 1414. Find the Minimum Number of Fibonacci Numbers Whose Sum Is K (Medium)"
   ]
  },
  {
   "cell_type": "markdown",
   "metadata": {},
   "source": [
    "<div><p>Given an integer&nbsp;<code>k</code>, <em>return the minimum number of Fibonacci numbers whose sum is equal to </em><code>k</code>. The same Fibonacci number can be used multiple times.</p>\n",
    "\n",
    "<p>The Fibonacci numbers are defined as:</p>\n",
    "\n",
    "<ul>\n",
    "\t<li><code>F<sub>1</sub> = 1</code></li>\n",
    "\t<li><code>F<sub>2</sub> = 1</code></li>\n",
    "\t<li><code>F<sub>n</sub> = F<sub>n-1</sub> + F<sub>n-2</sub></code> for <code>n &gt; 2.</code></li>\n",
    "</ul>\n",
    "It is guaranteed that for the given constraints we can always find such Fibonacci numbers that sum up to <code>k</code>.\n",
    "<p>&nbsp;</p>\n",
    "<p><strong>Example 1:</strong></p>\n",
    "\n",
    "<pre><strong>Input:</strong> k = 7\n",
    "<strong>Output:</strong> 2 \n",
    "<strong>Explanation:</strong> The Fibonacci numbers are: 1, 1, 2, 3, 5, 8, 13, ... \n",
    "For k = 7 we can use 2 + 5 = 7.</pre>\n",
    "\n",
    "<p><strong>Example 2:</strong></p>\n",
    "\n",
    "<pre><strong>Input:</strong> k = 10\n",
    "<strong>Output:</strong> 2 \n",
    "<strong>Explanation:</strong> For k = 10 we can use 2 + 8 = 10.\n",
    "</pre>\n",
    "\n",
    "<p><strong>Example 3:</strong></p>\n",
    "\n",
    "<pre><strong>Input:</strong> k = 19\n",
    "<strong>Output:</strong> 3 \n",
    "<strong>Explanation:</strong> For k = 19 we can use 1 + 5 + 13 = 19.\n",
    "</pre>\n",
    "\n",
    "<p>&nbsp;</p>\n",
    "<p><strong>Constraints:</strong></p>\n",
    "\n",
    "<ul>\n",
    "\t<li><code>1 &lt;= k &lt;= 10^9</code></li>\n",
    "</ul>\n",
    "</div>"
   ]
  },
  {
   "cell_type": "markdown",
   "metadata": {},
   "source": [
    "## Option 1\n",
    " <p>    \n",
    "Given they are Fibonnacci numbers, we will never need to use them more than once. Also the below can be done without an array and 2 variables, when going back, minus the values to reverse fibonnaci \n",
    "<p>\n",
    "\n",
    "<p>\n",
    "            \n",
    "Time complexity: O(logn)\n",
    "    <br>\n",
    "Space complexity: O(logn)\n",
    "        \n"
   ]
  },
  {
   "cell_type": "code",
   "execution_count": null,
   "metadata": {
    "scrolled": true
   },
   "outputs": [],
   "source": [
    "class Solution(object):\n",
    "    def findMinFibonacciNumbers(self, k):                \n",
    "        dp = [1,1]\n",
    "        \n",
    "        while True:\n",
    "            if dp[-1]+dp[-2] <= k:\n",
    "                dp.append(dp[-1]+dp[-2])\n",
    "            else: break\n",
    "        \n",
    "        res = 0\n",
    "        \n",
    "        while k > 0:\n",
    "            val = dp.pop()\n",
    "            if val <= k:\n",
    "                k -= val  \n",
    "                res += 1\n",
    "                \n",
    "        return res\n",
    "        \n",
    "        \n",
    "Solution().findMinFibonacciNumbers(12)\n"
   ]
  },
  {
   "cell_type": "markdown",
   "metadata": {},
   "source": [
    "#### Result: 16ms (94.55%)"
   ]
  }
 ],
 "metadata": {
  "kernelspec": {
   "display_name": "Python 2",
   "language": "python",
   "name": "python2"
  },
  "language_info": {
   "codemirror_mode": {
    "name": "ipython",
    "version": 2
   },
   "file_extension": ".py",
   "mimetype": "text/x-python",
   "name": "python",
   "nbconvert_exporter": "python",
   "pygments_lexer": "ipython2",
   "version": "2.7.16"
  }
 },
 "nbformat": 4,
 "nbformat_minor": 2
}
