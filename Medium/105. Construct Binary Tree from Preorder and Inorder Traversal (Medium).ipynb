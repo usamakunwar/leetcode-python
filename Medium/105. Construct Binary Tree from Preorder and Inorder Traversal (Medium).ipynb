{
 "cells": [
  {
   "cell_type": "markdown",
   "metadata": {},
   "source": [
    "# 105. Construct Binary Tree from Preorder and Inorder Traversal (Medium)"
   ]
  },
  {
   "cell_type": "markdown",
   "metadata": {},
   "source": [
    "<div><p>Given preorder and inorder traversal of a tree, construct the binary tree.</p>\n",
    "\n",
    "<p><strong>Note:</strong><br>\n",
    "You may assume that duplicates do not exist in the tree.</p>\n",
    "\n",
    "<p>For example, given</p>\n",
    "\n",
    "<pre>preorder =&nbsp;[3,9,20,15,7]\n",
    "inorder = [9,3,15,20,7]</pre>\n",
    "\n",
    "<p>Return the following binary tree:</p>\n",
    "\n",
    "<pre>    3\n",
    "   / \\\n",
    "  9  20\n",
    "    /  \\\n",
    "   15   7</pre>\n",
    "</div>"
   ]
  },
  {
   "cell_type": "markdown",
   "metadata": {},
   "source": [
    "## Option 1\n",
    "\n",
    "Recursive\n",
    "<p>\n",
    "<br>\n",
    "Time complexity = O(n)\n",
    "<br>\n",
    "Space complexity = O(n)"
   ]
  },
  {
   "cell_type": "code",
   "execution_count": null,
   "metadata": {
    "scrolled": false
   },
   "outputs": [],
   "source": [
    "class Solution:\n",
    "    def buildTree(self, preorder: List[int], inorder: List[int]) -> TreeNode:\n",
    "        inorder_map = {v:i for i,v in enumerate(inorder)}\n",
    "        preorder = preorder[::-1]\n",
    "        \n",
    "        def check(l,r):\n",
    "            if l > r: return None\n",
    "            val = preorder.pop()\n",
    "            i = inorder_map[val]\n",
    "            node = TreeNode(val)\n",
    "            node.left = check(l,i-1)\n",
    "            node.right = check(i+1,r)\n",
    "            return node\n",
    "\n",
    "        return check(0,len(inorder)-1)"
   ]
  },
  {
   "cell_type": "markdown",
   "metadata": {},
   "source": [
    "#### Result:  52ms (91.32%)"
   ]
  },
  {
   "cell_type": "markdown",
   "metadata": {},
   "source": [
    "## Option 2\n",
    "\n",
    "Recursive without reverse\n",
    "<p>\n",
    "Time complexity = O(n)\n",
    "<br>\n",
    "Space complexity = O(n)"
   ]
  },
  {
   "cell_type": "code",
   "execution_count": null,
   "metadata": {},
   "outputs": [],
   "source": [
    "class Solution(object):\n",
    "    def buildTree(self, preorder, inorder):\n",
    "        \n",
    "        in_map = {v:i for i,v in enumerate(inorder)}\n",
    "        self.i = 0\n",
    "        \n",
    "        def search(l,r):\n",
    "            if l > r: return None\n",
    "            val = preorder[self.i]\n",
    "            node = TreeNode(val)\n",
    "            self.i += 1\n",
    "            \n",
    "            node.left = search(l, in_map[val]-1)\n",
    "            node.right = search(in_map[val]+1, r)\n",
    "            return node\n",
    "            \n",
    "        return search(0, len(preorder)-1) if preorder else None"
   ]
  },
  {
   "cell_type": "markdown",
   "metadata": {},
   "source": [
    "#### Result:  48ms (88.28%)"
   ]
  }
 ],
 "metadata": {
  "kernelspec": {
   "display_name": "Python 2",
   "language": "python",
   "name": "python2"
  },
  "language_info": {
   "codemirror_mode": {
    "name": "ipython",
    "version": 2
   },
   "file_extension": ".py",
   "mimetype": "text/x-python",
   "name": "python",
   "nbconvert_exporter": "python",
   "pygments_lexer": "ipython2",
   "version": "2.7.16"
  }
 },
 "nbformat": 4,
 "nbformat_minor": 2
}
