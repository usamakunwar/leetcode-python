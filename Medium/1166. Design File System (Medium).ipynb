{
 "cells": [
  {
   "cell_type": "markdown",
   "metadata": {},
   "source": [
    "# 981. Time Based Key-Value Store (Medium)"
   ]
  },
  {
   "cell_type": "markdown",
   "metadata": {},
   "source": [
    "<div><p>You are asked to design a file system&nbsp;which provides two functions:</p>\n",
    "\n",
    "<ul>\n",
    "\t<li><strong>createPath(path, value):</strong>&nbsp;Creates a new path and associates a value to it if possible and returns <code>True</code>.&nbsp;Returns <code>False</code>&nbsp;if the path already exists or its parent path doesn't exist.</li>\n",
    "\t<li><strong>get(path):</strong>&nbsp;Returns the value associated with a path or returns&nbsp;<code>-1</code>&nbsp;if the path doesn't exist.</li>\n",
    "</ul>\n",
    "\n",
    "<p>The format of a path is&nbsp;one or more concatenated strings of the form:&nbsp;<code>/</code> followed by one or more lowercase English letters. For example, <code>/leetcode</code>&nbsp;and <code>/leetcode/problems</code>&nbsp;are valid paths while an empty string and <code>/</code>&nbsp;are not.</p>\n",
    "\n",
    "<p>Implement the two functions.</p>\n",
    "\n",
    "<p>Please refer to the examples for clarifications.</p>\n",
    "\n",
    "<p>&nbsp;</p>\n",
    "<p><strong>Example 1:</strong></p>\n",
    "\n",
    "<pre><strong>Input:</strong> \n",
    "[\"FileSystem\",\"createPath\",\"get\"]\n",
    "[[],[\"/a\",1],[\"/a\"]]\n",
    "<strong>Output:</strong> \n",
    "[null,true,1]\n",
    "<strong>Explanation:</strong> \n",
    "FileSystem fileSystem = new FileSystem();\n",
    "\n",
    "fileSystem.createPath(\"/a\", 1); // return true\n",
    "fileSystem.get(\"/a\"); // return 1\n",
    "</pre>\n",
    "\n",
    "<p><strong>Example 2:</strong></p>\n",
    "\n",
    "<pre><strong>Input:</strong> \n",
    "[\"FileSystem\",\"createPath\",\"createPath\",\"get\",\"createPath\",\"get\"]\n",
    "[[],[\"/leet\",1],[\"/leet/code\",2],[\"/leet/code\"],[\"/c/d\",1],[\"/c\"]]\n",
    "<strong>Output:</strong> \n",
    "[null,true,true,2,false,-1]\n",
    "<strong>Explanation:</strong> \n",
    "FileSystem fileSystem = new FileSystem();\n",
    "\n",
    "fileSystem.createPath(\"/leet\", 1); // return true\n",
    "fileSystem.createPath(\"/leet/code\", 2); // return true\n",
    "fileSystem.get(\"/leet/code\"); // return 2\n",
    "fileSystem.createPath(\"/c/d\", 1); // return false because the parent path \"/c\" doesn't exist.\n",
    "fileSystem.get(\"/c\"); // return -1 because this path doesn't exist.\n",
    "</pre>\n",
    "\n",
    "<p>&nbsp;</p>\n",
    "<p><strong>Constraints:</strong></p>\n",
    "\n",
    "<ul>\n",
    "\t<li>The number of&nbsp;calls to the two functions&nbsp;is less than or equal to <code>10^4</code> in total.</li>\n",
    "\t<li><code>2 &lt;= path.length &lt;= 100</code></li>\n",
    "\t<li><code>1 &lt;= value &lt;= 10^9</code></li>\n",
    "</ul>\n",
    "\n",
    "<p><strong>NOTE:</strong>&nbsp;create method has been changed on August&nbsp;29, 2019 to createPath. Please reset to default code definition to get new method signature.</p>\n",
    "</div>"
   ]
  },
  {
   "cell_type": "markdown",
   "metadata": {},
   "source": [
    "## Option 1\n",
    "<p>"
   ]
  },
  {
   "cell_type": "code",
   "execution_count": null,
   "metadata": {},
   "outputs": [],
   "source": [
    "class FileSystem(object):\n",
    "\n",
    "    def __init__(self):\n",
    "        self.map = {}\n",
    "\n",
    "    def createPath(self, path, value):\n",
    "        ref, parts = self.map, path[1:].split('/')\n",
    "        for i in parts[:-1]:\n",
    "            if i in ref: ref = ref[i][0]\n",
    "            else: return False\n",
    "        if parts[-1] in ref: return False\n",
    "        ref[parts[-1]] = ({},value)\n",
    "        return True\n",
    "\n",
    "    def get(self, path):\n",
    "        ref, parts = self.map, path[1:].split('/')\n",
    "        for i in parts[:-1]:\n",
    "            if i in ref: ref = ref[i][0]\n",
    "            else: return -1\n",
    "        return ref[parts[-1]][1] if parts[-1] in ref else -1"
   ]
  },
  {
   "cell_type": "markdown",
   "metadata": {},
   "source": [
    "#### Result: 376ms (11.84%)"
   ]
  },
  {
   "cell_type": "markdown",
   "metadata": {},
   "source": [
    "## Option 2\n",
    "<p>\n",
    " Above we are creating a deep dictionary, which we do not need to do! We can create every path separately, and check for its parent (which will only exist if its parent did)"
   ]
  },
  {
   "cell_type": "code",
   "execution_count": null,
   "metadata": {},
   "outputs": [],
   "source": [
    "class FileSystem(object):\n",
    "\n",
    "    def __init__(self):\n",
    "        self.map = {'':0}\n",
    "\n",
    "    def createPath(self, path, value):\n",
    "        if path not in self.map and path[:path.rfind('/')] in self.map:\n",
    "            self.map[path] = value\n",
    "            return True\n",
    "        return False\n",
    "\n",
    "    def get(self, path):\n",
    "        return self.map[path] if path in self.map else -1"
   ]
  },
  {
   "cell_type": "markdown",
   "metadata": {},
   "source": [
    "#### Result: 252ms (80.26%)"
   ]
  }
 ],
 "metadata": {
  "kernelspec": {
   "display_name": "Python 2",
   "language": "python",
   "name": "python2"
  },
  "language_info": {
   "codemirror_mode": {
    "name": "ipython",
    "version": 2
   },
   "file_extension": ".py",
   "mimetype": "text/x-python",
   "name": "python",
   "nbconvert_exporter": "python",
   "pygments_lexer": "ipython2",
   "version": "2.7.16"
  }
 },
 "nbformat": 4,
 "nbformat_minor": 2
}
