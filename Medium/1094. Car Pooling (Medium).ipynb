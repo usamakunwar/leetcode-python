{
 "cells": [
  {
   "cell_type": "markdown",
   "metadata": {},
   "source": [
    "# 1094. Car Pooling (Medium)"
   ]
  },
  {
   "cell_type": "markdown",
   "metadata": {},
   "source": [
    "<div><p>You are driving a vehicle that&nbsp;has <code>capacity</code> empty seats initially available for passengers.&nbsp; The vehicle <strong>only</strong> drives east (ie. it <strong>cannot</strong> turn around and drive west.)</p>\n",
    "\n",
    "<p>Given a list of <code>trips</code>, <code>trip[i] = [num_passengers, start_location, end_location]</code>&nbsp;contains information about the <code>i</code>-th trip: the number of passengers that must be picked up, and the locations to pick them up and drop them off.&nbsp; The locations are given as the number of kilometers&nbsp;due east from your vehicle's initial location.</p>\n",
    "\n",
    "<p>Return <code>true</code> if and only if&nbsp;it is possible to pick up and drop off all passengers for all the given trips.&nbsp;</p>\n",
    "\n",
    "<p>&nbsp;</p>\n",
    "\n",
    "<p><strong>Example 1:</strong></p>\n",
    "\n",
    "<pre><strong>Input: </strong>trips = <span id=\"example-input-1-1\">[[2,1,5],[3,3,7]]</span>, capacity = <span id=\"example-input-1-2\">4</span>\n",
    "<strong>Output: </strong><span id=\"example-output-1\">false</span>\n",
    "</pre>\n",
    "\n",
    "<div>\n",
    "<p><strong>Example 2:</strong></p>\n",
    "\n",
    "<pre><strong>Input: </strong>trips = <span id=\"example-input-2-1\">[[2,1,5],[3,3,7]]</span>, capacity = <span id=\"example-input-2-2\">5</span>\n",
    "<strong>Output: </strong><span id=\"example-output-2\">true</span>\n",
    "</pre>\n",
    "\n",
    "<div>\n",
    "<p><strong>Example 3:</strong></p>\n",
    "\n",
    "<pre><strong>Input: </strong>trips = <span id=\"example-input-3-1\">[[2,1,5],[3,5,7]]</span>, capacity = <span id=\"example-input-3-2\">3</span>\n",
    "<strong>Output: </strong><span id=\"example-output-3\">true</span>\n",
    "</pre>\n",
    "\n",
    "<div>\n",
    "<p><strong>Example 4:</strong></p>\n",
    "\n",
    "<pre><strong>Input: </strong>trips = <span id=\"example-input-4-1\">[[3,2,7],[3,7,9],[8,3,9]]</span>, capacity = <span id=\"example-input-4-2\">11</span>\n",
    "<strong>Output: </strong><span id=\"example-output-4\">true</span>\n",
    "</pre>\n",
    "</div>\n",
    "</div>\n",
    "</div>\n",
    "\n",
    "<div>\n",
    "<div>\n",
    "<div>\n",
    "<div>&nbsp;</div>\n",
    "</div>\n",
    "</div>\n",
    "</div>\n",
    "\n",
    "<p>&nbsp;</p>\n",
    "<p><strong>Constraints:</strong></p>\n",
    "\n",
    "<ol>\n",
    "\t<li><code>trips.length &lt;= 1000</code></li>\n",
    "\t<li><code>trips[i].length == 3</code></li>\n",
    "\t<li><code>1 &lt;= trips[i][0] &lt;= 100</code></li>\n",
    "\t<li><code>0 &lt;= trips[i][1] &lt; trips[i][2] &lt;= 1000</code></li>\n",
    "\t<li><code>1 &lt;=&nbsp;capacity &lt;= 100000</code></li>\n",
    "</ol>\n",
    "</div>"
   ]
  },
  {
   "cell_type": "markdown",
   "metadata": {},
   "source": [
    "## Option 1\n",
    "<p>\n",
    "<li>Pickup and Drop heaps\n",
    "<p>\n",
    "<p>\n",
    "Time complexity = O(nlogn)\n",
    "<br>\n",
    "Space complexity = O(n)"
   ]
  },
  {
   "cell_type": "code",
   "execution_count": null,
   "metadata": {},
   "outputs": [],
   "source": [
    "import collections, heapq\n",
    "class Solution(object):\n",
    "    def carPooling(self, trips, capacity):\n",
    "        pickup = map(lambda x:[x[1],x[2],x[0]], trips)\n",
    "        heapq.heapify(pickup)\n",
    "        drop, curr_load = [], 0\n",
    "        while pickup:\n",
    "            start,end,load = heapq.heappop(pickup)\n",
    "            #dropoff\n",
    "            while drop and drop[0][0] <= start:\n",
    "                curr_load -= heapq.heappop(drop)[1]\n",
    "            #pickup\n",
    "            heapq.heappush(drop,(end,load))\n",
    "            curr_load += load\n",
    "            if curr_load > capacity: return False\n",
    "        return True\n",
    "        \n",
    "        \n",
    "Solution().carPooling([[2,1,5],[3,3,7]], 4)\n",
    "        "
   ]
  },
  {
   "cell_type": "markdown",
   "metadata": {},
   "source": [
    "#### Result: 52ms (55.31%)"
   ]
  }
 ],
 "metadata": {
  "kernelspec": {
   "display_name": "Python 2",
   "language": "python",
   "name": "python2"
  },
  "language_info": {
   "codemirror_mode": {
    "name": "ipython",
    "version": 2
   },
   "file_extension": ".py",
   "mimetype": "text/x-python",
   "name": "python",
   "nbconvert_exporter": "python",
   "pygments_lexer": "ipython2",
   "version": "2.7.16"
  }
 },
 "nbformat": 4,
 "nbformat_minor": 2
}
