{
 "cells": [
  {
   "cell_type": "markdown",
   "metadata": {},
   "source": [
    "# 1405. Longest Happy String (Medium)\n"
   ]
  },
  {
   "cell_type": "markdown",
   "metadata": {},
   "source": [
    "<div><p>A string is called <em>happy</em> if it does&nbsp;not have any of the strings <code>'aaa'</code>, <code>'bbb'</code>&nbsp;or <code>'ccc'</code>&nbsp;as a substring.</p>\n",
    "\n",
    "<p>Given three integers <code>a</code>, <code>b</code> and <code>c</code>, return <strong>any</strong> string <code>s</code>,&nbsp;which satisfies following conditions:</p>\n",
    "\n",
    "<ul>\n",
    "\t<li><code>s</code> is <em>happy&nbsp;</em>and longest possible.</li>\n",
    "\t<li><code>s</code> contains <strong>at most</strong> <code>a</code>&nbsp;occurrences of the letter&nbsp;<code>'a'</code>, <strong>at most</strong> <code>b</code>&nbsp;occurrences of the letter <code>'b'</code> and <strong>at most</strong> <code>c</code> occurrences of the letter <code>'c'</code>.</li>\n",
    "\t<li><code>s&nbsp;</code>will only contain <code>'a'</code>, <code>'b'</code> and <code>'c'</code>&nbsp;letters.</li>\n",
    "</ul>\n",
    "\n",
    "<p>If there is no such string <code>s</code>&nbsp;return the empty string <code>\"\"</code>.</p>\n",
    "\n",
    "<p>&nbsp;</p>\n",
    "<p><strong>Example 1:</strong></p>\n",
    "\n",
    "<pre><strong>Input:</strong> a = 1, b = 1, c = 7\n",
    "<strong>Output:</strong> \"ccaccbcc\"\n",
    "<strong>Explanation:</strong> \"ccbccacc\" would also be a correct answer.\n",
    "</pre>\n",
    "\n",
    "<p><strong>Example 2:</strong></p>\n",
    "\n",
    "<pre><strong>Input:</strong> a = 2, b = 2, c = 1\n",
    "<strong>Output:</strong> \"aabbc\"\n",
    "</pre>\n",
    "\n",
    "<p><strong>Example 3:</strong></p>\n",
    "\n",
    "<pre><strong>Input:</strong> a = 7, b = 1, c = 0\n",
    "<strong>Output:</strong> \"aabaa\"\n",
    "<strong>Explanation:</strong> It's the only correct answer in this case.\n",
    "</pre>\n",
    "\n",
    "<p>&nbsp;</p>\n",
    "<p><strong>Constraints:</strong></p>\n",
    "\n",
    "<ul>\n",
    "\t<li><code>0 &lt;= a, b, c &lt;= 100</code></li>\n",
    "\t<li><code>a + b + c &gt; 0</code></li>\n",
    "</ul>\n",
    "</div>"
   ]
  },
  {
   "cell_type": "markdown",
   "metadata": {},
   "source": [
    "## Option 1\n",
    "<p>\n",
    "    Priority Queue\n",
    "    <p>\n",
    "Time complexity: O(n^2)\n",
    "<br>\n",
    "Space complexity: O(n^2)"
   ]
  },
  {
   "cell_type": "code",
   "execution_count": null,
   "metadata": {
    "scrolled": true
   },
   "outputs": [],
   "source": [
    "import heapq\n",
    "class Solution(object):\n",
    "    def longestDiverseString(self, a, b, c):        \n",
    "        h = []\n",
    "        if a: heapq.heappush(h,(-a,'a'))\n",
    "        if b: heapq.heappush(h,(-b,'b'))\n",
    "        if c: heapq.heappush(h,(-c,'c'))\n",
    "            \n",
    "        res = ''\n",
    "        \n",
    "        while h:\n",
    "            count,val = heapq.heappop(h)\n",
    "            if len(res) > 1 and val == res[-1] and val == res[-2]:\n",
    "                if not h: break\n",
    "                count2,val2 = heapq.heappop(h)\n",
    "                res += val2\n",
    "                if count2+1 < 0:\n",
    "                    heapq.heappush(h,(count2+1,val2))\n",
    "                heapq.heappush(h,(count,val))\n",
    "            else:\n",
    "                res += val\n",
    "                if count+1 < 0:\n",
    "                    heapq.heappush(h,(count+1,val))\n",
    "            \n",
    "        return res\n",
    "        \n",
    "\n",
    "Solution().longestDiverseString(7,1,0)"
   ]
  },
  {
   "cell_type": "markdown",
   "metadata": {},
   "source": [
    "#### Result: 16ms (88.89%)"
   ]
  }
 ],
 "metadata": {
  "kernelspec": {
   "display_name": "Python 2",
   "language": "python",
   "name": "python2"
  },
  "language_info": {
   "codemirror_mode": {
    "name": "ipython",
    "version": 2
   },
   "file_extension": ".py",
   "mimetype": "text/x-python",
   "name": "python",
   "nbconvert_exporter": "python",
   "pygments_lexer": "ipython2",
   "version": "2.7.16"
  }
 },
 "nbformat": 4,
 "nbformat_minor": 2
}
