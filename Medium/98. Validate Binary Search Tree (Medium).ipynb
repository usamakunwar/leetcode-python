{
 "cells": [
  {
   "cell_type": "markdown",
   "metadata": {},
   "source": [
    "# 98. Validate Binary Search Tree (Medium)\n"
   ]
  },
  {
   "cell_type": "markdown",
   "metadata": {},
   "source": [
    "<div><p>Given a binary tree, determine if it is a valid binary search tree (BST).</p>\n",
    "\n",
    "<p>Assume a BST is defined as follows:</p>\n",
    "\n",
    "<ul>\n",
    "\t<li>The left subtree of a node contains only nodes with keys <strong>less than</strong> the node's key.</li>\n",
    "\t<li>The right subtree of a node contains only nodes with keys <strong>greater than</strong> the node's key.</li>\n",
    "\t<li>Both the left and right subtrees must also be binary search trees.</li>\n",
    "</ul>\n",
    "\n",
    "<p>&nbsp;</p>\n",
    "\n",
    "<p><strong>Example 1:</strong></p>\n",
    "\n",
    "<pre>    2\n",
    "   / \\\n",
    "  1   3\n",
    "\n",
    "<strong>Input:</strong>&nbsp;[2,1,3]\n",
    "<strong>Output:</strong> true\n",
    "</pre>\n",
    "\n",
    "<p><strong>Example 2:</strong></p>\n",
    "\n",
    "<pre>    5\n",
    "   / \\\n",
    "  1   4\n",
    "&nbsp;    / \\\n",
    "&nbsp;   3   6\n",
    "\n",
    "<strong>Input:</strong> [5,1,4,null,null,3,6]\n",
    "<strong>Output:</strong> false\n",
    "<strong>Explanation:</strong> The root node's value is 5 but its right child's value is 4.\n",
    "</pre>\n",
    "</div>"
   ]
  },
  {
   "cell_type": "markdown",
   "metadata": {},
   "source": [
    "## Option 1\n",
    "\n",
    "Recursive, create a stack, if the stack values are in incremental order then the BST is valid\n",
    "<p>\n",
    "Time complexity = O(n) for when we create the array\n",
    "<br>\n",
    "Space complexity = O(n) size of the array"
   ]
  },
  {
   "cell_type": "code",
   "execution_count": 34,
   "metadata": {
    "scrolled": false
   },
   "outputs": [
    {
     "data": {
      "text/plain": [
       "15"
      ]
     },
     "execution_count": 34,
     "metadata": {},
     "output_type": "execute_result"
    }
   ],
   "source": [
    "# Definition for a binary tree node.\n",
    "# class TreeNode:\n",
    "#     def __init__(self, x):\n",
    "#         self.val = x\n",
    "#         self.left = None\n",
    "#         self.right = None\n",
    "\n",
    "class Solution:\n",
    "    def isValidBST(self, root: TreeNode) -> bool:\n",
    "        stack = []\n",
    "        \n",
    "        def order_stack(node):\n",
    "            if not node: return\n",
    "            order_stack(node.left)\n",
    "            stack.append(node.val)\n",
    "            order_stack(node.right)            \n",
    "        order_stack(root)\n",
    "\n",
    "        return len([False for i,val in enumerate(stack) if i < (len(stack)-1) and val >= stack[i+1]]) == 0        \n",
    "        "
   ]
  },
  {
   "cell_type": "markdown",
   "metadata": {},
   "source": [
    "#### Result:  44ms (61.84%)"
   ]
  }
 ],
 "metadata": {
  "kernelspec": {
   "display_name": "Python 3",
   "language": "python",
   "name": "python3"
  },
  "language_info": {
   "codemirror_mode": {
    "name": "ipython",
    "version": 3
   },
   "file_extension": ".py",
   "mimetype": "text/x-python",
   "name": "python",
   "nbconvert_exporter": "python",
   "pygments_lexer": "ipython3",
   "version": "3.7.4"
  }
 },
 "nbformat": 4,
 "nbformat_minor": 2
}
