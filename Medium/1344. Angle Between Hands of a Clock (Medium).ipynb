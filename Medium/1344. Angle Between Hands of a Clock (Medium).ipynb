{
 "cells": [
  {
   "cell_type": "markdown",
   "metadata": {},
   "source": [
    "# 1344. Angle Between Hands of a Clock (Medium)\n"
   ]
  },
  {
   "cell_type": "markdown",
   "metadata": {},
   "source": [
    "<div><p>Given two numbers, <code>hour</code> and <code>minutes</code>. Return the smaller angle (in sexagesimal units) formed between the <code>hour</code> and the <code>minute</code> hand.</p>\n",
    "\n",
    "<p>&nbsp;</p>\n",
    "<p><strong>Example 1:</strong></p>\n",
    "\n",
    "<p><img alt=\"\" src=\"https://assets.leetcode.com/uploads/2019/12/26/sample_1_1673.png\" style=\"width: 230px; height: 225px;\"></p>\n",
    "\n",
    "<pre><strong>Input:</strong> hour = 12, minutes = 30\n",
    "<strong>Output:</strong> 165\n",
    "</pre>\n",
    "\n",
    "<p><strong>Example 2:</strong></p>\n",
    "\n",
    "<p><img alt=\"\" src=\"https://assets.leetcode.com/uploads/2019/12/26/sample_2_1673.png\" style=\"width: 230px; height: 225px;\"></p>\n",
    "\n",
    "<pre><strong>Input:</strong> hour = 3, minutes = 30\n",
    "<strong>Output:</strong> 75\n",
    "</pre>\n",
    "\n",
    "<p><strong>Example 3:</strong></p>\n",
    "\n",
    "<p><strong><img alt=\"\" src=\"https://assets.leetcode.com/uploads/2019/12/26/sample_3_1673.png\" style=\"width: 230px; height: 225px;\"></strong></p>\n",
    "\n",
    "<pre><strong>Input:</strong> hour = 3, minutes = 15\n",
    "<strong>Output:</strong> 7.5\n",
    "</pre>\n",
    "\n",
    "<p><strong>Example 4:</strong></p>\n",
    "\n",
    "<pre><strong>Input:</strong> hour = 4, minutes = 50\n",
    "<strong>Output:</strong> 155\n",
    "</pre>\n",
    "\n",
    "<p><strong>Example 5:</strong></p>\n",
    "\n",
    "<pre><strong>Input:</strong> hour = 12, minutes = 0\n",
    "<strong>Output:</strong> 0\n",
    "</pre>\n",
    "\n",
    "<p>&nbsp;</p>\n",
    "<p><strong>Constraints:</strong></p>\n",
    "\n",
    "<ul>\n",
    "\t<li><code>1 &lt;= hour &lt;= 12</code></li>\n",
    "\t<li><code>0 &lt;= minutes &lt;= 59</code></li>\n",
    "\t<li>Answers within&nbsp;<code>10^-5</code>&nbsp;of the actual value will be accepted as correct.</li>\n",
    "</ul>\n",
    "</div>"
   ]
  },
  {
   "cell_type": "markdown",
   "metadata": {},
   "source": [
    "## Option 1\n",
    "<p>\n",
    "Time complexity: O(1)\n",
    "<br>\n",
    "Space complexity: O(1)"
   ]
  },
  {
   "cell_type": "code",
   "execution_count": null,
   "metadata": {
    "scrolled": false
   },
   "outputs": [],
   "source": [
    "class Solution(object):\n",
    "    def angleClock(self, hour, minutes):\n",
    "        hour = 0 if hour == 12 else hour\n",
    "        angle_min,angle_hour = 360/60,360/12\n",
    "        angle_hour_min = float(angle_hour)/60\n",
    "        #MINUTE ANGLE (angle_min*minutes)\n",
    "        #HOUR ANGLE (angle_hour*hour)+(angle_hour_min*minutes)\n",
    "        angle = abs((angle_min*minutes)-((angle_hour*hour)+(angle_hour_min*minutes)))\n",
    "        return min(angle, 360-angle)\n",
    "\n",
    "Solution().angleClock(8, 7)"
   ]
  },
  {
   "cell_type": "markdown",
   "metadata": {},
   "source": [
    "#### Result: 16ms (72.36%)"
   ]
  }
 ],
 "metadata": {
  "kernelspec": {
   "display_name": "Python 2",
   "language": "python",
   "name": "python2"
  },
  "language_info": {
   "codemirror_mode": {
    "name": "ipython",
    "version": 2
   },
   "file_extension": ".py",
   "mimetype": "text/x-python",
   "name": "python",
   "nbconvert_exporter": "python",
   "pygments_lexer": "ipython2",
   "version": "2.7.16"
  }
 },
 "nbformat": 4,
 "nbformat_minor": 2
}
