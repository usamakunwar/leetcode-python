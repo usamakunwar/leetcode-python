{
 "cells": [
  {
   "cell_type": "markdown",
   "metadata": {},
   "source": [
    "# 518. Coin Change 2 (Medium)"
   ]
  },
  {
   "cell_type": "markdown",
   "metadata": {},
   "source": [
    "<div><p>You are given coins of different denominations and a total amount of money. Write a function to compute the number of combinations that make up that amount. You may assume that you have infinite number of each kind of coin.</p>\n",
    "\n",
    "<ul>\n",
    "</ul>\n",
    "\n",
    "<p>&nbsp;</p>\n",
    "\n",
    "<p><b>Example 1:</b></p>\n",
    "\n",
    "<pre><b>Input:</b> amount = 5, coins = [1, 2, 5]\n",
    "<b>Output:</b> 4\n",
    "<b>Explanation:</b> there are four ways to make up the amount:\n",
    "5=5\n",
    "5=2+2+1\n",
    "5=2+1+1+1\n",
    "5=1+1+1+1+1\n",
    "</pre>\n",
    "\n",
    "<p><b>Example 2:</b></p>\n",
    "\n",
    "<pre><b>Input:</b> amount = 3, coins = [2]\n",
    "<b>Output:</b> 0\n",
    "<b>Explanation:</b> the amount of 3 cannot be made up just with coins of 2.\n",
    "</pre>\n",
    "\n",
    "<p><b>Example 3:</b></p>\n",
    "\n",
    "<pre><b>Input:</b> amount = 10, coins = [10] \n",
    "<b>Output:</b> 1\n",
    "</pre>\n",
    "\n",
    "<p>&nbsp;</p>\n",
    "\n",
    "<p><b>Note:</b></p>\n",
    "\n",
    "<p>You can assume that</p>\n",
    "\n",
    "<ul>\n",
    "\t<li>0 &lt;= amount &lt;= 5000</li>\n",
    "\t<li>1 &lt;= coin &lt;= 5000</li>\n",
    "\t<li>the number of coins is less than 500</li>\n",
    "\t<li>the answer is guaranteed to fit into signed 32-bit integer</li>\n",
    "</ul>\n",
    "</div>"
   ]
  },
  {
   "cell_type": "markdown",
   "metadata": {},
   "source": [
    "## Option 1\n",
    " <p>    \n",
    "   DP Top down\n",
    "    <p>\n",
    "<p>\n",
    "    <li>So in order to avoid duplicate combinations, sort the array, then iterate from the ith position onwards only\n",
    "\n",
    "<p>\n",
    "        \n"
   ]
  },
  {
   "cell_type": "code",
   "execution_count": null,
   "metadata": {},
   "outputs": [],
   "source": [
    "class Solution(object):\n",
    "    def change(self, amount, coins):\n",
    "        coins.sort()\n",
    "        \n",
    "        self.seen = {}\n",
    "        def search(i, curr):\n",
    "            if curr == 0: return 1\n",
    "            if (i,curr) in self.seen: return self.seen[(i,curr)]\n",
    "            \n",
    "            res = 0\n",
    "            for j in range(i,len(coins)):\n",
    "                if curr-coins[j] < 0: break\n",
    "                res += search(j,curr-coins[j])\n",
    "                \n",
    "            self.seen[(i,curr)] = res\n",
    "            return res\n",
    "        \n",
    "        return search(0,amount)\n",
    "\n",
    "        \n",
    "Solution().change(3, [1, 2, 3])\n",
    "        "
   ]
  },
  {
   "cell_type": "markdown",
   "metadata": {},
   "source": [
    "#### Result:  2484ms (6.44%)"
   ]
  },
  {
   "cell_type": "markdown",
   "metadata": {},
   "source": [
    "## Option 2\n",
    " <p>    \n",
    "DP Bottom Up - like coin change, but instead of using minimum, accumulate the number of ways to make up the amount\n",
    "    <p>\n",
    "\n",
    "<p>\n",
    "            \n",
    "        \n"
   ]
  },
  {
   "cell_type": "code",
   "execution_count": null,
   "metadata": {},
   "outputs": [],
   "source": [
    "class Solution(object):\n",
    "    def change(self, amount, coins):\n",
    "        dp = [0]*(amount+1)\n",
    "        dp[0] = 1\n",
    "        for c in coins:\n",
    "            for j in range(c,amount+1):\n",
    "                dp[j] += dp[j-c]\n",
    "        \n",
    "        return dp[-1]      \n",
    "        \n",
    "Solution().change(3, [1, 2, 3])\n",
    "        "
   ]
  },
  {
   "cell_type": "markdown",
   "metadata": {},
   "source": [
    "#### Result:  116ms (67.24%)"
   ]
  }
 ],
 "metadata": {
  "kernelspec": {
   "display_name": "Python 2",
   "language": "python",
   "name": "python2"
  },
  "language_info": {
   "codemirror_mode": {
    "name": "ipython",
    "version": 2
   },
   "file_extension": ".py",
   "mimetype": "text/x-python",
   "name": "python",
   "nbconvert_exporter": "python",
   "pygments_lexer": "ipython2",
   "version": "2.7.16"
  }
 },
 "nbformat": 4,
 "nbformat_minor": 2
}
