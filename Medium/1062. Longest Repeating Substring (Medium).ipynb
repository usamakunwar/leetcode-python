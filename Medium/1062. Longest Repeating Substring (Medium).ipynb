{
 "cells": [
  {
   "cell_type": "markdown",
   "metadata": {},
   "source": [
    "# 1062. Longest Repeating Substring (Medium)\n"
   ]
  },
  {
   "cell_type": "markdown",
   "metadata": {},
   "source": [
    "<div><p>Given a string <code>S</code>, find out the length of the longest repeating substring(s). Return <code>0</code> if no repeating substring exists.</p>\n",
    "\n",
    "<p>&nbsp;</p>\n",
    "\n",
    "<p><strong>Example 1:</strong></p>\n",
    "\n",
    "<pre><strong>Input: </strong><span id=\"example-input-1-1\">\"abcd\"</span>\n",
    "<strong>Output: </strong><span id=\"example-output-1\">0</span>\n",
    "<strong>Explanation: </strong>There is no repeating substring.\n",
    "</pre>\n",
    "\n",
    "<p><strong>Example 2:</strong></p>\n",
    "\n",
    "<pre><strong>Input: </strong><span id=\"example-input-2-1\">\"abbaba\"</span>\n",
    "<strong>Output: </strong><span id=\"example-output-2\">2</span>\n",
    "<strong>Explanation: </strong>The longest repeating substrings are \"ab\" and \"ba\", each of which occurs twice.\n",
    "</pre>\n",
    "\n",
    "<p><strong>Example 3:</strong></p>\n",
    "\n",
    "<pre><strong>Input: </strong><span id=\"example-input-3-1\">\"aabcaabdaab\"</span>\n",
    "<strong>Output: </strong><span id=\"example-output-3\">3</span>\n",
    "<strong>Explanation: </strong>The longest repeating substring is \"aab\", which occurs <code>3</code> times.\n",
    "</pre>\n",
    "\n",
    "<p><strong>Example 4:</strong></p>\n",
    "\n",
    "<pre><strong>Input: </strong><span id=\"example-input-4-1\">\"aaaaa\"</span>\n",
    "<strong>Output: </strong><span id=\"example-output-4\">4</span>\n",
    "<strong>Explanation: </strong>The longest repeating substring is \"aaaa\", which occurs twice.\n",
    "</pre>\n",
    "\n",
    "<p>&nbsp;</p>\n",
    "\n",
    "<p><strong>Note:</strong></p>\n",
    "\n",
    "<ol>\n",
    "\t<li>The string <code>S</code> consists of only lowercase English letters from <code>'a'</code> - <code>'z'</code>.</li>\n",
    "\t<li><code>1 &lt;= S.length &lt;= 1500</code></li>\n",
    "</ol></div>"
   ]
  },
  {
   "cell_type": "markdown",
   "metadata": {},
   "source": [
    "## Option 1\n",
    "<p>\n",
    "Time complexity: O(n^2)\n",
    "<br>\n",
    "Space complexity: O(n^2)"
   ]
  },
  {
   "cell_type": "code",
   "execution_count": null,
   "metadata": {
    "scrolled": true
   },
   "outputs": [],
   "source": [
    "import collections\n",
    "class Solution(object):\n",
    "    def longestRepeatingSubstring(self, S):\n",
    "        ln = len(S)\n",
    "        #Iterate over window sizes\n",
    "        for i in range(ln-2,-1,-1):\n",
    "            c = collections.Counter()\n",
    "            #Slide the window across S\n",
    "            for j in range(ln-i):\n",
    "                sub_str = S[j:j+i+1]\n",
    "                c[sub_str] += 1\n",
    "                if c[sub_str] > 1: return i+1\n",
    "        return 0\n",
    "Solution().longestRepeatingSubstring(\"aaabaabbbaaabaabbaabbbabbbaaaabbaaaaaabbbaabbbbbbbbbaaaabbabbaba\")\n"
   ]
  },
  {
   "cell_type": "markdown",
   "metadata": {},
   "source": [
    "#### Result: 3372ms (7.84%)"
   ]
  }
 ],
 "metadata": {
  "kernelspec": {
   "display_name": "Python 2",
   "language": "python",
   "name": "python2"
  },
  "language_info": {
   "codemirror_mode": {
    "name": "ipython",
    "version": 2
   },
   "file_extension": ".py",
   "mimetype": "text/x-python",
   "name": "python",
   "nbconvert_exporter": "python",
   "pygments_lexer": "ipython2",
   "version": "2.7.16"
  }
 },
 "nbformat": 4,
 "nbformat_minor": 2
}
