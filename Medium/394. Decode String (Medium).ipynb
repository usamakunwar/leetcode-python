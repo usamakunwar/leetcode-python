{
 "cells": [
  {
   "cell_type": "markdown",
   "metadata": {},
   "source": [
    "# 394. Decode String (Medium)\n"
   ]
  },
  {
   "cell_type": "markdown",
   "metadata": {},
   "source": [
    "<div><p>Given an encoded string, return its decoded string.</p>\n",
    "\n",
    "<p>The encoding rule is: <code>k[encoded_string]</code>, where the <i>encoded_string</i> inside the square brackets is being repeated exactly <i>k</i> times. Note that <i>k</i> is guaranteed to be a positive integer.</p>\n",
    "\n",
    "<p>You may assume that the input string is always valid; No extra white spaces, square brackets are well-formed, etc.</p>\n",
    "\n",
    "<p>Furthermore, you may assume that the original data does not contain any digits and that digits are only for those repeat numbers, <i>k</i>. For example, there won't be input like <code>3a</code> or <code>2[4]</code>.</p>\n",
    "\n",
    "<p><b>Examples:</b></p>\n",
    "\n",
    "<pre>s = \"3[a]2[bc]\", return \"aaabcbc\".\n",
    "s = \"3[a2[c]]\", return \"accaccacc\".\n",
    "s = \"2[abc]3[cd]ef\", return \"abcabccdcdcdef\".\n",
    "</pre>\n",
    "\n",
    "<p>&nbsp;</p>\n",
    "</div>"
   ]
  },
  {
   "cell_type": "markdown",
   "metadata": {},
   "source": [
    "## Option 1\n",
    "\n",
    "Time complexity: O(n)\n",
    "<br>\n",
    "Space complexity: O(n)\n"
   ]
  },
  {
   "cell_type": "code",
   "execution_count": null,
   "metadata": {
    "scrolled": false
   },
   "outputs": [],
   "source": [
    "class Solution(object):\n",
    "    def decodeString(self, s):\n",
    "        stack = [('',0)]\n",
    "        i = 0\n",
    "        while i < len(s):\n",
    "            j = i\n",
    "            #We can long digits\n",
    "            while s[j].isdigit(): j += 1\n",
    "            #If j != i must be an integer so new nest\n",
    "            if j != i:\n",
    "                stack.append(('', int(s[i:j])))\n",
    "                i = j\n",
    "            if s[i] == ']':\n",
    "                curr = stack.pop()\n",
    "                stack[-1] = (stack[-1][0]+(curr[0]*curr[1]),stack[-1][1])\n",
    "            elif s[i] != '[':\n",
    "                stack[-1] = (stack[-1][0]+s[i],stack[-1][1])        \n",
    "            i += 1\n",
    "        return stack[0][0]\n",
    "\n",
    "Solution().decodeString(\"3[z]2[2[y]pq4[2[jk]e1[f]]]ef\")\n",
    "        "
   ]
  },
  {
   "cell_type": "markdown",
   "metadata": {},
   "source": [
    "#### Result: 16ms (70.22%)"
   ]
  }
 ],
 "metadata": {
  "kernelspec": {
   "display_name": "Python 2",
   "language": "python",
   "name": "python2"
  },
  "language_info": {
   "codemirror_mode": {
    "name": "ipython",
    "version": 2
   },
   "file_extension": ".py",
   "mimetype": "text/x-python",
   "name": "python",
   "nbconvert_exporter": "python",
   "pygments_lexer": "ipython2",
   "version": "2.7.16"
  }
 },
 "nbformat": 4,
 "nbformat_minor": 2
}
