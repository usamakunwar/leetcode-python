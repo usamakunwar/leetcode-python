{
 "cells": [
  {
   "cell_type": "markdown",
   "metadata": {},
   "source": [
    "# 889. Construct Binary Tree from Preorder and Postorder Traversal (Medium)"
   ]
  },
  {
   "cell_type": "markdown",
   "metadata": {},
   "source": [
    "<div><p>Return any binary tree that matches the given preorder and postorder traversals.</p>\n",
    "\n",
    "<p>Values in the traversals&nbsp;<code>pre</code> and <code>post</code>&nbsp;are distinct&nbsp;positive integers.</p>\n",
    "\n",
    "<p>&nbsp;</p>\n",
    "\n",
    "<div>\n",
    "<p><strong>Example 1:</strong></p>\n",
    "\n",
    "<pre><strong>Input: </strong>pre = <span id=\"example-input-1-1\">[1,2,4,5,3,6,7]</span>, post = <span id=\"example-input-1-2\">[4,5,2,6,7,3,1]</span>\n",
    "<strong>Output: </strong><span id=\"example-output-1\">[1,2,3,4,5,6,7]</span>\n",
    "</pre>\n",
    "\n",
    "<p>&nbsp;</p>\n",
    "\n",
    "<p><strong><span>Note:</span></strong></p>\n",
    "\n",
    "<ul>\n",
    "\t<li><code>1 &lt;= pre.length == post.length &lt;= 30</code></li>\n",
    "\t<li><code>pre[]</code> and <code>post[]</code>&nbsp;are both permutations of <code>1, 2, ..., pre.length</code>.</li>\n",
    "\t<li>It is guaranteed an answer exists. If there exists multiple answers, you can return any of them.</li>\n",
    "</ul>\n",
    "</div>\n",
    "</div>"
   ]
  },
  {
   "cell_type": "markdown",
   "metadata": {},
   "source": [
    "## Option 1\n",
    " <p>     <p>\n",
    "    <p>\n",
    "        <li>Whenever the value appears in post, we close the node\n",
    "<p>\n",
    "        \n",
    "Time complexity: O(n)\n",
    "    <br>\n",
    "Space complexity: O(n)\n"
   ]
  },
  {
   "cell_type": "code",
   "execution_count": null,
   "metadata": {
    "scrolled": true
   },
   "outputs": [],
   "source": [
    "class Solution(object):\n",
    "    def constructFromPrePost(self, pre, post):\n",
    "        pre, post = pre[::-1], post[::-1]\n",
    "        \n",
    "        def search():\n",
    "            if not pre: return None\n",
    "            \n",
    "            node = TreeNode(pre.pop())\n",
    "            \n",
    "            if post and post[-1] == node.val:\n",
    "                post.pop()\n",
    "                return node\n",
    "            \n",
    "            node.left = search()\n",
    "            \n",
    "            if post and post[-1] == node.val: \n",
    "                post.pop()\n",
    "                return node\n",
    "\n",
    "            node.right = search()\n",
    "            if post and post[-1] == node.val: post.pop()\n",
    "                \n",
    "            return node\n",
    "            \n",
    "        return search()\n",
    "            \n"
   ]
  },
  {
   "cell_type": "markdown",
   "metadata": {},
   "source": [
    "#### Result: 72ms (7.04%)"
   ]
  }
 ],
 "metadata": {
  "kernelspec": {
   "display_name": "Python 2",
   "language": "python",
   "name": "python2"
  },
  "language_info": {
   "codemirror_mode": {
    "name": "ipython",
    "version": 2
   },
   "file_extension": ".py",
   "mimetype": "text/x-python",
   "name": "python",
   "nbconvert_exporter": "python",
   "pygments_lexer": "ipython2",
   "version": "2.7.16"
  }
 },
 "nbformat": 4,
 "nbformat_minor": 2
}
