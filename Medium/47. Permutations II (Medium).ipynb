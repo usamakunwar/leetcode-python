{
 "cells": [
  {
   "cell_type": "markdown",
   "metadata": {},
   "source": [
    "# 47. Permutations II (Medium)\n",
    "\n"
   ]
  },
  {
   "cell_type": "markdown",
   "metadata": {},
   "source": [
    "<div><p>Given a collection of numbers that might contain duplicates, return all possible unique permutations.</p>\n",
    "\n",
    "<p><strong>Example:</strong></p>\n",
    "\n",
    "<pre><strong>Input:</strong> [1,1,2]\n",
    "<strong>Output:</strong>\n",
    "[\n",
    "  [1,1,2],\n",
    "  [1,2,1],\n",
    "  [2,1,1]\n",
    "]\n",
    "</pre>\n",
    "</div>"
   ]
  },
  {
   "cell_type": "markdown",
   "metadata": {},
   "source": [
    "## Option 1\n",
    "\n",
    "DFS + Backtrack\n"
   ]
  },
  {
   "cell_type": "code",
   "execution_count": null,
   "metadata": {
    "scrolled": false
   },
   "outputs": [],
   "source": [
    "class Solution(object):\n",
    "    def permuteUnique(self, nums):\n",
    "        nums.sort()\n",
    "        ln = len(nums)\n",
    "        def search(arr,curr):\n",
    "            if not arr:\n",
    "                return [curr]\n",
    "            res = []\n",
    "            for j in range(len(arr)):\n",
    "                if j > 0 and arr[j] == arr[j-1]: continue\n",
    "                res += search(arr[:j]+arr[j+1:], curr+[arr[j]])\n",
    "            return res\n",
    "        return search(nums,[])\n",
    "\n",
    "Solution().permuteUnique([1,2,3])"
   ]
  },
  {
   "cell_type": "markdown",
   "metadata": {},
   "source": [
    "#### Result: 40ms (87.11%)"
   ]
  },
  {
   "cell_type": "markdown",
   "metadata": {},
   "source": [
    "## Option 2\n",
    "\n",
    "Iteratively\n",
    "<ul>\n",
    "<li>Permuations can be created itervatively by accumulating the result\n",
    "<li>Res at any given n is all posible permutations of everything before n\n",
    "<li>n then has to be inserted in every possible position\n",
    "<li>Avoid duplicates:\n",
    "    <ul>\n",
    "        <li>If we find n exists in a permutation, then that means we can stop inserting it any further\n",
    "        <li>This is because all previous permutations would've already dealt with that n in every position"
   ]
  },
  {
   "cell_type": "code",
   "execution_count": null,
   "metadata": {},
   "outputs": [],
   "source": [
    "class Solution(object):\n",
    "    def permuteUnique(self, nums):\n",
    "        res = [[]]\n",
    "        for n in nums:\n",
    "            new = []\n",
    "            for r in res:\n",
    "                lr = len(r)\n",
    "                #+1 here to insert n at the end\n",
    "                for i in xrange(lr + 1):\n",
    "                    #insert n in position\n",
    "                    new.append(r[:i]+[n]+r[i:])\n",
    "                    #Avoid duplicates\n",
    "                    if i < lr and r[i] == n: break \n",
    "            res = new\n",
    "        return res\n",
    "\n",
    "Solution().permuteUnique([1,2,1,1])"
   ]
  },
  {
   "cell_type": "markdown",
   "metadata": {},
   "source": [
    "#### Result: 32ms (98.48%)"
   ]
  }
 ],
 "metadata": {
  "kernelspec": {
   "display_name": "Python 2",
   "language": "python",
   "name": "python2"
  },
  "language_info": {
   "codemirror_mode": {
    "name": "ipython",
    "version": 2
   },
   "file_extension": ".py",
   "mimetype": "text/x-python",
   "name": "python",
   "nbconvert_exporter": "python",
   "pygments_lexer": "ipython2",
   "version": "2.7.16"
  }
 },
 "nbformat": 4,
 "nbformat_minor": 2
}
