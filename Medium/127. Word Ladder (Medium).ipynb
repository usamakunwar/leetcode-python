{
 "cells": [
  {
   "cell_type": "markdown",
   "metadata": {},
   "source": [
    "# 127. Word Ladder (Medium)"
   ]
  },
  {
   "cell_type": "markdown",
   "metadata": {},
   "source": [
    "<div><p>Given two words (<em>beginWord</em> and <em>endWord</em>), and a dictionary's word list, find the length of shortest transformation sequence from <em>beginWord</em> to <em>endWord</em>, such that:</p>\n",
    "\n",
    "<ol>\n",
    "\t<li>Only one letter can be changed at a time.</li>\n",
    "\t<li>Each transformed word must exist in the word list. Note that <em>beginWord</em> is <em>not</em> a transformed word.</li>\n",
    "</ol>\n",
    "\n",
    "<p><strong>Note:</strong></p>\n",
    "\n",
    "<ul>\n",
    "\t<li>Return 0 if there is no such transformation sequence.</li>\n",
    "\t<li>All words have the same length.</li>\n",
    "\t<li>All words contain only lowercase alphabetic characters.</li>\n",
    "\t<li>You may assume no duplicates in the word list.</li>\n",
    "\t<li>You may assume <em>beginWord</em> and <em>endWord</em> are non-empty and are not the same.</li>\n",
    "</ul>\n",
    "\n",
    "<p><strong>Example 1:</strong></p>\n",
    "\n",
    "<pre><strong>Input:</strong>\n",
    "beginWord = \"hit\",\n",
    "endWord = \"cog\",\n",
    "wordList = [\"hot\",\"dot\",\"dog\",\"lot\",\"log\",\"cog\"]\n",
    "\n",
    "<strong>Output: </strong>5\n",
    "\n",
    "<strong>Explanation:</strong> As one shortest transformation is \"hit\" -&gt; \"hot\" -&gt; \"dot\" -&gt; \"dog\" -&gt; \"cog\",\n",
    "return its length 5.\n",
    "</pre>\n",
    "\n",
    "<p><strong>Example 2:</strong></p>\n",
    "\n",
    "<pre><strong>Input:</strong>\n",
    "beginWord = \"hit\"\n",
    "endWord = \"cog\"\n",
    "wordList = [\"hot\",\"dot\",\"dog\",\"lot\",\"log\"]\n",
    "\n",
    "<strong>Output:</strong>&nbsp;0\n",
    "\n",
    "<strong>Explanation:</strong>&nbsp;The endWord \"cog\" is not in wordList, therefore no possible<strong>&nbsp;</strong>transformation.\n",
    "</pre>\n",
    "\n",
    "<ul>\n",
    "</ul>\n",
    "</div>"
   ]
  },
  {
   "cell_type": "markdown",
   "metadata": {},
   "source": [
    "## Option 1\n",
    "<p>BFS\n",
    "    <p>\n",
    "Time complexity: O(mn) m = number of words, n = length of word\n",
    "<br>\n",
    "Space complexity: O(mn)"
   ]
  },
  {
   "cell_type": "code",
   "execution_count": null,
   "metadata": {
    "scrolled": true
   },
   "outputs": [],
   "source": [
    "import collections\n",
    "class Solution(object):\n",
    "    def ladderLength(self, beginWord, endWord, wordList):\n",
    "        ln, alph = len(beginWord), [chr(i+ord('a')) for i in range(26)]\n",
    "        w_map, seen = set(wordList), set()   \n",
    "        \n",
    "        if endWord not in w_map: return 0\n",
    "        \n",
    "        q = collections.deque()\n",
    "        q.append((beginWord,1))\n",
    "        \n",
    "        while q:\n",
    "            curr,lev = q.popleft()\n",
    "            #We create an a-z wildcard at every position of the word\n",
    "            for i in range(ln):\n",
    "                for ch in alph:\n",
    "                    w = curr[:i]+ch+curr[i+1:]\n",
    "                    if w not in seen and w in w_map: #As the BFS expands ensure not re-visit nodes\n",
    "                        if w == endWord: return lev+1\n",
    "                        seen.add(w)\n",
    "                        q.append((w,lev+1))\n",
    "        return 0\n",
    "\n",
    "\n",
    "Solution().ladderLength('hit', 'cog', [\"hot\",\"dot\",\"dog\",\"lot\",\"log\",\"cog\"])\n"
   ]
  },
  {
   "cell_type": "markdown",
   "metadata": {},
   "source": [
    "#### Result: 408ms 45.21%)"
   ]
  },
  {
   "cell_type": "markdown",
   "metadata": {},
   "source": [
    "## Option 2\n",
    "<p>\n",
    "    Few Notes:\n",
    "    <p>\n",
    "<li>An iteration through a-z is not needed as you can create a wildcard with something like a * then make a comparison\n",
    "<li>We should create all wildcard possibilities before and ref them to the words respectively. Doing this in the search will mean repeating this process\n",
    "<li>We can save iteration time by removing the wild_card once done (as well as keeping a seen map)\n",
    "<p>\n",
    "<p>\n",
    "Time complexity: O(mn) m = number of words, n = length of word\n",
    "<br>\n",
    "Space complexity: O(mn)"
   ]
  },
  {
   "cell_type": "code",
   "execution_count": null,
   "metadata": {},
   "outputs": [],
   "source": [
    "import collections\n",
    "class Solution(object):\n",
    "    def ladderLength(self, beginWord, endWord, wordList):        \n",
    "        if endWord not in wordList: return 0\n",
    "\n",
    "        ln, seen = len(beginWord), set()\n",
    "        q = collections.deque()\n",
    "        q.append((beginWord,1))\n",
    "        \n",
    "        wild_cards = collections.defaultdict(list)\n",
    "        for w in wordList:\n",
    "            for i in range(ln):\n",
    "                wild_cards[w[:i]+'*'+w[i+1:]].append(w)\n",
    "        \n",
    "        while q:\n",
    "            curr,lev = q.popleft()\n",
    "            #We create an a-z wildcard at every position of the word\n",
    "            for i in range(ln):\n",
    "                curr_wildcard = curr[:i]+'*'+curr[i+1:]\n",
    "                for w in wild_cards[curr_wildcard]:\n",
    "                    if w not in seen:\n",
    "                        if w == endWord: return lev+1\n",
    "                        seen.add(w)\n",
    "                        q.append((w,lev+1))\n",
    "                wild_cards.pop(curr_wildcard)\n",
    "        return 0\n",
    "    \n",
    "\n",
    "Solution().ladderLength('hit', 'cog', [\"hot\",\"dot\",\"dog\",\"lot\",\"log\",\"cog\",\"cit\",\"cot\"])\n"
   ]
  },
  {
   "cell_type": "markdown",
   "metadata": {},
   "source": [
    "#### Result: 108ms 85.89%)"
   ]
  }
 ],
 "metadata": {
  "kernelspec": {
   "display_name": "Python 2",
   "language": "python",
   "name": "python2"
  },
  "language_info": {
   "codemirror_mode": {
    "name": "ipython",
    "version": 2
   },
   "file_extension": ".py",
   "mimetype": "text/x-python",
   "name": "python",
   "nbconvert_exporter": "python",
   "pygments_lexer": "ipython2",
   "version": "2.7.16"
  }
 },
 "nbformat": 4,
 "nbformat_minor": 2
}
