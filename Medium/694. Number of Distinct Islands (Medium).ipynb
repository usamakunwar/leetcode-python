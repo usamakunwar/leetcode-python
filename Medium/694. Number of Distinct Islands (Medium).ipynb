{
 "cells": [
  {
   "cell_type": "markdown",
   "metadata": {},
   "source": [
    "# 694. Number of Distinct Islands (Medium)"
   ]
  },
  {
   "cell_type": "markdown",
   "metadata": {},
   "source": [
    "<div><p>Given a non-empty 2D array <code>grid</code> of 0's and 1's, an <b>island</b> is a group of <code>1</code>'s (representing land) connected 4-directionally (horizontal or vertical.)  You may assume all four edges of the grid are surrounded by water.</p>\n",
    "\n",
    "<p>Count the number of <b>distinct</b> islands.  An island is considered to be the same as another if and only if one island can be translated (and not rotated or reflected) to equal the other.</p>\n",
    "\n",
    "<p><b>Example 1:</b><br>\n",
    "</p><pre>11000\n",
    "11000\n",
    "00011\n",
    "00011\n",
    "</pre>\n",
    "Given the above grid map, return <code>1</code>.\n",
    "<p></p>\n",
    "\n",
    "<p><b>Example 2:</b><br>\n",
    "</p><pre>11011\n",
    "10000\n",
    "00001\n",
    "11011</pre>\n",
    "Given the above grid map, return <code>3</code>.<br><br>\n",
    "Notice that:\n",
    "<pre>11\n",
    "1\n",
    "</pre>\n",
    "and\n",
    "<pre> 1\n",
    "11\n",
    "</pre>\n",
    "are considered different island shapes, because we do not consider reflection / rotation.\n",
    "<p></p>\n",
    "\n",
    "<p><b>Note:</b>\n",
    "The length of each dimension in the given <code>grid</code> does not exceed 50.\n",
    "</p></div>"
   ]
  },
  {
   "cell_type": "markdown",
   "metadata": {},
   "source": [
    "## Option 1\n",
    "<p>\n",
    "<li>So we can identify a shape by its DFS path\n",
    "    <li>However there can be edge cases where the same path can be different shapes, like (112) so add an element (#) as a border/closing\n",
    "<p>\n",
    "<p>\n",
    "Time complexity = O(mn) \n",
    "<br>\n",
    "Space complexity = O(max(m,n))"
   ]
  },
  {
   "cell_type": "code",
   "execution_count": null,
   "metadata": {
    "scrolled": false
   },
   "outputs": [],
   "source": [
    "class Solution(object):\n",
    "    def numDistinctIslands(self, grid):\n",
    "        m,n = len(grid), len(grid[0])\n",
    "        \n",
    "        def search(i,j):\n",
    "            grid[i][j] = 0\n",
    "            res = ''\n",
    "            for ni,nj,code in ((i,j+1,'1'),(i+1,j,'2'),(i,j-1,'3'),(i-1,j,'4')):\n",
    "                if ni >= 0 and ni < m and nj >= 0 and nj < n and grid[ni][nj] == 1:\n",
    "                    res += code+','+search(ni,nj)\n",
    "            return res+'#'\n",
    "        \n",
    "        islands = set()\n",
    "        \n",
    "        for i in range(m):\n",
    "            for j in range(n):\n",
    "                if grid[i][j] == 1:\n",
    "                    islands.add(search(i,j))\n",
    "        \n",
    "        return len(islands)\n",
    "        \n",
    "Solution().numDistinctIslands([[1,0,1,0,1],[0,0,0,0,0],[0,0,0,0,1],[0,0,0,1,1]])\n"
   ]
  },
  {
   "cell_type": "markdown",
   "metadata": {},
   "source": [
    "#### Result: 172ms (98.34%)"
   ]
  }
 ],
 "metadata": {
  "kernelspec": {
   "display_name": "Python 3",
   "language": "python",
   "name": "python3"
  },
  "language_info": {
   "codemirror_mode": {
    "name": "ipython",
    "version": 3
   },
   "file_extension": ".py",
   "mimetype": "text/x-python",
   "name": "python",
   "nbconvert_exporter": "python",
   "pygments_lexer": "ipython3",
   "version": "3.7.4"
  }
 },
 "nbformat": 4,
 "nbformat_minor": 2
}
