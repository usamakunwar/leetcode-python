{
 "cells": [
  {
   "cell_type": "markdown",
   "metadata": {},
   "source": [
    "# 33. Search in Rotated Sorted Array (Medium)\n"
   ]
  },
  {
   "cell_type": "markdown",
   "metadata": {},
   "source": [
    "<div><p>Suppose an array sorted in ascending order is rotated at some pivot unknown to you beforehand.</p>\n",
    "\n",
    "<p>(i.e., <code>[0,1,2,4,5,6,7]</code> might become <code>[4,5,6,7,0,1,2]</code>).</p>\n",
    "\n",
    "<p>You are given a target value to search. If found in the array return its index, otherwise return <code>-1</code>.</p>\n",
    "\n",
    "<p>You may assume no duplicate exists in the array.</p>\n",
    "\n",
    "<p>Your algorithm's runtime complexity must be in the order of&nbsp;<em>O</em>(log&nbsp;<em>n</em>).</p>\n",
    "\n",
    "<p><strong>Example 1:</strong></p>\n",
    "\n",
    "<pre><strong>Input:</strong> nums = [<code>4,5,6,7,0,1,2]</code>, target = 0\n",
    "<strong>Output:</strong> 4\n",
    "</pre>\n",
    "\n",
    "<p><strong>Example 2:</strong></p>\n",
    "\n",
    "<pre><strong>Input:</strong> nums = [<code>4,5,6,7,0,1,2]</code>, target = 3\n",
    "<strong>Output:</strong> -1</pre>\n",
    "</div>"
   ]
  },
  {
   "cell_type": "markdown",
   "metadata": {},
   "source": [
    "## Option 1\n",
    "\n",
    "Binary Search\n",
    "<p>\n",
    "Time complexity = O(logn)\n",
    "<br>\n",
    "Space complexity = O(1)"
   ]
  },
  {
   "cell_type": "code",
   "execution_count": 102,
   "metadata": {
    "scrolled": true
   },
   "outputs": [
    {
     "data": {
      "text/plain": [
       "4"
      ]
     },
     "execution_count": 102,
     "metadata": {},
     "output_type": "execute_result"
    }
   ],
   "source": [
    "class Solution:\n",
    "    def search(self, nums: [int], target: int) -> int:\n",
    "        if not nums: return -1\n",
    "        lnums = len(nums)-1\n",
    "        l,r = 0,lnums\n",
    "        #Find the rotation point first\n",
    "        while l < r:\n",
    "            mid = (l+r)//2\n",
    "            if nums[mid] > nums[r]:\n",
    "                l = mid + 1\n",
    "            else:\n",
    "                r = mid      \n",
    "        #Then search one of the halves\n",
    "        #Note that the array may not be rotated at all, in that case l = 0 so use len(nums)\n",
    "        l,r = (l,lnums) if target < nums[0] else (0, lnums if l == 0 else l)\n",
    "        while l < r:\n",
    "            mid = (l+r)//2\n",
    "            #Early exit binary search is quicker\n",
    "            if nums[mid] == target: return mid\n",
    "            if nums[mid] < target:\n",
    "                l = mid + 1\n",
    "            else:\n",
    "                r = mid\n",
    "        return l if nums[l] == target else -1\n",
    "            \n",
    "Solution().search([4,5,6,7,0,1,2],0)"
   ]
  },
  {
   "cell_type": "markdown",
   "metadata": {},
   "source": [
    "#### Result:  40ms (66.38%)"
   ]
  }
 ],
 "metadata": {
  "kernelspec": {
   "display_name": "Python 3",
   "language": "python",
   "name": "python3"
  },
  "language_info": {
   "codemirror_mode": {
    "name": "ipython",
    "version": 3
   },
   "file_extension": ".py",
   "mimetype": "text/x-python",
   "name": "python",
   "nbconvert_exporter": "python",
   "pygments_lexer": "ipython3",
   "version": "3.7.4"
  }
 },
 "nbformat": 4,
 "nbformat_minor": 2
}
