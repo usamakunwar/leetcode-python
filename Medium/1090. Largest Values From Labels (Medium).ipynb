{
 "cells": [
  {
   "cell_type": "markdown",
   "metadata": {},
   "source": [
    "# 1090. Largest Values From Labels (Medium)"
   ]
  },
  {
   "cell_type": "markdown",
   "metadata": {},
   "source": [
    "<div><p>We have a set of items: the <code>i</code>-th item has value <code>values[i]</code> and label <code>labels[i]</code>.</p>\n",
    "\n",
    "<p>Then, we choose&nbsp;a subset <code>S</code> of these items, such that:</p>\n",
    "\n",
    "<ul>\n",
    "\t<li><code>|S| &lt;= num_wanted</code></li>\n",
    "\t<li>For every label <code>L</code>, the number of items in <code>S</code> with&nbsp;label <code>L</code> is <code>&lt;= use_limit</code>.</li>\n",
    "</ul>\n",
    "\n",
    "<p>Return the largest possible sum of the subset <code>S</code>.</p>\n",
    "\n",
    "<p>&nbsp;</p>\n",
    "\n",
    "<div>\n",
    "<p><strong>Example 1:</strong></p>\n",
    "\n",
    "<pre><strong>Input: </strong>values = <span id=\"example-input-1-1\">[5,4,3,2,1]</span>, labels = <span id=\"example-input-1-2\">[1,1,2,2,3]</span>, <code>num_wanted </code>= <span id=\"example-input-1-3\">3</span>, use_limit = <span id=\"example-input-1-4\">1</span>\n",
    "<strong>Output: </strong><span id=\"example-output-1\">9</span>\n",
    "<strong>Explanation: </strong>The subset chosen is the first, third, and fifth item.\n",
    "</pre>\n",
    "\n",
    "<div>\n",
    "<p><strong>Example 2:</strong></p>\n",
    "\n",
    "<pre><strong>Input: </strong>values = <span id=\"example-input-2-1\">[5,4,3,2,1]</span>, labels = <span id=\"example-input-2-2\">[1,3,3,3,2]</span>, <code>num_wanted </code>= <span id=\"example-input-2-3\">3</span>, use_limit = <span id=\"example-input-2-4\">2</span>\n",
    "<strong>Output: </strong><span id=\"example-output-2\">12</span>\n",
    "<strong>Explanation: </strong>The subset chosen is the first, second, and third item.\n",
    "</pre>\n",
    "\n",
    "<div>\n",
    "<p><strong>Example 3:</strong></p>\n",
    "\n",
    "<pre><strong>Input: </strong>values = <span id=\"example-input-3-1\">[9,8,8,7,6]</span>, labels = <span id=\"example-input-3-2\">[0,0,0,1,1]</span>, <code>num_wanted </code>= <span id=\"example-input-3-3\">3</span>, use_limit = <span id=\"example-input-3-4\">1</span>\n",
    "<strong>Output:</strong>&nbsp;16\n",
    "<strong>Explanation: </strong>The subset chosen is the first and fourth item.\n",
    "</pre>\n",
    "\n",
    "<div>\n",
    "<p><strong>Example 4:</strong></p>\n",
    "\n",
    "<pre><strong>Input: </strong>values = <span id=\"example-input-4-1\">[9,8,8,7,6]</span>, labels = <span id=\"example-input-4-2\">[0,0,0,1,1]</span>, <code>num_wanted </code>= <span id=\"example-input-4-3\">3</span>, use_limit = <span id=\"example-input-4-4\">2</span>\n",
    "<strong>Output: </strong><span id=\"example-output-4\">24</span>\n",
    "<strong>Explanation: </strong>The subset chosen is the first, second, and fourth item.\n",
    "</pre>\n",
    "\n",
    "<p>&nbsp;</p>\n",
    "\n",
    "<p><strong>Note:</strong></p>\n",
    "\n",
    "<ol>\n",
    "\t<li><code>1 &lt;= values.length == labels.length &lt;= 20000</code></li>\n",
    "\t<li><code>0 &lt;= values[i], labels[i]&nbsp;&lt;= 20000</code></li>\n",
    "\t<li><code>1 &lt;= num_wanted, use_limit&nbsp;&lt;= values.length</code></li>\n",
    "</ol>\n",
    "</div>\n",
    "</div>\n",
    "</div>\n",
    "</div></div>"
   ]
  },
  {
   "cell_type": "markdown",
   "metadata": {},
   "source": [
    "## Option 1\n",
    " <p>    \n",
    "Priority Queue \n",
    "<p>\n",
    "\n",
    "<p>\n",
    "            \n",
    "Time complexity: O(mlogn) n = len(values)  m = num_wanted\n",
    "    <br>\n",
    "Space complexity: O(m)\n",
    "        \n"
   ]
  },
  {
   "cell_type": "code",
   "execution_count": null,
   "metadata": {
    "scrolled": true
   },
   "outputs": [],
   "source": [
    "class Solution(object):\n",
    "    def largestValsFromLabels(self, values, labels, num_wanted, use_limit):\n",
    "        h = map(lambda (x,y):(-y,x), enumerate(values))\n",
    "        heapq.heapify(h)\n",
    "        \n",
    "        res, m = 0, collections.Counter()\n",
    "        \n",
    "        while num_wanted and h:\n",
    "            val, idx = heapq.heappop(h)\n",
    "            if m[labels[idx]] < use_limit:\n",
    "                res += -val\n",
    "                m[labels[idx]] += 1\n",
    "                num_wanted -= 1\n",
    "            \n",
    "        return res\n",
    "\n",
    "    Solution().largestValsFromLabels([5,4,3,2,1], [1,1,2,2,3], 3, 1)\n"
   ]
  },
  {
   "cell_type": "markdown",
   "metadata": {},
   "source": [
    "#### Result: 148ms (47.14%)"
   ]
  }
 ],
 "metadata": {
  "kernelspec": {
   "display_name": "Python 2",
   "language": "python",
   "name": "python2"
  },
  "language_info": {
   "codemirror_mode": {
    "name": "ipython",
    "version": 2
   },
   "file_extension": ".py",
   "mimetype": "text/x-python",
   "name": "python",
   "nbconvert_exporter": "python",
   "pygments_lexer": "ipython2",
   "version": "2.7.16"
  }
 },
 "nbformat": 4,
 "nbformat_minor": 2
}
