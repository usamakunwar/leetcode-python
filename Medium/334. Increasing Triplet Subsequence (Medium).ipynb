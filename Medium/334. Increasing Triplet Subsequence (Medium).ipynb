{
 "cells": [
  {
   "cell_type": "markdown",
   "metadata": {},
   "source": [
    "# 334. Increasing Triplet Subsequence (Medium)\n"
   ]
  },
  {
   "cell_type": "markdown",
   "metadata": {},
   "source": [
    "<div><p>Given an unsorted array return whether an increasing subsequence of length 3 exists or not in the array.</p>\n",
    "\n",
    "<p>Formally the function should:</p>\n",
    "\n",
    "<blockquote>Return true if there exists <i>i, j, k </i><br>\n",
    "such that <i>arr[i]</i> &lt; <i>arr[j]</i> &lt; <i>arr[k]</i> given 0 ≤ <i>i</i> &lt; <i>j</i> &lt; <i>k</i> ≤ <i>n</i>-1 else return false.</blockquote>\n",
    "\n",
    "<p><strong>Note: </strong>Your algorithm should run in O(<i>n</i>) time complexity and O(<i>1</i>) space complexity.</p>\n",
    "\n",
    "<div>\n",
    "<p><strong>Example 1:</strong></p>\n",
    "\n",
    "<pre><strong>Input: </strong><span id=\"example-input-1-1\">[1,2,3,4,5]</span>\n",
    "<strong>Output: </strong><span id=\"example-output-1\">true</span>\n",
    "</pre>\n",
    "\n",
    "<div>\n",
    "<p><strong>Example 2:</strong></p>\n",
    "\n",
    "<pre><strong>Input: </strong><span id=\"example-input-2-1\">[5,4,3,2,1]</span>\n",
    "<strong>Output: </strong><span id=\"example-output-2\">false</span>\n",
    "</pre>\n",
    "</div>\n",
    "</div></div>"
   ]
  },
  {
   "cell_type": "markdown",
   "metadata": {},
   "source": [
    "## Option 1\n",
    "<p>\n",
    "      <p>         <p>\n",
    "Time complexity: O(n)\n",
    "    <br>\n",
    "Space complexity: O(1)\n"
   ]
  },
  {
   "cell_type": "code",
   "execution_count": null,
   "metadata": {
    "scrolled": true
   },
   "outputs": [],
   "source": [
    "class Solution(object):\n",
    "    def increasingTriplet(self, nums):\n",
    "        a = b = float('inf')\n",
    "        for n in nums:\n",
    "            if n > b: return True\n",
    "            if n <= a:\n",
    "                a = n\n",
    "            elif n < b:\n",
    "                b = n\n",
    "        return False\n",
    "    \n",
    "Solution().increasingTriplet([1,1,-2,6])     \n"
   ]
  },
  {
   "cell_type": "markdown",
   "metadata": {},
   "source": [
    "#### Result: 44ms (59.46%)"
   ]
  }
 ],
 "metadata": {
  "kernelspec": {
   "display_name": "Python 2",
   "language": "python",
   "name": "python2"
  },
  "language_info": {
   "codemirror_mode": {
    "name": "ipython",
    "version": 2
   },
   "file_extension": ".py",
   "mimetype": "text/x-python",
   "name": "python",
   "nbconvert_exporter": "python",
   "pygments_lexer": "ipython2",
   "version": "2.7.16"
  }
 },
 "nbformat": 4,
 "nbformat_minor": 2
}
