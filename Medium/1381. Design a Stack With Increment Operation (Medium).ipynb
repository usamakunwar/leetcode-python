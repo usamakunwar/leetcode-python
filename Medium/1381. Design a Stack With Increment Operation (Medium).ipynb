{
 "cells": [
  {
   "cell_type": "markdown",
   "metadata": {},
   "source": [
    "# 1381. Design a Stack With Increment Operation (Medium)"
   ]
  },
  {
   "cell_type": "markdown",
   "metadata": {},
   "source": [
    "<div><p>Design a stack which supports the following operations.</p>\n",
    "\n",
    "<p>Implement the <code>CustomStack</code> class:</p>\n",
    "\n",
    "<ul>\n",
    "\t<li><code>CustomStack(int maxSize)</code> Initializes the object with <code>maxSize</code> which is the maximum number of elements in the stack or do nothing if the stack reached the <code>maxSize</code>.</li>\n",
    "\t<li><code>void push(int x)</code>&nbsp;Adds <code>x</code> to the top of the stack if the stack hasn't reached the <code>maxSize</code>.</li>\n",
    "\t<li><code>int pop()</code>&nbsp;Pops and returns the top of stack or <strong>-1</strong> if the stack is empty.</li>\n",
    "\t<li><code>void inc(int k, int val)</code> Increments the bottom <code>k</code> elements of the stack by <code>val</code>. If there are less than <code>k</code> elements in the stack, just increment all the elements in the stack.</li>\n",
    "</ul>\n",
    "\n",
    "<p>&nbsp;</p>\n",
    "<p><strong>Example 1:</strong></p>\n",
    "\n",
    "<pre><strong>Input</strong>\n",
    "[\"CustomStack\",\"push\",\"push\",\"pop\",\"push\",\"push\",\"push\",\"increment\",\"increment\",\"pop\",\"pop\",\"pop\",\"pop\"]\n",
    "[[3],[1],[2],[],[2],[3],[4],[5,100],[2,100],[],[],[],[]]\n",
    "<strong>Output</strong>\n",
    "[null,null,null,2,null,null,null,null,null,103,202,201,-1]\n",
    "<strong>Explanation</strong>\n",
    "CustomStack customStack = new CustomStack(3); // Stack is Empty []\n",
    "customStack.push(1);                          // stack becomes [1]\n",
    "customStack.push(2);                          // stack becomes [1, 2]\n",
    "customStack.pop();                            // return 2 --&gt; Return top of the stack 2, stack becomes [1]\n",
    "customStack.push(2);                          // stack becomes [1, 2]\n",
    "customStack.push(3);                          // stack becomes [1, 2, 3]\n",
    "customStack.push(4);                          // stack still [1, 2, 3], Don't add another elements as size is 4\n",
    "customStack.increment(5, 100);                // stack becomes [101, 102, 103]\n",
    "customStack.increment(2, 100);                // stack becomes [201, 202, 103]\n",
    "customStack.pop();                            // return 103 --&gt; Return top of the stack 103, stack becomes [201, 202]\n",
    "customStack.pop();                            // return 202 --&gt; Return top of the stack 102, stack becomes [201]\n",
    "customStack.pop();                            // return 201 --&gt; Return top of the stack 101, stack becomes []\n",
    "customStack.pop();                            // return -1 --&gt; Stack is empty return -1.\n",
    "</pre>\n",
    "\n",
    "<p>&nbsp;</p>\n",
    "<p><strong>Constraints:</strong></p>\n",
    "\n",
    "<ul>\n",
    "\t<li><code>1 &lt;= maxSize &lt;= 1000</code></li>\n",
    "\t<li><code>1 &lt;= x &lt;= 1000</code></li>\n",
    "\t<li><code>1 &lt;= k &lt;= 1000</code></li>\n",
    "\t<li><code>0 &lt;= val &lt;= 100</code></li>\n",
    "\t<li>At most&nbsp;<code>1000</code>&nbsp;calls will be made to each method of <code>increment</code>, <code>push</code> and <code>pop</code> each separately.</li>\n",
    "</ul></div>"
   ]
  },
  {
   "cell_type": "markdown",
   "metadata": {},
   "source": [
    "## Option 1\n",
    "<p>\n",
    "<p><li>Use a seperate value in the stack (as a tuple) to identify the increment\n",
    "   <li>Set this value on the max index to increment, when this index is popped, pass the increment value to the next\n",
    "        <p>\n",
    "            <p>\n",
    "Time complexity: O(n)\n",
    "    <br>\n",
    "Space complexity: O(n)"
   ]
  },
  {
   "cell_type": "code",
   "execution_count": null,
   "metadata": {
    "scrolled": true
   },
   "outputs": [],
   "source": [
    "class CustomStack(object):\n",
    "\n",
    "    def __init__(self, maxSize):\n",
    "        self.stack = []\n",
    "        self.maxSize = maxSize        \n",
    "\n",
    "    def push(self, x):\n",
    "        if len(self.stack) < self.maxSize:\n",
    "            #(value, increment value)\n",
    "            self.stack.append((x,0))\n",
    "\n",
    "    def pop(self):\n",
    "        if not self.stack: return -1\n",
    "        v = self.stack.pop()\n",
    "        if self.stack:\n",
    "            self.stack[-1] = (self.stack[-1][0], self.stack[-1][1]+v[1])\n",
    "        return v[0]+v[1]\n",
    "\n",
    "    def increment(self, k, val):\n",
    "        if self.stack:\n",
    "            k = min(k,self.maxSize,len(self.stack))\n",
    "            self.stack[k-1] = (self.stack[k-1][0],self.stack[k-1][1]+val)\n",
    "        \n",
    "\n",
    "\n",
    "# Your CustomStack object will be instantiated and called as such:\n",
    "# obj = CustomStack(maxSize)\n",
    "# obj.push(x)\n",
    "# param_2 = obj.pop()\n",
    "# obj.increment(k,val)"
   ]
  },
  {
   "cell_type": "markdown",
   "metadata": {},
   "source": [
    "#### Result: 76ms (95.56%)"
   ]
  }
 ],
 "metadata": {
  "kernelspec": {
   "display_name": "Python 2",
   "language": "python",
   "name": "python2"
  },
  "language_info": {
   "codemirror_mode": {
    "name": "ipython",
    "version": 2
   },
   "file_extension": ".py",
   "mimetype": "text/x-python",
   "name": "python",
   "nbconvert_exporter": "python",
   "pygments_lexer": "ipython2",
   "version": "2.7.16"
  }
 },
 "nbformat": 4,
 "nbformat_minor": 2
}
