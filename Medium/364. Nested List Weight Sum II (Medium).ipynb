{
 "cells": [
  {
   "cell_type": "markdown",
   "metadata": {},
   "source": [
    "# 364. Nested List Weight Sum II (Medium)\n",
    "\n"
   ]
  },
  {
   "cell_type": "markdown",
   "metadata": {},
   "source": [
    "<div><p>Given a nested list of integers, return the sum of all integers in the list weighted by their depth.</p>\n",
    "\n",
    "<p>Each element is either an integer, or a list -- whose elements may also be integers or other lists.</p>\n",
    "\n",
    "<p>Different from the <a href=\"https://leetcode.com/problems/nested-list-weight-sum/\">previous question</a> where weight is increasing from root to leaf, now the weight is defined from bottom up. i.e., the leaf level integers have weight 1, and the root level integers have the largest weight.</p>\n",
    "\n",
    "<p><strong>Example 1:</strong></p>\n",
    "\n",
    "<div>\n",
    "<pre><strong>Input: </strong><span id=\"example-input-1-1\">[[1,1],2,[1,1]]</span>\n",
    "<strong>Output: </strong><span id=\"example-output-1\">8 \n",
    "<strong>Explanation: </strong>F</span>our 1's at depth 1, one 2 at depth 2.\n",
    "</pre>\n",
    "\n",
    "<div>\n",
    "<p><strong>Example 2:</strong></p>\n",
    "\n",
    "<pre><strong>Input: </strong><span id=\"example-input-2-1\">[1,[4,[6]]]</span>\n",
    "<strong>Output: </strong><span id=\"example-output-2\">17 \n",
    "<strong>Explanation:</strong> O</span>ne 1 at depth 3, one 4 at depth 2, and one 6 at depth 1; 1*3 + 4*2 + 6*1 = 17.\n",
    "</pre>\n",
    "</div>\n",
    "</div>\n",
    "</div>"
   ]
  },
  {
   "cell_type": "markdown",
   "metadata": {},
   "source": [
    "## Option 1\n",
    "<p><p>\n",
    "    DFS with a map\n",
    "            <p>\n",
    "Time complexity: O(n)\n",
    "<br>\n",
    "Space complexity: O(d) nested levels"
   ]
  },
  {
   "cell_type": "code",
   "execution_count": null,
   "metadata": {},
   "outputs": [],
   "source": [
    "# \"\"\"\n",
    "# This is the interface that allows for creating nested lists.\n",
    "# You should not implement it, or speculate about its implementation\n",
    "# \"\"\"\n",
    "#class NestedInteger(object):\n",
    "#    def __init__(self, value=None):\n",
    "#        \"\"\"\n",
    "#        If value is not specified, initializes an empty list.\n",
    "#        Otherwise initializes a single integer equal to value.\n",
    "#        \"\"\"\n",
    "#\n",
    "#    def isInteger(self):\n",
    "#        \"\"\"\n",
    "#        @return True if this NestedInteger holds a single integer, rather than a nested list.\n",
    "#        :rtype bool\n",
    "#        \"\"\"\n",
    "#\n",
    "#    def add(self, elem):\n",
    "#        \"\"\"\n",
    "#        Set this NestedInteger to hold a nested list and adds a nested integer elem to it.\n",
    "#        :rtype void\n",
    "#        \"\"\"\n",
    "#\n",
    "#    def setInteger(self, value):\n",
    "#        \"\"\"\n",
    "#        Set this NestedInteger to hold a single integer equal to value.\n",
    "#        :rtype void\n",
    "#        \"\"\"\n",
    "#\n",
    "#    def getInteger(self):\n",
    "#        \"\"\"\n",
    "#        @return the single integer that this NestedInteger holds, if it holds a single integer\n",
    "#        Return None if this NestedInteger holds a nested list\n",
    "#        :rtype int\n",
    "#        \"\"\"\n",
    "#\n",
    "#    def getList(self):\n",
    "#        \"\"\"\n",
    "#        @return the nested list that this NestedInteger holds, if it holds a nested list\n",
    "#        Return None if this NestedInteger holds a single integer\n",
    "#        :rtype List[NestedInteger]\n",
    "#        \"\"\"\n",
    "\n",
    "class Solution(object):\n",
    "    def depthSumInverse(self, nestedList):\n",
    "\n",
    "        self.m = collections.Counter()\n",
    "        self.depth = 0\n",
    "        def depthsum(nestedList, curr):\n",
    "            for n in nestedList:\n",
    "                i = n.getInteger()\n",
    "                if i:\n",
    "                    self.m[curr] += i\n",
    "                    self.depth = max(self.depth, curr)\n",
    "                else:\n",
    "                    depthsum(n.getList(), curr+1)        \n",
    "        depthsum(nestedList, 1)\n",
    "        return sum( v*(self.depth-k+1) for k,v in self.m.items())\n",
    "        "
   ]
  },
  {
   "cell_type": "markdown",
   "metadata": {},
   "source": [
    "#### Result: 24ms (25.26%)\n"
   ]
  },
  {
   "cell_type": "markdown",
   "metadata": {},
   "source": [
    "## Option 2\n",
    "<p><p>\n",
    "    <li>Iterative\n",
    "    <li>Instead of multiplying values, we could accumulate them. E.g. [7[6[5]]], the 7 can be accumulated at every level, so 7 + 7 + 7\n",
    "<p>\n",
    "\n",
    "Time complexity: O(n)\n",
    "<br>\n",
    "Space complexity: O(d) nested leels"
   ]
  },
  {
   "cell_type": "code",
   "execution_count": null,
   "metadata": {},
   "outputs": [],
   "source": [
    "class Solution(object):\n",
    "    def depthSumInverse(self, nestedList):  \n",
    "        \n",
    "        weighted = unweighted = 0\n",
    "        \n",
    "        while nestedList:\n",
    "            stack = []\n",
    "            for n in nestedList:\n",
    "                i = n.getInteger()\n",
    "                if i:\n",
    "                    unweighted += i\n",
    "                else:\n",
    "                    stack.extend(n.getList())\n",
    "                    \n",
    "            nestedList = stack\n",
    "            weighted += unweighted\n",
    "        \n",
    "        return weighted"
   ]
  },
  {
   "cell_type": "markdown",
   "metadata": {},
   "source": [
    "#### Result: 24ms (25.26%)\n"
   ]
  }
 ],
 "metadata": {
  "kernelspec": {
   "display_name": "Python 2",
   "language": "python",
   "name": "python2"
  },
  "language_info": {
   "codemirror_mode": {
    "name": "ipython",
    "version": 2
   },
   "file_extension": ".py",
   "mimetype": "text/x-python",
   "name": "python",
   "nbconvert_exporter": "python",
   "pygments_lexer": "ipython2",
   "version": "2.7.16"
  }
 },
 "nbformat": 4,
 "nbformat_minor": 2
}
