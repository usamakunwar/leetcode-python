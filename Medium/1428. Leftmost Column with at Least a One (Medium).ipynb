{
 "cells": [
  {
   "cell_type": "markdown",
   "metadata": {},
   "source": [
    "# 1428. Leftmost Column with at Least a One (Medium)"
   ]
  },
  {
   "cell_type": "markdown",
   "metadata": {},
   "source": [
    "<div><p><em>(This problem is an&nbsp;<strong>interactive problem</strong>.)</em></p>\n",
    "\n",
    "<p>A binary matrix means that all elements are&nbsp;<code>0</code>&nbsp;or&nbsp;<code>1</code>. For each&nbsp;<strong>individual</strong> row of the matrix, this row&nbsp;is sorted in non-decreasing order.</p>\n",
    "\n",
    "<p>Given a row-sorted binary matrix binaryMatrix, return leftmost column index(0-indexed) with at least a&nbsp;<code>1</code>&nbsp;in it. If such&nbsp;index&nbsp;doesn't exist, return <code>-1</code>.</p>\n",
    "\n",
    "<p><strong>You can't access the Binary Matrix directly.</strong>&nbsp; You may only access the matrix using a&nbsp;<code>BinaryMatrix</code>&nbsp;interface:</p>\n",
    "\n",
    "<ul>\n",
    "\t<li><code>BinaryMatrix.get(row, col)</code> returns the element of the matrix&nbsp;at index <code>(row, col)</code>&nbsp;(0-indexed).</li>\n",
    "\t<li><code>BinaryMatrix.dimensions()</code>&nbsp;returns a list of 2 elements&nbsp;<code>[rows, cols]</code>, which means the matrix is <code>rows * cols</code>.</li>\n",
    "</ul>\n",
    "\n",
    "<p>Submissions making more than <code>1000</code>&nbsp;calls to&nbsp;<code>BinaryMatrix.get</code>&nbsp;will be judged <em>Wrong Answer</em>.&nbsp; Also, any solutions that attempt to circumvent the judge&nbsp;will result in disqualification.</p>\n",
    "\n",
    "<p>For custom testing purposes you're given the binary matrix <code>mat</code>&nbsp;as input&nbsp;in the following four examples. You will not have&nbsp;access the binary matrix directly.</p>\n",
    "\n",
    "<p>&nbsp;</p>\n",
    "\n",
    "<p>&nbsp;</p>\n",
    "\n",
    "<p>&nbsp;</p>\n",
    "<p><strong>Example 1:</strong></p>\n",
    "\n",
    "<p><strong><img alt=\"\" src=\"https://assets.leetcode.com/uploads/2019/10/25/untitled-diagram-5.jpg\" style=\"width: 81px; height: 81px;\"></strong></p>\n",
    "\n",
    "<pre><strong>Input:</strong> mat = [[0,0],[1,1]]\n",
    "<strong>Output:</strong> 0\n",
    "</pre>\n",
    "\n",
    "<p><strong>Example 2:</strong></p>\n",
    "\n",
    "<p><strong><img alt=\"\" src=\"https://assets.leetcode.com/uploads/2019/10/25/untitled-diagram-4.jpg\" style=\"width: 81px; height: 81px;\"></strong></p>\n",
    "\n",
    "<pre><strong>Input:</strong> mat = [[0,0],[0,1]]\n",
    "<strong>Output:</strong> 1\n",
    "</pre>\n",
    "\n",
    "<p><strong>Example 3:</strong></p>\n",
    "\n",
    "<p><strong><img alt=\"\" src=\"https://assets.leetcode.com/uploads/2019/10/25/untitled-diagram-3.jpg\" style=\"width: 81px; height: 81px;\"></strong></p>\n",
    "\n",
    "<pre><strong>Input:</strong> mat = [[0,0],[0,0]]\n",
    "<strong>Output:</strong> -1</pre>\n",
    "\n",
    "<p><strong>Example 4:</strong></p>\n",
    "\n",
    "<p><strong><img alt=\"\" src=\"https://assets.leetcode.com/uploads/2019/10/25/untitled-diagram-6.jpg\" style=\"width: 161px; height: 121px;\"></strong></p>\n",
    "\n",
    "<pre><strong>Input:</strong> mat = [[0,0,0,1],[0,0,1,1],[0,1,1,1]]\n",
    "<strong>Output:</strong> 1\n",
    "</pre>\n",
    "\n",
    "<p>&nbsp;</p>\n",
    "<p><strong>Constraints:</strong></p>\n",
    "\n",
    "<ul>\n",
    "\t<li><code>rows == mat.length</code></li>\n",
    "\t<li><code>cols == mat[i].length</code></li>\n",
    "\t<li><code>1 &lt;= rows, cols&nbsp;&lt;= 100</code></li>\n",
    "\t<li><code>mat[i][j]</code> is either <code>0</code>&nbsp;or&nbsp;<code>1</code>.</li>\n",
    "\t<li><code>mat[i]</code>&nbsp;is sorted in a&nbsp;non-decreasing way.</li>\n",
    "</ul></div>"
   ]
  },
  {
   "cell_type": "markdown",
   "metadata": {},
   "source": [
    "## Option 1\n",
    " <p>   \n",
    "    Staircase. From top right. Down if 0, left if 1\n",
    "    <p>\n",
    "<p>\n",
    "<p>\n",
    "Time complexity: O(m+n)\n",
    "    <br>\n",
    "Space complexity: O(1)\n"
   ]
  },
  {
   "cell_type": "code",
   "execution_count": null,
   "metadata": {},
   "outputs": [],
   "source": [
    "\n",
    "class Solution(object):\n",
    "    def leftMostColumnWithOne(self, binaryMatrix):\n",
    "        \n",
    "        m, n = binaryMatrix.dimensions()\n",
    "        i, j = 0, n-1\n",
    "        \n",
    "        while i < m and j >= 0:\n",
    "            if binaryMatrix.get(i,j):\n",
    "                j -= 1\n",
    "            else:\n",
    "                i += 1\n",
    "        \n",
    "        return -1 if j == n-1 else j+1\n",
    "            "
   ]
  },
  {
   "cell_type": "markdown",
   "metadata": {},
   "source": [
    "#### Result:  104ms (37.29%)"
   ]
  }
 ],
 "metadata": {
  "kernelspec": {
   "display_name": "Python 2",
   "language": "python",
   "name": "python2"
  },
  "language_info": {
   "codemirror_mode": {
    "name": "ipython",
    "version": 2
   },
   "file_extension": ".py",
   "mimetype": "text/x-python",
   "name": "python",
   "nbconvert_exporter": "python",
   "pygments_lexer": "ipython2",
   "version": "2.7.16"
  }
 },
 "nbformat": 4,
 "nbformat_minor": 2
}
