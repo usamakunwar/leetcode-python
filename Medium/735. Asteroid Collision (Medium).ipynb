{
 "cells": [
  {
   "cell_type": "markdown",
   "metadata": {},
   "source": [
    "# 735. Asteroid Collision (Medium)\n"
   ]
  },
  {
   "cell_type": "markdown",
   "metadata": {},
   "source": [
    "<div><p>\n",
    "We are given an array <code>asteroids</code> of integers representing asteroids in a row.\n",
    "</p><p>\n",
    "For each asteroid, the absolute value represents its size, and the sign represents its direction (positive meaning right, negative meaning left).  Each asteroid moves at the same speed.\n",
    "</p><p>\n",
    "Find out the state of the asteroids after all collisions.  If two asteroids meet, the smaller one will explode.  If both are the same size, both will explode.  Two asteroids moving in the same direction will never meet.\n",
    "</p>\n",
    "\n",
    "<p><b>Example 1:</b><br>\n",
    "</p><pre><b>Input:</b> \n",
    "asteroids = [5, 10, -5]\n",
    "<b>Output:</b> [5, 10]\n",
    "<b>Explanation:</b> \n",
    "The 10 and -5 collide resulting in 10.  The 5 and 10 never collide.\n",
    "</pre>\n",
    "<p></p>\n",
    "\n",
    "<p><b>Example 2:</b><br>\n",
    "</p><pre><b>Input:</b> \n",
    "asteroids = [8, -8]\n",
    "<b>Output:</b> []\n",
    "<b>Explanation:</b> \n",
    "The 8 and -8 collide exploding each other.\n",
    "</pre>\n",
    "<p></p>\n",
    "\n",
    "<p><b>Example 3:</b><br>\n",
    "</p><pre><b>Input:</b> \n",
    "asteroids = [10, 2, -5]\n",
    "<b>Output:</b> [10]\n",
    "<b>Explanation:</b> \n",
    "The 2 and -5 collide resulting in -5.  The 10 and -5 collide resulting in 10.\n",
    "</pre>\n",
    "<p></p>\n",
    "\n",
    "<p><b>Example 4:</b><br>\n",
    "</p><pre><b>Input:</b> \n",
    "asteroids = [-2, -1, 1, 2]\n",
    "<b>Output:</b> [-2, -1, 1, 2]\n",
    "<b>Explanation:</b> \n",
    "The -2 and -1 are moving left, while the 1 and 2 are moving right.\n",
    "Asteroids moving the same direction never meet, so no asteroids will meet each other.\n",
    "</pre>\n",
    "<p></p>\n",
    "\n",
    "<p><b>Note:</b>\n",
    "</p><li>The length of <code>asteroids</code> will be at most <code>10000</code>.</li>\n",
    "<li>Each asteroid will be a non-zero integer in the range <code>[-1000, 1000].</code>.</li>\n",
    "<p></p></div>"
   ]
  },
  {
   "cell_type": "markdown",
   "metadata": {},
   "source": [
    "## Option 1\n",
    "<p>\n",
    "<li>Stack\n",
    "<p>\n",
    "\n",
    "Time complexity: O(n)\n",
    "<br>\n",
    "Space complexity: O(n)"
   ]
  },
  {
   "cell_type": "code",
   "execution_count": null,
   "metadata": {},
   "outputs": [],
   "source": [
    "class Solution(object):\n",
    "    def asteroidCollision(self, asteroids):\n",
    "        stack = []\n",
    "        for a in asteroids:\n",
    "            while stack and a < 0 < stack[-1] and abs(a) > stack[-1]: \n",
    "                stack.pop()  \n",
    "                \n",
    "            if stack and a < 0 < stack[-1]:\n",
    "                if abs(a) == stack[-1]: stack.pop()     \n",
    "                continue\n",
    "            stack.append(a)\n",
    "\n",
    "        return stack\n",
    "        \n",
    "Solution().asteroidCollision([1,2,3,4,5,6,10,-10])\n",
    "        "
   ]
  },
  {
   "cell_type": "markdown",
   "metadata": {},
   "source": [
    "#### Result: 74ms (93.82%)\n"
   ]
  }
 ],
 "metadata": {
  "kernelspec": {
   "display_name": "Python 2",
   "language": "python",
   "name": "python2"
  },
  "language_info": {
   "codemirror_mode": {
    "name": "ipython",
    "version": 2
   },
   "file_extension": ".py",
   "mimetype": "text/x-python",
   "name": "python",
   "nbconvert_exporter": "python",
   "pygments_lexer": "ipython2",
   "version": "2.7.16"
  }
 },
 "nbformat": 4,
 "nbformat_minor": 2
}
