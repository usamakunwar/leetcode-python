{
 "cells": [
  {
   "cell_type": "markdown",
   "metadata": {},
   "source": [
    "# 1222. Queens That Can Attack the King (Medium)\n"
   ]
  },
  {
   "cell_type": "markdown",
   "metadata": {},
   "source": [
    "<div><p>On an <strong>8x8</strong> chessboard, there can be multiple Black Queens and one White King.</p>\n",
    "\n",
    "<p>Given an array of integer coordinates <code>queens</code> that represents the positions of the Black Queens, and a pair of coordinates <code>king</code> that represent the position of the White King, return the coordinates of all the queens (in any order) that can attack the King.</p>\n",
    "\n",
    "<p>&nbsp;</p>\n",
    "<p><strong>Example 1:</strong></p>\n",
    "\n",
    "<p><img alt=\"\" src=\"https://assets.leetcode.com/uploads/2019/10/01/untitled-diagram.jpg\" style=\"width: 321px; height: 321px;\"></p>\n",
    "\n",
    "<pre><strong>Input:</strong> queens = [[0,1],[1,0],[4,0],[0,4],[3,3],[2,4]], king = [0,0]\n",
    "<strong>Output:</strong> [[0,1],[1,0],[3,3]]\n",
    "<strong>Explanation:</strong>&nbsp; \n",
    "The queen at [0,1] can attack the king cause they're in the same row. \n",
    "The queen at [1,0] can attack the king cause they're in the same column. \n",
    "The queen at [3,3] can attack the king cause they're in the same diagnal. \n",
    "The queen at [0,4] can't attack the king cause it's blocked by the queen at [0,1]. \n",
    "The queen at [4,0] can't attack the king cause it's blocked by the queen at [1,0]. \n",
    "The queen at [2,4] can't attack the king cause it's not in the same row/column/diagnal as the king.\n",
    "</pre>\n",
    "\n",
    "<p><strong>Example 2:</strong></p>\n",
    "\n",
    "<p><strong><img alt=\"\" src=\"https://assets.leetcode.com/uploads/2019/10/01/untitled-diagram-1.jpg\" style=\"width: 321px; height: 321px;\"></strong></p>\n",
    "\n",
    "<pre><strong>Input:</strong> queens = [[0,0],[1,1],[2,2],[3,4],[3,5],[4,4],[4,5]], king = [3,3]\n",
    "<strong>Output:</strong> [[2,2],[3,4],[4,4]]\n",
    "</pre>\n",
    "\n",
    "<p><strong>Example 3:</strong></p>\n",
    "\n",
    "<p><strong><img alt=\"\" src=\"https://assets.leetcode.com/uploads/2019/10/01/untitled-diagram-2.jpg\" style=\"width: 321px; height: 321px;\"></strong></p>\n",
    "\n",
    "<pre><strong>Input:</strong> queens = [[5,6],[7,7],[2,1],[0,7],[1,6],[5,1],[3,7],[0,3],[4,0],[1,2],[6,3],[5,0],[0,4],[2,2],[1,1],[6,4],[5,4],[0,0],[2,6],[4,5],[5,2],[1,4],[7,5],[2,3],[0,5],[4,2],[1,0],[2,7],[0,1],[4,6],[6,1],[0,6],[4,3],[1,7]], king = [3,4]\n",
    "<strong>Output:</strong> [[2,3],[1,4],[1,6],[3,7],[4,3],[5,4],[4,5]]\n",
    "</pre>\n",
    "\n",
    "<p>&nbsp;</p>\n",
    "<p><strong>Constraints:</strong></p>\n",
    "\n",
    "<ul>\n",
    "\t<li><code>1 &lt;= queens.length&nbsp;&lt;= 63</code></li>\n",
    "\t<li><code>queens[0].length == 2</code></li>\n",
    "\t<li><code>0 &lt;= queens[i][j] &lt;&nbsp;8</code></li>\n",
    "\t<li><code>king.length == 2</code></li>\n",
    "\t<li><code>0 &lt;= king[0], king[1] &lt; 8</code></li>\n",
    "\t<li>At most one piece is allowed in a cell.</li>\n",
    "</ul>\n",
    "</div>"
   ]
  },
  {
   "cell_type": "markdown",
   "metadata": {},
   "source": [
    "## Option 1\n",
    "<p>\n",
    "    8 Directions\n",
    "<p>\n",
    "Time complexity: O(1)\n",
    "<br>\n",
    "Space complexity: O(n) number of queens"
   ]
  },
  {
   "cell_type": "code",
   "execution_count": null,
   "metadata": {
    "scrolled": false
   },
   "outputs": [],
   "source": [
    "import collections\n",
    "class Solution(object):\n",
    "    def queensAttacktheKing(self, queens, king):\n",
    "        queens, res = {(q[0],q[1]) for q in queens}, []\n",
    "        res = []\n",
    "        #North,East,South,West,NorthEast,SouthEast,SouthWest,NorthWest\n",
    "        for ni,nj in ((0,-1),(1,0),(0,1),(-1,0),(1,-1),(1,1),(-1,1),(-1,-1)):\n",
    "            i,j = king\n",
    "            while i >= 0 and j >= 0 and i < 8 and j < 8:\n",
    "                i,j = i+ni,j+nj\n",
    "                if (i,j) in queens: \n",
    "                    res.append([i,j])\n",
    "                    break\n",
    "        return res\n",
    "\n",
    "Solution().queensAttacktheKing([[0,0],[1,1],[2,2],[3,4],[3,5],[4,4],[4,5]],[3,3])"
   ]
  },
  {
   "cell_type": "markdown",
   "metadata": {},
   "source": [
    "#### Result: 24ms (83.82%)"
   ]
  }
 ],
 "metadata": {
  "kernelspec": {
   "display_name": "Python 2",
   "language": "python",
   "name": "python2"
  },
  "language_info": {
   "codemirror_mode": {
    "name": "ipython",
    "version": 2
   },
   "file_extension": ".py",
   "mimetype": "text/x-python",
   "name": "python",
   "nbconvert_exporter": "python",
   "pygments_lexer": "ipython2",
   "version": "2.7.16"
  }
 },
 "nbformat": 4,
 "nbformat_minor": 2
}
