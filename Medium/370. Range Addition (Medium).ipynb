{
 "cells": [
  {
   "cell_type": "markdown",
   "metadata": {},
   "source": [
    "# 370. Range Addition (Medium)"
   ]
  },
  {
   "cell_type": "markdown",
   "metadata": {},
   "source": [
    "<div><p>Assume you have an array of length <b><i>n</i></b> initialized with all <b>0</b>'s and are given <b><i>k</i></b> update operations.</p>\n",
    "\n",
    "<p>Each operation is represented as a triplet: <b>[startIndex, endIndex, inc]</b> which increments each element of subarray <b>A[startIndex ... endIndex]</b> (startIndex and endIndex inclusive) with <b>inc</b>.</p>\n",
    "\n",
    "<p>Return the modified array after all <b><i>k</i></b> operations were executed.</p>\n",
    "\n",
    "<p><strong>Example:</strong></p>\n",
    "\n",
    "<pre><strong>Input: </strong>length = <span id=\"example-input-1-1\">5</span>, updates = <span id=\"example-input-1-2\">[[1,3,2],[2,4,3],[0,2,-2]]</span>\n",
    "<strong>Output: </strong><span id=\"example-output-1\">[-2,0,3,5,3]</span>\n",
    "</pre>\n",
    "\n",
    "<p><b>Explanation:</b></p>\n",
    "\n",
    "<pre>Initial state:\n",
    "[0,0,0,0,0]\n",
    "\n",
    "After applying operation [1,3,2]:\n",
    "[0,2,2,2,0]\n",
    "\n",
    "After applying operation [2,4,3]:\n",
    "[0,2,5,5,3]\n",
    "\n",
    "After applying operation [0,2,-2]:\n",
    "[-2,0,3,5,3]\n",
    "</pre></div>"
   ]
  },
  {
   "cell_type": "markdown",
   "metadata": {},
   "source": [
    "## Option 1\n",
    "<p>\n",
    "<li>Set the initial amount at every start index\n",
    "<li>Keep a log of all indexes where a value stops being added on\n",
    "<li>We accumulate the amount, and reduce whenever an index shows up in the log. (i.e. stop distributing that amount any further)\n",
    "<p>\n",
    "    <p>\n",
    "Time complexity: O(n) length of updates\n",
    "<br>\n",
    "Space complexity: O(l) length"
   ]
  },
  {
   "cell_type": "code",
   "execution_count": null,
   "metadata": {},
   "outputs": [],
   "source": [
    "import collections\n",
    "class Solution(object):\n",
    "    def getModifiedArray(self, length, updates):\n",
    "        res,log = [0]*length, collections.Counter()\n",
    "        \n",
    "        for start,end,amount in updates:\n",
    "            res[start] += amount\n",
    "            log[end] += amount\n",
    "            \n",
    "        curr = 0\n",
    "        for i in range(length):\n",
    "            res[i] += curr\n",
    "            curr = res[i]\n",
    "            curr -= log[i]\n",
    "        \n",
    "        return res\n",
    "        \n",
    "\n",
    "Solution().getModifiedArray(5, [[1,3,2],[2,4,3],[0,2,-2]])\n",
    "        "
   ]
  },
  {
   "cell_type": "markdown",
   "metadata": {},
   "source": [
    "#### Result: 216ms (22.64%)\n"
   ]
  },
  {
   "cell_type": "markdown",
   "metadata": {},
   "source": [
    "## Option 2\n",
    "<p>\n",
    "<li>So we don't actually need the log map, we can instead set the end+1 value to a negative amount, will have the same result\n",
    "    <p>\n",
    "    <p>\n",
    "Time complexity: O(n) length of updates\n",
    "<br>\n",
    "Space complexity: O(l) length"
   ]
  },
  {
   "cell_type": "code",
   "execution_count": null,
   "metadata": {},
   "outputs": [],
   "source": [
    "import collections\n",
    "class Solution(object):\n",
    "    def getModifiedArray(self, length, updates):\n",
    "        res = [0]*length\n",
    "\n",
    "        for start,end,amount in updates:\n",
    "            res[start] += amount\n",
    "            if (end+1) < length:\n",
    "                res[end+1] -= amount\n",
    "\n",
    "        curr = 0\n",
    "        for i in range(length):\n",
    "            res[i] += curr\n",
    "            curr = res[i]        \n",
    "        return res\n",
    "        \n",
    "\n",
    "Solution().getModifiedArray(5, [[1,3,2],[2,4,3],[0,2,-2]])\n",
    "        "
   ]
  },
  {
   "cell_type": "markdown",
   "metadata": {},
   "source": [
    "#### Result: 168ms (37.74%)\n"
   ]
  }
 ],
 "metadata": {
  "kernelspec": {
   "display_name": "Python 2",
   "language": "python",
   "name": "python2"
  },
  "language_info": {
   "codemirror_mode": {
    "name": "ipython",
    "version": 2
   },
   "file_extension": ".py",
   "mimetype": "text/x-python",
   "name": "python",
   "nbconvert_exporter": "python",
   "pygments_lexer": "ipython2",
   "version": "2.7.16"
  }
 },
 "nbformat": 4,
 "nbformat_minor": 2
}
