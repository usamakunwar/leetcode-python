{
 "cells": [
  {
   "cell_type": "markdown",
   "metadata": {},
   "source": [
    "# 505. The Maze II (Medium)"
   ]
  },
  {
   "cell_type": "markdown",
   "metadata": {},
   "source": [
    "<div><p>There is a <b>ball</b> in a maze with empty spaces and walls. The ball can go through empty spaces by rolling <b>up</b>, <b>down</b>, <b>left</b> or <b>right</b>, but it won't stop rolling until hitting a wall. When the ball stops, it could choose the next direction.</p>\n",
    "\n",
    "<p>Given the ball's <b>start position</b>, the <b>destination</b> and the <b>maze</b>, find the shortest distance for the ball to stop at the destination. The distance is defined by the number of <b>empty spaces</b> traveled by the ball from the start position (excluded) to the destination (included). If the ball cannot stop at the destination, return -1.</p>\n",
    "\n",
    "<p>The maze is represented by a binary 2D array. 1 means the wall and 0 means the empty space. You may assume that the borders of the maze are all walls. The start and destination coordinates are represented by row and column indexes.</p>\n",
    "\n",
    "<p>&nbsp;</p>\n",
    "\n",
    "<p><b>Example 1:</b></p>\n",
    "\n",
    "<pre><b>Input 1:</b> a maze represented by a 2D array\n",
    "\n",
    "0 0 1 0 0\n",
    "0 0 0 0 0\n",
    "0 0 0 1 0\n",
    "1 1 0 1 1\n",
    "0 0 0 0 0\n",
    "\n",
    "<b>Input 2:</b> start coordinate (rowStart, colStart) = (0, 4)\n",
    "<b>Input 3:</b> destination coordinate (rowDest, colDest) = (4, 4)\n",
    "\n",
    "<b>Output:</b> 12\n",
    "\n",
    "<b>Explanation:</b> One shortest way is : left -&gt; down -&gt; left -&gt; down -&gt; right -&gt; down -&gt; right.\n",
    "             The total distance is 1 + 1 + 3 + 1 + 2 + 2 + 2 = 12.\n",
    "<img src=\"https://assets.leetcode.com/uploads/2018/10/12/maze_1_example_1.png\" style=\"width: 100%; max-width:350px;\">\n",
    "</pre>\n",
    "\n",
    "<p><b>Example 2:</b></p>\n",
    "\n",
    "<pre><b>Input 1:</b> a maze represented by a 2D array\n",
    "\n",
    "0 0 1 0 0\n",
    "0 0 0 0 0\n",
    "0 0 0 1 0\n",
    "1 1 0 1 1\n",
    "0 0 0 0 0\n",
    "\n",
    "<b>Input 2:</b> start coordinate (rowStart, colStart) = (0, 4)\n",
    "<b>Input 3:</b> destination coordinate (rowDest, colDest) = (3, 2)\n",
    "\n",
    "<b>Output:</b> -1\n",
    "\n",
    "<b>Explanation:</b> There is no way for the ball to stop at the destination.\n",
    "<img src=\"https://assets.leetcode.com/uploads/2018/10/13/maze_1_example_2.png\" style=\"width: 100%; max-width:350px;\">\n",
    "</pre>\n",
    "\n",
    "<p>&nbsp;</p>\n",
    "\n",
    "<p><b>Note:</b></p>\n",
    "\n",
    "<ol>\n",
    "\t<li>There is only one ball and one destination in the maze.</li>\n",
    "\t<li>Both the ball and the destination exist on an empty space, and they will not be at the same position initially.</li>\n",
    "\t<li>The given maze does not contain border (like the red rectangle in the example pictures), but you could assume the border of the maze are all walls.</li>\n",
    "\t<li>The maze contains at least 2 empty spaces, and both the width and height of the maze won't exceed 100.</li>\n",
    "</ol>\n",
    "</div>"
   ]
  },
  {
   "cell_type": "markdown",
   "metadata": {},
   "source": [
    "## Option 1\n",
    " <p>     <p>\n",
    "    <p>\n",
    "        <li>Dijkstra's Algorithm\n",
    "<p>\n",
    "        \n",
    "Time complexity: O(mn(logmn))\n",
    "    <br>\n",
    "Space complexity: O(mn)\n"
   ]
  },
  {
   "cell_type": "code",
   "execution_count": null,
   "metadata": {
    "scrolled": true
   },
   "outputs": [],
   "source": [
    "import heapq\n",
    "class Solution(object):\n",
    "    def shortestDistance(self, maze, start, d):\n",
    "        m,n = len(maze), len(maze[0])\n",
    "                \n",
    "        q = [(0,start)]\n",
    "                \n",
    "        while q:\n",
    "            curr,(i,j) = heapq.heappop(q)\n",
    "            if [i,j] == d: return curr\n",
    "                \n",
    "            maze[i][j] = '#'\n",
    "            for di,dj in ((1,0),(0,1),(-1,0),(0,-1)):\n",
    "                ni,nj, distance = i,j,0\n",
    "                while ni+di >= 0 and ni+di < m and nj+dj >= 0 and nj+dj < n and maze[ni+di][nj+dj] != 1:\n",
    "                    ni,nj, distance = ni+di, nj+dj, distance+1\n",
    "                if maze[ni][nj] == 0:                \n",
    "                    heapq.heappush(q, (curr+distance,(ni,nj)))\n",
    "                    \n",
    "        return -1 \n",
    "        \n",
    "Solution().shortestDistance([[0,0,1,0,0],[0,0,0,0,0],[0,0,0,1,0],[1,1,0,1,1],[0,0,0,0,0]],[0,4],[3,2])\n"
   ]
  },
  {
   "cell_type": "markdown",
   "metadata": {},
   "source": [
    "#### Result: 312ms (62.5%)"
   ]
  }
 ],
 "metadata": {
  "kernelspec": {
   "display_name": "Python 2",
   "language": "python",
   "name": "python2"
  },
  "language_info": {
   "codemirror_mode": {
    "name": "ipython",
    "version": 2
   },
   "file_extension": ".py",
   "mimetype": "text/x-python",
   "name": "python",
   "nbconvert_exporter": "python",
   "pygments_lexer": "ipython2",
   "version": "2.7.16"
  }
 },
 "nbformat": 4,
 "nbformat_minor": 2
}
