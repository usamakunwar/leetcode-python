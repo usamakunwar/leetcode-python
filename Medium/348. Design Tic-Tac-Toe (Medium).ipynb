{
 "cells": [
  {
   "cell_type": "markdown",
   "metadata": {},
   "source": [
    "# 348. Design Tic-Tac-Toe (Medium)\n"
   ]
  },
  {
   "cell_type": "markdown",
   "metadata": {},
   "source": [
    "<div><p>Design a Tic-tac-toe game that is played between two players on a <i>n</i> x <i>n</i> grid.\n",
    "</p>\n",
    "\n",
    "<p>You may assume the following rules:\n",
    "</p><ol>\n",
    "<li>A move is guaranteed to be valid and is placed on an empty block.</li>\n",
    "<li>Once a winning condition is reached, no more moves is allowed.</li>\n",
    "<li>A player who succeeds in placing <i>n</i> of their marks in a horizontal, vertical, or diagonal row wins the game.</li>\n",
    "</ol>\n",
    "<p></p>\n",
    "\n",
    "<p><b>Example:</b><br>\n",
    "</p><pre>Given <i>n</i> = 3, assume that player 1 is \"X\" and player 2 is \"O\" in the board.\n",
    "\n",
    "TicTacToe toe = new TicTacToe(3);\n",
    "\n",
    "toe.move(0, 0, 1); -&gt; Returns 0 (no one wins)\n",
    "|X| | |\n",
    "| | | |    // Player 1 makes a move at (0, 0).\n",
    "| | | |\n",
    "\n",
    "toe.move(0, 2, 2); -&gt; Returns 0 (no one wins)\n",
    "|X| |O|\n",
    "| | | |    // Player 2 makes a move at (0, 2).\n",
    "| | | |\n",
    "\n",
    "toe.move(2, 2, 1); -&gt; Returns 0 (no one wins)\n",
    "|X| |O|\n",
    "| | | |    // Player 1 makes a move at (2, 2).\n",
    "| | |X|\n",
    "\n",
    "toe.move(1, 1, 2); -&gt; Returns 0 (no one wins)\n",
    "|X| |O|\n",
    "| |O| |    // Player 2 makes a move at (1, 1).\n",
    "| | |X|\n",
    "\n",
    "toe.move(2, 0, 1); -&gt; Returns 0 (no one wins)\n",
    "|X| |O|\n",
    "| |O| |    // Player 1 makes a move at (2, 0).\n",
    "|X| |X|\n",
    "\n",
    "toe.move(1, 0, 2); -&gt; Returns 0 (no one wins)\n",
    "|X| |O|\n",
    "|O|O| |    // Player 2 makes a move at (1, 0).\n",
    "|X| |X|\n",
    "\n",
    "toe.move(2, 1, 1); -&gt; Returns 1 (player 1 wins)\n",
    "|X| |O|\n",
    "|O|O| |    // Player 1 makes a move at (2, 1).\n",
    "|X|X|X|\n",
    "</pre>\n",
    "<p></p>\n",
    "\n",
    "<p><b>Follow up:</b><br>\n",
    "Could you do better than O(<i>n</i><sup>2</sup>) per <code>move()</code> operation?\n",
    "</p></div>"
   ]
  },
  {
   "cell_type": "markdown",
   "metadata": {},
   "source": [
    "## Option 1\n",
    " <p> <p>\n",
    "Time complexity: O(n)\n",
    "    <br>\n",
    "Space complexity: O(n)\n"
   ]
  },
  {
   "cell_type": "code",
   "execution_count": null,
   "metadata": {
    "scrolled": true
   },
   "outputs": [],
   "source": [
    "class TicTacToe(object):\n",
    "    def __init__(self, n):\n",
    "        self.n = n\n",
    "        self.r, self.c, self.d = [None]*n, [None]*n, [None,None]\n",
    "\n",
    "    def helper(self,arr,key,id):\n",
    "        if arr[key]:\n",
    "            if arr[key][0] == id:\n",
    "                arr[key] = (id, arr[key][1]+1)\n",
    "                if arr[key][1] == self.n: return True\n",
    "        else:\n",
    "            arr[key] = (id,1)\n",
    "        \n",
    "    def move(self, row, col, player):\n",
    "        if self.helper(self.r, row, player): return player\n",
    "        if self.helper(self.c, col, player): return player\n",
    "        if row-col == 0:\n",
    "            if self.helper(self.d, 0, player): return player\n",
    "        if row+col == self.n-1:\n",
    "            if self.helper(self.d, 1, player): return player\n",
    "        return 0\n",
    "\n",
    "# Your TicTacToe object will be instantiated and called as such:\n",
    "# obj = TicTacToe(n)\n",
    "# param_1 = obj.move(row,col,player)\n"
   ]
  },
  {
   "cell_type": "markdown",
   "metadata": {},
   "source": [
    "#### Result: 80ms (69.94%)"
   ]
  }
 ],
 "metadata": {
  "kernelspec": {
   "display_name": "Python 2",
   "language": "python",
   "name": "python2"
  },
  "language_info": {
   "codemirror_mode": {
    "name": "ipython",
    "version": 2
   },
   "file_extension": ".py",
   "mimetype": "text/x-python",
   "name": "python",
   "nbconvert_exporter": "python",
   "pygments_lexer": "ipython2",
   "version": "2.7.16"
  }
 },
 "nbformat": 4,
 "nbformat_minor": 2
}
