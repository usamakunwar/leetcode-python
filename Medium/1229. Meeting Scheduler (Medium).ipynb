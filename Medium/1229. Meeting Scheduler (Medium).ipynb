{
 "cells": [
  {
   "cell_type": "markdown",
   "metadata": {},
   "source": [
    "# 1229. Meeting Scheduler (Medium)\n",
    "\n"
   ]
  },
  {
   "cell_type": "markdown",
   "metadata": {},
   "source": [
    "<div><p>Given the availability time slots arrays&nbsp;<code>slots1</code> and <code>slots2</code>&nbsp;of two people and a meeting duration <code>duration</code>, return the <strong>earliest time slot</strong> that works for both of them and is of duration <code>duration</code>.</p>\n",
    "\n",
    "<p>If there is no common time slot that satisfies the requirements, return an <strong>empty array</strong>.</p>\n",
    "\n",
    "<p>The format of a time slot is an array of two elements&nbsp;<code>[start, end]</code>&nbsp;representing an inclusive time range from <code>start</code>&nbsp;to <code>end</code>.&nbsp;&nbsp;</p>\n",
    "\n",
    "<p>It is guaranteed that no two availability slots of the same person intersect with each other. That is, for any two time slots&nbsp;<code>[start1, end1]</code>&nbsp;and&nbsp;<code>[start2, end2]</code>&nbsp;of the same person, either&nbsp;<code>start1 &gt; end2</code>&nbsp;or&nbsp;<code>start2 &gt; end1</code>.</p>\n",
    "\n",
    "<p>&nbsp;</p>\n",
    "<p><strong>Example 1:</strong></p>\n",
    "\n",
    "<pre><strong>Input:</strong> slots1 = [[10,50],[60,120],[140,210]], slots2 = [[0,15],[60,70]], duration = 8\n",
    "<strong>Output:</strong> [60,68]\n",
    "</pre>\n",
    "\n",
    "<p><strong>Example 2:</strong></p>\n",
    "\n",
    "<pre><strong>Input:</strong> slots1 = [[10,50],[60,120],[140,210]], slots2 = [[0,15],[60,70]], duration = 12\n",
    "<strong>Output:</strong> []\n",
    "</pre>\n",
    "\n",
    "<p>&nbsp;</p>\n",
    "<p><strong>Constraints:</strong></p>\n",
    "\n",
    "<ul>\n",
    "\t<li><code>1 &lt;= slots1.length, slots2.length &lt;= 10^4</code></li>\n",
    "\t<li><code>slots1[i].length, slots2[i].length == 2</code></li>\n",
    "\t<li><code>slots1[i][0] &lt; slots1[i][1]</code></li>\n",
    "\t<li><code>slots2[i][0] &lt; slots2[i][1]</code></li>\n",
    "\t<li><code>0 &lt;= slots1[i][j], slots2[i][j] &lt;= 10^9</code></li>\n",
    "\t<li><code>1 &lt;= duration &lt;= 10^6&nbsp;</code></li>\n",
    "</ul>\n",
    "</div>"
   ]
  },
  {
   "cell_type": "markdown",
   "metadata": {},
   "source": [
    "## Option 1\n",
    " <p> \n",
    "Sort\n",
    "<p>\n",
    "    <li>Sort both slots1 and slots2 together with an identifier\n",
    "    <li>Iterate over, we have a possible result whenever there is a intersection between two slots with different identifiers\n",
    "    <li>E.g. [ ( a , b , id ) , ( c , d , id ) ].  if  c  <  b there is an intersection. The size of the intersection is min( b - c, d - c ), if this size is >= duration we have a result\n",
    "    <li>Also, we could use a heap instead of sorting the entire array\n",
    "   <p>\n",
    "       <p>\n",
    "        \n",
    "Time complexity: O(nlogn)\n",
    "    <br>\n",
    "Space complexity: O(n)\n"
   ]
  },
  {
   "cell_type": "code",
   "execution_count": null,
   "metadata": {
    "scrolled": true
   },
   "outputs": [],
   "source": [
    "class Solution(object):\n",
    "    def minAvailableDuration(self, slots1, slots2, duration):\n",
    "        slots = sorted(map(lambda x:(x[0],x[1], 0), slots1)+map(lambda x:(x[0],x[1], 1), slots2))        \n",
    "        for i in range(1,len(slots)):\n",
    "            if slots[i][2] != slots[i-1][2]:\n",
    "                if slots[i-1][1] > slots[i][0]:              \n",
    "                    if min(slots[i-1][1]-slots[i][0], slots[i][1]-slots[i][0]) >= duration:               \n",
    "                        return [slots[i][0],slots[i][0]+duration]\n",
    "        return []        \n",
    "        \n",
    "Solution().minAvailableDuration([[10,50],[60,120],[140,210]], [[0,15],[60,70]], 8)\n",
    "        "
   ]
  },
  {
   "cell_type": "markdown",
   "metadata": {},
   "source": [
    "#### Result: 520ms (75.23%)"
   ]
  }
 ],
 "metadata": {
  "kernelspec": {
   "display_name": "Python 2",
   "language": "python",
   "name": "python2"
  },
  "language_info": {
   "codemirror_mode": {
    "name": "ipython",
    "version": 2
   },
   "file_extension": ".py",
   "mimetype": "text/x-python",
   "name": "python",
   "nbconvert_exporter": "python",
   "pygments_lexer": "ipython2",
   "version": "2.7.16"
  }
 },
 "nbformat": 4,
 "nbformat_minor": 2
}
