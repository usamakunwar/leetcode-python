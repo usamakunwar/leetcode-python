{
 "cells": [
  {
   "cell_type": "markdown",
   "metadata": {},
   "source": [
    "# 322. Coin Change (Medium)"
   ]
  },
  {
   "cell_type": "markdown",
   "metadata": {},
   "source": [
    "<div><p>You are given coins of different denominations and a total amount of money <i>amount</i>. Write a function to compute the fewest number of coins that you need to make up that amount. If that amount of money cannot be made up by any combination of the coins, return <code>-1</code>.</p>\n",
    "\n",
    "<p><b>Example 1:</b></p>\n",
    "\n",
    "<pre><strong>Input: </strong>coins = <code>[1, 2, 5]</code>, amount = <code>11</code>\n",
    "<strong>Output: </strong><code>3</code> \n",
    "<strong>Explanation:</strong> 11 = 5 + 5 + 1</pre>\n",
    "\n",
    "<p><b>Example 2:</b></p>\n",
    "\n",
    "<pre><strong>Input: </strong>coins = <code>[2]</code>, amount = <code>3</code>\n",
    "<strong>Output: </strong>-1\n",
    "</pre>\n",
    "\n",
    "<p><b>Note</b>:<br>\n",
    "You may assume that you have an infinite number of each kind of coin.</p>\n",
    "</div>"
   ]
  },
  {
   "cell_type": "markdown",
   "metadata": {},
   "source": [
    "## Option 1\n",
    "<p>\n",
    "    DP\n",
    "    <p> \n",
    "<p>\n",
    "    <p>\n",
    "Time complexity: O(na) n = number of coins, a = amount\n",
    "    <br>\n",
    "Space complexity: O(a)"
   ]
  },
  {
   "cell_type": "code",
   "execution_count": null,
   "metadata": {},
   "outputs": [],
   "source": [
    "class Solution:\n",
    "\n",
    "    def coinChange(self, coins: [int], amount: int) -> int:\n",
    "        k = [0] + [float('inf')] * amount\n",
    "        for coin in coins:\n",
    "            for b in range(coin, amount+1):\n",
    "                k[b] = min(k[b], k[b-coin] + 1)\n",
    "        return -1 if k[amount] == float(\"inf\") else k[amount]\n",
    "\n",
    "Solution().coinChange([186,419,83,408], 6249)\n"
   ]
  },
  {
   "cell_type": "markdown",
   "metadata": {},
   "source": [
    "#### Runtime: 1244ms (73.63%)"
   ]
  },
  {
   "cell_type": "markdown",
   "metadata": {},
   "source": [
    "## Option 2\n",
    "<p>\n",
    "    DP\n",
    "    <p> \n",
    "<p>\n",
    "    <p>\n",
    "Time complexity: O(na) n = number of coins, a = amount\n",
    "    <br>\n",
    "Space complexity: O(a)"
   ]
  },
  {
   "cell_type": "code",
   "execution_count": null,
   "metadata": {},
   "outputs": [],
   "source": [
    "class Solution(object):\n",
    "    def coinChange(self, coins, amount):\n",
    "        dp = {0:0}\n",
    "        for coin in coins:\n",
    "            for t in range(coin, amount+1):\n",
    "                if t-coin in dp:\n",
    "                    dp[t] = min(dp[t], dp[t-coin]+1) if t in dp else dp[t-coin]+1\n",
    "                    \n",
    "        return dp[amount] if amount in dp else -1\n",
    "                \n",
    "Solution().coinChange([186,419,83,408], 6249)        "
   ]
  },
  {
   "cell_type": "markdown",
   "metadata": {},
   "source": [
    "#### Runtime: 1212ms (53.45%)"
   ]
  }
 ],
 "metadata": {
  "kernelspec": {
   "display_name": "Python 2",
   "language": "python",
   "name": "python2"
  },
  "language_info": {
   "codemirror_mode": {
    "name": "ipython",
    "version": 2
   },
   "file_extension": ".py",
   "mimetype": "text/x-python",
   "name": "python",
   "nbconvert_exporter": "python",
   "pygments_lexer": "ipython2",
   "version": "2.7.16"
  }
 },
 "nbformat": 4,
 "nbformat_minor": 2
}
