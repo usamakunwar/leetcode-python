{
 "cells": [
  {
   "cell_type": "markdown",
   "metadata": {},
   "source": [
    "# 199. Binary Tree Right Side View (Medium)"
   ]
  },
  {
   "cell_type": "markdown",
   "metadata": {},
   "source": [
    "<div><p>Given a binary tree, imagine yourself standing on the <em>right</em> side of it, return the values of the nodes you can see ordered from top to bottom.</p>\n",
    "\n",
    "<p><strong>Example:</strong></p>\n",
    "\n",
    "<pre><strong>Input:</strong>&nbsp;[1,2,3,null,5,null,4]\n",
    "<strong>Output:</strong>&nbsp;[1, 3, 4]\n",
    "<strong>Explanation:\n",
    "</strong>\n",
    "   1            &lt;---\n",
    " /   \\\n",
    "2     3         &lt;---\n",
    " \\     \\\n",
    "  5     4       &lt;---\n",
    "</pre></div>"
   ]
  },
  {
   "cell_type": "markdown",
   "metadata": {},
   "source": [
    "## Option 1\n",
    "\n",
    "Breadth first search\n",
    "<br>\n",
    "Time complexity = O(n)\n",
    "<br>\n",
    "Space complexity = O(n)"
   ]
  },
  {
   "cell_type": "code",
   "execution_count": null,
   "metadata": {
    "scrolled": true
   },
   "outputs": [],
   "source": [
    "class TreeNode:\n",
    "    def __init__(self, x):\n",
    "        self.val = x\n",
    "        self.left = None\n",
    "        self.right = None\n",
    "\n",
    "class Solution:\n",
    "    def rightSideView(self, root: TreeNode) -> List[int]:\n",
    "        if not root: return []\n",
    "        queue = collections.deque()\n",
    "        queue.append((root,0))\n",
    "        res = []\n",
    "        while queue:\n",
    "            node,level = queue.popleft()\n",
    "            if level == len(res):\n",
    "                res.append(node.val)\n",
    "            #Queue the right side first as we will append the value if, and ignore any further values on the same level\n",
    "            if node.right:\n",
    "                queue.append((node.right,level+1))\n",
    "            if node.left:\n",
    "                queue.append((node.left,level+1))\n",
    "        return res   \n",
    "        \n",
    "        \n",
    "Solution().isSymmetric([1,2,2,3,4,4,3])"
   ]
  },
  {
   "cell_type": "markdown",
   "metadata": {},
   "source": [
    "#### Result:  32ms (76.92%)"
   ]
  }
 ],
 "metadata": {
  "kernelspec": {
   "display_name": "Python 3",
   "language": "python",
   "name": "python3"
  },
  "language_info": {
   "codemirror_mode": {
    "name": "ipython",
    "version": 3
   },
   "file_extension": ".py",
   "mimetype": "text/x-python",
   "name": "python",
   "nbconvert_exporter": "python",
   "pygments_lexer": "ipython3",
   "version": "3.7.4"
  }
 },
 "nbformat": 4,
 "nbformat_minor": 2
}
