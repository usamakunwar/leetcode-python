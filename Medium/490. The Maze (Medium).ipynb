{
 "cells": [
  {
   "cell_type": "markdown",
   "metadata": {},
   "source": [
    "# 490. The Maze (Medium)"
   ]
  },
  {
   "cell_type": "markdown",
   "metadata": {},
   "source": [
    "<div><p>There is a <b>ball</b> in a maze with empty spaces and walls. The ball can go through empty spaces by rolling <b>up</b>, <b>down</b>, <b>left</b> or <b>right</b>, but it won't stop rolling until hitting a wall. When the ball stops, it could choose the next direction.</p>\n",
    "\n",
    "<p>Given the ball's <b>start position</b>, the <b>destination</b> and the <b>maze</b>, determine whether the ball could stop at the destination.</p>\n",
    "\n",
    "<p>The maze is represented by a binary 2D array. 1 means the wall and 0 means the empty space. You may assume that the borders of the maze are all walls. The start and destination coordinates are represented by row and column indexes.</p>\n",
    "\n",
    "<p>&nbsp;</p>\n",
    "\n",
    "<p><b>Example 1:</b></p>\n",
    "\n",
    "<pre><b>Input 1:</b> a maze represented by a 2D array\n",
    "\n",
    "0 0 1 0 0\n",
    "0 0 0 0 0\n",
    "0 0 0 1 0\n",
    "1 1 0 1 1\n",
    "0 0 0 0 0\n",
    "\n",
    "<b>Input 2:</b> start coordinate (rowStart, colStart) = (0, 4)\n",
    "<b>Input 3:</b> destination coordinate (rowDest, colDest) = (4, 4)\n",
    "\n",
    "<b>Output:</b> true\n",
    "\n",
    "<b>Explanation:</b> One possible way is : left -&gt; down -&gt; left -&gt; down -&gt; right -&gt; down -&gt; right.\n",
    "<img src=\"https://assets.leetcode.com/uploads/2018/10/12/maze_1_example_1.png\" style=\"width: 100%; max-width:350px;\">\n",
    "</pre>\n",
    "\n",
    "<p><b>Example 2:</b></p>\n",
    "\n",
    "<pre><b>Input 1:</b> a maze represented by a 2D array\n",
    "\n",
    "0 0 1 0 0\n",
    "0 0 0 0 0\n",
    "0 0 0 1 0\n",
    "1 1 0 1 1\n",
    "0 0 0 0 0\n",
    "\n",
    "<b>Input 2:</b> start coordinate (rowStart, colStart) = (0, 4)\n",
    "<b>Input 3:</b> destination coordinate (rowDest, colDest) = (3, 2)\n",
    "\n",
    "<b>Output:</b> false\n",
    "\n",
    "<b>Explanation:</b> There is no way for the ball to stop at the destination.\n",
    "<img src=\"https://assets.leetcode.com/uploads/2018/10/13/maze_1_example_2.png\" style=\"width: 100%; max-width:350px;\">\n",
    "</pre>\n",
    "\n",
    "<p>&nbsp;</p>\n",
    "\n",
    "<p><b>Note:</b></p>\n",
    "\n",
    "<ol>\n",
    "\t<li>There is only one ball and one destination in the maze.</li>\n",
    "\t<li>Both the ball and the destination exist on an empty space, and they will not be at the same position initially.</li>\n",
    "\t<li>The given maze does not contain border (like the red rectangle in the example pictures), but you could assume the border of the maze are all walls.</li>\n",
    "\t<li>The maze contains at least 2 empty spaces, and both the width and height of the maze won't exceed 100.</li>\n",
    "</ol>\n",
    "</div>"
   ]
  },
  {
   "cell_type": "markdown",
   "metadata": {},
   "source": [
    "## Option 1\n",
    "<p>\n",
    "<p>DFS, do the skipping internally - only search at stable positions\n",
    "    <p>\n",
    "Time complexity: O(mn)\n",
    "<br>\n",
    "Space complexity: O(mn) "
   ]
  },
  {
   "cell_type": "code",
   "execution_count": null,
   "metadata": {},
   "outputs": [],
   "source": [
    "class Solution(object):\n",
    "    def hasPath(self, mat, s, d):\n",
    "        m, n = len(mat), len(mat[0])\n",
    "        def search((i,j)):\n",
    "            #Stable position\n",
    "            if [i,j] == d: return True\n",
    "            mat[i][j] = '#'\n",
    "            for di,dj in [(0,1),(1,0),(0,-1),(-1,0)]:\n",
    "                ni,nj = i,j\n",
    "                #Skip here, allow to skip over hashes\n",
    "                while ni+di >= 0 and ni+di < m and nj+dj >= 0 and nj+dj < n and mat[ni+di][nj+dj] != 1:\n",
    "                    ni,nj = ni+di, nj+dj\n",
    "                #Cannot search a hash\n",
    "                if mat[ni][nj] == 0 and search((ni,nj)): return True\n",
    "            return False\n",
    "            \n",
    "        return search(s)\n",
    "\n",
    "\n",
    "Solution().hasPath([[0,0,1,0,0],[0,0,0,0,0],[0,0,0,1,0],[1,1,0,1,1],[0,0,0,0,0]],[0,4],[4,4])\n",
    "        "
   ]
  },
  {
   "cell_type": "markdown",
   "metadata": {},
   "source": [
    "#### Result: 500ms (16.36%)\n"
   ]
  },
  {
   "cell_type": "markdown",
   "metadata": {},
   "source": [
    "## Option 2\n",
    "<p>\n",
    "<p>BFS, same idea\n",
    "    <p>\n",
    "Time complexity: O(mn)\n",
    "<br>\n",
    "Space complexity: O(mn) "
   ]
  },
  {
   "cell_type": "code",
   "execution_count": null,
   "metadata": {},
   "outputs": [],
   "source": [
    "class Solution(object):\n",
    "    def hasPath(self, mat, s, d):\n",
    "        m, n = len(mat), len(mat[0])\n",
    "        \n",
    "        q = collections.deque([s])\n",
    "        mat[s[0]][s[1]] = '#'\n",
    "        \n",
    "        while q:\n",
    "            i,j = q.popleft()\n",
    "            if [i,j] == d: return True\n",
    "            \n",
    "            for di,dj in ((0,1),(1,0),(0,-1),(-1,0)):\n",
    "                ni,nj = i, j\n",
    "                while ni+di >= 0 and ni+di < m and nj+dj >= 0 and nj+dj < n and mat[ni+di][nj+dj] != 1:\n",
    "                    ni,nj = ni+di, nj+dj\n",
    "                \n",
    "                if mat[ni][nj] == 0:\n",
    "                    mat[ni][nj] = '#'\n",
    "                    q.append((ni,nj))\n",
    "                \n",
    "        return False\n",
    "    \n",
    "Solution().hasPath([[0,0,1,0,0],[0,0,0,0,0],[0,0,0,1,0],[1,1,0,1,1],[0,0,0,0,0]],[0,4],[4,4])\n",
    "    "
   ]
  },
  {
   "cell_type": "markdown",
   "metadata": {},
   "source": [
    "#### Result: 240ms (99.22%)\n"
   ]
  }
 ],
 "metadata": {
  "kernelspec": {
   "display_name": "Python 2",
   "language": "python",
   "name": "python2"
  },
  "language_info": {
   "codemirror_mode": {
    "name": "ipython",
    "version": 2
   },
   "file_extension": ".py",
   "mimetype": "text/x-python",
   "name": "python",
   "nbconvert_exporter": "python",
   "pygments_lexer": "ipython2",
   "version": "2.7.16"
  }
 },
 "nbformat": 4,
 "nbformat_minor": 2
}
