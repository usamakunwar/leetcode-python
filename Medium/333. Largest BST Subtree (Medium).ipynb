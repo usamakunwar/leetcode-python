{
 "cells": [
  {
   "cell_type": "markdown",
   "metadata": {},
   "source": [
    "# 333. Largest BST Subtree (Medium)"
   ]
  },
  {
   "cell_type": "markdown",
   "metadata": {},
   "source": [
    "<div><p>Given a binary tree, find the largest subtree which is a Binary Search Tree (BST), where largest means subtree with largest number of nodes in it.</p>\n",
    "\n",
    "<p><b>Note:</b><br>\n",
    "A subtree must include all of its descendants.</p>\n",
    "\n",
    "<p><strong>Example:</strong></p>\n",
    "\n",
    "<pre><strong>Input: </strong>[10,5,15,1,8,null,7]\n",
    "\n",
    "   10 \n",
    "   / \\ \n",
    "<font color=\"red\">  5</font>  15 \n",
    "<font color=\"red\"> / \\</font>   \\ \n",
    "<font color=\"red\">1   8</font>   7\n",
    "\n",
    "<strong>Output:</strong> 3\n",
    "<strong>Explanation: </strong>The Largest BST Subtree in this case is the highlighted one.\n",
    "             The return value is the subtree's size, which is 3.\n",
    "</pre>\n",
    "\n",
    "<p><b>Follow up:</b><br>\n",
    "Can you figure out ways to solve it with O(n) time complexity?</p>\n",
    "</div>"
   ]
  },
  {
   "cell_type": "markdown",
   "metadata": {},
   "source": [
    "## Option 1\n",
    " <p>     <p>\n",
    "    <p>\n",
    "        <li>There are a few conditions that need to me met:\n",
    "        <li>In order for the current node to be valid - \n",
    "            <br>\n",
    "        <li>(1) <strong>Children have to be BST's </strong>\n",
    "            <br>\n",
    "        <li>(2) <strong>Curr val has to be bigger than the left max, and smaller then the right min </strong>\n",
    "        <li>l ,lc , lu, ll = (Curr tree is BST or not, Tree node count, Tree Upper, Tree Lower)\n",
    "<p>\n",
    "        \n",
    "Time complexity: O(n)\n",
    "    <br>\n",
    "Space complexity: O(n)\n"
   ]
  },
  {
   "cell_type": "code",
   "execution_count": null,
   "metadata": {
    "scrolled": true
   },
   "outputs": [],
   "source": [
    "class Solution(object):\n",
    "    def largestBSTSubtree(self, root):\n",
    "        \"\"\"\n",
    "        :type root: TreeNode\n",
    "        :rtype: int\n",
    "        \"\"\"\n",
    "        if not root: return 0\n",
    "        def search(node):\n",
    "            if not node.left and not node.right:\n",
    "                return (True,1,node.val,node.val)\n",
    "            \n",
    "            l,lc,lu,ll = search(node.left) if node.left else (True,0, float('-inf'), node.val)\n",
    "            r,rc,ru,rl = search(node.right) if node.right else (True,0, node.val, float('inf'))\n",
    "            \n",
    "            if l and r and node.val > lu and node.val < rl:\n",
    "                return (True,lc+rc+1, ru, ll)\n",
    "            else:\n",
    "                return (False, max(lc,rc), float('-inf'), float('inf'))\n",
    "        \n",
    "        return search(root)[1]\n",
    " "
   ]
  },
  {
   "cell_type": "markdown",
   "metadata": {},
   "source": [
    "#### Result: 32ms (93.66%)"
   ]
  }
 ],
 "metadata": {
  "kernelspec": {
   "display_name": "Python 2",
   "language": "python",
   "name": "python2"
  },
  "language_info": {
   "codemirror_mode": {
    "name": "ipython",
    "version": 2
   },
   "file_extension": ".py",
   "mimetype": "text/x-python",
   "name": "python",
   "nbconvert_exporter": "python",
   "pygments_lexer": "ipython2",
   "version": "2.7.16"
  }
 },
 "nbformat": 4,
 "nbformat_minor": 2
}
