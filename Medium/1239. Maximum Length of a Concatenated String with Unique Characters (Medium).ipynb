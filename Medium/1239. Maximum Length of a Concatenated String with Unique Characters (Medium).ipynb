{
 "cells": [
  {
   "cell_type": "markdown",
   "metadata": {},
   "source": [
    "# 1239. Maximum Length of a Concatenated String with Unique Characters (Medium)"
   ]
  },
  {
   "cell_type": "markdown",
   "metadata": {},
   "source": [
    "<div><p>Given an array of strings <code>arr</code>. String <code>s</code> is a concatenation of a sub-sequence of <code>arr</code> which have <strong>unique characters</strong>.</p>\n",
    "\n",
    "<p>Return <em>the maximum possible length</em> of <code>s</code>.</p>\n",
    "\n",
    "<p>&nbsp;</p>\n",
    "<p><strong>Example 1:</strong></p>\n",
    "\n",
    "<pre><strong>Input:</strong> arr = [\"un\",\"iq\",\"ue\"]\n",
    "<strong>Output:</strong> 4\n",
    "<strong>Explanation:</strong> All possible concatenations are \"\",\"un\",\"iq\",\"ue\",\"uniq\" and \"ique\".\n",
    "Maximum length is 4.\n",
    "</pre>\n",
    "\n",
    "<p><strong>Example 2:</strong></p>\n",
    "\n",
    "<pre><strong>Input:</strong> arr = [\"cha\",\"r\",\"act\",\"ers\"]\n",
    "<strong>Output:</strong> 6\n",
    "<strong>Explanation:</strong> Possible solutions are \"chaers\" and \"acters\".\n",
    "</pre>\n",
    "\n",
    "<p><strong>Example 3:</strong></p>\n",
    "\n",
    "<pre><strong>Input:</strong> arr = [\"abcdefghijklmnopqrstuvwxyz\"]\n",
    "<strong>Output:</strong> 26\n",
    "</pre>\n",
    "\n",
    "<p>&nbsp;</p>\n",
    "<p><strong>Constraints:</strong></p>\n",
    "\n",
    "<ul>\n",
    "\t<li><code>1 &lt;= arr.length &lt;= 16</code></li>\n",
    "\t<li><code>1 &lt;= arr[i].length &lt;= 26</code></li>\n",
    "\t<li><code>arr[i]</code> contains only lower case English letters.</li>\n",
    "</ul>\n",
    "</div>"
   ]
  },
  {
   "cell_type": "markdown",
   "metadata": {},
   "source": [
    "## Option 1\n",
    " <p>    \n",
    "    Map with bitmask\n",
    "<p>\n",
    "\n",
    "<p>\n",
    "            \n",
    "Time complexity: O(2^n)\n",
    "    <br>\n",
    "Space complexity: O(2^n)\n",
    "        \n"
   ]
  },
  {
   "cell_type": "code",
   "execution_count": null,
   "metadata": {},
   "outputs": [],
   "source": [
    "class Solution(object):\n",
    "    def maxLength(self, arr):\n",
    "        dp = {}\n",
    "        for a in arr:\n",
    "            bit = count = 0\n",
    "            for c in a:\n",
    "                b = 1 << ord(c)-ord('a')\n",
    "                count += bit == (bit | b) #Check whether this character already exists (no change in bit)\n",
    "                if count: break\n",
    "                bit |= b\n",
    "            \n",
    "            if count: continue\n",
    "            \n",
    "            dp.update({bit|d : len(a)+dp[d] for d in dp if bit&d == 0})\n",
    "            dp[bit] = len(a)\n",
    "            \n",
    "        return max(dp.values() or [0])\n",
    "        \n",
    "Solution().maxLength([\"a\",\"b\",\"c\",\"d\",\"e\",\"f\",\"g\",\"h\",\"i\",\"j\",\"k\",\"l\",\"m\",\"n\",\"o\",\"p\"])\n",
    "        "
   ]
  },
  {
   "cell_type": "markdown",
   "metadata": {},
   "source": [
    "#### Result:  40ms (98.29%)"
   ]
  },
  {
   "cell_type": "markdown",
   "metadata": {},
   "source": [
    "## Option 2\n",
    " <p>    \n",
    "    Map\n",
    "<p>\n",
    "\n",
    "<p>\n",
    "Time complexity: O(2^n)\n",
    "    <br>\n",
    "Space complexity: O(2^n)\n"
   ]
  },
  {
   "cell_type": "code",
   "execution_count": null,
   "metadata": {},
   "outputs": [],
   "source": [
    "class Solution(object):\n",
    "    def maxLength(self, arr):\n",
    "        dp = []\n",
    "        for a in arr:\n",
    "            s = set(a)\n",
    "            if len(a) != len(s): continue\n",
    "            dp.extend([s|d for d in dp if not s&d] + [s])\n",
    "         \n",
    "        return max(len(d) for d in dp)\n",
    "        \n",
    "Solution().maxLength([\"cha\",\"r\",\"act\",\"ers\"])\n",
    "        "
   ]
  },
  {
   "cell_type": "markdown",
   "metadata": {},
   "source": [
    "#### Result:  92ms (80.82%)"
   ]
  }
 ],
 "metadata": {
  "kernelspec": {
   "display_name": "Python 2",
   "language": "python",
   "name": "python2"
  },
  "language_info": {
   "codemirror_mode": {
    "name": "ipython",
    "version": 2
   },
   "file_extension": ".py",
   "mimetype": "text/x-python",
   "name": "python",
   "nbconvert_exporter": "python",
   "pygments_lexer": "ipython2",
   "version": "2.7.16"
  }
 },
 "nbformat": 4,
 "nbformat_minor": 2
}
