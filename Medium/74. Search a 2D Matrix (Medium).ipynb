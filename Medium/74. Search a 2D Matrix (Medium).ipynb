{
 "cells": [
  {
   "cell_type": "markdown",
   "metadata": {},
   "source": [
    "# 74. Search a 2D Matrix (Medium)\n"
   ]
  },
  {
   "cell_type": "markdown",
   "metadata": {},
   "source": [
    "<div><p>Write an efficient algorithm that searches for a value in an <em>m</em> x <em>n</em> matrix. This matrix has the following properties:</p>\n",
    "\n",
    "<ul>\n",
    "\t<li>Integers in each row are sorted from left to right.</li>\n",
    "\t<li>The first integer of each row is greater than the last integer of the previous row.</li>\n",
    "</ul>\n",
    "\n",
    "<p><strong>Example 1:</strong></p>\n",
    "\n",
    "<pre><strong>Input:</strong>\n",
    "matrix = [\n",
    "  [1,   3,  5,  7],\n",
    "  [10, 11, 16, 20],\n",
    "  [23, 30, 34, 50]\n",
    "]\n",
    "target = 3\n",
    "<strong>Output:</strong> true\n",
    "</pre>\n",
    "\n",
    "<p><strong>Example 2:</strong></p>\n",
    "\n",
    "<pre><strong>Input:</strong>\n",
    "matrix = [\n",
    "  [1,   3,  5,  7],\n",
    "  [10, 11, 16, 20],\n",
    "  [23, 30, 34, 50]\n",
    "]\n",
    "target = 13\n",
    "<strong>Output:</strong> false</pre>\n",
    "</div>"
   ]
  },
  {
   "cell_type": "markdown",
   "metadata": {},
   "source": [
    "## Option 1\n",
    "<p>\n",
    "Binary search to find the row, then find the cell\n",
    "<p>\n",
    "Time complexity = O(logm + logn)\n",
    "<br>\n",
    "Space complexity = O(1)"
   ]
  },
  {
   "cell_type": "code",
   "execution_count": 37,
   "metadata": {
    "scrolled": true
   },
   "outputs": [
    {
     "data": {
      "text/plain": [
       "False"
      ]
     },
     "execution_count": 37,
     "metadata": {},
     "output_type": "execute_result"
    }
   ],
   "source": [
    "class Solution(object):\n",
    "    def searchMatrix(self, matrix, target):\n",
    "        if not matrix or not matrix[0]: return False\n",
    "        left,right = 0,len(matrix)-1\n",
    "        while left < right:\n",
    "            mid = (left+right)//2\n",
    "            if matrix[mid][-1] < target:\n",
    "                left = mid + 1\n",
    "            else:\n",
    "                right = mid\n",
    "        if matrix[left][-1] < target: return False\n",
    "        l,r = 0,len(matrix[left])-1\n",
    "        while l <= r:\n",
    "            mid = (l+r)//2\n",
    "            if matrix[left][mid] < target:\n",
    "                l = mid + 1\n",
    "            elif matrix[left][mid] > target:\n",
    "                r = mid - 1\n",
    "            else:\n",
    "                return True\n",
    "        return False\n",
    "\n",
    "Solution().searchMatrix([[]],24)  "
   ]
  },
  {
   "cell_type": "markdown",
   "metadata": {},
   "source": [
    "#### Result: 88ms (5.72%)"
   ]
  },
  {
   "cell_type": "markdown",
   "metadata": {},
   "source": [
    "## Option 2\n",
    "<p>\n",
    "Binary search\n",
    "<p>\n",
    "Time complexity = O(logmn)\n",
    "<br>\n",
    "Space complexity = O(1)"
   ]
  },
  {
   "cell_type": "code",
   "execution_count": 47,
   "metadata": {},
   "outputs": [
    {
     "data": {
      "text/plain": [
       "True"
      ]
     },
     "execution_count": 47,
     "metadata": {},
     "output_type": "execute_result"
    }
   ],
   "source": [
    "class Solution(object):\n",
    "    def searchMatrix(self, matrix, target):\n",
    "        if not matrix or not matrix[0]: return False\n",
    "        lm, ln = len(matrix), len(matrix[0])\n",
    "        left,right = 0,(lm*ln)-1\n",
    "        \n",
    "        while left <= right:\n",
    "            mid = (left+right)//2\n",
    "            val = matrix[mid//ln][mid%ln]\n",
    "            if val < target:\n",
    "                left = mid + 1\n",
    "            elif val > target:\n",
    "                right = mid - 1\n",
    "            else:\n",
    "                return True\n",
    "        return False\n",
    "\n",
    "Solution().searchMatrix([[1,3,5,7],[10,11,16,20],[23,30,34,50]],50)  "
   ]
  },
  {
   "cell_type": "markdown",
   "metadata": {},
   "source": [
    "#### Result: 72ms (6.79%)"
   ]
  }
 ],
 "metadata": {
  "kernelspec": {
   "display_name": "Python 3",
   "language": "python",
   "name": "python3"
  },
  "language_info": {
   "codemirror_mode": {
    "name": "ipython",
    "version": 3
   },
   "file_extension": ".py",
   "mimetype": "text/x-python",
   "name": "python",
   "nbconvert_exporter": "python",
   "pygments_lexer": "ipython3",
   "version": "3.7.4"
  }
 },
 "nbformat": 4,
 "nbformat_minor": 2
}
