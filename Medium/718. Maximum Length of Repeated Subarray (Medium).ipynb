{
 "cells": [
  {
   "cell_type": "markdown",
   "metadata": {},
   "source": [
    "# 718. Maximum Length of Repeated Subarray (Medium)"
   ]
  },
  {
   "cell_type": "markdown",
   "metadata": {},
   "source": [
    "<div><p>Given two integer arrays <code>A</code> and <code>B</code>, return the maximum length of an subarray that appears in both arrays.</p>\n",
    "\n",
    "<p><b>Example 1:</b></p>\n",
    "\n",
    "<pre><b>Input:</b>\n",
    "A: [1,2,3,2,1]\n",
    "B: [3,2,1,4,7]\n",
    "<b>Output:</b> 3\n",
    "<b>Explanation:</b> \n",
    "The repeated subarray with maximum length is [3, 2, 1].\n",
    "</pre>\n",
    "\n",
    "<p>&nbsp;</p>\n",
    "\n",
    "<p><b>Note:</b></p>\n",
    "\n",
    "<ol>\n",
    "\t<li>1 &lt;= len(A), len(B) &lt;= 1000</li>\n",
    "\t<li>0 &lt;= A[i], B[i] &lt; 100</li>\n",
    "</ol>\n",
    "\n",
    "<p>&nbsp;</p>\n",
    "</div>"
   ]
  },
  {
   "cell_type": "markdown",
   "metadata": {},
   "source": [
    "## Option 1\n",
    "\n",
    "<p>DP\n",
    "    <p>\n",
    "<p>Similar concept to Longest common subsequence, however in the subsequence table we spread the values, for subarrays we cannot spread\n",
    "   <p>\n",
    "Time complexity: O(n^2)\n",
    "    <br>\n",
    "Space complexity: O(n^2)\n"
   ]
  },
  {
   "cell_type": "code",
   "execution_count": null,
   "metadata": {},
   "outputs": [],
   "source": [
    "class Solution(object):\n",
    "    def findLength(self, A, B):\n",
    "        dp = [[0]*(len(B)+1) for i in range(len(A)+1)]\n",
    "        res = 0\n",
    "        for i in range(len(A)):\n",
    "            for j in range(len(B)):\n",
    "                if A[i] == B[j]:\n",
    "                    dp[i+1][j+1] = dp[i][j] + 1\n",
    "                    res = max(res, dp[i+1][j+1])\n",
    "        return res\n",
    "\n",
    "Solution().findLength([1,2,3,2,1],[3,2,1,4,7])  \n",
    "\n"
   ]
  },
  {
   "cell_type": "markdown",
   "metadata": {},
   "source": [
    "#### Result: 3248ms (55.68%)"
   ]
  }
 ],
 "metadata": {
  "kernelspec": {
   "display_name": "Python 2",
   "language": "python",
   "name": "python2"
  },
  "language_info": {
   "codemirror_mode": {
    "name": "ipython",
    "version": 2
   },
   "file_extension": ".py",
   "mimetype": "text/x-python",
   "name": "python",
   "nbconvert_exporter": "python",
   "pygments_lexer": "ipython2",
   "version": "2.7.16"
  }
 },
 "nbformat": 4,
 "nbformat_minor": 2
}
