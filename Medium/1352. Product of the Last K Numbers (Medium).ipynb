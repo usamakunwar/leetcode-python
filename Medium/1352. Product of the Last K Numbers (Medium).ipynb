{
 "cells": [
  {
   "cell_type": "markdown",
   "metadata": {},
   "source": [
    "# 1352. Product of the Last K Numbers (Medium)\n"
   ]
  },
  {
   "cell_type": "markdown",
   "metadata": {},
   "source": [
    "<div><p>Implement the class <code>ProductOfNumbers</code>&nbsp;that supports two methods:</p>\n",
    "\n",
    "<p>1.<code>&nbsp;add(int num)</code></p>\n",
    "\n",
    "<ul>\n",
    "\t<li>Adds the number <code>num</code> to the back of the current list of numbers.</li>\n",
    "</ul>\n",
    "\n",
    "<p>2.<code> getProduct(int k)</code></p>\n",
    "\n",
    "<ul>\n",
    "\t<li>Returns the product of the last <code>k</code> numbers in the current list.</li>\n",
    "\t<li>You can assume that always the current list has <strong>at least</strong> <code>k</code> numbers.</li>\n",
    "</ul>\n",
    "\n",
    "<p>At any time, the product of any contiguous sequence of numbers will fit into a single 32-bit integer without overflowing.</p>\n",
    "\n",
    "<p>&nbsp;</p>\n",
    "<p><strong>Example:</strong></p>\n",
    "\n",
    "<pre><strong>Input</strong>\n",
    "[\"ProductOfNumbers\",\"add\",\"add\",\"add\",\"add\",\"add\",\"getProduct\",\"getProduct\",\"getProduct\",\"add\",\"getProduct\"]\n",
    "[[],[3],[0],[2],[5],[4],[2],[3],[4],[8],[2]]\n",
    "\n",
    "<strong>Output</strong>\n",
    "[null,null,null,null,null,null,20,40,0,null,32]\n",
    "\n",
    "<strong>Explanation</strong>\n",
    "ProductOfNumbers productOfNumbers = new ProductOfNumbers();\n",
    "productOfNumbers.add(3);        // [3]\n",
    "productOfNumbers.add(0);        // [3,0]\n",
    "productOfNumbers.add(2);        // [3,0,2]\n",
    "productOfNumbers.add(5);        // [3,0,2,5]\n",
    "productOfNumbers.add(4);        // [3,0,2,5,4]\n",
    "productOfNumbers.getProduct(2); // return 20. The product of the last 2 numbers is 5 * 4 = 20\n",
    "productOfNumbers.getProduct(3); // return 40. The product of the last 3 numbers is 2 * 5 * 4 = 40\n",
    "productOfNumbers.getProduct(4); // return 0. The product of the last 4 numbers is 0 * 2 * 5 * 4 = 0\n",
    "productOfNumbers.add(8);        // [3,0,2,5,4,8]\n",
    "productOfNumbers.getProduct(2); // return 32. The product of the last 2 numbers is 4 * 8 = 32 \n",
    "</pre>\n",
    "\n",
    "<p>&nbsp;</p>\n",
    "<p><strong>Constraints:</strong></p>\n",
    "\n",
    "<ul>\n",
    "\t<li>There will be at most <code>40000</code>&nbsp;operations considering both <code>add</code> and <code>getProduct</code>.</li>\n",
    "\t<li><code>0 &lt;= num&nbsp;&lt;=&nbsp;100</code></li>\n",
    "\t<li><code>1 &lt;= k &lt;= 40000</code></li>\n",
    "</ul>\n",
    "</div>"
   ]
  },
  {
   "cell_type": "markdown",
   "metadata": {},
   "source": [
    "## Option 1\n",
    "<p>\n",
    "      <p>\n",
    "Time complexity: O(n)\n",
    "<br>\n",
    "Space complexity: O(n)"
   ]
  },
  {
   "cell_type": "code",
   "execution_count": null,
   "metadata": {
    "scrolled": false
   },
   "outputs": [],
   "source": [
    "class ProductOfNumbers(object):\n",
    "\n",
    "    def __init__(self):\n",
    "        self.prod = []\n",
    "        self.last_zero = None\n",
    "\n",
    "    def add(self, num):\n",
    "        #Accumulate the prod until zero, if zero restart accumulation\n",
    "        self.prod.append((self.prod[-1] if self.prod and self.prod[-1] else 1)*num)\n",
    "        if not num:\n",
    "            #Keep a track of the last zero index\n",
    "            self.last_zero = len(self.prod)-1\n",
    "\n",
    "    def getProduct(self, k):\n",
    "        kth = len(self.prod)-k\n",
    "        #A zero lies within the kth so product is 0\n",
    "        if kth <= self.last_zero: return 0\n",
    "        #If last val / (kth-1) val is the result. If kth-1 does not exist or is 0, we do not divide\n",
    "        return self.prod[-1] if kth == 0 or not self.prod[kth-1] else self.prod[-1]/self.prod[kth-1]\n",
    "\n",
    "# Your ProductOfNumbers object will be instantiated and called as such:\n",
    "# obj = ProductOfNumbers()\n",
    "# obj.add(num)\n",
    "# param_2 = obj.getProduct(k)"
   ]
  },
  {
   "cell_type": "markdown",
   "metadata": {},
   "source": [
    "#### Result: 308ms (63.03%)\n"
   ]
  },
  {
   "cell_type": "markdown",
   "metadata": {},
   "source": [
    "## Option 2\n",
    "<p>\n",
    "      <p>\n",
    "Time complexity: O(n)\n",
    "<br>\n",
    "Space complexity: O(n)"
   ]
  },
  {
   "cell_type": "code",
   "execution_count": null,
   "metadata": {},
   "outputs": [],
   "source": [
    "class ProductOfNumbers(object):\n",
    "\n",
    "    def __init__(self):\n",
    "        #Keep a prefix \n",
    "        self.prod = [1]\n",
    "\n",
    "    def add(self, num):\n",
    "        if num:\n",
    "            self.prod.append(self.prod[-1]*num)\n",
    "        else:\n",
    "            #Reset array, we do not need the prefix that occured before 0\n",
    "            self.prod = [1]\n",
    "\n",
    "    def getProduct(self, k):\n",
    "        if k >= len(self.prod): return 0\n",
    "        return self.prod[-1]/self.prod[-k-1]\n",
    "        \n",
    "        \n",
    "\n",
    "\n",
    "# Your ProductOfNumbers object will be instantiated and called as such:\n",
    "# obj = ProductOfNumbers()\n",
    "# obj.add(num)\n",
    "# param_2 = obj.getProduct(k)"
   ]
  },
  {
   "cell_type": "markdown",
   "metadata": {},
   "source": [
    "#### Result: 312ms (57.73%)\n"
   ]
  }
 ],
 "metadata": {
  "kernelspec": {
   "display_name": "Python 2",
   "language": "python",
   "name": "python2"
  },
  "language_info": {
   "codemirror_mode": {
    "name": "ipython",
    "version": 2
   },
   "file_extension": ".py",
   "mimetype": "text/x-python",
   "name": "python",
   "nbconvert_exporter": "python",
   "pygments_lexer": "ipython2",
   "version": "2.7.16"
  }
 },
 "nbformat": 4,
 "nbformat_minor": 2
}
