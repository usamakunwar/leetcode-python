{
 "cells": [
  {
   "cell_type": "markdown",
   "metadata": {},
   "source": [
    "# 353. Design Snake Game (Medium)"
   ]
  },
  {
   "cell_type": "markdown",
   "metadata": {},
   "source": [
    "<div><p>Design a <a href=\"https://en.wikipedia.org/wiki/Snake_(video_game)\" target=\"_blank\">Snake game</a> that is played on a device with screen size = <i>width</i> x <i>height</i>. <a href=\"http://patorjk.com/games/snake/\" target=\"_blank\">Play the game online</a> if you are not familiar with the game.</p>\n",
    "\n",
    "<p>The snake is initially positioned at the top left corner (0,0) with length = 1 unit.</p>\n",
    "\n",
    "<p>You are given a list of food's positions in row-column order. When a snake eats the food, its length and the game's score both increase by 1.</p>\n",
    "\n",
    "<p>Each food appears one by one on the screen. For example, the second food will not appear until the first food was eaten by the snake.</p>\n",
    "\n",
    "<p>When a food does appear on the screen, it is guaranteed that it will not appear on a block occupied by the snake.</p>\n",
    "\n",
    "<p><b>Example:</b></p>\n",
    "\n",
    "<pre>Given width = 3, height = 2, and food = [[1,2],[0,1]].\n",
    "\n",
    "Snake snake = new Snake(width, height, food);\n",
    "\n",
    "Initially the snake appears at position (0,0) and the food at (1,2).\n",
    "\n",
    "|S| | |\n",
    "| | |F|\n",
    "\n",
    "snake.move(\"R\"); -&gt; Returns 0\n",
    "\n",
    "| |S| |\n",
    "| | |F|\n",
    "\n",
    "snake.move(\"D\"); -&gt; Returns 0\n",
    "\n",
    "| | | |\n",
    "| |S|F|\n",
    "\n",
    "snake.move(\"R\"); -&gt; Returns 1 (Snake eats the first food and right after that, the second food appears at (0,1) )\n",
    "\n",
    "| |F| |\n",
    "| |S|S|\n",
    "\n",
    "snake.move(\"U\"); -&gt; Returns 1\n",
    "\n",
    "| |F|S|\n",
    "| | |S|\n",
    "\n",
    "snake.move(\"L\"); -&gt; Returns 2 (Snake eats the second food)\n",
    "\n",
    "| |S|S|\n",
    "| | |S|\n",
    "\n",
    "snake.move(\"U\"); -&gt; Returns -1 (Game over because snake collides with border)\n",
    "</pre>\n",
    "</div>"
   ]
  },
  {
   "cell_type": "markdown",
   "metadata": {},
   "source": [
    "## Option 1\n",
    "<p>\n",
    "Time complexity: O(n)\n",
    "    <br>\n",
    "Space complexity: O(n)"
   ]
  },
  {
   "cell_type": "code",
   "execution_count": null,
   "metadata": {
    "scrolled": false
   },
   "outputs": [],
   "source": [
    "class SnakeGame(object):\n",
    "\n",
    "    def __init__(self, width, height, food):\n",
    "        self.width, self.height, self.food = width, height, food[::-1]\n",
    "\n",
    "        #q represents the snakes body, head being the end, tail start\n",
    "        self.q = collections.deque()\n",
    "        self.q.append((0,0))\n",
    "        #have a q map for lookup\n",
    "        self.q_map = set([(0,0)])\n",
    "        self.score = 0\n",
    "\n",
    "        \n",
    "    def move(self, direction):\n",
    "        d = self.getDir(direction)\n",
    "        ni,nj = self.q[-1][0] + d[0], self.q[-1][1] + d[1]\n",
    "        \n",
    "        #remove the tail before checking if it lands on itself, as the tail will change once the snake moves\n",
    "        if self.food and [ni,nj] == self.food[-1]: \n",
    "            self.score += 1\n",
    "            self.food.pop()    \n",
    "            #If the snake finds food it expands, we do this by keeping the tail\n",
    "        else:\n",
    "            #No food so remove the tail\n",
    "            self.q_map.remove(self.q.popleft())        \n",
    "            \n",
    "        if ni < 0 or ni > self.height-1 or nj < 0 or nj > self.width-1 or (ni,nj) in self.q_map:\n",
    "            return -1\n",
    "        \n",
    "        self.q.append((ni,nj))\n",
    "        self.q_map.add((ni,nj))\n",
    "\n",
    "        return self.score\n",
    "\n",
    "    def getDir(self, direction):\n",
    "        if direction == 'U':\n",
    "            return [-1,0]\n",
    "        elif direction == 'D':\n",
    "            return [1,0]\n",
    "        elif direction == 'R':\n",
    "            return [0,1]\n",
    "        else:\n",
    "            return [0,-1]\n",
    "\n",
    "# Your SnakeGame object will be instantiated and called as such:\n",
    "# obj = SnakeGame(width, height, food)\n",
    "# param_1 = obj.move(direction)\n"
   ]
  },
  {
   "cell_type": "markdown",
   "metadata": {},
   "source": [
    "#### Result: 312ms (16.52%)"
   ]
  }
 ],
 "metadata": {
  "kernelspec": {
   "display_name": "Python 2",
   "language": "python",
   "name": "python2"
  },
  "language_info": {
   "codemirror_mode": {
    "name": "ipython",
    "version": 2
   },
   "file_extension": ".py",
   "mimetype": "text/x-python",
   "name": "python",
   "nbconvert_exporter": "python",
   "pygments_lexer": "ipython2",
   "version": "2.7.16"
  }
 },
 "nbformat": 4,
 "nbformat_minor": 2
}
