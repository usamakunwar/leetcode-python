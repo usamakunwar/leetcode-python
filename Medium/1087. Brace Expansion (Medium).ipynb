{
 "cells": [
  {
   "cell_type": "markdown",
   "metadata": {},
   "source": [
    "# 1087. Brace Expansion (Medium)"
   ]
  },
  {
   "cell_type": "markdown",
   "metadata": {},
   "source": [
    "<div><p>A string <code>S</code>&nbsp;represents a list of words.</p>\n",
    "\n",
    "<p>Each letter in the word has 1 or more options.&nbsp; If there is one option, the letter is represented as is.&nbsp; If there is more than one option, then curly braces delimit the options.&nbsp; For example, <code>\"{a,b,c}\"</code> represents options <code>[\"a\", \"b\", \"c\"]</code>.</p>\n",
    "\n",
    "<p>For example, <code>\"{a,b,c}d{e,f}\"</code> represents the list <code>[\"ade\", \"adf\", \"bde\", \"bdf\", \"cde\", \"cdf\"]</code>.</p>\n",
    "\n",
    "<p>Return all words that can be formed in this manner, in lexicographical order.</p>\n",
    "\n",
    "<p>&nbsp;</p>\n",
    "\n",
    "<p><strong>Example 1:</strong></p>\n",
    "\n",
    "<pre><strong>Input: </strong><span id=\"example-input-1-1\">\"{a,b}c{d,e}f\"</span>\n",
    "<strong>Output: </strong><span id=\"example-output-1\">[\"acdf\",\"acef\",\"bcdf\",\"bcef\"]</span>\n",
    "</pre>\n",
    "\n",
    "<p><strong>Example 2:</strong></p>\n",
    "\n",
    "<pre><strong>Input: </strong><span id=\"example-input-2-1\">\"abcd\"</span>\n",
    "<strong>Output: </strong><span id=\"example-output-2\">[\"abcd\"]</span>\n",
    "</pre>\n",
    "\n",
    "<p>&nbsp;</p>\n",
    "\n",
    "<p><strong>Note:</strong></p>\n",
    "\n",
    "<ol>\n",
    "\t<li><code>1 &lt;= S.length &lt;= 50</code></li>\n",
    "\t<li>There are no&nbsp;nested curly brackets.</li>\n",
    "\t<li>All characters inside a pair of&nbsp;consecutive opening and ending curly brackets are different.</li>\n",
    "</ol>\n",
    "</div>"
   ]
  },
  {
   "cell_type": "markdown",
   "metadata": {},
   "source": [
    "## Option 1\n",
    "<p>\n",
    "    DFS + Backtrack\n",
    "    \n"
   ]
  },
  {
   "cell_type": "code",
   "execution_count": null,
   "metadata": {
    "scrolled": true
   },
   "outputs": [],
   "source": [
    "import re, bisect\n",
    "class Solution(object):\n",
    "    def expand(self, S):\n",
    "        options = map(lambda x:x.split(','), re.findall('\\{([^,].*?)\\}', S))\n",
    "        addons = re.split('{.*?}',S)\n",
    "        lo,la = len(options)-1, len(addons)\n",
    "        def search(lev,curr):\n",
    "            if lev < la:\n",
    "                curr += addons[lev]\n",
    "            if lev > lo: return [curr]\n",
    "            res = []\n",
    "            for i,v in enumerate(options[lev]):\n",
    "                res += search(lev+1, curr+v)\n",
    "            return res\n",
    "        return sorted(search(0,''))\n",
    "\n",
    "Solution().expand(\"abcd\")"
   ]
  },
  {
   "cell_type": "markdown",
   "metadata": {},
   "source": [
    "#### Result: 24ms (84.65%)"
   ]
  }
 ],
 "metadata": {
  "kernelspec": {
   "display_name": "Python 2",
   "language": "python",
   "name": "python2"
  },
  "language_info": {
   "codemirror_mode": {
    "name": "ipython",
    "version": 2
   },
   "file_extension": ".py",
   "mimetype": "text/x-python",
   "name": "python",
   "nbconvert_exporter": "python",
   "pygments_lexer": "ipython2",
   "version": "2.7.16"
  }
 },
 "nbformat": 4,
 "nbformat_minor": 2
}
