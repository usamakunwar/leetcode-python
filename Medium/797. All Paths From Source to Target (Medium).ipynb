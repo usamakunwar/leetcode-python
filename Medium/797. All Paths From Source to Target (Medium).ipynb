{
 "cells": [
  {
   "cell_type": "markdown",
   "metadata": {},
   "source": [
    "# 797. All Paths From Source to Target (Medium)"
   ]
  },
  {
   "cell_type": "markdown",
   "metadata": {},
   "source": [
    "<div><p>Given a directed, acyclic graph of <code>N</code> nodes.&nbsp; Find all possible paths from node <code>0</code> to node <code>N-1</code>, and return them in any order.</p>\n",
    "\n",
    "<p>The graph is given as follows:&nbsp; the nodes are 0, 1, ..., graph.length - 1.&nbsp; graph[i] is a list of all nodes j for which the edge (i, j) exists.</p>\n",
    "\n",
    "<pre><strong>Example:</strong>\n",
    "<strong>Input:</strong> [[1,2], [3], [3], []] \n",
    "<strong>Output:</strong> [[0,1,3],[0,2,3]] \n",
    "<strong>Explanation:</strong> The graph looks like this:\n",
    "0---&gt;1\n",
    "|    |\n",
    "v    v\n",
    "2---&gt;3\n",
    "There are two paths: 0 -&gt; 1 -&gt; 3 and 0 -&gt; 2 -&gt; 3.\n",
    "</pre>\n",
    "\n",
    "<p><strong>Note:</strong></p>\n",
    "\n",
    "<ul>\n",
    "\t<li>The number of nodes in the graph will be in the range <code>[2, 15]</code>.</li>\n",
    "\t<li>You can print different paths in any order, but you should keep the order of nodes inside one path.</li>\n",
    "</ul></div>"
   ]
  },
  {
   "cell_type": "markdown",
   "metadata": {},
   "source": [
    "## Option 1\n",
    "           \n",
    "Time complexity: O(2^n)\n",
    "    <br>\n",
    "Space complexity: O(2^n)\n"
   ]
  },
  {
   "cell_type": "code",
   "execution_count": null,
   "metadata": {},
   "outputs": [],
   "source": [
    "class Solution(object):\n",
    "    def allPathsSourceTarget(self, graph):\n",
    "        \"\"\"\n",
    "        :type graph: List[List[int]]\n",
    "        :rtype: List[List[int]]\n",
    "        \"\"\"\n",
    "        self.res = []\n",
    "        def search(i,path):\n",
    "            if path and path[-1] == len(graph)-1:\n",
    "                return self.res.append(path)\n",
    "            for j in graph[i]:\n",
    "                search(j, path+[j])\n",
    "        \n",
    "        search(0,[0])\n",
    "        return self.res"
   ]
  },
  {
   "cell_type": "markdown",
   "metadata": {},
   "source": [
    "#### Result: 88ms (89.32%)"
   ]
  }
 ],
 "metadata": {
  "kernelspec": {
   "display_name": "Python 2",
   "language": "python",
   "name": "python2"
  },
  "language_info": {
   "codemirror_mode": {
    "name": "ipython",
    "version": 2
   },
   "file_extension": ".py",
   "mimetype": "text/x-python",
   "name": "python",
   "nbconvert_exporter": "python",
   "pygments_lexer": "ipython2",
   "version": "2.7.16"
  }
 },
 "nbformat": 4,
 "nbformat_minor": 2
}
