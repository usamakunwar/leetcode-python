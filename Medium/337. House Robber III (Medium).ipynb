{
 "cells": [
  {
   "cell_type": "markdown",
   "metadata": {},
   "source": [
    "# 337. House Robber III (Medium)"
   ]
  },
  {
   "cell_type": "markdown",
   "metadata": {},
   "source": [
    "<div><p>The thief has found himself a new place for his thievery again. There is only one entrance to this area, called the \"root.\" Besides the root, each house has one and only one parent house. After a tour, the smart thief realized that \"all houses in this place forms a binary tree\". It will automatically contact the police if two directly-linked houses were broken into on the same night.</p>\n",
    "\n",
    "<p>Determine the maximum amount of money the thief can rob tonight without alerting the police.</p>\n",
    "\n",
    "<p><b>Example 1:</b></p>\n",
    "\n",
    "<pre><strong>Input: </strong>[3,2,3,null,3,null,1]\n",
    "\n",
    "     <font color=\"red\">3</font>\n",
    "    / \\\n",
    "   2   3\n",
    "    \\   \\ \n",
    "     <font color=\"red\">3   1\n",
    "</font>\n",
    "<strong>Output:</strong> 7 \n",
    "<strong>Explanation:</strong>&nbsp;Maximum amount of money the thief can rob = <font color=\"red\" style=\"font-family: sans-serif, Arial, Verdana, &quot;Trebuchet MS&quot;;\">3</font><span style=\"font-family: sans-serif, Arial, Verdana, &quot;Trebuchet MS&quot;;\"> + </span><font color=\"red\" style=\"font-family: sans-serif, Arial, Verdana, &quot;Trebuchet MS&quot;;\">3</font><span style=\"font-family: sans-serif, Arial, Verdana, &quot;Trebuchet MS&quot;;\"> + </span><font color=\"red\" style=\"font-family: sans-serif, Arial, Verdana, &quot;Trebuchet MS&quot;;\">1</font><span style=\"font-family: sans-serif, Arial, Verdana, &quot;Trebuchet MS&quot;;\"> = </span><b style=\"font-family: sans-serif, Arial, Verdana, &quot;Trebuchet MS&quot;;\">7</b><span style=\"font-family: sans-serif, Arial, Verdana, &quot;Trebuchet MS&quot;;\">.</span></pre>\n",
    "\n",
    "<p><b>Example 2:</b></p>\n",
    "\n",
    "<pre><strong>Input: </strong>[3,4,5,1,3,null,1]\n",
    "\n",
    "&nbsp;    3\n",
    "    / \\\n",
    "   <font color=\"red\">4</font>   <font color=\"red\">5</font>\n",
    "  / \\   \\ \n",
    " 1   3   1\n",
    "\n",
    "<strong>Output:</strong> 9\n",
    "<strong>Explanation:</strong>&nbsp;Maximum amount of money the thief can rob = <font color=\"red\">4</font> + <font color=\"red\">5</font> = <b>9</b>.\n",
    "</pre></div>"
   ]
  },
  {
   "cell_type": "markdown",
   "metadata": {},
   "source": [
    "## Option 1\n",
    " <p>    \n",
    "<p>\n",
    "    <li>If we:\n",
    "    <li><strong> (1)</strong> Rob the current house, we must skip the children\n",
    "    <li><strong> (2)</strong> Skip the current house, we can add the max of the previous (i.e. rob or skip doesn't matter which)\n",
    "<p>\n",
    "        \n",
    "Time complexity: O(n)\n",
    "    <br>\n",
    "Space complexity: O(n)\n"
   ]
  },
  {
   "cell_type": "code",
   "execution_count": null,
   "metadata": {},
   "outputs": [],
   "source": [
    "class Solution(object):\n",
    "    def rob(self, root):\n",
    "        if not root: return 0\n",
    "        def search(node):\n",
    "            l_rob, l_skip = search(node.left) if node.left else (0,0) \n",
    "            r_rob, r_skip = search(node.right) if node.right else (0,0)\n",
    "            \n",
    "            rob  = node.val + l_skip + r_skip\n",
    "            skip = max(l_rob, l_skip) + max(r_rob, r_skip)\n",
    "            \n",
    "            return rob, skip\n",
    "            \n",
    "        return max(search(root))\n",
    "        "
   ]
  },
  {
   "cell_type": "markdown",
   "metadata": {},
   "source": [
    "#### Result:  28ms (99.17%)"
   ]
  }
 ],
 "metadata": {
  "kernelspec": {
   "display_name": "Python 2",
   "language": "python",
   "name": "python2"
  },
  "language_info": {
   "codemirror_mode": {
    "name": "ipython",
    "version": 2
   },
   "file_extension": ".py",
   "mimetype": "text/x-python",
   "name": "python",
   "nbconvert_exporter": "python",
   "pygments_lexer": "ipython2",
   "version": "2.7.16"
  }
 },
 "nbformat": 4,
 "nbformat_minor": 2
}
