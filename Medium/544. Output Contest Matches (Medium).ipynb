{
 "cells": [
  {
   "cell_type": "markdown",
   "metadata": {},
   "source": [
    "# 544. Output Contest Matches (Medium)\n"
   ]
  },
  {
   "cell_type": "markdown",
   "metadata": {},
   "source": [
    "<div><p>\n",
    "During the NBA playoffs, we always arrange the rather strong team to play with the rather weak team, like make the rank 1 team play with the rank n<sub>th</sub> team, which is a good strategy to make the contest more interesting. Now, you're given <b>n</b> teams, you need to output their <b>final</b> contest matches in the form of a string.\n",
    "</p>\n",
    "\n",
    "<p>The <b>n</b> teams are given in the form of positive integers from 1 to n, which represents their initial rank. (Rank 1 is the strongest team and Rank n is the weakest team.) We'll use parentheses('(', ')') and commas(',') to represent the contest team pairing - parentheses('(' , ')') for pairing and commas(',') for partition. During the pairing process in each round, you always need to follow the strategy of making the rather strong one pair with the rather weak one.</p> \n",
    "\n",
    "<p><b>Example 1:</b><br>\n",
    "</p><pre><b>Input:</b> 2\n",
    "<b>Output:</b> (1,2)\n",
    "<b>Explanation:</b> \n",
    "Initially, we have the team 1 and the team 2, placed like: 1,2.\n",
    "Then we pair the team (1,2) together with '(', ')' and ',', which is the final answer.\n",
    "</pre>\n",
    "<p></p>\n",
    "\n",
    "<p><b>Example 2:</b><br>\n",
    "</p><pre><b>Input:</b> 4\n",
    "<b>Output:</b> ((1,4),(2,3))\n",
    "<b>Explanation:</b> \n",
    "In the first round, we pair the team 1 and 4, the team 2 and 3 together, as we need to make the strong team and weak team together.\n",
    "And we got (1,4),(2,3).\n",
    "In the second round, the winners of (1,4) and (2,3) need to play again to generate the final winner, so you need to add the paratheses outside them.\n",
    "And we got the final answer ((1,4),(2,3)).\n",
    "</pre>\n",
    "<p></p>\n",
    "\n",
    "<p><b>Example 3:</b><br>\n",
    "</p><pre><b>Input:</b> 8\n",
    "<b>Output:</b> (((1,8),(4,5)),((2,7),(3,6)))\n",
    "<b>Explanation:</b> \n",
    "First round: (1,8),(2,7),(3,6),(4,5)\n",
    "Second round: ((1,8),(4,5)),((2,7),(3,6))\n",
    "Third round: (((1,8),(4,5)),((2,7),(3,6)))\n",
    "Since the third round will generate the final winner, you need to output the answer (((1,8),(4,5)),((2,7),(3,6))).\n",
    "</pre>\n",
    "<p></p>\n",
    "\n",
    "<p><b>Note:</b><br>\n",
    "</p><ol>\n",
    "<li>The <b>n</b> is in range [2, 2<sup>12</sup>].</li>\n",
    "<li>We ensure that the input <b>n</b> can be converted into the form 2<sup>k</sup>, where k is a positive integer.</li>\n",
    "</ol>\n",
    "<p></p></div>"
   ]
  },
  {
   "cell_type": "markdown",
   "metadata": {},
   "source": [
    "## Option 1\n",
    "<p>\n",
    "Recursive\n",
    "<p>\n",
    "\n",
    "Time complexity: O(n)\n",
    "<br>\n",
    "Space complexity: O(logn)"
   ]
  },
  {
   "cell_type": "code",
   "execution_count": null,
   "metadata": {},
   "outputs": [],
   "source": [
    "class Solution(object):\n",
    "    def findContestMatch(self, n):      \n",
    "        def recurse(arr):\n",
    "            if len(arr) < 2: return arr\n",
    "            res = ['('+arr[i]+','+arr[len(arr)-1-i]+')' for i in range(len(arr)/2)]\n",
    "            return recurse(res)\n",
    "        return recurse([str(i+1) for i in range(n)])[0] #OR map(str,range(1,n+1))\n",
    "        \n",
    "        \n",
    "Solution().findContestMatch(16)"
   ]
  },
  {
   "cell_type": "markdown",
   "metadata": {},
   "source": [
    "#### Result: 16ms (93.59%)\n"
   ]
  }
 ],
 "metadata": {
  "kernelspec": {
   "display_name": "Python 2",
   "language": "python",
   "name": "python2"
  },
  "language_info": {
   "codemirror_mode": {
    "name": "ipython",
    "version": 2
   },
   "file_extension": ".py",
   "mimetype": "text/x-python",
   "name": "python",
   "nbconvert_exporter": "python",
   "pygments_lexer": "ipython2",
   "version": "2.7.16"
  }
 },
 "nbformat": 4,
 "nbformat_minor": 2
}
