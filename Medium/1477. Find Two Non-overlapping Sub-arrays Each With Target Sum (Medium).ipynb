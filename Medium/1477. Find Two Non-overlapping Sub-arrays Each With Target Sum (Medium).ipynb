{
 "cells": [
  {
   "cell_type": "markdown",
   "metadata": {},
   "source": [
    "# 1477. Find Two Non-overlapping Sub-arrays Each With Target Sum (Medium)\n",
    "\n"
   ]
  },
  {
   "cell_type": "markdown",
   "metadata": {},
   "source": [
    "<div><p>Given an array of integers <code>arr</code> and an integer <code>target</code>.</p>\n",
    "\n",
    "<p>You have to find <strong>two non-overlapping sub-arrays</strong> of <code>arr</code> each with sum equal <code>target</code>. There can be multiple answers so you have to find an answer where the sum of the lengths of the two sub-arrays is <strong>minimum</strong>.</p>\n",
    "\n",
    "<p>Return <em>the minimum sum of the lengths</em> of the two required sub-arrays, or return <em><strong>-1</strong></em> if you cannot&nbsp;find such two sub-arrays.</p>\n",
    "\n",
    "<p>&nbsp;</p>\n",
    "<p><strong>Example 1:</strong></p>\n",
    "\n",
    "<pre><strong>Input:</strong> arr = [3,2,2,4,3], target = 3\n",
    "<strong>Output:</strong> 2\n",
    "<strong>Explanation:</strong> Only two sub-arrays have sum = 3 ([3] and [3]). The sum of their lengths is 2.\n",
    "</pre>\n",
    "\n",
    "<p><strong>Example 2:</strong></p>\n",
    "\n",
    "<pre><strong>Input:</strong> arr = [7,3,4,7], target = 7\n",
    "<strong>Output:</strong> 2\n",
    "<strong>Explanation:</strong> Although we have three non-overlapping sub-arrays of sum = 7 ([7], [3,4] and [7]), but we will choose the first and third sub-arrays as the sum of their lengths is 2.\n",
    "</pre>\n",
    "\n",
    "<p><strong>Example 3:</strong></p>\n",
    "\n",
    "<pre><strong>Input:</strong> arr = [4,3,2,6,2,3,4], target = 6\n",
    "<strong>Output:</strong> -1\n",
    "<strong>Explanation:</strong> We have only one sub-array of sum = 6.\n",
    "</pre>\n",
    "\n",
    "<p><strong>Example 4:</strong></p>\n",
    "\n",
    "<pre><strong>Input:</strong> arr = [5,5,4,4,5], target = 3\n",
    "<strong>Output:</strong> -1\n",
    "<strong>Explanation:</strong> We cannot find a sub-array of sum = 3.\n",
    "</pre>\n",
    "\n",
    "<p><strong>Example 5:</strong></p>\n",
    "\n",
    "<pre><strong>Input:</strong> arr = [3,1,1,1,5,1,2,1], target = 3\n",
    "<strong>Output:</strong> 3\n",
    "<strong>Explanation:</strong> Note that sub-arrays [1,2] and [2,1] cannot be an answer because they overlap.\n",
    "</pre>\n",
    "\n",
    "<p>&nbsp;</p>\n",
    "<p><strong>Constraints:</strong></p>\n",
    "\n",
    "<ul>\n",
    "\t<li><code>1 &lt;= arr.length &lt;= 10^5</code></li>\n",
    "\t<li><code>1 &lt;= arr[i] &lt;= 1000</code></li>\n",
    "\t<li><code>1 &lt;= target &lt;= 10^8</code></li>\n",
    "</ul>\n",
    "</div>"
   ]
  },
  {
   "cell_type": "markdown",
   "metadata": {},
   "source": [
    "## Option 1\n",
    " <p> \n",
    "    Prefix Sum + DP\n",
    "    <p>\n",
    "  <li>We can use a prefix sum to find valid windows, then use DP to hold previous valid results. Adding them gets us the answer for 2 sub arrays\n",
    "  <li>dp[ i ] holds results for the minimum size subarray that sums to target (until and including the ith num)\n",
    "  <li>We extend dp with 2 sentinels, as the prev dp look up may go upto -2 (i.e. when the prev does not exist)\n",
    "  <li>Our result = min(current valid subarray + prev valid subarray)\n",
    "    <p>\n",
    "    <p>\n",
    "        <p>\n",
    "        \n",
    "Time complexity: O(n)\n",
    "    <br>\n",
    "Space complexity: O(n)\n"
   ]
  },
  {
   "cell_type": "code",
   "execution_count": null,
   "metadata": {
    "scrolled": true
   },
   "outputs": [],
   "source": [
    "class Solution(object):\n",
    "    def minSumOfLengths(self, arr, target):\n",
    "        dp = [float('inf')]*(len(arr)+2)\n",
    "        m = {0:-1}\n",
    "        curr, res = 0, float('inf')\n",
    "        for i in range(len(arr)):\n",
    "            curr += arr[i]\n",
    "            prefix = curr-target\n",
    "            if prefix in m:\n",
    "                dp[i] = i-m[prefix]\n",
    "                res = min(res, dp[i]+dp[m[prefix]])\n",
    "            dp[i] = min(dp[i],dp[i-1])\n",
    "            m[curr] = i\n",
    "        return -1 if res == float('inf') else res\n",
    "\n",
    "Solution().minSumOfLengths([1,1,1,2,2,2,4,4],6)"
   ]
  },
  {
   "cell_type": "markdown",
   "metadata": {},
   "source": [
    "#### Result: 984ms (75.78%)"
   ]
  }
 ],
 "metadata": {
  "kernelspec": {
   "display_name": "Python 2",
   "language": "python",
   "name": "python2"
  },
  "language_info": {
   "codemirror_mode": {
    "name": "ipython",
    "version": 2
   },
   "file_extension": ".py",
   "mimetype": "text/x-python",
   "name": "python",
   "nbconvert_exporter": "python",
   "pygments_lexer": "ipython2",
   "version": "2.7.16"
  }
 },
 "nbformat": 4,
 "nbformat_minor": 2
}
