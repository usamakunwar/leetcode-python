{
 "cells": [
  {
   "cell_type": "markdown",
   "metadata": {},
   "source": [
    "# 251. Flatten 2D Vector (Medium)"
   ]
  },
  {
   "cell_type": "markdown",
   "metadata": {},
   "source": [
    "<div><p>Design and implement an iterator to flatten a 2d vector. It should support the following operations: <code>next</code> and <code>hasNext</code>.</p>\n",
    "\n",
    "<p>&nbsp;</p>\n",
    "\n",
    "<p><b>Example:</b></p>\n",
    "\n",
    "<pre>Vector2D iterator = new Vector2D([[1,2],[3],[4]]);\n",
    "\n",
    "iterator.next(); // return 1\n",
    "iterator.next(); // return 2\n",
    "iterator.next(); // return 3\n",
    "iterator.hasNext(); // return true\n",
    "iterator.hasNext(); // return true\n",
    "iterator.next(); // return 4\n",
    "iterator.hasNext(); // return false\n",
    "</pre>\n",
    "\n",
    "<p>&nbsp;</p>\n",
    "\n",
    "<p><strong>Notes:</strong></p>\n",
    "\n",
    "<ol>\n",
    "\t<li>Please remember to <b>RESET</b> your class variables declared in Vector2D, as static/class variables are <b>persisted across multiple test cases</b>. Please see <a href=\"https://leetcode.com/faq/\" target=\"_blank\">here</a> for more details.</li>\n",
    "\t<li>You may assume that <code>next()</code> call will always be valid, that is, there will be at least a next element in the 2d vector when <code>next()</code> is called.</li>\n",
    "</ol>\n",
    "\n",
    "<p>&nbsp;</p>\n",
    "\n",
    "<p><b>Follow up:</b></p>\n",
    "\n",
    "<p>As an added challenge, try to code it using only <a href=\"http://www.cplusplus.com/reference/iterator/iterator/\" target=\"_blank\">iterators in C++</a> or <a href=\"http://docs.oracle.com/javase/7/docs/api/java/util/Iterator.html\" target=\"_blank\">iterators in Java</a>.</p>\n",
    "</div>"
   ]
  },
  {
   "cell_type": "markdown",
   "metadata": {},
   "source": [
    "## Option 1\n",
    " <p>\n",
    "    We could easily flatten the actual list in init. However we could also also use iterators like below\n",
    "<p>\n",
    "    <p>\n",
    "        <p>\n",
    "Time complexity: O(n) \n",
    "    <br>\n",
    "Space complexity: O(n)\n"
   ]
  },
  {
   "cell_type": "code",
   "execution_count": null,
   "metadata": {},
   "outputs": [],
   "source": [
    "class Vector2D(object):\n",
    "\n",
    "    def __init__(self, v):\n",
    "        self.i = iter(v)\n",
    "        self.j = None\n",
    "        self.nxt = None\n",
    "        self.getNext()\n",
    "        \n",
    "    def getNext(self):\n",
    "        while True:\n",
    "            try:\n",
    "                n = next(self.i)\n",
    "                if n:\n",
    "                    self.j = iter(n)\n",
    "                    self.nxt = next(self.j)\n",
    "                    break\n",
    "            except:\n",
    "                break\n",
    "\n",
    "                \n",
    "    def next(self):\n",
    "        nxt = self.nxt\n",
    "        \n",
    "        self.nxt = next(self.j, None)\n",
    "        if self.nxt == None:\n",
    "            self.getNext()\n",
    "\n",
    "        return nxt\n",
    "        \n",
    "        \n",
    "\n",
    "    def hasNext(self):\n",
    "        return False if self.nxt == None else True\n",
    "\n",
    "\n",
    "# Your Vector2D object will be instantiated and called as such:\n",
    "# obj = Vector2D(v)\n",
    "# param_1 = obj.next()\n",
    "# param_2 = obj.hasNext()"
   ]
  },
  {
   "cell_type": "markdown",
   "metadata": {},
   "source": [
    "\n",
    "#### Result: 76ms (72.30%)"
   ]
  }
 ],
 "metadata": {
  "kernelspec": {
   "display_name": "Python 2",
   "language": "python",
   "name": "python2"
  },
  "language_info": {
   "codemirror_mode": {
    "name": "ipython",
    "version": 2
   },
   "file_extension": ".py",
   "mimetype": "text/x-python",
   "name": "python",
   "nbconvert_exporter": "python",
   "pygments_lexer": "ipython2",
   "version": "2.7.16"
  }
 },
 "nbformat": 4,
 "nbformat_minor": 2
}
