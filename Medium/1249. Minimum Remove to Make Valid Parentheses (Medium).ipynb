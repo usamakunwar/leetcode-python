{
 "cells": [
  {
   "cell_type": "markdown",
   "metadata": {},
   "source": [
    "# 1249. Minimum Remove to Make Valid Parentheses (Medium)\n"
   ]
  },
  {
   "cell_type": "markdown",
   "metadata": {},
   "source": [
    "<div><p>Given a string <font face=\"monospace\">s</font>&nbsp;of&nbsp;<code>'('</code>&nbsp;,&nbsp;<code>')'</code>&nbsp;and lowercase English characters.&nbsp;</p>\n",
    "\n",
    "<p>Your task is to remove the minimum number of parentheses (&nbsp;<code>'('</code>&nbsp;or&nbsp;<code>')'</code>,&nbsp;in any positions ) so that the resulting <em>parentheses string</em> is valid and return <strong>any</strong> valid string.</p>\n",
    "\n",
    "<p>Formally, a <em>parentheses string</em> is valid if and only if:</p>\n",
    "\n",
    "<ul>\n",
    "\t<li>It is the empty string, contains only lowercase characters, or</li>\n",
    "\t<li>It can be written as&nbsp;<code>AB</code>&nbsp;(<code>A</code>&nbsp;concatenated with&nbsp;<code>B</code>), where&nbsp;<code>A</code>&nbsp;and&nbsp;<code>B</code>&nbsp;are valid strings, or</li>\n",
    "\t<li>It can be written as&nbsp;<code>(A)</code>, where&nbsp;<code>A</code>&nbsp;is a valid string.</li>\n",
    "</ul>\n",
    "\n",
    "<p>&nbsp;</p>\n",
    "<p><strong>Example 1:</strong></p>\n",
    "\n",
    "<pre><strong>Input:</strong> s = \"lee(t(c)o)de)\"\n",
    "<strong>Output:</strong> \"lee(t(c)o)de\"\n",
    "<strong>Explanation:</strong> \"lee(t(co)de)\" , \"lee(t(c)ode)\" would also be accepted.\n",
    "</pre>\n",
    "\n",
    "<p><strong>Example 2:</strong></p>\n",
    "\n",
    "<pre><strong>Input:</strong> s = \"a)b(c)d\"\n",
    "<strong>Output:</strong> \"ab(c)d\"\n",
    "</pre>\n",
    "\n",
    "<p><strong>Example 3:</strong></p>\n",
    "\n",
    "<pre><strong>Input:</strong> s = \"))((\"\n",
    "<strong>Output:</strong> \"\"\n",
    "<strong>Explanation:</strong> An empty string is also valid.\n",
    "</pre>\n",
    "\n",
    "<p><strong>Example 4:</strong></p>\n",
    "\n",
    "<pre><strong>Input:</strong> s = \"(a(b(c)d)\"\n",
    "<strong>Output:</strong> \"a(b(c)d)\"\n",
    "</pre>\n",
    "\n",
    "<p>&nbsp;</p>\n",
    "<p><strong>Constraints:</strong></p>\n",
    "\n",
    "<ul>\n",
    "\t<li><code>1 &lt;= s.length &lt;= 10^5</code></li>\n",
    "\t<li><code>s[i]</code>&nbsp;is one&nbsp;of&nbsp;&nbsp;<code>'('</code> , <code>')'</code> and&nbsp;lowercase English letters<code>.</code></li>\n",
    "</ul></div>"
   ]
  },
  {
   "cell_type": "markdown",
   "metadata": {},
   "source": [
    "## Option 1\n",
    "  <p>\n",
    "Time complexity: O(n)\n",
    "<br>\n",
    "Space complexity: O(n)"
   ]
  },
  {
   "cell_type": "code",
   "execution_count": 1,
   "metadata": {},
   "outputs": [],
   "source": [
    "class Solution(object):\n",
    "    \n",
    "    def minRemoveToMakeValid(self, s):\n",
    "        open, close = [],[]\n",
    "        res = ''\n",
    "        for i,v in enumerate(s):\n",
    "            if v == ')':\n",
    "                if not open: \n",
    "                    close.append(i)\n",
    "                else:\n",
    "                    open.pop()\n",
    "            elif v == \"(\":\n",
    "                open.append(i)\n",
    "            res += v\n",
    "        #We need to remove the characters at the indexes in open and close from res\n",
    "        m = set(open+close)\n",
    "        \n",
    "        return ''.join([v for i,v in enumerate(res) if i not in m])"
   ]
  },
  {
   "cell_type": "markdown",
   "metadata": {},
   "source": [
    "#### Result: 1680ms (25.78%)\n"
   ]
  }
 ],
 "metadata": {
  "kernelspec": {
   "display_name": "Python 2",
   "language": "python",
   "name": "python2"
  },
  "language_info": {
   "codemirror_mode": {
    "name": "ipython",
    "version": 2
   },
   "file_extension": ".py",
   "mimetype": "text/x-python",
   "name": "python",
   "nbconvert_exporter": "python",
   "pygments_lexer": "ipython2",
   "version": "2.7.16"
  }
 },
 "nbformat": 4,
 "nbformat_minor": 2
}
