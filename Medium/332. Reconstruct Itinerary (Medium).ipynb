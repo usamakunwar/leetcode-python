{
 "cells": [
  {
   "cell_type": "markdown",
   "metadata": {},
   "source": [
    "# 332. Reconstruct Itinerary (Medium)"
   ]
  },
  {
   "cell_type": "markdown",
   "metadata": {},
   "source": [
    "<div><p>Given a list of airline tickets represented by pairs of departure and arrival airports <code>[from, to]</code>, reconstruct the itinerary in order. All of the tickets belong to a man who departs from <code>JFK</code>. Thus, the itinerary must begin with <code>JFK</code>.</p>\n",
    "\n",
    "<p><b>Note:</b></p>\n",
    "\n",
    "<ol>\n",
    "\t<li>If there are multiple valid itineraries, you should return the itinerary that has the smallest lexical order when read as a single string. For example, the itinerary <code>[\"JFK\", \"LGA\"]</code> has a smaller lexical order than <code>[\"JFK\", \"LGB\"]</code>.</li>\n",
    "\t<li>All airports are represented by three capital letters (IATA code).</li>\n",
    "\t<li>You may assume all tickets form at least one valid itinerary.</li>\n",
    "\t<li>One must use all the tickets once and only once.</li>\n",
    "</ol>\n",
    "\n",
    "<p><b>Example 1:</b></p>\n",
    "\n",
    "<pre><code><strong>Input: </strong></code><code>[[\"MUC\", \"LHR\"], [\"JFK\", \"MUC\"], [\"SFO\", \"SJC\"], [\"LHR\", \"SFO\"]]</code>\n",
    "<strong>Output: </strong><code>[\"JFK\", \"MUC\", \"LHR\", \"SFO\", \"SJC\"]</code>\n",
    "</pre>\n",
    "\n",
    "<p><b>Example 2:</b></p>\n",
    "\n",
    "<pre><code><strong>Input: </strong></code><code>[[\"JFK\",\"SFO\"],[\"JFK\",\"ATL\"],[\"SFO\",\"ATL\"],[\"ATL\",\"JFK\"],[\"ATL\",\"SFO\"]]</code>\n",
    "<strong>Output: </strong><code>[\"JFK\",\"ATL\",\"JFK\",\"SFO\",\"ATL\",\"SFO\"]</code>\n",
    "<strong>Explanation: </strong>Another possible reconstruction is <code>[\"JFK\",\"SFO\",\"ATL\",\"JFK\",\"ATL\",\"SFO\"]</code>.\n",
    "&nbsp;            But it is larger in lexical order.\n",
    "</pre>\n",
    "</div>"
   ]
  },
  {
   "cell_type": "markdown",
   "metadata": {},
   "source": [
    "## Option 1\n",
    " <p>    \n",
    "<p>\n",
    "    DFS\n",
    "    <p>    \n",
    "    <li>Firstly, we need to use all the tickets (not more or less) so we need a counter to count the number of times we use an edge\n",
    "    <li>We can use the same edge many times, as long as its within count limit\n",
    "    <li>By default if we search all possibilites, then sort at the end the time exceeds limit\n",
    "    <li>The alternative is to create a sorted graph, so we can guarantee the first result is smallest lexical order, hence we can stop the search\n",
    "<p>\n",
    "        \n"
   ]
  },
  {
   "cell_type": "code",
   "execution_count": null,
   "metadata": {},
   "outputs": [],
   "source": [
    "import collections\n",
    "class Solution(object):\n",
    "    def findItinerary(self, tickets):\n",
    "        counter = collections.Counter(map(tuple,tickets))\n",
    "        graph = collections.defaultdict(list)\n",
    "        \n",
    "        for (a,b),c in sorted(list(counter.items())):\n",
    "            graph[a].append(b)\n",
    "                \n",
    "        def search(curr):\n",
    "            if len(curr) == len(tickets)+1: return curr\n",
    "            a = curr[-1]\n",
    "            for b in graph[a]:\n",
    "                if counter[(a,b)] <= 0 : continue\n",
    "                counter[(a,b)] -= 1\n",
    "                s = search(curr + [b])\n",
    "                if s : return s\n",
    "                counter[(a,b)] += 1\n",
    "        \n",
    "        return search(['JFK'])\n",
    "\n",
    "\n",
    "Solution().findItinerary([[\"JFK\",\"SFO\"],[\"JFK\",\"ATL\"],[\"SFO\",\"ATL\"],[\"ATL\",\"JFK\"],[\"ATL\",\"SFO\"]])\n",
    "\n"
   ]
  },
  {
   "cell_type": "markdown",
   "metadata": {},
   "source": [
    "#### Result:  96ms (15.99%)"
   ]
  }
 ],
 "metadata": {
  "kernelspec": {
   "display_name": "Python 2",
   "language": "python",
   "name": "python2"
  },
  "language_info": {
   "codemirror_mode": {
    "name": "ipython",
    "version": 2
   },
   "file_extension": ".py",
   "mimetype": "text/x-python",
   "name": "python",
   "nbconvert_exporter": "python",
   "pygments_lexer": "ipython2",
   "version": "2.7.16"
  }
 },
 "nbformat": 4,
 "nbformat_minor": 2
}
