{
 "cells": [
  {
   "cell_type": "markdown",
   "metadata": {},
   "source": [
    "# 426. Convert Binary Search Tree to Sorted Doubly Linked List (Medium)"
   ]
  },
  {
   "cell_type": "markdown",
   "metadata": {},
   "source": [
    "<div><p>Convert a <strong>Binary Search Tree</strong>&nbsp;to a sorted <strong>Circular Doubly-Linked List</strong>&nbsp;in place.</p>\n",
    "\n",
    "<p>You can think of the left and right pointers as synonymous to the predecessor and successor pointers in a doubly-linked list. For a circular doubly linked list, the predecessor of the first element is the last element, and the successor of the last element is the first element.</p>\n",
    "\n",
    "<p>We want to do the transformation <strong>in place</strong>. After the transformation, the left pointer of the tree node should point to its predecessor, and the right pointer should point to its successor. You should return the pointer to the smallest element of the linked list.</p>\n",
    "\n",
    "<p>&nbsp;</p>\n",
    "<p><strong>Example 1:</strong></p>\n",
    "\n",
    "<p><img src=\"https://assets.leetcode.com/uploads/2018/10/12/bstdlloriginalbst.png\" style=\"width: 100%; max-width: 300px;\"></p>\n",
    "\n",
    "<pre><strong>Input:</strong> root = [4,2,5,1,3]\n",
    "\n",
    "<img src=\"https://assets.leetcode.com/uploads/2018/10/12/bstdllreturndll.png\" style=\"width: 100%; max-width: 450px;\">\n",
    "<strong>Output:</strong> [1,2,3,4,5]\n",
    "\n",
    "<strong>Explanation:</strong> The figure below shows the transformed BST. The solid line indicates the successor relationship, while the dashed line means the predecessor relationship.\n",
    "<img src=\"https://assets.leetcode.com/uploads/2018/10/12/bstdllreturnbst.png\" style=\"width: 100%; max-width: 450px;\">\n",
    "</pre>\n",
    "\n",
    "<p><strong>Example 2:</strong></p>\n",
    "\n",
    "<pre><strong>Input:</strong> root = [2,1,3]\n",
    "<strong>Output:</strong> [1,2,3]\n",
    "</pre>\n",
    "\n",
    "<p><strong>Example 3:</strong></p>\n",
    "\n",
    "<pre><strong>Input:</strong> root = []\n",
    "<strong>Output:</strong> []\n",
    "<strong>Explanation:</strong> Input is an empty tree. Output is also an empty Linked List.\n",
    "</pre>\n",
    "\n",
    "<p><strong>Example 4:</strong></p>\n",
    "\n",
    "<pre><strong>Input:</strong> root = [1]\n",
    "<strong>Output:</strong> [1]\n",
    "</pre>\n",
    "\n",
    "<p>&nbsp;</p>\n",
    "<p><strong>Constraints:</strong></p>\n",
    "\n",
    "<ul>\n",
    "\t<li><code>-1000 &lt;= Node.val &lt;= 1000</code></li>\n",
    "\t<li><code>Node.left.val &lt; Node.val &lt; Node.right.val</code></li>\n",
    "\t<li>All values of <code>Node.val</code> are unique.</li>\n",
    "\t<li><code>0 &lt;= Number of Nodes &lt;= 2000</code></li>\n",
    "</ul>\n",
    "</div>"
   ]
  },
  {
   "cell_type": "markdown",
   "metadata": {},
   "source": [
    "## Option 1\n",
    " <p>    \n",
    "<p>\n",
    "    <p>       \n",
    "<p>\n",
    "        \n",
    "Time complexity: O(n)\n",
    "    <br>\n",
    "Space complexity: O(h)\n"
   ]
  },
  {
   "cell_type": "code",
   "execution_count": null,
   "metadata": {},
   "outputs": [],
   "source": [
    "class Solution(object):\n",
    "    def treeToDoublyList(self, root):\n",
    "        if not root: return None\n",
    "        \n",
    "        def search(node):\n",
    "            if not node: return None, None                        \n",
    "            l_head, l_tail = search(node.left)\n",
    "            r_head, r_tail = search(node.right)\n",
    "            \n",
    "            if r_head:\n",
    "                node.right = r_head\n",
    "                r_head.left = node\n",
    "            \n",
    "            if l_tail:\n",
    "                l_tail.right = node\n",
    "                node.left = l_tail\n",
    "                return l_head, r_tail if r_tail else node\n",
    "            \n",
    "            return node, r_tail if r_tail else node\n",
    "            \n",
    "        head, tail = search(root)\n",
    "        head.left, tail.right = tail, head\n",
    "        \n",
    "        return head\n"
   ]
  },
  {
   "cell_type": "markdown",
   "metadata": {},
   "source": [
    "#### Result:  36ms (94.31%)"
   ]
  }
 ],
 "metadata": {
  "kernelspec": {
   "display_name": "Python 2",
   "language": "python",
   "name": "python2"
  },
  "language_info": {
   "codemirror_mode": {
    "name": "ipython",
    "version": 2
   },
   "file_extension": ".py",
   "mimetype": "text/x-python",
   "name": "python",
   "nbconvert_exporter": "python",
   "pygments_lexer": "ipython2",
   "version": "2.7.16"
  }
 },
 "nbformat": 4,
 "nbformat_minor": 2
}
