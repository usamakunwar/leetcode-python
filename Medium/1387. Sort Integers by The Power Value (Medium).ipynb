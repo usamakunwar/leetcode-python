{
 "cells": [
  {
   "cell_type": "markdown",
   "metadata": {},
   "source": [
    "# 1387. Sort Integers by The Power Value (Medium)"
   ]
  },
  {
   "cell_type": "markdown",
   "metadata": {},
   "source": [
    "<div><p>The power of an integer <code>x</code> is defined as the number of steps needed to transform&nbsp;<code>x</code> into <code>1</code> using the following steps:</p>\n",
    "\n",
    "<ul>\n",
    "\t<li>if <code>x</code> is even then <code>x = x / 2</code></li>\n",
    "\t<li>if <code>x</code> is odd then <code>x = 3 * x + 1</code></li>\n",
    "</ul>\n",
    "\n",
    "<p>For example, the power of x = 3 is 7 because 3 needs 7 steps to become 1 (3 --&gt; 10 --&gt; 5 --&gt; 16 --&gt; 8 --&gt; 4 --&gt; 2 --&gt; 1).</p>\n",
    "\n",
    "<p>Given three integers <code>lo</code>, <code>hi</code> and <code>k</code>. The task is to sort all integers in the interval <code>[lo, hi]</code> by the power value in <strong>ascending order</strong>, if two or more integers have <strong>the same</strong> power value sort them by <strong>ascending order</strong>.</p>\n",
    "\n",
    "<p>Return the <code>k-th</code> integer in the range <code>[lo, hi]</code> sorted by the power value.</p>\n",
    "\n",
    "<p>Notice that for any&nbsp;integer <code>x</code> <code>(lo &lt;= x &lt;= hi)</code> it is <strong>guaranteed</strong> that <code>x</code> will transform into <code>1</code> using these steps and that the power of <code>x</code> is will <strong>fit</strong> in 32 bit signed integer.</p>\n",
    "\n",
    "<p>&nbsp;</p>\n",
    "<p><strong>Example 1:</strong></p>\n",
    "\n",
    "<pre><strong>Input:</strong> lo = 12, hi = 15, k = 2\n",
    "<strong>Output:</strong> 13\n",
    "<strong>Explanation:</strong> The power of 12 is 9 (12 --&gt; 6 --&gt; 3 --&gt; 10 --&gt; 5 --&gt; 16 --&gt; 8 --&gt; 4 --&gt; 2 --&gt; 1)\n",
    "The power of 13 is 9\n",
    "The power of 14 is 17\n",
    "The power of 15 is 17\n",
    "The interval sorted by the power value [12,13,14,15]. For k = 2 answer is the second element which is 13.\n",
    "Notice that 12 and 13 have the same power value and we sorted them in ascending order. Same for 14 and 15.\n",
    "</pre>\n",
    "\n",
    "<p><strong>Example 2:</strong></p>\n",
    "\n",
    "<pre><strong>Input:</strong> lo = 1, hi = 1, k = 1\n",
    "<strong>Output:</strong> 1\n",
    "</pre>\n",
    "\n",
    "<p><strong>Example 3:</strong></p>\n",
    "\n",
    "<pre><strong>Input:</strong> lo = 7, hi = 11, k = 4\n",
    "<strong>Output:</strong> 7\n",
    "<strong>Explanation:</strong> The power array corresponding to the interval [7, 8, 9, 10, 11] is [16, 3, 19, 6, 14].\n",
    "The interval sorted by power is [8, 10, 11, 7, 9].\n",
    "The fourth number in the sorted array is 7.\n",
    "</pre>\n",
    "\n",
    "<p><strong>Example 4:</strong></p>\n",
    "\n",
    "<pre><strong>Input:</strong> lo = 10, hi = 20, k = 5\n",
    "<strong>Output:</strong> 13\n",
    "</pre>\n",
    "\n",
    "<p><strong>Example 5:</strong></p>\n",
    "\n",
    "<pre><strong>Input:</strong> lo = 1, hi = 1000, k = 777\n",
    "<strong>Output:</strong> 570\n",
    "</pre>\n",
    "\n",
    "<p>&nbsp;</p>\n",
    "<p><strong>Constraints:</strong></p>\n",
    "\n",
    "<ul>\n",
    "\t<li><code>1 &lt;= lo &lt;= hi &lt;= 1000</code></li>\n",
    "\t<li><code>1 &lt;= k &lt;= hi - lo + 1</code></li>\n",
    "</ul></div>"
   ]
  },
  {
   "cell_type": "markdown",
   "metadata": {},
   "source": [
    "## Option 1\n",
    "<p>\n",
    "<p>\n",
    "Time complexity: O(n)\n",
    "    <br>\n",
    "Space complexity: O(n)\n"
   ]
  },
  {
   "cell_type": "code",
   "execution_count": null,
   "metadata": {
    "scrolled": true
   },
   "outputs": [],
   "source": [
    "class Solution(object):\n",
    "    def getKth(self, lo, hi, k):\n",
    "        d = {} #cache results to reuse\n",
    "        def search(i):\n",
    "            if i in d: return d[i]-1\n",
    "            if i == 1: return -1\n",
    "            i = i*3+1 if i%2 else i/2\n",
    "            d[i] = search(i)+1\n",
    "            return d[i] \n",
    "        \n",
    "        res = []\n",
    "        for i in range(lo,hi+1):\n",
    "            d[i] = search(i)+1\n",
    "            res.append((d[i],i))\n",
    "        res.sort()\n",
    "        return res[k-1][1]\n",
    "        \n",
    "Solution().getKth(12,15,2)"
   ]
  },
  {
   "cell_type": "markdown",
   "metadata": {},
   "source": [
    "#### Result: 164ms (86.36%)"
   ]
  }
 ],
 "metadata": {
  "kernelspec": {
   "display_name": "Python 2",
   "language": "python",
   "name": "python2"
  },
  "language_info": {
   "codemirror_mode": {
    "name": "ipython",
    "version": 2
   },
   "file_extension": ".py",
   "mimetype": "text/x-python",
   "name": "python",
   "nbconvert_exporter": "python",
   "pygments_lexer": "ipython2",
   "version": "2.7.16"
  }
 },
 "nbformat": 4,
 "nbformat_minor": 2
}
