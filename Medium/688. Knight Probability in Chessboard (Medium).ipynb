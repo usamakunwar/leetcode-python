{
 "cells": [
  {
   "cell_type": "markdown",
   "metadata": {},
   "source": [
    "# 688. Knight Probability in Chessboard (Medium)"
   ]
  },
  {
   "cell_type": "markdown",
   "metadata": {},
   "source": [
    "<div><p>On an <code>N</code>x<code>N</code> chessboard, a knight starts at the <code>r</code>-th row and <code>c</code>-th column and attempts to make exactly <code>K</code> moves. The rows and columns are 0 indexed, so the top-left square is <code>(0, 0)</code>, and the bottom-right square is <code>(N-1, N-1)</code>.</p>\n",
    "\n",
    "<p>A chess knight has 8 possible moves it can make, as illustrated below. Each move is two squares in a cardinal direction, then one square in an orthogonal direction.</p>\n",
    "\n",
    "<p>&nbsp;</p>\n",
    "\n",
    "<p><img src=\"https://assets.leetcode.com/uploads/2018/10/12/knight.png\" style=\"width: 200px; height: 200px;\"></p>\n",
    "\n",
    "<p>&nbsp;</p>\n",
    "\n",
    "<p>Each time the knight is to move, it chooses one of eight possible moves uniformly at random (even if the piece would go off the chessboard) and moves there.</p>\n",
    "\n",
    "<p>The knight continues moving until it has made exactly <code>K</code> moves or has moved off the chessboard. Return the probability that the knight remains on the board after it has stopped moving.</p>\n",
    "\n",
    "<p>&nbsp;</p>\n",
    "\n",
    "<p><b>Example:</b></p>\n",
    "\n",
    "<pre><b>Input:</b> 3, 2, 0, 0\n",
    "<b>Output:</b> 0.0625\n",
    "<b>Explanation:</b> There are two moves (to (1,2), (2,1)) that will keep the knight on the board.\n",
    "From each of those positions, there are also two moves that will keep the knight on the board.\n",
    "The total probability the knight stays on the board is 0.0625.\n",
    "</pre>\n",
    "\n",
    "<p>&nbsp;</p>\n",
    "\n",
    "<p><b>Note:</b></p>\n",
    "\n",
    "<ul>\n",
    "\t<li><code>N</code> will be between 1 and 25.</li>\n",
    "\t<li><code>K</code> will be between 0 and 100.</li>\n",
    "\t<li>The knight always initially starts on the board.</li>\n",
    "</ul>\n",
    "</div>"
   ]
  },
  {
   "cell_type": "markdown",
   "metadata": {},
   "source": [
    "## Option 1\n",
    " <p>    \n",
    "   Top down\n",
    "    <p>\n",
    "<p>\n",
    "    <li>Calculate the number of routes that end up on the board at the end\n",
    "\n",
    "<p>\n",
    "        \n"
   ]
  },
  {
   "cell_type": "code",
   "execution_count": null,
   "metadata": {},
   "outputs": [],
   "source": [
    "class Solution(object):\n",
    "    def knightProbability(self, N, K, r, c):\n",
    "        moves = [(-2,1),(-1,2),(1,2),(2,1),(2,-1),(1,-2),(-1,-2),(-2,-1)]\n",
    "\n",
    "        self.seen = {}\n",
    "        \n",
    "        def search(i,j,curr):            \n",
    "            if curr == K: return 1\n",
    "            if (i,j,curr) in self.seen:  return self.seen[(i,j,curr)]\n",
    "            res = 0\n",
    "            for ni,nj in moves:\n",
    "                ni,nj = i+ni, j+nj\n",
    "                if ni >= 0 and ni < N and nj >= 0 and nj < N:\n",
    "                    res += search(ni, nj, curr+1)\n",
    "                    \n",
    "            self.seen[(i,j,curr)] = res\n",
    "            return res\n",
    "        \n",
    "        print(search(r,c,0))\n",
    "        return search(r,c,0)/float(8**K)\n",
    "\n",
    "Solution().knightProbability(7,2,3,3)\n",
    "        \n"
   ]
  },
  {
   "cell_type": "markdown",
   "metadata": {},
   "source": [
    "#### Result:  3028ms (38.10%)"
   ]
  },
  {
   "cell_type": "markdown",
   "metadata": {},
   "source": [
    "## Option 3\n",
    " <p>    \n",
    "DP with Map\n",
    "    <p>\n",
    "    <li>So like above we want to store the already calculated values of (i,j,k) \n",
    "    <li>We can do this, we will need to accumulate a count. The count is the number of times an (i,j) shows up in the same level (k). We don't want to repeat this work, and we cant just ignore it, as it has to be accounted for. So just pass the count forward\n",
    "    <p>\n",
    "\n",
    "<p>\n",
    "\n",
    "<p>\n",
    "            \n",
    "Time complexity: O(kn^2)\n",
    "    <br>\n",
    "Space complexity: O(n^2)\n",
    "        \n"
   ]
  },
  {
   "cell_type": "code",
   "execution_count": null,
   "metadata": {},
   "outputs": [],
   "source": [
    "class Solution(object):\n",
    "    def knightProbability(self, N, K, r, c):\n",
    "        moves = [(-2,1),(-1,2),(1,2),(2,1),(2,-1),(1,-2),(-1,-2),(-2,-1)]\n",
    "                \n",
    "        dp = [{} for i in range(K+1)]\n",
    "        dp[0][(r,c)] = 1\n",
    "        \n",
    "        for k in range(1,K+1):\n",
    "            for (i,j), count in dp[k-1].items():\n",
    "                for ni,nj in moves:\n",
    "                    ni,nj = i+ni, j+nj\n",
    "                    if ni >= 0 and ni < N and nj >= 0 and nj < N: \n",
    "                        if (ni,nj) in dp[k]:\n",
    "                            dp[k][(ni,nj)] += count\n",
    "                        else:\n",
    "                            dp[k][(ni,nj)] = count\n",
    "            \n",
    "        return sum(dp[-1].values())/float(8**K)\n",
    "        \n",
    "\n",
    "Solution().knightProbability(7,6,3,3)\n",
    "        \n"
   ]
  },
  {
   "cell_type": "markdown",
   "metadata": {},
   "source": [
    "## Option 3\n",
    " <p>    \n",
    "DP with Table\n",
    "    <p>\n",
    "        <li>We can do the same operation as above, but with a table.\n",
    "        <li>Whats important here is to replace the entire table at every level, as we are changing values, the lower results will affect the higher results\n",
    "<p>\n",
    "\n",
    "<p>\n",
    "            \n",
    "Time complexity: O(kn^2)\n",
    "    <br>\n",
    "Space complexity: O(n^2)\n",
    "        \n"
   ]
  },
  {
   "cell_type": "code",
   "execution_count": null,
   "metadata": {},
   "outputs": [],
   "source": [
    "class Solution(object):\n",
    "    def knightProbability(self, N, K, r, c):\n",
    "        moves = [(-2,1),(-1,2),(1,2),(2,1),(2,-1),(1,-2),(-1,-2),(-2,-1)]\n",
    "                \n",
    "        dp = [[0]*N for i in range(N)]        \n",
    "        dp[r][c] = 1\n",
    "\n",
    "        for k in range(1,K+1):\n",
    "            new_dp = [[0]*N for i in range(N)]\n",
    "            for i in range(N):\n",
    "                for j in range(N):\n",
    "                    for ni,nj in moves:\n",
    "                        ni,nj = i+ni, j+nj\n",
    "                        if ni >= 0 and ni < N and nj >= 0 and nj < N: \n",
    "                            new_dp[ni][nj] += dp[i][j]\n",
    "            dp = new_dp\n",
    "        \n",
    "        return sum(map(sum,dp))/float(8**K)\n",
    "        \n",
    "Solution().knightProbability(7,6,3,3)        \n"
   ]
  },
  {
   "cell_type": "markdown",
   "metadata": {},
   "source": [
    "#### Result:  308ms (22.22%)"
   ]
  }
 ],
 "metadata": {
  "kernelspec": {
   "display_name": "Python 2",
   "language": "python",
   "name": "python2"
  },
  "language_info": {
   "codemirror_mode": {
    "name": "ipython",
    "version": 2
   },
   "file_extension": ".py",
   "mimetype": "text/x-python",
   "name": "python",
   "nbconvert_exporter": "python",
   "pygments_lexer": "ipython2",
   "version": "2.7.16"
  }
 },
 "nbformat": 4,
 "nbformat_minor": 2
}
