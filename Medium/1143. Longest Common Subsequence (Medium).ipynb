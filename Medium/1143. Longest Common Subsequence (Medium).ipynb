{
 "cells": [
  {
   "cell_type": "markdown",
   "metadata": {},
   "source": [
    "# 1143. Longest Common Subsequence (Medium)"
   ]
  },
  {
   "cell_type": "markdown",
   "metadata": {},
   "source": [
    "<div><p>Given two strings <code>text1</code> and <code>text2</code>, return the length of their longest common subsequence.</p>\n",
    "\n",
    "<p>A <em>subsequence</em> of a string is a new string generated from the original string with some characters(can be none) deleted without changing the relative order of the remaining characters. (eg, \"ace\" is a subsequence of \"abcde\" while \"aec\" is not).&nbsp;A <em>common subsequence</em>&nbsp;of two strings is a subsequence that is common to both strings.</p>\n",
    "\n",
    "<p>&nbsp;</p>\n",
    "\n",
    "<p>If there is no common subsequence, return 0.</p>\n",
    "\n",
    "<p>&nbsp;</p>\n",
    "<p><strong>Example 1:</strong></p>\n",
    "\n",
    "<pre><strong>Input:</strong> text1 = \"abcde\", text2 = \"ace\" \n",
    "<strong>Output:</strong> 3  \n",
    "<strong>Explanation:</strong> The longest common subsequence is \"ace\" and its length is 3.\n",
    "</pre>\n",
    "\n",
    "<p><strong>Example 2:</strong></p>\n",
    "\n",
    "<pre><strong>Input:</strong> text1 = \"abc\", text2 = \"abc\"\n",
    "<strong>Output:</strong> 3\n",
    "<strong>Explanation:</strong> The longest common subsequence is \"abc\" and its length is 3.\n",
    "</pre>\n",
    "\n",
    "<p><strong>Example 3:</strong></p>\n",
    "\n",
    "<pre><strong>Input:</strong> text1 = \"abc\", text2 = \"def\"\n",
    "<strong>Output:</strong> 0\n",
    "<strong>Explanation:</strong> There is no such common subsequence, so the result is 0.\n",
    "</pre>\n",
    "\n",
    "<p>&nbsp;</p>\n",
    "<p><strong>Constraints:</strong></p>\n",
    "\n",
    "<ul>\n",
    "\t<li><code>1 &lt;= text1.length &lt;= 1000</code></li>\n",
    "\t<li><code>1 &lt;= text2.length &lt;= 1000</code></li>\n",
    "\t<li>The input strings consist of lowercase English characters only.</li>\n",
    "</ul>\n",
    "</div>"
   ]
  },
  {
   "cell_type": "markdown",
   "metadata": {},
   "source": [
    "## Option 1\n",
    "\n",
    "<p>\n",
    "    DP\n",
    "    <p>\n",
    "    <li>Use a sentinel row and column to ease the top and left loop\n",
    "    <li>So the actual entries are:\n",
    "        <li>k[i][j] = k[i-1][j-1] + 1\n",
    "        <li>k[i][j] = max(k[i-1][j], k[i][j-1])\n",
    "        <li>However with the sentinel we add one everywhere\n",
    "<p>\n",
    "\n",
    "Time complexity: O(n^2) (text1 * text2) \n",
    "    <br>\n",
    "Space complexity: O(n^2) (text1 * text2) \n"
   ]
  },
  {
   "cell_type": "code",
   "execution_count": null,
   "metadata": {},
   "outputs": [],
   "source": [
    "class Solution(object):\n",
    "    def longestCommonSubsequence(self, text1, text2):\n",
    "        li,lj = len(text1), len(text2)\n",
    "        k = [[0]*(lj+1) for i in range(li+1)]\n",
    "        \n",
    "        for i in range(li):\n",
    "            for j in range(lj):\n",
    "                if text1[i] == text2[j]:\n",
    "                    k[i+1][j+1] = k[i][j] + 1\n",
    "                else:\n",
    "                    k[i+1][j+1] = max(k[i][j+1], k[i+1][j])\n",
    "       \n",
    "        return k[-1][-1]\n",
    "    \n",
    "Solution().longestCommonSubsequence(\"abcde\", \"acfgejb\")"
   ]
  },
  {
   "cell_type": "markdown",
   "metadata": {},
   "source": [
    "\n",
    "#### Result: 312ms (85.48%)"
   ]
  }
 ],
 "metadata": {
  "kernelspec": {
   "display_name": "Python 2",
   "language": "python",
   "name": "python2"
  },
  "language_info": {
   "codemirror_mode": {
    "name": "ipython",
    "version": 2
   },
   "file_extension": ".py",
   "mimetype": "text/x-python",
   "name": "python",
   "nbconvert_exporter": "python",
   "pygments_lexer": "ipython2",
   "version": "2.7.16"
  }
 },
 "nbformat": 4,
 "nbformat_minor": 2
}
