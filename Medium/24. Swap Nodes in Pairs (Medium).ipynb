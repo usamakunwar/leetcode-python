{
 "cells": [
  {
   "cell_type": "markdown",
   "metadata": {},
   "source": [
    "# 24. Swap Nodes in Pairs (Medium)"
   ]
  },
  {
   "cell_type": "markdown",
   "metadata": {},
   "source": [
    "<div><p>Given a&nbsp;linked list, swap every two adjacent nodes and return its head.</p>\n",
    "\n",
    "<p>You may <strong>not</strong> modify the values in the list's nodes, only nodes itself may be changed.</p>\n",
    "\n",
    "<p>&nbsp;</p>\n",
    "\n",
    "<p><strong>Example:</strong></p>\n",
    "\n",
    "<pre>Given <code>1-&gt;2-&gt;3-&gt;4</code>, you should return the list as <code>2-&gt;1-&gt;4-&gt;3</code>.\n",
    "</pre>\n",
    "</div>"
   ]
  },
  {
   "cell_type": "markdown",
   "metadata": {},
   "source": [
    "## Option 1\n",
    "\n",
    "Iterative \n",
    "<br>\n",
    "<p>\n",
    "Time complexity = O(n)\n",
    "<br>\n",
    "Space complexity = O(1)\n",
    "<p>"
   ]
  },
  {
   "cell_type": "code",
   "execution_count": null,
   "metadata": {
    "scrolled": false
   },
   "outputs": [],
   "source": [
    "class Solution(object):\n",
    "    def swapPairs(self, head):\n",
    "        \n",
    "        sentinel = ListNode(0)        \n",
    "        sentinel.next = head\n",
    "        \n",
    "        prev, curr = sentinel, sentinel.next\n",
    "        \n",
    "        while curr and curr.next:\n",
    "            #Make the swap\n",
    "            nxt = curr.next\n",
    "            prev.next = nxt\n",
    "            curr.next = nxt.next\n",
    "            nxt.next = curr\n",
    "            \n",
    "            #Move forward\n",
    "            prev, curr = curr, curr.next\n",
    "            \n",
    "            \n",
    "        return sentinel.next\n",
    "        "
   ]
  },
  {
   "cell_type": "markdown",
   "metadata": {},
   "source": [
    "#### Result:  20ms (70.69%)"
   ]
  }
 ],
 "metadata": {
  "kernelspec": {
   "display_name": "Python 3",
   "language": "python",
   "name": "python3"
  },
  "language_info": {
   "codemirror_mode": {
    "name": "ipython",
    "version": 3
   },
   "file_extension": ".py",
   "mimetype": "text/x-python",
   "name": "python",
   "nbconvert_exporter": "python",
   "pygments_lexer": "ipython3",
   "version": "3.7.4"
  }
 },
 "nbformat": 4,
 "nbformat_minor": 2
}
