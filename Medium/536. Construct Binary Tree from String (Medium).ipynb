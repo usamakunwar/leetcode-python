{
 "cells": [
  {
   "cell_type": "markdown",
   "metadata": {},
   "source": [
    "# 536. Construct Binary Tree from String (Medium)"
   ]
  },
  {
   "cell_type": "markdown",
   "metadata": {},
   "source": [
    "<div><p>You need to construct a binary tree from a string consisting of parenthesis and integers. </p>\n",
    "\n",
    "<p>The whole input represents a binary tree. It contains an integer followed by zero, one or two pairs of parenthesis. The integer represents the root's value and a pair of parenthesis contains a child binary tree with the same structure. </p>\n",
    "\n",
    "<p>You always start to construct the <b>left</b> child node of the parent first if it exists.</p>\n",
    "\n",
    "<p><b>Example:</b><br>\n",
    "</p><pre><b>Input:</b> \"4(2(3)(1))(6(5))\"\n",
    "<b>Output:</b> return the tree root node representing the following tree:\n",
    "\n",
    "       4\n",
    "     /   \\\n",
    "    2     6\n",
    "   / \\   / \n",
    "  3   1 5   \n",
    "</pre>\n",
    "<p></p>\n",
    "\n",
    "<p><b>Note:</b><br>\n",
    "</p><ol>\n",
    "<li>There will only be <code>'('</code>,  <code>')'</code>,  <code>'-'</code> and  <code>'0'</code> ~ <code>'9'</code> in the input string.</li>\n",
    "<li>An empty tree is represented by <code>\"\"</code> instead of <code>\"()\"</code>.</li>\n",
    "</ol>\n",
    "<p></p></div>"
   ]
  },
  {
   "cell_type": "markdown",
   "metadata": {},
   "source": [
    "## Option 1\n",
    " <p>     <p>\n",
    "    Recursive\n",
    "    <p>\n",
    "        <li>Make the number, then recurse at every balance == 0\n",
    "<p>\n"
   ]
  },
  {
   "cell_type": "code",
   "execution_count": null,
   "metadata": {},
   "outputs": [],
   "source": [
    "class Solution(object):\n",
    "    def str2tree(self, s):\n",
    "            \n",
    "        def search(s):\n",
    "            if not s: return None\n",
    "            i = 0\n",
    "            while i < len(s) and (s[i] == '-' or s[i].isdigit()): i += 1\n",
    "            node = TreeNode(int(s[:i]))            \n",
    "            \n",
    "            balance = 0\n",
    "            nxt = ''            \n",
    "            for j in range(i,len(s)):\n",
    "                nxt += s[j]\n",
    "                \n",
    "                if s[j] == '(':\n",
    "                    balance += 1\n",
    "                elif s[j] == ')':\n",
    "                    balance -= 1\n",
    "                \n",
    "                if balance == 0:\n",
    "                    if node.left:\n",
    "                        node.right = search(nxt[1:-1])\n",
    "                    else:\n",
    "                        node.left = search(nxt[1:-1])\n",
    "                    nxt = ''\n",
    "                    \n",
    "            return node\n",
    "                            \n",
    "        return search(s)            \n",
    "            "
   ]
  },
  {
   "cell_type": "markdown",
   "metadata": {},
   "source": [
    "#### Result:  1024ms (5.26%)"
   ]
  }
 ],
 "metadata": {
  "kernelspec": {
   "display_name": "Python 2",
   "language": "python",
   "name": "python2"
  },
  "language_info": {
   "codemirror_mode": {
    "name": "ipython",
    "version": 2
   },
   "file_extension": ".py",
   "mimetype": "text/x-python",
   "name": "python",
   "nbconvert_exporter": "python",
   "pygments_lexer": "ipython2",
   "version": "2.7.16"
  }
 },
 "nbformat": 4,
 "nbformat_minor": 2
}
