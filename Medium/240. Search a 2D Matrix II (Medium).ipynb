{
 "cells": [
  {
   "cell_type": "markdown",
   "metadata": {},
   "source": [
    "# 240. Search a 2D Matrix II (Medium)"
   ]
  },
  {
   "cell_type": "markdown",
   "metadata": {},
   "source": [
    "<div><p>Write an efficient algorithm that searches for a value in an <i>m</i> x <i>n</i> matrix. This matrix has the following properties:</p>\n",
    "\n",
    "<ul>\n",
    "\t<li>Integers in each row are sorted in ascending from left to right.</li>\n",
    "\t<li>Integers in each column are sorted in ascending from top to bottom.</li>\n",
    "</ul>\n",
    "\n",
    "<p><strong>Example:</strong></p>\n",
    "\n",
    "<p>Consider the following matrix:</p>\n",
    "\n",
    "<pre>[\n",
    "  [1,   4,  7, 11, 15],\n",
    "  [2,   5,  8, 12, 19],\n",
    "  [3,   6,  9, 16, 22],\n",
    "  [10, 13, 14, 17, 24],\n",
    "  [18, 21, 23, 26, 30]\n",
    "]\n",
    "</pre>\n",
    "\n",
    "<p>Given&nbsp;target&nbsp;=&nbsp;<code>5</code>, return&nbsp;<code>true</code>.</p>\n",
    "\n",
    "<p>Given&nbsp;target&nbsp;=&nbsp;<code>20</code>, return&nbsp;<code>false</code>.</p>\n",
    "</div>"
   ]
  },
  {
   "cell_type": "markdown",
   "metadata": {},
   "source": [
    "## Option 1\n",
    "<p>\n",
    "Staircase\n",
    "<p>\n",
    "    <li>We can create a staircase from bottom left or top right to narrow our search\n",
    "    <p>\n",
    "        <p>\n",
    "Time complexity: O(m+n)\n",
    "<br>\n",
    "Space complexity: O(1)\n"
   ]
  },
  {
   "cell_type": "code",
   "execution_count": null,
   "metadata": {},
   "outputs": [],
   "source": [
    "class Solution(object):\n",
    "    def searchMatrix(self, matrix, target):\n",
    "        if not matrix or not matrix[0]: return False\n",
    "        \n",
    "        m, n = len(matrix), len(matrix[0])\n",
    "        \n",
    "        i,j = m-1, 0\n",
    "        \n",
    "        while i >= 0 and j < n:\n",
    "            if matrix[i][j] > target:\n",
    "                i -= 1\n",
    "            elif matrix[i][j] < target: \n",
    "                j += 1\n",
    "            else:\n",
    "                return True\n",
    "            \n",
    "        return False\n",
    "\n",
    "Solution().searchMatrix([[1,4,7,11,15], [2,5,8,12,19], [3,6,9,16,22], [10,13,14,17,24], [18,21,23,26,30]], 9)\n"
   ]
  },
  {
   "cell_type": "markdown",
   "metadata": {},
   "source": [
    "#### Result: 44ms (91.19%)"
   ]
  }
 ],
 "metadata": {
  "kernelspec": {
   "display_name": "Python 2",
   "language": "python",
   "name": "python2"
  },
  "language_info": {
   "codemirror_mode": {
    "name": "ipython",
    "version": 2
   },
   "file_extension": ".py",
   "mimetype": "text/x-python",
   "name": "python",
   "nbconvert_exporter": "python",
   "pygments_lexer": "ipython2",
   "version": "2.7.16"
  }
 },
 "nbformat": 4,
 "nbformat_minor": 2
}
