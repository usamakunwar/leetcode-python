{
 "cells": [
  {
   "cell_type": "markdown",
   "metadata": {},
   "source": [
    "# 616. Add Bold Tag in String (Medium)"
   ]
  },
  {
   "cell_type": "markdown",
   "metadata": {},
   "source": [
    "<div>Given a string <b>s</b> and a list of strings <b>dict</b>, you need to add a closed pair of bold tag <code>&lt;b&gt;</code> and <code>&lt;/b&gt;</code> to wrap the substrings in s that exist in dict. If two such substrings overlap, you need to wrap them together by only one pair of closed bold tag. Also, if two substrings wrapped by bold tags are consecutive, you need to combine them. \n",
    "\n",
    "<p><b>Example 1:</b><br>\n",
    "</p><pre><b>Input:</b> \n",
    "s = \"abcxyz123\"\n",
    "dict = [\"abc\",\"123\"]\n",
    "<b>Output:</b>\n",
    "\"&lt;b&gt;abc&lt;/b&gt;xyz&lt;b&gt;123&lt;/b&gt;\"\n",
    "</pre>\n",
    "<p></p>\n",
    "\n",
    "<p><b>Example 2:</b><br>\n",
    "</p><pre><b>Input:</b> \n",
    "s = \"aaabbcc\"\n",
    "dict = [\"aaa\",\"aab\",\"bc\"]\n",
    "<b>Output:</b>\n",
    "\"&lt;b&gt;aaabbc&lt;/b&gt;c\"\n",
    "</pre>\n",
    "<p></p>\n",
    "\n",
    "<p><b>Note:</b><br>\n",
    "</p><ol>\n",
    "<li>The given dict won't contain duplicates, and its length won't exceed 100.</li>\n",
    "<li>All the strings in input have length in range [1, 1000]. </li>\n",
    "</ol>\n",
    "<p></p></div>"
   ]
  },
  {
   "cell_type": "markdown",
   "metadata": {},
   "source": [
    "## Option 1\n",
    "\n"
   ]
  },
  {
   "cell_type": "code",
   "execution_count": null,
   "metadata": {
    "scrolled": true
   },
   "outputs": [],
   "source": [
    "import collections\n",
    "import bisect\n",
    "class Solution(object):\n",
    "    def addBoldTag(self, s, dict):\n",
    "        ln, d, k = len(s), set(dict), []\n",
    "        #Iterate over distinct word lenghts, \n",
    "        #Create a window of lenght size, slide the window across s to find a match\n",
    "        #k will result in segments (ordered tuples) with start + end indexes\n",
    "        for i in {len(i) for i in d}:\n",
    "            for j in range(ln-i+1):\n",
    "                if s[j:j+i] in d: bisect.insort(k, (j,j+i))\n",
    "        if not k :return s\n",
    "        #merge the segments\n",
    "        m = [k[0]]\n",
    "        for i in k[1:]:\n",
    "            if i[0] <= m[-1][1]:\n",
    "                m[-1] = m[-1][0],max(m[-1][1], i[1])\n",
    "            else:\n",
    "                m.append(i)\n",
    "        #create result\n",
    "        res = ''\n",
    "        for i in range(len(m)):\n",
    "            res += s[m[i-1][1] if i > 0 else 0:m[i][0]]+'<b>'+ s[m[i][0]:m[i][1]] +'</b>'\n",
    "        res += s[m[-1][1]:]\n",
    "        return res\n",
    "\n",
    "Solution().addBoldTag('aaabbcc',[])"
   ]
  },
  {
   "cell_type": "markdown",
   "metadata": {},
   "source": [
    "#### Result: 152ms (53.21%)"
   ]
  }
 ],
 "metadata": {
  "kernelspec": {
   "display_name": "Python 2",
   "language": "python",
   "name": "python2"
  },
  "language_info": {
   "codemirror_mode": {
    "name": "ipython",
    "version": 2
   },
   "file_extension": ".py",
   "mimetype": "text/x-python",
   "name": "python",
   "nbconvert_exporter": "python",
   "pygments_lexer": "ipython2",
   "version": "2.7.16"
  }
 },
 "nbformat": 4,
 "nbformat_minor": 2
}
