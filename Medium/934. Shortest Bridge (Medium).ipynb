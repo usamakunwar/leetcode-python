{
 "cells": [
  {
   "cell_type": "markdown",
   "metadata": {},
   "source": [
    "# 934. Shortest Bridge (Medium)"
   ]
  },
  {
   "cell_type": "markdown",
   "metadata": {},
   "source": [
    "<div><p>In a given 2D binary array <code>A</code>, there are two islands.&nbsp; (An island is a 4-directionally connected group of&nbsp;<code>1</code>s not connected to any other 1s.)</p>\n",
    "\n",
    "<p>Now, we may change <code>0</code>s to <code>1</code>s so as to connect the two islands together to form 1 island.</p>\n",
    "\n",
    "<p>Return the smallest number of <code>0</code>s that must be flipped.&nbsp; (It is guaranteed that the answer is at least 1.)</p>\n",
    "\n",
    "<p>&nbsp;</p>\n",
    "<p><strong>Example 1:</strong></p>\n",
    "<pre><strong>Input:</strong> A = [[0,1],[1,0]]\n",
    "<strong>Output:</strong> 1\n",
    "</pre><p><strong>Example 2:</strong></p>\n",
    "<pre><strong>Input:</strong> A = [[0,1,0],[0,0,0],[0,0,1]]\n",
    "<strong>Output:</strong> 2\n",
    "</pre><p><strong>Example 3:</strong></p>\n",
    "<pre><strong>Input:</strong> A = [[1,1,1,1,1],[1,0,0,0,1],[1,0,1,0,1],[1,0,0,0,1],[1,1,1,1,1]]\n",
    "<strong>Output:</strong> 1\n",
    "</pre>\n",
    "<p>&nbsp;</p>\n",
    "<p><strong>Constraints:</strong></p>\n",
    "\n",
    "<ul>\n",
    "\t<li><code>2 &lt;= A.length == A[0].length &lt;= 100</code></li>\n",
    "\t<li><code>A[i][j] == 0</code> or <code>A[i][j] == 1</code></li>\n",
    "</ul>\n",
    "</div>"
   ]
  },
  {
   "cell_type": "markdown",
   "metadata": {},
   "source": [
    "## Option 1\n",
    " <p>     <p>\n",
    "    <p>\n",
    "        <li>Use DFS to cover 1 island (so it can be differentiated with the other)\n",
    "        <li>Then BFS to find the shortest path to the other island\n",
    "<p>\n",
    "        \n",
    "Time complexity: O(mn)\n",
    "    <br>\n",
    "Space complexity: O(mn)\n"
   ]
  },
  {
   "cell_type": "code",
   "execution_count": null,
   "metadata": {
    "scrolled": true
   },
   "outputs": [],
   "source": [
    "import collections\n",
    "class Solution(object):\n",
    "    \n",
    "    def shortestBridge(self, A):\n",
    "        m,n = len(A),len(A[0])\n",
    "        \n",
    "        def search(i,j):\n",
    "            A[i][j] = -1 \n",
    "            res = [(i,j,0)]\n",
    "            for ni,nj in ((i+1,j),(i-1,j),(i,j+1),(i,j-1)):\n",
    "                if ni >= 0 and ni < m and nj >= 0 and nj < n and A[ni][nj] == 1:\n",
    "                    res += search(ni,nj)\n",
    "            return res\n",
    "        \n",
    "        def island():\n",
    "            for i in range(m):\n",
    "                for j in range(n):\n",
    "                    if not A[i][j]: continue\n",
    "                    return search(i,j)\n",
    "                \n",
    "        q = collections.deque(island())\n",
    "        \n",
    "        while q:\n",
    "            i,j,lev = q.popleft()\n",
    "            for ni,nj in ((i+1,j),(i-1,j),(i,j+1),(i,j-1)):\n",
    "                if ni >= 0 and ni < m and nj >= 0 and nj < n and A[ni][nj] >= 0:\n",
    "                    if A[ni][nj] == 1: return lev\n",
    "                    A[ni][nj] = -2\n",
    "                    q.append((ni,nj,lev+1))\n",
    "            \n",
    "    \n",
    "Solution().shortestBridge([[1,1,1,1,1],\n",
    "                           [1,0,0,0,1],\n",
    "                           [1,0,1,0,1],\n",
    "                           [1,0,0,0,1],\n",
    "                           [1,1,1,1,1]])\n"
   ]
  },
  {
   "cell_type": "markdown",
   "metadata": {},
   "source": [
    "#### Result: 440ms (48.70%)"
   ]
  }
 ],
 "metadata": {
  "kernelspec": {
   "display_name": "Python 2",
   "language": "python",
   "name": "python2"
  },
  "language_info": {
   "codemirror_mode": {
    "name": "ipython",
    "version": 2
   },
   "file_extension": ".py",
   "mimetype": "text/x-python",
   "name": "python",
   "nbconvert_exporter": "python",
   "pygments_lexer": "ipython2",
   "version": "2.7.16"
  }
 },
 "nbformat": 4,
 "nbformat_minor": 2
}
