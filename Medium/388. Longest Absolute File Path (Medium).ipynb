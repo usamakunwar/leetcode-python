{
 "cells": [
  {
   "cell_type": "markdown",
   "metadata": {},
   "source": [
    "# 388. Longest Absolute File Path (Medium)\n"
   ]
  },
  {
   "cell_type": "markdown",
   "metadata": {},
   "source": [
    "<div><p>Suppose we abstract our file system by a string in the following manner:</p>\n",
    "\n",
    "<p>The string <code>\"dir\\n\\tsubdir1\\n\\tsubdir2\\n\\t\\tfile.ext\"</code> represents:</p>\n",
    "\n",
    "<pre>dir\n",
    "    subdir1\n",
    "    subdir2\n",
    "        file.ext\n",
    "</pre>\n",
    "\n",
    "<p>The directory <code>dir</code> contains an empty sub-directory <code>subdir1</code> and a sub-directory <code>subdir2</code> containing a file <code>file.ext</code>.</p>\n",
    "\n",
    "<p>The string <code>\"dir\\n\\tsubdir1\\n\\t\\tfile1.ext\\n\\t\\tsubsubdir1\\n\\tsubdir2\\n\\t\\tsubsubdir2\\n\\t\\t\\tfile2.ext\"</code> represents:</p>\n",
    "\n",
    "<pre>dir\n",
    "    subdir1\n",
    "        file1.ext\n",
    "        subsubdir1\n",
    "    subdir2\n",
    "        subsubdir2\n",
    "            file2.ext\n",
    "</pre>\n",
    "\n",
    "<p>The directory <code>dir</code> contains two sub-directories <code>subdir1</code> and <code>subdir2</code>. <code>subdir1</code> contains a file <code>file1.ext</code> and an empty second-level sub-directory <code>subsubdir1</code>. <code>subdir2</code> contains a second-level sub-directory <code>subsubdir2</code> containing a file <code>file2.ext</code>.</p>\n",
    "\n",
    "<p>We are interested in finding the longest (number of characters) absolute path to a file within our file system. For example, in the second example above, the longest absolute path is <code>\"dir/subdir2/subsubdir2/file2.ext\"</code>, and its length is <code>32</code> (not including the double quotes).</p>\n",
    "\n",
    "<p>Given a string representing the file system in the above format, return the length of the longest absolute path to file in the abstracted file system. If there is no file in the system, return <code>0</code>.</p>\n",
    "\n",
    "<p><b>Note:</b><br>\n",
    "</p><ul>\n",
    "<li>The name of a file contains at least a <code>.</code> and an extension.</li>\n",
    "<li>The name of a directory or sub-directory will not contain a <code>.</code>.</li>\n",
    "</ul>\n",
    "<p></p>\n",
    "\n",
    "<p>Time complexity required: <code>O(n)</code> where <code>n</code> is the size of the input string.</p>\n",
    "\n",
    "<p>Notice that <code>a/aa/aaa/file1.txt</code> is not the longest file path, if there is another path <code>aaaaaaaaaaaaaaaaaaaaa/sth.png</code>.</p></div>"
   ]
  },
  {
   "cell_type": "markdown",
   "metadata": {},
   "source": [
    "## Option 1\n",
    "<p>    \n",
    " <p> <p>\n",
    " <p> <p>"
   ]
  },
  {
   "cell_type": "code",
   "execution_count": null,
   "metadata": {
    "scrolled": true
   },
   "outputs": [],
   "source": [
    "import collections\n",
    "class Solution(object):\n",
    "    def lengthLongestPath(self, input):\n",
    "        count = collections.Counter()\n",
    "        res = 0\n",
    "        for s in input.split('\\n'):\n",
    "            level = s.count('\\t')\n",
    "            s = s.replace('\\t','')\n",
    "            length = count[level-1]+len(s)\n",
    "            if '.' not in s:\n",
    "                if level == 0: count.clear()\n",
    "                count[level] = length+1\n",
    "            else:\n",
    "                res = max(res, length)\n",
    "        \n",
    "        return res\n",
    "    \n",
    "Solution().lengthLongestPath(\"1\\n\\t2\\n\\t\\t5\\n\\t\\t\\t3\\n\\t\\t\\tapple.txt\")\n",
    "    "
   ]
  },
  {
   "cell_type": "markdown",
   "metadata": {},
   "source": [
    "#### Result: 16ms (74.55%)"
   ]
  }
 ],
 "metadata": {
  "kernelspec": {
   "display_name": "Python 2",
   "language": "python",
   "name": "python2"
  },
  "language_info": {
   "codemirror_mode": {
    "name": "ipython",
    "version": 2
   },
   "file_extension": ".py",
   "mimetype": "text/x-python",
   "name": "python",
   "nbconvert_exporter": "python",
   "pygments_lexer": "ipython2",
   "version": "2.7.16"
  }
 },
 "nbformat": 4,
 "nbformat_minor": 2
}
