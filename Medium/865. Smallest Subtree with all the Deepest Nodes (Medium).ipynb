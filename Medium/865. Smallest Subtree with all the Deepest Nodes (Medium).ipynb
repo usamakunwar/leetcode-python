{
 "cells": [
  {
   "cell_type": "markdown",
   "metadata": {},
   "source": [
    "# 865. Smallest Subtree with all the Deepest Nodes (Medium)\n"
   ]
  },
  {
   "cell_type": "markdown",
   "metadata": {},
   "source": [
    "<div><p>Given a binary tree rooted at <code>root</code>, the <em>depth</em> of each node is the shortest distance to the root.</p>\n",
    "\n",
    "<p>A node is <em>deepest</em> if it has the largest depth possible among&nbsp;any node in the <u>entire tree</u>.</p>\n",
    "\n",
    "<p>The subtree of a node is that node, plus the set of all descendants of that node.</p>\n",
    "\n",
    "<p>Return the node with the largest depth such that it contains all the deepest nodes in its subtree.</p>\n",
    "\n",
    "<p>&nbsp;</p>\n",
    "\n",
    "<p><strong>Example 1:</strong></p>\n",
    "\n",
    "<pre><strong>Input: </strong><span id=\"example-input-1-1\">[3,5,1,6,2,0,8,null,null,7,4]</span>\n",
    "<strong>Output: </strong><span id=\"example-output-1\">[2,7,4]</span>\n",
    "<strong>Explanation:\n",
    "</strong>\n",
    "<img alt=\"\" src=\"https://s3-lc-upload.s3.amazonaws.com/uploads/2018/07/01/sketch1.png\" style=\"width: 280px; height: 238px;\">\n",
    "\n",
    "We return the node with value 2, colored in yellow in the diagram.\n",
    "The nodes colored in blue are the deepest nodes of the tree.\n",
    "The input \"[3, 5, 1, 6, 2, 0, 8, null, null, 7, 4]\" is a serialization of the given tree.\n",
    "The output \"[2, 7, 4]\" is a serialization of the subtree rooted at the node with value 2.\n",
    "Both the input and output have TreeNode type.\n",
    "</pre>\n",
    "\n",
    "<p>&nbsp;</p>\n",
    "\n",
    "<p><strong>Note:</strong></p>\n",
    "\n",
    "<ul>\n",
    "\t<li>The number of nodes in the tree will be between 1 and 500.</li>\n",
    "\t<li>The values of each node are unique.</li>\n",
    "</ul>\n",
    "</div>"
   ]
  },
  {
   "cell_type": "markdown",
   "metadata": {},
   "source": [
    "## Option 1\n",
    "   <p>\n",
    "    Recursive\n",
    "    <p>\n",
    "Time complexity: O(n)\n",
    "<br>\n",
    "Space complexity: O(n)"
   ]
  },
  {
   "cell_type": "code",
   "execution_count": null,
   "metadata": {},
   "outputs": [],
   "source": [
    "# Definition for a binary tree node.\n",
    "# class TreeNode(object):\n",
    "#     def __init__(self, x):\n",
    "#         self.val = x\n",
    "#         self.left = None\n",
    "#         self.right = None\n",
    "\n",
    "class Solution(object):\n",
    "    def subtreeWithAllDeepest(self, root):\n",
    "        \"\"\"\n",
    "        :type root: TreeNode\n",
    "        :rtype: TreeNode\n",
    "        \"\"\"\n",
    "        def search(node,lev):\n",
    "            left,l_lev = search(node.left, lev+1) if node.left else (None,lev+1)\n",
    "            right,r_lev = search(node.right,lev+1) if node.right else (None,lev+1)\n",
    "            \n",
    "            if l_lev > r_lev:\n",
    "                return left,l_lev\n",
    "            elif r_lev > l_lev:\n",
    "                return right,r_lev\n",
    "            else:\n",
    "                return node,r_lev\n",
    "        \n",
    "        return search(root,1)[0]\n",
    "        "
   ]
  },
  {
   "cell_type": "markdown",
   "metadata": {},
   "source": [
    "#### Result: 24ms (65.26%)\n"
   ]
  }
 ],
 "metadata": {
  "kernelspec": {
   "display_name": "Python 2",
   "language": "python",
   "name": "python2"
  },
  "language_info": {
   "codemirror_mode": {
    "name": "ipython",
    "version": 2
   },
   "file_extension": ".py",
   "mimetype": "text/x-python",
   "name": "python",
   "nbconvert_exporter": "python",
   "pygments_lexer": "ipython2",
   "version": "2.7.16"
  }
 },
 "nbformat": 4,
 "nbformat_minor": 2
}
