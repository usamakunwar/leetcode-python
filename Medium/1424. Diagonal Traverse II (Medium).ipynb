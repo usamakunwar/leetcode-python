{
 "cells": [
  {
   "cell_type": "markdown",
   "metadata": {},
   "source": [
    "# 1424. Diagonal Traverse II (Medium)"
   ]
  },
  {
   "cell_type": "markdown",
   "metadata": {},
   "source": [
    "<div>Given a list of lists of integers,&nbsp;<code>nums</code>,&nbsp;return all elements of <code>nums</code> in diagonal order as shown in the below images.\n",
    "<p>&nbsp;</p>\n",
    "<p><strong>Example 1:</strong></p>\n",
    "\n",
    "<p><strong><img alt=\"\" src=\"https://assets.leetcode.com/uploads/2020/04/08/sample_1_1784.png\" style=\"width: 158px; height: 143px;\"></strong></p>\n",
    "\n",
    "<pre><strong>Input:</strong> nums = [[1,2,3],[4,5,6],[7,8,9]]\n",
    "<strong>Output:</strong> [1,4,2,7,5,3,8,6,9]\n",
    "</pre>\n",
    "\n",
    "<p><strong>Example 2:</strong></p>\n",
    "\n",
    "<p><strong><img alt=\"\" src=\"https://assets.leetcode.com/uploads/2020/04/08/sample_2_1784.png\" style=\"width: 230px; height: 177px;\"></strong></p>\n",
    "\n",
    "<pre><strong>Input:</strong> nums = [[1,2,3,4,5],[6,7],[8],[9,10,11],[12,13,14,15,16]]\n",
    "<strong>Output:</strong> [1,6,2,8,7,3,9,4,12,10,5,13,11,14,15,16]\n",
    "</pre>\n",
    "\n",
    "<p><strong>Example 3:</strong></p>\n",
    "\n",
    "<pre><strong>Input:</strong> nums = [[1,2,3],[4],[5,6,7],[8],[9,10,11]]\n",
    "<strong>Output:</strong> [1,4,2,5,3,8,6,9,7,10,11]\n",
    "</pre>\n",
    "\n",
    "<p><strong>Example 4:</strong></p>\n",
    "\n",
    "<pre><strong>Input:</strong> nums = [[1,2,3,4,5,6]]\n",
    "<strong>Output:</strong> [1,2,3,4,5,6]\n",
    "</pre>\n",
    "\n",
    "<p>&nbsp;</p>\n",
    "<p><strong>Constraints:</strong></p>\n",
    "\n",
    "<ul>\n",
    "\t<li><code>1 &lt;= nums.length &lt;= 10^5</code></li>\n",
    "\t<li><code>1 &lt;= nums[i].length &lt;=&nbsp;10^5</code></li>\n",
    "\t<li><code>1 &lt;= nums[i][j] &lt;= 10^9</code></li>\n",
    "\t<li>There at most <code>10^5</code> elements in <code>nums</code>.</li>\n",
    "</ul>\n",
    "</div>"
   ]
  },
  {
   "cell_type": "markdown",
   "metadata": {},
   "source": [
    "## Option 1\n",
    " <p>    \n",
    "    <p>\n",
    "<p>\n",
    "<p>\n",
    "Time complexity: O(mn)\n",
    "    <br>\n",
    "Space complexity: O(m+n)\n"
   ]
  },
  {
   "cell_type": "code",
   "execution_count": null,
   "metadata": {},
   "outputs": [],
   "source": [
    "class Solution(object):\n",
    "    def findDiagonalOrder(self, nums):\n",
    "       \n",
    "        m = len(nums)\n",
    "        n = len(max(nums, key=len))\n",
    "        \n",
    "        arr = [[] for i in range(m+n-1)]\n",
    "        \n",
    "        for i in range(m-1,-1,-1):\n",
    "            for j in range(len(nums[i])-1,-1,-1):\n",
    "                arr[i+j].append(nums[i][j])\n",
    "\n",
    "        res = [] \n",
    "        for a in arr: res += a\n",
    "            \n",
    "        return res\n",
    "        "
   ]
  },
  {
   "cell_type": "markdown",
   "metadata": {},
   "source": [
    "#### Result:  972ms (83.76%)"
   ]
  }
 ],
 "metadata": {
  "kernelspec": {
   "display_name": "Python 2",
   "language": "python",
   "name": "python2"
  },
  "language_info": {
   "codemirror_mode": {
    "name": "ipython",
    "version": 2
   },
   "file_extension": ".py",
   "mimetype": "text/x-python",
   "name": "python",
   "nbconvert_exporter": "python",
   "pygments_lexer": "ipython2",
   "version": "2.7.16"
  }
 },
 "nbformat": 4,
 "nbformat_minor": 2
}
