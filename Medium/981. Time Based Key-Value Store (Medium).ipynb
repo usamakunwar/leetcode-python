{
 "cells": [
  {
   "cell_type": "markdown",
   "metadata": {},
   "source": [
    "# 981. Time Based Key-Value Store (Medium)"
   ]
  },
  {
   "cell_type": "markdown",
   "metadata": {},
   "source": [
    "<div><p>Create a timebased key-value store class&nbsp;<code>TimeMap</code>, that supports two operations.</p>\n",
    "\n",
    "<p>1. <code>set(string key, string value, int timestamp)</code></p>\n",
    "\n",
    "<ul>\n",
    "\t<li>Stores the <code>key</code> and <code>value</code>, along with the given <code>timestamp</code>.</li>\n",
    "</ul>\n",
    "\n",
    "<p>2. <code>get(string key, int timestamp)</code></p>\n",
    "\n",
    "<ul>\n",
    "\t<li>Returns a value such that <code>set(key, value, timestamp_prev)</code> was called previously, with <code>timestamp_prev &lt;= timestamp</code>.</li>\n",
    "\t<li>If there are multiple such values, it returns the one with the largest <code>timestamp_prev</code>.</li>\n",
    "\t<li>If there are no values, it returns the empty string (<code>\"\"</code>).</li>\n",
    "</ul>\n",
    "\n",
    "<p>&nbsp;</p>\n",
    "\n",
    "<div>\n",
    "<p><strong>Example 1:</strong></p>\n",
    "\n",
    "<pre><strong>Input: </strong>inputs = <span id=\"example-input-1-1\">[\"TimeMap\",\"set\",\"get\",\"get\",\"set\",\"get\",\"get\"]</span>, inputs = <span id=\"example-input-1-2\">[[],[\"foo\",\"bar\",1],[\"foo\",1],[\"foo\",3],[\"foo\",\"bar2\",4],[\"foo\",4],[\"foo\",5]]</span>\n",
    "<strong>Output: </strong><span id=\"example-output-1\">[null,null,\"bar\",\"bar\",null,\"bar2\",\"bar2\"]</span>\n",
    "<strong>Explanation: </strong><span id=\"example-output-1\">&nbsp; \n",
    "TimeMap kv; &nbsp; \n",
    "kv.set(\"foo\", \"bar\", 1); // store the key \"foo\" and value \"bar\" along with timestamp = 1 &nbsp; \n",
    "kv.get(\"foo\", 1);  // output \"bar\" &nbsp; \n",
    "kv.get(\"foo\", 3); // output \"bar\" since there is no value corresponding to foo at timestamp 3 and timestamp 2, then the only value is at timestamp 1 ie \"bar\" &nbsp; \n",
    "kv.set(\"foo\", \"bar2\", 4); &nbsp; \n",
    "kv.get(\"foo\", 4); // output \"bar2\" &nbsp; \n",
    "kv.get(\"foo\", 5); //output \"bar2\" &nbsp; \n",
    "</span>\n",
    "</pre>\n",
    "\n",
    "<div>\n",
    "<p><strong>Example 2:</strong></p>\n",
    "\n",
    "<pre><strong>Input: </strong>inputs = <span id=\"example-input-2-1\">[\"TimeMap\",\"set\",\"set\",\"get\",\"get\",\"get\",\"get\",\"get\"]</span>, inputs = <span id=\"example-input-2-2\">[[],[\"love\",\"high\",10],[\"love\",\"low\",20],[\"love\",5],[\"love\",10],[\"love\",15],[\"love\",20],[\"love\",25]]</span>\n",
    "<strong>Output: </strong><span id=\"example-output-2\">[null,null,null,\"\",\"high\",\"high\",\"low\",\"low\"]</span>\n",
    "</pre>\n",
    "</div>\n",
    "</div>\n",
    "\n",
    "<p>&nbsp;</p>\n",
    "\n",
    "<p><strong>Note:</strong></p>\n",
    "\n",
    "<ol>\n",
    "\t<li>All key/value strings are lowercase.</li>\n",
    "\t<li>All key/value strings have&nbsp;length in the range&nbsp;<code>[1, 100]</code></li>\n",
    "\t<li>The <code>timestamps</code> for all <code>TimeMap.set</code> operations are strictly increasing.</li>\n",
    "\t<li><code>1 &lt;= timestamp &lt;= 10^7</code></li>\n",
    "\t<li><code>TimeMap.set</code> and <code>TimeMap.get</code>&nbsp;functions will be called a total of <code>120000</code> times (combined) per test case.</li>\n",
    "</ol>\n",
    "</div>"
   ]
  },
  {
   "cell_type": "markdown",
   "metadata": {},
   "source": [
    "## Option 1\n",
    "<p>\n",
    "Binary search\n",
    "<p>"
   ]
  },
  {
   "cell_type": "code",
   "execution_count": null,
   "metadata": {},
   "outputs": [],
   "source": [
    "class TimeMap(object):\n",
    "    def __init__(self):\n",
    "        self.map = collections.defaultdict(list)\n",
    "\n",
    "    def set(self, key, value, timestamp):\n",
    "        self.map[key].append((timestamp,value))\n",
    "\n",
    "    def get(self, key, timestamp):\n",
    "        l,r = 0, len(self.map[key])\n",
    "        while l < r:\n",
    "            mid = (l+r)//2\n",
    "            if self.map[key][mid][0] > timestamp:\n",
    "                r = mid\n",
    "            else:\n",
    "                l = mid + 1\n",
    "        return self.map[key][r-1][1] if r > 0 else \"\""
   ]
  },
  {
   "cell_type": "markdown",
   "metadata": {},
   "source": [
    "#### Result: 756ms (43.57%)"
   ]
  }
 ],
 "metadata": {
  "kernelspec": {
   "display_name": "Python 2",
   "language": "python",
   "name": "python2"
  },
  "language_info": {
   "codemirror_mode": {
    "name": "ipython",
    "version": 2
   },
   "file_extension": ".py",
   "mimetype": "text/x-python",
   "name": "python",
   "nbconvert_exporter": "python",
   "pygments_lexer": "ipython2",
   "version": "2.7.16"
  }
 },
 "nbformat": 4,
 "nbformat_minor": 2
}
