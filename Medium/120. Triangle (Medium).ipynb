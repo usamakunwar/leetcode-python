{
 "cells": [
  {
   "cell_type": "markdown",
   "metadata": {},
   "source": [
    "# 120. Triangle (Medium)\n"
   ]
  },
  {
   "cell_type": "markdown",
   "metadata": {},
   "source": [
    "<div><p>Given a triangle, find the minimum path sum from top to bottom. Each step you may move to adjacent numbers on the row below.</p>\n",
    "\n",
    "<p>For example, given the following triangle</p>\n",
    "\n",
    "<pre>[\n",
    "     [<strong>2</strong>],\n",
    "    [<strong>3</strong>,4],\n",
    "   [6,<strong>5</strong>,7],\n",
    "  [4,<strong>1</strong>,8,3]\n",
    "]\n",
    "</pre>\n",
    "\n",
    "<p>The minimum path sum from top to bottom is <code>11</code> (i.e., <strong>2</strong> + <strong>3</strong> + <strong>5</strong> + <strong>1</strong> = 11).</p>\n",
    "\n",
    "<p><strong>Note:</strong></p>\n",
    "\n",
    "<p>Bonus point if you are able to do this using only <em>O</em>(<em>n</em>) extra space, where <em>n</em> is the total number of rows in the triangle.</p>\n",
    "</div>"
   ]
  },
  {
   "cell_type": "markdown",
   "metadata": {},
   "source": [
    "## Option 1\n",
    " <p>DP\n",
    "    <p>\n",
    "Time complexity: O(n)\n",
    "<br>\n",
    "Space complexity: O(1)"
   ]
  },
  {
   "cell_type": "code",
   "execution_count": null,
   "metadata": {},
   "outputs": [],
   "source": [
    "class Solution(object):\n",
    "    def minimumTotal(self, triangle):\n",
    "        for i in range(len(triangle)-1,0,-1):            \n",
    "            for j in range(len(triangle[i])-1):\n",
    "                triangle[i-1][j] = triangle[i-1][j] + min(triangle[i][j],triangle[i][j+1])        \n",
    "        return triangle[0][0] if triangle and triangle[0] else 0\n",
    "        \n",
    "        \n",
    "Solution().minimumTotal([[2],[3,4],[6,5,7],[4,1,8,3]])     "
   ]
  },
  {
   "cell_type": "markdown",
   "metadata": {},
   "source": [
    "#### Result: 48ms (47.19%)\n"
   ]
  }
 ],
 "metadata": {
  "kernelspec": {
   "display_name": "Python 2",
   "language": "python",
   "name": "python2"
  },
  "language_info": {
   "codemirror_mode": {
    "name": "ipython",
    "version": 2
   },
   "file_extension": ".py",
   "mimetype": "text/x-python",
   "name": "python",
   "nbconvert_exporter": "python",
   "pygments_lexer": "ipython2",
   "version": "2.7.16"
  }
 },
 "nbformat": 4,
 "nbformat_minor": 2
}
