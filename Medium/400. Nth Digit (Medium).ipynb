{
 "cells": [
  {
   "cell_type": "markdown",
   "metadata": {},
   "source": [
    "# 400. Nth Digit (Medium)\n",
    "\n"
   ]
  },
  {
   "cell_type": "markdown",
   "metadata": {},
   "source": [
    "<div><p>Find the <i>n</i><sup>th</sup> digit of the infinite integer sequence 1, 2, 3, 4, 5, 6, 7, 8, 9, 10, 11, ... </p>\n",
    "\n",
    "<p><b>Note:</b><br>\n",
    "<i>n</i> is positive and will fit within the range of a 32-bit signed integer (<i>n</i> &lt; 2<sup>31</sup>).\n",
    "</p>\n",
    "\n",
    "<p><b>Example 1:</b>\n",
    "</p><pre><b>Input:</b>\n",
    "3\n",
    "\n",
    "<b>Output:</b>\n",
    "3\n",
    "</pre>\n",
    "<p></p>\n",
    "\n",
    "<p><b>Example 2:</b>\n",
    "</p><pre><b>Input:</b>\n",
    "11\n",
    "\n",
    "<b>Output:</b>\n",
    "0\n",
    "\n",
    "<b>Explanation:</b>\n",
    "The 11th digit of the sequence 1, 2, 3, 4, 5, 6, 7, 8, 9, 10, 11, ... is a 0, which is part of the number 10.\n",
    "</pre>\n",
    "<p></p></div>"
   ]
  },
  {
   "cell_type": "markdown",
   "metadata": {},
   "source": [
    "## Option 1\n",
    " <p> \n",
    "    <p>\n",
    "        <p>\n",
    "       \n"
   ]
  },
  {
   "cell_type": "code",
   "execution_count": null,
   "metadata": {
    "scrolled": true
   },
   "outputs": [],
   "source": [
    "class Solution(object):\n",
    "    def findNthDigit(self, n):\n",
    "        i = 1\n",
    "        while n > 0:\n",
    "            start = 10**(i-1) #1,10,100,1000\n",
    "            end = (9*start) #9,90,900,9000\n",
    "            if end*i >= n : #overflow\n",
    "                return str(start+(n-1)/i)[(n-1)%i]            \n",
    "            n -= end*i #multiply by the number of digits in this segment\n",
    "            i += 1\n",
    "    \n",
    "\n",
    "Solution().findNthDigit(23)"
   ]
  },
  {
   "cell_type": "markdown",
   "metadata": {},
   "source": [
    "#### Result: 20ms (39.77%)"
   ]
  }
 ],
 "metadata": {
  "kernelspec": {
   "display_name": "Python 2",
   "language": "python",
   "name": "python2"
  },
  "language_info": {
   "codemirror_mode": {
    "name": "ipython",
    "version": 2
   },
   "file_extension": ".py",
   "mimetype": "text/x-python",
   "name": "python",
   "nbconvert_exporter": "python",
   "pygments_lexer": "ipython2",
   "version": "2.7.16"
  }
 },
 "nbformat": 4,
 "nbformat_minor": 2
}
