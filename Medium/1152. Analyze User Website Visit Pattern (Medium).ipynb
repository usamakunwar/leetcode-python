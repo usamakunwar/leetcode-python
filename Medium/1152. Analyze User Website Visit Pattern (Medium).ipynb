{
 "cells": [
  {
   "cell_type": "markdown",
   "metadata": {},
   "source": [
    "# 1152. Analyze User Website Visit Pattern (Medium)\n",
    "\n"
   ]
  },
  {
   "cell_type": "markdown",
   "metadata": {},
   "source": [
    "<div><p>We are given some website visits: the user with name&nbsp;<code>username[i]</code> visited the website&nbsp;<code>website[i]</code> at time <code>timestamp[i]</code>.</p>\n",
    "\n",
    "<p>A <em>3-sequence</em>&nbsp;is a list of&nbsp;websites of length 3 sorted in ascending order&nbsp;by the time of their visits.&nbsp; (The websites in a 3-sequence are not necessarily distinct.)</p>\n",
    "\n",
    "<p>Find the 3-sequence visited&nbsp;by the largest number of users. If there is more than one solution, return the lexicographically smallest such 3-sequence.</p>\n",
    "\n",
    "<p>&nbsp;</p>\n",
    "\n",
    "<p><strong>Example 1:</strong></p>\n",
    "\n",
    "<pre><strong>Input: </strong>username = <span>[\"joe\",\"joe\",\"joe\",\"james\",\"james\",\"james\",\"james\",\"mary\",\"mary\",\"mary\"]</span>, timestamp = <span id=\"example-input-1-2\">[1,2,3,4,5,6,7,8,9,10]</span>, website = <span id=\"example-input-1-3\">[\"home\",\"about\",\"career\",\"home\",\"cart\",\"maps\",\"home\",\"home\",\"about\",\"career\"]</span>\n",
    "<strong>Output: </strong><span id=\"example-output-1\">[\"home\",\"about\",\"career\"]</span>\n",
    "<strong>Explanation: </strong>\n",
    "The tuples in this example are:\n",
    "[\"joe\", 1, \"home\"]\n",
    "[\"joe\", 2, \"about\"]\n",
    "[\"joe\", 3, \"career\"]\n",
    "[\"james\", 4, \"home\"]\n",
    "[\"james\", 5, \"cart\"]\n",
    "[\"james\", 6, \"maps\"]\n",
    "[\"james\", 7, \"home\"]\n",
    "[\"mary\", 8, \"home\"]\n",
    "[\"mary\", 9, \"about\"]\n",
    "[\"mary\", 10, \"career\"]\n",
    "The 3-sequence (\"home\", \"about\", \"career\") was visited at least once by <strong>2</strong> users.\n",
    "The 3-sequence (\"home\", \"cart\", \"maps\") was visited at least once by 1 user.\n",
    "The 3-sequence (\"home\", \"cart\", \"home\") was visited at least once by 1 user.\n",
    "The 3-sequence (\"home\", \"maps\", \"home\") was visited at least once by 1 user.\n",
    "The 3-sequence (\"cart\", \"maps\", \"home\") was visited at least once by 1 user.\n",
    "</pre>\n",
    "\n",
    "<p>&nbsp;</p>\n",
    "\n",
    "<p><strong>Note:</strong></p>\n",
    "\n",
    "<ol>\n",
    "\t<li><code>3 &lt;= N = username.length = timestamp.length = website.length &lt;= 50</code></li>\n",
    "\t<li><code>1 &lt;= username[i].length &lt;= 10</code></li>\n",
    "\t<li><code>0 &lt;= timestamp[i] &lt;= 10^9</code></li>\n",
    "\t<li><code>1 &lt;= website[i].length &lt;= 10</code></li>\n",
    "\t<li>Both <code>username[i]</code> and <code>website[i]</code> contain only lowercase characters.</li>\n",
    "\t<li>It is guaranteed that there is at least one user who visited at least 3 websites.</li>\n",
    "\t<li>No user visits two websites at the same time.</li>\n",
    "</ol>\n",
    "</div>"
   ]
  },
  {
   "cell_type": "markdown",
   "metadata": {},
   "source": [
    "## Option 1\n",
    " <p> \n",
    "    <li>Separate the websites by username\n",
    "    <li>We then have to create every 3 length subsequence (for a user) and give it a 1 count \n",
    "    <li>Join the counts for all users, the max count is the result\n",
    "       <p>\n",
    "        \n",
    "Time complexity: O(n^3)\n",
    "    <br>\n",
    "Space complexity: O(n)\n"
   ]
  },
  {
   "cell_type": "code",
   "execution_count": null,
   "metadata": {
    "scrolled": true
   },
   "outputs": [],
   "source": [
    "import collections\n",
    "class Solution(object):\n",
    "    def mostVisitedPattern(self, username, timestamp, website):\n",
    "        m = collections.defaultdict(list)\n",
    "        #Combine sort, then seperate by user\n",
    "        for t,u,w in sorted(zip(timestamp,username,website)):\n",
    "            m[u].append(w)\n",
    "        \n",
    "        def search(i,k,curr):\n",
    "            if len(curr) == 3:\n",
    "                return {tuple(curr):1}\n",
    "            res = {}\n",
    "            for j in range(i,len(m[k])):\n",
    "                res.update(search(j+1, k, curr+[m[k][j]]))\n",
    "            return res\n",
    "        \n",
    "        #Create all possbile subsequences for every user, with a max count of 1 per user\n",
    "        #Combinations can also be made by itertools itertools.combinations(ARR, SIZE)\n",
    "        #Join the counts\n",
    "        s = collections.Counter()\n",
    "        for k in m: \n",
    "            s += Counter(search(0,k,[]))\n",
    "        \n",
    "        return list(min(s, key=lambda k: (-s[k], k)))  #Min of count and key lexical value\n",
    "        \n",
    "\n",
    "Solution().mostVisitedPattern([\"dowg\",\"dowg\",\"dowg\",\"dowg\",\"dowg\",\"dowg\"],\n",
    "[158931262,562600350,148438945,562600352,562600354,562600359],\n",
    "[\"y\",\"loedo\",\"y\",\"a\",\"b\",\"c\"])\n",
    "        "
   ]
  },
  {
   "cell_type": "markdown",
   "metadata": {},
   "source": [
    "#### Result: 140ms (7.69%)"
   ]
  }
 ],
 "metadata": {
  "kernelspec": {
   "display_name": "Python 2",
   "language": "python",
   "name": "python2"
  },
  "language_info": {
   "codemirror_mode": {
    "name": "ipython",
    "version": 2
   },
   "file_extension": ".py",
   "mimetype": "text/x-python",
   "name": "python",
   "nbconvert_exporter": "python",
   "pygments_lexer": "ipython2",
   "version": "2.7.16"
  }
 },
 "nbformat": 4,
 "nbformat_minor": 2
}
