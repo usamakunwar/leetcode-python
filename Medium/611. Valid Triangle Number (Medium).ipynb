{
 "cells": [
  {
   "cell_type": "markdown",
   "metadata": {},
   "source": [
    "# 611. Valid Triangle Number (Medium)"
   ]
  },
  {
   "cell_type": "markdown",
   "metadata": {},
   "source": [
    "<div>Given an array consists of non-negative integers,  your task is to count the number of triplets chosen from the array that can make triangles if we take them as side lengths of a triangle.\n",
    "\n",
    "<p><b>Example 1:</b><br>\n",
    "</p><pre><b>Input:</b> [2,2,3,4]\n",
    "<b>Output:</b> 3\n",
    "<b>Explanation:</b>\n",
    "Valid combinations are: \n",
    "2,3,4 (using the first 2)\n",
    "2,3,4 (using the second 2)\n",
    "2,2,3\n",
    "</pre>\n",
    "<p></p>\n",
    "\n",
    "<p><b>Note:</b><br>\n",
    "</p><ol>\n",
    "<li>The length of the given array won't exceed 1000.</li>\n",
    "<li>The integers in the given array are in the range of [0, 1000].</li>\n",
    "</ol>\n",
    "<p></p>\n",
    "</div>"
   ]
  },
  {
   "cell_type": "markdown",
   "metadata": {},
   "source": [
    "## Option 1\n",
    "<p>\n",
    "<li>Sort the array\n",
    "<li>Make pairs of i and j. As the array is sorted we do not have to iterate for the 3rd value, just need a valid segment. \n",
    "<li>A valid segment is every value smaller than nums[i] + nums[j] and bigger than nums[j]\n",
    "<p>\n",
    "    <p>\n",
    "Note: Triangle inequality theorem\n",
    "<li>a + b > c\n",
    "<li>b + c > a\n",
    "<li>C + a > b\n",
    "    <p>\n",
    "        <p>\n",
    "Time complexity: O(n^2logn)\n",
    "<br>\n",
    "Space complexity: O(1)\n"
   ]
  },
  {
   "cell_type": "code",
   "execution_count": null,
   "metadata": {
    "scrolled": true
   },
   "outputs": [],
   "source": [
    "class Solution(object):\n",
    "    def triangleNumber(self, nums):\n",
    "        nums.sort()\n",
    "        ln,res = len(nums),0\n",
    "        def bs(l,r,t):\n",
    "            while l < r:\n",
    "                mid = (l+r)//2\n",
    "                if nums[mid] < t:\n",
    "                    l = mid + 1\n",
    "                else:\n",
    "                    r = mid\n",
    "            return l\n",
    "\n",
    "        for i in range(ln):\n",
    "            for j in range(i+1,ln):\n",
    "                search = bs(j+1,ln,nums[i]+nums[j])\n",
    "                #The search results in the index where values are smaller than (nums[i]+nums[j]) (exclusive)\n",
    "                #Every value within this segment can create a valid triangle\n",
    "                res += (search-j-1)\n",
    "        return res\n",
    "        \n",
    "        \n",
    "Solution().triangleNumber([2,2,3,4])"
   ]
  },
  {
   "cell_type": "markdown",
   "metadata": {},
   "source": [
    "#### Result: 1392ms 10.04%)"
   ]
  },
  {
   "cell_type": "markdown",
   "metadata": {},
   "source": [
    "## Option 2\n",
    "\n",
    "Time complexity: O(n^2)\n",
    "<br>\n",
    "Space complexity: O(1)\n"
   ]
  },
  {
   "cell_type": "code",
   "execution_count": null,
   "metadata": {},
   "outputs": [],
   "source": [
    "class Solution(object):\n",
    "    def triangleNumber(self, nums):\n",
    "        nums.sort()\n",
    "        ln,res = len(nums),0\n",
    "        for i in range(ln-2):\n",
    "            if nums[i] == 0 : continue\n",
    "            k = i+2\n",
    "            for j in range(i+1,ln-1):\n",
    "                while k < ln and nums[k] < (nums[i]+nums[j]):\n",
    "                    k += 1\n",
    "                res += k-j-1\n",
    "        return res\n",
    "\n",
    "Solution().triangleNumber([0,1,0,1])"
   ]
  },
  {
   "cell_type": "markdown",
   "metadata": {},
   "source": [
    "#### Result: 328ms (34.61%)"
   ]
  }
 ],
 "metadata": {
  "kernelspec": {
   "display_name": "Python 2",
   "language": "python",
   "name": "python2"
  },
  "language_info": {
   "codemirror_mode": {
    "name": "ipython",
    "version": 2
   },
   "file_extension": ".py",
   "mimetype": "text/x-python",
   "name": "python",
   "nbconvert_exporter": "python",
   "pygments_lexer": "ipython2",
   "version": "2.7.16"
  }
 },
 "nbformat": 4,
 "nbformat_minor": 2
}
