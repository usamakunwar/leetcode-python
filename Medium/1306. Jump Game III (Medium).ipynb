{
 "cells": [
  {
   "cell_type": "markdown",
   "metadata": {},
   "source": [
    "# 1306. Jump Game III (Medium)"
   ]
  },
  {
   "cell_type": "markdown",
   "metadata": {},
   "source": [
    "<div><p>Given an array of non-negative integers <code>arr</code>, you are initially positioned at <code>start</code>&nbsp;index of the array. When you are at index <code>i</code>, you can jump&nbsp;to <code>i + arr[i]</code> or <code>i - arr[i]</code>, check if you can reach to <strong>any</strong> index with value 0.</p>\n",
    "\n",
    "<p>Notice that you can not jump outside of the array at any time.</p>\n",
    "\n",
    "<p>&nbsp;</p>\n",
    "<p><strong>Example 1:</strong></p>\n",
    "\n",
    "<pre><strong>Input:</strong> arr = [4,2,3,0,3,1,2], start = 5\n",
    "<strong>Output:</strong> true\n",
    "<strong>Explanation:</strong> \n",
    "All possible ways to reach at index 3 with value 0 are: \n",
    "index 5 -&gt; index 4 -&gt; index 1 -&gt; index 3 \n",
    "index 5 -&gt; index 6 -&gt; index 4 -&gt; index 1 -&gt; index 3 \n",
    "</pre>\n",
    "\n",
    "<p><strong>Example 2:</strong></p>\n",
    "\n",
    "<pre><strong>Input:</strong> arr = [4,2,3,0,3,1,2], start = 0\n",
    "<strong>Output:</strong> true \n",
    "<strong>Explanation: \n",
    "</strong>One possible way to reach at index 3 with value 0 is: \n",
    "index 0 -&gt; index 4 -&gt; index 1 -&gt; index 3\n",
    "</pre>\n",
    "\n",
    "<p><strong>Example 3:</strong></p>\n",
    "\n",
    "<pre><strong>Input:</strong> arr = [3,0,2,1,2], start = 2\n",
    "<strong>Output:</strong> false\n",
    "<strong>Explanation: </strong>There is no way to reach at index 1 with value 0.\n",
    "</pre>\n",
    "\n",
    "<p>&nbsp;</p>\n",
    "<p><strong>Constraints:</strong></p>\n",
    "\n",
    "<ul>\n",
    "\t<li><code>1 &lt;= arr.length &lt;= 5 * 10^4</code></li>\n",
    "\t<li><code>0 &lt;= arr[i] &lt;&nbsp;arr.length</code></li>\n",
    "\t<li><code>0 &lt;= start &lt; arr.length</code></li>\n",
    "</ul></div>"
   ]
  },
  {
   "cell_type": "markdown",
   "metadata": {},
   "source": [
    "## Option 1\n",
    "\n",
    "<p>\n",
    "    DFS\n",
    "<p>\n",
    "\n",
    "Time complexity: O(n)\n",
    "<br>\n",
    "Space complexity: O(n) "
   ]
  },
  {
   "cell_type": "code",
   "execution_count": null,
   "metadata": {},
   "outputs": [],
   "source": [
    "class Solution(object):\n",
    "    def canReach(self, arr, start):        \n",
    "        def search(i):\n",
    "            if arr[i] == 0: return True\n",
    "            v, arr[i] = arr[i], '#'\n",
    "            for nxt in (i+v,i-v):\n",
    "                if nxt >= 0 and nxt < len(arr) and arr[nxt] != '#':\n",
    "                    if search(nxt): return True\n",
    "            return False\n",
    "        \n",
    "        return search(start)\n",
    "\n",
    "Solution().canReach([3,0,2,1,2], 2)\n",
    "        "
   ]
  },
  {
   "cell_type": "markdown",
   "metadata": {},
   "source": [
    "#### Result: 424ms (5.49%)\n"
   ]
  }
 ],
 "metadata": {
  "kernelspec": {
   "display_name": "Python 2",
   "language": "python",
   "name": "python2"
  },
  "language_info": {
   "codemirror_mode": {
    "name": "ipython",
    "version": 2
   },
   "file_extension": ".py",
   "mimetype": "text/x-python",
   "name": "python",
   "nbconvert_exporter": "python",
   "pygments_lexer": "ipython2",
   "version": "2.7.16"
  }
 },
 "nbformat": 4,
 "nbformat_minor": 2
}
