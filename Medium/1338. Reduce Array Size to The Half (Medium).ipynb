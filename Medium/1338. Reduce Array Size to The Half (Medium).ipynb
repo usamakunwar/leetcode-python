{
 "cells": [
  {
   "cell_type": "markdown",
   "metadata": {},
   "source": [
    "# 1338. Reduce Array Size to The Half (Medium)"
   ]
  },
  {
   "cell_type": "markdown",
   "metadata": {},
   "source": [
    "<div><p>Given an array <code>arr</code>.&nbsp; You can choose a set of integers and remove all the occurrences of these integers in the array.</p>\n",
    "\n",
    "<p>Return <em>the minimum size of the set</em> so that <strong>at least</strong> half of the integers of the array are removed.</p>\n",
    "\n",
    "<p>&nbsp;</p>\n",
    "<p><strong>Example 1:</strong></p>\n",
    "\n",
    "<pre><strong>Input:</strong> arr = [3,3,3,3,5,5,5,2,2,7]\n",
    "<strong>Output:</strong> 2\n",
    "<strong>Explanation:</strong> Choosing {3,7} will make the new array [5,5,5,2,2] which has size 5 (i.e equal to half of the size of the old array).\n",
    "Possible sets of size 2 are {3,5},{3,2},{5,2}.\n",
    "Choosing set {2,7} is not possible as it will make the new array [3,3,3,3,5,5,5] which has size greater than half of the size of the old array.\n",
    "</pre>\n",
    "\n",
    "<p><strong>Example 2:</strong></p>\n",
    "\n",
    "<pre><strong>Input:</strong> arr = [7,7,7,7,7,7]\n",
    "<strong>Output:</strong> 1\n",
    "<strong>Explanation:</strong> The only possible set you can choose is {7}. This will make the new array empty.\n",
    "</pre>\n",
    "\n",
    "<p><strong>Example 3:</strong></p>\n",
    "\n",
    "<pre><strong>Input:</strong> arr = [1,9]\n",
    "<strong>Output:</strong> 1\n",
    "</pre>\n",
    "\n",
    "<p><strong>Example 4:</strong></p>\n",
    "\n",
    "<pre><strong>Input:</strong> arr = [1000,1000,3,7]\n",
    "<strong>Output:</strong> 1\n",
    "</pre>\n",
    "\n",
    "<p><strong>Example 5:</strong></p>\n",
    "\n",
    "<pre><strong>Input:</strong> arr = [1,2,3,4,5,6,7,8,9,10]\n",
    "<strong>Output:</strong> 5\n",
    "</pre>\n",
    "\n",
    "<p>&nbsp;</p>\n",
    "<p><strong>Constraints:</strong></p>\n",
    "\n",
    "<ul>\n",
    "\t<li><code>1 &lt;= arr.length &lt;= 10^5</code></li>\n",
    "\t<li><code>arr.length</code> is even.</li>\n",
    "\t<li><code>1 &lt;= arr[i] &lt;= 10^5</code></li>\n",
    "</ul></div>"
   ]
  },
  {
   "cell_type": "markdown",
   "metadata": {},
   "source": [
    "## Option 1\n",
    "<p>\n",
    "Time complexity = O(nlogn) n = the number of unique elements\n",
    "<br>\n",
    "Space complexity = O(n)"
   ]
  },
  {
   "cell_type": "code",
   "execution_count": null,
   "metadata": {},
   "outputs": [],
   "source": [
    "import collections, heapq\n",
    "class Solution(object):\n",
    "    def minSetSize(self, arr):\n",
    "        h = map(lambda x:(-x[1],x[0]), collections.Counter(arr).items())\n",
    "        heapq.heapify(h)\n",
    "        needed, res = len(arr)/2, 0\n",
    "        while needed > 0:\n",
    "            needed -= -heapq.heappop(h)[0]\n",
    "            res += 1\n",
    "        return res\n",
    "    \n",
    "Solution().minSetSize([1,2,3,4,5,6,7,8,9,10])\n",
    "        "
   ]
  },
  {
   "cell_type": "markdown",
   "metadata": {},
   "source": [
    "#### Result: 980ms (19.33%)"
   ]
  }
 ],
 "metadata": {
  "kernelspec": {
   "display_name": "Python 2",
   "language": "python",
   "name": "python2"
  },
  "language_info": {
   "codemirror_mode": {
    "name": "ipython",
    "version": 2
   },
   "file_extension": ".py",
   "mimetype": "text/x-python",
   "name": "python",
   "nbconvert_exporter": "python",
   "pygments_lexer": "ipython2",
   "version": "2.7.16"
  }
 },
 "nbformat": 4,
 "nbformat_minor": 2
}
