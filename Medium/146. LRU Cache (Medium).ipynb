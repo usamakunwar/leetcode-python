{
 "cells": [
  {
   "cell_type": "markdown",
   "metadata": {},
   "source": [
    "# 146. LRU Cache (Medium)"
   ]
  },
  {
   "cell_type": "markdown",
   "metadata": {},
   "source": [
    "<div><p>Design and implement a data structure for <a href=\"https://en.wikipedia.org/wiki/Cache_replacement_policies#LRU\" target=\"_blank\">Least Recently Used (LRU) cache</a>. It should support the following operations: <code>get</code> and <code>put</code>.</p>\n",
    "\n",
    "<p><code>get(key)</code> - Get the value (will always be positive) of the key if the key exists in the cache, otherwise return -1.<br>\n",
    "<code>put(key, value)</code> - Set or insert the value if the key is not already present. When the cache reached its capacity, it should invalidate the least recently used item before inserting a new item.</p>\n",
    "\n",
    "<p>The cache is initialized with a <strong>positive</strong> capacity.</p>\n",
    "\n",
    "<p><b>Follow up:</b><br>\n",
    "Could you do both operations in <b>O(1)</b> time complexity?</p>\n",
    "\n",
    "<p><b>Example:</b></p>\n",
    "\n",
    "<pre>LRUCache cache = new LRUCache( 2 /* capacity */ );\n",
    "\n",
    "cache.put(1, 1);\n",
    "cache.put(2, 2);\n",
    "cache.get(1);       // returns 1\n",
    "cache.put(3, 3);    // evicts key 2\n",
    "cache.get(2);       // returns -1 (not found)\n",
    "cache.put(4, 4);    // evicts key 1\n",
    "cache.get(1);       // returns -1 (not found)\n",
    "cache.get(3);       // returns 3\n",
    "cache.get(4);       // returns 4\n",
    "</pre>\n",
    "\n",
    "<p>&nbsp;</p>\n",
    "</div>"
   ]
  },
  {
   "cell_type": "markdown",
   "metadata": {},
   "source": [
    "## Option 1\n",
    "<p>\n",
    "    Doubly Linked list + Hashmap\n",
    "    <p>\n",
    "        <li>Use sentinels for ease\n",
    "    \n",
    "<p>\n",
    "    <p>\n",
    "Time complexity: O(1)\n",
    "    <br>\n",
    "Space complexity: O(n) capacity"
   ]
  },
  {
   "cell_type": "code",
   "execution_count": null,
   "metadata": {},
   "outputs": [],
   "source": [
    "class ListNode(object):    \n",
    "    def __init__(self, key=0, val=0):\n",
    "        self.key = key\n",
    "        self.val = val\n",
    "        self.prev = None\n",
    "        self.next = None\n",
    "        \n",
    "class LRUCache(object):\n",
    "    \n",
    "    def __init__(self, capacity):\n",
    "        self.capacity = capacity\n",
    "        self.head = ListNode() #Sentinel - keep this at head always\n",
    "        self.tail = ListNode() #Sentinel - keep this at tail always\n",
    "        self.head.next, self.tail.prev = self.tail, self.head\n",
    "        self.map = {}\n",
    "        \n",
    "    def insert(self, node):        \n",
    "        #Insert elements at the tail,\n",
    "        self.tail.prev.next = node\n",
    "        node.prev = self.tail.prev \n",
    "\n",
    "        node.next = self.tail\n",
    "        self.tail.prev = node\n",
    "        \n",
    "    def remove(self, node):\n",
    "        #Remove element\n",
    "        node.prev.next = node.next\n",
    "        node.next.prev = node.prev         \n",
    "            \n",
    "    def get(self, key):\n",
    "        if key in self.map:\n",
    "            self.remove(self.map[key])\n",
    "            self.insert(self.map[key])\n",
    "            return self.map[key].val\n",
    "        else:\n",
    "            return -1\n",
    "\n",
    "    def put(self, key, value):\n",
    "        if key in self.map:\n",
    "            self.map[key].val = value\n",
    "            self.get(key) #Upgrade the position\n",
    "        else:\n",
    "            self.map[key] = ListNode(key,value)\n",
    "            self.insert(self.map[key])\n",
    "            #If capacity is over, remove the head element\n",
    "            if len(self.map) > self.capacity:\n",
    "                del self.map[self.head.next.key]\n",
    "                self.remove(self.head.next)\n",
    "                \n",
    "\n",
    "\n",
    "# Your LRUCache object will be instantiated and called as such:\n",
    "# obj = LRUCache(capacity)\n",
    "# param_1 = obj.get(key)\n",
    "# obj.put(key,value)"
   ]
  },
  {
   "cell_type": "markdown",
   "metadata": {},
   "source": [
    "#### Result: 216ms (89.56%)"
   ]
  }
 ],
 "metadata": {
  "kernelspec": {
   "display_name": "Python 2",
   "language": "python",
   "name": "python2"
  },
  "language_info": {
   "codemirror_mode": {
    "name": "ipython",
    "version": 2
   },
   "file_extension": ".py",
   "mimetype": "text/x-python",
   "name": "python",
   "nbconvert_exporter": "python",
   "pygments_lexer": "ipython2",
   "version": "2.7.16"
  }
 },
 "nbformat": 4,
 "nbformat_minor": 2
}
