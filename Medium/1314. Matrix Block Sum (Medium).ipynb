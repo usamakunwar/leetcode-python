{
 "cells": [
  {
   "cell_type": "markdown",
   "metadata": {},
   "source": [
    "# 1314. Matrix Block Sum (Medium)"
   ]
  },
  {
   "cell_type": "markdown",
   "metadata": {},
   "source": [
    "<div>Given a <code>m * n</code> matrix&nbsp;<code>mat</code>&nbsp;and an integer <code>K</code>, return a matrix <code>answer</code> where each <code>answer[i][j]</code>&nbsp;is the sum of all elements <code>mat[r][c]</code> for <code>i - K &lt;= r &lt;= i + K, j - K &lt;= c &lt;= j + K</code>, and <code>(r, c)</code> is a valid position in the matrix.\n",
    "<p>&nbsp;</p>\n",
    "<p><strong>Example 1:</strong></p>\n",
    "\n",
    "<pre><strong>Input:</strong> mat = [[1,2,3],[4,5,6],[7,8,9]], K = 1\n",
    "<strong>Output:</strong> [[12,21,16],[27,45,33],[24,39,28]]\n",
    "</pre>\n",
    "\n",
    "<p><strong>Example 2:</strong></p>\n",
    "\n",
    "<pre><strong>Input:</strong> mat = [[1,2,3],[4,5,6],[7,8,9]], K = 2\n",
    "<strong>Output:</strong> [[45,45,45],[45,45,45],[45,45,45]]\n",
    "</pre>\n",
    "\n",
    "<p>&nbsp;</p>\n",
    "<p><strong>Constraints:</strong></p>\n",
    "\n",
    "<ul>\n",
    "\t<li><code>m ==&nbsp;mat.length</code></li>\n",
    "\t<li><code>n ==&nbsp;mat[i].length</code></li>\n",
    "\t<li><code>1 &lt;= m, n, K &lt;= 100</code></li>\n",
    "\t<li><code>1 &lt;= mat[i][j] &lt;= 100</code></li>\n",
    "</ul></div>"
   ]
  },
  {
   "cell_type": "markdown",
   "metadata": {},
   "source": [
    "## Option 1\n",
    "<p>\n",
    "    <li>We will accumulate the sums of all boxes\n",
    "    <li>#a,b = The current sum of the box\n",
    "    <li>#c,d = The box sums we may have to reduce, relative to overflow\n",
    "    <li>#The mins and maxs are used with the sentinel added in dp\n",
    "    <li>dp[a][b] = Start with the box total\n",
    "    <li>dp[a][d] = reduce row overflow\n",
    "    <li>dp[c][b] = reduce column overflow\n",
    "    <li>dp[c][d] = add the extra reduced back (when row and column overflows together)\n",
    "    <li>We can use the above in conjunction as if we there is no row or column overflow, the sentinel will give us a 0\n",
    " <p>\n",
    "     <p>\n",
    "Time complexity: O(m*n)\n",
    "    <br>\n",
    "Space complexity: O(m*n)\n"
   ]
  },
  {
   "cell_type": "code",
   "execution_count": null,
   "metadata": {},
   "outputs": [],
   "source": [
    "import collections\n",
    "class Solution(object):\n",
    "    def matrixBlockSum(self, mat, K):\n",
    "        m,n = len(mat), len(mat[0])\n",
    "        \n",
    "        dp = [[0]*(n+1) for i in range(m+1)]\n",
    "        for i in range(m):\n",
    "            for j in range(n):\n",
    "                dp[i+1][j+1] += dp[i+1][j] + dp[i][j+1] - dp[i][j] + mat[i][j]\n",
    "        \n",
    "        for i in range(m):\n",
    "            for j in range(n):\n",
    "                a,b = min(m,i+K+1), min(n,j+K+1) \n",
    "                c,d = max(0,i-K), max(0,j-K)\n",
    "                mat[i][j] = dp[a][b] - dp[a][d] - dp[c][b] + dp[c][d]    \n",
    "        \n",
    "        return mat\n",
    "        \n",
    "Solution().matrixBlockSum([[1,2,3],\n",
    "                           [4,5,6],\n",
    "                           [7,8,9]], 1)\n",
    "\n",
    "        "
   ]
  },
  {
   "cell_type": "markdown",
   "metadata": {},
   "source": [
    "#### Result: 88ms (82.51%)"
   ]
  }
 ],
 "metadata": {
  "kernelspec": {
   "display_name": "Python 2",
   "language": "python",
   "name": "python2"
  },
  "language_info": {
   "codemirror_mode": {
    "name": "ipython",
    "version": 2
   },
   "file_extension": ".py",
   "mimetype": "text/x-python",
   "name": "python",
   "nbconvert_exporter": "python",
   "pygments_lexer": "ipython2",
   "version": "2.7.16"
  }
 },
 "nbformat": 4,
 "nbformat_minor": 2
}
