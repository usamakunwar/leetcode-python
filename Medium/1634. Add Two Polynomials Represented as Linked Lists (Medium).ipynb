{
 "cells": [
  {
   "cell_type": "markdown",
   "metadata": {},
   "source": [
    "# 1634. Add Two Polynomials Represented as Linked Lists (Medium)"
   ]
  },
  {
   "cell_type": "markdown",
   "metadata": {},
   "source": [
    "<div><p>A polynomial linked list is a special type of linked list where every node represents a term in a polynomial expression.</p>\n",
    "\n",
    "<p>Each node has three attributes:</p>\n",
    "\n",
    "<ul>\n",
    "\t<li><code>coefficient</code>: an integer representing the number multiplier of the term. The coefficient of the term <code><strong>9</strong>x<sup>4</sup></code> is <code>9</code>.</li>\n",
    "\t<li><code>power</code>: an integer representing the exponent. The power of the term <code>9x<strong><sup>4</sup></strong></code> is <code>4</code>.</li>\n",
    "\t<li><code>next</code>: a pointer to the next node in the list, or <code>null</code> if it is the last node of the list.</li>\n",
    "</ul>\n",
    "\n",
    "<p>For example, the polynomial <code>5x<sup>3</sup> + 4x - 7</code> is represented by the polynomial linked list illustrated below:</p>\n",
    "\n",
    "<p><img alt=\"\" src=\"https://assets.leetcode.com/uploads/2020/09/30/polynomial2.png\" style=\"width: 500px; height: 91px;\"></p>\n",
    "\n",
    "<p>The polynomial linked list must be in its standard form: the polynomial must be in <strong>strictly</strong> descending order by its <code>power</code> value. Also, terms with a <code>coefficient</code> of <code>0</code> are omitted.</p>\n",
    "\n",
    "<p>Given two polynomial linked list heads, <code>poly1</code> and <code>poly2</code>, add the polynomials together and return <em>the head of the sum of the polynomials</em>.</p>\n",
    "\n",
    "<p><strong><code>PolyNode</code> format:</strong></p>\n",
    "\n",
    "<p>The input/output format is as a list of <code>n</code> nodes, where each node is represented as its <code>[coefficient, power]</code>. For example, the polynomial <code>5x<sup>3</sup> + 4x - 7</code> would be represented as: <code>[[5,3],[4,1],[-7,0]]</code>.</p>\n",
    "\n",
    "<p>&nbsp;</p>\n",
    "<p><strong>Example 1:</strong></p>\n",
    "\n",
    "<p><img alt=\"\" src=\"https://assets.leetcode.com/uploads/2020/10/14/ex1.png\" style=\"width: 600px; height: 322px;\"></p>\n",
    "\n",
    "<pre><strong>Input:</strong> poly1 = [[1,1]], poly2 = [[1,0]]\n",
    "<strong>Output:</strong> [[1,1],[1,0]]\n",
    "<strong>Explanation:</strong> poly1 = x. poly2 = 1. The sum is x + 1.\n",
    "</pre>\n",
    "\n",
    "<p><strong>Example 2:</strong></p>\n",
    "\n",
    "<pre><strong>Input:</strong> poly1 = [[2,2],[4,1],[3,0]], poly2 = [[3,2],[-4,1],[-1,0]]\n",
    "<strong>Output:</strong> [[5,2],[2,0]]\n",
    "<strong>Explanation:</strong> poly1 = 2x<sup>2</sup> + 4x + 3. poly2 = 3x<sup>2</sup> - 4x - 1. The sum is 5x<sup>2</sup> + 2. Notice that we omit the \"0x\" term.\n",
    "</pre>\n",
    "\n",
    "<p><strong>Example 3:</strong></p>\n",
    "\n",
    "<pre><strong>Input:</strong> poly1 = [[1,2]], poly2 = [[-1,2]]\n",
    "<strong>Output:</strong> []\n",
    "<strong>Explanation:</strong> The sum is 0. We return an empty list.\n",
    "</pre>\n",
    "\n",
    "<p>&nbsp;</p>\n",
    "<p><strong>Constraints:</strong></p>\n",
    "\n",
    "<ul>\n",
    "\t<li><code>0 &lt;= n &lt;= 10<sup>4</sup></code></li>\n",
    "\t<li><code>-10<sup>9</sup>&nbsp;&lt;= PolyNode.coefficient &lt;= 10<sup>9</sup></code></li>\n",
    "\t<li><code>PolyNode.coefficient != 0</code></li>\n",
    "\t<li><code>0&nbsp;&lt;= PolyNode.power &lt;= 10<sup>9</sup></code></li>\n",
    "\t<li><code>PolyNode.power &gt; PolyNode.next.power</code></li>\n",
    "</ul></div>"
   ]
  },
  {
   "cell_type": "markdown",
   "metadata": {},
   "source": [
    "## Option 1\n",
    " <p>    <p>\n",
    "Merge Sort<p>\n",
    "            \n",
    "Time complexity: O(n)\n",
    "    <br>\n",
    "Space complexity: O(n)\n"
   ]
  },
  {
   "cell_type": "code",
   "execution_count": null,
   "metadata": {
    "scrolled": true
   },
   "outputs": [],
   "source": [
    "class Solution:\n",
    "    def addPoly(self, poly1, poly2):\n",
    "        \n",
    "        sentinel = PolyNode()\n",
    "        curr = sentinel\n",
    "                        \n",
    "        while poly1 and poly2:\n",
    "            if poly1.power > poly2.power:\n",
    "                curr.next = poly1\n",
    "                poly1 = poly1.next\n",
    "            elif poly1.power < poly2.power:\n",
    "                curr.next = poly2\n",
    "                poly2 = poly2.next                \n",
    "            else:\n",
    "                curr.next = poly1\n",
    "                curr.next.coefficient += poly2.coefficient\n",
    "                poly1, poly2 = poly1.next, poly2.next  \n",
    "            \n",
    "            if curr.next.coefficient == 0:\n",
    "                curr.next = None\n",
    "            else:\n",
    "                curr = curr.next            \n",
    "                \n",
    "        curr.next = poly1 if poly1 else poly2\n",
    "                \n",
    "        return sentinel.next\n",
    "        "
   ]
  },
  {
   "cell_type": "markdown",
   "metadata": {},
   "source": [
    "#### Result: 536ms (81.48%)"
   ]
  }
 ],
 "metadata": {
  "kernelspec": {
   "display_name": "Python 2",
   "language": "python",
   "name": "python2"
  },
  "language_info": {
   "codemirror_mode": {
    "name": "ipython",
    "version": 2
   },
   "file_extension": ".py",
   "mimetype": "text/x-python",
   "name": "python",
   "nbconvert_exporter": "python",
   "pygments_lexer": "ipython2",
   "version": "2.7.16"
  }
 },
 "nbformat": 4,
 "nbformat_minor": 2
}
