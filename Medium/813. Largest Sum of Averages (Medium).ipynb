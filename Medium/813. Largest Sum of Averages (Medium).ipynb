{
 "cells": [
  {
   "cell_type": "markdown",
   "metadata": {},
   "source": [
    "# 813. Largest Sum of Averages (Medium)"
   ]
  },
  {
   "cell_type": "markdown",
   "metadata": {},
   "source": [
    "<div><p>We partition a row of numbers <code>A</code>&nbsp;into at most <code>K</code> adjacent (non-empty) groups, then our score is the sum of the average of each group. What is the largest score we can achieve?</p>\n",
    "\n",
    "<p>Note that our partition must use every number in A, and that scores are not necessarily integers.</p>\n",
    "\n",
    "<pre><strong>Example:</strong>\n",
    "<strong>Input:</strong> \n",
    "A = [9,1,2,3,9]\n",
    "K = 3\n",
    "<strong>Output:</strong> 20\n",
    "<strong>Explanation:</strong> \n",
    "The best choice is to partition A into [9], [1, 2, 3], [9]. The answer is 9 + (1 + 2 + 3) / 3 + 9 = 20.\n",
    "We could have also partitioned A into [9, 1], [2], [3, 9], for example.\n",
    "That partition would lead to a score of 5 + 2 + 6 = 13, which is worse.\n",
    "</pre>\n",
    "\n",
    "<p>&nbsp;</p>\n",
    "\n",
    "<p><strong>Note: </strong></p>\n",
    "\n",
    "<ul>\n",
    "\t<li><code>1 &lt;= A.length &lt;= 100</code>.</li>\n",
    "\t<li><code>1 &lt;= A[i] &lt;= 10000</code>.</li>\n",
    "\t<li><code>1 &lt;= K &lt;= A.length</code>.</li>\n",
    "\t<li>Answers within <code>10^-6</code> of the correct answer will be accepted as correct.</li>\n",
    "</ul>\n",
    "</div>"
   ]
  },
  {
   "cell_type": "markdown",
   "metadata": {},
   "source": [
    "## Option 1\n",
    "<p>\n",
    "   Top down (DFS)\n",
    "    <p>\n",
    "        <li>Every level of the search partitions by 1\n",
    " <p>\n",
    "         <p>\n",
    "Time complexity: O(n^3)\n",
    "    <br>\n",
    "Space complexity: O(n^3)\n"
   ]
  },
  {
   "cell_type": "code",
   "execution_count": null,
   "metadata": {
    "scrolled": true
   },
   "outputs": [],
   "source": [
    "class Solution(object):\n",
    "    def largestSumOfAverages(self, A, K):\n",
    "        \n",
    "        self.seen = {}\n",
    "        def search(l,r,k):\n",
    "            if (l,r,k) in self.seen:\n",
    "                return self.seen[(l,r,k)]\n",
    "            \n",
    "            if k == 1: #If k == 1 (l,r) is our last partition\n",
    "                avg = sum(A[l:r+1])/(r-l+1)\n",
    "                self.seen[(l,r,k)] = avg\n",
    "                return avg\n",
    "            \n",
    "            avg = 1\n",
    "            curr = count = 0\n",
    "            for j in range(l,r-(k-1)+1): #Iterate until we have enough space for the next partition (k-1)\n",
    "                curr += A[j]\n",
    "                count += 1\n",
    "                avg = max(avg, (curr/count) + search(j+1,r,k-1))\n",
    "                \n",
    "            self.seen[(l,r,k)] = avg\n",
    "            return avg\n",
    "            \n",
    "        return search(0,len(A)-1,K)\n",
    "        \n",
    "Solution().largestSumOfAverages([9,1,2,3,9,1,2,3,5,3,2,4,3,2,13,4,5,6,7,8,1],1)\n",
    "        "
   ]
  },
  {
   "cell_type": "markdown",
   "metadata": {},
   "source": [
    "#### Result: 176ms (98.19%)"
   ]
  },
  {
   "cell_type": "markdown",
   "metadata": {},
   "source": [
    "## Option 2\n",
    "<p>\n",
    "   Bottom up (DP)\n",
    " <p>\n",
    "         <p>\n",
    "Time complexity: O(n^3)\n",
    "    <br>\n",
    "Space complexity: O(n^3)\n"
   ]
  },
  {
   "cell_type": "code",
   "execution_count": null,
   "metadata": {
    "scrolled": true
   },
   "outputs": [],
   "source": [
    "class Solution(object):\n",
    "    def largestSumOfAverages(self, A, K):\n",
    "        dp = [[float('inf')]*len(A) for i in range(len(A))]\n",
    "        \n",
    "        for i in range(len(A)):\n",
    "            dp[i][i] = A[i]\n",
    "        \n",
    "        for i in dp:\n",
    "            print(i)\n",
    "        \n",
    "        for k in range()\n",
    "            for i in range()\n",
    "                for j in range()\n",
    "        \n",
    "\n",
    "        \n",
    "Solution().largestSumOfAverages([9,1,2,3,9],1)\n",
    "        "
   ]
  }
 ],
 "metadata": {
  "kernelspec": {
   "display_name": "Python 2",
   "language": "python",
   "name": "python2"
  },
  "language_info": {
   "codemirror_mode": {
    "name": "ipython",
    "version": 2
   },
   "file_extension": ".py",
   "mimetype": "text/x-python",
   "name": "python",
   "nbconvert_exporter": "python",
   "pygments_lexer": "ipython2",
   "version": "2.7.16"
  }
 },
 "nbformat": 4,
 "nbformat_minor": 2
}
