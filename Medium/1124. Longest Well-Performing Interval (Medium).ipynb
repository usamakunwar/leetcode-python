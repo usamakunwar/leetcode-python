{
 "cells": [
  {
   "cell_type": "markdown",
   "metadata": {},
   "source": [
    "# 1124. Longest Well-Performing Interval (Medium)"
   ]
  },
  {
   "cell_type": "markdown",
   "metadata": {},
   "source": [
    "<div><p>We are given <code>hours</code>, a list of the number of hours&nbsp;worked per day for a given employee.</p>\n",
    "\n",
    "<p>A day is considered to be a <em>tiring day</em> if and only if the number of hours worked is (strictly) greater than <code>8</code>.</p>\n",
    "\n",
    "<p>A <em>well-performing interval</em> is an interval of days for which the number of tiring days is strictly larger than the number of non-tiring days.</p>\n",
    "\n",
    "<p>Return the length of the longest well-performing interval.</p>\n",
    "\n",
    "<p>&nbsp;</p>\n",
    "<p><strong>Example 1:</strong></p>\n",
    "\n",
    "<pre><strong>Input:</strong> hours = [9,9,6,0,6,6,9]\n",
    "<strong>Output:</strong> 3\n",
    "<strong>Explanation: </strong>The longest well-performing interval is [9,9,6].\n",
    "</pre>\n",
    "\n",
    "<p>&nbsp;</p>\n",
    "<p><strong>Constraints:</strong></p>\n",
    "\n",
    "<ul>\n",
    "\t<li><code>1 &lt;= hours.length &lt;= 10000</code></li>\n",
    "\t<li><code>0 &lt;= hours[i] &lt;= 16</code></li>\n",
    "</ul>\n",
    "</div>"
   ]
  },
  {
   "cell_type": "markdown",
   "metadata": {},
   "source": [
    "## Option 1\n",
    " <p>     <p>\n",
    "    <p>\n",
    "        <li>Like prefix sum, but with a balancer\n",
    "<p>\n",
    "        \n",
    "Time complexity: O(n)\n",
    "    <br>\n",
    "Space complexity: O(n)\n"
   ]
  },
  {
   "cell_type": "code",
   "execution_count": null,
   "metadata": {
    "scrolled": true
   },
   "outputs": [],
   "source": [
    "class Solution(object):\n",
    "    def longestWPI(self, hours):\n",
    "        m = {}\n",
    "        curr = res = 0\n",
    "        for i in range(len(hours)):\n",
    "            curr += 1 if hours[i] > 8 else -1\n",
    "            #When curr > 0 that means the entire array is valid \n",
    "            #(solves for when we have constant increasing balance) [1,2,3,4,5]\n",
    "            if curr > 0: res = i + 1 \n",
    "                \n",
    "            if curr-1 in m:\n",
    "                res = max(res, i-m[curr-1])\n",
    "            m.setdefault(curr,i)\n",
    "            \n",
    "        return res\n",
    "\n",
    "Solution().longestWPI([9,9,9,9,9,9,9])\n",
    "        "
   ]
  },
  {
   "cell_type": "markdown",
   "metadata": {},
   "source": [
    "#### Result: 200ms (50.00%)"
   ]
  }
 ],
 "metadata": {
  "kernelspec": {
   "display_name": "Python 2",
   "language": "python",
   "name": "python2"
  },
  "language_info": {
   "codemirror_mode": {
    "name": "ipython",
    "version": 2
   },
   "file_extension": ".py",
   "mimetype": "text/x-python",
   "name": "python",
   "nbconvert_exporter": "python",
   "pygments_lexer": "ipython2",
   "version": "2.7.16"
  }
 },
 "nbformat": 4,
 "nbformat_minor": 2
}
