{
 "cells": [
  {
   "cell_type": "markdown",
   "metadata": {},
   "source": [
    "# 1223. Dice Roll Simulation (Medium)"
   ]
  },
  {
   "cell_type": "markdown",
   "metadata": {},
   "source": [
    "<div><p>A die simulator generates a random number from 1 to 6 for each roll.&nbsp;You introduced a constraint to the generator such that it cannot roll the number <code>i</code> more than <code>rollMax[i]</code> (1-indexed) <strong>consecutive</strong> times.&nbsp;</p>\n",
    "\n",
    "<p>Given an array of integers&nbsp;<code>rollMax</code>&nbsp;and an integer&nbsp;<code>n</code>, return the number of distinct sequences that can be obtained with exact <code>n</code> rolls.</p>\n",
    "\n",
    "<p>Two sequences are considered different if at least one element differs from each other. Since the answer&nbsp;may be too large,&nbsp;return it modulo <code>10^9 + 7</code>.</p>\n",
    "\n",
    "<p>&nbsp;</p>\n",
    "<p><strong>Example 1:</strong></p>\n",
    "\n",
    "<pre><strong>Input:</strong> n = 2, rollMax = [1,1,2,2,2,3]\n",
    "<strong>Output:</strong> 34\n",
    "<strong>Explanation:</strong> There will be 2 rolls of die, if there are no constraints on the die, there are 6 * 6 = 36 possible combinations. In this case, looking at rollMax array, the numbers 1 and 2 appear at most once consecutively, therefore sequences (1,1) and (2,2) cannot occur, so the final answer is 36-2 = 34.\n",
    "</pre>\n",
    "\n",
    "<p><strong>Example 2:</strong></p>\n",
    "\n",
    "<pre><strong>Input:</strong> n = 2, rollMax = [1,1,1,1,1,1]\n",
    "<strong>Output:</strong> 30\n",
    "</pre>\n",
    "\n",
    "<p><strong>Example 3:</strong></p>\n",
    "\n",
    "<pre><strong>Input:</strong> n = 3, rollMax = [1,1,1,2,2,3]\n",
    "<strong>Output:</strong> 181\n",
    "</pre>\n",
    "\n",
    "<p>&nbsp;</p>\n",
    "<p><strong>Constraints:</strong></p>\n",
    "\n",
    "<ul>\n",
    "\t<li><code>1 &lt;= n &lt;= 5000</code></li>\n",
    "\t<li><code>rollMax.length == 6</code></li>\n",
    "\t<li><code>1 &lt;= rollMax[i] &lt;= 15</code></li>\n",
    "</ul>\n",
    "</div>"
   ]
  },
  {
   "cell_type": "markdown",
   "metadata": {},
   "source": [
    "## Option 1\n",
    " <p>    \n",
    "   DP Top down\n",
    "    <p>\n",
    "<p>\n",
    "<p>\n",
    "        \n"
   ]
  },
  {
   "cell_type": "code",
   "execution_count": null,
   "metadata": {},
   "outputs": [],
   "source": [
    "class Solution(object):\n",
    "    def dieSimulator(self, n, rollMax):\n",
    "        self.seen = {}\n",
    "        def search(i,curr,count):\n",
    "            if i == 0: return 1\n",
    "            if (i,curr,count) in self.seen: return self.seen[(i,curr,count)]\n",
    "            res = 0\n",
    "            for j in range(6):\n",
    "                if j == curr:\n",
    "                    if count+1 > rollMax[j]: continue\n",
    "                    res += search(i-1,curr, count+1)\n",
    "                else:\n",
    "                    res += search(i-1,j,1)\n",
    "                \n",
    "            self.seen[(i,curr,count)] = res\n",
    "            return res\n",
    "        \n",
    "        return search(n,0,0)%(10**9+7)\n",
    "        \n",
    "\n",
    "        \n",
    "Solution().dieSimulator(3, [1,1,1,2,2,3])\n",
    "        "
   ]
  },
  {
   "cell_type": "markdown",
   "metadata": {},
   "source": [
    "#### Result:  6700ms (6.56%)"
   ]
  },
  {
   "cell_type": "markdown",
   "metadata": {},
   "source": [
    "## Option 2\n",
    " <p>    \n",
    "DP Bottom Up \n",
    "    <p>\n",
    "\n",
    "<p>\n",
    "            \n",
    "        \n"
   ]
  },
  {
   "cell_type": "code",
   "execution_count": null,
   "metadata": {},
   "outputs": [],
   "source": []
  },
  {
   "cell_type": "markdown",
   "metadata": {},
   "source": [
    "#### Result:  1332ms (47.95%)"
   ]
  }
 ],
 "metadata": {
  "kernelspec": {
   "display_name": "Python 2",
   "language": "python",
   "name": "python2"
  },
  "language_info": {
   "codemirror_mode": {
    "name": "ipython",
    "version": 2
   },
   "file_extension": ".py",
   "mimetype": "text/x-python",
   "name": "python",
   "nbconvert_exporter": "python",
   "pygments_lexer": "ipython2",
   "version": "2.7.16"
  }
 },
 "nbformat": 4,
 "nbformat_minor": 2
}
