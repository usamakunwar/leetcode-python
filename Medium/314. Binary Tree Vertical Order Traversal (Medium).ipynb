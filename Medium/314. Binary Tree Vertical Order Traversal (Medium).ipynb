{
 "cells": [
  {
   "cell_type": "markdown",
   "metadata": {},
   "source": [
    "# 314. Binary Tree Vertical Order Traversal (Medium)"
   ]
  },
  {
   "cell_type": "markdown",
   "metadata": {},
   "source": [
    "<div><p>Given a binary tree, return the <i>vertical order</i> traversal of its nodes' values. (ie, from top to bottom, column by column).</p>\n",
    "\n",
    "<p>If two nodes are in the same row and column, the order should be from <b>left to right</b>.</p>\n",
    "\n",
    "<p><b>Examples 1:</b></p>\n",
    "\n",
    "<pre><strong>Input:</strong> <code>[3,9,20,null,null,15,7]\n",
    "</code>\n",
    "   3\n",
    "  /\\\n",
    " /  \\\n",
    " 9  20\n",
    "    /\\\n",
    "   /  \\\n",
    "  15   7 \n",
    "\n",
    "<strong>Output:</strong>\n",
    "\n",
    "[\n",
    "  [9],\n",
    "  [3,15],\n",
    "  [20],\n",
    "  [7]\n",
    "]\n",
    "</pre>\n",
    "\n",
    "<p><b>Examples 2:</b></p>\n",
    "\n",
    "<pre><strong>Input: </strong><code>[3,9,8,4,0,1,7]\n",
    "\n",
    "</code>     3\n",
    "    /\\\n",
    "   /  \\\n",
    "   9   8\n",
    "  /\\  /\\\n",
    " /  \\/  \\\n",
    " 4  01   7 \n",
    "\n",
    "<strong>Output:</strong>\n",
    "\n",
    "[\n",
    "  [4],\n",
    "  [9],\n",
    "  [3,0,1],\n",
    "  [8],\n",
    "  [7]\n",
    "]\n",
    "</pre>\n",
    "\n",
    "<p><b>Examples 3:</b></p>\n",
    "\n",
    "<pre><strong>Input:</strong> <code>[3,9,8,4,0,1,7,null,null,null,2,5]</code> (0's right child is 2 and 1's left child is 5)\n",
    "\n",
    "     3\n",
    "    /\\\n",
    "   /  \\\n",
    "   9   8\n",
    "  /\\  /\\\n",
    " /  \\/  \\\n",
    " 4  01   7\n",
    "    /\\\n",
    "   /  \\\n",
    "   5   2\n",
    "\n",
    "<strong>Output:</strong>\n",
    "\n",
    "[\n",
    "  [4],\n",
    "  [9,5],\n",
    "  [3,0,1],\n",
    "  [8,2],\n",
    "  [7]\n",
    "]\n",
    "</pre></div>"
   ]
  },
  {
   "cell_type": "markdown",
   "metadata": {},
   "source": [
    "## Option 1\n",
    " <p>    \n",
    "<p>\n",
    "    BFS with sorting columns\n",
    "    <p>    \n",
    "   \n",
    "<p>\n",
    "        \n"
   ]
  },
  {
   "cell_type": "code",
   "execution_count": 29,
   "metadata": {},
   "outputs": [],
   "source": [
    "class Solution(object):\n",
    "    def verticalOrder(self, root):\n",
    "        \n",
    "        if not root: return []\n",
    "        q = [(root,0)]\n",
    "        res = collections.defaultdict(list)\n",
    "        while q:\n",
    "            new_q = []\n",
    "            for node,d in q:\n",
    "                res[d].append(node.val)    \n",
    "                if node.left: new_q.append((node.left,d-1))\n",
    "                if node.right: new_q.append((node.right,d+1))\n",
    "            q = new_q\n",
    "            \n",
    "        return map(lambda x:x[1], sorted(res.items())) \n",
    "                \n",
    "        "
   ]
  },
  {
   "cell_type": "markdown",
   "metadata": {},
   "source": [
    "#### Result:  32ms (16.99%)"
   ]
  }
 ],
 "metadata": {
  "kernelspec": {
   "display_name": "Python 2",
   "language": "python",
   "name": "python2"
  },
  "language_info": {
   "codemirror_mode": {
    "name": "ipython",
    "version": 2
   },
   "file_extension": ".py",
   "mimetype": "text/x-python",
   "name": "python",
   "nbconvert_exporter": "python",
   "pygments_lexer": "ipython2",
   "version": "2.7.16"
  }
 },
 "nbformat": 4,
 "nbformat_minor": 2
}
