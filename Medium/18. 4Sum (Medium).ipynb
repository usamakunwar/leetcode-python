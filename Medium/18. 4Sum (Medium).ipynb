{
 "cells": [
  {
   "cell_type": "markdown",
   "metadata": {},
   "source": [
    "# 18. 4Sum (Medium)"
   ]
  },
  {
   "cell_type": "markdown",
   "metadata": {},
   "source": [
    "<div><p>Given an array <code>nums</code> of <em>n</em> integers and an integer <code>target</code>, are there elements <em>a</em>, <em>b</em>, <em>c</em>, and <em>d</em> in <code>nums</code> such that <em>a</em> + <em>b</em> + <em>c</em> + <em>d</em> = <code>target</code>? Find all unique quadruplets in the array which gives the sum of <code>target</code>.</p>\n",
    "\n",
    "<p><strong>Note:</strong></p>\n",
    "\n",
    "<p>The solution set must not contain duplicate quadruplets.</p>\n",
    "\n",
    "<p><strong>Example:</strong></p>\n",
    "\n",
    "<pre>Given array nums = [1, 0, -1, 0, -2, 2], and target = 0.\n",
    "\n",
    "A solution set is:\n",
    "[\n",
    "  [-1,  0, 0, 1],\n",
    "  [-2, -1, 1, 2],\n",
    "  [-2,  0, 0, 2]\n",
    "]\n",
    "</pre>\n",
    "</div>"
   ]
  },
  {
   "cell_type": "markdown",
   "metadata": {},
   "source": [
    "## Option 1\n",
    "\n",
    "Two pointers\n",
    "<li>i j l r are what makes the quadruplets\n",
    "<li>Our main challenge is to avoid duplicate quadruplets\n",
    "<li>First, sort the array, if we do things in order, we can fix the duplicate problem\n",
    "<li>For instance if we have -3,-3 in nums, we know on the first -3 we will have already tried to make \n",
    "<li>every single quadruplet possible starting with -3 (as its a sorted array) That means we do not need\n",
    "<li>to do the second -3. This analogy can be passed in every level (i,j,l,r)\n",
    "<p>\n",
    "    <p>\n",
    "Time complexity = O(n^3)\n",
    "<br>\n",
    "Space complexity = O(n)"
   ]
  },
  {
   "cell_type": "code",
   "execution_count": null,
   "metadata": {},
   "outputs": [],
   "source": [
    "import collections\n",
    "class Solution(object):\n",
    "    def fourSum(self, nums, target):\n",
    "        nums.sort()\n",
    "        ln, res = len(nums), []\n",
    "        for i in range(ln-3):\n",
    "            #1st Duplicate check\n",
    "            if i > 0 and nums[i] == nums[i-1]: continue\n",
    "            for j in range(i+1,ln-2):\n",
    "                #2nd Duplicate check\n",
    "                if j > (i+1) and nums[j] == nums[j-1]: continue\n",
    "                l,r = j+1,ln-1\n",
    "                while l < r:\n",
    "                    quad = [nums[i],nums[j],nums[l],nums[r]]\n",
    "                    t = sum(quad)\n",
    "                    if t < target:\n",
    "                        l += 1\n",
    "                    elif t > target:\n",
    "                        r -= 1\n",
    "                    else:\n",
    "                        res.append(quad)\n",
    "                        #3rd Duplicate check\n",
    "                        while l < r and nums[l] == nums[l+1]: l += 1\n",
    "                        #4th Duplicate check\n",
    "                        while l < r and nums[r] == nums[r-l]: r -= 1\n",
    "                        l += 1\n",
    "                        r -=1\n",
    "        return res\n",
    "Solution().fourSum([-3,-2,-1,0,0,1,2,3], 0)"
   ]
  },
  {
   "cell_type": "markdown",
   "metadata": {},
   "source": [
    "#### Result: 1548ms (5.03%)"
   ]
  }
 ],
 "metadata": {
  "kernelspec": {
   "display_name": "Python 2",
   "language": "python",
   "name": "python2"
  },
  "language_info": {
   "codemirror_mode": {
    "name": "ipython",
    "version": 2
   },
   "file_extension": ".py",
   "mimetype": "text/x-python",
   "name": "python",
   "nbconvert_exporter": "python",
   "pygments_lexer": "ipython2",
   "version": "2.7.16"
  }
 },
 "nbformat": 4,
 "nbformat_minor": 2
}
