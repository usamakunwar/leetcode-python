{
 "cells": [
  {
   "cell_type": "markdown",
   "metadata": {},
   "source": [
    "# 1558. Minimum Numbers of Function Calls to Make Target Array (Medium)"
   ]
  },
  {
   "cell_type": "markdown",
   "metadata": {},
   "source": [
    "<div><p><img alt=\"\" src=\"https://assets.leetcode.com/uploads/2020/07/10/sample_2_1887.png\" style=\"width: 573px; height: 294px;\"></p>\n",
    "\n",
    "<p>Your task is to form&nbsp;an integer array <code>nums</code> from an initial array of zeros&nbsp;<code>arr</code> that is the&nbsp;same size&nbsp;as <code>nums</code>.</p>\n",
    "\n",
    "<p>Return the minimum number of&nbsp;function calls to make <code>nums</code> from <code>arr</code>.</p>\n",
    "\n",
    "<p>The answer is guaranteed to fit in a 32-bit signed integer.</p>\n",
    "\n",
    "<p>&nbsp;</p>\n",
    "<p><strong>Example 1:</strong></p>\n",
    "\n",
    "<pre><strong>Input:</strong> nums = [1,5]\n",
    "<strong>Output:</strong> 5\n",
    "<strong>Explanation:</strong> Increment by 1 (second element): [0, 0] to get [0, 1] (1 operation).\n",
    "Double all the elements: [0, 1] -&gt; [0, 2] -&gt; [0, 4] (2 operations).\n",
    "Increment by 1 (both elements)  [0, 4] -&gt; [1, 4] -&gt; <strong>[1, 5]</strong> (2 operations).\n",
    "Total of operations: 1 + 2 + 2 = 5.\n",
    "</pre>\n",
    "\n",
    "<p><strong>Example 2:</strong></p>\n",
    "\n",
    "<pre><strong>Input:</strong> nums = [2,2]\n",
    "<strong>Output:</strong> 3\n",
    "<strong>Explanation:</strong> Increment by 1 (both elements) [0, 0] -&gt; [0, 1] -&gt; [1, 1] (2 operations).\n",
    "Double all the elements: [1, 1] -&gt; <strong>[2, 2]</strong> (1 operation).\n",
    "Total of operations: 2 + 1 = 3.\n",
    "</pre>\n",
    "\n",
    "<p><strong>Example 3:</strong></p>\n",
    "\n",
    "<pre><strong>Input:</strong> nums = [4,2,5]\n",
    "<strong>Output:</strong> 6\n",
    "<strong>Explanation:</strong> (initial)[0,0,0] -&gt; [1,0,0] -&gt; [1,0,1] -&gt; [2,0,2] -&gt; [2,1,2] -&gt; [4,2,4] -&gt; <strong>[4,2,5]</strong>(nums).\n",
    "</pre>\n",
    "\n",
    "<p><strong>Example 4:</strong></p>\n",
    "\n",
    "<pre><strong>Input:</strong> nums = [3,2,2,4]\n",
    "<strong>Output:</strong> 7\n",
    "</pre>\n",
    "\n",
    "<p><strong>Example 5:</strong></p>\n",
    "\n",
    "<pre><strong>Input:</strong> nums = [2,4,8,16]\n",
    "<strong>Output:</strong> 8\n",
    "</pre>\n",
    "\n",
    "<p>&nbsp;</p>\n",
    "<p><strong>Constraints:</strong></p>\n",
    "\n",
    "<ul>\n",
    "\t<li><code>1 &lt;= nums.length &lt;= 10^5</code></li>\n",
    "\t<li><code>0 &lt;= nums[i] &lt;= 10^9</code></li>\n",
    "</ul>\n",
    "</div>"
   ]
  },
  {
   "cell_type": "markdown",
   "metadata": {},
   "source": [
    "## Option 1\n",
    " <p>    <p>\n",
    "    Go from nums state to all zeros\n",
    "<p>\n",
    "            \n",
    "Time complexity: O(nlogm) n = len(nums), m = max(nums)\n",
    "    <br>\n",
    "Space complexity: O(1)\n"
   ]
  },
  {
   "cell_type": "code",
   "execution_count": null,
   "metadata": {
    "scrolled": true
   },
   "outputs": [],
   "source": [
    "class Solution(object):\n",
    "    def minOperations(self, nums):\n",
    "        res = 0        \n",
    "        total = sum(nums)\n",
    "        while total > 0:\n",
    "            op1 = False #op1 will be true if there are any elements in current nums that need to be halved\n",
    "            for i in range(len(nums)):\n",
    "                op0 = nums[i]%2 #Odd numbers will need an extra single op0\n",
    "                res += op0\n",
    "                nums[i] /= 2\n",
    "                op1 = op1 or nums[i] > 0\n",
    "                total -= nums[i] + op0\n",
    "            res += op1\n",
    "            print(nums, total, res)\n",
    "        \n",
    "        return res\n",
    "        \n",
    "                \n",
    "Solution().minOperations([2,4,8,16])\n"
   ]
  },
  {
   "cell_type": "markdown",
   "metadata": {},
   "source": [
    "#### Result: 1236ms (33.33%)"
   ]
  }
 ],
 "metadata": {
  "kernelspec": {
   "display_name": "Python 2",
   "language": "python",
   "name": "python2"
  },
  "language_info": {
   "codemirror_mode": {
    "name": "ipython",
    "version": 2
   },
   "file_extension": ".py",
   "mimetype": "text/x-python",
   "name": "python",
   "nbconvert_exporter": "python",
   "pygments_lexer": "ipython2",
   "version": "2.7.16"
  }
 },
 "nbformat": 4,
 "nbformat_minor": 2
}
