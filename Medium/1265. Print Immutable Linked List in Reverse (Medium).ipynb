{
 "cells": [
  {
   "cell_type": "markdown",
   "metadata": {},
   "source": [
    "# 1265. Print Immutable Linked List in Reverse (Medium)"
   ]
  },
  {
   "cell_type": "markdown",
   "metadata": {},
   "source": [
    "<div><p>You are given an immutable linked list, print out all values of each node in reverse with the help of the following&nbsp;interface:</p>\n",
    "\n",
    "<ul>\n",
    "\t<li><code>ImmutableListNode</code>:&nbsp;An interface of immutable linked list, you are given the head of the list.</li>\n",
    "</ul>\n",
    "\n",
    "<p>You need to use the following functions to access the linked list (you <strong>can't</strong> access the <code>ImmutableListNode</code> directly):</p>\n",
    "\n",
    "<ul>\n",
    "\t<li><code>ImmutableListNode.printValue()</code>: Print value of the current node.</li>\n",
    "\t<li><code>ImmutableListNode.getNext()</code>: Return the next node.</li>\n",
    "</ul>\n",
    "\n",
    "<p>The input is only given to initialize the linked list internally.&nbsp;You must solve this problem without modifying the linked list. In other words, you must operate&nbsp;the linked list using only the mentioned&nbsp;APIs.</p>\n",
    "\n",
    "<p>&nbsp;</p>\n",
    "\n",
    "<p><strong>Follow up:</strong></p>\n",
    "\n",
    "<p>Could you solve this problem in:</p>\n",
    "\n",
    "<ul>\n",
    "\t<li>Constant space complexity?</li>\n",
    "\t<li>Linear time complexity and less than linear space complexity?</li>\n",
    "</ul>\n",
    "\n",
    "<p>&nbsp;</p>\n",
    "<p><strong>Example 1:</strong></p>\n",
    "\n",
    "<pre><strong>Input:</strong> head = [1,2,3,4]\n",
    "<strong>Output:</strong> [4,3,2,1]\n",
    "</pre>\n",
    "\n",
    "<p><strong>Example 2:</strong></p>\n",
    "\n",
    "<pre><strong>Input:</strong> head = [0,-4,-1,3,-5]\n",
    "<strong>Output:</strong> [-5,3,-1,-4,0]\n",
    "</pre>\n",
    "\n",
    "<p><strong>Example 3:</strong></p>\n",
    "\n",
    "<pre><strong>Input:</strong> head = [-2,0,6,4,4,-6]\n",
    "<strong>Output:</strong> [-6,4,4,6,0,-2]\n",
    "</pre>\n",
    "\n",
    "<ul>\n",
    "</ul>\n",
    "\n",
    "<p>&nbsp;</p>\n",
    "<p><strong>Constraints:</strong></p>\n",
    "\n",
    "<ul>\n",
    "\t<li>The length of the linked list&nbsp;is between <code>[1, 1000]</code>.</li>\n",
    "\t<li>The value of each&nbsp;node in the linked list&nbsp;is between <code>[-1000, 1000]</code>.</li>\n",
    "</ul>\n",
    "</div>"
   ]
  },
  {
   "cell_type": "markdown",
   "metadata": {},
   "source": [
    "## Option 1\n",
    "           \n",
    "Time complexity: O(n)\n",
    "    <br>\n",
    "Space complexity: O(n)\n"
   ]
  },
  {
   "cell_type": "code",
   "execution_count": null,
   "metadata": {},
   "outputs": [],
   "source": [
    "#   \"\"\"\n",
    "#   This is the ImmutableListNode's API interface.\n",
    "#   You should not implement it, or speculate about its implementation.\n",
    "#   \"\"\"\n",
    "#   class ImmutableListNode(object):\n",
    "#      def printValue(self): # print the value of this node.\n",
    "# .        \"\"\"\n",
    "#          :rtype None\n",
    "#          \"\"\"\n",
    "#\n",
    "#      def getNext(self): # return the next node.\n",
    "# .        \"\"\"\n",
    "#          :rtype ImmutableListNode\n",
    "#          \"\"\"\n",
    "\n",
    "class Solution(object):\n",
    "    def printLinkedListInReverse(self, head):\n",
    "        \"\"\"\n",
    "        :type head: ImmutableListNode\n",
    "        :rtype: None\n",
    "        \"\"\"\n",
    "        def search(node):\n",
    "            if node: \n",
    "                search(node.getNext())\n",
    "                node.printValue()\n",
    "            \n",
    "        search(head)"
   ]
  },
  {
   "cell_type": "markdown",
   "metadata": {},
   "source": [
    "#### Result: 20ms (94.06%)"
   ]
  }
 ],
 "metadata": {
  "kernelspec": {
   "display_name": "Python 2",
   "language": "python",
   "name": "python2"
  },
  "language_info": {
   "codemirror_mode": {
    "name": "ipython",
    "version": 2
   },
   "file_extension": ".py",
   "mimetype": "text/x-python",
   "name": "python",
   "nbconvert_exporter": "python",
   "pygments_lexer": "ipython2",
   "version": "2.7.16"
  }
 },
 "nbformat": 4,
 "nbformat_minor": 2
}
