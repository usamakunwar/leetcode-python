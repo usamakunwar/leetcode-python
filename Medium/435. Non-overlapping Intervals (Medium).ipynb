{
 "cells": [
  {
   "cell_type": "markdown",
   "metadata": {},
   "source": [
    "# 435. Non-overlapping Intervals (Medium)\n"
   ]
  },
  {
   "cell_type": "markdown",
   "metadata": {},
   "source": [
    "<div><p>Given a collection of intervals, find the minimum number of intervals you need to remove to make the rest of the intervals non-overlapping.</p>\n",
    "\n",
    "<ol>\n",
    "</ol>\n",
    "\n",
    "<p>&nbsp;</p>\n",
    "\n",
    "<p><b>Example 1:</b></p>\n",
    "\n",
    "<pre><b>Input:</b> [[1,2],[2,3],[3,4],[1,3]]\n",
    "<b>Output:</b> 1\n",
    "<b>Explanation:</b> [1,3] can be removed and the rest of intervals are non-overlapping.\n",
    "</pre>\n",
    "\n",
    "<p><b>Example 2:</b></p>\n",
    "\n",
    "<pre><b>Input:</b> [[1,2],[1,2],[1,2]]\n",
    "<b>Output:</b> 2\n",
    "<b>Explanation:</b> You need to remove two [1,2] to make the rest of intervals non-overlapping.\n",
    "</pre>\n",
    "\n",
    "<p><b>Example 3:</b></p>\n",
    "\n",
    "<pre><b>Input:</b> [[1,2],[2,3]]\n",
    "<b>Output:</b> 0\n",
    "<b>Explanation:</b> You don't need to remove any of the intervals since they're already non-overlapping.\n",
    "</pre>\n",
    "\n",
    "<p>&nbsp;</p>\n",
    "\n",
    "<p><b>Note:</b></p>\n",
    "\n",
    "<ol>\n",
    "\t<li>You may assume the interval's end point is always bigger than its start point.</li>\n",
    "\t<li>Intervals like [1,2] and [2,3] have borders \"touching\" but they don't overlap each other.</li>\n",
    "</ol>\n",
    "</div>"
   ]
  },
  {
   "cell_type": "markdown",
   "metadata": {},
   "source": [
    "## Option 1\n",
    " <p>     <p>\n",
    "    Greedy\n",
    "    <p>\n",
    "        <li>If two intervals intersect, the trick is to keep the minimum tail, that way the next interval is more likely to be valid\n",
    "<p>\n",
    "        \n",
    "Time complexity: O(nlogn)\n",
    "    <br>\n",
    "Space complexity: O(1)\n"
   ]
  },
  {
   "cell_type": "code",
   "execution_count": null,
   "metadata": {
    "scrolled": true
   },
   "outputs": [],
   "source": [
    "class Solution(object):\n",
    "    def eraseOverlapIntervals(self, intervals):\n",
    "        intervals.sort()\n",
    "        res = 0\n",
    "        prev = float('-inf')\n",
    "        for a,b in intervals:\n",
    "            if a < prev:\n",
    "                res += 1\n",
    "                prev = min(prev, b)\n",
    "            else:\n",
    "                prev = b\n",
    "        return res\n",
    "        \n",
    "Solution().eraseOverlapIntervals([[1,2],[1,3],[1,4]])\n",
    "        "
   ]
  },
  {
   "cell_type": "markdown",
   "metadata": {},
   "source": [
    "#### Result: 52ms (89.52%)"
   ]
  },
  {
   "cell_type": "markdown",
   "metadata": {},
   "source": [
    "## Option 1\n",
    " <p>     <p>\n",
    "    Greedy\n",
    "    <p>\n",
    "        <li>Or just sort by end time, that way we will definitely keep an interval as long as it doesn't overlap\n",
    "<p>\n",
    "        \n",
    "Time complexity: O(nlogn)\n",
    "    <br>\n",
    "Space complexity: O(1)\n"
   ]
  },
  {
   "cell_type": "code",
   "execution_count": null,
   "metadata": {},
   "outputs": [],
   "source": [
    "class Solution(object):\n",
    "    def eraseOverlapIntervals(self, intervals):\n",
    "        intervals.sort(key=lambda x:x[1])\n",
    "        res = 0\n",
    "        end = float('-inf')\n",
    "        for a,b in intervals:\n",
    "            if a < end:\n",
    "                res += 1\n",
    "            else:\n",
    "                end = b\n",
    "        return res\n",
    "        \n",
    "Solution().eraseOverlapIntervals([[1,2],[1,3],[1,4]])\n",
    "        "
   ]
  },
  {
   "cell_type": "markdown",
   "metadata": {},
   "source": [
    "#### Result: 56ms (71.36%)"
   ]
  }
 ],
 "metadata": {
  "kernelspec": {
   "display_name": "Python 2",
   "language": "python",
   "name": "python2"
  },
  "language_info": {
   "codemirror_mode": {
    "name": "ipython",
    "version": 2
   },
   "file_extension": ".py",
   "mimetype": "text/x-python",
   "name": "python",
   "nbconvert_exporter": "python",
   "pygments_lexer": "ipython2",
   "version": "2.7.16"
  }
 },
 "nbformat": 4,
 "nbformat_minor": 2
}
