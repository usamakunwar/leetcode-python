{
 "cells": [
  {
   "cell_type": "markdown",
   "metadata": {},
   "source": [
    "# 1379. Find a Corresponding Node of a Binary Tree in a Clone of That Tree (Medium)\n"
   ]
  },
  {
   "cell_type": "markdown",
   "metadata": {},
   "source": [
    "<div><p>Given two binary trees <code>original</code> and <code>cloned</code> and given a reference to a node <code>target</code> in the original tree.</p>\n",
    "\n",
    "<p>The <code>cloned</code> tree is a <strong>copy of</strong> the <code>original</code> tree.</p>\n",
    "\n",
    "<p>Return <em>a reference to the same node</em> in the <code>cloned</code> tree.</p>\n",
    "\n",
    "<p><strong>Note</strong> that you are <strong>not allowed</strong> to change any of the two trees or the <code>target</code> node and the answer <strong>must be</strong> a reference to a node in the <code>cloned</code> tree.</p>\n",
    "\n",
    "<p><strong>Follow up:</strong>&nbsp;Solve the problem if repeated values on the tree are allowed.</p>\n",
    "\n",
    "<p>&nbsp;</p>\n",
    "<p><strong>Example 1:</strong></p>\n",
    "<img alt=\"\" src=\"https://assets.leetcode.com/uploads/2020/02/21/e1.png\" style=\"width: 544px; height: 426px;\">\n",
    "<pre><strong>Input:</strong> tree = [7,4,3,null,null,6,19], target = 3\n",
    "<strong>Output:</strong> 3\n",
    "<strong>Explanation:</strong> In all examples the original and cloned trees are shown. The target node is a green node from the original tree. The answer is the yellow node from the cloned tree.\n",
    "</pre>\n",
    "\n",
    "<p><strong>Example 2:</strong></p>\n",
    "<img alt=\"\" src=\"https://assets.leetcode.com/uploads/2020/02/21/e2.png\" style=\"width: 221px; height: 159px;\">\n",
    "<pre><strong>Input:</strong> tree = [7], target =  7\n",
    "<strong>Output:</strong> 7\n",
    "</pre>\n",
    "\n",
    "<p><strong>Example 3:</strong></p>\n",
    "<img alt=\"\" src=\"https://assets.leetcode.com/uploads/2020/02/21/e3.png\" style=\"width: 459px; height: 486px;\">\n",
    "<pre><strong>Input:</strong> tree = [8,null,6,null,5,null,4,null,3,null,2,null,1], target = 4\n",
    "<strong>Output:</strong> 4\n",
    "</pre>\n",
    "\n",
    "<p><strong>Example 4:</strong></p>\n",
    "<img alt=\"\" src=\"https://assets.leetcode.com/uploads/2020/02/21/e4.png\" style=\"width: 555px; height: 239px;\">\n",
    "<pre><strong>Input:</strong> tree = [1,2,3,4,5,6,7,8,9,10], target = 5\n",
    "<strong>Output:</strong> 5\n",
    "</pre>\n",
    "\n",
    "<p><strong>Example 5:</strong></p>\n",
    "<img alt=\"\" src=\"https://assets.leetcode.com/uploads/2020/02/21/e5.png\" style=\"width: 427px; height: 345px;\">\n",
    "<pre><strong>Input:</strong> tree = [1,2,null,3], target = 2\n",
    "<strong>Output:</strong> 2\n",
    "</pre>\n",
    "\n",
    "<p>&nbsp;</p>\n",
    "<p><strong>Constraints:</strong></p>\n",
    "\n",
    "<ul>\n",
    "\t<li>The number of nodes in the <code>tree</code> is in the range <code>[1, 10^4]</code>.</li>\n",
    "\t<li>The values of the nodes of the <code>tree</code> are unique.</li>\n",
    "\t<li><code>target</code> node is a&nbsp;node from the <code>original</code> tree and is not <code>null</code>.</li>\n",
    "</ul>\n",
    "</div>"
   ]
  },
  {
   "cell_type": "markdown",
   "metadata": {},
   "source": [
    "## Option 1\n",
    "<p>\n",
    "      <p>         <p>\n",
    "Time complexity: O(n)\n",
    "    <br>\n",
    "Space complexity: O(n)\n"
   ]
  },
  {
   "cell_type": "code",
   "execution_count": null,
   "metadata": {
    "scrolled": false
   },
   "outputs": [],
   "source": [
    "class Solution(object):\n",
    "    def getTargetCopy(self, original, cloned, target):\n",
    "        def search(node):\n",
    "            if node.val == target.val: return node\n",
    "            if node.left: \n",
    "                left = search(node.left)\n",
    "                if left: return left\n",
    "            if node.right: \n",
    "                right = search(node.right)\n",
    "                if right: return right                \n",
    "        return search(cloned)\n"
   ]
  },
  {
   "cell_type": "markdown",
   "metadata": {},
   "source": [
    "#### Result: 36ms (40.86%)"
   ]
  }
 ],
 "metadata": {
  "kernelspec": {
   "display_name": "Python 2",
   "language": "python",
   "name": "python2"
  },
  "language_info": {
   "codemirror_mode": {
    "name": "ipython",
    "version": 2
   },
   "file_extension": ".py",
   "mimetype": "text/x-python",
   "name": "python",
   "nbconvert_exporter": "python",
   "pygments_lexer": "ipython2",
   "version": "2.7.16"
  }
 },
 "nbformat": 4,
 "nbformat_minor": 2
}
