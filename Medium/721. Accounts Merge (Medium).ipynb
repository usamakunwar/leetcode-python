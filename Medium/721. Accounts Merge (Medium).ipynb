{
 "cells": [
  {
   "cell_type": "markdown",
   "metadata": {},
   "source": [
    "# 721. Accounts Merge (Medium)"
   ]
  },
  {
   "cell_type": "markdown",
   "metadata": {},
   "source": [
    "<div><p>Given a list <code>accounts</code>, each element <code>accounts[i]</code> is a list of strings, where the first element <code>accounts[i][0]</code> is a <i>name</i>, and the rest of the elements are <i>emails</i> representing emails of the account.</p>\n",
    "\n",
    "<p>Now, we would like to merge these accounts.  Two accounts definitely belong to the same person if there is some email that is common to both accounts.  Note that even if two accounts have the same name, they may belong to different people as people could have the same name.  A person can have any number of accounts initially, but all of their accounts definitely have the same name.</p>\n",
    "\n",
    "<p>After merging the accounts, return the accounts in the following format: the first element of each account is the name, and the rest of the elements are emails <b>in sorted order</b>.  The accounts themselves can be returned in any order.</p>\n",
    "\n",
    "<p><b>Example 1:</b><br>\n",
    "</p><pre style=\"white-space: pre-wrap\"><b>Input:</b> \n",
    "accounts = [[\"John\", \"johnsmith@mail.com\", \"john00@mail.com\"], [\"John\", \"johnnybravo@mail.com\"], [\"John\", \"johnsmith@mail.com\", \"john_newyork@mail.com\"], [\"Mary\", \"mary@mail.com\"]]\n",
    "<b>Output:</b> [[\"John\", 'john00@mail.com', 'john_newyork@mail.com', 'johnsmith@mail.com'],  [\"John\", \"johnnybravo@mail.com\"], [\"Mary\", \"mary@mail.com\"]]\n",
    "<b>Explanation:</b> \n",
    "The first and third John's are the same person as they have the common email \"johnsmith@mail.com\".\n",
    "The second John and Mary are different people as none of their email addresses are used by other accounts.\n",
    "We could return these lists in any order, for example the answer [['Mary', 'mary@mail.com'], ['John', 'johnnybravo@mail.com'], \n",
    "['John', 'john00@mail.com', 'john_newyork@mail.com', 'johnsmith@mail.com']] would still be accepted.\n",
    "</pre>\n",
    "<p></p>\n",
    "\n",
    "<p><b>Note:</b>\n",
    "</p><li>The length of <code>accounts</code> will be in the range <code>[1, 1000]</code>.</li>\n",
    "<li>The length of <code>accounts[i]</code> will be in the range <code>[1, 10]</code>.</li>\n",
    "<li>The length of <code>accounts[i][j]</code> will be in the range <code>[1, 30]</code>.</li>\n",
    "<p></p></div>"
   ]
  },
  {
   "cell_type": "markdown",
   "metadata": {},
   "source": [
    "## Option 1\n",
    " <p>    \n",
    "<p>\n",
    "    DFS\n",
    "    <p>    \n",
    "<strong>Main ideas:</strong>\n",
    "    <li>An undirected edge between one email (any email really) and the rest is enough for us to create a network of emails\n",
    "    <li>Sort is irrelevant, just have to manually sort at the end\n",
    "<p>\n",
    "        \n",
    "Time complexity: O(nlogn) (n = sum(accounts[i]))\n",
    "    <br>\n",
    "Space complexity: O(n)\n"
   ]
  },
  {
   "cell_type": "code",
   "execution_count": null,
   "metadata": {},
   "outputs": [],
   "source": [
    "import collections\n",
    "class Solution(object):\n",
    "    def accountsMerge(self, accounts):\n",
    "        graph = collections.defaultdict(set)\n",
    "        for a in accounts:\n",
    "            #This is just to initialize an empty list (so we can search on it later if it only has one email)\n",
    "            graph[(a[0],a[1])] #(name, email)\n",
    "            for i in range(2, len(a)):\n",
    "                graph[(a[0],a[i])].add((a[0],a[1]))\n",
    "                graph[(a[0],a[1])].add((a[0],a[i]))\n",
    "        \n",
    "        self.seen = set()\n",
    "        def search(i):\n",
    "            self.seen.add(i)\n",
    "            res = [i[1]]\n",
    "            for j in graph[i]:\n",
    "                if j in self.seen: continue\n",
    "                res += search(j)\n",
    "            return res    \n",
    "            \n",
    "        res = []\n",
    "        for i in graph:\n",
    "            if i in self.seen: continue\n",
    "            res.append([i[0]]+sorted(search(i)))\n",
    "            \n",
    "        return res\n",
    "                \n",
    "Solution().accountsMerge([['A','a','b','c'],['B','d','e','f'],['A','g','h','c'],['B','z','u'],['B','e']])\n",
    "        "
   ]
  },
  {
   "cell_type": "markdown",
   "metadata": {},
   "source": [
    "#### Result:  368ms (23.26%)"
   ]
  }
 ],
 "metadata": {
  "kernelspec": {
   "display_name": "Python 2",
   "language": "python",
   "name": "python2"
  },
  "language_info": {
   "codemirror_mode": {
    "name": "ipython",
    "version": 2
   },
   "file_extension": ".py",
   "mimetype": "text/x-python",
   "name": "python",
   "nbconvert_exporter": "python",
   "pygments_lexer": "ipython2",
   "version": "2.7.16"
  }
 },
 "nbformat": 4,
 "nbformat_minor": 2
}
