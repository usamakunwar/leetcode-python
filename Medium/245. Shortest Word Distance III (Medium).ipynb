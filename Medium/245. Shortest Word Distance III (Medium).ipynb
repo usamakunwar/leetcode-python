{
 "cells": [
  {
   "cell_type": "markdown",
   "metadata": {},
   "source": [
    "# 245. Shortest Word Distance III (Medium)"
   ]
  },
  {
   "cell_type": "markdown",
   "metadata": {},
   "source": [
    "<div><p>Given a list of words and two words <em>word1</em> and <em>word2</em>, return the shortest distance between these two words in the list.</p>\n",
    "\n",
    "<p><em>word1</em> and <em>word2</em> may be the same and they represent two individual words in the list.</p>\n",
    "\n",
    "<p><strong>Example:</strong><br>\n",
    "Assume that words = <code>[\"practice\", \"makes\", \"perfect\", \"coding\", \"makes\"]</code>.</p>\n",
    "\n",
    "<pre><b>Input:</b> <em>word1</em> = <code>“makes”</code>, <em>word2</em> = <code>“coding”</code>\n",
    "<b>Output:</b> 1\n",
    "</pre>\n",
    "\n",
    "<pre><b>Input:</b> <em>word1</em> = <code>\"makes\"</code>, <em>word2</em> = <code>\"makes\"</code>\n",
    "<b>Output:</b> 3\n",
    "</pre>\n",
    "\n",
    "<p><strong>Note:</strong><br>\n",
    "You may assume <em>word1</em> and <em>word2</em> are both in the list.</p>\n",
    "</div>"
   ]
  },
  {
   "cell_type": "markdown",
   "metadata": {},
   "source": [
    "## Option 1\n",
    "<p>\n",
    "Time complexity: O(n)\n",
    "<br>\n",
    "Space complexity: O(1)"
   ]
  },
  {
   "cell_type": "code",
   "execution_count": null,
   "metadata": {
    "scrolled": true
   },
   "outputs": [],
   "source": [
    "class Solution(object):\n",
    "    def shortestWordDistance(self, words, word1, word2):\n",
    "        word1_last=word2_last = -1\n",
    "        res = len(words)\n",
    "        for i,v in enumerate(words):\n",
    "            if v == word1 and v == word2:\n",
    "                if word1_last < 0:\n",
    "                    word1_last = i\n",
    "                elif word2_last < 0:\n",
    "                    word2_last = i\n",
    "                elif word1_last < word2_last:\n",
    "                    word1_last = i\n",
    "                else:\n",
    "                    word2_last = i\n",
    "            elif v == word1: word1_last = i\n",
    "            elif v == word2: word2_last = i\n",
    "            if word1_last >= 0 and word2_last >= 0:\n",
    "                res = min(res, abs(word1_last-word2_last))\n",
    "        return res\n",
    "        \n",
    "        \n",
    "\n",
    "Solution().shortestWordDistance([\"practice\", \"makes\", \"perfect\", \"coding\", \"makes\",\"apple\",\"makes\"], 'makes', 'makes')"
   ]
  },
  {
   "cell_type": "markdown",
   "metadata": {},
   "source": [
    "#### Result: 52ms (39.23%)"
   ]
  }
 ],
 "metadata": {
  "kernelspec": {
   "display_name": "Python 2",
   "language": "python",
   "name": "python2"
  },
  "language_info": {
   "codemirror_mode": {
    "name": "ipython",
    "version": 2
   },
   "file_extension": ".py",
   "mimetype": "text/x-python",
   "name": "python",
   "nbconvert_exporter": "python",
   "pygments_lexer": "ipython2",
   "version": "2.7.16"
  }
 },
 "nbformat": 4,
 "nbformat_minor": 2
}
