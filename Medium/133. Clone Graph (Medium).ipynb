{
 "cells": [
  {
   "cell_type": "markdown",
   "metadata": {},
   "source": [
    "# 133. Clone Graph (Medium)"
   ]
  },
  {
   "cell_type": "markdown",
   "metadata": {},
   "source": [
    "<div><p>Given a reference of a node in a&nbsp;<strong><a href=\"https://en.wikipedia.org/wiki/Connectivity_(graph_theory)#Connected_graph\" target=\"_blank\">connected</a></strong>&nbsp;undirected graph.</p>\n",
    "\n",
    "<p>Return a <a href=\"https://en.wikipedia.org/wiki/Object_copying#Deep_copy\" target=\"_blank\"><strong>deep copy</strong></a> (clone) of the graph.</p>\n",
    "\n",
    "<p>Each node in the graph contains a val (<code>int</code>) and a list (<code>List[Node]</code>) of its neighbors.</p>\n",
    "\n",
    "<pre>class Node {\n",
    "    public int val;\n",
    "    public List&lt;Node&gt; neighbors;\n",
    "}\n",
    "</pre>\n",
    "\n",
    "<p>&nbsp;</p>\n",
    "\n",
    "<p><strong>Test case format:</strong></p>\n",
    "\n",
    "<p>For simplicity sake, each&nbsp;node's value is the same as the node's index (1-indexed). For example, the first node with&nbsp;<code>val = 1</code>, the second node with <code>val = 2</code>, and so on.&nbsp;The graph is represented in the test case using an adjacency list.</p>\n",
    "\n",
    "<p><b>Adjacency list</b>&nbsp;is a collection of unordered&nbsp;<b>lists</b>&nbsp;used to represent a finite graph. Each&nbsp;list&nbsp;describes the set of neighbors of a node in the graph.</p>\n",
    "\n",
    "<p>The given node will&nbsp;always be the first node&nbsp;with&nbsp;<code>val = 1</code>. You must return the <strong>copy of the given node</strong> as a reference to the cloned graph.</p>\n",
    "\n",
    "<p>&nbsp;</p>\n",
    "<p><strong>Example 1:</strong></p>\n",
    "<img alt=\"\" src=\"https://assets.leetcode.com/uploads/2019/11/04/133_clone_graph_question.png\" style=\"width: 500px; height: 550px;\">\n",
    "<pre><strong>Input:</strong> adjList = [[2,4],[1,3],[2,4],[1,3]]\n",
    "<strong>Output:</strong> [[2,4],[1,3],[2,4],[1,3]]\n",
    "<strong>Explanation:</strong> There are 4 nodes in the graph.\n",
    "1st node (val = 1)'s neighbors are 2nd node (val = 2) and 4th node (val = 4).\n",
    "2nd node (val = 2)'s neighbors are 1st node (val = 1) and 3rd node (val = 3).\n",
    "3rd node (val = 3)'s neighbors are 2nd node (val = 2) and 4th node (val = 4).\n",
    "4th node (val = 4)'s neighbors are 1st node (val = 1) and 3rd node (val = 3).\n",
    "</pre>\n",
    "\n",
    "<p><strong>Example 2:</strong></p>\n",
    "<img alt=\"\" src=\"https://assets.leetcode.com/uploads/2020/01/07/graph.png\" style=\"width: 163px; height: 148px;\">\n",
    "<pre><strong>Input:</strong> adjList = [[]]\n",
    "<strong>Output:</strong> [[]]\n",
    "<strong>Explanation:</strong> Note that the input contains one empty list. The graph consists of only one node with val = 1 and it does not have any neighbors.\n",
    "</pre>\n",
    "\n",
    "<p><strong>Example 3:</strong></p>\n",
    "\n",
    "<pre><strong>Input:</strong> adjList = []\n",
    "<strong>Output:</strong> []\n",
    "<strong>Explanation:</strong> This an empty graph, it does not have any nodes.\n",
    "</pre>\n",
    "\n",
    "<p><strong>Example 4:</strong></p>\n",
    "<img alt=\"\" src=\"https://assets.leetcode.com/uploads/2020/01/07/graph-1.png\" style=\"width: 272px; height: 133px;\">\n",
    "<pre><strong>Input:</strong> adjList = [[2],[1]]\n",
    "<strong>Output:</strong> [[2],[1]]\n",
    "</pre>\n",
    "\n",
    "<p>&nbsp;</p>\n",
    "<p><strong>Constraints:</strong></p>\n",
    "\n",
    "<ul>\n",
    "\t<li><code>1 &lt;= Node.val &lt;= 100</code></li>\n",
    "\t<li><code>Node.val</code> is unique for each node.</li>\n",
    "\t<li>Number of Nodes will not exceed 100.</li>\n",
    "\t<li>There is no repeated edges and no self-loops in the graph.</li>\n",
    "\t<li>The Graph is connected and all nodes can be visited starting from the given node.</li>\n",
    "</ul>\n",
    "</div>"
   ]
  },
  {
   "cell_type": "markdown",
   "metadata": {},
   "source": [
    "## Option 1\n",
    " <p>    \n",
    "<p>\n",
    "    Use a map to reference the nodes \n",
    "    <p>    \n",
    "   \n",
    "<p>\n",
    "        \n",
    "Time complexity: O(n)\n",
    "    <br>\n",
    "Space complexity: O(n)\n"
   ]
  },
  {
   "cell_type": "code",
   "execution_count": null,
   "metadata": {},
   "outputs": [],
   "source": [
    "class Solution(object):\n",
    "    def cloneGraph(self, node):\n",
    "        if not node: return None\n",
    "        \n",
    "        self.seen = {}\n",
    "        def search(node):\n",
    "            if node.val in self.seen: return self.seen[node.val]\n",
    "            n = Node(node.val)\n",
    "            self.seen[node.val] = n\n",
    "            for neighbor in node.neighbors:\n",
    "                n.neighbors.append(search(neighbor))                \n",
    "            return n            \n",
    "            \n",
    "        return search(node)\n",
    "        "
   ]
  },
  {
   "cell_type": "markdown",
   "metadata": {},
   "source": [
    "#### Result:  64ms (16.35%)"
   ]
  }
 ],
 "metadata": {
  "kernelspec": {
   "display_name": "Python 2",
   "language": "python",
   "name": "python2"
  },
  "language_info": {
   "codemirror_mode": {
    "name": "ipython",
    "version": 2
   },
   "file_extension": ".py",
   "mimetype": "text/x-python",
   "name": "python",
   "nbconvert_exporter": "python",
   "pygments_lexer": "ipython2",
   "version": "2.7.16"
  }
 },
 "nbformat": 4,
 "nbformat_minor": 2
}
