{
 "cells": [
  {
   "cell_type": "markdown",
   "metadata": {},
   "source": [
    "# 3. Longest Substring Without Repeating Characters (Medium)\n"
   ]
  },
  {
   "cell_type": "markdown",
   "metadata": {},
   "source": [
    "<div>\n",
    "<p><strong>Example 1:</strong></p>\n",
    "\n",
    "<pre><strong>Input: </strong><span id=\"example-input-1-1\">\"abcabcbb\"</span>\n",
    "<strong>Output: </strong><span id=\"example-output-1\">3 \n",
    "<strong>Explanation:</strong></span> The answer is <code>\"abc\"</code>, with the length of 3. \n",
    "</pre>\n",
    "\n",
    "<div>\n",
    "<p><strong>Example 2:</strong></p>\n",
    "\n",
    "<pre><strong>Input: </strong><span id=\"example-input-2-1\">\"bbbbb\"</span>\n",
    "<strong>Output: </strong><span id=\"example-output-2\">1\n",
    "</span><span id=\"example-output-1\"><strong>Explanation: </strong>T</span>he answer is <code>\"b\"</code>, with the length of 1.\n",
    "</pre>\n",
    "\n",
    "<div>\n",
    "<p><strong>Example 3:</strong></p>\n",
    "\n",
    "<pre><strong>Input: </strong><span id=\"example-input-3-1\">\"pwwkew\"</span>\n",
    "<strong>Output: </strong><span id=\"example-output-3\">3\n",
    "</span><span id=\"example-output-1\"><strong>Explanation: </strong></span>The answer is <code>\"wke\"</code>, with the length of 3. \n",
    "             Note that the answer must be a <b>substring</b>, <code>\"pwke\"</code> is a <i>subsequence</i> and not a substring.\n",
    "</pre>\n",
    "</div>\n",
    "</div>\n",
    "</div>"
   ]
  },
  {
   "cell_type": "markdown",
   "metadata": {},
   "source": [
    "## Option 1\n",
    "\n",
    "Sliding window\n",
    "<p>\n",
    "Time complexity = O(n)\n",
    "<br>\n",
    "Space complexity = O(n)"
   ]
  },
  {
   "cell_type": "code",
   "execution_count": null,
   "metadata": {
    "scrolled": true
   },
   "outputs": [],
   "source": [
    "class Solution(object):\n",
    "    def lengthOfLongestSubstring(self, s):\n",
    "        m = set()\n",
    "        left = res = 0\n",
    "        for i in range(len(s)):\n",
    "            while s[i] in m:\n",
    "                m.remove(s[left])\n",
    "                left += 1\n",
    "            m.add(s[i])            \n",
    "            res = max(res, i-left+1)\n",
    "        \n",
    "        return res"
   ]
  },
  {
   "cell_type": "markdown",
   "metadata": {},
   "source": [
    "#### Result:  52ms (68.99%)"
   ]
  },
  {
   "cell_type": "markdown",
   "metadata": {},
   "source": [
    "## Option 1\n",
    "\n",
    "Sliding window\n",
    "<p>\n",
    "    <li>So, above we are checking to see if a character already exists in the map, if it does we move left forward by removing every character before (and including) the character. (As the characters before the duplicate are no longer relevant)\n",
    "    <li>That is unnecessary, we do not need to remove the elements before our window from the map, we can keep them in but ignore them by only setting left if its smaller then the extra character index. If left is bigger, the character is already out of our window\n",
    "     <li>i.e. left = max(left, character index + 1) \n",
    "    <p>\n",
    "        <p>\n",
    "Time complexity = O(n)\n",
    "<br>\n",
    "Space complexity = O(n)"
   ]
  },
  {
   "cell_type": "code",
   "execution_count": null,
   "metadata": {},
   "outputs": [],
   "source": [
    "class Solution(object):\n",
    "    def lengthOfLongestSubstring(self, s):\n",
    "        m = {}\n",
    "        left = res = 0\n",
    "        for i in range(len(s)):\n",
    "            if s[i] in m:\n",
    "                left = max(left, m[s[i]]+1)\n",
    "            m[s[i]] = i\n",
    "            res = max(res, i-left+1)\n",
    "        \n",
    "        return res\n",
    "    \n",
    "Solution().lengthOfLongestSubstring(\"abcabcbb\")\n"
   ]
  },
  {
   "cell_type": "markdown",
   "metadata": {},
   "source": [
    "#### Result:  36ms (94.68%)"
   ]
  }
 ],
 "metadata": {
  "kernelspec": {
   "display_name": "Python 2",
   "language": "python",
   "name": "python2"
  },
  "language_info": {
   "codemirror_mode": {
    "name": "ipython",
    "version": 2
   },
   "file_extension": ".py",
   "mimetype": "text/x-python",
   "name": "python",
   "nbconvert_exporter": "python",
   "pygments_lexer": "ipython2",
   "version": "2.7.16"
  }
 },
 "nbformat": 4,
 "nbformat_minor": 2
}
