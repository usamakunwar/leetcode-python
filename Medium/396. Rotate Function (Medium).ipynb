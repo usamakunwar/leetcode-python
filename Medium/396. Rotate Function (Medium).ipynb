{
 "cells": [
  {
   "cell_type": "markdown",
   "metadata": {},
   "source": [
    "# 396. Rotate Function (Medium)"
   ]
  },
  {
   "cell_type": "markdown",
   "metadata": {},
   "source": [
    "<div><p>\n",
    "Given an array of integers <code>A</code> and let <i>n</i> to be its length.\n",
    "</p>\n",
    "\n",
    "<p>\n",
    "Assume <code>B<sub>k</sub></code> to be an array obtained by rotating the array <code>A</code> <i>k</i> positions clock-wise, we define a \"rotation function\" <code>F</code> on <code>A</code> as follow:\n",
    "</p>\n",
    "\n",
    "<p>\n",
    "<code>F(k) = 0 * B<sub>k</sub>[0] + 1 * B<sub>k</sub>[1] + ... + (n-1) * B<sub>k</sub>[n-1]</code>.</p>\n",
    "\n",
    "<p>Calculate the maximum value of <code>F(0), F(1), ..., F(n-1)</code>. \n",
    "</p>\n",
    "\n",
    "<p><b>Note:</b><br>\n",
    "<i>n</i> is guaranteed to be less than 10<sup>5</sup>.\n",
    "</p>\n",
    "\n",
    "<p><b>Example:</b>\n",
    "</p><pre>A = [4, 3, 2, 6]\n",
    "\n",
    "F(0) = (0 * 4) + (1 * 3) + (2 * 2) + (3 * 6) = 0 + 3 + 4 + 18 = 25\n",
    "F(1) = (0 * 6) + (1 * 4) + (2 * 3) + (3 * 2) = 0 + 4 + 6 + 6 = 16\n",
    "F(2) = (0 * 2) + (1 * 6) + (2 * 4) + (3 * 3) = 0 + 6 + 8 + 9 = 23\n",
    "F(3) = (0 * 3) + (1 * 2) + (2 * 6) + (3 * 4) = 0 + 2 + 12 + 12 = 26\n",
    "\n",
    "So the maximum value of F(0), F(1), F(2), F(3) is F(3) = 26.\n",
    "</pre>\n",
    "<p></p></div>"
   ]
  },
  {
   "cell_type": "markdown",
   "metadata": {},
   "source": [
    "## Option 1\n",
    " <p>Consider that you have 1 more of every item after every shift to the right. 4,3,2 shifted to the right once, we will have 4+3+2 more \n",
    "    <p>\n",
    "    <p>\n",
    "        <li>We are not actually shifting, only emulating a shift\n",
    "        <li>(A[i]*(len(A)-1)) Every shift we remove the value of the ith item (as we are pretending the ith item is at the end, the weight will be the last index len(A)-1\n",
    "        <li>(sum-A[i]) This is the amount we are doubling by (note the sum never changes)\n",
    "        \n",
    "<p>\n",
    "    <p>\n",
    "Time complexity: O(n)\n",
    "    <br>\n",
    "Space complexity: O(1)\n"
   ]
  },
  {
   "cell_type": "code",
   "execution_count": null,
   "metadata": {},
   "outputs": [],
   "source": [
    "class Solution(object):\n",
    "    def maxRotateFunction(self, A):\n",
    "        res = float('-inf')        \n",
    "        curr = sum = 0\n",
    "        for i,v in enumerate(A):\n",
    "            curr += i*v\n",
    "            sum += v\n",
    "        \n",
    "        for i in range(len(A)-1,-1,-1):\n",
    "            curr += (sum-A[i]) - (A[i]*(len(A)-1)) \n",
    "            res = max(res, curr)\n",
    "        \n",
    "        return res\n",
    "        \n",
    "Solution().maxRotateFunction([4, 3, 2, 6])\n"
   ]
  },
  {
   "cell_type": "markdown",
   "metadata": {},
   "source": [
    "\n",
    "#### Result: 68ms (74.26%)"
   ]
  }
 ],
 "metadata": {
  "kernelspec": {
   "display_name": "Python 2",
   "language": "python",
   "name": "python2"
  },
  "language_info": {
   "codemirror_mode": {
    "name": "ipython",
    "version": 2
   },
   "file_extension": ".py",
   "mimetype": "text/x-python",
   "name": "python",
   "nbconvert_exporter": "python",
   "pygments_lexer": "ipython2",
   "version": "2.7.16"
  }
 },
 "nbformat": 4,
 "nbformat_minor": 2
}
