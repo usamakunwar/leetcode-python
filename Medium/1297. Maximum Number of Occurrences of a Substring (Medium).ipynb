{
 "cells": [
  {
   "cell_type": "markdown",
   "metadata": {},
   "source": [
    "# 1297. Maximum Number of Occurrences of a Substring (Medium)\n"
   ]
  },
  {
   "cell_type": "markdown",
   "metadata": {},
   "source": [
    "<div><p>Given a string <code>s</code>, return the maximum number of ocurrences of <strong>any</strong> substring&nbsp;under the following rules:</p>\n",
    "\n",
    "<ul>\n",
    "\t<li>The number of unique characters in the substring must be less than or equal to <code>maxLetters</code>.</li>\n",
    "\t<li>The substring size must be between <code>minSize</code> and <code>maxSize</code>&nbsp;inclusive.</li>\n",
    "</ul>\n",
    "\n",
    "<p>&nbsp;</p>\n",
    "<p><strong>Example 1:</strong></p>\n",
    "\n",
    "<pre><strong>Input:</strong> s = \"aababcaab\", maxLetters = 2, minSize = 3, maxSize = 4\n",
    "<strong>Output:</strong> 2\n",
    "<strong>Explanation:</strong> Substring \"aab\" has 2 ocurrences in the original string.\n",
    "It satisfies the conditions, 2 unique letters and size 3 (between minSize and maxSize).\n",
    "</pre>\n",
    "\n",
    "<p><strong>Example 2:</strong></p>\n",
    "\n",
    "<pre><strong>Input:</strong> s = \"aaaa\", maxLetters = 1, minSize = 3, maxSize = 3\n",
    "<strong>Output:</strong> 2\n",
    "<strong>Explanation:</strong> Substring \"aaa\" occur 2 times in the string. It can overlap.\n",
    "</pre>\n",
    "\n",
    "<p><strong>Example 3:</strong></p>\n",
    "\n",
    "<pre><strong>Input:</strong> s = \"aabcabcab\", maxLetters = 2, minSize = 2, maxSize = 3\n",
    "<strong>Output:</strong> 3\n",
    "</pre>\n",
    "\n",
    "<p><strong>Example 4:</strong></p>\n",
    "\n",
    "<pre><strong>Input:</strong> s = \"abcde\", maxLetters = 2, minSize = 3, maxSize = 3\n",
    "<strong>Output:</strong> 0\n",
    "</pre>\n",
    "\n",
    "<p>&nbsp;</p>\n",
    "<p><strong>Constraints:</strong></p>\n",
    "\n",
    "<ul>\n",
    "\t<li><code>1 &lt;= s.length &lt;= 10^5</code></li>\n",
    "\t<li><code>1 &lt;= maxLetters &lt;= 26</code></li>\n",
    "\t<li><code>1 &lt;= minSize &lt;= maxSize &lt;= min(26, s.length)</code></li>\n",
    "\t<li><code>s</code> only contains lowercase English letters.</li>\n",
    "</ul></div>"
   ]
  },
  {
   "cell_type": "markdown",
   "metadata": {},
   "source": [
    "## Option 1\n",
    "<p>    \n",
    "    Sliding window\n",
    " <p> <p>\n",
    "Time complexity: O(n)\n",
    "    <br>\n",
    "Space complexity: O(n)\n"
   ]
  },
  {
   "cell_type": "code",
   "execution_count": null,
   "metadata": {
    "scrolled": true
   },
   "outputs": [],
   "source": [
    "import collections\n",
    "class Solution(object):\n",
    "    def maxFreq(self, s, maxLetters, minSize, maxSize):\n",
    "        curr = collections.Counter()\n",
    "        ocurrences = collections.Counter()\n",
    "        for i in range(len(s)):\n",
    "            left = i-minSize\n",
    "            curr[s[i]] += 1\n",
    "\n",
    "            if i >= minSize-1:\n",
    "                curr[s[left]] -= 1\n",
    "                if curr[s[left]] <= 0: del curr[s[left]]\n",
    "                if len(curr) <= maxLetters:\n",
    "                    ocurrences[s[left+1:i+1]] += 1\n",
    "\n",
    "        return max(ocurrences.values()) if ocurrences else 0        \n",
    "        \n",
    "Solution().maxFreq(\"aababcaab\", 2,3,3)\n",
    "    "
   ]
  },
  {
   "cell_type": "markdown",
   "metadata": {},
   "source": [
    "#### Result: 616ms (35.9%)"
   ]
  },
  {
   "cell_type": "markdown",
   "metadata": {},
   "source": [
    "## Option 2\n",
    "<p>    \n",
    " <p> <p>\n",
    "Time complexity: O(n)\n",
    "    <br>\n",
    "Space complexity: O(n)\n"
   ]
  },
  {
   "cell_type": "code",
   "execution_count": null,
   "metadata": {
    "scrolled": true
   },
   "outputs": [],
   "source": [
    "import collections\n",
    "class Solution(object):\n",
    "    def maxFreq(self, s, maxLetters, minSize, maxSize):\n",
    "        ocurrences = collections.Counter()                    \n",
    "        for i in range(len(s)-minSize+1):\n",
    "            substring = s[i:i+minSize]\n",
    "            if len(set(substring)) <= maxLetters:\n",
    "                ocurrences[substring] += 1\n",
    "                    \n",
    "        return max(ocurrences.values()) if ocurrences else 0        \n",
    "        \n",
    "Solution().maxFreq(\"aababcaab\", 2,3,3)\n",
    "    "
   ]
  },
  {
   "cell_type": "markdown",
   "metadata": {},
   "source": [
    "#### Result: 244ms (56.14%)"
   ]
  }
 ],
 "metadata": {
  "kernelspec": {
   "display_name": "Python 2",
   "language": "python",
   "name": "python2"
  },
  "language_info": {
   "codemirror_mode": {
    "name": "ipython",
    "version": 2
   },
   "file_extension": ".py",
   "mimetype": "text/x-python",
   "name": "python",
   "nbconvert_exporter": "python",
   "pygments_lexer": "ipython2",
   "version": "2.7.16"
  }
 },
 "nbformat": 4,
 "nbformat_minor": 2
}
