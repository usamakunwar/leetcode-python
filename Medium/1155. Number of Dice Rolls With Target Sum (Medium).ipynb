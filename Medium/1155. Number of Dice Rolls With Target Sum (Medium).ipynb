{
 "cells": [
  {
   "cell_type": "markdown",
   "metadata": {},
   "source": [
    "# 1155. Number of Dice Rolls With Target Sum (Medium)"
   ]
  },
  {
   "cell_type": "markdown",
   "metadata": {},
   "source": [
    "<div><p>You have <code>d</code> dice, and each die has <code>f</code> faces numbered <code>1, 2, ..., f</code>.</p>\n",
    "\n",
    "<p>Return the number of possible ways (out of <code>f<sup>d</sup></code>&nbsp;total ways) <strong>modulo <code>10^9 + 7</code></strong> to roll the dice so the sum of the face up numbers equals <code>target</code>.</p>\n",
    "\n",
    "<p>&nbsp;</p>\n",
    "<p><strong>Example 1:</strong></p>\n",
    "\n",
    "<pre><strong>Input:</strong> d = 1, f = 6, target = 3\n",
    "<strong>Output:</strong> 1\n",
    "<strong>Explanation: </strong>\n",
    "You throw one die with 6 faces.  There is only one way to get a sum of 3.\n",
    "</pre>\n",
    "\n",
    "<p><strong>Example 2:</strong></p>\n",
    "\n",
    "<pre><strong>Input:</strong> d = 2, f = 6, target = 7\n",
    "<strong>Output:</strong> 6\n",
    "<strong>Explanation: </strong>\n",
    "You throw two dice, each with 6 faces.  There are 6 ways to get a sum of 7:\n",
    "1+6, 2+5, 3+4, 4+3, 5+2, 6+1.\n",
    "</pre>\n",
    "\n",
    "<p><strong>Example 3:</strong></p>\n",
    "\n",
    "<pre><strong>Input:</strong> d = 2, f = 5, target = 10\n",
    "<strong>Output:</strong> 1\n",
    "<strong>Explanation: </strong>\n",
    "You throw two dice, each with 5 faces.  There is only one way to get a sum of 10: 5+5.\n",
    "</pre>\n",
    "\n",
    "<p><strong>Example 4:</strong></p>\n",
    "\n",
    "<pre><strong>Input:</strong> d = 1, f = 2, target = 3\n",
    "<strong>Output:</strong> 0\n",
    "<strong>Explanation: </strong>\n",
    "You throw one die with 2 faces.  There is no way to get a sum of 3.\n",
    "</pre>\n",
    "\n",
    "<p><strong>Example 5:</strong></p>\n",
    "\n",
    "<pre><strong>Input:</strong> d = 30, f = 30, target = 500\n",
    "<strong>Output:</strong> 222616187\n",
    "<strong>Explanation: </strong>\n",
    "The answer must be returned modulo 10^9 + 7.\n",
    "</pre>\n",
    "\n",
    "<p>&nbsp;</p>\n",
    "<p><strong>Constraints:</strong></p>\n",
    "\n",
    "<ul>\n",
    "\t<li><code>1 &lt;= d, f &lt;= 30</code></li>\n",
    "\t<li><code>1 &lt;= target &lt;= 1000</code></li>\n",
    "</ul></div>"
   ]
  },
  {
   "cell_type": "markdown",
   "metadata": {},
   "source": [
    "## Option 1\n",
    " <p>    \n",
    "   DP Top down\n",
    "    <p>\n",
    " <li>Lets just consider d as the number of dice rolls we get. We need to reach the target at d rolls\n",
    "<li>lower = The current least. The current target, minus the max we can have in the remaining rolls\n",
    "<li>upper = The current most. The current target, minus the least we can have in the remaining rolls \n",
    "<p>\n",
    "   \n",
    "<p>\n",
    "        \n"
   ]
  },
  {
   "cell_type": "code",
   "execution_count": null,
   "metadata": {},
   "outputs": [],
   "source": [
    "class Solution(object):\n",
    "    def numRollsToTarget(self, d, f, target):\n",
    "        self.seen = {}\n",
    "        \n",
    "        def search(d,target):\n",
    "            if d == 0: return target == 0\n",
    "            if (d,target) in self.seen: return self.seen[(d,target)] \n",
    "            \n",
    "            res = 0\n",
    "            lower, upper = max(1,target-((d-1)*f)), min(f,target-(d-1))\n",
    "            for j in range(lower,upper+1):\n",
    "                res += search(d-1, target-j) \n",
    "                \n",
    "            self.seen[(d,target)] = res\n",
    "            return res\n",
    "        \n",
    "        return search(d,target)%(10**9+7)\n",
    "\n",
    "Solution().numRollsToTarget(1,6,3)\n"
   ]
  },
  {
   "cell_type": "markdown",
   "metadata": {},
   "source": [
    "#### Result:  164ms (92.65%)"
   ]
  },
  {
   "cell_type": "markdown",
   "metadata": {},
   "source": [
    "## Option 2\n",
    " <p>    \n",
    "   DP Bottom Up\n",
    "    <p>\n",
    "        <li>The key here is to set dp[0][0] to 1, as we need the first row (first roll) from 1-f to be 1.  \n",
    "<p>\n",
    "   \n",
    "<p>\n",
    "        \n"
   ]
  },
  {
   "cell_type": "code",
   "execution_count": null,
   "metadata": {},
   "outputs": [],
   "source": [
    "class Solution(object):\n",
    "    def numRollsToTarget(self, d, f, target):\n",
    "        dp = [[0]*(target+1) for i in range(d+1)]\n",
    "        dp[0][0] = 1 \n",
    "        for i in range(d+1):\n",
    "            for j in range(1,f+1):\n",
    "                for t in range(j,target+1):\n",
    "                    dp[i][t] += dp[i-1][t-j]\n",
    "    \n",
    "        return dp[-1][-1]%(10**9+7)      \n",
    "\n",
    "Solution().numRollsToTarget(3,6,7)\n",
    "        \n"
   ]
  },
  {
   "cell_type": "markdown",
   "metadata": {},
   "source": [
    "#### Result:  720ms (44.78%)"
   ]
  }
 ],
 "metadata": {
  "kernelspec": {
   "display_name": "Python 2",
   "language": "python",
   "name": "python2"
  },
  "language_info": {
   "codemirror_mode": {
    "name": "ipython",
    "version": 2
   },
   "file_extension": ".py",
   "mimetype": "text/x-python",
   "name": "python",
   "nbconvert_exporter": "python",
   "pygments_lexer": "ipython2",
   "version": "2.7.16"
  }
 },
 "nbformat": 4,
 "nbformat_minor": 2
}
