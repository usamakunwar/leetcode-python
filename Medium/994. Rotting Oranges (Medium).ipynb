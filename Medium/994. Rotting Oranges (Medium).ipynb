{
 "cells": [
  {
   "cell_type": "markdown",
   "metadata": {},
   "source": [
    "# 994. Rotting Oranges (Medium)\n"
   ]
  },
  {
   "cell_type": "markdown",
   "metadata": {},
   "source": [
    "<div><p>In a given grid, each cell can have one of three&nbsp;values:</p>\n",
    "\n",
    "<ul>\n",
    "\t<li>the value <code>0</code> representing an empty cell;</li>\n",
    "\t<li>the value <code>1</code> representing a fresh orange;</li>\n",
    "\t<li>the value <code>2</code> representing a rotten orange.</li>\n",
    "</ul>\n",
    "\n",
    "<p>Every minute, any fresh orange that is adjacent (4-directionally) to a rotten orange becomes rotten.</p>\n",
    "\n",
    "<p>Return the minimum number of minutes that must elapse until no cell has a fresh orange.&nbsp; If this is impossible, return <code>-1</code> instead.</p>\n",
    "\n",
    "<p>&nbsp;</p>\n",
    "\n",
    "<div>\n",
    "<p><strong>Example 1:</strong></p>\n",
    "\n",
    "<p><strong><img alt=\"\" src=\"https://assets.leetcode.com/uploads/2019/02/16/oranges.png\" style=\"width: 712px; height: 150px;\"></strong></p>\n",
    "\n",
    "<pre><strong>Input: </strong><span id=\"example-input-1-1\">[[2,1,1],[1,1,0],[0,1,1]]</span>\n",
    "<strong>Output: </strong><span id=\"example-output-1\">4</span>\n",
    "</pre>\n",
    "\n",
    "<div>\n",
    "<p><strong>Example 2:</strong></p>\n",
    "\n",
    "<pre><strong>Input: </strong><span id=\"example-input-2-1\">[[2,1,1],[0,1,1],[1,0,1]]</span>\n",
    "<strong>Output: </strong><span id=\"example-output-2\">-1</span>\n",
    "<strong>Explanation: </strong> The orange in the bottom left corner (row 2, column 0) is never rotten, because rotting only happens 4-directionally.\n",
    "</pre>\n",
    "\n",
    "<div>\n",
    "<p><strong>Example 3:</strong></p>\n",
    "\n",
    "<pre><strong>Input: </strong><span id=\"example-input-3-1\">[[0,2]]</span>\n",
    "<strong>Output: </strong><span id=\"example-output-3\">0</span>\n",
    "<strong>Explanation: </strong> Since there are already no fresh oranges at minute 0, the answer is just 0.\n",
    "</pre>\n",
    "\n",
    "<p>&nbsp;</p>\n",
    "\n",
    "<p><strong>Note:</strong></p>\n",
    "\n",
    "<ol>\n",
    "\t<li><code>1 &lt;= grid.length &lt;= 10</code></li>\n",
    "\t<li><code>1 &lt;= grid[0].length &lt;= 10</code></li>\n",
    "\t<li><code>grid[i][j]</code> is only <code>0</code>, <code>1</code>, or <code>2</code>.</li>\n",
    "</ol>\n",
    "</div>\n",
    "</div>\n",
    "</div>\n",
    "</div>"
   ]
  },
  {
   "cell_type": "markdown",
   "metadata": {},
   "source": [
    "## Option 1\n",
    "<p>\n",
    "    BFS\n",
    "    <p> \n",
    "<p>\n",
    "    <p>\n",
    "Time complexity: O(mn)\n",
    "    <br>\n",
    "Space complexity: O(mn)"
   ]
  },
  {
   "cell_type": "code",
   "execution_count": null,
   "metadata": {
    "scrolled": false
   },
   "outputs": [],
   "source": [
    "class Solution(object):\n",
    "    def orangesRotting(self, grid):\n",
    "        m,n = len(grid), len(grid[0])\n",
    "        \n",
    "        q = collections.deque()\n",
    "        \n",
    "        lev = fresh = 0\n",
    "        \n",
    "        for i in range(m):\n",
    "            for j in range(n):\n",
    "                if grid[i][j] == 1:\n",
    "                    fresh += 1\n",
    "                elif grid[i][j] == 2:\n",
    "                    q.append((i,j,0))\n",
    "                \n",
    "        while q:\n",
    "            i,j,lev = q.popleft()\n",
    "            \n",
    "            for ni,nj in ((i,j+1),(i+1,j),(i,j-1),(i-1,j)):\n",
    "                if ni >= 0 and ni < m and nj >= 0 and nj < n and grid[ni][nj] == 1:\n",
    "                    fresh -= 1\n",
    "                    grid[ni][nj] = 2\n",
    "                    q.append((ni,nj,lev+1))\n",
    "        \n",
    "        return lev if fresh == 0 else -1        \n",
    "\n",
    "Solution().orangesRotting([[2,1,1],[0,1,1],[1,0,1]])\n",
    "        "
   ]
  },
  {
   "cell_type": "markdown",
   "metadata": {},
   "source": [
    "#### Result:  40ms (66.23%)"
   ]
  }
 ],
 "metadata": {
  "kernelspec": {
   "display_name": "Python 2",
   "language": "python",
   "name": "python2"
  },
  "language_info": {
   "codemirror_mode": {
    "name": "ipython",
    "version": 2
   },
   "file_extension": ".py",
   "mimetype": "text/x-python",
   "name": "python",
   "nbconvert_exporter": "python",
   "pygments_lexer": "ipython2",
   "version": "2.7.16"
  }
 },
 "nbformat": 4,
 "nbformat_minor": 2
}
