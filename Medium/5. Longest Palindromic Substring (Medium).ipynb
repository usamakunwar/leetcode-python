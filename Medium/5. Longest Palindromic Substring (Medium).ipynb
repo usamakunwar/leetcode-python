{
 "cells": [
  {
   "cell_type": "markdown",
   "metadata": {},
   "source": [
    "# 5. Longest Palindromic Substring (Medium)"
   ]
  },
  {
   "cell_type": "markdown",
   "metadata": {},
   "source": [
    "<div><p>Given a string <strong>s</strong>, find the longest palindromic substring in <strong>s</strong>. You may assume that the maximum length of <strong>s</strong> is 1000.</p>\n",
    "\n",
    "<p><strong>Example 1:</strong></p>\n",
    "\n",
    "<pre><strong>Input:</strong> \"babad\"\n",
    "<strong>Output:</strong> \"bab\"\n",
    "<strong>Note:</strong> \"aba\" is also a valid answer.\n",
    "</pre>\n",
    "\n",
    "<p><strong>Example 2:</strong></p>\n",
    "\n",
    "<pre><strong>Input:</strong> \"cbbd\"\n",
    "<strong>Output:</strong> \"bb\"\n",
    "</pre>\n",
    "</div>"
   ]
  },
  {
   "cell_type": "markdown",
   "metadata": {},
   "source": [
    "## Option 1\n",
    " <p>\n",
    "    <p>\n",
    "        <p>\n",
    "Time complexity: O(n^2)\n",
    "    <br>\n",
    "Space complexity: O(1) \n"
   ]
  },
  {
   "cell_type": "code",
   "execution_count": null,
   "metadata": {},
   "outputs": [],
   "source": [
    "class Solution(object):\n",
    "    def longestPalindrome(self, s):\n",
    "        def expand(l,r):\n",
    "            while l >= 0 and r < len(s) and s[l] == s[r]:\n",
    "                l -= 1\n",
    "                r += 1  \n",
    "            return l+1,r-1\n",
    "            \n",
    "        l,r = 0,0\n",
    "        for i in range(len(s)):\n",
    "            a,b = expand(i,i)\n",
    "            c,d = expand(i,i+1)\n",
    "            lenght_1, length_2, length_curr = b-a+1, d-c+1, r-l+1\n",
    "\n",
    "            if lenght_1 > length_2 and lenght_1 > length_curr:\n",
    "                l,r = a,b\n",
    "            elif length_2 > lenght_1 and length_2 > length_curr:\n",
    "                l,r = c,d\n",
    "\n",
    "        return s[l:r+1]\n",
    "        \n",
    "Solution().lengthOfLIS([14,15,16,17,18,19,2,3,4,5,6,20,21,22,23,24,35,0,2,1])        \n"
   ]
  },
  {
   "cell_type": "markdown",
   "metadata": {},
   "source": [
    "\n",
    "#### Result: 776ms (84.68%)"
   ]
  }
 ],
 "metadata": {
  "kernelspec": {
   "display_name": "Python 2",
   "language": "python",
   "name": "python2"
  },
  "language_info": {
   "codemirror_mode": {
    "name": "ipython",
    "version": 2
   },
   "file_extension": ".py",
   "mimetype": "text/x-python",
   "name": "python",
   "nbconvert_exporter": "python",
   "pygments_lexer": "ipython2",
   "version": "2.7.16"
  }
 },
 "nbformat": 4,
 "nbformat_minor": 2
}
