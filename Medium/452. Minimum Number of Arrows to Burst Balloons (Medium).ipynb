{
 "cells": [
  {
   "cell_type": "markdown",
   "metadata": {},
   "source": [
    "# 452. Minimum Number of Arrows to Burst Balloons (Medium)"
   ]
  },
  {
   "cell_type": "markdown",
   "metadata": {},
   "source": [
    "<div><p>There are a number of spherical balloons spread in two-dimensional space. For each balloon, provided input is the start and end coordinates of the horizontal diameter. Since it's horizontal, y-coordinates don't matter and hence the x-coordinates of start and end of the diameter suffice. Start is always smaller than end. There will be at most 10<sup>4</sup> balloons.</p>\n",
    "\n",
    "<p>An arrow can be shot up exactly vertically from different points along the x-axis. A balloon with x<sub>start</sub> and x<sub>end</sub> bursts by an arrow shot at x if x<sub>start</sub> ≤ x ≤ x<sub>end</sub>. There is no limit to the number of arrows that can be shot. An arrow once shot keeps travelling up infinitely. The problem is to find the minimum number of arrows that must be shot to burst all balloons.</p>\n",
    "\n",
    "<p><b>Example:</b></p>\n",
    "\n",
    "<pre><b>Input:</b>\n",
    "[[10,16], [2,8], [1,6], [7,12]]\n",
    "\n",
    "<b>Output:</b>\n",
    "2\n",
    "\n",
    "<b>Explanation:</b>\n",
    "One way is to shoot one arrow for example at x = 6 (bursting the balloons [2,8] and [1,6]) and another arrow at x = 11 (bursting the other two balloons).\n",
    "</pre>\n",
    "\n",
    "<p>&nbsp;</p>\n",
    "</div>"
   ]
  },
  {
   "cell_type": "markdown",
   "metadata": {},
   "source": [
    "## Option 1\n",
    "<p>\n",
    "\n",
    "Time complexity = O(nlogn)\n",
    "<br>\n",
    "Space complexity = O(1)"
   ]
  },
  {
   "cell_type": "code",
   "execution_count": null,
   "metadata": {
    "scrolled": true
   },
   "outputs": [],
   "source": [
    "import collections, heapq\n",
    "class Solution(object):\n",
    "    def findMinArrowShots(self, points):\n",
    "        points.sort()\n",
    "        arrows = []\n",
    "        for s,e in points:\n",
    "            if arrows and s <= arrows[-1][1]:\n",
    "                if s > arrows[-1][0]: arrows[-1][0] = s\n",
    "                if e < arrows[-1][1]: arrows[-1][1] = e\n",
    "            elif not arrows or s > arrows[-1][1]:\n",
    "                arrows.append([s,e])\n",
    "        return len(arrows)\n",
    "\n",
    "Solution().findMinArrowShots([[9,12],[1,10],[4,11],[8,12],[3,9],[6,9],[6,7]])\n",
    "        "
   ]
  },
  {
   "cell_type": "markdown",
   "metadata": {},
   "source": [
    "#### Result: 400ms (53.49%)"
   ]
  },
  {
   "cell_type": "markdown",
   "metadata": {},
   "source": [
    "## Option 2\n",
    "<p>\n",
    "If we sort by end instead, we get smallest end first, so we do not need to change it until next arrow. IE. the window starts small\n",
    "<p>\n",
    "\n",
    "Time complexity = O(nlogn)\n",
    "<br>\n",
    "Space complexity = O(1)"
   ]
  },
  {
   "cell_type": "code",
   "execution_count": 1,
   "metadata": {},
   "outputs": [
    {
     "name": "stdout",
     "output_type": "stream",
     "text": [
      "[[6, 7], [3, 9], [6, 9], [1, 10], [4, 11], [9, 12], [8, 12]]\n"
     ]
    },
    {
     "data": {
      "text/plain": [
       "2"
      ]
     },
     "execution_count": 1,
     "metadata": {},
     "output_type": "execute_result"
    }
   ],
   "source": [
    "import collections, heapq\n",
    "class Solution(object):\n",
    "    def findMinArrowShots(self, points):\n",
    "        if not points: return 0\n",
    "        points.sort(key=lambda x:x[1])\n",
    "        print(points)\n",
    "        last_arrow_end, arrows = points[0][1], 1\n",
    "        for s,e in points:\n",
    "            if s > last_arrow_end:\n",
    "                last_arrow_end = e\n",
    "                arrows += 1\n",
    "        return arrows\n",
    "\n",
    "Solution().findMinArrowShots([[9,12],[1,10],[4,11],[8,12],[3,9],[6,9],[6,7]])\n",
    "        "
   ]
  },
  {
   "cell_type": "markdown",
   "metadata": {},
   "source": [
    "#### Result: 380ms (87.21%)"
   ]
  }
 ],
 "metadata": {
  "kernelspec": {
   "display_name": "Python 2",
   "language": "python",
   "name": "python2"
  },
  "language_info": {
   "codemirror_mode": {
    "name": "ipython",
    "version": 2
   },
   "file_extension": ".py",
   "mimetype": "text/x-python",
   "name": "python",
   "nbconvert_exporter": "python",
   "pygments_lexer": "ipython2",
   "version": "2.7.16"
  }
 },
 "nbformat": 4,
 "nbformat_minor": 2
}
