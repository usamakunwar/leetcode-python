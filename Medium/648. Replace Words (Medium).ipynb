{
 "cells": [
  {
   "cell_type": "markdown",
   "metadata": {},
   "source": [
    "# 648. Replace Words (Medium)"
   ]
  },
  {
   "cell_type": "markdown",
   "metadata": {},
   "source": [
    "<div><p>In English, we have a concept called <code>root</code>, which can be followed by some other words to form another longer word - let's call this word <code>successor</code>. For example, the root <code>an</code>, followed by <code>other</code>, which can form another word <code>another</code>.</p>\n",
    "\n",
    "<p>Now, given a dictionary consisting of many roots and a sentence. You need to replace all the <code>successor</code> in the sentence with the <code>root</code> forming it. If a <code>successor</code> has many <code>roots</code> can form it, replace it with the root with the shortest length.</p>\n",
    "\n",
    "<p>You need to output the sentence after the replacement.</p>\n",
    "\n",
    "<p><b>Example 1:</b></p>\n",
    "\n",
    "<pre><b>Input:</b> dict = [\"cat\", \"bat\", \"rat\"]\n",
    "sentence = \"the cattle was rattled by the battery\"\n",
    "<b>Output:</b> \"the cat was rat by the bat\"\n",
    "</pre>\n",
    "\n",
    "<p>&nbsp;</p>\n",
    "\n",
    "<p><b>Note:</b></p>\n",
    "\n",
    "<ol>\n",
    "\t<li>The input will only have lower-case letters.</li>\n",
    "\t<li>1 &lt;= dict words number &lt;= 1000</li>\n",
    "\t<li>1 &lt;= sentence words number &lt;= 1000</li>\n",
    "\t<li>1 &lt;= root length &lt;= 100</li>\n",
    "\t<li>1 &lt;= sentence words length &lt;= 1000</li>\n",
    "</ol>\n",
    "\n",
    "<p>&nbsp;</p>\n",
    "</div>"
   ]
  },
  {
   "cell_type": "markdown",
   "metadata": {},
   "source": [
    "## Option 1\n",
    "<p>\n",
    "Time complexity = O(ds)\n",
    "<br>\n",
    "Space complexity = O(s)"
   ]
  },
  {
   "cell_type": "code",
   "execution_count": null,
   "metadata": {
    "scrolled": false
   },
   "outputs": [],
   "source": [
    "import collections\n",
    "class Solution(object):\n",
    "    def replaceWords(self, dict, sentence):\n",
    "        s_map, s = collections.defaultdict(list), sentence.split()\n",
    "        for i,w in enumerate(s):\n",
    "            for j in range(1,len(w)): s_map[w[0:j]].append(i)\n",
    "        for w in dict:\n",
    "            for i in s_map[w]:\n",
    "                if len(w) < len(s[i]): s[i] = w\n",
    "        return ' '.join(s)   \n",
    "\n",
    "Solution().replaceWords([\"aa\", \"b\", \"c\",\"ab\"],\"aadsfasf absbs bbab cadsfafs\")"
   ]
  },
  {
   "cell_type": "markdown",
   "metadata": {},
   "source": [
    "#### Result: 956ms (5.62%)"
   ]
  },
  {
   "cell_type": "markdown",
   "metadata": {},
   "source": [
    "## Option 2\n",
    "<p>\n",
    "Iterate the other way around, shorter and quicker\n",
    "<p>\n",
    "Time complexity = O(sw) lenght of sentence, lenght of word\n",
    "<br>\n",
    "Space complexity = O(d) lenght of dict"
   ]
  },
  {
   "cell_type": "code",
   "execution_count": null,
   "metadata": {},
   "outputs": [],
   "source": [
    "import collections\n",
    "class Solution(object):\n",
    "    def replaceWords(self, dict, sentence):\n",
    "        d = set(dict)\n",
    "        def replace(w):\n",
    "            for i in range(1,len(w)):\n",
    "                if w[:i] in d: return w[:i]\n",
    "            return w\n",
    "        return ' '.join(map(replace, sentence.split()))\n",
    "Solution().replaceWords([\"aa\", \"b\", \"c\",\"ab\"],\"aadsfasf absbs bbab cadsfafs\")"
   ]
  },
  {
   "cell_type": "markdown",
   "metadata": {},
   "source": [
    "#### Result: 272ms (33.92%)"
   ]
  }
 ],
 "metadata": {
  "kernelspec": {
   "display_name": "Python 2",
   "language": "python",
   "name": "python2"
  },
  "language_info": {
   "codemirror_mode": {
    "name": "ipython",
    "version": 2
   },
   "file_extension": ".py",
   "mimetype": "text/x-python",
   "name": "python",
   "nbconvert_exporter": "python",
   "pygments_lexer": "ipython2",
   "version": "2.7.16"
  }
 },
 "nbformat": 4,
 "nbformat_minor": 2
}
