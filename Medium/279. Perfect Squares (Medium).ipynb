{
 "cells": [
  {
   "cell_type": "markdown",
   "metadata": {},
   "source": [
    "# 279. Perfect Squares (Medium)"
   ]
  },
  {
   "cell_type": "markdown",
   "metadata": {},
   "source": [
    "<div><p>Given a positive integer <i>n</i>, find the least number of perfect square numbers (for example, <code>1, 4, 9, 16, ...</code>) which sum to <i>n</i>.</p>\n",
    "\n",
    "<p><b>Example 1:</b></p>\n",
    "\n",
    "<pre><b>Input:</b> <i>n</i> = <code>12</code>\n",
    "<b>Output:</b> 3 \n",
    "<strong>Explanation: </strong><code>12 = 4 + 4 + 4.</code></pre>\n",
    "\n",
    "<p><b>Example 2:</b></p>\n",
    "\n",
    "<pre><b>Input:</b> <i>n</i> = <code>13</code>\n",
    "<b>Output:</b> 2\n",
    "<strong>Explanation: </strong><code>13 = 4 + 9.</code></pre></div>"
   ]
  },
  {
   "cell_type": "markdown",
   "metadata": {},
   "source": [
    "## Option 1\n",
    "\n",
    "Dynamic Programmic\n",
    "<br>\n",
    "Time complexity = O(n*sqrt(n))\n",
    "<br>\n",
    "Space complexity = O(n)"
   ]
  },
  {
   "cell_type": "code",
   "execution_count": 90,
   "metadata": {
    "scrolled": false
   },
   "outputs": [
    {
     "data": {
      "text/plain": [
       "3"
      ]
     },
     "execution_count": 90,
     "metadata": {},
     "output_type": "execute_result"
    }
   ],
   "source": [
    "class Solution:\n",
    "    def numSquares(self, n: int) -> int:\n",
    "        if n == 0 : return 0\n",
    "        k = [float('inf') for i in range(n+1)]\n",
    "        k[0] = 0\n",
    "        \n",
    "        sqrs = []\n",
    "        for i in range(1,n+1):\n",
    "            sqr = i*i\n",
    "            if sqr > n : break\n",
    "            sqrs.append(sqr)        \n",
    "        \n",
    "        for i in range(n+1):\n",
    "            for sqr in sqrs:\n",
    "                if i < sqr : break\n",
    "                k[i] = min(k[i], k[i-sqr]+1)\n",
    "        return k[-1]\n",
    "        \n",
    "        \n",
    "Solution().numSquares(7334)"
   ]
  },
  {
   "cell_type": "markdown",
   "metadata": {},
   "source": [
    "#### Result:  4480ms (14.96%)"
   ]
  }
 ],
 "metadata": {
  "kernelspec": {
   "display_name": "Python 3",
   "language": "python",
   "name": "python3"
  },
  "language_info": {
   "codemirror_mode": {
    "name": "ipython",
    "version": 3
   },
   "file_extension": ".py",
   "mimetype": "text/x-python",
   "name": "python",
   "nbconvert_exporter": "python",
   "pygments_lexer": "ipython3",
   "version": "3.7.4"
  }
 },
 "nbformat": 4,
 "nbformat_minor": 2
}
