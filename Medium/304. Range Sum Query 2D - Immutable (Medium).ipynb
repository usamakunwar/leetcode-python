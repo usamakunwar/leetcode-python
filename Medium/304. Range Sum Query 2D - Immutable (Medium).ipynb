{
 "cells": [
  {
   "cell_type": "markdown",
   "metadata": {},
   "source": [
    "# 304. Range Sum Query 2D - Immutable (Medium)"
   ]
  },
  {
   "cell_type": "markdown",
   "metadata": {},
   "source": [
    "<div><p>Given a 2D matrix <i>matrix</i>, find the sum of the elements inside the rectangle defined by its upper left corner (<i>row</i>1, <i>col</i>1) and lower right corner (<i>row</i>2, <i>col</i>2).</p>\n",
    "\n",
    "<p>\n",
    "<img src=\"/static/images/courses/range_sum_query_2d.png\" border=\"0\" alt=\"Range Sum Query 2D\"><br>\n",
    "<small>The above rectangle (with the red border) is defined by (row1, col1) = <b>(2, 1)</b> and (row2, col2) = <b>(4, 3)</b>, which contains sum = <b>8</b>.</small>\n",
    "</p>\n",
    "\n",
    "<p><b>Example:</b><br>\n",
    "</p><pre>Given matrix = [\n",
    "  [3, 0, 1, 4, 2],\n",
    "  [5, 6, 3, 2, 1],\n",
    "  [1, 2, 0, 1, 5],\n",
    "  [4, 1, 0, 1, 7],\n",
    "  [1, 0, 3, 0, 5]\n",
    "]\n",
    "\n",
    "sumRegion(2, 1, 4, 3) -&gt; 8\n",
    "sumRegion(1, 1, 2, 2) -&gt; 11\n",
    "sumRegion(1, 2, 2, 4) -&gt; 12\n",
    "</pre>\n",
    "<p></p>\n",
    "\n",
    "<p><b>Note:</b><br>\n",
    "</p><ol>\n",
    "<li>You may assume that the matrix does not change.</li>\n",
    "<li>There are many calls to <i>sumRegion</i> function.</li>\n",
    "<li>You may assume that <i>row</i>1 ≤ <i>row</i>2 and <i>col</i>1 ≤ <i>col</i>2.</li>\n",
    "</ol>\n",
    "<p></p></div>"
   ]
  },
  {
   "cell_type": "markdown",
   "metadata": {},
   "source": [
    "## Option 1\n",
    " <p> \n",
    "    DP Prefix sum\n",
    "    <p>\n",
    "    <p>\n",
    "        <p>\n",
    "        \n",
    "Time complexity: O(1) sumRegion\n",
    "    <br>\n",
    "Space complexity: O(mn)\n"
   ]
  },
  {
   "cell_type": "code",
   "execution_count": null,
   "metadata": {
    "scrolled": true
   },
   "outputs": [],
   "source": [
    "class NumMatrix(object):\n",
    "    def __init__(self, m): \n",
    "        for i in range(len(m)):\n",
    "            for j in range(len(m[0])):\n",
    "                if i > 0: m[i][j] += m[i-1][j]\n",
    "                if j > 0: m[i][j] += m[i][j-1]\n",
    "                if i > 0 and j > 0: m[i][j] -= m[i-1][j-1]\n",
    "        self.m = m\n",
    "    \n",
    "    def sumRegion(self, row1, col1, row2, col2): \n",
    "        res = self.m[row2][col2] \n",
    "        if row1 > 0: res -= self.m[row1-1][col2]\n",
    "        if col1 > 0: res -= self.m[row2][col1-1]\n",
    "        if row1 > 0 and col1 > 0: res += self.m[row1-1][col1-1]\n",
    "        return res\n"
   ]
  },
  {
   "cell_type": "markdown",
   "metadata": {},
   "source": [
    "#### Result: 96ms (64.31%)"
   ]
  }
 ],
 "metadata": {
  "kernelspec": {
   "display_name": "Python 2",
   "language": "python",
   "name": "python2"
  },
  "language_info": {
   "codemirror_mode": {
    "name": "ipython",
    "version": 2
   },
   "file_extension": ".py",
   "mimetype": "text/x-python",
   "name": "python",
   "nbconvert_exporter": "python",
   "pygments_lexer": "ipython2",
   "version": "2.7.16"
  }
 },
 "nbformat": 4,
 "nbformat_minor": 2
}
