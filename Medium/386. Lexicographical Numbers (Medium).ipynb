{
 "cells": [
  {
   "cell_type": "markdown",
   "metadata": {},
   "source": [
    "# 386. Lexicographical Numbers (Medium)"
   ]
  },
  {
   "cell_type": "markdown",
   "metadata": {},
   "source": [
    "<div><p>Given an integer <i>n</i>, return 1 - <i>n</i> in lexicographical order.</p>\n",
    "\n",
    "<p>For example, given 13, return: [1,10,11,12,13,2,3,4,5,6,7,8,9].</p>\n",
    "\n",
    "<p>Please optimize your algorithm to use less time and space. The input size may be as large as 5,000,000.</p>\n",
    "</div>"
   ]
  },
  {
   "cell_type": "markdown",
   "metadata": {},
   "source": [
    "## Option 1\n",
    " <p>    \n",
    "    Recursive\n",
    "<p>\n",
    "\n",
    "<p>\n",
    "        \n"
   ]
  },
  {
   "cell_type": "code",
   "execution_count": null,
   "metadata": {},
   "outputs": [],
   "source": [
    "class Solution(object):\n",
    "    def lexicalOrder(self, n):\n",
    "        self.res = []\n",
    "        def search(i):\n",
    "            if i > 0: self.res.append(i)\n",
    "            i *= 10\n",
    "            for j in range(i, min(i+10,n+1)):\n",
    "                if j > 0: search(j)\n",
    "                    \n",
    "        search(0)\n",
    "        return self.res"
   ]
  },
  {
   "cell_type": "markdown",
   "metadata": {},
   "source": [
    "#### Result:  192ms (21.95%)"
   ]
  }
 ],
 "metadata": {
  "kernelspec": {
   "display_name": "Python 2",
   "language": "python",
   "name": "python2"
  },
  "language_info": {
   "codemirror_mode": {
    "name": "ipython",
    "version": 2
   },
   "file_extension": ".py",
   "mimetype": "text/x-python",
   "name": "python",
   "nbconvert_exporter": "python",
   "pygments_lexer": "ipython2",
   "version": "2.7.16"
  }
 },
 "nbformat": 4,
 "nbformat_minor": 2
}
