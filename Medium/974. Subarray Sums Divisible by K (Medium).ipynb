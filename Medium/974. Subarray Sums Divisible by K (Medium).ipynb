{
 "cells": [
  {
   "cell_type": "markdown",
   "metadata": {},
   "source": [
    "# 974. Subarray Sums Divisible by K (Medium)\n"
   ]
  },
  {
   "cell_type": "markdown",
   "metadata": {},
   "source": [
    "<div><p>Given an array <code>A</code> of integers, return the number of (contiguous, non-empty) subarrays that have a sum divisible by <code>K</code>.</p>\n",
    "\n",
    "<p>&nbsp;</p>\n",
    "\n",
    "<div>\n",
    "<p><strong>Example 1:</strong></p>\n",
    "\n",
    "<pre><strong>Input: </strong>A = <span id=\"example-input-1-1\">[4,5,0,-2,-3,1]</span>, K = <span id=\"example-input-1-2\">5</span>\n",
    "<strong>Output: </strong><span id=\"example-output-1\">7</span>\n",
    "<strong>Explanation: </strong>There are 7 subarrays with a sum divisible by K = 5:\n",
    "[4, 5, 0, -2, -3, 1], [5], [5, 0], [5, 0, -2, -3], [0], [0, -2, -3], [-2, -3]\n",
    "</pre>\n",
    "\n",
    "<p>&nbsp;</p>\n",
    "\n",
    "<p><strong>Note:</strong></p>\n",
    "\n",
    "<ol>\n",
    "\t<li><code>1 &lt;= A.length &lt;= 30000</code></li>\n",
    "\t<li><code>-10000 &lt;= A[i] &lt;= 10000</code></li>\n",
    "\t<li><code>2 &lt;= K &lt;= 10000</code></li>\n",
    "</ol>\n",
    "</div></div>"
   ]
  },
  {
   "cell_type": "markdown",
   "metadata": {},
   "source": [
    "## Option 1\n",
    " <p>     <p>\n",
    "    <p>\n",
    "        <li>Prefix sum with Mod\n",
    "<p>\n",
    "        \n",
    "Time complexity: O(n)\n",
    "    <br>\n",
    "Space complexity: O(n)\n"
   ]
  },
  {
   "cell_type": "code",
   "execution_count": null,
   "metadata": {
    "scrolled": true
   },
   "outputs": [],
   "source": [
    "import collections\n",
    "class Solution(object):\n",
    "    def subarraysDivByK(self, A, K):\n",
    "        m = collections.Counter([0])\n",
    "        curr = res = 0\n",
    "        for i in range(len(A)):\n",
    "            curr += A[i]\n",
    "            mod = curr%K\n",
    "            res += m[mod]\n",
    "            m[mod] += 1\n",
    "        return res\n",
    "        \n",
    "Solution().subarraysDivByK([4,5,0,-2,-3,1], 5)\n",
    "        "
   ]
  },
  {
   "cell_type": "markdown",
   "metadata": {},
   "source": [
    "#### Result: 340ms (26.09%)"
   ]
  }
 ],
 "metadata": {
  "kernelspec": {
   "display_name": "Python 2",
   "language": "python",
   "name": "python2"
  },
  "language_info": {
   "codemirror_mode": {
    "name": "ipython",
    "version": 2
   },
   "file_extension": ".py",
   "mimetype": "text/x-python",
   "name": "python",
   "nbconvert_exporter": "python",
   "pygments_lexer": "ipython2",
   "version": "2.7.16"
  }
 },
 "nbformat": 4,
 "nbformat_minor": 2
}
