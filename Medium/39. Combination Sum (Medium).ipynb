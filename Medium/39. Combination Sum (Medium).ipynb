{
 "cells": [
  {
   "cell_type": "markdown",
   "metadata": {},
   "source": [
    "# 39. Combination Sum (Medium)"
   ]
  },
  {
   "cell_type": "markdown",
   "metadata": {},
   "source": [
    "<div><p>Given a <strong>set</strong> of candidate numbers (<code>candidates</code>) <strong>(without duplicates)</strong> and a target number (<code>target</code>), find all unique combinations in <code>candidates</code>&nbsp;where the candidate numbers sums to <code>target</code>.</p>\n",
    "\n",
    "<p>The <strong>same</strong> repeated number may be chosen from <code>candidates</code>&nbsp;unlimited number of times.</p>\n",
    "\n",
    "<p><strong>Note:</strong></p>\n",
    "\n",
    "<ul>\n",
    "\t<li>All numbers (including <code>target</code>) will be positive integers.</li>\n",
    "\t<li>The solution set must not contain duplicate combinations.</li>\n",
    "</ul>\n",
    "\n",
    "<p><strong>Example 1:</strong></p>\n",
    "\n",
    "<pre><strong>Input:</strong> candidates = <code>[2,3,6,7], </code>target = <code>7</code>,\n",
    "<strong>A solution set is:</strong>\n",
    "[\n",
    "  [7],\n",
    "  [2,2,3]\n",
    "]\n",
    "</pre>\n",
    "\n",
    "<p><strong>Example 2:</strong></p>\n",
    "\n",
    "<pre><strong>Input:</strong> candidates = [2,3,5]<code>, </code>target = 8,\n",
    "<strong>A solution set is:</strong>\n",
    "[\n",
    "&nbsp; [2,2,2,2],\n",
    "&nbsp; [2,3,3],\n",
    "&nbsp; [3,5]\n",
    "]\n",
    "</pre>\n",
    "</div>"
   ]
  },
  {
   "cell_type": "markdown",
   "metadata": {},
   "source": [
    "## Option 1\n",
    "<p>\n",
    "    DFS + Backtrack\n",
    "    <p>\n",
    "    <li>In order to avoid duplicates: Forward track, so increase the i position \n",
    "    <li>In order to allow the same candidate to be used multiple times: Include the i position when forward tracking\n",
    "    <li>Also, couldve sorted the candidates for an early exit, maybe quicker\n",
    "    \n",
    "<p>\n",
    "    <p>\n",
    "        \n",
    "Time complexity: O ( n ^ ( t / m ) )    t = target , m = min(candidates)\n",
    "    <br>\n",
    "Space complexity: O ( n ^ ( t / m ) )"
   ]
  },
  {
   "cell_type": "code",
   "execution_count": null,
   "metadata": {
    "scrolled": true
   },
   "outputs": [],
   "source": [
    "class Solution(object):\n",
    "    def combinationSum(self, candidates, target):\n",
    "        ln = len(candidates)\n",
    "        def search(n,i,curr):\n",
    "            if n == 0:\n",
    "                return [curr]\n",
    "            res = []\n",
    "            for j in range(i,ln):\n",
    "                v = n - candidates[j]\n",
    "                if v >= 0:\n",
    "                    res += search(v, j ,curr + [candidates[j]])\n",
    "            return res\n",
    "            \n",
    "        return search(target,0, [])\n",
    "        \n",
    "\n",
    "Solution().combinationSum([2,3,5],8)"
   ]
  },
  {
   "cell_type": "markdown",
   "metadata": {},
   "source": [
    "#### Result: 44ms (82.87%)"
   ]
  },
  {
   "cell_type": "markdown",
   "metadata": {},
   "source": [
    "## Option 2\n",
    "<p>\n",
    "    DP Top down\n",
    "    <p> \n",
    "<p>\n",
    "    <p>\n",
    "Time complexity: O ( n ^ ( t / m ) )    t = target , m = min(candidates)\n",
    "    <br>\n",
    "Space complexity: O ( n ^ ( t / m ) )"
   ]
  },
  {
   "cell_type": "code",
   "execution_count": null,
   "metadata": {},
   "outputs": [],
   "source": [
    "class Solution(object):\n",
    "    def combinationSum(self, c, target):\n",
    "        self.seen = {}\n",
    "        \n",
    "        def search(i, t):\n",
    "            if (i,t) in self.seen: return self.seen[(i,t)]\n",
    "            if t == 0: return [[]]\n",
    "            \n",
    "            res = []\n",
    "            for j in range(i, len(c)):\n",
    "                if c[j] > t: continue\n",
    "                res += map(lambda x: [c[j]]+x, search(j, t-c[j]))\n",
    "\n",
    "            self.seen[(i,t)] = res  \n",
    "            return res\n",
    "            \n",
    "            \n",
    "        return search(0, target)\n",
    "            \n",
    "        \n",
    "Solution().combinationSum([8,7,4,3],11)\n"
   ]
  },
  {
   "cell_type": "markdown",
   "metadata": {},
   "source": [
    "#### Result: 56ms (76.09%)"
   ]
  },
  {
   "cell_type": "markdown",
   "metadata": {},
   "source": [
    "## Option 3\n",
    "<p>\n",
    "    DP Bottom up\n",
    "    <p> "
   ]
  },
  {
   "cell_type": "code",
   "execution_count": null,
   "metadata": {},
   "outputs": [],
   "source": [
    "class Solution(object):\n",
    "    def combinationSum(self, candidates, target):        \n",
    "        dp = [[] for i in range(target+1)]\n",
    "        dp[0].append([])\n",
    "                \n",
    "        for c in candidates:\n",
    "            for t in range(c,target+1):\n",
    "                for k in dp[t-c]:\n",
    "                    dp[t] += [k + [c]]\n",
    "        \n",
    "        return dp[target]\n",
    "        \n",
    "Solution().combinationSum([8,7,4,3],11)\n"
   ]
  },
  {
   "cell_type": "markdown",
   "metadata": {},
   "source": [
    "#### Result: 32ms (99.45%)"
   ]
  }
 ],
 "metadata": {
  "kernelspec": {
   "display_name": "Python 3",
   "language": "python",
   "name": "python3"
  },
  "language_info": {
   "codemirror_mode": {
    "name": "ipython",
    "version": 3
   },
   "file_extension": ".py",
   "mimetype": "text/x-python",
   "name": "python",
   "nbconvert_exporter": "python",
   "pygments_lexer": "ipython3",
   "version": "3.7.4"
  }
 },
 "nbformat": 4,
 "nbformat_minor": 2
}
