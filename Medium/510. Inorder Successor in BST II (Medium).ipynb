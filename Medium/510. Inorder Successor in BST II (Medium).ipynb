{
 "cells": [
  {
   "cell_type": "markdown",
   "metadata": {},
   "source": [
    "# 510. Inorder Successor in BST II (Medium)"
   ]
  },
  {
   "cell_type": "markdown",
   "metadata": {},
   "source": [
    "<div><p>Given a <code>node</code> in a binary search tree, find&nbsp;the in-order successor of that node in the BST.</p>\n",
    "\n",
    "<p>If that node has no in-order successor, return&nbsp;<code>null</code>.</p>\n",
    "\n",
    "<p>The successor of a <code>node</code>&nbsp;is the node with the smallest key greater than <code>node.val</code>.</p>\n",
    "\n",
    "<p>You will have direct access to the node but not to the root of the tree. Each node will have a reference to its parent node.&nbsp;Below is the definition for <code>Node</code>:</p>\n",
    "\n",
    "<pre>class Node {\n",
    "    public int val;\n",
    "    public Node left;\n",
    "    public Node right;\n",
    "    public Node parent;\n",
    "}\n",
    "</pre>\n",
    "\n",
    "<p>&nbsp;</p>\n",
    "\n",
    "<p><strong>Follow up:</strong></p>\n",
    "\n",
    "<p>Could you solve&nbsp;it without&nbsp;looking up any of the&nbsp;node's values?</p>\n",
    "\n",
    "<p>&nbsp;</p>\n",
    "<p><strong>Example 1:</strong></p>\n",
    "<img alt=\"\" src=\"https://assets.leetcode.com/uploads/2019/01/23/285_example_1.PNG\" style=\"width: 122px; height: 117px;\">\n",
    "<pre><strong>Input:</strong> tree = [2,1,3], node = 1\n",
    "<strong>Output:</strong> 2\n",
    "<strong>Explanation: </strong>1's in-order successor node is 2. Note that both the node and the return value is of Node type.\n",
    "</pre>\n",
    "\n",
    "<p><strong>Example 2:</strong></p>\n",
    "<img alt=\"\" src=\"https://assets.leetcode.com/uploads/2019/01/23/285_example_2.PNG\" style=\"width: 246px; height: 229px;\">\n",
    "<pre><strong>Input:</strong> tree = [5,3,6,2,4,null,null,1], node = 6\n",
    "<strong>Output:</strong> null\n",
    "<strong>Explanation: </strong>There is no in-order successor of the current node, so the answer is null.\n",
    "</pre>\n",
    "\n",
    "<p><strong>Example 3:</strong></p>\n",
    "<img alt=\"\" src=\"https://assets.leetcode.com/uploads/2019/02/02/285_example_34.PNG\" style=\"width: 438px; height: 335px;\">\n",
    "<pre><strong>Input:</strong> tree = [15,6,18,3,7,17,20,2,4,null,13,null,null,null,null,null,null,null,null,9], node = 15\n",
    "<strong>Output:</strong> 17\n",
    "</pre>\n",
    "\n",
    "<p><strong>Example 4:</strong></p>\n",
    "<img alt=\"\" src=\"https://assets.leetcode.com/uploads/2019/02/02/285_example_34.PNG\" style=\"width: 438px; height: 335px;\">\n",
    "<pre><strong>Input:</strong> tree = [15,6,18,3,7,17,20,2,4,null,13,null,null,null,null,null,null,null,null,9], node = 13\n",
    "<strong>Output:</strong> 15\n",
    "</pre>\n",
    "\n",
    "<p><strong>Example 5:</strong></p>\n",
    "\n",
    "<pre><strong>Input:</strong> tree = [0], node = 0\n",
    "<strong>Output:</strong> null\n",
    "</pre>\n",
    "\n",
    "<p>&nbsp;</p>\n",
    "<p><strong>Constraints:</strong></p>\n",
    "\n",
    "<ul>\n",
    "\t<li><code>-10^5 &lt;= Node.val &lt;= 10^5</code></li>\n",
    "\t<li><code>1 &lt;= Number of Nodes &lt;=&nbsp;10^4</code></li>\n",
    "\t<li>All Nodes will have unique values.</li>\n",
    "</ul>\n",
    "</div>"
   ]
  },
  {
   "cell_type": "markdown",
   "metadata": {},
   "source": [
    "## Option 1\n",
    "\n",
    " <p>\n",
    "     <p>\n",
    "Time complexity: O(h) tree height\n",
    "<br>\n",
    "Space complexity: O(1)"
   ]
  },
  {
   "cell_type": "code",
   "execution_count": null,
   "metadata": {
    "scrolled": false
   },
   "outputs": [],
   "source": [
    "\"\"\"\n",
    "# Definition for a Node.\n",
    "class Node:\n",
    "    def __init__(self, val):\n",
    "        self.val = val\n",
    "        self.left = None\n",
    "        self.right = None\n",
    "        self.parent = None\n",
    "\"\"\"\n",
    "class Solution(object):\n",
    "    def inorderSuccessor(self, node):\n",
    "        \"\"\"\n",
    "        :type node: Node\n",
    "        :rtype: Node\n",
    "        \"\"\"\n",
    "        if node.right:\n",
    "            node = node.right\n",
    "            while node.left:  node = node.left\n",
    "            return node\n",
    "        \n",
    "        while node:\n",
    "            if node.parent and node == node.parent.left: return node.parent\n",
    "            node = node.parent\n",
    "        \n",
    "        return node"
   ]
  },
  {
   "cell_type": "markdown",
   "metadata": {},
   "source": [
    "#### Result: 64ms (100%)"
   ]
  }
 ],
 "metadata": {
  "kernelspec": {
   "display_name": "Python 2",
   "language": "python",
   "name": "python2"
  },
  "language_info": {
   "codemirror_mode": {
    "name": "ipython",
    "version": 2
   },
   "file_extension": ".py",
   "mimetype": "text/x-python",
   "name": "python",
   "nbconvert_exporter": "python",
   "pygments_lexer": "ipython2",
   "version": "2.7.16"
  }
 },
 "nbformat": 4,
 "nbformat_minor": 2
}
