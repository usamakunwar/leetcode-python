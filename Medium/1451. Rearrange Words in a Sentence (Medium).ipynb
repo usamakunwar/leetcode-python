{
 "cells": [
  {
   "cell_type": "markdown",
   "metadata": {},
   "source": [
    "# 1451. Rearrange Words in a Sentence (Medium)\n"
   ]
  },
  {
   "cell_type": "markdown",
   "metadata": {},
   "source": [
    "<div><p>Given a sentence&nbsp;<code>text</code> (A&nbsp;<em>sentence</em>&nbsp;is a string of space-separated words) in the following format:</p>\n",
    "\n",
    "<ul>\n",
    "\t<li>First letter is in upper case.</li>\n",
    "\t<li>Each word in <code>text</code> are separated by a single space.</li>\n",
    "</ul>\n",
    "\n",
    "<p>Your task is to rearrange the words in text such that&nbsp;all words are rearranged in an increasing order of their lengths. If two words have the same length, arrange them in their original order.</p>\n",
    "\n",
    "<p>Return the new text&nbsp;following the format shown above.</p>\n",
    "\n",
    "<p>&nbsp;</p>\n",
    "<p><strong>Example 1:</strong></p>\n",
    "\n",
    "<pre><strong>Input:</strong> text = \"Leetcode is cool\"\n",
    "<strong>Output:</strong> \"Is cool leetcode\"\n",
    "<strong>Explanation: </strong>There are 3 words, \"Leetcode\" of length 8, \"is\" of length 2 and \"cool\" of length 4.\n",
    "Output is ordered by length and the new first word starts with capital letter.\n",
    "</pre>\n",
    "\n",
    "<p><strong>Example 2:</strong></p>\n",
    "\n",
    "<pre><strong>Input:</strong> text = \"Keep calm and code on\"\n",
    "<strong>Output:</strong> \"On and keep calm code\"\n",
    "<strong>Explanation: </strong>Output is ordered as follows:\n",
    "\"On\" 2 letters.\n",
    "\"and\" 3 letters.\n",
    "\"keep\" 4 letters in case of tie order by position in original text.\n",
    "\"calm\" 4 letters.\n",
    "\"code\" 4 letters.\n",
    "</pre>\n",
    "\n",
    "<p><strong>Example 3:</strong></p>\n",
    "\n",
    "<pre><strong>Input:</strong> text = \"To be or not to be\"\n",
    "<strong>Output:</strong> \"To be or to be not\"\n",
    "</pre>\n",
    "\n",
    "<p>&nbsp;</p>\n",
    "<p><strong>Constraints:</strong></p>\n",
    "\n",
    "<ul>\n",
    "\t<li><code>text</code> begins with a capital letter and then contains lowercase letters and single space between words.</li>\n",
    "\t<li><code>1 &lt;= text.length &lt;= 10^5</code></li>\n",
    "</ul>\n",
    "</div>"
   ]
  },
  {
   "cell_type": "markdown",
   "metadata": {},
   "source": [
    "## Option 1\n",
    "<p>    \n",
    " <p> <p>\n",
    "Time complexity: O(nlogn)\n",
    "    <br>\n",
    "Space complexity: O(1)\n"
   ]
  },
  {
   "cell_type": "code",
   "execution_count": 80,
   "metadata": {
    "scrolled": false
   },
   "outputs": [
    {
     "data": {
      "text/plain": [
       "'On and keep calm code'"
      ]
     },
     "execution_count": 80,
     "metadata": {},
     "output_type": "execute_result"
    }
   ],
   "source": [
    "class Solution(object):\n",
    "    def arrangeWords(self, text):\n",
    "        def s(x,y):\n",
    "            if len(x) == len(y): return 0\n",
    "            if len(x) < len(y): return -1\n",
    "            return 1\n",
    "        text = sorted(text.split(' '), cmp=lambda x,y: s(x,y))\n",
    "        return ' '.join(text).capitalize()\n",
    "        \n",
    "\n",
    "Solution().arrangeWords(\"Keep calm and code on\")\n"
   ]
  },
  {
   "cell_type": "markdown",
   "metadata": {},
   "source": [
    "#### Result: 120ms (26.60%)"
   ]
  }
 ],
 "metadata": {
  "kernelspec": {
   "display_name": "Python 2",
   "language": "python",
   "name": "python2"
  },
  "language_info": {
   "codemirror_mode": {
    "name": "ipython",
    "version": 2
   },
   "file_extension": ".py",
   "mimetype": "text/x-python",
   "name": "python",
   "nbconvert_exporter": "python",
   "pygments_lexer": "ipython2",
   "version": "2.7.16"
  }
 },
 "nbformat": 4,
 "nbformat_minor": 2
}
