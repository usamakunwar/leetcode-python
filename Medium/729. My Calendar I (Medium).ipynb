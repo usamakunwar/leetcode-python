{
 "cells": [
  {
   "cell_type": "markdown",
   "metadata": {},
   "source": [
    "# 729. My Calendar I (Medium)"
   ]
  },
  {
   "cell_type": "markdown",
   "metadata": {},
   "source": [
    "<div><p>Implement a <code>MyCalendar</code> class to store your events. A new event can be added if adding the event will not cause a double booking.</p>\n",
    "\n",
    "<p>Your class will have the method, <code>book(int start, int end)</code>. Formally, this represents a booking on the half open interval <code>[start, end)</code>, the range of real numbers <code>x</code> such that <code>start &lt;= x &lt; end</code>.</p>\n",
    "\n",
    "<p>A <i>double booking</i> happens when two events have some non-empty intersection (ie., there is some time that is common to both events.)</p>\n",
    "\n",
    "<p>For each call to the method <code>MyCalendar.book</code>, return <code>true</code> if the event can be added to the calendar successfully without causing a double booking. Otherwise, return <code>false</code> and do not add the event to the calendar.</p>\n",
    "Your class will be called like this: <code>MyCalendar cal = new MyCalendar();</code> <code>MyCalendar.book(start, end)</code>\n",
    "\n",
    "<p><b>Example 1:</b></p>\n",
    "\n",
    "<pre>MyCalendar();\n",
    "MyCalendar.book(10, 20); // returns true\n",
    "MyCalendar.book(15, 25); // returns false\n",
    "MyCalendar.book(20, 30); // returns true\n",
    "<b>Explanation:</b> \n",
    "The first event can be booked.  The second can't because time 15 is already booked by another event.\n",
    "The third event can be booked, as the first event takes every time less than 20, but not including 20.\n",
    "</pre>\n",
    "\n",
    "<p>&nbsp;</p>\n",
    "\n",
    "<p><b>Note:</b></p>\n",
    "\n",
    "<ul>\n",
    "\t<li>The number of calls to <code>MyCalendar.book</code> per test case will be at most <code>1000</code>.</li>\n",
    "\t<li>In calls to <code>MyCalendar.book(start, end)</code>, <code>start</code> and <code>end</code> are integers in the range <code>[0, 10^9]</code>.</li>\n",
    "</ul>\n",
    "\n",
    "<p>&nbsp;</p>\n",
    "</div>"
   ]
  },
  {
   "cell_type": "markdown",
   "metadata": {},
   "source": [
    "## Option 1\n",
    " <p>    \n",
    "<p>\n",
    "    Linked list\n",
    "    <p>       \n",
    "<p>\n",
    "        \n",
    "Time complexity: O(n) (book)\n",
    "    <br>\n",
    "Space complexity: O(n)\n"
   ]
  },
  {
   "cell_type": "code",
   "execution_count": null,
   "metadata": {},
   "outputs": [],
   "source": [
    "class ListNode(object):\n",
    "    def __init__(self, start, end):\n",
    "        self.start = start\n",
    "        self.end = end\n",
    "        self.next = None\n",
    "        \n",
    "class MyCalendar(object):\n",
    "\n",
    "    def __init__(self):\n",
    "        self.list = None\n",
    "        \n",
    "\n",
    "    def book(self, start, end):\n",
    "        if not self.list:\n",
    "            self.list = ListNode(start,end)        \n",
    "            return True\n",
    "        else:\n",
    "            prev, curr = None, self.list\n",
    "            while curr and curr.end <= start: \n",
    "                prev = curr\n",
    "                curr = curr.next\n",
    "            \n",
    "            if prev and start < prev.end: return False\n",
    "            if curr and end > curr.start: return False\n",
    "            \n",
    "            node = ListNode(start,end)\n",
    "            if prev:\n",
    "                prev.next = node\n",
    "            else:\n",
    "                self.list = node\n",
    "                \n",
    "            node.next = curr\n",
    "            return True"
   ]
  },
  {
   "cell_type": "markdown",
   "metadata": {},
   "source": [
    "#### Result:  52ms (25.15%)"
   ]
  },
  {
   "cell_type": "markdown",
   "metadata": {},
   "source": [
    "## Option 2\n",
    " <p>    \n",
    "<p>\n",
    "    Binary search tree\n",
    "    <p>    \n",
    "<p>\n",
    "        \n",
    "Time complexity: O()\n",
    "    <br>\n",
    "Space complexity: O()\n"
   ]
  },
  {
   "cell_type": "code",
   "execution_count": null,
   "metadata": {},
   "outputs": [],
   "source": []
  },
  {
   "cell_type": "markdown",
   "metadata": {},
   "source": [
    "#### Result:  56ms (22.70%)"
   ]
  }
 ],
 "metadata": {
  "kernelspec": {
   "display_name": "Python 2",
   "language": "python",
   "name": "python2"
  },
  "language_info": {
   "codemirror_mode": {
    "name": "ipython",
    "version": 2
   },
   "file_extension": ".py",
   "mimetype": "text/x-python",
   "name": "python",
   "nbconvert_exporter": "python",
   "pygments_lexer": "ipython2",
   "version": "2.7.16"
  }
 },
 "nbformat": 4,
 "nbformat_minor": 2
}
