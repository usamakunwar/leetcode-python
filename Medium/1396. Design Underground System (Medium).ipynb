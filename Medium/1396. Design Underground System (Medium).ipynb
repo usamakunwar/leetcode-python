{
 "cells": [
  {
   "cell_type": "markdown",
   "metadata": {},
   "source": [
    "# 1396. Design Underground System (Medium)"
   ]
  },
  {
   "cell_type": "markdown",
   "metadata": {},
   "source": [
    "<div><p>Implement the class <code>UndergroundSystem</code> that supports three methods:</p>\n",
    "\n",
    "<p>1.<code>&nbsp;checkIn(int id, string stationName, int t)</code></p>\n",
    "\n",
    "<ul>\n",
    "\t<li>A customer with id card equal to <code>id</code>, gets in the station <code>stationName</code> at time <code>t</code>.</li>\n",
    "\t<li>A customer&nbsp;can only be checked into one place at a time.</li>\n",
    "</ul>\n",
    "\n",
    "<p>2.<code>&nbsp;checkOut(int id, string stationName, int t)</code></p>\n",
    "\n",
    "<ul>\n",
    "\t<li>A customer with id card equal to <code>id</code>, gets out from the station <code>stationName</code> at time <code>t</code>.</li>\n",
    "</ul>\n",
    "\n",
    "<p>3.&nbsp;<code>getAverageTime(string startStation, string endStation)</code>&nbsp;</p>\n",
    "\n",
    "<ul>\n",
    "\t<li>Returns the average time to travel between the <code>startStation</code> and the <code>endStation</code>.</li>\n",
    "\t<li>The average time is computed from all the previous traveling from <code>startStation</code> to <code>endStation</code> that happened <strong>directly</strong>.</li>\n",
    "\t<li>Call to <code>getAverageTime</code> is always valid.</li>\n",
    "</ul>\n",
    "\n",
    "<p>You can assume all calls to <code>checkIn</code> and <code>checkOut</code> methods are consistent. That is, if a customer gets in at time <strong>t<sub>1</sub></strong> at some station, then it gets out at time <strong>t<sub>2</sub></strong> with <strong>t<sub>2</sub> &gt; t<sub>1</sub></strong>.&nbsp;All events happen in chronological order.</p>\n",
    "\n",
    "<p>&nbsp;</p>\n",
    "<p><strong>Example 1:</strong></p>\n",
    "\n",
    "<pre><strong>Input</strong>\n",
    "[\"UndergroundSystem\",\"checkIn\",\"checkIn\",\"checkIn\",\"checkOut\",\"checkOut\",\"checkOut\",\"getAverageTime\",\"getAverageTime\",\"checkIn\",\"getAverageTime\",\"checkOut\",\"getAverageTime\"]\n",
    "[[],[45,\"Leyton\",3],[32,\"Paradise\",8],[27,\"Leyton\",10],[45,\"Waterloo\",15],[27,\"Waterloo\",20],[32,\"Cambridge\",22],[\"Paradise\",\"Cambridge\"],[\"Leyton\",\"Waterloo\"],[10,\"Leyton\",24],[\"Leyton\",\"Waterloo\"],[10,\"Waterloo\",38],[\"Leyton\",\"Waterloo\"]]\n",
    "\n",
    "<strong>Output</strong>\n",
    "[null,null,null,null,null,null,null,14.00000,11.00000,null,11.00000,null,12.00000]\n",
    "\n",
    "<strong>Explanation</strong>\n",
    "UndergroundSystem undergroundSystem = new UndergroundSystem();\n",
    "undergroundSystem.checkIn(45, \"Leyton\", 3);\n",
    "undergroundSystem.checkIn(32, \"Paradise\", 8);\n",
    "undergroundSystem.checkIn(27, \"Leyton\", 10);\n",
    "undergroundSystem.checkOut(45, \"Waterloo\", 15);\n",
    "undergroundSystem.checkOut(27, \"Waterloo\", 20);\n",
    "undergroundSystem.checkOut(32, \"Cambridge\", 22);\n",
    "undergroundSystem.getAverageTime(\"Paradise\", \"Cambridge\"); &nbsp; &nbsp; &nbsp; // return 14.00000. There was only one travel from \"Paradise\" (at time 8) to \"Cambridge\" (at time 22)\n",
    "undergroundSystem.getAverageTime(\"Leyton\", \"Waterloo\"); &nbsp; &nbsp; &nbsp; &nbsp; &nbsp;// return 11.00000. There were two travels from \"Leyton\" to \"Waterloo\", a customer with id=45 from time=3 to time=15 and a customer with id=27 from time=10 to time=20. So the average time is ( (15-3) + (20-10) ) / 2 = 11.00000\n",
    "undergroundSystem.checkIn(10, \"Leyton\", 24);\n",
    "undergroundSystem.getAverageTime(\"Leyton\", \"Waterloo\"); &nbsp; &nbsp; &nbsp; &nbsp; &nbsp;// return 11.00000\n",
    "undergroundSystem.checkOut(10, \"Waterloo\", 38);\n",
    "undergroundSystem.getAverageTime(\"Leyton\", \"Waterloo\"); &nbsp; &nbsp; &nbsp; &nbsp; &nbsp;// return 12.00000\n",
    "</pre>\n",
    "\n",
    "<p><strong>Example 2:</strong></p>\n",
    "\n",
    "<pre><strong>Input</strong>\n",
    "[\"UndergroundSystem\",\"checkIn\",\"checkOut\",\"getAverageTime\",\"checkIn\",\"checkOut\",\"getAverageTime\",\"checkIn\",\"checkOut\",\"getAverageTime\"]\n",
    "[[],[10,\"Leyton\",3],[10,\"Paradise\",8],[\"Leyton\",\"Paradise\"],[5,\"Leyton\",10],[5,\"Paradise\",16],[\"Leyton\",\"Paradise\"],[2,\"Leyton\",21],[2,\"Paradise\",30],[\"Leyton\",\"Paradise\"]]\n",
    "\n",
    "<strong>Output</strong>\n",
    "[null,null,null,5.00000,null,null,5.50000,null,null,6.66667]\n",
    "\n",
    "<strong>Explanation</strong>\n",
    "UndergroundSystem undergroundSystem = new UndergroundSystem();\n",
    "undergroundSystem.checkIn(10, \"Leyton\", 3);\n",
    "undergroundSystem.checkOut(10, \"Paradise\", 8);\n",
    "undergroundSystem.getAverageTime(\"Leyton\", \"Paradise\"); // return 5.00000\n",
    "undergroundSystem.checkIn(5, \"Leyton\", 10);\n",
    "undergroundSystem.checkOut(5, \"Paradise\", 16);\n",
    "undergroundSystem.getAverageTime(\"Leyton\", \"Paradise\"); // return 5.50000\n",
    "undergroundSystem.checkIn(2, \"Leyton\", 21);\n",
    "undergroundSystem.checkOut(2, \"Paradise\", 30);\n",
    "undergroundSystem.getAverageTime(\"Leyton\", \"Paradise\"); // return 6.66667\n",
    "</pre>\n",
    "\n",
    "<p>&nbsp;</p>\n",
    "<p><strong>Constraints:</strong></p>\n",
    "\n",
    "<ul>\n",
    "\t<li>There will be at most <code><font face=\"monospace\">20000</font></code>&nbsp;operations.</li>\n",
    "\t<li><code>1 &lt;= id, t &lt;= 10^6</code></li>\n",
    "\t<li>All strings consist of uppercase, lowercase English letters and digits.</li>\n",
    "\t<li><code>1 &lt;=&nbsp;stationName.length &lt;= 10</code></li>\n",
    "\t<li>Answers within&nbsp;<code>10^-5</code>&nbsp;of the actual value will be accepted as correct.</li>\n",
    "</ul>\n",
    "</div>"
   ]
  },
  {
   "cell_type": "markdown",
   "metadata": {},
   "source": [
    "## Option 1\n",
    "<p>             \n",
    "           \n",
    "Time complexity: O(1)\n",
    "    <br>\n",
    "Space complexity: O(n)\n"
   ]
  },
  {
   "cell_type": "code",
   "execution_count": null,
   "metadata": {},
   "outputs": [],
   "source": [
    "class UndergroundSystem(object):\n",
    "\n",
    "    def __init__(self):\n",
    "        self.checkin = {}\n",
    "        self.log = {}        \n",
    "\n",
    "    def checkIn(self, id, a, t):\n",
    "        self.checkin[id] = (a,t)\n",
    "\n",
    "    def checkOut(self, id, b, t):\n",
    "        a = self.checkin[id][0]\n",
    "        time = self.log[(a,b)][0] if (a,b) in self.log else 0\n",
    "        count = self.log[(a,b)][1] if (a,b) in self.log else 0\n",
    "        \n",
    "        self.log[(a,b)] = (time + t-self.checkin[id][1], count+1)\n",
    "        \n",
    "    def getAverageTime(self, a, b):\n",
    "        return self.log[(a,b)][0]/float(self.log[(a,b)][1])\n"
   ]
  },
  {
   "cell_type": "markdown",
   "metadata": {},
   "source": [
    "#### Result: 248ms (77.57%)"
   ]
  }
 ],
 "metadata": {
  "kernelspec": {
   "display_name": "Python 2",
   "language": "python",
   "name": "python2"
  },
  "language_info": {
   "codemirror_mode": {
    "name": "ipython",
    "version": 2
   },
   "file_extension": ".py",
   "mimetype": "text/x-python",
   "name": "python",
   "nbconvert_exporter": "python",
   "pygments_lexer": "ipython2",
   "version": "2.7.16"
  }
 },
 "nbformat": 4,
 "nbformat_minor": 2
}
