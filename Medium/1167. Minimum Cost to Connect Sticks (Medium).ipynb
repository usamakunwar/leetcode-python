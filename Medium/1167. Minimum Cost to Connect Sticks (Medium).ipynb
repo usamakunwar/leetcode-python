{
 "cells": [
  {
   "cell_type": "markdown",
   "metadata": {},
   "source": [
    "# 1167. Minimum Cost to Connect Sticks (Medium)"
   ]
  },
  {
   "cell_type": "markdown",
   "metadata": {},
   "source": [
    "<div><p>You have some&nbsp;<code>sticks</code>&nbsp;with&nbsp;positive integer lengths.</p>\n",
    "\n",
    "<p>You can connect any two sticks of lengths <code>X</code> and <code>Y</code> into one stick&nbsp;by paying a cost of <code>X + Y</code>.&nbsp; You perform this action until there is one stick remaining.</p>\n",
    "\n",
    "<p>Return&nbsp;the minimum cost of connecting all the given <code>sticks</code> into one stick in this way.</p>\n",
    "\n",
    "<p>&nbsp;</p>\n",
    "<p><strong>Example 1:</strong></p>\n",
    "<pre><strong>Input:</strong> sticks = [2,4,3]\n",
    "<strong>Output:</strong> 14\n",
    "</pre><p><strong>Example 2:</strong></p>\n",
    "<pre><strong>Input:</strong> sticks = [1,8,3,5]\n",
    "<strong>Output:</strong> 30\n",
    "</pre>\n",
    "<p>&nbsp;</p>\n",
    "<p><strong>Constraints:</strong></p>\n",
    "\n",
    "<ul>\n",
    "\t<li><code><span>1 &lt;= sticks.length &lt;= 10^4</span></code></li>\n",
    "\t<li><code><span>1 &lt;= sticks[i] &lt;= 10^4</span></code></li>\n",
    "</ul>\n",
    "</div>"
   ]
  },
  {
   "cell_type": "markdown",
   "metadata": {},
   "source": [
    "## Option 1\n",
    "<p>\n",
    "<li>So to keep the cost a minimal we would want to build the sticks smallest to largest.\n",
    "<li>The trick: once a stick has been joined, there could be other joins that are smaller in the queue.\n",
    "<li>Eg. [3,8,9,10] the first join is 3+8=11, 11 is bigger than 9, so next join should be 9+10 (not 11+9)\n",
    "<p>\n",
    "<p>\n",
    "Time complexity = O(nlogn)\n",
    "<br>\n",
    "Space complexity = O(1)"
   ]
  },
  {
   "cell_type": "code",
   "execution_count": null,
   "metadata": {},
   "outputs": [],
   "source": [
    "import collections, heapq\n",
    "class Solution(object):\n",
    "    def connectSticks(self, sticks):\n",
    "        heapq.heapify(sticks)\n",
    "        cost = 0\n",
    "        while len(sticks) > 1:\n",
    "            n = heapq.heappop(sticks) + heapq.heappop(sticks)\n",
    "            heapq.heappush(sticks,n)\n",
    "            cost += n\n",
    "        return cost\n",
    "Solution().connectSticks([3354,4316,3259,4904,4598,474,3166,6322,8080,9009])\n",
    "        "
   ]
  },
  {
   "cell_type": "markdown",
   "metadata": {},
   "source": [
    "#### Result: 832ms (40.21%)"
   ]
  }
 ],
 "metadata": {
  "kernelspec": {
   "display_name": "Python 2",
   "language": "python",
   "name": "python2"
  },
  "language_info": {
   "codemirror_mode": {
    "name": "ipython",
    "version": 2
   },
   "file_extension": ".py",
   "mimetype": "text/x-python",
   "name": "python",
   "nbconvert_exporter": "python",
   "pygments_lexer": "ipython2",
   "version": "2.7.16"
  }
 },
 "nbformat": 4,
 "nbformat_minor": 2
}
