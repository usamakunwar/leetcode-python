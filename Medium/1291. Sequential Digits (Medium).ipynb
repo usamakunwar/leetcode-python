{
 "cells": [
  {
   "cell_type": "markdown",
   "metadata": {},
   "source": [
    "# 1291. Sequential Digits (Medium)"
   ]
  },
  {
   "cell_type": "markdown",
   "metadata": {},
   "source": [
    "<div><p>An&nbsp;integer has <em>sequential digits</em> if and only if each digit in the number is one more than the previous digit.</p>\n",
    "\n",
    "<p>Return a <strong>sorted</strong> list of all the integers&nbsp;in the range <code>[low, high]</code>&nbsp;inclusive that have sequential digits.</p>\n",
    "\n",
    "<p>&nbsp;</p>\n",
    "<p><strong>Example 1:</strong></p>\n",
    "<pre><strong>Input:</strong> low = 100, high = 300\n",
    "<strong>Output:</strong> [123,234]\n",
    "</pre><p><strong>Example 2:</strong></p>\n",
    "<pre><strong>Input:</strong> low = 1000, high = 13000\n",
    "<strong>Output:</strong> [1234,2345,3456,4567,5678,6789,12345]\n",
    "</pre>\n",
    "<p>&nbsp;</p>\n",
    "<p><strong>Constraints:</strong></p>\n",
    "\n",
    "<ul>\n",
    "\t<li><code>10 &lt;= low &lt;= high &lt;= 10^9</code></li>\n",
    "</ul>\n",
    "</div>"
   ]
  },
  {
   "cell_type": "markdown",
   "metadata": {},
   "source": [
    "## Option 1\n",
    " <p>   "
   ]
  },
  {
   "cell_type": "code",
   "execution_count": null,
   "metadata": {},
   "outputs": [],
   "source": [
    "import collections\n",
    "class Solution(object):\n",
    "    def sequentialDigits(self, low, high):\n",
    "        curr = 12\n",
    "        n = 10\n",
    "        res = []\n",
    "        while curr <= high:\n",
    "            if curr >= low:\n",
    "                res.append(curr)\n",
    "            last = curr%10\n",
    "            if last == 9:\n",
    "                new = 0\n",
    "                while curr:\n",
    "                    new = (new*10) + 10-curr%10\n",
    "                    curr /= 10\n",
    "                curr = new*10+ new%10+1\n",
    "                n *= 10\n",
    "            else:\n",
    "                curr = (curr%n)*10 + last+1\n",
    "            \n",
    "        return res\n",
    "        \n",
    "Solution().sequentialDigits(10,30000)\n",
    "        \n"
   ]
  },
  {
   "cell_type": "markdown",
   "metadata": {},
   "source": [
    "#### Result:  30ms (5.66%)"
   ]
  }
 ],
 "metadata": {
  "kernelspec": {
   "display_name": "Python 2",
   "language": "python",
   "name": "python2"
  },
  "language_info": {
   "codemirror_mode": {
    "name": "ipython",
    "version": 2
   },
   "file_extension": ".py",
   "mimetype": "text/x-python",
   "name": "python",
   "nbconvert_exporter": "python",
   "pygments_lexer": "ipython2",
   "version": "2.7.16"
  }
 },
 "nbformat": 4,
 "nbformat_minor": 2
}
