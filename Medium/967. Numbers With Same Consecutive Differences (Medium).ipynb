{
 "cells": [
  {
   "cell_type": "markdown",
   "metadata": {},
   "source": [
    "# 967. Numbers With Same Consecutive Differences (Medium)"
   ]
  },
  {
   "cell_type": "markdown",
   "metadata": {},
   "source": [
    "<div><p>Return all <strong>non-negative</strong> integers of length <code>N</code> such that the absolute difference between every two consecutive digits is <code>K</code>.</p>\n",
    "\n",
    "<p>Note that <strong>every</strong> number in the answer <strong>must not</strong> have leading zeros <strong>except</strong> for the number <code>0</code> itself. For example, <code>01</code> has one leading zero and is invalid, but <code>0</code> is valid.</p>\n",
    "\n",
    "<p>You may return the answer in any order.</p>\n",
    "\n",
    "<p>&nbsp;</p>\n",
    "\n",
    "<p><strong>Example 1:</strong></p>\n",
    "\n",
    "<pre><strong>Input: </strong>N = <span id=\"example-input-1-1\">3</span>, K = <span id=\"example-input-1-2\">7</span>\n",
    "<strong>Output: </strong><span id=\"example-output-1\">[181,292,707,818,929]</span>\n",
    "<strong>Explanation: </strong>Note that 070 is not a valid number, because it has leading zeroes.\n",
    "</pre>\n",
    "\n",
    "<div>\n",
    "<p><strong>Example 2:</strong></p>\n",
    "\n",
    "<pre><strong>Input: </strong>N = <span id=\"example-input-2-1\">2</span>, K = <span id=\"example-input-2-2\">1</span>\n",
    "<strong>Output: </strong><span id=\"example-output-2\">[10,12,21,23,32,34,43,45,54,56,65,67,76,78,87,89,98]</span></pre>\n",
    "\n",
    "<p>&nbsp;</p>\n",
    "</div>\n",
    "\n",
    "<p><strong>Note:</strong></p>\n",
    "\n",
    "<ol>\n",
    "\t<li><code>1 &lt;= N &lt;= 9</code></li>\n",
    "\t<li><code>0 &lt;= K &lt;= 9</code></li>\n",
    "</ol>\n",
    "</div>"
   ]
  },
  {
   "cell_type": "markdown",
   "metadata": {},
   "source": [
    "## Option 1\n",
    " <p> \n",
    "    DFS\n",
    "    <p>\n",
    "    <p>\n",
    "        <p>\n",
    "        \n",
    "Time complexity: O(2^n)\n",
    "    <br>\n",
    "Space complexity: O(2^n)\n"
   ]
  },
  {
   "cell_type": "code",
   "execution_count": null,
   "metadata": {
    "scrolled": false
   },
   "outputs": [],
   "source": [
    "class Solution(object):\n",
    "    def numsSameConsecDiff(self, N, K):\n",
    "        self.res = []\n",
    "        def search(i, curr):\n",
    "            if K == 0:#When K=0 all we have is a repeated number\n",
    "                self.res.append(int(curr*N))\n",
    "                return\n",
    "            if len(curr) == N:\n",
    "                self.res.append(int(curr))\n",
    "                return\n",
    "            \n",
    "            if i+K <= 9:\n",
    "                search(i+K, curr+str(i+K))\n",
    "            if i-K >= 0:\n",
    "                search(i-K, curr+str(i-K))\n",
    "        \n",
    "        \n",
    "        for i in range(N!=1, 10): #When N=1 we want to start with 0 (as 0 is a valid integer)\n",
    "            search(i, str(i))\n",
    "        \n",
    "        return self.res\n",
    "                \n",
    "Solution().numsSameConsecDiff(2,0)\n"
   ]
  },
  {
   "cell_type": "markdown",
   "metadata": {},
   "source": [
    "#### Result: 20ms (95.31%)"
   ]
  }
 ],
 "metadata": {
  "kernelspec": {
   "display_name": "Python 2",
   "language": "python",
   "name": "python2"
  },
  "language_info": {
   "codemirror_mode": {
    "name": "ipython",
    "version": 2
   },
   "file_extension": ".py",
   "mimetype": "text/x-python",
   "name": "python",
   "nbconvert_exporter": "python",
   "pygments_lexer": "ipython2",
   "version": "2.7.16"
  }
 },
 "nbformat": 4,
 "nbformat_minor": 2
}
