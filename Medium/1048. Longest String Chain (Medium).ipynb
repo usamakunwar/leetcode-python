{
 "cells": [
  {
   "cell_type": "markdown",
   "metadata": {},
   "source": [
    "# 1048. Longest String Chain (Medium)"
   ]
  },
  {
   "cell_type": "markdown",
   "metadata": {},
   "source": [
    "<div><p>Given a list of words, each word consists of English lowercase letters.</p>\n",
    "\n",
    "<p>Let's say <code>word1</code> is a predecessor of <code>word2</code>&nbsp;if and only if we can add exactly one letter anywhere in <code>word1</code> to make it equal to <code>word2</code>.&nbsp; For example,&nbsp;<code>\"abc\"</code>&nbsp;is a predecessor of <code>\"abac\"</code>.</p>\n",
    "\n",
    "<p>A <em>word chain&nbsp;</em>is a sequence of words <code>[word_1, word_2, ..., word_k]</code>&nbsp;with <code>k &gt;= 1</code>,&nbsp;where <code>word_1</code> is a predecessor of <code>word_2</code>, <code>word_2</code> is a predecessor of <code>word_3</code>, and so on.</p>\n",
    "\n",
    "<p>Return the longest possible length of a word chain with words chosen from the given list of <code>words</code>.</p>\n",
    "\n",
    "<p>&nbsp;</p>\n",
    "\n",
    "<p><strong>Example 1:</strong></p>\n",
    "\n",
    "<pre><strong>Input: </strong><span id=\"example-input-1-1\">[\"a\",\"b\",\"ba\",\"bca\",\"bda\",\"bdca\"]</span>\n",
    "<strong>Output: </strong><span id=\"example-output-1\">4\n",
    "<strong>Explanation</strong>: one of </span>the longest word chain is \"a\",\"ba\",\"bda\",\"bdca\".\n",
    "</pre>\n",
    "\n",
    "<p>&nbsp;</p>\n",
    "\n",
    "<p><strong>Note:</strong></p>\n",
    "\n",
    "<ol>\n",
    "\t<li><code>1 &lt;= words.length &lt;= 1000</code></li>\n",
    "\t<li><code>1 &lt;= words[i].length &lt;= 16</code></li>\n",
    "\t<li><code>words[i]</code> only consists of English lowercase letters.</li>\n",
    "</ol>\n",
    "\n",
    "<div>\n",
    "<p>&nbsp;</p>\n",
    "</div></div>"
   ]
  },
  {
   "cell_type": "markdown",
   "metadata": {},
   "source": [
    "## Option 1\n",
    "\n",
    "Dynamic Programming. The key is that word2 is a predecessor of word1 if you can remove 1 letter. That means it cannot be of a random order of characters. SO remove one character at a time and check for its existance\n",
    "<p>\n",
    "Time complexity = O(nlogn * nl^2) l = average lenght of a word\n",
    "<br>\n",
    "Space complexity = O(n)"
   ]
  },
  {
   "cell_type": "code",
   "execution_count": 46,
   "metadata": {
    "scrolled": true
   },
   "outputs": [
    {
     "data": {
      "text/plain": [
       "4"
      ]
     },
     "execution_count": 46,
     "metadata": {},
     "output_type": "execute_result"
    }
   ],
   "source": [
    "class Solution:\n",
    "    def longestStrChain(self, words: [str]) -> int:\n",
    "        words.sort(key=len)\n",
    "        k = {}\n",
    "        for word in words:\n",
    "            k[word] = 1\n",
    "            for i in range(len(word)):\n",
    "                former = word[:i] + word[i+1:]\n",
    "                if former in k:\n",
    "                    k[word] = k[former] + 1\n",
    "        return max(k.values())\n",
    "\n",
    "Solution().longestStrChain([\"a\",\"b\",\"ba\",\"bca\",\"bda\",\"bdca\"])        "
   ]
  },
  {
   "cell_type": "markdown",
   "metadata": {},
   "source": [
    "#### Result:  128ms (92.18%)"
   ]
  }
 ],
 "metadata": {
  "kernelspec": {
   "display_name": "Python 3",
   "language": "python",
   "name": "python3"
  },
  "language_info": {
   "codemirror_mode": {
    "name": "ipython",
    "version": 3
   },
   "file_extension": ".py",
   "mimetype": "text/x-python",
   "name": "python",
   "nbconvert_exporter": "python",
   "pygments_lexer": "ipython3",
   "version": "3.7.4"
  }
 },
 "nbformat": 4,
 "nbformat_minor": 2
}
