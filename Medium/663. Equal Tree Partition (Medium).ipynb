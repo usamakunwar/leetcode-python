{
 "cells": [
  {
   "cell_type": "markdown",
   "metadata": {},
   "source": [
    "# 663. Equal Tree Partition (Medium)\n"
   ]
  },
  {
   "cell_type": "markdown",
   "metadata": {},
   "source": [
    "<div><p>\n",
    "Given a binary tree with <code>n</code> nodes, your task is to check if it's possible to partition the tree to two trees which have the equal sum of values after removing <b>exactly</b> one edge on the original tree.\n",
    "</p>\n",
    "\n",
    "<p><b>Example 1:</b><br>\n",
    "</p><pre><b>Input:</b>     \n",
    "    5\n",
    "   / \\\n",
    "  10 10\n",
    "    /  \\\n",
    "   2   3\n",
    "\n",
    "<b>Output:</b> True\n",
    "<b>Explanation:</b> \n",
    "    5\n",
    "   / \n",
    "  10\n",
    "      \n",
    "Sum: 15\n",
    "\n",
    "   10\n",
    "  /  \\\n",
    " 2    3\n",
    "\n",
    "Sum: 15\n",
    "</pre>\n",
    "<p></p>\n",
    "\n",
    "\n",
    "<p><b>Example 2:</b><br>\n",
    "</p><pre><b>Input:</b>     \n",
    "    1\n",
    "   / \\\n",
    "  2  10\n",
    "    /  \\\n",
    "   2   20\n",
    "\n",
    "<b>Output:</b> False\n",
    "<b>Explanation:</b> You can't split the tree into two trees with equal sum after removing exactly one edge on the tree.\n",
    "</pre>\n",
    "<p></p>\n",
    "\n",
    "<p><b>Note:</b><br>\n",
    "</p><ol>\n",
    "<li>The range of tree node value is in the range of [-100000, 100000].</li>\n",
    "<li>1 &lt;= n &lt;= 10000</li>\n",
    "</ol>\n",
    "<p></p></div>"
   ]
  },
  {
   "cell_type": "markdown",
   "metadata": {},
   "source": [
    "## Option 1\n",
    "\n",
    "DFS, do a search to make a list of all totals at every node. Then if total/2 exists in the list the split can happen, else not\n",
    "<p>\n",
    "Time complexity = O(n)\n",
    "<br>\n",
    "Space complexity = O(n)"
   ]
  },
  {
   "cell_type": "code",
   "execution_count": null,
   "metadata": {
    "scrolled": false
   },
   "outputs": [],
   "source": [
    "# Definition for a binary tree node.\n",
    "# class TreeNode:\n",
    "#     def __init__(self, x):\n",
    "#         self.val = x\n",
    "#         self.left = None\n",
    "#         self.right = None\n",
    "\n",
    "class Solution:\n",
    "    def checkEqualTree(self, root: TreeNode) -> bool:\n",
    "        seen = []\n",
    "        def dfs(node):\n",
    "            if not node: return 0\n",
    "            seen.append(dfs(node.left)+dfs(node.right)+node.val)\n",
    "            return seen[-1]\n",
    "        \n",
    "        total_sum = dfs(root)\n",
    "        seen.pop()\n",
    "        return total_sum/2 in seen"
   ]
  },
  {
   "cell_type": "markdown",
   "metadata": {},
   "source": [
    "#### Result:  72ms (76.92%)"
   ]
  }
 ],
 "metadata": {
  "kernelspec": {
   "display_name": "Python 3",
   "language": "python",
   "name": "python3"
  },
  "language_info": {
   "codemirror_mode": {
    "name": "ipython",
    "version": 3
   },
   "file_extension": ".py",
   "mimetype": "text/x-python",
   "name": "python",
   "nbconvert_exporter": "python",
   "pygments_lexer": "ipython3",
   "version": "3.7.4"
  }
 },
 "nbformat": 4,
 "nbformat_minor": 2
}
