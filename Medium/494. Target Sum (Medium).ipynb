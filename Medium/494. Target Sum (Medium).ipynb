{
 "cells": [
  {
   "cell_type": "markdown",
   "metadata": {},
   "source": [
    "# 494. Target Sum (Medium)"
   ]
  },
  {
   "cell_type": "markdown",
   "metadata": {},
   "source": [
    "<div><p>You are given a list of non-negative integers, a1, a2, ..., an, and a target, S. Now you have 2 symbols <code>+</code> and <code>-</code>. For each integer, you should choose one from <code>+</code> and <code>-</code> as its new symbol.</p>\n",
    "\n",
    "<p>Find out how many ways to assign symbols to make sum of integers equal to target S.</p>\n",
    "\n",
    "<p><b>Example 1:</b></p>\n",
    "\n",
    "<pre><b>Input:</b> nums is [1, 1, 1, 1, 1], S is 3. \n",
    "<b>Output:</b> 5\n",
    "<b>Explanation:</b> \n",
    "\n",
    "-1+1+1+1+1 = 3\n",
    "+1-1+1+1+1 = 3\n",
    "+1+1-1+1+1 = 3\n",
    "+1+1+1-1+1 = 3\n",
    "+1+1+1+1-1 = 3\n",
    "\n",
    "There are 5 ways to assign symbols to make the sum of nums be target 3.\n",
    "</pre>\n",
    "\n",
    "<p>&nbsp;</p>\n",
    "<p><strong>Constraints:</strong></p>\n",
    "\n",
    "<ul>\n",
    "\t<li>The length of the given array is positive and will not exceed 20.</li>\n",
    "\t<li>The sum of elements in the given array will not exceed 1000.</li>\n",
    "\t<li>Your output answer is guaranteed to be fitted in a 32-bit integer.</li>\n",
    "</ul>\n",
    "</div>"
   ]
  },
  {
   "cell_type": "markdown",
   "metadata": {},
   "source": [
    "## Option 1\n",
    "<p>\n",
    "    DP Top down\n",
    "    <p> \n",
    "<p>\n",
    "    <p>\n",
    "Time complexity: O(n)\n",
    "    <br>\n",
    "Space complexity: O(n)"
   ]
  },
  {
   "cell_type": "code",
   "execution_count": null,
   "metadata": {},
   "outputs": [],
   "source": [
    "class Solution(object):\n",
    "    def findTargetSumWays(self, nums, S):\n",
    "        self.seen = {}\n",
    "        def search(i, curr):\n",
    "            if (i,curr) in self.seen:\n",
    "                return self.seen[(i,curr)]\n",
    "            if i == len(nums):\n",
    "                return curr == 0            \n",
    "            self.seen[(i,curr)] = search(i+1, curr-nums[i]) + search(i+1, curr+nums[i])\n",
    "            \n",
    "            return self.seen[(i,curr)]\n",
    "        \n",
    "        return search(0, S)\n",
    "\n",
    "        \n",
    "Solution().findTargetSumWays([11,19,14,50,47,35,18,32,8,2,31,45,6,25,49,23,25,33,24,33],44)\n",
    "        "
   ]
  },
  {
   "cell_type": "markdown",
   "metadata": {},
   "source": [
    "#### Result: 416ms (44.00%)"
   ]
  },
  {
   "cell_type": "markdown",
   "metadata": {},
   "source": [
    "## Option 2\n",
    "<p>\n",
    "    DP Bottom up\n",
    "    <p> \n",
    "       \n",
    "<p>\n",
    "    <p>\n",
    "Time complexity: O(n)\n",
    "    <br>\n",
    "Space complexity: O(n) "
   ]
  },
  {
   "cell_type": "code",
   "execution_count": null,
   "metadata": {},
   "outputs": [],
   "source": [
    "import collections\n",
    "class Solution(object):\n",
    "    def findTargetSumWays(self, nums, S):\n",
    "        dp = collections.Counter({0: 1})\n",
    "        for i in range(len(nums)):\n",
    "            dp_new = collections.Counter()\n",
    "            for curr,val in dp.items():\n",
    "                dp_new[curr+nums[i]] += val\n",
    "                dp_new[curr-nums[i]] += val\n",
    "            dp = dp_new\n",
    "        return dp[S]\n",
    "\n",
    "Solution().findTargetSumWays([1,1,1,1,1], 3)\n",
    "        "
   ]
  },
  {
   "cell_type": "markdown",
   "metadata": {},
   "source": [
    "#### Result: 504ms (26.68%)"
   ]
  }
 ],
 "metadata": {
  "kernelspec": {
   "display_name": "Python 2",
   "language": "python",
   "name": "python2"
  },
  "language_info": {
   "codemirror_mode": {
    "name": "ipython",
    "version": 2
   },
   "file_extension": ".py",
   "mimetype": "text/x-python",
   "name": "python",
   "nbconvert_exporter": "python",
   "pygments_lexer": "ipython2",
   "version": "2.7.16"
  }
 },
 "nbformat": 4,
 "nbformat_minor": 2
}
