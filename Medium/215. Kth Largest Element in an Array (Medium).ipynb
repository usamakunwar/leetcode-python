{
 "cells": [
  {
   "cell_type": "markdown",
   "metadata": {},
   "source": [
    "# 215. Kth Largest Element in an Array (Medium)"
   ]
  },
  {
   "cell_type": "markdown",
   "metadata": {},
   "source": [
    "<div><p>Find the <strong>k</strong>th largest element in an unsorted array. Note that it is the kth largest element in the sorted order, not the kth distinct element.</p>\n",
    "\n",
    "<p><strong>Example 1:</strong></p>\n",
    "\n",
    "<pre><strong>Input:</strong> <code>[3,2,1,5,6,4] </code>and k = 2\n",
    "<strong>Output:</strong> 5\n",
    "</pre>\n",
    "\n",
    "<p><strong>Example 2:</strong></p>\n",
    "\n",
    "<pre><strong>Input:</strong> <code>[3,2,3,1,2,4,5,5,6] </code>and k = 4\n",
    "<strong>Output:</strong> 4</pre>\n",
    "\n",
    "<p><strong>Note: </strong><br>\n",
    "You may assume k is always valid, 1 ≤ k ≤ array's length.</p>\n",
    "</div>"
   ]
  },
  {
   "cell_type": "markdown",
   "metadata": {},
   "source": [
    "## Option 1\n",
    "\n",
    "Heap\n",
    "    <p>\n",
    "Time complexity: O(klogn)\n",
    "<br>\n",
    "Space complexity: O(n)\n"
   ]
  },
  {
   "cell_type": "code",
   "execution_count": null,
   "metadata": {},
   "outputs": [],
   "source": [
    "import heapq\n",
    "class Solution(object):\n",
    "    def findKthLargest(self, nums, k):\n",
    "        nums = map(lambda x:-x, nums)\n",
    "        heapq.heapify(nums)        \n",
    "        while k > 1 :\n",
    "            heapq.heappop(nums)\n",
    "            k -= 1\n",
    "        return -nums[0]\n",
    "\n",
    "Solution().findKthLargest([3,2,3,1,2,4,5,5,6] , 4)\n"
   ]
  },
  {
   "cell_type": "markdown",
   "metadata": {},
   "source": [
    "## Option 2\n",
    "\n",
    "We can improve the above to nlogk\n",
    "<li>Create a heap size k (out of nums)\n",
    "<li>Iterate over the remaining nums, comparing to heap[0]. If bigger replace\n",
    "<li>End result will be k largest in a k size heap\n",
    "  <p>\n",
    "      <p>\n",
    "Time complexity: O(nlogk)\n",
    "<br>\n",
    "Space complexity: O(k)\n"
   ]
  },
  {
   "cell_type": "code",
   "execution_count": null,
   "metadata": {},
   "outputs": [],
   "source": [
    "import heapq\n",
    "class Solution(object):\n",
    "    def findKthLargest(self, nums, k):\n",
    "        h = nums[:k]\n",
    "        heapq.heapify(h)\n",
    "        for n in nums[k:]:\n",
    "            if n > h[0]:\n",
    "                #same as push + pop\n",
    "                heapq.heapreplace(h,n)\n",
    "        return h[0]\n",
    "\n",
    "Solution().findKthLargest([3,2,3,1,2,4,5,5,6] , 4)\n"
   ]
  },
  {
   "cell_type": "markdown",
   "metadata": {},
   "source": [
    "#### Result: 52ms (81.26%)"
   ]
  },
  {
   "cell_type": "markdown",
   "metadata": {},
   "source": [
    "## Option 3\n",
    "\n",
    "Option 2 can be done by built in heapq.nlargest\n",
    "<p>\n",
    "Time complexity: O(nlogk)\n",
    "<br>\n",
    "Space complexity: O(k)\n"
   ]
  },
  {
   "cell_type": "code",
   "execution_count": null,
   "metadata": {},
   "outputs": [],
   "source": [
    "import heapq\n",
    "class Solution(object):\n",
    "    def findKthLargest(self, nums, k):\n",
    "        return heapq.nlargest(k, nums)[-1]      \n",
    "\n",
    "Solution().findKthLargest([3,2,1,5,6,4] , 2)\n"
   ]
  },
  {
   "cell_type": "markdown",
   "metadata": {},
   "source": [
    "#### Result: 52ms (81.26%)"
   ]
  },
  {
   "cell_type": "markdown",
   "metadata": {},
   "source": [
    "## Option 4\n",
    "\n",
    "Quick select\n",
    "    <p>\n",
    "Time complexity: O(n) (worst n^2)\n",
    "<br>\n",
    "Space complexity: O(1)\n"
   ]
  },
  {
   "cell_type": "code",
   "execution_count": null,
   "metadata": {},
   "outputs": [],
   "source": [
    "import heapq\n",
    "class Solution(object):\n",
    "    def findKthLargest(self, nums, k):\n",
    "        k_idx = len(nums)-k\n",
    "        def qs(l,r):\n",
    "            if l >= r : return l\n",
    "            p = partition(l,r)\n",
    "            return qs(p,r) if p <= k_idx else qs(l,p-1)\n",
    "\n",
    "        def partition(l,r):\n",
    "            pivot = nums[(l+r)/2]\n",
    "            while l <= r:\n",
    "                while nums[l] < pivot : l += 1\n",
    "                while nums[r] > pivot : r -= 1\n",
    "                if l <= r:                \n",
    "                    nums[l],nums[r] = nums[r],nums[l]\n",
    "                    l += 1\n",
    "                    r -= 1\n",
    "            return l\n",
    "        return nums[qs(0,len(nums)-1)]\n",
    "        \n",
    "Solution().findKthLargest([3,4,2,1,3,4,6,7,3,2,4,5,6,6,4,3,3,2,1,2,2,3,4,9] , 9)\n"
   ]
  },
  {
   "cell_type": "markdown",
   "metadata": {},
   "source": [
    "#### Result: 44ms (97.52%)"
   ]
  }
 ],
 "metadata": {
  "kernelspec": {
   "display_name": "Python 2",
   "language": "python",
   "name": "python2"
  },
  "language_info": {
   "codemirror_mode": {
    "name": "ipython",
    "version": 2
   },
   "file_extension": ".py",
   "mimetype": "text/x-python",
   "name": "python",
   "nbconvert_exporter": "python",
   "pygments_lexer": "ipython2",
   "version": "2.7.16"
  }
 },
 "nbformat": 4,
 "nbformat_minor": 2
}
