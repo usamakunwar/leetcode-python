{
 "cells": [
  {
   "cell_type": "markdown",
   "metadata": {},
   "source": [
    "# 1448. Count Good Nodes in Binary Tree (Medium)"
   ]
  },
  {
   "cell_type": "markdown",
   "metadata": {},
   "source": [
    "<div><p>Given a binary tree <code>root</code>, a node <em>X</em> in the tree is named&nbsp;<strong>good</strong> if in the path from root to <em>X</em> there are no nodes with a value <em>greater than</em> X.</p>\n",
    "\n",
    "<p>Return the number of <strong>good</strong> nodes in the binary tree.</p>\n",
    "\n",
    "<p>&nbsp;</p>\n",
    "<p><strong>Example 1:</strong></p>\n",
    "\n",
    "<p><strong><img alt=\"\" src=\"https://assets.leetcode.com/uploads/2020/04/02/test_sample_1.png\" style=\"width: 263px; height: 156px;\"></strong></p>\n",
    "\n",
    "<pre><strong>Input:</strong> root = [3,1,4,3,null,1,5]\n",
    "<strong>Output:</strong> 4\n",
    "<strong>Explanation:</strong> Nodes in blue are <strong>good</strong>.\n",
    "Root Node (3) is always a good node.\n",
    "Node 4 -&gt; (3,4) is the maximum value in the path starting from the root.\n",
    "Node 5 -&gt; (3,4,5) is the maximum value in the path\n",
    "Node 3 -&gt; (3,1,3) is the maximum value in the path.</pre>\n",
    "\n",
    "<p><strong>Example 2:</strong></p>\n",
    "\n",
    "<p><strong><img alt=\"\" src=\"https://assets.leetcode.com/uploads/2020/04/02/test_sample_2.png\" style=\"width: 157px; height: 161px;\"></strong></p>\n",
    "\n",
    "<pre><strong>Input:</strong> root = [3,3,null,4,2]\n",
    "<strong>Output:</strong> 3\n",
    "<strong>Explanation:</strong> Node 2 -&gt; (3, 3, 2) is not good, because \"3\" is higher than it.</pre>\n",
    "\n",
    "<p><strong>Example 3:</strong></p>\n",
    "\n",
    "<pre><strong>Input:</strong> root = [1]\n",
    "<strong>Output:</strong> 1\n",
    "<strong>Explanation:</strong> Root is considered as <strong>good</strong>.</pre>\n",
    "\n",
    "<p>&nbsp;</p>\n",
    "<p><strong>Constraints:</strong></p>\n",
    "\n",
    "<ul>\n",
    "\t<li>The number of nodes in the binary tree is in the range&nbsp;<code>[1, 10^5]</code>.</li>\n",
    "\t<li>Each node's value is between <code>[-10^4, 10^4]</code>.</li>\n",
    "</ul></div>"
   ]
  },
  {
   "cell_type": "markdown",
   "metadata": {},
   "source": [
    "## Option 1\n",
    "           \n",
    "Time complexity: O(n)\n",
    "    <br>\n",
    "Space complexity: O(n)\n"
   ]
  },
  {
   "cell_type": "code",
   "execution_count": null,
   "metadata": {},
   "outputs": [],
   "source": [
    "# Definition for a binary tree node.\n",
    "# class TreeNode(object):\n",
    "#     def __init__(self, val=0, left=None, right=None):\n",
    "#         self.val = val\n",
    "#         self.left = left\n",
    "#         self.right = right\n",
    "class Solution(object):\n",
    "    def goodNodes(self, root):\n",
    "        \"\"\"\n",
    "        :type root: TreeNode\n",
    "        :rtype: int\n",
    "        \"\"\"\n",
    "        \n",
    "        def search(node, curr):\n",
    "            if not node: return 0\n",
    "            res = 1 if node.val >= curr else 0\n",
    "            curr = max(node.val, curr)\n",
    "            return res + search(node.left,curr) + search(node.right,curr)\n",
    "            \n",
    "        return search(root, float('-inf'))"
   ]
  },
  {
   "cell_type": "markdown",
   "metadata": {},
   "source": [
    "#### Result: 408ms (59.78%)"
   ]
  }
 ],
 "metadata": {
  "kernelspec": {
   "display_name": "Python 2",
   "language": "python",
   "name": "python2"
  },
  "language_info": {
   "codemirror_mode": {
    "name": "ipython",
    "version": 2
   },
   "file_extension": ".py",
   "mimetype": "text/x-python",
   "name": "python",
   "nbconvert_exporter": "python",
   "pygments_lexer": "ipython2",
   "version": "2.7.16"
  }
 },
 "nbformat": 4,
 "nbformat_minor": 2
}
