{
 "cells": [
  {
   "cell_type": "markdown",
   "metadata": {},
   "source": [
    "# 200. Number of Islands (Medium)\n",
    "\n",
    "Given a 2d grid map of '1's (land) and '0's (water), count the number of islands. An island is surrounded by water and is formed by connecting adjacent lands horizontally or vertically. You may assume all four edges of the grid are all surrounded by water.\n",
    "\n",
    "Example 1:\n",
    "\n",
    "Input:\n",
    "11110\n",
    "11010\n",
    "11000\n",
    "00000\n",
    "\n",
    "Output: 1\n",
    "Example 2:\n",
    "\n",
    "Input:\n",
    "11000\n",
    "11000\n",
    "00100\n",
    "00011\n",
    "\n",
    "Output: 3"
   ]
  },
  {
   "cell_type": "markdown",
   "metadata": {},
   "source": [
    "### Option 1\n",
    "\n",
    "Depth first search. Create a search for every point, and search recursively for valid neighbours.\n",
    "Change the explored nodes to \"#\" \n",
    "\n",
    "Time complexity: O(rC) r = rows, c = columns"
   ]
  },
  {
   "cell_type": "code",
   "execution_count": 20,
   "metadata": {
    "scrolled": true
   },
   "outputs": [
    {
     "data": {
      "text/plain": [
       "1"
      ]
     },
     "execution_count": 20,
     "metadata": {},
     "output_type": "execute_result"
    }
   ],
   "source": [
    "class Solution:\n",
    "    def numIslands(self, grid: [[str]]) -> int:\n",
    "        \n",
    "        islands = 0\n",
    "        \n",
    "        def search(i,j):\n",
    "            if grid[i][j] == \"1\":\n",
    "                grid[i][j] = \"#\"\n",
    "                if i > 0: search(i-1,j)\n",
    "                if i < (len(grid)-1): search(i+1,j)\n",
    "                if j > 0: search(i,j-1)\n",
    "                if j < (len(grid[i])-1): search(i,j+1)\n",
    "    \n",
    "        for i in range(len(grid)):\n",
    "            for j in range(len(grid[i])):\n",
    "                if grid[i][j] == \"1\":\n",
    "                    search(i,j)\n",
    "                    islands += 1 \n",
    "\n",
    "        return islands\n",
    "        \n",
    "Solution().numIslands([[\"1\",\"1\",\"1\",\"1\",\"0\"],[\"1\",\"1\",\"0\",\"1\",\"0\"],[\"1\",\"1\",\"0\",\"0\",\"0\"],[\"0\",\"0\",\"0\",\"0\",\"0\"]])"
   ]
  },
  {
   "cell_type": "markdown",
   "metadata": {},
   "source": [
    "#### Result:  Accepted\n",
    "#### Runtime: 132ms (96.47%)\n",
    "#### Memory: 14mb (44.44%)"
   ]
  }
 ],
 "metadata": {
  "kernelspec": {
   "display_name": "Python 3",
   "language": "python",
   "name": "python3"
  },
  "language_info": {
   "codemirror_mode": {
    "name": "ipython",
    "version": 3
   },
   "file_extension": ".py",
   "mimetype": "text/x-python",
   "name": "python",
   "nbconvert_exporter": "python",
   "pygments_lexer": "ipython3",
   "version": "3.7.4"
  }
 },
 "nbformat": 4,
 "nbformat_minor": 2
}
