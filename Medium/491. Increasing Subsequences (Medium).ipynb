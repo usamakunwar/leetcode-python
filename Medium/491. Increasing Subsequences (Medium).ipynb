{
 "cells": [
  {
   "cell_type": "markdown",
   "metadata": {},
   "source": [
    "# 491. Increasing Subsequences (Medium)"
   ]
  },
  {
   "cell_type": "markdown",
   "metadata": {},
   "source": [
    "<div><p>Given an integer array, your task is to find all the different possible increasing subsequences of the given array, and the length of an increasing subsequence should be at least 2.</p>\n",
    "\n",
    "<p>&nbsp;</p>\n",
    "\n",
    "<p><b>Example:</b></p>\n",
    "\n",
    "<pre><b>Input:</b> [4, 6, 7, 7]\n",
    "<b>Output:</b> [[4, 6], [4, 7], [4, 6, 7], [4, 6, 7, 7], [6, 7], [6, 7, 7], [7,7], [4,7,7]]\n",
    "</pre>\n",
    "\n",
    "<p>&nbsp;</p>\n",
    "<p><strong>Constraints:</strong></p>\n",
    "\n",
    "<ul>\n",
    "\t<li>The length of the given array will not exceed 15.</li>\n",
    "\t<li>The range of integer in the given array is [-100,100].</li>\n",
    "\t<li>The given array may contain duplicates, and two equal integers should also be considered as a special case of increasing sequence.</li>\n",
    "</ul>\n",
    "</div>"
   ]
  },
  {
   "cell_type": "markdown",
   "metadata": {},
   "source": [
    "## Option 1\n",
    " <p>     <p>\n",
    "    DFS\n",
    "    <p>\n",
    "        <li>We need to avoid duplicates, this can be done if we avoid searching duplicates in the domain of the search\n",
    "<p>\n",
    "        \n",
    "Time complexity: O(2^n)\n",
    "    <br>\n",
    "Space complexity: O(2^n)\n"
   ]
  },
  {
   "cell_type": "code",
   "execution_count": null,
   "metadata": {},
   "outputs": [],
   "source": [
    "class Solution(object):\n",
    "    def findSubsequences(self, nums):\n",
    "        def search(i, curr):\n",
    "            res = [curr] if len(curr) > 1 else []\n",
    "            seen = set()\n",
    "            for j in range(i,len(nums)):\n",
    "                #Ensure the sequence is increasing (or equal) and no duplicates\n",
    "                if (curr and nums[j] < curr[-1]) or nums[j] in seen: continue\n",
    "                seen.add(nums[j])\n",
    "                res += search(j+1, curr+[nums[j]])                \n",
    "            return res\n",
    "        \n",
    "        return search(0, [])\n",
    "\n",
    "Solution().findSubsequences([4,6,7,7])\n",
    "\n",
    "        "
   ]
  },
  {
   "cell_type": "markdown",
   "metadata": {},
   "source": [
    "#### Result: 288ms (35.21%)"
   ]
  }
 ],
 "metadata": {
  "kernelspec": {
   "display_name": "Python 2",
   "language": "python",
   "name": "python2"
  },
  "language_info": {
   "codemirror_mode": {
    "name": "ipython",
    "version": 2
   },
   "file_extension": ".py",
   "mimetype": "text/x-python",
   "name": "python",
   "nbconvert_exporter": "python",
   "pygments_lexer": "ipython2",
   "version": "2.7.16"
  }
 },
 "nbformat": 4,
 "nbformat_minor": 2
}
