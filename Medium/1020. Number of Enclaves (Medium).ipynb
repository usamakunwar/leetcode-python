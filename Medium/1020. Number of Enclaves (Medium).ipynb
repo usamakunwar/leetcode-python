{
 "cells": [
  {
   "cell_type": "markdown",
   "metadata": {},
   "source": [
    "# 1020. Number of Enclaves"
   ]
  },
  {
   "cell_type": "markdown",
   "metadata": {},
   "source": [
    "<div><p>Given a 2D array <code>A</code>, each cell is 0 (representing sea) or 1 (representing land)</p>\n",
    "\n",
    "<p>A move consists of walking from one land square 4-directionally to another land square, or off the boundary of the grid.</p>\n",
    "\n",
    "<p>Return the number of land squares in the grid for which we <strong>cannot</strong> walk off the boundary of the grid in any number of moves.</p>\n",
    "\n",
    "<p>&nbsp;</p>\n",
    "\n",
    "<p><strong>Example 1:</strong></p>\n",
    "\n",
    "<pre><strong>Input: </strong><span id=\"example-input-1-1\">[[0,0,0,0],[1,0,1,0],[0,1,1,0],[0,0,0,0]]</span>\n",
    "<strong>Output: </strong><span id=\"example-output-1\">3</span>\n",
    "<strong>Explanation: </strong>\n",
    "There are three 1s that are enclosed by 0s, and one 1 that isn't enclosed because its on the boundary.</pre>\n",
    "\n",
    "<p><strong>Example 2:</strong></p>\n",
    "\n",
    "<pre><strong>Input: </strong><span id=\"example-input-2-1\">[[0,1,1,0],[0,0,1,0],[0,0,1,0],[0,0,0,0]]</span>\n",
    "<strong>Output: </strong><span id=\"example-output-2\">0</span>\n",
    "<strong>Explanation: </strong>\n",
    "All 1s are either on the boundary or can reach the boundary.\n",
    "</pre>\n",
    "\n",
    "<p>&nbsp;</p>\n",
    "\n",
    "<p><strong>Note:</strong></p>\n",
    "\n",
    "<ol>\n",
    "\t<li><code>1 &lt;= A.length &lt;= 500</code></li>\n",
    "\t<li><code>1 &lt;= A[i].length &lt;= 500</code></li>\n",
    "\t<li><code>0 &lt;= A[i][j] &lt;= 1</code></li>\n",
    "\t<li>All rows have the same size.</li>\n",
    "</ol></div>"
   ]
  },
  {
   "cell_type": "markdown",
   "metadata": {},
   "source": [
    "## Option 1\n",
    "\n",
    "DFS\n",
    "<p>\n",
    "Time complexity = O(n)\n",
    "<br>\n",
    "Space complexity = O(n)"
   ]
  },
  {
   "cell_type": "code",
   "execution_count": 32,
   "metadata": {},
   "outputs": [
    {
     "data": {
      "text/plain": [
       "3"
      ]
     },
     "execution_count": 32,
     "metadata": {},
     "output_type": "execute_result"
    }
   ],
   "source": [
    "class Solution:\n",
    "    res = 0\n",
    "    def numEnclaves(self, A: [[int]]) -> int:\n",
    "        leni,lenj = len(A),len(A[0])\n",
    "        \n",
    "        def dfs(i,j):\n",
    "            if i < 0 or j < 0 or i >= leni or j >= lenj: return 0\n",
    "            if A[i][j] == 1:\n",
    "                if i == 0 or j == 0 or i == (leni-1) or j == (lenj-1): return float('-inf')\n",
    "                A[i][j] = \"#\"\n",
    "                return dfs(i+1,j) + dfs(i,j+1) + dfs(i-1,j) + dfs(i,j-1) + 1\n",
    "            return 0\n",
    "\n",
    "        for i in range(1,leni-1):\n",
    "            for j in range(1,lenj-1):\n",
    "                if A[i][j] == 1: \n",
    "                    self.res += max(0,dfs(i,j))\n",
    "        return self.res\n",
    "\n",
    "Solution().numEnclaves([[0,0,0,0],[1,0,1,0],[0,1,1,0],[0,0,0,0]])"
   ]
  },
  {
   "cell_type": "markdown",
   "metadata": {},
   "source": [
    "#### Result:  768ms (22.81%)"
   ]
  }
 ],
 "metadata": {
  "kernelspec": {
   "display_name": "Python 3",
   "language": "python",
   "name": "python3"
  },
  "language_info": {
   "codemirror_mode": {
    "name": "ipython",
    "version": 3
   },
   "file_extension": ".py",
   "mimetype": "text/x-python",
   "name": "python",
   "nbconvert_exporter": "python",
   "pygments_lexer": "ipython3",
   "version": "3.7.4"
  }
 },
 "nbformat": 4,
 "nbformat_minor": 2
}
