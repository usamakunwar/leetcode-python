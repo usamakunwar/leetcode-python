{
 "cells": [
  {
   "cell_type": "markdown",
   "metadata": {},
   "source": [
    "# 825. Friends Of Appropriate Ages (Medium)\n",
    "\n"
   ]
  },
  {
   "cell_type": "markdown",
   "metadata": {},
   "source": [
    "<div><p>Some people will make friend requests. The&nbsp;list of their ages is given and&nbsp;<code>ages[i]</code>&nbsp;is the age of the&nbsp;ith person.&nbsp;</p>\n",
    "\n",
    "<p>Person A will NOT friend request person B (B != A) if any of the following conditions are true:</p>\n",
    "\n",
    "<ul>\n",
    "\t<li><code>age[B]&nbsp;&lt;= 0.5 * age[A]&nbsp;+ 7</code></li>\n",
    "\t<li><code>age[B]&nbsp;&gt; age[A]</code></li>\n",
    "\t<li><code>age[B]&nbsp;&gt; 100 &amp;&amp;&nbsp;age[A]&nbsp;&lt; 100</code></li>\n",
    "</ul>\n",
    "\n",
    "<p>Otherwise, A will friend request B.</p>\n",
    "\n",
    "<p>Note that if&nbsp;A requests B, B does not necessarily request A.&nbsp; Also, people will not friend request themselves.</p>\n",
    "\n",
    "<p>How many total friend requests are made?</p>\n",
    "\n",
    "<p><strong>Example 1:</strong></p>\n",
    "\n",
    "<pre><strong>Input: </strong>[16,16]\n",
    "<strong>Output: </strong>2\n",
    "<strong>Explanation: </strong>2 people friend request each other.\n",
    "</pre>\n",
    "\n",
    "<p><strong>Example 2:</strong></p>\n",
    "\n",
    "<pre><strong>Input: </strong>[16,17,18]\n",
    "<strong>Output: </strong>2\n",
    "<strong>Explanation: </strong>Friend requests are made 17 -&gt; 16, 18 -&gt; 17.</pre>\n",
    "\n",
    "<p><strong>Example 3:</strong></p>\n",
    "\n",
    "<pre><strong>Input: </strong>[20,30,100,110,120]\n",
    "<strong>Output: </strong>\n",
    "<strong>Explanation: </strong>Friend requests are made 110 -&gt; 100, 120 -&gt; 110, 120 -&gt; 100.\n",
    "</pre>\n",
    "\n",
    "<p>&nbsp;</p>\n",
    "\n",
    "<p>Notes:</p>\n",
    "\n",
    "<ul>\n",
    "\t<li><code>1 &lt;= ages.length&nbsp;&lt;= 20000</code>.</li>\n",
    "\t<li><code>1 &lt;= ages[i] &lt;= 120</code>.</li>\n",
    "</ul>\n",
    "</div>"
   ]
  },
  {
   "cell_type": "markdown",
   "metadata": {},
   "source": [
    "## Option 1\n",
    " <p> \n",
    "    <p>\n",
    "        <p>\n",
    "        \n",
    "Time complexity: O(n^2)\n",
    "    <br>\n",
    "Space complexity: O(n)\n"
   ]
  },
  {
   "cell_type": "code",
   "execution_count": null,
   "metadata": {
    "scrolled": true
   },
   "outputs": [],
   "source": [
    "import collections\n",
    "class Solution(object):\n",
    "    def numFriendRequests(self, ages):\n",
    "        count = collections.Counter(ages)\n",
    "        res = 0\n",
    "        for a in count:\n",
    "            for b in count:\n",
    "                if b <= a*0.5+7: continue\n",
    "                if b > a: continue\n",
    "                if b > 100 and a < 100: continue\n",
    "                res += count[a]*count[b] \n",
    "                if a == b: res -= count[a]\n",
    "        \n",
    "        return res\n",
    "        \n",
    "\n",
    "Solution().numFriendRequests([32,32,32,32,32,25,25])"
   ]
  },
  {
   "cell_type": "markdown",
   "metadata": {},
   "source": [
    "#### Result: 320ms (68.85%)"
   ]
  }
 ],
 "metadata": {
  "kernelspec": {
   "display_name": "Python 2",
   "language": "python",
   "name": "python2"
  },
  "language_info": {
   "codemirror_mode": {
    "name": "ipython",
    "version": 2
   },
   "file_extension": ".py",
   "mimetype": "text/x-python",
   "name": "python",
   "nbconvert_exporter": "python",
   "pygments_lexer": "ipython2",
   "version": "2.7.16"
  }
 },
 "nbformat": 4,
 "nbformat_minor": 2
}
