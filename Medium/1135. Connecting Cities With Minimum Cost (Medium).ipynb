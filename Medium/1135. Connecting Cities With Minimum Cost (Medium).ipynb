{
 "cells": [
  {
   "cell_type": "markdown",
   "metadata": {},
   "source": [
    "# 1135. Connecting Cities With Minimum Cost (Medium)\n"
   ]
  },
  {
   "cell_type": "markdown",
   "metadata": {},
   "source": [
    "<div><p>There are <code>N</code> cities numbered from 1 to <code>N</code>.</p>\n",
    "\n",
    "<p>You are given <code>connections</code>, where each <code>connections[i] = [city1, city2, cost]</code>&nbsp;represents the cost to connect <code>city1</code> and <code>city2</code> together.&nbsp; (A <em>connection</em> is bidirectional: connecting <code>city1</code> and <code>city2</code> is the same as connecting <code>city2</code> and <code>city1</code>.)</p>\n",
    "\n",
    "<p>Return the minimum cost so that for every pair of cities, there exists a path&nbsp;of connections (possibly of length 1) that connects those two cities together.&nbsp; The cost is the sum of the connection costs used. If the task is impossible, return -1.</p>\n",
    "\n",
    "<p>&nbsp;</p>\n",
    "\n",
    "<p><strong>Example 1:</strong></p>\n",
    "\n",
    "<p><img alt=\"\" src=\"https://assets.leetcode.com/uploads/2019/04/20/1314_ex2.png\" style=\"width: 161px; height: 141px;\"></p>\n",
    "\n",
    "<pre><strong>Input: </strong>N = 3, connections = [[1,2,5],[1,3,6],[2,3,1]]\n",
    "<strong>Output: </strong>6\n",
    "<strong>Explanation: </strong>\n",
    "Choosing any 2 edges will connect all cities so we choose the minimum 2.\n",
    "</pre>\n",
    "\n",
    "<p><strong>Example 2:</strong></p>\n",
    "\n",
    "<p><img alt=\"\" src=\"https://assets.leetcode.com/uploads/2019/04/20/1314_ex1.png\" style=\"width: 136px; height: 91px;\"></p>\n",
    "\n",
    "<pre><strong>Input: </strong>N = 4, connections = [[1,2,3],[3,4,4]]\n",
    "<strong>Output: </strong>-1\n",
    "<strong>Explanation: </strong>\n",
    "There is no way to connect all cities even if all edges are used.\n",
    "</pre>\n",
    "\n",
    "<p>&nbsp;</p>\n",
    "\n",
    "<p><strong>Note:</strong></p>\n",
    "\n",
    "<ol>\n",
    "\t<li><code>1 &lt;= N &lt;= 10000</code></li>\n",
    "\t<li><code>1 &lt;= connections.length &lt;= 10000</code></li>\n",
    "\t<li><code>1 &lt;= connections[i][0], connections[i][1] &lt;= N</code></li>\n",
    "\t<li><code>0 &lt;= connections[i][2] &lt;= 10^5</code></li>\n",
    "\t<li><code>connections[i][0] != connections[i][1]</code></li>\n",
    "</ol>\n",
    "</div>"
   ]
  },
  {
   "cell_type": "markdown",
   "metadata": {},
   "source": [
    "## Option 1\n",
    "<p>\n",
    "    Union find\n",
    "    <p>             \n",
    "<p>\n",
    "    <p>\n",
    "Time complexity: O(n)\n",
    "    <br>\n",
    "Space complexity: O(n)\n"
   ]
  },
  {
   "cell_type": "code",
   "execution_count": null,
   "metadata": {},
   "outputs": [],
   "source": [
    "import collections\n",
    "class Solution(object):\n",
    "    def minimumCost(self, N, connections):\n",
    "        connections.sort(key=lambda x:x[2])\n",
    "        arr = range(N+1)\n",
    "        \n",
    "        def find(v):\n",
    "            if arr[v] != v:\n",
    "                arr[v] = find(arr[v])\n",
    "            return arr[v]\n",
    "        \n",
    "        cost = 0\n",
    "        for a,b,c in connections:\n",
    "            find_a,find_b = find(a),find(b)\n",
    "            if find_a == find_b: continue\n",
    "            arr[find_b] = find_a\n",
    "            cost += c\n",
    "            \n",
    "        return cost if len(set(map(find,arr))) == 2 else -1\n",
    "        \n",
    "    \n",
    "        \n",
    "Solution().minimumCost(3, [[1,2,5]])\n"
   ]
  },
  {
   "cell_type": "markdown",
   "metadata": {},
   "source": [
    "#### Result: 660ms (51.06%)"
   ]
  }
 ],
 "metadata": {
  "kernelspec": {
   "display_name": "Python 2",
   "language": "python",
   "name": "python2"
  },
  "language_info": {
   "codemirror_mode": {
    "name": "ipython",
    "version": 2
   },
   "file_extension": ".py",
   "mimetype": "text/x-python",
   "name": "python",
   "nbconvert_exporter": "python",
   "pygments_lexer": "ipython2",
   "version": "2.7.16"
  }
 },
 "nbformat": 4,
 "nbformat_minor": 2
}
