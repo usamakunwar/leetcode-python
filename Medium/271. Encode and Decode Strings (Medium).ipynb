{
 "cells": [
  {
   "cell_type": "markdown",
   "metadata": {},
   "source": [
    "# 271. Encode and Decode Strings (Medium)"
   ]
  },
  {
   "cell_type": "markdown",
   "metadata": {},
   "source": [
    "<div><p>Design an algorithm to encode <b>a list of strings</b> to <b>a string</b>. The encoded string is then sent over the network and is decoded back to the original list of strings.</p>\n",
    "\n",
    "<p>Machine 1 (sender) has the function:</p>\n",
    "\n",
    "<pre>string encode(vector&lt;string&gt; strs) {\n",
    "  // ... your code\n",
    "  return encoded_string;\n",
    "}</pre>\n",
    "Machine 2 (receiver) has the function:\n",
    "\n",
    "<pre>vector&lt;string&gt; decode(string s) {\n",
    "  //... your code\n",
    "  return strs;\n",
    "}\n",
    "</pre>\n",
    "\n",
    "<p>So Machine 1 does:</p>\n",
    "\n",
    "<pre>string encoded_string = encode(strs);\n",
    "</pre>\n",
    "\n",
    "<p>and Machine 2 does:</p>\n",
    "\n",
    "<pre>vector&lt;string&gt; strs2 = decode(encoded_string);\n",
    "</pre>\n",
    "\n",
    "<p><code>strs2</code> in Machine 2 should be the same as <code>strs</code> in Machine 1.</p>\n",
    "\n",
    "<p>Implement the <code>encode</code> and <code>decode</code> methods.</p>\n",
    "\n",
    "<p>&nbsp;</p>\n",
    "\n",
    "<p><b>Note:</b></p>\n",
    "\n",
    "<ul>\n",
    "\t<li>The string may contain any possible characters out of 256 valid ascii characters. Your algorithm should be generalized enough to work on any possible characters.</li>\n",
    "\t<li>Do not use class member/global/static variables to store states. Your encode and decode algorithms should be stateless.</li>\n",
    "\t<li>Do not rely on any library method such as <code>eval</code> or serialize methods. You should implement your own encode/decode algorithm.</li>\n",
    "</ul>\n",
    "</div>"
   ]
  },
  {
   "cell_type": "markdown",
   "metadata": {},
   "source": [
    "## Option 1\n",
    "<p>\n",
    "    Use a non ascii delimeter\n",
    "    <p>    \n",
    "<p>\n",
    "    <p>\n",
    "Time complexity: O(n)\n",
    "    <br>\n",
    "Space complexity: O(n)"
   ]
  },
  {
   "cell_type": "code",
   "execution_count": null,
   "metadata": {},
   "outputs": [],
   "source": [
    "class Codec:\n",
    "    def encode(self, strs):\n",
    "        return unichr(257).join(strs) if strs else unichr(258)        \n",
    "\n",
    "    def decode(self, s):\n",
    "        return [] if s == unichr(258) else s.split(unichr(257))\n"
   ]
  },
  {
   "cell_type": "markdown",
   "metadata": {},
   "source": [
    "#### Result: 44ms (96.24%)"
   ]
  },
  {
   "cell_type": "markdown",
   "metadata": {},
   "source": [
    "## Option 2\n",
    "<p>\n",
    "    The above is ok, but restricted to have characters within ASCII, an all round solution can be of the following\n",
    "    <p>\n",
    "    <li>We will use a fixed size 4 delimeter, this delimeter will have lenght of the string encoded\n",
    "    <li><strong>encode_length</strong> encodes an integer to 4 characters\n",
    "    <li><strong>decode_length</strong> decodes a 4 character string to an integer\n",
    "    <li>So our only limitation now is that the string lenghts must be lower than a 32bit integer, as the 4 delimiter can store max value of 2^32 - 1        \n",
    "    <li>Note that 0xff is just hexa for 2^8-1\n",
    "    <p>    \n",
    "<p>\n",
    "    <p>\n",
    "Time complexity: O(n)\n",
    "    <br>\n",
    "Space complexity: O(n)"
   ]
  },
  {
   "cell_type": "code",
   "execution_count": null,
   "metadata": {},
   "outputs": [],
   "source": [
    "class Codec:\n",
    "    def encode_length(self, n):\n",
    "        #Partition n in 8 bits, get a character for each part (an ASCII character)\n",
    "        return ''.join([ chr(n >> (i*8) & 0xff) for i in range(4)])\n",
    "        \n",
    "    def decode_length(self, arr):\n",
    "        curr = 0 \n",
    "        for i in range(4):\n",
    "            curr |= (ord(arr[i]) << (i*8))\n",
    "        return curr\n",
    "\n",
    "    def encode(self, strs):\n",
    "        return ''.join([self.encode_length(len(s))+s.encode('utf-8') for s in strs])\n",
    "\n",
    "    def decode(self, s):\n",
    "        strs = []\n",
    "        i = 0\n",
    "        while i < len(s):\n",
    "            length = self.decode_length(s[i:i+4])\n",
    "            strs.append(s[i+4:i+4+length])\n",
    "            i = i+4+length\n",
    "        return strs\n",
    "\n",
    "# Your Codec object will be instantiated and called as such:\n",
    "# codec = Codec()\n",
    "# codec.decode(codec.encode(strs))"
   ]
  },
  {
   "cell_type": "markdown",
   "metadata": {},
   "source": [
    "#### Result: 72ms (42.86%)"
   ]
  }
 ],
 "metadata": {
  "kernelspec": {
   "display_name": "Python 2",
   "language": "python",
   "name": "python2"
  },
  "language_info": {
   "codemirror_mode": {
    "name": "ipython",
    "version": 2
   },
   "file_extension": ".py",
   "mimetype": "text/x-python",
   "name": "python",
   "nbconvert_exporter": "python",
   "pygments_lexer": "ipython2",
   "version": "2.7.16"
  }
 },
 "nbformat": 4,
 "nbformat_minor": 2
}
