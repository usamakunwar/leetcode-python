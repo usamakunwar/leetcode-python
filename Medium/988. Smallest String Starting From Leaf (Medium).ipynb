{
 "cells": [
  {
   "cell_type": "markdown",
   "metadata": {},
   "source": [
    "# 988. Smallest String Starting From Leaf (Medium)"
   ]
  },
  {
   "cell_type": "markdown",
   "metadata": {},
   "source": [
    "<div><p>Given the <code>root</code> of a binary tree, each node has a value from <code>0</code> to <code>25</code> representing the letters <code>'a'</code> to <code>'z'</code>: a value of <code>0</code> represents <code>'a'</code>, a value of <code>1</code> represents <code>'b'</code>, and so on.</p>\n",
    "\n",
    "<p>Find the lexicographically smallest string that starts at a leaf of this tree and ends at the root.</p>\n",
    "\n",
    "<p><em>(As a reminder, any shorter prefix of a string is lexicographically smaller: for example, <code>\"ab\"</code> is lexicographically smaller than <code>\"aba\"</code>.&nbsp; A leaf of a node is a node that has no children.)</em></p>\n",
    "\n",
    "<div>\n",
    "<div>\n",
    "<p>&nbsp;</p>\n",
    "\n",
    "<ol>\n",
    "</ol>\n",
    "</div>\n",
    "</div>\n",
    "\n",
    "<div>\n",
    "<p><strong>Example 1:</strong></p>\n",
    "\n",
    "<p><strong><img alt=\"\" src=\"https://assets.leetcode.com/uploads/2019/01/30/tree1.png\" style=\"width: 160px; height: 107px;\"></strong></p>\n",
    "\n",
    "<pre><strong>Input: </strong><span id=\"example-input-1-1\">[0,1,2,3,4,3,4]</span>\n",
    "<strong>Output: </strong><span id=\"example-output-1\">\"dba\"</span>\n",
    "</pre>\n",
    "\n",
    "<div>\n",
    "<p><strong>Example 2:</strong></p>\n",
    "\n",
    "<p><strong><img alt=\"\" src=\"https://assets.leetcode.com/uploads/2019/01/30/tree2.png\" style=\"width: 160px; height: 107px;\"></strong></p>\n",
    "\n",
    "<pre><strong>Input: </strong><span id=\"example-input-2-1\">[25,1,3,1,3,0,2]</span>\n",
    "<strong>Output: </strong><span id=\"example-output-2\">\"adz\"</span>\n",
    "</pre>\n",
    "\n",
    "<div>\n",
    "<p><strong>Example 3:</strong></p>\n",
    "\n",
    "<p><strong><img alt=\"\" src=\"https://assets.leetcode.com/uploads/2019/02/01/tree3.png\" style=\"height: 170px; width: 172px;\"></strong></p>\n",
    "\n",
    "<pre><strong>Input: </strong><span id=\"example-input-3-1\">[2,2,1,null,1,0,null,0]</span>\n",
    "<strong>Output: </strong><span id=\"example-output-3\">\"abc\"</span>\n",
    "</pre>\n",
    "\n",
    "<p>&nbsp;</p>\n",
    "\n",
    "<p><strong>Note:</strong></p>\n",
    "\n",
    "<ol>\n",
    "\t<li>The number of nodes in the given tree will be between <code>1</code> and <code>8500</code>.</li>\n",
    "\t<li>Each node in the tree will have a value between <code>0</code> and <code>25</code>.</li>\n",
    "</ol>\n",
    "</div>\n",
    "</div>\n",
    "</div></div>"
   ]
  },
  {
   "cell_type": "markdown",
   "metadata": {},
   "source": [
    "## Option 1\n",
    "<p>\n",
    "   Top down\n",
    "    <p>\n",
    "Time complexity: O(n)\n",
    "    <br>\n",
    "Space complexity: O(n)\n"
   ]
  },
  {
   "cell_type": "code",
   "execution_count": null,
   "metadata": {},
   "outputs": [],
   "source": [
    "# Definition for a binary tree node.\n",
    "# class TreeNode(object):\n",
    "#     def __init__(self, x):\n",
    "#         self.val = x\n",
    "#         self.left = None\n",
    "#         self.right = None\n",
    "\n",
    "class Solution(object):\n",
    "    def smallestFromLeaf(self, root):\n",
    "        \"\"\"\n",
    "        :type root: TreeNode\n",
    "        :rtype: str\n",
    "        \"\"\"\n",
    "        if not root: return ''\n",
    "        \n",
    "        def search(node, curr):\n",
    "            if not node.left and not node.right:\n",
    "                return (curr+chr(node.val + ord('a')))[::-1]\n",
    "            \n",
    "            left = search(node.left, curr + chr(node.val + ord('a'))) if node.left else None\n",
    "            right = search(node.right, curr + chr(node.val +  ord('a'))) if node.right else None\n",
    "            \n",
    "            return left if not right or (left and right and left < right)  else right\n",
    "            \n",
    "        return search(root, '')\n",
    "        "
   ]
  },
  {
   "cell_type": "markdown",
   "metadata": {},
   "source": [
    "\n",
    "#### Result: 40ms (66.09%)"
   ]
  }
 ],
 "metadata": {
  "kernelspec": {
   "display_name": "Python 2",
   "language": "python",
   "name": "python2"
  },
  "language_info": {
   "codemirror_mode": {
    "name": "ipython",
    "version": 2
   },
   "file_extension": ".py",
   "mimetype": "text/x-python",
   "name": "python",
   "nbconvert_exporter": "python",
   "pygments_lexer": "ipython2",
   "version": "2.7.16"
  }
 },
 "nbformat": 4,
 "nbformat_minor": 2
}
