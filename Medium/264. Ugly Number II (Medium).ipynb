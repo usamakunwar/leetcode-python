{
 "cells": [
  {
   "cell_type": "markdown",
   "metadata": {},
   "source": [
    "# 264. Ugly Number II (Medium)"
   ]
  },
  {
   "cell_type": "markdown",
   "metadata": {},
   "source": [
    "<div><p>Write a program to find the <code>n</code>-th ugly number.</p>\n",
    "\n",
    "<p>Ugly numbers are<strong> positive numbers</strong> whose prime factors only include <code>2, 3, 5</code>.&nbsp;</p>\n",
    "\n",
    "<p><strong>Example:</strong></p>\n",
    "\n",
    "<pre><strong>Input:</strong> n = 10\n",
    "<strong>Output:</strong> 12\n",
    "<strong>Explanation: </strong><code>1, 2, 3, 4, 5, 6, 8, 9, 10, 12</code> is the sequence of the first <code>10</code> ugly numbers.</pre>\n",
    "\n",
    "<p><strong>Note: </strong>&nbsp;</p>\n",
    "\n",
    "<ol>\n",
    "\t<li><code>1</code> is typically treated as an ugly number.</li>\n",
    "\t<li><code>n</code> <b>does not exceed 1690</b>.</li>\n",
    "</ol></div>"
   ]
  },
  {
   "cell_type": "markdown",
   "metadata": {},
   "source": [
    "## Option 1\n",
    " <p>    \n",
    "<p>\n",
    "    DP\n",
    "    <p>       \n",
    "<p>\n",
    "        \n",
    "Time complexity: O(n)\n",
    "    <br>\n",
    "Space complexity: O(n)\n"
   ]
  },
  {
   "cell_type": "code",
   "execution_count": null,
   "metadata": {},
   "outputs": [],
   "source": [
    "class Solution(object):\n",
    "    def nthUglyNumber(self, n):\n",
    "        arr = [1]\n",
    "        i2 = i3 = i5 = 0\n",
    "        \n",
    "        for i in range(1,n):\n",
    "            ugly = min(arr[i2]*2, arr[i3]*3, arr[i5]*5)\n",
    "            arr.append(ugly)\n",
    "            \n",
    "            if ugly == arr[i2]*2:\n",
    "                i2 += 1\n",
    "            if ugly == arr[i3]*3:\n",
    "                i3 += 1\n",
    "            if ugly == arr[i5]*5:\n",
    "                i5 += 1\n",
    "        \n",
    "        return arr[-1]\n",
    "        \n",
    "\n",
    "Solution().nthUglyNumber(10)"
   ]
  },
  {
   "cell_type": "markdown",
   "metadata": {},
   "source": [
    "#### Result:  128ms (69.52%)"
   ]
  }
 ],
 "metadata": {
  "kernelspec": {
   "display_name": "Python 2",
   "language": "python",
   "name": "python2"
  },
  "language_info": {
   "codemirror_mode": {
    "name": "ipython",
    "version": 2
   },
   "file_extension": ".py",
   "mimetype": "text/x-python",
   "name": "python",
   "nbconvert_exporter": "python",
   "pygments_lexer": "ipython2",
   "version": "2.7.16"
  }
 },
 "nbformat": 4,
 "nbformat_minor": 2
}
