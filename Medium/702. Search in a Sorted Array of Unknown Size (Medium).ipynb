{
 "cells": [
  {
   "cell_type": "markdown",
   "metadata": {},
   "source": [
    "# 702. Search in a Sorted Array of Unknown Size (Medium)"
   ]
  },
  {
   "cell_type": "markdown",
   "metadata": {},
   "source": [
    "<div><p>Given an&nbsp;integer array sorted in ascending order, write a function to search <code>target</code> in <code>nums</code>.&nbsp; If <code>target</code> exists, then return its index, otherwise return <code>-1</code>. <strong>However, the array size is unknown to you</strong>. You may only access the array using an <code>ArrayReader</code>&nbsp;interface, where&nbsp;<code>ArrayReader.get(k)</code> returns the element of the array at index <code>k</code>&nbsp;(0-indexed).</p>\n",
    "\n",
    "<p>You may assume all integers in the array are less than&nbsp;<code>10000</code>, and if you access the array out of bounds, <code>ArrayReader.get</code> will return <code>2147483647</code>.</p>\n",
    "\n",
    "<p>&nbsp;</p>\n",
    "\n",
    "<p><strong>Example 1:</strong></p>\n",
    "\n",
    "<pre><strong>Input:</strong> <code>array</code> = [-1,0,3,5,9,12], <code>target</code> = 9\n",
    "<strong>Output:</strong> 4\n",
    "<strong>Explanation:</strong> 9 exists in <code>nums</code> and its index is 4\n",
    "</pre>\n",
    "\n",
    "<p><strong>Example 2:</strong></p>\n",
    "\n",
    "<pre><strong>Input:</strong> <code>array</code> = [-1,0,3,5,9,12], <code>target</code> = 2\n",
    "<strong>Output:</strong> -1\n",
    "<strong>Explanation:</strong> 2 does not exist in <code>nums</code> so return -1</pre>\n",
    "\n",
    "<p>&nbsp;</p>\n",
    "\n",
    "<p><strong>Note:</strong></p>\n",
    "\n",
    "<ol>\n",
    "\t<li>You may assume that all elements in the array are unique.</li>\n",
    "\t<li>The value of each element in the array&nbsp;will be in the range <code>[-9999, 9999]</code>.</li>\n",
    "</ol>\n",
    "</div>"
   ]
  },
  {
   "cell_type": "markdown",
   "metadata": {},
   "source": [
    "## Option 1\n",
    "<p>Binary Search\n",
    "    <p>\n",
    "Time complexity: O(logn)\n",
    "<br>\n",
    "Space complexity: O(1) "
   ]
  },
  {
   "cell_type": "code",
   "execution_count": null,
   "metadata": {},
   "outputs": [],
   "source": [
    "# \"\"\"\n",
    "# This is ArrayReader's API interface.\n",
    "# You should not implement it, or speculate about its implementation\n",
    "# \"\"\"\n",
    "#class ArrayReader(object):\n",
    "#    def get(self, index):\n",
    "#        \"\"\"\n",
    "#        :type index: int\n",
    "#        :rtype int\n",
    "#        \"\"\"\n",
    "\n",
    "class Solution(object):\n",
    "    def search(self, reader, target):\n",
    "        \"\"\"\n",
    "        :type reader: ArrayReader\n",
    "        :type target: int\n",
    "        :rtype: int\n",
    "        \"\"\"\n",
    "        l,r = 0, target+10000\n",
    "        \n",
    "        while l <= r:\n",
    "            mid = (l+r)/2\n",
    "            v = reader.get(mid)\n",
    "            if v < target:\n",
    "                l = mid + 1\n",
    "            elif v > target:\n",
    "                r = mid - 1\n",
    "            else:\n",
    "                return mid\n",
    "        return -1\n",
    "        "
   ]
  },
  {
   "cell_type": "markdown",
   "metadata": {},
   "source": [
    "#### Result: 24ms (68.22%)\n"
   ]
  }
 ],
 "metadata": {
  "kernelspec": {
   "display_name": "Python 2",
   "language": "python",
   "name": "python2"
  },
  "language_info": {
   "codemirror_mode": {
    "name": "ipython",
    "version": 2
   },
   "file_extension": ".py",
   "mimetype": "text/x-python",
   "name": "python",
   "nbconvert_exporter": "python",
   "pygments_lexer": "ipython2",
   "version": "2.7.16"
  }
 },
 "nbformat": 4,
 "nbformat_minor": 2
}
