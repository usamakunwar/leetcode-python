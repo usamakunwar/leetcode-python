{
 "cells": [
  {
   "cell_type": "markdown",
   "metadata": {},
   "source": [
    "# 343. Integer Break (Medium)"
   ]
  },
  {
   "cell_type": "markdown",
   "metadata": {},
   "source": [
    "<div><p>Given a positive integer <i>n</i>, break it into the sum of <b>at least</b> two positive integers and maximize the product of those integers. Return the maximum product you can get.</p>\n",
    "\n",
    "<p><strong>Example 1:</strong></p>\n",
    "\n",
    "<div>\n",
    "<pre><strong>Input: </strong><span id=\"example-input-1-1\">2</span>\n",
    "<strong>Output: </strong><span id=\"example-output-1\">1</span>\n",
    "<strong>Explanation: </strong>2 = 1 + 1, 1 × 1 = 1.</pre>\n",
    "\n",
    "<div>\n",
    "<p><strong>Example 2:</strong></p>\n",
    "\n",
    "<pre><strong>Input: </strong><span id=\"example-input-2-1\">10</span>\n",
    "<strong>Output: </strong><span id=\"example-output-2\">36</span>\n",
    "<strong>Explanation: </strong>10 = 3 + 3 + 4, 3 ×&nbsp;3 ×&nbsp;4 = 36.</pre>\n",
    "\n",
    "<p><b>Note</b>: You may assume that <i>n</i> is not less than 2 and not larger than 58.</p>\n",
    "</div>\n",
    "</div></div>"
   ]
  },
  {
   "cell_type": "markdown",
   "metadata": {},
   "source": [
    "## Option 1\n",
    "\n",
    "<p>DFS\n",
    "    <p>\n",
    "\n",
    "Time complexity: O(n)\n",
    "<br>\n",
    "Space complexity: O(n) "
   ]
  },
  {
   "cell_type": "code",
   "execution_count": null,
   "metadata": {
    "scrolled": false
   },
   "outputs": [],
   "source": [
    "class Solution(object):\n",
    "    def integerBreak(self, n):\n",
    "        #exit 3 and 2 here as otherwise we have to control levels later\n",
    "        if n == 3: return 2\n",
    "        if n == 2: return 1\n",
    "\n",
    "        self.count = 0\n",
    "        self.res = 1\n",
    "        def search(i, curr, prod):\n",
    "            if not curr:\n",
    "                self.res = max(self.res, prod)\n",
    "                return\n",
    "            self.count += 1\n",
    "\n",
    "            for j in range(i,curr+1):\n",
    "                search(j,curr-j, prod*j)\n",
    "        search(2,n,1)\n",
    "        \n",
    "        return self.res\n",
    "        \n",
    "        \n",
    "Solution().integerBreak(30)\n",
    "        "
   ]
  },
  {
   "cell_type": "markdown",
   "metadata": {},
   "source": [
    "#### Result: 68ms (6.42%)"
   ]
  },
  {
   "cell_type": "markdown",
   "metadata": {},
   "source": [
    "## Option 2\n",
    "\n",
    "<p>DP\n",
    "    <p>\n",
    "\n",
    "Time complexity: O(n)\n",
    "<br>\n",
    "Space complexity: O(n) "
   ]
  }
 ],
 "metadata": {
  "kernelspec": {
   "display_name": "Python 2",
   "language": "python",
   "name": "python2"
  },
  "language_info": {
   "codemirror_mode": {
    "name": "ipython",
    "version": 2
   },
   "file_extension": ".py",
   "mimetype": "text/x-python",
   "name": "python",
   "nbconvert_exporter": "python",
   "pygments_lexer": "ipython2",
   "version": "2.7.16"
  }
 },
 "nbformat": 4,
 "nbformat_minor": 2
}
