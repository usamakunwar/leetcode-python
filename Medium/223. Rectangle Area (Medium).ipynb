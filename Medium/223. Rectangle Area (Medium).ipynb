{
 "cells": [
  {
   "cell_type": "markdown",
   "metadata": {},
   "source": [
    "# 223. Rectangle Area (Medium)"
   ]
  },
  {
   "cell_type": "markdown",
   "metadata": {},
   "source": [
    "<div><p>Find the total area covered by two <strong>rectilinear</strong> rectangles in a <strong>2D</strong> plane.</p>\n",
    "\n",
    "<p>Each rectangle is defined by its bottom left corner and top right corner as shown in the figure.</p>\n",
    "\n",
    "<p><img alt=\"Rectangle Area\" src=\"https://assets.leetcode.com/uploads/2018/10/22/rectangle_area.png\" style=\"width: 542px; height: 304px;\"></p>\n",
    "\n",
    "<p><strong>Example:</strong></p>\n",
    "\n",
    "<pre><strong>Input: </strong>A = <span id=\"example-input-1-1\">-3</span>, B = <span id=\"example-input-1-2\">0</span>, C = <span id=\"example-input-1-3\">3</span>, D = <span id=\"example-input-1-4\">4</span>, E = <span id=\"example-input-1-5\">0</span>, F = <span id=\"example-input-1-6\">-1</span>, G = <span id=\"example-input-1-7\">9</span>, H = <span id=\"example-input-1-8\">2</span>\n",
    "<strong>Output: </strong><span id=\"example-output-1\">45</span></pre>\n",
    "\n",
    "<p><strong>Note:</strong></p>\n",
    "\n",
    "<p>Assume that the total area is never beyond the maximum possible value of <strong>int</strong>.</p>\n",
    "</div>"
   ]
  },
  {
   "cell_type": "markdown",
   "metadata": {},
   "source": [
    "## Option 1\n",
    " <p>    \n",
    "    <p>\n",
    "<p>\n",
    "<p>\n",
    "Time complexity: O(1)\n",
    "    <br>\n",
    "Space complexity: O(1)\n"
   ]
  },
  {
   "cell_type": "code",
   "execution_count": null,
   "metadata": {},
   "outputs": [],
   "source": [
    "class Solution(object):\n",
    "    def computeArea(self, A, B, C, D, E, F, G, H):\n",
    "        area1, area2 = abs(A-C)*abs(B-D), abs(E-G)*abs(F-H)\n",
    "        \n",
    "        x = sorted([(A,1), (C,1), (E,2), (G,2)])\n",
    "        y = sorted([(B,1), (D,1), (F,2), (H,2)])\n",
    "\n",
    "        x_intersect = x[2][0]-x[1][0] if x[0][1] != x[1][1] else 0\n",
    "        y_intersect = y[2][0]-y[1][0] if y[0][1] != y[1][1] else 0\n",
    "        \n",
    "        return area1+area2 - (x_intersect*y_intersect)\n",
    "        \n",
    "Solution().computeArea(0,0,10,10,-10,-10,2,7)\n",
    "        "
   ]
  },
  {
   "cell_type": "markdown",
   "metadata": {},
   "source": [
    "#### Result:  96ms (6.5%)"
   ]
  }
 ],
 "metadata": {
  "kernelspec": {
   "display_name": "Python 2",
   "language": "python",
   "name": "python2"
  },
  "language_info": {
   "codemirror_mode": {
    "name": "ipython",
    "version": 2
   },
   "file_extension": ".py",
   "mimetype": "text/x-python",
   "name": "python",
   "nbconvert_exporter": "python",
   "pygments_lexer": "ipython2",
   "version": "2.7.16"
  }
 },
 "nbformat": 4,
 "nbformat_minor": 2
}
