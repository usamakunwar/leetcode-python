{
 "cells": [
  {
   "cell_type": "markdown",
   "metadata": {},
   "source": [
    "# 1218. Longest Arithmetic Subsequence of Given Difference (Medium)"
   ]
  },
  {
   "cell_type": "markdown",
   "metadata": {},
   "source": [
    "<div><p>Given an integer array <code>arr</code>&nbsp;and an integer <code><font face=\"monospace\">difference</font></code>, return the length of the longest subsequence in <font face=\"monospace\"><code>arr</code>&nbsp;</font>which is an arithmetic sequence such that the difference between adjacent elements in the subsequence equals&nbsp;<code>difference</code>.</p>\n",
    "\n",
    "<p>&nbsp;</p>\n",
    "<p><strong>Example 1:</strong></p>\n",
    "\n",
    "<pre><strong>Input:</strong> arr = [1,2,3,4], difference = 1\n",
    "<strong>Output:</strong> 4\n",
    "<strong>Explanation: </strong>The longest arithmetic subsequence is [1,2,3,4].</pre>\n",
    "\n",
    "<p><strong>Example 2:</strong></p>\n",
    "\n",
    "<pre><strong>Input:</strong> arr = [1,3,5,7], difference = 1\n",
    "<strong>Output:</strong> 1\n",
    "<strong>Explanation: </strong>The longest arithmetic subsequence is any single element.\n",
    "</pre>\n",
    "\n",
    "<p><strong>Example 3:</strong></p>\n",
    "\n",
    "<pre><strong>Input:</strong> arr = [1,5,7,8,5,3,4,2,1], difference = -2\n",
    "<strong>Output:</strong> 4\n",
    "<strong>Explanation: </strong>The longest arithmetic subsequence is [7,5,3,1].\n",
    "</pre>\n",
    "\n",
    "<p>&nbsp;</p>\n",
    "<p><strong>Constraints:</strong></p>\n",
    "\n",
    "<ul>\n",
    "\t<li><code>1 &lt;= arr.length &lt;= 10^5</code></li>\n",
    "\t<li><code>-10^4 &lt;= arr[i], difference &lt;= 10^4</code></li>\n",
    "</ul>\n",
    "</div>"
   ]
  },
  {
   "cell_type": "markdown",
   "metadata": {},
   "source": [
    "## Option 1\n",
    "<p>\n",
    "    DP\n",
    "<p>          \n",
    "           \n",
    "           \n",
    "Time complexity: O(n)\n",
    "    <br>\n",
    "Space complexity: O(n)\n"
   ]
  },
  {
   "cell_type": "code",
   "execution_count": null,
   "metadata": {},
   "outputs": [],
   "source": [
    "class Solution(object):\n",
    "    def longestSubsequence(self, arr, difference):\n",
    "        dp, res = {}, 0\n",
    "        for a in arr:\n",
    "            target = a-difference\n",
    "            dp[a] = dp[target]+1 if target in dp else 1\n",
    "            res = max(res, dp[a])\n",
    "        return res\n",
    "        \n",
    "Solution().longestSubsequence([1,2,3,4], 1)\n",
    "        "
   ]
  },
  {
   "cell_type": "markdown",
   "metadata": {},
   "source": [
    "#### Result: 528ms (66.67%)"
   ]
  }
 ],
 "metadata": {
  "kernelspec": {
   "display_name": "Python 2",
   "language": "python",
   "name": "python2"
  },
  "language_info": {
   "codemirror_mode": {
    "name": "ipython",
    "version": 2
   },
   "file_extension": ".py",
   "mimetype": "text/x-python",
   "name": "python",
   "nbconvert_exporter": "python",
   "pygments_lexer": "ipython2",
   "version": "2.7.16"
  }
 },
 "nbformat": 4,
 "nbformat_minor": 2
}
