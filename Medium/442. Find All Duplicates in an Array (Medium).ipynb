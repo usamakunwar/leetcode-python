{
 "cells": [
  {
   "cell_type": "markdown",
   "metadata": {},
   "source": [
    "# 442. Find All Duplicates in an Array (Medium)\n"
   ]
  },
  {
   "cell_type": "markdown",
   "metadata": {},
   "source": [
    "<div><p>Given an array of integers, 1 ≤ a[i] ≤ <i>n</i> (<i>n</i> = size of array), some elements appear <b>twice</b> and others appear <b>once</b>.</p>\n",
    "\n",
    "<p>Find all the elements that appear <b>twice</b> in this array.</p>\n",
    "\n",
    "<p>Could you do it without extra space and in O(<i>n</i>) runtime?</p>\n",
    "<p></p>\n",
    "<p><b>Example:</b><br>\n",
    "</p><pre><b>Input:</b>\n",
    "[4,3,2,7,8,2,3,1]\n",
    "\n",
    "<b>Output:</b>\n",
    "[2,3]\n",
    "</pre></div>"
   ]
  },
  {
   "cell_type": "markdown",
   "metadata": {},
   "source": [
    "## Option 1\n",
    "<p>\n",
    "Time complexity = O(n)\n",
    "<br>\n",
    "Space complexity = O(n)"
   ]
  },
  {
   "cell_type": "code",
   "execution_count": 24,
   "metadata": {},
   "outputs": [
    {
     "data": {
      "text/plain": [
       "[1]"
      ]
     },
     "execution_count": 24,
     "metadata": {},
     "output_type": "execute_result"
    }
   ],
   "source": [
    "import collections\n",
    "class Solution:\n",
    "        res = collections.Counter(nums)\n",
    "        for i in nums:\n",
    "            if res[i] == 1:res.pop(i)\n",
    "        return list(res)\n",
    "Solution().findDuplicates([1,1])"
   ]
  },
  {
   "cell_type": "markdown",
   "metadata": {},
   "source": [
    "#### Result:  536ms (61.25%)"
   ]
  },
  {
   "cell_type": "markdown",
   "metadata": {},
   "source": [
    "## Option 2\n",
    "<p>\n",
    "As 1 ≤ a[i] ≤ n (n = size of array), we can use the value for index loop up, and maintain whether there is a duplicate\n",
    " <br>\n",
    "This way there is no extra space usage\n",
    "<p>\n",
    "Time complexity = O(n)\n",
    "<br>\n",
    "Space complexity = O(1)"
   ]
  },
  {
   "cell_type": "code",
   "execution_count": 25,
   "metadata": {},
   "outputs": [
    {
     "data": {
      "text/plain": [
       "[1]"
      ]
     },
     "execution_count": 25,
     "metadata": {},
     "output_type": "execute_result"
    }
   ],
   "source": [
    "class Solution:\n",
    "    def findDuplicates(self, nums: [int]) -> [int]:\n",
    "        res = []\n",
    "        for x in nums:\n",
    "            if nums[abs(x)-1] < 0:\n",
    "                res.append(abs(x))\n",
    "            else:\n",
    "                nums[abs(x)-1] *= -1\n",
    "        return res        \n",
    "Solution().findDuplicates([1,1])"
   ]
  },
  {
   "cell_type": "markdown",
   "metadata": {},
   "source": [
    "#### Result:  428ms (17.2%)"
   ]
  }
 ],
 "metadata": {
  "kernelspec": {
   "display_name": "Python 3",
   "language": "python",
   "name": "python3"
  },
  "language_info": {
   "codemirror_mode": {
    "name": "ipython",
    "version": 3
   },
   "file_extension": ".py",
   "mimetype": "text/x-python",
   "name": "python",
   "nbconvert_exporter": "python",
   "pygments_lexer": "ipython3",
   "version": "3.7.4"
  }
 },
 "nbformat": 4,
 "nbformat_minor": 2
}
