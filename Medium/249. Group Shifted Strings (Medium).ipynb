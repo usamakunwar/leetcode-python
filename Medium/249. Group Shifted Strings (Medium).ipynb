{
 "cells": [
  {
   "cell_type": "markdown",
   "metadata": {},
   "source": [
    "# 249. Group Shifted Strings (Medium)"
   ]
  },
  {
   "cell_type": "markdown",
   "metadata": {},
   "source": [
    "<div><p>Given a string, we can \"shift\" each of its letter to its successive letter, for example: <code>\"abc\" -&gt; \"bcd\"</code>. We can keep \"shifting\" which forms the sequence:</p>\n",
    "\n",
    "<pre>\"abc\" -&gt; \"bcd\" -&gt; ... -&gt; \"xyz\"</pre>\n",
    "\n",
    "<p>Given a list of strings which contains only lowercase alphabets, group all strings that belong to the same shifting sequence.</p>\n",
    "\n",
    "<p><b>Example:</b></p>\n",
    "\n",
    "<pre><b>Input:</b> <code>[\"abc\", \"bcd\", \"acef\", \"xyz\", \"az\", \"ba\", \"a\", \"z\"],</code>\n",
    "<b>Output:</b> \n",
    "[\n",
    "  [\"abc\",\"bcd\",\"xyz\"],\n",
    "  [\"az\",\"ba\"],\n",
    "  [\"acef\"],\n",
    "  [\"a\",\"z\"]\n",
    "]\n",
    "</pre>\n",
    "</div>"
   ]
  },
  {
   "cell_type": "markdown",
   "metadata": {},
   "source": [
    "## Option 1\n",
    "<p>\n",
    "Time complexity: O(n)\n",
    "<br>\n",
    "Space complexity: O(1)"
   ]
  },
  {
   "cell_type": "code",
   "execution_count": null,
   "metadata": {
    "scrolled": true
   },
   "outputs": [],
   "source": [
    "from collections import defaultdict\n",
    "class Solution(object):\n",
    "    def groupStrings(self, strings):\n",
    "        s_map = defaultdict(list)\n",
    "        for s in strings:\n",
    "            key = ''\n",
    "            for i in range(1,len(s)):\n",
    "                diff = ord(s[i])-ord(s[i-1])\n",
    "                key += str(diff) if diff > 0 else str(diff+26) \n",
    "            s_map[key].append(s) \n",
    "        return s_map.values()\n",
    "\n",
    "Solution().groupStrings([\"abc\", \"bcd\", \"acef\", \"xyz\", \"az\", \"ba\", \"a\", \"z\"])\n"
   ]
  },
  {
   "cell_type": "markdown",
   "metadata": {},
   "source": [
    "#### Result: 20ms (91.60%)"
   ]
  },
  {
   "cell_type": "markdown",
   "metadata": {},
   "source": [
    "## Option 2\n",
    "<p>\n",
    "Time complexity: O(n)\n",
    "<br>\n",
    "Space complexity: O(1)"
   ]
  },
  {
   "cell_type": "code",
   "execution_count": null,
   "metadata": {},
   "outputs": [],
   "source": [
    "from collections import defaultdict\n",
    "class Solution(object):\n",
    "    def groupStrings(self, strings):\n",
    "        s_map = defaultdict(list)\n",
    "        for s in strings:\n",
    "            s_map[tuple((ord(ch) - ord(s[0])) % 26 for ch in s)].append(s) \n",
    "        return s_map.values()\n",
    "    \n",
    "Solution().groupStrings([\"abc\",\"am\"])\n"
   ]
  },
  {
   "cell_type": "markdown",
   "metadata": {},
   "source": [
    "#### Result: 16ms (98.47%)"
   ]
  }
 ],
 "metadata": {
  "kernelspec": {
   "display_name": "Python 2",
   "language": "python",
   "name": "python2"
  },
  "language_info": {
   "codemirror_mode": {
    "name": "ipython",
    "version": 2
   },
   "file_extension": ".py",
   "mimetype": "text/x-python",
   "name": "python",
   "nbconvert_exporter": "python",
   "pygments_lexer": "ipython2",
   "version": "2.7.16"
  }
 },
 "nbformat": 4,
 "nbformat_minor": 2
}
