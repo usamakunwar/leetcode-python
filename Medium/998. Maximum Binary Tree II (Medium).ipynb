{
 "cells": [
  {
   "cell_type": "markdown",
   "metadata": {},
   "source": [
    "# 998. Maximum Binary Tree II (Medium)"
   ]
  },
  {
   "cell_type": "markdown",
   "metadata": {},
   "source": [
    "<div><p>We are given the <code>root</code>&nbsp;node of a <em>maximum tree:</em> a tree where every node has a value greater than any other value in its subtree.</p>\n",
    "\n",
    "<p>Just as in the <a href=\"https://leetcode.com/problems/maximum-binary-tree/\">previous problem</a>, the given tree&nbsp;was constructed from an list&nbsp;<code>A</code>&nbsp;(<code>root = Construct(A)</code>) recursively with the following&nbsp;<code>Construct(A)</code> routine:</p>\n",
    "\n",
    "<ul>\n",
    "\t<li>If <code>A</code> is empty, return <code>null</code>.</li>\n",
    "\t<li>Otherwise, let <code>A[i]</code> be the largest element of <code>A</code>.&nbsp; Create a <code>root</code> node with value <code>A[i]</code>.</li>\n",
    "\t<li>The left child of <code>root</code> will be <code>Construct([A[0], A[1], ..., A[i-1]])</code></li>\n",
    "\t<li>The right child of <code>root</code>&nbsp;will be <code>Construct([A[i+1], A[i+2], ..., A[A.length - 1]])</code></li>\n",
    "\t<li>Return <code>root</code>.</li>\n",
    "</ul>\n",
    "\n",
    "<p>Note that we were not given A directly, only a root node <code>root = Construct(A)</code>.</p>\n",
    "\n",
    "<p>Suppose <code>B</code> is a copy of <code>A</code> with the value <code>val</code> appended to it.&nbsp; It is guaranteed that <code>B</code> has unique values.</p>\n",
    "\n",
    "<p>Return <code>Construct(B)</code>.</p>\n",
    "\n",
    "<p>&nbsp;</p>\n",
    "\n",
    "<p><strong>Example 1:</strong></p>\n",
    "\n",
    "<p><strong><img alt=\"\" src=\"https://assets.leetcode.com/uploads/2019/02/21/maximum-binary-tree-1-1.png\" style=\"width: 159px; height: 160px;\"><img alt=\"\" src=\"https://assets.leetcode.com/uploads/2019/02/21/maximum-binary-tree-1-2.png\" style=\"width: 169px; height: 160px;\"></strong></p>\n",
    "\n",
    "<pre><strong>Input: </strong>root = <span id=\"example-input-1-1\">[4,1,3,null,null,2]</span>, val = <span id=\"example-input-1-2\">5</span>\n",
    "<strong>Output: </strong><span id=\"example-output-1\">[5,4,null,1,3,null,null,2]\n",
    "<strong>Explanation:</strong> A = </span><span>[1,4,2,3], B = </span><span>[1,4,2,3,5]</span>\n",
    "</pre>\n",
    "\n",
    "<div>\n",
    "<p><strong>Example 2:<br>\n",
    "<img alt=\"\" src=\"https://assets.leetcode.com/uploads/2019/02/21/maximum-binary-tree-2-1.png\" style=\"width: 180px; height: 160px;\"><img alt=\"\" src=\"https://assets.leetcode.com/uploads/2019/02/21/maximum-binary-tree-2-2.png\" style=\"width: 214px; height: 160px;\"></strong></p>\n",
    "\n",
    "<pre><strong>Input: </strong>root = <span id=\"example-input-2-1\">[5,2,4,null,1]</span>, val = <span id=\"example-input-2-2\">3</span>\n",
    "<strong>Output: </strong><span id=\"example-output-2\">[5,2,4,null,1,null,3]\n",
    "</span><span id=\"example-output-1\"><strong>Explanation:</strong> A = </span><span>[2,1,5,4], B = </span><span>[2,1,5,4,3]</span>\n",
    "</pre>\n",
    "\n",
    "<div>\n",
    "<p><strong>Example 3:<br>\n",
    "<img alt=\"\" src=\"https://assets.leetcode.com/uploads/2019/02/21/maximum-binary-tree-3-1.png\" style=\"width: 180px; height: 160px;\"><img alt=\"\" src=\"https://assets.leetcode.com/uploads/2019/02/21/maximum-binary-tree-3-2.png\" style=\"width: 201px; height: 160px;\"></strong></p>\n",
    "\n",
    "<pre><strong>Input: </strong>root = <span id=\"example-input-3-1\">[5,2,3,null,1]</span>, val = <span id=\"example-input-3-2\">4</span>\n",
    "<strong>Output: </strong><span id=\"example-output-3\">[5,2,4,null,1,3]\n",
    "</span><span id=\"example-output-1\"><strong>Explanation:</strong> A = </span><span>[2,1,5,3], B = </span><span>[2,1,5,3,4]</span>\n",
    "</pre>\n",
    "\n",
    "<p>&nbsp;</p>\n",
    "</div>\n",
    "</div>\n",
    "\n",
    "<p><strong>Note:</strong></p>\n",
    "\n",
    "<ol>\n",
    "\t<li><code>1 &lt;= B.length &lt;= 100</code></li>\n",
    "</ol></div>"
   ]
  },
  {
   "cell_type": "markdown",
   "metadata": {},
   "source": [
    "## Option 1\n",
    "<p>             \n",
    "           \n",
    "Time complexity: O(n)\n",
    "    <br>\n",
    "Space complexity: O(1)\n"
   ]
  },
  {
   "cell_type": "code",
   "execution_count": null,
   "metadata": {},
   "outputs": [],
   "source": [
    "class Solution(object):\n",
    "    def insertIntoMaxTree(self, root, val):\n",
    "\n",
    "        prev = None\n",
    "        curr = root\n",
    "        \n",
    "        while curr and curr.val > val:\n",
    "            prev, curr = curr, curr.right\n",
    "        \n",
    "        new = TreeNode(val)\n",
    "        new.left = curr\n",
    "        if prev: prev.right = new\n",
    "        \n",
    "        return root if root and root.val > val else new\n",
    "    "
   ]
  },
  {
   "cell_type": "markdown",
   "metadata": {},
   "source": [
    "#### Result: 16ms (94.49%)"
   ]
  }
 ],
 "metadata": {
  "kernelspec": {
   "display_name": "Python 2",
   "language": "python",
   "name": "python2"
  },
  "language_info": {
   "codemirror_mode": {
    "name": "ipython",
    "version": 2
   },
   "file_extension": ".py",
   "mimetype": "text/x-python",
   "name": "python",
   "nbconvert_exporter": "python",
   "pygments_lexer": "ipython2",
   "version": "2.7.16"
  }
 },
 "nbformat": 4,
 "nbformat_minor": 2
}
