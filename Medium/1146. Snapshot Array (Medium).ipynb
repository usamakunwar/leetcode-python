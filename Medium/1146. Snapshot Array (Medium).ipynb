{
 "cells": [
  {
   "cell_type": "markdown",
   "metadata": {},
   "source": [
    "# 1146. Snapshot Array (Medium)\n"
   ]
  },
  {
   "cell_type": "markdown",
   "metadata": {},
   "source": [
    "<div><p>Implement a SnapshotArray that supports the following interface:</p>\n",
    "\n",
    "<ul>\n",
    "\t<li><code>SnapshotArray(int length)</code> initializes an array-like data structure with the given length.&nbsp; <strong>Initially, each element equals 0</strong>.</li>\n",
    "\t<li><code>void set(index, val)</code> sets the element at the given <code>index</code> to be equal to <code>val</code>.</li>\n",
    "\t<li><code>int snap()</code>&nbsp;takes a snapshot of the array and returns the <code>snap_id</code>: the total number of times we called <code>snap()</code> minus <code>1</code>.</li>\n",
    "\t<li><code>int get(index, snap_id)</code>&nbsp;returns the value at the given <code>index</code>, at the time we took the snapshot with the given <code>snap_id</code></li>\n",
    "</ul>\n",
    "\n",
    "<p>&nbsp;</p>\n",
    "<p><strong>Example 1:</strong></p>\n",
    "\n",
    "<pre><strong>Input:</strong> [\"SnapshotArray\",\"set\",\"snap\",\"set\",\"get\"]\n",
    "[[3],[0,5],[],[0,6],[0,0]]\n",
    "<strong>Output:</strong> [null,null,0,null,5]\n",
    "<strong>Explanation: </strong>\n",
    "SnapshotArray snapshotArr = new SnapshotArray(3); // set the length to be 3\n",
    "snapshotArr.set(0,5);  // Set array[0] = 5\n",
    "snapshotArr.snap();  // Take a snapshot, return snap_id = 0\n",
    "snapshotArr.set(0,6);\n",
    "snapshotArr.get(0,0);  // Get the value of array[0] with snap_id = 0, return 5</pre>\n",
    "\n",
    "<p>&nbsp;</p>\n",
    "<p><strong>Constraints:</strong></p>\n",
    "\n",
    "<ul>\n",
    "\t<li><code>1 &lt;= length&nbsp;&lt;= 50000</code></li>\n",
    "\t<li>At most <code>50000</code>&nbsp;calls will be made to <code>set</code>, <code>snap</code>, and <code>get</code>.</li>\n",
    "\t<li><code>0 &lt;= index&nbsp;&lt;&nbsp;length</code></li>\n",
    "\t<li><code>0 &lt;=&nbsp;snap_id &lt;&nbsp;</code>(the total number of times we call <code>snap()</code>)</li>\n",
    "\t<li><code>0 &lt;=&nbsp;val &lt;= 10^9</code></li>\n",
    "</ul>\n",
    "</div>"
   ]
  },
  {
   "cell_type": "markdown",
   "metadata": {},
   "source": [
    "## Option 1\n",
    "  <p>Binary Search\n",
    "    <p>\n",
    "Time complexity: O(logn) number of sets in index\n",
    "<br>\n",
    "Space complexity: O(t) total number of sets"
   ]
  },
  {
   "cell_type": "code",
   "execution_count": null,
   "metadata": {},
   "outputs": [],
   "source": [
    "class SnapshotArray(object):\n",
    "\n",
    "    def __init__(self, length):\n",
    "        self.m = collections.defaultdict(list)\n",
    "        self.snap_id = 0\n",
    "        \n",
    "    def set(self, index, val):\n",
    "        if self.m[index] and self.m[index][-1][0] == self.snap_id:\n",
    "            self.m[index][-1] = (self.snap_id, val)\n",
    "        else:\n",
    "            self.m[index].append((self.snap_id, val))        \n",
    "\n",
    "    def snap(self):\n",
    "        self.snap_id += 1\n",
    "        return self.snap_id - 1\n",
    "\n",
    "    def get(self, index, snap_id):\n",
    "        l,r = 0, len(self.m[index])\n",
    "        while l < r:\n",
    "            mid = (l+r)/2\n",
    "            if self.m[index][mid][0] > snap_id:\n",
    "                r = mid\n",
    "            else:\n",
    "                l = mid + 1\n",
    "        return self.m[index][r-1][1] if r > 0 else 0\n",
    "\n",
    "# Your SnapshotArray object will be instantiated and called as such:\n",
    "# obj = SnapshotArray(length)\n",
    "# obj.set(index,val)\n",
    "# param_2 = obj.snap()\n",
    "# param_3 = obj.get(index,snap_id)"
   ]
  },
  {
   "cell_type": "markdown",
   "metadata": {},
   "source": [
    "#### Result: 520ms (55.27%)\n"
   ]
  }
 ],
 "metadata": {
  "kernelspec": {
   "display_name": "Python 2",
   "language": "python",
   "name": "python2"
  },
  "language_info": {
   "codemirror_mode": {
    "name": "ipython",
    "version": 2
   },
   "file_extension": ".py",
   "mimetype": "text/x-python",
   "name": "python",
   "nbconvert_exporter": "python",
   "pygments_lexer": "ipython2",
   "version": "2.7.16"
  }
 },
 "nbformat": 4,
 "nbformat_minor": 2
}
