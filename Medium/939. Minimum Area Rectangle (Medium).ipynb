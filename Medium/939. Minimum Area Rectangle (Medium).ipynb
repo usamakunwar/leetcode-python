{
 "cells": [
  {
   "cell_type": "markdown",
   "metadata": {},
   "source": [
    "# 939. Minimum Area Rectangle (Medium)\n"
   ]
  },
  {
   "cell_type": "markdown",
   "metadata": {},
   "source": [
    "<div><p>Given a set of points in the xy-plane, determine the minimum area of a rectangle formed from these points, with sides parallel to the x and y axes.</p>\n",
    "\n",
    "<p>If there isn't any rectangle, return 0.</p>\n",
    "\n",
    "<p>&nbsp;</p>\n",
    "\n",
    "<div>\n",
    "<p><strong>Example 1:</strong></p>\n",
    "\n",
    "<pre><strong>Input: </strong><span id=\"example-input-1-1\">[[1,1],[1,3],[3,1],[3,3],[2,2]]</span>\n",
    "<strong>Output: </strong><span id=\"example-output-1\">4</span>\n",
    "</pre>\n",
    "\n",
    "<div>\n",
    "<p><strong>Example 2:</strong></p>\n",
    "\n",
    "<pre><strong>Input: </strong><span id=\"example-input-2-1\">[[1,1],[1,3],[3,1],[3,3],[4,1],[4,3]]</span>\n",
    "<strong>Output: </strong><span id=\"example-output-2\">2</span>\n",
    "</pre>\n",
    "\n",
    "<p>&nbsp;</p>\n",
    "\n",
    "<p><strong>Note</strong>:</p>\n",
    "\n",
    "<ol>\n",
    "\t<li><code>1 &lt;= points.length &lt;= 500</code></li>\n",
    "\t<li><code>0 &lt;=&nbsp;points[i][0] &lt;=&nbsp;40000</code></li>\n",
    "\t<li><code>0 &lt;=&nbsp;points[i][1] &lt;=&nbsp;40000</code></li>\n",
    "\t<li>All points are distinct.</li>\n",
    "</ol>\n",
    "</div>\n",
    "</div></div>"
   ]
  },
  {
   "cell_type": "markdown",
   "metadata": {},
   "source": [
    "## Option 1\n",
    "\n",
    "<p>\n",
    "    <li>Check diagnol points\n",
    "    <p>\n",
    "    <p>\n",
    "Time complexity: O(n^2)\n",
    "    <br>\n",
    "Space complexity: O(n^2)"
   ]
  },
  {
   "cell_type": "code",
   "execution_count": null,
   "metadata": {
    "scrolled": true
   },
   "outputs": [],
   "source": [
    "class Solution(object):\n",
    "    def minAreaRect(self, points):\n",
    "        res = float('inf')\n",
    "        m = set()\n",
    "        \n",
    "        for x1,y1 in points:\n",
    "            for x2,y2 in m:\n",
    "                if (x1, y2) in m and (x2, y1) in m:\n",
    "                    res = min(res, abs((x2 - x1) * (y2 - y1)))\n",
    "            m.add((x1,y1))\n",
    "                        \n",
    "        return 0 if res == float('inf') else res\n",
    "                    \n",
    "        \n",
    "Solution().minAreaRect([[0,1],[1,3],[3,3],[4,4],[1,4],[2,3],[1,0],[3,4],[1,1]])"
   ]
  },
  {
   "cell_type": "markdown",
   "metadata": {},
   "source": [
    "#### Runtime: 1500 (43.05%)"
   ]
  },
  {
   "cell_type": "markdown",
   "metadata": {},
   "source": [
    "## Option 2\n",
    "\n",
    "<p>\n",
    "    Use cols, with sorting\n",
    "    <p>\n",
    "Time complexity: O(n^2)\n",
    "    <br>\n",
    "Space complexity: O(n^2)"
   ]
  },
  {
   "cell_type": "code",
   "execution_count": null,
   "metadata": {},
   "outputs": [],
   "source": [
    "class Solution(object):\n",
    "    def minAreaRect(self, points):\n",
    "        cols = collections.defaultdict(list)        \n",
    "        for (x,y) in points:\n",
    "            cols[x].append(y)\n",
    "            \n",
    "        cols = sorted(map(lambda x: (x[0], sorted(x[1])), cols.items()))  \n",
    "        pairs = {}        \n",
    "        res = float('inf')\n",
    "        \n",
    "        for (x, col) in cols:\n",
    "            for i in range(len(col)):\n",
    "                for j in range(i+1, len(col)):\n",
    "                    if (col[i],col[j]) in pairs:\n",
    "                        height, width = col[j]-col[i] , x-pairs[(col[i],col[j])]\n",
    "                        res = min(res, height*width)\n",
    "                    \n",
    "                    pairs[(col[i],col[j])] = x\n",
    "        \n",
    "        return 0 if res == float('inf') else res\n",
    "        \n",
    "Solution().minAreaRect([[1,1],[1,3],[3,1],[3,3],[4,1],[4,3],[5,5],[1,2],[4,2],[2,2]])\n",
    "        "
   ]
  },
  {
   "cell_type": "markdown",
   "metadata": {},
   "source": [
    "#### Result: 1036ms (71.52%)"
   ]
  }
 ],
 "metadata": {
  "kernelspec": {
   "display_name": "Python 2",
   "language": "python",
   "name": "python2"
  },
  "language_info": {
   "codemirror_mode": {
    "name": "ipython",
    "version": 2
   },
   "file_extension": ".py",
   "mimetype": "text/x-python",
   "name": "python",
   "nbconvert_exporter": "python",
   "pygments_lexer": "ipython2",
   "version": "2.7.16"
  }
 },
 "nbformat": 4,
 "nbformat_minor": 2
}
