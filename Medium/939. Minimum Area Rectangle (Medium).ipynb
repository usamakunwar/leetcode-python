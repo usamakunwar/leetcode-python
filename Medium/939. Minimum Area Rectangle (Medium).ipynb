{
 "cells": [
  {
   "cell_type": "markdown",
   "metadata": {},
   "source": [
    "# 939. Minimum Area Rectangle (Medium)\n"
   ]
  },
  {
   "cell_type": "markdown",
   "metadata": {},
   "source": [
    "### Option 1\n",
    "\n",
    "Iterate i and j, check if opposite points exist in the points. If they do a rectangle can be made, calculate area and maintain the minimum "
   ]
  },
  {
   "cell_type": "code",
   "execution_count": 27,
   "metadata": {
    "scrolled": true
   },
   "outputs": [
    {
     "data": {
      "text/plain": [
       "2"
      ]
     },
     "execution_count": 27,
     "metadata": {},
     "output_type": "execute_result"
    }
   ],
   "source": [
    "class Solution:\n",
    "    def minAreaRect(self, points: [[int]]) -> int:\n",
    "        all_points = set()\n",
    "        min_area = float('inf')\n",
    "        \n",
    "        for x,y in points:\n",
    "            all_points.add((x,y))\n",
    "        \n",
    "        for i in range(len(points)):\n",
    "            x1 = points[i][0]\n",
    "            y1 = points[i][1]\n",
    "            for j in range(i+1, len(points)):\n",
    "                x2 = points[j][0]\n",
    "                y2 = points[j][1]\n",
    "                if y1 != y2 and x1 != x2:\n",
    "                    if (x1, y2) in all_points and (x2, y1) in all_points:\n",
    "                        area = abs((x2 - x1) * (y2 - y1))\n",
    "                        if area < min_area:\n",
    "                            min_area = area\n",
    "                        \n",
    "        return 0 if min_area == float('inf') else min_area\n",
    "                    \n",
    "        \n",
    "Solution().minAreaRect([[0,1],[1,3],[3,3],[4,4],[1,4],[2,3],[1,0],[3,4],[1,1]])"
   ]
  },
  {
   "cell_type": "markdown",
   "metadata": {},
   "source": [
    "#### Result:  Accepted\n",
    "#### Runtime: 1812ms (38.23%)\n",
    "#### Memory: 12.7mb (100%)"
   ]
  }
 ],
 "metadata": {
  "kernelspec": {
   "display_name": "Python 3",
   "language": "python",
   "name": "python3"
  },
  "language_info": {
   "codemirror_mode": {
    "name": "ipython",
    "version": 3
   },
   "file_extension": ".py",
   "mimetype": "text/x-python",
   "name": "python",
   "nbconvert_exporter": "python",
   "pygments_lexer": "ipython3",
   "version": "3.7.4"
  }
 },
 "nbformat": 4,
 "nbformat_minor": 2
}
