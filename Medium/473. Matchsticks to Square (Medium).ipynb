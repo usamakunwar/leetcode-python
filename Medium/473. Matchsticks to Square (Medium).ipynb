{
 "cells": [
  {
   "cell_type": "markdown",
   "metadata": {},
   "source": [
    "# 473. Matchsticks to Square (Medium)"
   ]
  },
  {
   "cell_type": "markdown",
   "metadata": {},
   "source": [
    "<div><p>Remember the story of Little Match Girl? By now, you know exactly what matchsticks the little match girl has, please find out a way you can make one square by using up all those matchsticks. You should not break any stick, but you can link them up, and each matchstick must be used <b>exactly</b> one time.</p>\n",
    "\n",
    "<p> Your input will be several matchsticks the girl has, represented with their stick length. Your output will either be true or false, to represent whether you could make one square using all the matchsticks the little match girl has.</p>\n",
    "\n",
    "<p><b>Example 1:</b><br>\n",
    "</p><pre><b>Input:</b> [1,1,2,2,2]\n",
    "<b>Output:</b> true\n",
    "\n",
    "<b>Explanation:</b> You can form a square with length 2, one side of the square came two sticks with length 1.\n",
    "</pre>\n",
    "<p></p>\n",
    "\n",
    "<p><b>Example 2:</b><br>\n",
    "</p><pre><b>Input:</b> [3,3,3,3,4]\n",
    "<b>Output:</b> false\n",
    "\n",
    "<b>Explanation:</b> You cannot find a way to form a square with all the matchsticks.\n",
    "</pre>\n",
    "<p></p>\n",
    "\n",
    "<p><b>Note:</b><br>\n",
    "</p><ol>\n",
    "<li>The length sum of the given matchsticks is in the range of <code>0</code> to <code>10^9</code>.\n",
    "</li><li>The length of the given matchstick array will not exceed <code>15</code>.</li>\n",
    "</ol>\n",
    "<p></p></div>"
   ]
  },
  {
   "cell_type": "markdown",
   "metadata": {},
   "source": [
    "## Option 1\n",
    " <p>    \n",
    "   DP Top down\n",
    "    <p>\n",
    "        <li>In other words, partition the array in 4 seperate subsequences, where they all sum equally\n",
    "        <li>Or in better words, create 1 subsequence s where the ongoing sum is divisible by the target exactly 4 times\n",
    "        <li>We can use a bit mask to keep the state of the array, used numbers will be 0, un used 1\n",
    "        <li>We measure the number of times the curr total is divisible by the target (partition sum). If this number is 4 and nothing left in the state, we have a true result\n",
    "<p>\n",
    "<p>\n",
    "        \n"
   ]
  },
  {
   "cell_type": "code",
   "execution_count": null,
   "metadata": {},
   "outputs": [],
   "source": [
    "class Solution(object):\n",
    "    def makesquare(self, nums):\n",
    "        total = sum(nums)\n",
    "        if total%4: return False\n",
    "        target = total/4\n",
    "        \n",
    "        self.seen = set()\n",
    "        \n",
    "        def search(curr,part,state):\n",
    "            if curr and not curr%target:\n",
    "                part -= 1\n",
    "                if part == 0: return state == 0\n",
    "            \n",
    "            if (curr,part,state) in self.seen: return False\n",
    "            \n",
    "            n,i = 1,0\n",
    "            while n <= state:\n",
    "                if state&n and search(curr+nums[i],part,state^n):  return True\n",
    "                n = n << 1\n",
    "                i += 1\n",
    "            \n",
    "            self.seen.add((curr,part,state))\n",
    "            \n",
    "            return False\n",
    "            \n",
    "        return search(0,4,2**len(nums)-1)\n",
    "        \n",
    "Solution().makesquare([3,1,3,3,10,7,10,3,6,9,10,3,7,6,7])\n",
    "        "
   ]
  },
  {
   "cell_type": "markdown",
   "metadata": {},
   "source": [
    "#### Result:  2212ms (5.39%)"
   ]
  }
 ],
 "metadata": {
  "kernelspec": {
   "display_name": "Python 2",
   "language": "python",
   "name": "python2"
  },
  "language_info": {
   "codemirror_mode": {
    "name": "ipython",
    "version": 2
   },
   "file_extension": ".py",
   "mimetype": "text/x-python",
   "name": "python",
   "nbconvert_exporter": "python",
   "pygments_lexer": "ipython2",
   "version": "2.7.16"
  }
 },
 "nbformat": 4,
 "nbformat_minor": 2
}
