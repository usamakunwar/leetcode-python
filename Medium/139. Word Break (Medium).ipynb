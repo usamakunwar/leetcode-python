{
 "cells": [
  {
   "cell_type": "markdown",
   "metadata": {},
   "source": [
    "# 139. Word Break (Medium)\n"
   ]
  },
  {
   "cell_type": "markdown",
   "metadata": {},
   "source": [
    "<div><p>Given a <strong>non-empty</strong> string <em>s</em> and a dictionary <em>wordDict</em> containing a list of <strong>non-empty</strong> words, determine if <em>s</em> can be segmented into a space-separated sequence of one or more dictionary words.</p>\n",
    "\n",
    "<p><strong>Note:</strong></p>\n",
    "\n",
    "<ul>\n",
    "\t<li>The same word in the dictionary may be reused multiple times in the segmentation.</li>\n",
    "\t<li>You may assume the dictionary does not contain duplicate words.</li>\n",
    "</ul>\n",
    "\n",
    "<p><strong>Example 1:</strong></p>\n",
    "\n",
    "<pre><strong>Input:</strong> s = \"leetcode\", wordDict = [\"leet\", \"code\"]\n",
    "<strong>Output:</strong> true\n",
    "<strong>Explanation:</strong> Return true because <code>\"leetcode\"</code> can be segmented as <code>\"leet code\"</code>.\n",
    "</pre>\n",
    "\n",
    "<p><strong>Example 2:</strong></p>\n",
    "\n",
    "<pre><strong>Input:</strong> s = \"applepenapple\", wordDict = [\"apple\", \"pen\"]\n",
    "<strong>Output:</strong> true\n",
    "<strong>Explanation:</strong> Return true because <code>\"</code>applepenapple<code>\"</code> can be segmented as <code>\"</code>apple pen apple<code>\"</code>.\n",
    "&nbsp;            Note that you are allowed to reuse a dictionary word.\n",
    "</pre>\n",
    "\n",
    "<p><strong>Example 3:</strong></p>\n",
    "\n",
    "<pre><strong>Input:</strong> s = \"catsandog\", wordDict = [\"cats\", \"dog\", \"sand\", \"and\", \"cat\"]\n",
    "<strong>Output:</strong> false\n",
    "</pre>\n",
    "</div>"
   ]
  },
  {
   "cell_type": "markdown",
   "metadata": {},
   "source": [
    "### Option 1\n",
    "\n",
    "Backtracking. Recurse through all possible substrings. Here we will repeat many checks, for instance:\n",
    "found a => bcdef, found b => cdef, check c and cd. We check cd\n",
    "found ab => cdef, check c and cd. We check cd\n",
    "That means we are repeating things, so we can optimize by using suboptimal solutions (option 2)"
   ]
  },
  {
   "cell_type": "code",
   "execution_count": 176,
   "metadata": {
    "scrolled": true
   },
   "outputs": [
    {
     "data": {
      "text/plain": [
       "True"
      ]
     },
     "execution_count": 176,
     "metadata": {},
     "output_type": "execute_result"
    }
   ],
   "source": [
    "class Solution:\n",
    "    counter = 0\n",
    "    def wordBreak(self, s: str, wordDict: [str]) -> bool:\n",
    "        def backtrack(string):\n",
    "            self.counter = self.counter + 1\n",
    "            if len(string) == 0:\n",
    "                return True\n",
    "            for i in range(1, len(string)+1):\n",
    "                substring = string[0:i]\n",
    "                if substring in wordDict:\n",
    "                    search = backtrack(string[i:])\n",
    "                    if search:\n",
    "                        return search\n",
    "            return False\n",
    "        return backtrack(s)\n",
    "    \n",
    "Solution().wordBreak(\"abcdef\", [\"a\", \"bc\",\"ef\",\"d\"])\n"
   ]
  },
  {
   "cell_type": "markdown",
   "metadata": {},
   "source": [
    "### Option 2\n",
    "\n",
    "Dynamic programming. For every substring we build, we have to iterate over all possible sub optional solutions.\n",
    "\n",
    "Recursive relation based on suboptimal solutions"
   ]
  },
  {
   "cell_type": "code",
   "execution_count": 174,
   "metadata": {
    "scrolled": false
   },
   "outputs": [
    {
     "data": {
      "text/plain": [
       "True"
      ]
     },
     "execution_count": 174,
     "metadata": {},
     "output_type": "execute_result"
    }
   ],
   "source": [
    "class Solution:\n",
    "    def wordBreak(self, s: str, wordDict: [str]) -> bool:\n",
    "        k = [False for i in range(len(s))]\n",
    "        for i in range(len(s)):\n",
    "            #Build a prefix, if this entire prefix is in the dict, then there is a True solution\n",
    "            sub = s[:i+1]\n",
    "            if sub in wordDict:\n",
    "                k[i] = True\n",
    "            else:\n",
    "                #There is no solution for the entire prefix, check suboptional solutions.\n",
    "                #Have an increasing split in the prefix, check if one side has a suboptional solution, and if the\n",
    "                #other side is in wordDict.\n",
    "                for j in range(len(sub)):\n",
    "                    substring = sub[j+1:]\n",
    "                    if k[j] and substring in wordDict :\n",
    "                        k[i] = True\n",
    "                        break\n",
    "        return(k[-1])\n",
    "        \n",
    "Solution().wordBreak(\"abcdef\", [\"a\", \"bc\",\"ef\",\"d\"])"
   ]
  },
  {
   "cell_type": "markdown",
   "metadata": {},
   "source": [
    "#### Result:  Accepted\n",
    "#### Runtime: 44ms (59.98%)\n",
    "#### Memory: 12.9mb (100%)"
   ]
  }
 ],
 "metadata": {
  "kernelspec": {
   "display_name": "Python 3",
   "language": "python",
   "name": "python3"
  },
  "language_info": {
   "codemirror_mode": {
    "name": "ipython",
    "version": 3
   },
   "file_extension": ".py",
   "mimetype": "text/x-python",
   "name": "python",
   "nbconvert_exporter": "python",
   "pygments_lexer": "ipython3",
   "version": "3.7.4"
  }
 },
 "nbformat": 4,
 "nbformat_minor": 2
}
