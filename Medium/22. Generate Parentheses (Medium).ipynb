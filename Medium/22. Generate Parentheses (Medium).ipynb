{
 "cells": [
  {
   "cell_type": "markdown",
   "metadata": {},
   "source": [
    "# 22. Generate Parentheses\n",
    "\n",
    "\n",
    "Given n pairs of parentheses, write a function to generate all combinations of well-formed parentheses.\n",
    "\n",
    "For example, given n = 3, a solution set is:\n",
    "\n",
    "[\n",
    "  \"((()))\",\n",
    "  \"(()())\",\n",
    "  \"(())()\",\n",
    "  \"()(())\",\n",
    "  \"()()()\"\n",
    "]"
   ]
  },
  {
   "cell_type": "markdown",
   "metadata": {},
   "source": [
    "## Option 1\n",
    "<p>\n",
    "    DFS\n",
    "    <p> \n",
    "<p>\n",
    "    <p>\n",
    "Time complexity: O(n)\n",
    "    <br>\n",
    "Space complexity: O(n)"
   ]
  },
  {
   "cell_type": "code",
   "execution_count": null,
   "metadata": {
    "scrolled": false
   },
   "outputs": [],
   "source": [
    "class Solution:\n",
    "    \n",
    "    def generateParenthesis(self, n: int) -> [str]:\n",
    "        lenght = n * 2\n",
    "        brackets = ['(',')']\n",
    "        combinations = []\n",
    "        \n",
    "        def isValid(value):\n",
    "            opened = value.count(brackets[0])\n",
    "            closed = value.count(brackets[1])\n",
    "            \n",
    "            if closed > opened:\n",
    "                return False\n",
    "            if opened > n:\n",
    "                return False\n",
    "            if closed > n:\n",
    "                return False\n",
    "            return True\n",
    "            \n",
    "        \n",
    "        def search(index, value):\n",
    "            for i in brackets:\n",
    "                new_value = value + i\n",
    "                if isValid(new_value):\n",
    "                    if index < lenght:\n",
    "                        search(index+1, new_value)\n",
    "                    else:\n",
    "                        combinations.append(new_value)\n",
    "            return combinations\n",
    "        \n",
    "        return search(1, \"\")\n",
    "        \n",
    "            \n",
    "        \n",
    "Solution().generateParenthesis(2)\n"
   ]
  },
  {
   "cell_type": "markdown",
   "metadata": {},
   "source": [
    "#### Result: 40ms (69.12%)"
   ]
  },
  {
   "cell_type": "markdown",
   "metadata": {},
   "source": [
    "## Option 2\n",
    "<p>\n",
    "    DFS. The above shortened slightly\n",
    "    <p> \n",
    "<p>\n",
    "    <p>\n",
    "Time complexity: O(n)\n",
    "    <br>\n",
    "Space complexity: O(n)"
   ]
  },
  {
   "cell_type": "code",
   "execution_count": null,
   "metadata": {},
   "outputs": [],
   "source": [
    "class Solution:\n",
    "    \n",
    "    def generateParenthesis(self, n: int) -> [str]:\n",
    "        lenght = n * 2\n",
    "        brackets = ['(',')']\n",
    "        combinations = []\n",
    "        \n",
    "        def search(index, value):\n",
    "            for i in brackets:\n",
    "                new_value = value + i\n",
    "                \n",
    "                opened = new_value.count(brackets[0])\n",
    "                closed = new_value.count(brackets[1])\n",
    "                \n",
    "                if closed <= opened and opened <= n:\n",
    "                    if index < lenght:\n",
    "                        search(index+1, new_value)\n",
    "                    else:\n",
    "                        combinations.append(new_value)\n",
    "\n",
    "            return combinations\n",
    "        \n",
    "        return search(1, \"\")\n",
    "        \n",
    "            \n",
    "        \n",
    "Solution().generateParenthesis(0)"
   ]
  },
  {
   "cell_type": "markdown",
   "metadata": {},
   "source": [
    "#### Result: 40ms (69.12%)"
   ]
  },
  {
   "cell_type": "markdown",
   "metadata": {},
   "source": [
    "## Option 3\n",
    "<p>\n",
    "    DP Top down\n",
    "    <p> \n",
    "<p>\n",
    "    <p>\n",
    "Time complexity: O(n)\n",
    "    <br>\n",
    "Space complexity: O(n)"
   ]
  },
  {
   "cell_type": "code",
   "execution_count": null,
   "metadata": {},
   "outputs": [],
   "source": [
    "class Solution(object):\n",
    "    def generateParenthesis(self, n):\n",
    "        \n",
    "        def search(o,c):\n",
    "            if o+c == 1: return ['(' if o else ')']\n",
    "            opn = map(lambda x: '('+x, search(o-1,c)) if o > 0 else []\n",
    "            cls = map(lambda x: ')'+x, search(o,c-1)) if c > o else []\n",
    "            \n",
    "            return opn + cls\n",
    "        \n",
    "        return search(n,n)\n",
    "            \n",
    "Solution().generateParenthesis(5)\n",
    "        "
   ]
  },
  {
   "cell_type": "markdown",
   "metadata": {},
   "source": [
    "#### Result: 24ms (67.55%)"
   ]
  }
 ],
 "metadata": {
  "kernelspec": {
   "display_name": "Python 2",
   "language": "python",
   "name": "python2"
  },
  "language_info": {
   "codemirror_mode": {
    "name": "ipython",
    "version": 2
   },
   "file_extension": ".py",
   "mimetype": "text/x-python",
   "name": "python",
   "nbconvert_exporter": "python",
   "pygments_lexer": "ipython2",
   "version": "2.7.16"
  }
 },
 "nbformat": 4,
 "nbformat_minor": 2
}
