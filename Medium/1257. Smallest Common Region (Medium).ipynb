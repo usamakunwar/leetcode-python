{
 "cells": [
  {
   "cell_type": "markdown",
   "metadata": {},
   "source": [
    "# 1257. Smallest Common Region (Medium)"
   ]
  },
  {
   "cell_type": "markdown",
   "metadata": {},
   "source": [
    "<div><p>You are given some lists of <code>regions</code>&nbsp;where the first region of each list includes all other regions in that list.</p>\n",
    "\n",
    "<p>Naturally, if a region <code>X</code>&nbsp;contains another region <code>Y</code>&nbsp;then <code>X</code>&nbsp;is bigger than <code>Y</code>. Also by definition a region X contains itself.</p>\n",
    "\n",
    "<p>Given two regions <code>region1</code>, <code>region2</code>, find out the <strong>smallest</strong> region that contains both of them.</p>\n",
    "\n",
    "<p>If you are given regions <code>r1</code>, <code>r2</code> and <code>r3</code> such that <code>r1</code> includes <code>r3</code>, it is guaranteed there is no <code>r2</code> such that <code>r2</code> includes <code>r3</code>.<br>\n",
    "<br>\n",
    "It's guaranteed the smallest region exists.</p>\n",
    "\n",
    "<p>&nbsp;</p>\n",
    "<p><strong>Example 1:</strong></p>\n",
    "\n",
    "<pre><strong>Input:\n",
    "</strong>regions = [[\"Earth\",\"North America\",\"South America\"],\n",
    "[\"North America\",\"United States\",\"Canada\"],\n",
    "[\"United States\",\"New York\",\"Boston\"],\n",
    "[\"Canada\",\"Ontario\",\"Quebec\"],\n",
    "[\"South America\",\"Brazil\"]],\n",
    "region1 = \"Quebec\",\n",
    "region2 = \"New York\"\n",
    "<strong>Output:</strong> \"North America\"\n",
    "</pre>\n",
    "\n",
    "<p>&nbsp;</p>\n",
    "<p><strong>Constraints:</strong></p>\n",
    "\n",
    "<ul>\n",
    "\t<li><code>2 &lt;= regions.length &lt;= 10^4</code></li>\n",
    "\t<li><code>region1 != region2</code></li>\n",
    "\t<li>All strings consist of English letters and spaces with at most 20 letters.</li>\n",
    "</ul>\n",
    "</div>"
   ]
  },
  {
   "cell_type": "markdown",
   "metadata": {},
   "source": [
    "## Option 1\n",
    "\n",
    "<p>\n",
    "    <li>Imagine a tree structure, we track the path from region1 to the root node\n",
    "    <li>Then track the path from region2 to the root node, as soon as a node matches between paths we have an answer\n",
    " <p>\n",
    "     <p>\n",
    "Time complexity: O(n) number of regions\n",
    "<br>\n",
    "Space complexity: O(n)"
   ]
  },
  {
   "cell_type": "code",
   "execution_count": null,
   "metadata": {
    "scrolled": false
   },
   "outputs": [],
   "source": [
    "import collections\n",
    "class Solution(object):\n",
    "    def findSmallestRegion(self, regions, region1, region2):\n",
    "        m = {r[j]:r[0] for r in regions for j in range(1,len(r))}\n",
    "        \n",
    "        region1_path = set()\n",
    "        while region1 in m:\n",
    "            region1_path.add(region1)\n",
    "            region1 = m[region1]\n",
    "        while region2 not in region1_path and region2 in m:\n",
    "            region2 = m[region2]\n",
    "        return region2\n",
    "        \n",
    "Solution().findSmallestRegion([\n",
    "                               [\"Earth\",\"North America\",\"South America\"],\n",
    "                               [\"North America\",\"United States\",\"Canada\"],\n",
    "                               [\"United States\",\"New York\",\"Boston\"],\n",
    "                               [\"Canada\",\"Ontario\",\"Quebec\"],\n",
    "                               [\"South America\",\"Brazil\"]],\n",
    "                              \"South America\", \"North America\")\n",
    "\n"
   ]
  },
  {
   "cell_type": "markdown",
   "metadata": {},
   "source": [
    "#### Result: 180ms (97.96%)"
   ]
  }
 ],
 "metadata": {
  "kernelspec": {
   "display_name": "Python 2",
   "language": "python",
   "name": "python2"
  },
  "language_info": {
   "codemirror_mode": {
    "name": "ipython",
    "version": 2
   },
   "file_extension": ".py",
   "mimetype": "text/x-python",
   "name": "python",
   "nbconvert_exporter": "python",
   "pygments_lexer": "ipython2",
   "version": "2.7.16"
  }
 },
 "nbformat": 4,
 "nbformat_minor": 2
}
