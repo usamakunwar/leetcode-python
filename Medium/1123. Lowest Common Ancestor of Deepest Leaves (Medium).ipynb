{
 "cells": [
  {
   "cell_type": "markdown",
   "metadata": {},
   "source": [
    "# 1123. Lowest Common Ancestor of Deepest Leaves (Medium)"
   ]
  },
  {
   "cell_type": "markdown",
   "metadata": {},
   "source": [
    "<div><p>Given a rooted binary tree, return the lowest common ancestor of its deepest leaves.</p>\n",
    "\n",
    "<p>Recall that:</p>\n",
    "\n",
    "<ul>\n",
    "\t<li>The node of a binary tree is a <em>leaf</em> if and only if it has no children</li>\n",
    "\t<li>The <em>depth</em> of the root of the tree is 0, and if the depth of a node is <code>d</code>, the depth of each of its children&nbsp;is&nbsp;<code>d+1</code>.</li>\n",
    "\t<li>The <em>lowest common ancestor</em> of a set <code>S</code> of nodes is the node <code>A</code> with the largest depth such that every node in S is in the subtree with root <code>A</code>.</li>\n",
    "</ul>\n",
    "\n",
    "<p>&nbsp;</p>\n",
    "<p><strong>Example 1:</strong></p>\n",
    "\n",
    "<pre><strong>Input:</strong> root = [1,2,3]\n",
    "<strong>Output:</strong> [1,2,3]\n",
    "<strong>Explanation:</strong> \n",
    "The deepest leaves are the nodes with values 2 and 3.\n",
    "The lowest common ancestor of these leaves is the node with value 1.\n",
    "The answer returned is a TreeNode object (not an array) with serialization \"[1,2,3]\".\n",
    "</pre>\n",
    "\n",
    "<p><strong>Example 2:</strong></p>\n",
    "\n",
    "<pre><strong>Input:</strong> root = [1,2,3,4]\n",
    "<strong>Output:</strong> [4]\n",
    "</pre>\n",
    "\n",
    "<p><strong>Example 3:</strong></p>\n",
    "\n",
    "<pre><strong>Input:</strong> root = [1,2,3,4,5]\n",
    "<strong>Output:</strong> [2,4,5]\n",
    "</pre>\n",
    "\n",
    "<p>&nbsp;</p>\n",
    "<p><strong>Constraints:</strong></p>\n",
    "\n",
    "<ul>\n",
    "\t<li>The given tree will have between 1 and 1000 nodes.</li>\n",
    "\t<li>Each node of the tree will have a distinct value between 1 and 1000.</li>\n",
    "</ul>\n",
    "</div>"
   ]
  },
  {
   "cell_type": "markdown",
   "metadata": {},
   "source": [
    "## Option 1\n",
    "<p>             \n",
    "           \n",
    "Time complexity: O(n)\n",
    "    <br>\n",
    "Space complexity: O(n)\n"
   ]
  },
  {
   "cell_type": "code",
   "execution_count": null,
   "metadata": {},
   "outputs": [],
   "source": [
    "class Solution(object):\n",
    "    def lcaDeepestLeaves(self, root):\n",
    "        \n",
    "        def search(node):\n",
    "            if not node.left and not node.right:\n",
    "                return (1,node)\n",
    "            l, l_lca = search(node.left) if node.left else (0,None)\n",
    "            r, r_lca = search(node.right) if node.right else (0,None)\n",
    "            if l == r:\n",
    "                return (l+1,node) \n",
    "            elif l > r: \n",
    "                return (l+1, l_lca)\n",
    "            else:\n",
    "                return (r+1, r_lca)\n",
    "                    \n",
    "        return search(root)[1]\n",
    "        "
   ]
  },
  {
   "cell_type": "markdown",
   "metadata": {},
   "source": [
    "#### Result: 40ms (72.04%)"
   ]
  }
 ],
 "metadata": {
  "kernelspec": {
   "display_name": "Python 2",
   "language": "python",
   "name": "python2"
  },
  "language_info": {
   "codemirror_mode": {
    "name": "ipython",
    "version": 2
   },
   "file_extension": ".py",
   "mimetype": "text/x-python",
   "name": "python",
   "nbconvert_exporter": "python",
   "pygments_lexer": "ipython2",
   "version": "2.7.16"
  }
 },
 "nbformat": 4,
 "nbformat_minor": 2
}
