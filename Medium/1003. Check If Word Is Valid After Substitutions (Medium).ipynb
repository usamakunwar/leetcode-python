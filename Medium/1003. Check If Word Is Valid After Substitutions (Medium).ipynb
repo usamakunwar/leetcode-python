{
 "cells": [
  {
   "cell_type": "markdown",
   "metadata": {},
   "source": [
    "# 1003. Check If Word Is Valid After Substitutions (Medium)\n"
   ]
  },
  {
   "cell_type": "markdown",
   "metadata": {},
   "source": [
    "<div><p>We are given that the string <code>\"abc\"</code> is valid.</p>\n",
    "\n",
    "<p>From any valid string <code>V</code>, we may split&nbsp;<code>V</code> into two pieces <code>X</code> and <code>Y</code> such that <code>X + Y</code> (<code>X</code> concatenated with <code>Y</code>) is equal to <code>V</code>.&nbsp; (<code>X</code> or <code>Y</code> may be empty.)&nbsp; Then, <code>X + \"abc\" + Y</code> is also valid.</p>\n",
    "\n",
    "<p>If for example <code>S = \"abc\"</code>, then examples of valid strings are: <code>\"abc\", \"aabcbc\", \"abcabc\", \"abcabcababcc\"</code>.&nbsp; Examples of <strong>invalid</strong>&nbsp;strings are: <code>\"abccba\"</code>, <code>\"ab\"</code>, <code>\"cababc\"</code>, <code>\"bac\"</code>.</p>\n",
    "\n",
    "<p>Return <code>true</code> if and only if the given string&nbsp;<code>S</code>&nbsp;is valid.</p>\n",
    "\n",
    "<p>&nbsp;</p>\n",
    "\n",
    "<p><strong>Example 1:</strong></p>\n",
    "\n",
    "<pre><strong>Input: </strong><span id=\"example-input-1-1\">\"aabcbc\"</span>\n",
    "<strong>Output: </strong><span id=\"example-output-1\">true</span>\n",
    "<strong>Explanation: </strong>\n",
    "We start with the valid string \"abc\".\n",
    "Then we can insert another \"abc\" between \"a\" and \"bc\", resulting in \"a\" + \"abc\" + \"bc\" which is \"aabcbc\".\n",
    "</pre>\n",
    "\n",
    "<div>\n",
    "<p><strong>Example 2:</strong></p>\n",
    "\n",
    "<pre><strong>Input: </strong><span id=\"example-input-2-1\">\"abcabcababcc\"</span>\n",
    "<strong>Output: </strong><span id=\"example-output-2\">true</span>\n",
    "<strong>Explanation: </strong>\n",
    "\"abcabcabc\" is valid after consecutive insertings of \"abc\".\n",
    "Then we can insert \"abc\" before the last letter, resulting in \"abcabcab\" + \"abc\" + \"c\" which is \"abcabcababcc\".\n",
    "</pre>\n",
    "\n",
    "<div>\n",
    "<p><strong>Example 3:</strong></p>\n",
    "\n",
    "<pre><strong>Input: </strong><span id=\"example-input-3-1\">\"abccba\"</span>\n",
    "<strong>Output: </strong><span id=\"example-output-3\">false</span>\n",
    "</pre>\n",
    "\n",
    "<div>\n",
    "<p><strong>Example 4:</strong></p>\n",
    "\n",
    "<pre><strong>Input: </strong><span id=\"example-input-4-1\">\"cababc\"</span>\n",
    "<strong>Output: </strong><span id=\"example-output-4\">false</span></pre>\n",
    "\n",
    "<p>&nbsp;</p>\n",
    "</div>\n",
    "</div>\n",
    "</div>\n",
    "\n",
    "<p><strong>Note:</strong></p>\n",
    "\n",
    "<ol>\n",
    "\t<li><code>1 &lt;= S.length &lt;= 20000</code></li>\n",
    "\t<li><code>S[i]</code> is <code>'a'</code>, <code>'b'</code>, or <code>'c'</code></li>\n",
    "</ol>\n",
    "\n",
    "<div>\n",
    "<div>\n",
    "<div>\n",
    "<div>&nbsp;</div>\n",
    "</div>\n",
    "</div>\n",
    "</div></div>"
   ]
  },
  {
   "cell_type": "markdown",
   "metadata": {},
   "source": [
    "## Option 1\n",
    "<p>    \n",
    "<p>In English: Can S be made of abc's\n",
    " <p> <p>\n",
    "Time complexity: O(n)\n",
    "    <br>\n",
    "Space complexity: O(n)\n"
   ]
  },
  {
   "cell_type": "code",
   "execution_count": null,
   "metadata": {
    "scrolled": false
   },
   "outputs": [],
   "source": [
    "class Solution(object):\n",
    "    def isValid(self, S):\n",
    "        stack = []\n",
    "        for s in S:\n",
    "            if s == 'c':\n",
    "                if len(stack) > 1 and stack[-1] == 'b' and stack[-2] == 'a': \n",
    "                    stack.pop()\n",
    "                    stack.pop()\n",
    "            else:\n",
    "                stack.append(s)\n",
    "        return not stack\n",
    "\n",
    "Solution().isValid(\"aabcbc\")\n"
   ]
  },
  {
   "cell_type": "markdown",
   "metadata": {},
   "source": [
    "#### Result: 164ms (9.93%)"
   ]
  }
 ],
 "metadata": {
  "kernelspec": {
   "display_name": "Python 2",
   "language": "python",
   "name": "python2"
  },
  "language_info": {
   "codemirror_mode": {
    "name": "ipython",
    "version": 2
   },
   "file_extension": ".py",
   "mimetype": "text/x-python",
   "name": "python",
   "nbconvert_exporter": "python",
   "pygments_lexer": "ipython2",
   "version": "2.7.16"
  }
 },
 "nbformat": 4,
 "nbformat_minor": 2
}
