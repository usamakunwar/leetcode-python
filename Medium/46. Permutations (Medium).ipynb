{
 "cells": [
  {
   "cell_type": "markdown",
   "metadata": {},
   "source": [
    "# 46. Permutations (Medium)"
   ]
  },
  {
   "cell_type": "markdown",
   "metadata": {},
   "source": [
    "<div><p>Given a collection of <strong>distinct</strong> integers, return all possible permutations.</p>\n",
    "\n",
    "<p><strong>Example:</strong></p>\n",
    "\n",
    "<pre><strong>Input:</strong> [1,2,3]\n",
    "<strong>Output:</strong>\n",
    "[\n",
    "  [1,2,3],\n",
    "  [1,3,2],\n",
    "  [2,1,3],\n",
    "  [2,3,1],\n",
    "  [3,1,2],\n",
    "  [3,2,1]\n",
    "]\n",
    "</pre>\n",
    "</div>"
   ]
  },
  {
   "cell_type": "markdown",
   "metadata": {},
   "source": [
    "## Option 1\n",
    "<p>\n",
    "    DFS / Backtracking\n",
    "\n",
    "Time complexity = O(nn!)\n",
    "<br>\n",
    "Space complexity = O(n!)"
   ]
  },
  {
   "cell_type": "code",
   "execution_count": null,
   "metadata": {
    "scrolled": true
   },
   "outputs": [],
   "source": [
    "import collections, heapq\n",
    "class Solution(object):\n",
    "    def permute(self, nums):\n",
    "        def search(arr,curr):\n",
    "            if not arr:\n",
    "                return [curr]\n",
    "            res = []\n",
    "            for i in range(len(arr)):\n",
    "                res += search(arr[:i]+arr[i+1:], curr+[arr[i]])\n",
    "            return res\n",
    "        return search(nums,[])\n",
    "    \n",
    "Solution().permute([1,2,3])\n",
    "        "
   ]
  },
  {
   "cell_type": "markdown",
   "metadata": {},
   "source": [
    "#### Result: 48ms (11.66%)"
   ]
  },
  {
   "cell_type": "markdown",
   "metadata": {},
   "source": [
    "## Option 2\n",
    "<p>\n",
    "    DP Top down + Bit manipulation\n",
    "\n",
    "Time complexity = O(nn!)\n",
    "<br>\n",
    "Space complexity = O(n!)"
   ]
  },
  {
   "cell_type": "code",
   "execution_count": null,
   "metadata": {},
   "outputs": [],
   "source": [
    "class Solution(object):\n",
    "    def permute(self, nums):\n",
    "        \n",
    "        self.seen = {0:[[]]}\n",
    "        \n",
    "        def search(mask):\n",
    "            if mask in self.seen: return self.seen[mask]\n",
    "            res = []\n",
    "            i, curr = 0, 1\n",
    "            while curr <= mask:\n",
    "                if mask&curr:\n",
    "                    res += map(lambda x:[nums[i]]+x ,search(mask^curr))\n",
    "                curr <<= 1\n",
    "                i += 1\n",
    "            self.seen[mask] = res\n",
    "            return res\n",
    "        \n",
    "        return search(2**len(nums)-1)\n",
    "        \n",
    "        \n",
    "Solution().permute([1,2,3])\n"
   ]
  },
  {
   "cell_type": "markdown",
   "metadata": {},
   "source": [
    "#### Result: 32ms (51.19%)"
   ]
  }
 ],
 "metadata": {
  "kernelspec": {
   "display_name": "Python 3",
   "language": "python",
   "name": "python3"
  },
  "language_info": {
   "codemirror_mode": {
    "name": "ipython",
    "version": 3
   },
   "file_extension": ".py",
   "mimetype": "text/x-python",
   "name": "python",
   "nbconvert_exporter": "python",
   "pygments_lexer": "ipython3",
   "version": "3.7.4"
  }
 },
 "nbformat": 4,
 "nbformat_minor": 2
}
