{
 "cells": [
  {
   "cell_type": "markdown",
   "metadata": {},
   "source": [
    "# 163. Missing Ranges (Medium)\n"
   ]
  },
  {
   "cell_type": "markdown",
   "metadata": {},
   "source": [
    "<div><p>Given a sorted integer array <strong><em>nums</em></strong>, where the range of elements are in the <strong>inclusive range</strong><b><strong> </strong>[<i>lower</i>, <i>upper</i>]</b>, return its missing ranges.</p>\n",
    "\n",
    "<p><strong>Example:</strong></p>\n",
    "\n",
    "<pre><strong>Input:</strong> <strong><em>nums</em></strong> = <code>[0, 1, 3, 50, 75]</code>, <strong><i>lower</i></strong> = 0 and <strong><i>upper</i></strong> = 99,\n",
    "<strong>Output:</strong> <code>[\"2\", \"4-&gt;49\", \"51-&gt;74\", \"76-&gt;99\"]</code>\n",
    "</pre>\n",
    "</div>"
   ]
  },
  {
   "cell_type": "markdown",
   "metadata": {},
   "source": [
    "## Option 1\n",
    "<p>\n",
    "      <p>         <p>\n",
    "Time complexity: O(n)\n",
    "    <br>\n",
    "Space complexity: O(1)\n"
   ]
  },
  {
   "cell_type": "code",
   "execution_count": null,
   "metadata": {
    "scrolled": true
   },
   "outputs": [],
   "source": [
    "class Solution(object):\n",
    "    def findMissingRanges(self, nums, lower, upper):\n",
    "        res = []\n",
    "        for i in range(len(nums)+1):\n",
    "            prev = lower if i == 0 else nums[i-1]+1\n",
    "            curr = upper if i == len(nums) else nums[i]-1\n",
    "            if curr >= prev:\n",
    "                res.append(str(prev) if prev == curr else str(prev)+'->'+str(curr))\n",
    "        return res        \n",
    "        \n",
    "Solution().findMissingRanges([0, 1, 3, 50, 75], 0, 99)     \n"
   ]
  },
  {
   "cell_type": "markdown",
   "metadata": {},
   "source": [
    "#### Result: 16ms (76.14%)"
   ]
  }
 ],
 "metadata": {
  "kernelspec": {
   "display_name": "Python 2",
   "language": "python",
   "name": "python2"
  },
  "language_info": {
   "codemirror_mode": {
    "name": "ipython",
    "version": 2
   },
   "file_extension": ".py",
   "mimetype": "text/x-python",
   "name": "python",
   "nbconvert_exporter": "python",
   "pygments_lexer": "ipython2",
   "version": "2.7.16"
  }
 },
 "nbformat": 4,
 "nbformat_minor": 2
}
