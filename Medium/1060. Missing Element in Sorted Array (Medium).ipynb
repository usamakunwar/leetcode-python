{
 "cells": [
  {
   "cell_type": "markdown",
   "metadata": {},
   "source": [
    "# 1060. Missing Element in Sorted Array (Medium)"
   ]
  },
  {
   "cell_type": "markdown",
   "metadata": {},
   "source": [
    "<div>Given an array consists of non-negative integers,  your task is to count the number of triplets chosen from the array that can make triangles if we take them as side lengths of a triangle.\n",
    "\n",
    "<p><b>Example 1:</b><br>\n",
    "</p><pre><b>Input:</b> [2,2,3,4]\n",
    "<b>Output:</b> 3\n",
    "<b>Explanation:</b>\n",
    "Valid combinations are: \n",
    "2,3,4 (using the first 2)\n",
    "2,3,4 (using the second 2)\n",
    "2,2,3\n",
    "</pre>\n",
    "<p></p>\n",
    "\n",
    "<p><b>Note:</b><br>\n",
    "</p><ol>\n",
    "<li>The length of the given array won't exceed 1000.</li>\n",
    "<li>The integers in the given array are in the range of [0, 1000].</li>\n",
    "</ol>\n",
    "<p></p>\n",
    "</div>"
   ]
  },
  {
   "cell_type": "markdown",
   "metadata": {},
   "source": [
    "## Option 1\n",
    "<p>\n",
    "Time complexity: O(n)\n",
    "<br>\n",
    "Space complexity: O(1)\n"
   ]
  },
  {
   "cell_type": "code",
   "execution_count": null,
   "metadata": {
    "scrolled": true
   },
   "outputs": [],
   "source": [
    "class Solution(object):\n",
    "    def missingElement(self, nums, k):\n",
    "        for i in range(len(nums)-1):\n",
    "            v = nums[i+1]-nums[i]-1\n",
    "            if k-v <= 0 :\n",
    "                return nums[i]+k\n",
    "            k -= v\n",
    "        return nums[-1]+k\n",
    "        \n",
    "Solution().missingElement([1,3000,3450],3001)"
   ]
  },
  {
   "cell_type": "markdown",
   "metadata": {},
   "source": [
    "#### Result: 284ms 45.74%)"
   ]
  },
  {
   "cell_type": "markdown",
   "metadata": {},
   "source": [
    "## Option 2\n",
    "\n",
    "Time complexity: O(n)\n",
    "<br>\n",
    "Space complexity: O(1)\n"
   ]
  },
  {
   "cell_type": "code",
   "execution_count": null,
   "metadata": {},
   "outputs": [],
   "source": [
    "class Solution(object):\n",
    "    def missingElement(self, nums, k):\n",
    "        ln = len(nums)\n",
    "        #Exit early for when the missing will be beyond nums\n",
    "        missing = nums[-1]-(nums[0]+(ln-1))\n",
    "        if missing < k: \n",
    "            return nums[-1]+(k-missing)\n",
    "        for i in range(len(nums)-1):\n",
    "            v = nums[i+1]-nums[i]-1\n",
    "            if k-v <= 0 :\n",
    "                return nums[i]+k\n",
    "            k -= v\n",
    "  \n",
    "Solution().missingElement([1,3000,3450],3001)\n"
   ]
  },
  {
   "cell_type": "markdown",
   "metadata": {},
   "source": [
    "#### Result: 328ms (57.43%)"
   ]
  },
  {
   "cell_type": "markdown",
   "metadata": {},
   "source": [
    "## Option 3\n",
    "\n",
    "Binary search\n",
    "\n",
    "Time complexity: O(logn)\n",
    "<br>\n",
    "Space complexity: O(1)\n"
   ]
  },
  {
   "cell_type": "code",
   "execution_count": null,
   "metadata": {},
   "outputs": [],
   "source": [
    "class Solution(object):\n",
    "    def missingElement(self, nums, k):\n",
    "        ln = len(nums)\n",
    "        missing = lambda i: nums[i]-nums[0]-i\n",
    "        m = missing(ln-1)\n",
    "        if m < k: return nums[-1]+(k-m)        \n",
    "        l,r = 0,ln\n",
    "        while l < r:\n",
    "            mid = (l+r)//2\n",
    "            if missing(mid) < k:\n",
    "                l = mid + 1\n",
    "            else:\n",
    "                r = mid\n",
    "        return nums[l-1] + k - missing(l-1)\n",
    "  \n",
    "Solution().missingElement([4,7,9,10],3)\n"
   ]
  },
  {
   "cell_type": "markdown",
   "metadata": {},
   "source": [
    "#### Result: 268ms (78.42%)"
   ]
  }
 ],
 "metadata": {
  "kernelspec": {
   "display_name": "Python 2",
   "language": "python",
   "name": "python2"
  },
  "language_info": {
   "codemirror_mode": {
    "name": "ipython",
    "version": 2
   },
   "file_extension": ".py",
   "mimetype": "text/x-python",
   "name": "python",
   "nbconvert_exporter": "python",
   "pygments_lexer": "ipython2",
   "version": "2.7.16"
  }
 },
 "nbformat": 4,
 "nbformat_minor": 2
}
