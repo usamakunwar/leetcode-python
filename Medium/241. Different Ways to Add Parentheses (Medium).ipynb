{
 "cells": [
  {
   "cell_type": "markdown",
   "metadata": {},
   "source": [
    "# 241. Different Ways to Add Parentheses (Medium)\n"
   ]
  },
  {
   "cell_type": "markdown",
   "metadata": {},
   "source": [
    "<div><p>Given a string of numbers and operators, return all possible results from computing all the different possible ways to group numbers and operators. The valid operators are <code>+</code>, <code>-</code> and <code>*</code>.</p>\n",
    "\n",
    "<p><b>Example 1:</b></p>\n",
    "\n",
    "<pre><b>Input:</b> <code>\"2-1-1\"</code>\n",
    "<b>Output:</b> <code>[0, 2]</code>\n",
    "<strong>Explanation: </strong>\n",
    "((2-1)-1) = 0 \n",
    "(2-(1-1)) = 2</pre>\n",
    "\n",
    "<p><b>Example 2:</b></p>\n",
    "\n",
    "<pre><b>Input: </b><code>\"2*3-4*5\"</code>\n",
    "<b>Output:</b> <code>[-34, -14, -10, -10, 10]</code>\n",
    "<strong>Explanation: \n",
    "</strong>(2*(3-(4*5))) = -34 \n",
    "((2*3)-(4*5)) = -14 \n",
    "((2*(3-4))*5) = -10 \n",
    "(2*((3-4)*5)) = -10 \n",
    "(((2*3)-4)*5) = 10<strong>\n",
    "</strong></pre></div>"
   ]
  },
  {
   "cell_type": "markdown",
   "metadata": {},
   "source": [
    "## Option 1\n",
    " <p>     <p>\n",
    "    <p>\n",
    "        <li>Divide and conquer, top down\n",
    "<p>\n"
   ]
  },
  {
   "cell_type": "code",
   "execution_count": null,
   "metadata": {},
   "outputs": [],
   "source": [
    "import operator\n",
    "class Solution(object):\n",
    "    def diffWaysToCompute(self, nums):\n",
    "        ops = { \"+\": operator.add, \"-\": operator.sub, '*' : operator.mul}\n",
    "        \n",
    "        self.seen = {}\n",
    "        def search(l,r):\n",
    "            if (l,r) in self.seen: return self.seen[(l,r)]\n",
    "            \n",
    "            res = []\n",
    "            for j in range(l,r):\n",
    "                if nums[j] not in ops: continue\n",
    "                A,B = search(l,j-1), search(j+1,r) \n",
    "                for a in A:\n",
    "                    for b in B:\n",
    "                        res.append(ops[nums[j]](a,b))\n",
    "            \n",
    "            #If res is empty that means l:r+1 does not have an operation, so its an end integer\n",
    "            if not res: \n",
    "                res = [int(nums[l:r+1])] \n",
    "                \n",
    "            self.seen[(l,r)] = res\n",
    "            return res\n",
    "            \n",
    "        return search(0,len(nums)-1)\n",
    "    \n",
    "Solution().diffWaysToCompute(\"122*123*12\")\n",
    "    "
   ]
  },
  {
   "cell_type": "markdown",
   "metadata": {},
   "source": [
    "#### Result: 20ms (87.64%)"
   ]
  }
 ],
 "metadata": {
  "kernelspec": {
   "display_name": "Python 2",
   "language": "python",
   "name": "python2"
  },
  "language_info": {
   "codemirror_mode": {
    "name": "ipython",
    "version": 2
   },
   "file_extension": ".py",
   "mimetype": "text/x-python",
   "name": "python",
   "nbconvert_exporter": "python",
   "pygments_lexer": "ipython2",
   "version": "2.7.16"
  }
 },
 "nbformat": 4,
 "nbformat_minor": 2
}
