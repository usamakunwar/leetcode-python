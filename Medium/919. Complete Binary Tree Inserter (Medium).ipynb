{
 "cells": [
  {
   "cell_type": "markdown",
   "metadata": {},
   "source": [
    "# 919. Complete Binary Tree Inserter (Medium)"
   ]
  },
  {
   "cell_type": "markdown",
   "metadata": {},
   "source": [
    "<div><p>A <em>complete</em> binary tree is a binary tree in which every level, except possibly the last, is completely filled, and all nodes are as far left as possible.</p>\n",
    "\n",
    "<p>Write a data structure&nbsp;<code>CBTInserter</code>&nbsp;that is initialized with a complete binary tree and supports the following operations:</p>\n",
    "\n",
    "<ul>\n",
    "\t<li><code>CBTInserter(TreeNode root)</code> initializes the data structure on a given tree&nbsp;with head node <code>root</code>;</li>\n",
    "\t<li><code>CBTInserter.insert(int v)</code> will insert a <code>TreeNode</code>&nbsp;into the tree with value <code>node.val =&nbsp;v</code>&nbsp;so that the tree remains complete, <strong>and returns the value of the parent of the inserted <code>TreeNode</code></strong>;</li>\n",
    "\t<li><code>CBTInserter.get_root()</code> will return the head node of the tree.</li>\n",
    "</ul>\n",
    "\n",
    "<ol>\n",
    "</ol>\n",
    "\n",
    "<div>\n",
    "<p>&nbsp;</p>\n",
    "\n",
    "<p><strong>Example 1:</strong></p>\n",
    "\n",
    "<pre><strong>Input: </strong>inputs = <span id=\"example-input-1-1\">[\"CBTInserter\",\"insert\",\"get_root\"]</span>, inputs = <span id=\"example-input-1-2\">[[[1]],[2],[]]</span>\n",
    "<strong>Output: </strong><span id=\"example-output-1\">[null,1,[1,2]]</span>\n",
    "</pre>\n",
    "\n",
    "<div>\n",
    "<p><strong>Example 2:</strong></p>\n",
    "\n",
    "<pre><strong>Input: </strong>inputs = <span id=\"example-input-2-1\">[\"CBTInserter\",\"insert\",\"insert\",\"get_root\"]</span>, inputs = <span id=\"example-input-2-2\">[[[1,2,3,4,5,6]],[7],[8],[]]</span>\n",
    "<strong>Output: </strong><span id=\"example-output-2\">[null,3,4,[1,2,3,4,5,6,7,8]]</span></pre>\n",
    "</div>\n",
    "\n",
    "<div>\n",
    "<p>&nbsp;</p>\n",
    "\n",
    "<p><strong>Note:</strong></p>\n",
    "\n",
    "<ol>\n",
    "\t<li>The initial given tree is complete and contains between <code>1</code> and <code>1000</code> nodes.</li>\n",
    "\t<li><code>CBTInserter.insert</code> is called at most <code>10000</code> times per test case.</li>\n",
    "\t<li>Every value of a given or inserted node is between <code>0</code> and <code>5000</code>.</li>\n",
    "</ol>\n",
    "</div>\n",
    "</div>\n",
    "\n",
    "<div>\n",
    "<p>&nbsp;</p>\n",
    "\n",
    "<div>&nbsp;</div>\n",
    "</div>\n",
    "</div>"
   ]
  },
  {
   "cell_type": "markdown",
   "metadata": {},
   "source": [
    "## Option 1\n",
    "<p>\n",
    "<p>BFS\n",
    "    <li>Create a queue of next node that need to be filled, then continue the process at every insert\n",
    "    <p>\n",
    "        <p>\n",
    "Time complexity: O(n)\n",
    "    <br>\n",
    "Space complexity: O(n)"
   ]
  },
  {
   "cell_type": "code",
   "execution_count": null,
   "metadata": {
    "scrolled": true
   },
   "outputs": [],
   "source": [
    "# Definition for a binary tree node.\n",
    "# class TreeNode(object):\n",
    "#     def __init__(self, x):\n",
    "#         self.val = x\n",
    "#         self.left = None\n",
    "#         self.right = None\n",
    "\n",
    "class CBTInserter(object):\n",
    "\n",
    "    def __init__(self, root):\n",
    "        self.root = root\n",
    "        self.q = collections.deque()\n",
    "        q = [root]        \n",
    "        while q:\n",
    "            new_q = []\n",
    "            for node in q:\n",
    "                if node.left: new_q.append(node.left)\n",
    "                if node.right: new_q.append(node.right)\n",
    "                if not node.left or not node.right:\n",
    "                    self.q.append(node)\n",
    "            q = new_q        \n",
    "\n",
    "    def insert(self, v):\n",
    "        if self.q[0].left:\n",
    "            node = self.q.popleft()\n",
    "            node.right = TreeNode(v)\n",
    "            self.q.append(node.right)\n",
    "        else:\n",
    "            node = self.q[0]\n",
    "            node.left = TreeNode(v)\n",
    "            self.q.append(node.left)\n",
    "        return node.val\n",
    "            \n",
    "\n",
    "    def get_root(self):\n",
    "        return self.root\n",
    "        \n",
    "\n",
    "# Your CBTInserter object will be instantiated and called as such:\n",
    "# obj = CBTInserter(root)\n",
    "# param_1 = obj.insert(v)\n",
    "# param_2 = obj.get_root()"
   ]
  },
  {
   "cell_type": "markdown",
   "metadata": {},
   "source": [
    "#### Result: 56ms (50.67%)"
   ]
  }
 ],
 "metadata": {
  "kernelspec": {
   "display_name": "Python 2",
   "language": "python",
   "name": "python2"
  },
  "language_info": {
   "codemirror_mode": {
    "name": "ipython",
    "version": 2
   },
   "file_extension": ".py",
   "mimetype": "text/x-python",
   "name": "python",
   "nbconvert_exporter": "python",
   "pygments_lexer": "ipython2",
   "version": "2.7.16"
  }
 },
 "nbformat": 4,
 "nbformat_minor": 2
}
