{
 "cells": [
  {
   "cell_type": "markdown",
   "metadata": {},
   "source": [
    "# 1305. All Elements in Two Binary Search Trees (Medium)"
   ]
  },
  {
   "cell_type": "markdown",
   "metadata": {},
   "source": [
    "<div><p>Given two binary search trees <code>root1</code> and <code>root2</code>.</p>\n",
    "\n",
    "<p>Return a list containing <em>all the integers</em> from <em>both trees</em> sorted in <strong>ascending</strong> order.</p>\n",
    "\n",
    "<p>&nbsp;</p>\n",
    "<p><strong>Example 1:</strong></p>\n",
    "<img alt=\"\" src=\"https://assets.leetcode.com/uploads/2019/12/18/q2-e1.png\" style=\"width: 457px; height: 207px;\">\n",
    "<pre><strong>Input:</strong> root1 = [2,1,4], root2 = [1,0,3]\n",
    "<strong>Output:</strong> [0,1,1,2,3,4]\n",
    "</pre>\n",
    "\n",
    "<p><strong>Example 2:</strong></p>\n",
    "\n",
    "<pre><strong>Input:</strong> root1 = [0,-10,10], root2 = [5,1,7,0,2]\n",
    "<strong>Output:</strong> [-10,0,0,1,2,5,7,10]\n",
    "</pre>\n",
    "\n",
    "<p><strong>Example 3:</strong></p>\n",
    "\n",
    "<pre><strong>Input:</strong> root1 = [], root2 = [5,1,7,0,2]\n",
    "<strong>Output:</strong> [0,1,2,5,7]\n",
    "</pre>\n",
    "\n",
    "<p><strong>Example 4:</strong></p>\n",
    "\n",
    "<pre><strong>Input:</strong> root1 = [0,-10,10], root2 = []\n",
    "<strong>Output:</strong> [-10,0,10]\n",
    "</pre>\n",
    "\n",
    "<p><strong>Example 5:</strong></p>\n",
    "<img alt=\"\" src=\"https://assets.leetcode.com/uploads/2019/12/18/q2-e5-.png\" style=\"width: 352px; height: 197px;\">\n",
    "<pre><strong>Input:</strong> root1 = [1,null,8], root2 = [8,1]\n",
    "<strong>Output:</strong> [1,1,8,8]\n",
    "</pre>\n",
    "\n",
    "<p>&nbsp;</p>\n",
    "<p><strong>Constraints:</strong></p>\n",
    "\n",
    "<ul>\n",
    "\t<li>Each tree has at most <code>5000</code> nodes.</li>\n",
    "\t<li>Each node's value is between <code>[-10^5, 10^5]</code>.</li>\n",
    "</ul></div>"
   ]
  },
  {
   "cell_type": "markdown",
   "metadata": {},
   "source": [
    "## Option 1\n",
    "\n",
    "Iterative in order LVR, both trees together, one node at time<br>\n",
    "\n",
    "<p>\n",
    "Time complexity = O(n+m)\n",
    "<br>\n",
    "Space complexity = O(n+m)"
   ]
  },
  {
   "cell_type": "code",
   "execution_count": null,
   "metadata": {
    "scrolled": false
   },
   "outputs": [],
   "source": [
    "class Solution:\n",
    "    def getAllElements(self, root1: TreeNode, root2: TreeNode) -> List[int]:\n",
    "        \n",
    "        s1,s2,res = [],[],[]\n",
    "\n",
    "        while True:\n",
    "            while root1 or root2:\n",
    "                if root1:\n",
    "                    s1.append(root1)\n",
    "                    root1 = root1.left\n",
    "                if root2:\n",
    "                    s2.append(root2)\n",
    "                    root2 = root2.left\n",
    "                    \n",
    "            if not s1 and not s2: return res\n",
    "            if not s2 or (s1 and s2 and s1[-1].val < s2[-1].val):\n",
    "                node = s1.pop()\n",
    "                root1 = node.right\n",
    "            else:\n",
    "                node = s2.pop()\n",
    "                root2 = node.right\n",
    "            \n",
    "            res.append(node.val)"
   ]
  },
  {
   "cell_type": "markdown",
   "metadata": {},
   "source": [
    "#### Result:  348ms (71.86%)"
   ]
  },
  {
   "cell_type": "markdown",
   "metadata": {},
   "source": [
    "## Option 2\n",
    "\n",
    "Recursive\n",
    "\n",
    "<p>\n",
    "Time complexity = O(n+m)\n",
    "<br>\n",
    "Space complexity = O(n+m)"
   ]
  },
  {
   "cell_type": "code",
   "execution_count": null,
   "metadata": {},
   "outputs": [],
   "source": [
    "class Solution(object):\n",
    "    def getAllElements(self, root1, root2):\n",
    "        \n",
    "        def search(node):\n",
    "            if not node: return []\n",
    "            return search(node.right) + [node.val] + search(node.left)\n",
    "        \n",
    "        a,b = search(root1), search(root2)\n",
    "\n",
    "        res = []\n",
    "        while a or b:\n",
    "            if a and (not b or a[-1] <= b[-1]):\n",
    "                res.append(a.pop())\n",
    "            if b and (not a or b[-1] <= a[-1]):\n",
    "                res.append(b.pop())\n",
    "                \n",
    "        return res\n"
   ]
  },
  {
   "cell_type": "markdown",
   "metadata": {},
   "source": [
    "#### Result:  1300ms (40.62%)\n"
   ]
  }
 ],
 "metadata": {
  "kernelspec": {
   "display_name": "Python 2",
   "language": "python",
   "name": "python2"
  },
  "language_info": {
   "codemirror_mode": {
    "name": "ipython",
    "version": 2
   },
   "file_extension": ".py",
   "mimetype": "text/x-python",
   "name": "python",
   "nbconvert_exporter": "python",
   "pygments_lexer": "ipython2",
   "version": "2.7.16"
  }
 },
 "nbformat": 4,
 "nbformat_minor": 2
}
