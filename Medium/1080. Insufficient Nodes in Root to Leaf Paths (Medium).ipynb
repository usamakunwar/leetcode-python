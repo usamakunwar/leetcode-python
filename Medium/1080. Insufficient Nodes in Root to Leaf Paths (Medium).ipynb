{
 "cells": [
  {
   "cell_type": "markdown",
   "metadata": {},
   "source": [
    "# 1080. Insufficient Nodes in Root to Leaf Paths (Medium)\n"
   ]
  },
  {
   "cell_type": "markdown",
   "metadata": {},
   "source": [
    "<div><p>Given the <code>root</code>&nbsp;of a binary tree, consider all <em>root to leaf paths</em>: paths from the root&nbsp;to any leaf.&nbsp; (A leaf is a node with no children.)</p>\n",
    "\n",
    "<p>A <code>node</code> is <em>insufficient</em> if&nbsp;<strong>every</strong> such root to leaf path intersecting this <code>node</code> has sum strictly less than&nbsp;<code>limit</code>.</p>\n",
    "\n",
    "<p>Delete all insufficient nodes simultaneously, and return the root of the resulting&nbsp;binary tree.</p>\n",
    "\n",
    "<p>&nbsp;</p>\n",
    "\n",
    "<p><strong>Example 1:</strong></p>\n",
    "\n",
    "<pre><strong><img alt=\"\" src=\"https://assets.leetcode.com/uploads/2019/06/05/insufficient-11.png\" style=\"width: 482px; height: 200px;\">\n",
    "Input: </strong>root = <span id=\"example-input-1-1\">[1,2,3,4,-99,-99,7,8,9,-99,-99,12,13,-99,14]</span>, limit = <span id=\"example-input-1-2\">1</span>\n",
    "<strong><img alt=\"\" src=\"https://assets.leetcode.com/uploads/2019/06/05/insufficient-2.png\" style=\"width: 258px; height: 200px;\">\n",
    "Output: </strong><span id=\"example-output-1\">[1,2,3,4,null,null,7,8,9,null,14]</span>\n",
    "</pre>\n",
    "\n",
    "<div>\n",
    "<p><strong>Example 2:</strong></p>\n",
    "\n",
    "<pre><strong><img alt=\"\" src=\"https://assets.leetcode.com/uploads/2019/06/05/insufficient-3.png\" style=\"width: 292px; height: 200px;\">\n",
    "Input: </strong>root = <span id=\"example-input-2-1\">[5,4,8,11,null,17,4,7,1,null,null,5,3]</span>, limit = <span id=\"example-input-2-2\">22</span>\n",
    "<strong><img alt=\"\" src=\"https://assets.leetcode.com/uploads/2019/06/05/insufficient-4.png\" style=\"width: 264px; height: 200px;\">\n",
    "Output: </strong><span id=\"example-output-2\">[5,4,8,11,null,17,4,7,null,null,null,5]</span></pre>\n",
    "\n",
    "<p>&nbsp;</p>\n",
    "\n",
    "<p><strong>Example 3:</strong></p>\n",
    "\n",
    "<pre><strong><img alt=\"\" src=\"https://assets.leetcode.com/uploads/2019/06/11/screen-shot-2019-06-11-at-83301-pm.png\" style=\"width: 188px; height: 150px;\">\n",
    "Input: </strong>root = <span>[1,2,-3,-5,null,4,null]</span>, limit = -1\n",
    "<img alt=\"\" src=\"https://assets.leetcode.com/uploads/2019/06/11/screen-shot-2019-06-11-at-83517-pm.png\" style=\"width: 122px; height: 150px;\"><strong>\n",
    "Output: </strong><span>[1,null,-3,4]</span></pre>\n",
    "</div>\n",
    "\n",
    "<p>&nbsp;</p>\n",
    "\n",
    "<p><strong>Note:</strong></p>\n",
    "\n",
    "<ol>\n",
    "\t<li>The given tree will have between <code>1</code> and <code>5000</code> nodes.</li>\n",
    "\t<li><code>-10^5&nbsp;&lt;= node.val &lt;= 10^5</code></li>\n",
    "\t<li><code>-10^9 &lt;= limit&nbsp;&lt;= 10^9</code></li>\n",
    "</ol>\n",
    "\n",
    "<div>\n",
    "<div>&nbsp;</div>\n",
    "</div>\n",
    "</div>"
   ]
  },
  {
   "cell_type": "markdown",
   "metadata": {},
   "source": [
    "## Option 1\n",
    "<p>    \n",
    " <p> <p>\n",
    "Time complexity: O(n)\n",
    "    <br>\n",
    "Space complexity: O(n)\n"
   ]
  },
  {
   "cell_type": "code",
   "execution_count": null,
   "metadata": {
    "scrolled": false
   },
   "outputs": [],
   "source": [
    "class Solution(object):\n",
    "    def sufficientSubset(self, root, limit):\n",
    "        \n",
    "        def search(node, curr):\n",
    "            curr += node.val\n",
    "\n",
    "            if not node.right and not node.left: \n",
    "                return None if curr < limit else node\n",
    "            \n",
    "            node.left = search(node.left, curr) if node.left else None \n",
    "            node.right = search(node.right, curr) if node.right else None\n",
    "            \n",
    "            return None if not node.left and not node.right else node\n",
    "            \n",
    "        return search(root, 0)\n",
    "    \n",
    "    "
   ]
  },
  {
   "cell_type": "markdown",
   "metadata": {},
   "source": [
    "#### Result: 116ms (28.57%)"
   ]
  }
 ],
 "metadata": {
  "kernelspec": {
   "display_name": "Python 2",
   "language": "python",
   "name": "python2"
  },
  "language_info": {
   "codemirror_mode": {
    "name": "ipython",
    "version": 2
   },
   "file_extension": ".py",
   "mimetype": "text/x-python",
   "name": "python",
   "nbconvert_exporter": "python",
   "pygments_lexer": "ipython2",
   "version": "2.7.16"
  }
 },
 "nbformat": 4,
 "nbformat_minor": 2
}
