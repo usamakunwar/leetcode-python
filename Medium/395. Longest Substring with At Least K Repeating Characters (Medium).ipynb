{
 "cells": [
  {
   "cell_type": "markdown",
   "metadata": {},
   "source": [
    "# 395. Longest Substring with At Least K Repeating Characters (Medium)"
   ]
  },
  {
   "cell_type": "markdown",
   "metadata": {},
   "source": [
    "<div><p>\n",
    "Find the length of the longest substring <b><i>T</i></b> of a given string (consists of lowercase letters only) such that every character in <b><i>T</i></b> appears no less than <i>k</i> times.\n",
    "</p>\n",
    "\n",
    "<p><b>Example 1:</b>\n",
    "</p><pre>Input:\n",
    "s = \"aaabb\", k = 3\n",
    "\n",
    "Output:\n",
    "3\n",
    "\n",
    "The longest substring is \"aaa\", as 'a' is repeated 3 times.\n",
    "</pre>\n",
    "<p></p>\n",
    "\n",
    "<p><b>Example 2:</b>\n",
    "</p><pre>Input:\n",
    "s = \"ababbc\", k = 2\n",
    "\n",
    "Output:\n",
    "5\n",
    "\n",
    "The longest substring is \"ababb\", as 'a' is repeated 2 times and 'b' is repeated 3 times.\n",
    "</pre>\n",
    "<p></p></div>"
   ]
  },
  {
   "cell_type": "markdown",
   "metadata": {},
   "source": [
    "## Option 1\n",
    " <p>\n",
    "    <p>Divide and Conquer\n",
    "        <p>\n",
    "Time complexity: O(n)\n",
    "    <br>\n",
    "Space complexity: O(n) \n"
   ]
  },
  {
   "cell_type": "code",
   "execution_count": null,
   "metadata": {},
   "outputs": [],
   "source": [
    "import collections\n",
    "class Solution(object):\n",
    "    def longestSubstring(self, s, k):\n",
    "        def search(s):\n",
    "            counter = collections.Counter(s)\n",
    "            for ch in counter:\n",
    "                if counter[ch] < k:\n",
    "                    return max([search(split) for split in s.split(ch)])\n",
    "            return len(s)\n",
    "                    \n",
    "        return search(s)\n",
    "\n",
    "Solution().longestSubstring(\"ljfjsssofjvvknnnnjjjkkklvnl\", 3)\n",
    "        "
   ]
  },
  {
   "cell_type": "markdown",
   "metadata": {},
   "source": [
    "\n",
    "#### Result: 100ms (27.49%)"
   ]
  }
 ],
 "metadata": {
  "kernelspec": {
   "display_name": "Python 2",
   "language": "python",
   "name": "python2"
  },
  "language_info": {
   "codemirror_mode": {
    "name": "ipython",
    "version": 2
   },
   "file_extension": ".py",
   "mimetype": "text/x-python",
   "name": "python",
   "nbconvert_exporter": "python",
   "pygments_lexer": "ipython2",
   "version": "2.7.16"
  }
 },
 "nbformat": 4,
 "nbformat_minor": 2
}
