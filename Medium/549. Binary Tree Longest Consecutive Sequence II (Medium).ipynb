{
 "cells": [
  {
   "cell_type": "markdown",
   "metadata": {},
   "source": [
    "# 549. Binary Tree Longest Consecutive Sequence II (Medium)"
   ]
  },
  {
   "cell_type": "markdown",
   "metadata": {},
   "source": [
    "<div><p>Given a binary tree, you need to find the length of Longest Consecutive Path in Binary Tree.</p>\n",
    "\n",
    "<p>Especially, this path can be either increasing or decreasing. For example, [1,2,3,4] and [4,3,2,1] are both considered valid, but the path [1,2,4,3] is not valid. On the other hand, the path can be in the child-Parent-child order, where not necessarily be parent-child order.</p>\n",
    "\n",
    "<p><b>Example 1:</b></p>\n",
    "\n",
    "<pre><b>Input:</b>\n",
    "        1\n",
    "       / \\\n",
    "      2   3\n",
    "<b>Output:</b> 2\n",
    "<b>Explanation:</b> The longest consecutive path is [1, 2] or [2, 1].\n",
    "</pre>\n",
    "\n",
    "<p>&nbsp;</p>\n",
    "\n",
    "<p><b>Example 2:</b></p>\n",
    "\n",
    "<pre><b>Input:</b>\n",
    "        2\n",
    "       / \\\n",
    "      1   3\n",
    "<b>Output:</b> 3\n",
    "<b>Explanation:</b> The longest consecutive path is [1, 2, 3] or [3, 2, 1].\n",
    "</pre>\n",
    "\n",
    "<p>&nbsp;</p>\n",
    "\n",
    "<p><b>Note:</b> All the values of tree nodes are in the range of [-1e7, 1e7].</p>\n",
    "</div>"
   ]
  },
  {
   "cell_type": "markdown",
   "metadata": {},
   "source": [
    "## Option 1\n",
    " <p>     <p>\n",
    " \n",
    "<p>\n",
    "        \n",
    "Time complexity: O(n)\n",
    "    <br>\n",
    "Space complexity: O(n)\n"
   ]
  },
  {
   "cell_type": "code",
   "execution_count": null,
   "metadata": {},
   "outputs": [],
   "source": [
    "class Solution(object):\n",
    "    def longestConsecutive(self, root):\n",
    "        \n",
    "        if not root: return 0\n",
    "        self.res = 0\n",
    "        def search(node):\n",
    "            left_inc = left_dec = right_inc = right_dec = 0\n",
    "            if node.left:\n",
    "                l_inc, l_dec = search(node.left)\n",
    "                if node.val+1 == node.left.val:\n",
    "                    left_inc += l_inc\n",
    "                elif node.val-1 == node.left.val:\n",
    "                    left_dec += l_dec\n",
    "                    \n",
    "            if node.right:\n",
    "                r_inc,r_dec = search(node.right)\n",
    "                if node.val+1 == node.right.val:\n",
    "                    right_inc += r_inc\n",
    "                elif node.val-1 == node.right.val:\n",
    "                    right_dec += r_dec           \n",
    "            \n",
    "            self.res = max(self.res, left_inc+right_dec+1, left_dec+right_inc+1)\n",
    "\n",
    "            return  max(left_inc+1, right_inc+1), max(left_dec+1, right_dec+1)\n",
    "            \n",
    "        search(root)\n",
    "        \n",
    "        return self.res\n",
    "    "
   ]
  },
  {
   "cell_type": "markdown",
   "metadata": {},
   "source": [
    "#### Result:  48ms (40.97%)"
   ]
  }
 ],
 "metadata": {
  "kernelspec": {
   "display_name": "Python 2",
   "language": "python",
   "name": "python2"
  },
  "language_info": {
   "codemirror_mode": {
    "name": "ipython",
    "version": 2
   },
   "file_extension": ".py",
   "mimetype": "text/x-python",
   "name": "python",
   "nbconvert_exporter": "python",
   "pygments_lexer": "ipython2",
   "version": "2.7.16"
  }
 },
 "nbformat": 4,
 "nbformat_minor": 2
}
