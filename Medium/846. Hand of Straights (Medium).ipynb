{
 "cells": [
  {
   "cell_type": "markdown",
   "metadata": {},
   "source": [
    "# 846. Hand of Straights (Medium)\n",
    "\n"
   ]
  },
  {
   "cell_type": "markdown",
   "metadata": {},
   "source": [
    "<div><p>Alice has a <code>hand</code> of cards, given as an array of integers.</p>\n",
    "\n",
    "<p>Now she wants to rearrange the cards into groups so that each group is size <code>W</code>, and consists of <code>W</code> consecutive cards.</p>\n",
    "\n",
    "<p>Return <code>true</code> if and only if she can.</p>\n",
    "\n",
    "<p>&nbsp;</p>\n",
    "\n",
    "<ol>\n",
    "</ol>\n",
    "\n",
    "<p><strong>Example 1:</strong></p>\n",
    "\n",
    "<pre><strong>Input: </strong>hand = [1,2,3,6,2,3,4,7,8], W = 3\n",
    "<strong>Output: </strong>true\n",
    "<strong>Explanation:</strong> Alice's <code>hand</code> can be rearranged as <code>[1,2,3],[2,3,4],[6,7,8]</code>.</pre>\n",
    "\n",
    "<p><strong>Example 2:</strong></p>\n",
    "\n",
    "<pre><strong>Input: </strong>hand = [1,2,3,4,5], W = 4\n",
    "<strong>Output: </strong>false\n",
    "<strong>Explanation:</strong> Alice's <code>hand</code> can't be rearranged into groups of <code>4</code>.\n",
    "</pre>\n",
    "\n",
    "<p>&nbsp;</p>\n",
    "<p><strong>Constraints:</strong></p>\n",
    "\n",
    "<ul>\n",
    "\t<li><code>1 &lt;= hand.length &lt;= 10000</code></li>\n",
    "\t<li><code>0 &lt;= hand[i]&nbsp;&lt;= 10^9</code></li>\n",
    "\t<li><code>1 &lt;= W &lt;= hand.length</code></li>\n",
    "</ul>\n",
    "<strong>Note:</strong> This question is the same as&nbsp;1296:&nbsp;<a href=\"https://leetcode.com/problems/divide-array-in-sets-of-k-consecutive-numbers/\">https://leetcode.com/problems/divide-array-in-sets-of-k-consecutive-numbers/</a></div>"
   ]
  },
  {
   "cell_type": "markdown",
   "metadata": {},
   "source": [
    "## Option 1\n",
    " <p> \n",
    "    <p>\n",
    "        <p>\n",
    "        \n",
    "Time complexity: O(nlogn)\n",
    "    <br>\n",
    "Space complexity: O(n)\n"
   ]
  },
  {
   "cell_type": "code",
   "execution_count": 14,
   "metadata": {
    "scrolled": true
   },
   "outputs": [
    {
     "data": {
      "text/plain": [
       "True"
      ]
     },
     "execution_count": 14,
     "metadata": {},
     "output_type": "execute_result"
    }
   ],
   "source": [
    "import collections\n",
    "class Solution(object):\n",
    "    def isNStraightHand(self, hand, W):\n",
    "        count = collections.Counter(hand)\n",
    "        for h in sorted(hand):\n",
    "            if count[h] == 0: continue\n",
    "            for i in range(h,h+W):\n",
    "                count[i] -= 1\n",
    "                if count[i] < 0 : return False\n",
    "        return True\n",
    "        \n",
    "\n",
    "Solution().isNStraightHand([1,2,3,6,2,3,4,7,8], 3)"
   ]
  },
  {
   "cell_type": "markdown",
   "metadata": {},
   "source": [
    "#### Result: 280ms (49.71%)"
   ]
  }
 ],
 "metadata": {
  "kernelspec": {
   "display_name": "Python 2",
   "language": "python",
   "name": "python2"
  },
  "language_info": {
   "codemirror_mode": {
    "name": "ipython",
    "version": 2
   },
   "file_extension": ".py",
   "mimetype": "text/x-python",
   "name": "python",
   "nbconvert_exporter": "python",
   "pygments_lexer": "ipython2",
   "version": "2.7.16"
  }
 },
 "nbformat": 4,
 "nbformat_minor": 2
}
