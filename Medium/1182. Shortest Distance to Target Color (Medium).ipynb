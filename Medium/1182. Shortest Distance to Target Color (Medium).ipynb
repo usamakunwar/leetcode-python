{
 "cells": [
  {
   "cell_type": "markdown",
   "metadata": {},
   "source": [
    "# 1182. Shortest Distance to Target Color (Medium)"
   ]
  },
  {
   "cell_type": "markdown",
   "metadata": {},
   "source": [
    "<div><p>You are given an array <code>colors</code>, in which there are three colors: <code>1</code>, <code>2</code> and&nbsp;<code>3</code>.</p>\n",
    "\n",
    "<p>You are also given some queries. Each query consists of two integers <code>i</code>&nbsp;and <code>c</code>, return&nbsp;the shortest distance between the given index&nbsp;<code>i</code> and the target color <code>c</code>. If there is no solution return <code>-1</code>.</p>\n",
    "\n",
    "<p>&nbsp;</p>\n",
    "<p><strong>Example 1:</strong></p>\n",
    "\n",
    "<pre><strong>Input:</strong> colors = [1,1,2,1,3,2,2,3,3], queries = [[1,3],[2,2],[6,1]]\n",
    "<strong>Output:</strong> [3,0,3]\n",
    "<strong>Explanation: </strong>\n",
    "The nearest 3 from index 1 is at index 4 (3 steps away).\n",
    "The nearest 2 from index 2 is at index 2 itself (0 steps away).\n",
    "The nearest 1 from index 6 is at index 3 (3 steps away).\n",
    "</pre>\n",
    "\n",
    "<p><strong>Example 2:</strong></p>\n",
    "\n",
    "<pre><strong>Input:</strong> colors = [1,2], queries = [[0,3]]\n",
    "<strong>Output:</strong> [-1]\n",
    "<strong>Explanation: </strong>There is no 3 in the array.\n",
    "</pre>\n",
    "\n",
    "<p>&nbsp;</p>\n",
    "<p><strong>Constraints:</strong></p>\n",
    "\n",
    "<ul>\n",
    "\t<li><code>1 &lt;= colors.length &lt;= 5*10^4</code></li>\n",
    "\t<li><code>1 &lt;= colors[i] &lt;= 3</code></li>\n",
    "\t<li><code>1&nbsp;&lt;= queries.length &lt;= 5*10^4</code></li>\n",
    "\t<li><code>queries[i].length == 2</code></li>\n",
    "\t<li><code>0 &lt;= queries[i][0] &lt;&nbsp;colors.length</code></li>\n",
    "\t<li><code>1 &lt;= queries[i][1] &lt;= 3</code></li>\n",
    "</ul>\n",
    "</div>"
   ]
  },
  {
   "cell_type": "markdown",
   "metadata": {},
   "source": [
    "## Option 1\n",
    "\n",
    "<p>Binary search indexes\n",
    "    \n",
    "Time complexity: O(nlogn)\n",
    "<br>\n",
    "Space complexity: O(n)"
   ]
  },
  {
   "cell_type": "code",
   "execution_count": null,
   "metadata": {
    "scrolled": false
   },
   "outputs": [],
   "source": [
    "import collections\n",
    "class Solution(object):\n",
    "    def shortestDistanceColor(self, colors, queries):\n",
    "        c_map = collections.defaultdict(list)\n",
    "        for i,v in enumerate(colors): c_map[v].append(i)\n",
    "        def bs(i,c):\n",
    "            if c not in c_map: return -1\n",
    "            l,r = 0,len(c_map[c])-1\n",
    "            while l < r:\n",
    "                mid = (l+r)//2\n",
    "                if c_map[c][mid] < i:\n",
    "                    l = mid + 1\n",
    "                else:\n",
    "                    r = mid\n",
    "            #Do a binary search for insert position, then compare the high and low for minimum difference\n",
    "            return min(abs(c_map[c][l]-i), abs(c_map[c][l-1]-i) if l > 0 else float('inf'))\n",
    "        return [bs(i,c) for i,c in queries]\n",
    "            \n",
    "                \n",
    "Solution().shortestDistanceColor([1,1,2,1,3,2,2,3,3], [[1,3],[2,2],[6,1]])\n"
   ]
  },
  {
   "cell_type": "markdown",
   "metadata": {},
   "source": [
    "#### Result: 1984ms (30.00%)"
   ]
  }
 ],
 "metadata": {
  "kernelspec": {
   "display_name": "Python 2",
   "language": "python",
   "name": "python2"
  },
  "language_info": {
   "codemirror_mode": {
    "name": "ipython",
    "version": 2
   },
   "file_extension": ".py",
   "mimetype": "text/x-python",
   "name": "python",
   "nbconvert_exporter": "python",
   "pygments_lexer": "ipython2",
   "version": "2.7.16"
  }
 },
 "nbformat": 4,
 "nbformat_minor": 2
}
