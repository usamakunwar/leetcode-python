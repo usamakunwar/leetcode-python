{
 "cells": [
  {
   "cell_type": "markdown",
   "metadata": {},
   "source": [
    "# 894. All Possible Full Binary Trees (Medium)\n"
   ]
  },
  {
   "cell_type": "markdown",
   "metadata": {},
   "source": [
    "<div><p>A <em>full binary tree</em>&nbsp;is a binary tree where each node has exactly 0 or 2&nbsp;children.</p>\n",
    "\n",
    "<p>Return a list of all possible full binary trees with <code>N</code> nodes.&nbsp; Each element of the answer is the root node of one possible tree.</p>\n",
    "\n",
    "<p>Each <code>node</code> of each&nbsp;tree in the answer <strong>must</strong> have <code>node.val = 0</code>.</p>\n",
    "\n",
    "<p>You may return the final list of trees in any order.</p>\n",
    "\n",
    "<p>&nbsp;</p>\n",
    "\n",
    "<p><strong>Example 1:</strong></p>\n",
    "\n",
    "<pre><strong>Input: </strong><span id=\"example-input-1-1\">7</span>\n",
    "<strong>Output: </strong><span id=\"example-output-1\">[[0,0,0,null,null,0,0,null,null,0,0],[0,0,0,null,null,0,0,0,0],[0,0,0,0,0,0,0],[0,0,0,0,0,null,null,null,null,0,0],[0,0,0,0,0,null,null,0,0]]</span>\n",
    "<strong>Explanation:</strong>\n",
    "<img alt=\"\" src=\"https://s3-lc-upload.s3.amazonaws.com/uploads/2018/08/22/fivetrees.png\" style=\"width: 700px; height: 400px;\">\n",
    "</pre>\n",
    "\n",
    "<p>&nbsp;</p>\n",
    "\n",
    "<p><strong>Note:</strong></p>\n",
    "\n",
    "<ul>\n",
    "\t<li><code>1 &lt;= N &lt;= 20</code></li>\n",
    "</ul>\n",
    "</div>"
   ]
  },
  {
   "cell_type": "markdown",
   "metadata": {},
   "source": [
    "## Option 1\n",
    "<p>\n",
    "    Top down (DFS)\n",
    "    <p>\n",
    "    <li>We can only create trees if any value of n is odd, else cannot be full\n",
    "      <p>         <p>\n",
    "Time complexity: O(2^n)\n",
    "    <br>\n",
    "Space complexity: O(2^n)\n"
   ]
  },
  {
   "cell_type": "code",
   "execution_count": null,
   "metadata": {
    "scrolled": false
   },
   "outputs": [],
   "source": [
    "class Solution(object):\n",
    "    def allPossibleFBT(self, N):\n",
    "        self.seen = {}\n",
    "        def search(n):\n",
    "            if n in self.seen: return self.seen[n]\n",
    "            if n == 1: return [TreeNode(0)]            \n",
    "            res = []\n",
    "            for i in range(1,n-1,2): #Only allow odd left and right combinations\n",
    "                for j in search(i):\n",
    "                    for k in search(n-1-i):\n",
    "                        node = TreeNode(0)\n",
    "                        node.left = j\n",
    "                        node.right = k\n",
    "                        res.append(node)\n",
    "            self.seen[n] = res\n",
    "            return res\n",
    "        return search(N)\n"
   ]
  },
  {
   "cell_type": "markdown",
   "metadata": {},
   "source": [
    "#### Result: 236ms (44.53%)"
   ]
  }
 ],
 "metadata": {
  "kernelspec": {
   "display_name": "Python 2",
   "language": "python",
   "name": "python2"
  },
  "language_info": {
   "codemirror_mode": {
    "name": "ipython",
    "version": 2
   },
   "file_extension": ".py",
   "mimetype": "text/x-python",
   "name": "python",
   "nbconvert_exporter": "python",
   "pygments_lexer": "ipython2",
   "version": "2.7.16"
  }
 },
 "nbformat": 4,
 "nbformat_minor": 2
}
