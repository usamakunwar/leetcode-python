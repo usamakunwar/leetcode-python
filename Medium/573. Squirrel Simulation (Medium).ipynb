{
 "cells": [
  {
   "cell_type": "markdown",
   "metadata": {},
   "source": [
    "# 573. Squirrel Simulation (Medium)\n"
   ]
  },
  {
   "cell_type": "markdown",
   "metadata": {},
   "source": [
    "<div>There's a tree, a squirrel, and several nuts. Positions are represented by the cells in a 2D grid. Your goal is to find the <b>minimal</b> distance for the squirrel to collect all the nuts and put them under the tree one by one. The squirrel can only take at most <b>one nut</b> at one time and can move in four directions - up, down, left and right, to the adjacent cell. The distance is represented by the number of moves.\n",
    "<p><b>Example 1:</b></p>\n",
    "\n",
    "<pre><b>Input:</b> \n",
    "Height : 5\n",
    "Width : 7\n",
    "Tree position : [2,2]\n",
    "Squirrel : [4,4]\n",
    "Nuts : [[3,0], [2,5]]\n",
    "<b>Output:</b> 12\n",
    "<b>Explanation:</b>\n",
    "<img src=\"https://assets.leetcode.com/uploads/2018/10/22/squirrel_simulation.png\" style=\"width: 40%;\">​​​​​\n",
    "</pre>\n",
    "\n",
    "<p><b>Note:</b></p>\n",
    "\n",
    "<ol>\n",
    "\t<li>All given positions won't overlap.</li>\n",
    "\t<li>The squirrel can take at most one nut at one time.</li>\n",
    "\t<li>The given positions of nuts have no order.</li>\n",
    "\t<li>Height and width are positive integers. 3 &lt;= height * width &lt;= 10,000.</li>\n",
    "\t<li>The given positions contain at least one nut, only one tree and one squirrel.</li>\n",
    "</ol>\n",
    "</div>"
   ]
  },
  {
   "cell_type": "markdown",
   "metadata": {},
   "source": [
    "## Option 1\n",
    "<p>\n",
    "<li>Its only a matter of choosing the first nut, the remaining will take the same distance irrespective of direction\n",
    "<p>\n",
    "\n",
    "Time complexity: O(n)\n",
    "<br>\n",
    "Space complexity: O(1)"
   ]
  },
  {
   "cell_type": "code",
   "execution_count": null,
   "metadata": {},
   "outputs": [],
   "source": [
    "class Solution(object):\n",
    "    def minDistance(self, height, width, tree, squirrel, nuts):\n",
    "        res, saving = 0, float('-inf')\n",
    "        for n in nuts:\n",
    "            #Accummulate all tree to nut distance\n",
    "            nut_tree = abs(tree[0]-n[0])+abs(tree[1]-n[1])\n",
    "            res += nut_tree*2\n",
    "            #The first nut to pick is where we save the most distance\n",
    "            #So compare the saving with every nut, the saving is essentially the difference\n",
    "            #between the squirrel-nut and tree-nut\n",
    "            nut_squirrel = abs(squirrel[0]-n[0])+abs(squirrel[1]-n[1])\n",
    "            saving = max(saving, (nut_tree-nut_squirrel))\n",
    "\n",
    "        return res - saving\n",
    "        \n",
    "Solution().minDistance(5, 7, [2,2], [4,4], [[3,0]])"
   ]
  },
  {
   "cell_type": "markdown",
   "metadata": {},
   "source": [
    "#### Result: 16ms (93.59%)\n"
   ]
  }
 ],
 "metadata": {
  "kernelspec": {
   "display_name": "Python 2",
   "language": "python",
   "name": "python2"
  },
  "language_info": {
   "codemirror_mode": {
    "name": "ipython",
    "version": 2
   },
   "file_extension": ".py",
   "mimetype": "text/x-python",
   "name": "python",
   "nbconvert_exporter": "python",
   "pygments_lexer": "ipython2",
   "version": "2.7.16"
  }
 },
 "nbformat": 4,
 "nbformat_minor": 2
}
