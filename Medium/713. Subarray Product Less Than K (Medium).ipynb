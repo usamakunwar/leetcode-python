{
 "cells": [
  {
   "cell_type": "markdown",
   "metadata": {},
   "source": [
    "# 713. Subarray Product Less Than K (Medium)"
   ]
  },
  {
   "cell_type": "markdown",
   "metadata": {},
   "source": [
    "<div><p>Your are given an array of positive integers <code>nums</code>.</p>\n",
    "<p>Count and print the number of (contiguous) subarrays where the product of all the elements in the subarray is less than <code>k</code>.</p>\n",
    "\n",
    "<p><b>Example 1:</b><br>\n",
    "</p><pre><b>Input:</b> nums = [10, 5, 2, 6], k = 100\n",
    "<b>Output:</b> 8\n",
    "<b>Explanation:</b> The 8 subarrays that have product less than 100 are: [10], [5], [2], [6], [10, 5], [5, 2], [2, 6], [5, 2, 6].\n",
    "Note that [10, 5, 2] is not included as the product of 100 is not strictly less than k.\n",
    "</pre>\n",
    "<p></p>\n",
    "\n",
    "<p><b>Note:</b>\n",
    "</p><li><code>0 &lt; nums.length &lt;= 50000</code>.</li>\n",
    "<li><code>0 &lt; nums[i] &lt; 1000</code>.</li>\n",
    "<li><code>0 &lt;= k &lt; 10^6</code>.</li>\n",
    "<p></p></div>"
   ]
  },
  {
   "cell_type": "markdown",
   "metadata": {},
   "source": [
    "## Option 1\n",
    "\n",
    "Sliding window, (tried to divide the nums, then multiply when shortening the window, but that didnt work)\n",
    "<p>\n",
    "Time complexity = O(n)\n",
    "<br>\n",
    "Space complexity = O(1)"
   ]
  },
  {
   "cell_type": "code",
   "execution_count": 72,
   "metadata": {
    "scrolled": true
   },
   "outputs": [
    {
     "data": {
      "text/plain": [
       "0"
      ]
     },
     "execution_count": 72,
     "metadata": {},
     "output_type": "execute_result"
    }
   ],
   "source": [
    "class Solution(object):\n",
    "    def numSubarrayProductLessThanK(self, nums, k):\n",
    "        if k <= 1: return 0\n",
    "        p1, count, prod, ln = 0, 0, 1, len(nums)\n",
    "        for i in range(len(nums)):\n",
    "            prod *= nums[i]\n",
    "            while prod >= k:\n",
    "                prod /= nums[p1]\n",
    "                p1 += 1\n",
    "            count += (i-p1+1)\n",
    "        return count\n",
    "Solution().numSubarrayProductLessThanK([1,1,1],1)"
   ]
  },
  {
   "cell_type": "markdown",
   "metadata": {},
   "source": [
    "#### Result: 1168ms (84.59%)"
   ]
  }
 ],
 "metadata": {
  "kernelspec": {
   "display_name": "Python 3",
   "language": "python",
   "name": "python3"
  },
  "language_info": {
   "codemirror_mode": {
    "name": "ipython",
    "version": 3
   },
   "file_extension": ".py",
   "mimetype": "text/x-python",
   "name": "python",
   "nbconvert_exporter": "python",
   "pygments_lexer": "ipython3",
   "version": "3.7.4"
  }
 },
 "nbformat": 4,
 "nbformat_minor": 2
}
