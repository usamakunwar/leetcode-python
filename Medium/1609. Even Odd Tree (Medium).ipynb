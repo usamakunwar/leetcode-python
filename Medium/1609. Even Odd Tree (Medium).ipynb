{
 "cells": [
  {
   "cell_type": "markdown",
   "metadata": {},
   "source": [
    "# 1609. Even Odd Tree (Medium)"
   ]
  },
  {
   "cell_type": "markdown",
   "metadata": {},
   "source": [
    "<div><p>A binary tree is named <strong>Even-Odd</strong> if it meets the following conditions:</p>\n",
    "\n",
    "<ul>\n",
    "\t<li>The root of the binary tree is at level index <code>0</code>, its children are at level index <code>1</code>, their children are at level index <code>2</code>, etc.</li>\n",
    "\t<li>For every <strong>even-indexed</strong> level, all nodes at the level have <strong>odd</strong> integer values in <strong>strictly increasing</strong> order (from left to right).</li>\n",
    "\t<li>For every <b>odd-indexed</b> level, all nodes at the level have <b>even</b> integer values in <strong>strictly decreasing</strong> order (from left to right).</li>\n",
    "</ul>\n",
    "\n",
    "<p>Given the <code>root</code> of a binary tree, <em>return </em><code>true</code><em> if the binary tree is <strong>Even-Odd</strong>, otherwise return </em><code>false</code><em>.</em></p>\n",
    "\n",
    "<p>&nbsp;</p>\n",
    "<p><strong>Example 1:</strong></p>\n",
    "\n",
    "<p><strong><img alt=\"\" src=\"https://assets.leetcode.com/uploads/2020/09/15/sample_1_1966.png\" style=\"width: 362px; height: 229px;\"></strong></p>\n",
    "\n",
    "<pre><strong>Input:</strong> root = [1,10,4,3,null,7,9,12,8,6,null,null,2]\n",
    "<strong>Output:</strong> true\n",
    "<strong>Explanation:</strong> The node values on each level are:\n",
    "Level 0: [1]\n",
    "Level 1: [10,4]\n",
    "Level 2: [3,7,9]\n",
    "Level 3: [12,8,6,2]\n",
    "Since levels 0 and 2 are all odd and increasing, and levels 1 and 3 are all even and decreasing, the tree is Even-Odd.\n",
    "</pre>\n",
    "\n",
    "<p><strong>Example 2:</strong></p>\n",
    "\n",
    "<p><strong><img alt=\"\" src=\"https://assets.leetcode.com/uploads/2020/09/15/sample_2_1966.png\" style=\"width: 363px; height: 167px;\"></strong></p>\n",
    "\n",
    "<pre><strong>Input:</strong> root = [5,4,2,3,3,7]\n",
    "<strong>Output:</strong> false\n",
    "<strong>Explanation:</strong> The node values on each level are:\n",
    "Level 0: [5]\n",
    "Level 1: [4,2]\n",
    "Level 2: [3,3,7]\n",
    "Node values in the level 2 must be in strictly increasing order, so the tree is not Even-Odd.\n",
    "</pre>\n",
    "\n",
    "<p><strong>Example 3:</strong></p>\n",
    "\n",
    "<p><img alt=\"\" src=\"https://assets.leetcode.com/uploads/2020/09/22/sample_1_333_1966.png\" style=\"width: 363px; height: 167px;\"></p>\n",
    "\n",
    "<pre><strong>Input:</strong> root = [5,9,1,3,5,7]\n",
    "<strong>Output:</strong> false\n",
    "<strong>Explanation:</strong> Node values in the level 1 should be even integers.\n",
    "</pre>\n",
    "\n",
    "<p><strong>Example 4:</strong></p>\n",
    "\n",
    "<pre><strong>Input:</strong> root = [1]\n",
    "<strong>Output:</strong> true\n",
    "</pre>\n",
    "\n",
    "<p><strong>Example 5:</strong></p>\n",
    "\n",
    "<pre><strong>Input:</strong> root = [11,8,6,1,3,9,11,30,20,18,16,12,10,4,2,17]\n",
    "<strong>Output:</strong> true\n",
    "</pre>\n",
    "\n",
    "<p>&nbsp;</p>\n",
    "<p><strong>Constraints:</strong></p>\n",
    "\n",
    "<ul>\n",
    "\t<li>The number of nodes in the tree is in the range <code>[1, 10<sup>5</sup>]</code>.</li>\n",
    "\t<li><code>1 &lt;= Node.val &lt;= 10<sup>6</sup></code></li>\n",
    "</ul>\n",
    "</div>"
   ]
  },
  {
   "cell_type": "markdown",
   "metadata": {},
   "source": [
    "## Option 1\n",
    " <p>    \n",
    "<p>BFS\n",
    "    <p>       \n",
    "<p>\n",
    "        \n",
    "Time complexity: O(n)\n",
    "    <br>\n",
    "Space complexity: O(d)\n"
   ]
  },
  {
   "cell_type": "code",
   "execution_count": null,
   "metadata": {},
   "outputs": [],
   "source": [
    "class Solution(object):\n",
    "    def isEvenOddTree(self, root):\n",
    "        \n",
    "        q = collections.deque([(root,0)])\n",
    "        \n",
    "        while q:\n",
    "            node, lev = q.popleft()\n",
    "            if (lev%2 and node.val%2) or (not lev%2 and not node.val%2):  return False\n",
    "            if q and q[0][1] == lev:\n",
    "                if lev%2 and node.val <= q[0][0].val: return False\n",
    "                if not lev%2 and node.val >= q[0][0].val: return False\n",
    "            \n",
    "            if node.left: q.append((node.left,lev+1))\n",
    "            if node.right: q.append((node.right,lev+1))\n",
    "        \n",
    "        return True"
   ]
  },
  {
   "cell_type": "markdown",
   "metadata": {},
   "source": [
    "#### Result:  628ms (100.00%)"
   ]
  }
 ],
 "metadata": {
  "kernelspec": {
   "display_name": "Python 2",
   "language": "python",
   "name": "python2"
  },
  "language_info": {
   "codemirror_mode": {
    "name": "ipython",
    "version": 2
   },
   "file_extension": ".py",
   "mimetype": "text/x-python",
   "name": "python",
   "nbconvert_exporter": "python",
   "pygments_lexer": "ipython2",
   "version": "2.7.16"
  }
 },
 "nbformat": 4,
 "nbformat_minor": 2
}
