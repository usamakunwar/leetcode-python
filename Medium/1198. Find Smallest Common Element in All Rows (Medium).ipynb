{
 "cells": [
  {
   "cell_type": "markdown",
   "metadata": {},
   "source": [
    "# 1198. Find Smallest Common Element in All Rows (Medium)"
   ]
  },
  {
   "cell_type": "markdown",
   "metadata": {},
   "source": [
    "<div><p>Given a matrix <code>mat</code>&nbsp;where every row is sorted in <strong>increasing</strong> order, return&nbsp;the <strong>smallest common element</strong> in all rows.</p>\n",
    "\n",
    "<p>If there is no common element, return&nbsp;<code>-1</code>.</p>\n",
    "\n",
    "\n",
    "<p>&nbsp;</p>\n",
    "<p><strong>Example 1:</strong></p>\n",
    "<pre><strong>Input:</strong> mat = [[1,2,3,4,5],[2,4,5,8,10],[3,5,7,9,11],[1,3,5,7,9]]\n",
    "<strong>Output:</strong> 5\n",
    "</pre>\n",
    "<p>&nbsp;</p>\n",
    "<p><strong>Constraints:</strong></p>\n",
    "\n",
    "<ul>\n",
    "\t<li><code>1 &lt;= mat.length, mat[i].length &lt;= 500</code></li>\n",
    "\t<li><code>1 &lt;= mat[i][j] &lt;= 10^4</code></li>\n",
    "\t<li><code>mat[i]</code> is sorted in increasing order.</li>\n",
    "</ul>\n",
    "</div>"
   ]
  },
  {
   "cell_type": "markdown",
   "metadata": {},
   "source": [
    "## Option 1\n",
    "<p>\n",
    "\n",
    "<p>\n",
    "<p>\n",
    "Time complexity = O(mn)\n",
    "<br>\n",
    "Space complexity = O(1)"
   ]
  },
  {
   "cell_type": "code",
   "execution_count": null,
   "metadata": {},
   "outputs": [],
   "source": [
    "import collections\n",
    "class Solution(object):\n",
    "    def smallestCommonElement(self, mat):\n",
    "        ln, lno = len(mat), len(mat[0])\n",
    "        for i in range(ln): mat[i] = mat[i][::-1]\n",
    "        i = 0\n",
    "        while i < lno:\n",
    "            j = 1\n",
    "            while j < ln:\n",
    "                while mat[j][-1] < mat[0][-1]:\n",
    "                    mat[j].pop()\n",
    "                if mat[j][-1] > mat[0][-1]:\n",
    "                    mat[0].pop()\n",
    "                    break               \n",
    "                if j == (ln-1): return mat[0][-1]\n",
    "                j += 1\n",
    "            i += 1\n",
    "        return -1\n",
    "    \n",
    "Solution().smallestCommonElement([[1,2,3,4,5],\n",
    "                                  [2,4,5,8,10],\n",
    "                                  [3,5,7,9,11],\n",
    "                                  [1,3,5,7,9]])"
   ]
  },
  {
   "cell_type": "markdown",
   "metadata": {},
   "source": [
    "#### Result: 472ms (75.00%)"
   ]
  }
 ],
 "metadata": {
  "kernelspec": {
   "display_name": "Python 2",
   "language": "python",
   "name": "python2"
  },
  "language_info": {
   "codemirror_mode": {
    "name": "ipython",
    "version": 2
   },
   "file_extension": ".py",
   "mimetype": "text/x-python",
   "name": "python",
   "nbconvert_exporter": "python",
   "pygments_lexer": "ipython2",
   "version": "2.7.16"
  }
 },
 "nbformat": 4,
 "nbformat_minor": 2
}
