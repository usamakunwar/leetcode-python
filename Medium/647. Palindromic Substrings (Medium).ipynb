{
 "cells": [
  {
   "cell_type": "markdown",
   "metadata": {},
   "source": [
    "# 647. Palindromic Substrings (Medium)"
   ]
  },
  {
   "cell_type": "markdown",
   "metadata": {},
   "source": [
    "<div><p>Given a string, your task is to count how many palindromic substrings in this string.</p>\n",
    "\n",
    "<p>The substrings with different start indexes or end indexes are counted as different substrings even they consist of same characters.</p>\n",
    "\n",
    "<p><b>Example 1:</b></p>\n",
    "\n",
    "<pre><b>Input:</b> \"abc\"\n",
    "<b>Output:</b> 3\n",
    "<b>Explanation:</b> Three palindromic strings: \"a\", \"b\", \"c\".\n",
    "</pre>\n",
    "\n",
    "<p>&nbsp;</p>\n",
    "\n",
    "<p><b>Example 2:</b></p>\n",
    "\n",
    "<pre><b>Input:</b> \"aaa\"\n",
    "<b>Output:</b> 6\n",
    "<b>Explanation:</b> Six palindromic strings: \"a\", \"a\", \"a\", \"aa\", \"aa\", \"aaa\".\n",
    "</pre>\n",
    "\n",
    "<p>&nbsp;</p>\n",
    "\n",
    "<p><b>Note:</b></p>\n",
    "\n",
    "<ol>\n",
    "\t<li>The input string length won't exceed 1000.</li>\n",
    "</ol>\n",
    "\n",
    "<p>&nbsp;</p></div>"
   ]
  },
  {
   "cell_type": "markdown",
   "metadata": {},
   "source": [
    "## Option 1\n",
    " <p>    \n",
    "<p>\n",
    "    Expand from the center. Centers can be single or double index\n",
    "    <p>       \n",
    "<p>\n",
    "        \n",
    "Time complexity: O(n^2)\n",
    "    <br>\n",
    "Space complexity: O(1)\n"
   ]
  },
  {
   "cell_type": "code",
   "execution_count": null,
   "metadata": {},
   "outputs": [],
   "source": [
    "class Solution(object):\n",
    "    def countSubstrings(self, s):\n",
    "        res = 0\n",
    "        for i in range(2*len(s)-1):\n",
    "            l = i/2\n",
    "            r = l + i%2\n",
    "            while l >= 0 and r < len(s) and s[l] == s[r]:\n",
    "                l -= 1\n",
    "                r += 1\n",
    "                res += 1\n",
    "                \n",
    "        return res\n",
    "\n",
    "\n",
    "Solution().countSubstrings(\"aaaaaaaaaaaa\")\n",
    "\n"
   ]
  },
  {
   "cell_type": "markdown",
   "metadata": {},
   "source": [
    "#### Result:  104ms (70.04%)"
   ]
  }
 ],
 "metadata": {
  "kernelspec": {
   "display_name": "Python 2",
   "language": "python",
   "name": "python2"
  },
  "language_info": {
   "codemirror_mode": {
    "name": "ipython",
    "version": 2
   },
   "file_extension": ".py",
   "mimetype": "text/x-python",
   "name": "python",
   "nbconvert_exporter": "python",
   "pygments_lexer": "ipython2",
   "version": "2.7.16"
  }
 },
 "nbformat": 4,
 "nbformat_minor": 2
}
