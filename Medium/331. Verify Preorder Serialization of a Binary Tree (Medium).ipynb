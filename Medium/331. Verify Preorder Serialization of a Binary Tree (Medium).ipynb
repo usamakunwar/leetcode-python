{
 "cells": [
  {
   "cell_type": "markdown",
   "metadata": {},
   "source": [
    "# 331. Verify Preorder Serialization of a Binary Tree (Medium)\n",
    "\n"
   ]
  },
  {
   "cell_type": "markdown",
   "metadata": {},
   "source": [
    "<div><p>One way to serialize a binary tree is to use pre-order traversal. When we encounter a non-null node, we record the node's value. If it is a null node, we record using a sentinel value such as <code>#</code>.</p>\n",
    "\n",
    "<pre>     _9_\n",
    "    /   \\\n",
    "   3     2\n",
    "  / \\   / \\\n",
    " 4   1  #  6\n",
    "/ \\ / \\   / \\\n",
    "# # # #   # #\n",
    "</pre>\n",
    "\n",
    "<p>For example, the above binary tree can be serialized to the string <code>\"9,3,4,#,#,1,#,#,2,#,6,#,#\"</code>, where <code>#</code> represents a null node.</p>\n",
    "\n",
    "<p>Given a string of comma separated values, verify whether it is a correct preorder traversal serialization of a binary tree. Find an algorithm without reconstructing the tree.</p>\n",
    "\n",
    "<p>Each comma separated value in the string must be either an integer or a character <code>'#'</code> representing <code>null</code> pointer.</p>\n",
    "\n",
    "<p>You may assume that the input format is always valid, for example it could never contain two consecutive commas such as <code>\"1,,3\"</code>.</p>\n",
    "\n",
    "<p><b>Example 1:</b></p>\n",
    "\n",
    "<pre><strong>Input: </strong><code>\"9,3,4,#,#,1,#,#,2,#,6,#,#\"</code>\n",
    "<strong>Output: </strong><code>true</code></pre>\n",
    "\n",
    "<p><b>Example 2:</b></p>\n",
    "\n",
    "<pre><strong>Input: </strong><code>\"1,#\"</code>\n",
    "<strong>Output: </strong><code>false</code>\n",
    "</pre>\n",
    "\n",
    "<p><b>Example 3:</b></p>\n",
    "\n",
    "<pre><strong>Input: </strong><code>\"9,#,#,1\"</code>\n",
    "<strong>Output: </strong><code>false</code></pre></div>"
   ]
  },
  {
   "cell_type": "markdown",
   "metadata": {},
   "source": [
    "## Option 1\n",
    "<p>\n",
    "Time complexity: O(n)\n",
    "<br>\n",
    "Space complexity: O(n)"
   ]
  },
  {
   "cell_type": "code",
   "execution_count": null,
   "metadata": {
    "scrolled": false
   },
   "outputs": [],
   "source": [
    "class Solution(object):\n",
    "    def isValidSerialization(self, preorder):\n",
    "        gates = 1\n",
    "        for a in preorder.split(','):\n",
    "            gates -= 1\n",
    "            if gates < 0: return False\n",
    "            if a not in '#':\n",
    "                gates += 2\n",
    "        return gates == 0"
   ]
  },
  {
   "cell_type": "markdown",
   "metadata": {},
   "source": [
    "#### Result: 20ms (84.96%)\n"
   ]
  }
 ],
 "metadata": {
  "kernelspec": {
   "display_name": "Python 2",
   "language": "python",
   "name": "python2"
  },
  "language_info": {
   "codemirror_mode": {
    "name": "ipython",
    "version": 2
   },
   "file_extension": ".py",
   "mimetype": "text/x-python",
   "name": "python",
   "nbconvert_exporter": "python",
   "pygments_lexer": "ipython2",
   "version": "2.7.16"
  }
 },
 "nbformat": 4,
 "nbformat_minor": 2
}
