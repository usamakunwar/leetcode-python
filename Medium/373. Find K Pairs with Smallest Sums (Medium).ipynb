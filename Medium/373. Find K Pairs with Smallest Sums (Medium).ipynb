{
 "cells": [
  {
   "cell_type": "markdown",
   "metadata": {},
   "source": [
    "# 373. Find K Pairs with Smallest Sums (Medium)"
   ]
  },
  {
   "cell_type": "markdown",
   "metadata": {},
   "source": [
    "<div><p>You are given two integer arrays <b>nums1</b> and <b>nums2</b> sorted in ascending order and an integer <b>k</b>.</p>\n",
    "\n",
    "<p>Define a pair <b>(u,v)</b> which consists of one element from the first array and one element from the second array.</p>\n",
    "\n",
    "<p>Find the k pairs <b>(u<sub>1</sub>,v<sub>1</sub>),(u<sub>2</sub>,v<sub>2</sub>) ...(u<sub>k</sub>,v<sub>k</sub>)</b> with the smallest sums.</p>\n",
    "\n",
    "<p><strong>Example 1:</strong></p>\n",
    "\n",
    "<pre><strong>Input: </strong>nums1 = <span id=\"example-input-1-1\">[1,7,11]</span>, nums2 = <span id=\"example-input-1-2\">[2,4,6]</span>, k = <span id=\"example-input-1-3\">3</span>\n",
    "<strong>Output: </strong><span id=\"example-output-1\">[[1,2],[1,4],[1,6]] \n",
    "<strong>Explanation: </strong></span>The first 3 pairs are returned from the sequence: \n",
    "&nbsp;            [1,2],[1,4],[1,6],[7,2],[7,4],[11,2],[7,6],[11,4],[11,6]</pre>\n",
    "\n",
    "<p><strong>Example 2:</strong></p>\n",
    "\n",
    "<pre><strong>Input: </strong>nums1 = [1,1,2], nums2 = [1,2,3], k = 2\n",
    "<strong>Output: </strong>[1,1],[1,1]<span>\n",
    "<strong>Explanation: </strong></span>The first 2 pairs are returned from the sequence: \n",
    "&nbsp;            [1,1],[1,1],[1,2],[2,1],[1,2],[2,2],[1,3],[1,3],[2,3]</pre>\n",
    "\n",
    "<p><strong>Example 3:</strong></p>\n",
    "\n",
    "<pre><strong>Input: </strong>nums1 = [1,2], nums2 = [3], k = 3\n",
    "<strong>Output: </strong>[1,3],[2,3]<span>\n",
    "<strong>Explanation: </strong></span>All possible pairs are returned from the sequence: [1,3],[2,3]\n",
    "</pre>\n",
    "</div>"
   ]
  },
  {
   "cell_type": "markdown",
   "metadata": {},
   "source": [
    "## Option 1\n",
    "<p>\n",
    "    Heap\n",
    "    <p>    \n",
    "        <li>Our heap will store (sum of pair, (i) index nums1 , (j) index nums2)\n",
    "        <li>We pop, increment j, and push\n",
    "<p>\n",
    "    <p>\n",
    "Time complexity: O(klogn)\n",
    "    <br>\n",
    "Space complexity: O(n)"
   ]
  },
  {
   "cell_type": "code",
   "execution_count": null,
   "metadata": {},
   "outputs": [],
   "source": [
    "import heapq\n",
    "class Solution(object):\n",
    "    def kSmallestPairs(self, nums1, nums2, k):\n",
    "        \n",
    "        if not nums1 or not nums2: return []\n",
    "        h = map(lambda (i,v):(v+nums2[0],i,0), enumerate(nums1))\n",
    "        heapq.heapify(h)\n",
    "        res = []\n",
    "        while h and k:\n",
    "            v,i,j = heapq.heappop(h)\n",
    "            res.append([nums1[i],nums2[j]])\n",
    "            if j+1 < len(nums2):\n",
    "                heapq.heappush(h,(nums1[i]+nums2[j+1],i,j+1))\n",
    "            k -= 1\n",
    "        return res\n",
    "        \n",
    "Solution().kSmallestPairs([1,1,2],[1,2,3], 4)\n",
    "        "
   ]
  },
  {
   "cell_type": "markdown",
   "metadata": {},
   "source": [
    "#### Result: 36ms (89.19%)"
   ]
  }
 ],
 "metadata": {
  "kernelspec": {
   "display_name": "Python 2",
   "language": "python",
   "name": "python2"
  },
  "language_info": {
   "codemirror_mode": {
    "name": "ipython",
    "version": 2
   },
   "file_extension": ".py",
   "mimetype": "text/x-python",
   "name": "python",
   "nbconvert_exporter": "python",
   "pygments_lexer": "ipython2",
   "version": "2.7.16"
  }
 },
 "nbformat": 4,
 "nbformat_minor": 2
}
