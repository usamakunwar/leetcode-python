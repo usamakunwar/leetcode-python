{
 "cells": [
  {
   "cell_type": "markdown",
   "metadata": {},
   "source": [
    "# 1011. Capacity To Ship Packages Within D Days (Medium)\n"
   ]
  },
  {
   "cell_type": "markdown",
   "metadata": {},
   "source": [
    "<div><p>A conveyor belt has packages that must be shipped from one port to another within <code>D</code> days.</p>\n",
    "\n",
    "<p>The <code>i</code>-th package on the conveyor belt has a weight of <code>weights[i]</code>.&nbsp; Each day, we load the ship with packages on the conveyor belt (in the order given by <code>weights</code>). We may not load more weight than the maximum weight capacity of the ship.</p>\n",
    "\n",
    "<p>Return the least weight capacity of the ship that will result in all the packages on the conveyor belt being shipped within <code>D</code> days.</p>\n",
    "\n",
    "<p>&nbsp;</p>\n",
    "\n",
    "<p><strong>Example 1:</strong></p>\n",
    "\n",
    "<pre><strong>Input: </strong>weights = <span id=\"example-input-1-1\">[1,2,3,4,5,6,7,8,9,10]</span>, D = <span id=\"example-input-1-2\">5</span>\n",
    "<strong>Output: </strong><span id=\"example-output-1\">15</span>\n",
    "<strong>Explanation: </strong>\n",
    "A ship capacity of 15 is the minimum to ship all the packages in 5 days like this:\n",
    "1st day: 1, 2, 3, 4, 5\n",
    "2nd day: 6, 7\n",
    "3rd day: 8\n",
    "4th day: 9\n",
    "5th day: 10\n",
    "\n",
    "Note that the cargo must be shipped in the order given, so using a ship of capacity 14 and splitting the packages into parts like (2, 3, 4, 5), (1, 6, 7), (8), (9), (10) is not allowed. \n",
    "</pre>\n",
    "\n",
    "<p><strong>Example 2:</strong></p>\n",
    "\n",
    "<pre><strong>Input: </strong>weights = <span id=\"example-input-2-1\">[3,2,2,4,1,4]</span>, D = <span id=\"example-input-2-2\">3</span>\n",
    "<strong>Output: </strong><span id=\"example-output-2\">6</span>\n",
    "<strong>Explanation: </strong>\n",
    "A ship capacity of 6 is the minimum to ship all the packages in 3 days like this:\n",
    "1st day: 3, 2\n",
    "2nd day: 2, 4\n",
    "3rd day: 1, 4\n",
    "</pre>\n",
    "\n",
    "<p><strong>Example 3:</strong></p>\n",
    "\n",
    "<pre><strong>Input: </strong>weights = <span id=\"example-input-3-1\">[1,2,3,1,1]</span>, D = 4\n",
    "<strong>Output: </strong><span id=\"example-output-3\">3</span>\n",
    "<strong>Explanation: </strong>\n",
    "1st day: 1\n",
    "2nd day: 2\n",
    "3rd day: 3\n",
    "4th day: 1, 1\n",
    "</pre>\n",
    "\n",
    "<p>&nbsp;</p>\n",
    "\n",
    "<p><strong>Note:</strong></p>\n",
    "\n",
    "<ol>\n",
    "\t<li><code>1 &lt;= D &lt;= weights.length &lt;= 50000</code></li>\n",
    "\t<li><code>1 &lt;= weights[i] &lt;= 500</code></li>\n",
    "</ol></div>"
   ]
  },
  {
   "cell_type": "markdown",
   "metadata": {},
   "source": [
    "## Option 1\n",
    "\n",
    "The mininum weight capacity is max(weights) (max package) the maximum is the total weight of all packages.\n",
    "Our answer lies between this min and max. We can do a binary search between these figures to find the least capacity\n",
    "<p>\n",
    "Time complexity = O(wlog(sumw-maxw)) w = weights\n",
    "<br>\n",
    "Space complexity = O(1)"
   ]
  },
  {
   "cell_type": "code",
   "execution_count": 60,
   "metadata": {
    "scrolled": true
   },
   "outputs": [
    {
     "data": {
      "text/plain": [
       "15"
      ]
     },
     "execution_count": 60,
     "metadata": {},
     "output_type": "execute_result"
    }
   ],
   "source": [
    "class Solution:\n",
    "    def shipWithinDays(self, weights: [int], D: int) -> int:\n",
    "        left, right = max(weights), sum(weights)\n",
    "        while left < right:\n",
    "            mid,curr,d = (left+right)//2,0,1\n",
    "            for w in weights:\n",
    "                if (curr + w) > mid:\n",
    "                    d += 1\n",
    "                    curr = 0\n",
    "                curr += w\n",
    "            if d > D:\n",
    "                left = mid + 1\n",
    "            else:\n",
    "                right = mid\n",
    "            \n",
    "        return left\n",
    "                        \n",
    "Solution().shipWithinDays([1,2,3,4,5,6,7,8,9,10], 5)"
   ]
  },
  {
   "cell_type": "markdown",
   "metadata": {},
   "source": [
    "#### Result:  1044ms (10.2%)"
   ]
  }
 ],
 "metadata": {
  "kernelspec": {
   "display_name": "Python 2",
   "language": "python",
   "name": "python2"
  },
  "language_info": {
   "codemirror_mode": {
    "name": "ipython",
    "version": 2
   },
   "file_extension": ".py",
   "mimetype": "text/x-python",
   "name": "python",
   "nbconvert_exporter": "python",
   "pygments_lexer": "ipython2",
   "version": "2.7.16"
  }
 },
 "nbformat": 4,
 "nbformat_minor": 2
}
