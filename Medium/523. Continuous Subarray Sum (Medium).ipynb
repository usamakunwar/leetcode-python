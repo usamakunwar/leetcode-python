{
 "cells": [
  {
   "cell_type": "markdown",
   "metadata": {},
   "source": [
    "# 523. Continuous Subarray Sum (Medium)\n",
    "\n"
   ]
  },
  {
   "cell_type": "markdown",
   "metadata": {},
   "source": [
    "<div><p>Given a list of <b>non-negative</b> numbers and a target <b>integer</b> k, write a function to check if the array has a continuous subarray of size at least 2 that sums up to a multiple of <b>k</b>, that is, sums up to n*k where n is also an <b>integer</b>.</p>\n",
    "\n",
    "<p>&nbsp;</p>\n",
    "\n",
    "<p><b>Example 1:</b></p>\n",
    "\n",
    "<pre><b>Input:</b> [23, 2, 4, 6, 7],  k=6\n",
    "<b>Output:</b> True\n",
    "<b>Explanation:</b> Because [2, 4] is a continuous subarray of size 2 and sums up to 6.\n",
    "</pre>\n",
    "\n",
    "<p><b>Example 2:</b></p>\n",
    "\n",
    "<pre><b>Input:</b> [23, 2, 6, 4, 7],  k=6\n",
    "<b>Output:</b> True\n",
    "<b>Explanation:</b> Because [23, 2, 6, 4, 7] is an continuous subarray of size 5 and sums up to 42.\n",
    "</pre>\n",
    "\n",
    "<p>&nbsp;</p>\n",
    "<p><strong>Constraints:</strong></p>\n",
    "\n",
    "<ul>\n",
    "\t<li>The length of the array won't exceed 10,000.</li>\n",
    "\t<li>You may assume the sum of all the numbers is in the range of a signed 32-bit integer.</li>\n",
    "</ul>\n",
    "</div>"
   ]
  },
  {
   "cell_type": "markdown",
   "metadata": {},
   "source": [
    "## Option 1\n",
    " <p> \n",
    "    Two mods of k that are equal at 2 different points, means the internal sum must be a multiple of k\n",
    "      <li>For when k = 0, we use the curr (ongoing sum) as when that curr appears again the internal sum must be 0,  0 is a multiple of 0 (so its a valid array)\n",
    "      <li>Also note to use the equation sum = n*k\n",
    "    <p>\n",
    "    <p>\n",
    "        <p>\n",
    "        \n",
    "Time complexity: O(n)\n",
    "    <br>\n",
    "Space complexity: O(n)\n"
   ]
  },
  {
   "cell_type": "code",
   "execution_count": null,
   "metadata": {
    "scrolled": true
   },
   "outputs": [],
   "source": [
    "class Solution(object):\n",
    "    def checkSubarraySum(self, nums, k):\n",
    "        m = {0:-1}\n",
    "        curr = 0 \n",
    "        for i in range(len(nums)):\n",
    "            curr += nums[i]\n",
    "            mod = curr%k if k != 0 else curr \n",
    "            if mod in m and i-m[mod] > 1: \n",
    "                return True\n",
    "            m.setdefault(mod,i)\n",
    "        return False\n",
    "\n",
    "Solution().checkSubarraySum([23,2,4,6,7], -6)"
   ]
  },
  {
   "cell_type": "markdown",
   "metadata": {},
   "source": [
    "#### Result: 268ms (33.56%)"
   ]
  }
 ],
 "metadata": {
  "kernelspec": {
   "display_name": "Python 2",
   "language": "python",
   "name": "python2"
  },
  "language_info": {
   "codemirror_mode": {
    "name": "ipython",
    "version": 2
   },
   "file_extension": ".py",
   "mimetype": "text/x-python",
   "name": "python",
   "nbconvert_exporter": "python",
   "pygments_lexer": "ipython2",
   "version": "2.7.16"
  }
 },
 "nbformat": 4,
 "nbformat_minor": 2
}
