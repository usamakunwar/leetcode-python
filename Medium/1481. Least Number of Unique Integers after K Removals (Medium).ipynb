{
 "cells": [
  {
   "cell_type": "markdown",
   "metadata": {},
   "source": [
    "# 1481. Least Number of Unique Integers after K Removals (Medium)"
   ]
  },
  {
   "cell_type": "markdown",
   "metadata": {},
   "source": [
    "<div><p>Given an array of integers&nbsp;<code>arr</code>&nbsp;and an integer <code>k</code>.&nbsp;Find the <em>least number of unique integers</em>&nbsp;after removing <strong>exactly</strong> <code>k</code> elements<b>.</b></p>\n",
    "\n",
    "<ol>\n",
    "</ol>\n",
    "\n",
    "<p>&nbsp;</p>\n",
    "<p><strong>Example 1:</strong></p>\n",
    "\n",
    "<pre><strong>Input: </strong>arr = [5,5,4], k = 1\n",
    "<strong>Output: </strong>1\n",
    "<strong>Explanation</strong>: Remove the single 4, only 5 is left.\n",
    "</pre>\n",
    "<strong>Example 2:</strong>\n",
    "\n",
    "<pre><strong>Input: </strong>arr = [4,3,1,1,3,3,2], k = 3\n",
    "<strong>Output: </strong>2\n",
    "<strong>Explanation</strong>: Remove 4, 2 and either one of the two 1s or three 3s. 1 and 3 will be left.</pre>\n",
    "\n",
    "<p>&nbsp;</p>\n",
    "<p><strong>Constraints:</strong></p>\n",
    "\n",
    "<ul>\n",
    "\t<li><code>1 &lt;= arr.length&nbsp;&lt;= 10^5</code></li>\n",
    "\t<li><code>1 &lt;= arr[i] &lt;= 10^9</code></li>\n",
    "\t<li><code>0 &lt;= k&nbsp;&lt;= arr.length</code></li>\n",
    "</ul></div>"
   ]
  },
  {
   "cell_type": "markdown",
   "metadata": {},
   "source": [
    "## Option 1\n",
    " <p>    <p>\n",
    "    Priority Queue\n",
    "<p>\n",
    "            \n",
    "Time complexity: O(klogn) n = number of unique integers, \n",
    "    <br>\n",
    "Space complexity: O(n)\n"
   ]
  },
  {
   "cell_type": "code",
   "execution_count": null,
   "metadata": {
    "scrolled": true
   },
   "outputs": [],
   "source": [
    "import heapq\n",
    "\n",
    "class Solution(object):\n",
    "    def findLeastNumOfUniqueInts(self, arr, k):        \n",
    "        h = collections.Counter(arr).values()\n",
    "        heapq.heapify(h)\n",
    "        \n",
    "        while h and h[0] <= k:\n",
    "            k -= heapq.heappop(h)\n",
    "        \n",
    "        return len(h)\n",
    "        \n",
    "                \n",
    "Solution().findLeastNumOfUniqueInts([5,5,4], 1)\n"
   ]
  },
  {
   "cell_type": "markdown",
   "metadata": {},
   "source": [
    "#### Result: 624ms (36.42%)"
   ]
  }
 ],
 "metadata": {
  "kernelspec": {
   "display_name": "Python 2",
   "language": "python",
   "name": "python2"
  },
  "language_info": {
   "codemirror_mode": {
    "name": "ipython",
    "version": 2
   },
   "file_extension": ".py",
   "mimetype": "text/x-python",
   "name": "python",
   "nbconvert_exporter": "python",
   "pygments_lexer": "ipython2",
   "version": "2.7.16"
  }
 },
 "nbformat": 4,
 "nbformat_minor": 2
}
