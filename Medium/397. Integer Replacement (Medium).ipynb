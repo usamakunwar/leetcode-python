{
 "cells": [
  {
   "cell_type": "markdown",
   "metadata": {},
   "source": [
    "# 397. Integer Replacement (Medium)"
   ]
  },
  {
   "cell_type": "markdown",
   "metadata": {},
   "source": [
    "<div><p>\n",
    "Given a positive integer <i>n</i> and you can do operations as follow:\n",
    "</p>\n",
    "\n",
    "<p>\n",
    "</p><ol>\n",
    "<li>If <i>n</i> is even, replace <i>n</i> with <code><i>n</i>/2</code>.</li>\n",
    "<li>If <i>n</i> is odd, you can replace <i>n</i> with either <code><i>n</i> + 1</code> or <code><i>n</i> - 1</code>.</li>\n",
    "</ol>\n",
    "<p></p>\n",
    "\n",
    "<p>\n",
    "What is the minimum number of replacements needed for <i>n</i> to become 1?\n",
    "</p>\n",
    "\n",
    "<p></p>\n",
    "\n",
    "<p><b>Example 1:</b>\n",
    "</p><pre><b>Input:</b>\n",
    "8\n",
    "\n",
    "<b>Output:</b>\n",
    "3\n",
    "\n",
    "<b>Explanation:</b>\n",
    "8 -&gt; 4 -&gt; 2 -&gt; 1\n",
    "</pre>\n",
    "<p></p>\n",
    "\n",
    "<p><b>Example 2:</b>\n",
    "</p><pre><b>Input:</b>\n",
    "7\n",
    "\n",
    "<b>Output:</b>\n",
    "4\n",
    "\n",
    "<b>Explanation:</b>\n",
    "7 -&gt; 8 -&gt; 4 -&gt; 2 -&gt; 1\n",
    "or\n",
    "7 -&gt; 6 -&gt; 3 -&gt; 2 -&gt; 1\n",
    "</pre>\n",
    "<p></p></div>"
   ]
  },
  {
   "cell_type": "markdown",
   "metadata": {},
   "source": [
    "## Option 1\n",
    "<p>"
   ]
  },
  {
   "cell_type": "code",
   "execution_count": null,
   "metadata": {
    "scrolled": false
   },
   "outputs": [],
   "source": [
    "import math\n",
    "class Solution(object):\n",
    "    def integerReplacement(self, n):\n",
    "\n",
    "        def search(n,curr):\n",
    "            log = math.log(n,2)\n",
    "            if log-int(log) == 0: return curr+int(log)\n",
    "            if n%2:\n",
    "                return min(search(n+1,curr+1),search(n-1,curr+1))\n",
    "            else:\n",
    "                return search(n/2,curr+1)\n",
    "        \n",
    "        return search(n,0)\n",
    "\n",
    "Solution().integerReplacement(7)"
   ]
  },
  {
   "cell_type": "markdown",
   "metadata": {},
   "source": [
    "#### Result: 448ms (5.59%)"
   ]
  }
 ],
 "metadata": {
  "kernelspec": {
   "display_name": "Python 2",
   "language": "python",
   "name": "python2"
  },
  "language_info": {
   "codemirror_mode": {
    "name": "ipython",
    "version": 2
   },
   "file_extension": ".py",
   "mimetype": "text/x-python",
   "name": "python",
   "nbconvert_exporter": "python",
   "pygments_lexer": "ipython2",
   "version": "2.7.16"
  }
 },
 "nbformat": 4,
 "nbformat_minor": 2
}
