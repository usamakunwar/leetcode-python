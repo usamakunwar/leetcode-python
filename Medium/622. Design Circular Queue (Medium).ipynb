{
 "cells": [
  {
   "cell_type": "markdown",
   "metadata": {},
   "source": [
    "# 622. Design Circular Queue (Medium)"
   ]
  },
  {
   "cell_type": "markdown",
   "metadata": {},
   "source": [
    "<div><p>Design your implementation of the circular queue. The circular queue is a linear data structure in which the operations are performed based on FIFO (First In First Out) principle and the last position is connected back to the first position to make a circle. It is also called \"Ring Buffer\".</p>\n",
    "\n",
    "<p>One of the benefits of the circular queue is that we can make use of the spaces in front of the queue. In a normal queue, once the queue becomes full, we cannot insert the next element even if there is a space in front of the queue. But using the circular queue, we can use the space to store new values.</p>\n",
    "\n",
    "<p>Your implementation should support following operations:</p>\n",
    "\n",
    "<ul>\n",
    "\t<li><code>MyCircularQueue(k)</code>: Constructor, set the size of the queue to be k.</li>\n",
    "\t<li><code>Front</code>: Get the front item from the queue. If the queue is empty, return -1.</li>\n",
    "\t<li><code>Rear</code>: Get the last item from the queue. If the queue is empty, return -1.</li>\n",
    "\t<li><code>enQueue(value)</code>: Insert an element into the circular queue. Return true if the operation is successful.</li>\n",
    "\t<li><code>deQueue()</code>: Delete an element from the circular queue. Return true if the operation is successful.</li>\n",
    "\t<li><code>isEmpty()</code>: Checks whether the circular queue is empty or not.</li>\n",
    "\t<li><code>isFull()</code>: Checks whether the circular queue is full or not.</li>\n",
    "</ul>\n",
    "\n",
    "<p>&nbsp;</p>\n",
    "\n",
    "<p><strong>Example:</strong></p>\n",
    "\n",
    "<pre>MyCircularQueue circularQueue = new MyCircularQueue(3); // set the size to be 3\n",
    "circularQueue.enQueue(1); &nbsp;// return true\n",
    "circularQueue.enQueue(2); &nbsp;// return true\n",
    "circularQueue.enQueue(3); &nbsp;// return true\n",
    "circularQueue.enQueue(4); &nbsp;// return false, the queue is full\n",
    "circularQueue.Rear(); &nbsp;// return 3\n",
    "circularQueue.isFull(); &nbsp;// return true\n",
    "circularQueue.deQueue(); &nbsp;// return true\n",
    "circularQueue.enQueue(4); &nbsp;// return true\n",
    "circularQueue.Rear(); &nbsp;// return 4\n",
    "</pre>\n",
    "&nbsp;\n",
    "\n",
    "<p><strong>Note:</strong></p>\n",
    "\n",
    "<ul>\n",
    "\t<li>All values will be in the range of [0, 1000].</li>\n",
    "\t<li>The number of operations will be in the range of&nbsp;[1, 1000].</li>\n",
    "\t<li>Please do not use the built-in Queue library.</li>\n",
    "</ul>\n",
    "</div>"
   ]
  },
  {
   "cell_type": "markdown",
   "metadata": {},
   "source": [
    "## Option 1\n",
    " <p>    \n",
    "    Single linked list\n",
    "<p>\n",
    "\n",
    "<p>\n",
    "            \n",
    "Time complexity: O(1)\n",
    "    <br>\n",
    "Space complexity: O(n)\n",
    "        \n"
   ]
  },
  {
   "cell_type": "code",
   "execution_count": null,
   "metadata": {},
   "outputs": [],
   "source": [
    "class Node(object):\n",
    "    def __init__(self, val):\n",
    "        self.val = val\n",
    "        self.next = None\n",
    "\n",
    "class MyCircularQueue(object):\n",
    "\n",
    "    def __init__(self, k):\n",
    "        self.head,self.tail = None,None\n",
    "        self.k = k\n",
    "        self.count = 0\n",
    "        \n",
    "    def enQueue(self, value):\n",
    "        if self.count == self.k: return False\n",
    "        node = Node(value)\n",
    "        if self.tail:\n",
    "            self.tail.next = node\n",
    "        else:\n",
    "            self.head = node\n",
    "            \n",
    "        self.tail = node\n",
    "        self.count += 1\n",
    "        return True\n",
    "\n",
    "    def deQueue(self):\n",
    "        if self.count == 0: return False\n",
    "        self.head = self.head.next\n",
    "        if not self.head:\n",
    "            self.tail = None\n",
    "        self.count -= 1\n",
    "        return True\n",
    "\n",
    "    def Front(self):\n",
    "        return self.head.val if self.head else -1\n",
    "\n",
    "    def Rear(self):\n",
    "        return self.tail.val if self.tail else -1\n",
    "\n",
    "    def isEmpty(self):\n",
    "        return not self.count\n",
    "\n",
    "    def isFull(self):\n",
    "        return self.count == self.k\n"
   ]
  },
  {
   "cell_type": "markdown",
   "metadata": {},
   "source": [
    "#### Result:  132ms (5.34%)"
   ]
  }
 ],
 "metadata": {
  "kernelspec": {
   "display_name": "Python 2",
   "language": "python",
   "name": "python2"
  },
  "language_info": {
   "codemirror_mode": {
    "name": "ipython",
    "version": 2
   },
   "file_extension": ".py",
   "mimetype": "text/x-python",
   "name": "python",
   "nbconvert_exporter": "python",
   "pygments_lexer": "ipython2",
   "version": "2.7.16"
  }
 },
 "nbformat": 4,
 "nbformat_minor": 2
}
