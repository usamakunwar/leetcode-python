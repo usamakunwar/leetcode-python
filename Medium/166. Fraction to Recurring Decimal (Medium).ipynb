{
 "cells": [
  {
   "cell_type": "markdown",
   "metadata": {},
   "source": [
    "# 166. Fraction to Recurring Decimal (Medium)\n"
   ]
  },
  {
   "cell_type": "markdown",
   "metadata": {},
   "source": [
    "<div><p>Given two integers representing the numerator and denominator of a fraction, return the fraction in string format.</p>\n",
    "\n",
    "<p>If the fractional part is repeating, enclose the repeating part in parentheses.</p>\n",
    "\n",
    "<p><strong>Example 1:</strong></p>\n",
    "\n",
    "<pre><strong>Input:</strong> numerator = 1, denominator = 2\n",
    "<strong>Output:</strong> \"0.5\"\n",
    "</pre>\n",
    "\n",
    "<p><strong>Example 2:</strong></p>\n",
    "\n",
    "<pre><strong>Input:</strong> numerator = 2, denominator = 1\n",
    "<strong>Output:</strong> \"2\"</pre>\n",
    "\n",
    "<p><strong>Example 3:</strong></p>\n",
    "\n",
    "<pre><strong>Input:</strong> numerator = 2, denominator = 3\n",
    "<strong>Output: </strong>\"0.(6)\"\n",
    "</pre>\n",
    "</div>"
   ]
  },
  {
   "cell_type": "markdown",
   "metadata": {},
   "source": [
    "## Option 1\n",
    "\n",
    "<p>\n",
    "    Long division\n",
    "<p>    "
   ]
  },
  {
   "cell_type": "code",
   "execution_count": 146,
   "metadata": {
    "scrolled": false
   },
   "outputs": [
    {
     "data": {
      "text/plain": [
       "'-6.25'"
      ]
     },
     "execution_count": 146,
     "metadata": {},
     "output_type": "execute_result"
    }
   ],
   "source": [
    "class Solution(object):\n",
    "    def fractionToDecimal(self, n, d):\n",
    "        if not n: return '0'\n",
    "        res = []\n",
    "        if (n < 0 and d > 0) or (d < 0 and n > 0) : \n",
    "            res.append('-')\n",
    "            \n",
    "        n,d = abs(n),abs(d) #Get rid of the negatives\n",
    "        res.append(str(n/d)) \n",
    "        n %= d #n is now the remainder\n",
    "        \n",
    "        if not n: return ''.join(res) #Theres no fraction\n",
    "\n",
    "        #Fractional part (long devision)\n",
    "        res.append('.')\n",
    "        d = abs(d)        \n",
    "        seen = {n:len(res)} #Seen holds the index for bracket insertion, If we visit seen again that means repetition\n",
    "        while n:\n",
    "            n *= 10\n",
    "            res.append(str(n/d))\n",
    "            n %= d\n",
    "            if n in seen: \n",
    "                res.insert(seen[n],'(')\n",
    "                res.append(')')\n",
    "                break\n",
    "            else:\n",
    "                seen[n] = len(res)\n",
    "                \n",
    "        return ''.join(res)\n",
    "    \n",
    "Solution().fractionToDecimal(-50, 8)\n",
    "    "
   ]
  },
  {
   "cell_type": "markdown",
   "metadata": {},
   "source": [
    "#### Result: 32ms (9.92%)"
   ]
  }
 ],
 "metadata": {
  "kernelspec": {
   "display_name": "Python 2",
   "language": "python",
   "name": "python2"
  },
  "language_info": {
   "codemirror_mode": {
    "name": "ipython",
    "version": 2
   },
   "file_extension": ".py",
   "mimetype": "text/x-python",
   "name": "python",
   "nbconvert_exporter": "python",
   "pygments_lexer": "ipython2",
   "version": "2.7.16"
  }
 },
 "nbformat": 4,
 "nbformat_minor": 2
}
