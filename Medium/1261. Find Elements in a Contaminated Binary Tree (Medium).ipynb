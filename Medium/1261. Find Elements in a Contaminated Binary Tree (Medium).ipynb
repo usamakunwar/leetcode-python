{
 "cells": [
  {
   "cell_type": "markdown",
   "metadata": {},
   "source": [
    "# 1261. Find Elements in a Contaminated Binary Tree (Medium)\n"
   ]
  },
  {
   "cell_type": "markdown",
   "metadata": {},
   "source": [
    "<div><p>Given a&nbsp;binary tree with the following rules:</p>\n",
    "\n",
    "<ol>\n",
    "\t<li><code>root.val == 0</code></li>\n",
    "\t<li>If <code>treeNode.val == x</code> and <code>treeNode.left != null</code>, then <code>treeNode.left.val == 2 * x + 1</code></li>\n",
    "\t<li>If <code>treeNode.val == x</code> and <code>treeNode.right != null</code>, then <code>treeNode.right.val == 2 * x + 2</code></li>\n",
    "</ol>\n",
    "\n",
    "<p>Now the binary tree is contaminated, which means all&nbsp;<code>treeNode.val</code>&nbsp;have&nbsp;been changed to <code>-1</code>.</p>\n",
    "\n",
    "<p>You need to first recover the binary tree and then implement the <code>FindElements</code> class:</p>\n",
    "\n",
    "<ul>\n",
    "\t<li><code>FindElements(TreeNode* root)</code>&nbsp;Initializes the object with a&nbsp;contamined binary tree, you need to recover it first.</li>\n",
    "\t<li><code>bool find(int target)</code>&nbsp;Return if the <code>target</code> value exists in the recovered binary tree.</li>\n",
    "</ul>\n",
    "\n",
    "<p>&nbsp;</p>\n",
    "<p><strong>Example 1:</strong></p>\n",
    "\n",
    "<p><strong><img alt=\"\" src=\"https://assets.leetcode.com/uploads/2019/11/06/untitled-diagram-4-1.jpg\" style=\"width: 320px; height: 119px;\"></strong></p>\n",
    "\n",
    "<pre><strong>Input</strong>\n",
    "[\"FindElements\",\"find\",\"find\"]\n",
    "[[[-1,null,-1]],[1],[2]]\n",
    "<strong>Output</strong>\n",
    "[null,false,true]\n",
    "<strong>Explanation</strong>\n",
    "FindElements findElements = new FindElements([-1,null,-1]); \n",
    "findElements.find(1); // return False \n",
    "findElements.find(2); // return True </pre>\n",
    "\n",
    "<p><strong>Example 2:</strong></p>\n",
    "\n",
    "<p><strong><img alt=\"\" src=\"https://assets.leetcode.com/uploads/2019/11/06/untitled-diagram-4.jpg\" style=\"width: 400px; height: 198px;\"></strong></p>\n",
    "\n",
    "<pre><strong>Input</strong>\n",
    "[\"FindElements\",\"find\",\"find\",\"find\"]\n",
    "[[[-1,-1,-1,-1,-1]],[1],[3],[5]]\n",
    "<strong>Output</strong>\n",
    "[null,true,true,false]\n",
    "<strong>Explanation</strong>\n",
    "FindElements findElements = new FindElements([-1,-1,-1,-1,-1]);\n",
    "findElements.find(1); // return True\n",
    "findElements.find(3); // return True\n",
    "findElements.find(5); // return False</pre>\n",
    "\n",
    "<p><strong>Example 3:</strong></p>\n",
    "\n",
    "<p><strong><img alt=\"\" src=\"https://assets.leetcode.com/uploads/2019/11/07/untitled-diagram-4-1-1.jpg\" style=\"width: 306px; height: 274px;\"></strong></p>\n",
    "\n",
    "<pre><strong>Input</strong>\n",
    "[\"FindElements\",\"find\",\"find\",\"find\",\"find\"]\n",
    "[[[-1,null,-1,-1,null,-1]],[2],[3],[4],[5]]\n",
    "<strong>Output</strong>\n",
    "[null,true,false,false,true]\n",
    "<strong>Explanation</strong>\n",
    "FindElements findElements = new FindElements([-1,null,-1,-1,null,-1]);\n",
    "findElements.find(2); // return True\n",
    "findElements.find(3); // return False\n",
    "findElements.find(4); // return False\n",
    "findElements.find(5); // return True\n",
    "</pre>\n",
    "\n",
    "<p>&nbsp;</p>\n",
    "<p><strong>Constraints:</strong></p>\n",
    "\n",
    "<ul>\n",
    "\t<li><code>TreeNode.val == -1</code></li>\n",
    "\t<li>The height of the binary tree is less than or equal to <code>20</code></li>\n",
    "\t<li>The total number of nodes is between <code>[1,&nbsp;10^4]</code></li>\n",
    "\t<li>Total calls of <code>find()</code> is between <code>[1,&nbsp;10^4]</code></li>\n",
    "\t<li><code>0 &lt;= target &lt;= 10^6</code></li>\n",
    "</ul>\n",
    "</div>"
   ]
  },
  {
   "cell_type": "markdown",
   "metadata": {},
   "source": [
    "## Option 1\n",
    "<p>\n",
    "   DFS with map\n",
    "    \n",
    " <p> <p>\n",
    "Time complexity: O(n)\n",
    "    <br>\n",
    "Space complexity: O(n)\n"
   ]
  },
  {
   "cell_type": "code",
   "execution_count": null,
   "metadata": {
    "scrolled": false
   },
   "outputs": [],
   "source": [
    "class FindElements(object):\n",
    "    \n",
    "    def __init__(self, root):\n",
    "        self.m = set()\n",
    "        def search(node,curr):\n",
    "            node.val = curr\n",
    "            self.m.add(curr)\n",
    "            if node.left: search(node.left, (node.val*2)+1)\n",
    "            if node.right: search(node.right, (node.val*2)+2)\n",
    "            \n",
    "        search(root,0)\n",
    "        \n",
    "    def find(self, target):\n",
    "        return target in self.m\n",
    "\n",
    "# Your FindElements object will be instantiated and called as such:\n",
    "# obj = FindElements(root)\n",
    "# param_1 = obj.find(target)"
   ]
  },
  {
   "cell_type": "markdown",
   "metadata": {},
   "source": [
    "#### Result: 40ms (93.14%)"
   ]
  }
 ],
 "metadata": {
  "kernelspec": {
   "display_name": "Python 2",
   "language": "python",
   "name": "python2"
  },
  "language_info": {
   "codemirror_mode": {
    "name": "ipython",
    "version": 2
   },
   "file_extension": ".py",
   "mimetype": "text/x-python",
   "name": "python",
   "nbconvert_exporter": "python",
   "pygments_lexer": "ipython2",
   "version": "2.7.16"
  }
 },
 "nbformat": 4,
 "nbformat_minor": 2
}
