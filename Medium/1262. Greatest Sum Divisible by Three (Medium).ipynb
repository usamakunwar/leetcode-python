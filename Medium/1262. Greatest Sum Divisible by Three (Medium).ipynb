{
 "cells": [
  {
   "cell_type": "markdown",
   "metadata": {},
   "source": [
    "# 1262. Greatest Sum Divisible by Three (Medium)"
   ]
  },
  {
   "cell_type": "markdown",
   "metadata": {},
   "source": [
    "<div><p>Given an array&nbsp;<code>nums</code>&nbsp;of integers, we need to find the maximum possible sum of elements of the array such that it is divisible by three.</p>\n",
    "\n",
    "<ol>\n",
    "</ol>\n",
    "\n",
    "<p>&nbsp;</p>\n",
    "<p><strong>Example 1:</strong></p>\n",
    "\n",
    "<pre><strong>Input:</strong> nums = [3,6,5,1,8]\n",
    "<strong>Output:</strong> 18\n",
    "<strong>Explanation:</strong> Pick numbers 3, 6, 1 and 8 their sum is 18 (maximum sum divisible by 3).</pre>\n",
    "\n",
    "<p><strong>Example 2:</strong></p>\n",
    "\n",
    "<pre><strong>Input:</strong> nums = [4]\n",
    "<strong>Output:</strong> 0\n",
    "<strong>Explanation:</strong> Since 4 is not divisible by 3, do not pick any number.\n",
    "</pre>\n",
    "\n",
    "<p><strong>Example 3:</strong></p>\n",
    "\n",
    "<pre><strong>Input:</strong> nums = [1,2,3,4,4]\n",
    "<strong>Output:</strong> 12\n",
    "<strong>Explanation:</strong> Pick numbers 1, 3, 4 and 4 their sum is 12 (maximum sum divisible by 3).\n",
    "</pre>\n",
    "\n",
    "<p>&nbsp;</p>\n",
    "<p><strong>Constraints:</strong></p>\n",
    "\n",
    "<ul>\n",
    "\t<li><code>1 &lt;= nums.length &lt;= 4 * 10^4</code></li>\n",
    "\t<li><code>1 &lt;= nums[i] &lt;= 10^4</code></li>\n",
    "</ul>\n",
    "</div>"
   ]
  },
  {
   "cell_type": "markdown",
   "metadata": {},
   "source": [
    "## Option 1\n",
    "\n",
    "<p>\n",
    "    <p>\n",
    "    <li>Once we have the sum of nums, all need to know is how much do we reduce by to get sum%3 == 0\n",
    "    <li>Turns out there are only 2 type of numbers, mod1 (n%3 == 1) and mod2 (n%3 == 2), reducing one of the two will surely get us our result\n",
    "    <li>(1) As we are trying to get the maximum sum, we need the minimum mod1 or mod2 to reduce\n",
    "    <li>(2) We also have to consider that 2 mod1's can make a mod2 and 2 mod2's can make a mod1\n",
    "   <p>\n",
    "       <p>\n",
    "           \n",
    "Time complexity: O(n)\n",
    "    <br>\n",
    "Space complexity: O(1)\n"
   ]
  },
  {
   "cell_type": "code",
   "execution_count": null,
   "metadata": {},
   "outputs": [],
   "source": [
    "class Solution(object):\n",
    "    def maxSumDivThree(self, nums):\n",
    "        total = sum(nums)\n",
    "        if not total%3: return total\n",
    "\n",
    "        mod1 = mod2 = float('inf')\n",
    "        \n",
    "        for n in nums:\n",
    "            if n%3 == 1:\n",
    "                mod2 = min(mod2, mod1+n) #(mod1+n) represents the 2 mod1's that make a mod2\n",
    "                mod1 = min(mod1, n)\n",
    "            elif n%3 == 2:\n",
    "                mod1 = min(mod1, mod2+n) #(mod2+n) represents the 2 mod2's that make a mod1\n",
    "                mod2 = min(mod2, n)\n",
    "                \n",
    "        #INF is not an issue here as we are guaranteed to have a value for the mod1 or mod2 required\n",
    "        return total-mod1 if total%3 == 1 else total-mod2\n",
    "\n",
    "Solution().maxSumDivThree([2,3,36,8,32,38,3,30,13,40])\n",
    "    "
   ]
  },
  {
   "cell_type": "markdown",
   "metadata": {},
   "source": [
    "#### Result: 232ms (91.48%)"
   ]
  }
 ],
 "metadata": {
  "kernelspec": {
   "display_name": "Python 2",
   "language": "python",
   "name": "python2"
  },
  "language_info": {
   "codemirror_mode": {
    "name": "ipython",
    "version": 2
   },
   "file_extension": ".py",
   "mimetype": "text/x-python",
   "name": "python",
   "nbconvert_exporter": "python",
   "pygments_lexer": "ipython2",
   "version": "2.7.16"
  }
 },
 "nbformat": 4,
 "nbformat_minor": 2
}
