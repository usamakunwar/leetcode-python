{
 "cells": [
  {
   "cell_type": "markdown",
   "metadata": {},
   "source": [
    "# 1162. As Far from Land as Possible (Medium)"
   ]
  },
  {
   "cell_type": "markdown",
   "metadata": {},
   "source": [
    "<div><p>Given an N x N <code>grid</code>&nbsp;containing only values <code>0</code> and <code>1</code>, where&nbsp;<code>0</code> represents water&nbsp;and <code>1</code> represents land, find a water cell such that its distance to the nearest land cell is maximized and return the distance.</p>\n",
    "\n",
    "<p>The distance used in this problem is the <em>Manhattan distance</em>:&nbsp;the distance between two cells <code>(x0, y0)</code> and <code>(x1, y1)</code> is <code>|x0 - x1| + |y0 - y1|</code>.</p>\n",
    "\n",
    "<p>If no land or water exists in the grid, return <code>-1</code>.</p>\n",
    "\n",
    "<p>&nbsp;</p>\n",
    "\n",
    "<p><strong>Example 1:</strong></p>\n",
    "\n",
    "<p><strong><img alt=\"\" src=\"https://assets.leetcode.com/uploads/2019/05/03/1336_ex1.JPG\" style=\"width: 185px; height: 87px;\"></strong></p>\n",
    "\n",
    "<pre><strong>Input: </strong><span id=\"example-input-1-1\">[[1,0,1],[0,0,0],[1,0,1]]</span>\n",
    "<strong>Output: </strong><span id=\"example-output-1\">2</span>\n",
    "<strong>Explanation: </strong>\n",
    "The cell (1, 1) is as far as possible from all the land with distance 2.\n",
    "</pre>\n",
    "\n",
    "<p><strong>Example 2:</strong></p>\n",
    "\n",
    "<p><strong><img alt=\"\" src=\"https://assets.leetcode.com/uploads/2019/05/03/1336_ex2.JPG\" style=\"width: 184px; height: 87px;\"></strong></p>\n",
    "\n",
    "<pre><strong>Input: </strong><span id=\"example-input-2-1\">[[1,0,0],[0,0,0],[0,0,0]]</span>\n",
    "<strong>Output: </strong><span id=\"example-output-2\">4</span>\n",
    "<strong>Explanation: </strong>\n",
    "The cell (2, 2) is as far as possible from all the land with distance 4.\n",
    "</pre>\n",
    "\n",
    "<p>&nbsp;</p>\n",
    "\n",
    "<p><span><strong>Note:</strong></span></p>\n",
    "\n",
    "<ol>\n",
    "\t<li><span><code>1 &lt;= grid.length == grid[0].length&nbsp;&lt;= 100</code></span></li>\n",
    "\t<li><span><code>grid[i][j]</code>&nbsp;is <code>0</code> or <code>1</code></span></li>\n",
    "</ol>\n",
    "</div>"
   ]
  },
  {
   "cell_type": "markdown",
   "metadata": {},
   "source": [
    "## Option 1\n",
    "\n",
    "<p>DP\n",
    "    <p>\n",
    "\n",
    "Time complexity: O(n)\n",
    "<br>\n",
    "Space complexity: O(1) "
   ]
  },
  {
   "cell_type": "code",
   "execution_count": 84,
   "metadata": {},
   "outputs": [
    {
     "name": "stdout",
     "output_type": "stream",
     "text": [
      "[0, 0, 0]\n"
     ]
    },
    {
     "data": {
      "text/plain": [
       "-1"
      ]
     },
     "execution_count": 84,
     "metadata": {},
     "output_type": "execute_result"
    }
   ],
   "source": [
    "class Solution(object):\n",
    "    def maxDistance(self, grid):\n",
    "        li,lj = len(grid), len(grid[0])\n",
    "        \n",
    "        for i in range(li):\n",
    "            for j in range(lj):\n",
    "                if grid[i][j] == 1:\n",
    "                    grid[i][j] = 0\n",
    "                else:\n",
    "                    top = grid[i-1][j] if i > 0 else float('inf')\n",
    "                    left = grid[i][j-1] if j > 0 else float('inf')\n",
    "                    grid[i][j] = min(top+1,left+1)\n",
    "        \n",
    "        res = -1\n",
    "        for i in range(li-1,-1,-1):\n",
    "            for j in range(lj-1,-1,-1):\n",
    "                if grid[i][j]:\n",
    "                    bottom = grid[i+1][j] if i < li-1 else float('inf')\n",
    "                    right = grid[i][j+1] if j < lj-1 else float('inf')\n",
    "                    grid[i][j] = min(grid[i][j], bottom+1,right+1)\n",
    "                    if grid[i][j] != float('inf'):\n",
    "                        res = max(res, grid[i][j])\n",
    "                \n",
    "        return res\n",
    "    \n",
    "Solution().maxDistance([[1,1,1]])\n",
    "        "
   ]
  },
  {
   "cell_type": "markdown",
   "metadata": {},
   "source": [
    "#### Result: 428ms (100%)"
   ]
  }
 ],
 "metadata": {
  "kernelspec": {
   "display_name": "Python 2",
   "language": "python",
   "name": "python2"
  },
  "language_info": {
   "codemirror_mode": {
    "name": "ipython",
    "version": 2
   },
   "file_extension": ".py",
   "mimetype": "text/x-python",
   "name": "python",
   "nbconvert_exporter": "python",
   "pygments_lexer": "ipython2",
   "version": "2.7.16"
  }
 },
 "nbformat": 4,
 "nbformat_minor": 2
}
