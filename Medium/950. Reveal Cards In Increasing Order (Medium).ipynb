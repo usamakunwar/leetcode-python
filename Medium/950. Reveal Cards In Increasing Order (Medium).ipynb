{
 "cells": [
  {
   "cell_type": "markdown",
   "metadata": {},
   "source": [
    "# 950. Reveal Cards In Increasing Order (Medium)"
   ]
  },
  {
   "cell_type": "markdown",
   "metadata": {},
   "source": [
    "<div><p>In a deck of cards, every card has a unique integer.&nbsp; You can order the deck in&nbsp;any order you want.</p>\n",
    "\n",
    "<p>Initially, all the cards start face down (unrevealed) in one deck.</p>\n",
    "\n",
    "<p>Now, you do the following steps repeatedly, until all cards are revealed:</p>\n",
    "\n",
    "<ol>\n",
    "\t<li>Take the top card of the deck, reveal it, and take it out of the deck.</li>\n",
    "\t<li>If there are still cards in the deck, put the next top card of the deck at&nbsp;the bottom of the deck.</li>\n",
    "\t<li>If there are still unrevealed cards, go back to step 1.&nbsp; Otherwise, stop.</li>\n",
    "</ol>\n",
    "\n",
    "<p>Return an ordering of the deck that would reveal the cards&nbsp;in <strong>increasing order.</strong></p>\n",
    "\n",
    "<p>The first entry in the answer is considered to be the top of the deck.</p>\n",
    "\n",
    "<p>&nbsp;</p>\n",
    "\n",
    "<div>\n",
    "<p><strong>Example 1:</strong></p>\n",
    "\n",
    "<pre><strong>Input: </strong><span id=\"example-input-1-1\">[17,13,11,2,3,5,7]</span>\n",
    "<strong>Output: </strong><span id=\"example-output-1\">[2,13,3,11,5,17,7]</span>\n",
    "<strong>Explanation: </strong>\n",
    "We get the deck in the order [17,13,11,2,3,5,7] (this order doesn't matter), and reorder it.\n",
    "After reordering, the deck starts as [2,13,3,11,5,17,7], where 2 is the top of the deck.\n",
    "We reveal 2, and move 13 to the bottom.  The deck is now [3,11,5,17,7,13].\n",
    "We reveal 3, and move 11 to the bottom.  The deck is now [5,17,7,13,11].\n",
    "We reveal 5, and move 17 to the bottom.  The deck is now [7,13,11,17].\n",
    "We reveal 7, and move 13 to the bottom.  The deck is now [11,17,13].\n",
    "We reveal 11, and move 17 to the bottom.  The deck is now [13,17].\n",
    "We reveal 13, and move 17 to the bottom.  The deck is now [17].\n",
    "We reveal 17.\n",
    "Since all the cards revealed are in increasing order, the answer is correct.\n",
    "</pre>\n",
    "\n",
    "<div>\n",
    "<p>&nbsp;</p>\n",
    "\n",
    "<p><strong>Note:</strong></p>\n",
    "\n",
    "<ol>\n",
    "\t<li><code>1 &lt;= A.length &lt;= 1000</code></li>\n",
    "\t<li><code>1 &lt;= A[i] &lt;= 10^6</code></li>\n",
    "\t<li><code>A[i] != A[j]</code>&nbsp;for all&nbsp;<code>i != j</code></li>\n",
    "</ol>\n",
    "</div>\n",
    "</div>\n",
    "</div>"
   ]
  },
  {
   "cell_type": "markdown",
   "metadata": {},
   "source": [
    "## Option 1\n",
    " <p>    \n",
    "<p>\n",
    "    Keep a second pointer interating until a gap is found\n",
    "    <p>    \n",
    "   \n",
    "<p>\n",
    "        \n",
    "Time complexity: O(nlogn)\n",
    "    <br>\n",
    "Space complexity: O(n)\n"
   ]
  },
  {
   "cell_type": "code",
   "execution_count": null,
   "metadata": {},
   "outputs": [],
   "source": [
    "class Solution(object):\n",
    "    def deckRevealedIncreasing(self, deck):\n",
    "        deck.sort()\n",
    "        res = [0]*len(deck)\n",
    "        i=j=0\n",
    "        gap = True\n",
    "        while i < len(deck):\n",
    "            if gap and res[j%len(deck)] == 0:\n",
    "                res[j%len(deck)], gap = deck[i], False\n",
    "                i += 1\n",
    "            else:\n",
    "                if res[j%len(deck)] == 0: \n",
    "                    gap = True\n",
    "                j += 1\n",
    "        return res\n",
    "\n",
    "Solution().deckRevealedIncreasing([17,13,11,2,3,5,7])\n",
    "        "
   ]
  },
  {
   "cell_type": "markdown",
   "metadata": {},
   "source": [
    "#### Result:  52ms (25.15%)"
   ]
  },
  {
   "cell_type": "markdown",
   "metadata": {},
   "source": [
    "## Option 2\n",
    " <p>    \n",
    "<p>\n",
    "    Simulate the queue by using indexes\n",
    "    <p>    \n",
    "<p>\n",
    "        \n",
    "Time complexity: O(nlogn)\n",
    "    <br>\n",
    "Space complexity: O(n)\n"
   ]
  },
  {
   "cell_type": "code",
   "execution_count": null,
   "metadata": {},
   "outputs": [],
   "source": [
    "import collections\n",
    "class Solution(object):\n",
    "    def deckRevealedIncreasing(self, deck):\n",
    "        deck.sort()\n",
    "        res = [0]*len(deck)\n",
    "        q = collections.deque(range(len(deck)))\n",
    "        for d in deck:\n",
    "            res[q.popleft()] = d\n",
    "            if q:\n",
    "                q.append(q.popleft())\n",
    "        return res\n",
    "\n",
    "Solution().deckRevealedIncreasing([17,13,11,2,3,5,7])\n",
    "        "
   ]
  },
  {
   "cell_type": "markdown",
   "metadata": {},
   "source": [
    "#### Result:  56ms (22.70%)"
   ]
  }
 ],
 "metadata": {
  "kernelspec": {
   "display_name": "Python 2",
   "language": "python",
   "name": "python2"
  },
  "language_info": {
   "codemirror_mode": {
    "name": "ipython",
    "version": 2
   },
   "file_extension": ".py",
   "mimetype": "text/x-python",
   "name": "python",
   "nbconvert_exporter": "python",
   "pygments_lexer": "ipython2",
   "version": "2.7.16"
  }
 },
 "nbformat": 4,
 "nbformat_minor": 2
}
