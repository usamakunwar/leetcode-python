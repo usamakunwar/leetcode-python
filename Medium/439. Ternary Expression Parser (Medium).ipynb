{
 "cells": [
  {
   "cell_type": "markdown",
   "metadata": {},
   "source": [
    "# 439. Ternary Expression Parser (Medium)"
   ]
  },
  {
   "cell_type": "markdown",
   "metadata": {},
   "source": [
    "<div><p>Given a string representing arbitrarily nested ternary expressions, calculate the result of the expression. You can always assume that the given expression is valid and only consists of digits <code>0-9</code>, <code>?</code>, <code>:</code>, <code>T</code> and <code>F</code> (<code>T</code> and <code>F</code> represent True and False respectively).\n",
    "\n",
    "</p><p><b>Note:</b>\n",
    "</p><ol>\n",
    "<li>The length of the given string is ≤ 10000.</li>\n",
    "<li>Each number will contain only one digit.</li>\n",
    "<li>The conditional expressions group right-to-left (as usual in most languages).</li>\n",
    "<li>The condition will always be either <code>T</code> or <code>F</code>. That is, the condition will never be a digit.</li>\n",
    "<li>The result of the expression will always evaluate to either a digit <code>0-9</code>, <code>T</code> or <code>F</code>.</li>\n",
    "</ol>\n",
    "<p></p>\n",
    "\n",
    "<p>\n",
    "<b>Example 1:</b>\n",
    "</p><pre><b>Input:</b> \"T?2:3\"\n",
    "\n",
    "<b>Output:</b> \"2\"\n",
    "\n",
    "<b>Explanation:</b> If true, then result is 2; otherwise result is 3.\n",
    "</pre>\n",
    "<p></p>\n",
    "\n",
    "<p>\n",
    "<b>Example 2:</b>\n",
    "</p><pre><b>Input:</b> \"F?1:T?4:5\"\n",
    "\n",
    "<b>Output:</b> \"4\"\n",
    "\n",
    "<b>Explanation:</b> The conditional expressions group right-to-left. Using parenthesis, it is read/evaluated as:\n",
    "\n",
    "             \"(F ? 1 : (T ? 4 : 5))\"                   \"(F ? 1 : (T ? 4 : 5))\"\n",
    "          -&gt; \"(F ? 1 : 4)\"                 or       -&gt; \"(T ? 4 : 5)\"\n",
    "          -&gt; \"4\"                                    -&gt; \"4\"\n",
    "</pre>\n",
    "<p></p>\n",
    "\n",
    "<p>\n",
    "<b>Example 3:</b>\n",
    "</p><pre><b>Input:</b> \"T?T?F:5:3\"\n",
    "\n",
    "<b>Output:</b> \"F\"\n",
    "\n",
    "<b>Explanation:</b> The conditional expressions group right-to-left. Using parenthesis, it is read/evaluated as:\n",
    "\n",
    "             \"(T ? (T ? F : 5) : 3)\"                   \"(T ? (T ? F : 5) : 3)\"\n",
    "          -&gt; \"(T ? F : 3)\"                 or       -&gt; \"(T ? F : 5)\"\n",
    "          -&gt; \"F\"                                    -&gt; \"F\"\n",
    "</pre>\n",
    "<p></p></div>"
   ]
  },
  {
   "cell_type": "markdown",
   "metadata": {},
   "source": [
    "## Option 1\n",
    "\n",
    "<p>\n",
    "<li>We need to split the string at every go relative to its condition. E.g. T?(T?F:5):(3)\n",
    "<p>\n",
    "\n",
    "Time complexity: O(n) size of exp\n",
    "    <br>\n",
    "Space complexity: O(c) number of conditions \n"
   ]
  },
  {
   "cell_type": "code",
   "execution_count": null,
   "metadata": {},
   "outputs": [],
   "source": [
    "class Solution(object):\n",
    "    def parseTernary(self, expression):\n",
    "\n",
    "        def search(exp):\n",
    "            if len(exp) == 1:\n",
    "                return exp\n",
    "            \n",
    "            balance, j = 0, 1\n",
    "            while True:\n",
    "                if exp[j] == '?': balance += 1\n",
    "                if exp[j] == ':': balance -= 1\n",
    "                if balance == 0: break\n",
    "                j += 1\n",
    "            return search(exp[2:j] if exp[0] == 'T' else exp[j+1:])\n",
    "\n",
    "            \n",
    "        return search(expression) \n",
    "            \n",
    "\n",
    "    \n",
    "Solution().parseTernary('F?5:T?7:9')"
   ]
  },
  {
   "cell_type": "markdown",
   "metadata": {},
   "source": [
    "\n",
    "#### Result: 112ms (99.59%)"
   ]
  }
 ],
 "metadata": {
  "kernelspec": {
   "display_name": "Python 2",
   "language": "python",
   "name": "python2"
  },
  "language_info": {
   "codemirror_mode": {
    "name": "ipython",
    "version": 2
   },
   "file_extension": ".py",
   "mimetype": "text/x-python",
   "name": "python",
   "nbconvert_exporter": "python",
   "pygments_lexer": "ipython2",
   "version": "2.7.16"
  }
 },
 "nbformat": 4,
 "nbformat_minor": 2
}
