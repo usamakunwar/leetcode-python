{
 "cells": [
  {
   "cell_type": "markdown",
   "metadata": {},
   "source": [
    "# 213. House Robber II (Medium)"
   ]
  },
  {
   "cell_type": "markdown",
   "metadata": {},
   "source": [
    "<div><p>You are a professional robber planning to rob houses along a street. Each house has a certain amount of money stashed. All houses at this place are <strong>arranged in a circle.</strong> That means the first house is the neighbor of the last one. Meanwhile, adjacent houses have security system connected and&nbsp;<b>it will automatically contact the police if two adjacent houses were broken into on the same night</b>.</p>\n",
    "\n",
    "<p>Given a list of non-negative integers representing the amount of money of each house, determine the maximum amount of money you can rob tonight <strong>without alerting the police</strong>.</p>\n",
    "\n",
    "<p><strong>Example 1:</strong></p>\n",
    "\n",
    "<pre><strong>Input:</strong> [2,3,2]\n",
    "<strong>Output:</strong> 3\n",
    "<strong>Explanation:</strong> You cannot rob house 1 (money = 2) and then rob house 3 (money = 2),\n",
    "&nbsp;            because they are adjacent houses.\n",
    "</pre>\n",
    "\n",
    "<p><strong>Example 2:</strong></p>\n",
    "\n",
    "<pre><strong>Input:</strong> [1,2,3,1]\n",
    "<strong>Output:</strong> 4\n",
    "<strong>Explanation:</strong> Rob house 1 (money = 1) and then rob house 3 (money = 3).\n",
    "&nbsp;            Total amount you can rob = 1 + 3 = 4.</pre>\n",
    "</div>"
   ]
  },
  {
   "cell_type": "markdown",
   "metadata": {},
   "source": [
    "## Option 1\n",
    " <p>    \n",
    "    DP\n",
    "<p>\n",
    "    <li>The maximum we will every skip is 2 houses together\n",
    "    <li>If we:\n",
    "    <li><strong> (1)</strong> Rob the current house, we must skip the previous\n",
    "    <li><strong> (2)</strong> Skip the current house, we can add the max of the previous (i.e. rob or skip doesn't matter which)\n",
    "<p>\n",
    "        \n",
    "Time complexity: O(n)\n",
    "    <br>\n",
    "Space complexity: O(1)\n"
   ]
  },
  {
   "cell_type": "code",
   "execution_count": null,
   "metadata": {},
   "outputs": [],
   "source": [
    "class Solution(object):\n",
    "    def rob(self, nums):\n",
    "        if len(nums) < 3: return max(nums or [0])\n",
    "        \n",
    "        def s(l,r):\n",
    "            rob = skip = 0            \n",
    "            for i in range(l,r):\n",
    "                rob, skip = skip+nums[i], max(rob,skip)\n",
    "            return max(rob,skip)\n",
    "        \n",
    "        return max(s(0,len(nums)-1), s(1,len(nums)))\n",
    "        \n",
    "Solution().rob([1,2,77,18,130,40,20,500])\n",
    "        "
   ]
  },
  {
   "cell_type": "markdown",
   "metadata": {},
   "source": [
    "#### Result:  24ms (38.7%)"
   ]
  }
 ],
 "metadata": {
  "kernelspec": {
   "display_name": "Python 2",
   "language": "python",
   "name": "python2"
  },
  "language_info": {
   "codemirror_mode": {
    "name": "ipython",
    "version": 2
   },
   "file_extension": ".py",
   "mimetype": "text/x-python",
   "name": "python",
   "nbconvert_exporter": "python",
   "pygments_lexer": "ipython2",
   "version": "2.7.16"
  }
 },
 "nbformat": 4,
 "nbformat_minor": 2
}
