{
 "cells": [
  {
   "cell_type": "markdown",
   "metadata": {},
   "source": [
    "# 776. Split BST (Medium)\n"
   ]
  },
  {
   "cell_type": "markdown",
   "metadata": {},
   "source": [
    "<div><p>Given a Binary Search Tree (BST) with root node <code>root</code>, and a target value <code>V</code>, split the tree into two subtrees&nbsp;where one subtree has nodes that are all smaller or equal to the target value, while the other subtree has all nodes that are greater than the target value.&nbsp; It's not necessarily the case that the tree contains a node with value <code>V</code>.</p>\n",
    "\n",
    "<p>Additionally, most of the structure of the original tree should remain.&nbsp; Formally, for any child C with parent P in the original tree, if they are both in the same subtree after the split, then node C should still have the parent P.</p>\n",
    "\n",
    "<p>You should output the root TreeNode of&nbsp;both subtrees after splitting, in any order.</p>\n",
    "\n",
    "<p><strong>Example 1:</strong></p>\n",
    "\n",
    "<pre><strong>Input:</strong> root = [4,2,6,1,3,5,7], V = 2\n",
    "<strong>Output:</strong> [[2,1],[4,3,6,null,null,5,7]]\n",
    "<strong>Explanation:</strong>\n",
    "Note that root, output[0], and output[1] are TreeNode objects, not arrays.\n",
    "\n",
    "The given tree [4,2,6,1,3,5,7] is represented by the following diagram:\n",
    "\n",
    "          4\n",
    "        /   \\\n",
    "      2      6\n",
    "     / \\    / \\\n",
    "    1   3  5   7\n",
    "\n",
    "while the diagrams for the outputs are:\n",
    "\n",
    "          4\n",
    "        /   \\\n",
    "      3      6      and    2\n",
    "            / \\           /\n",
    "           5   7         1\n",
    "</pre>\n",
    "\n",
    "<p><strong>Note:</strong></p>\n",
    "\n",
    "<ol>\n",
    "\t<li>The size of the BST will not exceed <code>50</code>.</li>\n",
    "\t<li>The BST is always valid and each node's value is different.</li>\n",
    "</ol></div>"
   ]
  },
  {
   "cell_type": "markdown",
   "metadata": {},
   "source": [
    "## Option 1\n",
    "<p>\n",
    "    Recursive\n",
    " <p>\n",
    "\n",
    "Time complexity: O(n)\n",
    "<br>\n",
    "Space complexity: O(h) tree height "
   ]
  },
  {
   "cell_type": "code",
   "execution_count": null,
   "metadata": {},
   "outputs": [],
   "source": [
    "# Definition for a binary tree node.\n",
    "# class TreeNode(object):\n",
    "#     def __init__(self, x):\n",
    "#         self.val = x\n",
    "#         self.left = None\n",
    "#         self.right = None\n",
    "\n",
    "class Solution(object):\n",
    "    def splitBST(self, root, V):\n",
    "        \"\"\"\n",
    "        :type root: TreeNode\n",
    "        :type V: int\n",
    "        :rtype: List[TreeNode]\n",
    "        \"\"\"\n",
    "        if not root: return [None,None]\n",
    "        def search(node):\n",
    "            if node.val == V:\n",
    "                right = node.right\n",
    "                node.right = None\n",
    "                return [node, right]\n",
    "            elif node.val < V:\n",
    "                left, right = search(node.right) if node.right else (None, None)\n",
    "                node.right = left\n",
    "                return [node, right]\n",
    "            else:\n",
    "                left, right = search(node.left) if node.left else (None, None)\n",
    "                node.left = right\n",
    "                return [left, node]\n",
    "            \n",
    "        return search(root)"
   ]
  },
  {
   "cell_type": "markdown",
   "metadata": {},
   "source": [
    "#### Result: 24ms (17.76%)\n"
   ]
  }
 ],
 "metadata": {
  "kernelspec": {
   "display_name": "Python 2",
   "language": "python",
   "name": "python2"
  },
  "language_info": {
   "codemirror_mode": {
    "name": "ipython",
    "version": 2
   },
   "file_extension": ".py",
   "mimetype": "text/x-python",
   "name": "python",
   "nbconvert_exporter": "python",
   "pygments_lexer": "ipython2",
   "version": "2.7.16"
  }
 },
 "nbformat": 4,
 "nbformat_minor": 2
}
