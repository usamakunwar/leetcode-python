{
 "cells": [
  {
   "cell_type": "markdown",
   "metadata": {},
   "source": [
    "# 763. Partition Labels (Medium)"
   ]
  },
  {
   "cell_type": "markdown",
   "metadata": {},
   "source": [
    "<div><p>\n",
    "A string <code>S</code> of lowercase letters is given.  We want to partition this string into as many parts as possible so that each letter appears in at most one part, and return a list of integers representing the size of these parts.\n",
    "</p><p>\n",
    "\n",
    "</p><p><b>Example 1:</b><br>\n",
    "</p><pre><b>Input:</b> S = \"ababcbacadefegdehijhklij\"\n",
    "<b>Output:</b> [9,7,8]\n",
    "<b>Explanation:</b>\n",
    "The partition is \"ababcbaca\", \"defegde\", \"hijhklij\".\n",
    "This is a partition so that each letter appears in at most one part.\n",
    "A partition like \"ababcbacadefegde\", \"hijhklij\" is incorrect, because it splits S into less parts.\n",
    "</pre>\n",
    "<p></p>\n",
    "\n",
    "<p><b>Note:</b><br></p><ol>\n",
    "<li><code>S</code> will have length in range <code>[1, 500]</code>.</li>\n",
    "<li><code>S</code> will consist of lowercase letters (<code>'a'</code> to <code>'z'</code>) only.</li>\n",
    "</ol><p></p></div>"
   ]
  },
  {
   "cell_type": "markdown",
   "metadata": {},
   "source": [
    "## Option 1\n",
    "<p>\n",
    "Time complexity = O(n)\n",
    "<br>\n",
    "Space complexity = O(n)"
   ]
  },
  {
   "cell_type": "code",
   "execution_count": null,
   "metadata": {},
   "outputs": [],
   "source": [
    "import collections\n",
    "class Solution(object):\n",
    "    def partitionLabels(self, S):\n",
    "        #Make an ordered list containing the index occurances of each character, need a dict ref for order\n",
    "        ref, p = collections.defaultdict(list), []\n",
    "        for i,v in enumerate(S): \n",
    "            if v not in ref:\n",
    "                ref[v] = len(p)\n",
    "                p.append([i])\n",
    "            else:\n",
    "                p[ref[v]].append(i)\n",
    "        #merge the segments\n",
    "        merged = [p[0]]\n",
    "        for i in range(1,len(p)):\n",
    "            if p[i][0] < merged[-1][-1]:\n",
    "                if p[i][-1] > merged[-1][-1]:\n",
    "                    merged[-1][-1] = p[i][-1]\n",
    "            else:\n",
    "                 merged.append(p[i])\n",
    "        #return the lenght of each segment\n",
    "        return map(lambda x:x[-1]-x[0]+1, merged)        \n",
    "Solution().partitionLabels('ababcbacadefegdehijhklij')\n",
    "        "
   ]
  },
  {
   "cell_type": "markdown",
   "metadata": {},
   "source": [
    "#### Result: 24ms (81.87%)"
   ]
  },
  {
   "cell_type": "markdown",
   "metadata": {},
   "source": [
    "## Option 2\n",
    "<p>\n",
    "    <li>So shorter/quicker code below. We can keep left and right pointers (referring to the segment size)\n",
    "    <li>The right will be relative to the max last index position of characters, if a character appears with a further last position, the right will be shifted\n",
    "<p>\n",
    "    <p>\n",
    "Time complexity = O(n)\n",
    "<br>\n",
    "Space complexity = O(n)"
   ]
  },
  {
   "cell_type": "code",
   "execution_count": null,
   "metadata": {},
   "outputs": [],
   "source": [
    "import collections\n",
    "class Solution(object):\n",
    "    def partitionLabels(self, S):\n",
    "        last_map = {v:i for i,v in enumerate(S)}\n",
    "        l=r=0\n",
    "        res = []\n",
    "        for i,v in enumerate(S):\n",
    "            r = max(r,last_map[v])\n",
    "            if i == r:\n",
    "                res.append(r-l+1)\n",
    "                l = r + 1\n",
    "        return res  \n",
    "Solution().partitionLabels('ababcbacadefegdehijhklij')\n",
    "        "
   ]
  },
  {
   "cell_type": "markdown",
   "metadata": {},
   "source": [
    "#### Result: 24ms (81.87%)"
   ]
  }
 ],
 "metadata": {
  "kernelspec": {
   "display_name": "Python 2",
   "language": "python",
   "name": "python2"
  },
  "language_info": {
   "codemirror_mode": {
    "name": "ipython",
    "version": 2
   },
   "file_extension": ".py",
   "mimetype": "text/x-python",
   "name": "python",
   "nbconvert_exporter": "python",
   "pygments_lexer": "ipython2",
   "version": "2.7.16"
  }
 },
 "nbformat": 4,
 "nbformat_minor": 2
}
