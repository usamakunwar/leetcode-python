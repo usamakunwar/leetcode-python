{
 "cells": [
  {
   "cell_type": "markdown",
   "metadata": {},
   "source": [
    "# 763. Partition Labels (Medium)"
   ]
  },
  {
   "cell_type": "markdown",
   "metadata": {},
   "source": [
    "<div><p>\n",
    "A string <code>S</code> of lowercase letters is given.  We want to partition this string into as many parts as possible so that each letter appears in at most one part, and return a list of integers representing the size of these parts.\n",
    "</p><p>\n",
    "\n",
    "</p><p><b>Example 1:</b><br>\n",
    "</p><pre><b>Input:</b> S = \"ababcbacadefegdehijhklij\"\n",
    "<b>Output:</b> [9,7,8]\n",
    "<b>Explanation:</b>\n",
    "The partition is \"ababcbaca\", \"defegde\", \"hijhklij\".\n",
    "This is a partition so that each letter appears in at most one part.\n",
    "A partition like \"ababcbacadefegde\", \"hijhklij\" is incorrect, because it splits S into less parts.\n",
    "</pre>\n",
    "<p></p>\n",
    "\n",
    "<p><b>Note:</b><br></p><ol>\n",
    "<li><code>S</code> will have length in range <code>[1, 500]</code>.</li>\n",
    "<li><code>S</code> will consist of lowercase letters (<code>'a'</code> to <code>'z'</code>) only.</li>\n",
    "</ol><p></p></div>"
   ]
  },
  {
   "cell_type": "markdown",
   "metadata": {},
   "source": [
    "## Option 1\n",
    "<p>\n",
    "    Map + Counter / Greedy\n",
    "    <p>\n",
    "<li>So we can identify if all elements on the left do not exist on the right by using a separate map. If the map is empty we can make a partition\n",
    "<p>\n",
    "    \n",
    "    \n",
    "Time complexity = O(n)\n",
    "<br>\n",
    "Space complexity = O(1)"
   ]
  },
  {
   "cell_type": "code",
   "execution_count": 3,
   "metadata": {},
   "outputs": [
    {
     "data": {
      "text/plain": [
       "[9, 7, 8]"
      ]
     },
     "execution_count": 3,
     "metadata": {},
     "output_type": "execute_result"
    }
   ],
   "source": [
    "import collections\n",
    "class Solution(object):\n",
    "    def partitionLabels(self, S):\n",
    "        counter = collections.Counter(S)\n",
    "        m = set()  \n",
    "        res = []\n",
    "        left = -1\n",
    "        for i,v in enumerate(S):\n",
    "            counter[v] -= 1\n",
    "            m.add(v)\n",
    "            if counter[v] == 0:\n",
    "                m.remove(v)\n",
    "            if not m:\n",
    "                res.append(i-left)\n",
    "                left = i\n",
    "        return res\n",
    "        \n",
    "        \n",
    "Solution().partitionLabels(\"ababcbacadefegdehijhklij\")\n"
   ]
  },
  {
   "cell_type": "markdown",
   "metadata": {},
   "source": [
    "#### Result: 24ms (81.87%)"
   ]
  }
 ],
 "metadata": {
  "kernelspec": {
   "display_name": "Python 3",
   "language": "python",
   "name": "python3"
  },
  "language_info": {
   "codemirror_mode": {
    "name": "ipython",
    "version": 3
   },
   "file_extension": ".py",
   "mimetype": "text/x-python",
   "name": "python",
   "nbconvert_exporter": "python",
   "pygments_lexer": "ipython3",
   "version": "3.7.4"
  }
 },
 "nbformat": 4,
 "nbformat_minor": 2
}
