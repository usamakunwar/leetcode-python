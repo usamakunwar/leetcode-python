{
 "cells": [
  {
   "cell_type": "markdown",
   "metadata": {},
   "source": [
    "# 238. Product of Array Except Self (Medium)\n",
    "\n",
    "\n",
    "Given an array nums of n integers where n > 1,  return an array output such that output[i] is equal to the product of all the elements of nums except nums[i].\n",
    "\n",
    "Example:\n",
    "\n",
    "Input:  [1,2,3,4]\n",
    "Output: [24,12,8,6]\n",
    "Note: Please solve it without division and in O(n)."
   ]
  },
  {
   "attachments": {},
   "cell_type": "markdown",
   "metadata": {},
   "source": [
    "## Option 1\n",
    "<p> \n",
    "<p>\n",
    "    <p>\n",
    "Time complexity: O(n)\n",
    "    <br>\n",
    "Space complexity: O(n)"
   ]
  },
  {
   "cell_type": "code",
   "execution_count": null,
   "metadata": {},
   "outputs": [],
   "source": [
    "class Solution:\n",
    "    def productExceptSelf(self, nums: [int]) -> [int]:\n",
    "\n",
    "        l = [0 for i in range(len(nums))]\n",
    "        r = [0 for i in range(len(nums))]\n",
    "\n",
    "        for i in range(0, len(nums)): \n",
    "            if i == 0:\n",
    "                l[i] = 1\n",
    "            else:\n",
    "                l[i] = nums[i-1] * l[i-1]\n",
    "\n",
    "        for i in reversed(range(0, len(nums))):\n",
    "            if i == (len(nums) - 1):\n",
    "                r[i] = 1\n",
    "            else:\n",
    "                r[i] = nums[i+1] * r[i+1]\n",
    "\n",
    "        products = []\n",
    "\n",
    "        for i in range(0,len(nums)):\n",
    "            products.append(l[i] * r[i])\n",
    "        \n",
    "        return products\n",
    "        \n",
    "\n",
    "Solution().productExceptSelf([7,4,3,8,9,2,1,3,3])\n"
   ]
  },
  {
   "cell_type": "markdown",
   "metadata": {},
   "source": [
    "#### Result: 140ms (60.40%)"
   ]
  },
  {
   "cell_type": "markdown",
   "metadata": {},
   "source": [
    "## Option 2\n",
    "<p> \n",
    "    Two pass\n",
    "<p>\n",
    "    <p>\n",
    "Time complexity: O(n)\n",
    "    <br>\n",
    "Space complexity: O(1)"
   ]
  },
  {
   "cell_type": "code",
   "execution_count": null,
   "metadata": {},
   "outputs": [],
   "source": [
    "class Solution(object):\n",
    "    def productExceptSelf(self, nums):\n",
    "        res = []\n",
    "        for i in range(len(nums)):\n",
    "            res.append((res[-1] if i > 0 else 1)*nums[i])\n",
    "        \n",
    "        curr = 1\n",
    "        for i in range(len(nums)-1,-1,-1):\n",
    "            res[i] = curr*(res[i-1] if i > 0 else 1)\n",
    "            curr *= nums[i]\n",
    "        \n",
    "        return res\n",
    "        \n",
    "            \n",
    "Solution().productExceptSelf([1,2,3,4])\n",
    "        "
   ]
  },
  {
   "cell_type": "markdown",
   "metadata": {},
   "source": [
    "#### Result: 136ms (31.57%)"
   ]
  }
 ],
 "metadata": {
  "kernelspec": {
   "display_name": "Python 2",
   "language": "python",
   "name": "python2"
  },
  "language_info": {
   "codemirror_mode": {
    "name": "ipython",
    "version": 2
   },
   "file_extension": ".py",
   "mimetype": "text/x-python",
   "name": "python",
   "nbconvert_exporter": "python",
   "pygments_lexer": "ipython2",
   "version": "2.7.16"
  }
 },
 "nbformat": 4,
 "nbformat_minor": 2
}
