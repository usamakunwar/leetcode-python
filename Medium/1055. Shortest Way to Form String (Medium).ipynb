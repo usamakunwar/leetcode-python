{
 "cells": [
  {
   "cell_type": "markdown",
   "metadata": {},
   "source": [
    "# 1055. Shortest Way to Form String (Medium)"
   ]
  },
  {
   "cell_type": "markdown",
   "metadata": {},
   "source": [
    "<div><p>From any string, we can form a <i>subsequence</i> of that string by deleting some number of characters (possibly no deletions).</p>\n",
    "\n",
    "<p>Given two strings <code>source</code> and <code>target</code>, return the minimum number of subsequences of <code>source</code> such that their concatenation equals <code>target</code>. If the task is impossible, return <code>-1</code>.</p>\n",
    "\n",
    "<p>&nbsp;</p>\n",
    "\n",
    "<p><strong>Example 1:</strong></p>\n",
    "\n",
    "<pre><strong>Input: </strong>source = <span id=\"example-input-1-1\">\"abc\"</span>, target = <span id=\"example-input-1-2\">\"abcbc\"</span>\n",
    "<strong>Output: </strong><span id=\"example-output-1\">2</span>\n",
    "<strong>Explanation: </strong>The target \"abcbc\" can be formed by \"abc\" and \"bc\", which are subsequences of source \"abc\".\n",
    "</pre>\n",
    "\n",
    "<p><strong>Example 2:</strong></p>\n",
    "\n",
    "<pre><strong>Input: </strong>source = <span id=\"example-input-2-1\">\"abc\"</span>, target = <span id=\"example-input-2-2\">\"acdbc\"</span>\n",
    "<strong>Output: </strong><span id=\"example-output-2\">-1</span>\n",
    "<strong>Explanation: </strong>The target string cannot be constructed from the subsequences of source string due to the character \"d\" in target string.\n",
    "</pre>\n",
    "\n",
    "<p><strong>Example 3:</strong></p>\n",
    "\n",
    "<pre><strong>Input: </strong>source = <span id=\"example-input-3-1\">\"xyz\"</span>, target = <span id=\"example-input-3-2\">\"xzyxz\"</span>\n",
    "<strong>Output: </strong><span id=\"example-output-3\">3</span>\n",
    "<strong>Explanation: </strong>The target string can be constructed as follows \"xz\" + \"y\" + \"xz\".\n",
    "</pre>\n",
    "<p>&nbsp;</p>\n",
    "<p><strong>Constraints:</strong></p>\n",
    "\n",
    "<ul>\n",
    "\t<li>Both the <code>source</code> and <code>target</code> strings consist of only lowercase English letters from \"a\"-\"z\".</li>\n",
    "\t<li>The lengths of <code>source</code> and <code>target</code> string are between <code>1</code> and <code>1000</code>.</li>\n",
    "</ul></div>"
   ]
  },
  {
   "cell_type": "markdown",
   "metadata": {},
   "source": [
    "## Option 1\n",
    "\n",
    "<p>\n",
    "\n",
    "Time complexity: O(n)\n",
    "<br>\n",
    "Space complexity: O(n) "
   ]
  },
  {
   "cell_type": "code",
   "execution_count": null,
   "metadata": {},
   "outputs": [],
   "source": [
    "class Solution(object):\n",
    "    def shortestWay(self, source, target):\n",
    "        #Check if all required characters are present in target\n",
    "        #If they are there must be an answer, else not possible\n",
    "        s = set(source)\n",
    "        for k in set(target): \n",
    "            if k not in s: return -1\n",
    "        \n",
    "        #Keep circling source until target is reached\n",
    "        i = 0\n",
    "        for t in target:\n",
    "            while source[i%len(source)] != t: i += 1\n",
    "            i += 1\n",
    "        #The number of times we circled is the result \n",
    "        return (i/len(source)) + (i%len(source) > 0)\n",
    "            \n",
    "\n",
    "Solution().shortestWay(\"abc\", \"abcbc\")\n",
    "        "
   ]
  },
  {
   "cell_type": "markdown",
   "metadata": {},
   "source": [
    "#### Result: 60ms (13.91%)"
   ]
  }
 ],
 "metadata": {
  "kernelspec": {
   "display_name": "Python 2",
   "language": "python",
   "name": "python2"
  },
  "language_info": {
   "codemirror_mode": {
    "name": "ipython",
    "version": 2
   },
   "file_extension": ".py",
   "mimetype": "text/x-python",
   "name": "python",
   "nbconvert_exporter": "python",
   "pygments_lexer": "ipython2",
   "version": "2.7.16"
  }
 },
 "nbformat": 4,
 "nbformat_minor": 2
}
