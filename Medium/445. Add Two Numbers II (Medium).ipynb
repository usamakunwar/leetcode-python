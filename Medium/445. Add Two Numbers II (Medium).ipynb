{
 "cells": [
  {
   "cell_type": "markdown",
   "metadata": {},
   "source": [
    "# 445. Add Two Numbers II (Medium)"
   ]
  },
  {
   "cell_type": "markdown",
   "metadata": {},
   "source": [
    "<div><p>You are given two <b>non-empty</b> linked lists representing two non-negative integers. The most significant digit comes first and each of their nodes contain a single digit. Add the two numbers and return it as a linked list.</p>\n",
    "\n",
    "<p>You may assume the two numbers do not contain any leading zero, except the number 0 itself.</p>\n",
    "\n",
    "<p><b>Follow up:</b><br>\n",
    "What if you cannot modify the input lists? In other words, reversing the lists is not allowed.\n",
    "</p>\n",
    "\n",
    "<p>\n",
    "<b>Example:</b>\n",
    "</p><pre><b>Input:</b> (7 -&gt; 2 -&gt; 4 -&gt; 3) + (5 -&gt; 6 -&gt; 4)\n",
    "<b>Output:</b> 7 -&gt; 8 -&gt; 0 -&gt; 7\n",
    "</pre>\n",
    "<p></p></div>"
   ]
  },
  {
   "cell_type": "markdown",
   "metadata": {},
   "source": [
    "## Option 1\n",
    "\n",
    "Reverse both inputs, then create a new list\n",
    "\n",
    "Time complexity: O(n) (l1+l2)\n",
    "<br>\n",
    "Space complexity: O(n) (l1+l2)\n"
   ]
  },
  {
   "cell_type": "code",
   "execution_count": null,
   "metadata": {},
   "outputs": [],
   "source": [
    "class Solution(object):\n",
    "    def addTwoNumbers(self, l1, l2):\n",
    "        r1,r2 = None,None\n",
    "        while l1:\n",
    "            curr = l1\n",
    "            l1 = l1.next\n",
    "            curr.next = r1\n",
    "            r1 = curr\n",
    "        while l2:\n",
    "            curr = l2\n",
    "            l2 = l2.next\n",
    "            curr.next = r2\n",
    "            r2 = curr    \n",
    "        \n",
    "        res, carry = None, 0 \n",
    "        while r1 or r2 or carry:\n",
    "            val = (r1.val if r1 else 0) + (r2.val if r2 else 0)  + carry\n",
    "            carry = 1 if val > 9 else 0\n",
    "            val = val%10 if val > 9 else val\n",
    "            \n",
    "            node = ListNode(val)\n",
    "            node.next = res\n",
    "            res = node\n",
    "\n",
    "            r1 = r1.next if r1 else None\n",
    "            r2 = r2.next if r2 else None\n",
    "                \n",
    "        return res"
   ]
  },
  {
   "cell_type": "markdown",
   "metadata": {},
   "source": [
    "#### Result: 88ms (8.43%)"
   ]
  },
  {
   "cell_type": "markdown",
   "metadata": {},
   "source": [
    "## Option 2\n",
    "\n",
    "Traverse through both inputs creating the number, add the numers. Create new list\n",
    "    <p>\n",
    "Time complexity: O(n)\n",
    "<br>\n",
    "Space complexity: O(1)\n"
   ]
  },
  {
   "cell_type": "code",
   "execution_count": null,
   "metadata": {},
   "outputs": [],
   "source": [
    "class Solution(object):\n",
    "    def addTwoNumbers(self, l1, l2):\n",
    "        n1=n2=''\n",
    "        while l1:\n",
    "            n1 += str(l1.val)\n",
    "            l1 = l1.next\n",
    "        while l2:\n",
    "            n2 += str(l2.val)\n",
    "            l2 = l2.next\n",
    "        n = str(int(n1)+int(n2))\n",
    "        res = ListNode(int(n[0]))\n",
    "        curr = res\n",
    "        for i in n[1:]:\n",
    "            curr.next = ListNode(int(i))\n",
    "            curr = curr.next\n",
    "        return res"
   ]
  },
  {
   "cell_type": "markdown",
   "metadata": {},
   "source": [
    "#### Result: 104ms (5.45%)"
   ]
  },
  {
   "cell_type": "markdown",
   "metadata": {},
   "source": [
    "## Option 3\n",
    "\n",
    "Stack\n",
    "<p>\n",
    "Time complexity: O(n)\n",
    "<br>\n",
    "Space complexity: O(n)\n"
   ]
  },
  {
   "cell_type": "code",
   "execution_count": null,
   "metadata": {},
   "outputs": [],
   "source": [
    "class Solution(object):\n",
    "    def addTwoNumbers(self, l1, l2):\n",
    "        s1,s2=[],[]\n",
    "        while l1:\n",
    "            s1.append(l1.val)\n",
    "            l1 = l1.next\n",
    "        while l2:\n",
    "            s2.append(l2.val)\n",
    "            l2 = l2.next\n",
    "        \n",
    "        res,carry = None,0\n",
    "        while s1 or s2 or carry:\n",
    "            val = (s1.pop() if s1 else 0) + (s2.pop() if s2 else 0) + carry\n",
    "            carry = 1 if val > 9 else 0\n",
    "            val = val%10 if val > 9 else val\n",
    "\n",
    "            node = ListNode(val)\n",
    "            node.next = res\n",
    "            res = node\n",
    "            \n",
    "        return res"
   ]
  },
  {
   "cell_type": "markdown",
   "metadata": {},
   "source": [
    "#### Result: 144ms (5.45%)"
   ]
  }
 ],
 "metadata": {
  "kernelspec": {
   "display_name": "Python 2",
   "language": "python",
   "name": "python2"
  },
  "language_info": {
   "codemirror_mode": {
    "name": "ipython",
    "version": 2
   },
   "file_extension": ".py",
   "mimetype": "text/x-python",
   "name": "python",
   "nbconvert_exporter": "python",
   "pygments_lexer": "ipython2",
   "version": "2.7.16"
  }
 },
 "nbformat": 4,
 "nbformat_minor": 2
}
