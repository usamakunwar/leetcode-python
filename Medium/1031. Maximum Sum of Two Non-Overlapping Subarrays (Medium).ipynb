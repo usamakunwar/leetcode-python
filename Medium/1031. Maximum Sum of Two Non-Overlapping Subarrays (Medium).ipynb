{
 "cells": [
  {
   "cell_type": "markdown",
   "metadata": {},
   "source": [
    "# 1031. Maximum Sum of Two Non-Overlapping Subarrays (Medium)"
   ]
  },
  {
   "cell_type": "markdown",
   "metadata": {},
   "source": [
    "<div><p>Given an array <code>A</code> of non-negative integers, return the maximum sum of elements in two non-overlapping (contiguous) subarrays, which have lengths&nbsp;<code>L</code> and <code>M</code>.&nbsp; (For clarification, the <code>L</code>-length subarray could occur before or after the <code>M</code>-length subarray.)</p>\n",
    "\n",
    "<p>Formally,&nbsp;return the largest <code>V</code> for which&nbsp;<code>V = (A[i] + A[i+1] + ... + A[i+L-1]) + (A[j] + A[j+1] + ... + A[j+M-1])</code> and either:</p>\n",
    "\n",
    "<ul>\n",
    "\t<li><code>0 &lt;= i &lt; i + L - 1 &lt; j &lt; j + M - 1 &lt; A.length</code>, <strong>or</strong></li>\n",
    "\t<li><code>0 &lt;= j &lt; j + M - 1 &lt; i &lt; i + L - 1 &lt; A.length</code>.</li>\n",
    "</ul>\n",
    "\n",
    "<p>&nbsp;</p>\n",
    "\n",
    "<ol>\n",
    "</ol>\n",
    "\n",
    "<div>\n",
    "<p><strong>Example 1:</strong></p>\n",
    "\n",
    "<pre><strong>Input: </strong>A = <span id=\"example-input-1-1\">[0,6,5,2,2,5,1,9,4]</span>, L = <span id=\"example-input-1-2\">1</span>, M = <span id=\"example-input-1-3\">2</span>\n",
    "<strong>Output: </strong><span id=\"example-output-1\">20\n",
    "<strong>Explanation:</strong> One choice of subarrays is [9] with length 1, and [6,5] with length 2.</span>\n",
    "</pre>\n",
    "\n",
    "<div>\n",
    "<p><strong>Example 2:</strong></p>\n",
    "\n",
    "<pre><strong>Input: </strong>A = <span id=\"example-input-2-1\">[3,8,1,3,2,1,8,9,0]</span>, L = <span id=\"example-input-2-2\">3</span>, M = <span id=\"example-input-2-3\">2</span>\n",
    "<strong>Output: </strong><span id=\"example-output-2\">29\n",
    "</span><span id=\"example-output-1\"><strong>Explanation:</strong> One choice of subarrays is</span><span> [3,8,1] with length 3, and [8,9] with length 2.</span>\n",
    "</pre>\n",
    "\n",
    "<div>\n",
    "<p><strong>Example 3:</strong></p>\n",
    "\n",
    "<pre><strong>Input: </strong>A = <span id=\"example-input-3-1\">[2,1,5,6,0,9,5,0,3,8]</span>, L = <span id=\"example-input-3-2\">4</span>, M = <span id=\"example-input-3-3\">3</span>\n",
    "<strong>Output: </strong><span id=\"example-output-3\">31\n",
    "</span><span id=\"example-output-1\"><strong>Explanation:</strong> One choice of subarrays is</span><span> [5,6,0,9] with length 4, and [3,8] with length 3.</span>\n",
    "</pre>\n",
    "\n",
    "<p>&nbsp;</p>\n",
    "\n",
    "<p><strong>Note:</strong></p>\n",
    "\n",
    "<ol>\n",
    "\t<li><code>L &gt;= 1</code></li>\n",
    "\t<li><code>M &gt;= 1</code></li>\n",
    "\t<li><code>L + M &lt;= A.length &lt;= 1000</code></li>\n",
    "\t<li><code>0 &lt;= A[i] &lt;= 1000</code></li>\n",
    "</ol>\n",
    "</div>\n",
    "</div>\n",
    "</div>\n",
    "</div>"
   ]
  },
  {
   "cell_type": "markdown",
   "metadata": {},
   "source": [
    "## Option 1\n",
    " <p>     <p>\n",
    "    <p>\n",
    "        <li>Prefix sum, store the best solutions for l and m, and use them as prefix solutions for the next\n",
    "<p>\n",
    "        \n",
    "Time complexity: O(n)\n",
    "    <br>\n",
    "Space complexity: O(n)\n"
   ]
  },
  {
   "cell_type": "code",
   "execution_count": null,
   "metadata": {
    "scrolled": true
   },
   "outputs": [],
   "source": [
    "class Solution(object):\n",
    "    def maxSumTwoNoOverlap(self, A, L, M):\n",
    "        A.append(0) #Sentinel\n",
    "        l = [0]*len(A)\n",
    "        m = [0]*len(A)\n",
    "        res = 0\n",
    "        for i in range(len(A)):\n",
    "            A[i] += A[i-1]  #Ongoing sum\n",
    "            if i >= L-1: #Window for L\n",
    "                window = A[i]-A[i-L]\n",
    "                res = max(res, window+m[i-L])\n",
    "                l[i] = max(l[i-1],window)\n",
    "            if i >= M-1: #Window for M\n",
    "                window = A[i]-A[i-M]\n",
    "                res = max(res, window+l[i-M])\n",
    "                m[i] = max(m[i-1],window)\n",
    "        \n",
    "        return res\n",
    "        \n",
    "        \n",
    "Solution().maxSumTwoNoOverlap([2,1,5,6,0,9,5,0,3,8],1,1)\n",
    "        "
   ]
  },
  {
   "cell_type": "markdown",
   "metadata": {},
   "source": [
    "#### Result: 40ms (62.88%)"
   ]
  }
 ],
 "metadata": {
  "kernelspec": {
   "display_name": "Python 2",
   "language": "python",
   "name": "python2"
  },
  "language_info": {
   "codemirror_mode": {
    "name": "ipython",
    "version": 2
   },
   "file_extension": ".py",
   "mimetype": "text/x-python",
   "name": "python",
   "nbconvert_exporter": "python",
   "pygments_lexer": "ipython2",
   "version": "2.7.16"
  }
 },
 "nbformat": 4,
 "nbformat_minor": 2
}
