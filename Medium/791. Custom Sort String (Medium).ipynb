{
 "cells": [
  {
   "cell_type": "markdown",
   "metadata": {},
   "source": [
    "# 791. Custom Sort String (Medium)"
   ]
  },
  {
   "cell_type": "markdown",
   "metadata": {},
   "source": [
    "<div><p><code>S</code> and <code>T</code> are strings composed of lowercase letters. In <code>S</code>, no letter occurs more than once.</p>\n",
    "\n",
    "<p><code>S</code> was sorted in some custom order previously. We want to permute the characters of <code>T</code> so that they match the order that <code>S</code> was sorted. More specifically, if <code>x</code> occurs before <code>y</code> in <code>S</code>, then <code>x</code> should occur before <code>y</code> in the returned string.</p>\n",
    "\n",
    "<p>Return any permutation of <code>T</code> (as a string) that satisfies this property.</p>\n",
    "\n",
    "<pre><strong>Example :</strong>\n",
    "<strong>Input:</strong> \n",
    "S = \"cba\"\n",
    "T = \"abcd\"\n",
    "<strong>Output:</strong> \"cbad\"\n",
    "<strong>Explanation:</strong> \n",
    "\"a\", \"b\", \"c\" appear in S, so the order of \"a\", \"b\", \"c\" should be \"c\", \"b\", and \"a\". \n",
    "Since \"d\" does not appear in S, it can be at any position in T. \"dcba\", \"cdba\", \"cbda\" are also valid outputs.\n",
    "</pre>\n",
    "\n",
    "<p>&nbsp;</p>\n",
    "\n",
    "<p><strong>Note:</strong></p>\n",
    "\n",
    "<ul>\n",
    "\t<li><code>S</code> has length at most <code>26</code>, and no character is repeated in <code>S</code>.</li>\n",
    "\t<li><code>T</code> has length at most <code>200</code>.</li>\n",
    "\t<li><code>S</code> and <code>T</code> consist of lowercase letters only.</li>\n",
    "</ul>\n",
    "</div>"
   ]
  },
  {
   "cell_type": "markdown",
   "metadata": {},
   "source": [
    "## Option 1\n",
    "<p>Custom sorting function\n",
    "    <p>\n",
    "Time complexity: O(nlogn) lenght of S+T\n",
    "<br>\n",
    "Space complexity: O(S) lenght of S "
   ]
  },
  {
   "cell_type": "code",
   "execution_count": null,
   "metadata": {
    "scrolled": true
   },
   "outputs": [],
   "source": [
    "import collections\n",
    "class Solution(object):\n",
    "    def customSortString(self, S, T):\n",
    "        s = collections.defaultdict(int)\n",
    "        #Use map indexes for sorting function\n",
    "        for i,v in enumerate(S): s[v] = i\n",
    "        T = list(T)\n",
    "        T.sort(cmp=lambda x,y:cmp(s[x],s[y]))\n",
    "        return ''.join(T)\n",
    "        \n",
    "Solution().customSortString('abcdefg', 'gafbedc')"
   ]
  },
  {
   "cell_type": "markdown",
   "metadata": {},
   "source": [
    "#### Result: 20ms 51.32%)"
   ]
  },
  {
   "cell_type": "markdown",
   "metadata": {},
   "source": [
    "## Option 2\n",
    "<p>\n",
    "    Re-create\n",
    "<p>\n",
    "Time complexity: O(n) lenght of S+T\n",
    "<br>\n",
    "Space complexity: O(n) lenght of S+T"
   ]
  },
  {
   "cell_type": "code",
   "execution_count": null,
   "metadata": {},
   "outputs": [],
   "source": [
    "import collections\n",
    "class Solution(object):\n",
    "    def customSortString(self, S, T):\n",
    "        s,t = set(S), collections.Counter(T)\n",
    "        #Re-create T in order of S\n",
    "        res = [i*t[i] for i in S if i in t]\n",
    "        #Append all non existing values\n",
    "        res += [i for i in T if i not in s]\n",
    "        return ''.join(res)\n",
    "        \n",
    "Solution().customSortString('abcdefg', 'gaafbxbc')"
   ]
  },
  {
   "cell_type": "markdown",
   "metadata": {},
   "source": [
    "#### Result: 20ms 51.32%)"
   ]
  },
  {
   "cell_type": "markdown",
   "metadata": {},
   "source": [
    "## Option 3\n",
    "<p>\n",
    "    Re-create (without the s map). Use T counter to track missing non-existing values\n",
    "<p>\n",
    "Time complexity: O(n) lenght of S+T\n",
    "<br>\n",
    "Space complexity: O(T) lenght of T"
   ]
  },
  {
   "cell_type": "code",
   "execution_count": null,
   "metadata": {},
   "outputs": [],
   "source": [
    "import collections\n",
    "class Solution(object):\n",
    "    def customSortString(self, S, T):\n",
    "        t = collections.Counter(T)\n",
    "        #Re-create T in order of S\n",
    "        res = []\n",
    "        for i in S: \n",
    "            if i in t: res.append(i*t.pop(i))\n",
    "        #Append all non existing values\n",
    "        res += [i*t[i] for i in t]\n",
    "        return ''.join(res)\n",
    "        \n",
    "Solution().customSortString('abcdefg', 'gaafbxbc')"
   ]
  },
  {
   "cell_type": "markdown",
   "metadata": {},
   "source": [
    "#### Result: 20ms 51.32%)"
   ]
  }
 ],
 "metadata": {
  "kernelspec": {
   "display_name": "Python 2",
   "language": "python",
   "name": "python2"
  },
  "language_info": {
   "codemirror_mode": {
    "name": "ipython",
    "version": 2
   },
   "file_extension": ".py",
   "mimetype": "text/x-python",
   "name": "python",
   "nbconvert_exporter": "python",
   "pygments_lexer": "ipython2",
   "version": "2.7.16"
  }
 },
 "nbformat": 4,
 "nbformat_minor": 2
}
