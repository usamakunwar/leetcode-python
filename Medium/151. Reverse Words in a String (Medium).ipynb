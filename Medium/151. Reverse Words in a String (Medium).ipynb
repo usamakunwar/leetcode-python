{
 "cells": [
  {
   "cell_type": "markdown",
   "metadata": {},
   "source": [
    "# 151. Reverse Words in a String (Medium)\n"
   ]
  },
  {
   "cell_type": "markdown",
   "metadata": {},
   "source": [
    "<div><p>Given an input string, reverse the string word by word.</p>\n",
    "\n",
    "<p>&nbsp;</p>\n",
    "\n",
    "<p><strong>Example 1:</strong></p>\n",
    "\n",
    "<pre><strong>Input:</strong> \"<code>the sky is blue</code>\"\n",
    "<strong>Output:&nbsp;</strong>\"<code>blue is sky the</code>\"\n",
    "</pre>\n",
    "\n",
    "<p><strong>Example 2:</strong></p>\n",
    "\n",
    "<pre><strong>Input:</strong> \" &nbsp;hello world! &nbsp;\"\n",
    "<strong>Output:&nbsp;</strong>\"world! hello\"\n",
    "<strong>Explanation:</strong> Your reversed string should not contain leading or trailing spaces.\n",
    "</pre>\n",
    "\n",
    "<p><strong>Example 3:</strong></p>\n",
    "\n",
    "<pre><strong>Input:</strong> \"a good &nbsp; example\"\n",
    "<strong>Output:&nbsp;</strong>\"example good a\"\n",
    "<strong>Explanation:</strong> You need to reduce multiple spaces between two words to a single space in the reversed string.\n",
    "</pre>\n",
    "\n",
    "<p>&nbsp;</p>\n",
    "\n",
    "<p><strong>Note:</strong></p>\n",
    "\n",
    "<ul>\n",
    "\t<li>A word is defined as a sequence of non-space characters.</li>\n",
    "\t<li>Input string may contain leading or trailing spaces. However, your reversed string should not contain leading or trailing spaces.</li>\n",
    "\t<li>You need to reduce multiple spaces between two words to a single space in the reversed string.</li>\n",
    "</ul>\n",
    "\n",
    "<p>&nbsp;</p>\n",
    "\n",
    "<p><strong>Follow up:</strong></p>\n",
    "\n",
    "<p>For C programmers, try to solve it <em>in-place</em> in <em>O</em>(1) extra space.</p></div>"
   ]
  },
  {
   "cell_type": "markdown",
   "metadata": {},
   "source": [
    "## Option 1\n",
    "<p>\n",
    "      <p>         <p>\n",
    "Time complexity: O(n)\n",
    "    <br>\n",
    "Space complexity: O(n)\n"
   ]
  },
  {
   "cell_type": "code",
   "execution_count": null,
   "metadata": {
    "scrolled": true
   },
   "outputs": [],
   "source": [
    "class Solution(object):\n",
    "    def reverseWords(self, s):\n",
    "        res, i = '',len(s)-1\n",
    "        while i >= 0:\n",
    "            if s[i] == ' ':\n",
    "                word = s[i+1:]\n",
    "                if word:\n",
    "                    res += word + ' '\n",
    "                s = s[:i]\n",
    "            i -= 1\n",
    "        return (res.strip()+' '+s).strip()\n",
    "    \n",
    "        #or return \" \".join(reversed(s.split()))\n",
    "        \n",
    "Solution().reverseWords(\"a good   example\")     \n"
   ]
  },
  {
   "cell_type": "markdown",
   "metadata": {},
   "source": [
    "#### Result: 16ms (91.40%)"
   ]
  }
 ],
 "metadata": {
  "kernelspec": {
   "display_name": "Python 2",
   "language": "python",
   "name": "python2"
  },
  "language_info": {
   "codemirror_mode": {
    "name": "ipython",
    "version": 2
   },
   "file_extension": ".py",
   "mimetype": "text/x-python",
   "name": "python",
   "nbconvert_exporter": "python",
   "pygments_lexer": "ipython2",
   "version": "2.7.16"
  }
 },
 "nbformat": 4,
 "nbformat_minor": 2
}
