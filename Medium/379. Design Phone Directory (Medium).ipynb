{
 "cells": [
  {
   "cell_type": "markdown",
   "metadata": {},
   "source": [
    "# 379. Design Phone Directory (Medium)\n"
   ]
  },
  {
   "cell_type": "markdown",
   "metadata": {},
   "source": [
    "<div><p>Design a Phone Directory which supports the following operations:</p>\n",
    "\n",
    "<p>\n",
    "</p><ol>\n",
    "<li><code>get</code>: Provide a number which is not assigned to anyone.</li>\n",
    "<li><code>check</code>: Check if a number is available or not.</li>\n",
    "<li><code>release</code>: Recycle or release a number.</li>\n",
    "</ol>\n",
    "<p></p>\n",
    "\n",
    "<p><b>Example:</b>\n",
    "</p><pre>// Init a phone directory containing a total of 3 numbers: 0, 1, and 2.\n",
    "PhoneDirectory directory = new PhoneDirectory(3);\n",
    "\n",
    "// It can return any available phone number. Here we assume it returns 0.\n",
    "directory.get();\n",
    "\n",
    "// Assume it returns 1.\n",
    "directory.get();\n",
    "\n",
    "// The number 2 is available, so return true.\n",
    "directory.check(2);\n",
    "\n",
    "// It returns 2, the only number that is left.\n",
    "directory.get();\n",
    "\n",
    "// The number 2 is no longer available, so return false.\n",
    "directory.check(2);\n",
    "\n",
    "// Release number 2 back to the pool.\n",
    "directory.release(2);\n",
    "\n",
    "// Number 2 is available again, return true.\n",
    "directory.check(2);\n",
    "</pre>\n",
    "<p></p></div>"
   ]
  },
  {
   "cell_type": "markdown",
   "metadata": {},
   "source": [
    "## Option 1\n",
    "<p>\n",
    "      <p>         <p>\n",
    "Time complexity: O(n)\n",
    "    <br>\n",
    "Space complexity: O(n)\n"
   ]
  },
  {
   "cell_type": "code",
   "execution_count": null,
   "metadata": {
    "scrolled": true
   },
   "outputs": [],
   "source": [
    "class PhoneDirectory(object):\n",
    "\n",
    "    def __init__(self, maxNumbers):\n",
    "        self.free = set(range(maxNumbers))\n",
    "\n",
    "    def get(self):\n",
    "        return self.free.pop() if self.free else -1\n",
    "\n",
    "    def check(self, number):\n",
    "        return number in self.free\n",
    "\n",
    "    def release(self, number):\n",
    "        self.free.add(number)\n",
    "        "
   ]
  },
  {
   "cell_type": "markdown",
   "metadata": {},
   "source": [
    "#### Result: 84ms (82.99%)"
   ]
  }
 ],
 "metadata": {
  "kernelspec": {
   "display_name": "Python 2",
   "language": "python",
   "name": "python2"
  },
  "language_info": {
   "codemirror_mode": {
    "name": "ipython",
    "version": 2
   },
   "file_extension": ".py",
   "mimetype": "text/x-python",
   "name": "python",
   "nbconvert_exporter": "python",
   "pygments_lexer": "ipython2",
   "version": "2.7.16"
  }
 },
 "nbformat": 4,
 "nbformat_minor": 2
}
