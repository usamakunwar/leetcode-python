{
 "cells": [
  {
   "cell_type": "markdown",
   "metadata": {},
   "source": [
    "# 1466. Reorder Routes to Make All Paths Lead to the City Zero (Medium)"
   ]
  },
  {
   "cell_type": "markdown",
   "metadata": {},
   "source": [
    "<div><p>There are&nbsp;<code>n</code>&nbsp;cities numbered from&nbsp;<code>0</code>&nbsp;to&nbsp;<code>n-1</code> and&nbsp;<code>n-1</code> roads such that&nbsp;there is only one way to travel between two&nbsp;different cities (this network form a tree).&nbsp;Last year,&nbsp;The ministry of transport&nbsp;decided to orient the roads in one direction because they are too narrow.</p>\n",
    "\n",
    "<p>Roads are represented by&nbsp;<code>connections</code>&nbsp;where&nbsp;<code>connections[i] = [a, b]</code>&nbsp;represents a&nbsp;road&nbsp;from city&nbsp;<code>a</code>&nbsp;to&nbsp;<code>b</code>.</p>\n",
    "\n",
    "<p>This year, there will be a big event in the capital (city 0), and many people want to travel to this city.</p>\n",
    "\n",
    "<p>Your task consists of reorienting&nbsp;some roads such that each city can visit the city&nbsp;0. Return the <strong>minimum</strong> number of edges changed.</p>\n",
    "\n",
    "<p>It's <strong>guaranteed</strong> that each city can reach the city 0 after reorder.</p>\n",
    "\n",
    "<p>&nbsp;</p>\n",
    "<p><strong>Example 1:</strong></p>\n",
    "\n",
    "<p><strong><img alt=\"\" src=\"https://assets.leetcode.com/uploads/2020/05/13/sample_1_1819.png\" style=\"width: 240px; height: 150px;\"></strong></p>\n",
    "\n",
    "<pre><strong>Input:</strong> n = 6, connections = [[0,1],[1,3],[2,3],[4,0],[4,5]]\n",
    "<strong>Output:</strong> 3\n",
    "<strong>Explanation: </strong>Change the direction of edges show in red such that each node can reach the node 0 (capital).</pre>\n",
    "\n",
    "<p><strong>Example 2:</strong></p>\n",
    "\n",
    "<p><strong><img alt=\"\" src=\"https://assets.leetcode.com/uploads/2020/05/13/sample_2_1819.png\" style=\"width: 380px; height: 60px;\"></strong></p>\n",
    "\n",
    "<pre><strong>Input:</strong> n = 5, connections = [[1,0],[1,2],[3,2],[3,4]]\n",
    "<strong>Output:</strong> 2\n",
    "<strong>Explanation: </strong>Change the direction of edges show in red such that each node can reach the node 0 (capital).</pre>\n",
    "\n",
    "<p><strong>Example 3:</strong></p>\n",
    "\n",
    "<pre><strong>Input:</strong> n = 3, connections = [[1,0],[2,0]]\n",
    "<strong>Output:</strong> 0\n",
    "</pre>\n",
    "\n",
    "<p>&nbsp;</p>\n",
    "<p><strong>Constraints:</strong></p>\n",
    "\n",
    "<ul>\n",
    "\t<li><code>2 &lt;= n &lt;= 5 * 10^4</code></li>\n",
    "\t<li><code>connections.length == n-1</code></li>\n",
    "\t<li><code>connections[i].length == 2</code></li>\n",
    "\t<li><code>0 &lt;= connections[i][0], connections[i][1] &lt;= n-1</code></li>\n",
    "\t<li><code>connections[i][0] != connections[i][1]</code></li>\n",
    "</ul>\n",
    "</div>"
   ]
  },
  {
   "cell_type": "markdown",
   "metadata": {},
   "source": [
    "## Option 1\n",
    "<p>\n",
    "    Iterative, we need u or v in our network (seen) or else re-que\n",
    "      <p>         <p>\n",
    "Time complexity: O(n)\n",
    "    <br>\n",
    "Space complexity: O(n)\n"
   ]
  },
  {
   "cell_type": "code",
   "execution_count": null,
   "metadata": {
    "scrolled": false
   },
   "outputs": [],
   "source": [
    "import collections\n",
    "class Solution(object):\n",
    "    def minReorder(self, n, connections):\n",
    "        seen = set([0])\n",
    "        res = 0\n",
    "        q = collections.deque(connections)\n",
    "        \n",
    "        while q:\n",
    "            u,v = q.popleft()\n",
    "            if u in seen:\n",
    "                res += 1\n",
    "                seen.add(v)\n",
    "            elif v in seen:\n",
    "                seen.add(u)\n",
    "            else:\n",
    "                q.append((u,v))\n",
    "                \n",
    "        return res\n",
    "        \n",
    "Solution().minReorder(5,[[1,0],[1,2],[3,2],[3,4]])\n",
    "                                            \n",
    "                      "
   ]
  },
  {
   "cell_type": "markdown",
   "metadata": {},
   "source": [
    "#### Result: 680ms (97.58%)"
   ]
  }
 ],
 "metadata": {
  "kernelspec": {
   "display_name": "Python 2",
   "language": "python",
   "name": "python2"
  },
  "language_info": {
   "codemirror_mode": {
    "name": "ipython",
    "version": 2
   },
   "file_extension": ".py",
   "mimetype": "text/x-python",
   "name": "python",
   "nbconvert_exporter": "python",
   "pygments_lexer": "ipython2",
   "version": "2.7.16"
  }
 },
 "nbformat": 4,
 "nbformat_minor": 2
}
