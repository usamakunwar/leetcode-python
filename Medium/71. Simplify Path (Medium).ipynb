{
 "cells": [
  {
   "cell_type": "markdown",
   "metadata": {},
   "source": [
    "# 71. Simplify Path (Medium)\n"
   ]
  },
  {
   "cell_type": "markdown",
   "metadata": {},
   "source": [
    "<div><p>Given an <strong>absolute path</strong> for a file (Unix-style), simplify it. Or in other words, convert it to the <strong>canonical path</strong>.</p>\n",
    "\n",
    "<p>In a UNIX-style file system, a period <code>.</code>&nbsp;refers to the current directory. Furthermore, a double period <code>..</code>&nbsp;moves the directory up a level.</p>\n",
    "\n",
    "<p>Note that the returned canonical path must always begin&nbsp;with a slash <code>/</code>, and there must be only a single slash <code>/</code>&nbsp;between two directory names.&nbsp;The last directory name (if it exists) <b>must not</b>&nbsp;end with a trailing <code>/</code>. Also, the canonical path must be the <strong>shortest</strong> string&nbsp;representing the absolute path.</p>\n",
    "\n",
    "<p>&nbsp;</p>\n",
    "\n",
    "<p><strong>Example 1:</strong></p>\n",
    "\n",
    "<pre><strong>Input: \"</strong><span id=\"example-input-1-1\">/home/\"</span>\n",
    "<strong>Output: \"</strong><span id=\"example-output-1\">/home\"\n",
    "<strong>Explanation:</strong> Note that there is no trailing slash after the last directory name.</span>\n",
    "</pre>\n",
    "\n",
    "<p><strong>Example 2:</strong></p>\n",
    "\n",
    "<pre><strong>Input: \"</strong><span id=\"example-input-1-1\">/../\"</span>\n",
    "<strong>Output: \"</strong><span id=\"example-output-1\">/\"</span>\n",
    "<strong>Explanation:</strong> Going one level up from the root directory is a no-op, as the root level is the highest level you can go.\n",
    "</pre>\n",
    "\n",
    "<p><strong>Example 3:</strong></p>\n",
    "\n",
    "<pre><strong>Input: \"</strong><span id=\"example-input-1-1\">/home//foo/\"</span>\n",
    "<strong>Output: \"</strong><span id=\"example-output-1\">/home/foo\"</span>\n",
    "<strong>Explanation: </strong>In the canonical path, multiple consecutive slashes are replaced by a single one.\n",
    "</pre>\n",
    "\n",
    "<p><strong>Example 4:</strong></p>\n",
    "\n",
    "<pre><strong>Input: \"</strong><span id=\"example-input-1-1\">/a/./b/../../c/\"</span>\n",
    "<strong>Output: \"</strong><span id=\"example-output-1\">/c\"</span>\n",
    "</pre>\n",
    "\n",
    "<p><strong>Example 5:</strong></p>\n",
    "\n",
    "<pre><strong>Input: \"</strong><span id=\"example-input-1-1\">/a/../../b/../c//.//\"</span>\n",
    "<strong>Output: \"</strong><span id=\"example-output-1\">/c\"</span>\n",
    "</pre>\n",
    "\n",
    "<p><strong>Example 6:</strong></p>\n",
    "\n",
    "<pre><strong>Input: \"</strong><span id=\"example-input-1-1\">/a//b////c/d//././/..\"</span>\n",
    "<strong>Output: \"</strong><span id=\"example-output-1\">/a/b/c\"</span>\n",
    "</pre>\n",
    "</div>"
   ]
  },
  {
   "cell_type": "markdown",
   "metadata": {},
   "source": [
    "## Option 1\n",
    "<p>\n",
    "      <p>         <p>\n",
    "Time complexity: O(n)\n",
    "    <br>\n",
    "Space complexity: O(n)\n"
   ]
  },
  {
   "cell_type": "code",
   "execution_count": null,
   "metadata": {
    "scrolled": true
   },
   "outputs": [],
   "source": [
    "class Solution(object):\n",
    "    def simplifyPath(self, path):\n",
    "        if not path: return \"\"\n",
    "        stack = []\n",
    "        for p in path.split('/'):\n",
    "            if p == '' or p == '.': continue\n",
    "            if p == '..':\n",
    "                if stack: stack.pop()\n",
    "            else:\n",
    "                stack.append(p)\n",
    "        return '/'+'/'.join(stack)\n",
    "            \n",
    "        \n",
    "Solution().simplifyPath(\"/../\")     \n"
   ]
  },
  {
   "cell_type": "markdown",
   "metadata": {},
   "source": [
    "#### Result: 24ms (61.24%)"
   ]
  }
 ],
 "metadata": {
  "kernelspec": {
   "display_name": "Python 2",
   "language": "python",
   "name": "python2"
  },
  "language_info": {
   "codemirror_mode": {
    "name": "ipython",
    "version": 2
   },
   "file_extension": ".py",
   "mimetype": "text/x-python",
   "name": "python",
   "nbconvert_exporter": "python",
   "pygments_lexer": "ipython2",
   "version": "2.7.16"
  }
 },
 "nbformat": 4,
 "nbformat_minor": 2
}
