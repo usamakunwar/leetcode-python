{
 "cells": [
  {
   "cell_type": "markdown",
   "metadata": {},
   "source": [
    "# 609. Find Duplicate File in System (Medium)\n"
   ]
  },
  {
   "cell_type": "markdown",
   "metadata": {},
   "source": [
    "<div><p>Given a list of directory info including directory path, and all the files with contents in this directory, you need to find out all the groups of duplicate files in the file system in terms of their paths.</p>\n",
    "\n",
    "<p>A group of duplicate files consists of at least <b>two</b> files that have exactly the same content.</p>\n",
    "\n",
    "<p>A single directory info string in the <b>input</b> list has the following format:</p>\n",
    "\n",
    "<p><code>\"root/d1/d2/.../dm f1.txt(f1_content) f2.txt(f2_content) ... fn.txt(fn_content)\"</code></p>\n",
    "\n",
    "<p>It means there are <b>n</b> files (<code>f1.txt</code>, <code>f2.txt</code> ... <code>fn.txt</code> with content <code>f1_content</code>, <code>f2_content</code> ... <code>fn_content</code>, respectively) in directory <code>root/d1/d2/.../dm</code>. Note that n &gt;= 1 and m &gt;= 0. If m = 0, it means the directory is just the root directory.</p>\n",
    "\n",
    "<p>The <b>output</b> is a list of group of duplicate file paths. For each group, it contains all the file paths of the files that have the same content. A file path is a string that has the following format:</p>\n",
    "\n",
    "<p><code>\"directory_path/file_name.txt\"</code></p>\n",
    "\n",
    "<p><b>Example 1:</b></p>\n",
    "\n",
    "<pre><b>Input:</b>\n",
    "[\"root/a 1.txt(abcd) 2.txt(efgh)\", \"root/c 3.txt(abcd)\", \"root/c/d 4.txt(efgh)\", \"root 4.txt(efgh)\"]\n",
    "<b>Output:</b>  \n",
    "[[\"root/a/2.txt\",\"root/c/d/4.txt\",\"root/4.txt\"],[\"root/a/1.txt\",\"root/c/3.txt\"]]\n",
    "</pre>\n",
    "\n",
    "<p>&nbsp;</p>\n",
    "\n",
    "<p><b>Note:</b></p>\n",
    "\n",
    "<ol>\n",
    "\t<li>No order is required for the final output.</li>\n",
    "\t<li>You may assume the directory name, file name and file content only has letters and digits, and the length of file content is in the range of [1,50].</li>\n",
    "\t<li>The number of files given is in the range of [1,20000].</li>\n",
    "\t<li>You may assume no files or directories share the same name in the same directory.</li>\n",
    "\t<li>You may assume each given directory info represents a unique directory. Directory path and file info are separated by a single blank space.</li>\n",
    "</ol>\n",
    "\n",
    "<p>&nbsp;</p>\n",
    "<b>Follow-up beyond contest:</b>\n",
    "\n",
    "<ol>\n",
    "\t<li>Imagine you are given a real file system, how will you search files? DFS or BFS?</li>\n",
    "\t<li>If the file content is very large (GB level), how will you modify your solution?</li>\n",
    "\t<li>If you can only read the file by 1kb each time, how will you modify your solution?</li>\n",
    "\t<li>What is the time complexity of your modified solution? What is the most time-consuming part and memory consuming part of it? How to optimize?</li>\n",
    "\t<li>How to make sure the duplicated files you find are not false positive?</li>\n",
    "</ol>\n",
    "</div>"
   ]
  },
  {
   "cell_type": "markdown",
   "metadata": {},
   "source": [
    "## Option 1\n",
    "\n",
    "Use a map to hold the file, in the first instance set the file name as the map value and do not add to results (as we duplicates not singles)\n",
    "<br>\n",
    "On the second find, we can append both the initial file name and current file name to results, and re set the map value to the index of the results array. That way, we know the index of duplicates for further finds\n",
    "\n",
    "Time complexity = O(nF)\n",
    "<br>\n",
    "Space complexity = O(nF)"
   ]
  },
  {
   "cell_type": "code",
   "execution_count": 12,
   "metadata": {
    "scrolled": false
   },
   "outputs": [
    {
     "data": {
      "text/plain": [
       "[['root/a/1.txt', 'root/c/3.txt'],\n",
       " ['root/a/2.txt', 'root/c/d/4.txt', 'root/4.txt']]"
      ]
     },
     "execution_count": 12,
     "metadata": {},
     "output_type": "execute_result"
    }
   ],
   "source": [
    "import re\n",
    "class Solution:\n",
    "    def findDuplicate(self, paths: [str]) -> [[str]]:\n",
    "        file_map = {}\n",
    "        results = []\n",
    "        for path in paths:\n",
    "            split = path.split(\" \")\n",
    "            for i in range(1,len(split)):\n",
    "                next_split = split[i].split(\"(\")\n",
    "                file_name = split[0]+\"/\"+next_split[0]\n",
    "                file = next_split[1][:-1]\n",
    "                if file not in file_map:\n",
    "                    file_map[file] = file_name\n",
    "                else:\n",
    "                    if type(file_map[file]) == int: \n",
    "                        results[file_map[file]].append(file_name)\n",
    "                    else:\n",
    "                        results.append([file_map[file], file_name])\n",
    "                        file_map[file] = len(results) - 1\n",
    "                        \n",
    "        return(results)\n",
    "    \n",
    "        \n",
    "        \n",
    "Solution().findDuplicate([\"root/a 1.txt(abcd) 2.txt(efgh)\", \"root/c 3.txt(abcd)\", \"root/c/d 4.txt(efgh)\", \"root 4.txt(efgh)\"])"
   ]
  },
  {
   "cell_type": "markdown",
   "metadata": {},
   "source": [
    "#### Result:  Accepted\n",
    "#### Runtime: 80ms (98.82%)"
   ]
  }
 ],
 "metadata": {
  "kernelspec": {
   "display_name": "Python 3",
   "language": "python",
   "name": "python3"
  },
  "language_info": {
   "codemirror_mode": {
    "name": "ipython",
    "version": 3
   },
   "file_extension": ".py",
   "mimetype": "text/x-python",
   "name": "python",
   "nbconvert_exporter": "python",
   "pygments_lexer": "ipython3",
   "version": "3.7.4"
  }
 },
 "nbformat": 4,
 "nbformat_minor": 2
}
