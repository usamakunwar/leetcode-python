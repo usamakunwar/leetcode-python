{
 "cells": [
  {
   "cell_type": "markdown",
   "metadata": {},
   "source": [
    "# 609. Find Duplicate File in System (Medium)\n"
   ]
  },
  {
   "cell_type": "markdown",
   "metadata": {},
   "source": [
    "<div><p>Given a list of directory info including directory path, and all the files with contents in this directory, you need to find out all the groups of duplicate files in the file system in terms of their paths.</p>\n",
    "\n",
    "<p>A group of duplicate files consists of at least <b>two</b> files that have exactly the same content.</p>\n",
    "\n",
    "<p>A single directory info string in the <b>input</b> list has the following format:</p>\n",
    "\n",
    "<p><code>\"root/d1/d2/.../dm f1.txt(f1_content) f2.txt(f2_content) ... fn.txt(fn_content)\"</code></p>\n",
    "\n",
    "<p>It means there are <b>n</b> files (<code>f1.txt</code>, <code>f2.txt</code> ... <code>fn.txt</code> with content <code>f1_content</code>, <code>f2_content</code> ... <code>fn_content</code>, respectively) in directory <code>root/d1/d2/.../dm</code>. Note that n &gt;= 1 and m &gt;= 0. If m = 0, it means the directory is just the root directory.</p>\n",
    "\n",
    "<p>The <b>output</b> is a list of group of duplicate file paths. For each group, it contains all the file paths of the files that have the same content. A file path is a string that has the following format:</p>\n",
    "\n",
    "<p><code>\"directory_path/file_name.txt\"</code></p>\n",
    "\n",
    "<p><b>Example 1:</b></p>\n",
    "\n",
    "<pre><b>Input:</b>\n",
    "[\"root/a 1.txt(abcd) 2.txt(efgh)\", \"root/c 3.txt(abcd)\", \"root/c/d 4.txt(efgh)\", \"root 4.txt(efgh)\"]\n",
    "<b>Output:</b>  \n",
    "[[\"root/a/2.txt\",\"root/c/d/4.txt\",\"root/4.txt\"],[\"root/a/1.txt\",\"root/c/3.txt\"]]\n",
    "</pre>\n",
    "\n",
    "<p>&nbsp;</p>\n",
    "\n",
    "<p><b>Note:</b></p>\n",
    "\n",
    "<ol>\n",
    "\t<li>No order is required for the final output.</li>\n",
    "\t<li>You may assume the directory name, file name and file content only has letters and digits, and the length of file content is in the range of [1,50].</li>\n",
    "\t<li>The number of files given is in the range of [1,20000].</li>\n",
    "\t<li>You may assume no files or directories share the same name in the same directory.</li>\n",
    "\t<li>You may assume each given directory info represents a unique directory. Directory path and file info are separated by a single blank space.</li>\n",
    "</ol>\n",
    "\n",
    "<p>&nbsp;</p>\n",
    "<b>Follow-up beyond contest:</b>\n",
    "\n",
    "<ol>\n",
    "\t<li>Imagine you are given a real file system, how will you search files? DFS or BFS?</li>\n",
    "\t<li>If the file content is very large (GB level), how will you modify your solution?</li>\n",
    "\t<li>If you can only read the file by 1kb each time, how will you modify your solution?</li>\n",
    "\t<li>What is the time complexity of your modified solution? What is the most time-consuming part and memory consuming part of it? How to optimize?</li>\n",
    "\t<li>How to make sure the duplicated files you find are not false positive?</li>\n",
    "</ol>\n",
    "</div>"
   ]
  },
  {
   "cell_type": "markdown",
   "metadata": {},
   "source": [
    "## Option 1\n",
    "\n",
    "Map\n",
    "<p>\n",
    "Time complexity = O(n) total character length\n",
    "<br>\n",
    "Space complexity = O(n)"
   ]
  },
  {
   "cell_type": "code",
   "execution_count": null,
   "metadata": {
    "scrolled": false
   },
   "outputs": [],
   "source": [
    "import re\n",
    "class Solution:\n",
    "    def findDuplicate(self, paths: [str]) -> [[str]]:\n",
    "        m = collections.defaultdict(list)\n",
    "        for path in paths:\n",
    "            split1 = path.split(' ')\n",
    "            for i in range(1,len(split1)):\n",
    "                split2 = split1[i].split('(')\n",
    "                m[split2[1]].append(split1[0]+'/'+split2[0])\n",
    "            \n",
    "        return [m[k] for k in m if len(m[k]) > 1]\n",
    "\n",
    "        \n",
    "Solution().findDuplicate([\"root/a 1.txt(abcd) 2.txt(efgh)\", \"root/c 3.txt(abcd)\", \"root/c/d 4.txt(efgh)\", \"root 4.txt(efgh)\"])\n",
    "\n"
   ]
  },
  {
   "cell_type": "markdown",
   "metadata": {},
   "source": [
    "#### Runtime: 76ms (98.49%)"
   ]
  }
 ],
 "metadata": {
  "kernelspec": {
   "display_name": "Python 2",
   "language": "python",
   "name": "python2"
  },
  "language_info": {
   "codemirror_mode": {
    "name": "ipython",
    "version": 2
   },
   "file_extension": ".py",
   "mimetype": "text/x-python",
   "name": "python",
   "nbconvert_exporter": "python",
   "pygments_lexer": "ipython2",
   "version": "2.7.16"
  }
 },
 "nbformat": 4,
 "nbformat_minor": 2
}
