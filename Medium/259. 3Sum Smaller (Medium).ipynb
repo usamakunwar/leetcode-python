{
 "cells": [
  {
   "cell_type": "markdown",
   "metadata": {},
   "source": [
    "# 259. 3Sum Smaller (Medium)"
   ]
  },
  {
   "cell_type": "markdown",
   "metadata": {},
   "source": [
    "<div><p>Given an array of <i>n</i> integers <i>nums</i> and a <i>target</i>, find the number of index triplets <code>i, j, k</code> with <code>0 &lt;= i &lt; j &lt; k &lt; n</code> that satisfy the condition <code>nums[i] + nums[j] + nums[k] &lt; target</code>.</p>\n",
    "\n",
    "<p><strong>Example:</strong></p>\n",
    "\n",
    "<pre><strong>Input:</strong> <i>nums</i> = <code>[-2,0,1,3]</code>, and <i>target</i> = 2\n",
    "<strong>Output:</strong> 2 \n",
    "<strong>Explanation:</strong>&nbsp;Because there are two triplets which sums are less than 2:\n",
    "&nbsp;            [-2,0,1]\n",
    "             [-2,0,3]\n",
    "</pre>\n",
    "\n",
    "<p><b style=\"font-family: sans-serif, Arial, Verdana, &quot;Trebuchet MS&quot;;\">Follow up:</b> Could you solve it in <i>O</i>(<i>n</i><sup>2</sup>) runtime?</p>\n",
    "</div>"
   ]
  },
  {
   "cell_type": "markdown",
   "metadata": {},
   "source": [
    "## Option 1\n",
    "<p>\n",
    "Time complexity: O(n^3) ??\n",
    "<br>\n",
    "Space complexity: O(n)"
   ]
  },
  {
   "cell_type": "code",
   "execution_count": null,
   "metadata": {
    "scrolled": true
   },
   "outputs": [],
   "source": [
    "class Solution(object):\n",
    "    def threeSumSmaller(self, nums, target):\n",
    "        ln = len(nums)\n",
    "        pairs = [nums[i]+nums[j] for i in range(ln) for j in range(i+1,ln)]\n",
    "        lp,skip,res = len(pairs),0,0\n",
    "        for i in range(ln-2):\n",
    "            skip += ln-i-1\n",
    "            for j in range(skip,lp):\n",
    "                res += nums[i]+pairs[j] < target\n",
    "        return res\n",
    "        \n",
    "\n",
    "Solution().threeSumSmaller([-2,0,1,3],2)\n"
   ]
  },
  {
   "cell_type": "markdown",
   "metadata": {},
   "source": [
    "#### Result: 1908ms (5.44%)"
   ]
  },
  {
   "cell_type": "markdown",
   "metadata": {},
   "source": [
    "## Option 2\n",
    "<p>Binary Search\n",
    "    <p>\n",
    "    <li> a + b + c < target,    SO    c < target - a - b\n",
    "    <li>Sort, make pairs, then do a binary search for a window that satisfies  c < target - a - b\n",
    "      <p>                                                                           <p>\n",
    "Time complexity: O(n^2logn)\n",
    "<br>\n",
    "Space complexity: O(1)"
   ]
  },
  {
   "cell_type": "code",
   "execution_count": null,
   "metadata": {},
   "outputs": [],
   "source": [
    "class Solution(object):\n",
    "    def threeSumSmaller(self, nums, target):\n",
    "        nums.sort()\n",
    "        res = 0\n",
    "        for i in range(len(nums)):\n",
    "            for j in range(i+1,len(nums)):                \n",
    "                t = target-nums[i]-nums[j]\n",
    "                l,r = j+1, len(nums)\n",
    "                while l < r:\n",
    "                    mid = (l+r)/2\n",
    "                    if nums[mid] < t:\n",
    "                        l = mid + 1\n",
    "                    else:\n",
    "                        r = mid\n",
    "                l -= 1\n",
    "                res += l-j\n",
    "        return res\n",
    "        \n",
    "Solution().threeSumSmaller([1,1,2,2,8,8,9], 12)\n"
   ]
  },
  {
   "cell_type": "markdown",
   "metadata": {},
   "source": [
    "#### Result: 416ms (11.15%)\n"
   ]
  }
 ],
 "metadata": {
  "kernelspec": {
   "display_name": "Python 2",
   "language": "python",
   "name": "python2"
  },
  "language_info": {
   "codemirror_mode": {
    "name": "ipython",
    "version": 2
   },
   "file_extension": ".py",
   "mimetype": "text/x-python",
   "name": "python",
   "nbconvert_exporter": "python",
   "pygments_lexer": "ipython2",
   "version": "2.7.16"
  }
 },
 "nbformat": 4,
 "nbformat_minor": 2
}
