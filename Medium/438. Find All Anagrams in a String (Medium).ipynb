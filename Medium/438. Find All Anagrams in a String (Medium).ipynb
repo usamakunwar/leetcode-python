{
 "cells": [
  {
   "cell_type": "markdown",
   "metadata": {},
   "source": [
    "# 438. Find All Anagrams in a String (Medium)"
   ]
  },
  {
   "cell_type": "markdown",
   "metadata": {},
   "source": [
    "<div><p>Given a string <b>s</b> and a <b>non-empty</b> string <b>p</b>, find all the start indices of <b>p</b>'s anagrams in <b>s</b>.</p>\n",
    "\n",
    "<p>Strings consists of lowercase English letters only and the length of both strings <b>s</b> and <b>p</b> will not be larger than 20,100.</p>\n",
    "\n",
    "<p>The order of output does not matter.</p>\n",
    "\n",
    "<p><b>Example 1:</b>\n",
    "</p><pre><b>Input:</b>\n",
    "s: \"cbaebabacd\" p: \"abc\"\n",
    "\n",
    "<b>Output:</b>\n",
    "[0, 6]\n",
    "\n",
    "<b>Explanation:</b>\n",
    "The substring with start index = 0 is \"cba\", which is an anagram of \"abc\".\n",
    "The substring with start index = 6 is \"bac\", which is an anagram of \"abc\".\n",
    "</pre>\n",
    "<p></p>\n",
    "\n",
    "<p><b>Example 2:</b>\n",
    "</p><pre><b>Input:</b>\n",
    "s: \"abab\" p: \"ab\"\n",
    "\n",
    "<b>Output:</b>\n",
    "[0, 1, 2]\n",
    "\n",
    "<b>Explanation:</b>\n",
    "The substring with start index = 0 is \"ab\", which is an anagram of \"ab\".\n",
    "The substring with start index = 1 is \"ba\", which is an anagram of \"ab\".\n",
    "The substring with start index = 2 is \"ab\", which is an anagram of \"ab\".\n",
    "</pre>\n",
    "<p></p></div>"
   ]
  },
  {
   "cell_type": "markdown",
   "metadata": {},
   "source": [
    "## Option 1\n",
    "<p>\n",
    "    Sliding window with array \n",
    "<p>\n",
    "Time complexity = O(n)\n",
    "<br>\n",
    "Space complexity = O(1)"
   ]
  },
  {
   "cell_type": "code",
   "execution_count": null,
   "metadata": {},
   "outputs": [],
   "source": [
    "import collections\n",
    "class Solution(object):\n",
    "    def findAnagrams(self, s, p):\n",
    "        ls, lp = len(s), len(p)\n",
    "        p_map, s_map, res = [0]*26,[0]*26,[]\n",
    "        for i in p: p_map[ord(i)-ord('a')] += 1\n",
    "        left = 0\n",
    "        for i,v in enumerate(s):\n",
    "            s_map[ord(v)-ord('a')] += 1\n",
    "            if (i-left+1) == lp:\n",
    "                if s_map == p_map:\n",
    "                    res.append(left)\n",
    "                s_map[ord(s[left])-ord('a')] -= 1\n",
    "                left += 1\n",
    "        return res\n",
    "\n",
    "Solution().findAnagrams(\"jvj\", \"jv\")"
   ]
  },
  {
   "cell_type": "markdown",
   "metadata": {},
   "source": [
    "#### Result: 80ms (90.78%)"
   ]
  }
 ],
 "metadata": {
  "kernelspec": {
   "display_name": "Python 2",
   "language": "python",
   "name": "python2"
  },
  "language_info": {
   "codemirror_mode": {
    "name": "ipython",
    "version": 2
   },
   "file_extension": ".py",
   "mimetype": "text/x-python",
   "name": "python",
   "nbconvert_exporter": "python",
   "pygments_lexer": "ipython2",
   "version": "2.7.16"
  }
 },
 "nbformat": 4,
 "nbformat_minor": 2
}
