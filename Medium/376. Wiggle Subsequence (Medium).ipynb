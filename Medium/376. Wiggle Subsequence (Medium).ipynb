{
 "cells": [
  {
   "cell_type": "markdown",
   "metadata": {},
   "source": [
    "# 376. Wiggle Subsequence (Medium)"
   ]
  },
  {
   "cell_type": "markdown",
   "metadata": {},
   "source": [
    "<div><p>A sequence of numbers is called a <strong>wiggle sequence</strong> if the differences between successive numbers strictly alternate between positive and negative. The first difference (if one exists) may be either positive or negative. A sequence with fewer than two elements is trivially a wiggle sequence.</p>\n",
    "\n",
    "<p>For example, <code>[1,7,4,9,2,5]</code> is a wiggle sequence because the differences <code>(6,-3,5,-7,3)</code> are alternately positive and negative. In contrast, <code>[1,4,7,2,5]</code> and <code>[1,7,4,5,5]</code> are not wiggle sequences, the first because its first two differences are positive and the second because its last difference is zero.</p>\n",
    "\n",
    "<p>Given a sequence of integers, return the length of the longest subsequence that is a wiggle sequence. A subsequence is obtained by deleting some number of elements (eventually, also zero) from the original sequence, leaving the remaining elements in their original order.</p>\n",
    "\n",
    "<p><strong>Example 1:</strong></p>\n",
    "\n",
    "<pre><strong>Input: </strong><span id=\"example-input-1-1\">[1,7,4,9,2,5]</span>\n",
    "<strong>Output: </strong><span id=\"example-output-1\">6\n",
    "<strong>Explanation:</strong> </span>The entire sequence is a wiggle sequence.</pre>\n",
    "\n",
    "<div>\n",
    "<p><strong>Example 2:</strong></p>\n",
    "\n",
    "<pre><strong>Input: </strong><span id=\"example-input-2-1\">[1,17,5,10,13,15,10,5,16,8]</span>\n",
    "<strong>Output: </strong><span id=\"example-output-2\">7\n",
    "</span><span id=\"example-output-1\"><strong>Explanation: </strong></span>There are several subsequences that achieve this length. One is [1,17,10,13,10,16,8].</pre>\n",
    "\n",
    "<div>\n",
    "<p><strong>Example 3:</strong></p>\n",
    "\n",
    "<pre><strong>Input: </strong><span id=\"example-input-3-1\">[1,2,3,4,5,6,7,8,9]</span>\n",
    "<strong>Output: </strong><span id=\"example-output-3\">2</span></pre>\n",
    "\n",
    "<p><b>Follow up:</b><br>\n",
    "Can you do it in O(<i>n</i>) time?</p>\n",
    "</div>\n",
    "</div>\n",
    "</div>"
   ]
  },
  {
   "cell_type": "markdown",
   "metadata": {},
   "source": [
    "## Option 1\n",
    "<p>\n",
    "   Greedy\n",
    " <p>\n",
    "     <p>\n",
    "Time complexity: O(n)\n",
    "    <br>\n",
    "Space complexity: O(1)\n"
   ]
  },
  {
   "cell_type": "code",
   "execution_count": null,
   "metadata": {},
   "outputs": [],
   "source": [
    "class Solution(object):\n",
    "    def wiggleMaxLength(self, nums):\n",
    "        if len(nums) < 2: return len(nums)\n",
    "        prev = nums[1]-nums[0]\n",
    "        res = 2 if prev else 1\n",
    "        for i in range(2,len(nums)):\n",
    "            curr = nums[i]-nums[i-1]\n",
    "            if (prev >= 0 and curr < 0) or (prev <= 0 and curr > 0): \n",
    "                res += 1\n",
    "                prev = curr\n",
    "        return res\n",
    "        \n",
    "        \n",
    "Solution().wiggleMaxLength([1,1,7,1,1,2,1,2,2])\n",
    "\n",
    "        "
   ]
  },
  {
   "cell_type": "markdown",
   "metadata": {},
   "source": [
    "#### Result: 16ms (97.44%)"
   ]
  }
 ],
 "metadata": {
  "kernelspec": {
   "display_name": "Python 2",
   "language": "python",
   "name": "python2"
  },
  "language_info": {
   "codemirror_mode": {
    "name": "ipython",
    "version": 2
   },
   "file_extension": ".py",
   "mimetype": "text/x-python",
   "name": "python",
   "nbconvert_exporter": "python",
   "pygments_lexer": "ipython2",
   "version": "2.7.16"
  }
 },
 "nbformat": 4,
 "nbformat_minor": 2
}
