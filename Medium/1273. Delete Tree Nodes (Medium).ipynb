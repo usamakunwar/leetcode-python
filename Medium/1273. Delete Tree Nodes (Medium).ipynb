{
 "cells": [
  {
   "cell_type": "markdown",
   "metadata": {},
   "source": [
    "# 1273. Delete Tree Nodes (Medium)"
   ]
  },
  {
   "cell_type": "markdown",
   "metadata": {},
   "source": [
    "<div><p>A tree rooted at node 0 is given as follows:</p>\n",
    "\n",
    "<ul>\n",
    "\t<li>The number of nodes is <code>nodes</code>;</li>\n",
    "\t<li>The value of the <code>i</code>-th node is <code>value[i]</code>;</li>\n",
    "\t<li>The parent of the <code>i</code>-th node is <code>parent[i]</code>.</li>\n",
    "</ul>\n",
    "\n",
    "<p>Remove every subtree whose sum of values of nodes is zero.</p>\n",
    "\n",
    "<p>After doing so, return the number of nodes remaining in the tree.</p>\n",
    "\n",
    "<p>&nbsp;</p>\n",
    "<p><strong>Example 1:</strong></p>\n",
    "\n",
    "<p><img alt=\"\" src=\"https://assets.leetcode.com/uploads/2019/07/02/1421_sample_1.PNG\" style=\"width: 403px; height: 347px;\"></p>\n",
    "\n",
    "<pre><strong>Input:</strong> nodes = 7, parent = [-1,0,0,1,2,2,2], value = [1,-2,4,0,-2,-1,-1]\n",
    "<strong>Output:</strong> 2\n",
    "</pre>\n",
    "\n",
    "<p>&nbsp;</p>\n",
    "<p><strong>Constraints:</strong></p>\n",
    "\n",
    "<ul>\n",
    "\t<li><code>1 &lt;= nodes &lt;= 10^4</code></li>\n",
    "\t<li><code>-10^5 &lt;= value[i] &lt;= 10^5</code></li>\n",
    "\t<li><code>parent.length == nodes</code></li>\n",
    "\t<li><code>parent[0] == -1</code>&nbsp;which indicates that <code>0</code> is the root.</li>\n",
    "</ul>\n",
    "</div>"
   ]
  },
  {
   "cell_type": "markdown",
   "metadata": {},
   "source": [
    "## Option 1\n",
    "\n",
    "<p>DFS\n",
    "<p>\n",
    "   <p>\n",
    "Time complexity: O(n)\n",
    "    <br>\n",
    "Space complexity: O(n)\n"
   ]
  },
  {
   "cell_type": "code",
   "execution_count": null,
   "metadata": {},
   "outputs": [],
   "source": [
    "import collections\n",
    "class Solution(object):\n",
    "    def deleteTreeNodes(self, nodes, parent, value):\n",
    "        edges = collections.defaultdict(list)\n",
    "        for i in range(len(parent)):\n",
    "            edges[parent[i]].append(i)\n",
    "        \n",
    "        def search(i):\n",
    "            #We need to keep the nodes count seperate from todelete count,\n",
    "            #if the total is zero we delete all child nodes\n",
    "            total,nodes,todelete = value[i],1,0\n",
    "            for j in edges[i]:\n",
    "                t,n,d = search(j)\n",
    "                total += t\n",
    "                nodes += n\n",
    "                todelete += d\n",
    "            return (total,nodes,nodes) if not total else (total,nodes,todelete)\n",
    "        \n",
    "        return nodes - search(0)[2]\n",
    "                        \n",
    "Solution().deleteTreeNodes(7, [-1,0,0,1,2,2,2], [1,-2,4,0,-2,-1,-1])  \n",
    "\n"
   ]
  },
  {
   "cell_type": "markdown",
   "metadata": {},
   "source": [
    "#### Result: 312ms (14.03%)"
   ]
  }
 ],
 "metadata": {
  "kernelspec": {
   "display_name": "Python 2",
   "language": "python",
   "name": "python2"
  },
  "language_info": {
   "codemirror_mode": {
    "name": "ipython",
    "version": 2
   },
   "file_extension": ".py",
   "mimetype": "text/x-python",
   "name": "python",
   "nbconvert_exporter": "python",
   "pygments_lexer": "ipython2",
   "version": "2.7.16"
  }
 },
 "nbformat": 4,
 "nbformat_minor": 2
}
