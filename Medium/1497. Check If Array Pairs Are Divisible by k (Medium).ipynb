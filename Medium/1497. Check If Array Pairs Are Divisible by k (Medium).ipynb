{
 "cells": [
  {
   "cell_type": "markdown",
   "metadata": {},
   "source": [
    "# 1497. Check If Array Pairs Are Divisible by k (Medium)"
   ]
  },
  {
   "cell_type": "markdown",
   "metadata": {},
   "source": [
    "<div><p>Given an array of integers <code>arr</code> of even length <code>n</code> and an integer <code>k</code>.</p>\n",
    "\n",
    "<p>We want to divide the array into exactly <code>n /&nbsp;2</code> pairs such that the sum of each pair is divisible by <code>k</code>.</p>\n",
    "\n",
    "<p>Return <em>True</em> If you can find a way to do that or <em>False</em> otherwise.</p>\n",
    "\n",
    "<p>&nbsp;</p>\n",
    "<p><strong>Example 1:</strong></p>\n",
    "\n",
    "<pre><strong>Input:</strong> arr = [1,2,3,4,5,10,6,7,8,9], k = 5\n",
    "<strong>Output:</strong> true\n",
    "<strong>Explanation:</strong> Pairs are (1,9),(2,8),(3,7),(4,6) and (5,10).\n",
    "</pre>\n",
    "\n",
    "<p><strong>Example 2:</strong></p>\n",
    "\n",
    "<pre><strong>Input:</strong> arr = [1,2,3,4,5,6], k = 7\n",
    "<strong>Output:</strong> true\n",
    "<strong>Explanation:</strong> Pairs are (1,6),(2,5) and(3,4).\n",
    "</pre>\n",
    "\n",
    "<p><strong>Example 3:</strong></p>\n",
    "\n",
    "<pre><strong>Input:</strong> arr = [1,2,3,4,5,6], k = 10\n",
    "<strong>Output:</strong> false\n",
    "<strong>Explanation:</strong> You can try all possible pairs to see that there is no way to divide arr into 3 pairs each with sum divisible by 10.\n",
    "</pre>\n",
    "\n",
    "<p><strong>Example 4:</strong></p>\n",
    "\n",
    "<pre><strong>Input:</strong> arr = [-10,10], k = 2\n",
    "<strong>Output:</strong> true\n",
    "</pre>\n",
    "\n",
    "<p><strong>Example 5:</strong></p>\n",
    "\n",
    "<pre><strong>Input:</strong> arr = [-1,1,-2,2,-3,3,-4,4], k = 3\n",
    "<strong>Output:</strong> true\n",
    "</pre>\n",
    "\n",
    "<p>&nbsp;</p>\n",
    "<p><strong>Constraints:</strong></p>\n",
    "\n",
    "<ul>\n",
    "\t<li><code>arr.length == n</code></li>\n",
    "\t<li><code>1 &lt;= n &lt;= 10^5</code></li>\n",
    "\t<li><code>n</code> is even.</li>\n",
    "\t<li><code>-10^9 &lt;= arr[i] &lt;= 10^9</code></li>\n",
    "\t<li><code>1 &lt;= k &lt;= 10^5</code></li>\n",
    "</ul>\n",
    "</div>"
   ]
  },
  {
   "cell_type": "markdown",
   "metadata": {},
   "source": [
    "## Option 1\n",
    " <p>\n",
    "    <li>So pairs are straightforwad. (a % k and -a % k) make a divisible pair\n",
    "    <li>The trick is when (a % k == -a % k), the pair count will use itself. In this case we check if the count is divisible by 2\n",
    " <p>\n",
    "\n",
    "Time complexity: O(n)\n",
    "<br>\n",
    "Space complexity: O(n) "
   ]
  },
  {
   "cell_type": "code",
   "execution_count": null,
   "metadata": {
    "scrolled": false
   },
   "outputs": [],
   "source": [
    "import collections\n",
    "class Solution(object):\n",
    "    def canArrange(self, arr, k):\n",
    "        c = collections.Counter()\n",
    "        for a in arr:\n",
    "            i ,j = a%k, -a%k\n",
    "            c[i] += 1 \n",
    "            if i != j:\n",
    "                c[j] -= 1\n",
    "\n",
    "        return all(j == 0 or (not (i+i)%k and not j%2) for i,j in c.items())\n",
    "        \n",
    "        \n",
    "Solution().canArrange([1,2,3,4,5,6,7,8],2)\n",
    "        "
   ]
  },
  {
   "cell_type": "markdown",
   "metadata": {},
   "source": [
    "#### Result: 876ms (39.23%)\n"
   ]
  }
 ],
 "metadata": {
  "kernelspec": {
   "display_name": "Python 2",
   "language": "python",
   "name": "python2"
  },
  "language_info": {
   "codemirror_mode": {
    "name": "ipython",
    "version": 2
   },
   "file_extension": ".py",
   "mimetype": "text/x-python",
   "name": "python",
   "nbconvert_exporter": "python",
   "pygments_lexer": "ipython2",
   "version": "2.7.16"
  }
 },
 "nbformat": 4,
 "nbformat_minor": 2
}
