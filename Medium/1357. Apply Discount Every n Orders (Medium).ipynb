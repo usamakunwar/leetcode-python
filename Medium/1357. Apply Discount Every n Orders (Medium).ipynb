{
 "cells": [
  {
   "cell_type": "markdown",
   "metadata": {},
   "source": [
    "# 1357. Apply Discount Every n Orders (Medium)"
   ]
  },
  {
   "cell_type": "markdown",
   "metadata": {},
   "source": [
    "<div><p>There is&nbsp;a sale in a supermarket, there will be a <code>discount</code> every <code>n</code> customer.<br>\n",
    "There are some products in the supermarket where the id of the <code>i-th</code> product is <code>products[i]</code> and the price per unit of this product is&nbsp;<code>prices[i]</code>.<br>\n",
    "The system will count the number of customers and when the <code>n-th</code> customer arrive he/she will have a <code>discount</code> on the bill. (i.e if the cost is <code>x</code> the new cost is <code>x - (discount * x) / 100</code>). Then the system will start counting customers again.<br>\n",
    "The customer orders a certain amount of each product where <code>product[i]</code> is the id of the <code>i-th</code> product the customer ordered and <code>amount[i]</code> is the number of units the customer ordered of that product.</p>\n",
    "\n",
    "<p>Implement the <code>Cashier</code> class:</p>\n",
    "\n",
    "<ul>\n",
    "\t<li><code>Cashier(int n, int discount, int[] products, int[] prices)</code> Initializes the object with <code>n</code>, the <code>discount</code>, the <code>products</code>&nbsp;and their <code>prices</code>.</li>\n",
    "\t<li><code>double&nbsp;getBill(int[] product, int[] amount)</code>&nbsp;returns the value of the bill and apply the discount if needed. Answers within <code>10^-5</code> of the actual value will be accepted as correct.</li>\n",
    "</ul>\n",
    "\n",
    "<p>&nbsp;</p>\n",
    "<p><strong>Example 1:</strong></p>\n",
    "\n",
    "<pre><strong>Input</strong>\n",
    "[\"Cashier\",\"getBill\",\"getBill\",\"getBill\",\"getBill\",\"getBill\",\"getBill\",\"getBill\"]\n",
    "[[3,50,[1,2,3,4,5,6,7],[100,200,300,400,300,200,100]],[[1,2],[1,2]],[[3,7],[10,10]],[[1,2,3,4,5,6,7],[1,1,1,1,1,1,1]],[[4],[10]],[[7,3],[10,10]],[[7,5,3,1,6,4,2],[10,10,10,9,9,9,7]],[[2,3,5],[5,3,2]]]\n",
    "<strong>Output</strong>\n",
    "[null,500.0,4000.0,800.0,4000.0,4000.0,7350.0,2500.0]\n",
    "<strong>Explanation</strong>\n",
    "Cashier cashier = new Cashier(3,50,[1,2,3,4,5,6,7],[100,200,300,400,300,200,100]);\n",
    "cashier.getBill([1,2],[1,2]);                        // return 500.0, bill = 1 * 100 + 2 * 200 = 500.\n",
    "cashier.getBill([3,7],[10,10]);                      // return 4000.0\n",
    "cashier.getBill([1,2,3,4,5,6,7],[1,1,1,1,1,1,1]);    // return 800.0, The bill was 1600.0 but as this is the third customer, he has a discount of 50% which means his bill is only 1600 - 1600 * (50 / 100) = 800.\n",
    "cashier.getBill([4],[10]);                           // return 4000.0\n",
    "cashier.getBill([7,3],[10,10]);                      // return 4000.0\n",
    "cashier.getBill([7,5,3,1,6,4,2],[10,10,10,9,9,9,7]); // return 7350.0, Bill was 14700.0 but as the system counted three more customers, he will have a 50% discount and the bill becomes 7350.0\n",
    "cashier.getBill([2,3,5],[5,3,2]);                    // return 2500.0\n",
    "</pre>\n",
    "\n",
    "<p>&nbsp;</p>\n",
    "<p><strong>Constraints:</strong></p>\n",
    "\n",
    "<ul>\n",
    "\t<li><code>1 &lt;= n &lt;= 10^4</code></li>\n",
    "\t<li><code>0 &lt;= discount &lt;= 100</code></li>\n",
    "\t<li><code>1 &lt;= products.length &lt;= 200</code></li>\n",
    "\t<li><code>1 &lt;= products[i] &lt;= 200</code></li>\n",
    "\t<li>There are <strong>not</strong> repeated elements in the array <code>products</code>.</li>\n",
    "\t<li><code>prices.length == products.length</code></li>\n",
    "\t<li><code>1 &lt;= prices[i] &lt;= 1000</code></li>\n",
    "\t<li><code>1 &lt;= product.length &lt;= products.length</code></li>\n",
    "\t<li><code>product[i]</code> exists in <code>products</code>.</li>\n",
    "\t<li><code>amount.length == product.length</code></li>\n",
    "\t<li><code>1 &lt;= amount[i] &lt;= 1000</code></li>\n",
    "\t<li>At most <code>1000</code> calls will be made to <code>getBill</code>.</li>\n",
    "\t<li>Answers within&nbsp;<code>10^-5</code>&nbsp;of the actual value will be accepted as correct.</li>\n",
    "</ul></div>"
   ]
  },
  {
   "cell_type": "markdown",
   "metadata": {},
   "source": [
    "## Option 1\n",
    "<p>             \n",
    "           \n",
    "Time complexity: O(n)\n",
    "    <br>\n",
    "Space complexity: O(n)\n"
   ]
  },
  {
   "cell_type": "code",
   "execution_count": null,
   "metadata": {},
   "outputs": [],
   "source": [
    "class Cashier(object):\n",
    "\n",
    "    def __init__(self, n, discount, products, prices):\n",
    "        self.n, self.discount, self.count = n, discount, 0\n",
    "        self.prices = collections.defaultdict(int)\n",
    "        \n",
    "        for i,v in enumerate(products):\n",
    "            self.prices[v] = prices[i] \n",
    "        \n",
    "\n",
    "    def getBill(self, product, amount):\n",
    "        total = sum(self.prices[v]*amount[i] for i,v in enumerate(product))\n",
    "        self.count += 1\n",
    "        if self.count == self.n:\n",
    "            total = total-float(self.discount*total)/100\n",
    "            self.count = 0\n",
    "        \n",
    "        return total\n",
    "\n",
    "# Your Cashier object will be instantiated and called as such:\n",
    "# obj = Cashier(n, discount, products, prices)\n",
    "# param_1 = obj.getBill(product,amount)"
   ]
  },
  {
   "cell_type": "markdown",
   "metadata": {},
   "source": [
    "#### Result: 708ms (73.33%)"
   ]
  }
 ],
 "metadata": {
  "kernelspec": {
   "display_name": "Python 2",
   "language": "python",
   "name": "python2"
  },
  "language_info": {
   "codemirror_mode": {
    "name": "ipython",
    "version": 2
   },
   "file_extension": ".py",
   "mimetype": "text/x-python",
   "name": "python",
   "nbconvert_exporter": "python",
   "pygments_lexer": "ipython2",
   "version": "2.7.16"
  }
 },
 "nbformat": 4,
 "nbformat_minor": 2
}
