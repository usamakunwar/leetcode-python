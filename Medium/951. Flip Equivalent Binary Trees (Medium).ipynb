{
 "cells": [
  {
   "cell_type": "markdown",
   "metadata": {},
   "source": [
    "# 951. Flip Equivalent Binary Trees (Medium)"
   ]
  },
  {
   "cell_type": "markdown",
   "metadata": {},
   "source": [
    "<div><p>For a binary tree T, we can define a flip operation as follows: choose any node, and swap the left and right child subtrees.</p>\n",
    "\n",
    "<p>A binary tree X&nbsp;is <em>flip equivalent</em> to a binary tree Y if and only if we can make X equal to Y after some number of flip operations.</p>\n",
    "\n",
    "<p>Write a function that determines whether two binary trees&nbsp;are <em>flip equivalent</em>.&nbsp; The trees are given by root nodes <code>root1</code> and <code>root2</code>.</p>\n",
    "\n",
    "<p>&nbsp;</p>\n",
    "\n",
    "<p><strong>Example 1:</strong></p>\n",
    "\n",
    "<pre><strong>Input: </strong>root1 = <span id=\"example-input-1-1\">[1,2,3,4,5,6,null,null,null,7,8]</span>, root2 = <span id=\"example-input-1-2\">[1,3,2,null,6,4,5,null,null,null,null,8,7]</span>\n",
    "<strong>Output: </strong><span id=\"example-output-1\">true</span>\n",
    "<strong>Explanation: </strong>We flipped at nodes with values 1, 3, and 5.\n",
    "<img alt=\"Flipped Trees Diagram\" src=\"https://assets.leetcode.com/uploads/2018/11/29/tree_ex.png\" style=\"font-family: sans-serif, Arial, Verdana, &quot;Trebuchet MS&quot;; width: 455px; height: 200px;\">\n",
    "</pre>\n",
    "\n",
    "<p>&nbsp;</p>\n",
    "\n",
    "<p><strong>Note:</strong></p>\n",
    "\n",
    "<ol>\n",
    "\t<li>Each tree will have at most <code>100</code> nodes.</li>\n",
    "\t<li>Each value in each tree will be a unique&nbsp;integer in the range <code>[0, 99]</code>.</li>\n",
    "</ol>\n",
    "\n",
    "<div>\n",
    "<p>&nbsp;</p>\n",
    "</div>\n",
    "</div>"
   ]
  },
  {
   "cell_type": "markdown",
   "metadata": {},
   "source": [
    "## Option 1\n",
    "\n",
    "DFS\n",
    "<p>\n",
    "Time complexity = O(n)\n",
    "<br>\n",
    "Space complexity = O(h)"
   ]
  },
  {
   "cell_type": "code",
   "execution_count": null,
   "metadata": {
    "scrolled": false
   },
   "outputs": [],
   "source": [
    "class Solution(object):\n",
    "    def flipEquiv(self, root1, root2):\n",
    "        \n",
    "        def search(n1, n2):\n",
    "            if not n1 and not n2: return True\n",
    "            if not n1 or not n2 or n1.val != n2.val: return False\n",
    "            \n",
    "            if search(n1.left,n2.left):\n",
    "                return search(n1.right, n2.right)\n",
    "            else:\n",
    "                return search(n1.left, n2.right) and search(n1.right, n2.left)\n",
    "            \n",
    "        return search(root1, root2)"
   ]
  },
  {
   "cell_type": "markdown",
   "metadata": {},
   "source": [
    "#### Result:  24ms (48.10%)"
   ]
  }
 ],
 "metadata": {
  "kernelspec": {
   "display_name": "Python 3",
   "language": "python",
   "name": "python3"
  },
  "language_info": {
   "codemirror_mode": {
    "name": "ipython",
    "version": 3
   },
   "file_extension": ".py",
   "mimetype": "text/x-python",
   "name": "python",
   "nbconvert_exporter": "python",
   "pygments_lexer": "ipython3",
   "version": "3.7.4"
  }
 },
 "nbformat": 4,
 "nbformat_minor": 2
}
