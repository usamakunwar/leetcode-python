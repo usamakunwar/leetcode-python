{
 "cells": [
  {
   "cell_type": "markdown",
   "metadata": {},
   "source": [
    "# 103. Binary Tree Zigzag Level Order Traversal (Medium)"
   ]
  },
  {
   "cell_type": "markdown",
   "metadata": {},
   "source": [
    "<div><p>Given a binary tree, return the <i>zigzag level order</i> traversal of its nodes' values. (ie, from left to right, then right to left for the next level and alternate between).</p>\n",
    "\n",
    "<p>\n",
    "For example:<br>\n",
    "Given binary tree <code>[3,9,20,null,null,15,7]</code>,<br>\n",
    "</p><pre>    3\n",
    "   / \\\n",
    "  9  20\n",
    "    /  \\\n",
    "   15   7\n",
    "</pre>\n",
    "<p></p>\n",
    "<p>\n",
    "return its zigzag level order traversal as:<br>\n",
    "</p><pre>[\n",
    "  [3],\n",
    "  [20,9],\n",
    "  [15,7]\n",
    "]\n",
    "</pre>\n",
    "<p></p></div>"
   ]
  },
  {
   "cell_type": "markdown",
   "metadata": {},
   "source": [
    "## Option 1\n",
    "<p>\n",
    "    <li>Queue one level at a time. Change direction every level. \n",
    "<p>\n",
    "    <p>\n",
    "Time complexity: O(n)\n",
    "<br>\n",
    "Space complexity: O(n)"
   ]
  },
  {
   "cell_type": "code",
   "execution_count": null,
   "metadata": {
    "scrolled": true
   },
   "outputs": [],
   "source": [
    "# Definition for a binary tree node.\n",
    "# class TreeNode(object):\n",
    "#     def __init__(self, x):\n",
    "#         self.val = x\n",
    "#         self.left = None\n",
    "#         self.right = None\n",
    "\n",
    "class Solution(object):\n",
    "    def zigzagLevelOrder(self, root):\n",
    "        \"\"\"\n",
    "        :type root: TreeNode\n",
    "        :rtype: List[List[int]]\n",
    "        \"\"\"\n",
    "        if not root: return []\n",
    "        q1,q2 = collections.deque(),collections.deque()\n",
    "        q1.append((root,0, True))\n",
    "        res = []\n",
    "        while q1:\n",
    "            node, lev, dir = q1.popleft()\n",
    "            if lev > len(res)-1:\n",
    "                res.append([node.val])\n",
    "            else:\n",
    "                res[lev].append(node.val)\n",
    "            #Switch direction every level\n",
    "            node.left, node.right = (node.left, node.right) if dir else (node.right, node.left)\n",
    "            #The node that queues the nodes next does it in reverse order, so we have to appendleft\n",
    "            if node.left: q2.appendleft((node.left, lev+1, not dir))\n",
    "            if node.right: q2.appendleft((node.right, lev+1, not dir))\n",
    "                \n",
    "            if not q1:\n",
    "                #Next level\n",
    "                q1.extend(q2)\n",
    "                q2.clear()\n",
    "        return res"
   ]
  },
  {
   "cell_type": "markdown",
   "metadata": {},
   "source": [
    "#### Result: 20ms 65.82%)"
   ]
  }
 ],
 "metadata": {
  "kernelspec": {
   "display_name": "Python 2",
   "language": "python",
   "name": "python2"
  },
  "language_info": {
   "codemirror_mode": {
    "name": "ipython",
    "version": 2
   },
   "file_extension": ".py",
   "mimetype": "text/x-python",
   "name": "python",
   "nbconvert_exporter": "python",
   "pygments_lexer": "ipython2",
   "version": "2.7.16"
  }
 },
 "nbformat": 4,
 "nbformat_minor": 2
}
