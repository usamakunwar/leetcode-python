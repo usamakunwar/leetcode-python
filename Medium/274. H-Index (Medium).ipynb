{
 "cells": [
  {
   "cell_type": "markdown",
   "metadata": {},
   "source": [
    "# 274. H-Index (Medium)\n"
   ]
  },
  {
   "cell_type": "markdown",
   "metadata": {},
   "source": [
    "<div><p>Given a sorted integer array without duplicates, return the summary of its ranges.</p>\n",
    "\n",
    "<p><b>Example 1:</b></p>\n",
    "\n",
    "<pre><b>Input:</b>  [0,1,2,4,5,7]\n",
    "<b>Output:</b> [\"0-&gt;2\",\"4-&gt;5\",\"7\"]\n",
    "<strong>Explanation: </strong>0,1,2 form a continuous range;&nbsp;4,5 form a continuous range.\n",
    "</pre>\n",
    "\n",
    "<p><b>Example 2:</b></p>\n",
    "\n",
    "<pre><b>Input:</b>  [0,2,3,4,6,8,9]\n",
    "<b>Output:</b> [\"0\",\"2-&gt;4\",\"6\",\"8-&gt;9\"]\n",
    "<strong>Explanation: </strong>2,3,4 form a continuous range;&nbsp;8,9 form a continuous range.\n",
    "</pre>\n",
    "</div>"
   ]
  },
  {
   "cell_type": "markdown",
   "metadata": {},
   "source": [
    "## Option 1\n",
    "<p>\n",
    "      <p>         <p>\n",
    "Time complexity: O(nlogn)\n",
    "    <br>\n",
    "Space complexity: O(1)\n"
   ]
  },
  {
   "cell_type": "code",
   "execution_count": null,
   "metadata": {
    "scrolled": true
   },
   "outputs": [],
   "source": [
    "class Solution(object):\n",
    "    def hIndex(self, citations):\n",
    "        for i,v in enumerate(sorted(citations)):\n",
    "            if v >= len(citations)-i:\n",
    "                return len(citations)-i\n",
    "        return 0\n",
    "        \n",
    "Solution().hIndex([100,3000,5000])     \n"
   ]
  },
  {
   "cell_type": "markdown",
   "metadata": {},
   "source": [
    "#### Result: 24ms (74.07%)"
   ]
  }
 ],
 "metadata": {
  "kernelspec": {
   "display_name": "Python 2",
   "language": "python",
   "name": "python2"
  },
  "language_info": {
   "codemirror_mode": {
    "name": "ipython",
    "version": 2
   },
   "file_extension": ".py",
   "mimetype": "text/x-python",
   "name": "python",
   "nbconvert_exporter": "python",
   "pygments_lexer": "ipython2",
   "version": "2.7.16"
  }
 },
 "nbformat": 4,
 "nbformat_minor": 2
}
