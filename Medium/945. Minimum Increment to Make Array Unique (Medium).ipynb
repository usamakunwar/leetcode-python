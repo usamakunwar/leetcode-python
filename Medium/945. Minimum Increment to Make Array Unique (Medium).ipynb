{
 "cells": [
  {
   "cell_type": "markdown",
   "metadata": {},
   "source": [
    "# 945. Minimum Increment to Make Array Unique (Medium)\n"
   ]
  },
  {
   "cell_type": "markdown",
   "metadata": {},
   "source": [
    "<div><p>Given an array of integers A, a <em>move</em> consists of choosing any <code>A[i]</code>, and incrementing it by <code>1</code>.</p>\n",
    "\n",
    "<p>Return the least number of moves to make every value in <code>A</code> unique.</p>\n",
    "\n",
    "<p>&nbsp;</p>\n",
    "\n",
    "<p><strong>Example 1:</strong></p>\n",
    "\n",
    "<pre><strong>Input: </strong><span id=\"example-input-1-1\">[1,2,2]</span>\n",
    "<strong>Output: </strong><span id=\"example-output-1\">1</span>\n",
    "<strong>Explanation: </strong> After 1 move, the array could be [1, 2, 3].\n",
    "</pre>\n",
    "\n",
    "<div>\n",
    "<p><strong>Example 2:</strong></p>\n",
    "\n",
    "<pre><strong>Input: </strong><span id=\"example-input-2-1\">[3,2,1,2,1,7]</span>\n",
    "<strong>Output: </strong><span id=\"example-output-2\">6</span>\n",
    "<strong>Explanation: </strong> After 6 moves, the array could be [3, 4, 1, 2, 5, 7].\n",
    "It can be shown with 5 or less moves that it is impossible for the array to have all unique values.\n",
    "</pre>\n",
    "\n",
    "<p>&nbsp;</p>\n",
    "</div>\n",
    "\n",
    "<p><strong>Note:</strong></p>\n",
    "\n",
    "<ol>\n",
    "\t<li><code>0 &lt;= A.length &lt;= 40000</code></li>\n",
    "\t<li><code>0 &lt;= A[i] &lt; 40000</code></li>\n",
    "</ol>\n",
    "\n",
    "<div>\n",
    "<div>&nbsp;</div>\n",
    "</div></div>"
   ]
  },
  {
   "cell_type": "markdown",
   "metadata": {},
   "source": [
    "## Option 1\n",
    "<p>\n",
    "    Sort\n",
    "\n",
    "Time complexity: O(nlogn)\n",
    "<br>\n",
    "Space complexity: O(1)"
   ]
  },
  {
   "cell_type": "code",
   "execution_count": null,
   "metadata": {
    "scrolled": false
   },
   "outputs": [],
   "source": [
    "class Solution(object):\n",
    "    def minIncrementForUnique(self, A):\n",
    "        A.sort()\n",
    "        res = 0\n",
    "        for i in range(1, len(A)):\n",
    "            if A[i] <= A[i-1]:\n",
    "                res += A[i-1]-A[i]+1\n",
    "                A[i] = A[i-1]+1 \n",
    "        return res\n",
    "        \n",
    "Solution().minIncrementForUnique([3,4,2,1,3,4,5,5,8,8,9,9,12,32,10,1])\n",
    "        "
   ]
  },
  {
   "cell_type": "markdown",
   "metadata": {},
   "source": [
    "#### Result: 300ms (82.19%)"
   ]
  }
 ],
 "metadata": {
  "kernelspec": {
   "display_name": "Python 2",
   "language": "python",
   "name": "python2"
  },
  "language_info": {
   "codemirror_mode": {
    "name": "ipython",
    "version": 2
   },
   "file_extension": ".py",
   "mimetype": "text/x-python",
   "name": "python",
   "nbconvert_exporter": "python",
   "pygments_lexer": "ipython2",
   "version": "2.7.16"
  }
 },
 "nbformat": 4,
 "nbformat_minor": 2
}
