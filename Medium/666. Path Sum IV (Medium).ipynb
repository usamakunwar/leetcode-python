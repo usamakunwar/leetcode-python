{
 "cells": [
  {
   "cell_type": "markdown",
   "metadata": {},
   "source": [
    "# 666. Path Sum IV (Medium)\n"
   ]
  },
  {
   "cell_type": "markdown",
   "metadata": {},
   "source": [
    "<div><p>If the depth of a tree is smaller than <code>5</code>, then this tree can be represented by a list of three-digits integers.</p>\n",
    "\n",
    "<p>For each integer in this list:</p>\n",
    "\n",
    "<ol>\n",
    "\t<li>The hundreds digit represents the depth <code>D</code> of this node, <code>1 &lt;= D &lt;= 4.</code></li>\n",
    "\t<li>The tens digit represents the position <code>P</code> of this node in the level it belongs to, <code>1 &lt;= P &lt;= 8</code>. The position is the same as that in a full binary tree.</li>\n",
    "\t<li>The units digit represents the value <code>V</code> of this node, <code>0 &lt;= V &lt;= 9.</code></li>\n",
    "</ol>\n",
    "\n",
    "<p>Given a list of <code>ascending</code> three-digits integers representing a binary tree with the depth smaller than 5, you need to return the sum of all paths from the root towards the leaves.</p>\n",
    "\n",
    "<p>It's guaranteed that the given list represents a valid connected binary tree.</p>\n",
    "\n",
    "<p><b>Example 1:</b></p>\n",
    "\n",
    "<pre><b>Input:</b> [113, 215, 221]\n",
    "<b>Output:</b> 12\n",
    "<b>Explanation:</b> \n",
    "The tree that the list represents is:\n",
    "    3\n",
    "   / \\\n",
    "  5   1\n",
    "\n",
    "The path sum is (3 + 5) + (3 + 1) = 12.\n",
    "</pre>\n",
    "\n",
    "<p>&nbsp;</p>\n",
    "\n",
    "<p><b>Example 2:</b></p>\n",
    "\n",
    "<pre><b>Input:</b> [113, 221]\n",
    "<b>Output:</b> 4\n",
    "<b>Explanation:</b> \n",
    "The tree that the list represents is: \n",
    "    3\n",
    "     \\\n",
    "      1\n",
    "\n",
    "The path sum is (3 + 1) = 4.\n",
    "</pre>\n",
    "</div>"
   ]
  },
  {
   "cell_type": "markdown",
   "metadata": {},
   "source": [
    "## Option 1\n",
    "<p>    \n",
    " <p> <p>\n",
    "Time complexity: O(n)\n",
    "    <br>\n",
    "Space complexity: O(n)\n"
   ]
  },
  {
   "cell_type": "code",
   "execution_count": null,
   "metadata": {
    "scrolled": false
   },
   "outputs": [],
   "source": [
    "class Solution(object):\n",
    "    def pathSum(self, nums):\n",
    "        self.nums = {n/10:n%10 for n in nums}\n",
    "        self.res = 0\n",
    "        def search(n,curr):\n",
    "            p = n%10\n",
    "            lev = n-p+10 #One level down\n",
    "            left = lev + ((p-1)*2)+1  #The pos of its left child\n",
    "            right = left + 1\n",
    "            curr += self.nums[n]\n",
    "            \n",
    "            if left not in self.nums and right not in self.nums: \n",
    "                self.res += curr\n",
    "                return \n",
    "            if left in self.nums: search(left,curr)\n",
    "            if right in self.nums: search(right,curr)\n",
    "            \n",
    "        search(11,0)\n",
    "        \n",
    "        return self.res\n",
    "\n",
    "Solution().pathSum([117,218,317,329])\n"
   ]
  },
  {
   "cell_type": "markdown",
   "metadata": {},
   "source": [
    "#### Result: 32ms (7.50%)"
   ]
  }
 ],
 "metadata": {
  "kernelspec": {
   "display_name": "Python 2",
   "language": "python",
   "name": "python2"
  },
  "language_info": {
   "codemirror_mode": {
    "name": "ipython",
    "version": 2
   },
   "file_extension": ".py",
   "mimetype": "text/x-python",
   "name": "python",
   "nbconvert_exporter": "python",
   "pygments_lexer": "ipython2",
   "version": "2.7.16"
  }
 },
 "nbformat": 4,
 "nbformat_minor": 2
}
