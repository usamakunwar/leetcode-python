{
 "cells": [
  {
   "cell_type": "markdown",
   "metadata": {},
   "source": [
    "# 106. Construct Binary Tree from Inorder and Postorder Traversal (Medium)\n"
   ]
  },
  {
   "cell_type": "markdown",
   "metadata": {},
   "source": [
    "<div><p>Given inorder and postorder traversal of a tree, construct the binary tree.</p>\n",
    "\n",
    "<p><strong>Note:</strong><br>\n",
    "You may assume that duplicates do not exist in the tree.</p>\n",
    "\n",
    "<p>For example, given</p>\n",
    "\n",
    "<pre>inorder =&nbsp;[9,3,15,20,7]\n",
    "postorder = [9,15,7,20,3]</pre>\n",
    "\n",
    "<p>Return the following binary tree:</p>\n",
    "\n",
    "<pre>    3\n",
    "   / \\\n",
    "  9  20\n",
    "    /  \\\n",
    "   15   7\n",
    "</pre>\n",
    "</div>"
   ]
  },
  {
   "cell_type": "markdown",
   "metadata": {},
   "source": [
    "## Option 1\n",
    "\n",
    "Recursive\n",
    "<li>So the last item on the post order array is our first node. We search for that node in inorder, the right of that node is recursed for node.right, the left for node.left\n",
    "    \n",
    "<li>Popping post order gives us the next node to look for\n",
    "<p>\n",
    "Time complexity = O(n^2)\n",
    "<br>\n",
    "Space complexity = O(n)"
   ]
  },
  {
   "cell_type": "code",
   "execution_count": null,
   "metadata": {
    "scrolled": false
   },
   "outputs": [],
   "source": [
    "# Definition for a binary tree node.\n",
    "# class TreeNode:\n",
    "#     def __init__(self, x):\n",
    "#         self.val = x\n",
    "#         self.left = None\n",
    "#         self.right = None\n",
    "\n",
    "class Solution:\n",
    "    def buildTree(self, inorder: List[int], postorder: List[int]) -> TreeNode:\n",
    "        if not inorder or not postorder or len(inorder) != len(postorder) or len(postorder) == 0: return None\n",
    "        def check(array):\n",
    "            i = 0\n",
    "            while i < len(array) and postorder[-1] != array[i]: i += 1\n",
    "            postorder.pop()\n",
    "            node = TreeNode(array[i])\n",
    "            node.right = check(array[i+1:]) if i < len(array)-1  else None\n",
    "            node.left = check(array[:i]) if i > 0 else None\n",
    "            return node\n",
    "        \n",
    "        return check(inorder)"
   ]
  },
  {
   "cell_type": "markdown",
   "metadata": {},
   "source": [
    "#### Result:  700ms (5%)"
   ]
  },
  {
   "cell_type": "markdown",
   "metadata": {},
   "source": [
    "## Option 2\n",
    "\n",
    "The above can be shortened and quickened. If we create a map for inorder, we do not have to look for the index over and over again. <br>Also note that using a map means we cannot change the size of the inorder array, as we have mapped its indexes, so use pointers\n",
    "<p>\n",
    "Time complexity = O(n)\n",
    "<br>\n",
    "Space complexity = O(n)"
   ]
  },
  {
   "cell_type": "code",
   "execution_count": null,
   "metadata": {},
   "outputs": [],
   "source": [
    "class Solution:\n",
    "    def buildTree(self, inorder: List[int], postorder: List[int]) -> TreeNode:        \n",
    "        inorder_map = {val:i for i,val in enumerate(inorder)}\n",
    "        def check(l,r):\n",
    "            if l > r : return None\n",
    "            val = postorder.pop()\n",
    "            i = inorder_map[val]\n",
    "            node = TreeNode(val)\n",
    "            node.right = check(i+1,r)\n",
    "            node.left = check(l,i-1)\n",
    "            return node\n",
    "        \n",
    "        return check(0,len(inorder)-1)"
   ]
  },
  {
   "cell_type": "markdown",
   "metadata": {},
   "source": [
    "#### Result:  56ms (80.821%)"
   ]
  }
 ],
 "metadata": {
  "kernelspec": {
   "display_name": "Python 3",
   "language": "python",
   "name": "python3"
  },
  "language_info": {
   "codemirror_mode": {
    "name": "ipython",
    "version": 3
   },
   "file_extension": ".py",
   "mimetype": "text/x-python",
   "name": "python",
   "nbconvert_exporter": "python",
   "pygments_lexer": "ipython3",
   "version": "3.7.4"
  }
 },
 "nbformat": 4,
 "nbformat_minor": 2
}
