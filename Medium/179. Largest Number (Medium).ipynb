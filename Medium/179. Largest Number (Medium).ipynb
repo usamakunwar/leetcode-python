{
 "cells": [
  {
   "cell_type": "markdown",
   "metadata": {},
   "source": [
    "# 179. Largest Number (Medium)"
   ]
  },
  {
   "cell_type": "markdown",
   "metadata": {},
   "source": [
    "<div><p>Given a list of non negative integers, arrange them such that they form the largest number.</p>\n",
    "\n",
    "<p><strong>Example 1:</strong></p>\n",
    "\n",
    "<pre><strong>Input:</strong> <code>[10,2]</code>\n",
    "<strong>Output:</strong> \"<code>210\"</code></pre>\n",
    "\n",
    "<p><strong>Example 2:</strong></p>\n",
    "\n",
    "<pre><strong>Input:</strong> <code>[3,30,34,5,9]</code>\n",
    "<strong>Output:</strong> \"<code>9534330\"</code>\n",
    "</pre>\n",
    "\n",
    "<p><strong>Note:</strong> The result may be very large, so you need to return a string instead of an integer.</p>\n",
    "</div>"
   ]
  },
  {
   "cell_type": "markdown",
   "metadata": {},
   "source": [
    "## Option 1\n",
    "<p>\n",
    "<li>Turn ints into strings, then use a sort function where x+y > y+x\n",
    "<p>\n",
    "Time complexity = O(nlogn)\n",
    "<br>\n",
    "Space complexity = O(n)"
   ]
  },
  {
   "cell_type": "code",
   "execution_count": null,
   "metadata": {},
   "outputs": [],
   "source": [
    "class Solution(object):\n",
    "    def largestNumber(self, nums):\n",
    "        return ''.join(sorted(map(str,nums), lambda x,y: cmp(x+y,y+x), reverse=True)).lstrip('0') or '0'\n",
    "\n",
    "Solution().largestNumber([0,0,0,0])        "
   ]
  },
  {
   "cell_type": "markdown",
   "metadata": {},
   "source": [
    "#### Result: 24ms (82.88%)"
   ]
  }
 ],
 "metadata": {
  "kernelspec": {
   "display_name": "Python 2",
   "language": "python",
   "name": "python2"
  },
  "language_info": {
   "codemirror_mode": {
    "name": "ipython",
    "version": 2
   },
   "file_extension": ".py",
   "mimetype": "text/x-python",
   "name": "python",
   "nbconvert_exporter": "python",
   "pygments_lexer": "ipython2",
   "version": "2.7.16"
  }
 },
 "nbformat": 4,
 "nbformat_minor": 2
}
