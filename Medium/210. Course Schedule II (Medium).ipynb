{
 "cells": [
  {
   "cell_type": "markdown",
   "metadata": {},
   "source": [
    "# 210. Course Schedule II (Medium)"
   ]
  },
  {
   "cell_type": "markdown",
   "metadata": {},
   "source": [
    "<div><p>There are a total of <em>n</em> courses you have to take, labeled from <code>0</code> to <code>n-1</code>.</p>\n",
    "\n",
    "<p>Some courses may have prerequisites, for example to take course 0 you have to first take course 1, which is expressed as a pair: <code>[0,1]</code></p>\n",
    "\n",
    "<p>Given the total number of courses and a list of prerequisite <strong>pairs</strong>, return the ordering of courses you should take to finish all courses.</p>\n",
    "\n",
    "<p>There may be multiple correct orders, you just need to return one of them. If it is impossible to finish all courses, return an empty array.</p>\n",
    "\n",
    "<p><strong>Example 1:</strong></p>\n",
    "\n",
    "<pre><strong>Input:</strong> 2, [[1,0]] \n",
    "<strong>Output: </strong><code>[0,1]</code>\n",
    "<strong>Explanation:</strong>&nbsp;There are a total of 2 courses to take. To take course 1 you should have finished   \n",
    "&nbsp;            course 0. So the correct course order is <code>[0,1] .</code></pre>\n",
    "\n",
    "<p><strong>Example 2:</strong></p>\n",
    "\n",
    "<pre><strong>Input:</strong> 4, [[1,0],[2,0],[3,1],[3,2]]\n",
    "<strong>Output: </strong><code>[0,1,2,3] or [0,2,1,3]</code>\n",
    "<strong>Explanation:</strong>&nbsp;There are a total of 4 courses to take. To take course 3 you should have finished both     \n",
    "             courses 1 and 2. Both courses 1 and 2 should be taken after you finished course 0. \n",
    "&nbsp;            So one correct course order is <code>[0,1,2,3]</code>. Another correct ordering is <code>[0,2,1,3] .</code></pre>\n",
    "\n",
    "<p><strong>Note:</strong></p>\n",
    "\n",
    "<ol>\n",
    "\t<li>The input prerequisites is a graph represented by <strong>a list of edges</strong>, not adjacency matrices. Read more about <a href=\"https://www.khanacademy.org/computing/computer-science/algorithms/graph-representation/a/representing-graphs\" target=\"_blank\">how a graph is represented</a>.</li>\n",
    "\t<li>You may assume that there are no duplicate edges in the input prerequisites.</li>\n",
    "</ol>\n",
    "</div>"
   ]
  },
  {
   "cell_type": "markdown",
   "metadata": {},
   "source": [
    "## Option 1\n",
    "  <p>DFS\n",
    "    <p>\n",
    "<li>Topological sort - we can satisfy every course only if there is no cycle in a directed graph. i.e. the graph must be acyclic\n",
    "<li>Once we get to the end, we know this node can be satisfied for the entire prerequisite, so its added in seen\n",
    "<p>\n",
    "<p>\n",
    "Time complexity: O(v+e)\n",
    "<br>\n",
    "Space complexity: O(v+e) "
   ]
  },
  {
   "cell_type": "code",
   "execution_count": 4,
   "metadata": {},
   "outputs": [
    {
     "data": {
      "text/plain": [
       "[0, 3, 4, 6, 5, 2, 7, 1]"
      ]
     },
     "execution_count": 4,
     "metadata": {},
     "output_type": "execute_result"
    }
   ],
   "source": [
    "class Solution(object):\n",
    "    def findOrder(self, numCourses, prerequisites):\n",
    "        graph = collections.defaultdict(list)        \n",
    "        for u,v in prerequisites:\n",
    "            graph[u].append(v)\n",
    "        \n",
    "        self.seen = [0]*numCourses\n",
    "        self.path = [0]*numCourses\n",
    "        self.res = []\n",
    "        \n",
    "        def search(i):\n",
    "            if self.path[i]: return False\n",
    "            if self.seen[i]: return True\n",
    "            \n",
    "            self.path[i] = 1\n",
    "            for j in graph[i]:\n",
    "                if not search(j): return False\n",
    "            \n",
    "            self.path[i] = 0\n",
    "            self.seen[i] = 1\n",
    "            self.res.append(i)\n",
    "            return True\n",
    "        \n",
    "        for i in range(numCourses):\n",
    "            if not search(i): return [] #If DFS is false that means there is a cycle so there is no path\n",
    "            \n",
    "        return self.res\n",
    "        \n",
    "Solution().findOrder(8, [[1,2],[1,3],[1,4],[1,7],[2,3],[2,5],[5,6],[6,4],[7,4]])"
   ]
  },
  {
   "cell_type": "markdown",
   "metadata": {},
   "source": [
    "#### Result: 80ms (95.00%)"
   ]
  }
 ],
 "metadata": {
  "kernelspec": {
   "display_name": "Python 2",
   "language": "python",
   "name": "python2"
  },
  "language_info": {
   "codemirror_mode": {
    "name": "ipython",
    "version": 2
   },
   "file_extension": ".py",
   "mimetype": "text/x-python",
   "name": "python",
   "nbconvert_exporter": "python",
   "pygments_lexer": "ipython2",
   "version": "2.7.16"
  }
 },
 "nbformat": 4,
 "nbformat_minor": 2
}
