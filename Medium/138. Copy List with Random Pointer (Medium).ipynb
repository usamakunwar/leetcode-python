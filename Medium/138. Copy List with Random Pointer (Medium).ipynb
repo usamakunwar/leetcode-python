{
 "cells": [
  {
   "cell_type": "markdown",
   "metadata": {},
   "source": [
    "# 138. Copy List with Random Pointer (Medium)"
   ]
  },
  {
   "cell_type": "markdown",
   "metadata": {},
   "source": [
    "<div><p>A linked list is given such that each node contains an additional random pointer which could point to any node in the list or null.</p>\n",
    "\n",
    "<p>Return a <a href=\"https://en.wikipedia.org/wiki/Object_copying#Deep_copy\" target=\"_blank\"><strong>deep copy</strong></a> of the list.</p>\n",
    "\n",
    "<p>The Linked List is represented in the input/output as a list of <code>n</code> nodes. Each node is represented as a pair of <code>[val, random_index]</code> where:</p>\n",
    "\n",
    "<ul>\n",
    "\t<li><code>val</code>: an integer representing <code>Node.val</code></li>\n",
    "\t<li><code>random_index</code>: the index of the node (range from <code>0</code> to <code>n-1</code>) where random pointer points to, or <code>null</code> if it does not point to any node.</li>\n",
    "</ul>\n",
    "\n",
    "<p>&nbsp;</p>\n",
    "<p><strong>Example 1:</strong></p>\n",
    "<img alt=\"\" src=\"https://assets.leetcode.com/uploads/2019/12/18/e1.png\" style=\"width: 700px; height: 142px;\">\n",
    "<pre><strong>Input:</strong> head = [[7,null],[13,0],[11,4],[10,2],[1,0]]\n",
    "<strong>Output:</strong> [[7,null],[13,0],[11,4],[10,2],[1,0]]\n",
    "</pre>\n",
    "\n",
    "<p><strong>Example 2:</strong></p>\n",
    "<img alt=\"\" src=\"https://assets.leetcode.com/uploads/2019/12/18/e2.png\" style=\"width: 700px; height: 114px;\">\n",
    "<pre><strong>Input:</strong> head = [[1,1],[2,1]]\n",
    "<strong>Output:</strong> [[1,1],[2,1]]\n",
    "</pre>\n",
    "\n",
    "<p><strong>Example 3:</strong></p>\n",
    "\n",
    "<p><strong><img alt=\"\" src=\"https://assets.leetcode.com/uploads/2019/12/18/e3.png\" style=\"width: 700px; height: 122px;\"></strong></p>\n",
    "\n",
    "<pre><strong>Input:</strong> head = [[3,null],[3,0],[3,null]]\n",
    "<strong>Output:</strong> [[3,null],[3,0],[3,null]]\n",
    "</pre>\n",
    "\n",
    "<p><strong>Example 4:</strong></p>\n",
    "\n",
    "<pre><strong>Input:</strong> head = []\n",
    "<strong>Output:</strong> []\n",
    "<strong>Explanation:</strong> Given linked list is empty (null pointer), so return null.\n",
    "</pre>\n",
    "\n",
    "<p>&nbsp;</p>\n",
    "<p><strong>Constraints:</strong></p>\n",
    "\n",
    "<ul>\n",
    "\t<li><code>-10000 &lt;= Node.val &lt;= 10000</code></li>\n",
    "\t<li><code>Node.random</code> is null or pointing to a node in the linked list.</li>\n",
    "\t<li>Number of Nodes will not exceed 1000.</li>\n",
    "</ul>\n",
    "</div>"
   ]
  },
  {
   "cell_type": "markdown",
   "metadata": {},
   "source": [
    "## Option 1\n",
    "\n",
    "<p>Recursive\n",
    "    <p>\n",
    "    \n",
    "<li>Lets imaging that we are dealing with a tree with cycles. In that case we will use a seen, (to avoid the cycle, and fetch the pre existing node)\n",
    "<li>Seen can hold the new nodes created, keyed with old node. So we can lookup\n",
    " <p>\n",
    "     <p>\n",
    "Time complexity: O(n)\n",
    "<br>\n",
    "Space complexity: O(n)"
   ]
  },
  {
   "cell_type": "code",
   "execution_count": null,
   "metadata": {},
   "outputs": [],
   "source": [
    "class Solution(object):\n",
    "    def copyRandomList(self, head):\n",
    "        self.seen = {}\n",
    "        \n",
    "        def search(node):\n",
    "            if node in self.seen: return self.seen[node]\n",
    "            \n",
    "            new = Node(node.val)\n",
    "            self.seen[node] = new\n",
    "            \n",
    "            if node.next: new.next = search(node.next)\n",
    "            if node.random: new.random = search(node.random)\n",
    "            \n",
    "            return new            \n",
    "            \n",
    "        return search(head) if head else None\n",
    "        "
   ]
  },
  {
   "cell_type": "markdown",
   "metadata": {},
   "source": [
    "#### Result: 40ms 94.70%)\n"
   ]
  },
  {
   "cell_type": "markdown",
   "metadata": {},
   "source": [
    "## Option 2\n",
    "\n",
    "<p>Iterative\n",
    "    <p>\n",
    "    \n",
    "<li>Similar idea as Option 1, however iteratively\n",
    " <p>\n",
    "     <p>\n",
    "Time complexity: O(n)\n",
    "<br>\n",
    "Space complexity: O(n)"
   ]
  },
  {
   "cell_type": "code",
   "execution_count": null,
   "metadata": {},
   "outputs": [],
   "source": [
    "class Solution(object):\n",
    "    def copyRandomList(self, head):\n",
    "        if not head: return None\n",
    "        \n",
    "        new, old = Node(head.val), head\n",
    "        self.seen = {old:new}\n",
    "        \n",
    "        def get_node(node):\n",
    "            if not node: return None\n",
    "            if node in self.seen: return self.seen[node]\n",
    "            new = Node(node.val)\n",
    "            self.seen[node] = new\n",
    "            return new\n",
    "        \n",
    "        while old:\n",
    "            new.next = get_node(old.next)\n",
    "            new.random = get_node(old.random)\n",
    "            \n",
    "            new = new.next\n",
    "            old = old.next\n",
    "        \n",
    "        return self.seen[head]"
   ]
  },
  {
   "cell_type": "markdown",
   "metadata": {},
   "source": [
    "#### Result: 48ms 69.98%)\n"
   ]
  }
 ],
 "metadata": {
  "kernelspec": {
   "display_name": "Python 2",
   "language": "python",
   "name": "python2"
  },
  "language_info": {
   "codemirror_mode": {
    "name": "ipython",
    "version": 2
   },
   "file_extension": ".py",
   "mimetype": "text/x-python",
   "name": "python",
   "nbconvert_exporter": "python",
   "pygments_lexer": "ipython2",
   "version": "2.7.16"
  }
 },
 "nbformat": 4,
 "nbformat_minor": 2
}
