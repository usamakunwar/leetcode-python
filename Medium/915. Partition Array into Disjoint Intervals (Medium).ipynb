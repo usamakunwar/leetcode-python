{
 "cells": [
  {
   "cell_type": "markdown",
   "metadata": {},
   "source": [
    "# 915. Partition Array into Disjoint Intervals (Medium)\n"
   ]
  },
  {
   "cell_type": "markdown",
   "metadata": {},
   "source": [
    "<div><p>Given an array <code>A</code>, partition it&nbsp;into two (contiguous) subarrays&nbsp;<code>left</code>&nbsp;and <code>right</code>&nbsp;so that:</p>\n",
    "\n",
    "<ul>\n",
    "\t<li>Every element in <code>left</code>&nbsp;is less than or equal to every element in <code>right</code>.</li>\n",
    "\t<li><code>left</code> and <code>right</code> are non-empty.</li>\n",
    "\t<li><code>left</code>&nbsp;has the smallest possible size.</li>\n",
    "</ul>\n",
    "\n",
    "<p>Return the <strong>length</strong> of <code>left</code> after such a partitioning.&nbsp; It is guaranteed that such a partitioning exists.</p>\n",
    "\n",
    "<p>&nbsp;</p>\n",
    "\n",
    "<p><strong>Example 1:</strong></p>\n",
    "\n",
    "<pre><strong>Input: </strong><span id=\"example-input-1-1\">[5,0,3,8,6]</span>\n",
    "<strong>Output: </strong><span id=\"example-output-1\">3</span>\n",
    "<strong>Explanation: </strong>left = [5,0,3], right = [8,6]\n",
    "</pre>\n",
    "\n",
    "<div>\n",
    "<p><strong>Example 2:</strong></p>\n",
    "\n",
    "<pre><strong>Input: </strong><span id=\"example-input-2-1\">[1,1,1,0,6,12]</span>\n",
    "<strong>Output: </strong><span id=\"example-output-2\">4</span>\n",
    "<strong>Explanation: </strong>left = [1,1,1,0], right = [6,12]\n",
    "</pre>\n",
    "\n",
    "<p>&nbsp;</p>\n",
    "</div>\n",
    "\n",
    "<p><strong>Note:</strong></p>\n",
    "\n",
    "<ol>\n",
    "\t<li><code>2 &lt;= A.length&nbsp;&lt;= 30000</code></li>\n",
    "\t<li><code>0 &lt;= A[i] &lt;= 10^6</code></li>\n",
    "\t<li>It is guaranteed there is at least one way to partition <code>A</code> as described.</li>\n",
    "</ol>\n",
    "\n",
    "<div>\n",
    "<div>&nbsp;</div>\n",
    "</div>\n",
    "</div>"
   ]
  },
  {
   "cell_type": "markdown",
   "metadata": {},
   "source": [
    "## Option 1\n",
    "<p>\n",
    "    <li>We start by a window size 1, curr_max keeps a track of the current maximum within this window\n",
    "    <li>To know whether this window is valid, we need to know the min of the remaining array\n",
    "    <li>So we pre calculate the reverse minimums\n",
    "<p>\n",
    "\n",
    "Time complexity: O(n)\n",
    "<br>\n",
    "Space complexity: O(n)"
   ]
  },
  {
   "cell_type": "code",
   "execution_count": null,
   "metadata": {},
   "outputs": [],
   "source": [
    "class Solution(object):\n",
    "    def partitionDisjoint(self, A):\n",
    "        min_arr = [None]*len(A)\n",
    "        curr_min = A[-1]\n",
    "        for i in range(len(A)-1,-1,-1):\n",
    "            curr_min = min(curr_min, A[i])\n",
    "            min_arr[i] = curr_min\n",
    "            \n",
    "        curr_max = A[0]\n",
    "        for i in range(1,len(A)):\n",
    "            if curr_max <= min_arr[i]: return i\n",
    "            curr_max = max(curr_max, A[i])\n",
    "        \n",
    "Solution().partitionDisjoint([1,1,1,0,6,12])\n",
    "        "
   ]
  },
  {
   "cell_type": "markdown",
   "metadata": {},
   "source": [
    "#### Result: 180ms (62.50%)\n"
   ]
  }
 ],
 "metadata": {
  "kernelspec": {
   "display_name": "Python 2",
   "language": "python",
   "name": "python2"
  },
  "language_info": {
   "codemirror_mode": {
    "name": "ipython",
    "version": 2
   },
   "file_extension": ".py",
   "mimetype": "text/x-python",
   "name": "python",
   "nbconvert_exporter": "python",
   "pygments_lexer": "ipython2",
   "version": "2.7.16"
  }
 },
 "nbformat": 4,
 "nbformat_minor": 2
}
