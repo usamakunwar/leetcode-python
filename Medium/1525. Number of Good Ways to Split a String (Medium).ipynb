{
 "cells": [
  {
   "cell_type": "markdown",
   "metadata": {},
   "source": [
    "# 1525. Number of Good Ways to Split a String (Medium)"
   ]
  },
  {
   "cell_type": "markdown",
   "metadata": {},
   "source": [
    "<div><p>You are given a string <code>s</code>, a&nbsp;split is called <em>good</em>&nbsp;if you can split&nbsp;<code>s</code> into 2&nbsp;non-empty strings <code>p</code> and <code>q</code> where its concatenation is equal to <code>s</code> and the number of distinct letters in <code>p</code> and <code>q</code> are the same.</p>\n",
    "\n",
    "<p>Return the number of <em>good</em> splits you can make in <code>s</code>.</p>\n",
    "\n",
    "<p>&nbsp;</p>\n",
    "<p><strong>Example 1:</strong></p>\n",
    "\n",
    "<pre><strong>Input:</strong> s = \"aacaba\"\n",
    "<strong>Output:</strong> 2\n",
    "<strong>Explanation:</strong> There are 5 ways to split <code>\"aacaba\"</code> and 2 of them are good. \n",
    "(\"a\", \"acaba\") Left string and right string contains 1 and 3 different letters respectively.\n",
    "(\"aa\", \"caba\") Left string and right string contains 1 and 3 different letters respectively.\n",
    "(\"aac\", \"aba\") Left string and right string contains 2 and 2 different letters respectively (good split).\n",
    "(\"aaca\", \"ba\") Left string and right string contains 2 and 2 different letters respectively (good split).\n",
    "(\"aacab\", \"a\") Left string and right string contains 3 and 1 different letters respectively.\n",
    "</pre>\n",
    "\n",
    "<p><strong>Example 2:</strong></p>\n",
    "\n",
    "<pre><strong>Input:</strong> s = \"abcd\"\n",
    "<strong>Output:</strong> 1\n",
    "<strong>Explanation: </strong>Split the string as follows (\"ab\", \"cd\").\n",
    "</pre>\n",
    "\n",
    "<p><strong>Example 3:</strong></p>\n",
    "\n",
    "<pre><strong>Input:</strong> s = \"aaaaa\"\n",
    "<strong>Output:</strong> 4\n",
    "<strong>Explanation: </strong>All possible splits are good.</pre>\n",
    "\n",
    "<p><strong>Example 4:</strong></p>\n",
    "\n",
    "<pre><strong>Input:</strong> s = \"acbadbaada\"\n",
    "<strong>Output:</strong> 2\n",
    "</pre>\n",
    "\n",
    "<p>&nbsp;</p>\n",
    "<p><strong>Constraints:</strong></p>\n",
    "\n",
    "<ul>\n",
    "\t<li><code>s</code> contains only lowercase English letters.</li>\n",
    "\t<li><code>1 &lt;= s.length &lt;= 10^5</code></li>\n",
    "</ul></div>"
   ]
  },
  {
   "cell_type": "markdown",
   "metadata": {},
   "source": [
    "## Option 1\n",
    " <p>    <p>\n",
    "\n",
    "<p>\n",
    "            \n",
    "Time complexity: O(n)\n",
    "    <br>\n",
    "Space complexity: O(n)\n",
    "        \n"
   ]
  },
  {
   "cell_type": "code",
   "execution_count": null,
   "metadata": {
    "scrolled": true
   },
   "outputs": [],
   "source": [
    "class Solution(object):\n",
    "    def numSplits(self, S):\n",
    "        c = collections.Counter(S)\n",
    "        m = set()\n",
    "        res = 0\n",
    "        for s in S:\n",
    "            c[s] -= 1\n",
    "            if c[s] == 0: del c[s]\n",
    "            m.add(s)\n",
    "            res += len(m) == len(c)\n",
    "        \n",
    "        return res\n",
    "        \n",
    "Solution().numSplits(\"aacaba\")\n"
   ]
  },
  {
   "cell_type": "markdown",
   "metadata": {},
   "source": [
    "#### Result: 244ms (45.76%)"
   ]
  }
 ],
 "metadata": {
  "kernelspec": {
   "display_name": "Python 2",
   "language": "python",
   "name": "python2"
  },
  "language_info": {
   "codemirror_mode": {
    "name": "ipython",
    "version": 2
   },
   "file_extension": ".py",
   "mimetype": "text/x-python",
   "name": "python",
   "nbconvert_exporter": "python",
   "pygments_lexer": "ipython2",
   "version": "2.7.16"
  }
 },
 "nbformat": 4,
 "nbformat_minor": 2
}
