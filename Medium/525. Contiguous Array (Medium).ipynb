{
 "cells": [
  {
   "cell_type": "markdown",
   "metadata": {},
   "source": [
    "# 525. Contiguous Array (Medium)"
   ]
  },
  {
   "cell_type": "markdown",
   "metadata": {},
   "source": [
    "<div><p>Given a binary array, find the maximum length of a contiguous subarray with equal number of 0 and 1. </p>\n",
    "\n",
    "\n",
    "<p><b>Example 1:</b><br>\n",
    "</p><pre><b>Input:</b> [0,1]\n",
    "<b>Output:</b> 2\n",
    "<b>Explanation:</b> [0, 1] is the longest contiguous subarray with equal number of 0 and 1.\n",
    "</pre>\n",
    "<p></p>\n",
    "\n",
    "<p><b>Example 2:</b><br>\n",
    "</p><pre><b>Input:</b> [0,1,0]\n",
    "<b>Output:</b> 2\n",
    "<b>Explanation:</b> [0, 1] (or [1, 0]) is a longest contiguous subarray with equal number of 0 and 1.\n",
    "</pre>\n",
    "<p></p>\n",
    "\n",
    "<p><b>Note:</b>\n",
    "The length of the given binary array will not exceed 50,000.\n",
    "</p></div>"
   ]
  },
  {
   "cell_type": "markdown",
   "metadata": {},
   "source": [
    "## Option 1\n",
    "<p>\n",
    "    Balancer + Prefix sum\n",
    "    <p> \n",
    "<p>\n",
    "    <p>\n",
    "Time complexity: O(n)\n",
    "    <br>\n",
    "Space complexity: O(n)"
   ]
  },
  {
   "cell_type": "code",
   "execution_count": null,
   "metadata": {
    "scrolled": true
   },
   "outputs": [],
   "source": [
    "class Solution(object):\n",
    "    def findMaxLength(self, nums):\n",
    "        m = {0:-1}\n",
    "        res = balance = 0\n",
    "        \n",
    "        for i in range(len(nums)):\n",
    "            balance += 1 if nums[i] == 1 else -1\n",
    "            if balance in m:\n",
    "                res = max(res, i-m[balance])\n",
    "            m.setdefault(balance,i)\n",
    "        \n",
    "        return res\n",
    "        \n",
    "Solution().findMaxLength([0,1,0,1,1,1,0,0,0,0])\n"
   ]
  },
  {
   "cell_type": "markdown",
   "metadata": {},
   "source": [
    "#### Result:  876ms (39.36%)"
   ]
  }
 ],
 "metadata": {
  "kernelspec": {
   "display_name": "Python 3",
   "language": "python",
   "name": "python3"
  },
  "language_info": {
   "codemirror_mode": {
    "name": "ipython",
    "version": 3
   },
   "file_extension": ".py",
   "mimetype": "text/x-python",
   "name": "python",
   "nbconvert_exporter": "python",
   "pygments_lexer": "ipython3",
   "version": "3.7.4"
  }
 },
 "nbformat": 4,
 "nbformat_minor": 2
}
