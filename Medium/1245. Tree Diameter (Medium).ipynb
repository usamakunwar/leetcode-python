{
 "cells": [
  {
   "cell_type": "markdown",
   "metadata": {},
   "source": [
    "# 1245. Tree Diameter (Medium)"
   ]
  },
  {
   "cell_type": "markdown",
   "metadata": {},
   "source": [
    "<div><p>Given an undirected tree, return&nbsp;its diameter: the number of <strong>edges</strong> in a longest path in that tree.</p>\n",
    "\n",
    "<p>The tree is given as an array&nbsp;of&nbsp;<code>edges</code>&nbsp;where <code>edges[i] = [u, v]</code> is a bidirectional edge between nodes&nbsp;<code>u</code> and <code>v</code>.&nbsp; Each node has&nbsp;labels in the set <code>{0, 1, ..., edges.length}</code>.</p>\n",
    "\n",
    "<p>&nbsp;</p>\n",
    "<p><strong>Example 1:</strong></p>\n",
    "\n",
    "<p><img alt=\"\" src=\"https://assets.leetcode.com/uploads/2019/06/14/1397_example_1.PNG\" style=\"width: 226px; height: 233px;\"></p>\n",
    "\n",
    "<pre><strong>Input:</strong> edges = [[0,1],[0,2]]\n",
    "<strong>Output:</strong> 2\n",
    "<strong>Explanation: </strong>\n",
    "A longest path of the tree is the path 1 - 0 - 2.\n",
    "</pre>\n",
    "\n",
    "<p><strong>Example 2:</strong></p>\n",
    "\n",
    "<p><img alt=\"\" src=\"https://assets.leetcode.com/uploads/2019/06/14/1397_example_2.PNG\" style=\"width: 350px; height: 316px;\"></p>\n",
    "\n",
    "<pre><strong>Input:</strong> edges = [[0,1],[1,2],[2,3],[1,4],[4,5]]\n",
    "<strong>Output:</strong> 4\n",
    "<strong>Explanation: </strong>\n",
    "A longest path of the tree is the path 3 - 2 - 1 - 4 - 5.\n",
    "</pre>\n",
    "\n",
    "<p>&nbsp;</p>\n",
    "<p><strong>Constraints:</strong></p>\n",
    "\n",
    "<ul>\n",
    "\t<li><code>0 &lt;= edges.length &lt;&nbsp;10^4</code></li>\n",
    "\t<li><code>edges[i][0] != edges[i][1]</code></li>\n",
    "\t<li><code>0 &lt;= edges[i][j] &lt;= edges.length</code></li>\n",
    "\t<li>The given edges form an undirected tree.</li>\n",
    "</ul>\n",
    "</div>"
   ]
  },
  {
   "cell_type": "markdown",
   "metadata": {},
   "source": [
    "## Option 1\n",
    "<p>             \n",
    "           \n",
    "Time complexity: O(n)\n",
    "    <br>\n",
    "Space complexity: O(n)\n"
   ]
  },
  {
   "cell_type": "code",
   "execution_count": null,
   "metadata": {},
   "outputs": [],
   "source": [
    "import collections\n",
    "class Solution(object):\n",
    "    def treeDiameter(self, edges):\n",
    "        graph = collections.defaultdict(list)\n",
    "        for u,v in edges:\n",
    "            graph[u].append(v)\n",
    "            graph[v].append(u)\n",
    "        \n",
    "        self.seen, self.res = set(), 0\n",
    "            \n",
    "        def search(i):\n",
    "            self.seen.add(i)\n",
    "            curr = 0\n",
    "            for j in graph[i]:\n",
    "                if j in self.seen: continue\n",
    "                new = search(j)\n",
    "                self.res, curr = max(self.res, curr+new), max(curr,new)\n",
    "            return curr+1\n",
    "            \n",
    "        search(0)\n",
    "        return self.res\n",
    "        \n",
    "Solution().treeDiameter([[0,1],[0,2]])\n",
    "        "
   ]
  },
  {
   "cell_type": "markdown",
   "metadata": {},
   "source": [
    "#### Result: 168ms (54.94%)"
   ]
  }
 ],
 "metadata": {
  "kernelspec": {
   "display_name": "Python 2",
   "language": "python",
   "name": "python2"
  },
  "language_info": {
   "codemirror_mode": {
    "name": "ipython",
    "version": 2
   },
   "file_extension": ".py",
   "mimetype": "text/x-python",
   "name": "python",
   "nbconvert_exporter": "python",
   "pygments_lexer": "ipython2",
   "version": "2.7.16"
  }
 },
 "nbformat": 4,
 "nbformat_minor": 2
}
