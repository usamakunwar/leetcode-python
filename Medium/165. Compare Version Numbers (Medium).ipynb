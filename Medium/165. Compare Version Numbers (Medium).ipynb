{
 "cells": [
  {
   "cell_type": "markdown",
   "metadata": {},
   "source": [
    "# 165. Compare Version Numbers (Medium)\n"
   ]
  },
  {
   "cell_type": "markdown",
   "metadata": {},
   "source": [
    "<div><p>Compare two version numbers <em>version1</em> and <em>version2</em>.<br>\n",
    "If <code><em>version1</em> &gt; <em>version2</em></code> return <code>1;</code>&nbsp;if <code><em>version1</em> &lt; <em>version2</em></code> return <code>-1;</code>otherwise return <code>0</code>.</p>\n",
    "\n",
    "<p>You may assume that the version strings are non-empty and contain only digits and the <code>.</code> character.</p>\n",
    "<p>The <code>.</code> character does not represent a decimal point and is used to separate number sequences.</p>\n",
    "<p>For instance, <code>2.5</code> is not \"two and a half\" or \"half way to version three\", it is the fifth second-level revision of the second first-level revision.</p>\n",
    "<p>You may assume the default revision number for each level of a version number to be <code>0</code>. For example, version number <code>3.4</code> has a revision number of <code>3</code> and <code>4</code> for its first and second level revision number. Its third and fourth level revision number are both <code>0</code>.</p>\n",
    "\n",
    "<p>&nbsp;</p>\n",
    "\n",
    "<p><strong>Example 1:</strong></p>\n",
    "<pre><strong>Input:</strong> <code><em>version1</em></code> = \"0.1\", <code><em>version2</em></code> = \"1.1\"\n",
    "<strong>Output:</strong> -1</pre>\n",
    "\n",
    "<p><strong>Example 2:</strong></p>\n",
    "<pre><strong>Input: </strong><code><em>version1</em></code> = \"1.0.1\", <code><em>version2</em></code> = \"1\"\n",
    "<strong>Output:</strong> 1</pre>\n",
    "\n",
    "<p><strong>Example 3:</strong></p>\n",
    "<pre><strong>Input:</strong> <code><em>version1</em></code> = \"7.5.2.4\", <code><em>version2</em></code> = \"7.5.3\"\n",
    "<strong>Output:</strong> -1</pre>\n",
    "\n",
    "<p><strong>Example 4:</strong></p>\n",
    "<pre><strong>Input:</strong> <code><em>version1</em></code> = \"1.01\", <code><em>version2</em></code> = \"1.001\"\n",
    "<strong>Output:</strong> 0\n",
    "<strong>Explanation:</strong> Ignoring leading zeroes, both “01” and “001\" represent the same number “1”</pre>\n",
    "\n",
    "<p><strong>Example 5:</strong></p>\n",
    "<pre><strong>Input:</strong> <code><em>version1</em></code> = \"1.0\", <code><em>version2</em></code> = \"1.0.0\"\n",
    "<strong>Output:</strong> 0\n",
    "<strong>Explanation:</strong> The first version number does not have a third level revision number, which means its third level revision number is default to \"0\"</pre>\n",
    "\n",
    "<p>&nbsp;</p>\n",
    "\n",
    "<p><strong>Note:</strong></p>\n",
    "<ol>\n",
    "<li>Version strings are composed of numeric strings separated by dots <code>.</code> and this numeric strings <strong>may</strong> have leading zeroes. </li>\n",
    "<li>Version strings do not start or end with dots, and they will not be two consecutive dots.</li>\n",
    "</ol></div>"
   ]
  },
  {
   "cell_type": "markdown",
   "metadata": {},
   "source": [
    "## Option 1\n",
    "<p>\n",
    "      <p>         <p>\n",
    "Time complexity: O(n)\n",
    "    <br>\n",
    "Space complexity: O(n)\n"
   ]
  },
  {
   "cell_type": "code",
   "execution_count": null,
   "metadata": {
    "scrolled": true
   },
   "outputs": [],
   "source": [
    "class Solution(object):\n",
    "    def compareVersion(self, v1, v2):\n",
    "        if not v1 and not v2: return 0\n",
    "        if not v1: return -1\n",
    "        if not v2: return 0\n",
    "        \n",
    "        v1,v2 = v1.split('.'), v2.split('.')\n",
    "        l1,l2 = len(v1),len(v2)\n",
    "        \n",
    "        v1 += ['0']*max(0,l2-l1)\n",
    "        v2 += ['0']*max(0,l1-l2)\n",
    "\n",
    "        \n",
    "        for i in range(len(v1)):\n",
    "            if int(v1[i]) > int(v2[i]): return 1\n",
    "            if int(v1[i]) < int(v2[i]): return -1            \n",
    "        return 0\n",
    "             \n",
    "        \n",
    "Solution().compareVersion(\"\",\"\")     \n"
   ]
  },
  {
   "cell_type": "markdown",
   "metadata": {},
   "source": [
    "#### Result: 20ms (51.51%)"
   ]
  }
 ],
 "metadata": {
  "kernelspec": {
   "display_name": "Python 2",
   "language": "python",
   "name": "python2"
  },
  "language_info": {
   "codemirror_mode": {
    "name": "ipython",
    "version": 2
   },
   "file_extension": ".py",
   "mimetype": "text/x-python",
   "name": "python",
   "nbconvert_exporter": "python",
   "pygments_lexer": "ipython2",
   "version": "2.7.16"
  }
 },
 "nbformat": 4,
 "nbformat_minor": 2
}
