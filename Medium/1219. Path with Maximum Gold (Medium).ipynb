{
 "cells": [
  {
   "cell_type": "markdown",
   "metadata": {},
   "source": [
    "# 1219. Path with Maximum Gold (Medium)"
   ]
  },
  {
   "cell_type": "markdown",
   "metadata": {},
   "source": [
    "<div><p>In a gold mine <code>grid</code>&nbsp;of size <code>m * n</code>,&nbsp;each cell in this mine has an integer representing the amount of gold&nbsp;in that cell,&nbsp;<code>0</code> if it is empty.</p>\n",
    "\n",
    "<p>Return the maximum amount of gold you&nbsp;can collect under the conditions:</p>\n",
    "\n",
    "<ul>\n",
    "\t<li>Every time you are located in a cell you will collect all the gold in that cell.</li>\n",
    "\t<li>From your position you can walk one step to the left, right, up or down.</li>\n",
    "\t<li>You can't visit the same cell more than once.</li>\n",
    "\t<li>Never visit a cell with&nbsp;<code>0</code> gold.</li>\n",
    "\t<li>You can start and stop collecting gold from&nbsp;<strong>any </strong>position in the grid that has some gold.</li>\n",
    "</ul>\n",
    "\n",
    "<p>&nbsp;</p>\n",
    "<p><strong>Example 1:</strong></p>\n",
    "\n",
    "<pre><strong>Input:</strong> grid = [[0,6,0],[5,8,7],[0,9,0]]\n",
    "<strong>Output:</strong> 24\n",
    "<strong>Explanation:</strong>\n",
    "[[0,6,0],\n",
    " [5,8,7],\n",
    " [0,9,0]]\n",
    "Path to get the maximum gold, 9 -&gt; 8 -&gt; 7.\n",
    "</pre>\n",
    "\n",
    "<p><strong>Example 2:</strong></p>\n",
    "\n",
    "<pre><strong>Input:</strong> grid = [[1,0,7],[2,0,6],[3,4,5],[0,3,0],[9,0,20]]\n",
    "<strong>Output:</strong> 28\n",
    "<strong>Explanation:</strong>\n",
    "[[1,0,7],\n",
    " [2,0,6],\n",
    " [3,4,5],\n",
    " [0,3,0],\n",
    " [9,0,20]]\n",
    "Path to get the maximum gold, 1 -&gt; 2 -&gt; 3 -&gt; 4 -&gt; 5 -&gt; 6 -&gt; 7.\n",
    "</pre>\n",
    "\n",
    "<p>&nbsp;</p>\n",
    "<p><strong>Constraints:</strong></p>\n",
    "\n",
    "<ul>\n",
    "\t<li><code>1 &lt;= grid.length,&nbsp;grid[i].length &lt;= 15</code></li>\n",
    "\t<li><code>0 &lt;= grid[i][j] &lt;= 100</code></li>\n",
    "\t<li>There are at most <strong>25&nbsp;</strong>cells containing gold.</li>\n",
    "</ul></div>"
   ]
  },
  {
   "cell_type": "markdown",
   "metadata": {},
   "source": [
    "## Option 1\n",
    "<p>\n",
    "    DPS + Backtrack. Ensure to visit all possible paths and compare max, AND the state should be changed back to normal for the next check, so use a temp value\n"
   ]
  },
  {
   "cell_type": "code",
   "execution_count": null,
   "metadata": {
    "scrolled": true
   },
   "outputs": [],
   "source": [
    "class Solution(object):\n",
    "    def getMaximumGold(self, grid):\n",
    "        li,lj,res = len(grid), len(grid[0]),0\n",
    "        def search(i,j,curr): \n",
    "            curr += grid[i][j]\n",
    "            tmp, grid[i][j] = grid[i][j], 0\n",
    "            max_path = curr\n",
    "            for ni,nj in ((i+1,j),(i,j+1),(i-1,j),(i,j-1)):\n",
    "                if ni >= 0 and ni < li and nj >= 0 and nj < lj and grid[ni][nj] > 0:\n",
    "                    max_path = max(max_path, search(ni,nj,curr))\n",
    "            grid[i][j] = tmp\n",
    "            return max_path\n",
    "\n",
    "        for i in range(li):\n",
    "            for j in range(lj):\n",
    "                if grid[i][j] > 0:\n",
    "                    res = max(res, search(i,j,0))\n",
    "        return res\n",
    "    \n",
    "Solution().getMaximumGold([[1,0,7],[2,0,6],[3,4,5],[0,3,0],[9,0,20]])"
   ]
  },
  {
   "cell_type": "markdown",
   "metadata": {},
   "source": [
    "#### Result: 952ms (92.48%)"
   ]
  }
 ],
 "metadata": {
  "kernelspec": {
   "display_name": "Python 2",
   "language": "python",
   "name": "python2"
  },
  "language_info": {
   "codemirror_mode": {
    "name": "ipython",
    "version": 2
   },
   "file_extension": ".py",
   "mimetype": "text/x-python",
   "name": "python",
   "nbconvert_exporter": "python",
   "pygments_lexer": "ipython2",
   "version": "2.7.16"
  }
 },
 "nbformat": 4,
 "nbformat_minor": 2
}
