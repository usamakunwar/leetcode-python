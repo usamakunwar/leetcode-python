{
 "cells": [
  {
   "cell_type": "markdown",
   "metadata": {},
   "source": [
    "# 1415. The k-th Lexicographical String of All Happy Strings of Length n (Medium)"
   ]
  },
  {
   "cell_type": "markdown",
   "metadata": {},
   "source": [
    "<div><p>A <strong>happy string</strong> is a string that:</p>\n",
    "\n",
    "<ul>\n",
    "\t<li>consists only of letters of the set <code>['a', 'b', 'c']</code>.</li>\n",
    "\t<li><code>s[i] != s[i + 1]</code>&nbsp;for all values of <code>i</code> from <code>1</code> to <code>s.length - 1</code> (string is 1-indexed).</li>\n",
    "</ul>\n",
    "\n",
    "<p>For example, strings <strong>\"abc\", \"ac\", \"b\"</strong> and <strong>\"abcbabcbcb\"</strong> are all happy strings and strings <strong>\"aa\", \"baa\"</strong> and&nbsp;<strong>\"ababbc\"</strong> are not happy strings.</p>\n",
    "\n",
    "<p>Given two integers <code>n</code> and <code>k</code>, consider a list of all happy strings of length <code>n</code> sorted in lexicographical order.</p>\n",
    "\n",
    "<p>Return <em>the kth string</em> of this list or return an <strong>empty string</strong>&nbsp;if there are less than <code>k</code> happy strings of length <code>n</code>.</p>\n",
    "\n",
    "<p>&nbsp;</p>\n",
    "<p><strong>Example 1:</strong></p>\n",
    "\n",
    "<pre><strong>Input:</strong> n = 1, k = 3\n",
    "<strong>Output:</strong> \"c\"\n",
    "<strong>Explanation:</strong> The list [\"a\", \"b\", \"c\"] contains all happy strings of length 1. The third string is \"c\".\n",
    "</pre>\n",
    "\n",
    "<p><strong>Example 2:</strong></p>\n",
    "\n",
    "<pre><strong>Input:</strong> n = 1, k = 4\n",
    "<strong>Output:</strong> \"\"\n",
    "<strong>Explanation:</strong> There are only 3 happy strings of length 1.\n",
    "</pre>\n",
    "\n",
    "<p><strong>Example 3:</strong></p>\n",
    "\n",
    "<pre><strong>Input:</strong> n = 3, k = 9\n",
    "<strong>Output:</strong> \"cab\"\n",
    "<strong>Explanation:</strong> There are 12 different happy string of length 3 [\"aba\", \"abc\", \"aca\", \"acb\", \"bab\", \"bac\", \"bca\", \"bcb\", \"cab\", \"cac\", \"cba\", \"cbc\"]. You will find the 9th string = \"cab\"\n",
    "</pre>\n",
    "\n",
    "<p><strong>Example 4:</strong></p>\n",
    "\n",
    "<pre><strong>Input:</strong> n = 2, k = 7\n",
    "<strong>Output:</strong> \"\"\n",
    "</pre>\n",
    "\n",
    "<p><strong>Example 5:</strong></p>\n",
    "\n",
    "<pre><strong>Input:</strong> n = 10, k = 100\n",
    "<strong>Output:</strong> \"abacbabacb\"\n",
    "</pre>\n",
    "\n",
    "<p>&nbsp;</p>\n",
    "<p><strong>Constraints:</strong></p>\n",
    "\n",
    "<ul>\n",
    "\t<li><code>1 &lt;= n &lt;= 10</code></li>\n",
    "\t<li><code>1 &lt;= k &lt;= 100</code></li>\n",
    "</ul>\n",
    "\n",
    "<div id=\"vidyowebrtcscreenshare_is_installed\">&nbsp;</div></div>"
   ]
  },
  {
   "cell_type": "markdown",
   "metadata": {},
   "source": [
    "## Option 1\n",
    "<p>\n",
    "    DFS\n",
    "<p>          \n",
    "           \n",
    "           \n",
    "Time complexity: O(2^n)\n",
    "    <br>\n",
    "Space complexity: O(n)\n"
   ]
  },
  {
   "cell_type": "code",
   "execution_count": null,
   "metadata": {},
   "outputs": [],
   "source": [
    "class Solution(object):\n",
    "    def getHappyString(self, n, k):\n",
    "        self.k = k\n",
    "        self.res = ''\n",
    "        def search(curr, lev):\n",
    "            if lev == n:\n",
    "                self.k -= 1\n",
    "                if self.k == 0:\n",
    "                    self.res = curr\n",
    "                return\n",
    "                    \n",
    "            for ch in 'abc':\n",
    "                if curr and ch == curr[-1]: continue\n",
    "                search(curr+ch, lev+1)\n",
    "            \n",
    "        search('', 0)\n",
    "        return self.res\n",
    "        \n",
    "Solution().getHappyString(10,100)\n",
    "        "
   ]
  },
  {
   "cell_type": "markdown",
   "metadata": {},
   "source": [
    "#### Result: 160ms (26.32%)"
   ]
  },
  {
   "cell_type": "markdown",
   "metadata": {},
   "source": [
    "## Option 1\n",
    "<p>\n",
    "    Simulate binary search\n",
    "<p>          \n",
    "           \n",
    "           \n",
    "Time complexity: O(n)\n",
    "    <br>\n",
    "Space complexity: O(1)\n"
   ]
  },
  {
   "cell_type": "code",
   "execution_count": null,
   "metadata": {},
   "outputs": [],
   "source": [
    "class Solution(object):\n",
    "    def getHappyString(self, n, k):\n",
    "        total = 2**(n-1)\n",
    "        \n",
    "        key = (k-1)/total\n",
    "        if key > 2: return ''\n",
    "        \n",
    "        res = chr(ord('a')+key)\n",
    "        s = ['bc','ac','ab']\n",
    "        l = (key*total)+1\n",
    "        r = l+total-1\n",
    "\n",
    "        while l < r:\n",
    "            mid = (l+r)/2\n",
    "            if mid < k:\n",
    "                l, i = mid + 1, 1\n",
    "            else:\n",
    "                r, i = mid , 0\n",
    "\n",
    "            res += s[key][i]\n",
    "            key = ord(s[key][i])-ord('a')\n",
    "        return res  \n",
    "        \n",
    "Solution().getHappyString(3,9)\n",
    "        "
   ]
  },
  {
   "cell_type": "markdown",
   "metadata": {},
   "source": [
    "#### Result: 24ms (90.38%)\n"
   ]
  }
 ],
 "metadata": {
  "kernelspec": {
   "display_name": "Python 2",
   "language": "python",
   "name": "python2"
  },
  "language_info": {
   "codemirror_mode": {
    "name": "ipython",
    "version": 2
   },
   "file_extension": ".py",
   "mimetype": "text/x-python",
   "name": "python",
   "nbconvert_exporter": "python",
   "pygments_lexer": "ipython2",
   "version": "2.7.16"
  }
 },
 "nbformat": 4,
 "nbformat_minor": 2
}
