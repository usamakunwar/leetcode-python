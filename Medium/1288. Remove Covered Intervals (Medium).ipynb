{
 "cells": [
  {
   "cell_type": "markdown",
   "metadata": {},
   "source": [
    "# 1288. Remove Covered Intervals (Medium)"
   ]
  },
  {
   "cell_type": "markdown",
   "metadata": {},
   "source": [
    "<div><p>Given a list of intervals, remove all intervals that are covered by another interval in the list.&nbsp;Interval <code>[a,b)</code> is covered by&nbsp;interval <code>[c,d)</code> if and only if <code>c &lt;= a</code> and <code>b &lt;= d</code>.</p>\n",
    "\n",
    "<p>After doing so, return the number of remaining intervals.</p>\n",
    "\n",
    "<p>&nbsp;</p>\n",
    "<p><strong>Example 1:</strong></p>\n",
    "\n",
    "<pre><strong>Input:</strong> intervals = [[1,4],[3,6],[2,8]]\n",
    "<strong>Output:</strong> 2\n",
    "<b>Explanation: </b>Interval [3,6] is covered by [2,8], therefore it is removed.\n",
    "</pre>\n",
    "\n",
    "<p>&nbsp;</p>\n",
    "<p><strong>Constraints:</strong></p>\n",
    "\n",
    "<ul>\n",
    "\t<li><code>1 &lt;= intervals.length &lt;= 1000</code></li>\n",
    "\t<li><code>0 &lt;= intervals[i][0] &lt;&nbsp;intervals[i][1] &lt;= 10^5</code></li>\n",
    "\t<li><code>intervals[i] != intervals[j]</code>&nbsp;for all&nbsp;<code>i != j</code></li>\n",
    "</ul>\n",
    "</div>"
   ]
  },
  {
   "cell_type": "markdown",
   "metadata": {},
   "source": [
    "## Option 1\n",
    "<p>             \n",
    "           \n",
    "Time complexity: O(nlogn)\n",
    "    <br>\n",
    "Space complexity: O(n)\n"
   ]
  },
  {
   "cell_type": "code",
   "execution_count": null,
   "metadata": {},
   "outputs": [],
   "source": [
    "class Solution(object):\n",
    "    def removeCoveredIntervals(self, intervals):\n",
    "        intervals.sort()\n",
    "        stack = []\n",
    "        for a,b in intervals:\n",
    "            if stack and a <= stack[-1][0] and b >= stack[-1][1]:\n",
    "                stack.pop()\n",
    "            if stack and a >= stack[-1][0] and b <= stack[-1][1]:\n",
    "                continue\n",
    "            stack.append((a,b))\n",
    "        \n",
    "        return len(stack)\n",
    "            \n",
    "Solution().removeCoveredIntervals([[1,6],[4,6],[4,8]])\n"
   ]
  },
  {
   "cell_type": "markdown",
   "metadata": {},
   "source": [
    "#### Result: 84ms (51.21%)"
   ]
  }
 ],
 "metadata": {
  "kernelspec": {
   "display_name": "Python 2",
   "language": "python",
   "name": "python2"
  },
  "language_info": {
   "codemirror_mode": {
    "name": "ipython",
    "version": 2
   },
   "file_extension": ".py",
   "mimetype": "text/x-python",
   "name": "python",
   "nbconvert_exporter": "python",
   "pygments_lexer": "ipython2",
   "version": "2.7.16"
  }
 },
 "nbformat": 4,
 "nbformat_minor": 2
}
