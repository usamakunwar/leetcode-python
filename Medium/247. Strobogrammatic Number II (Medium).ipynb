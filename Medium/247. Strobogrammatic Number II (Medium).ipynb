{
 "cells": [
  {
   "cell_type": "markdown",
   "metadata": {},
   "source": [
    "# 247. Strobogrammatic Number II Medium)"
   ]
  },
  {
   "cell_type": "markdown",
   "metadata": {},
   "source": [
    "<div><p>A strobogrammatic number is a number that looks the same when rotated 180 degrees (looked at upside down).</p>\n",
    "\n",
    "<p>Find all strobogrammatic numbers that are of length = n.</p>\n",
    "\n",
    "<p><b>Example:</b></p>\n",
    "\n",
    "<pre><b>Input:</b>  n = 2\n",
    "<b>Output:</b> <code>[\"11\",\"69\",\"88\",\"96\"]</code>\n",
    "</pre>\n",
    "</div>"
   ]
  },
  {
   "cell_type": "markdown",
   "metadata": {},
   "source": [
    "## Option 1\n",
    "<p>\n",
    "<li>Create all permutations for half of N\n",
    "<li>The result is each permuation, added with its reversed. However replace 6 with 9\n",
    "<li>For odd N, we need can have 0,1,8 in the middle\n"
   ]
  },
  {
   "cell_type": "code",
   "execution_count": null,
   "metadata": {
    "scrolled": true
   },
   "outputs": [],
   "source": [
    "class Solution(object):\n",
    "    def findStrobogrammatic(self, N):\n",
    "        \n",
    "        def search(n, curr):\n",
    "            if n == N/2: \n",
    "                rev = curr.replace('6','*').replace('9','6').replace('*','9')[::-1]\n",
    "                if N%2:\n",
    "                    return [curr+i+rev for i in ('0','1','8')]\n",
    "                else:\n",
    "                    return [curr+rev]\n",
    "                    \n",
    "            res = []\n",
    "            for i in ['1','6','8','9'] if not n else ['0','1','6','8','9']:\n",
    "                res += search(n+1, curr+i)\n",
    "            return res\n",
    "        \n",
    "        return search(0,'')\n",
    "        \n",
    "\n",
    "Solution().findStrobogrammatic(3)"
   ]
  },
  {
   "cell_type": "markdown",
   "metadata": {},
   "source": [
    "#### Result: 112ms (50.90%)"
   ]
  }
 ],
 "metadata": {
  "kernelspec": {
   "display_name": "Python 2",
   "language": "python",
   "name": "python2"
  },
  "language_info": {
   "codemirror_mode": {
    "name": "ipython",
    "version": 2
   },
   "file_extension": ".py",
   "mimetype": "text/x-python",
   "name": "python",
   "nbconvert_exporter": "python",
   "pygments_lexer": "ipython2",
   "version": "2.7.16"
  }
 },
 "nbformat": 4,
 "nbformat_minor": 2
}
