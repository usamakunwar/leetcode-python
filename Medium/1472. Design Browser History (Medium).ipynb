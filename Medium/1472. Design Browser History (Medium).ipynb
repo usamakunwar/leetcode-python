{
 "cells": [
  {
   "cell_type": "markdown",
   "metadata": {},
   "source": [
    "# 1472. Design Browser History (Medium)\n"
   ]
  },
  {
   "cell_type": "markdown",
   "metadata": {},
   "source": [
    "<div><p>You have a <strong>browser</strong> of one tab where you start on the <code>homepage</code> and you can visit another <code>url</code>, get back in the history number of <code>steps</code> or move forward in the history number of <code>steps</code>.</p>\n",
    "\n",
    "<p>Implement the <code>BrowserHistory</code> class:</p>\n",
    "\n",
    "<ul>\n",
    "\t<li><code>BrowserHistory(string homepage)</code> Initializes the object with the <code>homepage</code>&nbsp;of the browser.</li>\n",
    "\t<li><code>void visit(string url)</code>&nbsp;visits <code>url</code> from the current page. It clears up all the forward history.</li>\n",
    "\t<li><code>string back(int steps)</code>&nbsp;Move <code>steps</code> back in history. If you can only return <code>x</code> steps in the history and <code>steps &gt; x</code>, you will&nbsp;return only <code>x</code> steps. Return the current <code>url</code>&nbsp;after moving back in history <strong>at most</strong> <code>steps</code>.</li>\n",
    "\t<li><code>string forward(int steps)</code>&nbsp;Move <code>steps</code> forward in history. If you can only forward <code>x</code> steps in the history and <code>steps &gt; x</code>, you will&nbsp;forward only&nbsp;<code>x</code> steps. Return the current <code>url</code>&nbsp;after forwarding in history <strong>at most</strong> <code>steps</code>.</li>\n",
    "</ul>\n",
    "\n",
    "<p>&nbsp;</p>\n",
    "<p><strong>Example:</strong></p>\n",
    "\n",
    "<pre><b>Input:</b>\n",
    "[\"BrowserHistory\",\"visit\",\"visit\",\"visit\",\"back\",\"back\",\"forward\",\"visit\",\"forward\",\"back\",\"back\"]\n",
    "[[\"leetcode.com\"],[\"google.com\"],[\"facebook.com\"],[\"youtube.com\"],[1],[1],[1],[\"linkedin.com\"],[2],[2],[7]]\n",
    "<b>Output:</b>\n",
    "[null,null,null,null,\"facebook.com\",\"google.com\",\"facebook.com\",null,\"linkedin.com\",\"google.com\",\"leetcode.com\"]\n",
    "\n",
    "<b>Explanation:</b>\n",
    "BrowserHistory browserHistory = new BrowserHistory(\"leetcode.com\");\n",
    "browserHistory.visit(\"google.com\");       // You are in \"leetcode.com\". Visit \"google.com\"\n",
    "browserHistory.visit(\"facebook.com\");     // You are in \"google.com\". Visit \"facebook.com\"\n",
    "browserHistory.visit(\"youtube.com\");      // You are in \"facebook.com\". Visit \"youtube.com\"\n",
    "browserHistory.back(1);                   // You are in \"youtube.com\", move back to \"facebook.com\" return \"facebook.com\"\n",
    "browserHistory.back(1);                   // You are in \"facebook.com\", move back to \"google.com\" return \"google.com\"\n",
    "browserHistory.forward(1);                // You are in \"google.com\", move forward to \"facebook.com\" return \"facebook.com\"\n",
    "browserHistory.visit(\"linkedin.com\");     // You are in \"facebook.com\". Visit \"linkedin.com\"\n",
    "browserHistory.forward(2);                // You are in \"linkedin.com\", you cannot move forward any steps.\n",
    "browserHistory.back(2);                   // You are in \"linkedin.com\", move back two steps to \"facebook.com\" then to \"google.com\". return \"google.com\"\n",
    "browserHistory.back(7);                   // You are in \"google.com\", you can move back only one step to \"leetcode.com\". return \"leetcode.com\"\n",
    "</pre>\n",
    "\n",
    "<p>&nbsp;</p>\n",
    "<p><strong>Constraints:</strong></p>\n",
    "\n",
    "<ul>\n",
    "\t<li><code>1 &lt;= homepage.length &lt;= 20</code></li>\n",
    "\t<li><code>1 &lt;= url.length &lt;= 20</code></li>\n",
    "\t<li><code>1 &lt;= steps &lt;= 100</code></li>\n",
    "\t<li><code>homepage</code> and <code>url</code> consist of&nbsp; '.' or lower case English letters.</li>\n",
    "\t<li>At most <code>5000</code>&nbsp;calls will be made to <code>visit</code>, <code>back</code>, and <code>forward</code>.</li>\n",
    "</ul></div>"
   ]
  },
  {
   "cell_type": "markdown",
   "metadata": {},
   "source": [
    "## Option 1\n",
    "<p>\n",
    "    Don't really need to remove the forward history, can keep an end pointer\n",
    "      <p>         <p>\n",
    "Time complexity: O(1)\n",
    "    <br>\n",
    "Space complexity: O(1)\n"
   ]
  },
  {
   "cell_type": "code",
   "execution_count": null,
   "metadata": {
    "scrolled": false
   },
   "outputs": [],
   "source": [
    "class BrowserHistory(object):\n",
    "\n",
    "    def __init__(self, homepage):\n",
    "        self.arr = [homepage]\n",
    "        self.curr = self.end = 0\n",
    "\n",
    "    def visit(self, url):\n",
    "        self.curr += 1\n",
    "        if self.curr == len(self.arr):\n",
    "            self.arr.append(url)\n",
    "        else:\n",
    "            self.arr[self.curr] = url\n",
    "        self.end = self.curr\n",
    "\n",
    "    def back(self, steps):\n",
    "        self.curr = max(0,self.curr-steps)\n",
    "        return self.arr[self.curr]            \n",
    "        \n",
    "\n",
    "    def forward(self, steps):\n",
    "        self.curr = min(self.end, self.curr+steps)\n",
    "        return self.arr[self.curr]\n",
    "        "
   ]
  },
  {
   "cell_type": "markdown",
   "metadata": {},
   "source": [
    "#### Result: 220ms (100.00%)"
   ]
  }
 ],
 "metadata": {
  "kernelspec": {
   "display_name": "Python 2",
   "language": "python",
   "name": "python2"
  },
  "language_info": {
   "codemirror_mode": {
    "name": "ipython",
    "version": 2
   },
   "file_extension": ".py",
   "mimetype": "text/x-python",
   "name": "python",
   "nbconvert_exporter": "python",
   "pygments_lexer": "ipython2",
   "version": "2.7.16"
  }
 },
 "nbformat": 4,
 "nbformat_minor": 2
}
