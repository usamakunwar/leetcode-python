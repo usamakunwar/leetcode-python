{
 "cells": [
  {
   "cell_type": "markdown",
   "metadata": {},
   "source": [
    "# 73. Set Matrix Zeroes (Medium)\n"
   ]
  },
  {
   "cell_type": "markdown",
   "metadata": {},
   "source": [
    "<div><p>Given a <em>m</em> x <em>n</em> matrix, if an element is 0, set its entire row and column to 0. Do it <a href=\"https://en.wikipedia.org/wiki/In-place_algorithm\" target=\"_blank\"><strong>in-place</strong></a>.</p>\n",
    "\n",
    "<p><strong>Example 1:</strong></p>\n",
    "\n",
    "<pre><strong>Input:</strong> \n",
    "[\n",
    "&nbsp; [1,1,1],\n",
    "&nbsp; [1,0,1],\n",
    "&nbsp; [1,1,1]\n",
    "]\n",
    "<strong>Output:</strong> \n",
    "[\n",
    "&nbsp; [1,0,1],\n",
    "&nbsp; [0,0,0],\n",
    "&nbsp; [1,0,1]\n",
    "]\n",
    "</pre>\n",
    "\n",
    "<p><strong>Example 2:</strong></p>\n",
    "\n",
    "<pre><strong>Input:</strong> \n",
    "[\n",
    "&nbsp; [0,1,2,0],\n",
    "&nbsp; [3,4,5,2],\n",
    "&nbsp; [1,3,1,5]\n",
    "]\n",
    "<strong>Output:</strong> \n",
    "[\n",
    "&nbsp; [0,0,0,0],\n",
    "&nbsp; [0,4,5,0],\n",
    "&nbsp; [0,3,1,0]\n",
    "]\n",
    "</pre>\n",
    "\n",
    "<p><strong>Follow up:</strong></p>\n",
    "\n",
    "<ul>\n",
    "\t<li>A straight forward solution using O(<em>m</em><em>n</em>) space is probably a bad idea.</li>\n",
    "\t<li>A simple improvement uses O(<em>m</em> + <em>n</em>) space, but still not the best solution.</li>\n",
    "\t<li>Could you devise a constant space solution?</li>\n",
    "</ul>\n",
    "</div>"
   ]
  },
  {
   "cell_type": "markdown",
   "metadata": {},
   "source": [
    "## Option 1\n",
    "<p>\n",
    "Use maps to flag rows and cols that have to be set to 0<br>\n",
    "Once all the flags are done, re iterate changing the values to 0 (if the col or row is 0)\n",
    "<p>\n",
    "Time complexity = O(mn)\n",
    "<br>\n",
    "Space complexity = O(m+n)"
   ]
  },
  {
   "cell_type": "code",
   "execution_count": 8,
   "metadata": {
    "scrolled": true
   },
   "outputs": [
    {
     "name": "stdout",
     "output_type": "stream",
     "text": [
      "[[0, 0, 0, 0], [0, 4, 5, 0], [0, 3, 1, 0]]\n"
     ]
    }
   ],
   "source": [
    "class Solution(object):\n",
    "    def setZeroes(self, matrix):\n",
    "        rows,cols,li,lj = set(),set(),len(matrix),len(matrix[0])\n",
    "        for i in range(li):\n",
    "            for j in range(lj):\n",
    "                if matrix[i][j] == 0:\n",
    "                    rows.add(i)\n",
    "                    cols.add(j)\n",
    "        for i in range(li):\n",
    "            for j in range(lj):\n",
    "                if i in rows or j in cols:\n",
    "                    matrix[i][j] = 0\n",
    "        print(matrix)\n",
    "\n",
    "Solution().setZeroes([[0,1,2,0],[3,4,5,2],[1,3,1,5]])  "
   ]
  },
  {
   "cell_type": "markdown",
   "metadata": {},
   "source": [
    "#### Result: 144ms (15.68%)"
   ]
  },
  {
   "cell_type": "markdown",
   "metadata": {},
   "source": [
    "## Option 2\n",
    "<p>\n",
    "<li>In order to get constant space, we can use the first row and first column to store the flags.\n",
    "<li>However, the first row and col also need flagging, so m[0][0] can be used to flag row 0, and we need an extra variable (first_col) to store the flag for col 0\n",
    "<li>Once all flags are set, do the internal changing first (excluding row 0 col 0) (if we included these, the changed values would be used as flags for the remaining!)\n",
    "<li>End with changing values for row 0 and col 0\n",
    "<p>\n",
    "    <p>\n",
    "Time complexity = O(mn)\n",
    "<br>\n",
    "Space complexity = O(1)"
   ]
  },
  {
   "cell_type": "code",
   "execution_count": 25,
   "metadata": {},
   "outputs": [
    {
     "name": "stdout",
     "output_type": "stream",
     "text": [
      "[[1, 0, 1], [0, 0, 0], [1, 0, 1]]\n"
     ]
    }
   ],
   "source": [
    "class Solution(object):\n",
    "    def setZeroes(self, m):\n",
    "        first_col,li,lj = False,len(m),len(m[0])\n",
    "        for i in range(li):\n",
    "            if m[i][0] == 0: first_col = True\n",
    "            for j in range(1,lj):\n",
    "                if m[i][j] == 0:\n",
    "                    m[0][j],m[i][0] = 0,0\n",
    "\n",
    "        for i in range(1,li):\n",
    "            for j in range(1,lj):\n",
    "                if not m[0][j] or not m[i][0]:\n",
    "                    m[i][j] = 0\n",
    "        \n",
    "        if not m[0][0]:\n",
    "            for j in range(1,lj):\n",
    "                m[0][j] = 0\n",
    "        \n",
    "        if first_col:\n",
    "            for i in range(li):\n",
    "                m[i][0] = 0\n",
    "\n",
    "        print(m)\n",
    "                \n",
    "Solution().setZeroes([[1,1,1],[1,0,1],[1,1,1]])  "
   ]
  },
  {
   "cell_type": "markdown",
   "metadata": {},
   "source": [
    "#### Result: 240ms (5.05%)"
   ]
  }
 ],
 "metadata": {
  "kernelspec": {
   "display_name": "Python 3",
   "language": "python",
   "name": "python3"
  },
  "language_info": {
   "codemirror_mode": {
    "name": "ipython",
    "version": 3
   },
   "file_extension": ".py",
   "mimetype": "text/x-python",
   "name": "python",
   "nbconvert_exporter": "python",
   "pygments_lexer": "ipython3",
   "version": "3.7.4"
  }
 },
 "nbformat": 4,
 "nbformat_minor": 2
}
