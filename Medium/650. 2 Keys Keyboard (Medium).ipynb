{
 "cells": [
  {
   "cell_type": "markdown",
   "metadata": {},
   "source": [
    "# 650. 2 Keys Keyboard (Medium)"
   ]
  },
  {
   "cell_type": "markdown",
   "metadata": {},
   "source": [
    "<div><p>Initially on a notepad only one character 'A' is present. You can perform two operations on this notepad for each step:</p>\n",
    "\n",
    "<ol>\n",
    "\t<li><code>Copy All</code>: You can copy all the characters present on the notepad (partial copy is not allowed).</li>\n",
    "\t<li><code>Paste</code>: You can paste the characters which are copied <b>last time</b>.</li>\n",
    "</ol>\n",
    "\n",
    "<p>&nbsp;</p>\n",
    "\n",
    "<p>Given a number <code>n</code>. You have to get <b>exactly</b> <code>n</code> 'A' on the notepad by performing the minimum number of steps permitted. Output the minimum number of steps to get <code>n</code> 'A'.</p>\n",
    "\n",
    "<p><b>Example 1:</b></p>\n",
    "\n",
    "<pre><b>Input:</b> 3\n",
    "<b>Output:</b> 3\n",
    "<b>Explanation:</b>\n",
    "Intitally, we have one character 'A'.\n",
    "In step 1, we use <b>Copy All</b> operation.\n",
    "In step 2, we use <b>Paste</b> operation to get 'AA'.\n",
    "In step 3, we use <b>Paste</b> operation to get 'AAA'.\n",
    "</pre>\n",
    "\n",
    "<p>&nbsp;</p>\n",
    "\n",
    "<p><b>Note:</b></p>\n",
    "\n",
    "<ol>\n",
    "\t<li>The <code>n</code> will be in the range [1, 1000].</li>\n",
    "</ol>\n",
    "\n",
    "<p>&nbsp;</p>\n",
    "</div>"
   ]
  },
  {
   "cell_type": "markdown",
   "metadata": {},
   "source": [
    "## Option 1\n",
    " <p>    \n",
    "   <li>Prime Factors\n",
    "<p>\n",
    "\n",
    "<p>\n",
    "            \n",
    "Time complexity: O(sqrtn)\n",
    "    <br>\n",
    "Space complexity: O(1)\n",
    "        \n"
   ]
  },
  {
   "cell_type": "code",
   "execution_count": null,
   "metadata": {},
   "outputs": [],
   "source": [
    "class Solution(object):\n",
    "    def minSteps(self, n):\n",
    "        divisor = 2\n",
    "        res = 0\n",
    "        while divisor < n:\n",
    "            if n%divisor:\n",
    "                divisor += 1\n",
    "            else:\n",
    "                res += divisor\n",
    "                n /= divisor\n",
    "        \n",
    "        return res if n == 1 else res + n\n",
    "        \n",
    "        \n",
    "Solution().minSteps(1)\n",
    "        \n"
   ]
  },
  {
   "cell_type": "markdown",
   "metadata": {},
   "source": [
    "#### Result:  20ms (84.17%)"
   ]
  }
 ],
 "metadata": {
  "kernelspec": {
   "display_name": "Python 2",
   "language": "python",
   "name": "python2"
  },
  "language_info": {
   "codemirror_mode": {
    "name": "ipython",
    "version": 2
   },
   "file_extension": ".py",
   "mimetype": "text/x-python",
   "name": "python",
   "nbconvert_exporter": "python",
   "pygments_lexer": "ipython2",
   "version": "2.7.16"
  }
 },
 "nbformat": 4,
 "nbformat_minor": 2
}
