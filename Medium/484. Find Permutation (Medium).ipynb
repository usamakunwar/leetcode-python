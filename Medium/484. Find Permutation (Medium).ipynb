{
 "cells": [
  {
   "cell_type": "markdown",
   "metadata": {},
   "source": [
    "# 484. Find Permutation (Medium)"
   ]
  },
  {
   "cell_type": "markdown",
   "metadata": {},
   "source": [
    "<div><p>\n",
    "By now, you are given a <b>secret signature</b> consisting of character 'D' and 'I'. 'D' represents a decreasing relationship between two numbers, 'I' represents an increasing relationship between two numbers. And our <b>secret signature</b> was constructed by a special integer array, which contains uniquely all the different number from 1 to n (n is the length of the secret signature plus 1). For example, the secret signature \"DI\" can be constructed by array [2,1,3] or [3,1,2], but won't be constructed by array [3,2,4] or [2,1,3,4], which are both illegal constructing special string that can't represent the \"DI\" <b>secret signature</b>.\n",
    "</p>\n",
    "\n",
    "<p>\n",
    "On the other hand, now your job is to find the lexicographically smallest permutation of [1, 2, ... n] could refer to the given <b>secret signature</b> in the input.\n",
    "</p>\n",
    "\n",
    "<p><b>Example 1:</b><br>\n",
    "</p><pre><b>Input:</b> \"I\"\n",
    "<b>Output:</b> [1,2]\n",
    "<b>Explanation:</b> [1,2] is the only legal initial spectial string can construct secret signature \"I\", where the number 1 and 2 construct an increasing relationship.\n",
    "</pre>\n",
    "<p></p>\n",
    "\n",
    "<p><b>Example 2:</b><br>\n",
    "</p><pre><b>Input:</b> \"DI\"\n",
    "<b>Output:</b> [2,1,3]\n",
    "<b>Explanation:</b> Both [2,1,3] and [3,1,2] can construct the secret signature \"DI\", <br>but since we want to find the one with the smallest lexicographical permutation, you need to output [2,1,3]\n",
    "</pre>\n",
    "<p></p>\n",
    "\n",
    "<p><b>Note:</b>\n",
    "</p><li>The input string will only contain the character 'D' and 'I'.</li>\n",
    "<li>The length of input string is a positive integer and will not exceed 10,000</li>\n",
    "<p></p></div>"
   ]
  },
  {
   "cell_type": "markdown",
   "metadata": {},
   "source": [
    "## Option 1\n",
    "\n",
    "<p>Stack\n",
    "    <p>\n",
    "<li>Two main ideas:\n",
    "<li>(1) A collection of D's together are essentially an increment of numbers in reverse. For instance DDD, would mean 321\n",
    "    <li>(2) Only the last I is relevent to future work, anything before that is not\n",
    "        \n",
    "<li>We can collect 'D's in a stack and append whilst popping, (result in reverse)\n",
    "<li>When we see an 'I', all the 'D's in the stack can be popped, also an 'I' can pop an 'I' as according to (2) only the last 'I' is relevant\n",
    "<p>\n",
    "   <p>\n",
    "Time complexity: O(n)\n",
    "    <br>\n",
    "Space complexity: O(n)\n"
   ]
  },
  {
   "cell_type": "code",
   "execution_count": null,
   "metadata": {},
   "outputs": [],
   "source": [
    "class Solution(object):\n",
    "    def findPermutation(self, s):\n",
    "        s += 'I' \n",
    "        res = []\n",
    "        stack = [1]\n",
    "        for i in range(len(s)):\n",
    "            if s[i] == 'D':\n",
    "                stack.append(stack[-1]+1)\n",
    "            else:\n",
    "                nxt = stack[-1]+1\n",
    "                while stack: res.append(stack.pop())\n",
    "                stack.append(nxt)\n",
    "\n",
    "        return res\n",
    "        \n",
    "Solution().findPermutation(\"DI\")"
   ]
  },
  {
   "cell_type": "markdown",
   "metadata": {},
   "source": [
    "#### Result: 92ms (27.66%)"
   ]
  }
 ],
 "metadata": {
  "kernelspec": {
   "display_name": "Python 2",
   "language": "python",
   "name": "python2"
  },
  "language_info": {
   "codemirror_mode": {
    "name": "ipython",
    "version": 2
   },
   "file_extension": ".py",
   "mimetype": "text/x-python",
   "name": "python",
   "nbconvert_exporter": "python",
   "pygments_lexer": "ipython2",
   "version": "2.7.16"
  }
 },
 "nbformat": 4,
 "nbformat_minor": 2
}
