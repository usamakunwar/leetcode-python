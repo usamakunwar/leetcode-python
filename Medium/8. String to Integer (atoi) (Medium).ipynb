{
 "cells": [
  {
   "cell_type": "markdown",
   "metadata": {},
   "source": [
    "# 8. String to Integer (atoi) (Medium)\n"
   ]
  },
  {
   "cell_type": "markdown",
   "metadata": {},
   "source": [
    "<div><p>Implement <code><span>atoi</span></code> which&nbsp;converts a string to an integer.</p>\n",
    "\n",
    "<p>The function first discards as many whitespace characters as necessary until the first non-whitespace character is found. Then, starting from this character, takes an optional initial plus or minus sign followed by as many numerical digits as possible, and interprets them as a numerical value.</p>\n",
    "\n",
    "<p>The string can contain additional characters after those that form the integral number, which are ignored and have no effect on the behavior of this function.</p>\n",
    "\n",
    "<p>If the first sequence of non-whitespace characters in str is not a valid integral number, or if no such sequence exists because either str is empty or it contains only whitespace characters, no conversion is performed.</p>\n",
    "\n",
    "<p>If no valid conversion could be performed, a zero value is returned.</p>\n",
    "\n",
    "<p><strong>Note:</strong></p>\n",
    "\n",
    "<ul>\n",
    "\t<li>Only the space character <code>' '</code> is considered as whitespace character.</li>\n",
    "\t<li>Assume we are dealing with an environment which could only store integers within the 32-bit signed integer range: [−2<sup>31</sup>,&nbsp; 2<sup>31&nbsp;</sup>− 1]. If the numerical value is out of the range of representable values, INT_MAX (2<sup>31&nbsp;</sup>− 1) or INT_MIN (−2<sup>31</sup>) is returned.</li>\n",
    "</ul>\n",
    "\n",
    "<p><strong>Example 1:</strong></p>\n",
    "\n",
    "<pre><strong>Input:</strong> \"42\"\n",
    "<strong>Output:</strong> 42\n",
    "</pre>\n",
    "\n",
    "<p><strong>Example 2:</strong></p>\n",
    "\n",
    "<pre><strong>Input:</strong> \"   -42\"\n",
    "<strong>Output:</strong> -42\n",
    "<strong>Explanation:</strong> The first non-whitespace character is '-', which is the minus sign.\n",
    "&nbsp;            Then take as many numerical digits as possible, which gets 42.\n",
    "</pre>\n",
    "\n",
    "<p><strong>Example 3:</strong></p>\n",
    "\n",
    "<pre><strong>Input:</strong> \"4193 with words\"\n",
    "<strong>Output:</strong> 4193\n",
    "<strong>Explanation:</strong> Conversion stops at digit '3' as the next character is not a numerical digit.\n",
    "</pre>\n",
    "\n",
    "<p><strong>Example 4:</strong></p>\n",
    "\n",
    "<pre><strong>Input:</strong> \"words and 987\"\n",
    "<strong>Output:</strong> 0\n",
    "<strong>Explanation:</strong> The first non-whitespace character is 'w', which is not a numerical \n",
    "&nbsp;            digit or a +/- sign. Therefore no valid conversion could be performed.</pre>\n",
    "\n",
    "<p><strong>Example 5:</strong></p>\n",
    "\n",
    "<pre><strong>Input:</strong> \"-91283472332\"\n",
    "<strong>Output:</strong> -2147483648\n",
    "<strong>Explanation:</strong> The number \"-91283472332\" is out of the range of a 32-bit signed integer.\n",
    "&nbsp;            Thefore INT_MIN (−2<sup>31</sup>) is returned.</pre>\n",
    "</div>"
   ]
  },
  {
   "cell_type": "markdown",
   "metadata": {},
   "source": [
    "## Option 1\n",
    "<p>    \n",
    " <p> <p>\n"
   ]
  },
  {
   "cell_type": "code",
   "execution_count": 43,
   "metadata": {
    "scrolled": true
   },
   "outputs": [
    {
     "data": {
      "text/plain": [
       "-12"
      ]
     },
     "execution_count": 43,
     "metadata": {},
     "output_type": "execute_result"
    }
   ],
   "source": [
    "class Solution(object):\n",
    "    def myAtoi(self, str):\n",
    "        str = str.strip()\n",
    "        if not str or (str[0] not in '+-' and not str[0].isdigit()): return 0\n",
    "        res = str[0]\n",
    "        \n",
    "        for s in str[1:]:\n",
    "            if not s.isdigit(): break \n",
    "            res += s\n",
    "            \n",
    "        if res in '+-': return 0 \n",
    "        \n",
    "        res, max = int(res), 2**31-1\n",
    "        if res > max: return max\n",
    "        if res < -max-1: return -max-1\n",
    "        return res\n",
    "        \n",
    "Solution().myAtoi(\"  -0012.42\")\n",
    "    "
   ]
  },
  {
   "cell_type": "markdown",
   "metadata": {},
   "source": [
    "#### Result: 20ms (86.0%)"
   ]
  }
 ],
 "metadata": {
  "kernelspec": {
   "display_name": "Python 2",
   "language": "python",
   "name": "python2"
  },
  "language_info": {
   "codemirror_mode": {
    "name": "ipython",
    "version": 2
   },
   "file_extension": ".py",
   "mimetype": "text/x-python",
   "name": "python",
   "nbconvert_exporter": "python",
   "pygments_lexer": "ipython2",
   "version": "2.7.16"
  }
 },
 "nbformat": 4,
 "nbformat_minor": 2
}
