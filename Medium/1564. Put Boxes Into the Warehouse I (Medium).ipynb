{
 "cells": [
  {
   "cell_type": "markdown",
   "metadata": {},
   "source": [
    "# 1564. Put Boxes Into the Warehouse I (Medium)"
   ]
  },
  {
   "cell_type": "markdown",
   "metadata": {},
   "source": [
    "<div><p>You are given two arrays of positive integers, <code>boxes</code> and <code>warehouse</code>, representing the heights of some boxes of unit width and the heights of <code>n</code> rooms in a warehouse respectively. The warehouse's rooms are labelled from <code>0</code> to <code>n - 1</code> from left to right where <code>warehouse[i]</code> (0-indexed) is the height of the <code>i<sup>th</sup></code> room.</p>\n",
    "\n",
    "<p>Boxes are put into the warehouse by the following rules:</p>\n",
    "\n",
    "<ul>\n",
    "\t<li>Boxes cannot be stacked.</li>\n",
    "\t<li>You can rearrange the insertion order of the boxes.</li>\n",
    "\t<li>Boxes&nbsp;can only be pushed into the warehouse from left to right only.</li>\n",
    "\t<li>If the height of some room in the warehouse is less than the height of a box, then that box and all other boxes behind it will be stopped before that room.</li>\n",
    "</ul>\n",
    "\n",
    "<p>Return <em>the maximum number of boxes you can put into the warehouse.</em></p>\n",
    "\n",
    "<p>&nbsp;</p>\n",
    "<p><strong>Example 1:</strong></p>\n",
    "<img alt=\"\" src=\"https://assets.leetcode.com/uploads/2020/08/26/11.png\" style=\"width: 400px; height: 242px;\">\n",
    "<pre><strong>Input:</strong> boxes = [4,3,4,1], warehouse = [5,3,3,4,1]\n",
    "<strong>Output:</strong> 3\n",
    "<strong>Explanation:&nbsp;\n",
    "</strong><img alt=\"\" src=\"https://assets.leetcode.com/uploads/2020/08/26/12.png\" style=\"width: 280px; height: 242px;\">\n",
    "We can first put the box of height 1 in room 4. Then we can put the box of height 3 in either of the 3 rooms 1, 2, or 3. Lastly, we can put one box of height 4 in room 0.\n",
    "There is no way we can fit all 4 boxes in the warehouse.</pre>\n",
    "\n",
    "<p><strong>Example 2:</strong></p>\n",
    "<img alt=\"\" src=\"https://assets.leetcode.com/uploads/2020/08/26/21.png\" style=\"width: 400px; height: 202px;\">\n",
    "<pre><strong>Input:</strong> boxes = [1,2,2,3,4], warehouse = [3,4,1,2]\n",
    "<strong>Output:</strong> 3\n",
    "<strong>Explanation: \n",
    "<img alt=\"\" src=\"https://assets.leetcode.com/uploads/2020/08/26/22.png\" style=\"width: 280px; height: 202px;\">\n",
    "</strong>Notice that it's not possible to put the box of height 4 into the warehouse since it cannot pass the first room of height 3.\n",
    "Also, for the last two rooms, 2 and 3, only boxes of height 1 can fit.\n",
    "We can fit 3 boxes maximum as shown above. The yellow box can also be put in room 2 instead.\n",
    "Swapping the orange and green boxes is also valid, or swapping one of them with the red box.</pre>\n",
    "\n",
    "<p><strong>Example 3:</strong></p>\n",
    "\n",
    "<pre><strong>Input:</strong> boxes = [1,2,3], warehouse = [1,2,3,4]\n",
    "<strong>Output:</strong> 1\n",
    "<strong>Explanation: </strong>Since the first room in the warehouse is of height 1, we can only put boxes of height 1.\n",
    "</pre>\n",
    "\n",
    "<p><strong>Example 4:</strong></p>\n",
    "\n",
    "<pre><strong>Input:</strong> boxes = [4,5,6], warehouse = [3,3,3,3,3]\n",
    "<strong>Output:</strong> 0\n",
    "</pre>\n",
    "\n",
    "<p>&nbsp;</p>\n",
    "<p><strong>Constraints:</strong></p>\n",
    "\n",
    "<ul>\n",
    "\t<li><code>n == warehouse.length</code></li>\n",
    "\t<li><code>1 &lt;= boxes.length, warehouse.length &lt;= 10^5</code></li>\n",
    "\t<li><code>1 &lt;= boxes[i], warehouse[i] &lt;= 10^9</code></li>\n",
    "</ul>\n",
    "</div>"
   ]
  },
  {
   "cell_type": "markdown",
   "metadata": {},
   "source": [
    "## Option 1\n",
    " <p>    \n",
    "Sort\n",
    "<p>\n",
    "\n",
    "<p>\n",
    "            \n",
    "Time complexity: O(nlogn)\n",
    "    <br>\n",
    "Space complexity: O(1)\n",
    "        \n"
   ]
  },
  {
   "cell_type": "code",
   "execution_count": null,
   "metadata": {
    "scrolled": true
   },
   "outputs": [],
   "source": [
    "class Solution(object):\n",
    "    def maxBoxesInWarehouse(self, boxes, warehouse):\n",
    "        boxes.sort()\n",
    "        \n",
    "        for i in range(1,len(warehouse)):\n",
    "            warehouse[i] = min(warehouse[i-1], warehouse[i])\n",
    "            \n",
    "        i = 0\n",
    "        \n",
    "        for j in range(len(warehouse)-1,-1,-1):\n",
    "            if warehouse[j] >= boxes[i]:\n",
    "                i += 1\n",
    "            if i == len(boxes): break\n",
    "                \n",
    "        return i\n",
    "                        \n",
    "Solution().maxBoxesInWarehouse([1,2,2,3,4], [3,4,1,2])\n"
   ]
  },
  {
   "cell_type": "markdown",
   "metadata": {},
   "source": [
    "#### Result: 588ms (81.43%)"
   ]
  }
 ],
 "metadata": {
  "kernelspec": {
   "display_name": "Python 2",
   "language": "python",
   "name": "python2"
  },
  "language_info": {
   "codemirror_mode": {
    "name": "ipython",
    "version": 2
   },
   "file_extension": ".py",
   "mimetype": "text/x-python",
   "name": "python",
   "nbconvert_exporter": "python",
   "pygments_lexer": "ipython2",
   "version": "2.7.16"
  }
 },
 "nbformat": 4,
 "nbformat_minor": 2
}
