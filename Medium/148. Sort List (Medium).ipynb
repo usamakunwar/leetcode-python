{
 "cells": [
  {
   "cell_type": "markdown",
   "metadata": {},
   "source": [
    "# 148. Sort List (Medium)"
   ]
  },
  {
   "cell_type": "markdown",
   "metadata": {},
   "source": [
    "<div><p>Given the <code>head</code> of a linked list, return <em>the list after sorting it in <strong>ascending order</strong></em>.</p>\n",
    "\n",
    "<p><strong>Follow up:</strong> Can you sort the linked list in <code>O(n logn)</code> time and <code>O(1)</code>&nbsp;memory (i.e. constant space)?</p>\n",
    "\n",
    "<p>&nbsp;</p>\n",
    "<p><strong>Example 1:</strong></p>\n",
    "<img alt=\"\" src=\"https://assets.leetcode.com/uploads/2020/09/14/sort_list_1.jpg\" style=\"width: 450px; height: 194px;\">\n",
    "<pre><strong>Input:</strong> head = [4,2,1,3]\n",
    "<strong>Output:</strong> [1,2,3,4]\n",
    "</pre>\n",
    "\n",
    "<p><strong>Example 2:</strong></p>\n",
    "<img alt=\"\" src=\"https://assets.leetcode.com/uploads/2020/09/14/sort_list_2.jpg\" style=\"width: 550px; height: 184px;\">\n",
    "<pre><strong>Input:</strong> head = [-1,5,3,4,0]\n",
    "<strong>Output:</strong> [-1,0,3,4,5]\n",
    "</pre>\n",
    "\n",
    "<p><strong>Example 3:</strong></p>\n",
    "\n",
    "<pre><strong>Input:</strong> head = []\n",
    "<strong>Output:</strong> []\n",
    "</pre>\n",
    "\n",
    "<p>&nbsp;</p>\n",
    "<p><strong>Constraints:</strong></p>\n",
    "\n",
    "<ul>\n",
    "\t<li>The number of nodes in the list is in the range <code>[0, 5 * 10<sup>4</sup>]</code>.</li>\n",
    "\t<li><code>-10<sup>5</sup> &lt;= Node.val &lt;= 10<sup>5</sup></code></li>\n",
    "</ul>\n",
    "</div>"
   ]
  },
  {
   "cell_type": "markdown",
   "metadata": {},
   "source": [
    "## Option 1\n",
    " <p>    \n",
    "<p>\n",
    "    Merge sort - Top down\n",
    "    <p>       \n",
    "<p>\n",
    "        \n",
    "Time complexity: O(nlogn)\n",
    "    <br>\n",
    "Space complexity: O(logn)\n"
   ]
  },
  {
   "cell_type": "code",
   "execution_count": null,
   "metadata": {},
   "outputs": [],
   "source": [
    "class Solution(object):\n",
    "    def sortList(self, head):\n",
    "        #Merge 2 sorted lists\n",
    "        def merge(a,b):\n",
    "            merged = ListNode(0)\n",
    "            curr = merged\n",
    "            while a or b:\n",
    "                if not b or (a and b and a.val <= b.val):\n",
    "                    curr.next = a\n",
    "                    a = a.next\n",
    "                else:\n",
    "                    curr.next = b\n",
    "                    b = b.next\n",
    "                curr = curr.next\n",
    "            return merged.next\n",
    "        \n",
    "        #Recursively split a list in 2.\n",
    "        def sort(a):\n",
    "            if not a.next: return a\n",
    "            slow = a\n",
    "            fast = a.next\n",
    "            while fast and fast.next:\n",
    "                slow = slow.next\n",
    "                fast = fast.next.next            \n",
    "            b = slow.next\n",
    "            slow.next = None\n",
    "\n",
    "            return merge(sort(a),sort(b))\n",
    "\n",
    "        return sort(head) if head else None\n",
    "\n",
    "        "
   ]
  },
  {
   "cell_type": "markdown",
   "metadata": {},
   "source": [
    "#### Result:  248ms (61.94%)"
   ]
  }
 ],
 "metadata": {
  "kernelspec": {
   "display_name": "Python 2",
   "language": "python",
   "name": "python2"
  },
  "language_info": {
   "codemirror_mode": {
    "name": "ipython",
    "version": 2
   },
   "file_extension": ".py",
   "mimetype": "text/x-python",
   "name": "python",
   "nbconvert_exporter": "python",
   "pygments_lexer": "ipython2",
   "version": "2.7.16"
  }
 },
 "nbformat": 4,
 "nbformat_minor": 2
}
