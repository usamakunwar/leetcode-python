{
 "cells": [
  {
   "cell_type": "markdown",
   "metadata": {},
   "source": [
    "# 1642. Furthest Building You Can Reach (Medium)"
   ]
  },
  {
   "cell_type": "markdown",
   "metadata": {},
   "source": [
    "<div><p>You are given an integer array <code>heights</code> representing the heights of buildings, some <code>bricks</code>, and some <code>ladders</code>.</p>\n",
    "\n",
    "<p>You start your journey from building <code>0</code> and move to the next building by possibly using bricks or ladders.</p>\n",
    "\n",
    "<p>While moving from building <code>i</code> to building <code>i+1</code> (<strong>0-indexed</strong>),</p>\n",
    "\n",
    "<ul>\n",
    "\t<li>If the current building's height is <strong>greater than or equal</strong> to the next building's height, you do <strong>not</strong> need a ladder or bricks.</li>\n",
    "\t<li>If the current building's height is <b>less than</b> the next building's height, you can either use <strong>one ladder</strong> or <code>(h[i+1] - h[i])</code> <strong>bricks</strong>.</li>\n",
    "</ul>\n",
    "\n",
    "<p><em>Return the furthest building index (0-indexed) you can reach if you use the given ladders and bricks optimally.</em></p>\n",
    "\n",
    "<p>&nbsp;</p>\n",
    "<p><strong>Example 1:</strong></p>\n",
    "<img alt=\"\" src=\"https://assets.leetcode.com/uploads/2020/10/27/q4.gif\" style=\"width: 562px; height: 561px;\">\n",
    "<pre><strong>Input:</strong> heights = [4,2,7,6,9,14,12], bricks = 5, ladders = 1\n",
    "<strong>Output:</strong> 4\n",
    "<strong>Explanation:</strong> Starting at building 0, you can follow these steps:\n",
    "- Go to building 1 without using ladders nor bricks since 4 &gt;= 2.\n",
    "- Go to building 2 using 5 bricks. You must use either bricks or ladders because 2 &lt; 7.\n",
    "- Go to building 3 without using ladders nor bricks since 7 &gt;= 6.\n",
    "- Go to building 4 using your only ladder. You must use either bricks or ladders because 6 &lt; 9.\n",
    "It is impossible to go beyond building 4 because you do not have any more bricks or ladders.\n",
    "</pre>\n",
    "\n",
    "<p><strong>Example 2:</strong></p>\n",
    "\n",
    "<pre><strong>Input:</strong> heights = [4,12,2,7,3,18,20,3,19], bricks = 10, ladders = 2\n",
    "<strong>Output:</strong> 7\n",
    "</pre>\n",
    "\n",
    "<p><strong>Example 3:</strong></p>\n",
    "\n",
    "<pre><strong>Input:</strong> heights = [14,3,19,3], bricks = 17, ladders = 0\n",
    "<strong>Output:</strong> 3\n",
    "</pre>\n",
    "\n",
    "<p>&nbsp;</p>\n",
    "<p><strong>Constraints:</strong></p>\n",
    "\n",
    "<ul>\n",
    "\t<li><code>1 &lt;= heights.length &lt;= 10<sup>5</sup></code></li>\n",
    "\t<li><code>1 &lt;= heights[i] &lt;= 10<sup>6</sup></code></li>\n",
    "\t<li><code>0 &lt;= bricks &lt;= 10<sup>9</sup></code></li>\n",
    "\t<li><code>0 &lt;= ladders &lt;= heights.length</code></li>\n",
    "</ul>\n",
    "</div>\n"
   ]
  },
  {
   "cell_type": "markdown",
   "metadata": {},
   "source": [
    "## Option 1\n",
    " <p>    <p>\n",
    "    Priority Queue. Use bricks as much as we can (tracking them in a heap), then once we run out, we use a ladder for the max(current distance, heap)\n",
    "<p>\n",
    "            \n",
    "Time complexity: O(nlogn)\n",
    "    <br>\n",
    "Space complexity: O(n)\n"
   ]
  },
  {
   "cell_type": "code",
   "execution_count": null,
   "metadata": {
    "scrolled": true
   },
   "outputs": [],
   "source": [
    "import heapq\n",
    "\n",
    "class Solution(object):\n",
    "    def furthestBuilding(self, heights, bricks, ladders):\n",
    "        h = []\n",
    "        \n",
    "        for i in range(len(heights)):\n",
    "            if i == len(heights)-1: break\n",
    "            \n",
    "            d = heights[i+1] - heights[i]\n",
    "            if d <= 0 : continue\n",
    "            if d <= bricks:\n",
    "                bricks -= d\n",
    "                heapq.heappush(h, -d)\n",
    "            else:\n",
    "                if ladders == 0: break\n",
    "                if h and -h[0] > d:\n",
    "                    bricks += -heapq.heappop(h)-d\n",
    "                    heapq.heappush(h, -d)\n",
    "                ladders -= 1\n",
    "                \n",
    "        return i\n",
    "        \n",
    "Solution().furthestBuilding([4,2,7,6,9,14,12], 5, 1)\n",
    "\n",
    "\n"
   ]
  },
  {
   "cell_type": "markdown",
   "metadata": {},
   "source": [
    "#### Result: 516ms (72.56%)"
   ]
  }
 ],
 "metadata": {
  "kernelspec": {
   "display_name": "Python 2",
   "language": "python",
   "name": "python2"
  },
  "language_info": {
   "codemirror_mode": {
    "name": "ipython",
    "version": 2
   },
   "file_extension": ".py",
   "mimetype": "text/x-python",
   "name": "python",
   "nbconvert_exporter": "python",
   "pygments_lexer": "ipython2",
   "version": "2.7.16"
  }
 },
 "nbformat": 4,
 "nbformat_minor": 2
}
