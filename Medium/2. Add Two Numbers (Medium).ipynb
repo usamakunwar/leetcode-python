{
 "cells": [
  {
   "cell_type": "markdown",
   "metadata": {},
   "source": [
    "# 2. Add Two Numbers (Medium)\n"
   ]
  },
  {
   "cell_type": "markdown",
   "metadata": {},
   "source": [
    "<div><p>You are given two <b>non-empty</b> linked lists representing two non-negative integers. The digits are stored in <b>reverse order</b> and each of their nodes contain a single digit. Add the two numbers and return it as a linked list.</p>\n",
    "\n",
    "<p>You may assume the two numbers do not contain any leading zero, except the number 0 itself.</p>\n",
    "\n",
    "<p><b>Example:</b></p>\n",
    "\n",
    "<pre><b>Input:</b> (2 -&gt; 4 -&gt; 3) + (5 -&gt; 6 -&gt; 4)\n",
    "<b>Output:</b> 7 -&gt; 0 -&gt; 8\n",
    "<b>Explanation:</b> 342 + 465 = 807.\n",
    "</pre>\n",
    "</div>"
   ]
  },
  {
   "cell_type": "markdown",
   "metadata": {},
   "source": [
    "## Option 1\n",
    "\n",
    "Recursive\n",
    "<p>\n",
    "\n",
    "Time complexity O(n)\n",
    "<br>\n",
    "Space complexity O(n)"
   ]
  },
  {
   "cell_type": "code",
   "execution_count": null,
   "metadata": {
    "scrolled": false
   },
   "outputs": [],
   "source": [
    "class Solution:\n",
    "    def addTwoNumbers(self, l1: ListNode, l2: ListNode) -> ListNode:        \n",
    "        result = ListNode(0)\n",
    "        \n",
    "        def next_node(node1, node2, result_node, outstanding):\n",
    "            node_sum = outstanding\n",
    "            if node1:\n",
    "                node_sum += node1.val\n",
    "            if node2:\n",
    "                node_sum += node2.val\n",
    "            \n",
    "            if node_sum >= 10:\n",
    "                node_sum = node_sum - 10\n",
    "                outstanding = 1\n",
    "            else:\n",
    "                outstanding = 0\n",
    "\n",
    "            result_node.val = node_sum\n",
    "            \n",
    "            if outstanding > 0 or (node1 and node1.next) or (node2 and node2.next):\n",
    "                result_node.next = ListNode(0)\n",
    "                return next_node(node1.next if node1 else None , node2.next if node2 else None, result_node.next, outstanding)\n",
    "            else:\n",
    "                return result\n",
    "                        \n",
    "        return next_node(l1,l2, result, 0)\n",
    "        "
   ]
  },
  {
   "cell_type": "markdown",
   "metadata": {},
   "source": [
    "#### Runtime: 64ms (90.82%)"
   ]
  },
  {
   "cell_type": "markdown",
   "metadata": {},
   "source": [
    "## Option 2\n",
    "<p>\n",
    "    Iterative\n",
    "    <p> \n",
    "<p>\n",
    "    <p>\n",
    "Time complexity: O(n)\n",
    "    <br>\n",
    "Space complexity: O(1)"
   ]
  },
  {
   "cell_type": "code",
   "execution_count": null,
   "metadata": {},
   "outputs": [],
   "source": [
    "class Solution(object):\n",
    "    def addTwoNumbers(self, l1, l2):\n",
    "        \n",
    "        sentinel = ListNode(0)\n",
    "        curr = sentinel\n",
    "        \n",
    "        carry = 0\n",
    "        while l1 or l2 or carry:\n",
    "            val = (l1.val if l1 else 0)+(l2.val if l2 else 0)+carry\n",
    "            if val > 9:\n",
    "                carry = 1\n",
    "                val -= 10\n",
    "            else:\n",
    "                carry = 0\n",
    "            \n",
    "            curr.next = ListNode(val)\n",
    "            curr = curr.next\n",
    "\n",
    "            l1 = l1.next if l1 else None\n",
    "            l2 = l2.next if l2 else None\n",
    "\n",
    "            \n",
    "        return sentinel.next\n"
   ]
  },
  {
   "cell_type": "markdown",
   "metadata": {},
   "source": [
    "#### Runtime: 52ms (96.06%)"
   ]
  }
 ],
 "metadata": {
  "kernelspec": {
   "display_name": "Python 2",
   "language": "python",
   "name": "python2"
  },
  "language_info": {
   "codemirror_mode": {
    "name": "ipython",
    "version": 2
   },
   "file_extension": ".py",
   "mimetype": "text/x-python",
   "name": "python",
   "nbconvert_exporter": "python",
   "pygments_lexer": "ipython2",
   "version": "2.7.16"
  }
 },
 "nbformat": 4,
 "nbformat_minor": 2
}
