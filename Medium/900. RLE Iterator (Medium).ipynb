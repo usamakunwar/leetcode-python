{
 "cells": [
  {
   "cell_type": "markdown",
   "metadata": {},
   "source": [
    "# 900. RLE Iterator (Medium)\n"
   ]
  },
  {
   "cell_type": "markdown",
   "metadata": {},
   "source": [
    "<div><p>Write an iterator that iterates through a run-length encoded sequence.</p>\n",
    "\n",
    "<p>The iterator is initialized by <code>RLEIterator(int[] A)</code>, where <code>A</code> is a run-length encoding of some&nbsp;sequence.&nbsp; More specifically,&nbsp;for all even <code>i</code>,&nbsp;<code>A[i]</code> tells us the number of times that the non-negative integer value <code>A[i+1]</code> is repeated in the sequence.</p>\n",
    "\n",
    "<p>The iterator supports one function:&nbsp;<code>next(int n)</code>, which exhausts the next <code>n</code> elements&nbsp;(<code>n &gt;= 1</code>) and returns the last element exhausted in this way.&nbsp; If there is no element left to exhaust, <code>next</code>&nbsp;returns <code>-1</code> instead.</p>\n",
    "\n",
    "<p>For example, we start with <code>A = [3,8,0,9,2,5]</code>, which is a run-length encoding of the sequence <code>[8,8,8,5,5]</code>.&nbsp; This is because the sequence can be read as&nbsp;\"three eights, zero nines, two fives\".</p>\n",
    "\n",
    "<p>&nbsp;</p>\n",
    "\n",
    "<p><strong>Example 1:</strong></p>\n",
    "\n",
    "<pre><strong>Input: </strong><span id=\"example-input-1-1\">[\"RLEIterator\",\"next\",\"next\",\"next\",\"next\"]</span>, <span id=\"example-input-1-2\">[[[3,8,0,9,2,5]],[2],[1],[1],[2]]</span>\n",
    "<strong>Output: </strong><span id=\"example-output-1\">[null,8,8,5,-1]</span>\n",
    "<strong>Explanation: </strong>\n",
    "RLEIterator is initialized with RLEIterator([3,8,0,9,2,5]).\n",
    "This maps to the sequence [8,8,8,5,5].\n",
    "RLEIterator.next is then called 4 times:\n",
    "\n",
    ".next(2) exhausts 2 terms of the sequence, returning 8.  The remaining sequence is now [8, 5, 5].\n",
    "\n",
    ".next(1) exhausts 1 term of the sequence, returning 8.  The remaining sequence is now [5, 5].\n",
    "\n",
    ".next(1) exhausts 1 term of the sequence, returning 5.  The remaining sequence is now [5].\n",
    "\n",
    ".next(2) exhausts 2 terms, returning -1.  This is because the first term exhausted was 5,\n",
    "but the second term did not exist.  Since the last term exhausted does not exist, we return -1.\n",
    "\n",
    "</pre>\n",
    "\n",
    "<p><strong>Note:</strong></p>\n",
    "\n",
    "<ol>\n",
    "\t<li><code>0 &lt;= A.length &lt;= 1000</code></li>\n",
    "\t<li><code>A.length</code>&nbsp;is an even integer.</li>\n",
    "\t<li><code>0 &lt;= A[i] &lt;= 10^9</code></li>\n",
    "\t<li>There are at most <code>1000</code> calls to <code>RLEIterator.next(int n)</code> per test case.</li>\n",
    "\t<li>Each call to&nbsp;<code>RLEIterator.next(int n)</code>&nbsp;will have <code>1 &lt;= n &lt;= 10^9</code>.</li>\n",
    "</ol>\n",
    "</div>"
   ]
  },
  {
   "cell_type": "markdown",
   "metadata": {},
   "source": [
    "## Option 1\n",
    "\n",
    "Time complexity: O(nq) length of A + number of calls to next()\n",
    "<br>\n",
    "Space complexity: O(n)"
   ]
  },
  {
   "cell_type": "code",
   "execution_count": null,
   "metadata": {},
   "outputs": [],
   "source": [
    "class RLEIterator(object):\n",
    "\n",
    "    def __init__(self, A):\n",
    "        self.arr = A\n",
    "        self.i = 0\n",
    "        \n",
    "    def next(self, n):        \n",
    "        last_item = -1\n",
    "        while n > 0 and self.i < len(self.arr)-1:\n",
    "            tmp = self.arr[self.i]\n",
    "            self.arr[self.i] = max(0, self.arr[self.i]-n)\n",
    "            n -= tmp\n",
    "            if n <= 0 : last_item = self.arr[self.i+1]\n",
    "            if self.arr[self.i] == 0: self.i += 2\n",
    "\n",
    "        return last_item\n",
    "\n",
    "\n",
    "# Your RLEIterator object will be instantiated and called as such:\n",
    "# obj = RLEIterator(A)\n",
    "# param_1 = obj.next(n)"
   ]
  },
  {
   "cell_type": "markdown",
   "metadata": {},
   "source": [
    "#### Result: 24ms (77.78%)\n"
   ]
  }
 ],
 "metadata": {
  "kernelspec": {
   "display_name": "Python 2",
   "language": "python",
   "name": "python2"
  },
  "language_info": {
   "codemirror_mode": {
    "name": "ipython",
    "version": 2
   },
   "file_extension": ".py",
   "mimetype": "text/x-python",
   "name": "python",
   "nbconvert_exporter": "python",
   "pygments_lexer": "ipython2",
   "version": "2.7.16"
  }
 },
 "nbformat": 4,
 "nbformat_minor": 2
}
