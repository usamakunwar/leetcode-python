{
 "cells": [
  {
   "cell_type": "markdown",
   "metadata": {},
   "source": [
    "# 201. Bitwise AND of Numbers Range (Medium)"
   ]
  },
  {
   "cell_type": "markdown",
   "metadata": {},
   "source": [
    "<div><p>Given a range [m, n] where 0 &lt;= m &lt;= n &lt;= 2147483647, return the bitwise AND of all numbers in this range, inclusive.</p>\n",
    "\n",
    "<p><strong>Example 1:</strong></p>\n",
    "\n",
    "<pre><strong>Input:</strong> [5,7]\n",
    "<strong>Output:</strong> 4\n",
    "</pre>\n",
    "\n",
    "<p><strong>Example 2:</strong></p>\n",
    "\n",
    "<pre><strong>Input:</strong> [0,1]\n",
    "<strong>Output:</strong> 0</pre></div>"
   ]
  },
  {
   "cell_type": "markdown",
   "metadata": {},
   "source": [
    "## Option 1\n",
    " <p>\n",
    "\n",
    "Time complexity: O(logn) base2\n",
    "<br>\n",
    "Space complexity: O(1) "
   ]
  },
  {
   "cell_type": "code",
   "execution_count": null,
   "metadata": {
    "scrolled": false
   },
   "outputs": [],
   "source": [
    "class Solution(object):\n",
    "    def rangeBitwiseAnd(self, m, n):\n",
    "        if m == 0: return 0\n",
    "        if m == n: return m\n",
    "        \n",
    "        curr = 0\n",
    "        while m:\n",
    "            logm,logn = int(math.log(m,2)) ,int(math.log(n,2))\n",
    "            if logm == logn:\n",
    "                val = 2**logm\n",
    "                m,n = m-val, n-val\n",
    "                curr += val\n",
    "            else:\n",
    "                return curr\n",
    "        return curr\n",
    "        \n",
    "Solution().rangeBitwiseAnd(6,7)\n",
    "        "
   ]
  },
  {
   "cell_type": "markdown",
   "metadata": {},
   "source": [
    "#### Result: 52ms (66.67%)\n"
   ]
  },
  {
   "cell_type": "markdown",
   "metadata": {},
   "source": [
    "## Option 2\n",
    " <p>\n",
    "    \n",
    "Shift the bits right until a match, once we match, we shift back\n",
    "<p>\n",
    "    <p>\n",
    "Time complexity: O(logn) base2\n",
    "<br>\n",
    "Space complexity: O(1) "
   ]
  },
  {
   "cell_type": "code",
   "execution_count": null,
   "metadata": {},
   "outputs": [],
   "source": [
    "class Solution(object):\n",
    "    def rangeBitwiseAnd(self, m, n):\n",
    "        shift = 0\n",
    "        \n",
    "        while m < n:\n",
    "            m >>= 1\n",
    "            n >>= 1\n",
    "            shift += 1\n",
    "        \n",
    "        return m << shift\n",
    "        \n",
    "Solution().rangeBitwiseAnd(6,7)\n",
    "        "
   ]
  },
  {
   "cell_type": "markdown",
   "metadata": {},
   "source": [
    "#### Result: 44ms (85.71%)\n"
   ]
  }
 ],
 "metadata": {
  "kernelspec": {
   "display_name": "Python 2",
   "language": "python",
   "name": "python2"
  },
  "language_info": {
   "codemirror_mode": {
    "name": "ipython",
    "version": 2
   },
   "file_extension": ".py",
   "mimetype": "text/x-python",
   "name": "python",
   "nbconvert_exporter": "python",
   "pygments_lexer": "ipython2",
   "version": "2.7.16"
  }
 },
 "nbformat": 4,
 "nbformat_minor": 2
}
