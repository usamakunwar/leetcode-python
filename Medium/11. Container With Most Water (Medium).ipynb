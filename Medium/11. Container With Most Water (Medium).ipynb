{
 "cells": [
  {
   "cell_type": "markdown",
   "metadata": {},
   "source": [
    "# 11. Container With Most Water (Medium)\n",
    "\n",
    "Given n non-negative integers a1, a2, ..., an , where each represents a point at coordinate (i, ai). n vertical lines are drawn such that the two endpoints of line i is at (i, ai) and (i, 0). Find two lines, which together with x-axis forms a container, such that the container contains the most water.\n",
    "\n",
    "Note: You may not slant the container and n is at least 2."
   ]
  },
  {
   "cell_type": "markdown",
   "metadata": {},
   "source": [
    "### Option 1\n",
    "\n",
    "Go through every line against every other line, and calculate the area\n",
    "Time complexity is an issue here, polynomial time O(n^2), as we have to go through each possbility (with a increasing reduction)\n",
    "\n",
    "### Option 2\n",
    "\n",
    "We can reduce the number of checks by only searching through the bigger lines, as we want the maximum area\n",
    "So start furthers apart, then check the bigger line against the next line"
   ]
  },
  {
   "cell_type": "code",
   "execution_count": 3,
   "metadata": {},
   "outputs": [
    {
     "data": {
      "text/plain": [
       "49"
      ]
     },
     "execution_count": 3,
     "metadata": {},
     "output_type": "execute_result"
    }
   ],
   "source": [
    "class Solution:\n",
    "    def maxArea(self, height: [int]) -> int:\n",
    "        max_area = 0\n",
    "        l = 0\n",
    "        r = len(height) - 1\n",
    "        while l < r:\n",
    "            max_area = max(max_area,min(height[l], height[r]) * (r - l))\n",
    "            if height[l] < height[r]:\n",
    "                l = l + 1\n",
    "            else:\n",
    "                r = r - 1\n",
    "\n",
    "        return max_area\n",
    "\n",
    "Solution().maxArea([1,8,6,2,5,4,8,3,7])"
   ]
  },
  {
   "cell_type": "markdown",
   "metadata": {},
   "source": [
    "#### Result: Accepted \n",
    "#### Runtime: 132ms (92.63%)\n",
    "#### Memory: 14.4mb"
   ]
  }
 ],
 "metadata": {
  "kernelspec": {
   "display_name": "Python 3",
   "language": "python",
   "name": "python3"
  },
  "language_info": {
   "codemirror_mode": {
    "name": "ipython",
    "version": 3
   },
   "file_extension": ".py",
   "mimetype": "text/x-python",
   "name": "python",
   "nbconvert_exporter": "python",
   "pygments_lexer": "ipython3",
   "version": "3.7.4"
  }
 },
 "nbformat": 4,
 "nbformat_minor": 2
}
