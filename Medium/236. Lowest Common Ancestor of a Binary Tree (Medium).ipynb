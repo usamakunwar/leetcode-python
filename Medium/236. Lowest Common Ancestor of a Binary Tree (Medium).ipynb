{
 "cells": [
  {
   "cell_type": "markdown",
   "metadata": {},
   "source": [
    "# 236. Lowest Common Ancestor of a Binary Tree (Medium)"
   ]
  },
  {
   "cell_type": "markdown",
   "metadata": {},
   "source": [
    "<div><p>Given a binary tree, find the lowest common ancestor (LCA) of two given nodes in the tree.</p>\n",
    "\n",
    "<p>According to the <a href=\"https://en.wikipedia.org/wiki/Lowest_common_ancestor\" target=\"_blank\">definition of LCA on Wikipedia</a>: “The lowest common ancestor is defined between two nodes p&nbsp;and q&nbsp;as the lowest node in T that has both p&nbsp;and q&nbsp;as descendants (where we allow <b>a node to be a descendant of itself</b>).”</p>\n",
    "\n",
    "<p>Given the following binary tree:&nbsp; root =&nbsp;[3,5,1,6,2,0,8,null,null,7,4]</p>\n",
    "<img alt=\"\" src=\"https://assets.leetcode.com/uploads/2018/12/14/binarytree.png\" style=\"width: 200px; height: 190px;\">\n",
    "<p>&nbsp;</p>\n",
    "\n",
    "<p><strong>Example 1:</strong></p>\n",
    "\n",
    "<pre><strong>Input:</strong> root = [3,5,1,6,2,0,8,null,null,7,4], p = 5, q = 1\n",
    "<strong>Output:</strong> 3\n",
    "<strong>Explanation: </strong>The LCA of nodes <code>5</code> and <code>1</code> is <code>3.</code>\n",
    "</pre>\n",
    "\n",
    "<p><strong>Example 2:</strong></p>\n",
    "\n",
    "<pre><strong>Input:</strong> root = [3,5,1,6,2,0,8,null,null,7,4], p = 5, q = 4\n",
    "<strong>Output:</strong> 5\n",
    "<strong>Explanation: </strong>The LCA of nodes <code>5</code> and <code>4</code> is <code>5</code>, since a node can be a descendant of itself according to the LCA definition.\n",
    "</pre>\n",
    "\n",
    "<p>&nbsp;</p>\n",
    "\n",
    "<p><strong>Note:</strong></p>\n",
    "\n",
    "<ul>\n",
    "\t<li>All of the nodes' values will be unique.</li>\n",
    "\t<li>p and q are different and both values will&nbsp;exist in the binary tree.</li>\n",
    "</ul>\n",
    "</div>"
   ]
  },
  {
   "cell_type": "markdown",
   "metadata": {},
   "source": [
    "## Option 1\n",
    "<p>\n",
    "    Recursive\n",
    "<p>\n",
    "Time complexity: O(n)\n",
    "<br>\n",
    "Space complexity: O(n)"
   ]
  },
  {
   "cell_type": "code",
   "execution_count": null,
   "metadata": {
    "scrolled": true
   },
   "outputs": [],
   "source": [
    "class Solution(object):\n",
    "    def lowestCommonAncestor(self, root, p, q):\n",
    "        if not root or not q or not p: return None\n",
    "        def search(node):\n",
    "            left = search(node.left) if node.left else None\n",
    "            right = search(node.right) if node.right else None\n",
    "            if (left and right) or (node.val == p.val) or (node.val == q.val): return node\n",
    "            if left: return left\n",
    "            if right: return right\n",
    "            return None\n",
    "            \n",
    "        return search(root)\n",
    "        "
   ]
  },
  {
   "cell_type": "markdown",
   "metadata": {},
   "source": [
    "#### Result: 68ms (59.29%)"
   ]
  },
  {
   "cell_type": "markdown",
   "metadata": {},
   "source": [
    "## Option 2\n",
    "<p>\n",
    "    Recursive, stop traversal once the nodes have been found\n",
    "<p>\n",
    "Time complexity: O(n)\n",
    "<br>\n",
    "Space complexity: O(n)"
   ]
  },
  {
   "cell_type": "code",
   "execution_count": null,
   "metadata": {},
   "outputs": [],
   "source": [
    "class Solution(object):\n",
    "    def lowestCommonAncestor(self, root, p, q):        \n",
    "        def search(node):\n",
    "            curr = (node.val == p.val or node.val == q.val)\n",
    "            \n",
    "            left = search(node.left) if node.left else None\n",
    "            if left and curr: return node\n",
    "            \n",
    "            right = search(node.right) if node.right else None\n",
    "            if right and curr: return node\n",
    "            \n",
    "            if (left and right) or curr : return node\n",
    "            if left: return left\n",
    "            if right: return right\n",
    "            return None\n",
    "            \n",
    "        return search(root)"
   ]
  },
  {
   "cell_type": "markdown",
   "metadata": {},
   "source": [
    "#### Result: 68ms (75.54%)"
   ]
  }
 ],
 "metadata": {
  "kernelspec": {
   "display_name": "Python 2",
   "language": "python",
   "name": "python2"
  },
  "language_info": {
   "codemirror_mode": {
    "name": "ipython",
    "version": 2
   },
   "file_extension": ".py",
   "mimetype": "text/x-python",
   "name": "python",
   "nbconvert_exporter": "python",
   "pygments_lexer": "ipython2",
   "version": "2.7.16"
  }
 },
 "nbformat": 4,
 "nbformat_minor": 2
}
