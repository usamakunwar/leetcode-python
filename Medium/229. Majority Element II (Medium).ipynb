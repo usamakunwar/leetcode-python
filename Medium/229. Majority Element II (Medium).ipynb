{
 "cells": [
  {
   "cell_type": "markdown",
   "metadata": {},
   "source": [
    "# 229. Majority Element II (Medium)"
   ]
  },
  {
   "cell_type": "markdown",
   "metadata": {},
   "source": [
    "<div><p>Given an integer array of size <i>n</i>, find all elements that appear more than <code>⌊ n/3 ⌋</code> times.</p>\n",
    "\n",
    "<p><strong>Note: </strong>The algorithm should run in linear time and in O(1) space.</p>\n",
    "\n",
    "<p><strong>Example 1:</strong></p>\n",
    "\n",
    "<pre><strong>Input:</strong> [3,2,3]\n",
    "<strong>Output:</strong> [3]</pre>\n",
    "\n",
    "<p><strong>Example 2:</strong></p>\n",
    "\n",
    "<pre><strong>Input:</strong> [1,1,1,3,3,2,2,2]\n",
    "<strong>Output:</strong> [1,2]</pre>\n",
    "</div>"
   ]
  },
  {
   "cell_type": "markdown",
   "metadata": {},
   "source": [
    "## Option 1\n",
    " <p>\n",
    "    <p>Boyer-Moore Majority Vote Algorithm\n",
    "        <p>\n",
    "Time complexity: O(n)\n",
    "    <br>\n",
    "Space complexity: O(1) \n"
   ]
  },
  {
   "cell_type": "code",
   "execution_count": null,
   "metadata": {},
   "outputs": [],
   "source": [
    "class Solution(object):\n",
    "    def majorityElement(self, nums):\n",
    "        curr1 = curr2 = None\n",
    "        curr1_count = curr2_count = 0\n",
    "        for n in nums:\n",
    "            if n == curr1:\n",
    "                curr1_count += 1\n",
    "            elif n == curr2:\n",
    "                curr2_count += 1  \n",
    "            elif curr1_count == 0:\n",
    "                curr1 = n\n",
    "                curr1_count += 1\n",
    "            elif curr2_count == 0:\n",
    "                curr2 = n    \n",
    "                curr2_count += 1  \n",
    "            else:\n",
    "                curr1_count -= 1\n",
    "                curr2_count -= 1\n",
    "                \n",
    "        res = []\n",
    "        for n in [curr1,curr2]:\n",
    "            if nums.count(n) > len(nums)/3:\n",
    "                res.append(n)\n",
    "        \n",
    "        return res"
   ]
  },
  {
   "cell_type": "markdown",
   "metadata": {},
   "source": [
    "\n",
    "#### Result: 100ms (89.61%)"
   ]
  }
 ],
 "metadata": {
  "kernelspec": {
   "display_name": "Python 2",
   "language": "python",
   "name": "python2"
  },
  "language_info": {
   "codemirror_mode": {
    "name": "ipython",
    "version": 2
   },
   "file_extension": ".py",
   "mimetype": "text/x-python",
   "name": "python",
   "nbconvert_exporter": "python",
   "pygments_lexer": "ipython2",
   "version": "2.7.16"
  }
 },
 "nbformat": 4,
 "nbformat_minor": 2
}
