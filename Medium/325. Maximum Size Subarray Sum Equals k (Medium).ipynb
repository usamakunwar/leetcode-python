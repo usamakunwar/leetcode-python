{
 "cells": [
  {
   "cell_type": "markdown",
   "metadata": {},
   "source": [
    "# 325. Maximum Size Subarray Sum Equals k (Medium)"
   ]
  },
  {
   "cell_type": "markdown",
   "metadata": {},
   "source": [
    "<div><p>Given an array <i>nums</i> and a target value <i>k</i>, find the maximum length of a subarray that sums to <i>k</i>. If there isn't one, return 0 instead.</p>\n",
    "\n",
    "<p><b>Note:</b><br>\n",
    "The sum of the entire <i>nums</i> array is guaranteed to fit within the 32-bit signed integer range.</p>\n",
    "\n",
    "<p><b>Example 1:</b></p>\n",
    "\n",
    "<pre><strong>Input: </strong><i>nums</i> = <code>[1, -1, 5, -2, 3]</code>, <i>k</i> = <code>3</code>\n",
    "<strong>Output: </strong>4 \n",
    "<strong>Explanation: </strong>The subarray <code>[1, -1, 5, -2]</code> sums to 3 and is the longest.\n",
    "</pre>\n",
    "\n",
    "<p><b>Example 2:</b></p>\n",
    "\n",
    "<pre><strong>Input: </strong><i>nums</i> = <code>[-2, -1, 2, 1]</code>, <i>k</i> = <code>1</code>\n",
    "<strong>Output: </strong>2 <strong>\n",
    "Explanation: </strong>The subarray <code>[-1, 2]</code> sums to 1 and is the longest.</pre>\n",
    "\n",
    "<p><b>Follow Up:</b><br>\n",
    "Can you do it in O(<i>n</i>) time?</p>\n",
    "</div>"
   ]
  },
  {
   "cell_type": "markdown",
   "metadata": {},
   "source": [
    "## Option 1\n",
    "\n",
    "<p>Every subarray that has an increment of k from start to end val is a possible answer\n",
    "\n",
    "Time complexity: O(n)\n",
    "<br>\n",
    "Space complexity: O(n)"
   ]
  },
  {
   "cell_type": "code",
   "execution_count": null,
   "metadata": {
    "scrolled": true
   },
   "outputs": [],
   "source": [
    "import collections\n",
    "class Solution(object):\n",
    "    def maxSubArrayLen(self, nums, k):\n",
    "        bal_map = collections.defaultdict(int)\n",
    "        bal_map.setdefault(0,-1)\n",
    "        balance=res=0\n",
    "        for i,v in enumerate(nums):\n",
    "            balance += v\n",
    "            res = max(res, i-bal_map[balance-k]) if balance-k in bal_map else res\n",
    "            #As we want the max length subarray keep the left most balance value \n",
    "            bal_map.setdefault(balance,i)\n",
    "        return res\n",
    "\n",
    "\n",
    "Solution().maxSubArrayLen([-2, -1, 2, 1,2,3,-5,-3,1,-3,4,-2,1,2,8],7)\n",
    "        "
   ]
  },
  {
   "cell_type": "markdown",
   "metadata": {},
   "source": [
    "#### Result: 100ms (71.96%)"
   ]
  }
 ],
 "metadata": {
  "kernelspec": {
   "display_name": "Python 2",
   "language": "python",
   "name": "python2"
  },
  "language_info": {
   "codemirror_mode": {
    "name": "ipython",
    "version": 2
   },
   "file_extension": ".py",
   "mimetype": "text/x-python",
   "name": "python",
   "nbconvert_exporter": "python",
   "pygments_lexer": "ipython2",
   "version": "2.7.16"
  }
 },
 "nbformat": 4,
 "nbformat_minor": 2
}
