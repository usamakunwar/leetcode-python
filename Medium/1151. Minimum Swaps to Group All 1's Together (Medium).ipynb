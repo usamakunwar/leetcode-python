{
 "cells": [
  {
   "cell_type": "markdown",
   "metadata": {},
   "source": [
    "# 1151. Minimum Swaps to Group All 1's Together (Medium)"
   ]
  },
  {
   "cell_type": "markdown",
   "metadata": {},
   "source": [
    "<div><p>Given a&nbsp;binary array <code>data</code>, return&nbsp;the minimum number of swaps required to group all <code>1</code>’s present in the array together in <strong>any place</strong> in the array.</p>\n",
    "\n",
    "<p>&nbsp;</p>\n",
    "\n",
    "<p><strong>Example 1:</strong></p>\n",
    "\n",
    "<pre><strong>Input: </strong><span id=\"example-input-1-1\">[1,0,1,0,1]</span>\n",
    "<strong>Output: </strong><span id=\"example-output-1\">1</span>\n",
    "<strong>Explanation: </strong>\n",
    "There are 3 ways to group all 1's together:\n",
    "[1,1,1,0,0] using 1 swap.\n",
    "[0,1,1,1,0] using 2 swaps.\n",
    "[0,0,1,1,1] using 1 swap.\n",
    "The minimum is 1.\n",
    "</pre>\n",
    "\n",
    "<p><strong>Example 2:</strong></p>\n",
    "\n",
    "<pre><strong>Input: </strong><span id=\"example-input-2-1\">[0,0,0,1,0]</span>\n",
    "<strong>Output: </strong><span id=\"example-output-2\">0</span>\n",
    "<strong>Explanation: </strong>\n",
    "Since there is only one 1 in the array, no swaps needed.\n",
    "</pre>\n",
    "\n",
    "<p><strong>Example 3:</strong></p>\n",
    "\n",
    "<pre><strong>Input: </strong><span id=\"example-input-3-1\">[1,0,1,0,1,0,0,1,1,0,1]</span>\n",
    "<strong>Output: </strong><span id=\"example-output-3\">3</span>\n",
    "<strong>Explanation: </strong>\n",
    "One possible solution that uses 3 swaps is [0,0,0,0,0,1,1,1,1,1,1].\n",
    "</pre>\n",
    "\n",
    "<p>&nbsp;</p>\n",
    "\n",
    "<p><span><strong>Note</strong><strong>:</strong></span></p>\n",
    "\n",
    "<ol>\n",
    "\t<li><code>1 &lt;= data.length &lt;= 10^5</code></li>\n",
    "\t<li><code>0 &lt;= data[i] &lt;= 1</code></li>\n",
    "</ol>\n",
    "</div>"
   ]
  },
  {
   "cell_type": "markdown",
   "metadata": {},
   "source": [
    "## Option 1\n",
    "\n",
    "Sliding window\n",
    "\n",
    "<p>\n",
    "Time complexity = O(n)\n",
    "<br>\n",
    "Space complexity = O(1)"
   ]
  },
  {
   "cell_type": "code",
   "execution_count": 25,
   "metadata": {
    "scrolled": true
   },
   "outputs": [
    {
     "data": {
      "text/plain": [
       "45"
      ]
     },
     "execution_count": 25,
     "metadata": {},
     "output_type": "execute_result"
    }
   ],
   "source": [
    "import collections\n",
    "class Solution(object):\n",
    "    def minSwaps(self, data):\n",
    "        ln = len(data)\n",
    "        ones, swaps, min_swaps = sum(data), 0, ln\n",
    "        for i,v in enumerate(data):\n",
    "            swaps += 1 if not v else 0\n",
    "            if i >= (ones-1):\n",
    "                if i > (ones-1):\n",
    "                    swaps -= 1 if not data[i-ones] else 0\n",
    "                min_swaps = min(min_swaps, swaps)                \n",
    "        return 0 if min_swaps == ln else min_swaps\n",
    "        \n",
    "\n",
    "Solution().minSwaps([1,1,1,1,0,1,0,1,1,1,1,0,1,0,0,1,1,0,0,0,1,0,0,1,1,1,0,0,1,0,0,0,1,1,1,1,1,1,0,1,0,0,1,1,1,1,1,0,1,0,1,0,1,0,1,0,1,1,1,0,1,1,1,0,0,0,0,0,1,1,1,0,0,1,0,1,0,1,1,1,0,1,1,1,0,0,0,1,1,0,1,1,1,0,1,0,1,0,0,1,0,1,1,0,0,1,0,0,1,0,1,1,0,0,1,0,0,0,0,0,1,1,1,1,0,0,1,0,0,0,0,0,0,1,0,0,1,0,1,0,1,1,1,0,0,0,1,1,1,1,1,0,1,0,0,1,1,1,1,1,1,1,1,1,0,1,1,1,0,0,1,0,1,1,1,0,0,0,0,1,0,0,1,0,0,0,0,0,1,1,0,1,0,0,1,0,1,0,1,0])"
   ]
  },
  {
   "cell_type": "markdown",
   "metadata": {},
   "source": [
    "#### Result: 748ms (56.92%)"
   ]
  }
 ],
 "metadata": {
  "kernelspec": {
   "display_name": "Python 2",
   "language": "python",
   "name": "python2"
  },
  "language_info": {
   "codemirror_mode": {
    "name": "ipython",
    "version": 2
   },
   "file_extension": ".py",
   "mimetype": "text/x-python",
   "name": "python",
   "nbconvert_exporter": "python",
   "pygments_lexer": "ipython2",
   "version": "2.7.16"
  }
 },
 "nbformat": 4,
 "nbformat_minor": 2
}
