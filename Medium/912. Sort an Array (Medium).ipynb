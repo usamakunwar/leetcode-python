{
 "cells": [
  {
   "cell_type": "markdown",
   "metadata": {},
   "source": [
    "# 912. Sort an Array (Medium)"
   ]
  },
  {
   "cell_type": "markdown",
   "metadata": {},
   "source": [
    "<div><p>Given an array of integers <code>nums</code>, sort the array in ascending order.</p>\n",
    "\n",
    "<p>&nbsp;</p>\n",
    "<p><strong>Example 1:</strong></p>\n",
    "<pre><strong>Input:</strong> nums = [5,2,3,1]\n",
    "<strong>Output:</strong> [1,2,3,5]\n",
    "</pre><p><strong>Example 2:</strong></p>\n",
    "<pre><strong>Input:</strong> nums = [5,1,1,2,0,0]\n",
    "<strong>Output:</strong> [0,0,1,1,2,5]\n",
    "</pre>\n",
    "<p>&nbsp;</p>\n",
    "<p><strong>Constraints:</strong></p>\n",
    "\n",
    "<ul>\n",
    "\t<li><code>1 &lt;= nums.length &lt;= 50000</code></li>\n",
    "\t<li><code>-50000 &lt;= nums[i] &lt;= 50000</code></li>\n",
    "</ul>\n",
    "</div>"
   ]
  },
  {
   "cell_type": "markdown",
   "metadata": {},
   "source": [
    "## Option 1\n",
    "\n",
    "Quicksort\n",
    "\n",
    "Time complexity = O(nlogn)\n",
    "<br>\n",
    "Space complexity = O(1)"
   ]
  },
  {
   "cell_type": "code",
   "execution_count": 84,
   "metadata": {
    "scrolled": false
   },
   "outputs": [
    {
     "data": {
      "text/plain": [
       "[1, 2, 3, 4, 5, 5, 7, 8, 9]"
      ]
     },
     "execution_count": 84,
     "metadata": {},
     "output_type": "execute_result"
    }
   ],
   "source": [
    "class Solution(object):\n",
    "    def quicksort(self, nums):\n",
    "        def sort(l,r):\n",
    "            if l >= r : return\n",
    "            p = partition(l,r)\n",
    "            sort(l,p-1)\n",
    "            sort(p,r)\n",
    "        def partition(l,r):\n",
    "            pivot = nums[(l+r)/2]\n",
    "            while l <= r:\n",
    "                while nums[l] < pivot : l += 1\n",
    "                while nums[r] > pivot : r -= 1\n",
    "                if l <= r:                \n",
    "                    nums[l],nums[r] = nums[r],nums[l]\n",
    "                    l += 1\n",
    "                    r -= 1\n",
    "            return l\n",
    "        sort(0,len(nums)-1)\n",
    "        return nums\n",
    "    \n",
    "Solution().quicksort([3,7,8,5,2,1,9,5,4])"
   ]
  },
  {
   "cell_type": "markdown",
   "metadata": {},
   "source": [
    "#### Result: 224ms (82.11%)"
   ]
  }
 ],
 "metadata": {
  "kernelspec": {
   "display_name": "Python 2",
   "language": "python",
   "name": "python2"
  },
  "language_info": {
   "codemirror_mode": {
    "name": "ipython",
    "version": 2
   },
   "file_extension": ".py",
   "mimetype": "text/x-python",
   "name": "python",
   "nbconvert_exporter": "python",
   "pygments_lexer": "ipython2",
   "version": "2.7.16"
  }
 },
 "nbformat": 4,
 "nbformat_minor": 2
}
