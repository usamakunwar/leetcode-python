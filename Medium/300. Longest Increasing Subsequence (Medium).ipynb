{
 "cells": [
  {
   "cell_type": "markdown",
   "metadata": {},
   "source": [
    "# 300. Longest Increasing Subsequence (Medium)"
   ]
  },
  {
   "cell_type": "markdown",
   "metadata": {},
   "source": [
    "<div><p>Given an unsorted array of integers, find the length of longest increasing subsequence.</p>\n",
    "\n",
    "<p><b>Example:</b></p>\n",
    "\n",
    "<pre><b>Input:</b> <code>[10,9,2,5,3,7,101,18]\n",
    "</code><b>Output: </b>4 \n",
    "<strong>Explanation: </strong>The longest increasing subsequence is <code>[2,3,7,101]</code>, therefore the length is <code>4</code>. </pre>\n",
    "\n",
    "<p><strong>Note: </strong></p>\n",
    "\n",
    "<ul>\n",
    "\t<li>There may be more than one LIS combination, it is only necessary for you to return the length.</li>\n",
    "\t<li>Your algorithm should run in O(<i>n<sup>2</sup></i>) complexity.</li>\n",
    "</ul>\n",
    "\n",
    "<p><b>Follow up:</b> Could you improve it to O(<i>n</i> log <i>n</i>) time complexity?</p>\n",
    "</div>"
   ]
  },
  {
   "cell_type": "markdown",
   "metadata": {},
   "source": [
    "## Option 1\n",
    " <p>\n",
    "    <p>\n",
    "        DP\n",
    "        <p>\n",
    "Time complexity: O(n^2)\n",
    "    <br>\n",
    "Space complexity: O(n) \n"
   ]
  },
  {
   "cell_type": "code",
   "execution_count": 1,
   "metadata": {},
   "outputs": [
    {
     "data": {
      "text/plain": [
       "12"
      ]
     },
     "execution_count": 1,
     "metadata": {},
     "output_type": "execute_result"
    }
   ],
   "source": [
    "class Solution(object):\n",
    "    def lengthOfLIS(self, nums):\n",
    "        if not nums: return 0\n",
    "        dp = [1]*len(nums)\n",
    "        res = 1\n",
    "        for i in range(len(nums)):\n",
    "            for j in range(i):\n",
    "                if nums[j] < nums[i]:\n",
    "                    dp[i] = max(dp[i],dp[j]+1)\n",
    "                    res = max(res, dp[i])\n",
    "        return res\n",
    "        \n",
    "Solution().lengthOfLIS([14,15,16,17,18,19,2,3,4,5,6,20,21,22,23,24,35,0,2,1])        \n"
   ]
  },
  {
   "cell_type": "markdown",
   "metadata": {},
   "source": [
    "\n",
    "#### Result: 1340ms (5.97%)"
   ]
  },
  {
   "cell_type": "markdown",
   "metadata": {},
   "source": [
    "## Option 2\n",
    " <p>\n",
    "    <p>\n",
    "        DP with Binary Search\n",
    "        <p>\n",
    "        <li>dp[l] is essentially the lowest tail value of a tail size l+1            \n",
    "        <p>\n",
    "            <p>\n",
    "Time complexity: O(nlogn)\n",
    "    <br>\n",
    "Space complexity: O(n) \n"
   ]
  },
  {
   "cell_type": "code",
   "execution_count": 9,
   "metadata": {},
   "outputs": [
    {
     "data": {
      "text/plain": [
       "6"
      ]
     },
     "execution_count": 9,
     "metadata": {},
     "output_type": "execute_result"
    }
   ],
   "source": [
    "class Solution(object):\n",
    "    def lengthOfLIS(self, nums):\n",
    "        dp = [0]*len(nums)\n",
    "        length = 0\n",
    "        for n in nums:\n",
    "            l,r = 0, length\n",
    "            \n",
    "            while l < r:\n",
    "                mid = (l+r)/2\n",
    "                if dp[mid] < n:\n",
    "                    l = mid + 1\n",
    "                else:\n",
    "                    r  = mid\n",
    "            \n",
    "            dp[l] = n\n",
    "            \n",
    "            length = max(length, l+1)\n",
    "            \n",
    "        return length\n",
    "        \n",
    "Solution().lengthOfLIS([0, 8, 4, 12, 2, 10, 6, 14, 1, 9, 5, 13, 3, 11, 7, 15])        \n"
   ]
  },
  {
   "cell_type": "markdown",
   "metadata": {},
   "source": [
    "\n",
    "#### Result: 32ms (87.53%)"
   ]
  }
 ],
 "metadata": {
  "kernelspec": {
   "display_name": "Python 2",
   "language": "python",
   "name": "python2"
  },
  "language_info": {
   "codemirror_mode": {
    "name": "ipython",
    "version": 2
   },
   "file_extension": ".py",
   "mimetype": "text/x-python",
   "name": "python",
   "nbconvert_exporter": "python",
   "pygments_lexer": "ipython2",
   "version": "2.7.16"
  }
 },
 "nbformat": 4,
 "nbformat_minor": 2
}
