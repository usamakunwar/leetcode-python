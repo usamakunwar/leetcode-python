{
 "cells": [
  {
   "cell_type": "markdown",
   "metadata": {},
   "source": [
    "# 6. ZigZag Conversion (Medium)\n"
   ]
  },
  {
   "cell_type": "markdown",
   "metadata": {},
   "source": [
    "<div><p>The string <code>\"PAYPALISHIRING\"</code> is written in a zigzag pattern on a given number of rows like this: (you may want to display this pattern in a fixed font for better legibility)</p>\n",
    "\n",
    "<pre>P   A   H   N\n",
    "A P L S I I G\n",
    "Y   I   R\n",
    "</pre>\n",
    "\n",
    "<p>And then read line by line: <code>\"PAHNAPLSIIGYIR\"</code></p>\n",
    "\n",
    "<p>Write the code that will take a string and make this conversion given a number of rows:</p>\n",
    "\n",
    "<pre>string convert(string s, int numRows);</pre>\n",
    "\n",
    "<p><strong>Example 1:</strong></p>\n",
    "\n",
    "<pre><strong>Input:</strong> s = \"PAYPALISHIRING\", numRows = 3\n",
    "<strong>Output:</strong> \"PAHNAPLSIIGYIR\"\n",
    "</pre>\n",
    "\n",
    "<p><strong>Example 2:</strong></p>\n",
    "\n",
    "<pre><strong>Input:</strong> s = \"PAYPALISHIRING\", numRows =&nbsp;4\n",
    "<strong>Output:</strong>&nbsp;\"PINALSIGYAHRPI\"\n",
    "<strong>Explanation:</strong>\n",
    "\n",
    "P     I    N\n",
    "A   L S  I G\n",
    "Y A   H R\n",
    "P     I</pre>\n",
    "</div>"
   ]
  },
  {
   "cell_type": "markdown",
   "metadata": {},
   "source": [
    "## Option 1\n",
    "<p>    \n",
    " <p> <p>\n",
    "Time complexity: O(n)\n",
    "    <br>\n",
    "Space complexity: O(n)\n"
   ]
  },
  {
   "cell_type": "code",
   "execution_count": null,
   "metadata": {
    "scrolled": false
   },
   "outputs": [],
   "source": [
    "class Solution(object):\n",
    "    def convert(self, s, numRows):\n",
    "        if numRows == 1: return s\n",
    "        table = [\"\"]*numRows\n",
    "        i = k = 0  \n",
    "        while k < len(s):\n",
    "            while i < numRows and k < len(s):               \n",
    "                table[i] += s[k]\n",
    "                i += 1\n",
    "                k += 1 \n",
    "            \n",
    "            i -= 2\n",
    "            while i >= 0 and k < len(s):\n",
    "                table[i] += s[k]\n",
    "                i -= 1\n",
    "                k += 1 \n",
    "                \n",
    "            i += 2\n",
    "            \n",
    "        return ''.join(table)\n",
    "        \n",
    "Solution().convert(\"PAYPALISHIRING\", 1)\n",
    "    "
   ]
  },
  {
   "cell_type": "markdown",
   "metadata": {},
   "source": [
    "#### Result: 32ms (90.46%)"
   ]
  },
  {
   "cell_type": "markdown",
   "metadata": {},
   "source": [
    "## Option 2\n",
    "<p>    \n",
    " <p> \n",
    "<li>Instead, an external variable can be used to store direction of i, can update this variable whenever we cross the border\n",
    "<p>\n",
    "     \n",
    "Time complexity: O(n)\n",
    "    <br>\n",
    "Space complexity: O(n)\n"
   ]
  },
  {
   "cell_type": "code",
   "execution_count": null,
   "metadata": {},
   "outputs": [],
   "source": [
    "class Solution(object):\n",
    "    def convert(self, S, numRows):\n",
    "        if numRows == 1: return S\n",
    "        \n",
    "        table = [\"\"]*numRows\n",
    "        i,direction = 0,1\n",
    "        \n",
    "        for s in S:\n",
    "            table[i] += s\n",
    "            if i == 0:\n",
    "                direction = 1\n",
    "            elif i == numRows-1:\n",
    "                direction = -1\n",
    "            i += direction\n",
    "        \n",
    "        return ''.join(table)\n",
    "\n",
    "        \n",
    "Solution().convert(\"PAYPALISHIRING\", 14)\n",
    "    "
   ]
  },
  {
   "cell_type": "markdown",
   "metadata": {},
   "source": [
    "#### Result: 48ms (72.32%)"
   ]
  }
 ],
 "metadata": {
  "kernelspec": {
   "display_name": "Python 2",
   "language": "python",
   "name": "python2"
  },
  "language_info": {
   "codemirror_mode": {
    "name": "ipython",
    "version": 2
   },
   "file_extension": ".py",
   "mimetype": "text/x-python",
   "name": "python",
   "nbconvert_exporter": "python",
   "pygments_lexer": "ipython2",
   "version": "2.7.16"
  }
 },
 "nbformat": 4,
 "nbformat_minor": 2
}
