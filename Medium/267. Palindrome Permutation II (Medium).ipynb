{
 "cells": [
  {
   "cell_type": "markdown",
   "metadata": {},
   "source": [
    "# 267. Palindrome Permutation II (Medium)\n"
   ]
  },
  {
   "cell_type": "markdown",
   "metadata": {},
   "source": [
    "<div><p>Given a string <code>s</code>, return all the palindromic permutations (without duplicates) of it. Return an empty list if no palindromic permutation could be form.</p>\n",
    "\n",
    "<p><strong>Example 1:</strong></p>\n",
    "\n",
    "<pre><strong>Input:</strong> <code>\"aabb\"</code>\n",
    "<strong>Output:</strong> <code>[\"abba\", \"baab\"]</code></pre>\n",
    "\n",
    "<p><strong>Example 2:</strong></p>\n",
    "\n",
    "<pre><strong>Input:</strong> <code>\"abc\"</code>\n",
    "<strong>Output:</strong> <code>[]</code></pre>\n",
    "</div>"
   ]
  },
  {
   "cell_type": "markdown",
   "metadata": {},
   "source": [
    "## Option 1\n",
    "\n",
    "DFS + Backtrack\n",
    "<li>Make the string that needs to be mutated. IE. half of the string\n",
    "<li>For a palindrome we only allow 1 extra item to be in the middle, so if there is anything over that, it cant be a palidrome\n",
    "<li>Keep the mid item to be added later\n",
    "<li>Do a backtrack on the half to permutate"
   ]
  },
  {
   "cell_type": "code",
   "execution_count": null,
   "metadata": {
    "scrolled": false
   },
   "outputs": [],
   "source": [
    "import collections\n",
    "class Solution(object):\n",
    "    def generatePalindromes(self, s):\n",
    "        c = collections.Counter(s)\n",
    "        mid, to_permutate = '', ''\n",
    "        for v,c in c.items():\n",
    "            if c%2 > 0:\n",
    "                if mid: return []\n",
    "                mid = v\n",
    "            to_permutate += v*(c//2)\n",
    "        def search(s,curr):\n",
    "            if not s: return [curr+mid+curr[::-1]]\n",
    "            res = []\n",
    "            for i in range(len(s)):\n",
    "                if i > 0 and s[i] == s[i-1]: continue\n",
    "                res += search(s[:i]+s[i+1:], curr+s[i] )\n",
    "            return res\n",
    "        \n",
    "        return search(to_permutate,'')\n",
    "\n",
    "Solution().generatePalindromes(\"aaa\")"
   ]
  },
  {
   "cell_type": "markdown",
   "metadata": {},
   "source": [
    "#### Result: 12ms (98.83%)"
   ]
  }
 ],
 "metadata": {
  "kernelspec": {
   "display_name": "Python 2",
   "language": "python",
   "name": "python2"
  },
  "language_info": {
   "codemirror_mode": {
    "name": "ipython",
    "version": 2
   },
   "file_extension": ".py",
   "mimetype": "text/x-python",
   "name": "python",
   "nbconvert_exporter": "python",
   "pygments_lexer": "ipython2",
   "version": "2.7.16"
  }
 },
 "nbformat": 4,
 "nbformat_minor": 2
}
