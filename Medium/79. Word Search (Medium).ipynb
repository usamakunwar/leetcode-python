{
 "cells": [
  {
   "cell_type": "markdown",
   "metadata": {},
   "source": [
    "# 79. Word Search (Medium)\n"
   ]
  },
  {
   "cell_type": "markdown",
   "metadata": {},
   "source": [
    "<div><p>Given a 2D board and a word, find if the word exists in the grid.</p>\n",
    "\n",
    "<p>The word can be constructed from letters of sequentially adjacent cell, where \"adjacent\" cells are those horizontally or vertically neighboring. The same letter cell may not be used more than once.</p>\n",
    "\n",
    "<p><strong>Example:</strong></p>\n",
    "\n",
    "<pre>board =\n",
    "[\n",
    "  ['A','B','C','E'],\n",
    "  ['S','F','C','S'],\n",
    "  ['A','D','E','E']\n",
    "]\n",
    "\n",
    "Given word = \"<strong>ABCCED</strong>\", return <strong>true</strong>.\n",
    "Given word = \"<strong>SEE</strong>\", return <strong>true</strong>.\n",
    "Given word = \"<strong>ABCB</strong>\", return <strong>false</strong>.\n",
    "</pre>\n",
    "</div>"
   ]
  },
  {
   "cell_type": "markdown",
   "metadata": {},
   "source": [
    "## Option 1\n",
    "<p>\n",
    "    DFS\n",
    "    <p> \n",
    "<p>\n",
    "    <p>\n",
    "Time complexity: O(mn*3^l) l = len(word)\n",
    "    <br>\n",
    "Space complexity: O(l)"
   ]
  },
  {
   "cell_type": "code",
   "execution_count": null,
   "metadata": {
    "scrolled": false
   },
   "outputs": [],
   "source": [
    "class Solution(object):\n",
    "    def exist(self, board, word):\n",
    "        m, n = len(board), len(board[0])\n",
    "        \n",
    "        def search((i,j), idx):\n",
    "            if idx == len(word): return True\n",
    "            if board[i][j] != word[idx]: return False\n",
    "            \n",
    "            board[i][j] = '#'\n",
    "            \n",
    "            for ni,nj in ((i,j+1),(i+1,j),(i,j-1),(i-1,j)):\n",
    "                if ni >= 0 and ni < m and nj >= 0 and nj < n and board[ni][nj] != '#':\n",
    "                    if search((ni,nj), idx+1): return True\n",
    "            \n",
    "            board[i][j] = word[idx]\n",
    "            \n",
    "            return idx == len(word)-1\n",
    "        \n",
    "            \n",
    "        \n",
    "        for i in range(m):\n",
    "            for j in range(n):\n",
    "                if search((i,j),0): return True\n",
    "        \n",
    "        return False\n",
    "\n",
    "Solution().exist([[\"A\",\"B\",\"C\",\"E\"],[\"S\",\"F\",\"C\",\"S\"],[\"A\",\"D\",\"E\",\"E\"]], \"ABCCED\")\n"
   ]
  },
  {
   "cell_type": "markdown",
   "metadata": {},
   "source": [
    "#### Result:  284ms (93.09%)"
   ]
  }
 ],
 "metadata": {
  "kernelspec": {
   "display_name": "Python 2",
   "language": "python",
   "name": "python2"
  },
  "language_info": {
   "codemirror_mode": {
    "name": "ipython",
    "version": 2
   },
   "file_extension": ".py",
   "mimetype": "text/x-python",
   "name": "python",
   "nbconvert_exporter": "python",
   "pygments_lexer": "ipython2",
   "version": "2.7.16"
  }
 },
 "nbformat": 4,
 "nbformat_minor": 2
}
