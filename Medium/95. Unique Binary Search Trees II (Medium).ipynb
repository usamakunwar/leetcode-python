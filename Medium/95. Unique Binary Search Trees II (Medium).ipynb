{
 "cells": [
  {
   "cell_type": "markdown",
   "metadata": {},
   "source": [
    "# 95. Unique Binary Search Trees II (Medium)"
   ]
  },
  {
   "cell_type": "markdown",
   "metadata": {},
   "source": [
    "<div><p>Given an integer <code>n</code>, generate all structurally unique <strong>BST's</strong> (binary search trees) that store values 1 ...&nbsp;<em>n</em>.</p>\n",
    "\n",
    "<p><strong>Example:</strong></p>\n",
    "\n",
    "<pre><strong>Input:</strong> 3\n",
    "<strong>Output:</strong>\n",
    "[\n",
    "&nbsp; [1,null,3,2],\n",
    "&nbsp; [3,2,null,1],\n",
    "&nbsp; [3,1,null,null,2],\n",
    "&nbsp; [2,1,3],\n",
    "&nbsp; [1,null,2,null,3]\n",
    "]\n",
    "<strong>Explanation:</strong>\n",
    "The above output corresponds to the 5 unique BST's shown below:\n",
    "\n",
    "   1         3     3      2      1\n",
    "    \\       /     /      / \\      \\\n",
    "     3     2     1      1   3      2\n",
    "    /     /       \\                 \\\n",
    "   2     1         2                 3\n",
    "</pre>\n",
    "\n",
    "<p>&nbsp;</p>\n",
    "<p><strong>Constraints:</strong></p>\n",
    "\n",
    "<ul>\n",
    "\t<li><code>0 &lt;= n &lt;= 8</code></li>\n",
    "</ul>\n",
    "</div>"
   ]
  },
  {
   "cell_type": "markdown",
   "metadata": {},
   "source": [
    "## Option 1\n",
    " <p>    \n",
    "   DP Top down\n",
    "\n",
    "<p>\n",
    "<p>\n",
    "        \n"
   ]
  },
  {
   "cell_type": "code",
   "execution_count": null,
   "metadata": {},
   "outputs": [],
   "source": [
    "class Solution(object):\n",
    "    def generateTrees(self, n):\n",
    "        \n",
    "        self.seen = {}\n",
    "        \n",
    "        def search(l,r):\n",
    "            if (l,r) in self.seen: return self.seen[(l,r)]\n",
    "            \n",
    "            if l > r: return [None]\n",
    "            \n",
    "            if l == r: return [TreeNode(l)]\n",
    "            \n",
    "            res = []\n",
    "            for i in range(l,r+1):\n",
    "                left, right = search(l,i-1), search(i+1,r)\n",
    "                for j in left:\n",
    "                    for k in right:\n",
    "                        node = TreeNode(i)\n",
    "                        node.left = j\n",
    "                        node.right = k\n",
    "                        res.append(node)\n",
    "            \n",
    "            self.seen[(l,r)] = res\n",
    "            \n",
    "            return res\n",
    "            \n",
    "        return search(1,n) if n else []\n",
    "        "
   ]
  },
  {
   "cell_type": "markdown",
   "metadata": {},
   "source": [
    "#### Result:  48ms (86.58%)"
   ]
  }
 ],
 "metadata": {
  "kernelspec": {
   "display_name": "Python 2",
   "language": "python",
   "name": "python2"
  },
  "language_info": {
   "codemirror_mode": {
    "name": "ipython",
    "version": 2
   },
   "file_extension": ".py",
   "mimetype": "text/x-python",
   "name": "python",
   "nbconvert_exporter": "python",
   "pygments_lexer": "ipython2",
   "version": "2.7.16"
  }
 },
 "nbformat": 4,
 "nbformat_minor": 2
}
