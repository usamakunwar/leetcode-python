{
 "cells": [
  {
   "cell_type": "markdown",
   "metadata": {},
   "source": [
    "# 281. Zigzag Iterator (Medium)\n"
   ]
  },
  {
   "cell_type": "markdown",
   "metadata": {},
   "source": [
    "<div><p>Given two 1d vectors, implement an iterator to return their elements alternately.</p>\n",
    "\n",
    "<p>&nbsp;</p>\n",
    "\n",
    "<p><strong>Example:</strong></p>\n",
    "\n",
    "<pre><strong>Input:</strong>\n",
    "v1 = [1,2]\n",
    "v2 = [3,4,5,6] \n",
    "<strong>Output:</strong> <code>[1,3,2,4,5,6]\n",
    "<strong>Explanation:</strong></code>&nbsp;By calling <i>next</i> repeatedly until <i>hasNext</i> returns <code>false</code>, the order of elements returned by <i>next</i> should be: <code>[1,3,2,4,5,6]</code>.</pre>\n",
    "\n",
    "<p>&nbsp;</p>\n",
    "\n",
    "<p><b>Follow up</b>:</p>\n",
    "\n",
    "<p>What if you are given <code>k</code> 1d vectors? How well can your code be extended to such cases?</p>\n",
    "\n",
    "<p><strong>Clarification </strong><b>for the follow up question</b><strong>:</strong><br>\n",
    "The \"Zigzag\" order is not clearly defined and is ambiguous for <code>k &gt; 2</code> cases. If \"Zigzag\" does not look right to you, replace \"Zigzag\" with \"Cyclic\". For example:</p>\n",
    "\n",
    "<pre><strong>Input:</strong>\n",
    "[1,2,3]\n",
    "[4,5,6,7]\n",
    "[8,9]\n",
    "\n",
    "<strong>Output: </strong><code>[1,4,8,2,5,9,3,6,7]</code>.\n",
    "</pre>\n",
    "</div>"
   ]
  },
  {
   "cell_type": "markdown",
   "metadata": {},
   "source": [
    "## Option 1\n",
    "<p>\n",
    "   Iter solution\n",
    "    \n",
    " <p> <p>\n",
    "Time complexity: O(1)\n",
    "    <br>\n",
    "Space complexity: O(1)\n"
   ]
  },
  {
   "cell_type": "code",
   "execution_count": null,
   "metadata": {
    "scrolled": false
   },
   "outputs": [],
   "source": [
    "class ZigzagIterator(object):\n",
    "    #Run code result not working\n",
    "    def __init__(self, v1, v2):\n",
    "        self.v1,self.v2 = iter(v1),iter(v2)\n",
    "        \n",
    "        self.nxt = next(self.v1, None)\n",
    "        if self.nxt == None:\n",
    "            self.nxt = next(self.v2, None)        \n",
    "            self.v1, self.v2 = self.v2, self.v1\n",
    "            \n",
    "    def next(self):\n",
    "        nxt = self.nxt\n",
    "        self.v1, self.v2 = self.v2, self.v1\n",
    "        self.nxt = next(self.v1, None)\n",
    "        if self.nxt == None:\n",
    "            self.nxt = next(self.v2, None)        \n",
    "        return nxt\n",
    "        \n",
    "        \n",
    "    def hasNext(self):\n",
    "        return self.nxt != None        \n",
    "\n",
    "# Your ZigzagIterator object will be instantiated and called as such:\n",
    "# i, v = ZigzagIterator(v1, v2), []\n",
    "# while i.hasNext(): v.append(i.next())"
   ]
  },
  {
   "cell_type": "markdown",
   "metadata": {},
   "source": [
    "#### Result: 40ms (93.14%)"
   ]
  }
 ],
 "metadata": {
  "kernelspec": {
   "display_name": "Python 2",
   "language": "python",
   "name": "python2"
  },
  "language_info": {
   "codemirror_mode": {
    "name": "ipython",
    "version": 2
   },
   "file_extension": ".py",
   "mimetype": "text/x-python",
   "name": "python",
   "nbconvert_exporter": "python",
   "pygments_lexer": "ipython2",
   "version": "2.7.16"
  }
 },
 "nbformat": 4,
 "nbformat_minor": 2
}
