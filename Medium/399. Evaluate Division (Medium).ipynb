{
 "cells": [
  {
   "cell_type": "markdown",
   "metadata": {},
   "source": [
    "# 399. Evaluate Division (Medium)"
   ]
  },
  {
   "cell_type": "markdown",
   "metadata": {},
   "source": [
    "<div><p>Equations are given in the format <code>A / B = k</code>, where <code>A</code> and <code>B</code> are variables represented as strings, and <code>k</code> is a real number (floating point number). Given some queries, return the answers. If the answer does not exist, return <code>-1.0</code>.</p>\n",
    "\n",
    "<p><b>Example:</b><br>\n",
    "Given <code> a / b = 2.0, b / c = 3.0.</code><br>\n",
    "queries are: <code> a / c = ?, b / a = ?, a / e = ?, a / a = ?, x / x = ? .</code><br>\n",
    "return <code> [6.0, 0.5, -1.0, 1.0, -1.0 ].</code></p>\n",
    "\n",
    "<p>The input is: <code> vector&lt;pair&lt;string, string&gt;&gt; equations, vector&lt;double&gt;&amp; values, vector&lt;pair&lt;string, string&gt;&gt; queries </code>, where <code>equations.size() == values.size()</code>, and the values are positive. This represents the equations. Return <code> vector&lt;double&gt;</code>.</p>\n",
    "\n",
    "<p>According to the example above:</p>\n",
    "\n",
    "<pre>equations = [ [\"a\", \"b\"], [\"b\", \"c\"] ],\n",
    "values = [2.0, 3.0],\n",
    "queries = [ [\"a\", \"c\"], [\"b\", \"a\"], [\"a\", \"e\"], [\"a\", \"a\"], [\"x\", \"x\"] ]. </pre>\n",
    "\n",
    "<p>&nbsp;</p>\n",
    "\n",
    "<p>The input is always valid. You may assume that evaluating the queries will result in no division by zero and there is no contradiction.</p>\n",
    "</div>"
   ]
  },
  {
   "cell_type": "markdown",
   "metadata": {},
   "source": [
    "## Option 1\n",
    "<p>\n",
    "    DFS\n",
    "<p>\n",
    "    <li>We have to do a search. Eg. equations [[a,b],[b,c],[c,d],[d,e]]. a,e is the product of the search from a to e\n"
   ]
  },
  {
   "cell_type": "code",
   "execution_count": null,
   "metadata": {
    "scrolled": true
   },
   "outputs": [],
   "source": [
    "from collections import defaultdict\n",
    "class Solution(object):\n",
    "    def calcEquation(self, equations, values, queries):\n",
    "        eq_map = defaultdict(lambda: defaultdict(float))\n",
    "        for i,(a,b) in enumerate(equations):\n",
    "            eq_map[a][b] = values[i]\n",
    "            eq_map[b][a] = 1/values[i]\n",
    "            eq_map[a][a] = 1 #For when a==b in query\n",
    "        \n",
    "        #Find b in a\n",
    "        self.seen = set()\n",
    "        def search(a,b,curr):\n",
    "            self.seen.add(a)\n",
    "            if b in eq_map[a]: return curr*eq_map[a][b]\n",
    "            for c,v in eq_map[a].items():\n",
    "                if c not in self.seen:\n",
    "                    s = search(c,b,curr*v)\n",
    "                    if s: return s                \n",
    "            return 0\n",
    "        \n",
    "        res = []        \n",
    "        for a,b in queries:\n",
    "            res.append(search(a,b,1) or 1/(search(b,a,1) or float(-1)))\n",
    "            self.seen.clear()\n",
    "            \n",
    "        return res\n",
    "        \n",
    "        \n",
    "Solution().calcEquation([[\"a\",\"e\"],[\"b\",\"e\"]],[4.0,3.0],[[\"a\",\"b\"],[\"e\",\"e\"],[\"x\",\"x\"]])"
   ]
  },
  {
   "cell_type": "markdown",
   "metadata": {},
   "source": [
    "#### Result: 28ms (10.27%)"
   ]
  },
  {
   "cell_type": "markdown",
   "metadata": {},
   "source": [
    "## Option 2\n",
    "<p>\n",
    "    BFS\n",
    "<p>"
   ]
  },
  {
   "cell_type": "code",
   "execution_count": null,
   "metadata": {},
   "outputs": [],
   "source": [
    "class Solution(object):\n",
    "    def calcEquation(self, equations, values, queries):\n",
    "        graph = collections.defaultdict(list)\n",
    "        \n",
    "        for i,(u,v) in enumerate(equations):\n",
    "            graph[u].append((v,values[i]))\n",
    "            graph[v].append((u,1/values[i]))\n",
    "        \n",
    "        res = [float(-1)]*len(queries)\n",
    "        \n",
    "        for i,(u,v) in enumerate(queries):\n",
    "            if u not in graph or v not in graph: continue\n",
    "            q = collections.deque([(u,1)])\n",
    "            seen = set([u])\n",
    "            while q:\n",
    "                curr,val = q.popleft()\n",
    "                if curr == v:\n",
    "                    res[i] = float(val)\n",
    "                for nxt in graph[curr]:\n",
    "                    if nxt[0] in seen: continue\n",
    "                    seen.add(nxt[0])\n",
    "                    q.append((nxt[0],val*nxt[1]))\n",
    "        \n",
    "        return res\n",
    "            \n",
    "            \n",
    "\n",
    "Solution().calcEquation([[\"a\",\"b\"],[\"b\",\"c\"]], [2.0,3.0],\n",
    "                        [[\"a\",\"c\"],[\"b\",\"a\"],[\"a\",\"e\"],[\"a\",\"a\"],[\"x\",\"x\"]])\n"
   ]
  },
  {
   "cell_type": "markdown",
   "metadata": {},
   "source": [
    "#### Result: 28ms (21.04%)"
   ]
  }
 ],
 "metadata": {
  "kernelspec": {
   "display_name": "Python 2",
   "language": "python",
   "name": "python2"
  },
  "language_info": {
   "codemirror_mode": {
    "name": "ipython",
    "version": 2
   },
   "file_extension": ".py",
   "mimetype": "text/x-python",
   "name": "python",
   "nbconvert_exporter": "python",
   "pygments_lexer": "ipython2",
   "version": "2.7.16"
  }
 },
 "nbformat": 4,
 "nbformat_minor": 2
}
