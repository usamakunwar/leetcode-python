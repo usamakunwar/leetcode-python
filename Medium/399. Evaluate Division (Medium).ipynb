{
 "cells": [
  {
   "cell_type": "markdown",
   "metadata": {},
   "source": [
    "# 399. Evaluate Division (Medium)"
   ]
  },
  {
   "cell_type": "markdown",
   "metadata": {},
   "source": [
    "<div><p>Equations are given in the format <code>A / B = k</code>, where <code>A</code> and <code>B</code> are variables represented as strings, and <code>k</code> is a real number (floating point number). Given some queries, return the answers. If the answer does not exist, return <code>-1.0</code>.</p>\n",
    "\n",
    "<p><b>Example:</b><br>\n",
    "Given <code> a / b = 2.0, b / c = 3.0.</code><br>\n",
    "queries are: <code> a / c = ?, b / a = ?, a / e = ?, a / a = ?, x / x = ? .</code><br>\n",
    "return <code> [6.0, 0.5, -1.0, 1.0, -1.0 ].</code></p>\n",
    "\n",
    "<p>The input is: <code> vector&lt;pair&lt;string, string&gt;&gt; equations, vector&lt;double&gt;&amp; values, vector&lt;pair&lt;string, string&gt;&gt; queries </code>, where <code>equations.size() == values.size()</code>, and the values are positive. This represents the equations. Return <code> vector&lt;double&gt;</code>.</p>\n",
    "\n",
    "<p>According to the example above:</p>\n",
    "\n",
    "<pre>equations = [ [\"a\", \"b\"], [\"b\", \"c\"] ],\n",
    "values = [2.0, 3.0],\n",
    "queries = [ [\"a\", \"c\"], [\"b\", \"a\"], [\"a\", \"e\"], [\"a\", \"a\"], [\"x\", \"x\"] ]. </pre>\n",
    "\n",
    "<p>&nbsp;</p>\n",
    "\n",
    "<p>The input is always valid. You may assume that evaluating the queries will result in no division by zero and there is no contradiction.</p>\n",
    "</div>"
   ]
  },
  {
   "cell_type": "markdown",
   "metadata": {},
   "source": [
    "## Option 1\n",
    "<p>\n",
    "    BFS\n",
    "    <p>\n",
    "        <li>We have to do a search. Eg. equations [ [ a , b ] , [ b , c ] , [ c , d ] , [ d , e ] ]. a/e is the product of the search from a to e\n",
    "<p>"
   ]
  },
  {
   "cell_type": "code",
   "execution_count": null,
   "metadata": {},
   "outputs": [],
   "source": [
    "class Solution(object):\n",
    "    def calcEquation(self, equations, values, queries):\n",
    "        graph = collections.defaultdict(list)\n",
    "        \n",
    "        for i,(u,v) in enumerate(equations):\n",
    "            graph[u].append((v,values[i]))\n",
    "            graph[v].append((u,1/values[i]))\n",
    "        \n",
    "        res = [float(-1)]*len(queries)\n",
    "        \n",
    "        for i,(u,v) in enumerate(queries):\n",
    "            if u not in graph or v not in graph: continue\n",
    "            q = collections.deque([(u,1)])\n",
    "            path = set([u])\n",
    "            while q:\n",
    "                curr,val = q.popleft()\n",
    "                if curr == v:\n",
    "                    res[i] = float(val)\n",
    "                for nxt in graph[curr]:\n",
    "                    if nxt[0] in path: continue\n",
    "                    path.add(nxt[0])\n",
    "                    q.append((nxt[0],val*nxt[1]))\n",
    "        \n",
    "        return res\n",
    "            \n",
    "Solution().calcEquation([[\"a\",\"b\"],[\"b\",\"c\"]], [2.0,3.0],\n",
    "                        [[\"a\",\"c\"],[\"b\",\"a\"],[\"a\",\"e\"],[\"a\",\"a\"],[\"x\",\"x\"]])\n"
   ]
  },
  {
   "cell_type": "markdown",
   "metadata": {},
   "source": [
    "#### Result: 28ms (21.04%)"
   ]
  }
 ],
 "metadata": {
  "kernelspec": {
   "display_name": "Python 2",
   "language": "python",
   "name": "python2"
  },
  "language_info": {
   "codemirror_mode": {
    "name": "ipython",
    "version": 2
   },
   "file_extension": ".py",
   "mimetype": "text/x-python",
   "name": "python",
   "nbconvert_exporter": "python",
   "pygments_lexer": "ipython2",
   "version": "2.7.16"
  }
 },
 "nbformat": 4,
 "nbformat_minor": 2
}
