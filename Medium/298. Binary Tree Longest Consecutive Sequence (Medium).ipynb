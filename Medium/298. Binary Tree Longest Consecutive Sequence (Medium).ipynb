{
 "cells": [
  {
   "cell_type": "markdown",
   "metadata": {},
   "source": [
    "# 298. Binary Tree Longest Consecutive Sequence (Medium)"
   ]
  },
  {
   "cell_type": "markdown",
   "metadata": {},
   "source": [
    "<div><p>Given a binary tree, find the length of the longest consecutive sequence path.</p>\n",
    "\n",
    "<p>The path refers to any sequence of nodes from some starting node to any node in the tree along the parent-child connections. The longest consecutive path need to be from parent to child (cannot be the reverse).</p>\n",
    "\n",
    "<p><strong>Example 1:</strong></p>\n",
    "\n",
    "<pre><strong>Input:</strong>\n",
    "\n",
    "   1\n",
    "    \\\n",
    "     3\n",
    "    / \\\n",
    "   2   4\n",
    "        \\\n",
    "         5\n",
    "\n",
    "<strong>Output:</strong> <code>3</code>\n",
    "\n",
    "<strong>Explanation: </strong>Longest consecutive sequence path is <code>3-4-5</code><span style=\"font-family: sans-serif, Arial, Verdana, &quot;Trebuchet MS&quot;;\">, so return </span><code>3</code><span style=\"font-family: sans-serif, Arial, Verdana, &quot;Trebuchet MS&quot;;\">.</span></pre>\n",
    "\n",
    "<p><strong>Example 2:</strong></p>\n",
    "\n",
    "<pre><strong>Input:\n",
    "\n",
    "</strong>   2\n",
    "    \\\n",
    "     3\n",
    "    / \n",
    "   2    \n",
    "  / \n",
    " 1\n",
    "\n",
    "<strong>Output: 2 \n",
    "\n",
    "Explanation: </strong>Longest consecutive sequence path is <code>2-3</code><span style=\"font-family: sans-serif, Arial, Verdana, &quot;Trebuchet MS&quot;;\">, not </span><code>3-2-1</code><span style=\"font-family: sans-serif, Arial, Verdana, &quot;Trebuchet MS&quot;;\">, so return </span><code>2</code><span style=\"font-family: sans-serif, Arial, Verdana, &quot;Trebuchet MS&quot;;\">.</span></pre></div>"
   ]
  },
  {
   "cell_type": "markdown",
   "metadata": {},
   "source": [
    "## Option 1\n",
    "<p>\n",
    "<p>\n",
    "    <p>\n",
    "Time complexity: O(n)\n",
    "<br>\n",
    "Space complexity: O(n) "
   ]
  },
  {
   "cell_type": "code",
   "execution_count": null,
   "metadata": {},
   "outputs": [],
   "source": [
    "# Definition for a binary tree node.\n",
    "# class TreeNode(object):\n",
    "#     def __init__(self, x):\n",
    "#         self.val = x\n",
    "#         self.left = None\n",
    "#         self.right = None\n",
    "\n",
    "class Solution(object):\n",
    "    def longestConsecutive(self, root):\n",
    "        \"\"\"\n",
    "        :type root: TreeNode\n",
    "        :rtype: int\n",
    "        \"\"\"\n",
    "        if not root: return 0\n",
    "        \n",
    "        self.res = 1\n",
    "        \n",
    "        def search(node, prev):\n",
    "            left = search(node.left, node.val) if node.left else 0\n",
    "            right = search(node.right, node.val) if node.right else 0\n",
    "            \n",
    "            if prev != None and prev+1 == node.val:\n",
    "                return max(left+1,right+1)\n",
    "            else:\n",
    "                #If left or right exist that means this current node is consecutive, so add 1\n",
    "                self.res = max(self.res, left+1 if left else 0 ,right+1 if right else 0)\n",
    "                return 0\n",
    "            \n",
    "        search(root, None)\n",
    "        \n",
    "        return self.res"
   ]
  },
  {
   "cell_type": "markdown",
   "metadata": {},
   "source": [
    "#### Result: 108ms (71.97%)\n"
   ]
  }
 ],
 "metadata": {
  "kernelspec": {
   "display_name": "Python 2",
   "language": "python",
   "name": "python2"
  },
  "language_info": {
   "codemirror_mode": {
    "name": "ipython",
    "version": 2
   },
   "file_extension": ".py",
   "mimetype": "text/x-python",
   "name": "python",
   "nbconvert_exporter": "python",
   "pygments_lexer": "ipython2",
   "version": "2.7.16"
  }
 },
 "nbformat": 4,
 "nbformat_minor": 2
}
