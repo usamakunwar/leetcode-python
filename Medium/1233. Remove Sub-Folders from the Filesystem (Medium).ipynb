{
 "cells": [
  {
   "cell_type": "markdown",
   "metadata": {},
   "source": [
    "# 1233. Remove Sub-Folders from the Filesystem (Medium)\n"
   ]
  },
  {
   "cell_type": "markdown",
   "metadata": {},
   "source": [
    "<div><p>Given a list of folders, remove all sub-folders in those folders and return in <strong>any order</strong> the folders after removing.</p>\n",
    "\n",
    "<p>If a <code>folder[i]</code> is located within&nbsp;another <code>folder[j]</code>, it is called a&nbsp;sub-folder&nbsp;of it.</p>\n",
    "\n",
    "<p>The format of a path is&nbsp;one or more concatenated strings of the form:&nbsp;<code>/</code>&nbsp;followed by one or more lowercase English letters. For example,&nbsp;<code>/leetcode</code>&nbsp;and&nbsp;<code>/leetcode/problems</code>&nbsp;are valid paths while an empty string and&nbsp;<code>/</code>&nbsp;are not.</p>\n",
    "\n",
    "<p>&nbsp;</p>\n",
    "<p><strong>Example 1:</strong></p>\n",
    "\n",
    "<pre><strong>Input:</strong> folder = [\"/a\",\"/a/b\",\"/c/d\",\"/c/d/e\",\"/c/f\"]\n",
    "<strong>Output:</strong> [\"/a\",\"/c/d\",\"/c/f\"]\n",
    "<strong>Explanation:</strong> Folders \"/a/b/\" is a subfolder of \"/a\" and \"/c/d/e\" is inside of folder \"/c/d\" in our filesystem.\n",
    "</pre>\n",
    "\n",
    "<p><strong>Example 2:</strong></p>\n",
    "\n",
    "<pre><strong>Input:</strong> folder = [\"/a\",\"/a/b/c\",\"/a/b/d\"]\n",
    "<strong>Output:</strong> [\"/a\"]\n",
    "<strong>Explanation:</strong> Folders \"/a/b/c\" and \"/a/b/d/\" will be removed because they are subfolders of \"/a\".\n",
    "</pre>\n",
    "\n",
    "<p><strong>Example 3:</strong></p>\n",
    "\n",
    "<pre><strong>Input:</strong> folder = [\"/a/b/c\",\"/a/b/ca\",\"/a/b/d\"]\n",
    "<strong>Output:</strong> [\"/a/b/c\",\"/a/b/ca\",\"/a/b/d\"]\n",
    "</pre>\n",
    "\n",
    "<p>&nbsp;</p>\n",
    "<p><strong>Constraints:</strong></p>\n",
    "\n",
    "<ul>\n",
    "\t<li><code>1 &lt;= folder.length&nbsp;&lt;= 4 * 10^4</code></li>\n",
    "\t<li><code>2 &lt;= folder[i].length &lt;= 100</code></li>\n",
    "\t<li><code>folder[i]</code> contains only&nbsp;lowercase letters and '/'</li>\n",
    "\t<li><code>folder[i]</code> always starts with character '/'</li>\n",
    "\t<li>Each folder name is unique.</li>\n",
    "</ul>\n",
    "</div>"
   ]
  },
  {
   "cell_type": "markdown",
   "metadata": {},
   "source": [
    "## Option 1\n",
    "<p>\n",
    "Time complexity: O(nm) n = number of folders, m = size of folder name\n",
    "<br>\n",
    "Space complexity: O(n)"
   ]
  },
  {
   "cell_type": "code",
   "execution_count": null,
   "metadata": {
    "scrolled": false
   },
   "outputs": [],
   "source": [
    "import collections\n",
    "class Solution(object):\n",
    "    def removeSubfolders(self, folder):\n",
    "        to_remove = set(folder)\n",
    "        res = []\n",
    "        for f in folder:\n",
    "            lookup, can_add = '', True\n",
    "            #The first item of the spit is blank, the last is the actual folder (we only need parents)\n",
    "            for a in f.split('/')[1:-1]:\n",
    "                #Ensure to have a split or we cannot defer between a/b/c and a/bc\n",
    "                lookup += '/'+a \n",
    "                if lookup in to_remove:\n",
    "                    can_add = False\n",
    "                    break\n",
    "            if can_add: res.append(f)\n",
    "        return res\n",
    "\n",
    "Solution().removeSubfolders([\"/a/b/c\",\"/a/b/ca\",\"/a/b/d\"])"
   ]
  },
  {
   "cell_type": "markdown",
   "metadata": {},
   "source": [
    "#### Result: 236ms (67.72%)"
   ]
  },
  {
   "cell_type": "markdown",
   "metadata": {},
   "source": [
    "## Option 2\n",
    "<p>\n",
    "Time complexity: O(nlogn) n = number of folders\n",
    "<br>\n",
    "Space complexity: O(1)"
   ]
  },
  {
   "cell_type": "code",
   "execution_count": null,
   "metadata": {},
   "outputs": [],
   "source": [
    "import collections\n",
    "class Solution(object):\n",
    "    def removeSubfolders(self, folder):\n",
    "        folder.sort()\n",
    "        ln = len(folder)\n",
    "        #Last folder = the last folder of which need to remove sub folders\n",
    "        #Need to add '/' to avoid removing folders like a/b/cd when the last is a/b/c\n",
    "        last = folder[0]+'/' \n",
    "        i,res = 1,[folder[0]]\n",
    "        while i < ln:\n",
    "            if last != folder[i][:len(last)]:\n",
    "                res.append(folder[i])\n",
    "                last = folder[i]+'/'\n",
    "            i += 1\n",
    "        return res\n",
    "\n",
    "Solution().removeSubfolders([\"/a\",\"/a/b\",\"/c/d\",\"/c/d/e\",\"/c/f\"])"
   ]
  },
  {
   "cell_type": "markdown",
   "metadata": {},
   "source": [
    "#### Result: 188ms (89.95%)"
   ]
  }
 ],
 "metadata": {
  "kernelspec": {
   "display_name": "Python 2",
   "language": "python",
   "name": "python2"
  },
  "language_info": {
   "codemirror_mode": {
    "name": "ipython",
    "version": 2
   },
   "file_extension": ".py",
   "mimetype": "text/x-python",
   "name": "python",
   "nbconvert_exporter": "python",
   "pygments_lexer": "ipython2",
   "version": "2.7.16"
  }
 },
 "nbformat": 4,
 "nbformat_minor": 2
}
