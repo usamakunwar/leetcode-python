{
 "cells": [
  {
   "cell_type": "markdown",
   "metadata": {},
   "source": [
    "# 1612. Check If Two Expression Trees are Equivalent (Medium)"
   ]
  },
  {
   "cell_type": "markdown",
   "metadata": {},
   "source": [
    "<div><p>A <strong><a href=\"https://en.wikipedia.org/wiki/Binary_expression_tree\" target=\"_blank\">binary expression tree</a></strong> is a kind of binary tree used to represent arithmetic expressions. Each node of a binary expression tree has either zero or two children. Leaf nodes (nodes with 0 children) correspond to operands (variables), and internal nodes (nodes with two children) correspond to the operators. In this problem, we only consider the <code>'+'</code> operator (i.e. addition).</p>\n",
    "\n",
    "<p>You are given the roots of two binary expression trees, <code>root1</code> and <code>root2</code>. Return <code>true</code><em> if the two binary expression trees are equivalent</em>. Otherwise, return <code>false</code>.</p>\n",
    "\n",
    "<p>Two binary expression trees are equivalent if they <strong>evaluate to the same value</strong> regardless of what the variables are set to.</p>\n",
    "\n",
    "<p><strong>Follow up:</strong> What will you change in your solution if the tree also supports the <code>'-'</code> operator (i.e. subtraction)?</p>\n",
    "\n",
    "<p>&nbsp;</p>\n",
    "<p><strong>Example 1:</strong></p>\n",
    "\n",
    "<pre><strong>Input:</strong> root1 = [x], root2 = [x]\n",
    "<strong>Output:</strong> true\n",
    "</pre>\n",
    "\n",
    "<p><strong>Example 2:</strong></p>\n",
    "\n",
    "<p><strong><img alt=\"\" src=\"https://assets.leetcode.com/uploads/2020/10/04/tree1.png\" style=\"width: 211px; height: 131px;\"></strong></p>\n",
    "\n",
    "<pre><strong>Input:</strong> root1 = [+,a,+,null,null,b,c], root2 = [+,+,b,c,a]\n",
    "<strong>Output:</strong> true\n",
    "<strong>Explaination:</strong> <code>a + (b + c) == (b + c) + a</code></pre>\n",
    "\n",
    "<p><strong>Example 3:</strong></p>\n",
    "\n",
    "<p><strong><img alt=\"\" src=\"https://assets.leetcode.com/uploads/2020/10/04/tree2.png\" style=\"width: 211px; height: 131px;\"></strong></p>\n",
    "\n",
    "<pre><strong>Input:</strong> root1 = [+,a,+,null,null,b,c], root2 = [+,+,b,d,a]\n",
    "<strong>Output:</strong> false\n",
    "<strong>Explaination:</strong> <code>a + (b + c) != (b + d) + a</code>\n",
    "</pre>\n",
    "\n",
    "<p>&nbsp;</p>\n",
    "<p><strong>Constraints:</strong></p>\n",
    "\n",
    "<ul>\n",
    "\t<li>The number of nodes in both trees are equal, odd and, in the range <code>[1, 4999]</code>.</li>\n",
    "\t<li><code>Node.val</code> is <code>'+'</code> or a lower-case English letter.</li>\n",
    "\t<li>It's <strong>guaranteed</strong> that the tree given is a valid binary expression tree.</li>\n",
    "</ul>\n",
    "</div>"
   ]
  },
  {
   "cell_type": "markdown",
   "metadata": {},
   "source": [
    "## Option 1\n",
    " <p>    <p>\n",
    "<p>\n",
    "            \n",
    "Time complexity: O(n)\n",
    "    <br>\n",
    "Space complexity: O(n)\n",
    "        \n"
   ]
  },
  {
   "cell_type": "code",
   "execution_count": null,
   "metadata": {
    "scrolled": true
   },
   "outputs": [],
   "source": [
    "class Solution(object):\n",
    "    def checkEquivalence(self, root1, root2):\n",
    "        m = collections.Counter()\n",
    "        \n",
    "        def search(node, d):\n",
    "            if node.val != '+':\n",
    "                m[node.val] += (1)*d\n",
    "            if node.left: search(node.left, d)\n",
    "            if node.right: search(node.right, d)\n",
    "                \n",
    "        search(root1, 1) \n",
    "        search(root2, -1)\n",
    "                \n",
    "        for i in m.values():\n",
    "            if i != 0 : return False\n",
    "        return True"
   ]
  },
  {
   "cell_type": "markdown",
   "metadata": {},
   "source": [
    "#### Result: 588ms (92.31%)"
   ]
  }
 ],
 "metadata": {
  "kernelspec": {
   "display_name": "Python 2",
   "language": "python",
   "name": "python2"
  },
  "language_info": {
   "codemirror_mode": {
    "name": "ipython",
    "version": 2
   },
   "file_extension": ".py",
   "mimetype": "text/x-python",
   "name": "python",
   "nbconvert_exporter": "python",
   "pygments_lexer": "ipython2",
   "version": "2.7.16"
  }
 },
 "nbformat": 4,
 "nbformat_minor": 2
}
