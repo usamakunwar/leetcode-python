{
 "cells": [
  {
   "cell_type": "markdown",
   "metadata": {},
   "source": [
    "# 1130. Minimum Cost Tree From Leaf Values (Medium)"
   ]
  },
  {
   "cell_type": "markdown",
   "metadata": {},
   "source": [
    "<div><p>Given an array <code>arr</code> of positive integers, consider all binary trees such that:</p>\n",
    "\n",
    "<ul>\n",
    "\t<li>Each node has either 0 or 2 children;</li>\n",
    "\t<li>The values of <code>arr</code> correspond to the values of each&nbsp;<strong>leaf</strong> in an in-order traversal of the tree.&nbsp; <em>(Recall that a node is a leaf if and only if it has 0 children.)</em></li>\n",
    "\t<li>The value&nbsp;of each non-leaf node is equal to the product of the largest leaf value in its left and right subtree respectively.</li>\n",
    "</ul>\n",
    "\n",
    "<p>Among all possible binary trees considered,&nbsp;return the smallest possible sum of the values of each non-leaf node.&nbsp; It is guaranteed this sum fits into a 32-bit integer.</p>\n",
    "\n",
    "<p>&nbsp;</p>\n",
    "<p><strong>Example 1:</strong></p>\n",
    "\n",
    "<pre><strong>Input:</strong> arr = [6,2,4]\n",
    "<strong>Output:</strong> 32\n",
    "<strong>Explanation:</strong>\n",
    "There are two possible trees.  The first has non-leaf node sum 36, and the second has non-leaf node sum 32.\n",
    "\n",
    "    24            24\n",
    "   /  \\          /  \\\n",
    "  12   4        6    8\n",
    " /  \\               / \\\n",
    "6    2             2   4\n",
    "</pre>\n",
    "\n",
    "<p>&nbsp;</p>\n",
    "<p><strong>Constraints:</strong></p>\n",
    "\n",
    "<ul>\n",
    "\t<li><code>2 &lt;= arr.length &lt;= 40</code></li>\n",
    "\t<li><code>1 &lt;= arr[i] &lt;= 15</code></li>\n",
    "\t<li>It is guaranteed that the answer fits into a 32-bit signed integer (ie.&nbsp;it is less than <code>2^31</code>).</li>\n",
    "</ul></div>"
   ]
  },
  {
   "cell_type": "markdown",
   "metadata": {},
   "source": [
    "## Option 1\n",
    "<p>\n",
    "   Top down (DFS)\n",
    " <p>\n",
    "         <p>\n",
    "Time complexity: O(n^3)\n",
    "    <br>\n",
    "Space complexity: O(n^3)\n"
   ]
  },
  {
   "cell_type": "code",
   "execution_count": null,
   "metadata": {
    "scrolled": true
   },
   "outputs": [],
   "source": [
    "class Solution(object):\n",
    "    def mctFromLeafValues(self, arr):\n",
    "        self.seen = {}\n",
    "        def search(l,r):\n",
    "            if (l,r) in self.seen: return self.seen[(l,r)]\n",
    "            if l == r: return 0\n",
    "            res = float('inf')\n",
    "            for i in range(l,r):\n",
    "                curr = max(arr[l:i+1])*max(arr[i+1:r+1])\n",
    "                res = min(res, search(l,i)+search(i+1,r)+curr)  \n",
    "            \n",
    "            self.seen[(l,r)] = res\n",
    "            return res\n",
    "                \n",
    "        return(search(0,len(arr)-1))\n",
    "        \n",
    "        \n",
    "Solution().mctFromLeafValues([6,2,4])\n",
    "        "
   ]
  },
  {
   "cell_type": "markdown",
   "metadata": {},
   "source": [
    "#### Result: 336ms (5.65%)"
   ]
  },
  {
   "cell_type": "markdown",
   "metadata": {},
   "source": [
    "## Option 2\n",
    "<p>\n",
    "   Dynamic Programming - Bottom up - similar to Matrix chain multiplication\n",
    " <p>\n",
    "\n",
    "\n",
    "Time complexity: O(n^3)\n",
    "    <br>\n",
    "Space complexity: O(n^3)\n"
   ]
  },
  {
   "cell_type": "code",
   "execution_count": null,
   "metadata": {},
   "outputs": [],
   "source": [
    "class Solution(object):\n",
    "    def mctFromLeafValues(self, arr):\n",
    "        dp = [[0]*(len(arr)) for i in range(len(arr))]\n",
    "            \n",
    "        for k in range(1, len(arr)):\n",
    "            for i in range(len(arr)-k):\n",
    "                dp[i][i+k] = float('inf')\n",
    "                for j in range(i,(i+k)):\n",
    "                    curr = max(arr[i:j+1]) * max(arr[j+1:i+k+1])\n",
    "                    dp[i][i+k] = min(dp[i][i+k], dp[i][j]+dp[j+1][i+k]+curr)\n",
    "        \n",
    "        return dp[0][-1]\n",
    "        \n",
    "Solution().mctFromLeafValues([6,2,4])\n",
    "        "
   ]
  },
  {
   "cell_type": "markdown",
   "metadata": {},
   "source": [
    "#### Result: 228ms (16.73%)"
   ]
  }
 ],
 "metadata": {
  "kernelspec": {
   "display_name": "Python 2",
   "language": "python",
   "name": "python2"
  },
  "language_info": {
   "codemirror_mode": {
    "name": "ipython",
    "version": 2
   },
   "file_extension": ".py",
   "mimetype": "text/x-python",
   "name": "python",
   "nbconvert_exporter": "python",
   "pygments_lexer": "ipython2",
   "version": "2.7.16"
  }
 },
 "nbformat": 4,
 "nbformat_minor": 2
}
