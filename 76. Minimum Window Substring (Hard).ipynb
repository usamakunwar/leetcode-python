{
 "cells": [
  {
   "cell_type": "markdown",
   "metadata": {},
   "source": [
    "# 76. Minimum Window Substring (Hard)"
   ]
  },
  {
   "cell_type": "markdown",
   "metadata": {},
   "source": [
    "<div><p>Given a string S and a string T, find the minimum window in S which will contain all the characters in T in complexity O(n).</p>\n",
    "\n",
    "<p><strong>Example:</strong></p>\n",
    "\n",
    "<pre><strong>Input: S</strong> = \"ADOBECODEBANC\", <strong>T</strong> = \"ABC\"\n",
    "<strong>Output:</strong> \"BANC\"\n",
    "</pre>\n",
    "\n",
    "<p><strong>Note:</strong></p>\n",
    "\n",
    "<ul>\n",
    "\t<li>If there is no such window in S that covers all characters in T, return the empty string <code>\"\"</code>.</li>\n",
    "\t<li>If there is such window, you are guaranteed that there will always be only one unique minimum window in S.</li>\n",
    "</ul>\n",
    "</div>"
   ]
  },
  {
   "cell_type": "markdown",
   "metadata": {},
   "source": [
    "## Option 1\n",
    "\n",
    "Sliding window\n",
    "<li>String t can contain duplicates, the result string can contain duplicates of values that are needed from string t\n",
    "<li>We know that our window is valid if all items in our counter are less or equal to zero\n",
    "<li>Once our window is valid we can make it smaller\n",
    "<p>\n",
    "Time complexity = O(s)\n",
    "<br>\n",
    "Space complexity = O(1)"
   ]
  },
  {
   "cell_type": "code",
   "execution_count": 60,
   "metadata": {
    "scrolled": false
   },
   "outputs": [
    {
     "data": {
      "text/plain": [
       "'ASBSBC'"
      ]
     },
     "execution_count": 60,
     "metadata": {},
     "output_type": "execute_result"
    }
   ],
   "source": [
    "import collections\n",
    "class Solution(object):\n",
    "    def minWindow(self, s, t):\n",
    "        left, t_map = 0, collections.Counter(t)\n",
    "        start, end = 0, float('inf')\n",
    "        for i,v in enumerate(s):\n",
    "            if v in t_map:\n",
    "                t_map[v] -= 1\n",
    "            while all(v <= 0 for i,v in t_map.items()) or (i-left) >= (end-start):\n",
    "                if (i-left) < (end-start):\n",
    "                    start, end = left, i\n",
    "                if s[left] in t_map:\n",
    "                    t_map[s[left]] += 1\n",
    "                left += 1  \n",
    "        return \"\" if end == float('inf') else s[start:end+1]\n",
    "\n",
    "    \n",
    "                \n",
    "Solution().minWindow(\"ADFASBSBC\", \"ABC\")"
   ]
  },
  {
   "cell_type": "markdown",
   "metadata": {},
   "source": [
    "#### Result: 492ms (10.53%)"
   ]
  },
  {
   "cell_type": "markdown",
   "metadata": {},
   "source": [
    "## Option 2\n",
    "\n",
    "Sliding window\n",
    "<li>Our window validity check can be improved by keeping len_t counter, this can count the 'needed' characters\n",
    "<p>\n",
    "Time complexity = O(s)\n",
    "<br>\n",
    "Space complexity = O(1)"
   ]
  },
  {
   "cell_type": "code",
   "execution_count": 88,
   "metadata": {
    "scrolled": true
   },
   "outputs": [
    {
     "data": {
      "text/plain": [
       "'BSB'"
      ]
     },
     "execution_count": 88,
     "metadata": {},
     "output_type": "execute_result"
    }
   ],
   "source": [
    "import collections\n",
    "class Solution(object):\n",
    "    def minWindow(self, s, t):\n",
    "        left, t_map, len_t = 0, collections.Counter(t), len(t)\n",
    "        start, end = 0, float('inf')\n",
    "        for i,v in enumerate(s):\n",
    "            len_t -= t_map[v] > 0\n",
    "            t_map[v] -= 1\n",
    "            while not len_t or (i-left) >= (end-start):\n",
    "                if (i-left) < (end-start):\n",
    "                    start, end = left, i\n",
    "                t_map[s[left]] += 1\n",
    "                len_t += t_map[s[left]] > 0\n",
    "                left += 1 \n",
    "        return \"\" if end == float('inf') else s[start:end+1]\n",
    "Solution().minWindow(\"ADFASBSBC\", \"BSB\")"
   ]
  },
  {
   "cell_type": "markdown",
   "metadata": {},
   "source": [
    "#### Result: 140ms (39.20%)"
   ]
  }
 ],
 "metadata": {
  "kernelspec": {
   "display_name": "Python 3",
   "language": "python",
   "name": "python3"
  },
  "language_info": {
   "codemirror_mode": {
    "name": "ipython",
    "version": 3
   },
   "file_extension": ".py",
   "mimetype": "text/x-python",
   "name": "python",
   "nbconvert_exporter": "python",
   "pygments_lexer": "ipython3",
   "version": "3.7.4"
  }
 },
 "nbformat": 4,
 "nbformat_minor": 2
}
