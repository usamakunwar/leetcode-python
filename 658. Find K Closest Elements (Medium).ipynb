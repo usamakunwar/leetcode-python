{
 "cells": [
  {
   "cell_type": "markdown",
   "metadata": {},
   "source": [
    "# 658. Find K Closest Elements (Medium)"
   ]
  },
  {
   "cell_type": "markdown",
   "metadata": {},
   "source": [
    "<div><p>\n",
    "Given a sorted array, two integers <code>k</code> and <code>x</code>, find the <code>k</code> closest elements to <code>x</code> in the array.  The result should also be sorted in ascending order.\n",
    "If there is a tie,  the smaller elements are always preferred.\n",
    "</p>\n",
    "\n",
    "<p><b>Example 1:</b><br>\n",
    "</p><pre><b>Input:</b> [1,2,3,4,5], k=4, x=3\n",
    "<b>Output:</b> [1,2,3,4]\n",
    "</pre>\n",
    "<p></p>\n",
    "\n",
    "\n",
    "<p><b>Example 2:</b><br>\n",
    "</p><pre><b>Input:</b> [1,2,3,4,5], k=4, x=-1\n",
    "<b>Output:</b> [1,2,3,4]\n",
    "</pre>\n",
    "<p></p>\n",
    "\n",
    "<p><b>Note:</b><br>\n",
    "</p><ol>\n",
    "<li>The value k is positive and will always be smaller than the length of the sorted array.</li>\n",
    "<li> Length of the given array is positive and will not exceed 10<sup>4</sup></li>\n",
    "<li> Absolute value of elements in the array and x will not exceed 10<sup>4</sup></li>\n",
    "</ol>\n",
    "<p></p>\n",
    "\n",
    "<hr>\n",
    "\n",
    "<p>\n",
    "<b><font color=\"red\">UPDATE (2017/9/19):</font></b><br>\n",
    "The <i>arr</i> parameter had been changed to an <b>array of integers</b> (instead of a list of integers). <b><i>Please reload the code definition to get the latest changes</i></b>.\n",
    "</p></div>"
   ]
  },
  {
   "cell_type": "markdown",
   "metadata": {},
   "source": [
    "## Option 1\n",
    "\n",
    "<p> Two Pointers\n",
    "<p>\n",
    "Time complexity: O(n)\n",
    "<br>\n",
    "Space complexity: O(1)"
   ]
  },
  {
   "cell_type": "code",
   "execution_count": null,
   "metadata": {},
   "outputs": [],
   "source": [
    "class Solution(object):\n",
    "    def findClosestElements(self, arr, k, x):\n",
    "        l,r = 0, len(arr)-1\n",
    "        while r-l+1 > k:\n",
    "            if abs(arr[l]-x) > abs(arr[r]-x):\n",
    "                l += 1\n",
    "            else:\n",
    "                r -= 1\n",
    "        return arr[l:r+1]\n",
    "\n",
    "Solution().findClosestElements([1,2,5,7,9,10,12,13],5,8)"
   ]
  },
  {
   "cell_type": "markdown",
   "metadata": {},
   "source": [
    "#### Result: 284ms (60.03%)\n"
   ]
  }
 ],
 "metadata": {
  "kernelspec": {
   "display_name": "Python 2",
   "language": "python",
   "name": "python2"
  },
  "language_info": {
   "codemirror_mode": {
    "name": "ipython",
    "version": 2
   },
   "file_extension": ".py",
   "mimetype": "text/x-python",
   "name": "python",
   "nbconvert_exporter": "python",
   "pygments_lexer": "ipython2",
   "version": "2.7.16"
  }
 },
 "nbformat": 4,
 "nbformat_minor": 2
}
