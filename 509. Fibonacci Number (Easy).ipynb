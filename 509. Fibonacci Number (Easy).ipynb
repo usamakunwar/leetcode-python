{
 "cells": [
  {
   "cell_type": "markdown",
   "metadata": {},
   "source": [
    "# 509. Fibonacci Number (Easy)"
   ]
  },
  {
   "cell_type": "markdown",
   "metadata": {},
   "source": [
    "<div><p>The&nbsp;<b>Fibonacci numbers</b>, commonly denoted&nbsp;<code>F(n)</code>&nbsp;form a sequence, called the&nbsp;<b>Fibonacci sequence</b>, such that each number is the sum of the two preceding ones, starting from <code>0</code> and <code>1</code>. That is,</p>\n",
    "\n",
    "<pre>F(0) = 0,&nbsp; &nbsp;F(1)&nbsp;= 1\n",
    "F(N) = F(N - 1) + F(N - 2), for N &gt; 1.\n",
    "</pre>\n",
    "\n",
    "<p>Given <code>N</code>, calculate <code>F(N)</code>.</p>\n",
    "\n",
    "<p>&nbsp;</p>\n",
    "\n",
    "<p><strong>Example 1:</strong></p>\n",
    "\n",
    "<pre><strong>Input:</strong> 2\n",
    "<strong>Output:</strong> 1\n",
    "<strong>Explanation:</strong> F(2) = F(1) + F(0) = 1 + 0 = 1.\n",
    "</pre>\n",
    "\n",
    "<p><strong>Example 2:</strong></p>\n",
    "\n",
    "<pre><strong>Input:</strong> 3\n",
    "<strong>Output:</strong> 2\n",
    "<strong>Explanation:</strong> F(3) = F(2) + F(1) = 1 + 1 = 2.\n",
    "</pre>\n",
    "\n",
    "<p><strong>Example 3:</strong></p>\n",
    "\n",
    "<pre><strong>Input:</strong> 4\n",
    "<strong>Output:</strong> 3\n",
    "<strong>Explanation:</strong> F(4) = F(3) + F(2) = 2 + 1 = 3.\n",
    "</pre>\n",
    "\n",
    "<p>&nbsp;</p>\n",
    "\n",
    "<p><strong>Note:</strong></p>\n",
    "\n",
    "<p>0 ≤ <code>N</code> ≤ 30.</p>\n",
    "</div>"
   ]
  },
  {
   "cell_type": "markdown",
   "metadata": {},
   "source": [
    "## Option 1\n",
    "<p>\n",
    "    <li>Iterative\n",
    "  <p>\n",
    "      <p>\n",
    "Time complexity: O(n)\n",
    "<br>\n",
    "Space complexity: O(1)"
   ]
  },
  {
   "cell_type": "code",
   "execution_count": null,
   "metadata": {
    "scrolled": false
   },
   "outputs": [],
   "source": [
    "class Solution(object):\n",
    "    def fib(self, N):  \n",
    "        if not N: return 0\n",
    "        prev,curr = 0,1\n",
    "        while N > 1:\n",
    "            curr, prev = curr + prev, curr\n",
    "            N -= 1\n",
    "        return curr\n",
    "        \n",
    "Solution().fib(1)\n",
    "        "
   ]
  },
  {
   "cell_type": "markdown",
   "metadata": {},
   "source": [
    "#### Result: 428ms (73.05%)"
   ]
  },
  {
   "cell_type": "markdown",
   "metadata": {},
   "source": [
    "## Option 2\n",
    "<p>\n",
    "    <li>Recursive\n",
    "  <p>\n",
    "      <p>\n",
    "Time complexity: O(2^n)\n",
    "<br>\n",
    "Space complexity: O(n)"
   ]
  },
  {
   "cell_type": "code",
   "execution_count": null,
   "metadata": {},
   "outputs": [],
   "source": [
    "class Solution(object):\n",
    "    def fib(self, N):  \n",
    "        if N == 0: return 0\n",
    "        if N == 1: return 1\n",
    "        return self.fib(N-1) + self.fib(N-2)\n",
    "        \n",
    "Solution().fib(10)\n",
    "        "
   ]
  },
  {
   "cell_type": "markdown",
   "metadata": {},
   "source": [
    "#### Result: 1160ms (17.43%)"
   ]
  },
  {
   "cell_type": "markdown",
   "metadata": {},
   "source": [
    "## Option 3\n",
    "<p>\n",
    "    <li>Golden Ratio\n",
    "  <p>\n",
    "      <p>\n",
    "Time complexity: O(1)\n",
    "<br>\n",
    "Space complexity: O(1)"
   ]
  },
  {
   "cell_type": "code",
   "execution_count": null,
   "metadata": {},
   "outputs": [],
   "source": [
    "class Solution(object):\n",
    "    def fib(self, N):  \n",
    "        golden_ratio = (1 + 5 ** 0.5) / 2\n",
    "        return int((golden_ratio ** N + 1) / 5 ** 0.5)\n",
    "\n",
    "Solution().fib(10)\n"
   ]
  },
  {
   "cell_type": "markdown",
   "metadata": {},
   "source": [
    "#### Result: 16ms (76.93%)"
   ]
  }
 ],
 "metadata": {
  "kernelspec": {
   "display_name": "Python 2",
   "language": "python",
   "name": "python2"
  },
  "language_info": {
   "codemirror_mode": {
    "name": "ipython",
    "version": 2
   },
   "file_extension": ".py",
   "mimetype": "text/x-python",
   "name": "python",
   "nbconvert_exporter": "python",
   "pygments_lexer": "ipython2",
   "version": "2.7.16"
  }
 },
 "nbformat": 4,
 "nbformat_minor": 2
}
