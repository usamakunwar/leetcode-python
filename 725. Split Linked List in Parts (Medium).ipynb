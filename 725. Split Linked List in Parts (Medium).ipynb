{
 "cells": [
  {
   "cell_type": "markdown",
   "metadata": {},
   "source": [
    "# 725. Split Linked List in Parts (Medium)"
   ]
  },
  {
   "cell_type": "markdown",
   "metadata": {},
   "source": [
    "<div><p>We are given a linked list with&nbsp;<code>head</code>&nbsp;as the first node.&nbsp; Let's number the&nbsp;nodes in the list: <code>node_1, node_2, node_3, ...</code> etc.</p>\n",
    "\n",
    "<p>Each node may have a <em>next larger</em> <strong>value</strong>: for <code>node_i</code>,&nbsp;<code>next_larger(node_i)</code>&nbsp;is the <code>node_j.val</code> such that <code>j &gt; i</code>, <code>node_j.val &gt; node_i.val</code>, and <code>j</code> is the smallest possible choice.&nbsp; If such a <code>j</code>&nbsp;does not exist, the next larger value is <code>0</code>.</p>\n",
    "\n",
    "<p>Return an array of integers&nbsp;<code>answer</code>, where <code>answer[i] = next_larger(node_{i+1})</code>.</p>\n",
    "\n",
    "<p>Note that in the example <strong>inputs</strong>&nbsp;(not outputs) below, arrays such as <code>[2,1,5]</code>&nbsp;represent the serialization of a linked list with a head node value of 2, second node value of 1, and third node value of 5.</p>\n",
    "\n",
    "<p>&nbsp;</p>\n",
    "\n",
    "<div>\n",
    "<p><strong>Example 1:</strong></p>\n",
    "\n",
    "<pre><strong>Input: </strong><span id=\"example-input-1-1\">[2,1,5]</span>\n",
    "<strong>Output: </strong><span id=\"example-output-1\">[5,5,0]</span>\n",
    "</pre>\n",
    "\n",
    "<div>\n",
    "<p><strong>Example 2:</strong></p>\n",
    "\n",
    "<pre><strong>Input: </strong><span id=\"example-input-2-1\">[2,7,4,3,5]</span>\n",
    "<strong>Output: </strong><span id=\"example-output-2\">[7,0,5,5,0]</span>\n",
    "</pre>\n",
    "\n",
    "<div>\n",
    "<p><strong>Example 3:</strong></p>\n",
    "\n",
    "<pre><strong>Input: </strong><span id=\"example-input-3-1\">[1,7,5,1,9,2,5,1]</span>\n",
    "<strong>Output: </strong><span id=\"example-output-3\">[7,9,9,9,0,5,0,0]</span>\n",
    "</pre>\n",
    "\n",
    "<p>&nbsp;</p>\n",
    "\n",
    "<p><strong><span>Note:</span></strong></p>\n",
    "\n",
    "<ol>\n",
    "\t<li><code><span>1 &lt;= node.val&nbsp;&lt;= 10^9</span></code><span>&nbsp;for each node in the linked list.</span></li>\n",
    "\t<li>The given list has length in the range <code>[0, 10000]</code>.</li>\n",
    "</ol>\n",
    "</div>\n",
    "</div>\n",
    "</div></div>"
   ]
  },
  {
   "cell_type": "markdown",
   "metadata": {},
   "source": [
    "## Option 1\n",
    "<p>\n",
    "<li>Count the lenght of the list\n",
    "<li>Create a results array, consisting of the lenght of each part\n",
    "<li>Now we just have to split the list in the relative counts\n",
    "<p>\n",
    "Time complexity = O(n+k)\n",
    "<br>\n",
    "Space complexity = O(k)"
   ]
  },
  {
   "cell_type": "code",
   "execution_count": null,
   "metadata": {
    "scrolled": false
   },
   "outputs": [],
   "source": [
    "# Definition for singly-linked list.\n",
    "# class ListNode:\n",
    "#     def __init__(self, x):\n",
    "#         self.val = x\n",
    "#         self.next = None\n",
    "\n",
    "class Solution:\n",
    "    def splitListToParts(self, root: ListNode, k: int) -> List[ListNode]:\n",
    "        curr, l = root, 0\n",
    "        while curr:\n",
    "            curr, l = curr.next, l+1\n",
    "        \n",
    "        small_val, big_count = l//k, l%k\n",
    "        res = [small_val+1]*(big_count)+ [small_val]*(k-(big_count))\n",
    "        \n",
    "        prev, curr = None, root\n",
    "        for i,v in enumerate(res):\n",
    "            if prev:\n",
    "                prev.next = None\n",
    "            res[i] = curr\n",
    "            for j in range(v):\n",
    "                prev, curr = curr, curr.next\n",
    "        return res"
   ]
  },
  {
   "cell_type": "markdown",
   "metadata": {},
   "source": [
    "#### Result:  33ms (88.3%)"
   ]
  }
 ],
 "metadata": {
  "kernelspec": {
   "display_name": "Python 3",
   "language": "python",
   "name": "python3"
  },
  "language_info": {
   "codemirror_mode": {
    "name": "ipython",
    "version": 3
   },
   "file_extension": ".py",
   "mimetype": "text/x-python",
   "name": "python",
   "nbconvert_exporter": "python",
   "pygments_lexer": "ipython3",
   "version": "3.7.4"
  }
 },
 "nbformat": 4,
 "nbformat_minor": 2
}
