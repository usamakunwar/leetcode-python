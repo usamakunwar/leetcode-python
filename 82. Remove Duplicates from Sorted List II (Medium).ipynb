{
 "cells": [
  {
   "cell_type": "markdown",
   "metadata": {},
   "source": [
    "# 82. Remove Duplicates from Sorted List II (Medium)"
   ]
  },
  {
   "cell_type": "markdown",
   "metadata": {},
   "source": [
    "<div><p>Given a sorted linked list, delete all nodes that have duplicate numbers, leaving only <em>distinct</em> numbers from the original list.</p>\n",
    "\n",
    "<p>Return the linked list sorted as well.</p>\n",
    "\n",
    "<p><strong>Example 1:</strong></p>\n",
    "\n",
    "<pre><strong>Input:</strong> 1-&gt;2-&gt;3-&gt;3-&gt;4-&gt;4-&gt;5\n",
    "<strong>Output:</strong> 1-&gt;2-&gt;5\n",
    "</pre>\n",
    "\n",
    "<p><strong>Example 2:</strong></p>\n",
    "\n",
    "<pre><strong>Input:</strong> 1-&gt;1-&gt;1-&gt;2-&gt;3\n",
    "<strong>Output:</strong> 2-&gt;3\n",
    "</pre>\n",
    "</div>"
   ]
  },
  {
   "cell_type": "markdown",
   "metadata": {},
   "source": [
    "## Option 1\n",
    "\n",
    "Time complexity: O(n)\n",
    "<br>\n",
    "Space complexity: O(1)\n"
   ]
  },
  {
   "cell_type": "code",
   "execution_count": null,
   "metadata": {
    "scrolled": true
   },
   "outputs": [],
   "source": [
    "class Solution(object):\n",
    "    def deleteDuplicates(self, head):\n",
    "        curr = head\n",
    "        head=prev=None\n",
    "        while curr:\n",
    "            nex = curr.next\n",
    "            while nex and curr.val == nex.val:\n",
    "                nex = nex.next\n",
    "\n",
    "            if nex != curr.next:\n",
    "                #There were duplicates\n",
    "                #prev.next changes the original list, skips all duplicate items\n",
    "                if prev: prev.next = nex\n",
    "            else:\n",
    "                #No duplicates\n",
    "                #Head gets set first if it wasn't already set, prev moves on\n",
    "                if not head: head = curr\n",
    "                prev = curr\n",
    "            curr = nex\n",
    "        return head"
   ]
  },
  {
   "cell_type": "markdown",
   "metadata": {},
   "source": [
    "#### Result: 24ms 92.38%)"
   ]
  }
 ],
 "metadata": {
  "kernelspec": {
   "display_name": "Python 2",
   "language": "python",
   "name": "python2"
  },
  "language_info": {
   "codemirror_mode": {
    "name": "ipython",
    "version": 2
   },
   "file_extension": ".py",
   "mimetype": "text/x-python",
   "name": "python",
   "nbconvert_exporter": "python",
   "pygments_lexer": "ipython2",
   "version": "2.7.16"
  }
 },
 "nbformat": 4,
 "nbformat_minor": 2
}
