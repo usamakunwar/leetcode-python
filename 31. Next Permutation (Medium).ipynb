{
 "cells": [
  {
   "cell_type": "markdown",
   "metadata": {},
   "source": [
    "# 31. Next Permutation (Medium)"
   ]
  },
  {
   "cell_type": "markdown",
   "metadata": {},
   "source": [
    "<div><p>Implement <strong>next permutation</strong>, which rearranges numbers into the lexicographically next greater permutation of numbers.</p>\n",
    "\n",
    "<p>If such arrangement is not possible, it must rearrange it as the lowest possible order (ie, sorted in ascending order).</p>\n",
    "\n",
    "<p>The replacement must be <strong><a href=\"http://en.wikipedia.org/wiki/In-place_algorithm\" target=\"_blank\">in-place</a></strong> and use only constant&nbsp;extra memory.</p>\n",
    "\n",
    "<p>Here are some examples. Inputs are in the left-hand column and its corresponding outputs are in the right-hand column.</p>\n",
    "\n",
    "<p><code>1,2,3</code> → <code>1,3,2</code><br>\n",
    "<code>3,2,1</code> → <code>1,2,3</code><br>\n",
    "<code>1,1,5</code> → <code>1,5,1</code></p>\n",
    "</div>"
   ]
  },
  {
   "cell_type": "markdown",
   "metadata": {},
   "source": [
    "## Option 1\n",
    "<p>\n",
    "    Binary search\n",
    "<p>\n",
    "    <p>\n",
    "Time complexity: O(nlogn)\n",
    "<br>\n",
    "Space complexity: O(1) "
   ]
  },
  {
   "cell_type": "code",
   "execution_count": null,
   "metadata": {},
   "outputs": [],
   "source": [
    "class Solution(object):\n",
    "    def nextPermutation(self, nums):\n",
    "        for i in range(len(nums)-1,-1,-1):\n",
    "            #Do a binary search to find element greater than nums[i]\n",
    "            l,r = i+1, len(nums)\n",
    "            while l < r:\n",
    "                mid = (l+r)/2\n",
    "                if nums[mid] > nums[i]:\n",
    "                    r = mid\n",
    "                else:\n",
    "                    l = mid + 1 \n",
    "            #If we find a valid element, we need a direct swap and we are donw\n",
    "            #If element was not found, we need to do a swap for every item until the end\n",
    "            if r > len(nums)-1:\n",
    "                #Swap every item\n",
    "                j = i\n",
    "                while j < len(nums)-1: \n",
    "                    nums[j],nums[j+1] = nums[j+1],nums[j]\n",
    "                    j += 1\n",
    "            else:\n",
    "                #Element found\n",
    "                nums[i],nums[r] = nums[r],nums[i]\n",
    "                break\n",
    "                \n",
    "        return nums\n",
    "            \n",
    "Solution().nextPermutation([1,4,7,6,1])"
   ]
  },
  {
   "cell_type": "markdown",
   "metadata": {},
   "source": [
    "#### Result: 28ms (70.46%)\n"
   ]
  }
 ],
 "metadata": {
  "kernelspec": {
   "display_name": "Python 2",
   "language": "python",
   "name": "python2"
  },
  "language_info": {
   "codemirror_mode": {
    "name": "ipython",
    "version": 2
   },
   "file_extension": ".py",
   "mimetype": "text/x-python",
   "name": "python",
   "nbconvert_exporter": "python",
   "pygments_lexer": "ipython2",
   "version": "2.7.16"
  }
 },
 "nbformat": 4,
 "nbformat_minor": 2
}
