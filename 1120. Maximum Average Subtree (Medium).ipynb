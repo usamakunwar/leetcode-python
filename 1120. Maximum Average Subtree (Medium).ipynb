{
 "cells": [
  {
   "cell_type": "markdown",
   "metadata": {},
   "source": [
    "# 105. Construct Binary Tree from Preorder and Inorder Traversal (Medium)"
   ]
  },
  {
   "cell_type": "markdown",
   "metadata": {},
   "source": [
    "<div><p>Given the <code>root</code> of a binary tree, find the maximum average value of any subtree of that tree.</p>\n",
    "\n",
    "<p>(A subtree of a tree is any node of that tree plus all its descendants. The average value of a tree is the sum of its values, divided by the number of nodes.)</p>\n",
    "\n",
    "<p>&nbsp;</p>\n",
    "\n",
    "<p><strong>Example 1:</strong></p>\n",
    "\n",
    "<p><img alt=\"\" src=\"https://assets.leetcode.com/uploads/2019/04/09/1308_example_1.png\" style=\"width: 132px; height: 123px;\"></p>\n",
    "\n",
    "<pre><strong>Input: </strong><span id=\"example-input-1-1\">[5,6,1]</span>\n",
    "<strong>Output: </strong><span id=\"example-output-1\">6.00000</span>\n",
    "<strong>Explanation: </strong>\n",
    "For the node with value = 5 we have an average of (5 + 6 + 1) / 3 = 4.\n",
    "For the node with value = 6 we have an average of 6 / 1 = 6.\n",
    "For the node with value = 1 we have an average of 1 / 1 = 1.\n",
    "So the answer is 6 which is the maximum.\n",
    "</pre>\n",
    "\n",
    "<p>&nbsp;</p>\n",
    "\n",
    "<p><strong>Note:</strong></p>\n",
    "\n",
    "<ol>\n",
    "\t<li>The number of nodes in the tree is between <code>1</code> and <code>5000</code>.</li>\n",
    "\t<li>Each node will have a value between <code>0</code> and <code>100000</code>.</li>\n",
    "\t<li>Answers will be accepted as correct if they are within <code>10^-5</code> of the correct answer.</li>\n",
    "</ol>\n",
    "</div>"
   ]
  },
  {
   "cell_type": "markdown",
   "metadata": {},
   "source": [
    "## Option 1\n",
    "\n",
    "Recursive\n",
    "<br>\n",
    "Time complexity = O(n)\n",
    "<br>\n",
    "Space complexity = O(n)"
   ]
  },
  {
   "cell_type": "code",
   "execution_count": null,
   "metadata": {
    "scrolled": false
   },
   "outputs": [],
   "source": [
    "# Definition for a binary tree node.\n",
    "# class TreeNode:\n",
    "#     def __init__(self, x):\n",
    "#         self.val = x\n",
    "#         self.left = None\n",
    "#         self.right = None\n",
    "\n",
    "class Solution:\n",
    "    max_average = 0\n",
    "    def maximumAverageSubtree(self, root: TreeNode) -> float:\n",
    "        def check(node):\n",
    "            if not node: return 0,0\n",
    "            count1, val1 = check(node.left)\n",
    "            count2, val2 = check(node.right)\n",
    "            vals = node.val + val1 + val2\n",
    "            counts = count1 + count2 + 1            \n",
    "            self.max_average = max(self.max_average, vals/counts)\n",
    "            return counts, vals\n",
    "        check(root)\n",
    "        return self.max_average"
   ]
  },
  {
   "cell_type": "markdown",
   "metadata": {},
   "source": [
    "#### Result:  48ms (78.90%)"
   ]
  }
 ],
 "metadata": {
  "kernelspec": {
   "display_name": "Python 3",
   "language": "python",
   "name": "python3"
  },
  "language_info": {
   "codemirror_mode": {
    "name": "ipython",
    "version": 3
   },
   "file_extension": ".py",
   "mimetype": "text/x-python",
   "name": "python",
   "nbconvert_exporter": "python",
   "pygments_lexer": "ipython3",
   "version": "3.7.4"
  }
 },
 "nbformat": 4,
 "nbformat_minor": 2
}
