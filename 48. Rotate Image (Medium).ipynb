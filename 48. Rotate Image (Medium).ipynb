{
 "cells": [
  {
   "cell_type": "markdown",
   "metadata": {},
   "source": [
    "# 48. Rotate Image (Medium)"
   ]
  },
  {
   "cell_type": "markdown",
   "metadata": {},
   "source": [
    "<div><p>You are given an <em>n</em> x <em>n</em> 2D matrix representing an image.</p>\n",
    "\n",
    "<p>Rotate the image by 90 degrees (clockwise).</p>\n",
    "\n",
    "<p><strong>Note:</strong></p>\n",
    "\n",
    "<p>You have to rotate the image <a href=\"https://en.wikipedia.org/wiki/In-place_algorithm\" target=\"_blank\"><strong>in-place</strong></a>, which means you have to modify the input 2D matrix directly. <strong>DO NOT</strong> allocate another 2D matrix and do the rotation.</p>\n",
    "\n",
    "<p><strong>Example 1:</strong></p>\n",
    "\n",
    "<pre>Given <strong>input matrix</strong> = \n",
    "[\n",
    "  [1,2,3],\n",
    "  [4,5,6],\n",
    "  [7,8,9]\n",
    "],\n",
    "\n",
    "rotate the input matrix <strong>in-place</strong> such that it becomes:\n",
    "[\n",
    "  [7,4,1],\n",
    "  [8,5,2],\n",
    "  [9,6,3]\n",
    "]\n",
    "</pre>\n",
    "\n",
    "<p><strong>Example 2:</strong></p>\n",
    "\n",
    "<pre>Given <strong>input matrix</strong> =\n",
    "[\n",
    "  [ 5, 1, 9,11],\n",
    "  [ 2, 4, 8,10],\n",
    "  [13, 3, 6, 7],\n",
    "  [15,14,12,16]\n",
    "], \n",
    "\n",
    "rotate the input matrix <strong>in-place</strong> such that it becomes:\n",
    "[\n",
    "  [15,13, 2, 5],\n",
    "  [14, 3, 4, 1],\n",
    "  [12, 6, 8, 9],\n",
    "  [16, 7,10,11]\n",
    "]\n",
    "</pre>\n",
    "</div>"
   ]
  },
  {
   "cell_type": "markdown",
   "metadata": {},
   "source": [
    "## Option 1\n",
    "<p>\n",
    "Time complexity = O(n)\n",
    "<br>\n",
    "Space complexity = O(1)"
   ]
  },
  {
   "cell_type": "code",
   "execution_count": 48,
   "metadata": {
    "scrolled": true
   },
   "outputs": [
    {
     "name": "stdout",
     "output_type": "stream",
     "text": [
      "[51, 44, 37, 30, 23, 17, 10]\n",
      "[52, 45, 38, 31, 24, 18, 11]\n",
      "[53, 46, 39, 32, 25, 19, 12]\n",
      "[54, 47, 40, 33, 26, 20, 13]\n",
      "[55, 48, 41, 34, 27, 21, 14]\n",
      "[56, 49, 42, 35, 28, 22, 15]\n",
      "[57, 50, 43, 36, 29, 23, 16]\n"
     ]
    }
   ],
   "source": [
    "class Solution:\n",
    "    def rotate(self, matrix: [[int]]) -> None:\n",
    "        mlen = len(matrix)\n",
    "        for i in range(int(mlen/2)):\n",
    "            for j in range(i,mlen-1-i):\n",
    "                r = (j,mlen-1-i) \n",
    "                b = (r[1],mlen-1-(r[0]))\n",
    "                l = (b[1],mlen-1-(b[0]))\n",
    "\n",
    "                rv = matrix[r[0]][r[1]]\n",
    "                bv = matrix[b[0]][b[1]]\n",
    "                lv = matrix[l[0]][l[1]]\n",
    "                \n",
    "                matrix[r[0]][r[1]] = matrix[i][j]\n",
    "                matrix[b[0]][b[1]] = rv\n",
    "                matrix[l[0]][l[1]] = bv\n",
    "                matrix[i][j] = lv\n",
    "        for i in matrix:\n",
    "            print(i)\n",
    "\n",
    "Solution().rotate([[10,11,12,13,14,15,16],[17,18,19,20,21,22,23],[23,24,25,26,27,28,29],\n",
    "                   [30,31,32,33,34,35,36],[37,38,39,40,41,42,43],[44,45,46,47,48,49,50],\n",
    "                   [51,52,53,54,55,56,57]\n",
    "                  ])"
   ]
  },
  {
   "cell_type": "markdown",
   "metadata": {},
   "source": [
    "#### Result:  36ms (69.18%)"
   ]
  }
 ],
 "metadata": {
  "kernelspec": {
   "display_name": "Python 3",
   "language": "python",
   "name": "python3"
  },
  "language_info": {
   "codemirror_mode": {
    "name": "ipython",
    "version": 3
   },
   "file_extension": ".py",
   "mimetype": "text/x-python",
   "name": "python",
   "nbconvert_exporter": "python",
   "pygments_lexer": "ipython3",
   "version": "3.7.4"
  }
 },
 "nbformat": 4,
 "nbformat_minor": 2
}
