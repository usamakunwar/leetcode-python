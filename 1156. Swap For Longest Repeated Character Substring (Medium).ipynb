{
 "cells": [
  {
   "cell_type": "markdown",
   "metadata": {},
   "source": [
    "# 1156. Swap For Longest Repeated Character Substring (Medium)"
   ]
  },
  {
   "cell_type": "markdown",
   "metadata": {},
   "source": [
    "<div><p>Given a string <code>text</code>, we are allowed to swap two of the characters in the string. Find the length of the longest substring with repeated characters.</p>\n",
    "\n",
    "<p>&nbsp;</p>\n",
    "<p><strong>Example 1:</strong></p>\n",
    "\n",
    "<pre><strong>Input:</strong> text = \"ababa\"\n",
    "<strong>Output:</strong> 3\n",
    "<strong>Explanation:</strong> We can swap the first 'b' with the last 'a', or the last 'b' with the first 'a'. Then, the longest repeated character substring is \"aaa\", which its length is 3.\n",
    "</pre>\n",
    "\n",
    "<p><strong>Example 2:</strong></p>\n",
    "\n",
    "<pre><strong>Input:</strong> text = \"aaabaaa\"\n",
    "<strong>Output:</strong> 6\n",
    "<strong>Explanation:</strong> Swap 'b' with the last 'a' (or the first 'a'), and we get longest repeated character substring \"aaaaaa\", which its length is 6.\n",
    "</pre>\n",
    "\n",
    "<p><strong>Example 3:</strong></p>\n",
    "\n",
    "<pre><strong>Input:</strong> text = \"aaabbaaa\"\n",
    "<strong>Output:</strong> 4\n",
    "</pre>\n",
    "\n",
    "<p><strong>Example 4:</strong></p>\n",
    "\n",
    "<pre><strong>Input:</strong> text = \"aaaaa\"\n",
    "<strong>Output:</strong> 5\n",
    "<strong>Explanation:</strong> No need to swap, longest repeated character substring is \"aaaaa\", length is 5.\n",
    "</pre>\n",
    "\n",
    "<p><strong>Example 5:</strong></p>\n",
    "\n",
    "<pre><strong>Input:</strong> text = \"abcdef\"\n",
    "<strong>Output:</strong> 1\n",
    "</pre>\n",
    "\n",
    "<p>&nbsp;</p>\n",
    "<p><strong>Constraints:</strong></p>\n",
    "\n",
    "<ul>\n",
    "\t<li><code>1 &lt;= text.length &lt;= 20000</code></li>\n",
    "\t<li><code>text</code> consist of lowercase English characters only.</li>\n",
    "</ul></div>"
   ]
  },
  {
   "cell_type": "markdown",
   "metadata": {},
   "source": [
    "## Option 1\n",
    "\n",
    "<p>\n",
    "    <li>Sliding window\n",
    " <p>\n",
    "     <p>\n",
    "Time complexity: O(n)\n",
    "<br>\n",
    "Space complexity: O(n)"
   ]
  },
  {
   "cell_type": "code",
   "execution_count": null,
   "metadata": {
    "scrolled": false
   },
   "outputs": [],
   "source": [
    "import collections\n",
    "class Solution(object):\n",
    "    def maxRepOpt1(self, text):\n",
    "        c, count = [0]*26, [0]*26\n",
    "        for t in text: c[ord(t)-ord('a')] += 1\n",
    "        res=left=0\n",
    "        for i,v in enumerate(text):\n",
    "            c[ord(v)-ord('a')] -= 1\n",
    "            count[ord(v)-ord('a')] += 1\n",
    "            m = max(count)\n",
    "            a = sum(count)-m\n",
    "            if a <= 1 and c[count.index(m)] >= a:\n",
    "                #valid\n",
    "                res += 1\n",
    "            else:\n",
    "                #invalid\n",
    "                c[ord(text[left])-ord('a')] += 1\n",
    "                count[ord(text[left])-ord('a')] -= 1\n",
    "                left += 1\n",
    "        return res\n",
    "        \n",
    "Solution().maxRepOpt1(\"bbababaaaa\")"
   ]
  },
  {
   "cell_type": "markdown",
   "metadata": {},
   "source": [
    "#### Result: 92ms (33.8%)"
   ]
  }
 ],
 "metadata": {
  "kernelspec": {
   "display_name": "Python 2",
   "language": "python",
   "name": "python2"
  },
  "language_info": {
   "codemirror_mode": {
    "name": "ipython",
    "version": 2
   },
   "file_extension": ".py",
   "mimetype": "text/x-python",
   "name": "python",
   "nbconvert_exporter": "python",
   "pygments_lexer": "ipython2",
   "version": "2.7.16"
  }
 },
 "nbformat": 4,
 "nbformat_minor": 2
}
