{
 "cells": [
  {
   "cell_type": "markdown",
   "metadata": {},
   "source": [
    "# 480. Sliding Window Median (Hard)"
   ]
  },
  {
   "cell_type": "markdown",
   "metadata": {},
   "source": [
    "<div><p>Median is the middle value in an ordered integer list. If the size of the list is even, there is no middle value. So the median is the mean of the two middle value.</p>\n",
    "Examples:\n",
    "\n",
    "<p><code>[2,3,4]</code> , the median is <code>3</code></p>\n",
    "\n",
    "<p><code>[2,3]</code>, the median is <code>(2 + 3) / 2 = 2.5</code></p>\n",
    "\n",
    "<p>Given an array <i>nums</i>, there is a sliding window of size <i>k</i> which is moving from the very left of the array to the very right. You can only see the <i>k</i> numbers in the window. Each time the sliding window moves right by one position. Your job is to output the median array for each window in the original array.</p>\n",
    "\n",
    "<p>For example,<br>\n",
    "Given <i>nums</i> = <code>[1,3,-1,-3,5,3,6,7]</code>, and <i>k</i> = 3.</p>\n",
    "\n",
    "<pre>Window position                Median\n",
    "---------------               -----\n",
    "[1  3  -1] -3  5  3  6  7       1\n",
    " 1 [3  -1  -3] 5  3  6  7       -1\n",
    " 1  3 [-1  -3  5] 3  6  7       -1\n",
    " 1  3  -1 [-3  5  3] 6  7       3\n",
    " 1  3  -1  -3 [5  3  6] 7       5\n",
    " 1  3  -1  -3  5 [3  6  7]      6\n",
    "</pre>\n",
    "\n",
    "<p>Therefore, return the median sliding window as <code>[1,-1,-1,3,5,6]</code>.</p>\n",
    "\n",
    "<p><b>Note: </b><br>\n",
    "You may assume <code>k</code> is always valid, ie: <code>k</code> is always smaller than input array's size for non-empty array.<br>\n",
    "Answers within&nbsp;<code>10^-5</code>&nbsp;of the actual value will be accepted as correct.</p>\n",
    "</div>"
   ]
  },
  {
   "cell_type": "markdown",
   "metadata": {},
   "source": [
    "## Option 1\n",
    "\n",
    "Slide the window, whilst doing a binary search on the item to add and remove\n",
    "\n",
    "Time complexity = O(nlogk)\n",
    "<br>\n",
    "Space complexity = O(k)"
   ]
  },
  {
   "cell_type": "code",
   "execution_count": 5,
   "metadata": {
    "scrolled": false
   },
   "outputs": [
    {
     "data": {
      "text/plain": [
       "[0.0, 1.0, 1.0, 4.0, 5.5]"
      ]
     },
     "execution_count": 5,
     "metadata": {},
     "output_type": "execute_result"
    }
   ],
   "source": [
    "import collections\n",
    "class Solution(object):\n",
    "    def medianSlidingWindow(self, nums, k):\n",
    "        w, half = nums[:k], k//2\n",
    "        w.sort()\n",
    "        res = [(float(w[half]+w[half-1]))/2 if k%2 == 0 else w[half]]\n",
    "        for i in range(k,len(nums)):\n",
    "            l,r = 0,k\n",
    "            while l <= r:\n",
    "                mid = (l+r)//2\n",
    "                if w[mid] < nums[i-k]:\n",
    "                    l = mid + 1\n",
    "                elif w[mid] > nums[i-k]:\n",
    "                    r = mid - 1\n",
    "                else:\n",
    "                    break\n",
    "            w = w[:mid] + w[mid+1:]            \n",
    "            l,r = 0,k-1\n",
    "            while l < r:\n",
    "                mid = (l+r)//2\n",
    "                if w[mid] < nums[i]:\n",
    "                    l = mid + 1\n",
    "                else:\n",
    "                    r = mid\n",
    "            w = w[:l] + [nums[i]] + w[l:]\n",
    "            res.append((float(w[half]+w[half-1])/2) if k%2 == 0 else w[half])           \n",
    "        return res\n",
    "                \n",
    "Solution().medianSlidingWindow([1,3,-1,-3,5,3,6,7], 4)"
   ]
  },
  {
   "cell_type": "markdown",
   "metadata": {},
   "source": [
    "#### Result: 1356ms (5.88%)"
   ]
  }
 ],
 "metadata": {
  "kernelspec": {
   "display_name": "Python 2",
   "language": "python",
   "name": "python2"
  },
  "language_info": {
   "codemirror_mode": {
    "name": "ipython",
    "version": 2
   },
   "file_extension": ".py",
   "mimetype": "text/x-python",
   "name": "python",
   "nbconvert_exporter": "python",
   "pygments_lexer": "ipython2",
   "version": "2.7.16"
  }
 },
 "nbformat": 4,
 "nbformat_minor": 2
}
