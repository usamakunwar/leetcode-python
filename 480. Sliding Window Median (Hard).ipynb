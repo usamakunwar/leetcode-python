{
 "cells": [
  {
   "cell_type": "markdown",
   "metadata": {},
   "source": [
    "# 480. Sliding Window Median (Hard)"
   ]
  },
  {
   "cell_type": "markdown",
   "metadata": {},
   "source": [
    "<div><p>Median is the middle value in an ordered integer list. If the size of the list is even, there is no middle value. So the median is the mean of the two middle value.</p>\n",
    "Examples:\n",
    "\n",
    "<p><code>[2,3,4]</code> , the median is <code>3</code></p>\n",
    "\n",
    "<p><code>[2,3]</code>, the median is <code>(2 + 3) / 2 = 2.5</code></p>\n",
    "\n",
    "<p>Given an array <i>nums</i>, there is a sliding window of size <i>k</i> which is moving from the very left of the array to the very right. You can only see the <i>k</i> numbers in the window. Each time the sliding window moves right by one position. Your job is to output the median array for each window in the original array.</p>\n",
    "\n",
    "<p>For example,<br>\n",
    "Given <i>nums</i> = <code>[1,3,-1,-3,5,3,6,7]</code>, and <i>k</i> = 3.</p>\n",
    "\n",
    "<pre>Window position                Median\n",
    "---------------               -----\n",
    "[1  3  -1] -3  5  3  6  7       1\n",
    " 1 [3  -1  -3] 5  3  6  7       -1\n",
    " 1  3 [-1  -3  5] 3  6  7       -1\n",
    " 1  3  -1 [-3  5  3] 6  7       3\n",
    " 1  3  -1  -3 [5  3  6] 7       5\n",
    " 1  3  -1  -3  5 [3  6  7]      6\n",
    "</pre>\n",
    "\n",
    "<p>Therefore, return the median sliding window as <code>[1,-1,-1,3,5,6]</code>.</p>\n",
    "\n",
    "<p><b>Note: </b><br>\n",
    "You may assume <code>k</code> is always valid, ie: <code>k</code> is always smaller than input array's size for non-empty array.<br>\n",
    "Answers within&nbsp;<code>10^-5</code>&nbsp;of the actual value will be accepted as correct.</p>\n",
    "</div>"
   ]
  },
  {
   "cell_type": "markdown",
   "metadata": {},
   "source": [
    "## Option 1\n",
    "\n",
    "Slide the window, whilst doing a binary search on the item to add and remove\n",
    "\n",
    "Time complexity = O(nlogk)\n",
    "<br>\n",
    "Space complexity = O(k)"
   ]
  },
  {
   "cell_type": "code",
   "execution_count": null,
   "metadata": {
    "scrolled": false
   },
   "outputs": [],
   "source": [
    "import collections\n",
    "class Solution(object):\n",
    "    def medianSlidingWindow(self, nums, k):\n",
    "        w, half = nums[:k], k//2\n",
    "        w.sort()\n",
    "        res = [(float(w[half]+w[half-1]))/2 if k%2 == 0 else w[half]]\n",
    "        for i in range(k,len(nums)):\n",
    "            #find the index for removal, then remove form the window\n",
    "            l,r = 0,k\n",
    "            while l <= r:\n",
    "                mid = (l+r)//2\n",
    "                if w[mid] < nums[i-k]:\n",
    "                    l = mid + 1\n",
    "                elif w[mid] > nums[i-k]:\n",
    "                    r = mid - 1\n",
    "                else:\n",
    "                    break\n",
    "            w = w[:mid] + w[mid+1:] \n",
    "            #find the index for add, then add to the window\n",
    "            l,r = 0,k-1\n",
    "            while l < r:\n",
    "                mid = (l+r)//2\n",
    "                if w[mid] < nums[i]:\n",
    "                    l = mid + 1\n",
    "                else:\n",
    "                    r = mid\n",
    "            w = w[:l] + [nums[i]] + w[l:]\n",
    "            res.append((float(w[half]+w[half-1])/2) if k%2 == 0 else w[half])           \n",
    "        return res\n",
    "                \n",
    "Solution().medianSlidingWindow([1,3,-1,-3,5,3,6,7], 4)"
   ]
  },
  {
   "cell_type": "markdown",
   "metadata": {},
   "source": [
    "#### Result: 1356ms (5.88%)"
   ]
  },
  {
   "cell_type": "markdown",
   "metadata": {},
   "source": [
    "## Option 2\n",
    "\n",
    "Remove and Add the index using inbuild bisect and insort"
   ]
  },
  {
   "cell_type": "code",
   "execution_count": null,
   "metadata": {},
   "outputs": [],
   "source": [
    "import collections\n",
    "from bisect import bisect, insort\n",
    "class Solution(object):\n",
    "    def medianSlidingWindow(self, nums, k):\n",
    "        w, half = nums[:k], k//2\n",
    "        w.sort()\n",
    "        res = [(float(w[half]+w[half-1]))/2 if k%2 == 0 else w[half]]\n",
    "        for i in range(k,len(nums)):\n",
    "            #find the index for removal, then remove form the window\n",
    "            w.pop(bisect(w,nums[i-k])-1)\n",
    "            #find the index for add, then add to the window\n",
    "            insort(w,nums[i])\n",
    "            res.append((float(w[half]+w[half-1])/2) if k%2 == 0 else w[half])           \n",
    "        return res\n",
    "                \n",
    "Solution().medianSlidingWindow([1,3,-1,-3,5,3,6,7], 3)"
   ]
  },
  {
   "cell_type": "markdown",
   "metadata": {},
   "source": [
    "#### Result: 104ms (88.24%)"
   ]
  },
  {
   "cell_type": "markdown",
   "metadata": {},
   "source": [
    "## Option 3\n",
    "\n",
    "Min and Max heap\n",
    "<li>We maintain 2 heaps, for the smallest and biggest values\n",
    "<li>In order to calculate the median a balancer is needed "
   ]
  },
  {
   "cell_type": "code",
   "execution_count": null,
   "metadata": {},
   "outputs": [],
   "source": [
    "import collections\n",
    "from heapq import heappush, heappop\n",
    "class Solution(object):\n",
    "    def medianSlidingWindow(self, nums, k):\n",
    "        max_h, min_h, removal = [],[], collections.Counter()\n",
    "        for v in nums[:k]:\n",
    "            heappush(max_h,-v)\n",
    "        for i in range(k/2):\n",
    "            heappush(min_h,-heappop(max_h))\n",
    "        res = [(float(-max_h[0]+min_h[0])/2) if k%2 == 0 else -max_h[0]]         \n",
    "        for i in range(k,len(nums)):\n",
    "            #Remove from window\n",
    "            removal[nums[i-k]] += 1            \n",
    "            balance = -1 if nums[i-k] > -max_h[0] else 1       \n",
    "            #Add to window\n",
    "            if nums[i] > -max_h[0] :\n",
    "                heappush(min_h,nums[i])\n",
    "                balance += 1\n",
    "            else:\n",
    "                heappush(max_h,-nums[i])\n",
    "                balance -= 1 \n",
    "            #Balance heaps\n",
    "            if balance > 0:\n",
    "                heappush(max_h, -heappop(min_h))\n",
    "                balance -= 1\n",
    "            elif balance < 0:\n",
    "                heappush(min_h, -heappop(max_h))\n",
    "                balance += 1\n",
    "            #Remove the items that are in our map and appear top of the heaps\n",
    "            while max_h and removal[-max_h[0]] > 0:\n",
    "                removal[-heappop(max_h)] -= 1\n",
    "            while min_h and removal[min_h[0]] > 0 :\n",
    "                removal[heappop(min_h)] -= 1\n",
    "            \n",
    "            res.append((float(-max_h[0]+min_h[0])/2) if k%2 == 0 else -max_h[0])\n",
    "        return res\n",
    "    \n",
    "        \n",
    "Solution().medianSlidingWindow([1,2,3,4,2,3,1,4,2], 6)"
   ]
  },
  {
   "cell_type": "markdown",
   "metadata": {},
   "source": [
    "#### Result: 164ms (42.99%)"
   ]
  }
 ],
 "metadata": {
  "kernelspec": {
   "display_name": "Python 2",
   "language": "python",
   "name": "python2"
  },
  "language_info": {
   "codemirror_mode": {
    "name": "ipython",
    "version": 2
   },
   "file_extension": ".py",
   "mimetype": "text/x-python",
   "name": "python",
   "nbconvert_exporter": "python",
   "pygments_lexer": "ipython2",
   "version": "2.7.16"
  }
 },
 "nbformat": 4,
 "nbformat_minor": 2
}
