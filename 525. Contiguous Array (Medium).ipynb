{
 "cells": [
  {
   "cell_type": "markdown",
   "metadata": {},
   "source": [
    "# 525. Contiguous Array (Medium)"
   ]
  },
  {
   "cell_type": "markdown",
   "metadata": {},
   "source": [
    "<div><p>Given a binary array, find the maximum length of a contiguous subarray with equal number of 0 and 1. </p>\n",
    "\n",
    "\n",
    "<p><b>Example 1:</b><br>\n",
    "</p><pre><b>Input:</b> [0,1]\n",
    "<b>Output:</b> 2\n",
    "<b>Explanation:</b> [0, 1] is the longest contiguous subarray with equal number of 0 and 1.\n",
    "</pre>\n",
    "<p></p>\n",
    "\n",
    "<p><b>Example 2:</b><br>\n",
    "</p><pre><b>Input:</b> [0,1,0]\n",
    "<b>Output:</b> 2\n",
    "<b>Explanation:</b> [0, 1] (or [1, 0]) is a longest contiguous subarray with equal number of 0 and 1.\n",
    "</pre>\n",
    "<p></p>\n",
    "\n",
    "<p><b>Note:</b>\n",
    "The length of the given binary array will not exceed 50,000.\n",
    "</p></div>"
   ]
  },
  {
   "cell_type": "markdown",
   "metadata": {},
   "source": [
    "## Option 1\n",
    "\n",
    "The simplest way is iterating over every possibility, which is n2 (time exceeded)\n",
    "To make this linear we can use a single counter to measure both 1s and 0s (going up and down)\n",
    "Then your max_len is the max difference between to indexes where the counter is equal. (If the counter is equal at any two points, that means the number of 0s and 1s was the the same in that range)\n",
    "\n",
    "<p>\n",
    "Time complexity = O(n)\n",
    "<br>\n",
    "Space complexity = O(n)"
   ]
  },
  {
   "cell_type": "code",
   "execution_count": 92,
   "metadata": {
    "scrolled": true
   },
   "outputs": [
    {
     "data": {
      "text/plain": [
       "54"
      ]
     },
     "execution_count": 92,
     "metadata": {},
     "output_type": "execute_result"
    }
   ],
   "source": [
    "import collections\n",
    "class Solution:\n",
    "    def findMaxLength(self, nums: [int]) -> int:\n",
    "        #We need to include the start of the array. So if any other point has count 0, it could range until the start\n",
    "        k = {0:-1}\n",
    "        max_len = 0\n",
    "        curr = 0\n",
    "        for i in range(len(nums)):\n",
    "            curr = (curr+1) if nums[i] == 1 else (curr-1) \n",
    "            if curr in k:\n",
    "                max_len = max(max_len, i-k[curr])\n",
    "            else:\n",
    "                k[curr] = i\n",
    "        return max_len\n",
    "\n",
    "#Solution().findMaxLength([1,0,0,0,1])      \n",
    "#Solution().findMaxLength([1,0,1,0,0,0])      \n",
    "#Solution().findMaxLength([0,1,0,1,1,1,0,0,1,1,0,1,1,1,1,1,1,0,1,1,0,1,1,0,0,0,1,0,1,0,0,1,0,1,1,1,1,1,1,0,0,0,0,1,0,0,0,1,1,1,0,1,0,0,1,1,1,1,1,0,0,1,1,1,1,0,0,1,0,1,1,0,0,0,0,0,0,1,0,1,0,1,1,0,0,1,1,0,1,1,1,1,0,1,1,0,0,0,1,1])\n",
    "Solution().findMaxLength([0,0,1,1,0,1,0,1,0,1,0,0,0,1,1,1,1,1,0,0,1,0,0,1,1,0,1,1,0,0,1,0,0,0,1,0,0,1,0,1,0,0,1,0,1,1,1,0,0,1,1,0,0,1,1,0,0,0,1,0,1,0,0,1,1,0,0,1,0,1,0,0,0,0,0,1,0,1,1,0,0,1,1,0,0,1,0,1,0,0,0,1,1,0,1,1,1,0,0,1])      \n"
   ]
  },
  {
   "cell_type": "markdown",
   "metadata": {},
   "source": [
    "#### Result:  924ms (86.24%)"
   ]
  }
 ],
 "metadata": {
  "kernelspec": {
   "display_name": "Python 3",
   "language": "python",
   "name": "python3"
  },
  "language_info": {
   "codemirror_mode": {
    "name": "ipython",
    "version": 3
   },
   "file_extension": ".py",
   "mimetype": "text/x-python",
   "name": "python",
   "nbconvert_exporter": "python",
   "pygments_lexer": "ipython3",
   "version": "3.7.4"
  }
 },
 "nbformat": 4,
 "nbformat_minor": 2
}
