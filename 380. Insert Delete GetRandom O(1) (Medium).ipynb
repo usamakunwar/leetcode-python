{
 "cells": [
  {
   "cell_type": "markdown",
   "metadata": {},
   "source": [
    "# 380. Insert Delete GetRandom O(1) (Medium)"
   ]
  },
  {
   "cell_type": "markdown",
   "metadata": {},
   "source": [
    "<div><p>Design a data structure that supports all following operations in <i>average</i> <b>O(1)</b> time.</p>\n",
    "\n",
    "<p>\n",
    "</p><ol>\n",
    "<li><code>insert(val)</code>: Inserts an item val to the set if not already present.</li>\n",
    "<li><code>remove(val)</code>: Removes an item val from the set if present.</li>\n",
    "<li><code>getRandom</code>: Returns a random element from current set of elements. Each element must have the <b>same probability</b> of being returned.</li>\n",
    "</ol>\n",
    "<p></p>\n",
    "\n",
    "<p><b>Example:</b>\n",
    "</p><pre>// Init an empty set.\n",
    "RandomizedSet randomSet = new RandomizedSet();\n",
    "\n",
    "// Inserts 1 to the set. Returns true as 1 was inserted successfully.\n",
    "randomSet.insert(1);\n",
    "\n",
    "// Returns false as 2 does not exist in the set.\n",
    "randomSet.remove(2);\n",
    "\n",
    "// Inserts 2 to the set, returns true. Set now contains [1,2].\n",
    "randomSet.insert(2);\n",
    "\n",
    "// getRandom should return either 1 or 2 randomly.\n",
    "randomSet.getRandom();\n",
    "\n",
    "// Removes 1 from the set, returns true. Set now contains [2].\n",
    "randomSet.remove(1);\n",
    "\n",
    "// 2 was already in the set, so return false.\n",
    "randomSet.insert(2);\n",
    "\n",
    "// Since 2 is the only number in the set, getRandom always return 2.\n",
    "randomSet.getRandom();\n",
    "</pre>\n",
    "<p></p></div>"
   ]
  },
  {
   "cell_type": "markdown",
   "metadata": {},
   "source": [
    "## Option 1\n",
    "<p>\n",
    "<li>Using a map, to get a random element in O(1) time, we need to maintain a list with all the values\n",
    "<li>Insert on a map and array can be done in O(1), however delete on an array cannot\n",
    "<li>To fix this, we can keep indexes of the array position in the map, then when removing, replace the val of the element to be removed to the last element, then pop the last element. And update dict idx of the last item that has been moved\n",
    "    <p>\n",
    "<p>\n",
    "Time complexity = O(1)\n",
    "<br>\n",
    "Space complexity = O(n)"
   ]
  },
  {
   "cell_type": "code",
   "execution_count": null,
   "metadata": {},
   "outputs": [],
   "source": [
    "class RandomizedSet(object):\n",
    "    def __init__(self):\n",
    "        self.set = {}\n",
    "        self.arr = []\n",
    "\n",
    "    def insert(self, val):\n",
    "        if val not in self.set:\n",
    "            self.set[val] = len(self.arr)\n",
    "            self.arr.append(val)\n",
    "            return True\n",
    "        \n",
    "    def remove(self, val):\n",
    "        if val in self.set:\n",
    "            last, curr_idx =  self.arr[-1], self.set[val]\n",
    "            self.arr[curr_idx], self.set[last] = last, curr_idx\n",
    "            self.arr.pop()\n",
    "            del self.set[val]\n",
    "            return True\n",
    "        \n",
    "    def getRandom(self):\n",
    "        return random.choice(self.arr)"
   ]
  },
  {
   "cell_type": "markdown",
   "metadata": {},
   "source": [
    "#### Result: 92ms (87.78%)"
   ]
  }
 ],
 "metadata": {
  "kernelspec": {
   "display_name": "Python 2",
   "language": "python",
   "name": "python2"
  },
  "language_info": {
   "codemirror_mode": {
    "name": "ipython",
    "version": 2
   },
   "file_extension": ".py",
   "mimetype": "text/x-python",
   "name": "python",
   "nbconvert_exporter": "python",
   "pygments_lexer": "ipython2",
   "version": "2.7.16"
  }
 },
 "nbformat": 4,
 "nbformat_minor": 2
}
