{
 "cells": [
  {
   "cell_type": "markdown",
   "metadata": {},
   "source": [
    "# 807. Max Increase to Keep City Skyline\n"
   ]
  },
  {
   "cell_type": "markdown",
   "metadata": {},
   "source": [
    "<div><p>In a 2 dimensional array <code>grid</code>, each value <code>grid[i][j]</code> represents the height of a building located there. We are allowed to increase the height of any number of buildings, by any amount (the amounts&nbsp;can be different for different buildings). Height&nbsp;0 is considered to be a&nbsp;building&nbsp;as well.&nbsp;</p>\n",
    "\n",
    "<p>At the end, the \"skyline\" when viewed from all four directions&nbsp;of the grid, i.e.&nbsp;top, bottom, left, and right,&nbsp;must be the same as the&nbsp;skyline of the original grid. A city's skyline is the outer contour of the rectangles formed by all the buildings when viewed from a distance. See&nbsp;the following example.</p>\n",
    "\n",
    "<p>What is the maximum total sum that the height of the buildings can be increased?</p>\n",
    "\n",
    "<pre><strong>Example:</strong>\n",
    "<strong>Input:</strong> grid = [[3,0,8,4],[2,4,5,7],[9,2,6,3],[0,3,1,0]]\n",
    "<strong>Output:</strong> 35\n",
    "<strong>Explanation:</strong> \n",
    "The grid is:\n",
    "[ [3, 0, 8, 4], \n",
    "  [2, 4, 5, 7],\n",
    "  [9, 2, 6, 3],\n",
    "  [0, 3, 1, 0] ]\n",
    "\n",
    "The skyline viewed from top or bottom is: [9, 4, 8, 7]\n",
    "The skyline viewed from left or right is: [8, 7, 9, 3]\n",
    "\n",
    "The grid after increasing the height of buildings without affecting skylines is:\n",
    "\n",
    "gridNew = [ [8, 4, 8, 7],\n",
    "            [7, 4, 7, 7],\n",
    "            [9, 4, 8, 7],\n",
    "            [3, 3, 3, 3] ]\n",
    "\n",
    "</pre>\n",
    "\n",
    "<p><strong>Notes: </strong></p>\n",
    "\n",
    "<ul>\n",
    "\t<li><code>1 &lt; grid.length = grid[0].length &lt;= 50</code>.</li>\n",
    "\t<li>All heights <code>grid[i][j]</code> are in the range <code>[0, 100]</code>.</li>\n",
    "\t<li>All buildings in <code>grid[i][j]</code> occupy the entire grid cell: that is, they are a <code>1 x 1 x grid[i][j]</code> rectangular prism.</li>\n",
    "</ul>\n",
    "</div>"
   ]
  },
  {
   "cell_type": "markdown",
   "metadata": {},
   "source": [
    "## Option 1\n",
    "\n",
    "Time complexity: O(mn)\n",
    "<br>\n",
    "Space complexity: O(m+n)"
   ]
  },
  {
   "cell_type": "code",
   "execution_count": null,
   "metadata": {
    "scrolled": true
   },
   "outputs": [],
   "source": [
    "class Solution(object):\n",
    "    def maxIncreaseKeepingSkyline(self, grid):\n",
    "        li,lj = len(grid),len(grid[0])\n",
    "        max_rows, max_cols, res = [0]*li, [0]*lj, 0\n",
    "        for i in range(li):\n",
    "            for j in range(lj):\n",
    "                max_rows[i] = max(max_rows[i], grid[i][j])\n",
    "                max_cols[j] = max(max_cols[j], grid[i][j])\n",
    "        for i in range(li):\n",
    "            for j in range(lj):\n",
    "                res += min(max_rows[i],max_cols[j]) - grid[i][j]\n",
    "        return res        \n",
    "\n",
    "Solution().maxIncreaseKeepingSkyline([[3,0,8,4],[2,4,5,7],[9,2,6,3],[0,3,1,0]])\n",
    "        "
   ]
  },
  {
   "cell_type": "markdown",
   "metadata": {},
   "source": [
    "#### Result: 60ms (58.16%)"
   ]
  },
  {
   "cell_type": "markdown",
   "metadata": {},
   "source": [
    "## Option 2\n",
    "\n",
    "Same as above, shorted code\n",
    "\n",
    "Time complexity: O(mn)\n",
    "<br>\n",
    "Space complexity: O(m+n)"
   ]
  },
  {
   "cell_type": "code",
   "execution_count": null,
   "metadata": {},
   "outputs": [],
   "source": [
    "class Solution(object):\n",
    "    def maxIncreaseKeepingSkyline(self, grid):\n",
    "        li,lj = len(grid),len(grid[0])\n",
    "        max_rows, max_cols = map(max, grid), map(max, *grid)\n",
    "        return sum(min(max_rows[i],max_cols[j]) - grid[i][j] for i in range(li) for j in range(lj))\n",
    "\n",
    "Solution().maxIncreaseKeepingSkyline([[3,0,8,4],[2,4,5,7],[9,2,6,3],[0,3,1,0]])\n",
    "        "
   ]
  },
  {
   "cell_type": "markdown",
   "metadata": {},
   "source": [
    "#### Result: 52ms (94.33%)\n"
   ]
  }
 ],
 "metadata": {
  "kernelspec": {
   "display_name": "Python 2",
   "language": "python",
   "name": "python2"
  },
  "language_info": {
   "codemirror_mode": {
    "name": "ipython",
    "version": 2
   },
   "file_extension": ".py",
   "mimetype": "text/x-python",
   "name": "python",
   "nbconvert_exporter": "python",
   "pygments_lexer": "ipython2",
   "version": "2.7.16"
  }
 },
 "nbformat": 4,
 "nbformat_minor": 2
}
