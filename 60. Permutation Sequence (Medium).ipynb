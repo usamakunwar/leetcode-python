{
 "cells": [
  {
   "cell_type": "markdown",
   "metadata": {},
   "source": [
    "# 60. Permutation Sequence (Medium)\n",
    "\n"
   ]
  },
  {
   "cell_type": "markdown",
   "metadata": {},
   "source": [
    "<div><p>The set <code>[1,2,3,...,<em>n</em>]</code> contains a total of <em>n</em>! unique permutations.</p>\n",
    "\n",
    "<p>By listing and labeling all of the permutations in order, we get the following sequence for <em>n</em> = 3:</p>\n",
    "\n",
    "<ol>\n",
    "\t<li><code>\"123\"</code></li>\n",
    "\t<li><code>\"132\"</code></li>\n",
    "\t<li><code>\"213\"</code></li>\n",
    "\t<li><code>\"231\"</code></li>\n",
    "\t<li><code>\"312\"</code></li>\n",
    "\t<li><code>\"321\"</code></li>\n",
    "</ol>\n",
    "\n",
    "<p>Given <em>n</em> and <em>k</em>, return the <em>k</em><sup>th</sup> permutation sequence.</p>\n",
    "\n",
    "<p><strong>Note:</strong></p>\n",
    "\n",
    "<ul>\n",
    "\t<li>Given <em>n</em> will be between 1 and 9 inclusive.</li>\n",
    "\t<li>Given&nbsp;<em>k</em>&nbsp;will be between 1 and <em>n</em>! inclusive.</li>\n",
    "</ul>\n",
    "\n",
    "<p><strong>Example 1:</strong></p>\n",
    "\n",
    "<pre><strong>Input:</strong> n = 3, k = 3\n",
    "<strong>Output:</strong> \"213\"\n",
    "</pre>\n",
    "\n",
    "<p><strong>Example 2:</strong></p>\n",
    "\n",
    "<pre><strong>Input:</strong> n = 4, k = 9\n",
    "<strong>Output:</strong> \"2314\"\n",
    "</pre>\n",
    "</div>"
   ]
  },
  {
   "cell_type": "markdown",
   "metadata": {},
   "source": [
    "## Option 1\n",
    "\n",
    "DFS + Backtrack"
   ]
  },
  {
   "cell_type": "code",
   "execution_count": null,
   "metadata": {
    "scrolled": false
   },
   "outputs": [],
   "source": [
    "class Solution(object):\n",
    "    def getPermutation(self, n, k):\n",
    "        def search(s,curr,k):\n",
    "            if len(curr) == n:\n",
    "                return curr, k-1\n",
    "            for i in range(len(s)):\n",
    "                new_curr, k = search(s[:i]+s[i+1:], curr+s[i], k)\n",
    "                if k == 0: return new_curr, k\n",
    "            return curr, k\n",
    "        return search(''.join([str(i) for i in range(1,n+1)]), '', k)[0]\n",
    "\n",
    "Solution().getPermutation(4,9)"
   ]
  },
  {
   "cell_type": "markdown",
   "metadata": {},
   "source": [
    "#### Result: 7556ms (5.13%)"
   ]
  },
  {
   "cell_type": "markdown",
   "metadata": {},
   "source": [
    "## Option 2\n",
    "\n",
    "Above we are doing the entire search until k for no reason. We can predict what the answer will look like at k\n",
    "<li>Permutations have a factorial complexity. So for an ith item the number of possible solutions are (n-1)!\n",
    "<li>We can use this to figure out what our res will look like\n",
    "<li>E.g for [1,2,3,4]. Each element has 6 results ((4-1)!) This will give you index of the first element\n",
    "<li>Then after that, we divide our factorial with the elements left, continually until nothing left"
   ]
  },
  {
   "cell_type": "code",
   "execution_count": null,
   "metadata": {},
   "outputs": [],
   "source": [
    "import math\n",
    "class Solution(object):\n",
    "    def getPermutation(self, n, k):\n",
    "        fact = math.factorial(n-1)\n",
    "        curr = ''.join([str(i) for i in range(1,n+1)])\n",
    "        res,i = '',0\n",
    "        while k > 0:\n",
    "            if k - fact <= 0 :\n",
    "                res += curr[i]\n",
    "                curr = curr[:i]+curr[i+1:]\n",
    "                if len(curr) == 0: break\n",
    "                fact = fact//len(curr)\n",
    "                i = 0\n",
    "            else:\n",
    "                k -= fact\n",
    "                i += 1\n",
    "        return res\n",
    "        \n",
    "\n",
    "Solution().getPermutation(3,3)"
   ]
  },
  {
   "cell_type": "markdown",
   "metadata": {},
   "source": [
    "#### Result: 20ms (60.19%)"
   ]
  }
 ],
 "metadata": {
  "kernelspec": {
   "display_name": "Python 2",
   "language": "python",
   "name": "python2"
  },
  "language_info": {
   "codemirror_mode": {
    "name": "ipython",
    "version": 2
   },
   "file_extension": ".py",
   "mimetype": "text/x-python",
   "name": "python",
   "nbconvert_exporter": "python",
   "pygments_lexer": "ipython2",
   "version": "2.7.16"
  }
 },
 "nbformat": 4,
 "nbformat_minor": 2
}
