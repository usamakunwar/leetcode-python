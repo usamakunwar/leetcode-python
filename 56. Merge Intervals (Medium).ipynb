{
 "cells": [
  {
   "cell_type": "markdown",
   "metadata": {},
   "source": [
    "# 56. Merge Intervals (Medium)\n"
   ]
  },
  {
   "cell_type": "markdown",
   "metadata": {},
   "source": [
    "<div><p>Given a collection of intervals, merge all overlapping intervals.</p>\n",
    "\n",
    "<p><strong>Example 1:</strong></p>\n",
    "\n",
    "<pre><strong>Input:</strong> [[1,3],[2,6],[8,10],[15,18]]\n",
    "<strong>Output:</strong> [[1,6],[8,10],[15,18]]\n",
    "<strong>Explanation:</strong> Since intervals [1,3] and [2,6] overlaps, merge them into [1,6].\n",
    "</pre>\n",
    "\n",
    "<p><strong>Example 2:</strong></p>\n",
    "\n",
    "<pre><strong>Input:</strong> [[1,4],[4,5]]\n",
    "<strong>Output:</strong> [[1,5]]\n",
    "<strong>Explanation:</strong> Intervals [1,4] and [4,5] are considered overlapping.</pre>\n",
    "\n",
    "<p><strong>NOTE:</strong>&nbsp;input types have been changed on April 15, 2019. Please reset to default code definition to get new method signature.</p>\n",
    "</div>"
   ]
  },
  {
   "cell_type": "markdown",
   "metadata": {},
   "source": [
    "## Option 1\n",
    "\n",
    "Sort the intervals by the x value. Then bucket them in to merged, we only have to check the last item in merged as the intervals were sorted\n",
    "\n",
    "Time complexity = O(nlog(n)) Sort worst case \n",
    "<br>\n",
    "Space complexity = O(n) We create a new merged array, which can be of worst n size\n"
   ]
  },
  {
   "cell_type": "code",
   "execution_count": 12,
   "metadata": {
    "scrolled": true
   },
   "outputs": [
    {
     "data": {
      "text/plain": [
       "[[1, 6], [8, 10], [15, 18]]"
      ]
     },
     "execution_count": 12,
     "metadata": {},
     "output_type": "execute_result"
    }
   ],
   "source": [
    "class Solution:\n",
    "    def merge(self, intervals: [[int]]) -> [[int]]:\n",
    "        \n",
    "        intervals.sort(key=lambda x: x[0])\n",
    "\n",
    "        merged = []\n",
    "    \n",
    "        for x,y in intervals:\n",
    "            if not merged or x > merged[-1][1]:\n",
    "                merged.append([x,y])\n",
    "            elif y > merged[-1][1]:\n",
    "                merged[-1][1] = y\n",
    "        \n",
    "        return merged\n",
    "        \n",
    "Solution().merge([[1,3],[8,10],[15,18],[2,6]])"
   ]
  },
  {
   "cell_type": "markdown",
   "metadata": {},
   "source": [
    "#### Result:  Accepted\n",
    "#### Runtime: 88ms (89.14%)"
   ]
  }
 ],
 "metadata": {
  "kernelspec": {
   "display_name": "Python 3",
   "language": "python",
   "name": "python3"
  },
  "language_info": {
   "codemirror_mode": {
    "name": "ipython",
    "version": 3
   },
   "file_extension": ".py",
   "mimetype": "text/x-python",
   "name": "python",
   "nbconvert_exporter": "python",
   "pygments_lexer": "ipython3",
   "version": "3.7.4"
  }
 },
 "nbformat": 4,
 "nbformat_minor": 2
}
