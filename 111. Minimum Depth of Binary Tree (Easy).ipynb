{
 "cells": [
  {
   "cell_type": "markdown",
   "metadata": {},
   "source": [
    "# 111. Minimum Depth of Binary Tree (Easy)"
   ]
  },
  {
   "cell_type": "markdown",
   "metadata": {},
   "source": [
    "<div><p>Given a binary tree, find its minimum depth.</p>\n",
    "\n",
    "<p>The minimum depth is the number of nodes along the shortest path from the root node down to the nearest leaf node.</p>\n",
    "\n",
    "<p><strong>Note:</strong>&nbsp;A leaf is a node with no children.</p>\n",
    "\n",
    "<p><strong>Example:</strong></p>\n",
    "\n",
    "<p>Given binary tree <code>[3,9,20,null,null,15,7]</code>,</p>\n",
    "\n",
    "<pre>    3\n",
    "   / \\\n",
    "  9  20\n",
    "    /  \\\n",
    "   15   7</pre>\n",
    "\n",
    "<p>return its minimum&nbsp;depth = 2.</p>\n",
    "</div>"
   ]
  },
  {
   "cell_type": "markdown",
   "metadata": {},
   "source": [
    "## Option 1\n",
    "\n",
    "BFS\n",
    "<p>\n",
    "Time complexity = O(n)\n",
    "<br>\n",
    "Space complexity = O(n)"
   ]
  },
  {
   "cell_type": "code",
   "execution_count": null,
   "metadata": {
    "scrolled": false
   },
   "outputs": [],
   "source": [
    "# Definition for a binary tree node.\n",
    "# class TreeNode:\n",
    "#     def __init__(self, x):\n",
    "#         self.val = x\n",
    "#         self.left = None\n",
    "#         self.right = None\n",
    "\n",
    "class Solution:\n",
    "    def minDepth(self, root: TreeNode) -> int:\n",
    "        if root == None: return 0\n",
    "        queue = collections.deque()\n",
    "        queue.append((root,1))\n",
    "        \n",
    "        while queue:\n",
    "            node,level = queue.popleft()\n",
    "            if node.left == None and node.right == None: return level\n",
    "            if node.left:\n",
    "                queue.append((node.left,level+1))\n",
    "            if node.right:\n",
    "                queue.append((node.right, level+1))\n",
    "        "
   ]
  },
  {
   "cell_type": "markdown",
   "metadata": {},
   "source": [
    "#### Result:  40ms (89.23%)"
   ]
  }
 ],
 "metadata": {
  "kernelspec": {
   "display_name": "Python 3",
   "language": "python",
   "name": "python3"
  },
  "language_info": {
   "codemirror_mode": {
    "name": "ipython",
    "version": 3
   },
   "file_extension": ".py",
   "mimetype": "text/x-python",
   "name": "python",
   "nbconvert_exporter": "python",
   "pygments_lexer": "ipython3",
   "version": "3.7.4"
  }
 },
 "nbformat": 4,
 "nbformat_minor": 2
}
