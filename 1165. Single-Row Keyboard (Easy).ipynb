{
 "cells": [
  {
   "cell_type": "markdown",
   "metadata": {},
   "source": [
    "# 1165. Single-Row Keyboard (Easy)"
   ]
  },
  {
   "cell_type": "markdown",
   "metadata": {},
   "source": [
    "<div><p>There is a special keyboard with <strong>all keys in a single row</strong>.</p>\n",
    "\n",
    "<p>Given a string <code>keyboard</code> of length 26 indicating the layout of the keyboard (indexed from 0 to&nbsp;25), initially your finger is at index 0. To type a character, you have to move your finger to the index of the desired character. The time taken to move your finger from index <code>i</code> to index <code>j</code> is <code>|i - j|</code>.</p>\n",
    "\n",
    "<p>You want to type a string <code>word</code>. Write a function to calculate how much time it takes to type it with one finger.</p>\n",
    "\n",
    "<p>&nbsp;</p>\n",
    "<p><strong>Example 1:</strong></p>\n",
    "\n",
    "<pre><strong>Input:</strong> keyboard = \"abcdefghijklmnopqrstuvwxyz\", word = \"cba\"\n",
    "<strong>Output:</strong> 4\n",
    "<strong>Explanation: </strong>The index moves from 0 to 2 to write 'c' then to 1 to write 'b' then to 0 again to write 'a'.\n",
    "Total time = 2 + 1 + 1 = 4. \n",
    "</pre>\n",
    "\n",
    "<p><strong>Example 2:</strong></p>\n",
    "\n",
    "<pre><strong>Input:</strong> keyboard = \"pqrstuvwxyzabcdefghijklmno\", word = \"leetcode\"\n",
    "<strong>Output:</strong> 73\n",
    "</pre>\n",
    "\n",
    "<p>&nbsp;</p>\n",
    "<p><strong>Constraints:</strong></p>\n",
    "\n",
    "<ul>\n",
    "\t<li><code>keyboard.length == 26</code></li>\n",
    "\t<li><code><font face=\"monospace\">keyboard</font></code> contains each&nbsp;English lowercase letter&nbsp;exactly once in some order.</li>\n",
    "\t<li><code>1 &lt;= word.length &lt;= 10^4</code></li>\n",
    "\t<li><code>word[i]</code>&nbsp;is an English lowercase letter.</li>\n",
    "</ul>\n",
    "</div>"
   ]
  },
  {
   "cell_type": "markdown",
   "metadata": {},
   "source": [
    "## Option 1\n",
    "<p>\n",
    "Time complexity: O(n) word length\n",
    "<br>\n",
    "Space complexity: O(1)"
   ]
  },
  {
   "cell_type": "code",
   "execution_count": null,
   "metadata": {
    "scrolled": true
   },
   "outputs": [],
   "source": [
    "class Solution(object):\n",
    "    def calculateTime(self, keyboard, word):\n",
    "        k_map = {v:i for i,v in enumerate(keyboard)}\n",
    "        res=pos=0\n",
    "        for i in word:\n",
    "            res += abs(k_map[i]-pos)\n",
    "            pos = k_map[i]\n",
    "        return res\n",
    "                \n",
    "Solution().calculateTime('pqrstuvwxyzabcdefghijklmno', 'leetcode')\n"
   ]
  },
  {
   "cell_type": "markdown",
   "metadata": {},
   "source": [
    "#### Result: 20ms (99.67%)"
   ]
  }
 ],
 "metadata": {
  "kernelspec": {
   "display_name": "Python 2",
   "language": "python",
   "name": "python2"
  },
  "language_info": {
   "codemirror_mode": {
    "name": "ipython",
    "version": 2
   },
   "file_extension": ".py",
   "mimetype": "text/x-python",
   "name": "python",
   "nbconvert_exporter": "python",
   "pygments_lexer": "ipython2",
   "version": "2.7.16"
  }
 },
 "nbformat": 4,
 "nbformat_minor": 2
}
