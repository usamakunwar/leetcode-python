{
 "cells": [
  {
   "cell_type": "markdown",
   "metadata": {},
   "source": [
    "# 508. Most Frequent Subtree Sum (Medium)"
   ]
  },
  {
   "cell_type": "markdown",
   "metadata": {},
   "source": [
    "<div><p>\n",
    "Given the root of a tree, you are asked to find the most frequent subtree sum. The subtree sum of a node is defined as the sum of all the node values formed by the subtree rooted at that node (including the node itself). So what is the most frequent subtree sum value? If there is a tie, return all the values with the highest frequency in any order.\n",
    "</p>\n",
    "\n",
    "<p><b>Examples 1</b><br>\n",
    "Input:\n",
    "</p><pre>  5\n",
    " /  \\\n",
    "2   -3\n",
    "</pre>\n",
    "return [2, -3, 4], since all the values happen only once, return all of them in any order.\n",
    "<p></p>\n",
    "\n",
    "<p><b>Examples 2</b><br>\n",
    "Input:\n",
    "</p><pre>  5\n",
    " /  \\\n",
    "2   -5\n",
    "</pre>\n",
    "return [2], since 2 happens twice, however -5 only occur once.\n",
    "<p></p>\n",
    "\n",
    "<p><b>Note:</b>\n",
    "You may assume the sum of values in any subtree is in the range of 32-bit signed integer.\n",
    "</p></div>"
   ]
  },
  {
   "cell_type": "markdown",
   "metadata": {},
   "source": [
    "## Option 1\n",
    "\n",
    "<p>DFS\n",
    "    \n",
    "Time complexity: O(n)\n",
    "<br>\n",
    "Space complexity: O(n)"
   ]
  },
  {
   "cell_type": "code",
   "execution_count": null,
   "metadata": {
    "scrolled": false
   },
   "outputs": [],
   "source": [
    "# Definition for a binary tree node.\n",
    "# class TreeNode(object):\n",
    "#     def __init__(self, x):\n",
    "#         self.val = x\n",
    "#         self.left = None\n",
    "#         self.right = None\n",
    "\n",
    "class Solution(object):\n",
    "    def findFrequentTreeSum(self, root):\n",
    "        \"\"\"\n",
    "        :type root: TreeNode\n",
    "        :rtype: List[int]\n",
    "        \"\"\"\n",
    "        if not root: return []\n",
    "        self.counter = collections.Counter()\n",
    "        def search(node):\n",
    "            sum = node.val + (search(node.left) if node.left else 0) + (search(node.right) if node.right else 0)\n",
    "            self.counter[sum] += 1\n",
    "            return sum\n",
    "        search(root)\n",
    "        max_count = max(self.counter.values())\n",
    "        return [k for k in self.counter if self.counter[k] == max_count]"
   ]
  },
  {
   "cell_type": "markdown",
   "metadata": {},
   "source": [
    "#### Result: 40ms (70.62%)"
   ]
  }
 ],
 "metadata": {
  "kernelspec": {
   "display_name": "Python 2",
   "language": "python",
   "name": "python2"
  },
  "language_info": {
   "codemirror_mode": {
    "name": "ipython",
    "version": 2
   },
   "file_extension": ".py",
   "mimetype": "text/x-python",
   "name": "python",
   "nbconvert_exporter": "python",
   "pygments_lexer": "ipython2",
   "version": "2.7.16"
  }
 },
 "nbformat": 4,
 "nbformat_minor": 2
}
