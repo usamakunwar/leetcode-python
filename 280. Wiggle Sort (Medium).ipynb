{
 "cells": [
  {
   "cell_type": "markdown",
   "metadata": {},
   "source": [
    "# 280. Wiggle Sort (Medium)\n"
   ]
  },
  {
   "cell_type": "markdown",
   "metadata": {},
   "source": [
    "<div><p>Given an array of integers, 1 ≤ a[i] ≤ <i>n</i> (<i>n</i> = size of array), some elements appear <b>twice</b> and others appear <b>once</b>.</p>\n",
    "\n",
    "<p>Find all the elements that appear <b>twice</b> in this array.</p>\n",
    "\n",
    "<p>Could you do it without extra space and in O(<i>n</i>) runtime?</p>\n",
    "<p></p>\n",
    "<p><b>Example:</b><br>\n",
    "</p><pre><b>Input:</b>\n",
    "[4,3,2,7,8,2,3,1]\n",
    "\n",
    "<b>Output:</b>\n",
    "[2,3]\n",
    "</pre></div>"
   ]
  },
  {
   "cell_type": "markdown",
   "metadata": {},
   "source": [
    "## Option 1\n",
    "<p>\n",
    "Time complexity = O(n)\n",
    "<br>\n",
    "Space complexity = O(1)"
   ]
  },
  {
   "cell_type": "code",
   "execution_count": 6,
   "metadata": {
    "scrolled": true
   },
   "outputs": [
    {
     "name": "stdout",
     "output_type": "stream",
     "text": [
      "[3, 5, 1, 6, 2, 4]\n"
     ]
    }
   ],
   "source": [
    "class Solution:\n",
    "    def findDuplicates(self, nums: [int]) -> None:\n",
    "        for i in range(len(nums)-1):            \n",
    "            if i%2 == 0 :\n",
    "                #smaller\n",
    "                if nums[i] > nums[i+1]:\n",
    "                    nums[i], nums[i+1] = nums[i+1], nums[i]\n",
    "            else:\n",
    "                #bigger\n",
    "                if nums[i] < nums[i+1]:\n",
    "                    nums[i], nums[i+1] = nums[i+1], nums[i]\n",
    "        print(nums)\n",
    "        \n",
    "Solution().findDuplicates([3,5,2,1,6,4])"
   ]
  },
  {
   "cell_type": "markdown",
   "metadata": {},
   "source": [
    "#### Result:  96ms (75.43%)"
   ]
  }
 ],
 "metadata": {
  "kernelspec": {
   "display_name": "Python 3",
   "language": "python",
   "name": "python3"
  },
  "language_info": {
   "codemirror_mode": {
    "name": "ipython",
    "version": 3
   },
   "file_extension": ".py",
   "mimetype": "text/x-python",
   "name": "python",
   "nbconvert_exporter": "python",
   "pygments_lexer": "ipython3",
   "version": "3.7.4"
  }
 },
 "nbformat": 4,
 "nbformat_minor": 2
}
