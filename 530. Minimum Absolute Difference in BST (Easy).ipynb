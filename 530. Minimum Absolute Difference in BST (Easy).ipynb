{
 "cells": [
  {
   "cell_type": "markdown",
   "metadata": {},
   "source": [
    "# 530. Minimum Absolute Difference in BST (Easy)\n"
   ]
  },
  {
   "cell_type": "markdown",
   "metadata": {},
   "source": [
    "<div><p>Given a binary search tree with non-negative values, find the minimum <a href=\"https://en.wikipedia.org/wiki/Absolute_difference\">absolute difference</a> between values of any two nodes.</p>\n",
    "\n",
    "<p><b>Example:</b></p>\n",
    "\n",
    "<pre><b>Input:</b>\n",
    "\n",
    "   1\n",
    "    \\\n",
    "     3\n",
    "    /\n",
    "   2\n",
    "\n",
    "<b>Output:</b>\n",
    "1\n",
    "\n",
    "<b>Explanation:</b>\n",
    "The minimum absolute difference is 1, which is the difference between 2 and 1 (or between 2 and 3).\n",
    "</pre>\n",
    "\n",
    "<p>&nbsp;</p>\n",
    "\n",
    "<p><b>Note:</b></p>\n",
    "\n",
    "<ul>\n",
    "\t<li>There are at least two nodes in this BST.</li>\n",
    "\t<li>This question is the same as 783:&nbsp;<a href=\"https://leetcode.com/problems/minimum-distance-between-bst-nodes/\">https://leetcode.com/problems/minimum-distance-between-bst-nodes/</a></li>\n",
    "</ul>\n",
    "</div>"
   ]
  },
  {
   "cell_type": "markdown",
   "metadata": {},
   "source": [
    "## Option 1\n",
    "<p>DFS LVR\n",
    "    <p>\n",
    "Time complexity: O(n)\n",
    "<br>\n",
    "Space complexity: O(n)"
   ]
  },
  {
   "cell_type": "code",
   "execution_count": null,
   "metadata": {
    "scrolled": false
   },
   "outputs": [],
   "source": [
    "# Definition for a binary tree node.\n",
    "# class TreeNode(object):\n",
    "#     def __init__(self, x):\n",
    "#         self.val = x\n",
    "#         self.left = None\n",
    "#         self.right = None\n",
    "\n",
    "class Solution(object):\n",
    "    def getMinimumDifference(self, root):\n",
    "        \"\"\"\n",
    "        :type root: TreeNode\n",
    "        :rtype: int\n",
    "        \"\"\"\n",
    "        self.res = self.last = float('inf')\n",
    "        def search(node):\n",
    "            if node.left: search(node.left)\n",
    "            self.res = min(self.res, abs(self.last-node.val))\n",
    "            self.last = node.val            \n",
    "            if node.right: search(node.right)\n",
    "            \n",
    "        search(root)\n",
    "        return self.res\n",
    "        "
   ]
  },
  {
   "cell_type": "markdown",
   "metadata": {},
   "source": [
    "#### Result: 44ms (83.90%)"
   ]
  }
 ],
 "metadata": {
  "kernelspec": {
   "display_name": "Python 2",
   "language": "python",
   "name": "python2"
  },
  "language_info": {
   "codemirror_mode": {
    "name": "ipython",
    "version": 2
   },
   "file_extension": ".py",
   "mimetype": "text/x-python",
   "name": "python",
   "nbconvert_exporter": "python",
   "pygments_lexer": "ipython2",
   "version": "2.7.16"
  }
 },
 "nbformat": 4,
 "nbformat_minor": 2
}
