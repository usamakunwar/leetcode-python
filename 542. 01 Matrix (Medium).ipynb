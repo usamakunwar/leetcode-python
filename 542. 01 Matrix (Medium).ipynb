{
 "cells": [
  {
   "cell_type": "markdown",
   "metadata": {},
   "source": [
    "# 542. 01 Matrix (Medium)"
   ]
  },
  {
   "cell_type": "markdown",
   "metadata": {},
   "source": [
    "<div><p>Given a matrix consists of 0 and 1, find the distance of the nearest 0 for each cell.</p>\n",
    "\n",
    "<p>The distance between two adjacent cells is 1.</p>\n",
    "\n",
    "<p>&nbsp;</p>\n",
    "\n",
    "<p><b>Example 1: </b></p>\n",
    "\n",
    "<pre><strong>Input:</strong>\n",
    "[[0,0,0],\n",
    " [0,1,0],\n",
    " [0,0,0]]\n",
    "\n",
    "<strong>Output:</strong>\n",
    "[[0,0,0],\n",
    "&nbsp;[0,1,0],\n",
    "&nbsp;[0,0,0]]\n",
    "</pre>\n",
    "\n",
    "<p><b>Example 2: </b></p>\n",
    "\n",
    "<pre><b>Input:</b>\n",
    "[[0,0,0],\n",
    " [0,1,0],\n",
    " [1,1,1]]\n",
    "\n",
    "<strong>Output:</strong>\n",
    "[[0,0,0],\n",
    " [0,1,0],\n",
    " [1,2,1]]\n",
    "</pre>\n",
    "\n",
    "<p>&nbsp;</p>\n",
    "\n",
    "<p><b>Note:</b></p>\n",
    "\n",
    "<ol>\n",
    "\t<li>The number of elements of the given matrix will not exceed 10,000.</li>\n",
    "\t<li>There are at least one 0 in the given matrix.</li>\n",
    "\t<li>The cells are adjacent in only four directions: up, down, left and right.</li>\n",
    "</ol>\n",
    "</div>"
   ]
  },
  {
   "cell_type": "markdown",
   "metadata": {},
   "source": [
    "## Option 1\n",
    "<p>\n",
    "<li>DP Two pass\n",
    "<p>\n",
    "    <p>\n",
    "Time complexity: O(n)\n",
    "<br>\n",
    "Space complexity: O(l) "
   ]
  },
  {
   "cell_type": "code",
   "execution_count": null,
   "metadata": {},
   "outputs": [],
   "source": [
    "import collections\n",
    "class Solution(object):\n",
    "    def updateMatrix(self, m):\n",
    "        li,lj = len(m),len(m[0])\n",
    "        #Iterate forward, whilst accumulating the distance\n",
    "        #For 1s that do not have any zeros before them, we set to inf, these will be covered on the reverse iter\n",
    "        for i in range(li):\n",
    "            for j in range(lj):\n",
    "                if m[i][j]:\n",
    "                    up = m[i-1][j] if i > 0 else float('inf')\n",
    "                    left = m[i][j-1] if j > 0 else float('inf')\n",
    "                    m[i][j] = min(up,left) + 1\n",
    "                    \n",
    "        #Iterate backwards, whilst accumulating the distance and comparing to the previous distance\n",
    "        #We cover the inf values and also the existing distances, as there may be closed zeros\n",
    "        for i in range(li-1,-1,-1):\n",
    "            for j in range(lj-1,-1,-1):\n",
    "                if m[i][j] != 0:\n",
    "                    down = m[i+1][j] if i < li-1 else float('inf')\n",
    "                    right = m[i][j+1] if j < lj-1 else float('inf')\n",
    "                    #The minimum distance is reverse vs the previous distance\n",
    "                    m[i][j] = min(m[i][j], min(down,right) + 1)\n",
    "        return m\n",
    "            \n",
    "Solution().updateMatrix([[1,0,1],\n",
    "                         [1,1,1],\n",
    "                         [1,1,0]])\n",
    "        "
   ]
  },
  {
   "cell_type": "markdown",
   "metadata": {},
   "source": [
    "#### Result: 480ms (97.04%)\n"
   ]
  }
 ],
 "metadata": {
  "kernelspec": {
   "display_name": "Python 2",
   "language": "python",
   "name": "python2"
  },
  "language_info": {
   "codemirror_mode": {
    "name": "ipython",
    "version": 2
   },
   "file_extension": ".py",
   "mimetype": "text/x-python",
   "name": "python",
   "nbconvert_exporter": "python",
   "pygments_lexer": "ipython2",
   "version": "2.7.16"
  }
 },
 "nbformat": 4,
 "nbformat_minor": 2
}
