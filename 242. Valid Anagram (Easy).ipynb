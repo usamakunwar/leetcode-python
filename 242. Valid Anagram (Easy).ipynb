{
 "cells": [
  {
   "cell_type": "markdown",
   "metadata": {},
   "source": [
    "# 242. Valid Anagram (Easy)"
   ]
  },
  {
   "cell_type": "markdown",
   "metadata": {},
   "source": [
    "<div><p>Given two strings <em>s</em> and <em>t&nbsp;</em>, write a function to determine if <em>t</em> is an anagram of <em>s</em>.</p>\n",
    "\n",
    "<p><b>Example 1:</b></p>\n",
    "\n",
    "<pre><b>Input:</b> <em>s</em> = \"anagram\", <em>t</em> = \"nagaram\"\n",
    "<b>Output:</b> true\n",
    "</pre>\n",
    "\n",
    "<p><b>Example 2:</b></p>\n",
    "\n",
    "<pre><b>Input:</b> <em>s</em> = \"rat\", <em>t</em> = \"car\"\n",
    "<b>Output: </b>false\n",
    "</pre>\n",
    "\n",
    "<p><strong>Note:</strong><br>\n",
    "You may assume the string contains only lowercase alphabets.</p>\n",
    "\n",
    "<p><strong>Follow up:</strong><br>\n",
    "What if the inputs contain unicode characters? How would you adapt your solution to such case?</p>\n",
    "</div>"
   ]
  },
  {
   "cell_type": "markdown",
   "metadata": {},
   "source": [
    "## Option 1\n",
    "\n",
    "Slide the window, whilst doing a binary search on the item to add and remove\n",
    "\n",
    "Time complexity = O(n)\n",
    "<br>\n",
    "Space complexity = O(n)"
   ]
  },
  {
   "cell_type": "code",
   "execution_count": 5,
   "metadata": {
    "scrolled": false
   },
   "outputs": [
    {
     "data": {
      "text/plain": [
       "False"
      ]
     },
     "execution_count": 5,
     "metadata": {},
     "output_type": "execute_result"
    }
   ],
   "source": [
    "class Solution(object):\n",
    "    def isAnagram(self, s, t):\n",
    "        if len(s) != len(t): return False\n",
    "        s_map,t_map = [0]*26, [0]*26\n",
    "        for i in range(len(s)):\n",
    "            s_map[ord(s[i])-ord('a')] += 1\n",
    "            t_map[ord(t[i])-ord('a')] += 1\n",
    "        return s_map == t_map\n",
    "                \n",
    "Solution().isAnagram(\"apple\", \"lepppa\")"
   ]
  },
  {
   "cell_type": "markdown",
   "metadata": {},
   "source": [
    "#### Result: 44ms (59.98%)"
   ]
  }
 ],
 "metadata": {
  "kernelspec": {
   "display_name": "Python 2",
   "language": "python",
   "name": "python2"
  },
  "language_info": {
   "codemirror_mode": {
    "name": "ipython",
    "version": 2
   },
   "file_extension": ".py",
   "mimetype": "text/x-python",
   "name": "python",
   "nbconvert_exporter": "python",
   "pygments_lexer": "ipython2",
   "version": "2.7.16"
  }
 },
 "nbformat": 4,
 "nbformat_minor": 2
}
