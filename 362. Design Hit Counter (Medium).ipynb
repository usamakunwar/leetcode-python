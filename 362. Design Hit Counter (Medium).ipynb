{
 "cells": [
  {
   "cell_type": "markdown",
   "metadata": {},
   "source": [
    "# 362. Design Hit Counter (Medium)"
   ]
  },
  {
   "cell_type": "markdown",
   "metadata": {},
   "source": [
    "<div><p>Design a hit counter which counts the number of hits received in the past 5 minutes.</p>\n",
    "\n",
    "<p>Each function accepts a timestamp parameter (in seconds granularity) and you may assume that calls are being made to the system in chronological order (ie, the timestamp is monotonically increasing). You may assume that the earliest timestamp starts at 1.</p>\n",
    "\n",
    "<p>It is possible that several hits arrive roughly at the same time.</p>\n",
    "\n",
    "<p><b>Example:</b></p>\n",
    "\n",
    "<pre>HitCounter counter = new HitCounter();\n",
    "\n",
    "// hit at timestamp 1.\n",
    "counter.hit(1);\n",
    "\n",
    "// hit at timestamp 2.\n",
    "counter.hit(2);\n",
    "\n",
    "// hit at timestamp 3.\n",
    "counter.hit(3);\n",
    "\n",
    "// get hits at timestamp 4, should return 3.\n",
    "counter.getHits(4);\n",
    "\n",
    "// hit at timestamp 300.\n",
    "counter.hit(300);\n",
    "\n",
    "// get hits at timestamp 300, should return 4.\n",
    "counter.getHits(300);\n",
    "\n",
    "// get hits at timestamp 301, should return 3.\n",
    "counter.getHits(301); \n",
    "</pre>\n",
    "\n",
    "<p><b>Follow up:</b><br>\n",
    "What if the number of hits per second could be very large? Does your design scale?</p></div>"
   ]
  },
  {
   "cell_type": "markdown",
   "metadata": {},
   "source": [
    "## Option 1\n",
    " <p>\n",
    "    <p>\n",
    "        <p>\n",
    "Time complexity: O(n) \n",
    "    <br>\n",
    "Space complexity: O(n)\n"
   ]
  },
  {
   "cell_type": "code",
   "execution_count": null,
   "metadata": {},
   "outputs": [],
   "source": [
    "class HitCounter(object):\n",
    "\n",
    "    def __init__(self):\n",
    "        self.q = collections.deque()\n",
    "\n",
    "    def hit(self, timestamp):\n",
    "        while self.q and self.q[0] <= (timestamp - 300):\n",
    "            self.q.popleft()\n",
    "        self.q.append(timestamp)\n",
    "        \n",
    "\n",
    "    def getHits(self, timestamp):\n",
    "        i = 0\n",
    "        while self.q and i < len(self.q) and self.q[i] <= (timestamp - 300):\n",
    "            i += 1\n",
    "        return len(self.q) - i\n",
    "        \n",
    "\n",
    "\n",
    "# Your HitCounter object will be instantiated and called as such:\n",
    "# obj = HitCounter()\n",
    "# obj.hit(timestamp)\n",
    "# param_2 = obj.getHits(timestamp)"
   ]
  },
  {
   "cell_type": "markdown",
   "metadata": {},
   "source": [
    "\n",
    "#### Result: 12ms (97.30%)"
   ]
  }
 ],
 "metadata": {
  "kernelspec": {
   "display_name": "Python 2",
   "language": "python",
   "name": "python2"
  },
  "language_info": {
   "codemirror_mode": {
    "name": "ipython",
    "version": 2
   },
   "file_extension": ".py",
   "mimetype": "text/x-python",
   "name": "python",
   "nbconvert_exporter": "python",
   "pygments_lexer": "ipython2",
   "version": "2.7.16"
  }
 },
 "nbformat": 4,
 "nbformat_minor": 2
}
