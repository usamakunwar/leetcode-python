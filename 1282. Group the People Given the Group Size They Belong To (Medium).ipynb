{
 "cells": [
  {
   "cell_type": "markdown",
   "metadata": {},
   "source": [
    "# 1282. Group the People Given the Group Size They Belong To (Medium)\n"
   ]
  },
  {
   "cell_type": "markdown",
   "metadata": {},
   "source": [
    "<div><p>There are <code>n</code> people whose <strong>IDs</strong> go from <code>0</code> to <code>n - 1</code> and each person belongs <strong>exactly</strong> to one&nbsp;group. Given the array&nbsp;<code>groupSizes</code> of length <code>n</code> telling the group size each person belongs to, return the groups there are and the people's&nbsp;<strong>IDs</strong> each group includes.</p>\n",
    "\n",
    "<p>You can return any solution in any order and the same applies for IDs. Also, it is guaranteed that there exists at least one solution.&nbsp;</p>\n",
    "\n",
    "<p>&nbsp;</p>\n",
    "<p><strong>Example 1:</strong></p>\n",
    "\n",
    "<pre><strong>Input:</strong> groupSizes = [3,3,3,3,3,1,3]\n",
    "<strong>Output:</strong> [[5],[0,1,2],[3,4,6]]\n",
    "<b>Explanation:</b> \n",
    "Other possible solutions are [[2,1,6],[5],[0,4,3]] and [[5],[0,6,2],[4,3,1]].\n",
    "</pre>\n",
    "\n",
    "<p><strong>Example 2:</strong></p>\n",
    "\n",
    "<pre><strong>Input:</strong> groupSizes = [2,1,3,3,3,2]\n",
    "<strong>Output:</strong> [[1],[0,5],[2,3,4]]\n",
    "</pre>\n",
    "\n",
    "<p>&nbsp;</p>\n",
    "<p><strong>Constraints:</strong></p>\n",
    "\n",
    "<ul>\n",
    "\t<li><code>groupSizes.length == n</code></li>\n",
    "\t<li><code>1 &lt;= n&nbsp;&lt;= 500</code></li>\n",
    "\t<li><code>1 &lt;=&nbsp;groupSizes[i] &lt;= n</code></li>\n",
    "</ul>\n",
    "</div>"
   ]
  },
  {
   "cell_type": "markdown",
   "metadata": {},
   "source": [
    "## Option 1\n",
    "<p>\n",
    "Time complexity: O(n)\n",
    "<br>\n",
    "Space complexity: O(n)"
   ]
  },
  {
   "cell_type": "code",
   "execution_count": null,
   "metadata": {},
   "outputs": [],
   "source": [
    "import collections\n",
    "class Solution(object):\n",
    "    def groupThePeople(self, groupSizes):\n",
    "        m = collections.defaultdict(list)\n",
    "        res = []\n",
    "        for i,g in enumerate(groupSizes):\n",
    "            m[g].append(i)\n",
    "            if len(m[g]) == g:\n",
    "                res.append(m[g])\n",
    "                m[g] = []\n",
    "        return res\n",
    "        \n",
    "        \n",
    "Solution().groupThePeople([2,1,3,3,3,2])"
   ]
  },
  {
   "cell_type": "markdown",
   "metadata": {},
   "source": [
    "#### Result: 64ms (64.16%)\n"
   ]
  }
 ],
 "metadata": {
  "kernelspec": {
   "display_name": "Python 2",
   "language": "python",
   "name": "python2"
  },
  "language_info": {
   "codemirror_mode": {
    "name": "ipython",
    "version": 2
   },
   "file_extension": ".py",
   "mimetype": "text/x-python",
   "name": "python",
   "nbconvert_exporter": "python",
   "pygments_lexer": "ipython2",
   "version": "2.7.16"
  }
 },
 "nbformat": 4,
 "nbformat_minor": 2
}
