{
 "cells": [
  {
   "cell_type": "markdown",
   "metadata": {},
   "source": [
    "# 680. Valid Palindrome II (Easy)"
   ]
  },
  {
   "cell_type": "markdown",
   "metadata": {},
   "source": [
    "<div><p>\n",
    "Given a non-empty string <code>s</code>, you may delete <b>at most</b> one character.  Judge whether you can make it a palindrome.\n",
    "</p>\n",
    "\n",
    "<p><b>Example 1:</b><br>\n",
    "</p><pre><b>Input:</b> \"aba\"\n",
    "<b>Output:</b> True\n",
    "</pre>\n",
    "<p></p>\n",
    "\n",
    "<p><b>Example 2:</b><br>\n",
    "</p><pre><b>Input:</b> \"abca\"\n",
    "<b>Output:</b> True\n",
    "<b>Explanation:</b> You could delete the character 'c'.\n",
    "</pre>\n",
    "<p></p>\n",
    "\n",
    "<p><b>Note:</b><br>\n",
    "</p><ol>\n",
    "<li>The string will only contain lowercase characters a-z.\n",
    "The maximum length of the string is 50000.</li>\n",
    "</ol>\n",
    "<p></p></div>"
   ]
  },
  {
   "cell_type": "markdown",
   "metadata": {},
   "source": [
    "## Option 1\n",
    "\n",
    "<p>\n",
    "<li>Use two pointers, when there is a mismatch, then there could be 2 solution either by removing left or right\n",
    "<p>\n",
    "\n",
    "Time complexity: O(n)\n",
    "    <br>\n",
    "Space complexity: O(1) \n"
   ]
  },
  {
   "cell_type": "code",
   "execution_count": null,
   "metadata": {},
   "outputs": [],
   "source": [
    "class Solution(object):\n",
    "    def validPalindrome(self, s):\n",
    "        def search(l,r,deleted):     \n",
    "            while l < r:\n",
    "                if s[l] != s[r]: \n",
    "                    if deleted: return False\n",
    "                    if search(l+1,r, True): return True\n",
    "                    if search(l,r-1, True): return True\n",
    "                    return False\n",
    "                else:\n",
    "                    l += 1\n",
    "                    r -= 1 \n",
    "            return True\n",
    "            \n",
    "        return search(0,len(s)-1, False)\n",
    "Solution().validPalindrome(\"abc\")\n",
    "        "
   ]
  },
  {
   "cell_type": "markdown",
   "metadata": {},
   "source": [
    "\n",
    "#### Result: 148ms (47.13%)"
   ]
  },
  {
   "cell_type": "markdown",
   "metadata": {},
   "source": [
    "## Option 2\n",
    "\n",
    "<p>\n",
    "<li>At the mismatch, as we are only allowed 1 delete, there is no need to recurse, just check if after deleting either side we end up with a palindrome or not\n",
    "<p>\n",
    "\n",
    "Time complexity: O(n)\n",
    "    <br>\n",
    "Space complexity: O(1) \n"
   ]
  },
  {
   "cell_type": "code",
   "execution_count": null,
   "metadata": {},
   "outputs": [],
   "source": [
    "class Solution(object):\n",
    "    def validPalindrome(self, s):\n",
    "        l,r = 0,len(s)-1           \n",
    "        while l < r:\n",
    "            if s[l] != s[r]: \n",
    "                #Delete left character, or delete right character\n",
    "                return s[l+1:r+1] == s[l+1:r+1][::-1] or s[l:r] == s[l:r][::-1]\n",
    "            else:\n",
    "                l += 1\n",
    "                r -= 1 \n",
    "        return True\n",
    "\n",
    "Solution().validPalindrome(\"abc\")\n",
    "        "
   ]
  },
  {
   "cell_type": "markdown",
   "metadata": {},
   "source": [
    "#### Result: 84ms (84.73%)"
   ]
  }
 ],
 "metadata": {
  "kernelspec": {
   "display_name": "Python 2",
   "language": "python",
   "name": "python2"
  },
  "language_info": {
   "codemirror_mode": {
    "name": "ipython",
    "version": 2
   },
   "file_extension": ".py",
   "mimetype": "text/x-python",
   "name": "python",
   "nbconvert_exporter": "python",
   "pygments_lexer": "ipython2",
   "version": "2.7.16"
  }
 },
 "nbformat": 4,
 "nbformat_minor": 2
}
