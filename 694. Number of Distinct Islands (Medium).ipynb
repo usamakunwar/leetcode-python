{
 "cells": [
  {
   "cell_type": "markdown",
   "metadata": {},
   "source": [
    "# 694. Number of Distinct Islands (Medium)"
   ]
  },
  {
   "cell_type": "markdown",
   "metadata": {},
   "source": [
    "<div><p>Given a non-empty 2D array <code>grid</code> of 0's and 1's, an <b>island</b> is a group of <code>1</code>'s (representing land) connected 4-directionally (horizontal or vertical.)  You may assume all four edges of the grid are surrounded by water.</p>\n",
    "\n",
    "<p>Count the number of <b>distinct</b> islands.  An island is considered to be the same as another if and only if one island can be translated (and not rotated or reflected) to equal the other.</p>\n",
    "\n",
    "<p><b>Example 1:</b><br>\n",
    "</p><pre>11000\n",
    "11000\n",
    "00011\n",
    "00011\n",
    "</pre>\n",
    "Given the above grid map, return <code>1</code>.\n",
    "<p></p>\n",
    "\n",
    "<p><b>Example 2:</b><br>\n",
    "</p><pre>11011\n",
    "10000\n",
    "00001\n",
    "11011</pre>\n",
    "Given the above grid map, return <code>3</code>.<br><br>\n",
    "Notice that:\n",
    "<pre>11\n",
    "1\n",
    "</pre>\n",
    "and\n",
    "<pre> 1\n",
    "11\n",
    "</pre>\n",
    "are considered different island shapes, because we do not consider reflection / rotation.\n",
    "<p></p>\n",
    "\n",
    "<p><b>Note:</b>\n",
    "The length of each dimension in the given <code>grid</code> does not exceed 50.\n",
    "</p></div>"
   ]
  },
  {
   "cell_type": "markdown",
   "metadata": {},
   "source": [
    "## Option 1\n",
    "<p>\n",
    "The DFS for islands is straight forward, however, how do we maintain the same shaped islands?\n",
    " <li>Lets give an island making a path, 1 for Down, 2 for Right, 3 for Up, and 4 for Left\n",
    " <li>We can record the path an island takes, which will help us identify same shaped islands\n",
    " <li>One issue is [A = [[1,0],[1,1]]  B = [[1,1],[1,0]]] These two islands have the same path, but not the same shape\n",
    " <li>The shape is S D R, Start, Down and Right. The reason they are the same is because we do are not identifying when the the last R was taken. In island B the last R was taken after a reverse (backward step)\n",
    " <li>What we can do to resolve this is, add something in our shape to identify when the function is complete and will now reverse. \"shape.append(0)\" can do that \n",
    " \n",
    "<p>\n",
    "<p>\n",
    "Time complexity = O(rc) \n",
    "<br>\n",
    "Space complexity = O(rc)"
   ]
  },
  {
   "cell_type": "code",
   "execution_count": null,
   "metadata": {
    "scrolled": false
   },
   "outputs": [],
   "source": [
    "import collections\n",
    "class Solution(object):\n",
    "    def numDistinctIslands(self, grid):\n",
    "        li,lj = len(grid),len(grid[0])\n",
    "        islands = set()\n",
    "\n",
    "        def search(i,j,p=0):\n",
    "            grid[i][j] = \"#\"\n",
    "            shape.append(p)\n",
    "            path = 0\n",
    "            for ni,nj in ((i+1,j),(i,j+1),(i-1,j),(i,j-1)):\n",
    "                path += 1\n",
    "                if ni >=0 and ni < li and nj >= 0 and nj < lj and grid[ni][nj] == 1:\n",
    "                    search(ni,nj, path)\n",
    "            shape.append(0)\n",
    "      \n",
    "        for i in range(li):\n",
    "            for j in range(lj):\n",
    "                if grid[i][j] == 1:\n",
    "                    shape = []\n",
    "                    search(i,j)\n",
    "                    print(shape)\n",
    "                    if shape:\n",
    "                         islands.add(tuple(shape))                    \n",
    "        return len(islands)\n",
    " \n",
    "Solution().numDistinctIslands([[0,0,0,1,1],\n",
    "                               [0,0,0,1,1],\n",
    "                               [0,0,0,0,0],\n",
    "                               [0,0,0,0,0]])"
   ]
  },
  {
   "cell_type": "markdown",
   "metadata": {},
   "source": [
    "#### Result: 192ms (88.63%)"
   ]
  }
 ],
 "metadata": {
  "kernelspec": {
   "display_name": "Python 2",
   "language": "python",
   "name": "python2"
  },
  "language_info": {
   "codemirror_mode": {
    "name": "ipython",
    "version": 2
   },
   "file_extension": ".py",
   "mimetype": "text/x-python",
   "name": "python",
   "nbconvert_exporter": "python",
   "pygments_lexer": "ipython2",
   "version": "2.7.16"
  }
 },
 "nbformat": 4,
 "nbformat_minor": 2
}
