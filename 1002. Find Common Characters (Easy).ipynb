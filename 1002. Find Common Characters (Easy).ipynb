{
 "cells": [
  {
   "cell_type": "markdown",
   "metadata": {},
   "source": [
    "# 1002. Find Common Characters (Easy)"
   ]
  },
  {
   "cell_type": "markdown",
   "metadata": {},
   "source": [
    "<div><p>Given an array&nbsp;<code>A</code> of strings made only from lowercase letters, return a list of all characters that show up in all strings within the list <strong>(including duplicates)</strong>.&nbsp;&nbsp;For example, if a character occurs 3 times&nbsp;in all strings but not 4 times, you need to include that character three times&nbsp;in the final answer.</p>\n",
    "\n",
    "<p>You may return the answer in any order.</p>\n",
    "\n",
    "<p>&nbsp;</p>\n",
    "\n",
    "<div>\n",
    "<p><strong>Example 1:</strong></p>\n",
    "\n",
    "<pre><strong>Input: </strong><span id=\"example-input-1-1\">[\"bella\",\"label\",\"roller\"]</span>\n",
    "<strong>Output: </strong><span id=\"example-output-1\">[\"e\",\"l\",\"l\"]</span>\n",
    "</pre>\n",
    "\n",
    "<div>\n",
    "<p><strong>Example 2:</strong></p>\n",
    "\n",
    "<pre><strong>Input: </strong><span id=\"example-input-2-1\">[\"cool\",\"lock\",\"cook\"]</span>\n",
    "<strong>Output: </strong><span id=\"example-output-2\">[\"c\",\"o\"]</span>\n",
    "</pre>\n",
    "\n",
    "<p>&nbsp;</p>\n",
    "\n",
    "<p><strong><span>Note:</span></strong></p>\n",
    "\n",
    "<ol>\n",
    "\t<li><code>1 &lt;= A.length &lt;= 100</code></li>\n",
    "\t<li><code>1 &lt;= A[i].length &lt;= 100</code></li>\n",
    "\t<li><code>A[i][j]</code> is a lowercase letter</li>\n",
    "</ol>\n",
    "</div>\n",
    "</div></div>"
   ]
  },
  {
   "cell_type": "markdown",
   "metadata": {},
   "source": [
    "## Option 1\n",
    "<p>\n",
    "Time complexity = O(n)\n",
    "<br>\n",
    "Space complexity = O(n)"
   ]
  },
  {
   "cell_type": "code",
   "execution_count": null,
   "metadata": {},
   "outputs": [],
   "source": [
    "import collections\n",
    "class Solution:\n",
    "    def commonChars(self, A: [str]) -> [str]:\n",
    "        counter = collections.Counter(A.pop())\n",
    "        for word in A:\n",
    "            #or could've used : counter &= collections.Counter(word)\n",
    "            c = collections.Counter(word)\n",
    "            for ch in counter:\n",
    "                counter[ch] = min(counter[ch], c[ch]) if ch in c else -1\n",
    "        return list(counter.elements())\n",
    "Solution().commonChars([\"bellla\",\"label\",\"rollller\"])"
   ]
  },
  {
   "cell_type": "markdown",
   "metadata": {},
   "source": [
    "#### Result:  44ms (79.83%)"
   ]
  }
 ],
 "metadata": {
  "kernelspec": {
   "display_name": "Python 3",
   "language": "python",
   "name": "python3"
  },
  "language_info": {
   "codemirror_mode": {
    "name": "ipython",
    "version": 3
   },
   "file_extension": ".py",
   "mimetype": "text/x-python",
   "name": "python",
   "nbconvert_exporter": "python",
   "pygments_lexer": "ipython3",
   "version": "3.7.4"
  }
 },
 "nbformat": 4,
 "nbformat_minor": 2
}
