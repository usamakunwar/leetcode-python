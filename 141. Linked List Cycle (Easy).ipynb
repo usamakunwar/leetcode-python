{
 "cells": [
  {
   "cell_type": "markdown",
   "metadata": {},
   "source": [
    "# 141. Linked List Cycle (Easy)"
   ]
  },
  {
   "cell_type": "markdown",
   "metadata": {},
   "source": [
    "<div><p>Given a linked list, determine if it has a cycle in it.</p>\n",
    "\n",
    "<p>To represent a cycle in the given linked list, we use an integer <code>pos</code> which represents the position (0-indexed)&nbsp;in the linked list where tail connects to. If <code>pos</code> is <code>-1</code>, then there is no cycle in the linked list.</p>\n",
    "\n",
    "<p>&nbsp;</p>\n",
    "\n",
    "<div>\n",
    "<p><strong>Example 1:</strong></p>\n",
    "\n",
    "<pre><strong>Input: </strong>head = <span id=\"example-input-1-1\">[3,2,0,-4]</span>, pos = <span id=\"example-input-1-2\">1</span>\n",
    "<strong>Output: </strong><span id=\"example-output-1\">true\n",
    "<strong>Explanation:</strong> There is a cycle in the linked list, where tail connects to the second node.</span>\n",
    "</pre>\n",
    "</div>\n",
    "\n",
    "<div>\n",
    "<p><span><img alt=\"\" src=\"https://assets.leetcode.com/uploads/2018/12/07/circularlinkedlist.png\" style=\"width: 300px; height: 97px; margin-top: 8px; margin-bottom: 8px;\"></span></p>\n",
    "\n",
    "<p><strong>Example 2:</strong></p>\n",
    "\n",
    "<pre><strong>Input: </strong>head = <span id=\"example-input-1-1\">[1,2]</span>, pos = <span id=\"example-input-1-2\">0</span>\n",
    "<strong>Output: </strong><span id=\"example-output-1\">true\n",
    "<strong>Explanation:</strong> There is a cycle in the linked list, where tail connects to the first node.</span>\n",
    "</pre>\n",
    "</div>\n",
    "\n",
    "<div>\n",
    "<p><span><img alt=\"\" src=\"https://assets.leetcode.com/uploads/2018/12/07/circularlinkedlist_test2.png\" style=\"width: 141px; height: 74px;\"></span></p>\n",
    "\n",
    "<p><strong>Example 3:</strong></p>\n",
    "\n",
    "<pre><strong>Input: </strong>head = <span id=\"example-input-1-1\">[1]</span>, pos = <span id=\"example-input-1-2\">-1</span>\n",
    "<strong>Output: </strong><span id=\"example-output-1\">false\n",
    "<strong>Explanation:</strong> There is no cycle in the linked list.</span>\n",
    "</pre>\n",
    "</div>\n",
    "\n",
    "<p><span><img alt=\"\" src=\"https://assets.leetcode.com/uploads/2018/12/07/circularlinkedlist_test3.png\" style=\"width: 45px; height: 45px;\"></span></p>\n",
    "\n",
    "<p>&nbsp;</p>\n",
    "\n",
    "<p><strong>Follow up:</strong></p>\n",
    "\n",
    "<p>Can you solve it using <em>O(1)</em> (i.e. constant) memory?</p>\n",
    "</div>"
   ]
  },
  {
   "cell_type": "markdown",
   "metadata": {},
   "source": [
    "## Option 1\n",
    "<p>\n",
    "    Set seen values to None?\n",
    "<p>\n",
    "    <p>\n",
    "Time complexity: O(n)\n",
    "<br>\n",
    "Space complexity: O(1) "
   ]
  },
  {
   "cell_type": "code",
   "execution_count": null,
   "metadata": {
    "scrolled": true
   },
   "outputs": [],
   "source": [
    "# Definition for singly-linked list.\n",
    "# class ListNode(object):\n",
    "#     def __init__(self, x):\n",
    "#         self.val = x\n",
    "#         self.next = None\n",
    "\n",
    "class Solution(object):\n",
    "    def hasCycle(self, head):\n",
    "        curr = head\n",
    "        while curr:\n",
    "            if not curr.val: return True\n",
    "            curr.val = None\n",
    "            curr = curr.next            \n",
    "        return False\n",
    "            "
   ]
  },
  {
   "cell_type": "markdown",
   "metadata": {},
   "source": [
    "#### Result: 36ms (84.10%)\n"
   ]
  },
  {
   "cell_type": "markdown",
   "metadata": {},
   "source": [
    "## Option 2\n",
    "<p>\n",
    "    Slow and Fast\n",
    "<p>\n",
    "    <p>\n",
    "Time complexity: O(n)\n",
    "<br>\n",
    "Space complexity: O(1) "
   ]
  },
  {
   "cell_type": "code",
   "execution_count": null,
   "metadata": {},
   "outputs": [],
   "source": []
  },
  {
   "cell_type": "markdown",
   "metadata": {},
   "source": [
    "#### Result: 20ms (40.68%)\n"
   ]
  }
 ],
 "metadata": {
  "kernelspec": {
   "display_name": "Python 2",
   "language": "python",
   "name": "python2"
  },
  "language_info": {
   "codemirror_mode": {
    "name": "ipython",
    "version": 2
   },
   "file_extension": ".py",
   "mimetype": "text/x-python",
   "name": "python",
   "nbconvert_exporter": "python",
   "pygments_lexer": "ipython2",
   "version": "2.7.16"
  }
 },
 "nbformat": 4,
 "nbformat_minor": 2
}
