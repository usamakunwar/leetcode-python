{
 "cells": [
  {
   "cell_type": "markdown",
   "metadata": {},
   "source": [
    "# 582. Kill Process (Medium)\n"
   ]
  },
  {
   "cell_type": "markdown",
   "metadata": {},
   "source": [
    "<div><p>Given <b>n</b> processes, each process has a unique <b>PID (process id)</b> and its <b>PPID (parent process id)</b>. \n",
    "\n",
    "</p><p>Each process only has one parent process, but may have one or more children processes. This is just like a tree structure.  Only one process has PPID that is 0, which means this process has no parent process. All the PIDs will be distinct positive integers.</p>\n",
    "\n",
    "<p>We use two list of integers to represent a list of processes, where the first list contains PID for each process and the second list contains the corresponding PPID. </p>\n",
    " \n",
    "<p>Now given the two lists, and a PID representing a process you want to kill, return a list of PIDs of processes that will be killed in the end. You should assume that when a process is killed, all its children processes will be killed. No order is required for the final answer.</p>\n",
    "\n",
    "<p><b>Example 1:</b><br>\n",
    "</p><pre><b>Input:</b> \n",
    "pid =  [1, 3, 10, 5]\n",
    "ppid = [3, 0, 5, 3]\n",
    "kill = 5\n",
    "<b>Output:</b> [5,10]\n",
    "<b>Explanation:</b> \n",
    "           3\n",
    "         /   \\\n",
    "        1     5\n",
    "             /\n",
    "            10\n",
    "Kill 5 will also kill 10.\n",
    "</pre>\n",
    "<p></p>\n",
    "\n",
    "<p><b>Note:</b><br>\n",
    "</p><ol>\n",
    "<li>The given kill id is guaranteed to be one of the given PIDs.</li>\n",
    "<li>n &gt;= 1.</li>\n",
    "</ol>\n",
    "<p></p></div>"
   ]
  },
  {
   "cell_type": "markdown",
   "metadata": {},
   "source": [
    "## Option 1\n",
    "<p>\n",
    "<li>BFS\n",
    "<p>\n",
    "\n",
    "Time complexity: O(n)\n",
    "<br>\n",
    "Space complexity: O(n)"
   ]
  },
  {
   "cell_type": "code",
   "execution_count": null,
   "metadata": {},
   "outputs": [],
   "source": [
    "import collections\n",
    "class Solution(object):\n",
    "    def killProcess(self, pid, ppid, kill):\n",
    "        p_map = collections.defaultdict(list)\n",
    "        for i,v in enumerate(pid):\n",
    "            p_map[ppid[i]].append(v)\n",
    "        \n",
    "        stack,res = [kill],[]\n",
    "        while stack:\n",
    "            curr = stack.pop()\n",
    "            res.append(curr)\n",
    "            stack.extend(p_map[curr])\n",
    "        \n",
    "        return res\n",
    "        \n",
    "        \n",
    "Solution().killProcess([5,10,3],[0,5,5],5)"
   ]
  },
  {
   "cell_type": "markdown",
   "metadata": {},
   "source": [
    "#### Result: 448ms (69.07%)\n"
   ]
  }
 ],
 "metadata": {
  "kernelspec": {
   "display_name": "Python 2",
   "language": "python",
   "name": "python2"
  },
  "language_info": {
   "codemirror_mode": {
    "name": "ipython",
    "version": 2
   },
   "file_extension": ".py",
   "mimetype": "text/x-python",
   "name": "python",
   "nbconvert_exporter": "python",
   "pygments_lexer": "ipython2",
   "version": "2.7.16"
  }
 },
 "nbformat": 4,
 "nbformat_minor": 2
}
