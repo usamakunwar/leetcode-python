{
 "cells": [
  {
   "cell_type": "markdown",
   "metadata": {},
   "source": [
    "# 784. Letter Case Permutation (Easy)"
   ]
  },
  {
   "cell_type": "markdown",
   "metadata": {},
   "source": [
    "<div><p>Given a string S, we can transform every letter individually&nbsp;to be lowercase or uppercase to create another string.&nbsp; Return a list of all possible strings we could create.</p>\n",
    "\n",
    "<pre><strong>Examples:</strong>\n",
    "<strong>Input:</strong> S = \"a1b2\"\n",
    "<strong>Output:</strong> [\"a1b2\", \"a1B2\", \"A1b2\", \"A1B2\"]\n",
    "\n",
    "<strong>Input:</strong> S = \"3z4\"\n",
    "<strong>Output:</strong> [\"3z4\", \"3Z4\"]\n",
    "\n",
    "<strong>Input:</strong> S = \"12345\"\n",
    "<strong>Output:</strong> [\"12345\"]\n",
    "</pre>\n",
    "\n",
    "<p><strong>Note:</strong></p>\n",
    "\n",
    "<ul>\n",
    "\t<li><code>S</code> will be a string with length between <code>1</code> and <code>12</code>.</li>\n",
    "\t<li><code>S</code> will consist only of letters or digits.</li>\n",
    "</ul>\n",
    "</div>"
   ]
  },
  {
   "cell_type": "markdown",
   "metadata": {},
   "source": [
    "## Option 1\n",
    "\n",
    "<p>\n",
    "\n",
    "Time complexity = O(2^n)\n",
    "<br>\n",
    "Space complexity = O(2^n)"
   ]
  },
  {
   "cell_type": "code",
   "execution_count": null,
   "metadata": {
    "scrolled": true
   },
   "outputs": [],
   "source": [
    "import collections, heapq\n",
    "class Solution(object):\n",
    "    def letterCasePermutation(self, S):\n",
    "        m = set()\n",
    "        m.add(S)\n",
    "        ln = len(S)-1\n",
    "        def search(s,i):\n",
    "            if i > ln: return\n",
    "            if s[i].isalpha() == False:\n",
    "                search(s,i+1)\n",
    "                search(s,i+1)\n",
    "                return\n",
    "            u = s[:i]+s[i].upper()+s[i+1:]\n",
    "            l = s[:i]+s[i].lower()+s[i+1:]\n",
    "            m.add(u)\n",
    "            m.add(l)\n",
    "            search(u,i+1)\n",
    "            search(l,i+1)\n",
    "        search(S,0)\n",
    "        return list(m)\n",
    "\n",
    "Solution().letterCasePermutation('3z4')\n",
    "        "
   ]
  },
  {
   "cell_type": "markdown",
   "metadata": {},
   "source": [
    "#### Result: 76ms (16.74%)"
   ]
  },
  {
   "cell_type": "markdown",
   "metadata": {},
   "source": [
    "## Option 2\n",
    "\n",
    "<p>Instead of doing a search, you can build the res character by character, accumulating\n",
    "\n",
    "Time complexity = O(2^n)\n",
    "<br>\n",
    "Space complexity = O(2^n)"
   ]
  },
  {
   "cell_type": "code",
   "execution_count": null,
   "metadata": {},
   "outputs": [],
   "source": [
    "import collections, heapq\n",
    "class Solution(object):\n",
    "    def letterCasePermutation(self, S):\n",
    "        res = ['']\n",
    "        for ch in S:\n",
    "            if ch.isalpha():\n",
    "                res = [i+j for i in res for j in [ch.upper(), ch.lower()]]\n",
    "            else:\n",
    "                res = [i+ch for i in res]\n",
    "        return res\n",
    "\n",
    "Solution().letterCasePermutation('a1b2')\n",
    "        "
   ]
  },
  {
   "cell_type": "markdown",
   "metadata": {},
   "source": [
    "#### Result: 60ms (28.54%)"
   ]
  }
 ],
 "metadata": {
  "kernelspec": {
   "display_name": "Python 2",
   "language": "python",
   "name": "python2"
  },
  "language_info": {
   "codemirror_mode": {
    "name": "ipython",
    "version": 2
   },
   "file_extension": ".py",
   "mimetype": "text/x-python",
   "name": "python",
   "nbconvert_exporter": "python",
   "pygments_lexer": "ipython2",
   "version": "2.7.16"
  }
 },
 "nbformat": 4,
 "nbformat_minor": 2
}
