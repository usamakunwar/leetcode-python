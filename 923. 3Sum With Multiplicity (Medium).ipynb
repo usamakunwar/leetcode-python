{
 "cells": [
  {
   "cell_type": "markdown",
   "metadata": {},
   "source": [
    "# 923. 3Sum With Multiplicity (Medium)"
   ]
  },
  {
   "cell_type": "markdown",
   "metadata": {},
   "source": [
    "<div><p>Given an integer array <code>A</code>, and an integer <code>target</code>, return the number of&nbsp;tuples&nbsp;<code>i, j, k</code>&nbsp; such that <code>i &lt; j &lt; k</code> and&nbsp;<code>A[i] + A[j] + A[k] == target</code>.</p>\n",
    "\n",
    "<p><strong>As the answer can be very large, return it modulo&nbsp;<code>10^9 + 7</code></strong>.</p>\n",
    "\n",
    "<p>&nbsp;</p>\n",
    "\n",
    "<p><strong>Example 1:</strong></p>\n",
    "\n",
    "<pre><strong>Input: </strong>A = <span id=\"example-input-1-1\">[1,1,2,2,3,3,4,4,5,5]</span>, target = <span id=\"example-input-1-2\">8</span>\n",
    "<strong>Output: </strong><span id=\"example-output-1\">20</span>\n",
    "<strong>Explanation: </strong>\n",
    "Enumerating by the values (A[i], A[j], A[k]):\n",
    "(1, 2, 5) occurs 8 times;\n",
    "(1, 3, 4) occurs 8 times;\n",
    "(2, 2, 4) occurs 2 times;\n",
    "(2, 3, 3) occurs 2 times.\n",
    "</pre>\n",
    "\n",
    "<div>\n",
    "<p><strong>Example 2:</strong></p>\n",
    "\n",
    "<pre><strong>Input: </strong>A = <span id=\"example-input-2-1\">[1,1,2,2,2,2]</span>, target = <span id=\"example-input-2-2\">5</span>\n",
    "<strong>Output: </strong><span id=\"example-output-2\">12</span>\n",
    "<strong>Explanation: </strong>\n",
    "A[i] = 1, A[j] = A[k] = 2 occurs 12 times:\n",
    "We choose one 1 from [1,1] in 2 ways,\n",
    "and two 2s from [2,2,2,2] in 6 ways.\n",
    "</pre>\n",
    "\n",
    "<p>&nbsp;</p>\n",
    "</div>\n",
    "\n",
    "<p><strong>Note:</strong></p>\n",
    "\n",
    "<ol>\n",
    "\t<li><code>3 &lt;= A.length &lt;= 3000</code></li>\n",
    "\t<li><code>0 &lt;= A[i] &lt;= 100</code></li>\n",
    "\t<li><code>0 &lt;= target &lt;= 300</code></li>\n",
    "</ol></div>"
   ]
  },
  {
   "cell_type": "markdown",
   "metadata": {},
   "source": [
    "## Option 1\n",
    "\n",
    "<p>\n",
    "    <li>A solution generally would be n^2. However it has been mentioned that the max target is 300\n",
    "    <li>That means we are better of a worst complexity of 300n rather than n^2\n",
    "    <li>So we iterate over every pair value of j and k that can possible make the target, given an i\n",
    "    <li>The count of sub arrays will be:\n",
    "        <ul>\n",
    "            <li>IF j != k the number of subarrays = the product of the count, (no matter what order they are in)\n",
    "            <li>IF j == k the number of subarrays = n choose r (binomial coefficient)\n",
    "        </ul>\n",
    "    <li>Also as each value can be max 100, we can skip it combinations over that\n",
    " <p>\n",
    "     <p>\n",
    "Time complexity: O(nT) n = len(A), T = size of target\n",
    "<br>\n",
    "Space complexity: O(n)"
   ]
  },
  {
   "cell_type": "code",
   "execution_count": null,
   "metadata": {
    "scrolled": false
   },
   "outputs": [],
   "source": [
    "import collections\n",
    "class Solution(object):\n",
    "    def threeSumMulti(self, A, target):\n",
    "        ln,c,mod = len(A),collections.Counter(A), (10**9)+7\n",
    "        res = 0\n",
    "        for i in range(ln-2):\n",
    "            #Reduce the current i we are working on from the counts\n",
    "            c[A[i]] -= 1\n",
    "            t = target-A[i]\n",
    "            #j and k have to be below 100 each\n",
    "            j,k = max(t-100,0),min(100,t)\n",
    "            if j > 100: continue\n",
    "                \n",
    "            while j <= k:\n",
    "                #The number of subarrays, if j or k is 0 the product will be 0 (i.e. no subarray can be made)\n",
    "                #If j=k we calculate (c[j] choose 2) (n(n-1)/2)\n",
    "                res += ((c[j]*c[j]-1)/2) if j == k and c[j] > 0 else c[j]*c[k]\n",
    "                j += 1\n",
    "                k -= 1\n",
    "        return res%mod\n",
    "\n",
    "    \n",
    "Solution().threeSumMulti([1,1,2,2,3,3,4,4,5,5], 8)\n"
   ]
  },
  {
   "cell_type": "markdown",
   "metadata": {},
   "source": [
    "#### Result: 276ms (47.34%)"
   ]
  },
  {
   "cell_type": "markdown",
   "metadata": {},
   "source": [
    "## Option 2\n",
    "\n",
    "<p>\n",
    "    <li>Remember to note the order does not matter as we need the count, e.g. say subarray [1,2,3] is valid. We could've checked this in a different order, [2,1,3] and added it to the count. \n",
    "    <li>We could instead iterate 100 over i,j. \n",
    "    <li>The count of matching subarrays is the product of all counts, if all values are different\n",
    " <p>\n",
    "     <p>\n",
    "Time complexity: O(n*W^2) n = len(A), W = max A[i]\n",
    "<br>\n",
    "Space complexity: O(n)"
   ]
  },
  {
   "cell_type": "code",
   "execution_count": null,
   "metadata": {
    "scrolled": true
   },
   "outputs": [],
   "source": [
    "import collections\n",
    "class Solution(object):\n",
    "    def threeSumMulti(self, A, target):\n",
    "        ln,c,mod = len(A),collections.Counter(A), (10**9)+7\n",
    "        res = 0\n",
    "        for i in range(101):\n",
    "            if c[i] == 0: continue\n",
    "            for j in range(i,101):\n",
    "                if c[j] == 0: continue\n",
    "                k = target-(i+j)\n",
    "                if k < j :continue\n",
    "                ###(c[i] choose 3) \n",
    "                if i == j == k: res += c[i] * (c[i] - 1) * (c[i] - 2) / 6\n",
    "                ###(c[i] choose 2) \n",
    "                elif i == j: res += (c[i]*(c[i]-1)/2)*c[k]\n",
    "                elif i == k: res += (c[i]*(c[i]-1)/2)*c[j]\n",
    "                elif j == k: res += (c[j]*(c[j]-1)/2)*c[i]\n",
    "                else: res += c[i]*c[j]*c[k]\n",
    "        return res%mod\n",
    "\n",
    "    \n",
    "Solution().threeSumMulti([0,0,0,0,0,0,0], 0)\n"
   ]
  },
  {
   "cell_type": "markdown",
   "metadata": {},
   "source": [
    "#### Result: 88ms (63.19%)"
   ]
  }
 ],
 "metadata": {
  "kernelspec": {
   "display_name": "Python 2",
   "language": "python",
   "name": "python2"
  },
  "language_info": {
   "codemirror_mode": {
    "name": "ipython",
    "version": 2
   },
   "file_extension": ".py",
   "mimetype": "text/x-python",
   "name": "python",
   "nbconvert_exporter": "python",
   "pygments_lexer": "ipython2",
   "version": "2.7.16"
  }
 },
 "nbformat": 4,
 "nbformat_minor": 2
}
