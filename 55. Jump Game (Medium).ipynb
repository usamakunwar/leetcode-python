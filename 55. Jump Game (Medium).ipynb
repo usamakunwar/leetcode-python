{
 "cells": [
  {
   "cell_type": "markdown",
   "metadata": {},
   "source": [
    "# 55. Jump Game (Medium)"
   ]
  },
  {
   "cell_type": "markdown",
   "metadata": {},
   "source": [
    "<div><p>Given an array of non-negative integers, you are initially positioned at the first index of the array.</p>\n",
    "\n",
    "<p>Each element in the array represents your maximum jump length at that position.</p>\n",
    "\n",
    "<p>Determine if you are able to reach the last index.</p>\n",
    "\n",
    "<p><strong>Example 1:</strong></p>\n",
    "\n",
    "<pre><strong>Input:</strong> [2,3,1,1,4]\n",
    "<strong>Output:</strong> true\n",
    "<strong>Explanation:</strong> Jump 1 step from index 0 to 1, then 3 steps to the last index.\n",
    "</pre>\n",
    "\n",
    "<p><strong>Example 2:</strong></p>\n",
    "\n",
    "<pre><strong>Input:</strong> [3,2,1,0,4]\n",
    "<strong>Output:</strong> false\n",
    "<strong>Explanation:</strong> You will always arrive at index 3 no matter what. Its maximum\n",
    "&nbsp;            jump length is 0, which makes it impossible to reach the last index.\n",
    "</pre>\n",
    "</div>"
   ]
  },
  {
   "cell_type": "markdown",
   "metadata": {},
   "source": [
    "## Option 1\n",
    "<p>\n",
    "Time complexity = O(n)\n",
    "<br>\n",
    "Space complexity = O(1)"
   ]
  },
  {
   "cell_type": "code",
   "execution_count": null,
   "metadata": {
    "scrolled": true
   },
   "outputs": [],
   "source": [
    "class Solution(object):\n",
    "    def canJump(self, nums):\n",
    "        p1,p2, max_reach = 0, len(nums)-1, 0\n",
    "        while p1 <= max_reach and p1 < p2:\n",
    "            if (p2-p1) <= nums[p1]: return True\n",
    "            max_reach = max(max_reach, p1+nums[p1])\n",
    "            p1 += 1\n",
    "        return True if p2 == 0 else False\n",
    "\n",
    "Solution().canJump([5,4,0,2,0,1,0,1,0])  "
   ]
  },
  {
   "cell_type": "markdown",
   "metadata": {},
   "source": [
    "#### Result: 132ms"
   ]
  },
  {
   "cell_type": "markdown",
   "metadata": {},
   "source": [
    "## Option 2\n",
    "<p>\n",
    "A lot shorter\n",
    "<p>\n",
    "Time complexity = O(n)\n",
    "<br>\n",
    "Space complexity = O(1)"
   ]
  },
  {
   "cell_type": "code",
   "execution_count": null,
   "metadata": {},
   "outputs": [],
   "source": [
    "class Solution(object):\n",
    "    def canJump(self, nums):\n",
    "        max_reach = 0\n",
    "        for i,n in enumerate(nums):\n",
    "            if i > max_reach: return False\n",
    "            max_reach = max(max_reach, i+n)            \n",
    "        return True\n",
    "Solution().canJump([0])  "
   ]
  },
  {
   "cell_type": "markdown",
   "metadata": {},
   "source": [
    "#### Result: 100ms"
   ]
  }
 ],
 "metadata": {
  "kernelspec": {
   "display_name": "Python 3",
   "language": "python",
   "name": "python3"
  },
  "language_info": {
   "codemirror_mode": {
    "name": "ipython",
    "version": 3
   },
   "file_extension": ".py",
   "mimetype": "text/x-python",
   "name": "python",
   "nbconvert_exporter": "python",
   "pygments_lexer": "ipython3",
   "version": "3.7.4"
  }
 },
 "nbformat": 4,
 "nbformat_minor": 2
}
