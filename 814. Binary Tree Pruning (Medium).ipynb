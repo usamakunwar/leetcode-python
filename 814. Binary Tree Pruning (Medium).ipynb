{
 "cells": [
  {
   "cell_type": "markdown",
   "metadata": {},
   "source": [
    "# 814. Binary Tree Pruning (Medium)\n"
   ]
  },
  {
   "cell_type": "markdown",
   "metadata": {},
   "source": [
    "<div><p>We are given the head node <code>root</code>&nbsp;of a binary tree, where additionally every node's value is either a 0 or a 1.</p>\n",
    "\n",
    "<p>Return the same tree where every subtree (of the given tree) not containing a 1 has been removed.</p>\n",
    "\n",
    "<p>(Recall that the subtree of a node X is X, plus every node that is a descendant of X.)</p>\n",
    "\n",
    "<pre><strong>Example 1:</strong>\n",
    "<strong>Input:</strong> [1,null,0,0,1]\n",
    "<strong>Output: </strong>[1,null,0,null,1]\n",
    " \n",
    "<strong>Explanation:</strong> \n",
    "Only the red nodes satisfy the property \"every subtree not containing a 1\".\n",
    "The diagram on the right represents the answer.\n",
    "\n",
    "<img alt=\"\" src=\"https://s3-lc-upload.s3.amazonaws.com/uploads/2018/04/06/1028_2.png\" style=\"width:450px\">\n",
    "</pre>\n",
    "\n",
    "<pre><strong>Example 2:</strong>\n",
    "<strong>Input:</strong> [1,0,1,0,0,0,1]\n",
    "<strong>Output: </strong>[1,null,1,null,1]\n",
    "\n",
    "\n",
    "<img alt=\"\" src=\"https://s3-lc-upload.s3.amazonaws.com/uploads/2018/04/06/1028_1.png\" style=\"width:450px\">\n",
    "</pre>\n",
    "\n",
    "<pre><strong>Example 3:</strong>\n",
    "<strong>Input:</strong> [1,1,0,1,1,0,1,0]\n",
    "<strong>Output: </strong>[1,1,0,1,1,null,1]\n",
    "\n",
    "\n",
    "<img alt=\"\" src=\"https://s3-lc-upload.s3.amazonaws.com/uploads/2018/04/05/1028.png\" style=\"width:450px\">\n",
    "</pre>\n",
    "\n",
    "<p><strong>Note: </strong></p>\n",
    "\n",
    "<ul>\n",
    "\t<li>The binary tree&nbsp;will&nbsp;have&nbsp;at&nbsp;most <code>100 nodes</code>.</li>\n",
    "\t<li>The value of each node will only be <code>0</code> or <code>1</code>.</li>\n",
    "</ul>\n",
    "</div>"
   ]
  },
  {
   "cell_type": "markdown",
   "metadata": {},
   "source": [
    "## Option 1\n",
    "   <p>\n",
    "    Recursive\n",
    "    <p>\n",
    "Time complexity: O(n)\n",
    "<br>\n",
    "Space complexity: O(n)"
   ]
  },
  {
   "cell_type": "code",
   "execution_count": null,
   "metadata": {},
   "outputs": [],
   "source": [
    "# Definition for a binary tree node.\n",
    "# class TreeNode(object):\n",
    "#     def __init__(self, x):\n",
    "#         self.val = x\n",
    "#         self.left = None\n",
    "#         self.right = None\n",
    "\n",
    "class Solution(object):\n",
    "    def pruneTree(self, root):\n",
    "        \"\"\"\n",
    "        :type root: TreeNode\n",
    "        :rtype: TreeNode\n",
    "        \"\"\"\n",
    "        if not root: return None\n",
    "        def search(node):\n",
    "            node.left = search(node.left) if node.left else None\n",
    "            node.right = search(node.right) if node.right else None            \n",
    "            return node if node.val or node.left or node.right else None\n",
    "            \n",
    "        return search(root)"
   ]
  },
  {
   "cell_type": "markdown",
   "metadata": {},
   "source": [
    "#### Result: 24ms (17.42%)\n"
   ]
  }
 ],
 "metadata": {
  "kernelspec": {
   "display_name": "Python 2",
   "language": "python",
   "name": "python2"
  },
  "language_info": {
   "codemirror_mode": {
    "name": "ipython",
    "version": 2
   },
   "file_extension": ".py",
   "mimetype": "text/x-python",
   "name": "python",
   "nbconvert_exporter": "python",
   "pygments_lexer": "ipython2",
   "version": "2.7.16"
  }
 },
 "nbformat": 4,
 "nbformat_minor": 2
}
