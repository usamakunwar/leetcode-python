{
 "cells": [
  {
   "cell_type": "markdown",
   "metadata": {},
   "source": [
    "# 366. Find Leaves of Binary Tree (Medium)"
   ]
  },
  {
   "cell_type": "markdown",
   "metadata": {},
   "source": [
    "<div><p>Given a binary tree, collect a tree's nodes as if you were doing this: Collect and remove all leaves, repeat until the tree is empty.</p>\n",
    "\n",
    "<p>&nbsp;</p>\n",
    "\n",
    "<p><strong>Example:</strong></p>\n",
    "\n",
    "<pre><strong>Input: </strong><span id=\"example-input-1-1\">[1,2,3,4,5]\n",
    "&nbsp; \n",
    "&nbsp;         </span>1\n",
    "         / \\\n",
    "        2   3\n",
    "       / \\     \n",
    "      4   5    \n",
    "\n",
    "<strong>Output: </strong><span id=\"example-output-1\">[[4,5,3],[2],[1]]</span>\n",
    "</pre>\n",
    "\n",
    "<p>&nbsp;</p>\n",
    "\n",
    "<p><strong>Explanation:</strong></p>\n",
    "\n",
    "<p>1. Removing the leaves <code>[4,5,3]</code> would result in this tree:</p>\n",
    "\n",
    "<pre>          1\n",
    "         / \n",
    "        2          \n",
    "</pre>\n",
    "\n",
    "<p>&nbsp;</p>\n",
    "\n",
    "<p>2. Now removing the leaf <code>[2]</code> would result in this tree:</p>\n",
    "\n",
    "<pre>          1          \n",
    "</pre>\n",
    "\n",
    "<p>&nbsp;</p>\n",
    "\n",
    "<p>3. Now removing the leaf <code>[1]</code> would result in the empty tree:</p>\n",
    "\n",
    "<pre>          []         \n",
    "</pre></div>"
   ]
  },
  {
   "cell_type": "markdown",
   "metadata": {},
   "source": [
    "## Option 1\n",
    "\n",
    "Recursion (Backtrack)\n",
    "<p>\n",
    "    <li>Perform an LRV, use the max of left and right for the current value position\n",
    "\n",
    "<p>\n",
    "Time complexity: O(n)\n",
    "<br>\n",
    "Space complexity: O(n)"
   ]
  },
  {
   "cell_type": "code",
   "execution_count": null,
   "metadata": {
    "scrolled": true
   },
   "outputs": [],
   "source": [
    "# Definition for a binary tree node.\n",
    "# class TreeNode(object):\n",
    "#     def __init__(self, x):\n",
    "#         self.val = x\n",
    "#         self.left = None\n",
    "#         self.right = None\n",
    "\n",
    "class Solution(object):\n",
    "    def findLeaves(self, root):\n",
    "        res = []\n",
    "        if not root: return res\n",
    "        def search(node):\n",
    "            left = search(node.left) if node.left else 0\n",
    "            right = search(node.right) if node.right else 0\n",
    "            pos = max(left,right) \n",
    "            if pos > len(res)-1:\n",
    "                res.append([node.val])\n",
    "            else:\n",
    "                res[pos].append(node.val)\n",
    "            return pos+1\n",
    "        search(root)\n",
    "        return res"
   ]
  },
  {
   "cell_type": "markdown",
   "metadata": {},
   "source": [
    "#### Result: 12ms (95.90%)"
   ]
  }
 ],
 "metadata": {
  "kernelspec": {
   "display_name": "Python 2",
   "language": "python",
   "name": "python2"
  },
  "language_info": {
   "codemirror_mode": {
    "name": "ipython",
    "version": 2
   },
   "file_extension": ".py",
   "mimetype": "text/x-python",
   "name": "python",
   "nbconvert_exporter": "python",
   "pygments_lexer": "ipython2",
   "version": "2.7.16"
  }
 },
 "nbformat": 4,
 "nbformat_minor": 2
}
