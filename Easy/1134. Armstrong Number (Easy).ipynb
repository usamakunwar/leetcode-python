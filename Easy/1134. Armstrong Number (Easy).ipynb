{
 "cells": [
  {
   "cell_type": "markdown",
   "metadata": {},
   "source": [
    "# 1134. Armstrong Number (Easy)"
   ]
  },
  {
   "cell_type": "markdown",
   "metadata": {},
   "source": [
    "<div><p>The k-digit number <code>N</code> is an Armstrong number if and only if the k-th power of each digit sums to N.</p>\n",
    "\n",
    "<p>Given a positive integer <code>N</code>, return true if and only if it is an Armstrong number.</p>\n",
    "\n",
    "<p>&nbsp;</p>\n",
    "\n",
    "<p><strong>Example 1:</strong></p>\n",
    "\n",
    "<pre><strong>Input: </strong><span id=\"example-input-1-1\">153</span>\n",
    "<strong>Output: </strong><span id=\"example-output-1\">true</span>\n",
    "<strong>Explanation: </strong>\n",
    "153 is a 3-digit number, and 153 = 1^3 + 5^3 + 3^3.\n",
    "</pre>\n",
    "\n",
    "<p><strong>Example 2:</strong></p>\n",
    "\n",
    "<pre><strong>Input: </strong><span id=\"example-input-2-1\">123</span>\n",
    "<strong>Output: </strong><span id=\"example-output-2\">false</span>\n",
    "<strong>Explanation: </strong>\n",
    "123 is a 3-digit number, and 123 != 1^3 + 2^3 + 3^3 = 36.\n",
    "</pre>\n",
    "\n",
    "<p>&nbsp;</p>\n",
    "\n",
    "<p><strong>Note:</strong></p>\n",
    "\n",
    "<ol>\n",
    "\t<li><code>1 &lt;= N &lt;= 10^8</code></li>\n",
    "</ol>\n",
    "</div>"
   ]
  },
  {
   "cell_type": "markdown",
   "metadata": {},
   "source": [
    "## Option 1\n",
    "\n",
    "Time complexity: O(n) length of the digit\n",
    "<br>\n",
    "Space complexity: O(1)"
   ]
  },
  {
   "cell_type": "code",
   "execution_count": null,
   "metadata": {
    "scrolled": true
   },
   "outputs": [],
   "source": [
    "class Solution(object):\n",
    "    def isArmstrong(self, N):\n",
    "        ln = len(str(N))\n",
    "        return N == sum(int(i)**ln for i in str(N))\n",
    "            \n",
    "Solution().isArmstrong(123)    \n"
   ]
  },
  {
   "cell_type": "markdown",
   "metadata": {},
   "source": [
    "#### Result: 12ms (84.17%)"
   ]
  },
  {
   "cell_type": "markdown",
   "metadata": {},
   "source": [
    "## Option 2\n",
    "\n",
    "Time complexity: O(logn) (base10)\n",
    "<br>\n",
    "Space complexity: O(1)"
   ]
  },
  {
   "cell_type": "code",
   "execution_count": null,
   "metadata": {},
   "outputs": [],
   "source": [
    "import math\n",
    "class Solution(object):\n",
    "    def isArmstrong(self, N):\n",
    "        p = int(math.log10(N))+1\n",
    "        total, n = 0, N\n",
    "        while n > 0:\n",
    "            total += (n%10)**p\n",
    "            n /= 10\n",
    "        return total == N\n",
    "    \n",
    "Solution().isArmstrong(123)    \n"
   ]
  },
  {
   "cell_type": "markdown",
   "metadata": {},
   "source": [
    "#### Result: 16ms (62.50%)"
   ]
  }
 ],
 "metadata": {
  "kernelspec": {
   "display_name": "Python 2",
   "language": "python",
   "name": "python2"
  },
  "language_info": {
   "codemirror_mode": {
    "name": "ipython",
    "version": 2
   },
   "file_extension": ".py",
   "mimetype": "text/x-python",
   "name": "python",
   "nbconvert_exporter": "python",
   "pygments_lexer": "ipython2",
   "version": "2.7.16"
  }
 },
 "nbformat": 4,
 "nbformat_minor": 2
}
