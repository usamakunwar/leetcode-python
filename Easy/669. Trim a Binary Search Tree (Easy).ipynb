{
 "cells": [
  {
   "cell_type": "markdown",
   "metadata": {},
   "source": [
    "# 669. Trim a Binary Search Tree (Easy)"
   ]
  },
  {
   "cell_type": "markdown",
   "metadata": {},
   "source": [
    "<div><p>\n",
    "Given a binary search tree and the lowest and highest boundaries as <code>L</code> and <code>R</code>, trim the tree so that all its elements lies in <code>[L, R]</code> (R &gt;= L). You might need to change the root of the tree, so the result should return the new root of the trimmed binary search tree.\n",
    "</p>\n",
    "\n",
    "<p><b>Example 1:</b><br>\n",
    "</p><pre><b>Input:</b> \n",
    "    1\n",
    "   / \\\n",
    "  0   2\n",
    "\n",
    "  L = 1\n",
    "  R = 2\n",
    "\n",
    "<b>Output:</b> \n",
    "    1\n",
    "      \\\n",
    "       2\n",
    "</pre>\n",
    "<p></p>\n",
    "\n",
    "<p><b>Example 2:</b><br>\n",
    "</p><pre><b>Input:</b> \n",
    "    3\n",
    "   / \\\n",
    "  0   4\n",
    "   \\\n",
    "    2\n",
    "   /\n",
    "  1\n",
    "\n",
    "  L = 1\n",
    "  R = 3\n",
    "\n",
    "<b>Output:</b> \n",
    "      3\n",
    "     / \n",
    "   2   \n",
    "  /\n",
    " 1\n",
    "</pre>\n",
    "<p></p></div>"
   ]
  },
  {
   "cell_type": "markdown",
   "metadata": {},
   "source": [
    "## Option 1\n",
    "\n",
    "  <p>\n",
    "Time complexity: O(n)\n",
    "<br>\n",
    "Space complexity: O(n)"
   ]
  },
  {
   "cell_type": "code",
   "execution_count": null,
   "metadata": {
    "scrolled": false
   },
   "outputs": [],
   "source": [
    "# Definition for a binary tree node.\n",
    "# class TreeNode(object):\n",
    "#     def __init__(self, x):\n",
    "#         self.val = x\n",
    "#         self.left = None\n",
    "#         self.right = None\n",
    "\n",
    "class Solution(object):\n",
    "    def trimBST(self, root, L, R):\n",
    "        if not root: return None\n",
    "        def search(node):\n",
    "            \n",
    "            if node.val < L:\n",
    "                return search(node.right) if node.right else None\n",
    "            elif node.val > R:\n",
    "                return search(node.left) if node.left else None\n",
    "            \n",
    "            if node.left: node.left = search(node.left)\n",
    "            if node.right: node.right = search(node.right)\n",
    "            \n",
    "            return node             \n",
    "            \n",
    "        return search(root)\n",
    "        "
   ]
  },
  {
   "cell_type": "markdown",
   "metadata": {},
   "source": [
    "#### Result: 32ms (95.06%)"
   ]
  }
 ],
 "metadata": {
  "kernelspec": {
   "display_name": "Python 2",
   "language": "python",
   "name": "python2"
  },
  "language_info": {
   "codemirror_mode": {
    "name": "ipython",
    "version": 2
   },
   "file_extension": ".py",
   "mimetype": "text/x-python",
   "name": "python",
   "nbconvert_exporter": "python",
   "pygments_lexer": "ipython2",
   "version": "2.7.16"
  }
 },
 "nbformat": 4,
 "nbformat_minor": 2
}
