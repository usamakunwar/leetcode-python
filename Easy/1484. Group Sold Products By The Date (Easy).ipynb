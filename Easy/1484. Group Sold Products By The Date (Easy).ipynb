{
 "cells": [
  {
   "cell_type": "markdown",
   "metadata": {},
   "source": [
    "# 1484. Group Sold Products By The Date (Easy)"
   ]
  },
  {
   "cell_type": "markdown",
   "metadata": {},
   "source": [
    "<div><p>Table <code>Activities</code>:</p>\n",
    "\n",
    "<pre>+-------------+---------+\n",
    "| Column Name | Type    |\n",
    "+-------------+---------+\n",
    "| sell_date   | date    |\n",
    "| product     | varchar |\n",
    "+-------------+---------+\n",
    "There is no primary key for this table, it may contains duplicates.\n",
    "Each row of this table contains the product name and the date it was sold in a market.</pre>\n",
    "\n",
    "<p>&nbsp;</p>\n",
    "\n",
    "<p>Write an SQL query to find for each date, the number of distinct products sold and their names.</p>\n",
    "\n",
    "<p>The sold-products names for each date should be sorted lexicographically.&nbsp;</p>\n",
    "\n",
    "<p>Return the result table ordered by <code>sell_date</code>.</p>\n",
    "\n",
    "<p>The query result format is in the following example.</p>\n",
    "\n",
    "<pre><code>Activities</code> table:\n",
    "+------------+-------------+\n",
    "| sell_date  | product     |\n",
    "+------------+-------------+\n",
    "| 2020-05-30 | Headphone   |\n",
    "| 2020-06-01 | Pencil      |\n",
    "| 2020-06-02 | Mask        |\n",
    "| 2020-05-30 | Basketball  |\n",
    "| 2020-06-01 | Bible       |\n",
    "| 2020-06-02 | Mask        |\n",
    "| 2020-05-30 | T-Shirt     |\n",
    "+------------+-------------+\n",
    "\n",
    "Result table:\n",
    "+------------+----------+------------------------------+\n",
    "| sell_date  | num_sold | products                     |\n",
    "+------------+----------+------------------------------+\n",
    "| 2020-05-30 | 3        | Basketball,Headphone,T-shirt |\n",
    "| 2020-06-01 | 2        | Bible,Pencil                 |\n",
    "| 2020-06-02 | 1        | Mask                         |\n",
    "+------------+----------+------------------------------+\n",
    "For 2020-05-30, Sold items were (Headphone, Basketball, T-shirt), we sort them lexicographically and separate them by comma.\n",
    "For 2020-06-01, Sold items were (Pencil, Bible), we sort them lexicographically and separate them by comma.\n",
    "For 2020-06-02, Sold item is (Mask), we just return it.\n",
    "\n",
    "</pre>\n",
    "</div>"
   ]
  },
  {
   "cell_type": "markdown",
   "metadata": {},
   "source": [
    "## Option 1"
   ]
  },
  {
   "cell_type": "code",
   "execution_count": null,
   "metadata": {
    "scrolled": false
   },
   "outputs": [],
   "source": [
    "# Write your MySQL query statement below\n",
    "\n",
    "select sell_date, count(distinct product) as num_sold, group_concat(distinct product order by product) as products\n",
    "\n",
    "from activities\n",
    "\n",
    "group by sell_date\n"
   ]
  },
  {
   "cell_type": "markdown",
   "metadata": {},
   "source": [
    "#### Result: 602ms (38.02%)\n"
   ]
  }
 ],
 "metadata": {
  "kernelspec": {
   "display_name": "Python 2",
   "language": "python",
   "name": "python2"
  },
  "language_info": {
   "codemirror_mode": {
    "name": "ipython",
    "version": 2
   },
   "file_extension": ".py",
   "mimetype": "text/x-python",
   "name": "python",
   "nbconvert_exporter": "python",
   "pygments_lexer": "ipython2",
   "version": "2.7.16"
  }
 },
 "nbformat": 4,
 "nbformat_minor": 2
}
