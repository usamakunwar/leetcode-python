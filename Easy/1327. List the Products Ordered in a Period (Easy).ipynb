{
 "cells": [
  {
   "cell_type": "markdown",
   "metadata": {},
   "source": [
    "# 1327. List the Products Ordered in a Period (Easy)"
   ]
  },
  {
   "cell_type": "markdown",
   "metadata": {},
   "source": [
    "<div><p>Table: <code>Products</code></p>\n",
    "\n",
    "<pre>+------------------+---------+\n",
    "| Column Name      | Type    |\n",
    "+------------------+---------+\n",
    "| product_id       | int     |\n",
    "| product_name     | varchar |\n",
    "| product_category | varchar |\n",
    "+------------------+---------+\n",
    "product_id is the primary key for this table.\n",
    "This table contains data about the company's products.\n",
    "</pre>\n",
    "\n",
    "<p>Table: <code>Orders</code></p>\n",
    "\n",
    "<pre>+---------------+---------+\n",
    "| Column Name   | Type    |\n",
    "+---------------+---------+\n",
    "| product_id    | int     |\n",
    "| order_date    | date    |\n",
    "| unit          | int     |\n",
    "+---------------+---------+\n",
    "There is no primary key&nbsp;for this table. It&nbsp;may have&nbsp;duplicate rows.\n",
    "product_id is a foreign key to Products table.\n",
    "unit is the number of products ordered in order_date.\n",
    "</pre>\n",
    "\n",
    "<p>&nbsp;</p>\n",
    "\n",
    "<p>Write an SQL query to get the names of products with greater than or equal to 100 units ordered in February 2020 and their amount.</p>\n",
    "\n",
    "<p>Return result table in any order.</p>\n",
    "\n",
    "<p>The query result format is in the following example:</p>\n",
    "\n",
    "<p>&nbsp;</p>\n",
    "\n",
    "<pre>Products table:\n",
    "+-------------+-----------------------+------------------+\n",
    "| product_id  | product_name          | product_category |\n",
    "+-------------+-----------------------+------------------+\n",
    "| 1           | Leetcode Solutions    | Book             |\n",
    "| 2           | Jewels of Stringology | Book             |\n",
    "| 3           | HP                    | Laptop           |\n",
    "| 4           | Lenovo                | Laptop           |\n",
    "| 5           | Leetcode Kit          | T-shirt          |\n",
    "+-------------+-----------------------+------------------+\n",
    "\n",
    "Orders table:\n",
    "+--------------+--------------+----------+\n",
    "| product_id   | order_date   | unit     |\n",
    "+--------------+--------------+----------+\n",
    "| 1            | 2020-02-05   | 60       |\n",
    "| 1            | 2020-02-10   | 70       |\n",
    "| 2            | 2020-01-18   | 30       |\n",
    "| 2            | 2020-02-11   | 80       |\n",
    "| 3            | 2020-02-17   | 2        |\n",
    "| 3            | 2020-02-24   | 3        |\n",
    "| 4            | 2020-03-01   | 20       |\n",
    "| 4            | 2020-03-04   | 30       |\n",
    "| 4            | 2020-03-04   | 60       |\n",
    "| 5            | 2020-02-25   | 50       |\n",
    "| 5            | 2020-02-27   | 50       |\n",
    "| 5            | 2020-03-01   | 50       |\n",
    "+--------------+--------------+----------+\n",
    "\n",
    "Result table:\n",
    "+--------------------+---------+\n",
    "| product_name       | unit    |\n",
    "+--------------------+---------+\n",
    "| Leetcode Solutions | 130     |\n",
    "| Leetcode Kit       | 100     |\n",
    "+--------------------+---------+\n",
    "\n",
    "Products with product_id = 1 is ordered in February a total of (60 + 70) = 130.\n",
    "Products with product_id = 2 is ordered in February a total of 80.\n",
    "Products with product_id = 3 is ordered in February a total of (2 + 3) = 5.\n",
    "Products with product_id = 4 was not ordered in February 2020.\n",
    "Products with product_id = 5 is ordered in February a total of (50 + 50) = 100.\n",
    "</pre></div>"
   ]
  },
  {
   "cell_type": "markdown",
   "metadata": {},
   "source": [
    "## Option 1"
   ]
  },
  {
   "cell_type": "code",
   "execution_count": null,
   "metadata": {
    "scrolled": false
   },
   "outputs": [],
   "source": [
    "# Write your MySQL query statement below\n",
    "select a.product_name, a.unit\n",
    "from\n",
    "(select products.product_name, sum(unit) as unit\n",
    "from orders\n",
    "join products on products.product_id = orders.product_id\n",
    "where orders.order_date >= '2020-02-01' and orders.order_date <= '2020-02-29'\n",
    "group by orders.product_id)a\n",
    "where a.unit >= 100"
   ]
  },
  {
   "cell_type": "markdown",
   "metadata": {},
   "source": [
    "#### Result: 1529ms (9.19%)\n"
   ]
  }
 ],
 "metadata": {
  "kernelspec": {
   "display_name": "Python 2",
   "language": "python",
   "name": "python2"
  },
  "language_info": {
   "codemirror_mode": {
    "name": "ipython",
    "version": 2
   },
   "file_extension": ".py",
   "mimetype": "text/x-python",
   "name": "python",
   "nbconvert_exporter": "python",
   "pygments_lexer": "ipython2",
   "version": "2.7.16"
  }
 },
 "nbformat": 4,
 "nbformat_minor": 2
}
