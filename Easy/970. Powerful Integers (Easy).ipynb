{
 "cells": [
  {
   "cell_type": "markdown",
   "metadata": {},
   "source": [
    "# 970. Powerful Integers (Easy)"
   ]
  },
  {
   "cell_type": "markdown",
   "metadata": {},
   "source": [
    "<div><p>Given two positive integers <code>x</code> and <code>y</code>, an integer is <em>powerful</em>&nbsp;if it is equal to <code>x^i + y^j</code>&nbsp;for&nbsp;some integers <code>i &gt;= 0</code> and <code>j &gt;= 0</code>.</p>\n",
    "\n",
    "<p>Return a list of all <em>powerful</em> integers that have value less than or equal to <code>bound</code>.</p>\n",
    "\n",
    "<p>You may return the answer in any order.&nbsp; In your answer, each value should occur at most once.</p>\n",
    "\n",
    "<p>&nbsp;</p>\n",
    "\n",
    "<div>\n",
    "<p><strong>Example 1:</strong></p>\n",
    "\n",
    "<pre><strong>Input: </strong>x = <span id=\"example-input-1-1\">2</span>, y = <span id=\"example-input-1-2\">3</span>, bound = <span id=\"example-input-1-3\">10</span>\n",
    "<strong>Output: </strong><span id=\"example-output-1\">[2,3,4,5,7,9,10]</span>\n",
    "<strong>Explanation: </strong>\n",
    "2 = 2^0 + 3^0\n",
    "3 = 2^1 + 3^0\n",
    "4 = 2^0 + 3^1\n",
    "5 = 2^1 + 3^1\n",
    "7 = 2^2 + 3^1\n",
    "9 = 2^3 + 3^0\n",
    "10 = 2^0 + 3^2\n",
    "</pre>\n",
    "\n",
    "<div>\n",
    "<p><strong>Example 2:</strong></p>\n",
    "\n",
    "<pre><strong>Input: </strong>x = <span id=\"example-input-2-1\">3</span>, y = <span id=\"example-input-2-2\">5</span>, bound = <span id=\"example-input-2-3\">15</span>\n",
    "<strong>Output: </strong><span id=\"example-output-2\">[2,4,6,8,10,14]</span>\n",
    "</pre>\n",
    "</div>\n",
    "</div>\n",
    "\n",
    "<p>&nbsp;</p>\n",
    "\n",
    "<p><strong>Note:</strong></p>\n",
    "\n",
    "<ul>\n",
    "\t<li><code>1 &lt;= x &lt;= 100</code></li>\n",
    "\t<li><code>1 &lt;= y&nbsp;&lt;= 100</code></li>\n",
    "\t<li><code>0 &lt;= bound&nbsp;&lt;= 10^6</code></li>\n",
    "</ul></div>"
   ]
  },
  {
   "cell_type": "markdown",
   "metadata": {},
   "source": [
    "## Option 1\n",
    " <p> \n",
    "<p>Brute force\n",
    "    <p>"
   ]
  },
  {
   "cell_type": "code",
   "execution_count": null,
   "metadata": {
    "scrolled": false
   },
   "outputs": [],
   "source": [
    "class Solution(object):\n",
    "    def powerfulIntegers(self, x, y, bound):        \n",
    "        res = set()\n",
    "        for i in range(20):\n",
    "            for j in range(20):\n",
    "                v = x**i + y**j\n",
    "                if v <= bound:\n",
    "                    res.add(v)\n",
    "        return list(res)\n",
    "    \n",
    "Solution().powerfulIntegers(3,1,15)\n",
    "        "
   ]
  },
  {
   "cell_type": "markdown",
   "metadata": {},
   "source": [
    "#### Result: 40ms (15.04%)"
   ]
  }
 ],
 "metadata": {
  "kernelspec": {
   "display_name": "Python 2",
   "language": "python",
   "name": "python2"
  },
  "language_info": {
   "codemirror_mode": {
    "name": "ipython",
    "version": 2
   },
   "file_extension": ".py",
   "mimetype": "text/x-python",
   "name": "python",
   "nbconvert_exporter": "python",
   "pygments_lexer": "ipython2",
   "version": "2.7.16"
  }
 },
 "nbformat": 4,
 "nbformat_minor": 2
}
