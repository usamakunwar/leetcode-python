{
 "cells": [
  {
   "cell_type": "markdown",
   "metadata": {},
   "source": [
    "# 836. Rectangle Overlap (Easy)\n"
   ]
  },
  {
   "cell_type": "markdown",
   "metadata": {},
   "source": [
    "<div><p>A rectangle is&nbsp;represented as a&nbsp;list <code>[x1, y1, x2, y2]</code>, where&nbsp;<code>(x1, y1)</code>&nbsp;are the coordinates of its bottom-left corner, and <code>(x2,&nbsp;y2)</code>&nbsp;are the coordinates of its top-right corner.</p>\n",
    "\n",
    "<p>Two rectangles overlap if the area of their intersection is positive.&nbsp; To be clear, two rectangles that only touch at the corner or edges do not overlap.</p>\n",
    "\n",
    "<p>Given two (axis-aligned) rectangles, return whether&nbsp;they overlap.</p>\n",
    "\n",
    "<p><strong>Example 1:</strong></p>\n",
    "\n",
    "<pre><strong>Input: </strong>rec1 = [0,0,2,2], rec2 = [1,1,3,3]\n",
    "<strong>Output: </strong>true\n",
    "</pre>\n",
    "\n",
    "<p><strong>Example 2:</strong></p>\n",
    "\n",
    "<pre><strong>Input: </strong>rec1 = [0,0,1,1], rec2 = [1,0,2,1]\n",
    "<strong>Output: </strong>false\n",
    "</pre>\n",
    "\n",
    "<p><strong>Notes:</strong></p>\n",
    "\n",
    "<ol>\n",
    "\t<li>Both rectangles <code>rec1</code> and <code>rec2</code> are lists of 4 integers.</li>\n",
    "\t<li>All coordinates in rectangles will be between&nbsp;<code>-10^9 </code>and<code> 10^9</code>.</li>\n",
    "</ol>\n",
    "</div>"
   ]
  },
  {
   "cell_type": "markdown",
   "metadata": {},
   "source": [
    "## Option 1\n",
    " <p>     <p>\n",
    "    <p>\n",
    "        <li>If the x points and y points intersect, its true\n",
    "<p>\n",
    "        \n",
    "Time complexity: O(1)\n",
    "    <br>\n",
    "Space complexity: O(1)\n"
   ]
  },
  {
   "cell_type": "code",
   "execution_count": null,
   "metadata": {
    "scrolled": true
   },
   "outputs": [],
   "source": [
    "class Solution(object):\n",
    "    def isRectangleOverlap(self, r1, r2):\n",
    "        lx,hx = sorted([[r1[0],r1[2]],[r2[0],r2[2]]])\n",
    "        ly,hy = sorted([[r1[1],r1[3]],[r2[1],r2[3]]])\n",
    "        \n",
    "        return True if hx[0] < lx[1] and hy[0] < ly[1] else False \n",
    "        \n",
    "Solution().isRectangleOverlap([0,0,2,2],[1,1,3,3])\n",
    "        "
   ]
  },
  {
   "cell_type": "markdown",
   "metadata": {},
   "source": [
    "#### Result: 20ms (47.96%)"
   ]
  }
 ],
 "metadata": {
  "kernelspec": {
   "display_name": "Python 2",
   "language": "python",
   "name": "python2"
  },
  "language_info": {
   "codemirror_mode": {
    "name": "ipython",
    "version": 2
   },
   "file_extension": ".py",
   "mimetype": "text/x-python",
   "name": "python",
   "nbconvert_exporter": "python",
   "pygments_lexer": "ipython2",
   "version": "2.7.16"
  }
 },
 "nbformat": 4,
 "nbformat_minor": 2
}
