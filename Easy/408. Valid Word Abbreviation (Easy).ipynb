{
 "cells": [
  {
   "cell_type": "markdown",
   "metadata": {},
   "source": [
    "# 408. Valid Word Abbreviation (Easy)"
   ]
  },
  {
   "cell_type": "markdown",
   "metadata": {},
   "source": [
    "<div><p>\n",
    "Given a <b>non-empty</b> string <code>s</code> and an abbreviation <code>abbr</code>, return whether the string matches with the given abbreviation.\n",
    "</p>\n",
    "\n",
    "<p>A string such as <code>\"word\"</code> contains only the following valid abbreviations:</p>\n",
    "\n",
    "<pre>[\"word\", \"1ord\", \"w1rd\", \"wo1d\", \"wor1\", \"2rd\", \"w2d\", \"wo2\", \"1o1d\", \"1or1\", \"w1r1\", \"1o2\", \"2r1\", \"3d\", \"w3\", \"4\"]\n",
    "</pre>\n",
    "\n",
    "<p>Notice that only the above abbreviations are valid abbreviations of the string <code>\"word\"</code>. Any other string is not a valid abbreviation of <code>\"word\"</code>.</p>\n",
    "\n",
    "<p><b>Note:</b><br>\n",
    "Assume <code>s</code> contains only lowercase letters and <code>abbr</code> contains only lowercase letters and digits.\n",
    "</p>\n",
    "\n",
    "<p><b>Example 1:</b><br>\n",
    "</p><pre>Given <b>s</b> = \"internationalization\", <b>abbr</b> = \"i12iz4n\":\n",
    "\n",
    "Return true.\n",
    "</pre>\n",
    "<p></p>\n",
    "\n",
    "<p><b>Example 2:</b><br>\n",
    "</p><pre>Given <b>s</b> = \"apple\", <b>abbr</b> = \"a2e\":\n",
    "\n",
    "Return false.\n",
    "</pre>\n",
    "<p></p></div>"
   ]
  },
  {
   "cell_type": "markdown",
   "metadata": {},
   "source": [
    "## Option 1\n",
    " <p>\n",
    "\n",
    "Time complexity: O(n)\n",
    "<br>\n",
    "Space complexity: O(1) "
   ]
  },
  {
   "cell_type": "code",
   "execution_count": null,
   "metadata": {
    "scrolled": false
   },
   "outputs": [],
   "source": [
    "class Solution(object):\n",
    "    def validWordAbbreviation(self, word, abbr):\n",
    "        number = ''\n",
    "        j = 0\n",
    "        for i in range(len(abbr)):\n",
    "            if abbr[i].isdigit():\n",
    "                number += abbr[i]\n",
    "                if number == '0': return False \n",
    "            else:\n",
    "                j += int(number or 0)\n",
    "                if j >= len(word) or abbr[i] != word[j]: return False\n",
    "                number = ''\n",
    "                j += 1\n",
    "\n",
    "        return (len(word)-j) == int(number) if number else True\n",
    "        \n",
    "        \n",
    "Solution().validWordAbbreviation(\"internationalization\", \"internationaliza5\")\n",
    "        "
   ]
  },
  {
   "cell_type": "markdown",
   "metadata": {},
   "source": [
    "#### Result: 20ms (72.59%)\n"
   ]
  }
 ],
 "metadata": {
  "kernelspec": {
   "display_name": "Python 2",
   "language": "python",
   "name": "python2"
  },
  "language_info": {
   "codemirror_mode": {
    "name": "ipython",
    "version": 2
   },
   "file_extension": ".py",
   "mimetype": "text/x-python",
   "name": "python",
   "nbconvert_exporter": "python",
   "pygments_lexer": "ipython2",
   "version": "2.7.16"
  }
 },
 "nbformat": 4,
 "nbformat_minor": 2
}
