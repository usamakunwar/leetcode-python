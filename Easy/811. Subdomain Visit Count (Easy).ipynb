{
 "cells": [
  {
   "cell_type": "markdown",
   "metadata": {},
   "source": [
    "# 811. Subdomain Visit Count (Easy)"
   ]
  },
  {
   "cell_type": "markdown",
   "metadata": {},
   "source": [
    "<div><p>A website domain like \"discuss.leetcode.com\" consists of various subdomains. At the top level, we have \"com\", at the next level, we have \"leetcode.com\", and at the lowest level, \"discuss.leetcode.com\". When we visit a domain like \"discuss.leetcode.com\", we will also visit the parent domains \"leetcode.com\" and \"com\" implicitly.</p>\n",
    "\n",
    "<p>Now, call a \"count-paired domain\" to be a count (representing the number of visits this domain received), followed by a space, followed by the address. An example of a count-paired domain might be \"9001 discuss.leetcode.com\".</p>\n",
    "\n",
    "<p>We are given a list <code>cpdomains</code> of count-paired domains. We would like a list of count-paired domains, (in the same format as the input, and in any order), that explicitly counts the number of visits to each subdomain.</p>\n",
    "\n",
    "<pre><strong>Example 1:</strong>\n",
    "<strong>Input:</strong> \n",
    "[\"9001 discuss.leetcode.com\"]\n",
    "<strong>Output:</strong> \n",
    "[\"9001 discuss.leetcode.com\", \"9001 leetcode.com\", \"9001 com\"]\n",
    "<strong>Explanation:</strong> \n",
    "We only have one website domain: \"discuss.leetcode.com\". As discussed above, the subdomain \"leetcode.com\" and \"com\" will also be visited. So they will all be visited 9001 times.\n",
    "\n",
    "</pre>\n",
    "\n",
    "<pre><strong>Example 2:</strong>\n",
    "<strong>Input:</strong> \n",
    "[\"900 google.mail.com\", \"50 yahoo.com\", \"1 intel.mail.com\", \"5 wiki.org\"]\n",
    "<strong>Output:</strong> \n",
    "[\"901 mail.com\",\"50 yahoo.com\",\"900 google.mail.com\",\"5 wiki.org\",\"5 org\",\"1 intel.mail.com\",\"951 com\"]\n",
    "<strong>Explanation:</strong> \n",
    "We will visit \"google.mail.com\" 900 times, \"yahoo.com\" 50 times, \"intel.mail.com\" once and \"wiki.org\" 5 times. For the subdomains, we will visit \"mail.com\" 900 + 1 = 901 times, \"com\" 900 + 50 + 1 = 951 times, and \"org\" 5 times.\n",
    "\n",
    "</pre>\n",
    "\n",
    "<p><strong>Notes: </strong></p>\n",
    "\n",
    "<ul>\n",
    "\t<li>The length of <code>cpdomains</code> will not exceed&nbsp;<code>100</code>.&nbsp;</li>\n",
    "\t<li>The length of each domain name will not exceed <code>100</code>.</li>\n",
    "\t<li>Each address will have either 1 or 2 \".\" characters.</li>\n",
    "\t<li>The input count&nbsp;in any count-paired domain will not exceed <code>10000</code>.</li>\n",
    "\t<li>The answer output can be returned in any order.</li>\n",
    "</ul>\n",
    "</div>"
   ]
  },
  {
   "cell_type": "markdown",
   "metadata": {},
   "source": [
    "## Option 1\n",
    " <p>\n",
    "\n",
    "Time complexity: O(n)\n",
    "<br>\n",
    "Space complexity: O(n) "
   ]
  },
  {
   "cell_type": "code",
   "execution_count": null,
   "metadata": {
    "scrolled": false
   },
   "outputs": [],
   "source": [
    "import collections\n",
    "class Solution(object):\n",
    "    def subdomainVisits(self, cpdomains):\n",
    "        c = collections.Counter()\n",
    "\n",
    "        for domain in cpdomains:\n",
    "            s = domain.split(' ')\n",
    "            a,b = int(s[0]), s[1].split('.')\n",
    "            \n",
    "            for i in range(len(b)):\n",
    "                c['.'.join(b[i:])] += a\n",
    "\n",
    "        return [ str(v)+' '+i for i,v in c.items()]\n",
    "        \n",
    "        \n",
    "Solution().subdomainVisits([\"900 google.mail.com\", \"50 yahoo.com\", \"1 intel.mail.com\", \"5 wiki.org\"])\n",
    "        "
   ]
  },
  {
   "cell_type": "markdown",
   "metadata": {},
   "source": [
    "#### Result: 44ms (87.63%)\n"
   ]
  }
 ],
 "metadata": {
  "kernelspec": {
   "display_name": "Python 2",
   "language": "python",
   "name": "python2"
  },
  "language_info": {
   "codemirror_mode": {
    "name": "ipython",
    "version": 2
   },
   "file_extension": ".py",
   "mimetype": "text/x-python",
   "name": "python",
   "nbconvert_exporter": "python",
   "pygments_lexer": "ipython2",
   "version": "2.7.16"
  }
 },
 "nbformat": 4,
 "nbformat_minor": 2
}
