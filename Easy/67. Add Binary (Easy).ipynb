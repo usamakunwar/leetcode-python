{
 "cells": [
  {
   "cell_type": "markdown",
   "metadata": {},
   "source": [
    "# 67. Add Binary (Easy)"
   ]
  },
  {
   "cell_type": "markdown",
   "metadata": {},
   "source": [
    "<div><p>Given two binary strings, return their sum (also a binary string).</p>\n",
    "\n",
    "<p>The input strings are both <strong>non-empty</strong> and contains only characters <code>1</code> or&nbsp;<code>0</code>.</p>\n",
    "\n",
    "<p><strong>Example 1:</strong></p>\n",
    "\n",
    "<pre><strong>Input:</strong> a = \"11\", b = \"1\"\n",
    "<strong>Output:</strong> \"100\"</pre>\n",
    "\n",
    "<p><strong>Example 2:</strong></p>\n",
    "\n",
    "<pre><strong>Input:</strong> a = \"1010\", b = \"1011\"\n",
    "<strong>Output:</strong> \"10101\"</pre>\n",
    "</div>"
   ]
  },
  {
   "cell_type": "markdown",
   "metadata": {},
   "source": [
    "## Option 1\n",
    "Time complexity = O(max(a+b))\n",
    "<br>"
   ]
  },
  {
   "cell_type": "code",
   "execution_count": 28,
   "metadata": {
    "scrolled": false
   },
   "outputs": [
    {
     "data": {
      "text/plain": [
       "'11011110'"
      ]
     },
     "execution_count": 28,
     "metadata": {},
     "output_type": "execute_result"
    }
   ],
   "source": [
    "class Solution:\n",
    "    def addBinary(self, a: str, b: str) -> str:\n",
    "        result = \"\"\n",
    "        carry = 0\n",
    "        a = a[::-1]\n",
    "        b = b[::-1]\n",
    "        for i in range(max(len(a),len(b))):\n",
    "\n",
    "            c = int(a[i]) if len(a) > i else 0\n",
    "            d = int(b[i]) if len(b) > i else 0\n",
    "            \n",
    "            total = c + d + carry\n",
    "            carry = 0\n",
    "            \n",
    "            if total == 0:\n",
    "                result = \"0\" + result  \n",
    "            elif total == 1:\n",
    "                result = \"1\" + result\n",
    "            elif total == 2:\n",
    "                result = \"0\" + result\n",
    "                carry = 1\n",
    "            else:\n",
    "                result = \"1\" + result\n",
    "                carry = 1\n",
    "        \n",
    "        if carry > 0:\n",
    "            result = \"1\" + result\n",
    "            \n",
    "        return result\n",
    "            \n",
    "Solution().addBinary(\"11011011\", \"11\")"
   ]
  },
  {
   "cell_type": "markdown",
   "metadata": {},
   "source": [
    "#### Result:  36ms (68.34%)"
   ]
  }
 ],
 "metadata": {
  "kernelspec": {
   "display_name": "Python 3",
   "language": "python",
   "name": "python3"
  },
  "language_info": {
   "codemirror_mode": {
    "name": "ipython",
    "version": 3
   },
   "file_extension": ".py",
   "mimetype": "text/x-python",
   "name": "python",
   "nbconvert_exporter": "python",
   "pygments_lexer": "ipython3",
   "version": "3.7.4"
  }
 },
 "nbformat": 4,
 "nbformat_minor": 2
}
