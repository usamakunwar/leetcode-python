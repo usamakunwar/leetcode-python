{
 "cells": [
  {
   "cell_type": "markdown",
   "metadata": {},
   "source": [
    "# 345. Reverse Vowels of a String (Easy)"
   ]
  },
  {
   "cell_type": "markdown",
   "metadata": {},
   "source": [
    "<div><p>Write a function that takes a string as input and reverse only the vowels of a string.</p>\n",
    "\n",
    "<p><strong>Example 1:</strong></p>\n",
    "\n",
    "<pre><strong>Input: </strong><span id=\"example-input-1-1\">\"hello\"</span>\n",
    "<strong>Output: </strong><span id=\"example-output-1\">\"holle\"</span>\n",
    "</pre>\n",
    "\n",
    "<div>\n",
    "<p><strong>Example 2:</strong></p>\n",
    "\n",
    "<pre><strong>Input: </strong><span id=\"example-input-2-1\">\"leetcode\"</span>\n",
    "<strong>Output: </strong><span id=\"example-output-2\">\"leotcede\"</span></pre>\n",
    "</div>\n",
    "\n",
    "<p><b>Note:</b><br>\n",
    "The vowels does not include the letter \"y\".</p>\n",
    "\n",
    "<p>&nbsp;</p>\n",
    "</div>"
   ]
  },
  {
   "cell_type": "markdown",
   "metadata": {},
   "source": [
    "## Option 1\n",
    "<p>\n",
    "    <p>\n",
    "Time complexity: O(n)\n",
    "<br>\n",
    "Space complexity: O(1) "
   ]
  },
  {
   "cell_type": "code",
   "execution_count": null,
   "metadata": {
    "scrolled": true
   },
   "outputs": [],
   "source": [
    "class Solution(object):\n",
    "    def reverseVowels(self, s):\n",
    "        vowels = {'a','e','i','o','u','A','E','I','O','U'}\n",
    "        l,r = 0,len(s)-1\n",
    "        s = list(s)\n",
    "        while l < r:\n",
    "            if s[l] not in vowels: l += 1\n",
    "            if s[r] not in vowels: r -= 1\n",
    "            \n",
    "            if s[l] in vowels and s[r] in vowels:\n",
    "                s[l],s[r] = s[r],s[l]\n",
    "                l += 1\n",
    "                r -= 1\n",
    "        \n",
    "        return ''.join(s)\n",
    "        \n",
    "Solution().reverseVowels(\"leetcode\")\n",
    "        "
   ]
  },
  {
   "cell_type": "markdown",
   "metadata": {},
   "source": [
    "#### Result: 56ms (73.49%)\n"
   ]
  }
 ],
 "metadata": {
  "kernelspec": {
   "display_name": "Python 2",
   "language": "python",
   "name": "python2"
  },
  "language_info": {
   "codemirror_mode": {
    "name": "ipython",
    "version": 2
   },
   "file_extension": ".py",
   "mimetype": "text/x-python",
   "name": "python",
   "nbconvert_exporter": "python",
   "pygments_lexer": "ipython2",
   "version": "2.7.16"
  }
 },
 "nbformat": 4,
 "nbformat_minor": 2
}
