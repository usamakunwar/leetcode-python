{
 "cells": [
  {
   "cell_type": "markdown",
   "metadata": {},
   "source": [
    "# 1380. Lucky Numbers in a Matrix (Easy)\n",
    "\n"
   ]
  },
  {
   "cell_type": "markdown",
   "metadata": {},
   "source": [
    "<div><p>Given a <code>m * n</code> matrix of <strong>distinct </strong>numbers, return all lucky numbers in the&nbsp;matrix in <strong>any </strong>order.</p>\n",
    "\n",
    "<p>A lucky number is an element of the matrix such that it is the minimum element in its row and maximum in its column.</p>\n",
    "\n",
    "<p>&nbsp;</p>\n",
    "<p><strong>Example 1:</strong></p>\n",
    "\n",
    "<pre><strong>Input:</strong> matrix = [[3,7,8],[9,11,13],[15,16,17]]\n",
    "<strong>Output:</strong> [15]\n",
    "<strong>Explanation:</strong> 15 is the only lucky number since it is the minimum in its row and the maximum in its column\n",
    "</pre>\n",
    "\n",
    "<p><strong>Example 2:</strong></p>\n",
    "\n",
    "<pre><strong>Input:</strong> matrix = [[1,10,4,2],[9,3,8,7],[15,16,17,12]]\n",
    "<strong>Output:</strong> [12]\n",
    "<strong>Explanation:</strong> 12 is the only lucky number since it is the minimum in its row and the maximum in its column.\n",
    "</pre>\n",
    "\n",
    "<p><strong>Example 3:</strong></p>\n",
    "\n",
    "<pre><strong>Input:</strong> matrix = [[7,8],[1,2]]\n",
    "<strong>Output:</strong> [7]\n",
    "</pre>\n",
    "\n",
    "<p>&nbsp;</p>\n",
    "<p><strong>Constraints:</strong></p>\n",
    "\n",
    "<ul>\n",
    "\t<li><code>m == mat.length</code></li>\n",
    "\t<li><code>n == mat[i].length</code></li>\n",
    "\t<li><code>1 &lt;= n, m &lt;= 50</code></li>\n",
    "\t<li><code>1 &lt;=&nbsp;matrix[i][j]&nbsp;&lt;= 10^5</code>.</li>\n",
    "\t<li>All elements in the matrix are distinct.</li>\n",
    "</ul></div>"
   ]
  },
  {
   "cell_type": "markdown",
   "metadata": {},
   "source": [
    "## Option 1\n",
    "<p>\n",
    "Time complexity: O(n) rows*col\n",
    "<br>\n",
    "Space complexity: O(n)"
   ]
  },
  {
   "cell_type": "code",
   "execution_count": null,
   "metadata": {
    "scrolled": false
   },
   "outputs": [],
   "source": [
    "class Solution(object):\n",
    "    def luckyNumbers (self, matrix):\n",
    "        li,lj = len(matrix), len(matrix[0])\n",
    "        #rows[col index of min] cols[row index of max]\n",
    "        rows,cols = [None]*li, [None]*lj\n",
    "        \n",
    "        for i in range(li):\n",
    "            for j in range(lj):\n",
    "                if rows[i] == None or matrix[i][j] < matrix[i][rows[i]]: rows[i] = j\n",
    "                if cols[j] == None or matrix[i][j] > matrix[cols[j]][j]: cols[j] = i\n",
    "        res = []\n",
    "        for i in range(li):\n",
    "            if matrix[i][rows[i]] == matrix[cols[rows[i]]][rows[i]]:\n",
    "                res.append(matrix[i][rows[i]])\n",
    "        return res\n",
    "        \n",
    "        \n",
    "Solution().luckyNumbers([[7,8],[1,2]])"
   ]
  },
  {
   "cell_type": "markdown",
   "metadata": {},
   "source": [
    "#### Result: 224ms (6.28%)\n"
   ]
  },
  {
   "cell_type": "markdown",
   "metadata": {},
   "source": [
    "## Option 2\n",
    "<p>\n",
    "    The numbers are distinct, so its not necessary to map indexes as above. We can maintain a set, and just do a look up\n",
    "    <p>\n",
    "Time complexity: O(n) rows*col\n",
    "<br>\n",
    "Space complexity: O(n)"
   ]
  },
  {
   "cell_type": "code",
   "execution_count": null,
   "metadata": {},
   "outputs": [],
   "source": [
    "class Solution(object):\n",
    "    def luckyNumbers (self, matrix):\n",
    "        #zip needed for matrix with single row\n",
    "        cols = set(map(max, zip(*matrix)))\n",
    "        return [r for r in map(min, matrix) if r in cols]\n",
    "        \n",
    "Solution().luckyNumbers([[76618,42558,65788,20503,29400,54116]])"
   ]
  },
  {
   "cell_type": "markdown",
   "metadata": {},
   "source": [
    "#### Result: 108ms (95.03%)\n"
   ]
  }
 ],
 "metadata": {
  "kernelspec": {
   "display_name": "Python 2",
   "language": "python",
   "name": "python2"
  },
  "language_info": {
   "codemirror_mode": {
    "name": "ipython",
    "version": 2
   },
   "file_extension": ".py",
   "mimetype": "text/x-python",
   "name": "python",
   "nbconvert_exporter": "python",
   "pygments_lexer": "ipython2",
   "version": "2.7.16"
  }
 },
 "nbformat": 4,
 "nbformat_minor": 2
}
