{
 "cells": [
  {
   "cell_type": "markdown",
   "metadata": {},
   "source": [
    "# 119. Pascal's Triangle II (Easy)"
   ]
  },
  {
   "cell_type": "markdown",
   "metadata": {},
   "source": [
    "<div><p>Given a non-negative&nbsp;index <em>k</em>&nbsp;where <em>k</em> ≤&nbsp;33, return the <em>k</em><sup>th</sup>&nbsp;index row of the Pascal's triangle.</p>\n",
    "\n",
    "<p>Note that the row index starts from&nbsp;0.</p>\n",
    "\n",
    "<p><img alt=\"\" src=\"https://upload.wikimedia.org/wikipedia/commons/0/0d/PascalTriangleAnimated2.gif\"><br>\n",
    "<small>In Pascal's triangle, each number is the sum of the two numbers directly above it.</small></p>\n",
    "\n",
    "<p><strong>Example:</strong></p>\n",
    "\n",
    "<pre><strong>Input:</strong> 3\n",
    "<strong>Output:</strong> [1,3,3,1]\n",
    "</pre>\n",
    "\n",
    "<p><strong>Follow up:</strong></p>\n",
    "\n",
    "<p>Could you optimize your algorithm to use only <em>O</em>(<em>k</em>) extra space?</p>\n",
    "</div>"
   ]
  },
  {
   "cell_type": "markdown",
   "metadata": {},
   "source": [
    "## Option 1\n",
    "\n",
    "<p>\n",
    "Time complexity: O(n)\n",
    "<br>\n",
    "Space complexity: O(1)"
   ]
  },
  {
   "cell_type": "code",
   "execution_count": null,
   "metadata": {
    "scrolled": false
   },
   "outputs": [],
   "source": [
    "class Solution(object):\n",
    "    def getRow(self, rowIndex):\n",
    "        \"\"\"\n",
    "        :type rowIndex: int\n",
    "        :rtype: List[int]\n",
    "        \"\"\"\n",
    "        n_factorial = 1\n",
    "        for i in range(1,rowIndex+1):  n_factorial *= i\n",
    "        n_minusk_factorial = n_factorial\n",
    "        k_factorial = 1\n",
    "        res = []\n",
    "        for i in range(rowIndex+1):\n",
    "            res.append(n_factorial/(k_factorial*n_minusk_factorial))\n",
    "            n_minusk_factorial = n_minusk_factorial if rowIndex == i else n_minusk_factorial/(rowIndex-i)\n",
    "            k_factorial *= i+1\n",
    "        return res\n",
    "        "
   ]
  },
  {
   "cell_type": "markdown",
   "metadata": {},
   "source": [
    "#### Result: 16ms (82.11%)"
   ]
  },
  {
   "cell_type": "markdown",
   "metadata": {},
   "source": [
    "## Option 2\n",
    "\n",
    "<p>\n",
    "Time complexity: O(n)\n",
    "<br>\n",
    "Space complexity: O(1)"
   ]
  },
  {
   "cell_type": "code",
   "execution_count": null,
   "metadata": {},
   "outputs": [],
   "source": [
    "class Solution(object):\n",
    "    def getRow(self, rowIndex):\n",
    "        \"\"\"\n",
    "        :type rowIndex: int\n",
    "        :rtype: List[int]\n",
    "        \"\"\"\n",
    "        res = [1]\n",
    "        for i in range(rowIndex):\n",
    "            res = [1] + map(sum, zip(res,res[1:])) + [1]\n",
    "        return res"
   ]
  },
  {
   "cell_type": "markdown",
   "metadata": {},
   "source": [
    "#### Result: 20ms (50.62%)"
   ]
  }
 ],
 "metadata": {
  "kernelspec": {
   "display_name": "Python 2",
   "language": "python",
   "name": "python2"
  },
  "language_info": {
   "codemirror_mode": {
    "name": "ipython",
    "version": 2
   },
   "file_extension": ".py",
   "mimetype": "text/x-python",
   "name": "python",
   "nbconvert_exporter": "python",
   "pygments_lexer": "ipython2",
   "version": "2.7.16"
  }
 },
 "nbformat": 4,
 "nbformat_minor": 2
}
