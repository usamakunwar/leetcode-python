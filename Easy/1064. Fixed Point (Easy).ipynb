{
 "cells": [
  {
   "cell_type": "markdown",
   "metadata": {},
   "source": [
    "# 1064. Fixed Point (Easy)\n"
   ]
  },
  {
   "cell_type": "markdown",
   "metadata": {},
   "source": [
    "<div><p>Given an array <code>A</code> of distinct integers sorted in ascending order, return the smallest index <code>i</code> that satisfies <code>A[i] == i</code>.&nbsp; Return <code>-1</code> if no such <code>i</code> exists.</p>\n",
    "\n",
    "<p>&nbsp;</p>\n",
    "\n",
    "<p><strong>Example 1:</strong></p>\n",
    "\n",
    "<pre><strong>Input: </strong><span id=\"example-input-1-1\">[-10,-5,0,3,7]</span>\n",
    "<strong>Output: </strong><span id=\"example-output-1\">3</span>\n",
    "<strong>Explanation: </strong>\n",
    "For the given array, <code>A[0] = -10, A[1] = -5, A[2] = 0, A[3] = 3</code>, thus the output is 3.\n",
    "</pre>\n",
    "\n",
    "<p><strong>Example 2:</strong></p>\n",
    "\n",
    "<pre><strong>Input: </strong><span id=\"example-input-2-1\">[0,2,5,8,17]</span>\n",
    "<strong>Output: </strong><span id=\"example-output-2\">0</span>\n",
    "<strong>Explanation: </strong>\n",
    "<code>A[0] = 0</code>, thus the output is 0.\n",
    "</pre>\n",
    "\n",
    "<p><strong>Example 3:</strong></p>\n",
    "\n",
    "<pre><strong>Input: </strong><span id=\"example-input-3-1\">[-10,-5,3,4,7,9]</span>\n",
    "<strong>Output: </strong><span id=\"example-output-3\">-1</span>\n",
    "<strong>Explanation: </strong>\n",
    "There is no such <code>i</code> that <code>A[i] = i</code>, thus the output is -1.\n",
    "</pre>\n",
    "\n",
    "<p>&nbsp;</p>\n",
    "\n",
    "<p><strong>Note:</strong></p>\n",
    "\n",
    "<ol>\n",
    "\t<li><code>1 &lt;= A.length &lt; 10^4</code></li>\n",
    "\t<li><code>-10^9 &lt;= A[i] &lt;= 10^9</code></li>\n",
    "</ol>\n",
    "</div>"
   ]
  },
  {
   "cell_type": "markdown",
   "metadata": {},
   "source": [
    "## Option 1\n",
    "\n",
    "Binary Search\n",
    "<p>\n",
    "Time complexity = O(logn)\n",
    "<br>\n",
    "Space complexity = O(1)"
   ]
  },
  {
   "cell_type": "code",
   "execution_count": null,
   "metadata": {
    "scrolled": true
   },
   "outputs": [],
   "source": [
    "class Solution(object):\n",
    "    def fixedPoint(self, A):\n",
    "        l,r = 0,len(A)-1\n",
    "        while l < r:\n",
    "            mid = (l+r)//2\n",
    "            if A[mid] < mid:\n",
    "                l = mid +1\n",
    "            else:\n",
    "                r = mid\n",
    "                \n",
    "        return l if A[l] == l else -1\n",
    "                        \n",
    "Solution().fixedPoint([-5,1,2,3,4,5,6,7,8])"
   ]
  },
  {
   "cell_type": "markdown",
   "metadata": {},
   "source": [
    "#### Result:  44ms (97.89%)"
   ]
  }
 ],
 "metadata": {
  "kernelspec": {
   "display_name": "Python 3",
   "language": "python",
   "name": "python3"
  },
  "language_info": {
   "codemirror_mode": {
    "name": "ipython",
    "version": 3
   },
   "file_extension": ".py",
   "mimetype": "text/x-python",
   "name": "python",
   "nbconvert_exporter": "python",
   "pygments_lexer": "ipython3",
   "version": "3.7.4"
  }
 },
 "nbformat": 4,
 "nbformat_minor": 2
}
