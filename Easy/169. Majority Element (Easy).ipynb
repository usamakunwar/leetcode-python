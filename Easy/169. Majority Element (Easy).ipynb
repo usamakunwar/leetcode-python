{
 "cells": [
  {
   "cell_type": "markdown",
   "metadata": {},
   "source": [
    "# 169. Majority Element (Easy)"
   ]
  },
  {
   "cell_type": "markdown",
   "metadata": {},
   "source": [
    "<div><p>Given an array of size <i>n</i>, find the majority element. The majority element is the element that appears <b>more than</b> <code>⌊ n/2 ⌋</code> times.</p>\n",
    "\n",
    "<p>You may assume that the array is non-empty and the majority element always exist in the array.</p>\n",
    "\n",
    "<p><strong>Example 1:</strong></p>\n",
    "\n",
    "<pre><strong>Input:</strong> [3,2,3]\n",
    "<strong>Output:</strong> 3</pre>\n",
    "\n",
    "<p><strong>Example 2:</strong></p>\n",
    "\n",
    "<pre><strong>Input:</strong> [2,2,1,1,1,2,2]\n",
    "<strong>Output:</strong> 2\n",
    "</pre>\n",
    "</div>"
   ]
  },
  {
   "cell_type": "markdown",
   "metadata": {},
   "source": [
    "## Option 1\n",
    "<p>\n",
    "Time complexity = O(n)\n",
    "<br>\n",
    "Space complexity = O(n)"
   ]
  },
  {
   "cell_type": "code",
   "execution_count": null,
   "metadata": {
    "scrolled": true
   },
   "outputs": [],
   "source": [
    "class Solution:\n",
    "    def majorityElement(self, nums: [int]) -> int:\n",
    "        n_map = {}\n",
    "        half = len(nums)/2\n",
    "        for n in nums:\n",
    "            if n in n_map:\n",
    "                n_map[n] += 1 \n",
    "            else:\n",
    "                n_map[n] = 1\n",
    "            if n_map[n] > half: return n\n",
    "        \n",
    "Solution().majorityElement([3,2,3])\n"
   ]
  },
  {
   "cell_type": "markdown",
   "metadata": {},
   "source": [
    "#### Result:  184ms (71.98%)"
   ]
  },
  {
   "cell_type": "markdown",
   "metadata": {},
   "source": [
    "## Option 2\n",
    "\n",
    "<p>\n",
    "    Boyer-Moore Majority Vote Algorithm\n",
    "<p>\n",
    "Time complexity = O(n)\n",
    "<br>\n",
    "Space complexity = O(1)"
   ]
  },
  {
   "cell_type": "code",
   "execution_count": null,
   "metadata": {},
   "outputs": [],
   "source": [
    "class Solution:\n",
    "    def majorityElement(self, nums):\n",
    "        curr = curr_count = 0\n",
    "        for n in nums:\n",
    "            if curr_count == 0:\n",
    "                curr = n                \n",
    "            curr_count += 1 if n == curr else -1\n",
    "        \n",
    "        return curr        \n",
    "        \n",
    "Solution().majorityElement([2,2,1,1,1,2,2])"
   ]
  },
  {
   "cell_type": "markdown",
   "metadata": {},
   "source": [
    "#### Result:  232ms (22.91%)"
   ]
  }
 ],
 "metadata": {
  "kernelspec": {
   "display_name": "Python 2",
   "language": "python",
   "name": "python2"
  },
  "language_info": {
   "codemirror_mode": {
    "name": "ipython",
    "version": 2
   },
   "file_extension": ".py",
   "mimetype": "text/x-python",
   "name": "python",
   "nbconvert_exporter": "python",
   "pygments_lexer": "ipython2",
   "version": "2.7.16"
  }
 },
 "nbformat": 4,
 "nbformat_minor": 2
}
