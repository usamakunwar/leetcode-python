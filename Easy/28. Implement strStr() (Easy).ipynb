{
 "cells": [
  {
   "cell_type": "markdown",
   "metadata": {},
   "source": [
    "# 28. Implement strStr() (Easy)"
   ]
  },
  {
   "cell_type": "markdown",
   "metadata": {},
   "source": [
    "<div><p>Implement <a href=\"http://www.cplusplus.com/reference/cstring/strstr/\" target=\"_blank\">strStr()</a>.</p>\n",
    "\n",
    "<p>Return the index of the first occurrence of needle in haystack, or <strong>-1</strong> if needle is not part of haystack.</p>\n",
    "\n",
    "<p><strong>Example 1:</strong></p>\n",
    "\n",
    "<pre><strong>Input:</strong> haystack = \"hello\", needle = \"ll\"\n",
    "<strong>Output:</strong> 2\n",
    "</pre>\n",
    "\n",
    "<p><strong>Example 2:</strong></p>\n",
    "\n",
    "<pre><strong>Input:</strong> haystack = \"aaaaa\", needle = \"bba\"\n",
    "<strong>Output:</strong> -1\n",
    "</pre>\n",
    "\n",
    "<p><strong>Clarification:</strong></p>\n",
    "\n",
    "<p>What should we return when <code>needle</code> is an empty string? This is a great question to ask during an interview.</p>\n",
    "\n",
    "<p>For the purpose of this problem, we will return 0 when <code>needle</code> is an empty string. This is consistent to C's&nbsp;<a href=\"http://www.cplusplus.com/reference/cstring/strstr/\" target=\"_blank\">strstr()</a> and Java's&nbsp;<a href=\"https://docs.oracle.com/javase/7/docs/api/java/lang/String.html#indexOf(java.lang.String)\" target=\"_blank\">indexOf()</a>.</p>\n",
    "\n",
    "<p>&nbsp;</p>\n",
    "<p><strong>Constraints:</strong></p>\n",
    "\n",
    "<ul>\n",
    "\t<li><code>haystack</code> and&nbsp;<code>needle</code> consist only of lowercase English characters.</li>\n",
    "</ul>\n",
    "</div>"
   ]
  },
  {
   "cell_type": "markdown",
   "metadata": {},
   "source": [
    "## Option 1\n",
    " <p>\n",
    "<p>\n",
    "Time complexity: O(n^2)\n",
    "<br>\n",
    "Space complexity: O(n^2) "
   ]
  },
  {
   "cell_type": "code",
   "execution_count": null,
   "metadata": {
    "scrolled": false
   },
   "outputs": [],
   "source": [
    "class Solution(object):\n",
    "    def strStr(self, haystack, needle):\n",
    "        if not haystack and not needle: return 0\n",
    "        for i in range(len(haystack)):\n",
    "            if haystack[i:i+len(needle)] == needle: return i             \n",
    "        return -1\n",
    "        \n",
    "Solution().strStr(\"lllmmmnn\", \"llmmm\")\n",
    "        "
   ]
  },
  {
   "cell_type": "markdown",
   "metadata": {},
   "source": [
    "#### Result: 328ms (7.14%)\n"
   ]
  },
  {
   "cell_type": "markdown",
   "metadata": {},
   "source": [
    "## Option 2\n",
    " <p>\n",
    "    Rabin Karp - Rolling hash\n",
    "    <p>\n",
    "    <li>Consider a sliding window size of needle, hashed so we can pop and append\n",
    "<p>\n",
    "    <p>\n",
    "Time complexity: O(n)\n",
    "<br>\n",
    "Space complexity: O(1) "
   ]
  },
  {
   "cell_type": "code",
   "execution_count": null,
   "metadata": {},
   "outputs": [],
   "source": [
    "class RollingHash(object):\n",
    "    def __init__(self, size):\n",
    "        self.hash = 0\n",
    "        self.p = 2**31-1\n",
    "        self.base = 26\n",
    "        #We are still dealing with big numbers here, is needle is really big then it will be a problem\n",
    "        self.pop_size = self.base**size \n",
    "        \n",
    "    def append(self, s):\n",
    "        self.hash = (self.hash*self.base + self.toint(s))%self.p\n",
    "        \n",
    "    def pop(self, s):\n",
    "        self.hash = (self.hash - ((self.toint(s)*(self.pop_size))%self.p))%self.p\n",
    "    \n",
    "    def toint(self,s):\n",
    "        return ord(s)-ord('a')\n",
    "        \n",
    "        \n",
    "class Solution(object):\n",
    "    def strStr(self, haystack, needle):        \n",
    "        n, m = len(needle), len(haystack)\n",
    "        if n == 0: return 0\n",
    "        if n > m : return -1\n",
    "        \n",
    "        rh_needle = RollingHash(n)\n",
    "        rh_haystack = RollingHash(n)\n",
    "        \n",
    "        for i in range(n):\n",
    "            rh_needle.append(needle[i])\n",
    "            rh_haystack.append(haystack[i])\n",
    "            \n",
    "        if rh_haystack.hash == rh_needle.hash:\n",
    "            if haystack[:n] == needle: return i-n+1\n",
    "        \n",
    "        for i in range(n,m):\n",
    "            rh_haystack.append(haystack[i])\n",
    "            rh_haystack.pop(haystack[i-n])\n",
    "            if rh_haystack.hash == rh_needle.hash:\n",
    "                if haystack[i-n+1:i+1] == needle: return i-n+1\n",
    "        \n",
    "        return -1"
   ]
  },
  {
   "cell_type": "markdown",
   "metadata": {},
   "source": [
    "#### Result: 64ms (15.06%)\n"
   ]
  }
 ],
 "metadata": {
  "kernelspec": {
   "display_name": "Python 2",
   "language": "python",
   "name": "python2"
  },
  "language_info": {
   "codemirror_mode": {
    "name": "ipython",
    "version": 2
   },
   "file_extension": ".py",
   "mimetype": "text/x-python",
   "name": "python",
   "nbconvert_exporter": "python",
   "pygments_lexer": "ipython2",
   "version": "2.7.16"
  }
 },
 "nbformat": 4,
 "nbformat_minor": 2
}
