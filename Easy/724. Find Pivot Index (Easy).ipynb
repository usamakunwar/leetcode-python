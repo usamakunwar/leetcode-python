{
 "cells": [
  {
   "cell_type": "markdown",
   "metadata": {},
   "source": [
    "# 724. Find Pivot Index (Easy)"
   ]
  },
  {
   "cell_type": "markdown",
   "metadata": {},
   "source": [
    "<div><p>Given an array of integers <code>nums</code>, write a method that returns the \"pivot\" index of this array.</p>\n",
    "\n",
    "<p>We define the pivot index as the index where the sum of the numbers to the left of the index is equal to the sum of the numbers to the right of the index.</p>\n",
    "\n",
    "<p>If no such index exists, we should return -1. If there are multiple pivot indexes, you should return the left-most pivot index.</p>\n",
    "\n",
    "<p><b>Example 1:</b></p>\n",
    "\n",
    "<pre><b>Input:</b> \n",
    "nums = [1, 7, 3, 6, 5, 6]\n",
    "<b>Output:</b> 3\n",
    "<b>Explanation:</b> \n",
    "The sum of the numbers to the left of index 3 (nums[3] = 6) is equal to the sum of numbers to the right of index 3.\n",
    "Also, 3 is the first index where this occurs.\n",
    "</pre>\n",
    "\n",
    "<p>&nbsp;</p>\n",
    "\n",
    "<p><b>Example 2:</b></p>\n",
    "\n",
    "<pre><b>Input:</b> \n",
    "nums = [1, 2, 3]\n",
    "<b>Output:</b> -1\n",
    "<b>Explanation:</b> \n",
    "There is no index that satisfies the conditions in the problem statement.\n",
    "</pre>\n",
    "\n",
    "<p>&nbsp;</p>\n",
    "\n",
    "<p><b>Note:</b></p>\n",
    "\n",
    "<ul>\n",
    "\t<li>The length of <code>nums</code> will be in the range <code>[0, 10000]</code>.</li>\n",
    "\t<li>Each element <code>nums[i]</code> will be an integer in the range <code>[-1000, 1000]</code>.</li>\n",
    "</ul>\n",
    "\n",
    "<p>&nbsp;</p>\n",
    "</div>"
   ]
  },
  {
   "cell_type": "markdown",
   "metadata": {},
   "source": [
    "## Option 1\n",
    "\n",
    "  <p>\n",
    "Time complexity: O(n)\n",
    "<br>\n",
    "Space complexity: O(1)"
   ]
  },
  {
   "cell_type": "code",
   "execution_count": null,
   "metadata": {
    "scrolled": false
   },
   "outputs": [],
   "source": [
    "class Solution(object):\n",
    "    def pivotIndex(self, nums):\n",
    "        if not nums: return -1\n",
    "        \n",
    "        left,right = 0, sum(nums)\n",
    "        for i,v in enumerate(nums):\n",
    "            right -= v\n",
    "            if left == right: return i\n",
    "            left += v\n",
    "        return -1\n"
   ]
  },
  {
   "cell_type": "markdown",
   "metadata": {},
   "source": [
    "#### Result: 132ms (70.98%)"
   ]
  }
 ],
 "metadata": {
  "kernelspec": {
   "display_name": "Python 2",
   "language": "python",
   "name": "python2"
  },
  "language_info": {
   "codemirror_mode": {
    "name": "ipython",
    "version": 2
   },
   "file_extension": ".py",
   "mimetype": "text/x-python",
   "name": "python",
   "nbconvert_exporter": "python",
   "pygments_lexer": "ipython2",
   "version": "2.7.16"
  }
 },
 "nbformat": 4,
 "nbformat_minor": 2
}
