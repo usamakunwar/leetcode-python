{
 "cells": [
  {
   "cell_type": "markdown",
   "metadata": {},
   "source": [
    "# 844. Backspace String Compare (Easy)\n",
    "\n"
   ]
  },
  {
   "cell_type": "markdown",
   "metadata": {},
   "source": [
    "<div>\n",
    "<p><strong>Example 1:</strong></p>\n",
    "\n",
    "<pre><strong>Input: </strong>S = <span id=\"example-input-1-1\">\"ab#c\"</span>, T = <span id=\"example-input-1-2\">\"ad#c\"</span>\n",
    "<strong>Output: </strong><span id=\"example-output-1\">true\n",
    "</span><span><strong>Explanation</strong>: Both S and T become \"ac\".</span>\n",
    "</pre>\n",
    "\n",
    "<div>\n",
    "<p><strong>Example 2:</strong></p>\n",
    "\n",
    "<pre><strong>Input: </strong>S = <span id=\"example-input-2-1\">\"ab##\"</span>, T = <span id=\"example-input-2-2\">\"c#d#\"</span>\n",
    "<strong>Output: </strong><span id=\"example-output-2\">true\n",
    "</span><span><strong>Explanation</strong>: Both S and T become \"\".</span>\n",
    "</pre>\n",
    "\n",
    "<div>\n",
    "<p><strong>Example 3:</strong></p>\n",
    "\n",
    "<pre><strong>Input: </strong>S = <span id=\"example-input-3-1\">\"a##c\"</span>, T = <span id=\"example-input-3-2\">\"#a#c\"</span>\n",
    "<strong>Output: </strong><span id=\"example-output-3\">true\n",
    "</span><span><strong>Explanation</strong>: Both S and T become \"c\".</span>\n",
    "</pre>\n",
    "\n",
    "<div>\n",
    "<p><strong>Example 4:</strong></p>\n",
    "\n",
    "<pre><strong>Input: </strong>S = <span id=\"example-input-4-1\">\"a#c\"</span>, T = <span id=\"example-input-4-2\">\"b\"</span>\n",
    "<strong>Output: </strong><span id=\"example-output-4\">false\n",
    "</span><span><strong>Explanation</strong>: S becomes \"c\" while T becomes \"b\".</span>\n",
    "</pre>\n",
    "\n",
    "<p><span><strong>Note</strong>:</span></p>\n",
    "\n",
    "<ol>\n",
    "\t<li><code><span>1 &lt;= S.length &lt;= 200</span></code></li>\n",
    "\t<li><code><span>1 &lt;= T.length &lt;= 200</span></code></li>\n",
    "\t<li><span><code>S</code>&nbsp;and <code>T</code> only contain&nbsp;lowercase letters and <code>'#'</code> characters.</span></li>\n",
    "</ol>\n",
    "\n",
    "<p><strong>Follow up:</strong></p>\n",
    "\n",
    "<ul>\n",
    "\t<li>Can you solve it in <code>O(N)</code> time and <code>O(1)</code> space?</li>\n",
    "</ul>\n",
    "</div>\n",
    "</div>\n",
    "</div>\n",
    "</div>"
   ]
  },
  {
   "cell_type": "markdown",
   "metadata": {},
   "source": [
    "## Option 1\n",
    "\n",
    "Time complexity: O(n)\n",
    "<br>\n",
    "Space complexity: O(n)\n"
   ]
  },
  {
   "cell_type": "code",
   "execution_count": null,
   "metadata": {
    "scrolled": false
   },
   "outputs": [],
   "source": [
    "class Solution(object):\n",
    "    def backspaceCompare(self, S, T):\n",
    "        ls,lt = len(S),len(T)\n",
    "        s,t = [],[]\n",
    "        for i in range(max(ls,lt)):\n",
    "            if i < ls:\n",
    "                if S[i] == '#': \n",
    "                    if s: s.pop()\n",
    "                else: s.append(S[i])\n",
    "            if i < lt:\n",
    "                if T[i] == '#': \n",
    "                    if t: t.pop()\n",
    "                else: t.append(T[i]) \n",
    "        return s == t"
   ]
  },
  {
   "cell_type": "markdown",
   "metadata": {},
   "source": [
    "#### Result: 16ms (84.38%)"
   ]
  }
 ],
 "metadata": {
  "kernelspec": {
   "display_name": "Python 2",
   "language": "python",
   "name": "python2"
  },
  "language_info": {
   "codemirror_mode": {
    "name": "ipython",
    "version": 2
   },
   "file_extension": ".py",
   "mimetype": "text/x-python",
   "name": "python",
   "nbconvert_exporter": "python",
   "pygments_lexer": "ipython2",
   "version": "2.7.16"
  }
 },
 "nbformat": 4,
 "nbformat_minor": 2
}
