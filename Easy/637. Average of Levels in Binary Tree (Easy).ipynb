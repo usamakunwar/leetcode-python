{
 "cells": [
  {
   "cell_type": "markdown",
   "metadata": {},
   "source": [
    "# 637. Average of Levels in Binary Tree (Easy)"
   ]
  },
  {
   "cell_type": "markdown",
   "metadata": {},
   "source": [
    "<div>Given a non-empty binary tree, return the average value of the nodes on each level in the form of an array.\n",
    "\n",
    "<p><b>Example 1:</b><br>\n",
    "</p><pre><b>Input:</b>\n",
    "    3\n",
    "   / \\\n",
    "  9  20\n",
    "    /  \\\n",
    "   15   7\n",
    "<b>Output:</b> [3, 14.5, 11]\n",
    "<b>Explanation:</b>\n",
    "The average value of nodes on level 0 is 3,  on level 1 is 14.5, and on level 2 is 11. Hence return [3, 14.5, 11].\n",
    "</pre>\n",
    "<p></p>\n",
    "\n",
    "<p><b>Note:</b><br>\n",
    "</p><ol>\n",
    "<li>The range of node's value is in the range of 32-bit signed integer.</li>\n",
    "</ol>\n",
    "<p></p></div>"
   ]
  },
  {
   "cell_type": "markdown",
   "metadata": {},
   "source": [
    "## Option 1\n",
    "\n",
    "BFS\n",
    "<p>\n",
    "Time complexity = O(n)\n",
    "<br>\n",
    "Space complexity = O(n)"
   ]
  },
  {
   "cell_type": "code",
   "execution_count": null,
   "metadata": {
    "scrolled": false
   },
   "outputs": [],
   "source": [
    "# Definition for a binary tree node.\n",
    "# class TreeNode:\n",
    "#     def __init__(self, x):\n",
    "#         self.val = x\n",
    "#         self.left = None\n",
    "#         self.right = None\n",
    "\n",
    "class Solution:\n",
    "    def averageOfLevels(self, root: TreeNode) -> List[float]:\n",
    "        if not root: return []\n",
    "        queue = collections.deque()\n",
    "        queue.append((root,0))\n",
    "        last_level = None\n",
    "        counter = 0\n",
    "        res = []\n",
    "        while queue:\n",
    "            node,level = queue.popleft()\n",
    "            if level == last_level: \n",
    "                counter += 1\n",
    "                res[level] = res[level] + node.val\n",
    "            else:\n",
    "                if last_level:\n",
    "                    res[last_level] = res[last_level]/counter\n",
    "                counter = 1\n",
    "                last_level = level\n",
    "                res.append(node.val)\n",
    "            if node.left: queue.append((node.left,level+1))\n",
    "            if node.right: queue.append((node.right,level+1))\n",
    "        \n",
    "        res[-1] = res[-1]/counter\n",
    "        return res"
   ]
  },
  {
   "cell_type": "markdown",
   "metadata": {},
   "source": [
    "#### Result:  60ms (38.57%)"
   ]
  }
 ],
 "metadata": {
  "kernelspec": {
   "display_name": "Python 3",
   "language": "python",
   "name": "python3"
  },
  "language_info": {
   "codemirror_mode": {
    "name": "ipython",
    "version": 3
   },
   "file_extension": ".py",
   "mimetype": "text/x-python",
   "name": "python",
   "nbconvert_exporter": "python",
   "pygments_lexer": "ipython3",
   "version": "3.7.4"
  }
 },
 "nbformat": 4,
 "nbformat_minor": 2
}
