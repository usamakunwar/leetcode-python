{
 "cells": [
  {
   "cell_type": "markdown",
   "metadata": {},
   "source": [
    "# 482. License Key Formatting (Easy)"
   ]
  },
  {
   "cell_type": "markdown",
   "metadata": {},
   "source": [
    "<div><p>You are given a license key represented as a string S which consists only alphanumeric character and dashes. The string is separated into N+1 groups by N dashes.</p>\n",
    "\n",
    "<p>Given a number K, we would want to reformat the strings such that each group contains <i>exactly</i> K characters, except for the first group which could be shorter than K, but still must contain at least one character. Furthermore, there must be a dash inserted between two groups and all lowercase letters should be converted to uppercase.</p>\n",
    "\n",
    "<p>Given a non-empty string S and a number K, format the string according to the rules described above.</p>\n",
    "\n",
    "<p><b>Example 1:</b><br>\n",
    "</p><pre><b>Input:</b> S = \"5F3Z-2e-9-w\", K = 4\n",
    "\n",
    "<b>Output:</b> \"5F3Z-2E9W\"\n",
    "\n",
    "<b>Explanation:</b> The string S has been split into two parts, each part has 4 characters.\n",
    "Note that the two extra dashes are not needed and can be removed.\n",
    "</pre>\n",
    "<p></p>\n",
    "\n",
    "\n",
    "<p><b>Example 2:</b><br>\n",
    "</p><pre><b>Input:</b> S = \"2-5g-3-J\", K = 2\n",
    "\n",
    "<b>Output:</b> \"2-5G-3J\"\n",
    "\n",
    "<b>Explanation:</b> The string S has been split into three parts, each part has 2 characters except the first part as it could be shorter as mentioned above.\n",
    "</pre>\n",
    "<p></p>\n",
    "\n",
    "<p><b>Note:</b><br>\n",
    "</p><ol>\n",
    "<li>The length of string S will not exceed 12,000, and K is a positive integer.</li>\n",
    "<li>String S consists only of alphanumerical characters (a-z and/or A-Z and/or 0-9) and dashes(-).</li>\n",
    "<li>String S is non-empty.</li>\n",
    "</ol>\n",
    "<p></p></div>"
   ]
  },
  {
   "cell_type": "markdown",
   "metadata": {},
   "source": [
    "## Option 1\n",
    " \n",
    " <p>\n",
    "\n",
    "Time complexity: O(n)\n",
    "<br>\n",
    "Space complexity: O(n) "
   ]
  },
  {
   "cell_type": "code",
   "execution_count": null,
   "metadata": {
    "scrolled": true
   },
   "outputs": [],
   "source": [
    "class Solution(object):\n",
    "    def licenseKeyFormatting(self, S, K):\n",
    "        res, curr = [], ''\n",
    "        for i in range(len(S)-1,-1,-1):\n",
    "            if S[i] == '-': continue\n",
    "            curr = S[i].upper() + curr\n",
    "            if len(curr) == K:\n",
    "                res.append(curr)\n",
    "                curr = ''\n",
    "        if curr: res.append(curr)\n",
    "        return '-'.join(res[::-1])\n",
    "        \n",
    "        \n",
    "        \n",
    "Solution().licenseKeyFormatting(\"5F3Z-2e-9-w\", 4)\n",
    "        "
   ]
  },
  {
   "cell_type": "markdown",
   "metadata": {},
   "source": [
    "#### Result: 124ms (64.84%)\n"
   ]
  }
 ],
 "metadata": {
  "kernelspec": {
   "display_name": "Python 2",
   "language": "python",
   "name": "python2"
  },
  "language_info": {
   "codemirror_mode": {
    "name": "ipython",
    "version": 2
   },
   "file_extension": ".py",
   "mimetype": "text/x-python",
   "name": "python",
   "nbconvert_exporter": "python",
   "pygments_lexer": "ipython2",
   "version": "2.7.16"
  }
 },
 "nbformat": 4,
 "nbformat_minor": 2
}
