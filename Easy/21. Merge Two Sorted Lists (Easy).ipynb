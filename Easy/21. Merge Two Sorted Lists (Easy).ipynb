{
 "cells": [
  {
   "cell_type": "markdown",
   "metadata": {},
   "source": [
    "# 21. Merge Two Sorted Lists (Easy)\n"
   ]
  },
  {
   "cell_type": "markdown",
   "metadata": {},
   "source": [
    "<div><p>Merge two sorted linked lists and return it as a new list. The new list should be made by splicing together the nodes of the first two lists.</p>\n",
    "\n",
    "<p><b>Example:</b>\n",
    "</p><pre><b>Input:</b> 1-&gt;2-&gt;4, 1-&gt;3-&gt;4\n",
    "<b>Output:</b> 1-&gt;1-&gt;2-&gt;3-&gt;4-&gt;4\n",
    "</pre>\n",
    "<p></p></div>"
   ]
  },
  {
   "cell_type": "markdown",
   "metadata": {},
   "source": [
    "## Option 1\n",
    "\n",
    "Build a linked list with a condition\n",
    "<br>\n",
    "Time complexity O(i+j) Lenght of both lists, as we are looping one node at a time\n",
    "<br>\n",
    "Space complexity O(1)"
   ]
  },
  {
   "cell_type": "code",
   "execution_count": 1,
   "metadata": {
    "scrolled": false
   },
   "outputs": [],
   "source": [
    "#Definition for singly-linked list.\n",
    "class ListNode:\n",
    "    def __init__(self, x):\n",
    "        self.val = x\n",
    "        self.next = None\n",
    "\n",
    "class Solution:\n",
    "    def mergeTwoLists(self, l1: ListNode, l2: ListNode) -> ListNode:\n",
    "        root_node = ListNode(-1)\n",
    "        last = root_node\n",
    "        \n",
    "        while l1 and l2:\n",
    "            if l1.val <= l2.val:\n",
    "                last.next = l1\n",
    "                l1 = l1.next\n",
    "            else:\n",
    "                last.next = l2\n",
    "                l2 = l2.next\n",
    "                \n",
    "            last = last.next\n",
    "        \n",
    "        #If there are any remaining (l1 and l2 not the same lenght) then just add to the end\n",
    "        if l1:\n",
    "            last.next = l1\n",
    "        elif l2:\n",
    "            last.next = l2\n",
    "        \n",
    "        return root_node.next    "
   ]
  },
  {
   "cell_type": "markdown",
   "metadata": {},
   "source": [
    "#### Result:  Accepted\n",
    "#### Runtime: 36ms (81.76%)"
   ]
  }
 ],
 "metadata": {
  "kernelspec": {
   "display_name": "Python 3",
   "language": "python",
   "name": "python3"
  },
  "language_info": {
   "codemirror_mode": {
    "name": "ipython",
    "version": 3
   },
   "file_extension": ".py",
   "mimetype": "text/x-python",
   "name": "python",
   "nbconvert_exporter": "python",
   "pygments_lexer": "ipython3",
   "version": "3.7.4"
  }
 },
 "nbformat": 4,
 "nbformat_minor": 2
}
