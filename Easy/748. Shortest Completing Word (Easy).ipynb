{
 "cells": [
  {
   "cell_type": "markdown",
   "metadata": {},
   "source": [
    "# 748. Shortest Completing Word (Easy)"
   ]
  },
  {
   "cell_type": "markdown",
   "metadata": {},
   "source": [
    "<div><p>\n",
    "Find the minimum length word from a given dictionary <code>words</code>, which has all the letters from the string <code>licensePlate</code>.  Such a word is said to <i>complete</i> the given string <code>licensePlate</code>\n",
    "</p><p>\n",
    "Here, for letters we ignore case.  For example, <code>\"P\"</code> on the <code>licensePlate</code> still matches <code>\"p\"</code> on the word.\n",
    "</p><p>\n",
    "It is guaranteed an answer exists.  If there are multiple answers, return the one that occurs first in the array.\n",
    "</p><p>\n",
    "The license plate might have the same letter occurring multiple times.  For example, given a <code>licensePlate</code> of <code>\"PP\"</code>, the word <code>\"pair\"</code> does not complete the <code>licensePlate</code>, but the word <code>\"supper\"</code> does.\n",
    "</p><p>\n",
    "\n",
    "</p><p><b>Example 1:</b><br>\n",
    "</p><pre><b>Input:</b> licensePlate = \"1s3 PSt\", words = [\"step\", \"steps\", \"stripe\", \"stepple\"]\n",
    "<b>Output:</b> \"steps\"\n",
    "<b>Explanation:</b> The smallest length word that contains the letters \"S\", \"P\", \"S\", and \"T\".\n",
    "Note that the answer is not \"step\", because the letter \"s\" must occur in the word twice.\n",
    "Also note that we ignored case for the purposes of comparing whether a letter exists in the word.\n",
    "</pre>\n",
    "<p></p>\n",
    "\n",
    "<p><b>Example 2:</b><br>\n",
    "</p><pre><b>Input:</b> licensePlate = \"1s3 456\", words = [\"looks\", \"pest\", \"stew\", \"show\"]\n",
    "<b>Output:</b> \"pest\"\n",
    "<b>Explanation:</b> There are 3 smallest length words that contains the letters \"s\".\n",
    "We return the one that occurred first.\n",
    "</pre>\n",
    "<p></p>\n",
    "\n",
    "<p><b>Note:</b><br>\n",
    "</p><ol>\n",
    "<li><code>licensePlate</code> will be a string with length in range <code>[1, 7]</code>.</li>\n",
    "<li><code>licensePlate</code> will contain digits, spaces, or letters (uppercase or lowercase).</li>\n",
    "<li><code>words</code> will have a length in the range <code>[10, 1000]</code>.</li>\n",
    "<li>Every <code>words[i]</code> will consist of lowercase letters, and have length in range <code>[1, 15]</code>.</li>\n",
    "</ol>\n",
    "<p></p></div>"
   ]
  },
  {
   "cell_type": "markdown",
   "metadata": {},
   "source": [
    "## Option 1\n",
    " \n",
    " <p>\n",
    "\n",
    "<p>\n",
    "Time complexity: O(n^2)\n",
    "<br>\n",
    "Space complexity: O(n^2) "
   ]
  },
  {
   "cell_type": "code",
   "execution_count": null,
   "metadata": {
    "scrolled": true
   },
   "outputs": [],
   "source": [
    "import collections\n",
    "class Solution(object):\n",
    "    def shortestCompletingWord(self, licensePlate, words):\n",
    "        count = collections.Counter()\n",
    "        for c in licensePlate:\n",
    "            if c == ' ' or c.isdigit(): continue\n",
    "            count[c.lower()] += 1\n",
    "        \n",
    "        words.sort(key=lambda x:len(x))\n",
    "        \n",
    "        for w in words:\n",
    "            c = collections.Counter(w)\n",
    "            if all(c[ch] >= count[ch] for ch in count): return w\n",
    "        \n",
    "        \n",
    "Solution().shortestCompletingWord(\"1s3 PSt\", [\"step\", \"steps\", \"stripe\", \"stepple\"])\n",
    "        "
   ]
  },
  {
   "cell_type": "markdown",
   "metadata": {},
   "source": [
    "#### Result: 108ms (41.18%)\n"
   ]
  }
 ],
 "metadata": {
  "kernelspec": {
   "display_name": "Python 2",
   "language": "python",
   "name": "python2"
  },
  "language_info": {
   "codemirror_mode": {
    "name": "ipython",
    "version": 2
   },
   "file_extension": ".py",
   "mimetype": "text/x-python",
   "name": "python",
   "nbconvert_exporter": "python",
   "pygments_lexer": "ipython2",
   "version": "2.7.16"
  }
 },
 "nbformat": 4,
 "nbformat_minor": 2
}
