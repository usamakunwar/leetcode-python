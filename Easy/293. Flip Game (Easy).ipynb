{
 "cells": [
  {
   "cell_type": "markdown",
   "metadata": {},
   "source": [
    "# 293. Flip Game (Easy)"
   ]
  },
  {
   "cell_type": "markdown",
   "metadata": {},
   "source": [
    "<div><p>You are playing the following Flip Game with your friend: Given a string that contains only these two characters: <code>+</code> and <code>-</code>, you and your friend take turns to flip two <b>consecutive</b> <code>\"++\"</code> into <code>\"--\"</code>. The game ends when a person can no longer make a move and therefore the other person will be the winner.</p>\n",
    "\n",
    "<p>Write a function to compute all possible states of the string after one valid move.</p>\n",
    "\n",
    "<p><strong>Example:</strong></p>\n",
    "\n",
    "<pre><strong>Input:</strong> <code>s = \"++++\"</code>\n",
    "<strong>Output:</strong> \n",
    "[\n",
    "  \"--++\",\n",
    "  \"+--+\",\n",
    "  \"++--\"\n",
    "]\n",
    "</pre>\n",
    "\n",
    "<p><strong>Note: </strong>If there is no valid move, return an empty list <code>[]</code>.</p>\n",
    "</div>"
   ]
  },
  {
   "cell_type": "markdown",
   "metadata": {},
   "source": [
    "## Option 1\n",
    " \n",
    " <p>\n",
    "\n",
    "<p>\n",
    "Time complexity: O(n^2)\n",
    "<br>\n",
    "Space complexity: O(n^2) "
   ]
  },
  {
   "cell_type": "code",
   "execution_count": null,
   "metadata": {
    "scrolled": true
   },
   "outputs": [],
   "source": [
    "class Solution(object):\n",
    "    def generatePossibleNextMoves(self, s):\n",
    "        res = []\n",
    "        for i in range(len(s)):\n",
    "            if i > 0 and s[i] == '+' and s[i-1] == '+':\n",
    "                res.append(s[:i-1]+'--'+s[i+1:])\n",
    "        return res\n",
    "        \n",
    "        \n",
    "Solution().generatePossibleNextMoves(\"++++\")\n",
    "        "
   ]
  },
  {
   "cell_type": "markdown",
   "metadata": {},
   "source": [
    "#### Result: 24ms (42.03%)\n"
   ]
  }
 ],
 "metadata": {
  "kernelspec": {
   "display_name": "Python 2",
   "language": "python",
   "name": "python2"
  },
  "language_info": {
   "codemirror_mode": {
    "name": "ipython",
    "version": 2
   },
   "file_extension": ".py",
   "mimetype": "text/x-python",
   "name": "python",
   "nbconvert_exporter": "python",
   "pygments_lexer": "ipython2",
   "version": "2.7.16"
  }
 },
 "nbformat": 4,
 "nbformat_minor": 2
}
