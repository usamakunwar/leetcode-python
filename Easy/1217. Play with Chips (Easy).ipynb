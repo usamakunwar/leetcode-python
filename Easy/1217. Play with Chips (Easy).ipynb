{
 "cells": [
  {
   "cell_type": "markdown",
   "metadata": {},
   "source": [
    "# 1217. Play with Chips (Easy)\n",
    "\n"
   ]
  },
  {
   "cell_type": "markdown",
   "metadata": {},
   "source": [
    "<div><p>There are some chips, and the i-th chip is at position <code>chips[i]</code>.</p>\n",
    "\n",
    "<p>You can perform any of the two following types of moves <strong>any number of times</strong> (possibly&nbsp;zero) <strong>on any chip</strong>:</p>\n",
    "\n",
    "<ul>\n",
    "\t<li>Move the <code>i</code>-th chip&nbsp;by&nbsp;2 units to the left or to the right with a cost of <strong>0</strong>.</li>\n",
    "\t<li>Move&nbsp;the <code>i</code>-th chip&nbsp;by&nbsp;1 unit to the left or to the right with a cost of&nbsp;<strong>1</strong>.</li>\n",
    "</ul>\n",
    "\n",
    "<p>There can be two or more chips&nbsp;at the same position initially.</p>\n",
    "\n",
    "<p>Return the&nbsp;minimum cost needed to move all the chips to the same position (any position).</p>\n",
    "\n",
    "<p>&nbsp;</p>\n",
    "<p><strong>Example 1:</strong></p>\n",
    "\n",
    "<pre><strong>Input:</strong> chips = [1,2,3]\n",
    "<strong>Output:</strong> 1\n",
    "<strong>Explanation:</strong> Second chip will be moved to positon 3 with cost 1. First chip will be moved to position 3 with cost 0. Total cost is 1.\n",
    "</pre>\n",
    "\n",
    "<p><strong>Example 2:</strong></p>\n",
    "\n",
    "<pre><strong>Input:</strong> chips = [2,2,2,3,3]\n",
    "<strong>Output:</strong> 2\n",
    "<strong>Explanation:</strong> Both fourth and fifth chip will be moved to position two with cost 1. Total minimum cost will be 2.\n",
    "</pre>\n",
    "\n",
    "<p>&nbsp;</p>\n",
    "<p><strong>Constraints:</strong></p>\n",
    "\n",
    "<ul>\n",
    "\t<li><code>1 &lt;= chips.length &lt;= 100</code></li>\n",
    "\t<li><code>1 &lt;= chips[i] &lt;= 10^9</code></li>\n",
    "</ul>\n",
    "</div>"
   ]
  },
  {
   "cell_type": "markdown",
   "metadata": {},
   "source": [
    "## Option 1\n",
    " <p> \n",
    "    <p>\n",
    "        <li>So even to even and odd to odd are free, so we need to simply find the minimum of odd to even or even to odd\n",
    "        <p>\n",
    "            <p>\n",
    "Time complexity: O(n)\n",
    "    <br>\n",
    "Space complexity: O(1)\n"
   ]
  },
  {
   "cell_type": "code",
   "execution_count": null,
   "metadata": {
    "scrolled": false
   },
   "outputs": [],
   "source": [
    "class Solution(object):\n",
    "    def minCostToMoveChips(self, chips):\n",
    "        count = [0,0] #Even Odd count\n",
    "        for c in chips:\n",
    "            count[c%2] += 1\n",
    "        return min(count)\n",
    "        \n",
    "        \n",
    "Solution().minCostToMoveChips([1,2,3])   \n",
    "        "
   ]
  },
  {
   "cell_type": "markdown",
   "metadata": {},
   "source": [
    "#### Result: 20ms (77.62%)"
   ]
  }
 ],
 "metadata": {
  "kernelspec": {
   "display_name": "Python 2",
   "language": "python",
   "name": "python2"
  },
  "language_info": {
   "codemirror_mode": {
    "name": "ipython",
    "version": 2
   },
   "file_extension": ".py",
   "mimetype": "text/x-python",
   "name": "python",
   "nbconvert_exporter": "python",
   "pygments_lexer": "ipython2",
   "version": "2.7.16"
  }
 },
 "nbformat": 4,
 "nbformat_minor": 2
}
