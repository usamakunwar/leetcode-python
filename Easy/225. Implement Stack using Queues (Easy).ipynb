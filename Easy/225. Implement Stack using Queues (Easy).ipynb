{
 "cells": [
  {
   "cell_type": "markdown",
   "metadata": {},
   "source": [
    "# 225. Implement Stack using Queues (Easy)"
   ]
  },
  {
   "cell_type": "markdown",
   "metadata": {},
   "source": [
    "<div><p>Implement the following operations of a stack using queues.</p>\n",
    "\n",
    "<ul>\n",
    "\t<li>push(x) -- Push element x onto stack.</li>\n",
    "\t<li>pop() -- Removes the element on top of the stack.</li>\n",
    "\t<li>top() -- Get the top element.</li>\n",
    "\t<li>empty() -- Return whether the stack is empty.</li>\n",
    "</ul>\n",
    "\n",
    "<p><b>Example:</b></p>\n",
    "\n",
    "<pre>MyStack stack = new MyStack();\n",
    "\n",
    "stack.push(1);\n",
    "stack.push(2);  \n",
    "stack.top();   // returns 2\n",
    "stack.pop();   // returns 2\n",
    "stack.empty(); // returns false</pre>\n",
    "\n",
    "<p><b>Notes:</b></p>\n",
    "\n",
    "<ul>\n",
    "\t<li>You must use <i>only</i> standard operations of a queue -- which means only <code>push to back</code>, <code>peek/pop from front</code>, <code>size</code>, and <code>is empty</code> operations are valid.</li>\n",
    "\t<li>Depending on your language, queue may not be supported natively. You may simulate a queue by using a list or deque (double-ended queue), as long as you use only standard operations of a queue.</li>\n",
    "\t<li>You may assume that all operations are valid (for example, no pop or top operations will be called on an empty stack).</li>\n",
    "</ul>\n",
    "</div>"
   ]
  },
  {
   "cell_type": "markdown",
   "metadata": {},
   "source": [
    "## Option 1\n",
    " \n",
    " <p>\n",
    "\n",
    "Time complexity: O(1)\n",
    "<br>\n",
    "Space complexity: O(n) "
   ]
  },
  {
   "cell_type": "code",
   "execution_count": null,
   "metadata": {
    "scrolled": true
   },
   "outputs": [],
   "source": [
    "class MyStack(object):\n",
    "\n",
    "    def __init__(self):\n",
    "        self.q = collections.deque()\n",
    "\n",
    "    def push(self, x):\n",
    "        self.q.appendleft(x)        \n",
    "\n",
    "    def pop(self):\n",
    "        return self.q.popleft()\n",
    "\n",
    "    def top(self):\n",
    "        return self.q[0]\n",
    "\n",
    "    def empty(self):\n",
    "        return not len(self.q) \n"
   ]
  },
  {
   "cell_type": "markdown",
   "metadata": {},
   "source": [
    "#### Result: 12ms (96.05%)\n"
   ]
  }
 ],
 "metadata": {
  "kernelspec": {
   "display_name": "Python 2",
   "language": "python",
   "name": "python2"
  },
  "language_info": {
   "codemirror_mode": {
    "name": "ipython",
    "version": 2
   },
   "file_extension": ".py",
   "mimetype": "text/x-python",
   "name": "python",
   "nbconvert_exporter": "python",
   "pygments_lexer": "ipython2",
   "version": "2.7.16"
  }
 },
 "nbformat": 4,
 "nbformat_minor": 2
}
