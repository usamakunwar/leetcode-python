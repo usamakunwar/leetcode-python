{
 "cells": [
  {
   "cell_type": "markdown",
   "metadata": {},
   "source": [
    "# 1427. Perform String Shifts (Easy)\n"
   ]
  },
  {
   "cell_type": "markdown",
   "metadata": {},
   "source": [
    "<div><p>You are given a string <code>s</code>&nbsp;containing lowercase English letters, and a matrix&nbsp;<code>shift</code>, where&nbsp;<code>shift[i] = [direction, amount]</code>:</p>\n",
    "\n",
    "<ul>\n",
    "\t<li><code>direction</code>&nbsp;can be <code>0</code>&nbsp;(for left shift) or <code>1</code>&nbsp;(for right shift).&nbsp;</li>\n",
    "\t<li><code>amount</code>&nbsp;is the amount by which string&nbsp;<code>s</code>&nbsp;is to be shifted.</li>\n",
    "\t<li>A left shift by 1 means remove the first character of <code>s</code> and append it to the end.</li>\n",
    "\t<li>Similarly, a right shift by 1 means remove the last character of <code>s</code> and add it to the beginning.</li>\n",
    "</ul>\n",
    "\n",
    "<p>Return the final string after all operations.</p>\n",
    "\n",
    "<p>&nbsp;</p>\n",
    "<p><strong>Example 1:</strong></p>\n",
    "\n",
    "<pre><strong>Input:</strong> s = \"abc\", shift = [[0,1],[1,2]]\n",
    "<strong>Output:</strong> \"cab\"\n",
    "<strong>Explanation:</strong>&nbsp;\n",
    "[0,1] means shift to left by 1. \"abc\" -&gt; \"bca\"\n",
    "[1,2] means shift to right by 2. \"bca\" -&gt; \"cab\"</pre>\n",
    "\n",
    "<p><strong>Example 2:</strong></p>\n",
    "\n",
    "<pre><strong>Input:</strong> s = \"abcdefg\", shift = [[1,1],[1,1],[0,2],[1,3]]\n",
    "<strong>Output:</strong> \"efgabcd\"\n",
    "<strong>Explanation:</strong>&nbsp; \n",
    "[1,1] means shift to right by 1. \"abcdefg\" -&gt; \"gabcdef\"\n",
    "[1,1] means shift to right by 1. \"gabcdef\" -&gt; \"fgabcde\"\n",
    "[0,2] means shift to left by 2. \"fgabcde\" -&gt; \"abcdefg\"\n",
    "[1,3] means shift to right by 3. \"abcdefg\" -&gt; \"efgabcd\"</pre>\n",
    "\n",
    "<p>&nbsp;</p>\n",
    "<p><strong>Constraints:</strong></p>\n",
    "\n",
    "<ul>\n",
    "\t<li><code>1 &lt;= s.length &lt;= 100</code></li>\n",
    "\t<li><code>s</code> only contains lower case English letters.</li>\n",
    "\t<li><code>1 &lt;= shift.length &lt;= 100</code></li>\n",
    "\t<li><code>shift[i].length == 2</code></li>\n",
    "\t<li><code>0 &lt;= shift[i][0] &lt;= 1</code></li>\n",
    "\t<li><code>0 &lt;= shift[i][1] &lt;= 100</code></li>\n",
    "</ul></div>"
   ]
  },
  {
   "cell_type": "markdown",
   "metadata": {},
   "source": [
    "## Option 1\n",
    "<p>\n",
    "    <li>Calculate overall shifts\n",
    "         <p>\n",
    "             <p>\n",
    "Time complexity: O(n)\n",
    "    <br>\n",
    "Space complexity: O(1)\n"
   ]
  },
  {
   "cell_type": "code",
   "execution_count": null,
   "metadata": {},
   "outputs": [],
   "source": [
    "class Solution(object):\n",
    "    def stringShift(self, s, shift):\n",
    "        i = sum(a*(-1 if d else 1) for d,a in shift)\n",
    "        i = (i)%len(s)\n",
    "        return s[i:]+s[:i]\n",
    "                \n",
    "Solution().stringShift(\"abcdefgh\", [[0,1],[1,2],[1,2],[0,2],[1,1],[1,2],[1,7]])\n",
    "    "
   ]
  },
  {
   "cell_type": "markdown",
   "metadata": {},
   "source": [
    "#### Result: 20ms (69.47%)"
   ]
  }
 ],
 "metadata": {
  "kernelspec": {
   "display_name": "Python 2",
   "language": "python",
   "name": "python2"
  },
  "language_info": {
   "codemirror_mode": {
    "name": "ipython",
    "version": 2
   },
   "file_extension": ".py",
   "mimetype": "text/x-python",
   "name": "python",
   "nbconvert_exporter": "python",
   "pygments_lexer": "ipython2",
   "version": "2.7.16"
  }
 },
 "nbformat": 4,
 "nbformat_minor": 2
}
