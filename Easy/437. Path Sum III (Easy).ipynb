{
 "cells": [
  {
   "cell_type": "markdown",
   "metadata": {},
   "source": [
    "# 437. Path Sum III (Easy)"
   ]
  },
  {
   "cell_type": "markdown",
   "metadata": {},
   "source": [
    "<div><p>You are given a binary tree in which each node contains an integer value.</p>\n",
    "\n",
    "<p>Find the number of paths that sum to a given value.</p>\n",
    "\n",
    "<p>The path does not need to start or end at the root or a leaf, but it must go downwards\n",
    "(traveling only from parent nodes to child nodes).</p>\n",
    "\n",
    "<p>The tree has no more than 1,000 nodes and the values are in the range -1,000,000 to 1,000,000.\n",
    "\n",
    "</p><p><b>Example:</b>\n",
    "</p><pre>root = [10,5,-3,3,2,null,11,3,-2,null,1], sum = 8\n",
    "\n",
    "      10\n",
    "     /  \\\n",
    "    <b>5</b>   <b>-3</b>\n",
    "   <b>/</b> <b>\\</b>    <b>\\</b>\n",
    "  <b>3</b>   <b>2</b>   <b>11</b>\n",
    " / \\   <b>\\</b>\n",
    "3  -2   <b>1</b>\n",
    "\n",
    "Return 3. The paths that sum to 8 are:\n",
    "\n",
    "1.  5 -&gt; 3\n",
    "2.  5 -&gt; 2 -&gt; 1\n",
    "3. -3 -&gt; 11\n",
    "</pre>\n",
    "<p></p></div>"
   ]
  },
  {
   "cell_type": "markdown",
   "metadata": {},
   "source": [
    "## Option 1\n",
    "<p>\n",
    "    Prefix Sum\n",
    "<p>\n",
    "    <p>\n",
    "Time complexity: O(n)\n",
    "    <br>\n",
    "Space complexity: O(n)\n"
   ]
  },
  {
   "cell_type": "code",
   "execution_count": null,
   "metadata": {},
   "outputs": [],
   "source": [
    "# Definition for a binary tree node.\n",
    "# class TreeNode(object):\n",
    "#     def __init__(self, x):\n",
    "#         self.val = x\n",
    "#         self.left = None\n",
    "#         self.right = None\n",
    "\n",
    "class Solution(object):\n",
    "    def pathSum(self, root, sum):\n",
    "        \"\"\"\n",
    "        :type root: TreeNode\n",
    "        :type sum: int\n",
    "        :rtype: int\n",
    "        \"\"\"\n",
    "        if not root: return 0\n",
    "        \n",
    "        self.counter = collections.Counter([0])\n",
    "        \n",
    "        def search(node, curr):\n",
    "            curr += node.val\n",
    "            \n",
    "            res =  self.counter[curr-sum]\n",
    "            self.counter[curr] += 1\n",
    "            \n",
    "            res += (search(node.left,curr) if node.left else 0) + (search(node.right,curr) if node.right else 0)\n",
    "\n",
    "            self.counter[curr] -= 1   #Reset prefix counter here, as we can only go downwards\n",
    "\n",
    "            return res\n",
    "        \n",
    "        return search(root, 0)\n",
    "        "
   ]
  },
  {
   "cell_type": "markdown",
   "metadata": {},
   "source": [
    "\n",
    "#### Result: 126ms (78.42%)"
   ]
  }
 ],
 "metadata": {
  "kernelspec": {
   "display_name": "Python 2",
   "language": "python",
   "name": "python2"
  },
  "language_info": {
   "codemirror_mode": {
    "name": "ipython",
    "version": 2
   },
   "file_extension": ".py",
   "mimetype": "text/x-python",
   "name": "python",
   "nbconvert_exporter": "python",
   "pygments_lexer": "ipython2",
   "version": "2.7.16"
  }
 },
 "nbformat": 4,
 "nbformat_minor": 2
}
