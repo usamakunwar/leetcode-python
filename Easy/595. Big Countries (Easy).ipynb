{
 "cells": [
  {
   "cell_type": "markdown",
   "metadata": {},
   "source": [
    "# 595. Big Countries (Easy)"
   ]
  },
  {
   "cell_type": "markdown",
   "metadata": {},
   "source": [
    "<div><p>There is a table <code>World</code></p>\n",
    "\n",
    "<pre>+-----------------+------------+------------+--------------+---------------+\n",
    "| name            | continent  | area       | population   | gdp           |\n",
    "+-----------------+------------+------------+--------------+---------------+\n",
    "| Afghanistan     | Asia       | 652230     | 25500100     | 20343000      |\n",
    "| Albania         | Europe     | 28748      | 2831741      | 12960000      |\n",
    "| Algeria         | Africa     | 2381741    | 37100000     | 188681000     |\n",
    "| Andorra         | Europe     | 468        | 78115        | 3712000       |\n",
    "| Angola          | Africa     | 1246700    | 20609294     | 100990000     |\n",
    "+-----------------+------------+------------+--------------+---------------+\n",
    "</pre>\n",
    "\n",
    "<p>A country is big if it has an area of bigger than 3 million square km or a population of more than 25 million.</p>\n",
    "\n",
    "<p>Write a SQL solution to output big countries' name, population and area.</p>\n",
    "\n",
    "<p>For example, according to the above table, we should output:</p>\n",
    "\n",
    "<pre>+--------------+-------------+--------------+\n",
    "| name         | population  | area         |\n",
    "+--------------+-------------+--------------+\n",
    "| Afghanistan  | 25500100    | 652230       |\n",
    "| Algeria      | 37100000    | 2381741      |\n",
    "+--------------+-------------+--------------+\n",
    "</pre>\n",
    "\n",
    "<p>&nbsp;</p>\n",
    "</div>"
   ]
  },
  {
   "cell_type": "markdown",
   "metadata": {},
   "source": [
    "## Option 1"
   ]
  },
  {
   "cell_type": "code",
   "execution_count": null,
   "metadata": {
    "scrolled": false
   },
   "outputs": [],
   "source": [
    "# Write your MySQL query statement below\n",
    "select name, population, area\n",
    "from world\n",
    "where area > 3000000 or population > 25000000"
   ]
  },
  {
   "cell_type": "markdown",
   "metadata": {},
   "source": [
    "#### Result: 478ms (12.47%)\n"
   ]
  }
 ],
 "metadata": {
  "kernelspec": {
   "display_name": "Python 2",
   "language": "python",
   "name": "python2"
  },
  "language_info": {
   "codemirror_mode": {
    "name": "ipython",
    "version": 2
   },
   "file_extension": ".py",
   "mimetype": "text/x-python",
   "name": "python",
   "nbconvert_exporter": "python",
   "pygments_lexer": "ipython2",
   "version": "2.7.16"
  }
 },
 "nbformat": 4,
 "nbformat_minor": 2
}
