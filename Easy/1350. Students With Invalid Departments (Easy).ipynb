{
 "cells": [
  {
   "cell_type": "markdown",
   "metadata": {},
   "source": [
    "# 1350. Students With Invalid Departments (Easy)"
   ]
  },
  {
   "cell_type": "markdown",
   "metadata": {},
   "source": [
    "<div><p>Table: <code>Departments</code></p>\n",
    "\n",
    "<pre>+---------------+---------+\n",
    "| Column Name   | Type    |\n",
    "+---------------+---------+\n",
    "| id            | int     |\n",
    "| name          | varchar |\n",
    "+---------------+---------+\n",
    "id is the primary key of this table.\n",
    "The table has information about the id of each department of a university.\n",
    "</pre>\n",
    "\n",
    "<p>&nbsp;</p>\n",
    "\n",
    "<p>Table: <code>Students</code></p>\n",
    "\n",
    "<pre>+---------------+---------+\n",
    "| Column Name   | Type    |\n",
    "+---------------+---------+\n",
    "| id            | int     |\n",
    "| name          | varchar |\n",
    "| department_id | int     |\n",
    "+---------------+---------+\n",
    "id is the primary key of this table.\n",
    "The table has information about the id of each student at a university and the id of the department he/she studies at.\n",
    "</pre>\n",
    "\n",
    "<p>&nbsp;</p>\n",
    "\n",
    "<p>Write an SQL query to find the id and the name of all students who are enrolled in departments that no longer exists.</p>\n",
    "\n",
    "<p>Return the result table in any order.</p>\n",
    "\n",
    "<p>The query result format is in the following example:</p>\n",
    "\n",
    "<pre>Departments table:\n",
    "+------+--------------------------+\n",
    "| id   | name                     |\n",
    "+------+--------------------------+\n",
    "| 1    | Electrical Engineering   |\n",
    "| 7    | Computer Engineering     |\n",
    "| 13   | Bussiness Administration |\n",
    "+------+--------------------------+\n",
    "\n",
    "Students table:\n",
    "+------+----------+---------------+\n",
    "| id   | name     | department_id |\n",
    "+------+----------+---------------+\n",
    "| 23   | Alice    | 1             |\n",
    "| 1    | Bob      | 7             |\n",
    "| 5    | Jennifer | 13            |\n",
    "| 2    | John     | 14            |\n",
    "| 4    | Jasmine  | 77            |\n",
    "| 3    | Steve    | 74            |\n",
    "| 6    | Luis     | 1             |\n",
    "| 8    | Jonathan | 7             |\n",
    "| 7    | Daiana   | 33            |\n",
    "| 11   | Madelynn | 1             |\n",
    "+------+----------+---------------+\n",
    "\n",
    "Result table:\n",
    "+------+----------+\n",
    "| id   | name     |\n",
    "+------+----------+\n",
    "| 2    | John     |\n",
    "| 7    | Daiana   |\n",
    "| 4    | Jasmine  |\n",
    "| 3    | Steve    |\n",
    "+------+----------+\n",
    "\n",
    "John, Daiana, Steve and Jasmine are enrolled in departments 14, 33, 74 and 77 respectively. department 14, 33, 74 and 77 doesn't exist in the Departments table.\n",
    "</pre></div>"
   ]
  },
  {
   "cell_type": "markdown",
   "metadata": {},
   "source": [
    "## Option 1"
   ]
  },
  {
   "cell_type": "code",
   "execution_count": null,
   "metadata": {
    "scrolled": false
   },
   "outputs": [],
   "source": [
    "# Write your MySQL query statement below\n",
    "select students.id, students.name from students \n",
    "left join departments on students.department_id = departments.id \n",
    "where departments.id is Null"
   ]
  },
  {
   "cell_type": "markdown",
   "metadata": {},
   "source": [
    "#### Result: 979ms (47.66%)\n"
   ]
  },
  {
   "cell_type": "markdown",
   "metadata": {},
   "source": [
    "## Option 2"
   ]
  },
  {
   "cell_type": "code",
   "execution_count": null,
   "metadata": {},
   "outputs": [],
   "source": [
    "# Write your MySQL query statement below\n",
    "select id, name from students \n",
    "where department_id not in (select id from departments)"
   ]
  },
  {
   "cell_type": "markdown",
   "metadata": {},
   "source": [
    "#### Result: 814ms (64.78%)\n"
   ]
  }
 ],
 "metadata": {
  "kernelspec": {
   "display_name": "Python 2",
   "language": "python",
   "name": "python2"
  },
  "language_info": {
   "codemirror_mode": {
    "name": "ipython",
    "version": 2
   },
   "file_extension": ".py",
   "mimetype": "text/x-python",
   "name": "python",
   "nbconvert_exporter": "python",
   "pygments_lexer": "ipython2",
   "version": "2.7.16"
  }
 },
 "nbformat": 4,
 "nbformat_minor": 2
}
