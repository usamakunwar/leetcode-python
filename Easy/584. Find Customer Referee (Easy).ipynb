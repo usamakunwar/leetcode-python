{
 "cells": [
  {
   "cell_type": "markdown",
   "metadata": {},
   "source": [
    "# 584. Find Customer Referee (Easy)\n"
   ]
  },
  {
   "cell_type": "markdown",
   "metadata": {},
   "source": [
    "<div><p>Given a table <code>customer</code> holding customers information and the referee.</p>\n",
    "\n",
    "<pre>+------+------+-----------+\n",
    "| id   | name | referee_id|\n",
    "+------+------+-----------+\n",
    "|    1 | Will |      NULL |\n",
    "|    2 | Jane |      NULL |\n",
    "|    3 | Alex |         2 |\n",
    "|    4 | Bill |      NULL |\n",
    "|    5 | Zack |         1 |\n",
    "|    6 | Mark |         2 |\n",
    "+------+------+-----------+\n",
    "</pre>\n",
    "\n",
    "<p>Write a query to return the list of customers <b>NOT</b> referred by the person with id '2'.</p>\n",
    "\n",
    "<p>For the sample data above, the result is:</p>\n",
    "\n",
    "<pre>+------+\n",
    "| name |\n",
    "+------+\n",
    "| Will |\n",
    "| Jane |\n",
    "| Bill |\n",
    "| Zack |\n",
    "+------+\n",
    "</pre>\n",
    "</div>"
   ]
  },
  {
   "cell_type": "markdown",
   "metadata": {},
   "source": [
    "## Option 1"
   ]
  },
  {
   "cell_type": "code",
   "execution_count": null,
   "metadata": {
    "scrolled": false
   },
   "outputs": [],
   "source": [
    "# Write your MySQL query statement below\n",
    "\n",
    "select name\n",
    "from customer\n",
    "where referee_id != 2 or referee_id is null"
   ]
  },
  {
   "cell_type": "markdown",
   "metadata": {},
   "source": [
    "#### Result: 499ms (68.50%)\n"
   ]
  }
 ],
 "metadata": {
  "kernelspec": {
   "display_name": "Python 2",
   "language": "python",
   "name": "python2"
  },
  "language_info": {
   "codemirror_mode": {
    "name": "ipython",
    "version": 2
   },
   "file_extension": ".py",
   "mimetype": "text/x-python",
   "name": "python",
   "nbconvert_exporter": "python",
   "pygments_lexer": "ipython2",
   "version": "2.7.16"
  }
 },
 "nbformat": 4,
 "nbformat_minor": 2
}
