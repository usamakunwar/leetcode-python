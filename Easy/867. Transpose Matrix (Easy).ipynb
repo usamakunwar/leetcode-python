{
 "cells": [
  {
   "cell_type": "markdown",
   "metadata": {},
   "source": [
    "# 867. Transpose Matrix (Easy)"
   ]
  },
  {
   "cell_type": "markdown",
   "metadata": {},
   "source": [
    "<div><p>Given a&nbsp;matrix <code>A</code>, return the transpose of <code>A</code>.</p>\n",
    "\n",
    "<p>The transpose of a matrix is the matrix flipped over it's main diagonal, switching the row and column indices of the matrix.</p>\n",
    "\n",
    "<br>\n",
    "<img src=\"https://assets.leetcode.com/uploads/2019/10/20/hint_transpose.png\" width=\"700\">\n",
    "\n",
    "<p>&nbsp;</p>\n",
    "\n",
    "<div>\n",
    "<p><strong>Example 1:</strong></p>\n",
    "\n",
    "<pre><strong>Input: </strong><span id=\"example-input-1-1\">[[1,2,3],[4,5,6],[7,8,9]]</span>\n",
    "<strong>Output: </strong><span id=\"example-output-1\">[[1,4,7],[2,5,8],[3,6,9]]</span>\n",
    "</pre>\n",
    "\n",
    "<div>\n",
    "<p><strong>Example 2:</strong></p>\n",
    "\n",
    "<pre><strong>Input: </strong><span id=\"example-input-2-1\">[[1,2,3],[4,5,6]]</span>\n",
    "<strong>Output: </strong><span id=\"example-output-2\">[[1,4],[2,5],[3,6]]</span>\n",
    "</pre>\n",
    "\n",
    "<p>&nbsp;</p>\n",
    "\n",
    "<p><span><strong>Note:</strong></span></p>\n",
    "\n",
    "<ol>\n",
    "\t<li><code><span>1 &lt;= A.length&nbsp;&lt;= 1000</span></code></li>\n",
    "\t<li><code><span>1 &lt;= A[0].length&nbsp;&lt;= 1000</span></code></li>\n",
    "</ol>\n",
    "</div>\n",
    "</div></div>"
   ]
  },
  {
   "cell_type": "markdown",
   "metadata": {},
   "source": [
    "## Option 1\n",
    "<p>To transpose correctly the new shape maybe different, e.g. 3*2 will transpose to 2*3\n",
    "  <p>\n",
    "Time complexity: O(n) row*col\n",
    "<br>\n",
    "Space complexity: O(n)"
   ]
  },
  {
   "cell_type": "code",
   "execution_count": null,
   "metadata": {
    "scrolled": false
   },
   "outputs": [],
   "source": [
    "class Solution(object):\n",
    "    def transpose(self, A):\n",
    "        li,lj = len(A),len(A[0])\n",
    "        #Create empty matrix of the new shape\n",
    "        res = [[0]*li for j in range(lj)]\n",
    "        #Fill it in\n",
    "        for i in range(li):\n",
    "            for j in range(lj):\n",
    "                res[j][i] = A[i][j]\n",
    "\n",
    "        #OR you could use inbuilt zip\n",
    "        #return zip(*A)\n",
    "        return res"
   ]
  },
  {
   "cell_type": "markdown",
   "metadata": {},
   "source": [
    "#### Result: 56ms (85.40%)"
   ]
  }
 ],
 "metadata": {
  "kernelspec": {
   "display_name": "Python 2",
   "language": "python",
   "name": "python2"
  },
  "language_info": {
   "codemirror_mode": {
    "name": "ipython",
    "version": 2
   },
   "file_extension": ".py",
   "mimetype": "text/x-python",
   "name": "python",
   "nbconvert_exporter": "python",
   "pygments_lexer": "ipython2",
   "version": "2.7.16"
  }
 },
 "nbformat": 4,
 "nbformat_minor": 2
}
