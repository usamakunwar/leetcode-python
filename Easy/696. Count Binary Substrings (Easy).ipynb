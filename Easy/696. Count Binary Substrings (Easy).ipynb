{
 "cells": [
  {
   "cell_type": "markdown",
   "metadata": {},
   "source": [
    "# 696. Count Binary Substrings (Easy)"
   ]
  },
  {
   "cell_type": "markdown",
   "metadata": {},
   "source": [
    "<div><p>Give a string <code>s</code>, count the number of non-empty (contiguous) substrings that have the same number of 0's and 1's, and all the 0's and all the 1's in these substrings are grouped consecutively. \n",
    "</p>\n",
    "<p>Substrings that occur multiple times are counted the number of times they occur.</p>\n",
    "\n",
    "<p><b>Example 1:</b><br>\n",
    "</p><pre><b>Input:</b> \"00110011\"\n",
    "<b>Output:</b> 6\n",
    "<b>Explanation:</b> There are 6 substrings that have equal number of consecutive 1's and 0's: \"0011\", \"01\", \"1100\", \"10\", \"0011\", and \"01\".\n",
    "<br>Notice that some of these substrings repeat and are counted the number of times they occur.\n",
    "<br>Also, \"00110011\" is not a valid substring because <b>all</b> the 0's (and 1's) are not grouped together.\n",
    "</pre>\n",
    "<p></p>\n",
    "\n",
    "<p><b>Example 2:</b><br>\n",
    "</p><pre><b>Input:</b> \"10101\"\n",
    "<b>Output:</b> 4\n",
    "<b>Explanation:</b> There are 4 substrings: \"10\", \"01\", \"10\", \"01\" that have equal number of consecutive 1's and 0's.\n",
    "</pre>\n",
    "<p></p>\n",
    "\n",
    "<p><b>Note:</b>\n",
    "</p><li><code>s.length</code> will be between 1 and 50,000.</li>\n",
    "<li><code>s</code> will only consist of \"0\" or \"1\" characters.</li>\n",
    "<p></p></div>"
   ]
  },
  {
   "cell_type": "markdown",
   "metadata": {},
   "source": [
    "## Option 1\n",
    " <p>\n",
    "    <p>\n",
    "        <p>\n",
    "Time complexity: O(n)\n",
    "    <br>\n",
    "Space complexity: O(1) \n"
   ]
  },
  {
   "cell_type": "code",
   "execution_count": null,
   "metadata": {},
   "outputs": [],
   "source": [
    "from collections import defaultdict\n",
    "class Solution(object):\n",
    "    def countBinarySubstrings(self, s):\n",
    "        res = prev = curr = 0\n",
    "        \n",
    "        for i in range(len(s)):\n",
    "            if i == 0 or s[i] == s[i-1]:\n",
    "                curr += 1\n",
    "            else:\n",
    "                res += min(prev,curr)\n",
    "                prev, curr = curr, 1\n",
    "                \n",
    "        \n",
    "        return res + min(prev,curr)\n",
    "            \n",
    "Solution().countBinarySubstrings(\"00110\")\n",
    "        "
   ]
  },
  {
   "cell_type": "markdown",
   "metadata": {},
   "source": [
    "\n",
    "#### Result: 776ms (84.68%)"
   ]
  }
 ],
 "metadata": {
  "kernelspec": {
   "display_name": "Python 2",
   "language": "python",
   "name": "python2"
  },
  "language_info": {
   "codemirror_mode": {
    "name": "ipython",
    "version": 2
   },
   "file_extension": ".py",
   "mimetype": "text/x-python",
   "name": "python",
   "nbconvert_exporter": "python",
   "pygments_lexer": "ipython2",
   "version": "2.7.16"
  }
 },
 "nbformat": 4,
 "nbformat_minor": 2
}
