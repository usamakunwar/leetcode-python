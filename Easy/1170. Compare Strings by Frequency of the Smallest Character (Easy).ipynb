{
 "cells": [
  {
   "cell_type": "markdown",
   "metadata": {},
   "source": [
    "# 1170. Compare Strings by Frequency of the Smallest Character (Easy)"
   ]
  },
  {
   "cell_type": "markdown",
   "metadata": {},
   "source": [
    "<div><p>Let's define a function <code>f(s)</code> over a non-empty string <code>s</code>, which calculates the frequency of the smallest character in <code>s</code>. For example,&nbsp;if <code>s = \"dcce\"</code> then <code>f(s) = 2</code> because the smallest character is <code>\"c\"</code> and its frequency is 2.</p>\n",
    "\n",
    "<p>Now, given string arrays <code>queries</code>&nbsp;and <code>words</code>, return an integer array <code>answer</code>, where each <code>answer[i]</code>&nbsp;is the number of words such that <code>f(queries[i])</code>&nbsp;&lt; <code>f(W)</code>, where <code>W</code>&nbsp;is a word in <code>words</code>.</p>\n",
    "\n",
    "<p>&nbsp;</p>\n",
    "<p><strong>Example 1:</strong></p>\n",
    "\n",
    "<pre><strong>Input:</strong> queries = [\"cbd\"], words = [\"zaaaz\"]\n",
    "<strong>Output:</strong> [1]\n",
    "<strong>Explanation:</strong> On the first query we have f(\"cbd\") = 1, f(\"zaaaz\") = 3 so f(\"cbd\") &lt; f(\"zaaaz\").\n",
    "</pre>\n",
    "\n",
    "<p><strong>Example 2:</strong></p>\n",
    "\n",
    "<pre><strong>Input:</strong> queries = [\"bbb\",\"cc\"], words = [\"a\",\"aa\",\"aaa\",\"aaaa\"]\n",
    "<strong>Output:</strong> [1,2]\n",
    "<strong>Explanation:</strong> On the first query only f(\"bbb\") &lt; f(\"aaaa\"). On the second query both f(\"aaa\") and f(\"aaaa\") are both &gt; f(\"cc\").\n",
    "</pre>\n",
    "\n",
    "<p>&nbsp;</p>\n",
    "<p><strong>Constraints:</strong></p>\n",
    "\n",
    "<ul>\n",
    "\t<li><code>1 &lt;= queries.length &lt;= 2000</code></li>\n",
    "\t<li><code>1 &lt;= words.length &lt;= 2000</code></li>\n",
    "\t<li><code>1 &lt;= queries[i].length, words[i].length &lt;= 10</code></li>\n",
    "\t<li><code>queries[i][j]</code>, <code>words[i][j]</code> are English lowercase letters.</li>\n",
    "</ul>\n",
    "</div>"
   ]
  },
  {
   "cell_type": "markdown",
   "metadata": {},
   "source": [
    "## Option 1\n",
    "<p>\n",
    "    Binary Search\n",
    "<p>\n",
    "    <p>\n",
    "Time complexity: O(nlogn)\n",
    "<br>\n",
    "Space complexity: O(n) "
   ]
  },
  {
   "cell_type": "code",
   "execution_count": null,
   "metadata": {
    "scrolled": true
   },
   "outputs": [],
   "source": [
    "from collections import Counter\n",
    "class Solution(object):\n",
    "    def numSmallerByFrequency(self, queries, words):\n",
    "        queries = [min(Counter(q).items(),key=lambda (a,b): ord(a))[1] for q in queries]\n",
    "        words = sorted([min(Counter(w).items(),key=lambda (a,b): ord(a))[1] for w in words])\n",
    "        \n",
    "        def bs(t):\n",
    "            l,r = 0,len(words)\n",
    "            while l < r:\n",
    "                mid = (l+r)/2\n",
    "                if words[mid] > t:\n",
    "                    r = mid\n",
    "                else:\n",
    "                    l = mid + 1\n",
    "            return len(words)-r\n",
    "            \n",
    "            \n",
    "        return [bs(q) for q in queries]\n",
    "            \n",
    "        \n",
    "Solution().numSmallerByFrequency([\"bbb\",\"cc\",\"d\"],[\"aaaaa\",\"a\",\"aa\",\"aaa\",\"aaaa\"])\n",
    "            "
   ]
  },
  {
   "cell_type": "markdown",
   "metadata": {},
   "source": [
    "#### Result: 212ms (71.91%)\n"
   ]
  }
 ],
 "metadata": {
  "kernelspec": {
   "display_name": "Python 2",
   "language": "python",
   "name": "python2"
  },
  "language_info": {
   "codemirror_mode": {
    "name": "ipython",
    "version": 2
   },
   "file_extension": ".py",
   "mimetype": "text/x-python",
   "name": "python",
   "nbconvert_exporter": "python",
   "pygments_lexer": "ipython2",
   "version": "2.7.16"
  }
 },
 "nbformat": 4,
 "nbformat_minor": 2
}
