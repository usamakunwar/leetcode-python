{
 "cells": [
  {
   "cell_type": "markdown",
   "metadata": {},
   "source": [
    "# 716. Max Stack (Easy)"
   ]
  },
  {
   "cell_type": "markdown",
   "metadata": {},
   "source": [
    "<div><p>Design a max stack that supports push, pop, top, peekMax and popMax.</p>\n",
    "\n",
    "<p>\n",
    "</p><ol>\n",
    "<li>push(x) -- Push element x onto stack.</li>\n",
    "<li>pop() -- Remove the element on top of the stack and return it.</li>\n",
    "<li>top() -- Get the element on the top.</li>\n",
    "<li>peekMax() -- Retrieve the maximum element in the stack.</li>\n",
    "<li>popMax() -- Retrieve the maximum element in the stack, and remove it. If you find more than one maximum elements, only remove the top-most one.</li>\n",
    "</ol>\n",
    "<p></p>\n",
    "\n",
    "<p><b>Example 1:</b><br>\n",
    "</p><pre>MaxStack stack = new MaxStack();\n",
    "stack.push(5); \n",
    "stack.push(1);\n",
    "stack.push(5);\n",
    "stack.top(); -&gt; 5\n",
    "stack.popMax(); -&gt; 5\n",
    "stack.top(); -&gt; 1\n",
    "stack.peekMax(); -&gt; 5\n",
    "stack.pop(); -&gt; 1\n",
    "stack.top(); -&gt; 5\n",
    "</pre>\n",
    "<p></p>\n",
    "\n",
    "<p><b>Note:</b><br>\n",
    "</p><ol>\n",
    "<li>-1e7 &lt;= x &lt;= 1e7</li>\n",
    "<li>Number of operations won't exceed 10000.</li>\n",
    "<li>The last four operations won't be called when stack is empty.</li>\n",
    "</ol>\n",
    "<p></p></div>"
   ]
  },
  {
   "cell_type": "markdown",
   "metadata": {},
   "source": [
    "## Option 1\n",
    " <p>\n",
    "    <p>One Stack\n",
    "        <p>\n",
    "Time complexity: O(n)\n",
    "    <br>\n",
    "Space complexity: O(n) \n"
   ]
  },
  {
   "cell_type": "code",
   "execution_count": null,
   "metadata": {},
   "outputs": [],
   "source": [
    "class MaxStack(object):\n",
    "\n",
    "    def __init__(self):\n",
    "        self.stack = []\n",
    "\n",
    "    def push(self, x):\n",
    "        self.stack.append(x)\n",
    "        \n",
    "    def pop(self):\n",
    "        return self.stack.pop()\n",
    "\n",
    "    def top(self):\n",
    "        return self.stack[-1]\n",
    "\n",
    "    def peekMax(self):\n",
    "        return max(self.stack)\n",
    "\n",
    "    def popMax(self):\n",
    "        m = max(self.stack)\n",
    "        for i in range(len(self.stack)-1,-1,-1):\n",
    "            if self.stack[i] == m: break\n",
    "        self.stack = self.stack[:i] + self.stack[i+1:]\n",
    "        return m\n"
   ]
  },
  {
   "cell_type": "markdown",
   "metadata": {},
   "source": [
    "\n",
    "#### Result: 232ms (35.61%)"
   ]
  },
  {
   "cell_type": "markdown",
   "metadata": {},
   "source": [
    "## Option 2\n",
    " <p>\n",
    "    <p>\n",
    "        Stack with Tuple holding max value\n",
    "        <p>\n",
    "Time complexity: O(n)\n",
    "    <br>\n",
    "Space complexity: O(n) \n"
   ]
  },
  {
   "cell_type": "code",
   "execution_count": null,
   "metadata": {},
   "outputs": [],
   "source": [
    "class MaxStack(object):\n",
    "    def __init__(self):\n",
    "        self.stack = []\n",
    "\n",
    "    def push(self, x):\n",
    "        #Hold a tuple (value, current max)\n",
    "        m = max(x, self.stack[-1][1]) if self.stack else x\n",
    "        self.stack.append((x,m))\n",
    "        \n",
    "    def pop(self):\n",
    "        return self.stack.pop()[0]\n",
    "\n",
    "    def top(self):\n",
    "        return self.stack[-1][0]\n",
    "\n",
    "    def peekMax(self):\n",
    "        return self.stack[-1][1]\n",
    "\n",
    "    def popMax(self):\n",
    "        m = self.stack[-1][1]\n",
    "        #Pop the tuple until the max value is found\n",
    "        putback = []\n",
    "        while self.stack and self.stack[-1][0] != self.stack[-1][1]:\n",
    "            putback = [self.stack.pop()[0]]+putback\n",
    "        self.stack.pop()       \n",
    "        #Put the suffix values back in the stack\n",
    "        map(self.push, putback)\n",
    "        return m\n"
   ]
  },
  {
   "cell_type": "markdown",
   "metadata": {},
   "source": [
    "#### Result: 288ms (13.31%)"
   ]
  }
 ],
 "metadata": {
  "kernelspec": {
   "display_name": "Python 2",
   "language": "python",
   "name": "python2"
  },
  "language_info": {
   "codemirror_mode": {
    "name": "ipython",
    "version": 2
   },
   "file_extension": ".py",
   "mimetype": "text/x-python",
   "name": "python",
   "nbconvert_exporter": "python",
   "pygments_lexer": "ipython2",
   "version": "2.7.16"
  }
 },
 "nbformat": 4,
 "nbformat_minor": 2
}
