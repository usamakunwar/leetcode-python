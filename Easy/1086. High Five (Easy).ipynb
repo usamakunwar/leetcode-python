{
 "cells": [
  {
   "cell_type": "markdown",
   "metadata": {},
   "source": [
    "# 1086. High Five (Easy)"
   ]
  },
  {
   "cell_type": "markdown",
   "metadata": {},
   "source": [
    "<div><p>Given a list of scores of different students, return the average score of each student's <strong>top five scores</strong> in<strong> the order of each student's id</strong>.</p>\n",
    "\n",
    "<p>Each entry <code>items[i]</code>&nbsp;has <code>items[i][0]</code> the student's id, and <code>items[i][1]</code> the student's score.&nbsp; The average score is calculated using integer division.</p>\n",
    "\n",
    "<p>&nbsp;</p>\n",
    "\n",
    "<p><strong>Example 1:</strong></p>\n",
    "\n",
    "<pre><strong>Input: </strong><span id=\"example-input-1-1\">[[1,91],[1,92],[2,93],[2,97],[1,60],[2,77],[1,65],[1,87],[1,100],[2,100],[2,76]]</span>\n",
    "<strong>Output: </strong><span id=\"example-output-1\">[[1,87],[2,88]]</span>\n",
    "<strong>Explanation: </strong>\n",
    "The average of the student with id = 1 is 87.\n",
    "The average of the student with id = 2 is 88.6. But with integer division their average converts to 88.\n",
    "</pre>\n",
    "\n",
    "<p>&nbsp;</p>\n",
    "\n",
    "<p><strong>Note:</strong></p>\n",
    "\n",
    "<ol>\n",
    "\t<li><code>1 &lt;= items.length &lt;= 1000</code></li>\n",
    "\t<li><code>items[i].length == 2</code></li>\n",
    "\t<li>The IDs of the students is between <code>1</code> to <code>1000</code></li>\n",
    "\t<li>The score of the students is between <code>1</code> to <code>100</code></li>\n",
    "\t<li>For each student,&nbsp;there are at least 5 scores</li>\n",
    "</ol></div>"
   ]
  },
  {
   "cell_type": "markdown",
   "metadata": {},
   "source": [
    "## Option 1\n",
    "<p>\n",
    "Time complexity = O(nlogn)\n",
    "<br>\n",
    "Space complexity = O(s) number of students"
   ]
  },
  {
   "cell_type": "code",
   "execution_count": 32,
   "metadata": {},
   "outputs": [
    {
     "data": {
      "text/plain": [
       "[[1, 87], [2, 88]]"
      ]
     },
     "execution_count": 32,
     "metadata": {},
     "output_type": "execute_result"
    }
   ],
   "source": [
    "class Solution:\n",
    "    def highFive(self, items: [[int]]) -> [[int]]:\n",
    "        items.sort(key=lambda x:x[1],reverse=True)\n",
    "        item_map = {}\n",
    "        res = []\n",
    "        for id,score in items:\n",
    "            if id in item_map:\n",
    "                item_map[id].append(score)\n",
    "                l = len(item_map[id])\n",
    "                if l == 5: res.append([id,int(sum(item_map[id])/l)])\n",
    "            else:\n",
    "                item_map[id] = [score]\n",
    "        return sorted(res)\n",
    "\n",
    "Solution().highFive([[1,91],[1,92],[2,93],[2,97],[1,60],[2,77],[1,65],[1,87],[1,100],[2,100],[2,76]])"
   ]
  },
  {
   "cell_type": "markdown",
   "metadata": {},
   "source": [
    "#### Result:  76ms (51.49%)"
   ]
  },
  {
   "cell_type": "markdown",
   "metadata": {},
   "source": [
    "## Option 2\n",
    "<p>\n",
    "Shorten the above code, use default dict (safely) and sort the smaller parts instead\n",
    "<p>\n",
    "Time complexity = O(max(n,s(sclogsc))) s = number of students, sc = scores per student\n",
    "<br>\n",
    "Space complexity = O(s) number of students"
   ]
  },
  {
   "cell_type": "code",
   "execution_count": 38,
   "metadata": {},
   "outputs": [
    {
     "data": {
      "text/plain": [
       "[[1, 87], [2, 88]]"
      ]
     },
     "execution_count": 38,
     "metadata": {},
     "output_type": "execute_result"
    }
   ],
   "source": [
    "import collections\n",
    "class Solution:\n",
    "    def highFive(self, items: [[int]]) -> [[int]]:\n",
    "        item_map = collections.defaultdict(list)\n",
    "        res = []\n",
    "        for id,score in items:\n",
    "            item_map[id].append(score)\n",
    "        for id in item_map:\n",
    "            res.append([id,int(sum(sorted(item_map[id])[-5:])/5)])\n",
    "        return sorted(res)\n",
    "Solution().highFive([[1,91],[1,92],[2,93],[2,97],[1,60],[2,77],[1,65],[1,87],[1,100],[2,100],[2,76]])"
   ]
  },
  {
   "cell_type": "markdown",
   "metadata": {},
   "source": [
    "#### Result:  68ms (94.94%)"
   ]
  }
 ],
 "metadata": {
  "kernelspec": {
   "display_name": "Python 3",
   "language": "python",
   "name": "python3"
  },
  "language_info": {
   "codemirror_mode": {
    "name": "ipython",
    "version": 3
   },
   "file_extension": ".py",
   "mimetype": "text/x-python",
   "name": "python",
   "nbconvert_exporter": "python",
   "pygments_lexer": "ipython3",
   "version": "3.7.4"
  }
 },
 "nbformat": 4,
 "nbformat_minor": 2
}
