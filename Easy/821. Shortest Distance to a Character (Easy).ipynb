{
 "cells": [
  {
   "cell_type": "markdown",
   "metadata": {},
   "source": [
    "# 821. Shortest Distance to a Character (Easy)"
   ]
  },
  {
   "cell_type": "markdown",
   "metadata": {},
   "source": [
    "<div><p>Given a string <code>S</code>&nbsp;and a character <code>C</code>, return an array of integers representing the shortest distance from the character <code>C</code> in the string.</p>\n",
    "\n",
    "<p><strong>Example 1:</strong></p>\n",
    "\n",
    "<pre><strong>Input:</strong> S = \"loveleetcode\", C = 'e'\n",
    "<strong>Output:</strong> [3, 2, 1, 0, 1, 0, 0, 1, 2, 2, 1, 0]\n",
    "</pre>\n",
    "\n",
    "<p>&nbsp;</p>\n",
    "\n",
    "<p><strong>Note:</strong></p>\n",
    "\n",
    "<ol>\n",
    "\t<li><code>S</code> string length is&nbsp;in&nbsp;<code>[1, 10000].</code></li>\n",
    "\t<li><code>C</code>&nbsp;is a single character, and guaranteed to be in string <code>S</code>.</li>\n",
    "\t<li>All letters in <code>S</code> and <code>C</code> are lowercase.</li>\n",
    "</ol>\n",
    "</div>"
   ]
  },
  {
   "cell_type": "markdown",
   "metadata": {},
   "source": [
    "## Option 1\n",
    "\n",
    "Stack\n",
    "\n",
    "Time complexity: O(n)\n",
    "<br>\n",
    "Space complexity: O(n)"
   ]
  },
  {
   "cell_type": "code",
   "execution_count": null,
   "metadata": {
    "scrolled": true
   },
   "outputs": [],
   "source": [
    "class Solution(object):\n",
    "    def shortestToChar(self, S, C):\n",
    "        ln = len(S)\n",
    "        stack, res = [], [0]*ln\n",
    "        last_c = float('inf')\n",
    "        for i in range(ln):\n",
    "            if S[i] == C or i == (ln-1):\n",
    "                #This is just to pop of the end items\n",
    "                if S[i] != C and i == (ln-1):\n",
    "                    stack.append(i)\n",
    "                    i = float('inf')\n",
    "                while stack: \n",
    "                    j = stack.pop()\n",
    "                    res[j] = min(abs(i-j),abs(last_c-j))\n",
    "                last_c = i\n",
    "            else:\n",
    "                stack.append(i)\n",
    "        return res\n",
    "           \n",
    "Solution().shortestToChar(\"loveleetcode\", \"e\")  \n",
    "        "
   ]
  },
  {
   "cell_type": "markdown",
   "metadata": {},
   "source": [
    "#### Result: 28ms (73.78%)"
   ]
  },
  {
   "cell_type": "markdown",
   "metadata": {},
   "source": [
    "## Option 2\n",
    "\n",
    "Two pass\n",
    "\n",
    "Time complexity: (n)\n",
    "<br>\n",
    "Space complexity: O(n)"
   ]
  },
  {
   "cell_type": "code",
   "execution_count": null,
   "metadata": {},
   "outputs": [],
   "source": [
    "class Solution(object):\n",
    "    def shortestToChar(self, S, C):\n",
    "        ln = len(S)\n",
    "        res, last_c = [], float('-inf')\n",
    "        for i in range(ln):\n",
    "            if S[i] == C: last_c = i\n",
    "            res.append(i-last_c)\n",
    "        last_c = float('inf')\n",
    "        for i in range(ln-1,-1,-1):\n",
    "            if S[i] == C: last_c = i\n",
    "            if last_c: res[i] = min(res[i],last_c - i)\n",
    "        return res\n",
    "           \n",
    "Solution().shortestToChar(\"abaa\", \"b\")  \n",
    "        "
   ]
  },
  {
   "cell_type": "markdown",
   "metadata": {},
   "source": [
    "#### Result: 24ms (89.33%)"
   ]
  }
 ],
 "metadata": {
  "kernelspec": {
   "display_name": "Python 2",
   "language": "python",
   "name": "python2"
  },
  "language_info": {
   "codemirror_mode": {
    "name": "ipython",
    "version": 2
   },
   "file_extension": ".py",
   "mimetype": "text/x-python",
   "name": "python",
   "nbconvert_exporter": "python",
   "pygments_lexer": "ipython2",
   "version": "2.7.16"
  }
 },
 "nbformat": 4,
 "nbformat_minor": 2
}
