{
 "cells": [
  {
   "cell_type": "markdown",
   "metadata": {},
   "source": [
    "# 610. Triangle Judgement (Easy)"
   ]
  },
  {
   "cell_type": "markdown",
   "metadata": {},
   "source": [
    "<div>A pupil Tim gets homework to identify whether three line segments could possibly form a triangle.\n",
    "<p>&nbsp;</p>\n",
    "However, this assignment is very heavy because there are hundreds of records to calculate.\n",
    "\n",
    "<p>&nbsp;</p>\n",
    "Could you help Tim by writing a query to judge whether these three sides can form a triangle, assuming table <code>triangle</code> holds the length of the three sides x, y and z.\n",
    "\n",
    "<p>&nbsp;</p>\n",
    "\n",
    "<pre>| x  | y  | z  |\n",
    "|----|----|----|\n",
    "| 13 | 15 | 30 |\n",
    "| 10 | 20 | 15 |\n",
    "</pre>\n",
    "For the sample data above, your query should return the follow result:\n",
    "\n",
    "<pre>| x  | y  | z  | triangle |\n",
    "|----|----|----|----------|\n",
    "| 13 | 15 | 30 | No       |\n",
    "| 10 | 20 | 15 | Yes      |\n",
    "</pre>\n",
    "</div>"
   ]
  },
  {
   "cell_type": "markdown",
   "metadata": {},
   "source": [
    "## Option 1"
   ]
  },
  {
   "cell_type": "code",
   "execution_count": null,
   "metadata": {
    "scrolled": false
   },
   "outputs": [],
   "source": [
    "# Write your MySQL query statement below\n",
    "\n",
    "select x, y, z, case when x + y > z and y + z > x and z + x > y then 'Yes' else 'No' end as triangle\n",
    "from triangle\n"
   ]
  },
  {
   "cell_type": "markdown",
   "metadata": {},
   "source": [
    "#### Result: 267ms (79.06%)\n"
   ]
  }
 ],
 "metadata": {
  "kernelspec": {
   "display_name": "Python 2",
   "language": "python",
   "name": "python2"
  },
  "language_info": {
   "codemirror_mode": {
    "name": "ipython",
    "version": 2
   },
   "file_extension": ".py",
   "mimetype": "text/x-python",
   "name": "python",
   "nbconvert_exporter": "python",
   "pygments_lexer": "ipython2",
   "version": "2.7.16"
  }
 },
 "nbformat": 4,
 "nbformat_minor": 2
}
