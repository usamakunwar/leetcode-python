{
 "cells": [
  {
   "cell_type": "markdown",
   "metadata": {},
   "source": [
    "# 107. Binary Tree Level Order Traversal II (Easy)"
   ]
  },
  {
   "cell_type": "markdown",
   "metadata": {},
   "source": [
    "<div><p>Given a binary tree, return the <i>bottom-up level order</i> traversal of its nodes' values. (ie, from left to right, level by level from leaf to root).</p>\n",
    "\n",
    "<p>\n",
    "For example:<br>\n",
    "Given binary tree <code>[3,9,20,null,null,15,7]</code>,<br>\n",
    "</p><pre>    3\n",
    "   / \\\n",
    "  9  20\n",
    "    /  \\\n",
    "   15   7\n",
    "</pre>\n",
    "<p></p>\n",
    "<p>\n",
    "return its bottom-up level order traversal as:<br>\n",
    "</p><pre>[\n",
    "  [15,7],\n",
    "  [9,20],\n",
    "  [3]\n",
    "]\n",
    "</pre>\n",
    "<p></p></div>"
   ]
  },
  {
   "cell_type": "markdown",
   "metadata": {},
   "source": [
    "## Option 1\n",
    "<p>\n",
    "    BFS\n",
    "<p>\n",
    "Time complexity: O(n)\n",
    "<br>\n",
    "Space complexity: O(n)"
   ]
  },
  {
   "cell_type": "code",
   "execution_count": null,
   "metadata": {
    "scrolled": false
   },
   "outputs": [],
   "source": [
    "class Solution(object):\n",
    "    def levelOrderBottom(self, root):\n",
    "        if not root: return []\n",
    "        q, res = collections.deque(), []\n",
    "        q.append((root,0))\n",
    "        while q:\n",
    "            node,lev = q.popleft()\n",
    "            if len(res) > lev:\n",
    "                res[len(res)-lev-1].append(node.val)\n",
    "            else:\n",
    "                res = [[node.val]] + res\n",
    "                \n",
    "            if node.left: q.append((node.left,lev+1))\n",
    "            if node.right: q.append((node.right,lev+1))\n",
    "                \n",
    "        return res\n",
    "            \n",
    "        "
   ]
  },
  {
   "cell_type": "markdown",
   "metadata": {},
   "source": [
    "#### Result: 24ms (51.15%)"
   ]
  },
  {
   "cell_type": "markdown",
   "metadata": {},
   "source": [
    "## Option 1\n",
    "<p>\n",
    "    DFS\n",
    "<p>\n",
    "Time complexity: O(n)\n",
    "<br>\n",
    "Space complexity: O(n)"
   ]
  },
  {
   "cell_type": "code",
   "execution_count": null,
   "metadata": {},
   "outputs": [],
   "source": [
    "class Solution(object):\n",
    "    def levelOrderBottom(self, root):\n",
    "\n",
    "        if not root: return []\n",
    "        self.res = []\n",
    "        \n",
    "        def search(node, lev):\n",
    "            if len(self.res) > lev:\n",
    "                self.res[lev].append(node.val)\n",
    "            else:\n",
    "                self.res.append([node.val])\n",
    "            \n",
    "            if node.left: search(node.left, lev+1)\n",
    "            if node.right: search(node.right, lev+1)\n",
    "        \n",
    "        search(root,0)\n",
    "        \n",
    "        return self.res[::-1]\n",
    "            "
   ]
  },
  {
   "cell_type": "markdown",
   "metadata": {},
   "source": [
    "#### Result: 32ms (38.87%)"
   ]
  }
 ],
 "metadata": {
  "kernelspec": {
   "display_name": "Python 2",
   "language": "python",
   "name": "python2"
  },
  "language_info": {
   "codemirror_mode": {
    "name": "ipython",
    "version": 2
   },
   "file_extension": ".py",
   "mimetype": "text/x-python",
   "name": "python",
   "nbconvert_exporter": "python",
   "pygments_lexer": "ipython2",
   "version": "2.7.16"
  }
 },
 "nbformat": 4,
 "nbformat_minor": 2
}
