{
 "cells": [
  {
   "cell_type": "markdown",
   "metadata": {},
   "source": [
    "# 532. K-diff Pairs in an Array (Easy)"
   ]
  },
  {
   "cell_type": "markdown",
   "metadata": {},
   "source": [
    "<div><p>\n",
    "Given an array of integers and an integer <b>k</b>, you need to find the number of <b>unique</b> k-diff pairs in the array. Here a <b>k-diff</b> pair is defined as an integer pair (i, j), where <b>i</b> and <b>j</b> are both numbers in the array and their <a href=\"https://en.wikipedia.org/wiki/Absolute_difference\">absolute difference</a> is <b>k</b>.\n",
    "</p>\n",
    "\n",
    "\n",
    "<p><b>Example 1:</b><br>\n",
    "</p><pre><b>Input:</b> [3, 1, 4, 1, 5], k = 2\n",
    "<b>Output:</b> 2\n",
    "<b>Explanation: </b>There are two 2-diff pairs in the array, (1, 3) and (3, 5).<br>Although we have two 1s in the input, we should only return the number of <b>unique</b> pairs.\n",
    "</pre>\n",
    "<p></p>\n",
    "\n",
    "<p><b>Example 2:</b><br>\n",
    "</p><pre><b>Input:</b>[1, 2, 3, 4, 5], k = 1\n",
    "<b>Output: </b>4\n",
    "<b>Explanation:</b> There are four 1-diff pairs in the array, (1, 2), (2, 3), (3, 4) and (4, 5).\n",
    "</pre>\n",
    "<p></p>\n",
    "\n",
    "<p><b>Example 3:</b><br>\n",
    "</p><pre><b>Input: </b>[1, 3, 1, 5, 4], k = 0\n",
    "<b>Output: </b>1\n",
    "<b>Explanation:</b> There is one 0-diff pair in the array, (1, 1).\n",
    "</pre>\n",
    "<p></p>\n",
    "\n",
    "<p><b>Note:</b><br>\n",
    "</p><ol>\n",
    "<li>The pairs (i, j) and (j, i) count as the same pair.</li>\n",
    "<li>The length of the array won't exceed 10,000.</li>\n",
    "<li>All the integers in the given input belong to the range: [-1e7, 1e7].</li>\n",
    "</ol>\n",
    "<p></p></div>"
   ]
  },
  {
   "cell_type": "markdown",
   "metadata": {},
   "source": [
    "## Option 1\n",
    " <p>\n",
    "<p>\n",
    "Time complexity: O(n)\n",
    "<br>\n",
    "Space complexity: O(n) "
   ]
  },
  {
   "cell_type": "code",
   "execution_count": null,
   "metadata": {
    "scrolled": false
   },
   "outputs": [],
   "source": [
    "import collections\n",
    "class Solution(object):\n",
    "    def findPairs(self, nums, k):\n",
    "        m, res = set(), set()\n",
    "        for n in nums:\n",
    "            if n+k in m and (n,n+k) not in res and (n+k,n) not in res:\n",
    "                res.add((n,n+k))\n",
    "            if n-k in m and (n,n-k) not in res and (n-k,n) not in res:\n",
    "                res.add((n, n-k))  \n",
    "            m.add(n)\n",
    "            \n",
    "        return len(res)\n",
    "        \n",
    "Solution().findPairs([3, 1, 3, 1, 5], 2)\n",
    "        "
   ]
  },
  {
   "cell_type": "markdown",
   "metadata": {},
   "source": [
    "#### Result: 120ms (79.13%)\n"
   ]
  },
  {
   "cell_type": "markdown",
   "metadata": {},
   "source": [
    "## Option 1\n",
    " <p>\n",
    "<p>\n",
    "Time complexity: O(n)\n",
    "<br>\n",
    "Space complexity: O(n) "
   ]
  },
  {
   "cell_type": "code",
   "execution_count": null,
   "metadata": {},
   "outputs": [],
   "source": [
    "import collections\n",
    "class Solution(object):\n",
    "    def findPairs(self, nums, k):\n",
    "        if k < 0 : return 0\n",
    "        c, res = collections.Counter(nums), 0\n",
    "        \n",
    "        for n in c:\n",
    "            if k == 0:\n",
    "                res += c[n] > 1\n",
    "            elif c[n+k] > 0:\n",
    "                res += 1\n",
    "        return res\n",
    "            \n",
    "        \n",
    "Solution().findPairs([1,3,1,5,4],0)\n",
    "        "
   ]
  },
  {
   "cell_type": "markdown",
   "metadata": {},
   "source": [
    "#### Result: 116ms (82.83%)\n"
   ]
  }
 ],
 "metadata": {
  "kernelspec": {
   "display_name": "Python 2",
   "language": "python",
   "name": "python2"
  },
  "language_info": {
   "codemirror_mode": {
    "name": "ipython",
    "version": 2
   },
   "file_extension": ".py",
   "mimetype": "text/x-python",
   "name": "python",
   "nbconvert_exporter": "python",
   "pygments_lexer": "ipython2",
   "version": "2.7.16"
  }
 },
 "nbformat": 4,
 "nbformat_minor": 2
}
