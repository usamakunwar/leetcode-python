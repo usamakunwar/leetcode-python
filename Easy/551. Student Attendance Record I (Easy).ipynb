{
 "cells": [
  {
   "cell_type": "markdown",
   "metadata": {},
   "source": [
    "# 551. Student Attendance Record I (Easy)"
   ]
  },
  {
   "cell_type": "markdown",
   "metadata": {},
   "source": [
    "<div>You are given a string representing an attendance record for a student. The record only contains the following three characters:\n",
    "\n",
    "<p>\n",
    "</p><ol>\n",
    "<li><b>'A'</b> : Absent. </li>\n",
    "<li><b>'L'</b> : Late.</li>\n",
    "<li> <b>'P'</b> : Present. </li>\n",
    "</ol>\n",
    "<p></p>\n",
    "\n",
    "<p>\n",
    "A student could be rewarded if his attendance record doesn't contain <b>more than one 'A' (absent)</b> or <b>more than two continuous 'L' (late)</b>.    </p>\n",
    "\n",
    "<p>You need to return whether the student could be rewarded according to his attendance record.</p>\n",
    "\n",
    "<p><b>Example 1:</b><br>\n",
    "</p><pre><b>Input:</b> \"PPALLP\"\n",
    "<b>Output:</b> True\n",
    "</pre>\n",
    "<p></p>\n",
    "\n",
    "<p><b>Example 2:</b><br>\n",
    "</p><pre><b>Input:</b> \"PPALLL\"\n",
    "<b>Output:</b> False\n",
    "</pre>\n",
    "<p></p>\n",
    "\n",
    "\n",
    "</div>"
   ]
  },
  {
   "cell_type": "markdown",
   "metadata": {},
   "source": [
    "## Option 1\n",
    " \n",
    "<p>\n",
    "Time complexity: O(n)\n",
    "<br>\n",
    "Space complexity: O(1) "
   ]
  },
  {
   "cell_type": "code",
   "execution_count": null,
   "metadata": {
    "scrolled": false
   },
   "outputs": [],
   "source": [
    "class Solution(object):\n",
    "    def checkRecord(self, s):\n",
    "        a = 0\n",
    "        for i in range(len(s)):\n",
    "            a += s[i] == 'A'\n",
    "            if a > 1: return False\n",
    "            if i > 1 and s[i] == 'L' and s[i-1] == 'L' and s[i-2] == 'L': return False               \n",
    "        return True\n",
    "        \n",
    "        \n",
    "Solution().checkRecord(\"PPALLP\")\n",
    "        "
   ]
  },
  {
   "cell_type": "markdown",
   "metadata": {},
   "source": [
    "#### Result: 20ms (70.69%)\n"
   ]
  }
 ],
 "metadata": {
  "kernelspec": {
   "display_name": "Python 2",
   "language": "python",
   "name": "python2"
  },
  "language_info": {
   "codemirror_mode": {
    "name": "ipython",
    "version": 2
   },
   "file_extension": ".py",
   "mimetype": "text/x-python",
   "name": "python",
   "nbconvert_exporter": "python",
   "pygments_lexer": "ipython2",
   "version": "2.7.16"
  }
 },
 "nbformat": 4,
 "nbformat_minor": 2
}
