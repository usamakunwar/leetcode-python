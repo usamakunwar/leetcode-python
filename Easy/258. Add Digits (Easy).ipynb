{
 "cells": [
  {
   "cell_type": "markdown",
   "metadata": {},
   "source": [
    "# 258. Add Digits (Easy)\n",
    "\n"
   ]
  },
  {
   "cell_type": "markdown",
   "metadata": {},
   "source": [
    "<div><p>Given a non-negative integer <code>num</code>, repeatedly add all its digits until the result has only one digit.</p>\n",
    "\n",
    "<p><strong>Example:</strong></p>\n",
    "\n",
    "<pre><strong>Input:</strong> <code>38</code>\n",
    "<strong>Output:</strong> 2 \n",
    "<strong>Explanation: </strong>The process is like: <code>3 + 8 = 11</code>, <code>1 + 1 = 2</code>. \n",
    "&nbsp;            Since <code>2</code> has only one digit, return it.\n",
    "</pre>\n",
    "\n",
    "<p><b>Follow up:</b><br>\n",
    "Could you do it without any loop/recursion in O(1) runtime?</p></div>"
   ]
  },
  {
   "cell_type": "markdown",
   "metadata": {},
   "source": [
    "## Option 1\n",
    " <p> \n",
    "            <p>\n",
    "                <p>\n",
    "Time complexity: O((logn)^2)  \n",
    "    <br>\n",
    "Space complexity: O(1)\n"
   ]
  },
  {
   "cell_type": "code",
   "execution_count": null,
   "metadata": {
    "scrolled": false
   },
   "outputs": [],
   "source": [
    "class Solution(object):\n",
    "    def addDigits(self, num):\n",
    "        \n",
    "        def add(n):\n",
    "            if n < 10: return n\n",
    "            curr = 0\n",
    "            while n > 0:\n",
    "                curr += n%10\n",
    "                n /= 10\n",
    "            return add(curr)\n",
    "        \n",
    "        return add(38)\n",
    "        \n",
    "        \n",
    "Solution().addDigits(38)   \n",
    "        "
   ]
  },
  {
   "cell_type": "markdown",
   "metadata": {},
   "source": [
    "#### Result: 16ms (91.56%)"
   ]
  }
 ],
 "metadata": {
  "kernelspec": {
   "display_name": "Python 2",
   "language": "python",
   "name": "python2"
  },
  "language_info": {
   "codemirror_mode": {
    "name": "ipython",
    "version": 2
   },
   "file_extension": ".py",
   "mimetype": "text/x-python",
   "name": "python",
   "nbconvert_exporter": "python",
   "pygments_lexer": "ipython2",
   "version": "2.7.16"
  }
 },
 "nbformat": 4,
 "nbformat_minor": 2
}
