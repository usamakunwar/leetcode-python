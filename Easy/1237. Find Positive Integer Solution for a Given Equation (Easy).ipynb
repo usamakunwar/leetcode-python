{
 "cells": [
  {
   "cell_type": "markdown",
   "metadata": {},
   "source": [
    "# 1237. Find Positive Integer Solution for a Given Equation (Easy)\n",
    "\n"
   ]
  },
  {
   "cell_type": "markdown",
   "metadata": {},
   "source": [
    "<div><p>Given a&nbsp;function&nbsp; <code>f(x, y)</code>&nbsp;and a value <code>z</code>, return all positive integer&nbsp;pairs <code>x</code> and <code>y</code> where <code>f(x,y) == z</code>.</p>\n",
    "\n",
    "<p>The function is constantly increasing, i.e.:</p>\n",
    "\n",
    "<ul>\n",
    "\t<li><code>f(x, y) &lt; f(x + 1, y)</code></li>\n",
    "\t<li><code>f(x, y) &lt; f(x, y + 1)</code></li>\n",
    "</ul>\n",
    "\n",
    "<p>The function interface is defined like this:&nbsp;</p>\n",
    "\n",
    "<pre>interface CustomFunction {\n",
    "public:\n",
    "&nbsp; // Returns positive integer f(x, y) for any given positive integer x and y.\n",
    "&nbsp; int f(int x, int y);\n",
    "};\n",
    "</pre>\n",
    "\n",
    "<p>For custom testing purposes you're given an integer <code>function_id</code> and a target <code>z</code> as input, where <code>function_id</code> represent one function from an secret internal list, on the examples you'll know only two functions from the list. &nbsp;</p>\n",
    "\n",
    "<p>You may return the solutions in any order.</p>\n",
    "\n",
    "<p>&nbsp;</p>\n",
    "<p><strong>Example 1:</strong></p>\n",
    "\n",
    "<pre><strong>Input:</strong> function_id = 1, z = 5\n",
    "<strong>Output:</strong> [[1,4],[2,3],[3,2],[4,1]]\n",
    "<strong>Explanation:</strong>&nbsp;function_id = 1 means that f(x, y) = x + y</pre>\n",
    "\n",
    "<p><strong>Example 2:</strong></p>\n",
    "\n",
    "<pre><strong>Input:</strong> function_id = 2, z = 5\n",
    "<strong>Output:</strong> [[1,5],[5,1]]\n",
    "<strong>Explanation:</strong>&nbsp;function_id = 2 means that f(x, y) = x * y\n",
    "</pre>\n",
    "\n",
    "<p>&nbsp;</p>\n",
    "<p><strong>Constraints:</strong></p>\n",
    "\n",
    "<ul>\n",
    "\t<li><code>1 &lt;= function_id &lt;= 9</code></li>\n",
    "\t<li><code>1 &lt;= z &lt;= 100</code></li>\n",
    "\t<li>It's guaranteed that the solutions of <code>f(x, y) == z</code> will be on the range <code>1 &lt;= x, y &lt;= 1000</code></li>\n",
    "\t<li>It's also guaranteed that <code>f(x, y)</code> will fit in 32 bit signed integer if <code>1 &lt;= x, y &lt;= 1000</code></li>\n",
    "</ul>\n",
    "</div>"
   ]
  },
  {
   "cell_type": "markdown",
   "metadata": {},
   "source": [
    "## Option 1\n",
    " <p> \n",
    "    <p>\n",
    "        <p>\n",
    "        \n",
    "Time complexity: O(1) (100*100)\n",
    "    <br>\n",
    "Space complexity: O(1)\n"
   ]
  },
  {
   "cell_type": "code",
   "execution_count": null,
   "metadata": {
    "scrolled": false
   },
   "outputs": [],
   "source": [
    "\"\"\"\n",
    "   This is the custom function interface.\n",
    "   You should not implement it, or speculate about its implementation\n",
    "   class CustomFunction:\n",
    "       # Returns f(x, y) for any given positive integers x and y.\n",
    "       # Note that f(x, y) is increasing with respect to both x and y.\n",
    "       # i.e. f(x, y) < f(x + 1, y), f(x, y) < f(x, y + 1)\n",
    "       def f(self, x, y):\n",
    "  \n",
    "\"\"\"\n",
    "    def findSolution(self, customfunction, z):\n",
    "        res = []\n",
    "        \n",
    "        for i in range(1,101):\n",
    "            for j in range(1,101):\n",
    "                if customfunction.f(i,j) == z:\n",
    "                    res.append([i,j])\n",
    "                    break\n",
    "        return res"
   ]
  },
  {
   "cell_type": "markdown",
   "metadata": {},
   "source": [
    "#### Result: 168ms (18.54%)"
   ]
  }
 ],
 "metadata": {
  "kernelspec": {
   "display_name": "Python 2",
   "language": "python",
   "name": "python2"
  },
  "language_info": {
   "codemirror_mode": {
    "name": "ipython",
    "version": 2
   },
   "file_extension": ".py",
   "mimetype": "text/x-python",
   "name": "python",
   "nbconvert_exporter": "python",
   "pygments_lexer": "ipython2",
   "version": "2.7.16"
  }
 },
 "nbformat": 4,
 "nbformat_minor": 2
}
