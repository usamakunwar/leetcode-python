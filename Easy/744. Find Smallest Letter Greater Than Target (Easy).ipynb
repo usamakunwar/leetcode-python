{
 "cells": [
  {
   "cell_type": "markdown",
   "metadata": {},
   "source": [
    "# 744. Find Smallest Letter Greater Than Target (Easy)"
   ]
  },
  {
   "cell_type": "markdown",
   "metadata": {},
   "source": [
    "<div><p>\n",
    "Given a list of sorted characters <code>letters</code> containing only lowercase letters, and given a target letter <code>target</code>, find the smallest element in the list that is larger than the given target.\n",
    "</p><p>\n",
    "Letters also wrap around.  For example, if the target is <code>target = 'z'</code> and <code>letters = ['a', 'b']</code>, the answer is <code>'a'</code>.\n",
    "</p>\n",
    "\n",
    "<p><b>Examples:</b><br>\n",
    "</p><pre><b>Input:</b>\n",
    "letters = [\"c\", \"f\", \"j\"]\n",
    "target = \"a\"\n",
    "<b>Output:</b> \"c\"\n",
    "\n",
    "<b>Input:</b>\n",
    "letters = [\"c\", \"f\", \"j\"]\n",
    "target = \"c\"\n",
    "<b>Output:</b> \"f\"\n",
    "\n",
    "<b>Input:</b>\n",
    "letters = [\"c\", \"f\", \"j\"]\n",
    "target = \"d\"\n",
    "<b>Output:</b> \"f\"\n",
    "\n",
    "<b>Input:</b>\n",
    "letters = [\"c\", \"f\", \"j\"]\n",
    "target = \"g\"\n",
    "<b>Output:</b> \"j\"\n",
    "\n",
    "<b>Input:</b>\n",
    "letters = [\"c\", \"f\", \"j\"]\n",
    "target = \"j\"\n",
    "<b>Output:</b> \"c\"\n",
    "\n",
    "<b>Input:</b>\n",
    "letters = [\"c\", \"f\", \"j\"]\n",
    "target = \"k\"\n",
    "<b>Output:</b> \"c\"\n",
    "</pre>\n",
    "<p></p>\n",
    "\n",
    "<p><b>Note:</b><br>\n",
    "</p><ol>\n",
    "<li><code>letters</code> has a length in range <code>[2, 10000]</code>.</li>\n",
    "<li><code>letters</code> consists of lowercase letters, and contains at least 2 unique letters.</li>\n",
    "<li><code>target</code> is a lowercase letter.</li>\n",
    "</ol>\n",
    "<p></p></div>"
   ]
  },
  {
   "cell_type": "markdown",
   "metadata": {},
   "source": [
    "## Option 1\n",
    " <p>\n",
    "\n",
    "Time complexity: O(n)\n",
    "<br>\n",
    "Space complexity: O(1) "
   ]
  },
  {
   "cell_type": "code",
   "execution_count": null,
   "metadata": {
    "scrolled": false
   },
   "outputs": [],
   "source": [
    "class Solution(object):\n",
    "    def nextGreatestLetter(self, letters, target):\n",
    "        res = float('inf')\n",
    "        target = ord(target)\n",
    "        for i in letters:\n",
    "            i = ord(i)\n",
    "            if target == i: continue\n",
    "            res = min(res, 26-(target-i) if target > i else i-target) \n",
    "    \n",
    "        \n",
    "        return chr((target+res-1)%ord('z')+ord('a')) if target+res > ord('z') else chr(target+res)\n",
    "        \n",
    "Solution().nextGreatestLetter([\"g\",\"a\"], \"g\")\n",
    "        "
   ]
  },
  {
   "cell_type": "markdown",
   "metadata": {},
   "source": [
    "#### Result: 92ms (57.74%)\n"
   ]
  }
 ],
 "metadata": {
  "kernelspec": {
   "display_name": "Python 2",
   "language": "python",
   "name": "python2"
  },
  "language_info": {
   "codemirror_mode": {
    "name": "ipython",
    "version": 2
   },
   "file_extension": ".py",
   "mimetype": "text/x-python",
   "name": "python",
   "nbconvert_exporter": "python",
   "pygments_lexer": "ipython2",
   "version": "2.7.16"
  }
 },
 "nbformat": 4,
 "nbformat_minor": 2
}
