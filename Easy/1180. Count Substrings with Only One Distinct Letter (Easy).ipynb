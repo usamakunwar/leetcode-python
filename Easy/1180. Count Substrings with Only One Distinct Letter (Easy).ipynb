{
 "cells": [
  {
   "cell_type": "markdown",
   "metadata": {},
   "source": [
    "# 1180. Count Substrings with Only One Distinct Letter (Easy)"
   ]
  },
  {
   "cell_type": "markdown",
   "metadata": {},
   "source": [
    "<div><p>Given a string <code>S</code>,&nbsp;return the number of substrings that have&nbsp;only <strong>one distinct</strong> letter.</p>\n",
    "\n",
    "<p>&nbsp;</p>\n",
    "<p><strong>Example 1:</strong></p>\n",
    "\n",
    "<pre><strong>Input:</strong> S = \"aaaba\"\n",
    "<strong>Output:</strong> 8\n",
    "<strong>Explanation: </strong>The substrings with one distinct letter are \"aaa\", \"aa\", \"a\", \"b\".\n",
    "\"aaa\" occurs 1 time.\n",
    "\"aa\" occurs 2 times.\n",
    "\"a\" occurs 4 times.\n",
    "\"b\" occurs 1 time.\n",
    "So the answer is 1 + 2 + 4 + 1 = 8.\n",
    "</pre>\n",
    "\n",
    "<p><strong>Example 2:</strong></p>\n",
    "\n",
    "<pre><strong>Input:</strong> S = \"aaaaaaaaaa\"\n",
    "<strong>Output:</strong> 55\n",
    "</pre>\n",
    "\n",
    "<p>&nbsp;</p>\n",
    "<p><strong>Constraints:</strong></p>\n",
    "\n",
    "<ul>\n",
    "\t<li><code>1 &lt;= S.length &lt;= 1000</code></li>\n",
    "\t<li><code>S[i]</code> consists of only lowercase English letters.</li>\n",
    "</ul>\n",
    "</div>"
   ]
  },
  {
   "cell_type": "markdown",
   "metadata": {},
   "source": [
    "## Option 1\n",
    "\n",
    "Time complexity: O(n) \n",
    "<br>\n",
    "Space complexity: O(1)"
   ]
  },
  {
   "cell_type": "code",
   "execution_count": 27,
   "metadata": {
    "scrolled": true
   },
   "outputs": [
    {
     "data": {
      "text/plain": [
       "55"
      ]
     },
     "execution_count": 27,
     "metadata": {},
     "output_type": "execute_result"
    }
   ],
   "source": [
    "class Solution(object):\n",
    "    def countLetters(self, S):\n",
    "        res=j=1\n",
    "        for i in range(1,len(S)):\n",
    "            j = j + 1 if S[i] == S[i-1] else 1\n",
    "            res += j\n",
    "        return res\n",
    "            \n",
    "Solution().countLetters(\"aaaaaaaaaa\")    \n"
   ]
  },
  {
   "cell_type": "markdown",
   "metadata": {},
   "source": [
    "#### Result: 16ms (82.98%)"
   ]
  }
 ],
 "metadata": {
  "kernelspec": {
   "display_name": "Python 2",
   "language": "python",
   "name": "python2"
  },
  "language_info": {
   "codemirror_mode": {
    "name": "ipython",
    "version": 2
   },
   "file_extension": ".py",
   "mimetype": "text/x-python",
   "name": "python",
   "nbconvert_exporter": "python",
   "pygments_lexer": "ipython2",
   "version": "2.7.16"
  }
 },
 "nbformat": 4,
 "nbformat_minor": 2
}
