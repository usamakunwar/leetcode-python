{
 "cells": [
  {
   "cell_type": "markdown",
   "metadata": {},
   "source": [
    "# 693. Binary Number with Alternating Bits (Easy)\n"
   ]
  },
  {
   "cell_type": "markdown",
   "metadata": {},
   "source": [
    "<div><p>Given a positive integer, check whether it has alternating bits: namely, if two adjacent bits will always have different values.</p>\n",
    "\n",
    "<p><b>Example 1:</b><br>\n",
    "</p><pre><b>Input:</b> 5\n",
    "<b>Output:</b> True\n",
    "<b>Explanation:</b>\n",
    "The binary representation of 5 is: 101\n",
    "</pre>\n",
    "<p></p>\n",
    "\n",
    "<p><b>Example 2:</b><br>\n",
    "</p><pre><b>Input:</b> 7\n",
    "<b>Output:</b> False\n",
    "<b>Explanation:</b>\n",
    "The binary representation of 7 is: 111.\n",
    "</pre>\n",
    "<p></p>\n",
    "\n",
    "<p><b>Example 3:</b><br>\n",
    "</p><pre><b>Input:</b> 11\n",
    "<b>Output:</b> False\n",
    "<b>Explanation:</b>\n",
    "The binary representation of 11 is: 1011.\n",
    "</pre>\n",
    "<p></p>\n",
    "\n",
    "<p><b>Example 4:</b><br>\n",
    "</p><pre><b>Input:</b> 10\n",
    "<b>Output:</b> True\n",
    "<b>Explanation:</b>\n",
    "The binary representation of 10 is: 1010.\n",
    "</pre>\n",
    "<p></p></div>"
   ]
  },
  {
   "cell_type": "markdown",
   "metadata": {},
   "source": [
    "## Option 1\n",
    "<p>             \n",
    "<p>\n",
    "    <p>\n",
    "Time complexity: O(1)\n",
    "    <br>\n",
    "Space complexity: O(1)\n"
   ]
  },
  {
   "cell_type": "code",
   "execution_count": null,
   "metadata": {},
   "outputs": [],
   "source": [
    "class Solution(object):\n",
    "    def hasAlternatingBits(self, n):\n",
    "        prev = not n%2\n",
    "\n",
    "        while n > 0:\n",
    "            if n & 1 and prev: return False \n",
    "            if not n & 1 and not prev: return False\n",
    "            prev = n & 1\n",
    "            n = n >> 1\n",
    "            \n",
    "        return True\n",
    "        \n",
    "        \n",
    "        \n",
    "Solution().hasAlternatingBits(8)\n"
   ]
  },
  {
   "cell_type": "markdown",
   "metadata": {},
   "source": [
    "#### Result: 12ms (92.86%)"
   ]
  }
 ],
 "metadata": {
  "kernelspec": {
   "display_name": "Python 2",
   "language": "python",
   "name": "python2"
  },
  "language_info": {
   "codemirror_mode": {
    "name": "ipython",
    "version": 2
   },
   "file_extension": ".py",
   "mimetype": "text/x-python",
   "name": "python",
   "nbconvert_exporter": "python",
   "pygments_lexer": "ipython2",
   "version": "2.7.16"
  }
 },
 "nbformat": 4,
 "nbformat_minor": 2
}
