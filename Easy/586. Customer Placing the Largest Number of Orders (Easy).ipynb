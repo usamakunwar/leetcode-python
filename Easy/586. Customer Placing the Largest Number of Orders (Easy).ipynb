{
 "cells": [
  {
   "cell_type": "markdown",
   "metadata": {},
   "source": [
    "# 586. Customer Placing the Largest Number of Orders (Easy)"
   ]
  },
  {
   "cell_type": "markdown",
   "metadata": {},
   "source": [
    "<div><p>Query the <b>customer_number</b> from the <b><i>orders</i></b> table for the customer who has placed the largest number of orders.</p>\n",
    "\n",
    "<p>It is guaranteed that exactly one customer will have placed more orders than any other customer.</p>\n",
    "\n",
    "<p>The <b><i>orders</i></b> table is defined as follows:</p>\n",
    "\n",
    "<pre>| Column            | Type      |\n",
    "|-------------------|-----------|\n",
    "| order_number (PK) | int       |\n",
    "| customer_number   | int       |\n",
    "| order_date        | date      |\n",
    "| required_date     | date      |\n",
    "| shipped_date      | date      |\n",
    "| status            | char(15)  |\n",
    "| comment           | char(200) |\n",
    "</pre>\n",
    "\n",
    "<p><b>Sample Input</b></p>\n",
    "\n",
    "<pre>| order_number | customer_number | order_date | required_date | shipped_date | status | comment |\n",
    "|--------------|-----------------|------------|---------------|--------------|--------|---------|\n",
    "| 1            | 1               | 2017-04-09 | 2017-04-13    | 2017-04-12   | Closed |         |\n",
    "| 2            | 2               | 2017-04-15 | 2017-04-20    | 2017-04-18   | Closed |         |\n",
    "| 3            | 3               | 2017-04-16 | 2017-04-25    | 2017-04-20   | Closed |         |\n",
    "| 4            | 3               | 2017-04-18 | 2017-04-28    | 2017-04-25   | Closed |         |\n",
    "</pre>\n",
    "\n",
    "<p><b>Sample Output</b></p>\n",
    "\n",
    "<pre>| customer_number |\n",
    "|-----------------|\n",
    "| 3               |\n",
    "</pre>\n",
    "\n",
    "<p><b>Explanation</b></p>\n",
    "\n",
    "<pre>The customer with number '3' has two orders, which is greater than either customer '1' or '2' because each of them  only has one order. \n",
    "So the result is customer_number '3'.\n",
    "</pre>\n",
    "\n",
    "<p><i><b>Follow up:</b> What if more than one customer have the largest number of orders, can you find all the customer_number in this case?</i></p>\n",
    "</div>"
   ]
  },
  {
   "cell_type": "markdown",
   "metadata": {},
   "source": [
    "## Option 1"
   ]
  },
  {
   "cell_type": "code",
   "execution_count": null,
   "metadata": {
    "scrolled": false
   },
   "outputs": [],
   "source": [
    "# Write your MySQL query statement below\n",
    "\n",
    "select customer_number from orders \n",
    "group by customer_number\n",
    "order by count(order_number) desc\n",
    "limit 1\n"
   ]
  },
  {
   "cell_type": "markdown",
   "metadata": {},
   "source": [
    "#### Result: 496ms (88.60%)\n"
   ]
  }
 ],
 "metadata": {
  "kernelspec": {
   "display_name": "Python 2",
   "language": "python",
   "name": "python2"
  },
  "language_info": {
   "codemirror_mode": {
    "name": "ipython",
    "version": 2
   },
   "file_extension": ".py",
   "mimetype": "text/x-python",
   "name": "python",
   "nbconvert_exporter": "python",
   "pygments_lexer": "ipython2",
   "version": "2.7.16"
  }
 },
 "nbformat": 4,
 "nbformat_minor": 2
}
