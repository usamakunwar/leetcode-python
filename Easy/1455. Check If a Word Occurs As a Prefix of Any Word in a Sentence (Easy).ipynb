{
 "cells": [
  {
   "cell_type": "markdown",
   "metadata": {},
   "source": [
    "# 1455. Check If a Word Occurs As a Prefix of Any Word in a Sentence (Easy)"
   ]
  },
  {
   "cell_type": "markdown",
   "metadata": {},
   "source": [
    "<div><p>Given a <code>sentence</code>&nbsp;that consists of some words separated by a&nbsp;<strong>single space</strong>, and a <code>searchWord</code>.</p>\n",
    "\n",
    "<p>You have to check if <code>searchWord</code> is a prefix of any word in <code>sentence</code>.</p>\n",
    "\n",
    "<p>Return <em>the index of the word</em> in <code>sentence</code> where <code>searchWord</code> is a prefix of this word (<strong>1-indexed</strong>).</p>\n",
    "\n",
    "<p>If <code>searchWord</code> is&nbsp;a prefix of more than one word, return the index of the first word <strong>(minimum index)</strong>. If there is no such word return <strong>-1</strong>.</p>\n",
    "\n",
    "<p>A <strong>prefix</strong> of a string&nbsp;<code>S</code> is any leading contiguous substring of <code>S</code>.</p>\n",
    "\n",
    "<p>&nbsp;</p>\n",
    "<p><strong>Example 1:</strong></p>\n",
    "\n",
    "<pre><strong>Input:</strong> sentence = \"i love eating burger\", searchWord = \"burg\"\n",
    "<strong>Output:</strong> 4\n",
    "<strong>Explanation:</strong> \"burg\" is prefix of \"burger\" which is the 4th word in the sentence.\n",
    "</pre>\n",
    "\n",
    "<p><strong>Example 2:</strong></p>\n",
    "\n",
    "<pre><strong>Input:</strong> sentence = \"this problem is an easy problem\", searchWord = \"pro\"\n",
    "<strong>Output:</strong> 2\n",
    "<strong>Explanation:</strong> \"pro\" is prefix of \"problem\" which is the 2nd and the 6th word in the sentence, but we return 2 as it's the minimal index.\n",
    "</pre>\n",
    "\n",
    "<p><strong>Example 3:</strong></p>\n",
    "\n",
    "<pre><strong>Input:</strong> sentence = \"i am tired\", searchWord = \"you\"\n",
    "<strong>Output:</strong> -1\n",
    "<strong>Explanation:</strong> \"you\" is not a prefix of any word in the sentence.\n",
    "</pre>\n",
    "\n",
    "<p><strong>Example 4:</strong></p>\n",
    "\n",
    "<pre><strong>Input:</strong> sentence = \"i use triple pillow\", searchWord = \"pill\"\n",
    "<strong>Output:</strong> 4\n",
    "</pre>\n",
    "\n",
    "<p><strong>Example 5:</strong></p>\n",
    "\n",
    "<pre><strong>Input:</strong> sentence = \"hello from the other side\", searchWord = \"they\"\n",
    "<strong>Output:</strong> -1\n",
    "</pre>\n",
    "\n",
    "<p>&nbsp;</p>\n",
    "<p><strong>Constraints:</strong></p>\n",
    "\n",
    "<ul>\n",
    "\t<li><code>1 &lt;= sentence.length &lt;= 100</code></li>\n",
    "\t<li><code>1 &lt;= searchWord.length &lt;= 10</code></li>\n",
    "\t<li><code>sentence</code> consists of lowercase English letters and spaces.</li>\n",
    "\t<li><code>searchWord</code>&nbsp;consists of lowercase English letters.</li>\n",
    "</ul>\n",
    "</div>"
   ]
  },
  {
   "cell_type": "markdown",
   "metadata": {},
   "source": [
    "## Option 1\n",
    " \n",
    " <p>\n",
    "\n",
    "Time complexity: O(n)\n",
    "<br>\n",
    "Space complexity: O(n) "
   ]
  },
  {
   "cell_type": "code",
   "execution_count": null,
   "metadata": {
    "scrolled": true
   },
   "outputs": [],
   "source": [
    "class Solution(object):\n",
    "    def isPrefixOfWord(self, sentence, searchWord):\n",
    "        for i,w in enumerate(sentence.split(' ')):\n",
    "            if w[:len(searchWord)] == searchWord:\n",
    "                return i+1\n",
    "    \n",
    "        return -1\n",
    "        \n",
    "Solution().isPrefixOfWord(\"i love eating burger\", \"burg\")\n",
    "        "
   ]
  },
  {
   "cell_type": "markdown",
   "metadata": {},
   "source": [
    "#### Result: 12ms (96.93%)\n"
   ]
  }
 ],
 "metadata": {
  "kernelspec": {
   "display_name": "Python 2",
   "language": "python",
   "name": "python2"
  },
  "language_info": {
   "codemirror_mode": {
    "name": "ipython",
    "version": 2
   },
   "file_extension": ".py",
   "mimetype": "text/x-python",
   "name": "python",
   "nbconvert_exporter": "python",
   "pygments_lexer": "ipython2",
   "version": "2.7.16"
  }
 },
 "nbformat": 4,
 "nbformat_minor": 2
}
