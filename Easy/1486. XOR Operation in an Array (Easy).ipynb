{
 "cells": [
  {
   "cell_type": "markdown",
   "metadata": {},
   "source": [
    "# 1486. XOR Operation in an Array (Easy)"
   ]
  },
  {
   "cell_type": "markdown",
   "metadata": {},
   "source": [
    "<div><p>Given an integer <code>n</code> and an integer <code>start</code>.</p>\n",
    "\n",
    "<p>Define an array <code>nums</code> where <code>nums[i] = start + 2*i</code> (0-indexed) and <code>n == nums.length</code>.</p>\n",
    "\n",
    "<p>Return the bitwise&nbsp;XOR&nbsp;of all elements of <code>nums</code>.</p>\n",
    "\n",
    "<p>&nbsp;</p>\n",
    "<p><strong>Example 1:</strong></p>\n",
    "\n",
    "<pre><strong>Input:</strong> n = 5, start = 0\n",
    "<strong>Output:</strong> 8\n",
    "<strong>Explanation: </strong>Array nums is equal to [0, 2, 4, 6, 8] where (0 ^ 2 ^ 4 ^ 6 ^ 8) = 8.\n",
    "Where \"^\" corresponds to bitwise XOR operator.\n",
    "</pre>\n",
    "\n",
    "<p><strong>Example 2:</strong></p>\n",
    "\n",
    "<pre><strong>Input:</strong> n = 4, start = 3\n",
    "<strong>Output:</strong> 8\n",
    "<strong>Explanation: </strong>Array nums is equal to [3, 5, 7, 9] where (3 ^ 5 ^ 7 ^ 9) = 8.</pre>\n",
    "\n",
    "<p><strong>Example 3:</strong></p>\n",
    "\n",
    "<pre><strong>Input:</strong> n = 1, start = 7\n",
    "<strong>Output:</strong> 7\n",
    "</pre>\n",
    "\n",
    "<p><strong>Example 4:</strong></p>\n",
    "\n",
    "<pre><strong>Input:</strong> n = 10, start = 5\n",
    "<strong>Output:</strong> 2\n",
    "</pre>\n",
    "\n",
    "<p>&nbsp;</p>\n",
    "<p><strong>Constraints:</strong></p>\n",
    "\n",
    "<ul>\n",
    "\t<li><code>1 &lt;= n &lt;= 1000</code></li>\n",
    "\t<li><code>0 &lt;= start &lt;= 1000</code></li>\n",
    "\t<li><code>n == nums.length</code></li>\n",
    "</ul></div>"
   ]
  },
  {
   "cell_type": "markdown",
   "metadata": {},
   "source": [
    "## Option 1\n",
    " \n",
    " <p>\n",
    "\n",
    "<p>\n",
    "Time complexity: O(n)\n",
    "<br>\n",
    "Space complexity: O(1) "
   ]
  },
  {
   "cell_type": "code",
   "execution_count": null,
   "metadata": {
    "scrolled": true
   },
   "outputs": [],
   "source": [
    "class Solution(object):\n",
    "    def xorOperation(self, n, start):\n",
    "        curr = 0\n",
    "        for i in range(n):\n",
    "            curr ^= start+2*i\n",
    "        return curr\n",
    "\n",
    "Solution().xorOperation(9,5)\n",
    "  "
   ]
  },
  {
   "cell_type": "markdown",
   "metadata": {},
   "source": [
    "#### Result: 16ms (88.98%)\n"
   ]
  }
 ],
 "metadata": {
  "kernelspec": {
   "display_name": "Python 2",
   "language": "python",
   "name": "python2"
  },
  "language_info": {
   "codemirror_mode": {
    "name": "ipython",
    "version": 2
   },
   "file_extension": ".py",
   "mimetype": "text/x-python",
   "name": "python",
   "nbconvert_exporter": "python",
   "pygments_lexer": "ipython2",
   "version": "2.7.16"
  }
 },
 "nbformat": 4,
 "nbformat_minor": 2
}
