{
 "cells": [
  {
   "cell_type": "markdown",
   "metadata": {},
   "source": [
    "# 1408. String Matching in an Array (Easy)"
   ]
  },
  {
   "cell_type": "markdown",
   "metadata": {},
   "source": [
    "<div><p>Given an array of string <code>words</code>. Return all strings in <code>words</code> which is substring of another word in <strong>any</strong> order.&nbsp;</p>\n",
    "\n",
    "<p>String <code>words[i]</code> is substring of <code>words[j]</code>,&nbsp;if&nbsp;can be obtained removing some characters to left and/or right side of <code>words[j]</code>.</p>\n",
    "\n",
    "<p>&nbsp;</p>\n",
    "<p><strong>Example 1:</strong></p>\n",
    "\n",
    "<pre><strong>Input:</strong> words = [\"mass\",\"as\",\"hero\",\"superhero\"]\n",
    "<strong>Output:</strong> [\"as\",\"hero\"]\n",
    "<strong>Explanation:</strong> \"as\" is substring of \"mass\" and \"hero\" is substring of \"superhero\".\n",
    "[\"hero\",\"as\"] is also a valid answer.\n",
    "</pre>\n",
    "\n",
    "<p><strong>Example 2:</strong></p>\n",
    "\n",
    "<pre><strong>Input:</strong> words = [\"leetcode\",\"et\",\"code\"]\n",
    "<strong>Output:</strong> [\"et\",\"code\"]\n",
    "<strong>Explanation:</strong> \"et\", \"code\" are substring of \"leetcode\".\n",
    "</pre>\n",
    "\n",
    "<p><strong>Example 3:</strong></p>\n",
    "\n",
    "<pre><strong>Input:</strong> words = [\"blue\",\"green\",\"bu\"]\n",
    "<strong>Output:</strong> []\n",
    "</pre>\n",
    "\n",
    "<p>&nbsp;</p>\n",
    "<p><strong>Constraints:</strong></p>\n",
    "\n",
    "<ul>\n",
    "\t<li><code>1 &lt;= words.length &lt;= 100</code></li>\n",
    "\t<li><code>1 &lt;= words[i].length &lt;= 30</code></li>\n",
    "\t<li><code>words[i]</code> contains only lowercase English letters.</li>\n",
    "\t<li>It's <strong>guaranteed</strong>&nbsp;that <code>words[i]</code>&nbsp;will be unique.</li>\n",
    "</ul></div>"
   ]
  },
  {
   "cell_type": "markdown",
   "metadata": {},
   "source": [
    "## Option 1\n",
    "<p>\n",
    "    <p>\n",
    "Time complexity: O(n^2)\n",
    "<br>\n",
    "Space complexity: O(n) "
   ]
  },
  {
   "cell_type": "code",
   "execution_count": null,
   "metadata": {
    "scrolled": true
   },
   "outputs": [],
   "source": [
    "class Solution(object):\n",
    "    def stringMatching(self, words):\n",
    "        res = []\n",
    "        for w1 in words:\n",
    "            for w2 in words:\n",
    "                if w1 == w2: continue\n",
    "                if w1 in w2:\n",
    "                    res.append(w1)\n",
    "                    break\n",
    "        return res\n",
    "        \n",
    "Solution().stringMatching([\"blue\",\"green\",\"bu\"])\n",
    "        "
   ]
  },
  {
   "cell_type": "markdown",
   "metadata": {},
   "source": [
    "#### Result: 32ms (41.61%)\n"
   ]
  }
 ],
 "metadata": {
  "kernelspec": {
   "display_name": "Python 2",
   "language": "python",
   "name": "python2"
  },
  "language_info": {
   "codemirror_mode": {
    "name": "ipython",
    "version": 2
   },
   "file_extension": ".py",
   "mimetype": "text/x-python",
   "name": "python",
   "nbconvert_exporter": "python",
   "pygments_lexer": "ipython2",
   "version": "2.7.16"
  }
 },
 "nbformat": 4,
 "nbformat_minor": 2
}
