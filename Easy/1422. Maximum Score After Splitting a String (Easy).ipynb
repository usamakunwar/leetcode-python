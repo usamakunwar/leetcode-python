{
 "cells": [
  {
   "cell_type": "markdown",
   "metadata": {},
   "source": [
    "# 1422. Maximum Score After Splitting a String (Easy)"
   ]
  },
  {
   "cell_type": "markdown",
   "metadata": {},
   "source": [
    "<div><p>Given a&nbsp;string <code>s</code>&nbsp;of zeros and ones, <em>return the maximum score after splitting the string into two <strong>non-empty</strong> substrings</em> (i.e. <strong>left</strong> substring and <strong>right</strong> substring).</p>\n",
    "\n",
    "<p>The score after splitting a string is the number of <strong>zeros</strong> in the <strong>left</strong> substring plus the number of <strong>ones</strong> in the <strong>right</strong> substring.</p>\n",
    "\n",
    "<p>&nbsp;</p>\n",
    "<p><strong>Example 1:</strong></p>\n",
    "\n",
    "<pre><strong>Input:</strong> s = \"011101\"\n",
    "<strong>Output:</strong> 5 \n",
    "<strong>Explanation:</strong> \n",
    "All possible ways of splitting s into two non-empty substrings are:\n",
    "left = \"0\" and right = \"11101\", score = 1 + 4 = 5 \n",
    "left = \"01\" and right = \"1101\", score = 1 + 3 = 4 \n",
    "left = \"011\" and right = \"101\", score = 1 + 2 = 3 \n",
    "left = \"0111\" and right = \"01\", score = 1 + 1 = 2 \n",
    "left = \"01110\" and right = \"1\", score = 2 + 1 = 3\n",
    "</pre>\n",
    "\n",
    "<p><strong>Example 2:</strong></p>\n",
    "\n",
    "<pre><strong>Input:</strong> s = \"00111\"\n",
    "<strong>Output:</strong> 5\n",
    "<strong>Explanation:</strong> When left = \"00\" and right = \"111\", we get the maximum score = 2 + 3 = 5\n",
    "</pre>\n",
    "\n",
    "<p><strong>Example 3:</strong></p>\n",
    "\n",
    "<pre><strong>Input:</strong> s = \"1111\"\n",
    "<strong>Output:</strong> 3\n",
    "</pre>\n",
    "\n",
    "<p>&nbsp;</p>\n",
    "<p><strong>Constraints:</strong></p>\n",
    "\n",
    "<ul>\n",
    "\t<li><code>2 &lt;= s.length &lt;= 500</code></li>\n",
    "\t<li>The string <code>s</code> consists of characters '0' and '1' only.</li>\n",
    "</ul>\n",
    "</div>"
   ]
  },
  {
   "cell_type": "markdown",
   "metadata": {},
   "source": [
    "## Option 1\n",
    "<p>\n",
    "    <p>\n",
    "Time complexity: O(n)\n",
    "    <br>\n",
    "Space complexity: O(n)"
   ]
  },
  {
   "cell_type": "code",
   "execution_count": null,
   "metadata": {
    "scrolled": true
   },
   "outputs": [],
   "source": [
    "class Solution(object):\n",
    "    def maxScore(self, s):\n",
    "        left_zeros, right_ones = 0, sum(a == '1' for a in s)\n",
    "        res = 0\n",
    "        for i in range(len(s)-1):\n",
    "            left_zeros += s[i] == '0'\n",
    "            right_ones -= s[i] == '1'\n",
    "            res = max(res, left_zeros+right_ones)\n",
    "        return res\n",
    "            \n",
    "        \n",
    "\n",
    "Solution().maxScore(\"01\")"
   ]
  },
  {
   "cell_type": "markdown",
   "metadata": {},
   "source": [
    "#### Result: 24ms (87.7%)"
   ]
  }
 ],
 "metadata": {
  "kernelspec": {
   "display_name": "Python 2",
   "language": "python",
   "name": "python2"
  },
  "language_info": {
   "codemirror_mode": {
    "name": "ipython",
    "version": 2
   },
   "file_extension": ".py",
   "mimetype": "text/x-python",
   "name": "python",
   "nbconvert_exporter": "python",
   "pygments_lexer": "ipython2",
   "version": "2.7.16"
  }
 },
 "nbformat": 4,
 "nbformat_minor": 2
}
