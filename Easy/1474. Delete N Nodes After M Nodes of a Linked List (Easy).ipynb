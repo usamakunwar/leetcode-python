{
 "cells": [
  {
   "cell_type": "markdown",
   "metadata": {},
   "source": [
    "# 1474. Delete N Nodes After M Nodes of a Linked List (Easy)"
   ]
  },
  {
   "cell_type": "markdown",
   "metadata": {},
   "source": [
    "<div><p>Given the&nbsp;<code>head</code>&nbsp;of a linked list and two integers <code>m</code> and <code>n</code>. Traverse the linked list and remove some nodes&nbsp;in the following way:</p>\n",
    "\n",
    "<ul>\n",
    "\t<li>Start with the head as the current node.</li>\n",
    "\t<li>Keep the first <code>m</code> nodes starting with the current node.</li>\n",
    "\t<li>Remove the next <code>n</code> nodes</li>\n",
    "\t<li>Keep repeating steps 2 and 3 until you reach the end of the list.</li>\n",
    "</ul>\n",
    "\n",
    "<p>Return the head of the modified list after removing the mentioned nodes.</p>\n",
    "\n",
    "<p><strong>Follow up question:</strong> How can you solve this problem by modifying the list in-place?</p>\n",
    "\n",
    "<p>&nbsp;</p>\n",
    "<p><strong>Example 1:</strong></p>\n",
    "\n",
    "<p><strong><img alt=\"\" src=\"https://assets.leetcode.com/uploads/2020/06/06/sample_1_1848.png\" style=\"width: 620px; height: 95px;\"></strong></p>\n",
    "\n",
    "<pre><strong>Input:</strong> head = [1,2,3,4,5,6,7,8,9,10,11,12,13], m = 2, n = 3\n",
    "<strong>Output:</strong> [1,2,6,7,11,12]\n",
    "<strong>Explanation: </strong>Keep the first (m = 2) nodes starting from the head of the linked List  (1 -&gt;2) show in black nodes.\n",
    "Delete the next (n = 3) nodes (3 -&gt; 4 -&gt; 5) show in read nodes.\n",
    "Continue with the same procedure until reaching the tail of the Linked List.\n",
    "Head of linked list after removing nodes is returned.</pre>\n",
    "\n",
    "<p><strong>Example 2:</strong></p>\n",
    "\n",
    "<p><strong><img alt=\"\" src=\"https://assets.leetcode.com/uploads/2020/06/06/sample_2_1848.png\" style=\"width: 620px; height: 123px;\"></strong></p>\n",
    "\n",
    "<pre><strong>Input:</strong> head = [1,2,3,4,5,6,7,8,9,10,11], m = 1, n = 3\n",
    "<strong>Output:</strong> [1,5,9]\n",
    "<strong>Explanation:</strong> Head of linked list after removing nodes is returned.</pre>\n",
    "\n",
    "<p><strong>Example 3:</strong></p>\n",
    "\n",
    "<pre><strong>Input:</strong> head = [1,2,3,4,5,6,7,8,9,10,11], m = 3, n = 1\n",
    "<strong>Output:</strong> [1,2,3,5,6,7,9,10,11]\n",
    "</pre>\n",
    "\n",
    "<p><strong>Example 4:</strong></p>\n",
    "\n",
    "<pre><strong>Input:</strong> head = [9,3,7,7,9,10,8,2], m = 1, n = 2\n",
    "<strong>Output:</strong> [9,7,8]\n",
    "</pre>\n",
    "\n",
    "<p>&nbsp;</p>\n",
    "<p><strong>Constraints:</strong></p>\n",
    "\n",
    "<ul>\n",
    "\t<li>The given linked list will contain between&nbsp;<code>1</code>&nbsp;and&nbsp;<code>10^4</code>&nbsp;nodes.</li>\n",
    "\t<li>The value of each node in the linked list will be in the range<code>&nbsp;[1, 10^6]</code>.</li>\n",
    "\t<li><code>1 &lt;= m,n &lt;=&nbsp;1000</code></li>\n",
    "</ul></div>"
   ]
  },
  {
   "cell_type": "markdown",
   "metadata": {},
   "source": [
    "## Option 1\n",
    " \n",
    " <p>\n",
    "\n",
    "<p>\n",
    "Time complexity: O(n)\n",
    "<br>\n",
    "Space complexity: O(1) "
   ]
  },
  {
   "cell_type": "code",
   "execution_count": null,
   "metadata": {
    "scrolled": true
   },
   "outputs": [],
   "source": [
    "class Solution(object):\n",
    "    def deleteNodes(self, head, m, n):\n",
    "        \n",
    "        prev, curr = head, head        \n",
    "        m_curr, n_curr = m-1, n+1\n",
    "        \n",
    "        while prev:\n",
    "            while m_curr and prev:\n",
    "                prev, curr = prev.next, curr.next\n",
    "                m_curr -= 1\n",
    "            m_curr = m-1\n",
    "            \n",
    "            while n_curr and curr:\n",
    "                curr = curr.next\n",
    "                n_curr -= 1     \n",
    "            n_curr = n+1\n",
    "            \n",
    "            if prev:\n",
    "                prev.next = curr\n",
    "                prev = prev.next    \n",
    "        \n",
    "        return head \n",
    "            "
   ]
  },
  {
   "cell_type": "markdown",
   "metadata": {},
   "source": [
    "#### Result: 52ms (99.44%)\n"
   ]
  }
 ],
 "metadata": {
  "kernelspec": {
   "display_name": "Python 2",
   "language": "python",
   "name": "python2"
  },
  "language_info": {
   "codemirror_mode": {
    "name": "ipython",
    "version": 2
   },
   "file_extension": ".py",
   "mimetype": "text/x-python",
   "name": "python",
   "nbconvert_exporter": "python",
   "pygments_lexer": "ipython2",
   "version": "2.7.16"
  }
 },
 "nbformat": 4,
 "nbformat_minor": 2
}
