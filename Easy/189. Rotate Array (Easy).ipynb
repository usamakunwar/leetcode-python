{
 "cells": [
  {
   "cell_type": "markdown",
   "metadata": {},
   "source": [
    "# 189. Rotate Array (Easy)"
   ]
  },
  {
   "cell_type": "markdown",
   "metadata": {},
   "source": [
    "<div><p>Given an array, rotate the array to the right by <em>k</em> steps, where&nbsp;<em>k</em>&nbsp;is non-negative.</p>\n",
    "\n",
    "<p><strong>Follow up:</strong></p>\n",
    "\n",
    "<ul>\n",
    "\t<li>Try to come up as many solutions as you can, there are at least 3 different ways to solve this problem.</li>\n",
    "\t<li>Could you do it in-place with O(1) extra space?</li>\n",
    "</ul>\n",
    "\n",
    "<p>&nbsp;</p>\n",
    "<p><strong>Example 1:</strong></p>\n",
    "\n",
    "<pre><strong>Input:</strong> nums = [1,2,3,4,5,6,7], k = 3\n",
    "<strong>Output:</strong> [5,6,7,1,2,3,4]\n",
    "<strong>Explanation:</strong>\n",
    "rotate 1 steps to the right: [7,1,2,3,4,5,6]\n",
    "rotate 2 steps to the right: [6,7,1,2,3,4,5]\n",
    "rotate 3 steps to the right: [5,6,7,1,2,3,4]\n",
    "</pre>\n",
    "\n",
    "<p><strong>Example 2:</strong></p>\n",
    "\n",
    "<pre><strong>Input:</strong> nums = [-1,-100,3,99], k = 2\n",
    "<strong>Output:</strong> [3,99,-1,-100]\n",
    "<strong>Explanation:</strong> \n",
    "rotate 1 steps to the right: [99,-1,-100,3]\n",
    "rotate 2 steps to the right: [3,99,-1,-100]\n",
    "</pre>\n",
    "\n",
    "<p>&nbsp;</p>\n",
    "<p><strong>Constraints:</strong></p>\n",
    "\n",
    "<ul>\n",
    "\t<li><code>1 &lt;= nums.length &lt;= 2 * 10^4</code></li>\n",
    "\t<li>It's guaranteed that <code>nums[i]</code> fits in a 32 bit-signed integer.</li>\n",
    "\t<li><code>k &gt;= 0</code></li>\n",
    "</ul>\n",
    "</div>"
   ]
  },
  {
   "cell_type": "markdown",
   "metadata": {},
   "source": [
    "## Option 1\n",
    " <p>    \n",
    "<p>\n",
    "    <li>In order to this in place we need to cycle the array whilst positioning one value after the other\n",
    "    <li>A cycle can either complete the array in one go, OR may get stuck (land in the same positions)\n",
    "    <li>If i == j (we are landing on the same position) so we move forward\n",
    "    <li>We need a way to monitor that the rotation has been complete, use a counter\n",
    "        <p>\n",
    "            <p>\n",
    "                \n",
    "Time complexity: O(n)\n",
    "    <br>\n",
    "Space complexity: O(1)\n"
   ]
  },
  {
   "cell_type": "code",
   "execution_count": null,
   "metadata": {},
   "outputs": [],
   "source": [
    "class Solution(object):\n",
    "    def rotate(self, nums, k):\n",
    "        if not nums: return\n",
    "        i,j = 0,k%len(nums)\n",
    "        count = 0\n",
    "        while i < k and count < len(nums):\n",
    "            nums[i],nums[j] = nums[j],nums[i]\n",
    "            j = (j+k)%len(nums)\n",
    "            if i == j: #\n",
    "                i += 1\n",
    "                j += 1\n",
    "                \n",
    "            count += 1\n",
    "            \n",
    "        return nums\n",
    "        \n",
    "        \n",
    "Solution().rotate([1,2,3,4,5,6,7,8], 10)\n",
    "        "
   ]
  },
  {
   "cell_type": "markdown",
   "metadata": {},
   "source": [
    "#### Result:  52ms (59.15%)"
   ]
  }
 ],
 "metadata": {
  "kernelspec": {
   "display_name": "Python 2",
   "language": "python",
   "name": "python2"
  },
  "language_info": {
   "codemirror_mode": {
    "name": "ipython",
    "version": 2
   },
   "file_extension": ".py",
   "mimetype": "text/x-python",
   "name": "python",
   "nbconvert_exporter": "python",
   "pygments_lexer": "ipython2",
   "version": "2.7.16"
  }
 },
 "nbformat": 4,
 "nbformat_minor": 2
}
