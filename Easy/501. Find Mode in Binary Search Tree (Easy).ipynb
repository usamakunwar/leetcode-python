{
 "cells": [
  {
   "cell_type": "markdown",
   "metadata": {},
   "source": [
    "# 501. Find Mode in Binary Search Tree (Easy)\n",
    "\n"
   ]
  },
  {
   "cell_type": "markdown",
   "metadata": {},
   "source": [
    "<div><p>Given a binary search tree (BST) with duplicates, find all the <a href=\"https://en.wikipedia.org/wiki/Mode_(statistics)\" target=\"_blank\">mode(s)</a> (the most frequently occurred element) in the given BST.</p>\n",
    "\n",
    "<p>Assume a BST is defined as follows:</p>\n",
    "\n",
    "<ul>\n",
    "\t<li>The left subtree of a node contains only nodes with keys <b>less than or equal to</b> the node's key.</li>\n",
    "\t<li>The right subtree of a node contains only nodes with keys <b>greater than or equal to</b> the node's key.</li>\n",
    "\t<li>Both the left and right subtrees must also be binary search trees.</li>\n",
    "</ul>\n",
    "\n",
    "<p>&nbsp;</p>\n",
    "\n",
    "<p>For example:<br>\n",
    "Given BST <code>[1,null,2,2]</code>,</p>\n",
    "\n",
    "<pre>   1\n",
    "    \\\n",
    "     2\n",
    "    /\n",
    "   2\n",
    "</pre>\n",
    "\n",
    "<p>&nbsp;</p>\n",
    "\n",
    "<p>return <code>[2]</code>.</p>\n",
    "\n",
    "<p><b>Note:</b> If a tree has more than one mode, you can return them in any order.</p>\n",
    "\n",
    "<p><b>Follow up:</b> Could you do that without using any extra space? (Assume that the implicit stack space incurred due to recursion does not count).</p>\n",
    "</div>"
   ]
  },
  {
   "cell_type": "markdown",
   "metadata": {},
   "source": [
    "## Option 1\n",
    "<p>\n",
    "    <p>\n",
    "Time complexity: O(n)\n",
    "<br>\n",
    "Space complexity: O(n)"
   ]
  },
  {
   "cell_type": "code",
   "execution_count": null,
   "metadata": {},
   "outputs": [],
   "source": [
    "class Solution(object):\n",
    "    def findMode(self, root):\n",
    "        if not root: return []        \n",
    "        self.res = collections.Counter() \n",
    "        self.max = 0\n",
    "        def search(node):\n",
    "            if node.left: search(node.left)\n",
    "            if node.right: search(node.right)\n",
    "            self.res[node.val] += 1\n",
    "            self.max = max(self.max, self.res[node.val])\n",
    "        \n",
    "        search(root)\n",
    "     \n",
    "        return [k for k,v in self.res.items() if v == self.max]"
   ]
  },
  {
   "cell_type": "markdown",
   "metadata": {},
   "source": [
    "#### Result: 60ms 25.27%)\n"
   ]
  },
  {
   "cell_type": "markdown",
   "metadata": {},
   "source": [
    "## Option 2\n",
    "<p>\n",
    "    So if we did an in order traversal, we will not need a map to count every value, we only have to count the current\n",
    "    <p>\n",
    "Time complexity: O(n)\n",
    "<br>\n",
    "Space complexity: O(n)"
   ]
  },
  {
   "cell_type": "code",
   "execution_count": null,
   "metadata": {},
   "outputs": [],
   "source": [
    "class Solution(object):\n",
    "    def findMode(self, root):\n",
    "        if not root: return []        \n",
    "        \n",
    "        self.curr = self.curr_count = 0\n",
    "        self.res, self.res_count = [], 0\n",
    "        \n",
    "        def shift():\n",
    "            if self.curr_count > self.res_count:\n",
    "                self.res, self.res_count = [self.curr], self.curr_count\n",
    "            elif self.curr_count == self.res_count:\n",
    "                self.res.append(self.curr)\n",
    "        \n",
    "        \n",
    "        def search(node):\n",
    "            if node.left: search(node.left)\n",
    "            if node.val == self.curr:\n",
    "                self.curr_count += 1\n",
    "            else:\n",
    "                shift()\n",
    "                self.curr, self.curr_count = node.val, 1\n",
    "                \n",
    "            if node.right: search(node.right)\n",
    "\n",
    "        search(root)\n",
    "        shift()\n",
    "        \n",
    "        return self.res\n",
    "        "
   ]
  },
  {
   "cell_type": "markdown",
   "metadata": {},
   "source": [
    "#### Result: 44ms 95.42%)\n"
   ]
  }
 ],
 "metadata": {
  "kernelspec": {
   "display_name": "Python 2",
   "language": "python",
   "name": "python2"
  },
  "language_info": {
   "codemirror_mode": {
    "name": "ipython",
    "version": 2
   },
   "file_extension": ".py",
   "mimetype": "text/x-python",
   "name": "python",
   "nbconvert_exporter": "python",
   "pygments_lexer": "ipython2",
   "version": "2.7.16"
  }
 },
 "nbformat": 4,
 "nbformat_minor": 2
}
