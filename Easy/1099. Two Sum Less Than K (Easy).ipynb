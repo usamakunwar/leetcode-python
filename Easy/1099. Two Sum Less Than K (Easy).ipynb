{
 "cells": [
  {
   "cell_type": "markdown",
   "metadata": {},
   "source": [
    "# 1099. Two Sum Less Than K (Easy)"
   ]
  },
  {
   "cell_type": "markdown",
   "metadata": {},
   "source": [
    "<div><p>Given an array <code>A</code> of integers and&nbsp;integer <code>K</code>, return the maximum <code>S</code> such that there exists <code>i &lt; j</code> with <code>A[i] + A[j] = S</code> and <code>S &lt; K</code>. If no <code>i, j</code> exist satisfying this equation, return -1.</p>\n",
    "\n",
    "<p>&nbsp;</p>\n",
    "\n",
    "<p><strong>Example 1:</strong></p>\n",
    "\n",
    "<pre><strong>Input: </strong>A = <span id=\"example-input-1-1\">[34,23,1,24,75,33,54,8]</span>, K = <span id=\"example-input-1-2\">60</span>\n",
    "<strong>Output: </strong><span id=\"example-output-1\">58</span>\n",
    "<strong>Explanation: </strong>\n",
    "We can use 34 and 24 to sum 58 which is less than 60.\n",
    "</pre>\n",
    "\n",
    "<p><strong>Example 2:</strong></p>\n",
    "\n",
    "<pre><strong>Input: </strong>A = <span id=\"example-input-2-1\">[10,20,30]</span>, K = <span id=\"example-input-2-2\">15</span>\n",
    "<strong>Output: </strong><span id=\"example-output-2\">-1</span>\n",
    "<strong>Explanation: </strong>\n",
    "In this case it's not possible to get a pair sum less that 15.\n",
    "</pre>\n",
    "\n",
    "<p>&nbsp;</p>\n",
    "\n",
    "<p><strong>Note:</strong></p>\n",
    "\n",
    "<ol>\n",
    "\t<li><code>1 &lt;= A.length &lt;= 100</code></li>\n",
    "\t<li><code>1 &lt;= A[i] &lt;= 1000</code></li>\n",
    "\t<li><code>1 &lt;= K &lt;= 2000</code></li>\n",
    "</ol>\n",
    "</div>"
   ]
  },
  {
   "cell_type": "markdown",
   "metadata": {},
   "source": [
    "## Option 1\n",
    "<p>\n",
    "Two pointers\n",
    "<p>\n",
    "Time complexity = O(n)\n",
    "<br>\n",
    "Space complexity = O(1)"
   ]
  },
  {
   "cell_type": "code",
   "execution_count": 27,
   "metadata": {},
   "outputs": [
    {
     "name": "stdout",
     "output_type": "stream",
     "text": [
      "[1, 8, 23, 24, 33, 34, 54, 75]\n"
     ]
    },
    {
     "data": {
      "text/plain": [
       "58"
      ]
     },
     "execution_count": 27,
     "metadata": {},
     "output_type": "execute_result"
    }
   ],
   "source": [
    "class Solution:\n",
    "    def twoSumLessThanK(self, A: [int], K: int) -> int:\n",
    "        A.sort()\n",
    "        print(A)\n",
    "        p1,p2,s,K = 0, len(A)-1, -1, K-1\n",
    "        while p1 < p2:\n",
    "            t = A[p1] + A[p2]\n",
    "            if t == K:\n",
    "                return K\n",
    "            elif t < K:\n",
    "                p1 += 1\n",
    "                s = max(s,t)\n",
    "            else:\n",
    "                p2 -= 1            \n",
    "        return s\n",
    "\n",
    "Solution().twoSumLessThanK([34,23,1,24,75,33,54,8], 60)"
   ]
  },
  {
   "cell_type": "markdown",
   "metadata": {},
   "source": [
    "#### Result:  40ms (74.38%)"
   ]
  }
 ],
 "metadata": {
  "kernelspec": {
   "display_name": "Python 3",
   "language": "python",
   "name": "python3"
  },
  "language_info": {
   "codemirror_mode": {
    "name": "ipython",
    "version": 3
   },
   "file_extension": ".py",
   "mimetype": "text/x-python",
   "name": "python",
   "nbconvert_exporter": "python",
   "pygments_lexer": "ipython3",
   "version": "3.7.4"
  }
 },
 "nbformat": 4,
 "nbformat_minor": 2
}
