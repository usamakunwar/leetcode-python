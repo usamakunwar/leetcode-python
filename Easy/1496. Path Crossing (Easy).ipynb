{
 "cells": [
  {
   "cell_type": "markdown",
   "metadata": {},
   "source": [
    "# 1496. Path Crossing (Easy)"
   ]
  },
  {
   "cell_type": "markdown",
   "metadata": {},
   "source": [
    "<div><p>Given a string&nbsp;<code>path</code>, where <code>path[i] =&nbsp;'N'</code>, <code>'S'</code>, <code>'E'</code>&nbsp;or&nbsp;<code>'W'</code>, each representing moving one unit north, south, east, or west, respectively. You start at the origin <code>(0, 0)</code> on a 2D plane and walk on the path specified by <code>path</code>.</p>\n",
    "\n",
    "<p>Return <code>True</code> if the path crosses itself at any point, that is, if at any time you are on a location you've previously visited. Return <code>False</code> otherwise.</p>\n",
    "\n",
    "<p>&nbsp;</p>\n",
    "<p><strong>Example 1:</strong></p>\n",
    "\n",
    "<p><img alt=\"\" src=\"https://assets.leetcode.com/uploads/2020/06/10/screen-shot-2020-06-10-at-123929-pm.png\" style=\"width: 250px; height: 224px;\"></p>\n",
    "\n",
    "<pre><strong>Input:</strong> path = \"NES\"\n",
    "<strong>Output:</strong> false \n",
    "<strong>Explanation:</strong> Notice that the path doesn't cross any point more than once.\n",
    "</pre>\n",
    "\n",
    "<p><strong>Example 2:</strong></p>\n",
    "\n",
    "<p><img alt=\"\" src=\"https://assets.leetcode.com/uploads/2020/06/10/screen-shot-2020-06-10-at-123843-pm.png\" style=\"width: 250px; height: 212px;\"></p>\n",
    "\n",
    "<pre><strong>Input:</strong> path = \"NESWW\"\n",
    "<strong>Output:</strong> true\n",
    "<strong>Explanation:</strong> Notice that the path visits the origin twice.</pre>\n",
    "\n",
    "<p>&nbsp;</p>\n",
    "<p><strong>Constraints:</strong></p>\n",
    "\n",
    "<ul>\n",
    "\t<li><code>1 &lt;= path.length &lt;= 10^4</code></li>\n",
    "\t<li><code>path</code> will only consist of characters in&nbsp;<code>{'N', 'S', 'E', 'W}</code></li>\n",
    "</ul>\n",
    "</div>"
   ]
  },
  {
   "cell_type": "markdown",
   "metadata": {},
   "source": [
    "## Option 1\n",
    " \n",
    " <p>\n",
    "\n",
    "<p>\n",
    "Time complexity: O(n)\n",
    "<br>\n",
    "Space complexity: O(1) "
   ]
  },
  {
   "cell_type": "code",
   "execution_count": null,
   "metadata": {
    "scrolled": true
   },
   "outputs": [],
   "source": [
    "class Solution(object):\n",
    "    def isPathCrossing(self, path):\n",
    "        direction = {'N':(-1,0), 'E':(0,1), 'S':(1,0), 'W':(0,-1) }\n",
    "        i,j = 0,0\n",
    "        seen = set([(i,j)])\n",
    "        for p in path:\n",
    "            i,j = i+direction[p][0], j+direction[p][1]\n",
    "            if (i,j) in seen: return True\n",
    "            seen.add((i,j))\n",
    "        \n",
    "        return False\n",
    " \n",
    "\n",
    "Solution().isPathCrossing(\"NES\")\n",
    "  "
   ]
  },
  {
   "cell_type": "markdown",
   "metadata": {},
   "source": [
    "#### Result: 32ms (24.43%)\n"
   ]
  }
 ],
 "metadata": {
  "kernelspec": {
   "display_name": "Python 2",
   "language": "python",
   "name": "python2"
  },
  "language_info": {
   "codemirror_mode": {
    "name": "ipython",
    "version": 2
   },
   "file_extension": ".py",
   "mimetype": "text/x-python",
   "name": "python",
   "nbconvert_exporter": "python",
   "pygments_lexer": "ipython2",
   "version": "2.7.16"
  }
 },
 "nbformat": 4,
 "nbformat_minor": 2
}
