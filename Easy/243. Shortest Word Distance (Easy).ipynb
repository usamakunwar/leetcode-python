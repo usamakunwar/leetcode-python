{
 "cells": [
  {
   "cell_type": "markdown",
   "metadata": {},
   "source": [
    "# 243. Shortest Word Distance (Easy)\n"
   ]
  },
  {
   "cell_type": "markdown",
   "metadata": {},
   "source": [
    "<div><p>Given a list of words and two words <em>word1</em> and <em>word2</em>, return the shortest distance between these two words in the list.</p>\n",
    "\n",
    "<p><strong>Example:</strong><br>\n",
    "Assume that words = <code>[\"practice\", \"makes\", \"perfect\", \"coding\", \"makes\"]</code>.</p>\n",
    "\n",
    "<pre><b>Input:</b> <em>word1</em> = <code>“coding”</code>, <em>word2</em> = <code>“practice”</code>\n",
    "<b>Output:</b> 3\n",
    "</pre>\n",
    "\n",
    "<pre><b>Input:</b> <em>word1</em> = <code>\"makes\"</code>, <em>word2</em> = <code>\"coding\"</code>\n",
    "<b>Output:</b> 1\n",
    "</pre>\n",
    "\n",
    "<p><strong>Note:</strong><br>\n",
    "You may assume that <em>word1</em> <strong>does not equal to</strong> <em>word2</em>, and <em>word1</em> and <em>word2</em> are both in the list.</p>\n",
    "</div>"
   ]
  },
  {
   "cell_type": "markdown",
   "metadata": {},
   "source": [
    "## Option 1\n",
    "<p>\n",
    "Time complexity = O(n)\n",
    "<br>\n",
    "Space complexity = O(n)"
   ]
  },
  {
   "cell_type": "code",
   "execution_count": 13,
   "metadata": {},
   "outputs": [
    {
     "data": {
      "text/plain": [
       "3"
      ]
     },
     "execution_count": 13,
     "metadata": {},
     "output_type": "execute_result"
    }
   ],
   "source": [
    "import collections\n",
    "class Solution:\n",
    "    def shortestDistance(self, words: [str], word1: str, word2: str) -> int:\n",
    "        d,res = collections.defaultdict(list), float('inf')\n",
    "        for i in range(len(words)): d[words[i]].append(i)\n",
    "        p1=p2=0\n",
    "        while p1 < len(d[word1]) and p2 < len(d[word2]):\n",
    "            res = min(res, abs(d[word1][p1]-d[word2][p2]))\n",
    "            if d[word1][p1] < d[word2][p2]:\n",
    "                p1 += 1\n",
    "            else:\n",
    "                p2 += 1\n",
    "            if res == 1: break\n",
    "        return res\n",
    "        \n",
    "\n",
    "Solution().shortestDistance([\"a\", \"b\", \"c\", \"a\", \"f\",\"a\"], \"b\", \"f\")"
   ]
  },
  {
   "cell_type": "markdown",
   "metadata": {},
   "source": [
    "#### Result:  68ms (51%)"
   ]
  },
  {
   "cell_type": "markdown",
   "metadata": {},
   "source": [
    "## Option 2\n",
    "\n",
    "A map is not needed, can instead keep a track of the positions\n",
    "<p>\n",
    "Time complexity = O(n)\n",
    "<br>\n",
    "Space complexity = O(1)"
   ]
  },
  {
   "cell_type": "code",
   "execution_count": 18,
   "metadata": {},
   "outputs": [
    {
     "data": {
      "text/plain": [
       "3"
      ]
     },
     "execution_count": 18,
     "metadata": {},
     "output_type": "execute_result"
    }
   ],
   "source": [
    "class Solution:\n",
    "    def shortestDistance(self, words: [str], word1: str, word2: str) -> int:\n",
    "        i1,i2, res = -1,-1, len(words) \n",
    "        for i in range(len(words)):\n",
    "            if words[i] == word1:\n",
    "                i1 = i\n",
    "            elif words[i] == word2:\n",
    "                i2 = i \n",
    "            if i1 != -1 and i2 != -1:\n",
    "                res = min(res, abs(i2-i1))\n",
    "        return res\n",
    "Solution().shortestDistance([\"practice\", \"makes\", \"perfect\", \"coding\", \"makes\"], \"coding\", \"practice\")"
   ]
  },
  {
   "cell_type": "markdown",
   "metadata": {},
   "source": [
    "#### Result:  60ms (91.30%)"
   ]
  }
 ],
 "metadata": {
  "kernelspec": {
   "display_name": "Python 3",
   "language": "python",
   "name": "python3"
  },
  "language_info": {
   "codemirror_mode": {
    "name": "ipython",
    "version": 3
   },
   "file_extension": ".py",
   "mimetype": "text/x-python",
   "name": "python",
   "nbconvert_exporter": "python",
   "pygments_lexer": "ipython3",
   "version": "3.7.4"
  }
 },
 "nbformat": 4,
 "nbformat_minor": 2
}
