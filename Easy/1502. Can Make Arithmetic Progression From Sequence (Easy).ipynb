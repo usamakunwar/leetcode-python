{
 "cells": [
  {
   "cell_type": "markdown",
   "metadata": {},
   "source": [
    "# 1502. Can Make Arithmetic Progression From Sequence (Easy)"
   ]
  },
  {
   "cell_type": "markdown",
   "metadata": {},
   "source": [
    "<div><p>Given an array of numbers <code>arr</code>.&nbsp;A sequence of numbers is called an arithmetic progression&nbsp;if the difference between any two consecutive elements is the same.</p>\n",
    "\n",
    "<p>Return <code>true</code>&nbsp;if the array can be rearranged to form an arithmetic progression, otherwise, return <code>false</code>.</p>\n",
    "\n",
    "<p>&nbsp;</p>\n",
    "<p><strong>Example 1:</strong></p>\n",
    "\n",
    "<pre><strong>Input:</strong> arr = [3,5,1]\n",
    "<strong>Output:</strong> true\n",
    "<strong>Explanation: </strong>We can reorder the elements as [1,3,5] or [5,3,1] with differences 2 and -2 respectively, between each consecutive elements.\n",
    "</pre>\n",
    "\n",
    "<p><strong>Example 2:</strong></p>\n",
    "\n",
    "<pre><strong>Input:</strong> arr = [1,2,4]\n",
    "<strong>Output:</strong> false\n",
    "<strong>Explanation: </strong>There is no way to reorder the elements to obtain an arithmetic progression.\n",
    "</pre>\n",
    "\n",
    "<p>&nbsp;</p>\n",
    "<p><strong>Constraints:</strong></p>\n",
    "\n",
    "<ul>\n",
    "\t<li><code>2 &lt;= arr.length &lt;= 1000</code></li>\n",
    "\t<li><code>-10^6 &lt;= arr[i] &lt;= 10^6</code></li>\n",
    "</ul>\n",
    "</div>"
   ]
  },
  {
   "cell_type": "markdown",
   "metadata": {},
   "source": [
    "## Option 1\n",
    " \n",
    "<p>\n",
    "Time complexity: O(n)\n",
    "<br>\n",
    "Space complexity: O(1) "
   ]
  },
  {
   "cell_type": "code",
   "execution_count": null,
   "metadata": {
    "scrolled": true
   },
   "outputs": [],
   "source": [
    "class Solution(object):\n",
    "    def canMakeArithmeticProgression(self, arr):\n",
    "        s, min1, min2 = set(), float('inf'), float('inf')\n",
    "        #Get the min1 and min2\n",
    "        for a in arr:\n",
    "            s.add(a)\n",
    "            min1, min2 = min(min1,a), min(min2, max(min1,a))\n",
    "        \n",
    "        if len(s) == 1: return True\n",
    "        if min2-min1 == 0: return False\n",
    "        \n",
    "        #Range from the min up progrssion\n",
    "        for i in range(min1, min1+((min2-min1)*len(arr)), min2-min1):\n",
    "            if i not in s: return False\n",
    "        \n",
    "        return True        \n",
    "        \n",
    "\n",
    "Solution().canMakeArithmeticProgression([13,12,-12,9,9,16,7,-10,-20,0,18,-1,-20,-10,-8,15,15,16,2,15])\n",
    "  "
   ]
  },
  {
   "cell_type": "markdown",
   "metadata": {},
   "source": [
    "#### Result: 28ms (91.37%)\n"
   ]
  }
 ],
 "metadata": {
  "kernelspec": {
   "display_name": "Python 2",
   "language": "python",
   "name": "python2"
  },
  "language_info": {
   "codemirror_mode": {
    "name": "ipython",
    "version": 2
   },
   "file_extension": ".py",
   "mimetype": "text/x-python",
   "name": "python",
   "nbconvert_exporter": "python",
   "pygments_lexer": "ipython2",
   "version": "2.7.16"
  }
 },
 "nbformat": 4,
 "nbformat_minor": 2
}
