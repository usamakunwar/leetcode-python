{
 "cells": [
  {
   "cell_type": "markdown",
   "metadata": {},
   "source": [
    "# 1323. Maximum 69 Number (Easy)"
   ]
  },
  {
   "cell_type": "markdown",
   "metadata": {},
   "source": [
    "<div><p>Given a positive integer <code>num</code> consisting only of digits 6 and 9.</p>\n",
    "\n",
    "<p>Return the maximum number you can get by changing <strong>at most</strong> one digit (6 becomes 9, and 9 becomes 6).</p>\n",
    "\n",
    "<p>&nbsp;</p>\n",
    "<p><strong>Example 1:</strong></p>\n",
    "\n",
    "<pre><strong>Input:</strong> num = 9669\n",
    "<strong>Output:</strong> 9969\n",
    "<strong>Explanation:</strong> \n",
    "Changing the first digit results in 6669.\n",
    "Changing the second digit results in 9969.\n",
    "Changing the third digit results in 9699.\n",
    "Changing the fourth digit results in 9666.&nbsp;\n",
    "The maximum number is 9969.\n",
    "</pre>\n",
    "\n",
    "<p><strong>Example 2:</strong></p>\n",
    "\n",
    "<pre><strong>Input:</strong> num = 9996\n",
    "<strong>Output:</strong> 9999\n",
    "<strong>Explanation:</strong> Changing the last digit 6 to 9 results in the maximum number.</pre>\n",
    "\n",
    "<p><strong>Example 3:</strong></p>\n",
    "\n",
    "<pre><strong>Input:</strong> num = 9999\n",
    "<strong>Output:</strong> 9999\n",
    "<strong>Explanation:</strong> It is better not to apply any change.</pre>\n",
    "\n",
    "<p>&nbsp;</p>\n",
    "<p><strong>Constraints:</strong></p>\n",
    "\n",
    "<ul>\n",
    "\t<li><code>1 &lt;= num &lt;= 10^4</code></li>\n",
    "\t<li><code>num</code>'s digits are 6 or 9.</li>\n",
    "</ul></div>"
   ]
  },
  {
   "cell_type": "markdown",
   "metadata": {},
   "source": [
    "## Option 1\n",
    "<p>\n",
    "    Numeric\n",
    "    <p>\n",
    "Time complexity: O(n) \n",
    "<br>\n",
    "Space complexity: O(1)"
   ]
  },
  {
   "cell_type": "code",
   "execution_count": null,
   "metadata": {
    "scrolled": true
   },
   "outputs": [],
   "source": [
    "class Solution(object):\n",
    "    def maximum69Number(self, num):\n",
    "        i, m, curr = -1,-1,num\n",
    "        while curr > 0:\n",
    "            i += 1\n",
    "            if curr%10 == 6:\n",
    "                m = i\n",
    "            curr = curr/10\n",
    "        return num + (3*(10**m)) if m > -1 else num\n",
    "    \n",
    "            \n",
    "Solution().maximum69Number(6)    \n"
   ]
  },
  {
   "cell_type": "markdown",
   "metadata": {},
   "source": [
    "#### Result: 20ms (42.14%)"
   ]
  },
  {
   "cell_type": "markdown",
   "metadata": {},
   "source": [
    "## Option 2\n",
    "<p>\n",
    "    Numeric\n",
    "    <p>\n",
    "Time complexity: O(n) \n",
    "<br>\n",
    "Space complexity: O(1)"
   ]
  },
  {
   "cell_type": "code",
   "execution_count": null,
   "metadata": {},
   "outputs": [],
   "source": [
    "class Solution(object):\n",
    "    def maximum69Number(self, num):\n",
    "        return int(str(num).replace('6','9',1))\n",
    "Solution().maximum69Number(6999)    \n"
   ]
  },
  {
   "cell_type": "markdown",
   "metadata": {},
   "source": [
    "#### Result: 16ms (73.69%)"
   ]
  }
 ],
 "metadata": {
  "kernelspec": {
   "display_name": "Python 2",
   "language": "python",
   "name": "python2"
  },
  "language_info": {
   "codemirror_mode": {
    "name": "ipython",
    "version": 2
   },
   "file_extension": ".py",
   "mimetype": "text/x-python",
   "name": "python",
   "nbconvert_exporter": "python",
   "pygments_lexer": "ipython2",
   "version": "2.7.16"
  }
 },
 "nbformat": 4,
 "nbformat_minor": 2
}
