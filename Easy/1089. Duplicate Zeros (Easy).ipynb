{
 "cells": [
  {
   "cell_type": "markdown",
   "metadata": {},
   "source": [
    "# 1089. Duplicate Zeros (Easy)"
   ]
  },
  {
   "cell_type": "markdown",
   "metadata": {},
   "source": [
    "<div><p>Given a fixed length&nbsp;array <code>arr</code> of integers, duplicate each occurrence of zero, shifting the remaining elements to the right.</p>\n",
    "\n",
    "<p>Note that elements beyond the length of the original array are not written.</p>\n",
    "\n",
    "<p>Do the above modifications to the input array <strong>in place</strong>, do not return anything from your function.</p>\n",
    "\n",
    "<p>&nbsp;</p>\n",
    "\n",
    "<p><strong>Example 1:</strong></p>\n",
    "\n",
    "<pre><strong>Input: </strong><span id=\"example-input-1-1\">[1,0,2,3,0,4,5,0]</span>\n",
    "<strong>Output: </strong>null\n",
    "<strong>Explanation: </strong>After calling your function, the <strong>input</strong> array is modified to: <span id=\"example-output-1\">[1,0,0,2,3,0,0,4]</span>\n",
    "</pre>\n",
    "\n",
    "<p><strong>Example 2:</strong></p>\n",
    "\n",
    "<pre><strong>Input: </strong><span id=\"example-input-2-1\">[1,2,3]</span>\n",
    "<strong>Output: </strong>null\n",
    "<strong>Explanation: </strong>After calling your function, the <strong>input</strong> array is modified to: <span id=\"example-output-2\">[1,2,3]</span>\n",
    "</pre>\n",
    "\n",
    "<p>&nbsp;</p>\n",
    "\n",
    "<p><strong>Note:</strong></p>\n",
    "\n",
    "<ol>\n",
    "\t<li><code>1 &lt;= arr.length &lt;= 10000</code></li>\n",
    "\t<li><code>0 &lt;= arr[i] &lt;= 9</code></li>\n",
    "</ol></div>"
   ]
  },
  {
   "cell_type": "markdown",
   "metadata": {},
   "source": [
    "## Option 1\n",
    " <p>    \n",
    "<p>    <p>    \n",
    "   \n",
    "<p>\n",
    "        \n",
    "Time complexity: O(n)\n",
    "    <br>\n",
    "Space complexity: O(n)\n"
   ]
  },
  {
   "cell_type": "code",
   "execution_count": null,
   "metadata": {},
   "outputs": [],
   "source": [
    "import collections\n",
    "class Solution(object):\n",
    "    def duplicateZeros(self, arr):\n",
    "        q = collections.deque()\n",
    "        \n",
    "        for i in range(len(arr)):\n",
    "            v = arr[i]\n",
    "            if q:\n",
    "                arr[i] = q.popleft()\n",
    "                q.append(v)\n",
    "            if v == 0:\n",
    "                q.append(0)\n",
    "            \n",
    "        print(arr)\n",
    "                        \n",
    "        \n",
    "Solution().duplicateZeros([1,2,0,0,3])\n",
    "\n",
    "        "
   ]
  },
  {
   "cell_type": "markdown",
   "metadata": {},
   "source": [
    "#### Result:  104ms (26.83%)"
   ]
  }
 ],
 "metadata": {
  "kernelspec": {
   "display_name": "Python 2",
   "language": "python",
   "name": "python2"
  },
  "language_info": {
   "codemirror_mode": {
    "name": "ipython",
    "version": 2
   },
   "file_extension": ".py",
   "mimetype": "text/x-python",
   "name": "python",
   "nbconvert_exporter": "python",
   "pygments_lexer": "ipython2",
   "version": "2.7.16"
  }
 },
 "nbformat": 4,
 "nbformat_minor": 2
}
