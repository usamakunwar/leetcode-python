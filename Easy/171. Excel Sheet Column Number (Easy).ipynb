{
 "cells": [
  {
   "cell_type": "markdown",
   "metadata": {},
   "source": [
    "# 171. Excel Sheet Column Number (Easy)\n",
    "\n"
   ]
  },
  {
   "cell_type": "markdown",
   "metadata": {},
   "source": [
    "<div><p>Given a column title as appear in an Excel sheet, return its corresponding column number.</p>\n",
    "\n",
    "<p>For example:</p>\n",
    "\n",
    "<pre>    A -&gt; 1\n",
    "    B -&gt; 2\n",
    "    C -&gt; 3\n",
    "    ...\n",
    "    Z -&gt; 26\n",
    "    AA -&gt; 27\n",
    "    AB -&gt; 28 \n",
    "    ...\n",
    "</pre>\n",
    "\n",
    "<p><strong>Example 1:</strong></p>\n",
    "\n",
    "<pre><strong>Input:</strong> \"A\"\n",
    "<strong>Output:</strong> 1\n",
    "</pre>\n",
    "\n",
    "<p><strong>Example 2:</strong></p>\n",
    "\n",
    "<pre><strong>Input: </strong>\"AB\"\n",
    "<strong>Output:</strong> 28\n",
    "</pre>\n",
    "\n",
    "<p><strong>Example 3:</strong></p>\n",
    "\n",
    "<pre><strong>Input: </strong>\"ZY\"\n",
    "<strong>Output:</strong> 701\n",
    "</pre></div>"
   ]
  },
  {
   "cell_type": "markdown",
   "metadata": {},
   "source": [
    "## Option 1\n",
    " <p> \n",
    "            <p>\n",
    "                <p>\n",
    "Time complexity: O(n)  \n",
    "    <br>\n",
    "Space complexity: O(1)\n"
   ]
  },
  {
   "cell_type": "code",
   "execution_count": null,
   "metadata": {
    "scrolled": false
   },
   "outputs": [],
   "source": [
    "class Solution(object):\n",
    "    def titleToNumber(self, s):\n",
    "        res = 1\n",
    "        for i in range(len(s)):\n",
    "            res += (26**(i))*(ord(s[len(s)-1-i])-ord('A'))\n",
    "            if i > 0:\n",
    "                res += 26**(i)\n",
    "        return res\n",
    "        \n",
    "Solution().titleToNumber(\"Z\")   \n",
    "        "
   ]
  },
  {
   "cell_type": "markdown",
   "metadata": {},
   "source": [
    "#### Result: 8ms (99.89%)"
   ]
  }
 ],
 "metadata": {
  "kernelspec": {
   "display_name": "Python 2",
   "language": "python",
   "name": "python2"
  },
  "language_info": {
   "codemirror_mode": {
    "name": "ipython",
    "version": 2
   },
   "file_extension": ".py",
   "mimetype": "text/x-python",
   "name": "python",
   "nbconvert_exporter": "python",
   "pygments_lexer": "ipython2",
   "version": "2.7.16"
  }
 },
 "nbformat": 4,
 "nbformat_minor": 2
}
