{
 "cells": [
  {
   "cell_type": "markdown",
   "metadata": {},
   "source": [
    "# 989. Add to Array-Form of Integer (Easy)"
   ]
  },
  {
   "cell_type": "markdown",
   "metadata": {},
   "source": [
    "<div>\n",
    "<p><strong>Example 1:</strong></p>\n",
    "\n",
    "<pre><strong>Input: </strong>A = <span id=\"example-input-1-1\">[1,2,0,0]</span>, K = 34\n",
    "<strong>Output: </strong><span id=\"example-output-1\">[1,2,3,4]</span>\n",
    "<strong>Explanation: </strong>1200 + 34 = 1234\n",
    "</pre>\n",
    "\n",
    "<div>\n",
    "<p><strong>Example 2:</strong></p>\n",
    "\n",
    "<pre><strong>Input: </strong>A = <span id=\"example-input-2-1\">[2,7,4]</span>, K = <span id=\"example-input-2-2\">181</span>\n",
    "<strong>Output: </strong><span id=\"example-output-2\">[4,5,5]</span>\n",
    "<strong>Explanation: </strong>274 + 181 = 455\n",
    "</pre>\n",
    "\n",
    "<div>\n",
    "<p><strong>Example 3:</strong></p>\n",
    "\n",
    "<pre><strong>Input: </strong>A = <span id=\"example-input-3-1\">[2,1,5]</span>, K = <span id=\"example-input-3-2\">806</span>\n",
    "<strong>Output: </strong><span id=\"example-output-3\">[1,0,2,1]</span>\n",
    "<strong>Explanation: </strong>215 + 806 = 1021\n",
    "</pre>\n",
    "\n",
    "<div>\n",
    "<p><strong>Example 4:</strong></p>\n",
    "\n",
    "<pre><strong>Input: </strong>A = <span id=\"example-input-4-1\">[9,9,9,9,9,9,9,9,9,9]</span>, K = <span id=\"example-input-4-2\">1</span>\n",
    "<strong>Output: </strong><span id=\"example-output-4\">[1,0,0,0,0,0,0,0,0,0,0]</span>\n",
    "<strong>Explanation: </strong>9999999999 + 1 = 10000000000\n",
    "</pre>\n",
    "\n",
    "<p>&nbsp;</p>\n",
    "\n",
    "<p><strong>Note：</strong></p>\n",
    "\n",
    "<ol>\n",
    "\t<li><code>1 &lt;= A.length &lt;= 10000</code></li>\n",
    "\t<li><code>0 &lt;= A[i] &lt;= 9</code></li>\n",
    "\t<li><code>0 &lt;= K &lt;= 10000</code></li>\n",
    "\t<li>If <code>A.length &gt; 1</code>, then <code>A[0] != 0</code></li>\n",
    "</ol>\n",
    "</div>\n",
    "</div>\n",
    "</div>\n",
    "</div>"
   ]
  },
  {
   "cell_type": "markdown",
   "metadata": {},
   "source": [
    "## Option 1\n",
    "<p>\n",
    "  <p>\n",
    "      <p>\n",
    "Time complexity: O(max(A,logK))\n",
    "<br>\n",
    "Space complexity: O(max(A,K))"
   ]
  },
  {
   "cell_type": "code",
   "execution_count": null,
   "metadata": {
    "scrolled": false
   },
   "outputs": [],
   "source": [
    "class Solution(object):\n",
    "    def addToArrayForm(self, A, K):\n",
    "        n,m = 0,1\n",
    "        #Array to int\n",
    "        for i in range(len(A)-1,-1,-1):\n",
    "            n += A[i]*(m)\n",
    "            m *= 10\n",
    "        #Add together\n",
    "        n = n+K\n",
    "        if n == 0: return [0]\n",
    "        #Int to Array\n",
    "        res = []\n",
    "        while n > 0 :\n",
    "            res.append(n%10)\n",
    "            n /= 10\n",
    "        return res[::-1]\n",
    "        \n",
    "Solution().addToArrayForm([0],0)\n",
    "        "
   ]
  },
  {
   "cell_type": "markdown",
   "metadata": {},
   "source": [
    "#### Result: 1928ms (18.99%)"
   ]
  },
  {
   "cell_type": "markdown",
   "metadata": {},
   "source": [
    "## Option 2\n",
    "<p>\n",
    "  <p>A better way would be to add K to the last item in A, then carry along\n",
    "\n",
    "<p>\n",
    "Time complexity: O(max(A,logK))\n",
    "<br>\n",
    "Space complexity: O(max(A,logK))"
   ]
  },
  {
   "cell_type": "code",
   "execution_count": null,
   "metadata": {},
   "outputs": [],
   "source": [
    "class Solution(object):\n",
    "    def addToArrayForm(self, A, K):\n",
    "        A[-1] += K\n",
    "        for i in range(len(A) - 1, -1, -1):\n",
    "            carry, A[i] = divmod(A[i], 10)\n",
    "            if i: A[i-1] += carry\n",
    "        #In case K is larger than A, carry could be multiple digits\n",
    "        if carry:\n",
    "            A = map(int, str(carry)) + A\n",
    "        return A\n",
    "        \n",
    "Solution().addToArrayForm([2,1,5],806)\n",
    "        "
   ]
  },
  {
   "cell_type": "markdown",
   "metadata": {},
   "source": [
    "#### Result: 288ms (63.92%)"
   ]
  }
 ],
 "metadata": {
  "kernelspec": {
   "display_name": "Python 2",
   "language": "python",
   "name": "python2"
  },
  "language_info": {
   "codemirror_mode": {
    "name": "ipython",
    "version": 2
   },
   "file_extension": ".py",
   "mimetype": "text/x-python",
   "name": "python",
   "nbconvert_exporter": "python",
   "pygments_lexer": "ipython2",
   "version": "2.7.16"
  }
 },
 "nbformat": 4,
 "nbformat_minor": 2
}
