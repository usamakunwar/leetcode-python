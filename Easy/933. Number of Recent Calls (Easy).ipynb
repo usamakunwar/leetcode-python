{
 "cells": [
  {
   "cell_type": "markdown",
   "metadata": {},
   "source": [
    "# 933. Number of Recent Calls (Easy)"
   ]
  },
  {
   "cell_type": "markdown",
   "metadata": {},
   "source": [
    "<div><p>Write a class <code>RecentCounter</code> to count recent requests.</p>\n",
    "\n",
    "<p>It has only one method:&nbsp;<code>ping(int t)</code>, where t represents some time in milliseconds.</p>\n",
    "\n",
    "<p>Return the number of <code>ping</code>s that have been made from 3000 milliseconds ago until now.</p>\n",
    "\n",
    "<p>Any ping with time in <code>[t - 3000, t]</code> will count, including the current ping.</p>\n",
    "\n",
    "<p>It is guaranteed that every call to <code>ping</code> uses a strictly larger value of&nbsp;<code>t</code> than before.</p>\n",
    "\n",
    "<p>&nbsp;</p>\n",
    "\n",
    "<p><strong>Example 1:</strong></p>\n",
    "\n",
    "<pre><strong>Input: </strong>inputs = <span id=\"example-input-1-1\">[\"RecentCounter\",\"ping\",\"ping\",\"ping\",\"ping\"]</span>, inputs = <span id=\"example-input-1-2\">[[],[1],[100],[3001],[3002]]</span>\n",
    "<strong>Output: </strong><span id=\"example-output-1\">[null,1,2,3,3]</span></pre>\n",
    "\n",
    "<p>&nbsp;</p>\n",
    "\n",
    "<p><strong>Note:</strong></p>\n",
    "\n",
    "<ol>\n",
    "\t<li>Each test case will have at most <code>10000</code> calls to <code>ping</code>.</li>\n",
    "\t<li>Each test case will call&nbsp;<code>ping</code> with strictly increasing values of <code>t</code>.</li>\n",
    "\t<li>Each call to ping will have <code>1 &lt;= t &lt;= 10^9</code>.</li>\n",
    "</ol>\n",
    "\n",
    "<div>\n",
    "<p>&nbsp;</p>\n",
    "</div></div>"
   ]
  },
  {
   "cell_type": "markdown",
   "metadata": {},
   "source": [
    "## Option 1\n",
    " <p>\n",
    "    Binary Search\n",
    "<p>\n",
    "Time complexity: O(logn) \n",
    "<br>\n",
    "Space complexity: O(n) "
   ]
  },
  {
   "cell_type": "code",
   "execution_count": null,
   "metadata": {
    "scrolled": false
   },
   "outputs": [],
   "source": [
    "class RecentCounter(object):\n",
    "\n",
    "    def __init__(self):\n",
    "        self.arr = []\n",
    "\n",
    "    def ping(self, t):\n",
    "        self.arr.append(t)\n",
    "        \n",
    "        l,r = 0, len(self.arr)-1\n",
    "        \n",
    "        target = t-3000\n",
    "        \n",
    "        while l < r:\n",
    "            mid = (l+r)/2\n",
    "            if self.arr[mid] < target:\n",
    "                l = mid + 1\n",
    "            else:\n",
    "                r = mid\n",
    "        \n",
    "        return len(self.arr) - l\n",
    "\n",
    "# Your RecentCounter object will be instantiated and called as such:\n",
    "# obj = RecentCounter()\n",
    "# param_1 = obj.ping(t)"
   ]
  },
  {
   "cell_type": "markdown",
   "metadata": {},
   "source": [
    "#### Result: 416ms (30.65%)\n"
   ]
  },
  {
   "cell_type": "markdown",
   "metadata": {},
   "source": [
    "## Option 2\n",
    " <p>\n",
    "    Queue\n",
    "<p>\n",
    "Time complexity: O(n)\n",
    "<br>\n",
    "Space complexity: O(1) 3000 "
   ]
  },
  {
   "cell_type": "code",
   "execution_count": null,
   "metadata": {},
   "outputs": [],
   "source": [
    "class RecentCounter(object):\n",
    "\n",
    "    def __init__(self):\n",
    "        self.q = collections.deque()\n",
    "\n",
    "    def ping(self, t):\n",
    "        target = t-3000\n",
    "        while self.q and self.q[0] < target:\n",
    "            self.q.popleft()\n",
    "        self.q.append(t)\n",
    "        return len(self.q)\n",
    "\n",
    "# Your RecentCounter object will be instantiated and called as such:\n",
    "# obj = RecentCounter()\n",
    "# param_1 = obj.ping(t)"
   ]
  },
  {
   "cell_type": "markdown",
   "metadata": {},
   "source": [
    "#### Result: 304ms (77.42%)\n"
   ]
  }
 ],
 "metadata": {
  "kernelspec": {
   "display_name": "Python 2",
   "language": "python",
   "name": "python2"
  },
  "language_info": {
   "codemirror_mode": {
    "name": "ipython",
    "version": 2
   },
   "file_extension": ".py",
   "mimetype": "text/x-python",
   "name": "python",
   "nbconvert_exporter": "python",
   "pygments_lexer": "ipython2",
   "version": "2.7.16"
  }
 },
 "nbformat": 4,
 "nbformat_minor": 2
}
