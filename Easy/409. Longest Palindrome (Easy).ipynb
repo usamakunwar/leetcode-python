{
 "cells": [
  {
   "cell_type": "markdown",
   "metadata": {},
   "source": [
    "# 409. Longest Palindrome (Easy)"
   ]
  },
  {
   "cell_type": "markdown",
   "metadata": {},
   "source": [
    "<div><p>Given a string which consists of lowercase or uppercase letters, find the length of the longest palindromes that can be built with those letters.</p>\n",
    "\n",
    "<p>This is case sensitive, for example <code>\"Aa\"</code> is not considered a palindrome here.</p>\n",
    "\n",
    "<p><b>Note:</b><br>\n",
    "Assume the length of given string will not exceed 1,010.\n",
    "</p>\n",
    "\n",
    "<p><b>Example: </b>\n",
    "</p><pre>Input:\n",
    "\"abccccdd\"\n",
    "\n",
    "Output:\n",
    "7\n",
    "\n",
    "Explanation:\n",
    "One longest palindrome that can be built is \"dccaccd\", whose length is 7.\n",
    "</pre>\n",
    "<p></p></div>"
   ]
  },
  {
   "cell_type": "markdown",
   "metadata": {},
   "source": [
    "## Option 1\n",
    "\n",
    "Time complexity = O(n)\n",
    "<br>\n",
    "Space complexity = O(1)"
   ]
  },
  {
   "cell_type": "code",
   "execution_count": null,
   "metadata": {},
   "outputs": [],
   "source": [
    "import collections\n",
    "class Solution(object):\n",
    "    def longestPalindrome(self, s):\n",
    "        n = sum(v%2 for v in collections.Counter(s).values())\n",
    "        return (len(s)-(n-1 if n > 0 else 0))\n",
    "        #a prettier altervative\n",
    "        #return len(s) - odds + bool(odds) \n",
    "Solution().longestPalindrome(\"bb\")"
   ]
  },
  {
   "cell_type": "markdown",
   "metadata": {},
   "source": [
    "#### Result: 28ms (31.48%)"
   ]
  }
 ],
 "metadata": {
  "kernelspec": {
   "display_name": "Python 2",
   "language": "python",
   "name": "python2"
  },
  "language_info": {
   "codemirror_mode": {
    "name": "ipython",
    "version": 2
   },
   "file_extension": ".py",
   "mimetype": "text/x-python",
   "name": "python",
   "nbconvert_exporter": "python",
   "pygments_lexer": "ipython2",
   "version": "2.7.16"
  }
 },
 "nbformat": 4,
 "nbformat_minor": 2
}
