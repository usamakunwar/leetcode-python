{
 "cells": [
  {
   "cell_type": "markdown",
   "metadata": {},
   "source": [
    "# 908. Smallest Range I (Easy)\n",
    "\n"
   ]
  },
  {
   "cell_type": "markdown",
   "metadata": {},
   "source": [
    "<div><p>Given an array <code>A</code> of integers, for each integer <code>A[i]</code> we may choose any <code>x</code> with <code>-K &lt;= x &lt;= K</code>, and add <code>x</code> to <code>A[i]</code>.</p>\n",
    "\n",
    "<p>After this process, we have some array <code>B</code>.</p>\n",
    "\n",
    "<p>Return the smallest possible difference between the maximum value of <code>B</code>&nbsp;and the minimum value of <code>B</code>.</p>\n",
    "\n",
    "<p>&nbsp;</p>\n",
    "\n",
    "<ol>\n",
    "</ol>\n",
    "\n",
    "<div>\n",
    "<p><strong>Example 1:</strong></p>\n",
    "\n",
    "<pre><strong>Input: </strong>A = <span id=\"example-input-1-1\">[1]</span>, K = <span id=\"example-input-1-2\">0</span>\n",
    "<strong>Output: </strong><span id=\"example-output-1\">0\n",
    "<strong>Explanation</strong>: B = [1]</span>\n",
    "</pre>\n",
    "\n",
    "<div>\n",
    "<p><strong>Example 2:</strong></p>\n",
    "\n",
    "<pre><strong>Input: </strong>A = <span id=\"example-input-2-1\">[0,10]</span>, K = <span id=\"example-input-2-2\">2</span>\n",
    "<strong>Output: </strong><span id=\"example-output-2\">6\n",
    "</span><span id=\"example-output-1\"><strong>Explanation</strong>: B = [2,8]</span>\n",
    "</pre>\n",
    "\n",
    "<div>\n",
    "<p><strong>Example 3:</strong></p>\n",
    "\n",
    "<pre><strong>Input: </strong>A = <span id=\"example-input-3-1\">[1,3,6]</span>, K = <span id=\"example-input-3-2\">3</span>\n",
    "<strong>Output: </strong><span id=\"example-output-3\">0\n",
    "</span><span id=\"example-output-1\"><strong>Explanation</strong>: B = [3,3,3] or B = [4,4,4]</span>\n",
    "</pre>\n",
    "\n",
    "<p>&nbsp;</p>\n",
    "\n",
    "<p><strong>Note:</strong></p>\n",
    "\n",
    "<ol>\n",
    "\t<li><code>1 &lt;= A.length &lt;= 10000</code></li>\n",
    "\t<li><code>0 &lt;= A[i] &lt;= 10000</code></li>\n",
    "\t<li><code>0 &lt;= K &lt;= 10000</code></li>\n",
    "</ol>\n",
    "</div>\n",
    "</div>\n",
    "</div></div>"
   ]
  },
  {
   "cell_type": "markdown",
   "metadata": {},
   "source": [
    "## Option 1\n",
    " <p> \n",
    "    <p>\n",
    "        <p>\n",
    "        \n",
    "Time complexity: O(n)\n",
    "    <br>\n",
    "Space complexity: O(1)\n"
   ]
  },
  {
   "cell_type": "code",
   "execution_count": null,
   "metadata": {
    "scrolled": false
   },
   "outputs": [],
   "source": [
    "class Solution(object):\n",
    "    def smallestRangeI(self, A, K):\n",
    "        m,n = min(A), max(A)\n",
    "        if n-K > m:\n",
    "            return 0 if (m+K) > (n-K) else (n-K)-(m+K)\n",
    "        else:\n",
    "            return 0\n",
    "Solution().smallestRangeI([1,3,6], 3)   \n",
    "        "
   ]
  },
  {
   "cell_type": "markdown",
   "metadata": {},
   "source": [
    "#### Result: 100ms (72.26%)"
   ]
  },
  {
   "cell_type": "markdown",
   "metadata": {},
   "source": [
    "## Option 2\n",
    " <p> \n",
    "    <p>\n",
    "        <li>The above can be translated to the below, as we are effectively just trying to make min(A) max(A) meet, having 2 K's at our disposal\n",
    "        <p>\n",
    "        \n",
    "Time complexity: O(n)\n",
    "    <br>\n",
    "Space complexity: O(1)\n"
   ]
  },
  {
   "cell_type": "code",
   "execution_count": null,
   "metadata": {},
   "outputs": [],
   "source": [
    "class Solution(object):\n",
    "    def smallestRangeI(self, A, K):        \n",
    "        return max(0, max(A)-min(A) - 2*K)\n",
    "    \n",
    "Solution().smallestRangeI([1,3,6], 3)   \n",
    "        "
   ]
  },
  {
   "cell_type": "markdown",
   "metadata": {},
   "source": [
    "#### Result: 100ms (72.26%)"
   ]
  }
 ],
 "metadata": {
  "kernelspec": {
   "display_name": "Python 2",
   "language": "python",
   "name": "python2"
  },
  "language_info": {
   "codemirror_mode": {
    "name": "ipython",
    "version": 2
   },
   "file_extension": ".py",
   "mimetype": "text/x-python",
   "name": "python",
   "nbconvert_exporter": "python",
   "pygments_lexer": "ipython2",
   "version": "2.7.16"
  }
 },
 "nbformat": 4,
 "nbformat_minor": 2
}
