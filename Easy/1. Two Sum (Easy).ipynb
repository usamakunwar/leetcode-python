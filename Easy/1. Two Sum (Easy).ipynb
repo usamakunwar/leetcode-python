{
 "cells": [
  {
   "cell_type": "markdown",
   "metadata": {},
   "source": [
    "# 1. Two Sum (Easy)"
   ]
  },
  {
   "cell_type": "markdown",
   "metadata": {},
   "source": [
    "<div><p>Given an array of integers, return <strong>indices</strong> of the two numbers such that they add up to a specific target.</p>\n",
    "\n",
    "<p>You may assume that each input would have <strong><em>exactly</em></strong> one solution, and you may not use the <em>same</em> element twice.</p>\n",
    "\n",
    "<p><strong>Example:</strong></p>\n",
    "\n",
    "<pre>Given nums = [2, 7, 11, 15], target = 9,\n",
    "\n",
    "Because nums[<strong>0</strong>] + nums[<strong>1</strong>] = 2 + 7 = 9,\n",
    "return [<strong>0</strong>, <strong>1</strong>].\n",
    "</pre>\n",
    "</div>"
   ]
  },
  {
   "cell_type": "markdown",
   "metadata": {},
   "source": [
    "## Option 1\n",
    "\n",
    "Two Pass\n",
    "<p>\n",
    "Time complexity = O(n)\n",
    "<br>\n",
    "Space complexity = O(n)"
   ]
  },
  {
   "cell_type": "code",
   "execution_count": null,
   "metadata": {
    "scrolled": false
   },
   "outputs": [],
   "source": [
    "import collections\n",
    "class Solution(object):\n",
    "    def twoSum(self, nums, target):\n",
    "        n_map = collections.defaultdict(list)\n",
    "        for i,v in enumerate(nums): n_map[v] = i\n",
    "        for i,v in enumerate(nums):\n",
    "            t = target-v\n",
    "            if t in n_map and n_map[t] != i: return [i, n_map[t]]\n",
    "Solution().twoSum([3,2,4], 6)"
   ]
  },
  {
   "cell_type": "markdown",
   "metadata": {},
   "source": [
    "#### Result: 36ms (79.18%)"
   ]
  },
  {
   "cell_type": "markdown",
   "metadata": {},
   "source": [
    "## Option 2\n",
    "\n",
    "One Pass\n",
    "<p>\n",
    "Time complexity = O(n)\n",
    "<br>\n",
    "Space complexity = O(n)"
   ]
  },
  {
   "cell_type": "code",
   "execution_count": null,
   "metadata": {},
   "outputs": [],
   "source": [
    "import collections\n",
    "class Solution(object):\n",
    "    def twoSum(self, nums, target):\n",
    "        n_map = collections.defaultdict(list)\n",
    "        for i,v in enumerate(nums):\n",
    "            t = target-v\n",
    "            if t in n_map: return [n_map[t],i]\n",
    "            n_map[v] = i\n",
    "            \n",
    "Solution().twoSum([3,2,4], 6)"
   ]
  },
  {
   "cell_type": "markdown",
   "metadata": {},
   "source": [
    "#### Result: 44ms (51.96%)"
   ]
  }
 ],
 "metadata": {
  "kernelspec": {
   "display_name": "Python 2",
   "language": "python",
   "name": "python2"
  },
  "language_info": {
   "codemirror_mode": {
    "name": "ipython",
    "version": 2
   },
   "file_extension": ".py",
   "mimetype": "text/x-python",
   "name": "python",
   "nbconvert_exporter": "python",
   "pygments_lexer": "ipython2",
   "version": "2.7.16"
  }
 },
 "nbformat": 4,
 "nbformat_minor": 2
}
