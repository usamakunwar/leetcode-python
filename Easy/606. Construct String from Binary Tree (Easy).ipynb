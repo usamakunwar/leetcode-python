{
 "cells": [
  {
   "cell_type": "markdown",
   "metadata": {},
   "source": [
    "# 606. Construct String from Binary Tree (Easy)\n"
   ]
  },
  {
   "cell_type": "markdown",
   "metadata": {},
   "source": [
    "<div><p>You need to construct a string consists of parenthesis and integers from a binary tree with the preorder traversing way.</p>\n",
    "\n",
    "<p>The null node needs to be represented by empty parenthesis pair \"()\". And you need to omit all the empty parenthesis pairs that don't affect the one-to-one mapping relationship between the string and the original binary tree.</p>\n",
    "\n",
    "<p><b>Example 1:</b><br>\n",
    "</p><pre><b>Input:</b> Binary tree: [1,2,3,4]\n",
    "       1\n",
    "     /   \\\n",
    "    2     3\n",
    "   /    \n",
    "  4     \n",
    "\n",
    "<b>Output:</b> \"1(2(4))(3)\"\n",
    "<br><b>Explanation:</b> Originallay it needs to be \"1(2(4)())(3()())\", <br>but you need to omit all the unnecessary empty parenthesis pairs. <br>And it will be \"1(2(4))(3)\".\n",
    "</pre>\n",
    "<p></p>\n",
    "\n",
    "<p><b>Example 2:</b><br>\n",
    "</p><pre><b>Input:</b> Binary tree: [1,2,3,null,4]\n",
    "       1\n",
    "     /   \\\n",
    "    2     3\n",
    "     \\  \n",
    "      4 \n",
    "\n",
    "<b>Output:</b> \"1(2()(4))(3)\"\n",
    "<br><b>Explanation:</b> Almost the same as the first example, <br>except we can't omit the first parenthesis pair to break the one-to-one mapping relationship between the input and the output.\n",
    "</pre>\n",
    "<p></p></div>"
   ]
  },
  {
   "cell_type": "markdown",
   "metadata": {},
   "source": [
    "## Option 1\n",
    "<p>\n",
    "         <p>\n",
    "Time complexity: O(n)\n",
    "    <br>\n",
    "Space complexity: O(n)\n"
   ]
  },
  {
   "cell_type": "code",
   "execution_count": null,
   "metadata": {},
   "outputs": [],
   "source": [
    "class Solution(object):\n",
    "    def tree2str(self, t):\n",
    "        \"\"\"\n",
    "        :type t: TreeNode\n",
    "        :rtype: str\n",
    "        \"\"\"\n",
    "        if not t: return ''\n",
    "        def search(node):\n",
    "            res = str(node.val)\n",
    "            if node.left:\n",
    "                res += '(' + search(node.left) + ')'\n",
    "            if node.right:\n",
    "                if not node.left: res += '()'\n",
    "                res += '('+ search(node.right) + ')' \n",
    "            return res\n",
    "            \n",
    "        return search(t)"
   ]
  },
  {
   "cell_type": "markdown",
   "metadata": {},
   "source": [
    "#### Result: 104ms (80.24%)"
   ]
  }
 ],
 "metadata": {
  "kernelspec": {
   "display_name": "Python 2",
   "language": "python",
   "name": "python2"
  },
  "language_info": {
   "codemirror_mode": {
    "name": "ipython",
    "version": 2
   },
   "file_extension": ".py",
   "mimetype": "text/x-python",
   "name": "python",
   "nbconvert_exporter": "python",
   "pygments_lexer": "ipython2",
   "version": "2.7.16"
  }
 },
 "nbformat": 4,
 "nbformat_minor": 2
}
