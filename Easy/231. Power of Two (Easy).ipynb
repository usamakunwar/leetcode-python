{
 "cells": [
  {
   "cell_type": "markdown",
   "metadata": {},
   "source": [
    "# 231. Power of Two (Easy)"
   ]
  },
  {
   "cell_type": "markdown",
   "metadata": {},
   "source": [
    "<div><p>Given an integer, write a function to determine if it is a power of two.</p>\n",
    "\n",
    "<p><strong>Example 1:</strong></p>\n",
    "\n",
    "<pre><strong>Input:</strong> 1\n",
    "<strong>Output:</strong> true \n",
    "<strong>Explanation: </strong>2<sup>0</sup>&nbsp;= 1\n",
    "</pre>\n",
    "\n",
    "<p><strong>Example 2:</strong></p>\n",
    "\n",
    "<pre><strong>Input:</strong> 16\n",
    "<strong>Output:</strong> true\n",
    "<strong>Explanation: </strong>2<sup>4</sup>&nbsp;= 16</pre>\n",
    "\n",
    "<p><strong>Example 3:</strong></p>\n",
    "\n",
    "<pre><strong>Input:</strong> 218\n",
    "<strong>Output:</strong> false</pre>\n",
    "</div>"
   ]
  },
  {
   "cell_type": "markdown",
   "metadata": {},
   "source": [
    "## Option 1\n",
    " <p>\n",
    "    <p>\n",
    "        <p>\n",
    "Time complexity: O(logn)\n",
    "    <br>\n",
    "Space complexity: O(1) \n"
   ]
  },
  {
   "cell_type": "code",
   "execution_count": null,
   "metadata": {},
   "outputs": [],
   "source": [
    "class Solution(object):\n",
    "    def isPowerOfTwo(self, n):\n",
    "        c = 0\n",
    "        if n < 0 : n *= -1\n",
    "        while n:\n",
    "            c += n&1\n",
    "            n = n >> 1\n",
    "        return c == 1\n",
    "         \n",
    "        #OR return n & (-n) == n\n",
    "        \n",
    "\n",
    "Solution().isPowerOfTwo(-16)"
   ]
  },
  {
   "cell_type": "markdown",
   "metadata": {},
   "source": [
    "\n",
    "#### Result: 16ms (85.97%)"
   ]
  }
 ],
 "metadata": {
  "kernelspec": {
   "display_name": "Python 2",
   "language": "python",
   "name": "python2"
  },
  "language_info": {
   "codemirror_mode": {
    "name": "ipython",
    "version": 2
   },
   "file_extension": ".py",
   "mimetype": "text/x-python",
   "name": "python",
   "nbconvert_exporter": "python",
   "pygments_lexer": "ipython2",
   "version": "2.7.16"
  }
 },
 "nbformat": 4,
 "nbformat_minor": 2
}
