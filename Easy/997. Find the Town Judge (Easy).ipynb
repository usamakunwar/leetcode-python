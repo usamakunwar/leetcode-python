{
 "cells": [
  {
   "cell_type": "markdown",
   "metadata": {},
   "source": [
    "# 997. Find the Town Judge (Easy)"
   ]
  },
  {
   "cell_type": "markdown",
   "metadata": {},
   "source": [
    "<div><p>In a town, there are <code>N</code> people labelled from&nbsp;<code>1</code> to <code>N</code>.&nbsp; There is a rumor that one of these people is secretly the town judge.</p>\n",
    "\n",
    "<p>If the&nbsp;town judge exists, then:</p>\n",
    "\n",
    "<ol>\n",
    "\t<li>The town judge trusts nobody.</li>\n",
    "\t<li>Everybody (except for the town judge) trusts the town judge.</li>\n",
    "\t<li>There is exactly one person that satisfies properties 1 and 2.</li>\n",
    "</ol>\n",
    "\n",
    "<p>You are given <code>trust</code>, an array of pairs <code>trust[i] = [a, b]</code> representing that the person labelled <code>a</code> trusts the person labelled <code>b</code>.</p>\n",
    "\n",
    "<p>If the town judge exists and can be identified, return the label of the town judge.&nbsp; Otherwise, return <code>-1</code>.</p>\n",
    "\n",
    "<p>&nbsp;</p>\n",
    "\n",
    "<p><strong>Example 1:</strong></p>\n",
    "\n",
    "<pre><strong>Input: </strong>N = <span id=\"example-input-1-1\">2</span>, trust = <span id=\"example-input-1-2\">[[1,2]]</span>\n",
    "<strong>Output: </strong><span id=\"example-output-1\">2</span>\n",
    "</pre>\n",
    "\n",
    "<div>\n",
    "<p><strong>Example 2:</strong></p>\n",
    "\n",
    "<pre><strong>Input: </strong>N = <span id=\"example-input-2-1\">3</span>, trust = <span id=\"example-input-2-2\">[[1,3],[2,3]]</span>\n",
    "<strong>Output: </strong><span id=\"example-output-2\">3</span>\n",
    "</pre>\n",
    "\n",
    "<div>\n",
    "<p><strong>Example 3:</strong></p>\n",
    "\n",
    "<pre><strong>Input: </strong>N = <span id=\"example-input-3-1\">3</span>, trust = <span id=\"example-input-3-2\">[[1,3],[2,3],[3,1]]</span>\n",
    "<strong>Output: </strong><span id=\"example-output-3\">-1</span>\n",
    "</pre>\n",
    "\n",
    "<div>\n",
    "<p><strong>Example 4:</strong></p>\n",
    "\n",
    "<pre><strong>Input: </strong>N = <span id=\"example-input-4-1\">3</span>, trust = <span id=\"example-input-4-2\">[[1,2],[2,3]]</span>\n",
    "<strong>Output: </strong><span id=\"example-output-4\">-1</span>\n",
    "</pre>\n",
    "\n",
    "<div>\n",
    "<p><strong>Example 5:</strong></p>\n",
    "\n",
    "<pre><strong>Input: </strong>N = <span id=\"example-input-5-1\">4</span>, trust = <span id=\"example-input-5-2\">[[1,3],[1,4],[2,3],[2,4],[4,3]]</span>\n",
    "<strong>Output: </strong><span id=\"example-output-5\">3</span></pre>\n",
    "\n",
    "<p>&nbsp;</p>\n",
    "</div>\n",
    "</div>\n",
    "</div>\n",
    "</div>\n",
    "\n",
    "<p><strong>Note:</strong></p>\n",
    "\n",
    "<ol>\n",
    "\t<li><code>1 &lt;= N &lt;= 1000</code></li>\n",
    "\t<li><code>trust.length &lt;= 10000</code></li>\n",
    "\t<li><code>trust[i]</code> are all different</li>\n",
    "\t<li><code>trust[i][0] != trust[i][1]</code></li>\n",
    "\t<li><code>1 &lt;= trust[i][0], trust[i][1] &lt;= N</code></li>\n",
    "</ol>\n",
    "</div>"
   ]
  },
  {
   "cell_type": "markdown",
   "metadata": {},
   "source": [
    "## Option 1\n",
    "<p>\n",
    "  <p>\n",
    "      <p>\n",
    "Time complexity: O(n) size of trust\n",
    "<br>\n",
    "Space complexity: O(n)"
   ]
  },
  {
   "cell_type": "code",
   "execution_count": null,
   "metadata": {
    "scrolled": false
   },
   "outputs": [],
   "source": [
    "import collections\n",
    "class Solution(object):\n",
    "    def findJudge(self, N, trust):\n",
    "        if not trust and N == 1: return 1\n",
    "        truster,trustee,judge = set(),collections.Counter(),None\n",
    "        for (i,j) in trust: \n",
    "            truster.add(i)\n",
    "            trustee[j] += 1\n",
    "            if not judge or trustee[j] > judge[1]:\n",
    "                #(judge, judge count)\n",
    "                judge = (j,trustee[j])\n",
    "        \n",
    "        return judge[0] if judge and judge[1] == N-1 and judge[0] not in truster else -1\n",
    " \n",
    "Solution().findJudge(2,[])"
   ]
  },
  {
   "cell_type": "markdown",
   "metadata": {},
   "source": [
    "#### Result: 708ms (27.42%)"
   ]
  },
  {
   "cell_type": "markdown",
   "metadata": {},
   "source": [
    "## Option 2\n",
    "<p>\n",
    "  <p>\n",
    "      <p>\n",
    "Time complexity: O(n) size of trust\n",
    "<br>\n",
    "Space complexity: O(n)"
   ]
  },
  {
   "cell_type": "code",
   "execution_count": null,
   "metadata": {},
   "outputs": [],
   "source": [
    "import collections\n",
    "class Solution(object):\n",
    "    def findJudge(self, N, trust):\n",
    "        if not trust and N == 1: return 1\n",
    "        trust_balance = [0]*N\n",
    "        for (i,j) in trust:\n",
    "            trust_balance[i-1] -= 1\n",
    "            trust_balance[j-1] += 1\n",
    "        \n",
    "        for i,t in enumerate(trust_balance):\n",
    "            if t == N-1: return i+1\n",
    "        \n",
    "        return -1\n",
    "        \n",
    " \n",
    "Solution().findJudge(4,[[1,3],[1,4],[2,3],[2,4],[4,3]])"
   ]
  },
  {
   "cell_type": "markdown",
   "metadata": {},
   "source": [
    "#### Result: 676ms (59.18%)"
   ]
  }
 ],
 "metadata": {
  "kernelspec": {
   "display_name": "Python 2",
   "language": "python",
   "name": "python2"
  },
  "language_info": {
   "codemirror_mode": {
    "name": "ipython",
    "version": 2
   },
   "file_extension": ".py",
   "mimetype": "text/x-python",
   "name": "python",
   "nbconvert_exporter": "python",
   "pygments_lexer": "ipython2",
   "version": "2.7.16"
  }
 },
 "nbformat": 4,
 "nbformat_minor": 2
}
