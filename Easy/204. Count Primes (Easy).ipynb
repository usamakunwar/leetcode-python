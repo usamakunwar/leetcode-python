{
 "cells": [
  {
   "cell_type": "markdown",
   "metadata": {},
   "source": [
    "# 204. Count Primes (Easy)"
   ]
  },
  {
   "cell_type": "markdown",
   "metadata": {},
   "source": [
    "<div><p>Count the number of prime numbers less than a non-negative number, <b><i>n</i></b>.</p>\n",
    "\n",
    "<p><strong>Example:</strong></p>\n",
    "\n",
    "<pre><strong>Input:</strong> 10\n",
    "<strong>Output:</strong> 4\n",
    "<strong>Explanation:</strong> There are 4 prime numbers less than 10, they are 2, 3, 5, 7.\n",
    "</pre>\n",
    "</div>"
   ]
  },
  {
   "cell_type": "markdown",
   "metadata": {},
   "source": [
    "## Option 1\n",
    " <p> \n",
    "    Sieve of Eratosthenes\n",
    "    <p>\n",
    "    <p>\n",
    "        <p>\n",
    "        \n",
    "Time complexity: O(nloglogn) \n",
    "    <br>\n",
    "Space complexity: O(n)\n"
   ]
  },
  {
   "cell_type": "code",
   "execution_count": null,
   "metadata": {
    "scrolled": true
   },
   "outputs": [],
   "source": [
    "class Solution(object):\n",
    "    def countPrimes(self, n):\n",
    "        arr = [True]*(n-2)\n",
    "        for i in range(int(n**0.5)+1):\n",
    "            for j in range(i+i+2,len(arr),i+2):\n",
    "                 arr[j] = False\n",
    "        return sum(arr)\n",
    "\n",
    "Solution().countPrimes(20)\n"
   ]
  },
  {
   "cell_type": "markdown",
   "metadata": {},
   "source": [
    "#### Result: 1624ms (16.2%)"
   ]
  }
 ],
 "metadata": {
  "kernelspec": {
   "display_name": "Python 2",
   "language": "python",
   "name": "python2"
  },
  "language_info": {
   "codemirror_mode": {
    "name": "ipython",
    "version": 2
   },
   "file_extension": ".py",
   "mimetype": "text/x-python",
   "name": "python",
   "nbconvert_exporter": "python",
   "pygments_lexer": "ipython2",
   "version": "2.7.16"
  }
 },
 "nbformat": 4,
 "nbformat_minor": 2
}
