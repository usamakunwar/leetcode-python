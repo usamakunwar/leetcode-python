{
 "cells": [
  {
   "cell_type": "markdown",
   "metadata": {},
   "source": [
    "# 563. Binary Tree Tilt (Easy)"
   ]
  },
  {
   "cell_type": "markdown",
   "metadata": {},
   "source": [
    "<div><p>Given a binary tree, return the tilt of the <b>whole tree</b>.</p>\n",
    "\n",
    "<p>The tilt of a <b>tree node</b> is defined as the <b>absolute difference</b> between the sum of all left subtree node values and the sum of all right subtree node values. Null node has tilt 0.</p>\n",
    "\n",
    "<p>The tilt of the <b>whole tree</b> is defined as the sum of all nodes' tilt.</p>\n",
    "\n",
    "<p><b>Example:</b><br>\n",
    "</p><pre><b>Input:</b> \n",
    "         1\n",
    "       /   \\\n",
    "      2     3\n",
    "<b>Output:</b> 1\n",
    "<b>Explanation:</b> \n",
    "Tilt of node 2 : 0\n",
    "Tilt of node 3 : 0\n",
    "Tilt of node 1 : |2-3| = 1\n",
    "Tilt of binary tree : 0 + 0 + 1 = 1\n",
    "</pre>\n",
    "<p></p>\n",
    "\n",
    "<p><b>Note:</b>\n",
    "</p><ol>\n",
    "<li>The sum of node values in any subtree won't exceed the range of 32-bit integer. </li>\n",
    "<li>All the tilt values won't exceed the range of 32-bit integer.</li>\n",
    "</ol>\n",
    "<p></p></div>"
   ]
  },
  {
   "cell_type": "markdown",
   "metadata": {},
   "source": [
    "## Option 1\n",
    " \n",
    " <p>\n",
    "\n",
    "Time complexity: O(n)\n",
    "<br>\n",
    "Space complexity: O(n) "
   ]
  },
  {
   "cell_type": "code",
   "execution_count": null,
   "metadata": {
    "scrolled": true
   },
   "outputs": [],
   "source": [
    "class Solution(object):\n",
    "    def findTilt(self, root):\n",
    "        if not root: return 0\n",
    "        \n",
    "        def search(node):\n",
    "            l_tilt, l_sum = search(node.left) if node.left else (0,0)\n",
    "            r_tilt, r_sum = search(node.right) if node.right else (0,0)\n",
    "            \n",
    "            return l_tilt + r_tilt + abs(l_sum - r_sum), l_sum+r_sum+node.val\n",
    "            \n",
    "        return search(root)[0]"
   ]
  },
  {
   "cell_type": "markdown",
   "metadata": {},
   "source": [
    "#### Result: 64ms (44.33%)\n"
   ]
  }
 ],
 "metadata": {
  "kernelspec": {
   "display_name": "Python 2",
   "language": "python",
   "name": "python2"
  },
  "language_info": {
   "codemirror_mode": {
    "name": "ipython",
    "version": 2
   },
   "file_extension": ".py",
   "mimetype": "text/x-python",
   "name": "python",
   "nbconvert_exporter": "python",
   "pygments_lexer": "ipython2",
   "version": "2.7.16"
  }
 },
 "nbformat": 4,
 "nbformat_minor": 2
}
