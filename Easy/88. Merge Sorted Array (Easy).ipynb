{
 "cells": [
  {
   "cell_type": "markdown",
   "metadata": {},
   "source": [
    "# 88. Merge Sorted Array (Easy)\n",
    "\n"
   ]
  },
  {
   "cell_type": "markdown",
   "metadata": {},
   "source": [
    "<div><p>Given two sorted integer arrays <em>nums1</em> and <em>nums2</em>, merge <em>nums2</em> into <em>nums1</em> as one sorted array.</p>\n",
    "\n",
    "<p><strong>Note:</strong></p>\n",
    "\n",
    "<ul>\n",
    "\t<li>The number of elements initialized in <em>nums1</em> and <em>nums2</em> are <em>m</em> and <em>n</em> respectively.</li>\n",
    "\t<li>You may assume that <em>nums1</em> has enough space (size that is greater or equal to <em>m</em> + <em>n</em>) to hold additional elements from <em>nums2</em>.</li>\n",
    "</ul>\n",
    "\n",
    "<p><strong>Example:</strong></p>\n",
    "\n",
    "<pre><strong>Input:</strong>\n",
    "nums1 = [1,2,3,0,0,0], m = 3\n",
    "nums2 = [2,5,6],       n = 3\n",
    "\n",
    "<strong>Output:</strong>&nbsp;[1,2,2,3,5,6]\n",
    "</pre></div>"
   ]
  },
  {
   "cell_type": "markdown",
   "metadata": {},
   "source": [
    "## Option 1\n",
    "Iterate through, sort the remaining and select the max of the sorted\n",
    "<br>\n",
    "Time complexity = O(m+n)\n",
    "<br>\n",
    "Space complexity = O(m)"
   ]
  },
  {
   "cell_type": "code",
   "execution_count": 13,
   "metadata": {
    "scrolled": false
   },
   "outputs": [
    {
     "name": "stdout",
     "output_type": "stream",
     "text": [
      "[1, 2, 2, 3, 5, 6]\n"
     ]
    }
   ],
   "source": [
    "class Solution:\n",
    "    def merge(self, nums1: [int], m: int, nums2: [int], n: int) -> None:\n",
    "        \"\"\"\n",
    "        Do not return anything, modify nums1 in-place instead.\n",
    "        \"\"\"\n",
    "        _nums1 = nums1[:m]\n",
    "        nums1[:] = []\n",
    "        \n",
    "        p1 = 0\n",
    "        p2 = 0\n",
    "        \n",
    "        while p1 < m and p2 < n:\n",
    "            if _nums1[p1] < nums2[p2]:\n",
    "                nums1.append(_nums1[p1])\n",
    "                p1 += 1\n",
    "            else:\n",
    "                nums1.append(nums2[p2])\n",
    "                p2 += 1\n",
    "            \n",
    "        if p1 < m:\n",
    "            nums1[p1+p2:] = _nums1[p1:]\n",
    "        if p2 < n:\n",
    "            nums1[p1+p2:] = nums2[p2:]\n",
    "        \n",
    "        print(nums1)\n",
    "            \n",
    "            \n",
    "Solution().merge([1,2,3,0,0,0],3,[2,5,6],3)"
   ]
  },
  {
   "cell_type": "markdown",
   "metadata": {},
   "source": [
    "#### Result:  44ms (50.51%)"
   ]
  }
 ],
 "metadata": {
  "kernelspec": {
   "display_name": "Python 3",
   "language": "python",
   "name": "python3"
  },
  "language_info": {
   "codemirror_mode": {
    "name": "ipython",
    "version": 3
   },
   "file_extension": ".py",
   "mimetype": "text/x-python",
   "name": "python",
   "nbconvert_exporter": "python",
   "pygments_lexer": "ipython3",
   "version": "3.7.4"
  }
 },
 "nbformat": 4,
 "nbformat_minor": 2
}
