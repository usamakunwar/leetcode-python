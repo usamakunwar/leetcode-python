{
 "cells": [
  {
   "cell_type": "markdown",
   "metadata": {},
   "source": [
    "# 350. Intersection of Two Arrays II (Easy)"
   ]
  },
  {
   "cell_type": "markdown",
   "metadata": {},
   "source": [
    "<div><p>Given two arrays, write a function to compute their intersection.</p>\n",
    "\n",
    "<p><strong>Example 1:</strong></p>\n",
    "\n",
    "<pre><strong>Input: </strong>nums1 = <span id=\"example-input-1-1\">[1,2,2,1]</span>, nums2 = <span id=\"example-input-1-2\">[2,2]</span>\n",
    "<strong>Output: </strong><span id=\"example-output-1\">[2,2]</span>\n",
    "</pre>\n",
    "\n",
    "<div>\n",
    "<p><strong>Example 2:</strong></p>\n",
    "\n",
    "<pre><strong>Input: </strong>nums1 = <span id=\"example-input-2-1\">[4,9,5]</span>, nums2 = <span id=\"example-input-2-2\">[9,4,9,8,4]</span>\n",
    "<strong>Output: </strong><span id=\"example-output-2\">[4,9]</span></pre>\n",
    "</div>\n",
    "\n",
    "<p><b>Note:</b></p>\n",
    "\n",
    "<ul>\n",
    "\t<li>Each element in the result should appear as many times as it shows in both arrays.</li>\n",
    "\t<li>The result can be in any order.</li>\n",
    "</ul>\n",
    "\n",
    "<p><b>Follow up:</b></p>\n",
    "\n",
    "<ul>\n",
    "\t<li>What if the given array is already sorted? How would you optimize your algorithm?</li>\n",
    "\t<li>What if <i>nums1</i>'s size is small compared to <i>nums2</i>'s size? Which algorithm is better?</li>\n",
    "\t<li>What if elements of <i>nums2</i> are stored on disk, and the memory is limited such that you cannot load all elements into the memory at once?</li>\n",
    "</ul>\n",
    "</div>"
   ]
  },
  {
   "cell_type": "markdown",
   "metadata": {},
   "source": [
    "## Option 1\n",
    "\n",
    "Slide the window, whilst doing a binary search on the item to add and remove\n",
    "\n",
    "Time complexity = O(min(nums1,nums2))\n",
    "<br>\n",
    "Space complexity = O(max(nums1,nums2))"
   ]
  },
  {
   "cell_type": "code",
   "execution_count": 13,
   "metadata": {
    "scrolled": false
   },
   "outputs": [
    {
     "data": {
      "text/plain": [
       "[9, 9, 8, 4]"
      ]
     },
     "execution_count": 13,
     "metadata": {},
     "output_type": "execute_result"
    }
   ],
   "source": [
    "import collections\n",
    "class Solution(object):\n",
    "    def intersect(self, nums1, nums2):\n",
    "        ln1,ln2,res = len(nums1), len(nums2),[]\n",
    "        s,l = (nums2,nums1) if ln1 > ln2 else (nums1,nums2)\n",
    "        counter = collections.Counter(l)\n",
    "        for i in s:\n",
    "            if counter[i] > 0:\n",
    "                counter[i] -= 1\n",
    "                res.append(i)\n",
    "        return res\n",
    "            \n",
    "                \n",
    "Solution().intersect([4,9,4,9,8,5],[9,9,8,4])"
   ]
  },
  {
   "cell_type": "markdown",
   "metadata": {},
   "source": [
    "#### Result: 32ms (83.43%)"
   ]
  }
 ],
 "metadata": {
  "kernelspec": {
   "display_name": "Python 2",
   "language": "python",
   "name": "python2"
  },
  "language_info": {
   "codemirror_mode": {
    "name": "ipython",
    "version": 2
   },
   "file_extension": ".py",
   "mimetype": "text/x-python",
   "name": "python",
   "nbconvert_exporter": "python",
   "pygments_lexer": "ipython2",
   "version": "2.7.16"
  }
 },
 "nbformat": 4,
 "nbformat_minor": 2
}
