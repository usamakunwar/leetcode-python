{
 "cells": [
  {
   "cell_type": "markdown",
   "metadata": {},
   "source": [
    "# 747. Largest Number At Least Twice of Others (Easy)"
   ]
  },
  {
   "cell_type": "markdown",
   "metadata": {},
   "source": [
    "<div><p>In a given integer array <code>nums</code>, there is always exactly one largest element.</p>\n",
    "\n",
    "<p>Find whether the largest element in the array is at least twice as much as every other number in the array.</p>\n",
    "\n",
    "<p>If it is, return the <strong>index</strong> of the largest element, otherwise return -1.</p>\n",
    "\n",
    "<p><strong>Example 1:</strong></p>\n",
    "\n",
    "<pre><strong>Input:</strong> nums = [3, 6, 1, 0]\n",
    "<strong>Output:</strong> 1\n",
    "<strong>Explanation:</strong> 6 is the largest integer, and for every other number in the array x,\n",
    "6 is more than twice as big as x.  The index of value 6 is 1, so we return 1.\n",
    "</pre>\n",
    "\n",
    "<p>&nbsp;</p>\n",
    "\n",
    "<p><strong>Example 2:</strong></p>\n",
    "\n",
    "<pre><strong>Input:</strong> nums = [1, 2, 3, 4]\n",
    "<strong>Output:</strong> -1\n",
    "<strong>Explanation:</strong> 4 isn't at least as big as twice the value of 3, so we return -1.\n",
    "</pre>\n",
    "\n",
    "<p>&nbsp;</p>\n",
    "\n",
    "<p><strong>Note:</strong></p>\n",
    "\n",
    "<ol>\n",
    "\t<li><code>nums</code> will have a length in the range <code>[1, 50]</code>.</li>\n",
    "\t<li>Every <code>nums[i]</code> will be an integer in the range <code>[0, 99]</code>.</li>\n",
    "</ol>\n",
    "\n",
    "<p>&nbsp;</p>\n",
    "</div>"
   ]
  },
  {
   "cell_type": "markdown",
   "metadata": {},
   "source": [
    "## Option 1\n",
    " \n",
    " <p>\n",
    "    <li>One Pass\n",
    "    <li>Get the largest and second largest item in the array\n",
    "    <li>If the largest is twice as big as the second largest, that means it is also with the rest of the array\n",
    "<p>\n",
    "    <p>\n",
    "Time complexity: O(n)\n",
    "<br>\n",
    "Space complexity: O(1) "
   ]
  },
  {
   "cell_type": "code",
   "execution_count": null,
   "metadata": {
    "scrolled": true
   },
   "outputs": [],
   "source": [
    "class Solution(object):\n",
    "    def dominantIndex(self, nums):\n",
    "        max1 = max2 = idx = -1\n",
    "        \n",
    "        for i,n in enumerate(nums):\n",
    "            if max1 < n: idx = i\n",
    "            max1, max2 = max(max1, n), max(max2, min(max1, n))\n",
    "         \n",
    "        return -1 if max1 < max2*2 else idx\n",
    "        \n",
    "        \n",
    "Solution().dominantIndex([1])\n",
    "        "
   ]
  },
  {
   "cell_type": "markdown",
   "metadata": {},
   "source": [
    "#### Result: 8ms (100.00%)\n"
   ]
  }
 ],
 "metadata": {
  "kernelspec": {
   "display_name": "Python 2",
   "language": "python",
   "name": "python2"
  },
  "language_info": {
   "codemirror_mode": {
    "name": "ipython",
    "version": 2
   },
   "file_extension": ".py",
   "mimetype": "text/x-python",
   "name": "python",
   "nbconvert_exporter": "python",
   "pygments_lexer": "ipython2",
   "version": "2.7.16"
  }
 },
 "nbformat": 4,
 "nbformat_minor": 2
}
