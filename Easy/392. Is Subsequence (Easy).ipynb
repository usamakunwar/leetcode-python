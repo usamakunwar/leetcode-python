{
 "cells": [
  {
   "cell_type": "markdown",
   "metadata": {},
   "source": [
    "# 235. Lowest Common Ancestor of a Binary Search Tree (Easy)\n",
    "\n"
   ]
  },
  {
   "cell_type": "markdown",
   "metadata": {},
   "source": [
    "<div><p>\n",
    "Given a string <b>s</b> and a string <b>t</b>, check if <b>s</b> is subsequence of <b>t</b>.\n",
    "</p>\n",
    "\n",
    "<p>\n",
    "You may assume that there is only lower case English letters in both <b>s</b> and <b>t</b>. <b>t</b> is potentially a very long (length ~= 500,000) string, and <b>s</b> is a short string (&lt;=100).\n",
    "</p>\n",
    "\n",
    "<p>\n",
    "A subsequence of a string is a new string which is formed from the original string by deleting some (can be none) of the characters without disturbing the relative positions of the remaining characters. (ie, <code>\"ace\"</code> is a subsequence of <code>\"abcde\"</code> while <code>\"aec\"</code> is not).\n",
    "</p>\n",
    "\n",
    "<p><b>Example 1:</b><br>\n",
    "<b>s</b> = <code>\"abc\"</code>, <b>t</b> = <code>\"ahbgdc\"</code>\n",
    "</p>\n",
    "<p>\n",
    "Return <code>true</code>.\n",
    "</p>\n",
    "\n",
    "<p><b>Example 2:</b><br>\n",
    "<b>s</b> = <code>\"axc\"</code>, <b>t</b> = <code>\"ahbgdc\"</code>\n",
    "</p>\n",
    "<p>\n",
    "Return <code>false</code>.\n",
    "</p>\n",
    "\n",
    "<p><b>Follow up:</b><br>\n",
    "If there are lots of incoming S, say S1, S2, ... , Sk where k &gt;= 1B, and you want to check one by one to see if T has its subsequence. In this scenario, how would you change your code?</p>\n",
    "\n",
    "<p><b>Credits:</b><br>Special thanks to <a href=\"https://leetcode.com/pbrother/\">@pbrother</a> for adding this problem and creating all test cases.</p></div>"
   ]
  },
  {
   "cell_type": "markdown",
   "metadata": {},
   "source": [
    "## Option 1\n",
    "<p>\n",
    "    <p>\n",
    "Time complexity: O(n)\n",
    "<br>\n",
    "Space complexity: O(1)"
   ]
  },
  {
   "cell_type": "code",
   "execution_count": null,
   "metadata": {},
   "outputs": [],
   "source": [
    "class Solution(object):\n",
    "    def isSubsequence(self, s, t):\n",
    "        if not s or (not s and not t): return True        \n",
    "        i, ln = 0, len(s)\n",
    "        for ch in t:\n",
    "            if ch == s[i]: i += 1\n",
    "            if i > ln-1: return True\n",
    "        return False    "
   ]
  },
  {
   "cell_type": "markdown",
   "metadata": {},
   "source": [
    "#### Result: 212ms 34.27%)\n"
   ]
  },
  {
   "cell_type": "markdown",
   "metadata": {},
   "source": [
    "## Option 2\n",
    "<p>\n",
    "Time complexity: O(n)\n",
    "<br>\n",
    "Space complexity: O(1)"
   ]
  },
  {
   "cell_type": "code",
   "execution_count": null,
   "metadata": {},
   "outputs": [],
   "source": [
    "class Solution(object):\n",
    "    def isSubsequence(self, s, t):\n",
    "        if not s or (not s and not t): return True        \n",
    "        for i in range(len(t)-1,-1,-1):\n",
    "            if t[i] == s[-1]: s = s[:-1]\n",
    "            if not s: return True\n",
    "        return False    \n",
    "    \n",
    "Solution().isSubsequence('abc', 'ahbgdc')"
   ]
  },
  {
   "cell_type": "markdown",
   "metadata": {},
   "source": [
    "#### Result: 264ms (9.37%)\n"
   ]
  },
  {
   "cell_type": "markdown",
   "metadata": {},
   "source": [
    "## Option 3\n",
    "<p>Two pointers\n",
    "<p>\n",
    "Time complexity: O(n)\n",
    "<br>\n",
    "Space complexity: O(1)"
   ]
  },
  {
   "cell_type": "code",
   "execution_count": null,
   "metadata": {},
   "outputs": [],
   "source": [
    "class Solution(object):\n",
    "    def isSubsequence(self, s, t):\n",
    "        if not s or (not s and not t): return True        \n",
    "        \n",
    "        l,r = 0,len(t)-1\n",
    "        \n",
    "        while l < r:\n",
    "            if t[l] == s[0]:\n",
    "                s = s[1:]\n",
    "            if s and t[r] == s[-1]:\n",
    "                s = s[:-1]\n",
    "            if not s: return True\n",
    "            l += 1\n",
    "            r -= 1\n",
    "        return False\n",
    "    \n",
    "Solution().isSubsequence('abc', 'ahbgdc')"
   ]
  },
  {
   "cell_type": "markdown",
   "metadata": {},
   "source": [
    "#### Result: 244ms (11.56%)\n"
   ]
  }
 ],
 "metadata": {
  "kernelspec": {
   "display_name": "Python 2",
   "language": "python",
   "name": "python2"
  },
  "language_info": {
   "codemirror_mode": {
    "name": "ipython",
    "version": 2
   },
   "file_extension": ".py",
   "mimetype": "text/x-python",
   "name": "python",
   "nbconvert_exporter": "python",
   "pygments_lexer": "ipython2",
   "version": "2.7.16"
  }
 },
 "nbformat": 4,
 "nbformat_minor": 2
}
