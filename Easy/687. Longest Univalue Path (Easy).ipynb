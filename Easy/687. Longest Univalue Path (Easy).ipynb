{
 "cells": [
  {
   "cell_type": "markdown",
   "metadata": {},
   "source": [
    "# 687. Longest Univalue Path (Easy)"
   ]
  },
  {
   "cell_type": "markdown",
   "metadata": {},
   "source": [
    "<div><p>Given a binary tree, find the length of the longest path where each node in the path has the same value. This path may or may not pass through the root.</p>\n",
    "\n",
    "<p>The length of path between two nodes is represented by the number of edges between them.</p>\n",
    "\n",
    "<p>&nbsp;</p>\n",
    "\n",
    "<p><b>Example 1:</b></p>\n",
    "\n",
    "<p><strong>Input:</strong></p>\n",
    "\n",
    "<pre>              5\n",
    "             / \\\n",
    "            4   5\n",
    "           / \\   \\\n",
    "          1   1   5\n",
    "</pre>\n",
    "\n",
    "<p><strong>Output:</strong>&nbsp;2</p>\n",
    "\n",
    "<p>&nbsp;</p>\n",
    "\n",
    "<p><b>Example 2:</b></p>\n",
    "\n",
    "<p><strong>Input:</strong></p>\n",
    "\n",
    "<pre>              1\n",
    "             / \\\n",
    "            4   5\n",
    "           / \\   \\\n",
    "          4   4   5\n",
    "</pre>\n",
    "\n",
    "<p><strong>Output:</strong>&nbsp;2</p>\n",
    "\n",
    "<p>&nbsp;</p>\n",
    "\n",
    "<p><b>Note:</b> The given binary tree has not more than 10000 nodes. The height of the tree is not more than 1000.</p>\n",
    "</div>"
   ]
  },
  {
   "cell_type": "markdown",
   "metadata": {},
   "source": [
    "## Option 1\n",
    "\n",
    "  <p>\n",
    "Time complexity: O(n)\n",
    "<br>\n",
    "Space complexity: O(h) tree height"
   ]
  },
  {
   "cell_type": "code",
   "execution_count": null,
   "metadata": {
    "scrolled": false
   },
   "outputs": [],
   "source": [
    "# Definition for a binary tree node.\n",
    "# class TreeNode(object):\n",
    "#     def __init__(self, x):\n",
    "#         self.val = x\n",
    "#         self.left = None\n",
    "#         self.right = None\n",
    "\n",
    "class Solution(object):\n",
    "    def longestUnivaluePath(self, root):\n",
    "        if not root: return 0\n",
    "        self.res = 0\n",
    "        \n",
    "        def search(node):\n",
    "            left = search(node.left) if node.left else 0    \n",
    "            right = search(node.right) if node.right else 0\n",
    "            l = left+1 if node.left and node.val == node.left.val else 0\n",
    "            r = right+1 if node.right and node.val == node.right.val else 0\n",
    "            \n",
    "            self.res = max(self.res,l+r)\n",
    "            return max(l,r)\n",
    "            \n",
    "        search(root)\n",
    "        \n",
    "        return self.res"
   ]
  },
  {
   "cell_type": "markdown",
   "metadata": {},
   "source": [
    "#### Result: 400ms (92.31%)"
   ]
  }
 ],
 "metadata": {
  "kernelspec": {
   "display_name": "Python 2",
   "language": "python",
   "name": "python2"
  },
  "language_info": {
   "codemirror_mode": {
    "name": "ipython",
    "version": 2
   },
   "file_extension": ".py",
   "mimetype": "text/x-python",
   "name": "python",
   "nbconvert_exporter": "python",
   "pygments_lexer": "ipython2",
   "version": "2.7.16"
  }
 },
 "nbformat": 4,
 "nbformat_minor": 2
}
