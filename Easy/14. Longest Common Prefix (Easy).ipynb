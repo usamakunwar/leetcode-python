{
 "cells": [
  {
   "cell_type": "markdown",
   "metadata": {},
   "source": [
    "# 14. Longest Common Prefix\n",
    "\n",
    "Write a function to find the longest common prefix string amongst an array of strings.\n",
    "\n",
    "If there is no common prefix, return an empty string \"\"."
   ]
  },
  {
   "cell_type": "markdown",
   "metadata": {},
   "source": [
    "## Option 1\n",
    "<p>    <p> \n",
    "<p>\n",
    "    <p>\n",
    "Time complexity: O(n) total number of characyers\n",
    "    <br>\n",
    "Space complexity: O(1)"
   ]
  },
  {
   "cell_type": "code",
   "execution_count": null,
   "metadata": {},
   "outputs": [],
   "source": [
    "def longestPrefix(strs):\n",
    "    if len(strs) == 0:\n",
    "        return \"\"\n",
    "    curr = min(strs, key=len)\n",
    "    for word in strs:\n",
    "        if word.startswith(smallest):\n",
    "            continue\n",
    "        for i in range(small_len):\n",
    "            smallest = smallest[:-1]\n",
    "            if smallest == '':\n",
    "                return smallest\n",
    "            elif word.startswith(smallest):\n",
    "                break\n",
    "            continue\n",
    "    return smallest\n",
    "    \n",
    "\n",
    "longestPrefix([\"abcfd\",\"abc\",\"abc\"])"
   ]
  },
  {
   "cell_type": "markdown",
   "metadata": {},
   "source": [
    "#### Runtime: 16ms (91.81%)"
   ]
  }
 ],
 "metadata": {
  "kernelspec": {
   "display_name": "Python 2",
   "language": "python",
   "name": "python2"
  },
  "language_info": {
   "codemirror_mode": {
    "name": "ipython",
    "version": 2
   },
   "file_extension": ".py",
   "mimetype": "text/x-python",
   "name": "python",
   "nbconvert_exporter": "python",
   "pygments_lexer": "ipython2",
   "version": "2.7.16"
  }
 },
 "nbformat": 4,
 "nbformat_minor": 2
}
