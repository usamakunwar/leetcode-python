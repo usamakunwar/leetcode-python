{
 "cells": [
  {
   "cell_type": "markdown",
   "metadata": {},
   "source": [
    "# 14. Longest Common Prefix\n",
    "\n",
    "Write a function to find the longest common prefix string amongst an array of strings.\n",
    "\n",
    "If there is no common prefix, return an empty string \"\"."
   ]
  },
  {
   "cell_type": "code",
   "execution_count": 3,
   "metadata": {},
   "outputs": [
    {
     "data": {
      "text/plain": [
       "1994"
      ]
     },
     "execution_count": 3,
     "metadata": {},
     "output_type": "execute_result"
    }
   ],
   "source": [
    "def longestPrefix(strs):\n",
    "    if len(strs) == 0:\n",
    "        return \"\"\n",
    "    smallest = min(strs, key=len)\n",
    "    small_len = len(smallest)\n",
    "    for word in strs:\n",
    "        if word.startswith(smallest):\n",
    "            continue\n",
    "        for i in range(0,small_len):\n",
    "            smallest = smallest[:-1]\n",
    "            if smallest == '':\n",
    "                return smallest\n",
    "            elif word.startswith(smallest):\n",
    "                break\n",
    "            continue\n",
    "    return smallest\n",
    "    \n",
    "\n",
    "longestPrefix([\"abcfd\",\"abc\",\"abc\"])"
   ]
  },
  {
   "cell_type": "markdown",
   "metadata": {},
   "source": [
    "#### Result: Accepted\n",
    "#### Runtime: 16ms (91.81%)\n",
    "#### Memory: 11.8 mb"
   ]
  }
 ],
 "metadata": {
  "kernelspec": {
   "display_name": "Python 3",
   "language": "python",
   "name": "python3"
  },
  "language_info": {
   "codemirror_mode": {
    "name": "ipython",
    "version": 3
   },
   "file_extension": ".py",
   "mimetype": "text/x-python",
   "name": "python",
   "nbconvert_exporter": "python",
   "pygments_lexer": "ipython3",
   "version": "3.7.4"
  }
 },
 "nbformat": 4,
 "nbformat_minor": 2
}
