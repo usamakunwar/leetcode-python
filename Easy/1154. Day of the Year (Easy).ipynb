{
 "cells": [
  {
   "cell_type": "markdown",
   "metadata": {},
   "source": [
    "# 1154. Day of the Year (Easy)\n",
    "\n"
   ]
  },
  {
   "cell_type": "markdown",
   "metadata": {},
   "source": [
    "<div><p>Given a string <code>date</code> representing a <a href=\"https://en.wikipedia.org/wiki/Gregorian_calendar\" target=\"_blank\">Gregorian&nbsp;calendar</a> date formatted as <code>YYYY-MM-DD</code>, return the day number of the year.</p>\n",
    "\n",
    "<p>&nbsp;</p>\n",
    "<p><strong>Example 1:</strong></p>\n",
    "\n",
    "<pre><strong>Input:</strong> date = \"2019-01-09\"\n",
    "<strong>Output:</strong> 9\n",
    "<strong>Explanation:</strong> Given date is the 9th day of the year in 2019.\n",
    "</pre>\n",
    "\n",
    "<p><strong>Example 2:</strong></p>\n",
    "\n",
    "<pre><strong>Input:</strong> date = \"2019-02-10\"\n",
    "<strong>Output:</strong> 41\n",
    "</pre>\n",
    "\n",
    "<p><strong>Example 3:</strong></p>\n",
    "\n",
    "<pre><strong>Input:</strong> date = \"2003-03-01\"\n",
    "<strong>Output:</strong> 60\n",
    "</pre>\n",
    "\n",
    "<p><strong>Example 4:</strong></p>\n",
    "\n",
    "<pre><strong>Input:</strong> date = \"2004-03-01\"\n",
    "<strong>Output:</strong> 61\n",
    "</pre>\n",
    "\n",
    "<p>&nbsp;</p>\n",
    "<p><strong>Constraints:</strong></p>\n",
    "\n",
    "<ul>\n",
    "\t<li><code>date.length == 10</code></li>\n",
    "\t<li><code>date[4] == date[7] == '-'</code>, and all other <code>date[i]</code>'s are digits</li>\n",
    "\t<li><code>date</code> represents a calendar date between Jan 1st, 1900 and Dec 31, 2019.</li>\n",
    "</ul></div>"
   ]
  },
  {
   "cell_type": "markdown",
   "metadata": {},
   "source": [
    "## Option 1\n",
    " <p> \n",
    "<p>\n",
    "    <p>\n",
    "Time complexity: O(n)  \n",
    "    <br>\n",
    "Space complexity: O(1)\n"
   ]
  },
  {
   "cell_type": "code",
   "execution_count": null,
   "metadata": {
    "scrolled": false
   },
   "outputs": [],
   "source": [
    "class Solution(object):\n",
    "    def dayOfYear(self, date):\n",
    "        d = date.split('-')\n",
    "        year,month,day = int(d[0]), int(d[1]), int(d[2])\n",
    "        \n",
    "        res = day\n",
    "        for i in range(month-1):  \n",
    "            if i < 7:\n",
    "                res += 30 if i%2 else 31\n",
    "            else:\n",
    "                res += 31 if i%2 else 30\n",
    "        \n",
    "        #Adjust feb (and leap year)\n",
    "        if month > 2:\n",
    "            if year%4: res += -2\n",
    "            elif year%100: res += -1\n",
    "            elif year%400: res += -2\n",
    "            else: res += -1\n",
    "        \n",
    "        return res \n",
    "        \n",
    "\n",
    "Solution().dayOfYear(\"2000-03-29\")   \n",
    "        "
   ]
  },
  {
   "cell_type": "markdown",
   "metadata": {},
   "source": [
    "#### Result: 16ms (89.00%)"
   ]
  }
 ],
 "metadata": {
  "kernelspec": {
   "display_name": "Python 2",
   "language": "python",
   "name": "python2"
  },
  "language_info": {
   "codemirror_mode": {
    "name": "ipython",
    "version": 2
   },
   "file_extension": ".py",
   "mimetype": "text/x-python",
   "name": "python",
   "nbconvert_exporter": "python",
   "pygments_lexer": "ipython2",
   "version": "2.7.16"
  }
 },
 "nbformat": 4,
 "nbformat_minor": 2
}
