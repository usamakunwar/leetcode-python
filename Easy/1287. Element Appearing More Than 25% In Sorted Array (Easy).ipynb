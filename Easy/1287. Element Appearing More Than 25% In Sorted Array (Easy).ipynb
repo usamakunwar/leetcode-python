{
 "cells": [
  {
   "cell_type": "markdown",
   "metadata": {},
   "source": [
    "# 1287. Element Appearing More Than 25% In Sorted Array (Easy)"
   ]
  },
  {
   "cell_type": "markdown",
   "metadata": {},
   "source": [
    "<div><p>Given an&nbsp;integer array&nbsp;<strong>sorted</strong> in non-decreasing order, there is exactly one integer in the array that occurs more than 25% of the time.</p>\n",
    "\n",
    "<p>Return that integer.</p>\n",
    "\n",
    "<p>&nbsp;</p>\n",
    "<p><strong>Example 1:</strong></p>\n",
    "<pre><strong>Input:</strong> arr = [1,2,2,6,6,6,6,7,10]\n",
    "<strong>Output:</strong> 6\n",
    "</pre>\n",
    "<p>&nbsp;</p>\n",
    "<p><strong>Constraints:</strong></p>\n",
    "\n",
    "<ul>\n",
    "\t<li><code>1 &lt;= arr.length &lt;= 10^4</code></li>\n",
    "\t<li><code>0 &lt;= arr[i] &lt;= 10^5</code></li>\n",
    "</ul></div>"
   ]
  },
  {
   "cell_type": "markdown",
   "metadata": {},
   "source": [
    "## Option 1\n",
    "<p>\n",
    "Binary search\n",
    "<p>\n",
    "Time complexity = O(logn)\n",
    "<br>\n",
    "Space complexity = O(1)"
   ]
  },
  {
   "cell_type": "code",
   "execution_count": 40,
   "metadata": {},
   "outputs": [
    {
     "data": {
      "text/plain": [
       "2"
      ]
     },
     "execution_count": 40,
     "metadata": {},
     "output_type": "execute_result"
    }
   ],
   "source": [
    "class Solution:\n",
    "    def findSpecialInteger(self, arr: [int]) -> int:\n",
    "        ln = len(arr)\n",
    "        def check(l,r,target):\n",
    "            while l < r:\n",
    "                m = (l+r)//2\n",
    "                if arr[m] < target:\n",
    "                    l = m + 1\n",
    "                else:\n",
    "                    r = m\n",
    "            return l\n",
    "        \n",
    "        qtr = (ln//4)\n",
    "        n = qtr\n",
    "        while n < ln:\n",
    "            low,high = check(0,ln,arr[n]), check(0,ln,arr[n]+1)\n",
    "            if high - low > qtr: return arr[n]\n",
    "            n += qtr\n",
    "\n",
    "Solution().findSpecialInteger([1,2,2,6,6,7,10])"
   ]
  },
  {
   "cell_type": "markdown",
   "metadata": {},
   "source": [
    "#### Result:  92ms (79.36%)"
   ]
  }
 ],
 "metadata": {
  "kernelspec": {
   "display_name": "Python 3",
   "language": "python",
   "name": "python3"
  },
  "language_info": {
   "codemirror_mode": {
    "name": "ipython",
    "version": 3
   },
   "file_extension": ".py",
   "mimetype": "text/x-python",
   "name": "python",
   "nbconvert_exporter": "python",
   "pygments_lexer": "ipython3",
   "version": "3.7.4"
  }
 },
 "nbformat": 4,
 "nbformat_minor": 2
}
