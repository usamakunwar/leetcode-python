{
 "cells": [
  {
   "cell_type": "markdown",
   "metadata": {},
   "source": [
    "# 1518. Water Bottles (Easy)"
   ]
  },
  {
   "cell_type": "markdown",
   "metadata": {},
   "source": [
    "<div><p>Given <code>numBottles</code>&nbsp;full water bottles, you can exchange <code>numExchange</code> empty water bottles for one full water bottle.</p>\n",
    "\n",
    "<p>The operation of drinking a full water bottle turns it into an empty bottle.</p>\n",
    "\n",
    "<p>Return the <strong>maximum</strong> number of water bottles you can&nbsp;drink.</p>\n",
    "\n",
    "<p>&nbsp;</p>\n",
    "<p><strong>Example 1:</strong></p>\n",
    "\n",
    "<p><strong><img alt=\"\" src=\"https://assets.leetcode.com/uploads/2020/07/01/sample_1_1875.png\" style=\"width: 480px; height: 240px;\"></strong></p>\n",
    "\n",
    "<pre><strong>Input:</strong> numBottles = 9, numExchange = 3\n",
    "<strong>Output:</strong> 13\n",
    "<strong>Explanation:</strong> You can exchange 3 empty bottles to get 1 full water bottle.\n",
    "Number of water bottles you can&nbsp;drink: 9 + 3 + 1 = 13.\n",
    "</pre>\n",
    "\n",
    "<p><strong>Example 2:</strong></p>\n",
    "\n",
    "<p><img alt=\"\" src=\"https://assets.leetcode.com/uploads/2020/07/01/sample_2_1875.png\" style=\"width: 790px; height: 290px;\"></p>\n",
    "\n",
    "<pre><strong>Input:</strong> numBottles = 15, numExchange = 4\n",
    "<strong>Output:</strong> 19\n",
    "<strong>Explanation:</strong> You can exchange 4 empty bottles to get 1 full water bottle. \n",
    "Number of water bottles you can&nbsp;drink: 15 + 3 + 1 = 19.\n",
    "</pre>\n",
    "\n",
    "<p><strong>Example 3:</strong></p>\n",
    "\n",
    "<pre><strong>Input:</strong> numBottles = 5, numExchange = 5\n",
    "<strong>Output:</strong> 6\n",
    "</pre>\n",
    "\n",
    "<p><strong>Example 4:</strong></p>\n",
    "\n",
    "<pre><strong>Input:</strong> numBottles = 2, numExchange = 3\n",
    "<strong>Output:</strong> 2\n",
    "</pre>\n",
    "\n",
    "<p>&nbsp;</p>\n",
    "<p><strong>Constraints:</strong></p>\n",
    "\n",
    "<ul>\n",
    "\t<li><code>1 &lt;=&nbsp;numBottles &lt;= 100</code></li>\n",
    "\t<li><code>2 &lt;=&nbsp;numExchange &lt;= 100</code></li>\n",
    "</ul></div>"
   ]
  },
  {
   "cell_type": "markdown",
   "metadata": {},
   "source": [
    "## Option 1\n",
    " \n",
    " <p>\n",
    "\n",
    "<p>\n",
    "Time complexity: O(logn) base2\n",
    "<br>\n",
    "Space complexity: O(1) "
   ]
  },
  {
   "cell_type": "code",
   "execution_count": null,
   "metadata": {
    "scrolled": true
   },
   "outputs": [],
   "source": [
    "class Solution(object):\n",
    "    def numWaterBottles(self, numBottles, numExchange):\n",
    "        res = empty = 0\n",
    "        while numBottles:\n",
    "            res += numBottles\n",
    "            empty += numBottles\n",
    "            numBottles = empty/numExchange\n",
    "            empty -= numExchange*numBottles\n",
    "        \n",
    "        return res\n",
    "        \n",
    "Solution().numWaterBottles(9,3)\n",
    "  "
   ]
  },
  {
   "cell_type": "markdown",
   "metadata": {},
   "source": [
    "#### Result: 40ms (5.27%)\n"
   ]
  }
 ],
 "metadata": {
  "kernelspec": {
   "display_name": "Python 2",
   "language": "python",
   "name": "python2"
  },
  "language_info": {
   "codemirror_mode": {
    "name": "ipython",
    "version": 2
   },
   "file_extension": ".py",
   "mimetype": "text/x-python",
   "name": "python",
   "nbconvert_exporter": "python",
   "pygments_lexer": "ipython2",
   "version": "2.7.16"
  }
 },
 "nbformat": 4,
 "nbformat_minor": 2
}
