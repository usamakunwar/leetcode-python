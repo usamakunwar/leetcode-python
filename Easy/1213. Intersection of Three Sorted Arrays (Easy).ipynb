{
 "cells": [
  {
   "cell_type": "markdown",
   "metadata": {},
   "source": [
    "# 1213. Intersection of Three Sorted Arrays (Easy)"
   ]
  },
  {
   "cell_type": "markdown",
   "metadata": {},
   "source": [
    "<div><p>Given three integer arrays <code>arr1</code>, <code>arr2</code> and <code>arr3</code>&nbsp;<strong>sorted</strong> in <strong>strictly increasing</strong> order, return a sorted array of <strong>only</strong>&nbsp;the&nbsp;integers that appeared in <strong>all</strong> three arrays.</p>\n",
    "\n",
    "<p>&nbsp;</p>\n",
    "<p><strong>Example 1:</strong></p>\n",
    "\n",
    "<pre><strong>Input:</strong> arr1 = [1,2,3,4,5], arr2 = [1,2,5,7,9], arr3 = [1,3,4,5,8]\n",
    "<strong>Output:</strong> [1,5]\n",
    "<strong>Explanation: </strong>Only 1 and 5 appeared in the three arrays.\n",
    "</pre>\n",
    "\n",
    "<p>&nbsp;</p>\n",
    "<p><strong>Constraints:</strong></p>\n",
    "\n",
    "<ul>\n",
    "\t<li><code>1 &lt;= arr1.length, arr2.length, arr3.length &lt;= 1000</code></li>\n",
    "\t<li><code>1 &lt;= arr1[i], arr2[i], arr3[i] &lt;= 2000</code></li>\n",
    "</ul>\n",
    "</div>"
   ]
  },
  {
   "cell_type": "markdown",
   "metadata": {},
   "source": [
    "## Option 1\n",
    "\n",
    "Time complexity = O(max(arr1,arr2,arr3))\n",
    "<br>\n",
    "Space complexity = O(max(arr1,arr2,arr3))"
   ]
  },
  {
   "cell_type": "code",
   "execution_count": null,
   "metadata": {},
   "outputs": [],
   "source": [
    "import collections\n",
    "class Solution(object):\n",
    "    def arraysIntersection(self, arr1, arr2, arr3):\n",
    "        counter, res = collections.Counter(), []\n",
    "        for i in arr1: \n",
    "            if counter[i] == 0: counter[i] += 1\n",
    "        for i in arr2:\n",
    "            if counter[i] == 1: counter[i] += 1\n",
    "        for i in arr3:\n",
    "            if counter[i] == 2: \n",
    "                counter[i] += 1\n",
    "                res.append(i)\n",
    "        return res\n",
    "\n",
    "Solution().arraysIntersection([1,2,3,4,5], [1,2,5,7,9], [1,3,4,5,8])"
   ]
  },
  {
   "cell_type": "markdown",
   "metadata": {},
   "source": [
    "#### Result: 76ms (36.95%)"
   ]
  },
  {
   "cell_type": "markdown",
   "metadata": {},
   "source": [
    "## Option 2\n",
    "<p>\n",
    "Maybe a better way is to use 3 pointers\n",
    "\n",
    "Time complexity = O(max(arr1,arr2,arr3))\n",
    "<br>\n",
    "Space complexity = O(1)"
   ]
  },
  {
   "cell_type": "code",
   "execution_count": null,
   "metadata": {},
   "outputs": [],
   "source": [
    "class Solution(object):\n",
    "    def arraysIntersection(self, arr1, arr2, arr3):\n",
    "        a=b=c = 0\n",
    "        res = []\n",
    "        while a < len(arr1) and b < len(arr2) and c < len(arr3):\n",
    "            if arr1[a] == arr2[b] == arr3[c]:\n",
    "                res.append(arr1[a])\n",
    "                a += 1\n",
    "                b += 1\n",
    "                c += 1\n",
    "            elif arr1[a] < arr2[b]:\n",
    "                a += 1\n",
    "            elif arr2[b] < arr3[c]:\n",
    "                b += 1\n",
    "            else:\n",
    "                c += 1\n",
    "        return res\n",
    "Solution().arraysIntersection([1,2,3,4,5], [1,2,5,7,9], [1,3,4,5,8])"
   ]
  },
  {
   "cell_type": "markdown",
   "metadata": {},
   "source": [
    "#### Result: 68ms (77.13%)"
   ]
  }
 ],
 "metadata": {
  "kernelspec": {
   "display_name": "Python 2",
   "language": "python",
   "name": "python2"
  },
  "language_info": {
   "codemirror_mode": {
    "name": "ipython",
    "version": 2
   },
   "file_extension": ".py",
   "mimetype": "text/x-python",
   "name": "python",
   "nbconvert_exporter": "python",
   "pygments_lexer": "ipython2",
   "version": "2.7.16"
  }
 },
 "nbformat": 4,
 "nbformat_minor": 2
}
