{
 "cells": [
  {
   "cell_type": "markdown",
   "metadata": {},
   "source": [
    "# 1417. Reformat The String (Easy)\n"
   ]
  },
  {
   "cell_type": "markdown",
   "metadata": {},
   "source": [
    "<div><p>Given alphanumeric string <code>s</code>. (<strong>Alphanumeric string</strong> is a string consisting of lowercase English letters and digits).</p>\n",
    "\n",
    "<p>You have to find a permutation of&nbsp;the string where no letter is followed by another letter and no digit is followed by another digit. That is, no two adjacent characters have the same type.</p>\n",
    "\n",
    "<p>Return <em>the reformatted string</em> or return <strong>an empty string</strong> if it is impossible to reformat the string.</p>\n",
    "\n",
    "<p>&nbsp;</p>\n",
    "<p><strong>Example 1:</strong></p>\n",
    "\n",
    "<pre><strong>Input:</strong> s = \"a0b1c2\"\n",
    "<strong>Output:</strong> \"0a1b2c\"\n",
    "<strong>Explanation:</strong> No two adjacent characters have the same type in \"0a1b2c\". \"a0b1c2\", \"0a1b2c\", \"0c2a1b\" are also valid permutations.\n",
    "</pre>\n",
    "\n",
    "<p><strong>Example 2:</strong></p>\n",
    "\n",
    "<pre><strong>Input:</strong> s = \"leetcode\"\n",
    "<strong>Output:</strong> \"\"\n",
    "<strong>Explanation:</strong> \"leetcode\" has only characters so we cannot separate them by digits.\n",
    "</pre>\n",
    "\n",
    "<p><strong>Example 3:</strong></p>\n",
    "\n",
    "<pre><strong>Input:</strong> s = \"1229857369\"\n",
    "<strong>Output:</strong> \"\"\n",
    "<strong>Explanation:</strong> \"1229857369\" has only digits so we cannot separate them by characters.\n",
    "</pre>\n",
    "\n",
    "<p><strong>Example 4:</strong></p>\n",
    "\n",
    "<pre><strong>Input:</strong> s = \"covid2019\"\n",
    "<strong>Output:</strong> \"c2o0v1i9d\"\n",
    "</pre>\n",
    "\n",
    "<p><strong>Example 5:</strong></p>\n",
    "\n",
    "<pre><strong>Input:</strong> s = \"ab123\"\n",
    "<strong>Output:</strong> \"1a2b3\"\n",
    "</pre>\n",
    "\n",
    "<p>&nbsp;</p>\n",
    "<p><strong>Constraints:</strong></p>\n",
    "\n",
    "<ul>\n",
    "\t<li><code>1 &lt;= s.length &lt;= 500</code></li>\n",
    "\t<li><code>s</code> consists of only lowercase English letters and/or digits.</li>\n",
    "</ul>\n",
    "</div>"
   ]
  },
  {
   "cell_type": "markdown",
   "metadata": {},
   "source": [
    "## Option 1\n",
    "<p>\n",
    "         <p>\n",
    "Time complexity: O(n)\n",
    "    <br>\n",
    "Space complexity: O(n)\n"
   ]
  },
  {
   "cell_type": "code",
   "execution_count": null,
   "metadata": {},
   "outputs": [],
   "source": [
    "class Solution(object):\n",
    "    def reformat(self, S):\n",
    "        a, b = [], []\n",
    "        for s in S:\n",
    "            if s.isdigit():\n",
    "                b.append(s)\n",
    "            else:\n",
    "                a.append(s)\n",
    "        \n",
    "        if abs(len(a)-len(b)) > 1: return ''\n",
    "        \n",
    "        low, high = (b,a) if len(a) > len(b) else (a,b)\n",
    "        res = ''\n",
    "        for i in range(len(high)):\n",
    "            res += high[i] + (low[i] if i < len(low) else '')\n",
    "        return res\n",
    "        \n",
    "Solution().reformat(\"ab\")\n",
    "    "
   ]
  },
  {
   "cell_type": "markdown",
   "metadata": {},
   "source": [
    "#### Result: 36ms (91.04%)"
   ]
  }
 ],
 "metadata": {
  "kernelspec": {
   "display_name": "Python 2",
   "language": "python",
   "name": "python2"
  },
  "language_info": {
   "codemirror_mode": {
    "name": "ipython",
    "version": 2
   },
   "file_extension": ".py",
   "mimetype": "text/x-python",
   "name": "python",
   "nbconvert_exporter": "python",
   "pygments_lexer": "ipython2",
   "version": "2.7.16"
  }
 },
 "nbformat": 4,
 "nbformat_minor": 2
}
