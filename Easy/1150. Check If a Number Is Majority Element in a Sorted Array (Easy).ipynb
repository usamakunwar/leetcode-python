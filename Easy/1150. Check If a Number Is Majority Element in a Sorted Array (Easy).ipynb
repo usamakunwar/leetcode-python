{
 "cells": [
  {
   "cell_type": "markdown",
   "metadata": {},
   "source": [
    "# 1150. Check If a Number Is Majority Element in a Sorted Array (Easy)"
   ]
  },
  {
   "cell_type": "markdown",
   "metadata": {},
   "source": [
    "<div><p>A matrix is <em>Toeplitz</em> if every diagonal from top-left to bottom-right has the same element.</p>\n",
    "\n",
    "<p>Now given an <code>M x N</code> matrix, return&nbsp;<code>True</code>&nbsp;if and only if the matrix is <em>Toeplitz</em>.<br>\n",
    "&nbsp;</p>\n",
    "\n",
    "<p><strong>Example 1:</strong></p>\n",
    "\n",
    "<pre><strong>Input:\n",
    "</strong>matrix = [\n",
    "&nbsp; [1,2,3,4],\n",
    "&nbsp; [5,1,2,3],\n",
    "&nbsp; [9,5,1,2]\n",
    "]\n",
    "<strong>Output:</strong> True\n",
    "<strong>Explanation:</strong>\n",
    "In the above grid, the&nbsp;diagonals are:\n",
    "\"[9]\", \"[5, 5]\", \"[1, 1, 1]\", \"[2, 2, 2]\", \"[3, 3]\", \"[4]\".\n",
    "In each diagonal all elements are the same, so the answer is True.\n",
    "</pre>\n",
    "\n",
    "<p><strong>Example 2:</strong></p>\n",
    "\n",
    "<pre><strong>Input:\n",
    "</strong>matrix = [\n",
    "&nbsp; [1,2],\n",
    "&nbsp; [2,2]\n",
    "]\n",
    "<strong>Output:</strong> False\n",
    "<strong>Explanation:</strong>\n",
    "The diagonal \"[1, 2]\" has different elements.\n",
    "</pre>\n",
    "\n",
    "<p><br>\n",
    "<strong>Note:</strong></p>\n",
    "\n",
    "<ol>\n",
    "\t<li><code>matrix</code> will be a 2D array of integers.</li>\n",
    "\t<li><code>matrix</code> will have a number of rows and columns in range <code>[1, 20]</code>.</li>\n",
    "\t<li><code>matrix[i][j]</code> will be integers in range <code>[0, 99]</code>.</li>\n",
    "</ol>\n",
    "\n",
    "<p><br>\n",
    "<strong>Follow up:</strong></p>\n",
    "\n",
    "<ol>\n",
    "\t<li>What if the matrix is stored on disk, and the memory is limited such that you can only load at most one row of the matrix into the memory at once?</li>\n",
    "\t<li>What if the matrix is so large that you can only load up a partial row into the memory at once?</li>\n",
    "</ol>\n",
    "</div>"
   ]
  },
  {
   "cell_type": "markdown",
   "metadata": {},
   "source": [
    "## Option 1\n",
    "<p>\n",
    "Binary search\n",
    "<p>\n",
    "Time complexity = O(logn)\n",
    "<br>\n",
    "Space complexity = O(1)"
   ]
  },
  {
   "cell_type": "code",
   "execution_count": 37,
   "metadata": {},
   "outputs": [
    {
     "data": {
      "text/plain": [
       "True"
      ]
     },
     "execution_count": 37,
     "metadata": {},
     "output_type": "execute_result"
    }
   ],
   "source": [
    "class Solution:\n",
    "    def isMajorityElement(self, nums: [int], target: int) -> bool:        \n",
    "        ln = len(nums)\n",
    "        def check(l,r, target):\n",
    "            while l < r:\n",
    "                mid = (l+r)//2\n",
    "                if nums[mid] < target:\n",
    "                    l = mid+1\n",
    "                else:\n",
    "                    r = mid\n",
    "            return l\n",
    "            \n",
    "        mid = ln//2    \n",
    "        if nums[mid] != target: return False\n",
    "        \n",
    "        l = check(0,ln,target)\n",
    "        r = check(0,ln,target+1)\n",
    "        return r-l > ln//2\n",
    "            \n",
    "\n",
    "Solution().isMajorityElement([10,101,101,101], 101)"
   ]
  },
  {
   "cell_type": "markdown",
   "metadata": {},
   "source": [
    "#### Result:  36ms (58.12%)"
   ]
  }
 ],
 "metadata": {
  "kernelspec": {
   "display_name": "Python 3",
   "language": "python",
   "name": "python3"
  },
  "language_info": {
   "codemirror_mode": {
    "name": "ipython",
    "version": 3
   },
   "file_extension": ".py",
   "mimetype": "text/x-python",
   "name": "python",
   "nbconvert_exporter": "python",
   "pygments_lexer": "ipython3",
   "version": "3.7.4"
  }
 },
 "nbformat": 4,
 "nbformat_minor": 2
}
