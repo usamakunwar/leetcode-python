{
 "cells": [
  {
   "cell_type": "markdown",
   "metadata": {},
   "source": [
    "# 676. Implement Magic Dictionary (Easy)"
   ]
  },
  {
   "cell_type": "markdown",
   "metadata": {},
   "source": [
    "<div><p>\n",
    "Implement a magic directory with <code>buildDict</code>, and <code>search</code> methods.\n",
    "</p>\n",
    "\n",
    "<p>\n",
    "For the method <code>buildDict</code>, you'll be given a list of non-repetitive words to build a dictionary.\n",
    "</p>\n",
    "\n",
    "<p>\n",
    "For the method <code>search</code>, you'll be given a word, and judge whether if you modify <b>exactly</b> one character into <b>another</b> character in this word, the modified word is in the dictionary you just built.\n",
    "</p>\n",
    "\n",
    "<p><b>Example 1:</b><br>\n",
    "</p><pre>Input: buildDict([\"hello\", \"leetcode\"]), Output: Null\n",
    "Input: search(\"hello\"), Output: False\n",
    "Input: search(\"hhllo\"), Output: True\n",
    "Input: search(\"hell\"), Output: False\n",
    "Input: search(\"leetcoded\"), Output: False\n",
    "</pre>\n",
    "<p></p>\n",
    "\n",
    "<p><b>Note:</b><br>\n",
    "</p><ol>\n",
    "<li>You may assume that all the inputs are consist of lowercase letters <code>a-z</code>.</li>\n",
    "<li>For contest purpose, the test data is rather small by now. You could think about highly efficient algorithm after the contest.</li>\n",
    "<li>Please remember to <b>RESET</b> your class variables declared in class MagicDictionary, as static/class variables are <b>persisted across multiple test cases</b>. Please see <a href=\"https://leetcode.com/faq/#different-output\">here</a> for more details.</li>\n",
    "</ol>\n",
    "<p></p></div>"
   ]
  },
  {
   "cell_type": "markdown",
   "metadata": {},
   "source": [
    "## Option 1\n",
    " <p>\n",
    "    <p>\n",
    "        <p>\n",
    "Time complexity: O(n) length of word\n",
    "    <br>\n",
    "Space complexity: O(m) number of words\n"
   ]
  },
  {
   "cell_type": "code",
   "execution_count": null,
   "metadata": {},
   "outputs": [],
   "source": [
    "class MagicDictionary(object):\n",
    "\n",
    "    def __init__(self):\n",
    "        self.m = None\n",
    "\n",
    "    def buildDict(self, dict):\n",
    "        self.m = set(dict)\n",
    "\n",
    "    def search(self, word):\n",
    "        for i in range(len(word)):\n",
    "            for j in range(26):\n",
    "                if chr(j+ord('a')) == word[i]: continue\n",
    "                if word[:i] + chr(j+ord('a')) + word[i+1:] in self.m: return True\n",
    "        \n",
    "        return False                \n",
    "\n",
    "\n",
    "# Your MagicDictionary object will be instantiated and called as such:\n",
    "# obj = MagicDictionary()\n",
    "# obj.buildDict(dict)\n",
    "# param_2 = obj.search(word)"
   ]
  },
  {
   "cell_type": "markdown",
   "metadata": {},
   "source": [
    "\n",
    "#### Result: 32ms (18.06%)"
   ]
  }
 ],
 "metadata": {
  "kernelspec": {
   "display_name": "Python 2",
   "language": "python",
   "name": "python2"
  },
  "language_info": {
   "codemirror_mode": {
    "name": "ipython",
    "version": 2
   },
   "file_extension": ".py",
   "mimetype": "text/x-python",
   "name": "python",
   "nbconvert_exporter": "python",
   "pygments_lexer": "ipython2",
   "version": "2.7.16"
  }
 },
 "nbformat": 4,
 "nbformat_minor": 2
}
