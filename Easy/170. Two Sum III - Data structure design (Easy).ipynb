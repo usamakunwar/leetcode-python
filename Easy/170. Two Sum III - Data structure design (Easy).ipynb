{
 "cells": [
  {
   "cell_type": "markdown",
   "metadata": {},
   "source": [
    "# 170. Two Sum III - Data structure design (Easy)"
   ]
  },
  {
   "cell_type": "markdown",
   "metadata": {},
   "source": [
    "<div><p>Design and implement a TwoSum class. It should support the following operations: <code>add</code> and <code>find</code>.</p>\n",
    "\n",
    "<p><code>add</code> - Add the number to an internal data structure.<br>\n",
    "<code>find</code> - Find if there exists any pair of numbers which sum is equal to the value.</p>\n",
    "\n",
    "<p><strong>Example 1:</strong></p>\n",
    "\n",
    "<pre>add(1); add(3); add(5);\n",
    "find(4) -&gt; true\n",
    "find(7) -&gt; false\n",
    "</pre>\n",
    "\n",
    "<p><strong>Example 2:</strong></p>\n",
    "\n",
    "<pre>add(3); add(1); add(2);\n",
    "find(3) -&gt; true\n",
    "find(6) -&gt; false</pre>\n",
    "</div>"
   ]
  },
  {
   "cell_type": "markdown",
   "metadata": {},
   "source": [
    "## Option 1\n",
    " <p>\n",
    "    <p>\n",
    "        <p>\n",
    "Time complexity: O(n^2)\n",
    "    <br>\n",
    "Space complexity: O(n) \n"
   ]
  },
  {
   "cell_type": "code",
   "execution_count": null,
   "metadata": {},
   "outputs": [],
   "source": [
    "class TwoSum(object):\n",
    "    def __init__(self):\n",
    "        self.counter = collections.Counter()\n",
    "\n",
    "    def add(self, number):\n",
    "        self.counter[number] += 1\n",
    "\n",
    "    def find(self, value):\n",
    "        for k in self.counter:\n",
    "            self.counter[k] -= 1\n",
    "            if self.counter[value-k] > 0: return True\n",
    "            self.counter[k] += 1\n",
    "        return False\n",
    "\n",
    "# Your TwoSum object will be instantiated and called as such:\n",
    "# obj = TwoSum()\n",
    "# obj.add(number)\n",
    "# param_2 = obj.find(value)"
   ]
  },
  {
   "cell_type": "markdown",
   "metadata": {},
   "source": [
    "\n",
    "#### Result: 2000ms (6.1%)"
   ]
  }
 ],
 "metadata": {
  "kernelspec": {
   "display_name": "Python 2",
   "language": "python",
   "name": "python2"
  },
  "language_info": {
   "codemirror_mode": {
    "name": "ipython",
    "version": 2
   },
   "file_extension": ".py",
   "mimetype": "text/x-python",
   "name": "python",
   "nbconvert_exporter": "python",
   "pygments_lexer": "ipython2",
   "version": "2.7.16"
  }
 },
 "nbformat": 4,
 "nbformat_minor": 2
}
