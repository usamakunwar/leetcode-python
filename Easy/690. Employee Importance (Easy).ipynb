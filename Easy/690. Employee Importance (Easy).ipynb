{
 "cells": [
  {
   "cell_type": "markdown",
   "metadata": {},
   "source": [
    "# 690. Employee Importance (Easy)"
   ]
  },
  {
   "cell_type": "markdown",
   "metadata": {},
   "source": [
    "<div><p>You are given a data structure of employee information, which includes the employee's <b>unique id</b>, their&nbsp;<b>importance value</b> and their&nbsp;<b>direct</b> subordinates' id.</p>\n",
    "\n",
    "<p>For example, employee 1 is the leader of employee 2, and employee 2 is the leader of employee 3. They have importance value 15, 10 and 5, respectively. Then employee 1 has a data structure like [1, 15, [2]], and employee 2 has [2, 10, [3]], and employee 3 has [3, 5, []]. Note that although employee 3 is also a subordinate of employee 1, the relationship is <b>not direct</b>.</p>\n",
    "\n",
    "<p>Now given the employee information of a company, and an employee id, you need to return the total importance value of this employee and all their&nbsp;subordinates.</p>\n",
    "\n",
    "<p><b>Example 1:</b></p>\n",
    "\n",
    "<pre><b>Input:</b> [[1, 5, [2, 3]], [2, 3, []], [3, 3, []]], 1\n",
    "<b>Output:</b> 11\n",
    "<b>Explanation:</b>\n",
    "Employee 1 has importance value 5, and he has two direct subordinates: employee 2 and employee 3. They both have importance value 3. So the total importance value of employee 1 is 5 + 3 + 3 = 11.\n",
    "</pre>\n",
    "\n",
    "<p>&nbsp;</p>\n",
    "\n",
    "<p><b>Note:</b></p>\n",
    "\n",
    "<ol>\n",
    "\t<li>One employee has at most one <b>direct</b> leader and may have several subordinates.</li>\n",
    "\t<li>The maximum number of employees won't exceed 2000.</li>\n",
    "</ol>\n",
    "</div>"
   ]
  },
  {
   "cell_type": "markdown",
   "metadata": {},
   "source": [
    "## Option 1\n",
    " <p>\n",
    "\n",
    "Time complexity: O(n)\n",
    "<br>\n",
    "Space complexity: O(n) "
   ]
  },
  {
   "cell_type": "code",
   "execution_count": null,
   "metadata": {
    "scrolled": false
   },
   "outputs": [],
   "source": [
    "\"\"\"\n",
    "# Employee info\n",
    "class Employee(object):\n",
    "    def __init__(self, id, importance, subordinates):\n",
    "    \t#################\n",
    "        :type id: int\n",
    "        :type importance: int\n",
    "        :type subordinates: List[int]\n",
    "        #################\n",
    "        # It's the unique id of each node.\n",
    "        # unique id of this employee\n",
    "        self.id = id\n",
    "        # the importance value of this employee\n",
    "        self.importance = importance\n",
    "        # the id of direct subordinates\n",
    "        self.subordinates = subordinates\n",
    "\"\"\"\n",
    "class Solution(object):\n",
    "    def getImportance(self, employees, id):\n",
    "        graph = {e.id:e  for e in employees}\n",
    "\n",
    "        def search(i):\n",
    "            res = graph[i].importance\n",
    "            for j in graph[i].subordinates:\n",
    "                res += search(j)\n",
    "            return res\n",
    "            \n",
    "        return search(id)"
   ]
  },
  {
   "cell_type": "markdown",
   "metadata": {},
   "source": [
    "#### Result: 152ms (95.99%)\n"
   ]
  }
 ],
 "metadata": {
  "kernelspec": {
   "display_name": "Python 2",
   "language": "python",
   "name": "python2"
  },
  "language_info": {
   "codemirror_mode": {
    "name": "ipython",
    "version": 2
   },
   "file_extension": ".py",
   "mimetype": "text/x-python",
   "name": "python",
   "nbconvert_exporter": "python",
   "pygments_lexer": "ipython2",
   "version": "2.7.16"
  }
 },
 "nbformat": 4,
 "nbformat_minor": 2
}
