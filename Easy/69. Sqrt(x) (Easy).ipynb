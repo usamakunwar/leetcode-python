{
 "cells": [
  {
   "cell_type": "markdown",
   "metadata": {},
   "source": [
    "# 69. Sqrt(x) (Easy)"
   ]
  },
  {
   "cell_type": "markdown",
   "metadata": {},
   "source": [
    "<div><p>Implement <code>int sqrt(int x)</code>.</p>\n",
    "\n",
    "<p>Compute and return the square root of <em>x</em>, where&nbsp;<em>x</em>&nbsp;is guaranteed to be a non-negative integer.</p>\n",
    "\n",
    "<p>Since the return type&nbsp;is an integer, the decimal digits are truncated and only the integer part of the result&nbsp;is returned.</p>\n",
    "\n",
    "<p><strong>Example 1:</strong></p>\n",
    "\n",
    "<pre><strong>Input:</strong> 4\n",
    "<strong>Output:</strong> 2\n",
    "</pre>\n",
    "\n",
    "<p><strong>Example 2:</strong></p>\n",
    "\n",
    "<pre><strong>Input:</strong> 8\n",
    "<strong>Output:</strong> 2\n",
    "<strong>Explanation:</strong> The square root of 8 is 2.82842..., and since \n",
    "&nbsp;            the decimal part is truncated, 2 is returned.\n",
    "</pre>\n",
    "</div>"
   ]
  },
  {
   "cell_type": "markdown",
   "metadata": {},
   "source": [
    "## Option 1\n",
    " <p>\n",
    "    Binary search\n",
    "<p>\n",
    "    <p>\n",
    "Time complexity: O(logn)\n",
    "    <br>\n",
    "Space complexity: O(1)\n"
   ]
  },
  {
   "cell_type": "code",
   "execution_count": null,
   "metadata": {
    "scrolled": false
   },
   "outputs": [],
   "source": [
    "import math\n",
    "class Solution(object):\n",
    "    def mySqrt(self, x):\n",
    "        l,r = 0,x\n",
    "        while l <= r:\n",
    "            mid = ((l+r)/2)\n",
    "            v = mid**2\n",
    "            if v < x:\n",
    "                l = mid + 1\n",
    "            elif v > x:\n",
    "                r = mid - 1\n",
    "            else:\n",
    "                return mid\n",
    "        return r\n",
    "        \n",
    "Solution().mySqrt(1)\n",
    "        "
   ]
  },
  {
   "cell_type": "markdown",
   "metadata": {},
   "source": [
    "#### Result: 20ms (83.23%)"
   ]
  },
  {
   "cell_type": "code",
   "execution_count": null,
   "metadata": {},
   "outputs": [],
   "source": []
  },
  {
   "cell_type": "code",
   "execution_count": null,
   "metadata": {},
   "outputs": [],
   "source": [
    "import math\n",
    "class Solution(object):\n",
    "    def mySqrt(self, x):\n",
    "        l,r = 0,x\n",
    "        while l <= r:\n",
    "            mid = ((l+r)/2)\n",
    "            v = mid**2\n",
    "            if v < x:\n",
    "                l = mid + 1\n",
    "            elif v > x:\n",
    "                r = mid - 1\n",
    "            else:\n",
    "                return mid\n",
    "        return r\n",
    "        \n",
    "Solution().mySqrt(1)\n",
    "        "
   ]
  }
 ],
 "metadata": {
  "kernelspec": {
   "display_name": "Python 2",
   "language": "python",
   "name": "python2"
  },
  "language_info": {
   "codemirror_mode": {
    "name": "ipython",
    "version": 2
   },
   "file_extension": ".py",
   "mimetype": "text/x-python",
   "name": "python",
   "nbconvert_exporter": "python",
   "pygments_lexer": "ipython2",
   "version": "2.7.16"
  }
 },
 "nbformat": 4,
 "nbformat_minor": 2
}
