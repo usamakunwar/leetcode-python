{
 "cells": [
  {
   "cell_type": "markdown",
   "metadata": {},
   "source": [
    "# 500. Keyboard Row (Easy)"
   ]
  },
  {
   "cell_type": "markdown",
   "metadata": {},
   "source": [
    "<div><p>Given a List of words, return the words that can be typed using letters of <b>alphabet</b> on only one row's of American keyboard like the image below.</p>\n",
    "\n",
    "<p>&nbsp;</p>\n",
    "\n",
    "<p><img alt=\"\" src=\"https://assets.leetcode.com/uploads/2018/10/12/keyboard.png\" style=\"width: 100%; max-width: 600px\"></p>\n",
    "&nbsp;\n",
    "\n",
    "<p><b>Example:</b></p>\n",
    "\n",
    "<pre><b>Input:</b> [\"Hello\", \"Alaska\", \"Dad\", \"Peace\"]\n",
    "<b>Output:</b> [\"Alaska\", \"Dad\"]\n",
    "</pre>\n",
    "\n",
    "<p>&nbsp;</p>\n",
    "\n",
    "<p><b>Note:</b></p>\n",
    "\n",
    "<ol>\n",
    "\t<li>You may use one character in the keyboard more than once.</li>\n",
    "\t<li>You may assume the input string will only contain letters of alphabet.</li>\n",
    "</ol>\n",
    "</div>"
   ]
  },
  {
   "cell_type": "markdown",
   "metadata": {},
   "source": [
    "## Option 1\n",
    "<p>\n",
    "    <p>\n",
    "Time complexity: O(n)\n",
    "<br>\n",
    "Space complexity: O(1) "
   ]
  },
  {
   "cell_type": "code",
   "execution_count": null,
   "metadata": {
    "scrolled": true
   },
   "outputs": [],
   "source": [
    "class Solution(object):\n",
    "    def findWords(self, words):\n",
    "        arr = [set('qwertyuiop'), set('asdfghjkl'), set('zxcvbnm')]\n",
    "        res = []\n",
    "        for w in words:\n",
    "            s = set(w.lower())\n",
    "            for a in arr:\n",
    "                if s&a == s: \n",
    "                    res.append(w)\n",
    "                    break\n",
    "        return res\n",
    "        \n",
    "                \n",
    "Solution().findWords([\"Hello\", \"Alaska\", \"Dad\", \"Peace\"])\n",
    "        "
   ]
  },
  {
   "cell_type": "markdown",
   "metadata": {},
   "source": [
    "#### Result: 16ms (86.08%)\n"
   ]
  }
 ],
 "metadata": {
  "kernelspec": {
   "display_name": "Python 2",
   "language": "python",
   "name": "python2"
  },
  "language_info": {
   "codemirror_mode": {
    "name": "ipython",
    "version": 2
   },
   "file_extension": ".py",
   "mimetype": "text/x-python",
   "name": "python",
   "nbconvert_exporter": "python",
   "pygments_lexer": "ipython2",
   "version": "2.7.16"
  }
 },
 "nbformat": 4,
 "nbformat_minor": 2
}
