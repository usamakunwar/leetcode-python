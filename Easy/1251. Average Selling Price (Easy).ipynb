{
 "cells": [
  {
   "cell_type": "markdown",
   "metadata": {},
   "source": [
    "# 1251. Average Selling Price (Easy)"
   ]
  },
  {
   "cell_type": "markdown",
   "metadata": {},
   "source": [
    "<div><p>Table: <code>Prices</code></p>\n",
    "\n",
    "<pre>+---------------+---------+\n",
    "| Column Name   | Type    |\n",
    "+---------------+---------+\n",
    "| product_id    | int     |\n",
    "| start_date    | date    |\n",
    "| end_date      | date    |\n",
    "| price         | int     |\n",
    "+---------------+---------+\n",
    "(product_id, start_date, end_date) is the primary key for this table.\n",
    "Each row of this table indicates the price of the product_id in the period from start_date to end_date.\n",
    "For each product_id there will be no two overlapping periods. That means there will be no two intersecting periods for the same product_id.\n",
    "</pre>\n",
    "\n",
    "<p>&nbsp;</p>\n",
    "\n",
    "<p>Table: <code>UnitsSold</code></p>\n",
    "\n",
    "<pre>+---------------+---------+\n",
    "| Column Name   | Type    |\n",
    "+---------------+---------+\n",
    "| product_id    | int     |\n",
    "| purchase_date | date    |\n",
    "| units         | int     |\n",
    "+---------------+---------+\n",
    "There is no primary key for this table, it may contain duplicates.\n",
    "Each row of this table indicates the date, units and product_id of each product sold. \n",
    "</pre>\n",
    "\n",
    "<p>&nbsp;</p>\n",
    "\n",
    "<p>Write an SQL query to find the average selling price for each product.</p>\n",
    "\n",
    "<p><code>average_price&nbsp;</code>should be&nbsp;<strong>rounded to 2 decimal places</strong>.</p>\n",
    "\n",
    "<p>The query result format is in the following example:</p>\n",
    "\n",
    "<pre>Prices table:\n",
    "+------------+------------+------------+--------+\n",
    "| product_id | start_date | end_date   | price  |\n",
    "+------------+------------+------------+--------+\n",
    "| 1          | 2019-02-17 | 2019-02-28 | 5      |\n",
    "| 1          | 2019-03-01 | 2019-03-22 | 20     |\n",
    "| 2          | 2019-02-01 | 2019-02-20 | 15     |\n",
    "| 2          | 2019-02-21 | 2019-03-31 | 30     |\n",
    "+------------+------------+------------+--------+\n",
    " \n",
    "UnitsSold table:\n",
    "+------------+---------------+-------+\n",
    "| product_id | purchase_date | units |\n",
    "+------------+---------------+-------+\n",
    "| 1          | 2019-02-25    | 100   |\n",
    "| 1          | 2019-03-01    | 15    |\n",
    "| 2          | 2019-02-10    | 200   |\n",
    "| 2          | 2019-03-22    | 30    |\n",
    "+------------+---------------+-------+\n",
    "\n",
    "Result table:\n",
    "+------------+---------------+\n",
    "| product_id | average_price |\n",
    "+------------+---------------+\n",
    "| 1          | 6.96          |\n",
    "| 2          | 16.96         |\n",
    "+------------+---------------+\n",
    "Average selling price = Total Price of Product / Number of products sold.\n",
    "Average selling price for product 1 = ((100 * 5) + (15 *&nbsp;20)) / 115 =&nbsp;6.96\n",
    "Average selling price for product 2 = ((200 * 15) + (30&nbsp;* 30)) / 230 =&nbsp;16.96\n",
    "</pre></div>"
   ]
  },
  {
   "cell_type": "markdown",
   "metadata": {},
   "source": [
    "## Option 1"
   ]
  },
  {
   "cell_type": "code",
   "execution_count": null,
   "metadata": {
    "scrolled": false
   },
   "outputs": [],
   "source": [
    "# Write your MySQL query statement below\n",
    "\n",
    "select unitssold.product_id, round(sum(units*price)/sum(units), 2) as average_price\n",
    "from unitssold\n",
    "join prices on \n",
    "prices.product_id = unitssold.product_id and \n",
    "unitssold.purchase_date >= prices.start_date and\n",
    "unitssold.purchase_date <= prices.end_date\n",
    "group by unitssold.product_id\n"
   ]
  },
  {
   "cell_type": "markdown",
   "metadata": {},
   "source": [
    "#### Result: 612ms (84.35%)\n"
   ]
  }
 ],
 "metadata": {
  "kernelspec": {
   "display_name": "Python 2",
   "language": "python",
   "name": "python2"
  },
  "language_info": {
   "codemirror_mode": {
    "name": "ipython",
    "version": 2
   },
   "file_extension": ".py",
   "mimetype": "text/x-python",
   "name": "python",
   "nbconvert_exporter": "python",
   "pygments_lexer": "ipython2",
   "version": "2.7.16"
  }
 },
 "nbformat": 4,
 "nbformat_minor": 2
}
