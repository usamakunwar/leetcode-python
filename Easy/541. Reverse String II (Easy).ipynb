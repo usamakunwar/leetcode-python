{
 "cells": [
  {
   "cell_type": "markdown",
   "metadata": {},
   "source": [
    "# 541. Reverse String II (Easy)"
   ]
  },
  {
   "cell_type": "markdown",
   "metadata": {},
   "source": [
    "<div><p></p>\n",
    "Given a string and an integer k, you need to reverse the first k characters for every 2k characters counting from the start of the string. If there are less than k characters left, reverse all of them. If there are less than 2k but greater than or equal to k characters, then reverse the first k characters and left the other as original.\n",
    "<p></p>\n",
    "\n",
    "<p><b>Example:</b><br>\n",
    "</p><pre><b>Input:</b> s = \"abcdefg\", k = 2\n",
    "<b>Output:</b> \"bacdfeg\"\n",
    "</pre>\n",
    "<p></p>\n",
    "\n",
    "<b>Restrictions:</b> \n",
    "<ol>\n",
    "<li> The string consists of lower English letters only.</li>\n",
    "<li> Length of the given string and k will in the range [1, 10000]</li>\n",
    "</ol></div>"
   ]
  },
  {
   "cell_type": "markdown",
   "metadata": {},
   "source": [
    "## Option 1\n",
    " \n",
    "<p>\n",
    "Time complexity: O(n)\n",
    "<br>\n",
    "Space complexity: O(n) "
   ]
  },
  {
   "cell_type": "code",
   "execution_count": null,
   "metadata": {
    "scrolled": false
   },
   "outputs": [],
   "source": [
    "class Solution(object):\n",
    "    def reverseStr(self, s, k):\n",
    "        s = list(s)\n",
    "        for i in range(0, len(s), 2*k):\n",
    "            s[i:i+k] = s[i:i+k][::-1]\n",
    "        return ''.join(s)\n",
    "        \n",
    "Solution().reverseStr('abcdefghi', 2)\n",
    "        "
   ]
  },
  {
   "cell_type": "markdown",
   "metadata": {},
   "source": [
    "#### Result: 24ms (62.03%)\n"
   ]
  }
 ],
 "metadata": {
  "kernelspec": {
   "display_name": "Python 2",
   "language": "python",
   "name": "python2"
  },
  "language_info": {
   "codemirror_mode": {
    "name": "ipython",
    "version": 2
   },
   "file_extension": ".py",
   "mimetype": "text/x-python",
   "name": "python",
   "nbconvert_exporter": "python",
   "pygments_lexer": "ipython2",
   "version": "2.7.16"
  }
 },
 "nbformat": 4,
 "nbformat_minor": 2
}
