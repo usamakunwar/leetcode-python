{
 "cells": [
  {
   "cell_type": "markdown",
   "metadata": {},
   "source": [
    "# 633. Sum of Square Numbers (Easy)"
   ]
  },
  {
   "cell_type": "markdown",
   "metadata": {},
   "source": [
    "<div><p>Given a non-negative integer <code>c</code>, your task is to decide whether there're two integers <code>a</code> and <code>b</code> such that a<sup>2</sup> + b<sup>2</sup> = c.</p>\n",
    "\n",
    "<p><b>Example 1:</b></p>\n",
    "\n",
    "<pre><b>Input:</b> 5\n",
    "<b>Output:</b> True\n",
    "<b>Explanation:</b> 1 * 1 + 2 * 2 = 5\n",
    "</pre>\n",
    "\n",
    "<p>&nbsp;</p>\n",
    "\n",
    "<p><b>Example 2:</b></p>\n",
    "\n",
    "<pre><b>Input:</b> 3\n",
    "<b>Output:</b> False\n",
    "</pre>\n",
    "\n",
    "<p>&nbsp;</p>\n",
    "</div>"
   ]
  },
  {
   "cell_type": "markdown",
   "metadata": {},
   "source": [
    "## Option 1\n",
    " <p>\n",
    "    Binary search\n",
    "<p>\n",
    "    <p>\n",
    "Time complexity: O(nlogn)\n",
    "    <br>\n",
    "Space complexity: O(1)\n"
   ]
  },
  {
   "cell_type": "code",
   "execution_count": null,
   "metadata": {
    "scrolled": false
   },
   "outputs": [],
   "source": [
    "import math\n",
    "class Solution(object):\n",
    "    def judgeSquareSum(self, c):\n",
    "        arr = range(int(math.sqrt(c))+1)         \n",
    "        def bs(l,t):\n",
    "            r = len(arr)-1\n",
    "            while l <= r:\n",
    "                mid = (l+r)/2\n",
    "                v = mid**2\n",
    "                if v < t:\n",
    "                    l = mid + 1\n",
    "                elif v > t:\n",
    "                    r = mid - 1\n",
    "                else: return True\n",
    "            return False\n",
    "            \n",
    "        \n",
    "        for i in range(len(arr)):\n",
    "            if bs(i, c-arr[i]**2): return True\n",
    "                \n",
    "        return False\n",
    "                \n",
    "Solution().judgeSquareSum(999999999)\n",
    "        "
   ]
  },
  {
   "cell_type": "markdown",
   "metadata": {},
   "source": [
    "#### Result: 1448ms (9.13%)"
   ]
  }
 ],
 "metadata": {
  "kernelspec": {
   "display_name": "Python 2",
   "language": "python",
   "name": "python2"
  },
  "language_info": {
   "codemirror_mode": {
    "name": "ipython",
    "version": 2
   },
   "file_extension": ".py",
   "mimetype": "text/x-python",
   "name": "python",
   "nbconvert_exporter": "python",
   "pygments_lexer": "ipython2",
   "version": "2.7.16"
  }
 },
 "nbformat": 4,
 "nbformat_minor": 2
}
