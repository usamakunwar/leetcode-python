{
 "cells": [
  {
   "cell_type": "markdown",
   "metadata": {},
   "source": [
    "# 682. Baseball Game (Easy)"
   ]
  },
  {
   "cell_type": "markdown",
   "metadata": {},
   "source": [
    "<div><p>\n",
    "You're now a baseball game point recorder.\n",
    "</p>\n",
    "\n",
    "<p>\n",
    "Given a list of strings, each string can be one of the 4 following types:\n",
    "</p><ol>\n",
    "<li><code>Integer</code> (one round's score): Directly represents the number of points you get in this round.</li>\n",
    "<li><code>\"+\"</code> (one round's score): Represents that the points you get in this round are the sum of the last two <code>valid</code> round's points.</li>\n",
    "<li><code>\"D\"</code> (one round's score): Represents that the points you get in this round are the doubled data of the last <code>valid</code> round's points.</li>\n",
    "<li><code>\"C\"</code> (an operation, which isn't a round's score): Represents the last <code>valid</code> round's points you get were invalid and should be removed.</li>\n",
    "</ol>\n",
    "<p></p>\n",
    "\n",
    "<p>\n",
    "Each round's operation is permanent and could have an impact on the round before and the round after.\n",
    "</p>\n",
    "\n",
    "<p>\n",
    "You need to return the sum of the points you could get in all the rounds.\n",
    "</p>\n",
    "\n",
    "<p><b>Example 1:</b><br>\n",
    "</p><pre><b>Input:</b> [\"5\",\"2\",\"C\",\"D\",\"+\"]\n",
    "<b>Output:</b> 30\n",
    "<b>Explanation:</b> \n",
    "Round 1: You could get 5 points. The sum is: 5.\n",
    "Round 2: You could get 2 points. The sum is: 7.\n",
    "Operation 1: The round 2's data was invalid. The sum is: 5.  \n",
    "Round 3: You could get 10 points (the round 2's data has been removed). The sum is: 15.\n",
    "Round 4: You could get 5 + 10 = 15 points. The sum is: 30.\n",
    "</pre>\n",
    "<p></p>\n",
    "\n",
    "<p><b>Example 2:</b><br>\n",
    "</p><pre><b>Input:</b> [\"5\",\"-2\",\"4\",\"C\",\"D\",\"9\",\"+\",\"+\"]\n",
    "<b>Output:</b> 27\n",
    "<b>Explanation:</b> \n",
    "Round 1: You could get 5 points. The sum is: 5.\n",
    "Round 2: You could get -2 points. The sum is: 3.\n",
    "Round 3: You could get 4 points. The sum is: 7.\n",
    "Operation 1: The round 3's data is invalid. The sum is: 3.  \n",
    "Round 4: You could get -4 points (the round 3's data has been removed). The sum is: -1.\n",
    "Round 5: You could get 9 points. The sum is: 8.\n",
    "Round 6: You could get -4 + 9 = 5 points. The sum is 13.\n",
    "Round 7: You could get 9 + 5 = 14 points. The sum is 27.\n",
    "</pre>\n",
    "<p></p>\n",
    "\n",
    "<p><b>Note:</b><br>\n",
    "</p><li>The size of the input list will be between 1 and 1000.</li>\n",
    "<li>Every integer represented in the list will be between -30000 and 30000.</li>\n",
    "<p></p></div>"
   ]
  },
  {
   "cell_type": "markdown",
   "metadata": {},
   "source": [
    "## Option 1\n",
    " \n",
    " <p>\n",
    "\n",
    "Time complexity: O(n)\n",
    "<br>\n",
    "Space complexity: O(n) "
   ]
  },
  {
   "cell_type": "code",
   "execution_count": null,
   "metadata": {
    "scrolled": true
   },
   "outputs": [],
   "source": [
    "class Solution(object):\n",
    "    def calPoints(self, ops):\n",
    "        stack = []\n",
    "        for o in ops:\n",
    "            if o == '+':\n",
    "                stack.append(stack[-1] + stack[-2])\n",
    "            elif o == 'D':\n",
    "                stack.append(2 * stack[-1])\n",
    "            elif o == 'C':\n",
    "                stack.pop()\n",
    "            else:\n",
    "                stack.append(int(o))\n",
    "\n",
    "        return sum(stack)\n",
    "        \n",
    "        \n",
    "Solution().calPoints([\"36\",\"28\",\"70\",\"65\",\"C\",\"+\",\"33\",\"-46\",\"84\",\"C\"])\n",
    "        "
   ]
  },
  {
   "cell_type": "markdown",
   "metadata": {},
   "source": [
    "#### Result: 64ms (44.33%)\n"
   ]
  }
 ],
 "metadata": {
  "kernelspec": {
   "display_name": "Python 2",
   "language": "python",
   "name": "python2"
  },
  "language_info": {
   "codemirror_mode": {
    "name": "ipython",
    "version": 2
   },
   "file_extension": ".py",
   "mimetype": "text/x-python",
   "name": "python",
   "nbconvert_exporter": "python",
   "pygments_lexer": "ipython2",
   "version": "2.7.16"
  }
 },
 "nbformat": 4,
 "nbformat_minor": 2
}
