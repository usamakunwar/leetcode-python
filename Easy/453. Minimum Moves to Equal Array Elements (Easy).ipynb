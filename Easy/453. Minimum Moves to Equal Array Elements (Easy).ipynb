{
 "cells": [
  {
   "cell_type": "markdown",
   "metadata": {},
   "source": [
    "# 453. Minimum Moves to Equal Array Elements (Easy)\n",
    "\n"
   ]
  },
  {
   "cell_type": "markdown",
   "metadata": {},
   "source": [
    "<div><p>Given a <b>non-empty</b> integer array of size <i>n</i>, find the minimum number of moves required to make all array elements equal, where a move is incrementing <i>n</i> - 1 elements by 1.</p>\n",
    "\n",
    "<p><b>Example:</b>\n",
    "</p><pre><b>Input:</b>\n",
    "[1,2,3]\n",
    "\n",
    "<b>Output:</b>\n",
    "3\n",
    "\n",
    "<b>Explanation:</b>\n",
    "Only three moves are needed (remember each move increments two elements):\n",
    "\n",
    "[1,2,3]  =&gt;  [2,3,3]  =&gt;  [3,4,3]  =&gt;  [4,4,4]\n",
    "</pre>\n",
    "<p></p></div>"
   ]
  },
  {
   "cell_type": "markdown",
   "metadata": {},
   "source": [
    "## Option 1\n",
    " <p> \n",
    "    <li>Turns out that the difference between every element and the minimum is the result\n",
    "    <li>Consider the table below, we sort the array then accumulate every item other then the max by the different between max and min. The minimum will always remains the same\n",
    "    <li>We don't actually have to do the sums, as the difference will be the only change\n",
    "        <p>\n",
    "            <p>\n",
    "            <p> \n",
    "                <img src=\"453.png\">\n",
    "<p>\n",
    "Time complexity: O(nlogn)  \n",
    "    <br>\n",
    "Space complexity: O(1)\n"
   ]
  },
  {
   "cell_type": "code",
   "execution_count": null,
   "metadata": {
    "scrolled": false
   },
   "outputs": [],
   "source": [
    "class Solution(object):\n",
    "    def minMoves(self, nums):\n",
    "        nums.sort(reverse=True)\n",
    "        return sum(nums[i]-nums[-1] for i in range(len(nums)-1))\n",
    "        \n",
    "Solution().minMoves([1,2,3,4,5,6])   \n",
    "        "
   ]
  },
  {
   "cell_type": "markdown",
   "metadata": {},
   "source": [
    "#### Result: 272ms (28.57%)"
   ]
  }
 ],
 "metadata": {
  "kernelspec": {
   "display_name": "Python 2",
   "language": "python",
   "name": "python2"
  },
  "language_info": {
   "codemirror_mode": {
    "name": "ipython",
    "version": 2
   },
   "file_extension": ".py",
   "mimetype": "text/x-python",
   "name": "python",
   "nbconvert_exporter": "python",
   "pygments_lexer": "ipython2",
   "version": "2.7.16"
  }
 },
 "nbformat": 4,
 "nbformat_minor": 2
}
