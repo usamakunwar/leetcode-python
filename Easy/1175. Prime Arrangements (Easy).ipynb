{
 "cells": [
  {
   "cell_type": "markdown",
   "metadata": {},
   "source": [
    "# 1175. Prime Arrangements (Easy)"
   ]
  },
  {
   "cell_type": "markdown",
   "metadata": {},
   "source": [
    "<div><p>Return the number of permutations of 1 to <code>n</code> so that prime numbers are at prime indices (1-indexed.)</p>\n",
    "\n",
    "<p><em>(Recall that an integer&nbsp;is prime if and only if it is greater than 1, and cannot be written as a product of two positive integers&nbsp;both smaller than it.)</em></p>\n",
    "\n",
    "<p>Since the answer may be large, return the answer <strong>modulo <code>10^9 + 7</code></strong>.</p>\n",
    "\n",
    "<p>&nbsp;</p>\n",
    "<p><strong>Example 1:</strong></p>\n",
    "\n",
    "<pre><strong>Input:</strong> n = 5\n",
    "<strong>Output:</strong> 12\n",
    "<strong>Explanation:</strong> For example [1,2,5,4,3] is a valid permutation, but [5,2,3,4,1] is not because the prime number 5 is at index 1.\n",
    "</pre>\n",
    "\n",
    "<p><strong>Example 2:</strong></p>\n",
    "\n",
    "<pre><strong>Input:</strong> n = 100\n",
    "<strong>Output:</strong> 682289015\n",
    "</pre>\n",
    "\n",
    "<p>&nbsp;</p>\n",
    "<p><strong>Constraints:</strong></p>\n",
    "\n",
    "<ul>\n",
    "\t<li><code>1 &lt;= n &lt;= 100</code></li>\n",
    "</ul>\n",
    "</div>"
   ]
  },
  {
   "cell_type": "markdown",
   "metadata": {},
   "source": [
    "## Option 1\n",
    "<p>\n",
    "    <li>Count primes (using a sieve)\n",
    "    <li>The number of permutations of a set of numbers length k is equal to k!\n",
    "    <li>So we need the number of permutations of (1) Number of primes * (2) Number of composites\n",
    " \n",
    " <p>\n",
    "\n",
    "Time complexity: O(nloglogn)\n",
    "<br>\n",
    "Space complexity: O(n) "
   ]
  },
  {
   "cell_type": "code",
   "execution_count": null,
   "metadata": {
    "scrolled": true
   },
   "outputs": [],
   "source": [
    "class Solution(object):\n",
    "    def numPrimeArrangements(self, n):\n",
    "        #Number of primes\n",
    "        arr = [True]*(n)\n",
    "        arr[0] = False\n",
    "        for i in range(2,int(n**0.5)+1):\n",
    "            for j in range(i+i,n+1,i):\n",
    "                arr[j-1] = False\n",
    "        primes = sum(arr)\n",
    "        \n",
    "        a = 1 #Permutations of primes (primes!)\n",
    "        for i in range(primes,0,-1): a*=i\n",
    "        b = 1 #Permutations of composites (composites!)\n",
    "        for i in range(n-primes,0,-1): b*=i\n",
    "        \n",
    "        return a*b\n",
    "        \n",
    "Solution().numPrimeArrangements(5)\n",
    "        "
   ]
  },
  {
   "cell_type": "markdown",
   "metadata": {},
   "source": [
    "#### Result: 56ms (73.49%)\n"
   ]
  }
 ],
 "metadata": {
  "kernelspec": {
   "display_name": "Python 2",
   "language": "python",
   "name": "python2"
  },
  "language_info": {
   "codemirror_mode": {
    "name": "ipython",
    "version": 2
   },
   "file_extension": ".py",
   "mimetype": "text/x-python",
   "name": "python",
   "nbconvert_exporter": "python",
   "pygments_lexer": "ipython2",
   "version": "2.7.16"
  }
 },
 "nbformat": 4,
 "nbformat_minor": 2
}
