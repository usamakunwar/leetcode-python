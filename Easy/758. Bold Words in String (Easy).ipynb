{
 "cells": [
  {
   "cell_type": "markdown",
   "metadata": {},
   "source": [
    "# 758. Bold Words in String (Easy)\n",
    "\n"
   ]
  },
  {
   "cell_type": "markdown",
   "metadata": {},
   "source": [
    "<div><p>\n",
    "Given a set of keywords <code>words</code> and a string <code>S</code>, make all appearances of all keywords in <code>S</code> bold.  Any letters between <code>&lt;b&gt;</code> and <code>&lt;/b&gt;</code> tags become bold.\n",
    "</p><p>\n",
    "The returned string should use the least number of tags possible, and of course the tags should form a valid combination.\n",
    "</p>\n",
    "<p>\n",
    "For example, given that <code>words = [\"ab\", \"bc\"]</code> and  <code>S = \"aabcd\"</code>, we should return <code>\"a&lt;b&gt;abc&lt;/b&gt;d\"</code>.  Note that returning <code>\"a&lt;b&gt;a&lt;b&gt;b&lt;/b&gt;c&lt;/b&gt;d\"</code> would use more tags, so it is incorrect.\n",
    "</p>\n",
    "\n",
    "<p><b>Note:</b></p><ol>\n",
    "<li><code>words</code> has length in range <code>[0, 50]</code>.</li>\n",
    "<li><code>words[i]</code> has length in range <code>[1, 10]</code>.</li>\n",
    "<li><code>S</code> has length in range <code>[0, 500]</code>.</li>\n",
    "<li>All characters in <code>words[i]</code> and <code>S</code> are lowercase letters.</li>\n",
    "</ol><p></p></div>"
   ]
  },
  {
   "cell_type": "markdown",
   "metadata": {},
   "source": [
    "## Option 1\n",
    "<p><p>"
   ]
  },
  {
   "cell_type": "code",
   "execution_count": null,
   "metadata": {},
   "outputs": [],
   "source": [
    "class Solution(object):\n",
    "    def boldWords(self, words, S):\n",
    "        s = [] #segments\n",
    "        for w in words:\n",
    "            for i in range(len(S)-len(w)+1):\n",
    "                if w == S[i:i+len(w)]: \n",
    "                    s.append([i,i+len(w)])\n",
    "        s.sort()\n",
    "        \n",
    "        merged = []\n",
    "        for i in range(len(s)):\n",
    "            if merged and s[i][0] <= merged[-1][1]:\n",
    "                merged[-1] = [merged[-1][0], max(merged[-1][1], s[i][1])]\n",
    "            else:\n",
    "                merged.append(s[i])\n",
    "        \n",
    "        S, shift = list(S), 0\n",
    "        for m in merged:\n",
    "            start = m[0] + shift\n",
    "            end = m[1] + shift\n",
    "            S = S[:start] + ['<b>'] + S[start:end] + ['</b>'] + S[end:]\n",
    "            shift += 2\n",
    "        \n",
    "        return ''.join(S)\n",
    "\n",
    "        \n",
    "        \n",
    "Solution().boldWords([\"jom\",\"a\",\"bsdfhk\"], '')\n",
    "        "
   ]
  },
  {
   "cell_type": "markdown",
   "metadata": {},
   "source": [
    "#### Result: 120ms (61.54%)\n"
   ]
  }
 ],
 "metadata": {
  "kernelspec": {
   "display_name": "Python 2",
   "language": "python",
   "name": "python2"
  },
  "language_info": {
   "codemirror_mode": {
    "name": "ipython",
    "version": 2
   },
   "file_extension": ".py",
   "mimetype": "text/x-python",
   "name": "python",
   "nbconvert_exporter": "python",
   "pygments_lexer": "ipython2",
   "version": "2.7.16"
  }
 },
 "nbformat": 4,
 "nbformat_minor": 2
}
