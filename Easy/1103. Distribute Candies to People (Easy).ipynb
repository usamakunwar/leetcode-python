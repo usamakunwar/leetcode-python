{
 "cells": [
  {
   "cell_type": "markdown",
   "metadata": {},
   "source": [
    "# 1103. Distribute Candies to People (Easy)\n",
    "\n"
   ]
  },
  {
   "cell_type": "markdown",
   "metadata": {},
   "source": [
    "<div><p>We distribute some&nbsp;number of <code>candies</code>, to a row of <strong><code>n =&nbsp;num_people</code></strong>&nbsp;people in the following way:</p>\n",
    "\n",
    "<p>We then give 1 candy to the first person, 2 candies to the second person, and so on until we give <code>n</code>&nbsp;candies to the last person.</p>\n",
    "\n",
    "<p>Then, we go back to the start of the row, giving <code>n&nbsp;+ 1</code> candies to the first person, <code>n&nbsp;+ 2</code> candies to the second person, and so on until we give <code>2 * n</code>&nbsp;candies to the last person.</p>\n",
    "\n",
    "<p>This process repeats (with us giving one more candy each time, and moving to the start of the row after we reach the end) until we run out of candies.&nbsp; The last person will receive all of our remaining candies (not necessarily one more than the previous gift).</p>\n",
    "\n",
    "<p>Return an array (of length <code>num_people</code>&nbsp;and sum <code>candies</code>) that represents the final distribution of candies.</p>\n",
    "\n",
    "<p>&nbsp;</p>\n",
    "<p><strong>Example 1:</strong></p>\n",
    "\n",
    "<pre><strong>Input:</strong> candies = 7, num_people = 4\n",
    "<strong>Output:</strong> [1,2,3,1]\n",
    "<strong>Explanation:</strong>\n",
    "On the first turn, ans[0] += 1, and the array is [1,0,0,0].\n",
    "On the second turn, ans[1] += 2, and the array is [1,2,0,0].\n",
    "On the third turn, ans[2] += 3, and the array is [1,2,3,0].\n",
    "On the fourth turn, ans[3] += 1 (because there is only one candy left), and the final array is [1,2,3,1].\n",
    "</pre>\n",
    "\n",
    "<p><strong>Example 2:</strong></p>\n",
    "\n",
    "<pre><strong>Input:</strong> candies = 10, num_people = 3\n",
    "<strong>Output:</strong> [5,2,3]\n",
    "<strong>Explanation: </strong>\n",
    "On the first turn, ans[0] += 1, and the array is [1,0,0].\n",
    "On the second turn, ans[1] += 2, and the array is [1,2,0].\n",
    "On the third turn, ans[2] += 3, and the array is [1,2,3].\n",
    "On the fourth turn, ans[0] += 4, and the final array is [5,2,3].\n",
    "</pre>\n",
    "\n",
    "<p>&nbsp;</p>\n",
    "<p><strong>Constraints:</strong></p>\n",
    "\n",
    "<ul>\n",
    "\t<li>1 &lt;= candies &lt;= 10^9</li>\n",
    "\t<li>1 &lt;= num_people &lt;= 1000</li>\n",
    "</ul>\n",
    "</div>"
   ]
  },
  {
   "cell_type": "markdown",
   "metadata": {},
   "source": [
    "## Option 1\n",
    " <p> \n",
    "        <p>\n",
    "            <p>\n",
    "Time complexity: O(sqrt(candies))  \n",
    "    <br>\n",
    "Space complexity: O(n)\n"
   ]
  },
  {
   "cell_type": "code",
   "execution_count": null,
   "metadata": {
    "scrolled": false
   },
   "outputs": [],
   "source": [
    "class Solution(object):\n",
    "    def distributeCandies(self, candies, num_people):\n",
    "        res = [0]*num_people\n",
    "        n = 0\n",
    "        while candies:\n",
    "            for i in range(num_people):\n",
    "                candy = min(candies, (i+1)+(num_people*n))\n",
    "                res[i] += candy\n",
    "                candies -= candy\n",
    "                if not candies: break\n",
    "            print(res)\n",
    "            n += 1      \n",
    "        return res\n",
    "        \n",
    "Solution().distributeCandies(100,4)   \n",
    "        "
   ]
  },
  {
   "cell_type": "markdown",
   "metadata": {},
   "source": [
    "#### Result: 32ms (30.46%)"
   ]
  },
  {
   "cell_type": "markdown",
   "metadata": {},
   "source": [
    "## Option 2\n",
    " <p> \n",
    "    <p>\n",
    "        Similar concept as above, can instead let the i keep going and use mod\n",
    "        <p>\n",
    "            <li>The total number of candies has to be within (n(n+1)/2) therefore the complexity is sqrt(candies)\n",
    "            <p>\n",
    "                <p>\n",
    "Time complexity: O(sqrt(candies)) \n",
    "    <br>\n",
    "Space complexity: O(n)\n"
   ]
  },
  {
   "cell_type": "code",
   "execution_count": null,
   "metadata": {},
   "outputs": [],
   "source": [
    "class Solution(object):\n",
    "    def distributeCandies(self, candies, num_people):\n",
    "        res = [0]*num_people\n",
    "        i = 0 \n",
    "        while candies > 0:\n",
    "            res[i%num_people] += min(candies, i+1)\n",
    "            candies -= i+1\n",
    "            i += 1\n",
    "        return res\n",
    "        \n",
    "Solution().distributeCandies(100,4)   \n",
    "        "
   ]
  },
  {
   "cell_type": "markdown",
   "metadata": {},
   "source": [
    "#### Result: 28ms (47.13%)"
   ]
  }
 ],
 "metadata": {
  "kernelspec": {
   "display_name": "Python 2",
   "language": "python",
   "name": "python2"
  },
  "language_info": {
   "codemirror_mode": {
    "name": "ipython",
    "version": 2
   },
   "file_extension": ".py",
   "mimetype": "text/x-python",
   "name": "python",
   "nbconvert_exporter": "python",
   "pygments_lexer": "ipython2",
   "version": "2.7.16"
  }
 },
 "nbformat": 4,
 "nbformat_minor": 2
}
