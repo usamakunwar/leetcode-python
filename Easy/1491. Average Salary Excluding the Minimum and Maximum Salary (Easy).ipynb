{
 "cells": [
  {
   "cell_type": "markdown",
   "metadata": {},
   "source": [
    "# 1491. Average Salary Excluding the Minimum and Maximum Salary (Easy)"
   ]
  },
  {
   "cell_type": "markdown",
   "metadata": {},
   "source": [
    "<div><p>Given an array of <strong>unique</strong> integers <code>salary</code>&nbsp;where <code>salary[i]</code> is the salary of the employee <code>i</code>.</p>\n",
    "\n",
    "<p>Return the average salary of employees excluding the minimum and maximum salary.</p>\n",
    "\n",
    "<p>&nbsp;</p>\n",
    "<p><strong>Example 1:</strong></p>\n",
    "\n",
    "<pre><strong>Input:</strong> salary = [4000,3000,1000,2000]\n",
    "<strong>Output:</strong> 2500.00000\n",
    "<strong>Explanation: </strong>Minimum salary and maximum salary are 1000 and 4000 respectively.\n",
    "Average salary excluding minimum and maximum salary is (2000+3000)/2= 2500\n",
    "</pre>\n",
    "\n",
    "<p><strong>Example 2:</strong></p>\n",
    "\n",
    "<pre><strong>Input:</strong> salary = [1000,2000,3000]\n",
    "<strong>Output:</strong> 2000.00000\n",
    "<strong>Explanation: </strong>Minimum salary and maximum salary are 1000 and 3000 respectively.\n",
    "Average salary excluding minimum and maximum salary is (2000)/1= 2000\n",
    "</pre>\n",
    "\n",
    "<p><strong>Example 3:</strong></p>\n",
    "\n",
    "<pre><strong>Input:</strong> salary = [6000,5000,4000,3000,2000,1000]\n",
    "<strong>Output:</strong> 3500.00000\n",
    "</pre>\n",
    "\n",
    "<p><strong>Example 4:</strong></p>\n",
    "\n",
    "<pre><strong>Input:</strong> salary = [8000,9000,2000,3000,6000,1000]\n",
    "<strong>Output:</strong> 4750.00000\n",
    "</pre>\n",
    "\n",
    "<p>&nbsp;</p>\n",
    "<p><strong>Constraints:</strong></p>\n",
    "\n",
    "<ul>\n",
    "\t<li><code>3 &lt;= salary.length &lt;= 100</code></li>\n",
    "\t<li><code>10^3&nbsp;&lt;= salary[i] &lt;= 10^6</code></li>\n",
    "\t<li><code>salary[i]</code> is unique.</li>\n",
    "\t<li>Answers within <code>10^-5</code> of the actual value will be accepted as correct.</li>\n",
    "</ul></div>"
   ]
  },
  {
   "cell_type": "markdown",
   "metadata": {},
   "source": [
    "## Option 1\n",
    " \n",
    " <p>\n",
    "\n",
    "<p>\n",
    "Time complexity: O(n)\n",
    "<br>\n",
    "Space complexity: O(1) "
   ]
  },
  {
   "cell_type": "code",
   "execution_count": null,
   "metadata": {
    "scrolled": true
   },
   "outputs": [],
   "source": [
    "class Solution(object):\n",
    "    def average(self, salary):\n",
    "        total = 0\n",
    "        min_ , max_ = float('inf'), float('-inf')\n",
    "        for s in salary:\n",
    "            total += s\n",
    "            min_ , max_ = min(min_, s), max(max_, s)\n",
    "        \n",
    "        return (total-min_-max_)/float(len(salary)-2)\n",
    "                    \n",
    "        \n",
    "Solution().average([4000,3000,1000,2000])\n",
    "        "
   ]
  },
  {
   "cell_type": "markdown",
   "metadata": {},
   "source": [
    "#### Result: 24ms (54.49%)\n"
   ]
  }
 ],
 "metadata": {
  "kernelspec": {
   "display_name": "Python 2",
   "language": "python",
   "name": "python2"
  },
  "language_info": {
   "codemirror_mode": {
    "name": "ipython",
    "version": 2
   },
   "file_extension": ".py",
   "mimetype": "text/x-python",
   "name": "python",
   "nbconvert_exporter": "python",
   "pygments_lexer": "ipython2",
   "version": "2.7.16"
  }
 },
 "nbformat": 4,
 "nbformat_minor": 2
}
