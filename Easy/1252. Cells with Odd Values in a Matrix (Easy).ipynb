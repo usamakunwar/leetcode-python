{
 "cells": [
  {
   "cell_type": "markdown",
   "metadata": {},
   "source": [
    "# 1252. Cells with Odd Values in a Matrix (Easy)"
   ]
  },
  {
   "cell_type": "markdown",
   "metadata": {},
   "source": [
    "<div><p>Given&nbsp;<code>n</code>&nbsp;and&nbsp;<code>m</code>&nbsp;which are the dimensions of a matrix initialized by zeros and given an array <code>indices</code>&nbsp;where <code>indices[i] = [ri, ci]</code>. For each pair of <code>[ri, ci]</code>&nbsp;you have to increment all cells in row <code>ri</code> and column <code>ci</code>&nbsp;by 1.</p>\n",
    "\n",
    "<p>Return <em>the number of cells with odd values</em> in the matrix after applying the increment to all <code>indices</code>.</p>\n",
    "\n",
    "<p>&nbsp;</p>\n",
    "<p><strong>Example 1:</strong></p>\n",
    "<img alt=\"\" src=\"https://assets.leetcode.com/uploads/2019/10/30/e1.png\" style=\"width: 600px; height: 118px;\">\n",
    "<pre><strong>Input:</strong> n = 2, m = 3, indices = [[0,1],[1,1]]\n",
    "<strong>Output:</strong> 6\n",
    "<strong>Explanation:</strong> Initial matrix = [[0,0,0],[0,0,0]].\n",
    "After applying first increment it becomes [[1,2,1],[0,1,0]].\n",
    "The final matrix will be [[1,3,1],[1,3,1]] which contains 6 odd numbers.\n",
    "</pre>\n",
    "\n",
    "<p><strong>Example 2:</strong></p>\n",
    "<img alt=\"\" src=\"https://assets.leetcode.com/uploads/2019/10/30/e2.png\" style=\"width: 600px; height: 150px;\">\n",
    "<pre><strong>Input:</strong> n = 2, m = 2, indices = [[1,1],[0,0]]\n",
    "<strong>Output:</strong> 0\n",
    "<strong>Explanation:</strong> Final matrix = [[2,2],[2,2]]. There is no odd number in the final matrix.\n",
    "</pre>\n",
    "\n",
    "<p>&nbsp;</p>\n",
    "<p><strong>Constraints:</strong></p>\n",
    "\n",
    "<ul>\n",
    "\t<li><code>1 &lt;= n &lt;= 50</code></li>\n",
    "\t<li><code>1 &lt;= m &lt;= 50</code></li>\n",
    "\t<li><code>1 &lt;= indices.length &lt;= 100</code></li>\n",
    "\t<li><code>0 &lt;= indices[i][0] &lt;&nbsp;n</code></li>\n",
    "\t<li><code>0 &lt;= indices[i][1] &lt;&nbsp;m</code></li>\n",
    "</ul>\n",
    "</div>"
   ]
  },
  {
   "cell_type": "markdown",
   "metadata": {},
   "source": [
    "## Option 1\n",
    "\n",
    "<p>\n",
    "   <p>\n",
    "Time complexity: O(n)\n",
    "    <br>\n",
    "Space complexity: O(n)\n"
   ]
  },
  {
   "cell_type": "code",
   "execution_count": null,
   "metadata": {},
   "outputs": [],
   "source": [
    "class Solution(object):\n",
    "    def oddCells(self, n, m, indices):\n",
    "        rows = [0]*n\n",
    "        cols = [0]*m\n",
    "        \n",
    "        for r,c in indices:\n",
    "            rows[r] += 1\n",
    "            cols[c] += 1\n",
    "            \n",
    "        return sum((r+c)%2 for r in rows for c in cols)        \n",
    "    \n",
    "Solution().oddCells(2,2, [[1,1],[0,0]])\n",
    "    "
   ]
  },
  {
   "cell_type": "markdown",
   "metadata": {},
   "source": [
    "#### Result: 20ms (99.50%)"
   ]
  }
 ],
 "metadata": {
  "kernelspec": {
   "display_name": "Python 2",
   "language": "python",
   "name": "python2"
  },
  "language_info": {
   "codemirror_mode": {
    "name": "ipython",
    "version": 2
   },
   "file_extension": ".py",
   "mimetype": "text/x-python",
   "name": "python",
   "nbconvert_exporter": "python",
   "pygments_lexer": "ipython2",
   "version": "2.7.16"
  }
 },
 "nbformat": 4,
 "nbformat_minor": 2
}
