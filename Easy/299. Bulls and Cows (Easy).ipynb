{
 "cells": [
  {
   "cell_type": "markdown",
   "metadata": {},
   "source": [
    "# 299. Bulls and Cows (Easy)"
   ]
  },
  {
   "cell_type": "markdown",
   "metadata": {},
   "source": [
    "<div><p>You are playing the following <a href=\"https://en.wikipedia.org/wiki/Bulls_and_Cows\" target=\"_blank\">Bulls and Cows</a> game with your friend: You write down a number and ask your friend to guess what the number is. Each time your friend makes a guess, you provide a hint that indicates how many digits in said guess match your secret number exactly in both digit and position (called \"bulls\") and how many digits match the secret number but locate in the wrong position (called \"cows\"). Your friend will use successive guesses and hints to eventually derive the secret number.</p>\n",
    "\n",
    "<p>Write a function to return a hint according to the secret number and friend's guess, use <code>A</code> to indicate the bulls and <code>B</code> to indicate the cows.&nbsp;</p>\n",
    "\n",
    "<p>Please note that both secret number and friend's guess may contain duplicate digits.</p>\n",
    "\n",
    "<p><strong>Example 1:</strong></p>\n",
    "\n",
    "<pre><strong>Input:</strong> secret = \"1807\", guess = \"7810\"\n",
    "\n",
    "<strong>Output:</strong> \"1A3B\"\n",
    "\n",
    "<strong>Explanation:</strong> <code>1</code><span style=\"font-family: sans-serif, Arial, Verdana, &quot;Trebuchet MS&quot;;\"> bull and </span><code>3</code><span style=\"font-family: sans-serif, Arial, Verdana, &quot;Trebuchet MS&quot;;\"> cows. The bull is </span><code>8</code><span style=\"font-family: sans-serif, Arial, Verdana, &quot;Trebuchet MS&quot;;\">, the cows are </span><code>0</code><span style=\"font-family: sans-serif, Arial, Verdana, &quot;Trebuchet MS&quot;;\">, </span><code>1</code><span style=\"font-family: sans-serif, Arial, Verdana, &quot;Trebuchet MS&quot;;\"> and </span><code>7<font face=\"sans-serif, Arial, Verdana, Trebuchet MS\">.</font></code></pre>\n",
    "\n",
    "<p><strong>Example 2:</strong></p>\n",
    "\n",
    "<pre><strong>Input:</strong> secret = \"1123\", guess = \"0111\"\n",
    "\n",
    "<strong>Output:</strong> \"1A1B\"\n",
    "\n",
    "<strong>Explanation: </strong>The 1st <code>1 </code><span style=\"font-family: sans-serif, Arial, Verdana, &quot;Trebuchet MS&quot;;\">in friend's guess is a bull, the 2nd or 3rd </span><code>1</code><span style=\"font-family: sans-serif, Arial, Verdana, &quot;Trebuchet MS&quot;;\"> is a cow</span><span style=\"font-family: sans-serif, Arial, Verdana, &quot;Trebuchet MS&quot;;\">.</span></pre>\n",
    "\n",
    "<p><strong>Note: </strong>You may assume that the secret number and your friend's guess only contain digits, and their lengths are always equal.</p></div>"
   ]
  },
  {
   "cell_type": "markdown",
   "metadata": {},
   "source": [
    "## Option 1\n",
    " \n",
    "<p>\n",
    "Time complexity: O(n)\n",
    "<br>\n",
    "Space complexity: O(n) "
   ]
  },
  {
   "cell_type": "code",
   "execution_count": null,
   "metadata": {
    "scrolled": false
   },
   "outputs": [],
   "source": [
    "import collections\n",
    "class Solution(object):\n",
    "    def getHint(self, secret, guess):\n",
    "        c = collections.Counter(secret)\n",
    "        bulls = cows = 0\n",
    "        for i in range(len(guess)):\n",
    "            if guess[i] == secret[i]:\n",
    "                bulls += 1\n",
    "                #If we have previously assigned a count to a cow, but its a bull, we replace it\n",
    "                if c[guess[i]] == 0:\n",
    "                    cows -= 1\n",
    "                else:\n",
    "                    c[guess[i]] -= 1\n",
    "            elif c[guess[i]] > 0:\n",
    "                cows += 1\n",
    "                c[guess[i]] -= 1\n",
    "                \n",
    "        return str(bulls)+'A'+str(cows)+'B'\n",
    "        \n",
    "        \n",
    "Solution().getHint(\"452345\",\"345345\")\n",
    "        "
   ]
  },
  {
   "cell_type": "markdown",
   "metadata": {},
   "source": [
    "#### Result: 76ms (9.64%)\n"
   ]
  }
 ],
 "metadata": {
  "kernelspec": {
   "display_name": "Python 2",
   "language": "python",
   "name": "python2"
  },
  "language_info": {
   "codemirror_mode": {
    "name": "ipython",
    "version": 2
   },
   "file_extension": ".py",
   "mimetype": "text/x-python",
   "name": "python",
   "nbconvert_exporter": "python",
   "pygments_lexer": "ipython2",
   "version": "2.7.16"
  }
 },
 "nbformat": 4,
 "nbformat_minor": 2
}
