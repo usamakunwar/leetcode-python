{
 "cells": [
  {
   "cell_type": "markdown",
   "metadata": {},
   "source": [
    "# 1426. Counting Elements (Easy)"
   ]
  },
  {
   "cell_type": "markdown",
   "metadata": {},
   "source": [
    "<div><p>Given an integer array <code>arr</code>, count how many elements&nbsp;<code>x</code>&nbsp;there are, such that <code>x + 1</code> is also in <code>arr</code>.</p>\n",
    "\n",
    "<p>If there're duplicates in&nbsp;<code>arr</code>, count them seperately.</p>\n",
    "\n",
    "<p>&nbsp;</p>\n",
    "<p><strong>Example 1:</strong></p>\n",
    "\n",
    "<pre><strong>Input:</strong> arr = [1,2,3]\n",
    "<strong>Output:</strong> 2\n",
    "<strong>Explanation:</strong>&nbsp;1 and 2 are counted cause 2 and 3 are in arr.</pre>\n",
    "\n",
    "<p><strong>Example 2:</strong></p>\n",
    "\n",
    "<pre><strong>Input:</strong> arr = [1,1,3,3,5,5,7,7]\n",
    "<strong>Output:</strong> 0\n",
    "<strong>Explanation:</strong>&nbsp;No numbers are counted, cause there's no 2, 4, 6, or 8 in arr.\n",
    "</pre>\n",
    "\n",
    "<p><strong>Example 3:</strong></p>\n",
    "\n",
    "<pre><strong>Input:</strong> arr = [1,3,2,3,5,0]\n",
    "<strong>Output:</strong> 3\n",
    "<strong>Explanation:</strong>&nbsp;0, 1 and 2 are counted cause 1, 2 and 3 are in arr.\n",
    "</pre>\n",
    "\n",
    "<p><strong>Example 4:</strong></p>\n",
    "\n",
    "<pre><strong>Input:</strong> arr = [1,1,2,2]\n",
    "<strong>Output:</strong> 2\n",
    "<strong>Explanation:</strong>&nbsp;Two 1s are counted cause 2 is in arr.\n",
    "</pre>\n",
    "\n",
    "<p><strong>Example 5:</strong></p>\n",
    "\n",
    "<pre><strong>Input:</strong> arr = [1,1,2]\n",
    "<strong>Output:</strong> 2\n",
    "<strong>Explanation:</strong>&nbsp;Both 1s are counted because 2 is in the array.\n",
    "</pre>\n",
    "\n",
    "<p>&nbsp;</p>\n",
    "<p><strong>Constraints:</strong></p>\n",
    "\n",
    "<ul>\n",
    "\t<li><code>1 &lt;= arr.length &lt;= 1000</code></li>\n",
    "\t<li><code>0 &lt;= arr[i] &lt;= 1000</code></li>\n",
    "</ul></div>"
   ]
  },
  {
   "cell_type": "markdown",
   "metadata": {},
   "source": [
    "## Option 1\n",
    "<p>\n",
    "         <p>\n",
    "Time complexity: O(n)\n",
    "    <br>\n",
    "Space complexity: O(n)\n"
   ]
  },
  {
   "cell_type": "code",
   "execution_count": null,
   "metadata": {},
   "outputs": [],
   "source": [
    "class Solution(object):\n",
    "    def countElements(self, arr):\n",
    "        \"\"\"\n",
    "        :type arr: List[int]\n",
    "        :rtype: int\n",
    "        \"\"\"\n",
    "        m = set(arr)\n",
    "        return sum( a+1 in m for a in arr)"
   ]
  },
  {
   "cell_type": "markdown",
   "metadata": {},
   "source": [
    "#### Result: 24ms (66.88%)"
   ]
  }
 ],
 "metadata": {
  "kernelspec": {
   "display_name": "Python 2",
   "language": "python",
   "name": "python2"
  },
  "language_info": {
   "codemirror_mode": {
    "name": "ipython",
    "version": 2
   },
   "file_extension": ".py",
   "mimetype": "text/x-python",
   "name": "python",
   "nbconvert_exporter": "python",
   "pygments_lexer": "ipython2",
   "version": "2.7.16"
  }
 },
 "nbformat": 4,
 "nbformat_minor": 2
}
