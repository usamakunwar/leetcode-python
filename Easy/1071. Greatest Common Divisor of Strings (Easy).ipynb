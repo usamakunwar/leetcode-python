{
 "cells": [
  {
   "cell_type": "markdown",
   "metadata": {},
   "source": [
    "# 1071. Greatest Common Divisor of Strings (Easy)\n"
   ]
  },
  {
   "cell_type": "markdown",
   "metadata": {},
   "source": [
    "<div><p>For strings <code>S</code> and <code>T</code>, we say \"<code>T</code> divides <code>S</code>\" if and only if <code>S = T + ... + T</code>&nbsp; (<code>T</code> concatenated with itself 1 or more times)</p>\n",
    "\n",
    "<p>Return the largest string <code>X</code> such that <code>X</code> divides <font face=\"monospace\">str1</font>&nbsp;and <code>X</code> divides <font face=\"monospace\">str2</font>.</p>\n",
    "\n",
    "<p>&nbsp;</p>\n",
    "\n",
    "<p><strong>Example 1:</strong></p>\n",
    "\n",
    "<pre><strong>Input: </strong>str1 = <span id=\"example-input-1-1\">\"ABCABC\"</span>, str2 = <span id=\"example-input-1-2\">\"ABC\"</span>\n",
    "<strong>Output: </strong><span id=\"example-output-1\">\"ABC\"</span>\n",
    "</pre>\n",
    "\n",
    "<p><strong>Example 2:</strong></p>\n",
    "\n",
    "<pre><strong>Input: </strong>str1 = <span id=\"example-input-2-1\">\"ABABAB\"</span>, str2 = <span id=\"example-input-2-2\">\"ABAB\"</span>\n",
    "<strong>Output: </strong><span id=\"example-output-2\">\"AB\"</span>\n",
    "</pre>\n",
    "\n",
    "<p><strong>Example 3:</strong></p>\n",
    "\n",
    "<pre><strong>Input: </strong>str1 = <span id=\"example-input-3-1\">\"LEET\"</span>, str2 = <span id=\"example-input-3-2\">\"CODE\"</span>\n",
    "<strong>Output: </strong><span id=\"example-output-3\">\"\"</span>\n",
    "</pre>\n",
    "\n",
    "<p>&nbsp;</p>\n",
    "\n",
    "<p><strong>Note:</strong></p>\n",
    "\n",
    "<ol>\n",
    "\t<li><code>1 &lt;= str1.length &lt;= 1000</code></li>\n",
    "\t<li><code>1 &lt;= str2.length &lt;= 1000</code></li>\n",
    "\t<li><code>str1[i]</code> and <code>str2[i]</code> are English uppercase letters.</li>\n",
    "</ol>\n",
    "</div>"
   ]
  },
  {
   "cell_type": "markdown",
   "metadata": {},
   "source": [
    "## Option 1\n",
    "<p>\n",
    "         <p>\n",
    "Time complexity: O(n)\n",
    "    <br>\n",
    "Space complexity: O(n)\n"
   ]
  },
  {
   "cell_type": "code",
   "execution_count": null,
   "metadata": {},
   "outputs": [],
   "source": [
    "class Solution(object):\n",
    "    def gcdOfStrings(self, str1, str2):\n",
    "        l1, l2 = len(str1), len(str2)\n",
    "        i, curr, res = 0, '', ''\n",
    "        while i < min(l1,l2) and str1[i] == str2[i]: \n",
    "            curr += str1[i]\n",
    "            i += 1\n",
    "            if l1%i or l2%i: continue\n",
    "            if curr*(l1/i) != str1 or curr*(l2/i) != str2: continue\n",
    "            res = curr\n",
    "\n",
    "        return res\n",
    "                \n",
    "Solution().gcdOfStrings(\"ABCDEF\",\"ABC\")\n",
    "    "
   ]
  },
  {
   "cell_type": "markdown",
   "metadata": {},
   "source": [
    "#### Result: 32ms (23.81%)"
   ]
  }
 ],
 "metadata": {
  "kernelspec": {
   "display_name": "Python 2",
   "language": "python",
   "name": "python2"
  },
  "language_info": {
   "codemirror_mode": {
    "name": "ipython",
    "version": 2
   },
   "file_extension": ".py",
   "mimetype": "text/x-python",
   "name": "python",
   "nbconvert_exporter": "python",
   "pygments_lexer": "ipython2",
   "version": "2.7.16"
  }
 },
 "nbformat": 4,
 "nbformat_minor": 2
}
