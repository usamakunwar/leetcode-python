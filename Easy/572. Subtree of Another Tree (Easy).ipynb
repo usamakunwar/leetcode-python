{
 "cells": [
  {
   "cell_type": "markdown",
   "metadata": {},
   "source": [
    "# 572. Subtree of Another Tree (Easy)"
   ]
  },
  {
   "cell_type": "markdown",
   "metadata": {},
   "source": [
    "<div><p>Given two <strong>non-empty</strong> binary trees <b>s</b> and <b>t</b>, check whether tree <b>t</b> has exactly the same structure and node values with a subtree of <b>s</b>. A subtree of <b>s</b> is a tree consists of a node in <b>s</b> and all of this node's descendants. The tree <b>s</b> could also be considered as a subtree of itself.</p>\n",
    "\n",
    "<p><b>Example 1:</b><br>\n",
    "Given tree s:</p>\n",
    "\n",
    "<pre>     3\n",
    "    / \\\n",
    "   4   5\n",
    "  / \\\n",
    " 1   2\n",
    "</pre>\n",
    "Given tree t:\n",
    "\n",
    "<pre>   4 \n",
    "  / \\\n",
    " 1   2\n",
    "</pre>\n",
    "Return <b>true</b>, because t has the same structure and node values with a subtree of s.\n",
    "\n",
    "<p>&nbsp;</p>\n",
    "\n",
    "<p><b>Example 2:</b><br>\n",
    "Given tree s:</p>\n",
    "\n",
    "<pre>     3\n",
    "    / \\\n",
    "   4   5\n",
    "  / \\\n",
    " 1   2\n",
    "    /\n",
    "   0\n",
    "</pre>\n",
    "Given tree t:\n",
    "\n",
    "<pre>   4\n",
    "  / \\\n",
    " 1   2\n",
    "</pre>\n",
    "Return <b>false</b>.\n",
    "\n",
    "<p>&nbsp;</p>\n",
    "</div>"
   ]
  },
  {
   "cell_type": "markdown",
   "metadata": {},
   "source": [
    "## Option 1\n",
    " <p>     <p>\n",
    "    <p>\n",
    "        \n",
    "Time complexity: O(st)\n",
    "    <br>\n",
    "Space complexity: O(s)\n"
   ]
  },
  {
   "cell_type": "code",
   "execution_count": null,
   "metadata": {
    "scrolled": true
   },
   "outputs": [],
   "source": [
    "# Definition for a binary tree node.\n",
    "# class TreeNode(object):\n",
    "#     def __init__(self, x):\n",
    "#         self.val = x\n",
    "#         self.left = None\n",
    "#         self.right = None\n",
    "\n",
    "class Solution(object):\n",
    "    def isSubtree(self, s, t):\n",
    "\n",
    "        def check(s,t):\n",
    "            if not s and not t: return True\n",
    "            if not s or not t: return False\n",
    "            return check(s.left, t.left) and check(s.right, t.right) if s.val == t.val else False\n",
    "            \n",
    "        def search(s,t):\n",
    "            if not s: return False\n",
    "            return True if check(s,t) else search(s.left, t) or search(s.right, t)\n",
    "    \n",
    "        return search(s,t)"
   ]
  },
  {
   "cell_type": "markdown",
   "metadata": {},
   "source": [
    "#### Result: 240ms (80.62%)"
   ]
  }
 ],
 "metadata": {
  "kernelspec": {
   "display_name": "Python 2",
   "language": "python",
   "name": "python2"
  },
  "language_info": {
   "codemirror_mode": {
    "name": "ipython",
    "version": 2
   },
   "file_extension": ".py",
   "mimetype": "text/x-python",
   "name": "python",
   "nbconvert_exporter": "python",
   "pygments_lexer": "ipython2",
   "version": "2.7.16"
  }
 },
 "nbformat": 4,
 "nbformat_minor": 2
}
