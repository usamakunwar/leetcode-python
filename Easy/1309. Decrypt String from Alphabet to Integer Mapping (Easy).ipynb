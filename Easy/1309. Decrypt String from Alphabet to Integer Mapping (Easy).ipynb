{
 "cells": [
  {
   "cell_type": "markdown",
   "metadata": {},
   "source": [
    "# 1309. Decrypt String from Alphabet to Integer Mapping (Easy)"
   ]
  },
  {
   "cell_type": "markdown",
   "metadata": {},
   "source": [
    "<div><p>Given a string <code>s</code> formed by digits (<code>'0'</code> - <code>'9'</code>)&nbsp;and <code>'#'</code>&nbsp;.&nbsp;We want to map <code>s</code> to English lowercase characters as follows:</p>\n",
    "\n",
    "<ul>\n",
    "\t<li>Characters (<code>'a'</code> to <code>'i')</code> are&nbsp;represented by&nbsp;(<code>'1'</code> to&nbsp;<code>'9'</code>)&nbsp;respectively.</li>\n",
    "\t<li>Characters (<code>'j'</code> to <code>'z')</code> are represented by (<code>'10#'</code>&nbsp;to&nbsp;<code>'26#'</code>)&nbsp;respectively.&nbsp;</li>\n",
    "</ul>\n",
    "\n",
    "<p>Return the string formed after mapping.</p>\n",
    "\n",
    "<p>It's guaranteed that a unique mapping will always exist.</p>\n",
    "\n",
    "<p>&nbsp;</p>\n",
    "<p><strong>Example 1:</strong></p>\n",
    "\n",
    "<pre><strong>Input:</strong> s = \"10#11#12\"\n",
    "<strong>Output:</strong> \"jkab\"\n",
    "<strong>Explanation:</strong> \"j\" -&gt; \"10#\" , \"k\" -&gt; \"11#\" , \"a\" -&gt; \"1\" , \"b\" -&gt; \"2\".\n",
    "</pre>\n",
    "\n",
    "<p><strong>Example 2:</strong></p>\n",
    "\n",
    "<pre><strong>Input:</strong> s = \"1326#\"\n",
    "<strong>Output:</strong> \"acz\"\n",
    "</pre>\n",
    "\n",
    "<p><strong>Example 3:</strong></p>\n",
    "\n",
    "<pre><strong>Input:</strong> s = \"25#\"\n",
    "<strong>Output:</strong> \"y\"\n",
    "</pre>\n",
    "\n",
    "<p><strong>Example 4:</strong></p>\n",
    "\n",
    "<pre><strong>Input:</strong> s = \"12345678910#11#12#13#14#15#16#17#18#19#20#21#22#23#24#25#26#\"\n",
    "<strong>Output:</strong> \"abcdefghijklmnopqrstuvwxyz\"\n",
    "</pre>\n",
    "\n",
    "<p>&nbsp;</p>\n",
    "<p><strong>Constraints:</strong></p>\n",
    "\n",
    "<ul>\n",
    "\t<li><code>1 &lt;= s.length &lt;= 1000</code></li>\n",
    "\t<li><code>s[i]</code> only contains digits letters (<code>'0'</code>-<code>'9'</code>) and <code>'#'</code>&nbsp;letter.</li>\n",
    "\t<li><code>s</code> will be valid string&nbsp;such that mapping is always possible.</li>\n",
    "</ul></div>"
   ]
  },
  {
   "cell_type": "markdown",
   "metadata": {},
   "source": [
    "## Option 1\n",
    "\n",
    "Time complexity: O(n) \n",
    "<br>\n",
    "Space complexity: O(1)"
   ]
  },
  {
   "cell_type": "code",
   "execution_count": null,
   "metadata": {
    "scrolled": true
   },
   "outputs": [],
   "source": [
    "class Solution(object):\n",
    "    def freqAlphabets(self, s):\n",
    "        #Iterate in reverse, if hash is found use two previous characters, else use current character\n",
    "        res, i = '',len(s)-1\n",
    "        while i >= 0:\n",
    "            res = chr(int(s[i-2]+s[i-1] if s[i] == '#' else s[i])+ord('a')-1) + res\n",
    "            i -= 3 if s[i] == '#' else 1  \n",
    "        return res\n",
    "Solution().freqAlphabets(\"1326#\")    \n"
   ]
  },
  {
   "cell_type": "markdown",
   "metadata": {},
   "source": [
    "#### Result: 16ms (85.49%)"
   ]
  }
 ],
 "metadata": {
  "kernelspec": {
   "display_name": "Python 2",
   "language": "python",
   "name": "python2"
  },
  "language_info": {
   "codemirror_mode": {
    "name": "ipython",
    "version": 2
   },
   "file_extension": ".py",
   "mimetype": "text/x-python",
   "name": "python",
   "nbconvert_exporter": "python",
   "pygments_lexer": "ipython2",
   "version": "2.7.16"
  }
 },
 "nbformat": 4,
 "nbformat_minor": 2
}
