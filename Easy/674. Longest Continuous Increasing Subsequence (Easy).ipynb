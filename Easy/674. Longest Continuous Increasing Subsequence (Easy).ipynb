{
 "cells": [
  {
   "cell_type": "markdown",
   "metadata": {},
   "source": [
    "# 674. Longest Continuous Increasing Subsequence (Easy)"
   ]
  },
  {
   "cell_type": "markdown",
   "metadata": {},
   "source": [
    "<div><p>\n",
    "Given an unsorted array of integers, find the length of longest <code>continuous</code> increasing subsequence (subarray).\n",
    "</p>\n",
    "\n",
    "<p><b>Example 1:</b><br>\n",
    "</p><pre><b>Input:</b> [1,3,5,4,7]\n",
    "<b>Output:</b> 3\n",
    "<b>Explanation:</b> The longest continuous increasing subsequence is [1,3,5], its length is 3. \n",
    "Even though [1,3,5,7] is also an increasing subsequence, it's not a continuous one where 5 and 7 are separated by 4. \n",
    "</pre>\n",
    "<p></p>\n",
    "\n",
    "<p><b>Example 2:</b><br>\n",
    "</p><pre><b>Input:</b> [2,2,2,2,2]\n",
    "<b>Output:</b> 1\n",
    "<b>Explanation:</b> The longest continuous increasing subsequence is [2], its length is 1. \n",
    "</pre>\n",
    "<p></p>\n",
    "\n",
    "<p><b>Note:</b>\n",
    "Length of the array will not exceed 10,000.\n",
    "</p></div>"
   ]
  },
  {
   "cell_type": "markdown",
   "metadata": {},
   "source": [
    "## Option 1\n",
    " \n",
    " <p>\n",
    "\n",
    "Time complexity: O(n)\n",
    "<br>\n",
    "Space complexity: O(1) "
   ]
  },
  {
   "cell_type": "code",
   "execution_count": 3,
   "metadata": {
    "scrolled": true
   },
   "outputs": [
    {
     "data": {
      "text/plain": [
       "2"
      ]
     },
     "execution_count": 3,
     "metadata": {},
     "output_type": "execute_result"
    }
   ],
   "source": [
    "class Solution(object):\n",
    "    def findLengthOfLCIS(self, nums):\n",
    "        res = curr = 0\n",
    "        for i in range(len(nums)):\n",
    "            curr = curr + 1 if i > 0 and nums[i] > nums[i-1] else 1\n",
    "            res = max(res, curr)\n",
    "        \n",
    "        return res\n",
    "        \n",
    "        \n",
    "Solution().findLengthOfLCIS([1,3,5,4,7])\n",
    "        "
   ]
  },
  {
   "cell_type": "markdown",
   "metadata": {},
   "source": [
    "#### Result: 72ms (34.96%)\n"
   ]
  }
 ],
 "metadata": {
  "kernelspec": {
   "display_name": "Python 2",
   "language": "python",
   "name": "python2"
  },
  "language_info": {
   "codemirror_mode": {
    "name": "ipython",
    "version": 2
   },
   "file_extension": ".py",
   "mimetype": "text/x-python",
   "name": "python",
   "nbconvert_exporter": "python",
   "pygments_lexer": "ipython2",
   "version": "2.7.16"
  }
 },
 "nbformat": 4,
 "nbformat_minor": 2
}
