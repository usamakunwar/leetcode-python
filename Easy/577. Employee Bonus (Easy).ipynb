{
 "cells": [
  {
   "cell_type": "markdown",
   "metadata": {},
   "source": [
    "#  577. Employee Bonus (Easy)"
   ]
  },
  {
   "cell_type": "markdown",
   "metadata": {},
   "source": [
    "<div><p>Select all employee's name and bonus whose bonus is &lt; 1000.</p>\n",
    "\n",
    "<p>Table:<code>Employee </code></p>\n",
    "\n",
    "<pre>+-------+--------+-----------+--------+\n",
    "| empId |  name  | supervisor| salary |\n",
    "+-------+--------+-----------+--------+\n",
    "|   1   | John   |  3        | 1000   |\n",
    "|   2   | Dan    |  3        | 2000   |\n",
    "|   3   | Brad   |  null     | 4000   |\n",
    "|   4   | Thomas |  3        | 4000   |\n",
    "+-------+--------+-----------+--------+\n",
    "empId is the primary key column for this table.\n",
    "</pre>\n",
    "\n",
    "<p>Table: <code>Bonus</code></p>\n",
    "\n",
    "<pre>+-------+-------+\n",
    "| empId | bonus |\n",
    "+-------+-------+\n",
    "| 2     | 500   |\n",
    "| 4     | 2000  |\n",
    "+-------+-------+\n",
    "empId is the primary key column for this table.\n",
    "</pre>\n",
    "\n",
    "<p>Example ouput:</p>\n",
    "\n",
    "<pre>+-------+-------+\n",
    "| name  | bonus |\n",
    "+-------+-------+\n",
    "| John  | null  |\n",
    "| Dan   | 500   |\n",
    "| Brad  | null  |\n",
    "+-------+-------+\n",
    "</pre>\n",
    "</div>"
   ]
  },
  {
   "cell_type": "markdown",
   "metadata": {},
   "source": [
    "## Option 1"
   ]
  },
  {
   "cell_type": "code",
   "execution_count": null,
   "metadata": {
    "scrolled": false
   },
   "outputs": [],
   "source": [
    "# Write your MySQL query statement below\n",
    "\n",
    "select name, bonus\n",
    "from employee\n",
    "left join bonus on bonus.empId = employee.empID\n",
    "where bonus < 1000 or bonus is null"
   ]
  },
  {
   "cell_type": "markdown",
   "metadata": {},
   "source": [
    "#### Result: 1644ms (5.01%)\n"
   ]
  }
 ],
 "metadata": {
  "kernelspec": {
   "display_name": "Python 2",
   "language": "python",
   "name": "python2"
  },
  "language_info": {
   "codemirror_mode": {
    "name": "ipython",
    "version": 2
   },
   "file_extension": ".py",
   "mimetype": "text/x-python",
   "name": "python",
   "nbconvert_exporter": "python",
   "pygments_lexer": "ipython2",
   "version": "2.7.16"
  }
 },
 "nbformat": 4,
 "nbformat_minor": 2
}
