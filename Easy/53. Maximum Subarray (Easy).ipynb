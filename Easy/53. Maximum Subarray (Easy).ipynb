{
 "cells": [
  {
   "cell_type": "markdown",
   "metadata": {},
   "source": [
    "# 53. Maximum Subarray (Easy)\n"
   ]
  },
  {
   "cell_type": "markdown",
   "metadata": {},
   "source": [
    "<div><p>Given an integer array <code>nums</code>, find the contiguous subarray&nbsp;(containing at least one number) which has the largest sum and return its sum.</p>\n",
    "\n",
    "<p><strong>Example:</strong></p>\n",
    "\n",
    "<pre><strong>Input:</strong> [-2,1,-3,4,-1,2,1,-5,4],\n",
    "<strong>Output:</strong> 6\n",
    "<strong>Explanation:</strong>&nbsp;[4,-1,2,1] has the largest sum = 6.\n",
    "</pre>\n",
    "\n",
    "<p><strong>Follow up:</strong></p>\n",
    "\n",
    "<p>If you have figured out the O(<em>n</em>) solution, try coding another solution using the divide and conquer approach, which is more subtle.</p>\n",
    "</div>"
   ]
  },
  {
   "cell_type": "markdown",
   "metadata": {},
   "source": [
    "## Option 1\n",
    "\n",
    "Dynamic programming, but I've used a variable referring to (n-1) the prefix value\n",
    "<br>\n",
    "<p>\n",
    "Time complexity O(n)\n",
    "<br>\n",
    "Space complexity O(1)"
   ]
  },
  {
   "cell_type": "code",
   "execution_count": null,
   "metadata": {
    "scrolled": false
   },
   "outputs": [],
   "source": [
    "class Solution:\n",
    "    def maxSubArray(self, nums: [int]) -> int:        \n",
    "        prev_sum = nums[0]\n",
    "        max_sum = nums[0]\n",
    "        \n",
    "        for i in range(1,len(nums)):\n",
    "            if prev_sum > 0:\n",
    "                prev_sum = prev_sum + nums[i]\n",
    "            else:\n",
    "                prev_sum = nums[i]\n",
    "            \n",
    "            max_sum = max(max_sum, prev_sum)\n",
    "        \n",
    "        return max_sum\n",
    "            \n",
    "                \n",
    "Solution().maxSubArray([-2,1,-3,4,-1,2,1,-5,4])"
   ]
  },
  {
   "cell_type": "markdown",
   "metadata": {},
   "source": [
    "#### Runtime: 64ms (93.47%)"
   ]
  },
  {
   "cell_type": "markdown",
   "metadata": {},
   "source": [
    "## Option 2\n",
    "\n",
    "Greedy\n",
    "<br>\n",
    "<p>\n",
    "Time complexity O(n)\n",
    "<br>\n",
    "Space complexity O(1)"
   ]
  },
  {
   "cell_type": "code",
   "execution_count": null,
   "metadata": {},
   "outputs": [],
   "source": [
    "class Solution(object):\n",
    "    def maxSubArray(self, nums):\n",
    "        res, curr = float('-inf'), 0\n",
    "        for n in nums:            \n",
    "            curr = max(n,curr+n)\n",
    "            res = max(res, curr)\n",
    "        \n",
    "        return res\n",
    "    \n",
    "Solution().maxSubArray([-2,1,-3,4,-1,2,1,-5,4])\n",
    "        "
   ]
  },
  {
   "cell_type": "markdown",
   "metadata": {},
   "source": [
    "#### Runtime: 92ms (11.98%)"
   ]
  }
 ],
 "metadata": {
  "kernelspec": {
   "display_name": "Python 2",
   "language": "python",
   "name": "python2"
  },
  "language_info": {
   "codemirror_mode": {
    "name": "ipython",
    "version": 2
   },
   "file_extension": ".py",
   "mimetype": "text/x-python",
   "name": "python",
   "nbconvert_exporter": "python",
   "pygments_lexer": "ipython2",
   "version": "2.7.16"
  }
 },
 "nbformat": 4,
 "nbformat_minor": 2
}
