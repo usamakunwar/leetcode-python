{
 "cells": [
  {
   "cell_type": "markdown",
   "metadata": {},
   "source": [
    "# 53. Maximum Subarray (Easy)\n"
   ]
  },
  {
   "cell_type": "markdown",
   "metadata": {},
   "source": [
    "<div><p>Given an integer array <code>nums</code>, find the contiguous subarray&nbsp;(containing at least one number) which has the largest sum and return its sum.</p>\n",
    "\n",
    "<p><strong>Example:</strong></p>\n",
    "\n",
    "<pre><strong>Input:</strong> [-2,1,-3,4,-1,2,1,-5,4],\n",
    "<strong>Output:</strong> 6\n",
    "<strong>Explanation:</strong>&nbsp;[4,-1,2,1] has the largest sum = 6.\n",
    "</pre>\n",
    "\n",
    "<p><strong>Follow up:</strong></p>\n",
    "\n",
    "<p>If you have figured out the O(<em>n</em>) solution, try coding another solution using the divide and conquer approach, which is more subtle.</p>\n",
    "</div>"
   ]
  },
  {
   "cell_type": "markdown",
   "metadata": {},
   "source": [
    "## Option 1\n",
    "\n",
    "Dynamic programming, but I've used a variable referring to (n-1) the prefix value\n",
    "<br>\n",
    "Time complexity O(n)\n",
    "<br>\n",
    "Space complexity O(1)"
   ]
  },
  {
   "cell_type": "code",
   "execution_count": 18,
   "metadata": {
    "scrolled": false
   },
   "outputs": [
    {
     "data": {
      "text/plain": [
       "6"
      ]
     },
     "execution_count": 18,
     "metadata": {},
     "output_type": "execute_result"
    }
   ],
   "source": [
    "class Solution:\n",
    "    def maxSubArray(self, nums: [int]) -> int:        \n",
    "        prev_sum = nums[0]\n",
    "        max_sum = nums[0]\n",
    "        \n",
    "        for i in range(1,len(nums)):\n",
    "            if prev_sum > 0:\n",
    "                prev_sum = prev_sum + nums[i]\n",
    "            else:\n",
    "                prev_sum = nums[i]\n",
    "            \n",
    "            max_sum = max(max_sum, prev_sum)\n",
    "        \n",
    "        return max_sum\n",
    "            \n",
    "                \n",
    "Solution().maxSubArray([-2,1,-3,4,-1,2,1,-5,4])"
   ]
  },
  {
   "cell_type": "markdown",
   "metadata": {},
   "source": [
    "#### Result:  Accepted\n",
    "#### Runtime: 64ms (93.47%)"
   ]
  }
 ],
 "metadata": {
  "kernelspec": {
   "display_name": "Python 3",
   "language": "python",
   "name": "python3"
  },
  "language_info": {
   "codemirror_mode": {
    "name": "ipython",
    "version": 3
   },
   "file_extension": ".py",
   "mimetype": "text/x-python",
   "name": "python",
   "nbconvert_exporter": "python",
   "pygments_lexer": "ipython3",
   "version": "3.7.4"
  }
 },
 "nbformat": 4,
 "nbformat_minor": 2
}
