{
 "cells": [
  {
   "cell_type": "markdown",
   "metadata": {},
   "source": [
    "# 598. Range Addition II (Easy)\n",
    "\n"
   ]
  },
  {
   "cell_type": "markdown",
   "metadata": {},
   "source": [
    "<div><p>Given an m * n matrix <b>M</b> initialized with all <b>0</b>'s and several update operations.</p>\n",
    "<p>Operations are represented by a 2D array, and each operation is represented by an array with two <b>positive</b> integers <b>a</b> and <b>b</b>, which means <b>M[i][j]</b> should be <b>added by one</b> for all <b>0 &lt;= i &lt; a</b> and <b>0 &lt;= j &lt; b</b>. </p>\n",
    "<p>You need to count and return the number of maximum integers in the matrix after performing all the operations.</p>\n",
    "\n",
    "<p><b>Example 1:</b><br>\n",
    "</p><pre><b>Input:</b> \n",
    "m = 3, n = 3\n",
    "operations = [[2,2],[3,3]]\n",
    "<b>Output:</b> 4\n",
    "<b>Explanation:</b> \n",
    "Initially, M = \n",
    "[[0, 0, 0],\n",
    " [0, 0, 0],\n",
    " [0, 0, 0]]\n",
    "\n",
    "After performing [2,2], M = \n",
    "[[1, 1, 0],\n",
    " [1, 1, 0],\n",
    " [0, 0, 0]]\n",
    "\n",
    "After performing [3,3], M = \n",
    "[[2, 2, 1],\n",
    " [2, 2, 1],\n",
    " [1, 1, 1]]\n",
    "\n",
    "So the maximum integer in M is 2, and there are four of it in M. So return 4.\n",
    "</pre>\n",
    "<p></p>\n",
    "\n",
    "<p><b>Note:</b><br>\n",
    "</p><ol>\n",
    "<li>The range of m and n is [1,40000].</li>\n",
    "<li>The range of a is [1,m], and the range of b is [1,n].</li>\n",
    "<li>The range of operations size won't exceed 10,000.</li>\n",
    "</ol>\n",
    "<p></p></div>"
   ]
  },
  {
   "cell_type": "markdown",
   "metadata": {},
   "source": [
    "## Option 1\n",
    " <p> \n",
    "    <li>So [a,b] represent an area, we need to find the area that has the highest number of operations\n",
    "    <li>By default all ops go through [1,1], so that will have the most ops, or the minimum\n",
    "        \n",
    "<p>\n",
    "    <p>\n",
    "Time complexity: O(n)  \n",
    "    <br>\n",
    "Space complexity: O(1)\n"
   ]
  },
  {
   "cell_type": "code",
   "execution_count": null,
   "metadata": {
    "scrolled": false
   },
   "outputs": [],
   "source": [
    "class Solution(object):\n",
    "    def maxCount(self, m, n, ops):        \n",
    "        for a,b in ops:\n",
    "            m, n = min(m, a), min(n, b)\n",
    "        return m*n\n",
    "\n",
    "Solution().maxCount(3,3,[[7,5],[5,6]])   \n",
    "        "
   ]
  },
  {
   "cell_type": "markdown",
   "metadata": {},
   "source": [
    "#### Result: 48ms (95.60%)"
   ]
  }
 ],
 "metadata": {
  "kernelspec": {
   "display_name": "Python 2",
   "language": "python",
   "name": "python2"
  },
  "language_info": {
   "codemirror_mode": {
    "name": "ipython",
    "version": 2
   },
   "file_extension": ".py",
   "mimetype": "text/x-python",
   "name": "python",
   "nbconvert_exporter": "python",
   "pygments_lexer": "ipython2",
   "version": "2.7.16"
  }
 },
 "nbformat": 4,
 "nbformat_minor": 2
}
