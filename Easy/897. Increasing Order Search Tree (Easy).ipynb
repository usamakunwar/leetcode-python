{
 "cells": [
  {
   "cell_type": "markdown",
   "metadata": {},
   "source": [
    "# 897. Increasing Order Search Tree (Easy)"
   ]
  },
  {
   "cell_type": "markdown",
   "metadata": {},
   "source": [
    "<div><p>Given a binary search tree, rearrange the tree in <strong>in-order</strong> so that the leftmost node in the tree is now the root of the tree, and every node has no left child and only 1 right child.</p>\n",
    "\n",
    "<pre><strong>Example 1:</strong>\n",
    "<strong>Input:</strong> [5,3,6,2,4,null,8,1,null,null,null,7,9]\n",
    "\n",
    "       5\n",
    "      / \\\n",
    "    3    6\n",
    "   / \\    \\\n",
    "  2   4    8\n",
    "&nbsp;/        / \\ \n",
    "1        7   9\n",
    "\n",
    "<strong>Output:</strong> [1,null,2,null,3,null,4,null,5,null,6,null,7,null,8,null,9]\n",
    "\n",
    " 1\n",
    "&nbsp; \\\n",
    "&nbsp;  2\n",
    "&nbsp;   \\\n",
    "&nbsp;    3\n",
    "&nbsp;     \\\n",
    "&nbsp;      4\n",
    "&nbsp;       \\\n",
    "&nbsp;        5\n",
    "&nbsp;         \\\n",
    "&nbsp;          6\n",
    "&nbsp;           \\\n",
    "&nbsp;            7\n",
    "&nbsp;             \\\n",
    "&nbsp;              8\n",
    "&nbsp;               \\\n",
    "                 9  </pre>\n",
    "<p>&nbsp;</p>\n",
    "<p><strong>Constraints:</strong></p>\n",
    "\n",
    "<ul>\n",
    "\t<li>The number of nodes in the given tree will be between <code>1</code> and <code>100</code>.</li>\n",
    "\t<li>Each node will have a unique integer value from <code>0</code> to <code>1000</code>.</li>\n",
    "</ul>\n",
    "</div>"
   ]
  },
  {
   "cell_type": "markdown",
   "metadata": {},
   "source": [
    "## Option 1\n",
    "<p>\n",
    "    LVR (In order traversal)\n",
    "    <p>\n",
    "Time complexity: O(n)\n",
    "<br>\n",
    "Space complexity: O(n) "
   ]
  },
  {
   "cell_type": "code",
   "execution_count": null,
   "metadata": {
    "scrolled": true
   },
   "outputs": [],
   "source": [
    "class Solution(object):\n",
    "    def increasingBST(self, root):\n",
    "        self.head, self.curr = None, None\n",
    "        def search(node):\n",
    "            if node.left : search(node.left)\n",
    "            node.left = None\n",
    "            \n",
    "            if self.curr:\n",
    "                self.curr.right = node\n",
    "                self.curr = self.curr.right\n",
    "            else:\n",
    "                self.head = node\n",
    "                self.curr = self.head\n",
    "                \n",
    "            if node.right: search(node.right)\n",
    "        \n",
    "        search(root)\n",
    "        \n",
    "        return self.head"
   ]
  },
  {
   "cell_type": "markdown",
   "metadata": {},
   "source": [
    "#### Result: 32ms (16.83%)\n"
   ]
  }
 ],
 "metadata": {
  "kernelspec": {
   "display_name": "Python 2",
   "language": "python",
   "name": "python2"
  },
  "language_info": {
   "codemirror_mode": {
    "name": "ipython",
    "version": 2
   },
   "file_extension": ".py",
   "mimetype": "text/x-python",
   "name": "python",
   "nbconvert_exporter": "python",
   "pygments_lexer": "ipython2",
   "version": "2.7.16"
  }
 },
 "nbformat": 4,
 "nbformat_minor": 2
}
