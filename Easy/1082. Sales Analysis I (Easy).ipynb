{
 "cells": [
  {
   "cell_type": "markdown",
   "metadata": {},
   "source": [
    "# 1082. Sales Analysis I (Easy)"
   ]
  },
  {
   "cell_type": "markdown",
   "metadata": {},
   "source": [
    "<div><p>Table:&nbsp;<code>Product</code></p>\n",
    "\n",
    "<pre>+--------------+---------+\n",
    "| Column Name  | Type    |\n",
    "+--------------+---------+\n",
    "| product_id   | int     |\n",
    "| product_name | varchar |\n",
    "| unit_price   | int     |\n",
    "+--------------+---------+\n",
    "product_id is the primary key of this table.\n",
    "</pre>\n",
    "\n",
    "<p>Table:&nbsp;<code>Sales</code></p>\n",
    "\n",
    "<pre>+-------------+---------+\n",
    "| Column Name | Type    |\n",
    "+-------------+---------+\n",
    "| seller_id   | int     |\n",
    "| product_id  | int     |\n",
    "| buyer_id    | int     |\n",
    "| sale_date   | date    |\n",
    "| quantity    | int     |\n",
    "| price       | int     |\n",
    "+------ ------+---------+\n",
    "This table has no primary key, it can have repeated rows.\n",
    "product_id is a foreign key to Product table.\n",
    "</pre>\n",
    "\n",
    "<p>&nbsp;</p>\n",
    "\n",
    "<p>Write an SQL query that reports the best&nbsp;<strong>seller</strong>&nbsp;by total sales price, If there is a tie, report them all.</p>\n",
    "\n",
    "<p>The query result format is in the following example:</p>\n",
    "\n",
    "<pre>Product table:\n",
    "+------------+--------------+------------+\n",
    "| product_id | product_name | unit_price |\n",
    "+------------+--------------+------------+\n",
    "| 1          | S8           | 1000       |\n",
    "| 2          | G4           | 800        |\n",
    "| 3          | iPhone       | 1400       |\n",
    "+------------+--------------+------------+\n",
    "\n",
    "<code>Sales </code>table:\n",
    "+-----------+------------+----------+------------+----------+-------+\n",
    "| seller_id | product_id | buyer_id | sale_date  | quantity | price |\n",
    "+-----------+------------+----------+------------+----------+-------+\n",
    "| 1         | 1          | 1        | 2019-01-21 | 2        | 2000  |\n",
    "| 1         | 2          | 2        | 2019-02-17 | 1        | 800   |\n",
    "| 2         | 2          | 3        | 2019-06-02 | 1        | 800   |\n",
    "| 3         | 3          | 4        | 2019-05-13 | 2        | 2800  |\n",
    "+-----------+------------+----------+------------+----------+-------+\n",
    "\n",
    "Result table:\n",
    "+-------------+\n",
    "| seller_id   |\n",
    "+-------------+\n",
    "| 1           |\n",
    "| 3           |\n",
    "+-------------+\n",
    "Both sellers with id 1 and 3 sold products with the most total price of 2800.</pre>\n",
    "</div>"
   ]
  },
  {
   "cell_type": "markdown",
   "metadata": {},
   "source": [
    "## Option 1"
   ]
  },
  {
   "cell_type": "code",
   "execution_count": null,
   "metadata": {
    "scrolled": false
   },
   "outputs": [],
   "source": [
    "# Write your MySQL query statement below\n",
    "\n",
    "select seller_id\n",
    "from sales\n",
    "group by seller_id\n",
    "having sum(price) = (select sum(price)\n",
    "                     from sales \n",
    "                     group by seller_id \n",
    "                     order by sum(price) desc\n",
    "                     limit 1\n",
    "                    )"
   ]
  },
  {
   "cell_type": "markdown",
   "metadata": {},
   "source": [
    "#### Result: 1784ms (20.97%)\n"
   ]
  }
 ],
 "metadata": {
  "kernelspec": {
   "display_name": "Python 2",
   "language": "python",
   "name": "python2"
  },
  "language_info": {
   "codemirror_mode": {
    "name": "ipython",
    "version": 2
   },
   "file_extension": ".py",
   "mimetype": "text/x-python",
   "name": "python",
   "nbconvert_exporter": "python",
   "pygments_lexer": "ipython2",
   "version": "2.7.16"
  }
 },
 "nbformat": 4,
 "nbformat_minor": 2
}
