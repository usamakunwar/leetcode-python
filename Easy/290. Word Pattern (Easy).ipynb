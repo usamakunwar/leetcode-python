{
 "cells": [
  {
   "cell_type": "markdown",
   "metadata": {},
   "source": [
    "# 290. Word Pattern (Easy)"
   ]
  },
  {
   "cell_type": "markdown",
   "metadata": {},
   "source": [
    "<div><p>Given a <code>pattern</code> and a string <code>str</code>, find if <code>str</code> follows the same pattern.</p>\n",
    "\n",
    "<p>Here <b>follow</b> means a full match, such that there is a bijection between a letter in <code>pattern</code> and a <b>non-empty</b> word in <code>str</code>.</p>\n",
    "\n",
    "<p><strong>Example 1:</strong></p>\n",
    "\n",
    "<pre><strong>Input:</strong> pattern = <code>\"abba\"</code>, str = <code>\"dog cat cat dog\"</code>\n",
    "<strong>Output:</strong> true</pre>\n",
    "\n",
    "<p><strong>Example 2:</strong></p>\n",
    "\n",
    "<pre><strong>Input:</strong>pattern = <code>\"abba\"</code>, str = <code>\"dog cat cat fish\"</code>\n",
    "<strong>Output:</strong> false</pre>\n",
    "\n",
    "<p><strong>Example 3:</strong></p>\n",
    "\n",
    "<pre><strong>Input:</strong> pattern = <code>\"aaaa\"</code>, str = <code>\"dog cat cat dog\"</code>\n",
    "<strong>Output:</strong> false</pre>\n",
    "\n",
    "<p><strong>Example 4:</strong></p>\n",
    "\n",
    "<pre><strong>Input:</strong> pattern = <code>\"abba\"</code>, str = <code>\"dog dog dog dog\"</code>\n",
    "<strong>Output:</strong> false</pre>\n",
    "\n",
    "<p><b>Notes:</b><br>\n",
    "You may assume <code>pattern</code> contains only lowercase letters, and <code>str</code> contains lowercase letters that may be separated by a single space.</p>\n",
    "</div>"
   ]
  },
  {
   "cell_type": "markdown",
   "metadata": {},
   "source": [
    "## Option 1\n",
    "\n",
    "Time complexity = O(p) lenght of pattern\n",
    "<br>\n",
    "Space complexity = O(max(p,len(s)))"
   ]
  },
  {
   "cell_type": "code",
   "execution_count": null,
   "metadata": {},
   "outputs": [],
   "source": [
    "import collections\n",
    "class Solution(object):\n",
    "    def wordPattern(self, pattern, str):\n",
    "        p_map = collections.defaultdict(list)\n",
    "        s_map = collections.defaultdict(list)\n",
    "        s = str.split(' ')\n",
    "        if len(s) != len(pattern): return False\n",
    "        for i,v in enumerate(pattern):\n",
    "            if p_map[v] and p_map[v] != s[i] or s_map[s[i]] and s_map[s[i]] != v: \n",
    "                return False\n",
    "            p_map[v], s_map[s[i]] = s[i], v\n",
    "        return True\n",
    "        \n",
    "Solution().wordPattern(\"abc\", \"b c a\")\n"
   ]
  },
  {
   "cell_type": "markdown",
   "metadata": {},
   "source": [
    "#### Result: 16ms (71.09%)"
   ]
  },
  {
   "cell_type": "markdown",
   "metadata": {},
   "source": [
    "## Option 2\n",
    "\n",
    "Time complexity = O(min(s,p)) lenght of pattern\n",
    "<br>\n",
    "Space complexity = O(s)"
   ]
  },
  {
   "cell_type": "code",
   "execution_count": null,
   "metadata": {},
   "outputs": [],
   "source": [
    "import collections\n",
    "class Solution(object):\n",
    "    def wordPattern(self, pattern, str):\n",
    "        s,p = str.split(), pattern\n",
    "        return len(set(zip(s,p))) == len(set(s)) == len(set(p)) and len(s) == len(p)\n",
    "        \n",
    "Solution().wordPattern(\"abba\", \"dog cat dog cat\")\n"
   ]
  },
  {
   "cell_type": "markdown",
   "metadata": {},
   "source": [
    "#### Result: 12ms (89.05%)"
   ]
  }
 ],
 "metadata": {
  "kernelspec": {
   "display_name": "Python 2",
   "language": "python",
   "name": "python2"
  },
  "language_info": {
   "codemirror_mode": {
    "name": "ipython",
    "version": 2
   },
   "file_extension": ".py",
   "mimetype": "text/x-python",
   "name": "python",
   "nbconvert_exporter": "python",
   "pygments_lexer": "ipython2",
   "version": "2.7.16"
  }
 },
 "nbformat": 4,
 "nbformat_minor": 2
}
