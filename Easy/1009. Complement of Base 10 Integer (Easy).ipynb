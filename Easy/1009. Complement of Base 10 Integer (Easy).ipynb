{
 "cells": [
  {
   "cell_type": "markdown",
   "metadata": {},
   "source": [
    "# 1009. Complement of Base 10 Integer (Easy)"
   ]
  },
  {
   "cell_type": "markdown",
   "metadata": {},
   "source": [
    "<div><p>Every non-negative integer <code>N</code>&nbsp;has a binary representation.&nbsp; For example,&nbsp;<code>5</code> can be represented as <code>\"101\"</code>&nbsp;in binary, <code>11</code> as <code>\"1011\"</code>&nbsp;in binary, and so on.&nbsp; Note that except for <code>N = 0</code>, there are no leading zeroes in any&nbsp;binary representation.</p>\n",
    "\n",
    "<p>The <em>complement</em>&nbsp;of a binary representation&nbsp;is the number in binary you get when changing every <code>1</code> to a <code>0</code> and <code>0</code> to a <code>1</code>.&nbsp; For example, the complement of <code>\"101\"</code> in binary is <code>\"010\"</code> in binary.</p>\n",
    "\n",
    "<p>For a given number <code>N</code> in base-10, return the complement of it's binary representation as a&nbsp;base-10 integer.</p>\n",
    "\n",
    "<p>&nbsp;</p>\n",
    "\n",
    "<ol>\n",
    "</ol>\n",
    "\n",
    "<div>\n",
    "<p><strong>Example 1:</strong></p>\n",
    "\n",
    "<pre><strong>Input: </strong><span id=\"example-input-1-1\">5</span>\n",
    "<strong>Output: </strong><span id=\"example-output-1\">2</span>\n",
    "<strong>Explanation: </strong>5 is \"101\" in binary, with complement \"010\" in binary, which is 2 in base-10.\n",
    "</pre>\n",
    "\n",
    "<div>\n",
    "<p><strong>Example 2:</strong></p>\n",
    "\n",
    "<pre><strong>Input: </strong><span id=\"example-input-2-1\">7</span>\n",
    "<strong>Output: </strong><span id=\"example-output-2\">0</span>\n",
    "<span id=\"example-output-1\"><strong>Explanation: </strong>7 is \"111\" in binary, with complement \"000\" in binary, which is 0 in base-10.\n",
    "</span></pre>\n",
    "\n",
    "<div>\n",
    "<p><strong>Example 3:</strong></p>\n",
    "\n",
    "<pre><strong>Input: </strong><span id=\"example-input-3-1\">10</span>\n",
    "<strong>Output: </strong><span id=\"example-output-3\">5</span>\n",
    "<strong>Explanation: </strong>10 is \"1010\" in binary, with complement \"0101\" in binary, which is 5 in base-10.\n",
    "</pre>\n",
    "\n",
    "<p>&nbsp;</p>\n",
    "\n",
    "<p><strong>Note:</strong></p>\n",
    "\n",
    "<ol>\n",
    "\t<li><code>0 &lt;= N &lt; 10^9</code></li>\n",
    "\t<li>This question is the same as 476:&nbsp;<a href=\"https://leetcode.com/problems/number-complement/\">https://leetcode.com/problems/number-complement/</a></li>\n",
    "</ol>\n",
    "</div>\n",
    "</div>\n",
    "</div>\n",
    "</div>"
   ]
  },
  {
   "cell_type": "markdown",
   "metadata": {},
   "source": [
    "## Option 1\n",
    "<p>\n",
    "  <p>\n",
    "      <p>\n",
    "Time complexity: O(1)\n",
    "<br>\n",
    "Space complexity: O(1)"
   ]
  },
  {
   "cell_type": "code",
   "execution_count": null,
   "metadata": {
    "scrolled": false
   },
   "outputs": [],
   "source": [
    "class Solution(object):\n",
    "    def bitwiseComplement(self, N):\n",
    "        #Go backwards from bitlenght to 0, the bits that cant fit add to res\n",
    "        res, power = 0, N.bit_length()-1\n",
    "        while power >= 0:\n",
    "            if N >= 2**power:\n",
    "                N -= 2**power \n",
    "            else:\n",
    "                res += 2**power\n",
    "            power -= 1\n",
    "        return res\n",
    "        \n",
    "Solution().bitwiseComplement(0)\n",
    "        "
   ]
  },
  {
   "cell_type": "markdown",
   "metadata": {},
   "source": [
    "#### Result: 16ms (62.86%)"
   ]
  }
 ],
 "metadata": {
  "kernelspec": {
   "display_name": "Python 2",
   "language": "python",
   "name": "python2"
  },
  "language_info": {
   "codemirror_mode": {
    "name": "ipython",
    "version": 2
   },
   "file_extension": ".py",
   "mimetype": "text/x-python",
   "name": "python",
   "nbconvert_exporter": "python",
   "pygments_lexer": "ipython2",
   "version": "2.7.16"
  }
 },
 "nbformat": 4,
 "nbformat_minor": 2
}
