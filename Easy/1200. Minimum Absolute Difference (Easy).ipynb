{
 "cells": [
  {
   "cell_type": "markdown",
   "metadata": {},
   "source": [
    "# 1200. Minimum Absolute Difference (Easy)"
   ]
  },
  {
   "cell_type": "markdown",
   "metadata": {},
   "source": [
    "<div><p>Given an&nbsp;array&nbsp;of <strong>distinct</strong>&nbsp;integers <code>arr</code>, find all pairs of elements with the minimum absolute difference of any two elements.&nbsp;</p>\n",
    "\n",
    "<p>Return a list of pairs in ascending order(with respect to pairs), each pair <code>[a, b]</code> follows</p>\n",
    "\n",
    "<ul>\n",
    "\t<li><code>a, b</code> are from <code>arr</code></li>\n",
    "\t<li><code>a &lt; b</code></li>\n",
    "\t<li><code>b - a</code>&nbsp;equals to the minimum absolute difference of any two elements in <code>arr</code></li>\n",
    "</ul>\n",
    "\n",
    "<p>&nbsp;</p>\n",
    "<p><strong>Example 1:</strong></p>\n",
    "\n",
    "<pre><strong>Input:</strong> arr = [4,2,1,3]\n",
    "<strong>Output:</strong> [[1,2],[2,3],[3,4]]\n",
    "<strong>Explanation: </strong>The minimum absolute difference is 1. List all pairs with difference equal to 1 in ascending order.</pre>\n",
    "\n",
    "<p><strong>Example 2:</strong></p>\n",
    "\n",
    "<pre><strong>Input:</strong> arr = [1,3,6,10,15]\n",
    "<strong>Output:</strong> [[1,3]]\n",
    "</pre>\n",
    "\n",
    "<p><strong>Example 3:</strong></p>\n",
    "\n",
    "<pre><strong>Input:</strong> arr = [3,8,-10,23,19,-4,-14,27]\n",
    "<strong>Output:</strong> [[-14,-10],[19,23],[23,27]]\n",
    "</pre>\n",
    "\n",
    "<p>&nbsp;</p>\n",
    "<p><strong>Constraints:</strong></p>\n",
    "\n",
    "<ul>\n",
    "\t<li><code>2 &lt;= arr.length &lt;= 10^5</code></li>\n",
    "\t<li><code>-10^6 &lt;= arr[i] &lt;= 10^6</code></li>\n",
    "</ul>\n",
    "</div>"
   ]
  },
  {
   "cell_type": "markdown",
   "metadata": {},
   "source": [
    "## Option 1\n",
    "<p>\n",
    "Time complexity = O(nlogn)\n",
    "<br>\n",
    "Space complexity = O(n)"
   ]
  },
  {
   "cell_type": "code",
   "execution_count": 7,
   "metadata": {},
   "outputs": [
    {
     "data": {
      "text/plain": [
       "[[-14, -10], [19, 23], [23, 27]]"
      ]
     },
     "execution_count": 7,
     "metadata": {},
     "output_type": "execute_result"
    }
   ],
   "source": [
    "class Solution:\n",
    "    def minimumAbsDifference(self, arr: [int]) -> [[int]]:\n",
    "        arr.sort()\n",
    "        min_diff,res = float('inf'),[]\n",
    "        for i in range(len(arr)-1):\n",
    "            diff = arr[i+1] - arr[i]\n",
    "            if diff < min_diff:\n",
    "                res, min_diff = [[arr[i],arr[i+1]]], diff\n",
    "            elif diff == min_diff:\n",
    "                res.append([arr[i],arr[i+1]])\n",
    "        return res\n",
    "Solution().minimumAbsDifference([3,8,-10,23,19,-4,-14,27])"
   ]
  },
  {
   "cell_type": "markdown",
   "metadata": {},
   "source": [
    "#### Result:  352ms (87.87%)"
   ]
  }
 ],
 "metadata": {
  "kernelspec": {
   "display_name": "Python 3",
   "language": "python",
   "name": "python3"
  },
  "language_info": {
   "codemirror_mode": {
    "name": "ipython",
    "version": 3
   },
   "file_extension": ".py",
   "mimetype": "text/x-python",
   "name": "python",
   "nbconvert_exporter": "python",
   "pygments_lexer": "ipython3",
   "version": "3.7.4"
  }
 },
 "nbformat": 4,
 "nbformat_minor": 2
}
