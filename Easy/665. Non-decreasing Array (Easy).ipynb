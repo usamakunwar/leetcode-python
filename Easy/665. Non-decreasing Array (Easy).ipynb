{
 "cells": [
  {
   "cell_type": "markdown",
   "metadata": {},
   "source": [
    "# 665. Non-decreasing Array (Easy)"
   ]
  },
  {
   "cell_type": "markdown",
   "metadata": {},
   "source": [
    "<div><p>Given an array <code>nums</code> with <code>n</code> integers, your task is to check if it could become non-decreasing by modifying <b>at most</b> <code>1</code> element.</p>\n",
    "\n",
    "<p>We define an array is non-decreasing if <code>nums[i] &lt;= nums</code><code>[i + 1]</code> holds for every <code>i</code>&nbsp;(0-based) such that <code>(0&nbsp;&lt;= i &lt;= n - 2)</code>.</p>\n",
    "\n",
    "<p>&nbsp;</p>\n",
    "<p><strong>Example 1:</strong></p>\n",
    "\n",
    "<pre><strong>Input:</strong> nums = [4,2,3]\n",
    "<strong>Output:</strong> true\n",
    "<strong>Explanation:</strong> You could modify the first <code>4</code> to <code>1</code> to get a non-decreasing array.\n",
    "</pre>\n",
    "\n",
    "<p><strong>Example 2:</strong></p>\n",
    "\n",
    "<pre><strong>Input:</strong> nums = [4,2,1]\n",
    "<strong>Output:</strong> false\n",
    "<strong>Explanation:</strong> You can't get a non-decreasing array by modify at most one element.\n",
    "</pre>\n",
    "\n",
    "<p>&nbsp;</p>\n",
    "<p><strong>Constraints:</strong></p>\n",
    "\n",
    "<ul>\n",
    "\t<li><code>1 &lt;= n &lt;= 10 ^ 4</code></li>\n",
    "\t<li><code>- 10 ^ 5&nbsp;&lt;= nums[i] &lt;= 10 ^ 5</code></li>\n",
    "</ul>\n",
    "</div>"
   ]
  },
  {
   "cell_type": "markdown",
   "metadata": {},
   "source": [
    "## Option 1\n",
    " <p>\n",
    "    <p>\n",
    "        <p>\n",
    "Time complexity: O(n) \n",
    "    <br>\n",
    "Space complexity: O(1)\n"
   ]
  },
  {
   "cell_type": "code",
   "execution_count": null,
   "metadata": {},
   "outputs": [],
   "source": [
    "class Solution(object):\n",
    "    def checkPossibility(self, nums):\n",
    "        \"\"\"\n",
    "        :type nums: List[int]\n",
    "        :rtype: bool\n",
    "        \"\"\"\n",
    "        #When there is a problem (i > i+1) we can either remove i or i+1\n",
    "        #All we have to do is check if removing i or i+1 leaves a valid array \n",
    "        count = 0\n",
    "        for i in range(len(nums)-1):\n",
    "            if nums[i] > nums[i+1]:\n",
    "                if count > 0: return False\n",
    "                valid = (i == 0 or nums[i-1] <= nums[i+1]) or #Remove nums[i]\n",
    "                        (i+2 == len(nums) or nums[i] <= nums[i+2]) #Remove nums[i+1]\n",
    "                if valid: \n",
    "                    count += 1\n",
    "                else: return False\n",
    "        \n",
    "        return True\n",
    "    \n",
    "        "
   ]
  },
  {
   "cell_type": "markdown",
   "metadata": {},
   "source": [
    "\n",
    "#### Result: 172ms (56.98%)"
   ]
  }
 ],
 "metadata": {
  "kernelspec": {
   "display_name": "Python 2",
   "language": "python",
   "name": "python2"
  },
  "language_info": {
   "codemirror_mode": {
    "name": "ipython",
    "version": 2
   },
   "file_extension": ".py",
   "mimetype": "text/x-python",
   "name": "python",
   "nbconvert_exporter": "python",
   "pygments_lexer": "ipython2",
   "version": "2.7.16"
  }
 },
 "nbformat": 4,
 "nbformat_minor": 2
}
