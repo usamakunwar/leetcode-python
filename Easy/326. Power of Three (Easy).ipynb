{
 "cells": [
  {
   "cell_type": "markdown",
   "metadata": {},
   "source": [
    "# 326. Power of Three (Easy)"
   ]
  },
  {
   "cell_type": "markdown",
   "metadata": {},
   "source": [
    "<div><p>Given an integer, write a function to determine if it is a power of three.</p>\n",
    "\n",
    "<p><b>Example 1:</b></p>\n",
    "\n",
    "<pre><strong>Input:</strong> 27\n",
    "<strong>Output:</strong> true\n",
    "</pre>\n",
    "\n",
    "<p><b>Example 2:</b></p>\n",
    "\n",
    "<pre><strong>Input:</strong> 0\n",
    "<strong>Output:</strong> false</pre>\n",
    "\n",
    "<p><b>Example 3:</b></p>\n",
    "\n",
    "<pre><strong>Input:</strong> 9\n",
    "<strong>Output:</strong> true</pre>\n",
    "\n",
    "<p><b>Example 4:</b></p>\n",
    "\n",
    "<pre><strong>Input:</strong> 45\n",
    "<strong>Output:</strong> false</pre>\n",
    "\n",
    "<p><b>Follow up:</b><br>\n",
    "Could you do it without using any loop / recursion?</p></div>"
   ]
  },
  {
   "cell_type": "markdown",
   "metadata": {},
   "source": [
    "## Option 1\n",
    " <p> \n",
    "<p>\n",
    "    <p>\n",
    "Time complexity: O(logn) base3  \n",
    "    <br>\n",
    "Space complexity: O(1)\n"
   ]
  },
  {
   "cell_type": "code",
   "execution_count": null,
   "metadata": {
    "scrolled": false
   },
   "outputs": [],
   "source": [
    "class Solution(object):\n",
    "    def isPowerOfThree(self, n):        \n",
    "        while n > 1:\n",
    "            if n%3: return False\n",
    "            n /= 3        \n",
    "        return n > 0\n",
    "        "
   ]
  },
  {
   "cell_type": "markdown",
   "metadata": {},
   "source": [
    "#### Result: 76ms (55.33%)"
   ]
  }
 ],
 "metadata": {
  "kernelspec": {
   "display_name": "Python 2",
   "language": "python",
   "name": "python2"
  },
  "language_info": {
   "codemirror_mode": {
    "name": "ipython",
    "version": 2
   },
   "file_extension": ".py",
   "mimetype": "text/x-python",
   "name": "python",
   "nbconvert_exporter": "python",
   "pygments_lexer": "ipython2",
   "version": "2.7.16"
  }
 },
 "nbformat": 4,
 "nbformat_minor": 2
}
