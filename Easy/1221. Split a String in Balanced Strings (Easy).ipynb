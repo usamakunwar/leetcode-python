{
 "cells": [
  {
   "cell_type": "markdown",
   "metadata": {},
   "source": [
    "# 1221. Split a String in Balanced Strings (Easy)"
   ]
  },
  {
   "cell_type": "markdown",
   "metadata": {},
   "source": [
    "<div><p><i data-stringify-type=\"italic\">Balanced</i>&nbsp;strings are those who have equal quantity of 'L' and 'R' characters.</p>\n",
    "\n",
    "<p>Given a balanced string&nbsp;<code data-stringify-type=\"code\">s</code>&nbsp;split it in the maximum amount of balanced strings.</p>\n",
    "\n",
    "<p>Return the maximum amount of splitted balanced strings.</p>\n",
    "\n",
    "<p>&nbsp;</p>\n",
    "<p><strong>Example 1:</strong></p>\n",
    "\n",
    "<pre><strong>Input:</strong> s = \"RLRRLLRLRL\"\n",
    "<strong>Output:</strong> 4\n",
    "<strong>Explanation: </strong>s can be split into \"RL\", \"RRLL\", \"RL\", \"RL\", each substring contains same number of 'L' and 'R'.\n",
    "</pre>\n",
    "\n",
    "<p><strong>Example 2:</strong></p>\n",
    "\n",
    "<pre><strong>Input:</strong> s = \"RLLLLRRRLR\"\n",
    "<strong>Output:</strong> 3\n",
    "<strong>Explanation: </strong>s can be split into \"RL\", \"LLLRRR\", \"LR\", each substring contains same number of 'L' and 'R'.\n",
    "</pre>\n",
    "\n",
    "<p><strong>Example 3:</strong></p>\n",
    "\n",
    "<pre><strong>Input:</strong> s = \"LLLLRRRR\"\n",
    "<strong>Output:</strong> 1\n",
    "<strong>Explanation: </strong>s can be split into \"LLLLRRRR\".\n",
    "</pre>\n",
    "\n",
    "<p><strong>Example 4:</strong></p>\n",
    "\n",
    "<pre><strong>Input:</strong> s = \"RLRRRLLRLL\"\n",
    "<strong>Output:</strong> 2\n",
    "<strong>Explanation: </strong>s can be split into \"RL\", \"RRRLLRLL\", since each substring contains an equal number of 'L' and 'R'\n",
    "</pre>\n",
    "\n",
    "<p>&nbsp;</p>\n",
    "<p><strong>Constraints:</strong></p>\n",
    "\n",
    "<ul>\n",
    "\t<li><code>1 &lt;= s.length &lt;= 1000</code></li>\n",
    "\t<li><code>s[i] = 'L' or 'R'</code></li>\n",
    "</ul>\n",
    "</div>"
   ]
  },
  {
   "cell_type": "markdown",
   "metadata": {},
   "source": [
    "## Option 1\n",
    "<p>\n",
    "Time complexity = O(n)\n",
    "<br>\n",
    "Space complexity = O(1)"
   ]
  },
  {
   "cell_type": "code",
   "execution_count": null,
   "metadata": {
    "scrolled": true
   },
   "outputs": [],
   "source": [
    "import collections, heapq\n",
    "class Solution(object):\n",
    "    def balancedStringSplit(self, s):\n",
    "        l=r=res=0\n",
    "        for i,v in enumerate(s):\n",
    "            if v == \"R\": r += 1\n",
    "            if v == \"L\": l += 1\n",
    "            if r == l:\n",
    "                res += 1\n",
    "        return res\n",
    "        \n",
    "Solution().balancedStringSplit(\"RLR\")\n",
    "        "
   ]
  },
  {
   "cell_type": "markdown",
   "metadata": {},
   "source": [
    "#### Result: 20ms (58.99%)"
   ]
  }
 ],
 "metadata": {
  "kernelspec": {
   "display_name": "Python 2",
   "language": "python",
   "name": "python2"
  },
  "language_info": {
   "codemirror_mode": {
    "name": "ipython",
    "version": 2
   },
   "file_extension": ".py",
   "mimetype": "text/x-python",
   "name": "python",
   "nbconvert_exporter": "python",
   "pygments_lexer": "ipython2",
   "version": "2.7.16"
  }
 },
 "nbformat": 4,
 "nbformat_minor": 2
}
