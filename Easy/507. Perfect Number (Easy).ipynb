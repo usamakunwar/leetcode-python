{
 "cells": [
  {
   "cell_type": "markdown",
   "metadata": {},
   "source": [
    "# 507. Perfect Number (Easy)"
   ]
  },
  {
   "cell_type": "markdown",
   "metadata": {},
   "source": [
    "<div><p>We define the Perfect Number is a <b>positive</b> integer that is equal to the sum of all its <b>positive</b> divisors except itself. \n",
    "</p>\n",
    "Now, given an <b>integer</b> n, write a function that returns true when it is a perfect number and false when it is not.\n",
    "<p></p>\n",
    "\n",
    "<p><b>Example:</b><br>\n",
    "</p><pre><b>Input:</b> 28\n",
    "<b>Output:</b> True\n",
    "<b>Explanation:</b> 28 = 1 + 2 + 4 + 7 + 14\n",
    "</pre>\n",
    "<p></p>\n",
    "\n",
    "<p><b>Note:</b>\n",
    "The input number <b>n</b> will not exceed 100,000,000. (1e8)\n",
    "</p></div>"
   ]
  },
  {
   "cell_type": "markdown",
   "metadata": {},
   "source": [
    "## Option 1\n",
    "<p>\n",
    "    <p>\n",
    "Time complexity: O(sqrtn)\n",
    "<br>\n",
    "Space complexity: O(1) "
   ]
  },
  {
   "cell_type": "code",
   "execution_count": null,
   "metadata": {
    "scrolled": true
   },
   "outputs": [],
   "source": [
    "class Solution(object):\n",
    "    def checkPerfectNumber(self, num):\n",
    "        if num < 2: return False\n",
    "        limit = int(num**0.5)\n",
    "        i, res = 2, 1\n",
    "        while i <= limit:\n",
    "            if not num%i:\n",
    "                res += (num/i) + i \n",
    "            i += 1\n",
    "        \n",
    "        return res\n",
    "        \n",
    "                \n",
    "Solution().checkPerfectNumber(2)\n",
    "        "
   ]
  },
  {
   "cell_type": "markdown",
   "metadata": {},
   "source": [
    "#### Result: 28ms (65.17%)\n"
   ]
  }
 ],
 "metadata": {
  "kernelspec": {
   "display_name": "Python 2",
   "language": "python",
   "name": "python2"
  },
  "language_info": {
   "codemirror_mode": {
    "name": "ipython",
    "version": 2
   },
   "file_extension": ".py",
   "mimetype": "text/x-python",
   "name": "python",
   "nbconvert_exporter": "python",
   "pygments_lexer": "ipython2",
   "version": "2.7.16"
  }
 },
 "nbformat": 4,
 "nbformat_minor": 2
}
