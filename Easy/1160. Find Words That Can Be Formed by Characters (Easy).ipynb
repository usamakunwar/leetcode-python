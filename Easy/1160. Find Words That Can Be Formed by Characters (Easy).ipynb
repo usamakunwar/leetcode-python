{
 "cells": [
  {
   "cell_type": "markdown",
   "metadata": {},
   "source": [
    "# 1160. Find Words That Can Be Formed by Characters (Easy)"
   ]
  },
  {
   "cell_type": "markdown",
   "metadata": {},
   "source": [
    "<div><p>You are given an array of strings&nbsp;<code>words</code>&nbsp;and a string&nbsp;<code>chars</code>.</p>\n",
    "\n",
    "<p>A string is <em>good</em>&nbsp;if&nbsp;it can be formed by&nbsp;characters from <code>chars</code>&nbsp;(each character&nbsp;can only be used once).</p>\n",
    "\n",
    "<p>Return the sum of lengths of all good strings in <code>words</code>.</p>\n",
    "\n",
    "<p>&nbsp;</p>\n",
    "\n",
    "<p><strong>Example 1:</strong></p>\n",
    "\n",
    "<pre><strong>Input: </strong>words = <span id=\"example-input-1-1\">[\"cat\",\"bt\",\"hat\",\"tree\"]</span>, chars = <span id=\"example-input-1-2\">\"atach\"</span>\n",
    "<strong>Output: </strong><span id=\"example-output-1\">6</span>\n",
    "<strong>Explanation: </strong>\n",
    "The strings that can be formed are \"cat\" and \"hat\" so the answer is 3 + 3 = 6.\n",
    "</pre>\n",
    "\n",
    "<p><strong>Example 2:</strong></p>\n",
    "\n",
    "<pre><strong>Input: </strong>words = <span id=\"example-input-2-1\">[\"hello\",\"world\",\"leetcode\"]</span>, chars = <span id=\"example-input-2-2\">\"welldonehoneyr\"</span>\n",
    "<strong>Output: </strong><span id=\"example-output-2\">10</span>\n",
    "<strong>Explanation: </strong>\n",
    "The strings that can be formed are \"hello\" and \"world\" so the answer is 5 + 5 = 10.\n",
    "</pre>\n",
    "\n",
    "<p>&nbsp;</p>\n",
    "\n",
    "<p><span><strong>Note:</strong></span></p>\n",
    "\n",
    "<ol>\n",
    "\t<li><code>1 &lt;= words.length &lt;= 1000</code></li>\n",
    "\t<li><code>1 &lt;= words[i].length, chars.length&nbsp;&lt;= 100</code></li>\n",
    "\t<li>All strings contain lowercase English letters only.</li>\n",
    "</ol></div>"
   ]
  },
  {
   "cell_type": "markdown",
   "metadata": {},
   "source": [
    "## Option 1\n",
    "<p>\n",
    "Time complexity = O(n)\n",
    "<br>\n",
    "Space complexity = O(n)"
   ]
  },
  {
   "cell_type": "code",
   "execution_count": 58,
   "metadata": {},
   "outputs": [
    {
     "data": {
      "text/plain": [
       "10"
      ]
     },
     "execution_count": 58,
     "metadata": {},
     "output_type": "execute_result"
    }
   ],
   "source": [
    "import collections\n",
    "class Solution:\n",
    "    def countCharacters(self, words: [str], chars: str) -> int:\n",
    "        total = 0\n",
    "        d = collections.Counter(chars)\n",
    "        for word in words:\n",
    "            count, dc = 0, d.copy()\n",
    "            for ch in word:\n",
    "                if ch in d and dc[ch] > 0:\n",
    "                    dc[ch] -= 1\n",
    "                    count += 1\n",
    "                else:\n",
    "                    break\n",
    "            if len(word) == count : total += count\n",
    "        return total\n",
    "\n",
    "Solution().countCharacters([\"hello\",\"world\",\"leetcode\"], \"welldonehoneyr\")"
   ]
  },
  {
   "cell_type": "markdown",
   "metadata": {},
   "source": [
    "#### Result:  156ms (64.88%)"
   ]
  }
 ],
 "metadata": {
  "kernelspec": {
   "display_name": "Python 3",
   "language": "python",
   "name": "python3"
  },
  "language_info": {
   "codemirror_mode": {
    "name": "ipython",
    "version": 3
   },
   "file_extension": ".py",
   "mimetype": "text/x-python",
   "name": "python",
   "nbconvert_exporter": "python",
   "pygments_lexer": "ipython3",
   "version": "3.7.4"
  }
 },
 "nbformat": 4,
 "nbformat_minor": 2
}
