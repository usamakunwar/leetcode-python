{
 "cells": [
  {
   "cell_type": "markdown",
   "metadata": {},
   "source": [
    "# 985. Sum of Even Numbers After Queries (Easy)"
   ]
  },
  {
   "cell_type": "markdown",
   "metadata": {},
   "source": [
    "<div><p>We have an array <code>A</code> of integers, and an array <code>queries</code>&nbsp;of queries.</p>\n",
    "\n",
    "<p>For the <code>i</code>-th&nbsp;query <code>val =&nbsp;queries[i][0], index&nbsp;= queries[i][1]</code>, we add <font face=\"monospace\">val</font>&nbsp;to <code>A[index]</code>.&nbsp; Then, the answer to the <code>i</code>-th query is the sum of the even values of <code>A</code>.</p>\n",
    "\n",
    "<p><em>(Here, the given <code>index = queries[i][1]</code> is a 0-based index, and each query permanently modifies the array <code>A</code>.)</em></p>\n",
    "\n",
    "<p>Return the answer to all queries.&nbsp; Your <code>answer</code> array should have&nbsp;<code>answer[i]</code>&nbsp;as&nbsp;the answer to the <code>i</code>-th query.</p>\n",
    "\n",
    "<p>&nbsp;</p>\n",
    "\n",
    "<p><strong>Example 1:</strong></p>\n",
    "\n",
    "<pre><strong>Input: </strong>A = <span id=\"example-input-1-1\">[1,2,3,4]</span>, queries = <span id=\"example-input-1-2\">[[1,0],[-3,1],[-4,0],[2,3]]</span>\n",
    "<strong>Output: </strong><span id=\"example-output-1\">[8,6,2,4]</span>\n",
    "<strong>Explanation: </strong>\n",
    "At the beginning, the array is [1,2,3,4].\n",
    "After adding 1 to A[0], the array is [2,2,3,4], and the sum of even values is 2 + 2 + 4 = 8.\n",
    "After adding -3 to A[1], the array is [2,-1,3,4], and the sum of even values is 2 + 4 = 6.\n",
    "After adding -4 to A[0], the array is [-2,-1,3,4], and the sum of even values is -2 + 4 = 2.\n",
    "After adding 2 to A[3], the array is [-2,-1,3,6], and the sum of even values is -2 + 6 = 4.\n",
    "</pre>\n",
    "\n",
    "<p>&nbsp;</p>\n",
    "\n",
    "<p><strong>Note:</strong></p>\n",
    "\n",
    "<ol>\n",
    "\t<li><code>1 &lt;= A.length &lt;= 10000</code></li>\n",
    "\t<li><code>-10000 &lt;= A[i] &lt;= 10000</code></li>\n",
    "\t<li><code>1 &lt;= queries.length &lt;= 10000</code></li>\n",
    "\t<li><code>-10000 &lt;= queries[i][0] &lt;= 10000</code></li>\n",
    "\t<li><code>0 &lt;= queries[i][1] &lt; A.length</code></li>\n",
    "</ol>\n",
    "</div>"
   ]
  },
  {
   "cell_type": "markdown",
   "metadata": {},
   "source": [
    "## Option 1\n",
    "<p>\n",
    "  <p>\n",
    "      <p>\n",
    "Time complexity: O(max(A,q))\n",
    "<br>\n",
    "Space complexity: O(q)"
   ]
  },
  {
   "cell_type": "code",
   "execution_count": null,
   "metadata": {
    "scrolled": false
   },
   "outputs": [],
   "source": [
    "class Solution(object):\n",
    "    def sumEvenAfterQueries(self, A, queries):\n",
    "        curr = sum(a for a in A if not a%2)\n",
    "        print(curr)\n",
    "        res = []\n",
    "        for v,i in queries:\n",
    "            curr -= A[i] if not A[i]%2 else 0\n",
    "            A[i] += v\n",
    "            curr += A[i] if not A[i]%2 else 0\n",
    "            res.append(curr)\n",
    "        return res\n",
    "        \n",
    "Solution().sumEvenAfterQueries([1,2,3,4,0], [[1,4],[-3,1],[-4,0],[2,3]])\n",
    "        "
   ]
  },
  {
   "cell_type": "markdown",
   "metadata": {},
   "source": [
    "#### Result: 472ms (82.29%)"
   ]
  }
 ],
 "metadata": {
  "kernelspec": {
   "display_name": "Python 2",
   "language": "python",
   "name": "python2"
  },
  "language_info": {
   "codemirror_mode": {
    "name": "ipython",
    "version": 2
   },
   "file_extension": ".py",
   "mimetype": "text/x-python",
   "name": "python",
   "nbconvert_exporter": "python",
   "pygments_lexer": "ipython2",
   "version": "2.7.16"
  }
 },
 "nbformat": 4,
 "nbformat_minor": 2
}
