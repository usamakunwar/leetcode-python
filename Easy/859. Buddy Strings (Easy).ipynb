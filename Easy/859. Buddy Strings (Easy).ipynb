{
 "cells": [
  {
   "cell_type": "markdown",
   "metadata": {},
   "source": [
    "# 859. Buddy Strings (Easy)"
   ]
  },
  {
   "cell_type": "markdown",
   "metadata": {},
   "source": [
    "<div><p>Given two strings <code>A</code> and <code>B</code>&nbsp;of lowercase letters, return <code>true</code> if and only if we&nbsp;can swap two letters in <code>A</code> so that the result equals <code>B</code>.</p>\n",
    "\n",
    "<p>&nbsp;</p>\n",
    "\n",
    "<p><strong>Example 1:</strong></p>\n",
    "\n",
    "<div>\n",
    "<pre><strong>Input: </strong>A = <span id=\"example-input-1-1\">\"ab\"</span>, B = <span id=\"example-input-1-2\">\"ba\"</span>\n",
    "<strong>Output: </strong><span id=\"example-output-1\">true</span>\n",
    "</pre>\n",
    "\n",
    "<div>\n",
    "<p><strong>Example 2:</strong></p>\n",
    "\n",
    "<pre><strong>Input: </strong>A = <span id=\"example-input-2-1\">\"ab\"</span>, B = <span id=\"example-input-2-2\">\"ab\"</span>\n",
    "<strong>Output: </strong><span id=\"example-output-2\">false</span>\n",
    "</pre>\n",
    "\n",
    "<div>\n",
    "<p><strong>Example 3:</strong></p>\n",
    "\n",
    "<pre><strong>Input: </strong>A = <span id=\"example-input-3-1\">\"aa\"</span>, B = <span id=\"example-input-3-2\">\"aa\"</span>\n",
    "<strong>Output: </strong><span id=\"example-output-3\">true</span>\n",
    "</pre>\n",
    "\n",
    "<div>\n",
    "<p><strong>Example 4:</strong></p>\n",
    "\n",
    "<pre><strong>Input: </strong>A = <span id=\"example-input-4-1\">\"aaaaaaabc\"</span>, B = <span id=\"example-input-4-2\">\"aaaaaaacb\"</span>\n",
    "<strong>Output: </strong><span id=\"example-output-4\">true</span>\n",
    "</pre>\n",
    "\n",
    "<div>\n",
    "<p><strong>Example 5:</strong></p>\n",
    "\n",
    "<pre><strong>Input: </strong>A = <span id=\"example-input-5-1\">\"\"</span>, B = <span id=\"example-input-5-2\">\"aa\"</span>\n",
    "<strong>Output: </strong><span id=\"example-output-5\">false</span>\n",
    "</pre>\n",
    "</div>\n",
    "</div>\n",
    "</div>\n",
    "</div>\n",
    "</div>\n",
    "\n",
    "<p>&nbsp;</p>\n",
    "<p><strong>Constraints:</strong></p>\n",
    "\n",
    "<ul>\n",
    "\t<li><code>0 &lt;= A.length &lt;= 20000</code></li>\n",
    "\t<li><code>0 &lt;= B.length &lt;= 20000</code></li>\n",
    "\t<li><code>A</code> and&nbsp;<code>B</code> consist only of lowercase letters.</li>\n",
    "</ul>\n",
    "</div>"
   ]
  },
  {
   "cell_type": "markdown",
   "metadata": {},
   "source": [
    "## Option 1\n",
    "<p>\n",
    "    <p>\n",
    "Time complexity: O(n)\n",
    "<br>\n",
    "Space complexity: O(1) "
   ]
  },
  {
   "cell_type": "code",
   "execution_count": null,
   "metadata": {
    "scrolled": true
   },
   "outputs": [],
   "source": [
    "import collections\n",
    "class Solution(object):\n",
    "    def buddyStrings(self, A, B):\n",
    "        if len(A) != len(B): return False\n",
    "        if A == B: return len(set(A)) != len(A)\n",
    "        \n",
    "        a1, a2 = None, None\n",
    "        for i in range(len(A)):\n",
    "            if A[i] == B[i]: continue\n",
    "            if a1 == None: a1 = i\n",
    "            elif a2 == None: a2 = i\n",
    "            else: return False\n",
    "                \n",
    "        if a1 == None or a2 == None: return False\n",
    "        \n",
    "        return A[a1] == B[a2] and A[a2] == B[a1] \n",
    "        \n",
    "        \n",
    "Solution().buddyStrings(\"aaaaaaabc\", \"aaaaaacab\")\n",
    "        "
   ]
  },
  {
   "cell_type": "markdown",
   "metadata": {},
   "source": [
    "#### Result: 24ms (60.67%)\n"
   ]
  }
 ],
 "metadata": {
  "kernelspec": {
   "display_name": "Python 2",
   "language": "python",
   "name": "python2"
  },
  "language_info": {
   "codemirror_mode": {
    "name": "ipython",
    "version": 2
   },
   "file_extension": ".py",
   "mimetype": "text/x-python",
   "name": "python",
   "nbconvert_exporter": "python",
   "pygments_lexer": "ipython2",
   "version": "2.7.16"
  }
 },
 "nbformat": 4,
 "nbformat_minor": 2
}
