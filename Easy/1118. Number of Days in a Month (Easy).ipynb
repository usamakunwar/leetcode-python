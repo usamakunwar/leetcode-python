{
 "cells": [
  {
   "cell_type": "markdown",
   "metadata": {},
   "source": [
    "# 1118. Number of Days in a Month (Easy)"
   ]
  },
  {
   "cell_type": "markdown",
   "metadata": {},
   "source": [
    "<div><p>Given a year <code>Y</code> and a month <code>M</code>, return how many days there are in that month.</p>\n",
    "\n",
    "<p>&nbsp;</p>\n",
    "\n",
    "<p><strong>Example 1:</strong></p>\n",
    "\n",
    "<pre><strong>Input: </strong>Y = <span id=\"example-input-1-1\">1992</span>, M = <span id=\"example-input-1-2\">7</span>\n",
    "<strong>Output: </strong><span id=\"example-output-1\">31</span>\n",
    "</pre>\n",
    "\n",
    "<p><strong>Example 2:</strong></p>\n",
    "\n",
    "<pre><strong>Input: </strong>Y = <span id=\"example-input-2-1\">2000</span>, M = <span id=\"example-input-2-2\">2</span>\n",
    "<strong>Output: </strong><span id=\"example-output-2\">29</span>\n",
    "</pre>\n",
    "\n",
    "<p><strong>Example 3:</strong></p>\n",
    "\n",
    "<pre><strong>Input: </strong>Y = <span id=\"example-input-3-1\">1900</span>, M = <span id=\"example-input-3-2\">2</span>\n",
    "<strong>Output: </strong><span id=\"example-output-3\">28</span>\n",
    "</pre>\n",
    "\n",
    "<p>&nbsp;</p>\n",
    "\n",
    "<p><strong>Note:</strong></p>\n",
    "\n",
    "<ol>\n",
    "\t<li><code>1583 &lt;= Y &lt;= 2100</code></li>\n",
    "\t<li><code>1 &lt;= M &lt;= 12</code></li>\n",
    "</ol>\n",
    "</div>"
   ]
  },
  {
   "cell_type": "markdown",
   "metadata": {},
   "source": [
    "## Option 1\n",
    " \n",
    " <p>\n",
    "\n",
    "Time complexity: O(1)\n",
    "<br>\n",
    "Space complexity: O(1) "
   ]
  },
  {
   "cell_type": "code",
   "execution_count": null,
   "metadata": {
    "scrolled": true
   },
   "outputs": [],
   "source": [
    "class Solution(object):\n",
    "    def numberOfDays(self, Y, M):\n",
    "        if M == 2:\n",
    "            #Leap year check\n",
    "            if Y%4:\n",
    "                return 28\n",
    "            elif Y%100:\n",
    "                return 29\n",
    "            elif Y%400:\n",
    "                return 28\n",
    "            else:\n",
    "                return 29\n",
    "        else:\n",
    "            return 31 - (1 if M > 7 else 0) if M%2 else 30 + (1 if M > 7 else 0)\n",
    "        \n",
    "Solution().numberOfDays(1992, 4)\n",
    "        "
   ]
  },
  {
   "cell_type": "markdown",
   "metadata": {},
   "source": [
    "#### Result: 8ms (100.00%)\n"
   ]
  }
 ],
 "metadata": {
  "kernelspec": {
   "display_name": "Python 2",
   "language": "python",
   "name": "python2"
  },
  "language_info": {
   "codemirror_mode": {
    "name": "ipython",
    "version": 2
   },
   "file_extension": ".py",
   "mimetype": "text/x-python",
   "name": "python",
   "nbconvert_exporter": "python",
   "pygments_lexer": "ipython2",
   "version": "2.7.16"
  }
 },
 "nbformat": 4,
 "nbformat_minor": 2
}
