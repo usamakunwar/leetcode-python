{
 "cells": [
  {
   "cell_type": "markdown",
   "metadata": {},
   "source": [
    "# 226. Invert Binary Tree (Easy)"
   ]
  },
  {
   "cell_type": "markdown",
   "metadata": {},
   "source": [
    "<div><p>Invert a binary tree.</p>\n",
    "\n",
    "<p><strong>Example:</strong></p>\n",
    "\n",
    "<p>Input:</p>\n",
    "\n",
    "<pre>     4\n",
    "   /   \\\n",
    "  2     7\n",
    " / \\   / \\\n",
    "1   3 6   9</pre>\n",
    "\n",
    "<p>Output:</p>\n",
    "\n",
    "<pre>     4\n",
    "   /   \\\n",
    "  7     2\n",
    " / \\   / \\\n",
    "9   6 3   1</pre>\n",
    "\n",
    "<p><strong>Trivia:</strong><br>\n",
    "This problem was inspired by <a href=\"https://twitter.com/mxcl/status/608682016205344768\" target=\"_blank\">this original tweet</a> by <a href=\"https://twitter.com/mxcl\" target=\"_blank\">Max Howell</a>:</p>\n",
    "\n",
    "<blockquote>Google: 90% of our engineers use the software you wrote (Homebrew), but you can’t invert a binary tree on a whiteboard so f*** off.</blockquote>\n",
    "</div>"
   ]
  },
  {
   "cell_type": "markdown",
   "metadata": {},
   "source": [
    "## Option 1\n",
    "\n",
    "Recursion\n",
    "<p>\n",
    "Time complexity = O(n)\n",
    "<br>\n",
    "Space complexity = O(h)"
   ]
  },
  {
   "cell_type": "code",
   "execution_count": null,
   "metadata": {
    "scrolled": false
   },
   "outputs": [],
   "source": [
    "class Solution(object):\n",
    "    def invertTree(self, root):\n",
    "\n",
    "        def search(node):\n",
    "            if not node: return None\n",
    "            left, right = search(node.left), search(node.right)\n",
    "            node.left, node.right = right, left\n",
    "            return node\n",
    "        \n",
    "        return search(root)\n",
    "        "
   ]
  },
  {
   "cell_type": "markdown",
   "metadata": {},
   "source": [
    "#### Result:  12ms (97.83%)"
   ]
  }
 ],
 "metadata": {
  "kernelspec": {
   "display_name": "Python 2",
   "language": "python",
   "name": "python2"
  },
  "language_info": {
   "codemirror_mode": {
    "name": "ipython",
    "version": 2
   },
   "file_extension": ".py",
   "mimetype": "text/x-python",
   "name": "python",
   "nbconvert_exporter": "python",
   "pygments_lexer": "ipython2",
   "version": "2.7.16"
  }
 },
 "nbformat": 4,
 "nbformat_minor": 2
}
