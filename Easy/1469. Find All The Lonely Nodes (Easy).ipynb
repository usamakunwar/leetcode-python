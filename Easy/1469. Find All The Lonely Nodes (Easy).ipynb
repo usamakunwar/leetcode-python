{
 "cells": [
  {
   "cell_type": "markdown",
   "metadata": {},
   "source": [
    "# 1469. Find All The Lonely Nodes (Easy)"
   ]
  },
  {
   "cell_type": "markdown",
   "metadata": {},
   "source": [
    "<div><p>In a binary tree, a <strong>lonely</strong> node is a node that is the only child of its parent node. The root of the tree is not lonely because it does not have a parent node.</p>\n",
    "\n",
    "<p>Given the <code>root</code> of a binary tree, return <em>an array containing the values of all lonely nodes</em> in the tree. Return the list <strong>in any order</strong>.</p>\n",
    "\n",
    "<p>&nbsp;</p>\n",
    "<p><strong>Example 1:</strong></p>\n",
    "<img alt=\"\" src=\"https://assets.leetcode.com/uploads/2020/06/03/e1.png\" style=\"width: 203px; height: 202px;\">\n",
    "<pre><strong>Input:</strong> root = [1,2,3,null,4]\n",
    "<strong>Output:</strong> [4]\n",
    "<strong>Explanation:</strong> Light blue node is the only lonely node.\n",
    "Node 1 is the root and is not lonely.\n",
    "Nodes 2 and 3 have the same parent and are not lonely.\n",
    "</pre>\n",
    "\n",
    "<p><strong>Example 2:</strong></p>\n",
    "<img alt=\"\" src=\"https://assets.leetcode.com/uploads/2020/06/03/e2.png\" style=\"width: 442px; height: 282px;\">\n",
    "<pre><strong>Input:</strong> root = [7,1,4,6,null,5,3,null,null,null,null,null,2]\n",
    "<strong>Output:</strong> [6,2]\n",
    "<strong>Explanation:</strong> Light blue nodes are lonely nodes.\n",
    "Please remember that order doesn't matter, [2,6] is also an acceptable answer.\n",
    "</pre>\n",
    "\n",
    "<p><strong>Example 3:</strong></p>\n",
    "<strong><img alt=\"\" src=\"https://assets.leetcode.com/uploads/2020/06/03/tree.png\" style=\"width: 363px; height: 202px;\"> </strong>\n",
    "\n",
    "<pre><strong>\n",
    "Input:</strong> root = [11,99,88,77,null,null,66,55,null,null,44,33,null,null,22]\n",
    "<strong>Output:</strong> [77,55,33,66,44,22]\n",
    "<strong>Explanation:</strong> Nodes 99 and 88 share the same parent. Node 11 is the root.\n",
    "All other nodes are lonely.\n",
    "</pre>\n",
    "\n",
    "<p><strong>Example 4:</strong></p>\n",
    "\n",
    "<pre><strong>Input:</strong> root = [197]\n",
    "<strong>Output:</strong> []\n",
    "</pre>\n",
    "\n",
    "<p><strong>Example 5:</strong></p>\n",
    "\n",
    "<pre><strong>Input:</strong> root = [31,null,78,null,28]\n",
    "<strong>Output:</strong> [78,28]\n",
    "</pre>\n",
    "\n",
    "<p>&nbsp;</p>\n",
    "<p><strong>Constraints:</strong></p>\n",
    "\n",
    "<ul>\n",
    "\t<li>The number of nodes in the&nbsp;<code>tree</code>&nbsp;is in the range&nbsp;<code>[1, 1000].</code></li>\n",
    "\t<li>Each node's value is between&nbsp;<code>[1, 10^6]</code>.</li>\n",
    "</ul>\n",
    "</div>"
   ]
  },
  {
   "cell_type": "markdown",
   "metadata": {},
   "source": [
    "## Option 1\n",
    " \n",
    " <p>\n",
    "\n",
    "<p>\n",
    "Time complexity: O(n)\n",
    "<br>\n",
    "Space complexity: O(n) "
   ]
  },
  {
   "cell_type": "code",
   "execution_count": null,
   "metadata": {
    "scrolled": true
   },
   "outputs": [],
   "source": [
    "class Solution(object):\n",
    "    def getLonelyNodes(self, root):\n",
    "        self.res = []\n",
    "        \n",
    "        def search(node):\n",
    "            if (not node.left and node.right):\n",
    "                self.res.append(node.right.val)\n",
    "            if not node.right and node.left:\n",
    "                self.res.append(node.left.val)\n",
    "            \n",
    "            if node.left: search(node.left)\n",
    "            if node.right: search(node.right)\n",
    "            \n",
    "        search(root)\n",
    "        \n",
    "        return self.res\n"
   ]
  },
  {
   "cell_type": "markdown",
   "metadata": {},
   "source": [
    "#### Result: 60ms (32.48%)\n"
   ]
  }
 ],
 "metadata": {
  "kernelspec": {
   "display_name": "Python 2",
   "language": "python",
   "name": "python2"
  },
  "language_info": {
   "codemirror_mode": {
    "name": "ipython",
    "version": 2
   },
   "file_extension": ".py",
   "mimetype": "text/x-python",
   "name": "python",
   "nbconvert_exporter": "python",
   "pygments_lexer": "ipython2",
   "version": "2.7.16"
  }
 },
 "nbformat": 4,
 "nbformat_minor": 2
}
