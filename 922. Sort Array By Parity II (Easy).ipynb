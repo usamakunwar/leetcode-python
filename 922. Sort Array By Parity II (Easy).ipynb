{
 "cells": [
  {
   "cell_type": "markdown",
   "metadata": {},
   "source": [
    "# 922. Sort Array By Parity II (Easy)"
   ]
  },
  {
   "cell_type": "markdown",
   "metadata": {},
   "source": [
    "<div><p>Given an array <code>A</code>&nbsp;of non-negative integers, half of the integers in A are odd, and half of the integers are even.</p>\n",
    "\n",
    "<p>Sort the array so that whenever <code>A[i]</code> is odd, <code>i</code> is odd; and whenever <code>A[i]</code> is even, <code>i</code> is even.</p>\n",
    "\n",
    "<p>You may return any answer array that satisfies this condition.</p>\n",
    "\n",
    "<p>&nbsp;</p>\n",
    "\n",
    "<p><strong>Example 1:</strong></p>\n",
    "\n",
    "<pre><strong>Input: </strong><span id=\"example-input-1-1\">[4,2,5,7]</span>\n",
    "<strong>Output: </strong><span id=\"example-output-1\">[4,5,2,7]</span>\n",
    "<strong>Explanation: </strong>[4,7,2,5], [2,5,4,7], [2,7,4,5] would also have been accepted.\n",
    "</pre>\n",
    "\n",
    "<p>&nbsp;</p>\n",
    "\n",
    "<p><strong>Note:</strong></p>\n",
    "\n",
    "<ol>\n",
    "\t<li><code>2 &lt;= A.length &lt;= 20000</code></li>\n",
    "\t<li><code>A.length % 2 == 0</code></li>\n",
    "\t<li><code>0 &lt;= A[i] &lt;= 1000</code></li>\n",
    "</ol>\n",
    "\n",
    "<div>\n",
    "<p>&nbsp;</p>\n",
    "</div></div>"
   ]
  },
  {
   "cell_type": "markdown",
   "metadata": {},
   "source": [
    "## Option 1\n",
    "<p>\n",
    "Time complexity: O(n) \n",
    "<br>\n",
    "Space complexity: O(1)"
   ]
  },
  {
   "cell_type": "code",
   "execution_count": null,
   "metadata": {
    "scrolled": true
   },
   "outputs": [],
   "source": [
    "class Solution(object):\n",
    "    def sortArrayByParityII(self, A):\n",
    "        p1, p2 = 0, 1\n",
    "        while p1 < len(A) and p2 < len(A):\n",
    "            if A[p1]%2 and not A[p2]%2:\n",
    "                A[p1],A[p2] = A[p2],A[p1]\n",
    "            if not A[p1]%2: p1 += 2\n",
    "            if A[p2]%2: p2 += 2\n",
    "        return A\n",
    "            \n",
    "Solution().sortArrayByParityII([7,2,5,4])    \n"
   ]
  },
  {
   "cell_type": "markdown",
   "metadata": {},
   "source": [
    "#### Result: 192ms (79.38%)"
   ]
  }
 ],
 "metadata": {
  "kernelspec": {
   "display_name": "Python 2",
   "language": "python",
   "name": "python2"
  },
  "language_info": {
   "codemirror_mode": {
    "name": "ipython",
    "version": 2
   },
   "file_extension": ".py",
   "mimetype": "text/x-python",
   "name": "python",
   "nbconvert_exporter": "python",
   "pygments_lexer": "ipython2",
   "version": "2.7.16"
  }
 },
 "nbformat": 4,
 "nbformat_minor": 2
}
