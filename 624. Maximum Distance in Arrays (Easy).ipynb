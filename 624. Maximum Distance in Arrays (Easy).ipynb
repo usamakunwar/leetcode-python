{
 "cells": [
  {
   "cell_type": "markdown",
   "metadata": {},
   "source": [
    "# 624. Maximum Distance in Arrays (Easy)\n"
   ]
  },
  {
   "cell_type": "markdown",
   "metadata": {},
   "source": [
    "<div><p>\n",
    "Given <code>m</code> arrays, and each array is sorted in ascending order. Now you can pick up two integers from two different arrays (each array picks one) and calculate the distance. We define the distance between two integers <code>a</code> and <code>b</code> to be their absolute difference <code>|a-b|</code>. Your task is to find the maximum distance.\n",
    "</p>\n",
    "\n",
    "<p><b>Example 1:</b><br>\n",
    "</p><pre><b>Input:</b> \n",
    "[[1,2,3],\n",
    " [4,5],\n",
    " [1,2,3]]\n",
    "<b>Output:</b> 4\n",
    "<b>Explanation:</b> \n",
    "One way to reach the maximum distance 4 is to pick 1 in the first or third array and pick 5 in the second array.\n",
    "</pre>\n",
    "<p></p>\n",
    "\t\n",
    "<p><b>Note:</b><br>\n",
    "</p><ol>\n",
    "<li>Each given array will have at least 1 number. There will be at least two non-empty arrays.</li>\n",
    "<li>The total number of the integers in <b>all</b> the <code>m</code> arrays will be in the range of [2, 10000].</li>\n",
    "<li>The integers in the <code>m</code> arrays will be in the range of [-10000, 10000].</li>\n",
    "</ol>\n",
    "<p></p></div>"
   ]
  },
  {
   "cell_type": "markdown",
   "metadata": {},
   "source": [
    "## Option 1\n",
    "<p>\n",
    "It may seem like its either an O(n^2) problem or O(nlogn). As once we have the min and max of every array, we need the difference between all of them. However if we keep a min and max, and cross them it can be done in O(n)\n",
    "    <p><p>\n",
    "Time complexity = O(n)\n",
    "<br>\n",
    "Space complexity = O(1)"
   ]
  },
  {
   "cell_type": "code",
   "execution_count": null,
   "metadata": {},
   "outputs": [],
   "source": [
    "import collections\n",
    "class Solution(object):\n",
    "    def maxDistance(self, arrays):\n",
    "        res = float('-inf')\n",
    "        min_curr, max_curr = arrays[0][0], arrays[0][-1]\n",
    "        for i in range(1,len(arrays)):\n",
    "            res = max(res, abs(arrays[i][0] - max_curr),abs(arrays[i][-1] - min_curr))\n",
    "            min_curr, max_curr = min(min_curr, arrays[i][0]), max(max_curr, arrays[i][-1])\n",
    "        return res\n",
    "Solution().maxDistance([[44],\n",
    "                        [42]])"
   ]
  },
  {
   "cell_type": "markdown",
   "metadata": {},
   "source": [
    "#### Result: 132ms (76.92%)"
   ]
  }
 ],
 "metadata": {
  "kernelspec": {
   "display_name": "Python 2",
   "language": "python",
   "name": "python2"
  },
  "language_info": {
   "codemirror_mode": {
    "name": "ipython",
    "version": 2
   },
   "file_extension": ".py",
   "mimetype": "text/x-python",
   "name": "python",
   "nbconvert_exporter": "python",
   "pygments_lexer": "ipython2",
   "version": "2.7.16"
  }
 },
 "nbformat": 4,
 "nbformat_minor": 2
}
