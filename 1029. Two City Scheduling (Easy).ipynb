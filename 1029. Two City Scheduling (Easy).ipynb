{
 "cells": [
  {
   "cell_type": "markdown",
   "metadata": {},
   "source": [
    "# 1029. Two City Scheduling (Easy)"
   ]
  },
  {
   "cell_type": "markdown",
   "metadata": {},
   "source": [
    "<div><p>There are <code>2N</code> people a company is planning to interview. The cost of flying the <code>i</code>-th person to city <code>A</code> is <code>costs[i][0]</code>, and the cost of flying the <code>i</code>-th person to city <code>B</code> is <code>costs[i][1]</code>.</p>\n",
    "\n",
    "<p>Return the minimum cost to fly every person to a city such that exactly <code>N</code> people arrive in each city.</p>\n",
    "\n",
    "<p>&nbsp;</p>\n",
    "\n",
    "<p><strong>Example 1:</strong></p>\n",
    "\n",
    "<pre><strong>Input: </strong><span id=\"example-input-1-1\">[[10,20],[30,200],[400,50],[30,20]]</span>\n",
    "<strong>Output: </strong><span id=\"example-output-1\">110</span>\n",
    "<strong>Explanation: </strong>\n",
    "The first person goes to city A for a cost of 10.\n",
    "The second person goes to city A for a cost of 30.\n",
    "The third person goes to city B for a cost of 50.\n",
    "The fourth person goes to city B for a cost of 20.\n",
    "\n",
    "The total minimum cost is 10 + 30 + 50 + 20 = 110 to have half the people interviewing in each city.\n",
    "</pre>\n",
    "\n",
    "<p>&nbsp;</p>\n",
    "\n",
    "<p><strong>Note:</strong></p>\n",
    "\n",
    "<ol>\n",
    "\t<li><code>1 &lt;= costs.length &lt;= 100</code></li>\n",
    "\t<li>It is guaranteed that <code>costs.length</code> is even.</li>\n",
    "\t<li><code>1 &lt;= costs[i][0], costs[i][1] &lt;= 1000</code></li>\n",
    "</ol></div>"
   ]
  },
  {
   "cell_type": "markdown",
   "metadata": {},
   "source": [
    "## Option 1\n",
    "<p>\n",
    "<p>\n",
    "Time complexity = O(nlogn)\n",
    "<br>\n",
    "Space complexity = O(n)"
   ]
  },
  {
   "cell_type": "code",
   "execution_count": null,
   "metadata": {
    "scrolled": true
   },
   "outputs": [],
   "source": [
    "class Solution(object):\n",
    "    def twoCitySchedCost(self, costs):\n",
    "        half, total, A, B = (len(costs)/2)-1, 0, 0, 0\n",
    "        diffs = sorted([(abs(a-b),i) for i,(a,b) in enumerate(costs)], reverse=True)\n",
    "        for i,(d,j) in enumerate(diffs):\n",
    "            if A <= half and B <= half:\n",
    "                total += min(costs[j])\n",
    "            else:\n",
    "                total += costs[j][0 if A <= half else 1]\n",
    "            A += 1 if costs[j][0] < costs[j][1] else 0\n",
    "            B += 1 if costs[j][0] > costs[j][1] else 0\n",
    "        return total    \n",
    "Solution().twoCitySchedCost([[259,770],[448,54],[926,667],[184,139],[840,118],[577,469]])        "
   ]
  },
  {
   "cell_type": "markdown",
   "metadata": {},
   "source": [
    "#### Result: 28ms (53.24%)"
   ]
  },
  {
   "cell_type": "markdown",
   "metadata": {},
   "source": [
    "## Option 2\n",
    "<p>\n",
    "    <li> Shorter code\n",
    "    <li> ABS is not needed, we can compare to one value only\n",
    "<p>\n",
    "Time complexity = O(nlogn)\n",
    "<br>\n",
    "Space complexity = O(n)"
   ]
  },
  {
   "cell_type": "code",
   "execution_count": null,
   "metadata": {},
   "outputs": [],
   "source": [
    "class Solution(object):\n",
    "    def twoCitySchedCost(self, costs):\n",
    "        total,half = 0,len(costs)//2\n",
    "        costs.sort(key=lambda x: x[0] - x[1])\n",
    "        for i in range(half):\n",
    "            total += costs[i][0] + costs[i+half][1]\n",
    "        return total\n",
    "            \n",
    "        \n",
    "Solution().twoCitySchedCost([[259,770],[448,54],[926,667],[184,139],[840,118],[577,469]])        "
   ]
  },
  {
   "cell_type": "markdown",
   "metadata": {},
   "source": [
    "#### Result: 28ms (53.24%)"
   ]
  }
 ],
 "metadata": {
  "kernelspec": {
   "display_name": "Python 2",
   "language": "python",
   "name": "python2"
  },
  "language_info": {
   "codemirror_mode": {
    "name": "ipython",
    "version": 2
   },
   "file_extension": ".py",
   "mimetype": "text/x-python",
   "name": "python",
   "nbconvert_exporter": "python",
   "pygments_lexer": "ipython2",
   "version": "2.7.16"
  }
 },
 "nbformat": 4,
 "nbformat_minor": 2
}
