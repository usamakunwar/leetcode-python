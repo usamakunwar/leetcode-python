{
 "cells": [
  {
   "cell_type": "markdown",
   "metadata": {},
   "source": [
    "# 413. Arithmetic Slices (Medium)"
   ]
  },
  {
   "cell_type": "markdown",
   "metadata": {},
   "source": [
    "<div><p>A sequence of number is called arithmetic if it consists of at least three elements and if the difference between any two consecutive elements is the same.</p>\n",
    "\n",
    "<p>For example, these are arithmetic sequence:</p>\n",
    "<pre>1, 3, 5, 7, 9\n",
    "7, 7, 7, 7\n",
    "3, -1, -5, -9</pre>\n",
    "\n",
    "<p>The following sequence is not arithmetic.</p> <pre>1, 1, 2, 5, 7</pre> \n",
    "<br>\n",
    "\n",
    "<p>A zero-indexed array A consisting of N numbers is given. A slice of that array is any pair of integers (P, Q) such that 0 &lt;= P &lt; Q &lt; N.</p>\n",
    "\n",
    "<p>A slice (P, Q) of array A is called arithmetic if the sequence:<br>\n",
    "    A[P], A[p + 1], ..., A[Q - 1], A[Q] is arithmetic. In particular, this means that P + 1 &lt; Q.</p>\n",
    "\n",
    "<p>The function should return the number of arithmetic slices in the array A. </p>\n",
    "<br>\n",
    "\n",
    "<p><b>Example:</b>\n",
    "</p><pre>A = [1, 2, 3, 4]\n",
    "\n",
    "return: 3, for 3 arithmetic slices in A: [1, 2, 3], [2, 3, 4] and [1, 2, 3, 4] itself.\n",
    "</pre></div>"
   ]
  },
  {
   "cell_type": "markdown",
   "metadata": {},
   "source": [
    "## Option 1\n",
    "\n",
    "Time complexity: O(n)\n",
    "<br>\n",
    "Space complexity: O(1)"
   ]
  },
  {
   "cell_type": "code",
   "execution_count": null,
   "metadata": {},
   "outputs": [],
   "source": [
    "import collections\n",
    "class Solution(object):\n",
    "    def numberOfArithmeticSlices(self, A):\n",
    "        res = 0\n",
    "        curr,curr_diff = 2, A[1]-A[0]\n",
    "        for i in range(2,len(A)):\n",
    "            curr += 1\n",
    "            if curr >= 3:\n",
    "                if A[i]-A[i-1] == curr_diff:\n",
    "                    res += curr-2\n",
    "                else:\n",
    "                    curr,curr_diff = 2,A[i]-A[i-1]\n",
    "        return res\n",
    "        \n",
    "\n",
    "Solution().numberOfArithmeticSlices([1,3,5,7,19,11])"
   ]
  },
  {
   "cell_type": "markdown",
   "metadata": {},
   "source": [
    "#### Result: 20ms (87.36%)\n"
   ]
  },
  {
   "cell_type": "markdown",
   "metadata": {},
   "source": [
    "## Option 2\n",
    "<p>\n",
    "<li>Cleaner code below\n",
    "    <p>\n",
    "\n",
    "Time complexity: O(n)\n",
    "<br>\n",
    "Space complexity: O(1)"
   ]
  },
  {
   "cell_type": "code",
   "execution_count": null,
   "metadata": {},
   "outputs": [],
   "source": [
    "import collections\n",
    "class Solution(object):\n",
    "    def numberOfArithmeticSlices(self, A):\n",
    "        res=curr=0\n",
    "        for i in range(2,len(A)):\n",
    "            if A[i]-A[i-1] == A[i-1]-A[i-2]:\n",
    "                curr += 1\n",
    "                res += curr\n",
    "            else:\n",
    "                curr = 0\n",
    "        return res\n",
    "        \n",
    "\n",
    "Solution().numberOfArithmeticSlices([1,3,5,7,19,11])"
   ]
  },
  {
   "cell_type": "markdown",
   "metadata": {},
   "source": [
    "#### Result: 20ms (87.36%)"
   ]
  }
 ],
 "metadata": {
  "kernelspec": {
   "display_name": "Python 2",
   "language": "python",
   "name": "python2"
  },
  "language_info": {
   "codemirror_mode": {
    "name": "ipython",
    "version": 2
   },
   "file_extension": ".py",
   "mimetype": "text/x-python",
   "name": "python",
   "nbconvert_exporter": "python",
   "pygments_lexer": "ipython2",
   "version": "2.7.16"
  }
 },
 "nbformat": 4,
 "nbformat_minor": 2
}
