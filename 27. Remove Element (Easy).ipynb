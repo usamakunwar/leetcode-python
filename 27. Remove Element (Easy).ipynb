{
 "cells": [
  {
   "cell_type": "markdown",
   "metadata": {},
   "source": [
    "# 27. Remove Element\n",
    "\n",
    "Given an array nums and a value val, remove all instances of that value in-place and return the new length.\n",
    "\n",
    "Do not allocate extra space for another array, you must do this by modifying the input array in-place with O(1) extra memory.\n",
    "\n",
    "The order of elements can be changed. It doesn't matter what you leave beyond the new length."
   ]
  },
  {
   "cell_type": "code",
   "execution_count": 4,
   "metadata": {},
   "outputs": [
    {
     "data": {
      "text/plain": [
       "5"
      ]
     },
     "execution_count": 4,
     "metadata": {},
     "output_type": "execute_result"
    }
   ],
   "source": [
    "def removeElement(nums: [int], val: int) -> int:\n",
    "    i = 0\n",
    "    for index in range(0,len(nums)):\n",
    "        if nums[i] == val:\n",
    "            nums.pop(i)\n",
    "        else:\n",
    "            i += 1\n",
    "    return len(nums)\n",
    "\n",
    "removeElement(nums=[3,4,4,4,4,4,3], val=3)"
   ]
  },
  {
   "cell_type": "markdown",
   "metadata": {},
   "source": [
    "#### Result: Accepted\n",
    "#### Runtime: 28ms (97.71%) \n",
    "#### Memory: 12.6mb\n",
    "\n",
    "#### Notes\n",
    "Why not just use a counter for values that are matching, instead of returning the lenght of the array?"
   ]
  }
 ],
 "metadata": {
  "kernelspec": {
   "display_name": "Python 3",
   "language": "python",
   "name": "python3"
  },
  "language_info": {
   "codemirror_mode": {
    "name": "ipython",
    "version": 3
   },
   "file_extension": ".py",
   "mimetype": "text/x-python",
   "name": "python",
   "nbconvert_exporter": "python",
   "pygments_lexer": "ipython3",
   "version": "3.7.4"
  }
 },
 "nbformat": 4,
 "nbformat_minor": 2
}
