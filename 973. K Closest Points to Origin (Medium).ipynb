{
 "cells": [
  {
   "cell_type": "markdown",
   "metadata": {},
   "source": [
    "# 973. K Closest Points to Origin (Medium)"
   ]
  },
  {
   "cell_type": "markdown",
   "metadata": {},
   "source": [
    "<div><p>We have a list of <code>points</code>&nbsp;on the plane.&nbsp; Find the <code>K</code> closest points to the origin <code>(0, 0)</code>.</p>\n",
    "\n",
    "<p>(Here, the distance between two points on a plane is the Euclidean distance.)</p>\n",
    "\n",
    "<p>You may return the answer in any order.&nbsp; The&nbsp;answer is guaranteed to be unique (except for the order that it is in.)</p>\n",
    "\n",
    "<p>&nbsp;</p>\n",
    "\n",
    "<div>\n",
    "<p><strong>Example 1:</strong></p>\n",
    "\n",
    "<pre><strong>Input: </strong>points = <span id=\"example-input-1-1\">[[1,3],[-2,2]]</span>, K = <span id=\"example-input-1-2\">1</span>\n",
    "<strong>Output: </strong><span id=\"example-output-1\">[[-2,2]]</span>\n",
    "<strong>Explanation: </strong>\n",
    "The distance between (1, 3) and the origin is sqrt(10).\n",
    "The distance between (-2, 2) and the origin is sqrt(8).\n",
    "Since sqrt(8) &lt; sqrt(10), (-2, 2) is closer to the origin.\n",
    "We only want the closest K = 1 points from the origin, so the answer is just [[-2,2]].\n",
    "</pre>\n",
    "\n",
    "<div>\n",
    "<p><strong>Example 2:</strong></p>\n",
    "\n",
    "<pre><strong>Input: </strong>points = <span id=\"example-input-2-1\">[[3,3],[5,-1],[-2,4]]</span>, K = <span id=\"example-input-2-2\">2</span>\n",
    "<strong>Output: </strong><span id=\"example-output-2\">[[3,3],[-2,4]]</span>\n",
    "(The answer [[-2,4],[3,3]] would also be accepted.)\n",
    "</pre>\n",
    "\n",
    "<p>&nbsp;</p>\n",
    "\n",
    "<p><strong>Note:</strong></p>\n",
    "\n",
    "<ol>\n",
    "\t<li><code>1 &lt;= K &lt;= points.length &lt;= 10000</code></li>\n",
    "\t<li><code>-10000 &lt; points[i][0] &lt; 10000</code></li>\n",
    "\t<li><code>-10000 &lt; points[i][1] &lt; 10000</code></li>\n",
    "</ol>\n",
    "</div>\n",
    "</div></div>"
   ]
  },
  {
   "cell_type": "markdown",
   "metadata": {},
   "source": [
    "## Option 1\n",
    "\n",
    "Insort + Map\n",
    "\n",
    "Time complexity = O(nlogn)\n",
    "<br>\n",
    "Space complexity = O(n)"
   ]
  },
  {
   "cell_type": "code",
   "execution_count": 12,
   "metadata": {
    "scrolled": false
   },
   "outputs": [
    {
     "data": {
      "text/plain": [
       "[[3, 3], [-2, 4], [5, -1], [5, 5], [10, 0]]"
      ]
     },
     "execution_count": 12,
     "metadata": {},
     "output_type": "execute_result"
    }
   ],
   "source": [
    "from bisect import insort\n",
    "import collections\n",
    "class Solution(object):\n",
    "    def kClosest(self, points, K):\n",
    "        res, p_map = [], collections.defaultdict(list)\n",
    "        for i,(j,k) in enumerate(points):\n",
    "            v = (j*j)+(k*k)\n",
    "            insort(res,v)\n",
    "            p_map[v].append(i)\n",
    "        return [points[p_map[i].pop()] for i in res[:K]]\n",
    "Solution().kClosest([[10,0],[5,5],[3,3],[5,-1],[-2,4]],5)"
   ]
  },
  {
   "cell_type": "markdown",
   "metadata": {},
   "source": [
    "#### Result: 672ms (29.57%)"
   ]
  },
  {
   "cell_type": "markdown",
   "metadata": {},
   "source": [
    "## Option 2\n",
    "\n",
    "Heap + Map\n",
    "\n",
    "Time complexity = O(nlogn)\n",
    "<br>\n",
    "Space complexity = O(n)"
   ]
  },
  {
   "cell_type": "code",
   "execution_count": 17,
   "metadata": {},
   "outputs": [
    {
     "data": {
      "text/plain": [
       "[[3, 3], [-2, 4], [5, -1], [5, 5], [10, 0]]"
      ]
     },
     "execution_count": 17,
     "metadata": {},
     "output_type": "execute_result"
    }
   ],
   "source": [
    "import heapq\n",
    "import collections\n",
    "class Solution(object):\n",
    "    def kClosest(self, points, K):\n",
    "        res, p_map = [], collections.defaultdict(list)\n",
    "        for i,(j,k) in enumerate(points):\n",
    "            v = (j*j)+(k*k)\n",
    "            res.append(v)\n",
    "            p_map[v].append(i)\n",
    "        heapq.heapify(res)\n",
    "        return [points[p_map[heapq.heappop(res)].pop()] for i in range(K)]\n",
    "Solution().kClosest([[10,0],[5,5],[3,3],[5,-1],[-2,4]],5)"
   ]
  },
  {
   "cell_type": "markdown",
   "metadata": {},
   "source": [
    "#### Result: 752ms (15.99%)"
   ]
  },
  {
   "cell_type": "markdown",
   "metadata": {},
   "source": [
    "## Option 3\n",
    "\n",
    "Quickselect\n",
    "\n",
    "Time complexity = O(nlogn)\n",
    "<br>\n",
    "Space complexity = O(n)"
   ]
  },
  {
   "cell_type": "code",
   "execution_count": null,
   "metadata": {},
   "outputs": [],
   "source": []
  }
 ],
 "metadata": {
  "kernelspec": {
   "display_name": "Python 2",
   "language": "python",
   "name": "python2"
  },
  "language_info": {
   "codemirror_mode": {
    "name": "ipython",
    "version": 2
   },
   "file_extension": ".py",
   "mimetype": "text/x-python",
   "name": "python",
   "nbconvert_exporter": "python",
   "pygments_lexer": "ipython2",
   "version": "2.7.16"
  }
 },
 "nbformat": 4,
 "nbformat_minor": 2
}
