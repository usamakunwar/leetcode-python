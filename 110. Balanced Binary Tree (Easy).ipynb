{
 "cells": [
  {
   "cell_type": "markdown",
   "metadata": {},
   "source": [
    "# 110. Balanced Binary Tree (Easy)"
   ]
  },
  {
   "cell_type": "markdown",
   "metadata": {},
   "source": [
    "<div><p>Given a binary tree, determine if it is height-balanced.</p>\n",
    "\n",
    "<p>For this problem, a height-balanced binary tree is defined as:</p>\n",
    "\n",
    "<blockquote>\n",
    "<p>a binary tree in which the left and right subtrees of <em>every</em> node differ in height by no more than 1.</p>\n",
    "</blockquote>\n",
    "\n",
    "<p>&nbsp;</p>\n",
    "\n",
    "<p><strong>Example 1:</strong></p>\n",
    "\n",
    "<p>Given the following tree <code>[3,9,20,null,null,15,7]</code>:</p>\n",
    "\n",
    "<pre>    3\n",
    "   / \\\n",
    "  9  20\n",
    "    /  \\\n",
    "   15   7</pre>\n",
    "\n",
    "<p>Return true.<br>\n",
    "<br>\n",
    "<strong>Example 2:</strong></p>\n",
    "\n",
    "<p>Given the following tree <code>[1,2,2,3,3,null,null,4,4]</code>:</p>\n",
    "\n",
    "<pre>       1\n",
    "      / \\\n",
    "     2   2\n",
    "    / \\\n",
    "   3   3\n",
    "  / \\\n",
    " 4   4\n",
    "</pre>\n",
    "\n",
    "<p>Return false.</p>\n",
    "</div>"
   ]
  },
  {
   "cell_type": "markdown",
   "metadata": {},
   "source": [
    "## Option 1\n",
    " <p>\n",
    "    <p>\n",
    "        <p>\n",
    "Time complexity: O(n)\n",
    "    <br>\n",
    "Space complexity: O(n) \n"
   ]
  },
  {
   "cell_type": "code",
   "execution_count": null,
   "metadata": {},
   "outputs": [],
   "source": [
    "# Definition for a binary tree node.\n",
    "# class TreeNode(object):\n",
    "#     def __init__(self, x):\n",
    "#         self.val = x\n",
    "#         self.left = None\n",
    "#         self.right = None\n",
    "\n",
    "class Solution(object):\n",
    "    def isBalanced(self, root):\n",
    "        \"\"\"\n",
    "        :type root: TreeNode\n",
    "        :rtype: bool\n",
    "        \"\"\"\n",
    "        if not root: return True\n",
    "        \n",
    "        def search(node):\n",
    "            if not node.left and not node.right:\n",
    "                return True,1\n",
    "            \n",
    "            r_balanced, l_height = search(node.left) if node.left else (True,0)\n",
    "            l_balanced, r_height = search(node.right) if node.right else (True,0)\n",
    "            \n",
    "            if l_balanced and r_balanced and abs(l_height-r_height) <= 1:\n",
    "                return True, max(l_height,r_height)+1\n",
    "            else:\n",
    "                return False,0\n",
    "            \n",
    "        return search(root)[0]"
   ]
  },
  {
   "cell_type": "markdown",
   "metadata": {},
   "source": [
    "\n",
    "#### Result: 44ms (64.86%)"
   ]
  }
 ],
 "metadata": {
  "kernelspec": {
   "display_name": "Python 2",
   "language": "python",
   "name": "python2"
  },
  "language_info": {
   "codemirror_mode": {
    "name": "ipython",
    "version": 2
   },
   "file_extension": ".py",
   "mimetype": "text/x-python",
   "name": "python",
   "nbconvert_exporter": "python",
   "pygments_lexer": "ipython2",
   "version": "2.7.16"
  }
 },
 "nbformat": 4,
 "nbformat_minor": 2
}
