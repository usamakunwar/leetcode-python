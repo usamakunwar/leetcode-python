{
 "cells": [
  {
   "cell_type": "markdown",
   "metadata": {},
   "source": [
    "# 994. Rotting Oranges (Easy)"
   ]
  },
  {
   "cell_type": "markdown",
   "metadata": {},
   "source": [
    "<div><p>In a given grid, each cell can have one of three&nbsp;values:</p>\n",
    "\n",
    "<ul>\n",
    "\t<li>the value <code>0</code> representing an empty cell;</li>\n",
    "\t<li>the value <code>1</code> representing a fresh orange;</li>\n",
    "\t<li>the value <code>2</code> representing a rotten orange.</li>\n",
    "</ul>\n",
    "\n",
    "<p>Every minute, any fresh orange that is adjacent (4-directionally) to a rotten orange becomes rotten.</p>\n",
    "\n",
    "<p>Return the minimum number of minutes that must elapse until no cell has a fresh orange.&nbsp; If this is impossible, return <code>-1</code> instead.</p>\n",
    "\n",
    "<p>&nbsp;</p>\n",
    "\n",
    "<div>\n",
    "<p><strong>Example 1:</strong></p>\n",
    "\n",
    "<p><strong><img alt=\"\" src=\"https://assets.leetcode.com/uploads/2019/02/16/oranges.png\" style=\"width: 712px; height: 150px;\"></strong></p>\n",
    "\n",
    "<pre><strong>Input: </strong><span id=\"example-input-1-1\">[[2,1,1],[1,1,0],[0,1,1]]</span>\n",
    "<strong>Output: </strong><span id=\"example-output-1\">4</span>\n",
    "</pre>\n",
    "\n",
    "<div>\n",
    "<p><strong>Example 2:</strong></p>\n",
    "\n",
    "<pre><strong>Input: </strong><span id=\"example-input-2-1\">[[2,1,1],[0,1,1],[1,0,1]]</span>\n",
    "<strong>Output: </strong><span id=\"example-output-2\">-1</span>\n",
    "<strong>Explanation: </strong> The orange in the bottom left corner (row 2, column 0) is never rotten, because rotting only happens 4-directionally.\n",
    "</pre>\n",
    "\n",
    "<div>\n",
    "<p><strong>Example 3:</strong></p>\n",
    "\n",
    "<pre><strong>Input: </strong><span id=\"example-input-3-1\">[[0,2]]</span>\n",
    "<strong>Output: </strong><span id=\"example-output-3\">0</span>\n",
    "<strong>Explanation: </strong> Since there are already no fresh oranges at minute 0, the answer is just 0.\n",
    "</pre>\n",
    "\n",
    "<p>&nbsp;</p>\n",
    "\n",
    "<p><strong>Note:</strong></p>\n",
    "\n",
    "<ol>\n",
    "\t<li><code>1 &lt;= grid.length &lt;= 10</code></li>\n",
    "\t<li><code>1 &lt;= grid[0].length &lt;= 10</code></li>\n",
    "\t<li><code>grid[i][j]</code> is only <code>0</code>, <code>1</code>, or <code>2</code>.</li>\n",
    "</ol>\n",
    "</div>\n",
    "</div>\n",
    "</div></div>"
   ]
  },
  {
   "cell_type": "markdown",
   "metadata": {},
   "source": [
    "## Option 1\n",
    "\n",
    "Breadth first search. \n",
    "<br>\n",
    "The width of the search is the number of cells in the same level<br>\n",
    "The depth is the number of levels\n",
    "\n",
    "Time complexity = O(n)\n",
    "<br>\n",
    "Space complexity = O(n)"
   ]
  },
  {
   "cell_type": "code",
   "execution_count": 79,
   "metadata": {
    "scrolled": true
   },
   "outputs": [
    {
     "data": {
      "text/plain": [
       "1"
      ]
     },
     "execution_count": 79,
     "metadata": {},
     "output_type": "execute_result"
    }
   ],
   "source": [
    "class Solution:\n",
    "    def orangesRotting(self, grid: [[int]]) -> int:\n",
    "        #Queue maintains all cells that are now 2 and need to be checked\n",
    "        queue = collections.deque()\n",
    "        fresh_oranges = 0 \n",
    "        \n",
    "        def neighbours(i,j):\n",
    "            res = []\n",
    "            for ni, nj in ((i-1,j),(i,j-1),(i+1,j),(i,j+1)):\n",
    "                if ni < len(grid) and ni >= 0 and nj >= 0 and nj < len(grid[0]):\n",
    "                    res.append((ni,nj))\n",
    "            return res\n",
    "                   \n",
    "        \n",
    "        for i in range(len(grid)):\n",
    "            for j in range(len(grid[0])):\n",
    "                if grid[i][j] == 2:\n",
    "                    queue.append((i,j,0))\n",
    "                elif grid[i][j] == 1:\n",
    "                    #Keep a track of 1 here, so at the end we know if there are any oranges still fresh\n",
    "                    fresh_oranges += 1\n",
    "                    \n",
    "        #Depth of the search is kept using level\n",
    "        level = 0\n",
    "        while queue :\n",
    "            i, j, level = queue.popleft()\n",
    "            for ni, nj in neighbours(i,j):\n",
    "                #If we have a 1 neighbour, change it to 2, and add it to the queue.\n",
    "                #That way we avoid duplicates\n",
    "                if grid[ni][nj] == 1:\n",
    "                    grid[ni][nj] = 2\n",
    "                    fresh_oranges -= 1\n",
    "                    queue.append((ni,nj,level+1))\n",
    "\n",
    "        return level if fresh_oranges == 0 else -1 \n",
    "        \n",
    "        \n",
    "        \n",
    "Solution().orangesRotting([[2,2],[1,1],[0,0],[2,0]])"
   ]
  },
  {
   "cell_type": "markdown",
   "metadata": {},
   "source": [
    "#### Result:  36ms (99.89%)"
   ]
  }
 ],
 "metadata": {
  "kernelspec": {
   "display_name": "Python 3",
   "language": "python",
   "name": "python3"
  },
  "language_info": {
   "codemirror_mode": {
    "name": "ipython",
    "version": 3
   },
   "file_extension": ".py",
   "mimetype": "text/x-python",
   "name": "python",
   "nbconvert_exporter": "python",
   "pygments_lexer": "ipython3",
   "version": "3.7.4"
  }
 },
 "nbformat": 4,
 "nbformat_minor": 2
}
