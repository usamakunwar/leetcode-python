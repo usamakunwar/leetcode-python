{
 "cells": [
  {
   "cell_type": "markdown",
   "metadata": {},
   "source": [
    "# 261. Graph Valid Tree (Medium)"
   ]
  },
  {
   "cell_type": "markdown",
   "metadata": {},
   "source": [
    "<div><p>Given <code>n</code> nodes labeled from <code>0</code> to <code>n-1</code> and a list of undirected edges (each edge is a pair of nodes), write a function to check whether these edges make up a valid tree.</p>\n",
    "\n",
    "<p><strong>Example 1:</strong></p>\n",
    "\n",
    "<pre><strong>Input:</strong> <code>n = 5</code>, and <code>edges = [[0,1], [0,2], [0,3], [1,4]]</code>\n",
    "<strong>Output:</strong> true</pre>\n",
    "\n",
    "<p><strong>Example 2:</strong></p>\n",
    "\n",
    "<pre><strong>Input:</strong> <code>n = 5, </code>and <code>edges = [[0,1], [1,2], [2,3], [1,3], [1,4]]</code>\n",
    "<strong>Output:</strong> false</pre>\n",
    "\n",
    "<p><b>Note</b>: you can assume that no duplicate edges will appear in <code>edges</code>. Since all edges are undirected, <code>[0,1]</code> is the same as <code>[1,0]</code> and thus will not appear together in <code>edges</code>.</p>\n",
    "</div>"
   ]
  },
  {
   "cell_type": "markdown",
   "metadata": {},
   "source": [
    "## Option 1\n",
    "<p>\n",
    "    DFS\n",
    "    <p>\n",
    "    <li>In order for a graph to be a valid tree, we need a complete network (all nodes connected) and no cycles\n",
    "        \n",
    "<p>\n"
   ]
  },
  {
   "cell_type": "code",
   "execution_count": null,
   "metadata": {
    "scrolled": true
   },
   "outputs": [],
   "source": [
    "import collections\n",
    "class Solution(object):\n",
    "    def validTree(self, n, edges):\n",
    "        e_map = collections.defaultdict(list)\n",
    "        for a,b in edges:\n",
    "            e_map[a].append(b)\n",
    "            e_map[b].append(a)\n",
    "        \n",
    "        self.seen = [0]*n\n",
    "        def search(i,prev):\n",
    "            self.seen[i] = 1\n",
    "            for j in e_map[i]:\n",
    "                if j == prev: continue\n",
    "                if self.seen[j] or not search(j,i): return False\n",
    "            return True\n",
    "        \n",
    "        #If the search == true we have no cycles, if len(seen) == n it is a complete network\n",
    "        return search(0,0) and sum(self.seen) == n\n",
    "                \n",
    "Solution().validTree(5, [[0,1], [0,2], [0,3], [1,4]])"
   ]
  },
  {
   "cell_type": "markdown",
   "metadata": {},
   "source": [
    "#### Result: 80ms (46.67%)"
   ]
  },
  {
   "cell_type": "markdown",
   "metadata": {},
   "source": [
    "## Option 2\n",
    "<p>\n",
    "    DFS\n",
    "    <p>\n",
    "    <li>We can exit early by checking the number edges, must be n-1, or it won't be a complete network\n",
    "    <li>As we are tracking a seen, (for no cycles), tracking search result is unnecessary\n",
    "    <li>So the idea is we do not need to explicitly find a cycle, all we need is to go through the network, and see if the found nodes are equal to n\n",
    "        \n",
    "<p>\n"
   ]
  },
  {
   "cell_type": "code",
   "execution_count": null,
   "metadata": {},
   "outputs": [],
   "source": [
    "import collections\n",
    "class Solution(object):\n",
    "    def validTree(self, n, edges):\n",
    "        if len(edges) != n - 1: return False #Exit early\n",
    "        \n",
    "        e_map = collections.defaultdict(list)\n",
    "        for a,b in edges:\n",
    "            e_map[a].append(b)\n",
    "            e_map[b].append(a)\n",
    "        \n",
    "        self.seen = [0]*n\n",
    "        def search(i):\n",
    "            self.seen[i] = 1\n",
    "            for j in e_map[i]:\n",
    "                if not self.seen[j]: search(j)\n",
    "                    \n",
    "        search(0)\n",
    "        return sum(self.seen) == n\n",
    "                \n",
    "Solution().validTree(5, [[0,1], [0,2], [0,3], [1,4]])"
   ]
  },
  {
   "cell_type": "markdown",
   "metadata": {},
   "source": [
    "#### Result: 68ms (93.79%)"
   ]
  }
 ],
 "metadata": {
  "kernelspec": {
   "display_name": "Python 2",
   "language": "python",
   "name": "python2"
  },
  "language_info": {
   "codemirror_mode": {
    "name": "ipython",
    "version": 2
   },
   "file_extension": ".py",
   "mimetype": "text/x-python",
   "name": "python",
   "nbconvert_exporter": "python",
   "pygments_lexer": "ipython2",
   "version": "2.7.16"
  }
 },
 "nbformat": 4,
 "nbformat_minor": 2
}
