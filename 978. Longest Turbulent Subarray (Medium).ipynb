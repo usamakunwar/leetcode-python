{
 "cells": [
  {
   "cell_type": "markdown",
   "metadata": {},
   "source": [
    "# 978. Longest Turbulent Subarray (Medium)"
   ]
  },
  {
   "cell_type": "markdown",
   "metadata": {},
   "source": [
    "<div><p>A subarray <code>A[i], A[i+1], ..., A[j]</code>&nbsp;of <code>A</code> is said to be <em>turbulent</em> if and only if:</p>\n",
    "\n",
    "<ul>\n",
    "\t<li>For <code>i &lt;= k &lt; j</code>, <code>A[k] &gt; A[k+1]</code> when <code>k</code> is odd, and <code>A[k] &lt; A[k+1]</code> when <code>k</code> is even;</li>\n",
    "\t<li><strong>OR</strong>, for <code>i &lt;= k &lt; j</code>, <code>A[k] &gt; A[k+1]</code> when <code>k</code> is even, and <code>A[k] &lt; A[k+1]</code> when <code>k</code> is odd.</li>\n",
    "</ul>\n",
    "\n",
    "<p>That is, the subarray is turbulent if the comparison sign flips between each adjacent pair of elements in the subarray.</p>\n",
    "\n",
    "<p>Return the <strong>length</strong> of a&nbsp;maximum size turbulent subarray of A.</p>\n",
    "\n",
    "<p>&nbsp;</p>\n",
    "\n",
    "<div>\n",
    "<p><strong>Example 1:</strong></p>\n",
    "\n",
    "<pre><strong>Input: </strong><span id=\"example-input-1-1\">[9,4,2,10,7,8,8,1,9]</span>\n",
    "<strong>Output: </strong><span id=\"example-output-1\">5</span>\n",
    "<strong>Explanation: </strong>(A[1] &gt; A[2] &lt; A[3] &gt; A[4] &lt; A[5])\n",
    "</pre>\n",
    "\n",
    "<div>\n",
    "<p><strong>Example 2:</strong></p>\n",
    "\n",
    "<pre><strong>Input: </strong><span id=\"example-input-2-1\">[4,8,12,16]</span>\n",
    "<strong>Output: </strong><span id=\"example-output-2\">2</span>\n",
    "</pre>\n",
    "\n",
    "<div>\n",
    "<p><strong>Example 3:</strong></p>\n",
    "\n",
    "<pre><strong>Input: </strong><span id=\"example-input-3-1\">[100]</span>\n",
    "<strong>Output: </strong><span id=\"example-output-3\">1</span>\n",
    "</pre>\n",
    "</div>\n",
    "</div>\n",
    "</div>\n",
    "\n",
    "<p>&nbsp;</p>\n",
    "\n",
    "<p><strong>Note:</strong></p>\n",
    "\n",
    "<ol>\n",
    "\t<li><code>1 &lt;= A.length &lt;= 40000</code></li>\n",
    "\t<li><code>0 &lt;= A[i] &lt;= 10^9</code></li>\n",
    "</ol></div>"
   ]
  },
  {
   "cell_type": "markdown",
   "metadata": {},
   "source": [
    "## Option 1\n",
    "<p>\n",
    "<p>Sliding window\n",
    "        <p>\n",
    "Time complexity: O(n)\n",
    "    <br>\n",
    "Space complexity: O(1)"
   ]
  },
  {
   "cell_type": "code",
   "execution_count": null,
   "metadata": {
    "scrolled": true
   },
   "outputs": [],
   "source": [
    "import collections\n",
    "class Solution(object):\n",
    "    def maxTurbulenceSize(self, A):\n",
    "        res = left = 0\n",
    "        A.append(0)\n",
    "        for i in range(len(A)-1):\n",
    "            res = max(res, i-left+1)\n",
    "            if i > 0 and (A[i-1] < A[i] > A[i+1]) or (A[i-1] > A[i] < A[i+1]):\n",
    "                continue\n",
    "            left = i + (A[i] == A[i+1])\n",
    "\n",
    "        res = max(res, i-left+1)\n",
    "        return res\n",
    "        \n",
    "Solution().maxTurbulenceSize([9,4,2,10,7,8,8,1,9])"
   ]
  },
  {
   "cell_type": "markdown",
   "metadata": {},
   "source": [
    "#### Result: 444ms (80.58%)"
   ]
  }
 ],
 "metadata": {
  "kernelspec": {
   "display_name": "Python 2",
   "language": "python",
   "name": "python2"
  },
  "language_info": {
   "codemirror_mode": {
    "name": "ipython",
    "version": 2
   },
   "file_extension": ".py",
   "mimetype": "text/x-python",
   "name": "python",
   "nbconvert_exporter": "python",
   "pygments_lexer": "ipython2",
   "version": "2.7.16"
  }
 },
 "nbformat": 4,
 "nbformat_minor": 2
}
