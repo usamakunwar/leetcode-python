{
 "cells": [
  {
   "cell_type": "markdown",
   "metadata": {},
   "source": [
    "# 942. DI String Match (Easy)"
   ]
  },
  {
   "cell_type": "markdown",
   "metadata": {},
   "source": [
    "<div><p>Given a string <code>S</code> that <strong>only</strong> contains \"I\" (increase) or \"D\" (decrease), let <code>N = S.length</code>.</p>\n",
    "\n",
    "<p>Return <strong>any</strong> permutation <code>A</code> of <code>[0, 1, ..., N]</code> such that for all <code>i = 0,&nbsp;..., N-1</code>:</p>\n",
    "\n",
    "<ul>\n",
    "\t<li>If <code>S[i] == \"I\"</code>, then <code>A[i] &lt; A[i+1]</code></li>\n",
    "\t<li>If <code>S[i] == \"D\"</code>, then <code>A[i] &gt; A[i+1]</code></li>\n",
    "</ul>\n",
    "\n",
    "<p>&nbsp;</p>\n",
    "\n",
    "<p><strong>Example 1:</strong></p>\n",
    "\n",
    "<pre><strong>Input: </strong><span id=\"example-input-1-1\">\"IDID\"</span>\n",
    "<strong>Output: </strong><span id=\"example-output-1\">[0,4,1,3,2]</span>\n",
    "</pre>\n",
    "\n",
    "<div>\n",
    "<p><strong>Example 2:</strong></p>\n",
    "\n",
    "<pre><strong>Input: </strong><span id=\"example-input-2-1\">\"III\"</span>\n",
    "<strong>Output: </strong><span id=\"example-output-2\">[0,1,2,3]</span>\n",
    "</pre>\n",
    "\n",
    "<div>\n",
    "<p><strong>Example 3:</strong></p>\n",
    "\n",
    "<pre><strong>Input: </strong><span id=\"example-input-3-1\">\"DDI\"</span>\n",
    "<strong>Output: </strong><span id=\"example-output-3\">[3,2,0,1]</span></pre>\n",
    "</div>\n",
    "</div>\n",
    "\n",
    "<p>&nbsp;</p>\n",
    "\n",
    "<p><strong>Note:</strong></p>\n",
    "\n",
    "<ol>\n",
    "\t<li><code>1 &lt;= S.length &lt;= 10000</code></li>\n",
    "\t<li><code>S</code> only contains characters <code>\"I\"</code> or <code>\"D\"</code>.</li>\n",
    "</ol></div>"
   ]
  },
  {
   "cell_type": "markdown",
   "metadata": {},
   "source": [
    "## Option 1\n",
    "<p>\n",
    "Time complexity: O(n) \n",
    "<br>\n",
    "Space complexity: O(n)"
   ]
  },
  {
   "cell_type": "code",
   "execution_count": null,
   "metadata": {
    "scrolled": true
   },
   "outputs": [],
   "source": [
    "class Solution(object):\n",
    "    def diStringMatch(self, S):\n",
    "        i,d,res = 0, len(S), []\n",
    "        for s in S:\n",
    "            if s == 'D':\n",
    "                res.append(d)\n",
    "                d -= 1\n",
    "            else:\n",
    "                res.append(i)\n",
    "                i += 1\n",
    "        res.append(d if S[0] == 'D' else i)\n",
    "        return res\n",
    "\n",
    "            \n",
    "Solution().diStringMatch(\"IDID\")    \n"
   ]
  },
  {
   "cell_type": "markdown",
   "metadata": {},
   "source": [
    "#### Result: 40ms (99.69%)"
   ]
  }
 ],
 "metadata": {
  "kernelspec": {
   "display_name": "Python 2",
   "language": "python",
   "name": "python2"
  },
  "language_info": {
   "codemirror_mode": {
    "name": "ipython",
    "version": 2
   },
   "file_extension": ".py",
   "mimetype": "text/x-python",
   "name": "python",
   "nbconvert_exporter": "python",
   "pygments_lexer": "ipython2",
   "version": "2.7.16"
  }
 },
 "nbformat": 4,
 "nbformat_minor": 2
}
