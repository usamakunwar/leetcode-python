{
 "cells": [
  {
   "cell_type": "markdown",
   "metadata": {},
   "source": [
    "# 1079. Letter Tile Possibilities (Medium)"
   ]
  },
  {
   "cell_type": "markdown",
   "metadata": {},
   "source": [
    "<div><p>You have a set of <code>tiles</code>, where each tile has one letter <code>tiles[i]</code> printed on it.&nbsp; Return the number of possible non-empty sequences of letters you can make.</p>\n",
    "\n",
    "<p>&nbsp;</p>\n",
    "\n",
    "<p><strong>Example 1:</strong></p>\n",
    "\n",
    "<pre><strong>Input: </strong><span id=\"example-input-1-1\">\"AAB\"</span>\n",
    "<strong>Output: </strong><span id=\"example-output-1\">8</span>\n",
    "<strong>Explanation: </strong>The possible sequences are \"A\", \"B\", \"AA\", \"AB\", \"BA\", \"AAB\", \"ABA\", \"BAA\".\n",
    "</pre>\n",
    "\n",
    "<div>\n",
    "<p><strong>Example 2:</strong></p>\n",
    "\n",
    "<pre><strong>Input: </strong><span id=\"example-input-2-1\">\"AAABBC\"</span>\n",
    "<strong>Output: </strong><span id=\"example-output-2\">188</span>\n",
    "</pre>\n",
    "\n",
    "<p>&nbsp;</p>\n",
    "</div>\n",
    "\n",
    "<p><strong>Note:</strong></p>\n",
    "\n",
    "<ol>\n",
    "\t<li><code>1 &lt;= tiles.length &lt;= 7</code></li>\n",
    "\t<li><code>tiles</code> consists of uppercase English letters.</li>\n",
    "</ol></div>"
   ]
  },
  {
   "cell_type": "markdown",
   "metadata": {},
   "source": [
    "## Option 1\n",
    "\n",
    "<p>\n",
    "    <li>DFS\n",
    "    <li>s represents the string that we are making combinations off\n",
    "    <li>t is the string without s\n",
    "    <li>E.g. ABC. We need all combinations like, A AB AC ABC ACB, and so on\n",
    "    <li>Our search starts with a blank, the blank combines with A,B and C\n",
    "    <li>Then A combines with AB, AC, then ABC, ACB\n",
    "<p>\n",
    "\n",
    "Time complexity = O(2^n)\n",
    "<br>\n",
    "Space complexity = O(2^n)"
   ]
  },
  {
   "cell_type": "code",
   "execution_count": null,
   "metadata": {
    "scrolled": true
   },
   "outputs": [],
   "source": [
    "import collections, heapq\n",
    "class Solution(object):\n",
    "    def numTilePossibilities(self, tiles):\n",
    "        res = set()\n",
    "        def search(t,s):\n",
    "            if s:\n",
    "                res.add(s)\n",
    "            for i in range(len(t)):\n",
    "                search(t[:i]+t[i+1:], s+t[i])\n",
    "        search(tiles,'')\n",
    "        return len(res)\n",
    "            \n",
    "    \n",
    "Solution().numTilePossibilities('AAABBC')\n",
    "        "
   ]
  },
  {
   "cell_type": "markdown",
   "metadata": {},
   "source": [
    "#### Result: 120ms (47.91%)"
   ]
  }
 ],
 "metadata": {
  "kernelspec": {
   "display_name": "Python 2",
   "language": "python",
   "name": "python2"
  },
  "language_info": {
   "codemirror_mode": {
    "name": "ipython",
    "version": 2
   },
   "file_extension": ".py",
   "mimetype": "text/x-python",
   "name": "python",
   "nbconvert_exporter": "python",
   "pygments_lexer": "ipython2",
   "version": "2.7.16"
  }
 },
 "nbformat": 4,
 "nbformat_minor": 2
}
