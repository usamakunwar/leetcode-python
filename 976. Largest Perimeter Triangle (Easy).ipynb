{
 "cells": [
  {
   "cell_type": "markdown",
   "metadata": {},
   "source": [
    "# 976. Largest Perimeter Triangle (Easy)"
   ]
  },
  {
   "cell_type": "markdown",
   "metadata": {},
   "source": [
    "<div><p>Given an array <code>A</code> of positive lengths, return the largest perimeter of a triangle with <strong>non-zero area</strong>, formed from 3 of these lengths.</p>\n",
    "\n",
    "<p>If it is impossible to form any&nbsp;triangle of non-zero area, return <code>0</code>.</p>\n",
    "\n",
    "<p>&nbsp;</p>\n",
    "\n",
    "<ol>\n",
    "</ol>\n",
    "\n",
    "<div>\n",
    "<p><strong>Example 1:</strong></p>\n",
    "\n",
    "<pre><strong>Input: </strong><span id=\"example-input-1-1\">[2,1,2]</span>\n",
    "<strong>Output: </strong><span id=\"example-output-1\">5</span>\n",
    "</pre>\n",
    "\n",
    "<div>\n",
    "<p><strong>Example 2:</strong></p>\n",
    "\n",
    "<pre><strong>Input: </strong><span id=\"example-input-2-1\">[1,2,1]</span>\n",
    "<strong>Output: </strong><span id=\"example-output-2\">0</span>\n",
    "</pre>\n",
    "\n",
    "<div>\n",
    "<p><strong>Example 3:</strong></p>\n",
    "\n",
    "<pre><strong>Input: </strong><span id=\"example-input-3-1\">[3,2,3,4]</span>\n",
    "<strong>Output: </strong><span id=\"example-output-3\">10</span>\n",
    "</pre>\n",
    "\n",
    "<div>\n",
    "<p><strong>Example 4:</strong></p>\n",
    "\n",
    "<pre><strong>Input: </strong><span id=\"example-input-4-1\">[3,6,2,3]</span>\n",
    "<strong>Output: </strong><span id=\"example-output-4\">8</span>\n",
    "</pre>\n",
    "\n",
    "<p>&nbsp;</p>\n",
    "\n",
    "<p><strong>Note:</strong></p>\n",
    "\n",
    "<ol>\n",
    "\t<li><code>3 &lt;= A.length &lt;= 10000</code></li>\n",
    "\t<li><code>1 &lt;= A[i] &lt;= 10^6</code></li>\n",
    "</ol>\n",
    "</div>\n",
    "</div>\n",
    "</div>\n",
    "</div></div>"
   ]
  },
  {
   "cell_type": "markdown",
   "metadata": {},
   "source": [
    "## Option 1\n",
    "<p>\n",
    "  <p>\n",
    "      <p>\n",
    "Time complexity: O(max(A,logK))\n",
    "<br>\n",
    "Space complexity: O(max(A,K))"
   ]
  },
  {
   "cell_type": "code",
   "execution_count": null,
   "metadata": {
    "scrolled": false
   },
   "outputs": [],
   "source": [
    "class Solution(object):\n",
    "    def largestPerimeter(self, A):\n",
    "        A.sort(reverse=True)\n",
    "        for i in range(len(A)-2):\n",
    "            if A[i+1] + A[i+2] > A[i]: return A[i+1] + A[i+2] + A[i]\n",
    "        return 0\n",
    "        \n",
    "Solution().largestPerimeter([3,2,3,4])\n",
    "        "
   ]
  },
  {
   "cell_type": "markdown",
   "metadata": {},
   "source": [
    "#### Result: 180ms (83.98%)"
   ]
  }
 ],
 "metadata": {
  "kernelspec": {
   "display_name": "Python 2",
   "language": "python",
   "name": "python2"
  },
  "language_info": {
   "codemirror_mode": {
    "name": "ipython",
    "version": 2
   },
   "file_extension": ".py",
   "mimetype": "text/x-python",
   "name": "python",
   "nbconvert_exporter": "python",
   "pygments_lexer": "ipython2",
   "version": "2.7.16"
  }
 },
 "nbformat": 4,
 "nbformat_minor": 2
}
