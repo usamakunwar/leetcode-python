{
 "cells": [
  {
   "cell_type": "markdown",
   "metadata": {},
   "source": [
    "# 322. Coin Change (Medium)\n",
    "\n",
    "You are given coins of different denominations and a total amount of money amount. Write a function to compute the fewest number of coins that you need to make up that amount. If that amount of money cannot be made up by any combination of the coins, return -1."
   ]
  },
  {
   "cell_type": "markdown",
   "metadata": {},
   "source": [
    "### Option 1 (Recursive)"
   ]
  },
  {
   "cell_type": "code",
   "execution_count": 62,
   "metadata": {},
   "outputs": [
    {
     "data": {
      "text/plain": [
       "20"
      ]
     },
     "execution_count": 62,
     "metadata": {},
     "output_type": "execute_result"
    }
   ],
   "source": [
    "class Solution:\n",
    "\n",
    "    ans = -1\n",
    "    counter = {}\n",
    "    \n",
    "    def coinChange(self, coins: [int], amount: int) -> int:\n",
    "        if amount == 0:\n",
    "            return 0\n",
    "        coins.sort(reverse=True)\n",
    "\n",
    "        def search(i, remaining, output):\n",
    "\n",
    "            if remaining == 0:\n",
    "                if self.ans == -1 or output < self.ans:\n",
    "                    self.ans = output\n",
    "\n",
    "            if len(coins) > i:\n",
    "                if coins[i] >= 1 and coins[i] <= remaining:\n",
    "                    current_output = (remaining//coins[i])\n",
    "                    for j in range(0, current_output):\n",
    "                        new_output = output + (current_output - j)\n",
    "                        new_remaining = (remaining % coins[i]) + (coins[i]*j)\n",
    "                        search(i + 1, new_remaining, new_output)\n",
    "                else:\n",
    "                    search(i + 1, remaining, output)\n",
    "            return self.ans\n",
    "        \n",
    "        return search(0, amount, 0)\n",
    "    \n",
    "Solution().coinChange([186,419,83,408], 6249)"
   ]
  },
  {
   "cell_type": "markdown",
   "metadata": {},
   "source": [
    "#### Result:  Time limit exceeded"
   ]
  },
  {
   "cell_type": "markdown",
   "metadata": {},
   "source": [
    "### Option 2 (Dynamic programming)\n",
    "\n",
    "Recursion repeats many solutions through the tree, if we store these sub optimal solutions we can save time\n",
    "\n",
    "Time complexity O(nA)  n = number of coins, A = amount"
   ]
  },
  {
   "cell_type": "code",
   "execution_count": 60,
   "metadata": {},
   "outputs": [
    {
     "data": {
      "text/plain": [
       "20"
      ]
     },
     "execution_count": 60,
     "metadata": {},
     "output_type": "execute_result"
    }
   ],
   "source": [
    "class Solution:\n",
    "\n",
    "    def coinChange(self, coins: [int], amount: int) -> int:\n",
    "        k = [0] + [float('inf')] * amount\n",
    "        for coin in coins:\n",
    "            for b in range(coin, amount+1):\n",
    "                k[b] = min(k[b], k[b-coin] + 1)\n",
    "        return -1 if k[amount] == float(\"inf\") else k[amount]\n",
    "\n",
    "Solution().coinChange([186,419,83,408], 6249)\n"
   ]
  },
  {
   "cell_type": "markdown",
   "metadata": {},
   "source": [
    "#### Result:  Accepted\n",
    "#### Runtime: 1244ms (73.63%)\n",
    "#### Memory: 12.7mb (100%)"
   ]
  }
 ],
 "metadata": {
  "kernelspec": {
   "display_name": "Python 3",
   "language": "python",
   "name": "python3"
  },
  "language_info": {
   "codemirror_mode": {
    "name": "ipython",
    "version": 3
   },
   "file_extension": ".py",
   "mimetype": "text/x-python",
   "name": "python",
   "nbconvert_exporter": "python",
   "pygments_lexer": "ipython3",
   "version": "3.7.4"
  }
 },
 "nbformat": 4,
 "nbformat_minor": 2
}
