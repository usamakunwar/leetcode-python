{
 "cells": [
  {
   "cell_type": "markdown",
   "metadata": {},
   "source": [
    "# 244. Shortest Word Distance II (Medium)"
   ]
  },
  {
   "cell_type": "markdown",
   "metadata": {},
   "source": [
    "<div><p>Design a class which receives a list of words in the constructor, and implements a method that takes two words <em>word1</em> and <em>word2</em> and return the shortest distance between these two words in the list. Your method will be called <em>repeatedly</em> many times with different parameters.&nbsp;</p>\n",
    "\n",
    "<p><strong>Example:</strong><br>\n",
    "Assume that words = <code>[\"practice\", \"makes\", \"perfect\", \"coding\", \"makes\"]</code>.</p>\n",
    "\n",
    "<pre><b>Input:</b> <em>word1</em> = <code>“coding”</code>, <em>word2</em> = <code>“practice”</code>\n",
    "<b>Output:</b> 3\n",
    "</pre>\n",
    "\n",
    "<pre><b>Input:</b> <em>word1</em> = <code>\"makes\"</code>, <em>word2</em> = <code>\"coding\"</code>\n",
    "<b>Output:</b> 1</pre>\n",
    "\n",
    "<p><strong>Note:</strong><br>\n",
    "You may assume that <em>word1</em> <strong>does not equal to</strong> <em>word2</em>, and <em>word1</em> and <em>word2</em> are both in the list.</p>\n",
    "</div>"
   ]
  },
  {
   "cell_type": "markdown",
   "metadata": {},
   "source": [
    "## Option 1\n",
    "<p>\n",
    "Time complexity: O(n)\n",
    "<br>\n",
    "Space complexity: O(n) "
   ]
  },
  {
   "cell_type": "code",
   "execution_count": null,
   "metadata": {},
   "outputs": [],
   "source": [
    "class WordDistance(object):\n",
    "\n",
    "    def __init__(self, words):\n",
    "        self.c = collections.defaultdict(list)        \n",
    "        for i,v in enumerate(words):\n",
    "            self.c[v].append(i)    \n",
    "        \n",
    "\n",
    "    def shortest(self, word1, word2):\n",
    "        p1 = p2 = 0\n",
    "        res = float('inf')\n",
    "        while p1 < len(self.c[word1]) and p2 < len(self.c[word2]):\n",
    "            res = min(res, abs(self.c[word1][p1]-self.c[word2][p2]))\n",
    "            if self.c[word1][p1] < self.c[word2][p2]:\n",
    "                p1 += 1\n",
    "            else:\n",
    "                p2 += 1\n",
    "        return res\n",
    "        \n",
    "\n",
    "\n",
    "# Your WordDistance object will be instantiated and called as such:\n",
    "# obj = WordDistance(words)\n",
    "# param_1 = obj.shortest(word1,word2)"
   ]
  },
  {
   "cell_type": "markdown",
   "metadata": {},
   "source": [
    "#### Result: 80ms (73.48%)\n"
   ]
  }
 ],
 "metadata": {
  "kernelspec": {
   "display_name": "Python 2",
   "language": "python",
   "name": "python2"
  },
  "language_info": {
   "codemirror_mode": {
    "name": "ipython",
    "version": 2
   },
   "file_extension": ".py",
   "mimetype": "text/x-python",
   "name": "python",
   "nbconvert_exporter": "python",
   "pygments_lexer": "ipython2",
   "version": "2.7.16"
  }
 },
 "nbformat": 4,
 "nbformat_minor": 2
}
