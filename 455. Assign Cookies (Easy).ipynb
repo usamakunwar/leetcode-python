{
 "cells": [
  {
   "cell_type": "markdown",
   "metadata": {},
   "source": [
    "# 455. Assign Cookies (Easy)"
   ]
  },
  {
   "cell_type": "markdown",
   "metadata": {},
   "source": [
    "<div><p>\n",
    "Assume you are an awesome parent and want to give your children some cookies. But, you should give each child at most one cookie. Each child i has a greed factor g<sub>i</sub>, which is the minimum size of a cookie that the child will be content with; and each cookie j has a size s<sub>j</sub>. If s<sub>j</sub> &gt;= g<sub>i</sub>, we can assign the cookie j to the child i, and the child i will be content. Your goal is to maximize the number of your content children and output the maximum number.\n",
    "</p>\n",
    "\n",
    "<p><b>Note:</b><br>\n",
    "You may assume the greed factor is always positive. <br>\n",
    "You cannot assign more than one cookie to one child.\n",
    "</p>\n",
    "\n",
    "<p><b>Example 1:</b><br>\n",
    "</p><pre><b>Input:</b> [1,2,3], [1,1]\n",
    "\n",
    "<b>Output:</b> 1\n",
    "\n",
    "<b>Explanation:</b> You have 3 children and 2 cookies. The greed factors of 3 children are 1, 2, 3. \n",
    "And even though you have 2 cookies, since their size is both 1, you could only make the child whose greed factor is 1 content.\n",
    "You need to output 1.\n",
    "</pre>\n",
    "<p></p>\n",
    "\n",
    "<p><b>Example 2:</b><br>\n",
    "</p><pre><b>Input:</b> [1,2], [1,2,3]\n",
    "\n",
    "<b>Output:</b> 2\n",
    "\n",
    "<b>Explanation:</b> You have 2 children and 3 cookies. The greed factors of 2 children are 1, 2. \n",
    "You have 3 cookies and their sizes are big enough to gratify all of the children, \n",
    "You need to output 2.\n",
    "</pre>\n",
    "<p></p></div>"
   ]
  },
  {
   "cell_type": "markdown",
   "metadata": {},
   "source": [
    "## Option 1\n",
    "<p>\n",
    "    Heaps\n",
    "<p>\n",
    "Time complexity = O(nlogn) g+s\n",
    "<br>\n",
    "Space complexity = O(1)"
   ]
  },
  {
   "cell_type": "code",
   "execution_count": null,
   "metadata": {
    "scrolled": true
   },
   "outputs": [],
   "source": [
    "import collections, heapq\n",
    "class Solution(object):\n",
    "    def findContentChildren(self, g, s):\n",
    "        heapq.heapify(g)\n",
    "        heapq.heapify(s)\n",
    "        count = 0\n",
    "        while g:\n",
    "            greed = heapq.heappop(g)\n",
    "            while s and s[0] < greed: heapq.heappop(s)\n",
    "            if s:\n",
    "                heapq.heappop(s)\n",
    "                count += 1\n",
    "        return count\n",
    "        \n",
    "Solution().findContentChildren([1,2,3], [1,1])\n",
    "        "
   ]
  },
  {
   "cell_type": "markdown",
   "metadata": {},
   "source": [
    "#### Result: 336ms (11.132%)"
   ]
  },
  {
   "cell_type": "markdown",
   "metadata": {},
   "source": [
    "## Option 2\n",
    "<p>\n",
    "    Sort\n",
    "<p>\n",
    "Time complexity = O(nlogn) g+s\n",
    "<br>\n",
    "Space complexity = O(1)"
   ]
  },
  {
   "cell_type": "code",
   "execution_count": null,
   "metadata": {},
   "outputs": [],
   "source": [
    "import collections, heapq\n",
    "class Solution(object):\n",
    "    def findContentChildren(self, g, s):\n",
    "        g.sort()\n",
    "        s.sort()\n",
    "        i=j=0\n",
    "        while i < len(g) and j <len(s):\n",
    "            if g[i] <= s[j]:\n",
    "                i +=1\n",
    "            j+=1\n",
    "        return i\n",
    "        \n",
    "Solution().findContentChildren([1,2,3], [1,1])\n",
    "        "
   ]
  },
  {
   "cell_type": "markdown",
   "metadata": {},
   "source": [
    "#### Result: 148ms (81.98%)"
   ]
  }
 ],
 "metadata": {
  "kernelspec": {
   "display_name": "Python 2",
   "language": "python",
   "name": "python2"
  },
  "language_info": {
   "codemirror_mode": {
    "name": "ipython",
    "version": 2
   },
   "file_extension": ".py",
   "mimetype": "text/x-python",
   "name": "python",
   "nbconvert_exporter": "python",
   "pygments_lexer": "ipython2",
   "version": "2.7.16"
  }
 },
 "nbformat": 4,
 "nbformat_minor": 2
}
