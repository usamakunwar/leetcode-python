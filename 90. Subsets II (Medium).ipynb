{
 "cells": [
  {
   "cell_type": "markdown",
   "metadata": {},
   "source": [
    "# 90. Subsets II (Medium)"
   ]
  },
  {
   "cell_type": "markdown",
   "metadata": {},
   "source": [
    "<div><p>Given a collection of integers that might contain duplicates, <strong><em>nums</em></strong>, return all possible subsets (the power set).</p>\n",
    "\n",
    "<p><strong>Note:</strong> The solution set must not contain duplicate subsets.</p>\n",
    "\n",
    "<p><strong>Example:</strong></p>\n",
    "\n",
    "<pre><strong>Input:</strong> [1,2,2]\n",
    "<strong>Output:</strong>\n",
    "[\n",
    "  [2],\n",
    "  [1],\n",
    "  [1,2,2],\n",
    "  [2,2],\n",
    "  [1,2],\n",
    "  []\n",
    "]\n",
    "</pre>\n",
    "</div>"
   ]
  },
  {
   "cell_type": "markdown",
   "metadata": {},
   "source": [
    "## Option 1\n",
    "<p>\n",
    "    DFS + Backtrack\n",
    "    <li>Two issues here\n",
    "    <li>1) No duplicates in res. We can forward track to avoid duplicates\n",
    "    <li>2) nums can have duplicates. We can use a set to make sure we do not search duplicate values. Also nums must be sorted, if not cannot identify duplicates\n",
    "    \n"
   ]
  },
  {
   "cell_type": "code",
   "execution_count": null,
   "metadata": {
    "scrolled": true
   },
   "outputs": [],
   "source": [
    "class Solution(object):\n",
    "    def subsetsWithDup(self, nums):\n",
    "        nums.sort()\n",
    "        ln = len(nums)\n",
    "        def search(i, curr):\n",
    "            if i == ln:\n",
    "                return [curr]\n",
    "            res = [curr]\n",
    "            seen = set()\n",
    "            for j in range(i,ln):\n",
    "                v = curr+[nums[j]]\n",
    "                if tuple(v) not in seen: \n",
    "                    seen.add(tuple(v))\n",
    "                    res += search(j+1, curr+[nums[j]])\n",
    "            return res\n",
    "        return search(0,[])\n",
    "\n",
    "Solution().subsetsWithDup([1,2,1])"
   ]
  },
  {
   "cell_type": "markdown",
   "metadata": {},
   "source": [
    "#### Result: 28ms (44.29%)"
   ]
  },
  {
   "cell_type": "markdown",
   "metadata": {},
   "source": [
    "## Option 2\n",
    "<p>DFS\n",
    "Same as above, but as the array is sorted we can check for duplicates by looking back. Do not need a set\n",
    "    \n"
   ]
  },
  {
   "cell_type": "code",
   "execution_count": null,
   "metadata": {},
   "outputs": [],
   "source": [
    "class Solution(object):\n",
    "    def subsetsWithDup(self, nums):\n",
    "        nums.sort()\n",
    "        ln = len(nums)\n",
    "        def search(i, curr):\n",
    "            if i == ln:\n",
    "                return [curr]\n",
    "            res = [curr]\n",
    "            for j in range(i,ln):\n",
    "                if j > i and nums[j] == nums[j-1]: continue\n",
    "                v = curr+[nums[j]]\n",
    "                res += search(j+1, curr+[nums[j]])\n",
    "            return res\n",
    "        return search(0,[])\n",
    "\n",
    "Solution().subsetsWithDup([1,2,1])"
   ]
  },
  {
   "cell_type": "markdown",
   "metadata": {},
   "source": [
    "#### Result: 20ms (91.61%)"
   ]
  }
 ],
 "metadata": {
  "kernelspec": {
   "display_name": "Python 2",
   "language": "python",
   "name": "python2"
  },
  "language_info": {
   "codemirror_mode": {
    "name": "ipython",
    "version": 2
   },
   "file_extension": ".py",
   "mimetype": "text/x-python",
   "name": "python",
   "nbconvert_exporter": "python",
   "pygments_lexer": "ipython2",
   "version": "2.7.16"
  }
 },
 "nbformat": 4,
 "nbformat_minor": 2
}
