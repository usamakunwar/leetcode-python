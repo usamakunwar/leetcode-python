{
 "cells": [
  {
   "cell_type": "markdown",
   "metadata": {},
   "source": [
    "# 15. 3Sum (Medium)\n",
    "\n"
   ]
  },
  {
   "cell_type": "markdown",
   "metadata": {},
   "source": [
    "<div><p>Given an array <code>nums</code> of <em>n</em> integers, are there elements <em>a</em>, <em>b</em>, <em>c</em> in <code>nums</code> such that <em>a</em> + <em>b</em> + <em>c</em> = 0? Find all unique triplets in the array which gives the sum of zero.</p>\n",
    "\n",
    "<p><strong>Note:</strong></p>\n",
    "\n",
    "<p>The solution set must not contain duplicate triplets.</p>\n",
    "\n",
    "<p><strong>Example:</strong></p>\n",
    "\n",
    "<pre>Given array nums = [-1, 0, 1, 2, -1, -4],\n",
    "\n",
    "A solution set is:\n",
    "[\n",
    "  [-1, 0, 1],\n",
    "  [-1, -1, 2]\n",
    "]\n",
    "</pre></div>"
   ]
  },
  {
   "cell_type": "markdown",
   "metadata": {},
   "source": [
    "## Option 1\n",
    "\n",
    "Use left and right pointers\n",
    "\n",
    "<br>\n",
    "Time complexity O(n^2*log(n))\n",
    "<br>\n",
    "Space complexity O(n)"
   ]
  },
  {
   "cell_type": "code",
   "execution_count": 6,
   "metadata": {
    "scrolled": false
   },
   "outputs": [
    {
     "data": {
      "text/plain": [
       "[[-30, 0, 30],\n",
       " [-30, 10, 20],\n",
       " [-20, -10, 30],\n",
       " [-20, 0, 20],\n",
       " [-10, -1, 11],\n",
       " [-10, 0, 10],\n",
       " [-4, 0, 4],\n",
       " [-4, 2, 2],\n",
       " [-1, -1, 2],\n",
       " [-1, 0, 1]]"
      ]
     },
     "execution_count": 6,
     "metadata": {},
     "output_type": "execute_result"
    }
   ],
   "source": [
    "class Solution:\n",
    "    def threeSum(self, nums: [int]) -> [[int]]:\n",
    "        solution = []\n",
    "        nums.sort()\n",
    "        #Iterate over each index, until len - 2, as we need at leeast 3 to make a 3sum\n",
    "        for i in range(len(nums)-2):\n",
    "            #We only have to do one value once, if this value is the same as the previous, skip it\n",
    "            if i > 0 and nums[i] == nums[i-1]:\n",
    "                continue\n",
    "                \n",
    "            #left and right pointers\n",
    "            l = i + 1\n",
    "            r = len(nums) - 1\n",
    "\n",
    "            while l < r:\n",
    "                val = nums[i] + nums[l] + nums[r]\n",
    "                if val < 0:\n",
    "                    l += 1\n",
    "                elif val > 0:\n",
    "                    r -= 1\n",
    "                else:\n",
    "                    solution.append([nums[i], nums[l], nums[r]])\n",
    "                    #once a solution for this i is found, the l or r cannot be used again (to avoid duplicates)\n",
    "                    while l < r and nums[l] == nums[l+1]:\n",
    "                        l += 1\n",
    "                    while l < r and nums[r] == nums[r-1]:\n",
    "                        r -= 1\n",
    "                    l += 1 \n",
    "                    r -= 1\n",
    "        return solution\n",
    "                \n",
    "Solution().threeSum([-1,0,1,2,-1,-4, 10, 11, 0, 1, 2, 4, -1, -30, -10, -20, 20, 30])\n"
   ]
  },
  {
   "cell_type": "markdown",
   "metadata": {},
   "source": [
    "#### Result:  Accepted\n",
    "#### Runtime: 920ms (61.05%)"
   ]
  }
 ],
 "metadata": {
  "kernelspec": {
   "display_name": "Python 3",
   "language": "python",
   "name": "python3"
  },
  "language_info": {
   "codemirror_mode": {
    "name": "ipython",
    "version": 3
   },
   "file_extension": ".py",
   "mimetype": "text/x-python",
   "name": "python",
   "nbconvert_exporter": "python",
   "pygments_lexer": "ipython3",
   "version": "3.7.4"
  }
 },
 "nbformat": 4,
 "nbformat_minor": 2
}
