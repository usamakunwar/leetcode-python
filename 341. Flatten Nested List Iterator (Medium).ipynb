{
 "cells": [
  {
   "cell_type": "markdown",
   "metadata": {},
   "source": [
    "# 341. Flatten Nested List Iterator (Medium)"
   ]
  },
  {
   "cell_type": "markdown",
   "metadata": {},
   "source": [
    "<div><p>Given a nested list of integers, implement an iterator to flatten it.</p>\n",
    "\n",
    "<p>Each element is either an integer, or a list -- whose elements may also be integers or other lists.</p>\n",
    "\n",
    "<p><strong>Example 1:</strong></p>\n",
    "\n",
    "<div>\n",
    "<pre><strong>Input: </strong><span id=\"example-input-1-1\">[[1,1],2,[1,1]]</span>\n",
    "<strong>Output: </strong><span id=\"example-output-1\">[1,1,2,1,1]\n",
    "</span><strong>Explanation: </strong>By calling <i>next</i> repeatedly until <i>hasNext</i> returns false, \n",
    "&nbsp;            the order of elements returned by <i>next</i> should be: <code>[1,1,2,1,1]</code>.</pre>\n",
    "\n",
    "<div>\n",
    "<p><strong>Example 2:</strong></p>\n",
    "\n",
    "<pre><strong>Input: </strong><span id=\"example-input-2-1\">[1,[4,[6]]]</span>\n",
    "<strong>Output: </strong><span id=\"example-output-2\">[1,4,6]\n",
    "</span><strong>Explanation: </strong>By calling <i>next</i> repeatedly until <i>hasNext</i> returns false, \n",
    "&nbsp;            the order of elements returned by <i>next</i> should be: <code>[1,4,6]</code>.\n",
    "</pre>\n",
    "</div>\n",
    "</div>\n",
    "</div>"
   ]
  },
  {
   "cell_type": "markdown",
   "metadata": {},
   "source": [
    "## Option 1\n",
    "  <p>DFS<p>\n",
    "<p>\n",
    "Time complexity: O(n*m) number of integers * number of nested lists\n",
    "    <br>\n",
    "Space complexity: O(m)"
   ]
  },
  {
   "cell_type": "code",
   "execution_count": null,
   "metadata": {
    "scrolled": false
   },
   "outputs": [],
   "source": [
    "# \"\"\"\n",
    "# This is the interface that allows for creating nested lists.\n",
    "# You should not implement it, or speculate about its implementation\n",
    "# \"\"\"\n",
    "#class NestedInteger(object):\n",
    "#    def isInteger(self):\n",
    "#        \"\"\"\n",
    "#        @return True if this NestedInteger holds a single integer, rather than a nested list.\n",
    "#        :rtype bool\n",
    "#        \"\"\"\n",
    "#\n",
    "#    def getInteger(self):\n",
    "#        \"\"\"\n",
    "#        @return the single integer that this NestedInteger holds, if it holds a single integer\n",
    "#        Return None if this NestedInteger holds a nested list\n",
    "#        :rtype int\n",
    "#        \"\"\"\n",
    "#\n",
    "#    def getList(self):\n",
    "#        \"\"\"\n",
    "#        @return the nested list that this NestedInteger holds, if it holds a nested list\n",
    "#        Return None if this NestedInteger holds a single integer\n",
    "#        :rtype List[NestedInteger]\n",
    "#        \"\"\"\n",
    "\n",
    "class NestedIterator(object):\n",
    "\n",
    "    def __init__(self, nestedList):\n",
    "        self.arr = []\n",
    "        self.i = 0\n",
    "        def search(nestedList):\n",
    "            for n in nestedList:\n",
    "                if n.isInteger():\n",
    "                    self.arr.append(n.getInteger())\n",
    "                else:\n",
    "                    search(n.getList())\n",
    "                    \n",
    "        search(nestedList)\n",
    "\n",
    "    def next(self):\n",
    "        if self.i < len(self.arr):\n",
    "            self.i += 1\n",
    "            return self.arr[self.i-1]\n",
    "        \n",
    "\n",
    "    def hasNext(self):\n",
    "        return self.i < len(self.arr)\n",
    "        \n",
    "\n",
    "# Your NestedIterator object will be instantiated and called as such:\n",
    "# i, v = NestedIterator(nestedList), []\n",
    "# while i.hasNext(): v.append(i.next())"
   ]
  },
  {
   "cell_type": "markdown",
   "metadata": {},
   "source": [
    "#### Result: 72ms (58.10%)"
   ]
  }
 ],
 "metadata": {
  "kernelspec": {
   "display_name": "Python 2",
   "language": "python",
   "name": "python2"
  },
  "language_info": {
   "codemirror_mode": {
    "name": "ipython",
    "version": 2
   },
   "file_extension": ".py",
   "mimetype": "text/x-python",
   "name": "python",
   "nbconvert_exporter": "python",
   "pygments_lexer": "ipython2",
   "version": "2.7.16"
  }
 },
 "nbformat": 4,
 "nbformat_minor": 2
}
