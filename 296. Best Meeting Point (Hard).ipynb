{
 "cells": [
  {
   "cell_type": "markdown",
   "metadata": {},
   "source": [
    "# 296. Best Meeting Point (Hard)"
   ]
  },
  {
   "cell_type": "markdown",
   "metadata": {},
   "source": [
    "<div><p>A group of two or more people wants to meet and minimize the total travel distance. You are given a 2D grid of values 0 or 1, where each 1 marks the home of someone in the group. The distance is calculated using <a href=\"http://en.wikipedia.org/wiki/Taxicab_geometry\" target=\"_blank\">Manhattan Distance</a>, where distance(p1, p2) = <code>|p2.x - p1.x| + |p2.y - p1.y|</code>.</p>\n",
    "\n",
    "<p><strong>Example:</strong></p>\n",
    "\n",
    "<pre><strong>Input:</strong> \n",
    "\n",
    "1 - 0 - 0 - 0 - 1\n",
    "|   |   |   |   |\n",
    "0 - 0 - 0 - 0 - 0\n",
    "|   |   |   |   |\n",
    "0 - 0 - 1 - 0 - 0\n",
    "\n",
    "<strong>Output: 6 \n",
    "\n",
    "Explanation: </strong>Given three people living at <code>(0,0)</code>, <code>(0,4)</code>, and <code>(2,2)</code>:\n",
    "&nbsp;            The point <code>(0,2)</code> is an ideal meeting point, as the total travel distance \n",
    "&nbsp;            of 2+2+2=6 is minimal. So return 6.</pre>\n",
    "</div>"
   ]
  },
  {
   "cell_type": "markdown",
   "metadata": {},
   "source": [
    "## Option 1\n",
    "<p>\n",
    "\n",
    "<li>Separate the x points and y points\n",
    "<li>We need these points sorted, to avoid sort time, we can pick the rows and cols separately in order\n",
    "<li>The difference between every point and the mid point is the optimal meeting point (x and y respectively)\n",
    "<p>\n",
    "Time complexity = O(n)\n",
    "<br>\n",
    "Space complexity = O(n)"
   ]
  },
  {
   "cell_type": "code",
   "execution_count": 37,
   "metadata": {
    "scrolled": true
   },
   "outputs": [
    {
     "data": {
      "text/plain": [
       "6"
      ]
     },
     "execution_count": 37,
     "metadata": {},
     "output_type": "execute_result"
    }
   ],
   "source": [
    "import heapq, collections\n",
    "class Solution(object):\n",
    "    def minTotalDistance(self, grid):\n",
    "        li,lj,x,y = len(grid),len(grid[0]),[],[]\n",
    "        for j in range(lj):\n",
    "            for i in range(li):\n",
    "                if grid[i][j]: x.append(j)\n",
    "        for i in range(li):\n",
    "            for j in range(lj):\n",
    "                if grid[i][j]: y.append(i)\n",
    "        mid = len(x)//2\n",
    "        return sum(abs(i-x[mid]) for i in x) + sum(abs(i-y[mid]) for i in y)\n",
    "        \n",
    "        \n",
    "Solution().minTotalDistance([[1,0,0,0,1],\n",
    "                             [0,0,0,0,0],\n",
    "                             [0,0,1,0,0]])"
   ]
  },
  {
   "cell_type": "markdown",
   "metadata": {},
   "source": [
    "#### Result: 44ms (96.08%)"
   ]
  }
 ],
 "metadata": {
  "kernelspec": {
   "display_name": "Python 2",
   "language": "python",
   "name": "python2"
  },
  "language_info": {
   "codemirror_mode": {
    "name": "ipython",
    "version": 2
   },
   "file_extension": ".py",
   "mimetype": "text/x-python",
   "name": "python",
   "nbconvert_exporter": "python",
   "pygments_lexer": "ipython2",
   "version": "2.7.16"
  }
 },
 "nbformat": 4,
 "nbformat_minor": 2
}
