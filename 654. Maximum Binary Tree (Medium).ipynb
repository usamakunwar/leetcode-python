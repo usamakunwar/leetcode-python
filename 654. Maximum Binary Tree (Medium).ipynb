{
 "cells": [
  {
   "cell_type": "markdown",
   "metadata": {},
   "source": [
    "# 654. Maximum Binary Tree (Medium)"
   ]
  },
  {
   "cell_type": "markdown",
   "metadata": {},
   "source": [
    "<div><p>\n",
    "Given an integer array with no duplicates. A maximum tree building on this array is defined as follow:\n",
    "</p><ol>\n",
    "<li>The root is the maximum number in the array. </li>\n",
    "<li>The left subtree is the maximum tree constructed from left part subarray divided by the maximum number.</li>\n",
    "<li>The right subtree is the maximum tree constructed from right part subarray divided by the maximum number.</li> \n",
    "</ol>\n",
    "<p></p>\n",
    "\n",
    "<p>\n",
    "Construct the maximum tree by the given array and output the root node of this tree.\n",
    "</p>\n",
    "\n",
    "<p><b>Example 1:</b><br>\n",
    "</p><pre><b>Input:</b> [3,2,1,6,0,5]\n",
    "<b>Output:</b> return the tree root node representing the following tree:\n",
    "\n",
    "      6\n",
    "    /   \\\n",
    "   3     5\n",
    "    \\    / \n",
    "     2  0   \n",
    "       \\\n",
    "        1\n",
    "</pre>\n",
    "<p></p>\n",
    "\n",
    "<p><b>Note:</b><br>\n",
    "</p><ol>\n",
    "<li>The size of the given array will be in the range [1,1000].</li>\n",
    "</ol>\n",
    "<p></p></div>"
   ]
  },
  {
   "cell_type": "markdown",
   "metadata": {},
   "source": [
    "## Option 1\n",
    "\n",
    "Time complexity: O(n^2)\n",
    "<br>\n",
    "Space complexity: O(n)"
   ]
  },
  {
   "cell_type": "code",
   "execution_count": null,
   "metadata": {
    "scrolled": true
   },
   "outputs": [],
   "source": [
    "# Definition for a binary tree node.\n",
    "# class TreeNode(object):\n",
    "#     def __init__(self, x):\n",
    "#         self.val = x\n",
    "#         self.left = None\n",
    "#         self.right = None\n",
    "\n",
    "class Solution(object):\n",
    "    def constructMaximumBinaryTree(self, nums):\n",
    "        nums = map(lambda (x,y):(y,x), enumerate(nums))\n",
    "        def search(l,r):\n",
    "            if l == r: return None\n",
    "            m = max(nums[l:r])\n",
    "            node = TreeNode(m[0])\n",
    "            node.left = search(l,m[1])\n",
    "            node.right = search(m[1]+1,r)\n",
    "            return node\n",
    "        \n",
    "        return search(0,len(nums))"
   ]
  },
  {
   "cell_type": "markdown",
   "metadata": {},
   "source": [
    "#### Result: 212ms (49.61%)"
   ]
  }
 ],
 "metadata": {
  "kernelspec": {
   "display_name": "Python 2",
   "language": "python",
   "name": "python2"
  },
  "language_info": {
   "codemirror_mode": {
    "name": "ipython",
    "version": 2
   },
   "file_extension": ".py",
   "mimetype": "text/x-python",
   "name": "python",
   "nbconvert_exporter": "python",
   "pygments_lexer": "ipython2",
   "version": "2.7.16"
  }
 },
 "nbformat": 4,
 "nbformat_minor": 2
}
