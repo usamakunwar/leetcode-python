{
 "cells": [
  {
   "cell_type": "markdown",
   "metadata": {},
   "source": [
    "# 1247. Minimum Swaps to Make Strings Equal (Medium)"
   ]
  },
  {
   "cell_type": "markdown",
   "metadata": {},
   "source": [
    "<div><p>You are given two strings&nbsp;<code>s1</code>&nbsp;and&nbsp;<code>s2</code>&nbsp;of equal length&nbsp;consisting of letters <code>\"x\"</code> and <code>\"y\"</code> <strong>only</strong>. Your task is to&nbsp;make these two strings equal to each other. You can swap any two characters that belong to <strong>different</strong> strings,&nbsp;which means: swap <code>s1[i]</code> and <code>s2[j]</code>.</p>\n",
    "\n",
    "<p>Return&nbsp;the minimum number of swaps required&nbsp;to make&nbsp;<code>s1</code>&nbsp;and <code>s2</code> equal, or return&nbsp;<code>-1</code>&nbsp;if it is&nbsp;impossible to do so.</p>\n",
    "\n",
    "<p>&nbsp;</p>\n",
    "<p><strong>Example 1:</strong></p>\n",
    "\n",
    "<pre><strong>Input:</strong> s1 = \"xx\", s2 = \"yy\"\n",
    "<strong>Output:</strong> 1\n",
    "<strong>Explanation: \n",
    "</strong>Swap s1[0] and s2[1], s1 = \"yx\", s2 = \"yx\".</pre>\n",
    "\n",
    "<p><strong>Example 2:&nbsp;</strong></p>\n",
    "\n",
    "<pre><strong>Input:</strong> s1 = \"xy\", s2 = \"yx\"\n",
    "<strong>Output:</strong> 2\n",
    "<strong>Explanation: \n",
    "</strong>Swap s1[0] and s2[0], s1 = \"yy\", s2 = \"xx\".\n",
    "Swap s1[0] and s2[1], s1 = \"xy\", s2 = \"xy\".\n",
    "Note that you can't swap s1[0] and s1[1] to make s1 equal to \"yx\", cause we can only swap chars in different strings.</pre>\n",
    "\n",
    "<p><strong>Example 3:</strong></p>\n",
    "\n",
    "<pre><strong>Input:</strong> s1 = \"xx\", s2 = \"xy\"\n",
    "<strong>Output:</strong> -1\n",
    "</pre>\n",
    "\n",
    "<p><strong>Example 4:</strong></p>\n",
    "\n",
    "<pre><strong>Input:</strong> s1 = \"xxyyxyxyxx\", s2 = \"xyyxyxxxyx\"\n",
    "<strong>Output:</strong> 4\n",
    "</pre>\n",
    "\n",
    "<p>&nbsp;</p>\n",
    "<p><strong>Constraints:</strong></p>\n",
    "\n",
    "<ul>\n",
    "\t<li><code>1 &lt;= s1.length, s2.length &lt;= 1000</code></li>\n",
    "\t<li><code>s1, s2</code>&nbsp;only contain <code>'x'</code> or <code>'y'</code>.</li>\n",
    "</ul>\n",
    "</div>"
   ]
  },
  {
   "cell_type": "markdown",
   "metadata": {},
   "source": [
    "## Option 1\n",
    "<p>\n",
    "<li>Use a stack to knock out all digits that are smaller than a digit, until k\n",
    "<li>If none were smaller that means the digits are in incremental order, so we will just reduce the end by k \n",
    "<p>\n",
    "<p>\n",
    "Time complexity = O(nlogn)\n",
    "<br>\n",
    "Space complexity = O(1)"
   ]
  },
  {
   "cell_type": "code",
   "execution_count": null,
   "metadata": {
    "scrolled": true
   },
   "outputs": [],
   "source": [
    "import collections, heapq\n",
    "class Solution(object):\n",
    "    def minimumSwap(self, s1, s2):\n",
    "        xy=yx=0 \n",
    "        for i,v in enumerate(s1):\n",
    "            if v == 'x' and s2[i] == 'y': xy += 1\n",
    "            if v == 'y' and s2[i] == 'x': yx += 1\n",
    "        return (xy//2) + (xy%2) + (yx//2) + (yx%2) if (xy%2) == (yx%2) else -1\n",
    "Solution().minimumSwap(\"xxyyxyxyxx\", \"xyyxyxxxyx\")\n",
    "        "
   ]
  },
  {
   "cell_type": "markdown",
   "metadata": {},
   "source": [
    "#### Result: 20ms (58.54%)"
   ]
  }
 ],
 "metadata": {
  "kernelspec": {
   "display_name": "Python 2",
   "language": "python",
   "name": "python2"
  },
  "language_info": {
   "codemirror_mode": {
    "name": "ipython",
    "version": 2
   },
   "file_extension": ".py",
   "mimetype": "text/x-python",
   "name": "python",
   "nbconvert_exporter": "python",
   "pygments_lexer": "ipython2",
   "version": "2.7.16"
  }
 },
 "nbformat": 4,
 "nbformat_minor": 2
}
