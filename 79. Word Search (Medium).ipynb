{
 "cells": [
  {
   "cell_type": "markdown",
   "metadata": {},
   "source": [
    "# 79. Word Search (Medium)\n"
   ]
  },
  {
   "cell_type": "markdown",
   "metadata": {},
   "source": [
    "<div><p>Given a 2D board and a word, find if the word exists in the grid.</p>\n",
    "\n",
    "<p>The word can be constructed from letters of sequentially adjacent cell, where \"adjacent\" cells are those horizontally or vertically neighboring. The same letter cell may not be used more than once.</p>\n",
    "\n",
    "<p><strong>Example:</strong></p>\n",
    "\n",
    "<pre>board =\n",
    "[\n",
    "  ['A','B','C','E'],\n",
    "  ['S','F','C','S'],\n",
    "  ['A','D','E','E']\n",
    "]\n",
    "\n",
    "Given word = \"<strong>ABCCED</strong>\", return <strong>true</strong>.\n",
    "Given word = \"<strong>SEE</strong>\", return <strong>true</strong>.\n",
    "Given word = \"<strong>ABCB</strong>\", return <strong>false</strong>.\n",
    "</pre>\n",
    "</div>"
   ]
  },
  {
   "cell_type": "markdown",
   "metadata": {},
   "source": [
    "## Option 1\n",
    "\n",
    "Depth first search\n",
    "\n",
    "Time complexity = O(i*j*4*len(word)) \n",
    "<br>"
   ]
  },
  {
   "cell_type": "code",
   "execution_count": 21,
   "metadata": {
    "scrolled": false
   },
   "outputs": [
    {
     "data": {
      "text/plain": [
       "True"
      ]
     },
     "execution_count": 21,
     "metadata": {},
     "output_type": "execute_result"
    }
   ],
   "source": [
    "class Solution:\n",
    "    def exist(self, board: [[str]], word: str) -> bool:\n",
    "        \n",
    "        neighbours = [[1,0],[-1,0],[0,1],[0,-1]]\n",
    "        \n",
    "        def search(i,j,w):\n",
    "            if board[i][j] == word[w]:\n",
    "                if w == (len(word) - 1):\n",
    "                    return True\n",
    "                board[i][j] = \"#\"\n",
    "                for neighbour in neighbours:\n",
    "                    ni = i + neighbour[0]\n",
    "                    nj = j + neighbour[1]\n",
    "                    if ni >= 0 and nj >= 0 and ni < len(board) and nj < len(board[0]):\n",
    "                        if search(ni,nj,w+1): return True\n",
    "                board[i][j] = word[w]\n",
    "            \n",
    "\n",
    "        for i in range(len(board)):\n",
    "            for j in range(len(board[0])):\n",
    "                if search(i,j,0) == True:\n",
    "                    return True\n",
    "                \n",
    "        return False\n",
    "\n",
    "Solution().exist([[\"A\",\"B\",\"C\",\"E\"],[\"S\",\"F\",\"C\",\"S\"],[\"A\",\"D\",\"E\",\"E\"]], \"ABCCED\")\n"
   ]
  },
  {
   "cell_type": "markdown",
   "metadata": {},
   "source": [
    "#### Result:  384ms (48.05%)"
   ]
  }
 ],
 "metadata": {
  "kernelspec": {
   "display_name": "Python 3",
   "language": "python",
   "name": "python3"
  },
  "language_info": {
   "codemirror_mode": {
    "name": "ipython",
    "version": 3
   },
   "file_extension": ".py",
   "mimetype": "text/x-python",
   "name": "python",
   "nbconvert_exporter": "python",
   "pygments_lexer": "ipython3",
   "version": "3.7.4"
  }
 },
 "nbformat": 4,
 "nbformat_minor": 2
}
