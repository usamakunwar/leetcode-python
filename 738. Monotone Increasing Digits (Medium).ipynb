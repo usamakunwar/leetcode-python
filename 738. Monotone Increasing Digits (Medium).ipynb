{
 "cells": [
  {
   "cell_type": "markdown",
   "metadata": {},
   "source": [
    "# 738. Monotone Increasing Digits (Medium)"
   ]
  },
  {
   "cell_type": "markdown",
   "metadata": {},
   "source": [
    "<div><p>\n",
    "Given a non-negative integer <code>N</code>, find the largest number that is less than or equal to <code>N</code> with monotone increasing digits.\n",
    "</p><p>\n",
    "(Recall that an integer has <i>monotone increasing digits</i> if and only if each pair of adjacent digits <code>x</code> and <code>y</code> satisfy <code>x &lt;= y</code>.)\n",
    "</p><p>\n",
    "\n",
    "</p><p><b>Example 1:</b><br>\n",
    "</p><pre><b>Input:</b> N = 10\n",
    "<b>Output:</b> 9\n",
    "</pre>\n",
    "<p></p>\n",
    "\n",
    "<p><b>Example 2:</b><br>\n",
    "</p><pre><b>Input:</b> N = 1234\n",
    "<b>Output:</b> 1234\n",
    "</pre>\n",
    "<p></p>\n",
    "\n",
    "<p><b>Example 3:</b><br>\n",
    "</p><pre><b>Input:</b> N = 332\n",
    "<b>Output:</b> 299\n",
    "</pre>\n",
    "<p></p>\n",
    "\n",
    "<p><b>Note:</b>\n",
    "<code>N</code> is an integer in the range <code>[0, 10^9]</code>.\n",
    "</p></div>"
   ]
  },
  {
   "cell_type": "markdown",
   "metadata": {},
   "source": [
    "## Option 1\n",
    "<p>\n",
    "Find the cliff, then go down cliff (go back)\n",
    "<p>\n",
    "Time complexity = O(n) n = number of digits in N\n",
    "<br>\n",
    "Space complexity = O(n)"
   ]
  },
  {
   "cell_type": "code",
   "execution_count": null,
   "metadata": {
    "scrolled": true
   },
   "outputs": [],
   "source": [
    "import collections\n",
    "class Solution(object):\n",
    "    def monotoneIncreasingDigits(self, N):\n",
    "        arr = map(int, str(N))\n",
    "        ln = len(arr)\n",
    "        for i in range(ln-1):\n",
    "            j=k=i\n",
    "            while j >= 0 and arr[j] > arr[j+1]:\n",
    "                arr[j] = arr[j]-1\n",
    "                k = j\n",
    "                j -= 1\n",
    "            if j != k:\n",
    "                arr[k+1:] = [9]*(ln-(k+1))\n",
    "                break\n",
    "        return int(''.join(map(str,arr)))\n",
    "    \n",
    "Solution().monotoneIncreasingDigits(452345)\n",
    "        "
   ]
  },
  {
   "cell_type": "markdown",
   "metadata": {},
   "source": [
    "#### Result: 16ms (79.66%)"
   ]
  },
  {
   "cell_type": "markdown",
   "metadata": {},
   "source": [
    "## Option 2\n",
    "<p>\n",
    "Same as above, bit cleaner\n",
    "<p>\n",
    "Time complexity = O(n) n = number of digits in N\n",
    "<br>\n",
    "Space complexity = O(n)"
   ]
  },
  {
   "cell_type": "code",
   "execution_count": null,
   "metadata": {},
   "outputs": [],
   "source": [
    "import collections\n",
    "class Solution(object):\n",
    "    def monotoneIncreasingDigits(self, N):\n",
    "        arr = map(int, str(N))\n",
    "        ln = len(arr)\n",
    "        i = 1\n",
    "        while i < ln and arr[i] >= arr[i-1]:\n",
    "            i += 1\n",
    "        while 0 < i < ln and arr[i] < arr[i-1]:\n",
    "            arr[i-1] = arr[i-1]-1\n",
    "            i -= 1\n",
    "        arr[i+1:] = [9]*(ln-(i+1))\n",
    "        return int(''.join(map(str,arr)))\n",
    "    \n",
    "Solution().monotoneIncreasingDigits(452345)\n",
    "        "
   ]
  },
  {
   "cell_type": "markdown",
   "metadata": {},
   "source": [
    "#### Result: 20ms (64.41%)"
   ]
  }
 ],
 "metadata": {
  "kernelspec": {
   "display_name": "Python 2",
   "language": "python",
   "name": "python2"
  },
  "language_info": {
   "codemirror_mode": {
    "name": "ipython",
    "version": 2
   },
   "file_extension": ".py",
   "mimetype": "text/x-python",
   "name": "python",
   "nbconvert_exporter": "python",
   "pygments_lexer": "ipython2",
   "version": "2.7.16"
  }
 },
 "nbformat": 4,
 "nbformat_minor": 2
}
