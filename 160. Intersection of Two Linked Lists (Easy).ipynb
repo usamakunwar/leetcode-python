{
 "cells": [
  {
   "cell_type": "markdown",
   "metadata": {},
   "source": [
    "# 160. Intersection of Two Linked Lists (Easy)"
   ]
  },
  {
   "cell_type": "markdown",
   "metadata": {},
   "source": [
    "<div><p>Write a program to find the node at which the intersection of two singly linked lists begins.</p>\n",
    "\n",
    "<p>For example, the following two linked lists:</p>\n",
    "<a href=\"https://assets.leetcode.com/uploads/2018/12/13/160_statement.png\" target=\"_blank\"><img alt=\"\" src=\"https://assets.leetcode.com/uploads/2018/12/13/160_statement.png\" style=\"margin-top: 10px; margin-bottom: 10px; width: 400px; height: 130px;\"></a>\n",
    "\n",
    "<p>begin to intersect at node c1.</p>\n",
    "\n",
    "<p>&nbsp;</p>\n",
    "\n",
    "<p><strong>Example 1:</strong></p>\n",
    "<a href=\"https://assets.leetcode.com/uploads/2018/12/13/160_example_1.png\" target=\"_blank\"><img alt=\"\" src=\"https://assets.leetcode.com/uploads/2018/12/13/160_example_1.png\" style=\"margin-top: 10px; margin-bottom: 10px; width: 400px; height: 130px;\"></a>\n",
    "\n",
    "<pre><strong>Input: </strong>intersectVal = 8, listA = [4,1,8,4,5], listB = [5,0,1,8,4,5], skipA = 2, skipB = 3\n",
    "<strong>Output:</strong> Reference of the node with value = 8\n",
    "<strong>Input Explanation:</strong> The intersected node's value is 8 (note that this must not be 0 if the two lists intersect). From the head of A, it reads as [4,1,8,4,5]. From the head of B, it reads as [5,0,1,8,4,5]. There are 2 nodes before the intersected node in A; There are 3 nodes before the intersected node in B.</pre>\n",
    "\n",
    "<p>&nbsp;</p>\n",
    "\n",
    "<p><strong>Example 2:</strong></p>\n",
    "<a href=\"https://assets.leetcode.com/uploads/2018/12/13/160_example_2.png\" target=\"_blank\"><img alt=\"\" src=\"https://assets.leetcode.com/uploads/2018/12/13/160_example_2.png\" style=\"margin-top: 10px; margin-bottom: 10px; width: 350px; height: 136px;\"></a>\n",
    "\n",
    "<pre><strong>Input: </strong>intersectVal&nbsp;= 2, listA = [0,9,1,2,4], listB = [3,2,4], skipA = 3, skipB = 1\n",
    "<strong>Output:</strong> Reference of the node with value = 2\n",
    "<strong>Input Explanation:</strong>&nbsp;The intersected node's value is 2 (note that this must not be 0 if the two lists intersect). From the head of A, it reads as [0,9,1,2,4]. From the head of B, it reads as [3,2,4]. There are 3 nodes before the intersected node in A; There are 1 node before the intersected node in B.\n",
    "</pre>\n",
    "\n",
    "<p>&nbsp;</p>\n",
    "\n",
    "<p><strong>Example 3:</strong></p>\n",
    "<a href=\"https://assets.leetcode.com/uploads/2018/12/13/160_example_3.png\" target=\"_blank\"><img alt=\"\" src=\"https://assets.leetcode.com/uploads/2018/12/13/160_example_3.png\" style=\"margin-top: 10px; margin-bottom: 10px; width: 200px; height: 126px;\"></a>\n",
    "\n",
    "<pre><strong>Input: </strong>intersectVal = 0, listA = [2,6,4], listB = [1,5], skipA = 3, skipB = 2\n",
    "<strong>Output:</strong> null\n",
    "<strong>Input Explanation:</strong> From the head of A, it reads as [2,6,4]. From the head of B, it reads as [1,5]. Since the two lists do not intersect, intersectVal must be 0, while skipA and skipB can be arbitrary values.\n",
    "<strong>Explanation:</strong> The two lists do not intersect, so return null.\n",
    "</pre>\n",
    "\n",
    "<p>&nbsp;</p>\n",
    "\n",
    "<p><b>Notes:</b></p>\n",
    "\n",
    "<ul>\n",
    "\t<li>If the two linked lists have no intersection at all, return <code>null</code>.</li>\n",
    "\t<li>The linked lists must retain their original structure after the function returns.</li>\n",
    "\t<li>You may assume there are no cycles anywhere in the entire linked structure.</li>\n",
    "\t<li>Your code should preferably run in O(n) time and use only O(1) memory.</li>\n",
    "</ul>\n",
    "</div>"
   ]
  },
  {
   "cell_type": "markdown",
   "metadata": {},
   "source": [
    "## Option 1\n",
    "<p>\n",
    "    Get the depth\n",
    "    <p>\n",
    "Time complexity: O(n)\n",
    "<br>\n",
    "Space complexity: O(1) "
   ]
  },
  {
   "cell_type": "code",
   "execution_count": null,
   "metadata": {},
   "outputs": [],
   "source": [
    "# Definition for singly-linked list.\n",
    "# class ListNode(object):\n",
    "#     def __init__(self, x):\n",
    "#         self.val = x\n",
    "#         self.next = None\n",
    "\n",
    "class Solution(object):\n",
    "    def getIntersectionNode(self, headA, headB):\n",
    "        \"\"\"\n",
    "        :type head1, head1: ListNode\n",
    "        :rtype: ListNode\n",
    "        \"\"\"\n",
    "        a, depth_a = headA, 0\n",
    "        b, depth_b = headB, 0\n",
    "        #Find the depth of A and B\n",
    "        while a or b:\n",
    "            if a:\n",
    "                a = a.next\n",
    "                depth_a += 1\n",
    "            if b:\n",
    "                b = b.next\n",
    "                depth_b += 1\n",
    "                \n",
    "        #Get them together then compare\n",
    "        while headA and headB:\n",
    "            if headA == headB: return headA\n",
    "            if depth_a > depth_b:\n",
    "                headA = headA.next\n",
    "                depth_a -= 1\n",
    "            elif depth_b > depth_a:\n",
    "                headB = headB.next\n",
    "                depth_b -= 1\n",
    "            else:\n",
    "                headA, headB = headA.next, headB.next\n",
    "        \n",
    "        return None\n",
    "        "
   ]
  },
  {
   "cell_type": "markdown",
   "metadata": {},
   "source": [
    "#### Result: 196ms (70.48%)\n"
   ]
  }
 ],
 "metadata": {
  "kernelspec": {
   "display_name": "Python 2",
   "language": "python",
   "name": "python2"
  },
  "language_info": {
   "codemirror_mode": {
    "name": "ipython",
    "version": 2
   },
   "file_extension": ".py",
   "mimetype": "text/x-python",
   "name": "python",
   "nbconvert_exporter": "python",
   "pygments_lexer": "ipython2",
   "version": "2.7.16"
  }
 },
 "nbformat": 4,
 "nbformat_minor": 2
}
