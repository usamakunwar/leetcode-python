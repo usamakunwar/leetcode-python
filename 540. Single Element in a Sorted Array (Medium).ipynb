{
 "cells": [
  {
   "cell_type": "markdown",
   "metadata": {},
   "source": [
    "# 540. Single Element in a Sorted Array (Medium)"
   ]
  },
  {
   "cell_type": "markdown",
   "metadata": {},
   "source": [
    "<div><p>You are given a sorted array consisting of only integers where every element appears exactly twice, except for one element which appears exactly&nbsp;once. Find this single element that appears only once.</p>\n",
    "\n",
    "<p>&nbsp;</p>\n",
    "\n",
    "<p><b>Example 1:</b></p>\n",
    "\n",
    "<pre><b>Input:</b> [1,1,2,3,3,4,4,8,8]\n",
    "<b>Output:</b> 2\n",
    "</pre>\n",
    "\n",
    "<p><b>Example 2:</b></p>\n",
    "\n",
    "<pre><b>Input:</b> [3,3,7,7,10,11,11]\n",
    "<b>Output:</b> 10\n",
    "</pre>\n",
    "\n",
    "<p>&nbsp;</p>\n",
    "\n",
    "<p><b>Note:</b> Your solution should run in O(log n) time and O(1) space.</p>\n",
    "</div>"
   ]
  },
  {
   "cell_type": "markdown",
   "metadata": {},
   "source": [
    "## Option 1\n",
    "<p>\n",
    "    Binary Search\n",
    "    <p>\n",
    "    <li>We can reduce the problem by half at every iteration, by checking which side the equal pair lands.\n",
    "    <li>If mid is even and the pair is on the right, that means the array so far is ok, move search to the right\n",
    "    <li>If mid is odd and the pair is on the left, move search to the right\n",
    "  <p>\n",
    "    <p>\n",
    "Time complexity: O(logn)\n",
    "<br>\n",
    "Space complexity: O(1)"
   ]
  },
  {
   "cell_type": "code",
   "execution_count": null,
   "metadata": {
    "scrolled": true
   },
   "outputs": [],
   "source": [
    "from collections import defaultdict\n",
    "class Solution(object):\n",
    "    def singleNonDuplicate(self, nums):\n",
    "        l,r = 0,len(nums)-1\n",
    "        while l < r:\n",
    "            mid = (l+r)//2\n",
    "            #This can be replaced by XOR operator if nums[mid] == nums[mid ^ 1] \n",
    "            if (mid%2 and nums[mid] == nums[mid-1]) or (not mid%2 and nums[mid] == nums[mid+1]):\n",
    "                l = mid + 1\n",
    "            else:\n",
    "                r = mid\n",
    "        return nums[l]\n",
    "        \n",
    "Solution().singleNonDuplicate([1])\n"
   ]
  },
  {
   "cell_type": "markdown",
   "metadata": {},
   "source": [
    "#### Result: 52ms (91.98%)"
   ]
  }
 ],
 "metadata": {
  "kernelspec": {
   "display_name": "Python 2",
   "language": "python",
   "name": "python2"
  },
  "language_info": {
   "codemirror_mode": {
    "name": "ipython",
    "version": 2
   },
   "file_extension": ".py",
   "mimetype": "text/x-python",
   "name": "python",
   "nbconvert_exporter": "python",
   "pygments_lexer": "ipython2",
   "version": "2.7.16"
  }
 },
 "nbformat": 4,
 "nbformat_minor": 2
}
