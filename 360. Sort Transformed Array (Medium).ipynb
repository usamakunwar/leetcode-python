{
 "cells": [
  {
   "cell_type": "markdown",
   "metadata": {},
   "source": [
    "# 360. Sort Transformed Array (Medium)"
   ]
  },
  {
   "cell_type": "markdown",
   "metadata": {},
   "source": [
    "<div><p>Given a <b>sorted</b> array of integers <i>nums</i> and integer values <i>a</i>, <i>b</i> and <i>c</i>. Apply a quadratic function of the form f(<i>x</i>) = <i>ax</i><sup>2</sup> + <i>bx</i> + <i>c</i> to each element <i>x</i> in the array.</p>\n",
    "\n",
    "<p>The returned array must be in <b>sorted order</b>.</p>\n",
    "\n",
    "<p>Expected time complexity: <b>O(<i>n</i>)</b></p>\n",
    "\n",
    "<div>\n",
    "<p><strong>Example 1:</strong></p>\n",
    "\n",
    "<pre><strong>Input: </strong>nums = <span id=\"example-input-1-1\">[-4,-2,2,4]</span>, a = <span id=\"example-input-1-2\">1</span>, b = <span id=\"example-input-1-3\">3</span>, c = <span id=\"example-input-1-4\">5</span>\n",
    "<strong>Output: </strong><span id=\"example-output-1\">[3,9,15,33]</span>\n",
    "</pre>\n",
    "\n",
    "<div>\n",
    "<p><strong>Example 2:</strong></p>\n",
    "\n",
    "<pre><strong>Input: </strong>nums = <span id=\"example-input-2-1\">[-4,-2,2,4]</span>, a = <span id=\"example-input-2-2\">-1</span>, b = <span id=\"example-input-2-3\">3</span>, c = <span id=\"example-input-2-4\">5</span>\n",
    "<strong>Output: </strong><span id=\"example-output-2\">[-23,-5,1,7]</span>\n",
    "</pre>\n",
    "</div>\n",
    "</div></div>"
   ]
  },
  {
   "cell_type": "markdown",
   "metadata": {},
   "source": [
    "## Option 1\n",
    "<p>\n",
    "<li>Refer to https://www.desmos.com/calculator/pfdwlq5qht\n",
    "<li>IF polynomial use pointers as highest values are at furthest ends\n",
    "<li>ELSE its just a linear solution or reversed linear\n",
    "<li>The highest values (y) will come from the the x differences from the vertex\n",
    "<p>\n",
    "<p>\n",
    "Time complexity = O(n)\n",
    "<br>\n",
    "Space complexity = O(n)"
   ]
  },
  {
   "cell_type": "code",
   "execution_count": 88,
   "metadata": {
    "scrolled": true
   },
   "outputs": [
    {
     "data": {
      "text/plain": [
       "[1, 3, 7, 9]"
      ]
     },
     "execution_count": 88,
     "metadata": {},
     "output_type": "execute_result"
    }
   ],
   "source": [
    "import collections\n",
    "class Solution(object):\n",
    "    def sortTransformedArray(self, nums, a, b, c):\n",
    "        if not a: \n",
    "            nums = map(lambda x:(b*x)+c, nums)\n",
    "            return nums[::-1] if b < 0 else nums\n",
    "        v = -b/float(2*a)  #vertex\n",
    "        p1, p2, res = 0,len(nums)-1, []\n",
    "        while p1 <= p2:\n",
    "            if abs(v-nums[p1]) > abs(v-nums[p2]):\n",
    "                res.append(a*(nums[p1]**2)+(b*nums[p1])+c)\n",
    "                p1 += 1\n",
    "            else:\n",
    "                res.append(a*(nums[p2]**2)+(b*nums[p2])+c)\n",
    "                p2 -= 1\n",
    "        return res if a < 0 else res[::-1]\n",
    "        \n",
    "Solution().sortTransformedArray([-4,-2,2,4],0,-1,5)        "
   ]
  },
  {
   "cell_type": "markdown",
   "metadata": {},
   "source": [
    "#### Result: 20ms (20.16%)"
   ]
  }
 ],
 "metadata": {
  "kernelspec": {
   "display_name": "Python 2",
   "language": "python",
   "name": "python2"
  },
  "language_info": {
   "codemirror_mode": {
    "name": "ipython",
    "version": 2
   },
   "file_extension": ".py",
   "mimetype": "text/x-python",
   "name": "python",
   "nbconvert_exporter": "python",
   "pygments_lexer": "ipython2",
   "version": "2.7.16"
  }
 },
 "nbformat": 4,
 "nbformat_minor": 2
}
