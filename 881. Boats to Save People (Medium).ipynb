{
 "cells": [
  {
   "cell_type": "markdown",
   "metadata": {},
   "source": [
    "# 881. Boats to Save People (Medium)"
   ]
  },
  {
   "cell_type": "markdown",
   "metadata": {},
   "source": [
    "<div><p>The <code>i</code>-th person has weight <code>people[i]</code>, and each boat can carry a maximum weight of <code>limit</code>.</p>\n",
    "\n",
    "<p>Each boat carries at most 2 people at the same time, provided the sum of the&nbsp;weight of those people is at most <code>limit</code>.</p>\n",
    "\n",
    "<p>Return the minimum number of boats to carry every given person.&nbsp; (It is guaranteed each person can be carried by a boat.)</p>\n",
    "\n",
    "<p>&nbsp;</p>\n",
    "\n",
    "<div>\n",
    "<p><strong>Example 1:</strong></p>\n",
    "\n",
    "<pre><strong>Input: </strong>people = <span id=\"example-input-1-1\">[1,2]</span>, limit = <span id=\"example-input-1-2\">3</span>\n",
    "<strong>Output: </strong><span id=\"example-output-1\">1</span>\n",
    "<strong>Explanation: </strong>1 boat (1, 2)\n",
    "</pre>\n",
    "\n",
    "<div>\n",
    "<p><strong>Example 2:</strong></p>\n",
    "\n",
    "<pre><strong>Input: </strong>people = <span id=\"example-input-2-1\">[3,2,2,1]</span>, limit = <span id=\"example-input-2-2\">3</span>\n",
    "<strong>Output: </strong><span id=\"example-output-2\">3</span>\n",
    "<strong>Explanation</strong>: 3 boats (1, 2), (2) and (3)\n",
    "</pre>\n",
    "\n",
    "<div>\n",
    "<p><strong>Example 3:</strong></p>\n",
    "\n",
    "<pre><strong>Input: </strong>people = <span id=\"example-input-3-1\">[3,5,3,4]</span>, limit = <span id=\"example-input-3-2\">5</span>\n",
    "<strong>Output: </strong><span id=\"example-output-3\">4</span>\n",
    "<strong>Explanation</strong>: 4 boats (3), (3), (4), (5)</pre>\n",
    "\n",
    "<p><strong>Note</strong>:</p>\n",
    "\n",
    "<ul>\n",
    "\t<li><code>1 &lt;=&nbsp;people.length &lt;= 50000</code></li>\n",
    "\t<li><code>1 &lt;= people[i] &lt;=&nbsp;limit &lt;= 30000</code></li>\n",
    "</ul>\n",
    "</div>\n",
    "</div>\n",
    "</div>\n",
    "</div>"
   ]
  },
  {
   "cell_type": "markdown",
   "metadata": {},
   "source": [
    "## Option 1\n",
    "<p>\n",
    "<li>Use a stack to knock out all digits that are smaller than a digit, until k\n",
    "<li>If none were smaller that means the digits are in incremental order, so we will just reduce the end by k \n",
    "<p>\n",
    "<p>\n",
    "Time complexity = O(nlogn)\n",
    "<br>\n",
    "Space complexity = O(1)"
   ]
  },
  {
   "cell_type": "code",
   "execution_count": null,
   "metadata": {
    "scrolled": true
   },
   "outputs": [],
   "source": [
    "import collections, heapq\n",
    "class Solution(object):\n",
    "    def numRescueBoats(self, people, limit):\n",
    "        people.sort()\n",
    "        l,r,res = 0,len(people)-1,0\n",
    "        while l <= r:\n",
    "            space = limit - people[r]            \n",
    "            if space >= people[l]:\n",
    "                l += 1\n",
    "            r -=1\n",
    "            res += 1\n",
    "        return res\n",
    "Solution().numRescueBoats([2,49,10,7,11,41,47,2,22,6,13,12,33,18,10,26,2,6,50,10],50)\n",
    "        "
   ]
  },
  {
   "cell_type": "markdown",
   "metadata": {},
   "source": [
    "#### Result: 468ms (22.22%)"
   ]
  }
 ],
 "metadata": {
  "kernelspec": {
   "display_name": "Python 2",
   "language": "python",
   "name": "python2"
  },
  "language_info": {
   "codemirror_mode": {
    "name": "ipython",
    "version": 2
   },
   "file_extension": ".py",
   "mimetype": "text/x-python",
   "name": "python",
   "nbconvert_exporter": "python",
   "pygments_lexer": "ipython2",
   "version": "2.7.16"
  }
 },
 "nbformat": 4,
 "nbformat_minor": 2
}
