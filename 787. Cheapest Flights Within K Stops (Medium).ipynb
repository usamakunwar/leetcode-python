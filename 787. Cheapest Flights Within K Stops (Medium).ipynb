{
 "cells": [
  {
   "cell_type": "markdown",
   "metadata": {},
   "source": [
    "# 787. Cheapest Flights Within K Stops (Medium)"
   ]
  },
  {
   "cell_type": "markdown",
   "metadata": {},
   "source": [
    "<div><p>There are <code>n</code> cities connected by&nbsp;<code>m</code> flights. Each flight starts from city&nbsp;<code>u </code>and arrives at&nbsp;<code>v</code> with a price <code>w</code>.</p>\n",
    "\n",
    "<p>Now given all the cities and flights, together with starting city <code>src</code> and the destination&nbsp;<code>dst</code>, your task is to find the cheapest price from <code>src</code> to <code>dst</code> with up to <code>k</code> stops. If there is no such route, output <code>-1</code>.</p>\n",
    "\n",
    "<pre><strong>Example 1:</strong>\n",
    "<strong>Input:</strong> \n",
    "n = 3, edges = [[0,1,100],[1,2,100],[0,2,500]]\n",
    "src = 0, dst = 2, k = 1\n",
    "<strong>Output:</strong> 200\n",
    "<strong>Explanation:</strong> \n",
    "The graph looks like this:\n",
    "<img alt=\"\" src=\"https://s3-lc-upload.s3.amazonaws.com/uploads/2018/02/16/995.png\" style=\"height:180px; width:246px\">\n",
    "\n",
    "The cheapest price from city <code>0</code> to city <code>2</code> with at most 1 stop costs 200, as marked red in the picture.</pre>\n",
    "\n",
    "<pre><strong>Example 2:</strong>\n",
    "<strong>Input:</strong> \n",
    "n = 3, edges = [[0,1,100],[1,2,100],[0,2,500]]\n",
    "src = 0, dst = 2, k = 0\n",
    "<strong>Output:</strong> 500\n",
    "<strong>Explanation:</strong> \n",
    "The graph looks like this:\n",
    "<img alt=\"\" src=\"https://s3-lc-upload.s3.amazonaws.com/uploads/2018/02/16/995.png\" style=\"height:180px; width:246px\">\n",
    "\n",
    "The cheapest price from city <code>0</code> to city <code>2</code> with at most 0 stop costs 500, as marked blue in the picture.</pre>\n",
    "\n",
    "<p><strong>Note:</strong></p>\n",
    "\n",
    "<ul>\n",
    "\t<li>The number of&nbsp;nodes&nbsp;<code>n</code> will be&nbsp;in range <code>[1, 100]</code>, with nodes labeled from <code>0</code> to <code>n</code><code> - 1</code>.</li>\n",
    "\t<li>The&nbsp;size of <code>flights</code> will be&nbsp;in range <code>[0, n * (n - 1) / 2]</code>.</li>\n",
    "\t<li>The format of each flight will be <code>(src, </code><code>dst</code><code>, price)</code>.</li>\n",
    "\t<li>The price of each flight will be in the range <code>[1, 10000]</code>.</li>\n",
    "\t<li><code>k</code> is in the range of <code>[0, n - 1]</code>.</li>\n",
    "\t<li>There&nbsp;will&nbsp;not&nbsp;be&nbsp;any&nbsp;duplicated&nbsp;flights or&nbsp;self&nbsp;cycles.</li>\n",
    "</ul>\n",
    "</div>"
   ]
  },
  {
   "cell_type": "markdown",
   "metadata": {},
   "source": [
    "## Option 1\n",
    "\n",
    "<p>DFS\n",
    "    <p>\n",
    "\n",
    "Time complexity: O(n)\n",
    "<br>\n",
    "Space complexity: O(n) "
   ]
  },
  {
   "cell_type": "code",
   "execution_count": null,
   "metadata": {},
   "outputs": [],
   "source": [
    "import collections\n",
    "class Solution(object):\n",
    "    def findCheapestPrice(self, n, flights, src, dst, K):\n",
    "        flights.sort(key=lambda x:x[2])\n",
    "        m = collections.defaultdict(list)\n",
    "        for u,v,w in flights:\n",
    "            m[u].append((v,w))\n",
    "        self.res = float('inf')\n",
    "        \n",
    "        def search(loc, stops, cost, m):\n",
    "            if loc == dst:\n",
    "                self.res = min(self.res, cost)\n",
    "            if not stops: return\n",
    "            destinations = m[loc]\n",
    "            del m[loc]\n",
    "            for v,w in destinations:\n",
    "                if cost+w >= self.res: continue\n",
    "                search(v, stops-1, cost+w, m.copy())\n",
    "            \n",
    "        search(src, K+1, 0, m)\n",
    "        \n",
    "        return -1 if self.res == float('inf') else self.res\n",
    "    \n",
    "Solution().findCheapestPrice(5, [[0,1,5],[1,2,5],[0,3,2],[3,1,2],[1,4,1],[4,2,1]], 0, 2, 2)\n",
    "        "
   ]
  },
  {
   "cell_type": "markdown",
   "metadata": {},
   "source": [
    "#### Result: 128ms (24.41%)"
   ]
  },
  {
   "cell_type": "markdown",
   "metadata": {},
   "source": [
    "## Option 2\n",
    "\n",
    "<p>Dijkstra. (Similar to BFS) \n",
    "   <li>Above we are trying to avoid a loop using an internal map, which is unnecessary as the number of stops are within a range of [0, n - 1]. So we can't have an infinite loop\n",
    "    <p>\n",
    "\n",
    "Time complexity: O(n)\n",
    "<br>\n",
    "Space complexity: O(n) "
   ]
  },
  {
   "cell_type": "code",
   "execution_count": null,
   "metadata": {},
   "outputs": [],
   "source": [
    "import collections\n",
    "class Solution(object):\n",
    "    def findCheapestPrice(self, n, flights, src, dst, K):\n",
    "        m = collections.defaultdict(list)\n",
    "        for u,v,w in flights:\n",
    "            m[u].append((v,w))\n",
    "        \n",
    "        q = [(0,src,K+1)]\n",
    "        \n",
    "        while q:\n",
    "            cost,loc,stops = heapq.heappop(q)\n",
    "            if loc == dst:\n",
    "                return cost\n",
    "            if not stops: continue\n",
    "            for v,w in m[loc]:\n",
    "                heapq.heappush(q,(cost+w, v, stops-1))\n",
    "        return -1\n",
    "\n",
    "Solution().findCheapestPrice(5, [[0,1,5],[1,0,1],[0,3,2],[4,2,1]], 0, 2, 3)\n",
    "        "
   ]
  },
  {
   "cell_type": "markdown",
   "metadata": {},
   "source": [
    "#### Result: 88ms (44.47%)"
   ]
  }
 ],
 "metadata": {
  "kernelspec": {
   "display_name": "Python 2",
   "language": "python",
   "name": "python2"
  },
  "language_info": {
   "codemirror_mode": {
    "name": "ipython",
    "version": 2
   },
   "file_extension": ".py",
   "mimetype": "text/x-python",
   "name": "python",
   "nbconvert_exporter": "python",
   "pygments_lexer": "ipython2",
   "version": "2.7.16"
  }
 },
 "nbformat": 4,
 "nbformat_minor": 2
}
