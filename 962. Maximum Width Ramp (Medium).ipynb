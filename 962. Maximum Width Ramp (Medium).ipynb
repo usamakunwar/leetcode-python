{
 "cells": [
  {
   "cell_type": "markdown",
   "metadata": {},
   "source": [
    "# 962. Maximum Width Ramp (Medium)"
   ]
  },
  {
   "cell_type": "markdown",
   "metadata": {},
   "source": [
    "<div><p>Given an array <code>A</code> of integers, a <em>ramp</em>&nbsp;is a tuple <code>(i, j)</code> for which <code>i &lt; j</code>&nbsp;and&nbsp;<code>A[i] &lt;= A[j]</code>.&nbsp; The width of such a&nbsp;ramp is <code>j - i</code>.</p>\n",
    "\n",
    "<p>Find the maximum width of a ramp in <code>A</code>.&nbsp; If one doesn't exist, return 0.</p>\n",
    "\n",
    "<p>&nbsp;</p>\n",
    "\n",
    "<p><strong>Example 1:</strong></p>\n",
    "\n",
    "<pre><strong>Input: </strong><span id=\"example-input-1-1\">[6,0,8,2,1,5]</span>\n",
    "<strong>Output: </strong><span id=\"example-output-1\">4</span>\n",
    "<strong>Explanation: </strong>\n",
    "The maximum width ramp is achieved at (i, j) = (1, 5): A[1] = 0 and A[5] = 5.\n",
    "</pre>\n",
    "\n",
    "<div>\n",
    "<p><strong>Example 2:</strong></p>\n",
    "\n",
    "<pre><strong>Input: </strong><span id=\"example-input-2-1\">[9,8,1,0,1,9,4,0,4,1]</span>\n",
    "<strong>Output: </strong><span id=\"example-output-2\">7</span>\n",
    "<strong>Explanation: </strong>\n",
    "The maximum width ramp is achieved at (i, j) = (2, 9): A[2] = 1 and A[9] = 1.\n",
    "</pre>\n",
    "</div>\n",
    "\n",
    "<div>\n",
    "<div>\n",
    "<p>&nbsp;</p>\n",
    "\n",
    "<p><strong>Note:</strong></p>\n",
    "\n",
    "<ol>\n",
    "\t<li><code>2 &lt;= A.length &lt;= 50000</code></li>\n",
    "\t<li><code>0 &lt;= A[i] &lt;= 50000</code></li>\n",
    "</ol>\n",
    "</div>\n",
    "</div>\n",
    "\n",
    "<div>\n",
    "<div>&nbsp;</div>\n",
    "</div>\n",
    "</div>"
   ]
  },
  {
   "cell_type": "markdown",
   "metadata": {},
   "source": [
    "## Option 1\n",
    "<p>\n",
    "<li>If we sort by value, we know every other value will be a valid window, then just track the max window \n",
    "<p>\n",
    "    <p>\n",
    "Time complexity: O(nlogn)\n",
    "<br>\n",
    "Space complexity: O(1) "
   ]
  },
  {
   "cell_type": "code",
   "execution_count": null,
   "metadata": {},
   "outputs": [],
   "source": [
    "class Solution(object):\n",
    "    def maxWidthRamp(self, A):\n",
    "        A = sorted(map(lambda (x,y):(y,x) ,enumerate(A)))\n",
    "        res = 0\n",
    "        j = float('inf') #Represents the minimum index\n",
    "        for v,i in A:\n",
    "            res = max(res,i-j)\n",
    "            j = min(j,i)\n",
    "        return res\n",
    "            \n",
    "Solution().maxWidthRamp([9,8,1,0,1,9,4,0,4,1])\n",
    "        "
   ]
  },
  {
   "cell_type": "markdown",
   "metadata": {},
   "source": [
    "#### Result: 716ms (5.80%)\n"
   ]
  }
 ],
 "metadata": {
  "kernelspec": {
   "display_name": "Python 2",
   "language": "python",
   "name": "python2"
  },
  "language_info": {
   "codemirror_mode": {
    "name": "ipython",
    "version": 2
   },
   "file_extension": ".py",
   "mimetype": "text/x-python",
   "name": "python",
   "nbconvert_exporter": "python",
   "pygments_lexer": "ipython2",
   "version": "2.7.16"
  }
 },
 "nbformat": 4,
 "nbformat_minor": 2
}
