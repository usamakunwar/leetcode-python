{
 "cells": [
  {
   "cell_type": "markdown",
   "metadata": {},
   "source": [
    "# 1441. Build an Array With Stack Operations (Easy)"
   ]
  },
  {
   "cell_type": "markdown",
   "metadata": {},
   "source": [
    "<div><p>Given an array <code>target</code> and&nbsp;an integer <code>n</code>. In each iteration, you will read a number from &nbsp;<code>list = {1,2,3..., n}</code>.</p>\n",
    "\n",
    "<p>Build the <code>target</code>&nbsp;array&nbsp;using the following operations:</p>\n",
    "\n",
    "<ul>\n",
    "\t<li><strong>Push</strong>: Read a new element from the beginning&nbsp;<code>list</code>, and push it in the array.</li>\n",
    "\t<li><strong>Pop</strong>: delete the last element of&nbsp;the array.</li>\n",
    "\t<li>If the target array is already&nbsp;built, stop reading more elements.</li>\n",
    "</ul>\n",
    "\n",
    "<p>You are guaranteed that the target array is strictly&nbsp;increasing, only containing&nbsp;numbers between 1 to <code>n</code>&nbsp;inclusive.</p>\n",
    "\n",
    "<p>Return the operations to build the target array.</p>\n",
    "\n",
    "<p>You are guaranteed that the answer is unique.</p>\n",
    "\n",
    "<p>&nbsp;</p>\n",
    "<p><strong>Example 1:</strong></p>\n",
    "\n",
    "<pre><strong>Input:</strong> target = [1,3], n = 3\n",
    "<strong>Output:</strong> [\"Push\",\"Push\",\"Pop\",\"Push\"]\n",
    "<strong>Explanation: \n",
    "</strong>Read number 1 and automatically push in the array -&gt; [1]\n",
    "Read number 2 and automatically push in the array then Pop it -&gt; [1]\n",
    "Read number 3 and automatically push in the array -&gt; [1,3]\n",
    "</pre>\n",
    "\n",
    "<p><strong>Example 2:</strong></p>\n",
    "\n",
    "<pre><strong>Input:</strong> target = [1,2,3], n = 3\n",
    "<strong>Output:</strong> [\"Push\",\"Push\",\"Push\"]\n",
    "</pre>\n",
    "\n",
    "<p><strong>Example 3:</strong></p>\n",
    "\n",
    "<pre><strong>Input:</strong> target = [1,2], n = 4\n",
    "<strong>Output:</strong> [\"Push\",\"Push\"]\n",
    "<strong>Explanation: </strong>You only need to read the first 2 numbers and stop.\n",
    "</pre>\n",
    "\n",
    "<p><strong>Example 4:</strong></p>\n",
    "\n",
    "<pre><strong>Input:</strong> target = [2,3,4], n = 4\n",
    "<strong>Output:</strong> [\"Push\",\"Pop\",\"Push\",\"Push\",\"Push\"]\n",
    "</pre>\n",
    "\n",
    "<p>&nbsp;</p>\n",
    "<p><strong>Constraints:</strong></p>\n",
    "\n",
    "<ul>\n",
    "\t<li><code>1 &lt;= target.length &lt;= 100</code></li>\n",
    "\t<li><code>1 &lt;= target[i]&nbsp;&lt;= 100</code></li>\n",
    "\t<li><code>1 &lt;= n &lt;= 100</code></li>\n",
    "\t<li><code>target</code> is strictly&nbsp;increasing.</li>\n",
    "</ul>\n",
    "</div>"
   ]
  },
  {
   "cell_type": "markdown",
   "metadata": {},
   "source": [
    "## Option 1\n",
    "\n",
    "<p>\n",
    "   <p>\n",
    "Time complexity: O(n)\n",
    "    <br>\n",
    "Space complexity: O(n)\n"
   ]
  },
  {
   "cell_type": "code",
   "execution_count": null,
   "metadata": {},
   "outputs": [],
   "source": [
    "class Solution(object):\n",
    "    def buildArray(self, target, n):\n",
    "        i = 0\n",
    "        res = []\n",
    "        for j in range(n):\n",
    "            res.append('Push')\n",
    "            if target[i] != j+1:\n",
    "                res.append('Pop')\n",
    "            else:\n",
    "                i += 1\n",
    "                if i > len(target)-1: break\n",
    "        return res\n",
    "        \n",
    "            \n",
    "Solution().buildArray([1,2], 4)\n",
    "    "
   ]
  },
  {
   "cell_type": "markdown",
   "metadata": {},
   "source": [
    "#### Result: 12ms (99.18%)"
   ]
  }
 ],
 "metadata": {
  "kernelspec": {
   "display_name": "Python 2",
   "language": "python",
   "name": "python2"
  },
  "language_info": {
   "codemirror_mode": {
    "name": "ipython",
    "version": 2
   },
   "file_extension": ".py",
   "mimetype": "text/x-python",
   "name": "python",
   "nbconvert_exporter": "python",
   "pygments_lexer": "ipython2",
   "version": "2.7.16"
  }
 },
 "nbformat": 4,
 "nbformat_minor": 2
}
