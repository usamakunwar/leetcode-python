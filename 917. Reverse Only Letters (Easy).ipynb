{
 "cells": [
  {
   "cell_type": "markdown",
   "metadata": {},
   "source": [
    "# 917. Reverse Only Letters (Easy)"
   ]
  },
  {
   "cell_type": "markdown",
   "metadata": {},
   "source": [
    "<div><p>Given a string <code>S</code>, return the \"reversed\" string where all characters that are not a letter&nbsp;stay in the same place, and all letters reverse their positions.</p>\n",
    "\n",
    "<p>&nbsp;</p>\n",
    "\n",
    "<div>\n",
    "<div>\n",
    "<div>\n",
    "<ol>\n",
    "</ol>\n",
    "</div>\n",
    "</div>\n",
    "</div>\n",
    "\n",
    "<div>\n",
    "<p><strong>Example 1:</strong></p>\n",
    "\n",
    "<pre><strong>Input: </strong><span id=\"example-input-1-1\">\"ab-cd\"</span>\n",
    "<strong>Output: </strong><span id=\"example-output-1\">\"dc-ba\"</span>\n",
    "</pre>\n",
    "\n",
    "<div>\n",
    "<p><strong>Example 2:</strong></p>\n",
    "\n",
    "<pre><strong>Input: </strong><span id=\"example-input-2-1\">\"a-bC-dEf-ghIj\"</span>\n",
    "<strong>Output: </strong><span id=\"example-output-2\">\"j-Ih-gfE-dCba\"</span>\n",
    "</pre>\n",
    "\n",
    "<div>\n",
    "<p><strong>Example 3:</strong></p>\n",
    "\n",
    "<pre><strong>Input: </strong><span id=\"example-input-3-1\">\"Test1ng-Leet=code-Q!\"</span>\n",
    "<strong>Output: </strong><span id=\"example-output-3\">\"Qedo1ct-eeLg=ntse-T!\"</span>\n",
    "</pre>\n",
    "\n",
    "<p>&nbsp;</p>\n",
    "\n",
    "<div>\n",
    "<p><strong><span>Note:</span></strong></p>\n",
    "\n",
    "<ol>\n",
    "\t<li><code>S.length &lt;= 100</code></li>\n",
    "\t<li><code>33 &lt;= S[i].ASCIIcode &lt;= 122</code>&nbsp;</li>\n",
    "\t<li><code>S</code> doesn't contain <code>\\</code> or <code>\"</code></li>\n",
    "</ol>\n",
    "</div>\n",
    "</div>\n",
    "</div>\n",
    "</div></div>"
   ]
  },
  {
   "cell_type": "markdown",
   "metadata": {},
   "source": [
    "## Option 1\n",
    "\n",
    "  <p>\n",
    "Time complexity: O(n)\n",
    "<br>\n",
    "Space complexity: O(n)"
   ]
  },
  {
   "cell_type": "code",
   "execution_count": null,
   "metadata": {
    "scrolled": false
   },
   "outputs": [],
   "source": [
    "class Solution(object):\n",
    "    def reverseOnlyLetters(self, S):\n",
    "        \n",
    "        arr = ['']*len(S)        \n",
    "        s = ''\n",
    "        #Create the string to be reversed, whilst holding the others in place in arr\n",
    "        for i,v in enumerate(S):\n",
    "            if ord(v) < ord('A') or ord('Z') < ord(v) < ord('a'):\n",
    "                arr[i] = v\n",
    "            else:\n",
    "                s += v\n",
    "                \n",
    "        i = 0\n",
    "        #Position the string elements in place\n",
    "        for s in s[::-1]:\n",
    "            while arr[i] != '': i += 1\n",
    "            arr[i] = s\n",
    "        \n",
    "        return ''.join(arr)\n",
    "                \n",
    "                \n",
    "Solution().reverseOnlyLetters('Qedo1ct-eeLg=ntse-T!')"
   ]
  },
  {
   "cell_type": "markdown",
   "metadata": {},
   "source": [
    "#### Result: 24ms (8.36%)"
   ]
  },
  {
   "cell_type": "markdown",
   "metadata": {},
   "source": [
    "## Option 2\n",
    "<p>\n",
    "    We can reverse a string by using two pointers, all we have to do is skip the not alphas\n",
    "  <p>\n",
    "Time complexity: O(n)\n",
    "<br>\n",
    "Space complexity: O(n)"
   ]
  },
  {
   "cell_type": "code",
   "execution_count": null,
   "metadata": {},
   "outputs": [],
   "source": [
    "class Solution(object):\n",
    "    def reverseOnlyLetters(self, S):\n",
    "        l,r = 0, len(S)-1\n",
    "        arr = list(S)\n",
    "        \n",
    "        while l < r:\n",
    "            if not S[l].isalpha():\n",
    "                l += 1\n",
    "            elif not S[r].isalpha():\n",
    "                r -= 1\n",
    "            else:\n",
    "                arr[l],arr[r] = S[r],S[l]\n",
    "                l += 1\n",
    "                r -= 1\n",
    "        \n",
    "        return ''.join(arr)\n",
    "                \n",
    "                \n",
    "Solution().reverseOnlyLetters(\"a\")"
   ]
  },
  {
   "cell_type": "markdown",
   "metadata": {},
   "source": [
    "#### Result: 24ms (8.36%)"
   ]
  }
 ],
 "metadata": {
  "kernelspec": {
   "display_name": "Python 2",
   "language": "python",
   "name": "python2"
  },
  "language_info": {
   "codemirror_mode": {
    "name": "ipython",
    "version": 2
   },
   "file_extension": ".py",
   "mimetype": "text/x-python",
   "name": "python",
   "nbconvert_exporter": "python",
   "pygments_lexer": "ipython2",
   "version": "2.7.16"
  }
 },
 "nbformat": 4,
 "nbformat_minor": 2
}
