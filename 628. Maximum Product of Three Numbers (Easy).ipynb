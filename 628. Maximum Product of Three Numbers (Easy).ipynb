{
 "cells": [
  {
   "cell_type": "markdown",
   "metadata": {},
   "source": [
    "# 628. Maximum Product of Three Numbers (Easy)"
   ]
  },
  {
   "cell_type": "markdown",
   "metadata": {},
   "source": [
    "<div><p>Given an integer array, find three numbers whose product is maximum and output the maximum product.</p>\n",
    "\n",
    "<p><b>Example 1:</b></p>\n",
    "\n",
    "<pre><b>Input:</b> [1,2,3]\n",
    "<b>Output:</b> 6\n",
    "</pre>\n",
    "\n",
    "<p>&nbsp;</p>\n",
    "\n",
    "<p><b>Example 2:</b></p>\n",
    "\n",
    "<pre><b>Input:</b> [1,2,3,4]\n",
    "<b>Output:</b> 24\n",
    "</pre>\n",
    "\n",
    "<p>&nbsp;</p>\n",
    "\n",
    "<p><b>Note:</b></p>\n",
    "\n",
    "<ol>\n",
    "\t<li>The length of the given array will be in range [3,10<sup>4</sup>] and all elements are in the range [-1000, 1000].</li>\n",
    "\t<li>Multiplication of any three numbers in the input won't exceed the range of 32-bit signed integer.</li>\n",
    "</ol>\n",
    "\n",
    "<p>&nbsp;</p>\n",
    "</div>"
   ]
  },
  {
   "cell_type": "markdown",
   "metadata": {},
   "source": [
    "## Option 1\n",
    "  <p>\n",
    "Time complexity: O(n)\n",
    "<br>\n",
    "Space complexity: O(n)"
   ]
  },
  {
   "cell_type": "code",
   "execution_count": null,
   "metadata": {
    "scrolled": false
   },
   "outputs": [],
   "source": [
    "import heapq\n",
    "class Solution(object):\n",
    "    def maximumProduct(self, nums):\n",
    "        heapq.heapify(nums)\n",
    "        max_h = []\n",
    "        for n in nums: heapq.heappush(max_h,-n)\n",
    "        \n",
    "        #2 min values * max val\n",
    "        a = -max_h[0]\n",
    "        for i in range(2): a *= heapq.heappop(nums)\n",
    "        #3 max values\n",
    "        b = 1\n",
    "        for i in range(3): b *= -heapq.heappop(max_h)\n",
    "        \n",
    "        return max(a,b)\n",
    "\n",
    "Solution().maximumProduct([1,2,3,4,-3,-8,-9])"
   ]
  },
  {
   "cell_type": "markdown",
   "metadata": {},
   "source": [
    "#### Result: 400ms (5.12%)"
   ]
  }
 ],
 "metadata": {
  "kernelspec": {
   "display_name": "Python 2",
   "language": "python",
   "name": "python2"
  },
  "language_info": {
   "codemirror_mode": {
    "name": "ipython",
    "version": 2
   },
   "file_extension": ".py",
   "mimetype": "text/x-python",
   "name": "python",
   "nbconvert_exporter": "python",
   "pygments_lexer": "ipython2",
   "version": "2.7.16"
  }
 },
 "nbformat": 4,
 "nbformat_minor": 2
}
