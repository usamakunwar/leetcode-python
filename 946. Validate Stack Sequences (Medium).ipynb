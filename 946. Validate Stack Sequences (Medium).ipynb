{
 "cells": [
  {
   "cell_type": "markdown",
   "metadata": {},
   "source": [
    "# 946. Validate Stack Sequences (Medium)\n",
    "\n",
    "\n"
   ]
  },
  {
   "cell_type": "markdown",
   "metadata": {},
   "source": [
    "<div><p>Given two sequences <code>pushed</code> and <code>popped</code>&nbsp;<strong>with distinct values</strong>,&nbsp;return <code>true</code> if and only if this could have been the result of a sequence of push and pop operations on an initially empty stack.</p>\n",
    "\n",
    "<p>&nbsp;</p>\n",
    "\n",
    "<div>\n",
    "<p><strong>Example 1:</strong></p>\n",
    "\n",
    "<pre><strong>Input: </strong>pushed = <span id=\"example-input-1-1\">[1,2,3,4,5]</span>, popped = <span id=\"example-input-1-2\">[4,5,3,2,1]</span>\n",
    "<strong>Output: </strong><span id=\"example-output-1\">true</span>\n",
    "<strong>Explanation: </strong>We might do the following sequence:\n",
    "push(1), push(2), push(3), push(4), pop() -&gt; 4,\n",
    "push(5), pop() -&gt; 5, pop() -&gt; 3, pop() -&gt; 2, pop() -&gt; 1\n",
    "</pre>\n",
    "\n",
    "<div>\n",
    "<p><strong>Example 2:</strong></p>\n",
    "\n",
    "<pre><strong>Input: </strong>pushed = <span id=\"example-input-2-1\">[1,2,3,4,5]</span>, popped = <span id=\"example-input-2-2\">[4,3,5,1,2]</span>\n",
    "<strong>Output: </strong><span id=\"example-output-2\">false</span>\n",
    "<strong>Explanation: </strong>1 cannot be popped before 2.\n",
    "</pre>\n",
    "\n",
    "<p>&nbsp;</p>\n",
    "\n",
    "<p><strong>Note:</strong></p>\n",
    "\n",
    "<ol>\n",
    "\t<li><code>0 &lt;= pushed.length == popped.length &lt;= 1000</code></li>\n",
    "\t<li><code>0 &lt;= pushed[i], popped[i] &lt; 1000</code></li>\n",
    "\t<li><code>pushed</code> is a permutation of <code>popped</code>.</li>\n",
    "\t<li><code>pushed</code> and <code>popped</code> have distinct values.</li>\n",
    "</ol>\n",
    "</div>\n",
    "</div></div>"
   ]
  },
  {
   "cell_type": "markdown",
   "metadata": {},
   "source": [
    "## Option 1\n",
    "\n",
    "Time complexity: O(n)\n",
    "<br>\n",
    "Space complexity: O(n)\n"
   ]
  },
  {
   "cell_type": "code",
   "execution_count": null,
   "metadata": {
    "scrolled": false
   },
   "outputs": [],
   "source": [
    "import collections\n",
    "class Solution(object):\n",
    "    def validateStackSequences(self, pushed, popped):\n",
    "        stack,p1 = [],0\n",
    "        for p in pushed:\n",
    "            stack.append(p)\n",
    "            while stack and stack[-1] == popped[p1]:\n",
    "                stack.pop()\n",
    "                p1 += 1\n",
    "        return p1 == len(popped)\n",
    "\n",
    "Solution().validateStackSequences([1,2,3,4,5],[4,3,5,1,2])"
   ]
  },
  {
   "cell_type": "markdown",
   "metadata": {},
   "source": [
    "#### Result: 56ms (84.26%)"
   ]
  },
  {
   "cell_type": "markdown",
   "metadata": {},
   "source": [
    "## Option 2\n",
    "\n",
    "Time complexity: O(n)\n",
    "<br>\n",
    "Space complexity: O(n)\n"
   ]
  },
  {
   "cell_type": "code",
   "execution_count": null,
   "metadata": {},
   "outputs": [],
   "source": [
    "import collections\n",
    "class Solution(object):\n",
    "    def validateStackSequences(self, push, pop):\n",
    "        push = {v:i for i,v in enumerate(push)}\n",
    "        max_push_idx = -1\n",
    "        for i in range(len(pop)):\n",
    "            if i > 0 and push[pop[i]] < max_push_idx and push[pop[i]] > push[pop[i-1]]: return False\n",
    "            max_push_idx = max(max_push_idx, push[pop[i]])\n",
    "        return True\n",
    "\n",
    "Solution().validateStackSequences([1,0,2],[2,1,0])"
   ]
  },
  {
   "cell_type": "markdown",
   "metadata": {},
   "source": [
    "#### Result: 56ms (84.28%)"
   ]
  }
 ],
 "metadata": {
  "kernelspec": {
   "display_name": "Python 2",
   "language": "python",
   "name": "python2"
  },
  "language_info": {
   "codemirror_mode": {
    "name": "ipython",
    "version": 2
   },
   "file_extension": ".py",
   "mimetype": "text/x-python",
   "name": "python",
   "nbconvert_exporter": "python",
   "pygments_lexer": "ipython2",
   "version": "2.7.16"
  }
 },
 "nbformat": 4,
 "nbformat_minor": 2
}
