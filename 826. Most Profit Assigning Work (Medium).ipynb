{
 "cells": [
  {
   "cell_type": "markdown",
   "metadata": {},
   "source": [
    "# 826. Most Profit Assigning Work (Medium)\n"
   ]
  },
  {
   "cell_type": "markdown",
   "metadata": {},
   "source": [
    "<div><p>We have jobs: <code>difficulty[i]</code>&nbsp;is the difficulty of the&nbsp;<code>i</code>th job, and&nbsp;<code>profit[i]</code>&nbsp;is the profit of the&nbsp;<code>i</code>th job.&nbsp;</p>\n",
    "\n",
    "<p>Now we have some workers.&nbsp;<code>worker[i]</code>&nbsp;is the ability of the&nbsp;<code>i</code>th worker, which means that this worker can only complete a job with difficulty at most&nbsp;<code>worker[i]</code>.&nbsp;</p>\n",
    "\n",
    "<p>Every worker can be assigned at most one job, but one job&nbsp;can be completed multiple times.</p>\n",
    "\n",
    "<p>For example, if 3 people attempt the same job that pays $1, then the total profit will be $3.&nbsp; If a worker cannot complete any job, his profit is $0.</p>\n",
    "\n",
    "<p>What is the most profit we can make?</p>\n",
    "\n",
    "<p><strong>Example 1:</strong></p>\n",
    "\n",
    "<pre><strong>Input: </strong>difficulty = [2,4,6,8,10], profit = [10,20,30,40,50], worker = [4,5,6,7]\n",
    "<strong>Output: </strong>100 \n",
    "<strong>Explanation: W</strong>orkers are assigned jobs of difficulty [4,4,6,6] and they get profit of [20,20,30,30] seperately.</pre>\n",
    "\n",
    "<p><strong>Notes:</strong></p>\n",
    "\n",
    "<ul>\n",
    "\t<li><code>1 &lt;= difficulty.length = profit.length &lt;= 10000</code></li>\n",
    "\t<li><code>1 &lt;= worker.length &lt;= 10000</code></li>\n",
    "\t<li><code>difficulty[i], profit[i], worker[i]</code>&nbsp; are in range&nbsp;<code>[1, 10^5]</code></li>\n",
    "</ul>\n",
    "</div>"
   ]
  },
  {
   "cell_type": "markdown",
   "metadata": {},
   "source": [
    "## Option 1\n",
    "<p>\n",
    "<p>\n",
    "\n",
    "Time complexity: O(max(plogp, wlogw, w)) p = profit w = worker\n",
    "<br>\n",
    "Space complexity: O(max(p,w)) p = profit w = worker"
   ]
  },
  {
   "cell_type": "code",
   "execution_count": null,
   "metadata": {},
   "outputs": [],
   "source": [
    "class Solution(object):\n",
    "    def maxProfitAssignment(self, difficulty, profit, worker):\n",
    "        profit = sorted(map(lambda (x,y): (y,x), enumerate(profit)))\n",
    "        worker = sorted(map(lambda (x,y): (y,x), enumerate(worker)))\n",
    "        res = 0\n",
    "        for i in range(len(worker)-1,-1,-1):\n",
    "            while profit and difficulty[profit[-1][1]] > worker[i][0]: profit.pop()\n",
    "            res += profit[-1][0] if profit else 0            \n",
    "        return res\n",
    "            \n",
    "Solution().maxProfitAssignment([68,35,52,47,86], [67,17,1,81,3], [92,10,85,84,82])\n",
    "        "
   ]
  },
  {
   "cell_type": "markdown",
   "metadata": {},
   "source": [
    "#### Result: 376ms (34.29%)\n"
   ]
  },
  {
   "cell_type": "markdown",
   "metadata": {},
   "source": [
    "## Option 2\n",
    "<p>\n",
    "    We can zip profit and difficulty directly, and there is no need to map worker with index\n",
    "<p>\n",
    "\n",
    "Time complexity: O(max(plogp, wlogw, w)) p = profit w = worker\n",
    "<br>\n",
    "Space complexity: O(p) p = profit"
   ]
  },
  {
   "cell_type": "code",
   "execution_count": null,
   "metadata": {},
   "outputs": [],
   "source": [
    "class Solution(object):\n",
    "    def maxProfitAssignment(self, difficulty, profit, worker):\n",
    "        profit = sorted(zip(profit,difficulty))\n",
    "        worker.sort()\n",
    "        res = 0\n",
    "        for i in range(len(worker)-1,-1,-1):\n",
    "            while profit and profit[-1][1] > worker[i]: profit.pop()\n",
    "            res += profit[-1][0] if profit else 0            \n",
    "        return res\n",
    "            \n",
    "Solution().maxProfitAssignment([68,35,52,47,86], [67,17,1,81,3], [92,10,85,84,82])\n",
    "        "
   ]
  },
  {
   "cell_type": "markdown",
   "metadata": {},
   "source": [
    "#### Result: 328ms (90.00%)\n"
   ]
  }
 ],
 "metadata": {
  "kernelspec": {
   "display_name": "Python 2",
   "language": "python",
   "name": "python2"
  },
  "language_info": {
   "codemirror_mode": {
    "name": "ipython",
    "version": 2
   },
   "file_extension": ".py",
   "mimetype": "text/x-python",
   "name": "python",
   "nbconvert_exporter": "python",
   "pygments_lexer": "ipython2",
   "version": "2.7.16"
  }
 },
 "nbformat": 4,
 "nbformat_minor": 2
}
