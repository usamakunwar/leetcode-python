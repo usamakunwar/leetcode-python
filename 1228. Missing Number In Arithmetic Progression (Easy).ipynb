{
 "cells": [
  {
   "cell_type": "markdown",
   "metadata": {},
   "source": [
    "# 1228. Missing Number In Arithmetic Progression (Easy)\n"
   ]
  },
  {
   "cell_type": "markdown",
   "metadata": {},
   "source": [
    "<div><p>In some array <code>arr</code>, the values were in arithmetic progression: the values&nbsp;<code>arr[i+1] - arr[i]</code>&nbsp;are all&nbsp;equal for every&nbsp;<code>0 &lt;= i &lt; arr.length - 1</code>.</p>\n",
    "\n",
    "<p>Then, a value from <code>arr</code>&nbsp;was removed that <strong>was&nbsp;not the first or last value in the array</strong>.</p>\n",
    "\n",
    "<p>Return the removed value.</p>\n",
    "\n",
    "<p>&nbsp;</p>\n",
    "<p><strong>Example 1:</strong></p>\n",
    "\n",
    "<pre><strong>Input:</strong> arr = [5,7,11,13]\n",
    "<strong>Output:</strong> 9\n",
    "<strong>Explanation: </strong>The previous array was [5,7,<strong>9</strong>,11,13].\n",
    "</pre>\n",
    "\n",
    "<p><strong>Example 2:</strong></p>\n",
    "\n",
    "<pre><strong>Input:</strong> arr = [15,13,12]\n",
    "<strong>Output:</strong> 14\n",
    "<strong>Explanation: </strong>The previous array was [15,<strong>14</strong>,13,12].</pre>\n",
    "\n",
    "<p>&nbsp;</p>\n",
    "<p><strong>Constraints:</strong></p>\n",
    "\n",
    "<ul>\n",
    "\t<li><code>3 &lt;= arr.length &lt;= 1000</code></li>\n",
    "\t<li><code>0 &lt;= arr[i] &lt;= 10^5</code></li>\n",
    "</ul>\n",
    "</div>"
   ]
  },
  {
   "cell_type": "markdown",
   "metadata": {},
   "source": [
    "## Option 1\n",
    "<p>\n",
    "  <p>Find the location of the max difference\n",
    "      <p>\n",
    "Time complexity: O(n)\n",
    "<br>\n",
    "Space complexity: O(1)"
   ]
  },
  {
   "cell_type": "code",
   "execution_count": null,
   "metadata": {
    "scrolled": false
   },
   "outputs": [],
   "source": [
    "class Solution(object):\n",
    "    def missingNumber(self, arr):\n",
    "        max_diff = (0,0)\n",
    "        for i in range(len(arr)-1):\n",
    "            if abs(arr[i+1]-arr[i]) > abs(max_diff[0]):\n",
    "                max_diff = (arr[i+1]-arr[i], i)\n",
    "                \n",
    "        return arr[max_diff[1]] + max_diff[0]/2\n",
    " \n",
    "Solution().missingNumber([15,13,12])"
   ]
  },
  {
   "cell_type": "markdown",
   "metadata": {},
   "source": [
    "#### Result: 32ms (21.05%)"
   ]
  },
  {
   "cell_type": "markdown",
   "metadata": {},
   "source": [
    "## Option 2\n",
    "<p>\n",
    "  <p>As the start and end are correct, we can consider going from start to end, the difference is already known, and hence we also know what value should be in an index. Therefore we can do a binary search to figure out what value is incorrect\n",
    "      <p>\n",
    "Time complexity: O(logn)\n",
    "<br>\n",
    "Space complexity: O(1)"
   ]
  },
  {
   "cell_type": "code",
   "execution_count": null,
   "metadata": {},
   "outputs": [],
   "source": [
    "class Solution(object):\n",
    "    def missingNumber(self, arr):\n",
    "        diff = (arr[-1] - arr[0])/len(arr)\n",
    "        l,r = 0, len(arr)-1\n",
    "        while l < r:\n",
    "            mid = (l+r)/2\n",
    "            if arr[mid] == arr[0]+(diff*mid):\n",
    "                l = mid + 1\n",
    "            else:\n",
    "                r = mid\n",
    "        return arr[l]-diff\n",
    "        \n",
    " \n",
    "Solution().missingNumber([1,2,3,5])"
   ]
  },
  {
   "cell_type": "markdown",
   "metadata": {},
   "source": [
    "#### Result: 36ms (21.88%)\n"
   ]
  }
 ],
 "metadata": {
  "kernelspec": {
   "display_name": "Python 2",
   "language": "python",
   "name": "python2"
  },
  "language_info": {
   "codemirror_mode": {
    "name": "ipython",
    "version": 2
   },
   "file_extension": ".py",
   "mimetype": "text/x-python",
   "name": "python",
   "nbconvert_exporter": "python",
   "pygments_lexer": "ipython2",
   "version": "2.7.16"
  }
 },
 "nbformat": 4,
 "nbformat_minor": 2
}
