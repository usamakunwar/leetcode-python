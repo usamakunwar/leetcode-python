{
 "cells": [
  {
   "cell_type": "markdown",
   "metadata": {},
   "source": [
    "# 359. Logger Rate Limiter (Easy)"
   ]
  },
  {
   "cell_type": "markdown",
   "metadata": {},
   "source": [
    "<div><p>Design a logger system that receive stream of messages along with its timestamps, each message should be printed if and only if it is <b>not printed in the last 10 seconds</b>.</p>\n",
    "\n",
    "<p>Given a message and a timestamp (in seconds granularity), return true if the message should be printed in the given timestamp, otherwise returns false.</p>\n",
    "\n",
    "<p>It is possible that several messages arrive roughly at the same time.</p>\n",
    "\n",
    "<p><b>Example:</b></p>\n",
    "\n",
    "<pre>Logger logger = new Logger();\n",
    "\n",
    "// logging string \"foo\" at timestamp 1\n",
    "logger.shouldPrintMessage(1, \"foo\"); returns true; \n",
    "\n",
    "// logging string \"bar\" at timestamp 2\n",
    "logger.shouldPrintMessage(2,\"bar\"); returns true;\n",
    "\n",
    "// logging string \"foo\" at timestamp 3\n",
    "logger.shouldPrintMessage(3,\"foo\"); returns false;\n",
    "\n",
    "// logging string \"bar\" at timestamp 8\n",
    "logger.shouldPrintMessage(8,\"bar\"); returns false;\n",
    "\n",
    "// logging string \"foo\" at timestamp 10\n",
    "logger.shouldPrintMessage(10,\"foo\"); returns false;\n",
    "\n",
    "// logging string \"foo\" at timestamp 11\n",
    "logger.shouldPrintMessage(11,\"foo\"); returns true;\n",
    "</pre></div>"
   ]
  },
  {
   "cell_type": "markdown",
   "metadata": {},
   "source": [
    "## Option 1\n",
    "\n",
    "Time complexity = O(1)\n",
    "<br>\n",
    "Space complexity = O(n)"
   ]
  },
  {
   "cell_type": "code",
   "execution_count": null,
   "metadata": {},
   "outputs": [],
   "source": [
    "class Logger(object):\n",
    "\n",
    "    def __init__(self):\n",
    "        \"\"\"\n",
    "        Initialize your data structure here.\n",
    "        \"\"\"\n",
    "        self.counter = {}\n",
    "\n",
    "    def shouldPrintMessage(self, timestamp, message):\n",
    "        \"\"\"\n",
    "        Returns true if the message should be printed in the given timestamp, otherwise returns false.\n",
    "        If this method returns false, the message will not be printed.\n",
    "        The timestamp is in seconds granularity.\n",
    "        :type timestamp: int\n",
    "        :type message: str\n",
    "        :rtype: bool\n",
    "        \"\"\"\n",
    "\n",
    "        if message in self.counter and timestamp - self.counter[message] < 10:\n",
    "            return False\n",
    "        else:\n",
    "            self.counter[message] = timestamp\n",
    "            return True\n",
    "        \n",
    "# Your Logger object will be instantiated and called as such:\n",
    "obj = Logger()\n",
    "param_1 = obj.shouldPrintMessage(0,\"apple\")"
   ]
  },
  {
   "cell_type": "markdown",
   "metadata": {},
   "source": [
    "#### Result: 132ms (90.67%)"
   ]
  }
 ],
 "metadata": {
  "kernelspec": {
   "display_name": "Python 2",
   "language": "python",
   "name": "python2"
  },
  "language_info": {
   "codemirror_mode": {
    "name": "ipython",
    "version": 2
   },
   "file_extension": ".py",
   "mimetype": "text/x-python",
   "name": "python",
   "nbconvert_exporter": "python",
   "pygments_lexer": "ipython2",
   "version": "2.7.16"
  }
 },
 "nbformat": 4,
 "nbformat_minor": 2
}
