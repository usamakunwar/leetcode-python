{
 "cells": [
  {
   "cell_type": "markdown",
   "metadata": {},
   "source": [
    "# 760. Find Anagram Mappings (Easy)"
   ]
  },
  {
   "cell_type": "markdown",
   "metadata": {},
   "source": [
    "<div><p>\n",
    "Given two lists <code>A</code>and <code>B</code>, and <code>B</code> is an anagram of <code>A</code>. <code>B</code> is an anagram of <code>A</code> means <code>B</code> is made by randomizing the order of the elements in <code>A</code>.\n",
    "</p><p>\n",
    "We want to find an <i>index mapping</i> <code>P</code>, from <code>A</code> to <code>B</code>. A mapping <code>P[i] = j</code> means the <code>i</code>th element in <code>A</code> appears in <code>B</code> at index <code>j</code>.\n",
    "</p><p>\n",
    "These lists <code>A</code> and <code>B</code> may contain duplicates.  If there are multiple answers, output any of them.\n",
    "</p>\n",
    "\n",
    "<p>\n",
    "For example, given\n",
    "</p><pre>A = [12, 28, 46, 32, 50]\n",
    "B = [50, 12, 32, 46, 28]\n",
    "</pre>\n",
    "<p></p>\n",
    "We should return\n",
    "<pre>[1, 4, 3, 2, 0]\n",
    "</pre>\n",
    "as <code>P[0] = 1</code> because the <code>0</code>th element of <code>A</code> appears at <code>B[1]</code>,\n",
    "and <code>P[1] = 4</code> because the <code>1</code>st element of <code>A</code> appears at <code>B[4]</code>,\n",
    "and so on.\n",
    "<p></p>\n",
    "\n",
    "<p><b>Note:</b></p><ol>\n",
    "<li><code>A, B</code> have equal lengths in range <code>[1, 100]</code>.</li>\n",
    "<li><code>A[i], B[i]</code> are integers in range <code>[0, 10^5]</code>.</li>\n",
    "</ol><p></p></div>"
   ]
  },
  {
   "cell_type": "markdown",
   "metadata": {},
   "source": [
    "## Option 1\n",
    "\n",
    "  <p>\n",
    "Time complexity: O(n)\n",
    "<br>\n",
    "Space complexity: O(n)"
   ]
  },
  {
   "cell_type": "code",
   "execution_count": null,
   "metadata": {
    "scrolled": false
   },
   "outputs": [],
   "source": [
    "class Solution(object):\n",
    "    def anagramMappings(self, A, B):\n",
    "        #Though according to the requirements, we can map to the same indexes for duplicates (so list not needed)\n",
    "        b_map = collections.defaultdict(list)\n",
    "        for i,v in enumerate(B): b_map[v].append(i)\n",
    "        return [b_map[a].pop() for a in A]\n",
    "        "
   ]
  },
  {
   "cell_type": "markdown",
   "metadata": {},
   "source": [
    "#### Result: 8ms (100.00%)"
   ]
  }
 ],
 "metadata": {
  "kernelspec": {
   "display_name": "Python 2",
   "language": "python",
   "name": "python2"
  },
  "language_info": {
   "codemirror_mode": {
    "name": "ipython",
    "version": 2
   },
   "file_extension": ".py",
   "mimetype": "text/x-python",
   "name": "python",
   "nbconvert_exporter": "python",
   "pygments_lexer": "ipython2",
   "version": "2.7.16"
  }
 },
 "nbformat": 4,
 "nbformat_minor": 2
}
