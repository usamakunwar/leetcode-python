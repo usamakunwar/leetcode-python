{
 "cells": [
  {
   "cell_type": "markdown",
   "metadata": {},
   "source": [
    "# 101. Symmetric Tree (Easy)"
   ]
  },
  {
   "cell_type": "markdown",
   "metadata": {},
   "source": [
    "<div><p>Given a binary tree, check whether it is a mirror of itself (ie, symmetric around its center).</p>\n",
    "\n",
    "<p>For example, this binary tree <code>[1,2,2,3,4,4,3]</code> is symmetric:</p>\n",
    "\n",
    "<pre>    1\n",
    "   / \\\n",
    "  2   2\n",
    " / \\ / \\\n",
    "3  4 4  3\n",
    "</pre>\n",
    "\n",
    "<p>&nbsp;</p>\n",
    "\n",
    "<p>But the following <code>[1,2,2,null,3,null,3]</code> is not:</p>\n",
    "\n",
    "<pre>    1\n",
    "   / \\\n",
    "  2   2\n",
    "   \\   \\\n",
    "   3    3\n",
    "</pre>\n",
    "\n",
    "<p>&nbsp;</p>\n",
    "\n",
    "<p><b>Note:</b><br>\n",
    "Bonus points if you could solve it both recursively and iteratively.</p>\n",
    "</div>"
   ]
  },
  {
   "cell_type": "markdown",
   "metadata": {},
   "source": [
    "## Option 1\n",
    "\n",
    "Iterative\n",
    "<br>\n",
    "Time complexity = O(n)\n",
    "<br>\n",
    "Space complexity = O(n)"
   ]
  },
  {
   "cell_type": "code",
   "execution_count": null,
   "metadata": {
    "scrolled": true
   },
   "outputs": [],
   "source": [
    "class TreeNode:\n",
    "    def __init__(self, x):\n",
    "        self.val = x\n",
    "        self.left = None\n",
    "        self.right = None\n",
    "\n",
    "class Solution:\n",
    "    def isSymmetric(self, root: TreeNode) -> bool:\n",
    "        level_nodes = [root]\n",
    "        \n",
    "        while level_nodes:\n",
    "            p1 = 0\n",
    "            p2 = len(level_nodes)-1\n",
    "            while p1 < p2:\n",
    "                if level_nodes[p1] == None and level_nodes[p2]:\n",
    "                    return False\n",
    "                if level_nodes[p2] == None and level_nodes[p1]:\n",
    "                    return False\n",
    "                if level_nodes[p1] and level_nodes[p1] and level_nodes[p1].val != level_nodes[p2].val:\n",
    "                    return False\n",
    "                p1 += 1\n",
    "                p2 -= 1\n",
    "                \n",
    "            #Deeper\n",
    "            new = []\n",
    "            for node in level_nodes:\n",
    "                if node:\n",
    "                    new.append(node.left)\n",
    "                    new.append(node.right)\n",
    "            level_nodes = new\n",
    "        \n",
    "        return True     \n",
    "        \n",
    "        \n",
    "        \n",
    "Solution().isSymmetric([1,2,2,3,4,4,3])"
   ]
  },
  {
   "cell_type": "markdown",
   "metadata": {},
   "source": [
    "#### Result:  44ms (28.66%)"
   ]
  },
  {
   "cell_type": "markdown",
   "metadata": {},
   "source": [
    "## Option 2\n",
    "\n",
    "Recursive, comparing (node 1) left to (node 2) right. And only if all are true it is symmetrical\n",
    "<br>\n",
    "Time complexity = O(n)\n",
    "<br>\n",
    "Space complexity = O(n)"
   ]
  },
  {
   "cell_type": "code",
   "execution_count": null,
   "metadata": {},
   "outputs": [],
   "source": [
    "def isSymmetric(self, root: TreeNode) -> bool:        \n",
    "    def check(n1,n2):\n",
    "        if n1 == None and n2 == None: return True\n",
    "        if n1 == None or n2 == None: return False\n",
    "\n",
    "        if (n1.val == n2.val) and check(n1.left,n2.right) and check(n1.right, n2.left):\n",
    "            return True\n",
    "\n",
    "    return check(root,root)"
   ]
  },
  {
   "cell_type": "markdown",
   "metadata": {},
   "source": [
    "#### Result:  32ms (84.24%)"
   ]
  }
 ],
 "metadata": {
  "kernelspec": {
   "display_name": "Python 3",
   "language": "python",
   "name": "python3"
  },
  "language_info": {
   "codemirror_mode": {
    "name": "ipython",
    "version": 3
   },
   "file_extension": ".py",
   "mimetype": "text/x-python",
   "name": "python",
   "nbconvert_exporter": "python",
   "pygments_lexer": "ipython3",
   "version": "3.7.4"
  }
 },
 "nbformat": 4,
 "nbformat_minor": 2
}
