{
 "cells": [
  {
   "cell_type": "markdown",
   "metadata": {},
   "source": [
    "# 1329. Sort the Matrix Diagonally (Medium)\n"
   ]
  },
  {
   "cell_type": "markdown",
   "metadata": {},
   "source": [
    "<div><p>Given a <code>m * n</code> matrix <code>mat</code>&nbsp;of integers, sort it diagonally in ascending order from the top-left to the bottom-right then return the sorted array.</p>\n",
    "\n",
    "<p>&nbsp;</p>\n",
    "<p><strong>Example 1:</strong></p>\n",
    "<img alt=\"\" src=\"https://assets.leetcode.com/uploads/2020/01/21/1482_example_1_2.png\" style=\"width: 500px; height: 198px;\">\n",
    "<pre><strong>Input:</strong> mat = [[3,3,1,1],[2,2,1,2],[1,1,1,2]]\n",
    "<strong>Output:</strong> [[1,1,1,1],[1,2,2,2],[1,2,3,3]]\n",
    "</pre>\n",
    "\n",
    "<p>&nbsp;</p>\n",
    "<p><strong>Constraints:</strong></p>\n",
    "\n",
    "<ul>\n",
    "\t<li><code>m ==&nbsp;mat.length</code></li>\n",
    "\t<li><code>n ==&nbsp;mat[i].length</code></li>\n",
    "\t<li><code>1 &lt;= m, n&nbsp;&lt;= 100</code></li>\n",
    "\t<li><code>1 &lt;= mat[i][j] &lt;= 100</code></li>\n",
    "</ul></div>"
   ]
  },
  {
   "cell_type": "markdown",
   "metadata": {},
   "source": [
    "## Option 1\n",
    "<p>Insort\n",
    "    <p>\n",
    "Time complexity: O(nlogn) n = i*j\n",
    "<br>\n",
    "Space complexity: O(n)"
   ]
  },
  {
   "cell_type": "code",
   "execution_count": null,
   "metadata": {},
   "outputs": [],
   "source": [
    "import bisect\n",
    "class Solution(object):\n",
    "    def diagonalSort(self, mat):\n",
    "        li,lj = len(mat),len(mat[0])\n",
    "        diag = [[] for i in range(li+lj-1)]\n",
    "        for i in range(li):\n",
    "            for j in range(lj):\n",
    "                bisect.insort(diag[j-i], mat[i][j])\n",
    "        for i in range(li):\n",
    "            for j in range(lj):\n",
    "                mat[i][j] = diag[j-i][i if j > i else j]\n",
    "        return mat\n",
    "        \n",
    "Solution().diagonalSort([[3,3,1,1],[2,2,1,2],[1,1,1,2]])"
   ]
  },
  {
   "cell_type": "markdown",
   "metadata": {},
   "source": [
    "#### Result: 76ms (45.30%)\n"
   ]
  },
  {
   "cell_type": "markdown",
   "metadata": {},
   "source": [
    "## Option 2\n",
    "<p>Sort\n",
    "    <p>\n",
    "Time complexity: O(nlogn) n = i*j\n",
    "<br>\n",
    "Space complexity: O(n)"
   ]
  },
  {
   "cell_type": "code",
   "execution_count": null,
   "metadata": {},
   "outputs": [],
   "source": [
    "class Solution(object):\n",
    "    def diagonalSort(self, mat):\n",
    "        li,lj = len(mat),len(mat[0])\n",
    "        diag = [[] for i in range(li+lj-1)]\n",
    "        for i in range(li):\n",
    "            for j in range(lj):\n",
    "                diag[j-i].append(mat[i][j])\n",
    "                \n",
    "        for d in diag: d.sort()\n",
    "        \n",
    "        for i in range(li):\n",
    "            for j in range(lj):\n",
    "                mat[i][j] = diag[j-i][i if j > i else j]\n",
    "        return mat\n",
    "        \n",
    "Solution().diagonalSort([[3,3,1,1],[2,2,1,2],[1,1,1,2]])"
   ]
  },
  {
   "cell_type": "markdown",
   "metadata": {},
   "source": [
    "#### Result: 64ms (98.32%)\n"
   ]
  }
 ],
 "metadata": {
  "kernelspec": {
   "display_name": "Python 2",
   "language": "python",
   "name": "python2"
  },
  "language_info": {
   "codemirror_mode": {
    "name": "ipython",
    "version": 2
   },
   "file_extension": ".py",
   "mimetype": "text/x-python",
   "name": "python",
   "nbconvert_exporter": "python",
   "pygments_lexer": "ipython2",
   "version": "2.7.16"
  }
 },
 "nbformat": 4,
 "nbformat_minor": 2
}
