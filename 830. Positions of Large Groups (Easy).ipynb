{
 "cells": [
  {
   "cell_type": "markdown",
   "metadata": {},
   "source": [
    "# 830. Positions of Large Groups (Easy)"
   ]
  },
  {
   "cell_type": "markdown",
   "metadata": {},
   "source": [
    "<div><p>In a string&nbsp;<code>S</code>&nbsp;of lowercase letters, these letters form consecutive groups of the same character.</p>\n",
    "\n",
    "<p>For example, a string like <code>S = \"abbxxxxzyy\"</code> has the groups <code>\"a\"</code>, <code>\"bb\"</code>, <code>\"xxxx\"</code>, <code>\"z\"</code> and&nbsp;<code>\"yy\"</code>.</p>\n",
    "\n",
    "<p>Call a group <em>large</em> if it has 3 or more characters.&nbsp; We would like the starting and ending positions of every large group.</p>\n",
    "\n",
    "<p>The final answer should be in lexicographic order.</p>\n",
    "\n",
    "<p>&nbsp;</p>\n",
    "\n",
    "<p><strong>Example 1:</strong></p>\n",
    "\n",
    "<pre><strong>Input: </strong>\"abbxxxxzzy\"\n",
    "<strong>Output: </strong>[[3,6]]\n",
    "<strong>Explanation</strong>: <code>\"xxxx\" is the single </code>large group with starting  3 and ending positions 6.\n",
    "</pre>\n",
    "\n",
    "<p><strong>Example 2:</strong></p>\n",
    "\n",
    "<pre><strong>Input: </strong>\"abc\"\n",
    "<strong>Output: </strong>[]\n",
    "<strong>Explanation</strong>: We have \"a\",\"b\" and \"c\" but no large group.\n",
    "</pre>\n",
    "\n",
    "<p><strong>Example 3:</strong></p>\n",
    "\n",
    "<pre><strong>Input: </strong>\"abcdddeeeeaabbbcd\"\n",
    "<strong>Output: </strong>[[3,5],[6,9],[12,14]]</pre>\n",
    "\n",
    "<p>&nbsp;</p>\n",
    "\n",
    "<p><strong>Note:&nbsp;</strong>&nbsp;<code>1 &lt;= S.length &lt;= 1000</code></p>\n",
    "</div>"
   ]
  },
  {
   "cell_type": "markdown",
   "metadata": {},
   "source": [
    "## Option 1\n",
    "\n",
    "  <p>\n",
    "Time complexity: O(n)\n",
    "<br>\n",
    "Space complexity: O(n)"
   ]
  },
  {
   "cell_type": "code",
   "execution_count": null,
   "metadata": {
    "scrolled": false
   },
   "outputs": [],
   "source": [
    "class Solution(object):\n",
    "    def largeGroupPositions(self, S):\n",
    "        res = []\n",
    "        i = 0\n",
    "        while i < len(S):\n",
    "            j = i\n",
    "            while j < len(S) and S[j] == S[i]: j += 1\n",
    "            if j-i >= 3: \n",
    "                res.append([i,j-1])\n",
    "            i = j\n",
    "        return res        \n",
    "        "
   ]
  },
  {
   "cell_type": "markdown",
   "metadata": {},
   "source": [
    "#### Result: 20ms (94.41%)"
   ]
  }
 ],
 "metadata": {
  "kernelspec": {
   "display_name": "Python 2",
   "language": "python",
   "name": "python2"
  },
  "language_info": {
   "codemirror_mode": {
    "name": "ipython",
    "version": 2
   },
   "file_extension": ".py",
   "mimetype": "text/x-python",
   "name": "python",
   "nbconvert_exporter": "python",
   "pygments_lexer": "ipython2",
   "version": "2.7.16"
  }
 },
 "nbformat": 4,
 "nbformat_minor": 2
}
