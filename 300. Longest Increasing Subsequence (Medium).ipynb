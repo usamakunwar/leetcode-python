{
 "cells": [
  {
   "cell_type": "markdown",
   "metadata": {},
   "source": [
    "# 300. Longest Increasing Subsequence (Medium)"
   ]
  },
  {
   "cell_type": "markdown",
   "metadata": {},
   "source": [
    "<div><p>Given an unsorted array of integers, find the length of longest increasing subsequence.</p>\n",
    "\n",
    "<p><b>Example:</b></p>\n",
    "\n",
    "<pre><b>Input:</b> <code>[10,9,2,5,3,7,101,18]\n",
    "</code><b>Output: </b>4 \n",
    "<strong>Explanation: </strong>The longest increasing subsequence is <code>[2,3,7,101]</code>, therefore the length is <code>4</code>. </pre>\n",
    "\n",
    "<p><strong>Note: </strong></p>\n",
    "\n",
    "<ul>\n",
    "\t<li>There may be more than one LIS combination, it is only necessary for you to return the length.</li>\n",
    "\t<li>Your algorithm should run in O(<i>n<sup>2</sup></i>) complexity.</li>\n",
    "</ul>\n",
    "\n",
    "<p><b>Follow up:</b> Could you improve it to O(<i>n</i> log <i>n</i>) time complexity?</p>\n",
    "</div>"
   ]
  },
  {
   "cell_type": "markdown",
   "metadata": {},
   "source": [
    "## Option 1\n",
    " <p>\n",
    "    <p>\n",
    "        <p>\n",
    "Time complexity: O(n^2)\n",
    "    <br>\n",
    "Space complexity: O(1) \n"
   ]
  },
  {
   "cell_type": "code",
   "execution_count": null,
   "metadata": {},
   "outputs": [],
   "source": [
    "class Solution(object):\n",
    "        if not nums: return 0\n",
    "        k = [1]*len(nums)\n",
    "        res = 1\n",
    "        for i in range(len(nums)):\n",
    "            for j in range(i):\n",
    "                if nums[j] < nums[i]:\n",
    "                    k[i] = max(k[i],k[j]+1)\n",
    "                    res = max(res, k[i])\n",
    "        return res\n",
    "        \n",
    "Solution().lengthOfLIS([14,15,16,17,18,19,2,3,4,5,6,20,21,22,23,24,35,0,2,1])        \n"
   ]
  },
  {
   "cell_type": "markdown",
   "metadata": {},
   "source": [
    "\n",
    "#### Result: 1340ms (5.97%)"
   ]
  }
 ],
 "metadata": {
  "kernelspec": {
   "display_name": "Python 2",
   "language": "python",
   "name": "python2"
  },
  "language_info": {
   "codemirror_mode": {
    "name": "ipython",
    "version": 2
   },
   "file_extension": ".py",
   "mimetype": "text/x-python",
   "name": "python",
   "nbconvert_exporter": "python",
   "pygments_lexer": "ipython2",
   "version": "2.7.16"
  }
 },
 "nbformat": 4,
 "nbformat_minor": 2
}
