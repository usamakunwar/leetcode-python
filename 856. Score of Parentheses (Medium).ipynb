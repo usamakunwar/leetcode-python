{
 "cells": [
  {
   "cell_type": "markdown",
   "metadata": {},
   "source": [
    "# 856. Score of Parentheses (Medium)\n",
    "\n"
   ]
  },
  {
   "cell_type": "markdown",
   "metadata": {},
   "source": [
    "<div><p>Given a balanced parentheses string <code>S</code>, compute the score of the string based on the following rule:</p>\n",
    "\n",
    "<ul>\n",
    "\t<li><code>()</code> has score 1</li>\n",
    "\t<li><code>AB</code> has score <code>A + B</code>, where A and B are balanced parentheses strings.</li>\n",
    "\t<li><code>(A)</code> has score <code>2 * A</code>, where A is a balanced parentheses string.</li>\n",
    "</ul>\n",
    "\n",
    "<p>&nbsp;</p>\n",
    "\n",
    "<div>\n",
    "<p><strong>Example 1:</strong></p>\n",
    "\n",
    "<pre><strong>Input: </strong><span id=\"example-input-1-1\">\"()\"</span>\n",
    "<strong>Output: </strong><span id=\"example-output-1\">1</span>\n",
    "</pre>\n",
    "\n",
    "<div>\n",
    "<p><strong>Example 2:</strong></p>\n",
    "\n",
    "<pre><strong>Input: </strong><span id=\"example-input-2-1\">\"(())\"</span>\n",
    "<strong>Output: </strong><span id=\"example-output-2\">2</span>\n",
    "</pre>\n",
    "\n",
    "<div>\n",
    "<p><strong>Example 3:</strong></p>\n",
    "\n",
    "<pre><strong>Input: </strong><span id=\"example-input-3-1\">\"()()\"</span>\n",
    "<strong>Output: </strong><span id=\"example-output-3\">2</span>\n",
    "</pre>\n",
    "\n",
    "<div>\n",
    "<p><strong>Example 4:</strong></p>\n",
    "\n",
    "<pre><strong>Input: </strong><span id=\"example-input-4-1\">\"(()(()))\"</span>\n",
    "<strong>Output: </strong><span id=\"example-output-4\">6</span>\n",
    "</pre>\n",
    "\n",
    "<p>&nbsp;</p>\n",
    "\n",
    "<p><strong>Note:</strong></p>\n",
    "\n",
    "<ol>\n",
    "\t<li><code>S</code> is a balanced parentheses string, containing only <code>(</code> and <code>)</code>.</li>\n",
    "\t<li><code>2 &lt;= S.length &lt;= 50</code></li>\n",
    "</ol>\n",
    "</div>\n",
    "</div>\n",
    "</div>\n",
    "</div>\n",
    "</div>"
   ]
  },
  {
   "cell_type": "markdown",
   "metadata": {},
   "source": [
    "## Option 1\n",
    "\n",
    "Time complexity: O(n)\n",
    "<br>\n",
    "Space complexity: O(n)\n"
   ]
  },
  {
   "cell_type": "code",
   "execution_count": null,
   "metadata": {
    "scrolled": false
   },
   "outputs": [],
   "source": [
    "import collections\n",
    "class Solution(object):\n",
    "    def scoreOfParentheses(self, S):\n",
    "        stack = [0]\n",
    "        for s in S:\n",
    "            if stack and s == ')':\n",
    "                v = stack.pop()\n",
    "                stack[-1] += max(2*v, 1)\n",
    "            else:\n",
    "                stack.append(0)\n",
    "        return stack.pop()\n",
    "    \n",
    "Solution().scoreOfParentheses(\"()\")"
   ]
  },
  {
   "cell_type": "markdown",
   "metadata": {},
   "source": [
    "#### Result: 16ms (72.06%)"
   ]
  }
 ],
 "metadata": {
  "kernelspec": {
   "display_name": "Python 2",
   "language": "python",
   "name": "python2"
  },
  "language_info": {
   "codemirror_mode": {
    "name": "ipython",
    "version": 2
   },
   "file_extension": ".py",
   "mimetype": "text/x-python",
   "name": "python",
   "nbconvert_exporter": "python",
   "pygments_lexer": "ipython2",
   "version": "2.7.16"
  }
 },
 "nbformat": 4,
 "nbformat_minor": 2
}
