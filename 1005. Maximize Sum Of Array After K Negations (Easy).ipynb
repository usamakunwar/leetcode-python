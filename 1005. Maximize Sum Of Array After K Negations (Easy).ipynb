{
 "cells": [
  {
   "cell_type": "markdown",
   "metadata": {},
   "source": [
    "# 1005. Maximize Sum Of Array After K Negations (Easy)"
   ]
  },
  {
   "cell_type": "markdown",
   "metadata": {},
   "source": [
    "<div><p>Given an array <code>A</code> of integers, we <strong>must</strong>&nbsp;modify the array in the following way: we choose an <code>i</code>&nbsp;and replace&nbsp;<code>A[i]</code> with <code>-A[i]</code>, and we repeat this process <code>K</code> times in total.&nbsp; (We may choose the same index <code>i</code> multiple times.)</p>\n",
    "\n",
    "<p>Return the largest possible sum of the array after modifying it in this way.</p>\n",
    "\n",
    "<p>&nbsp;</p>\n",
    "\n",
    "<p><strong>Example 1:</strong></p>\n",
    "\n",
    "<pre><strong>Input: </strong>A = <span id=\"example-input-1-1\">[4,2,3]</span>, K = <span id=\"example-input-1-2\">1</span>\n",
    "<strong>Output: </strong><span id=\"example-output-1\">5\n",
    "<strong>Explanation: </strong>Choose indices (1,) and A becomes [4,-2,3].</span>\n",
    "</pre>\n",
    "\n",
    "<div>\n",
    "<p><strong>Example 2:</strong></p>\n",
    "\n",
    "<pre><strong>Input: </strong>A = <span id=\"example-input-2-1\">[3,-1,0,2]</span>, K = <span id=\"example-input-2-2\">3</span>\n",
    "<strong>Output: </strong>6\n",
    "<span id=\"example-output-1\"><strong>Explanation: </strong>Choose indices (1, 2, 2) and A becomes [3,1,0,2].</span>\n",
    "</pre>\n",
    "\n",
    "<div>\n",
    "<p><strong>Example 3:</strong></p>\n",
    "\n",
    "<pre><strong>Input: </strong>A = <span id=\"example-input-3-1\">[2,-3,-1,5,-4]</span>, K = <span id=\"example-input-3-2\">2</span>\n",
    "<strong>Output: </strong><span id=\"example-output-3\">13\n",
    "</span><span id=\"example-output-1\"><strong>Explanation: </strong>Choose indices (1, 4) and A becomes [2,3,-1,5,4].</span>\n",
    "</pre>\n",
    "</div>\n",
    "</div>\n",
    "\n",
    "<p>&nbsp;</p>\n",
    "\n",
    "<p><strong>Note:</strong></p>\n",
    "\n",
    "<ol>\n",
    "\t<li><code>1 &lt;= A.length &lt;= 10000</code></li>\n",
    "\t<li><code>1 &lt;= K &lt;= 10000</code></li>\n",
    "\t<li><code>-100 &lt;= A[i] &lt;= 100</code></li>\n",
    "</ol>\n",
    "</div>"
   ]
  },
  {
   "cell_type": "markdown",
   "metadata": {},
   "source": [
    "## Option 1\n",
    "<p>\n",
    "Time complexity = O(nlogn)\n",
    "<br>\n",
    "Space complexity = O(1)"
   ]
  },
  {
   "cell_type": "code",
   "execution_count": null,
   "metadata": {
    "scrolled": true
   },
   "outputs": [],
   "source": [
    "import collections, heapq\n",
    "class Solution(object):\n",
    "    def largestSumAfterKNegations(self, A, K):\n",
    "        total = 0\n",
    "        heapq.heapify(A)\n",
    "        while A:\n",
    "            v = heapq.heappop(A)\n",
    "            if K > 0:\n",
    "                if v == 0:\n",
    "                    K = 0\n",
    "                elif v > 0 or (A and A[0] >= abs(v)):\n",
    "                    total += v if K%2 == 0 else -v\n",
    "                    K = 0\n",
    "                else:\n",
    "                    total += -v\n",
    "                    K -= 1            \n",
    "            else:\n",
    "                total += v\n",
    "        return total\n",
    "            \n",
    "Solution().largestSumAfterKNegations([-2,5,0,2,-2],3)\n",
    "        "
   ]
  },
  {
   "cell_type": "markdown",
   "metadata": {},
   "source": [
    "#### Result: 52ms (38.73%)"
   ]
  },
  {
   "cell_type": "markdown",
   "metadata": {},
   "source": [
    "## Option 2\n",
    "<p>\n",
    "If you pop and push back will always have the least come next!!\n",
    "<p>\n",
    "Time complexity = O(klogn)\n",
    "<br>\n",
    "Space complexity = O(1)"
   ]
  },
  {
   "cell_type": "code",
   "execution_count": null,
   "metadata": {},
   "outputs": [],
   "source": [
    "import collections, heapq\n",
    "class Solution(object):\n",
    "    def largestSumAfterKNegations(self, A, K):\n",
    "        heapq.heapify(A)\n",
    "        while K:\n",
    "            heapq.heappush(A, -heapq.heappop(A))\n",
    "            K -= 1\n",
    "        return sum(A)\n",
    "            \n",
    "Solution().largestSumAfterKNegations([-2,5,0,2,-2],3)\n",
    "        "
   ]
  },
  {
   "cell_type": "markdown",
   "metadata": {},
   "source": [
    "#### Result: 48ms (50.00%)\n"
   ]
  }
 ],
 "metadata": {
  "kernelspec": {
   "display_name": "Python 2",
   "language": "python",
   "name": "python2"
  },
  "language_info": {
   "codemirror_mode": {
    "name": "ipython",
    "version": 2
   },
   "file_extension": ".py",
   "mimetype": "text/x-python",
   "name": "python",
   "nbconvert_exporter": "python",
   "pygments_lexer": "ipython2",
   "version": "2.7.16"
  }
 },
 "nbformat": 4,
 "nbformat_minor": 2
}
