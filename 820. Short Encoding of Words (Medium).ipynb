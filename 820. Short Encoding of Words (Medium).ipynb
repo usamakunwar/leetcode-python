{
 "cells": [
  {
   "cell_type": "markdown",
   "metadata": {},
   "source": [
    "# 820. Short Encoding of Words (Medium)\n"
   ]
  },
  {
   "cell_type": "markdown",
   "metadata": {},
   "source": [
    "<div><p>Given a list of words, we may encode it by writing a reference string <code>S</code> and a list of indexes <code>A</code>.</p>\n",
    "\n",
    "<p>For example, if the list of words is <code>[\"time\", \"me\", \"bell\"]</code>, we can write it as <code>S = \"time#bell#\"</code>&nbsp;and <code>indexes = [0, 2, 5]</code>.</p>\n",
    "\n",
    "<p>Then for each index, we will recover the word by reading from the reference string from that index until we reach a <code>\"#\"</code> character.</p>\n",
    "\n",
    "<p>What is the length of the shortest reference string S possible that encodes the given words?</p>\n",
    "\n",
    "<p><strong>Example:</strong></p>\n",
    "\n",
    "<pre><strong>Input:</strong> words = <code>[\"time\", \"me\", \"bell\"]</code>\n",
    "<strong>Output:</strong> 10\n",
    "<strong>Explanation:</strong> S = <code>\"time#bell#\" and indexes = [0, 2, 5</code>].\n",
    "</pre>\n",
    "\n",
    "<p>&nbsp;</p>\n",
    "\n",
    "<p><strong>Note:</strong></p>\n",
    "\n",
    "<ol>\n",
    "\t<li><code>1 &lt;= words.length&nbsp;&lt;= 2000</code>.</li>\n",
    "\t<li><code>1 &lt;=&nbsp;words[i].length&nbsp;&lt;= 7</code>.</li>\n",
    "\t<li>Each word&nbsp;has only&nbsp;lowercase letters.</li>\n",
    "</ol>\n",
    "</div>"
   ]
  },
  {
   "cell_type": "markdown",
   "metadata": {},
   "source": [
    "## Option 1\n",
    "<p>\n",
    "<p>\n",
    "\n",
    "Time complexity: O(n*w) length(words) * len(word\n",
    "<br>\n",
    "Space complexity: O(n*w) length(words) * len(word"
   ]
  },
  {
   "cell_type": "code",
   "execution_count": null,
   "metadata": {},
   "outputs": [],
   "source": [
    "class Solution(object):\n",
    "    def minimumLengthEncoding(self, words):\n",
    "        words, sub_words = set(words), set()\n",
    "        res = 0\n",
    "        for w in words:\n",
    "            for i in range(1,len(w)):\n",
    "                sub_words.add(w[i:])\n",
    "        return sum(len(w)+1 for w in words if w not in sub_words)\n",
    "        \n",
    "        \n",
    "Solution().minimumLengthEncoding([\"time\", \"bell\", \"btime\"])\n",
    "        "
   ]
  },
  {
   "cell_type": "markdown",
   "metadata": {},
   "source": [
    "#### Result: 104ms (53.85%)\n"
   ]
  }
 ],
 "metadata": {
  "kernelspec": {
   "display_name": "Python 2",
   "language": "python",
   "name": "python2"
  },
  "language_info": {
   "codemirror_mode": {
    "name": "ipython",
    "version": 2
   },
   "file_extension": ".py",
   "mimetype": "text/x-python",
   "name": "python",
   "nbconvert_exporter": "python",
   "pygments_lexer": "ipython2",
   "version": "2.7.16"
  }
 },
 "nbformat": 4,
 "nbformat_minor": 2
}
