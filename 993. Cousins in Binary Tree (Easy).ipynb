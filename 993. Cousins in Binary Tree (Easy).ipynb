{
 "cells": [
  {
   "cell_type": "markdown",
   "metadata": {},
   "source": [
    "# 993. Cousins in Binary Tree (Medium)"
   ]
  },
  {
   "cell_type": "markdown",
   "metadata": {},
   "source": [
    "<div><p>In a binary tree, the root node is at depth <code>0</code>, and children of each depth <code>k</code> node are at depth <code>k+1</code>.</p>\n",
    "\n",
    "<p>Two nodes of a binary tree are <em>cousins</em> if they have the same depth, but have <strong>different parents</strong>.</p>\n",
    "\n",
    "<p>We are given the <code>root</code> of a binary tree with unique values, and the values <code>x</code>&nbsp;and <code>y</code>&nbsp;of two different nodes in the tree.</p>\n",
    "\n",
    "<p>Return&nbsp;<code>true</code>&nbsp;if and only if the nodes corresponding to the values <code>x</code> and <code>y</code> are cousins.</p>\n",
    "\n",
    "<p>&nbsp;</p>\n",
    "\n",
    "<p><strong>Example 1:<br>\n",
    "<img alt=\"\" src=\"https://assets.leetcode.com/uploads/2019/02/12/q1248-01.png\" style=\"width: 180px; height: 160px;\"></strong></p>\n",
    "\n",
    "<pre><strong>Input: </strong>root = <span id=\"example-input-1-1\">[1,2,3,4]</span>, x = <span id=\"example-input-1-2\">4</span>, y = <span id=\"example-input-1-3\">3</span>\n",
    "<strong>Output: </strong><span id=\"example-output-1\">false</span>\n",
    "</pre>\n",
    "\n",
    "<div>\n",
    "<p><strong>Example 2:<br>\n",
    "<img alt=\"\" src=\"https://assets.leetcode.com/uploads/2019/02/12/q1248-02.png\" style=\"width: 201px; height: 160px;\"></strong></p>\n",
    "\n",
    "<pre><strong>Input: </strong>root = <span id=\"example-input-2-1\">[1,2,3,null,4,null,5]</span>, x = <span id=\"example-input-2-2\">5</span>, y = <span id=\"example-input-2-3\">4</span>\n",
    "<strong>Output: </strong><span id=\"example-output-2\">true</span>\n",
    "</pre>\n",
    "\n",
    "<div>\n",
    "<p><strong>Example 3:</strong></p>\n",
    "\n",
    "<p><strong><img alt=\"\" src=\"https://assets.leetcode.com/uploads/2019/02/13/q1248-03.png\" style=\"width: 156px; height: 160px;\"></strong></p>\n",
    "\n",
    "<pre><strong>Input: </strong>root = <span id=\"example-input-3-1\">[1,2,3,null,4]</span>, x = 2, y = 3\n",
    "<strong>Output: </strong><span id=\"example-output-3\">false</span></pre>\n",
    "\n",
    "<p>&nbsp;</p>\n",
    "</div>\n",
    "</div>\n",
    "\n",
    "<p><strong>Note:</strong></p>\n",
    "\n",
    "<ol>\n",
    "\t<li>The number of nodes in the tree will be between <code>2</code> and <code>100</code>.</li>\n",
    "\t<li>Each node has a unique integer value from <code>1</code> to <code>100</code>.</li>\n",
    "</ol>\n",
    "\n",
    "<div>\n",
    "<div>\n",
    "<div>&nbsp;</div>\n",
    "</div>\n",
    "</div></div>"
   ]
  },
  {
   "cell_type": "markdown",
   "metadata": {},
   "source": [
    "## Option 1\n",
    "\n",
    "BFS. \n",
    "<p>\n",
    "Time complexity = O(n)\n",
    "<br>\n",
    "Space complexity = O(n)"
   ]
  },
  {
   "cell_type": "code",
   "execution_count": null,
   "metadata": {
    "scrolled": false
   },
   "outputs": [],
   "source": [
    "# Definition for a binary tree node.\n",
    "# class TreeNode:\n",
    "#     def __init__(self, x):\n",
    "#         self.val = x\n",
    "#         self.left = None\n",
    "#         self.right = None\n",
    "\n",
    "class Solution:\n",
    "    def isCousins(self, root: TreeNode, x: int, y: int) -> bool:\n",
    "        \n",
    "        queue = collections.deque()\n",
    "        queue.append((root,0,0))\n",
    "        xlevel = None\n",
    "        ylevel = None\n",
    "        \n",
    "        while queue:\n",
    "            node, level, parent = queue.popleft()\n",
    "            if node.val == x:\n",
    "                xlevel = (level,parent)\n",
    "            elif node.val == y:\n",
    "                ylevel = (level,parent)\n",
    "            \n",
    "            if xlevel and ylevel: break\n",
    "                \n",
    "            if node.left: queue.append((node.left,level+1,node.val))\n",
    "            if node.right: queue.append((node.right,level+1,node.val))\n",
    "        \n",
    "        return True if xlevel and ylevel and xlevel[0] == ylevel[0] and xlevel[1] != ylevel[1] else False"
   ]
  },
  {
   "cell_type": "markdown",
   "metadata": {},
   "source": [
    "#### Result:  32ms (76.49%)"
   ]
  }
 ],
 "metadata": {
  "kernelspec": {
   "display_name": "Python 3",
   "language": "python",
   "name": "python3"
  },
  "language_info": {
   "codemirror_mode": {
    "name": "ipython",
    "version": 3
   },
   "file_extension": ".py",
   "mimetype": "text/x-python",
   "name": "python",
   "nbconvert_exporter": "python",
   "pygments_lexer": "ipython3",
   "version": "3.7.4"
  }
 },
 "nbformat": 4,
 "nbformat_minor": 2
}
