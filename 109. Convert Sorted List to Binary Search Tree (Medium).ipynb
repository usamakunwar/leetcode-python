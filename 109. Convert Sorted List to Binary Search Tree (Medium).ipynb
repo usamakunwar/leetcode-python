{
 "cells": [
  {
   "cell_type": "markdown",
   "metadata": {},
   "source": [
    "# 109. Convert Sorted List to Binary Search Tree (Medium)"
   ]
  },
  {
   "cell_type": "markdown",
   "metadata": {},
   "source": [
    "<div><p>Given a singly linked list where elements are sorted in ascending order, convert it to a height balanced BST.</p>\n",
    "\n",
    "<p>For this problem, a height-balanced binary tree is defined as a binary tree in which the depth of the two subtrees of <em>every</em> node never differ by more than 1.</p>\n",
    "\n",
    "<p><strong>Example:</strong></p>\n",
    "\n",
    "<pre>Given the sorted linked list: [-10,-3,0,5,9],\n",
    "\n",
    "One possible answer is: [0,-3,9,-10,null,5], which represents the following height balanced BST:\n",
    "\n",
    "      0\n",
    "     / \\\n",
    "   -3   9\n",
    "   /   /\n",
    " -10  5\n",
    "</pre>\n",
    "</div>"
   ]
  },
  {
   "cell_type": "markdown",
   "metadata": {},
   "source": [
    "## Option 1\n",
    "\n",
    "<p>\n",
    "<li>In-order Simulation\n",
    "<p>\n",
    "\n",
    "Time complexity: O(n)\n",
    "    <br>\n",
    "Space complexity: O(logn) \n"
   ]
  },
  {
   "cell_type": "code",
   "execution_count": null,
   "metadata": {},
   "outputs": [],
   "source": [
    "# Definition for singly-linked list.\n",
    "# class ListNode(object):\n",
    "#     def __init__(self, x):\n",
    "#         self.val = x\n",
    "#         self.next = None\n",
    "\n",
    "# Definition for a binary tree node.\n",
    "# class TreeNode(object):\n",
    "#     def __init__(self, x):\n",
    "#         self.val = x\n",
    "#         self.left = None\n",
    "#         self.right = None\n",
    "\n",
    "class Solution(object):\n",
    "    def sortedListToBST(self, head):\n",
    "        \"\"\"\n",
    "        :type head: ListNode\n",
    "        :rtype: TreeNode\n",
    "        \"\"\"\n",
    "        if not head: return None\n",
    "        \n",
    "        self.head = head\n",
    "        #Find the depth of the linked list\n",
    "        count = 0\n",
    "        curr = head\n",
    "        while curr:\n",
    "            count += 1\n",
    "            curr = curr.next\n",
    "            \n",
    "        #Simulate an LVR\n",
    "        def search(l,r):\n",
    "            if l > r: return None\n",
    "            \n",
    "            mid = (l+r)/2\n",
    "            left = search(l,mid-1)\n",
    "            \n",
    "            node = TreeNode(self.head.val)\n",
    "            node.left = left\n",
    "            \n",
    "            self.head = self.head.next\n",
    "            \n",
    "            right = search(mid+1,r)\n",
    "            node.right = right\n",
    "            \n",
    "            return node\n",
    "                        \n",
    "        return search(0,count-1)\n",
    "        "
   ]
  },
  {
   "cell_type": "markdown",
   "metadata": {},
   "source": [
    "\n",
    "#### Result: 112ms (99.59%)"
   ]
  }
 ],
 "metadata": {
  "kernelspec": {
   "display_name": "Python 2",
   "language": "python",
   "name": "python2"
  },
  "language_info": {
   "codemirror_mode": {
    "name": "ipython",
    "version": 2
   },
   "file_extension": ".py",
   "mimetype": "text/x-python",
   "name": "python",
   "nbconvert_exporter": "python",
   "pygments_lexer": "ipython2",
   "version": "2.7.16"
  }
 },
 "nbformat": 4,
 "nbformat_minor": 2
}
