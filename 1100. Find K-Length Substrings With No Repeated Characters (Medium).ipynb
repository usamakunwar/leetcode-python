{
 "cells": [
  {
   "cell_type": "markdown",
   "metadata": {},
   "source": [
    "# 1100. Find K-Length Substrings With No Repeated Characters (Medium)"
   ]
  },
  {
   "cell_type": "markdown",
   "metadata": {},
   "source": [
    "<div><p>Given a string <code>S</code>, return the number of substrings of length <code>K</code> with no repeated characters.</p>\n",
    "\n",
    "<p>&nbsp;</p>\n",
    "\n",
    "<p><strong>Example 1:</strong></p>\n",
    "\n",
    "<pre><strong>Input: </strong>S = <span id=\"example-input-1-1\">\"havefunonleetcode\"</span>, K = <span id=\"example-input-1-2\">5</span>\n",
    "<strong>Output: </strong><span id=\"example-output-1\">6</span>\n",
    "<strong>Explanation: </strong>\n",
    "There are 6 substrings they are : 'havef','avefu','vefun','efuno','etcod','tcode'.\n",
    "</pre>\n",
    "\n",
    "<p><strong>Example 2:</strong></p>\n",
    "\n",
    "<pre><strong>Input: </strong>S = <span id=\"example-input-2-1\">\"home\"</span>, K = <span id=\"example-input-2-2\">5</span>\n",
    "<strong>Output: </strong><span id=\"example-output-2\">0</span>\n",
    "<strong>Explanation: </strong>\n",
    "Notice K can be larger than the length of S. In this case is not possible to find any substring.\n",
    "</pre>\n",
    "\n",
    "<p>&nbsp;</p>\n",
    "\n",
    "<p><strong>Note:</strong></p>\n",
    "\n",
    "<ol>\n",
    "\t<li><code>1 &lt;= S.length &lt;= 10^4</code></li>\n",
    "\t<li>All characters of S are lowercase English letters.</li>\n",
    "\t<li><code>1 &lt;= K &lt;= 10^4</code></li>\n",
    "</ol>\n",
    "</div>"
   ]
  },
  {
   "cell_type": "markdown",
   "metadata": {},
   "source": [
    "## Option 1\n",
    "\n",
    "Sliding window with a map\n",
    "\n",
    "<p>\n",
    "Time complexity = O(n)\n",
    "<br>\n",
    "Space complexity = O(1)"
   ]
  },
  {
   "cell_type": "code",
   "execution_count": null,
   "metadata": {
    "scrolled": true
   },
   "outputs": [],
   "source": [
    "import collections\n",
    "class Solution(object):\n",
    "    def numKLenSubstrNoRepeats(self, S, K):\n",
    "        s_map, left, n = collections.Counter(), 0, 0\n",
    "        for i,v in enumerate(S):\n",
    "            s_map[v] += 1\n",
    "            while s_map[v] > 1 or (i-left+1) > K:\n",
    "                s_map[S[left]] -= 1\n",
    "                left += 1\n",
    "            if (i-left+1) == K: n += 1\n",
    "        return n\n",
    "Solution().numKLenSubstrNoRepeats(\"haveraauswth\",5)"
   ]
  },
  {
   "cell_type": "markdown",
   "metadata": {},
   "source": [
    "#### Result: 52ms (38.71%)"
   ]
  },
  {
   "cell_type": "markdown",
   "metadata": {},
   "source": [
    "## Option 2\n",
    "\n",
    "Same as above but with a set, dont really need a counter\n",
    "\n",
    "<p>\n",
    "Time complexity = O(n)\n",
    "<br>\n",
    "Space complexity = O(1)"
   ]
  },
  {
   "cell_type": "code",
   "execution_count": null,
   "metadata": {},
   "outputs": [],
   "source": [
    "class Solution(object):\n",
    "    def numKLenSubstrNoRepeats(self, S, K):\n",
    "        s_map, left, n = set(), 0, 0\n",
    "        for i,v in enumerate(S):\n",
    "            while v in s_map or (i-left+1) > K:\n",
    "                s_map.remove(S[left])\n",
    "                left += 1\n",
    "            s_map.add(v)\n",
    "            if (i-left+1) == K: n += 1\n",
    "        return n\n",
    "Solution().numKLenSubstrNoRepeats(\"haveraauswth\",5)"
   ]
  },
  {
   "cell_type": "markdown",
   "metadata": {},
   "source": [
    "#### Result: 36ms (79.03%)"
   ]
  }
 ],
 "metadata": {
  "kernelspec": {
   "display_name": "Python 3",
   "language": "python",
   "name": "python3"
  },
  "language_info": {
   "codemirror_mode": {
    "name": "ipython",
    "version": 3
   },
   "file_extension": ".py",
   "mimetype": "text/x-python",
   "name": "python",
   "nbconvert_exporter": "python",
   "pygments_lexer": "ipython3",
   "version": "3.7.4"
  }
 },
 "nbformat": 4,
 "nbformat_minor": 2
}
