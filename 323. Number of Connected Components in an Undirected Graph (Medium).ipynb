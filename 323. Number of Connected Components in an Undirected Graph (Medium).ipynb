{
 "cells": [
  {
   "cell_type": "markdown",
   "metadata": {},
   "source": [
    "# 323. Number of Connected Components in an Undirected Graph (Medium)"
   ]
  },
  {
   "cell_type": "markdown",
   "metadata": {},
   "source": [
    "<div><p>Given <code>n</code> nodes labeled from <code>0</code> to <code>n - 1</code> and a list of undirected edges (each edge is a pair of nodes), write a function to find the number of connected components in an undirected graph.</p>\n",
    "\n",
    "<p><b>Example 1:</b></p>\n",
    "\n",
    "<pre><strong>Input: </strong><code>n = 5</code> and <code>edges = [[0, 1], [1, 2], [3, 4]]</code>\n",
    "\n",
    "     0          3\n",
    "     |          |\n",
    "     1 --- 2    4 \n",
    "\n",
    "<strong>Output: </strong>2\n",
    "</pre>\n",
    "\n",
    "<p><b>Example 2:</b></p>\n",
    "\n",
    "<pre><strong>Input: </strong><code>n = 5</code> and <code>edges = [[0, 1], [1, 2], [2, 3], [3, 4]]</code>\n",
    "\n",
    "     0           4\n",
    "     |           |\n",
    "     1 --- 2 --- 3\n",
    "\n",
    "<strong>Output:&nbsp;&nbsp;</strong>1\n",
    "</pre>\n",
    "\n",
    "<p><b>Note:</b><br>\n",
    "You can assume that no duplicate edges will appear in <code>edges</code>. Since all edges are undirected, <code>[0, 1]</code> is the same as <code>[1, 0]</code> and thus will not appear together in <code>edges</code>.</p>\n",
    "</div>"
   ]
  },
  {
   "cell_type": "markdown",
   "metadata": {},
   "source": [
    "## Option 1\n",
    "<p>\n",
    "    DFS\n",
    "<p>\n",
    "Time complexity: O(n)\n",
    "    <br>\n",
    "Space complexity: O(n)\n"
   ]
  },
  {
   "cell_type": "code",
   "execution_count": null,
   "metadata": {
    "scrolled": true
   },
   "outputs": [],
   "source": [
    "import collections\n",
    "class Solution(object):\n",
    "    def countComponents(self, n, edges):\n",
    "        m = collections.defaultdict(list)\n",
    "        for a,b in edges:\n",
    "            m[a].append(b)\n",
    "            m[b].append(a)\n",
    "        \n",
    "        self.seen = set()\n",
    "        def search(i):\n",
    "            self.seen.add(i)\n",
    "            for j in m[i]:\n",
    "                if j not in self.seen: search(j)\n",
    "            return 1\n",
    "\n",
    "        return sum(search(i) for i in range(n) if i not in self.seen)        \n",
    "        \n",
    "Solution().countComponents(5, [[0, 1], [1, 2], [3, 4]])\n"
   ]
  },
  {
   "cell_type": "markdown",
   "metadata": {},
   "source": [
    "#### Result: 104ms (27.82%)"
   ]
  },
  {
   "cell_type": "markdown",
   "metadata": {},
   "source": [
    "## Option 2\n",
    "<p>\n",
    "    Union Find\n",
    "<p>\n",
    "Time complexity: O(n)\n",
    "    <br>\n",
    "Space complexity: O(n)\n"
   ]
  },
  {
   "cell_type": "code",
   "execution_count": null,
   "metadata": {},
   "outputs": [],
   "source": [
    "import collections\n",
    "class Solution(object):\n",
    "    def countComponents(self, n, edges):\n",
    "        arr = range(n)\n",
    "        def find(a):\n",
    "            if arr[a] != a:\n",
    "                arr[a] = find(arr[a])\n",
    "            return arr[a]\n",
    "        \n",
    "        for a,b in edges:\n",
    "            arr[find(b)] = find(a)\n",
    "        \n",
    "        return len(set(map(find,arr)))        \n",
    "        \n",
    "Solution().countComponents(12, [[1,4],[5,11],[2,5],[3,6],[4,7],[1,2],[0,1],[7,8],[5,9],[1,3],[5,10]])\n"
   ]
  },
  {
   "cell_type": "markdown",
   "metadata": {},
   "source": [
    "#### Result: 88ms (59.36%)"
   ]
  }
 ],
 "metadata": {
  "kernelspec": {
   "display_name": "Python 2",
   "language": "python",
   "name": "python2"
  },
  "language_info": {
   "codemirror_mode": {
    "name": "ipython",
    "version": 2
   },
   "file_extension": ".py",
   "mimetype": "text/x-python",
   "name": "python",
   "nbconvert_exporter": "python",
   "pygments_lexer": "ipython2",
   "version": "2.7.16"
  }
 },
 "nbformat": 4,
 "nbformat_minor": 2
}
