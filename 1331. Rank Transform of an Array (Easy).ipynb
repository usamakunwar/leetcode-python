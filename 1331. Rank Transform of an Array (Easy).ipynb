{
 "cells": [
  {
   "cell_type": "markdown",
   "metadata": {},
   "source": [
    "# 1331. Rank Transform of an Array (Easy)\n"
   ]
  },
  {
   "cell_type": "markdown",
   "metadata": {},
   "source": [
    "<div><p>Given an array of integers&nbsp;<code>arr</code>, replace each element with its rank.</p>\n",
    "\n",
    "<p>The rank represents how large the element is. The rank has the following rules:</p>\n",
    "\n",
    "<ul>\n",
    "\t<li>Rank is an integer starting from 1.</li>\n",
    "\t<li>The larger the element, the larger the rank. If two elements are equal, their rank must be the same.</li>\n",
    "\t<li>Rank should be as small as possible.</li>\n",
    "</ul>\n",
    "\n",
    "<p>&nbsp;</p>\n",
    "<p><strong>Example 1:</strong></p>\n",
    "\n",
    "<pre><strong>Input:</strong> arr = [40,10,20,30]\n",
    "<strong>Output:</strong> [4,1,2,3]\n",
    "<strong>Explanation</strong>: 40 is the largest element. 10 is the smallest. 20 is the second smallest. 30 is the third smallest.</pre>\n",
    "\n",
    "<p><strong>Example 2:</strong></p>\n",
    "\n",
    "<pre><strong>Input:</strong> arr = [100,100,100]\n",
    "<strong>Output:</strong> [1,1,1]\n",
    "<strong>Explanation</strong>: Same elements share the same rank.\n",
    "</pre>\n",
    "\n",
    "<p><strong>Example 3:</strong></p>\n",
    "\n",
    "<pre><strong>Input:</strong> arr = [37,12,28,9,100,56,80,5,12]\n",
    "<strong>Output:</strong> [5,3,4,2,8,6,7,1,3]\n",
    "</pre>\n",
    "\n",
    "<p>&nbsp;</p>\n",
    "<p><strong>Constraints:</strong></p>\n",
    "\n",
    "<ul>\n",
    "\t<li><code>0 &lt;= arr.length &lt;= 10<sup>5</sup></code></li>\n",
    "\t<li><code>-10<sup>9</sup>&nbsp;&lt;= arr[i] &lt;= 10<sup>9</sup></code></li>\n",
    "</ul></div>"
   ]
  },
  {
   "cell_type": "markdown",
   "metadata": {},
   "source": [
    "## Option 1\n",
    "<p>\n",
    "Time complexity = O(nlogn)\n",
    "<br>\n",
    "Space complexity = O(n)"
   ]
  },
  {
   "cell_type": "code",
   "execution_count": 31,
   "metadata": {
    "scrolled": true
   },
   "outputs": [
    {
     "data": {
      "text/plain": [
       "<map at 0x10a464610>"
      ]
     },
     "execution_count": 31,
     "metadata": {},
     "output_type": "execute_result"
    }
   ],
   "source": [
    "class Solution:\n",
    "    def arrayRankTransform(self, arr):\n",
    "        sort_arr, lenarr = sorted(arr), len(arr)\n",
    "        d,rank = {},1\n",
    "        for i in range(lenarr):\n",
    "            if sort_arr[i] not in d:\n",
    "                d[sort_arr[i]] = rank\n",
    "                rank += 1        \n",
    "        for i in range(lenarr):arr[i] = d[arr[i]]\n",
    "        return arr\n",
    "        \n",
    "Solution().arrayRankTransform([37,12,28,9,100,56,80,5,12])"
   ]
  },
  {
   "cell_type": "markdown",
   "metadata": {},
   "source": [
    "#### Result:  388ms (100%)"
   ]
  }
 ],
 "metadata": {
  "kernelspec": {
   "display_name": "Python 3",
   "language": "python",
   "name": "python3"
  },
  "language_info": {
   "codemirror_mode": {
    "name": "ipython",
    "version": 3
   },
   "file_extension": ".py",
   "mimetype": "text/x-python",
   "name": "python",
   "nbconvert_exporter": "python",
   "pygments_lexer": "ipython3",
   "version": "3.7.4"
  }
 },
 "nbformat": 4,
 "nbformat_minor": 2
}
