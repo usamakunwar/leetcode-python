{
 "cells": [
  {
   "cell_type": "markdown",
   "metadata": {},
   "source": [
    "# 2. Add Two Numbers (Medium)\n"
   ]
  },
  {
   "cell_type": "markdown",
   "metadata": {},
   "source": [
    "<div><p>You are given two <b>non-empty</b> linked lists representing two non-negative integers. The digits are stored in <b>reverse order</b> and each of their nodes contain a single digit. Add the two numbers and return it as a linked list.</p>\n",
    "\n",
    "<p>You may assume the two numbers do not contain any leading zero, except the number 0 itself.</p>\n",
    "\n",
    "<p><b>Example:</b></p>\n",
    "\n",
    "<pre><b>Input:</b> (2 -&gt; 4 -&gt; 3) + (5 -&gt; 6 -&gt; 4)\n",
    "<b>Output:</b> 7 -&gt; 0 -&gt; 8\n",
    "<b>Explanation:</b> 342 + 465 = 807.\n",
    "</pre>\n",
    "</div>"
   ]
  },
  {
   "cell_type": "markdown",
   "metadata": {},
   "source": [
    "## Option 1\n",
    "\n",
    "Recurse through the linked lists, whilst adding and passing on oustanding\n",
    "<br>\n",
    "Time complexity O(max(i,j)) i = l1 lenght, j = l2 lenght\n",
    "<br>\n",
    "Space complexity O(max(i,j)) i = l1 lenght, j = l2 lenght"
   ]
  },
  {
   "cell_type": "code",
   "execution_count": null,
   "metadata": {
    "scrolled": false
   },
   "outputs": [],
   "source": [
    "#Definition for singly-linked list.\n",
    "class ListNode:\n",
    "    def __init__(self, x):\n",
    "        self.val = x\n",
    "        self.next = None\n",
    "\n",
    "class Solution:\n",
    "    def addTwoNumbers(self, l1: ListNode, l2: ListNode) -> ListNode:        \n",
    "        result = ListNode(0)\n",
    "        \n",
    "        def next_node(node1, node2, result_node, outstanding):\n",
    "            node_sum = outstanding\n",
    "            if node1:\n",
    "                node_sum += node1.val\n",
    "            if node2:\n",
    "                node_sum += node2.val\n",
    "            \n",
    "            if node_sum >= 10:\n",
    "                node_sum = node_sum - 10\n",
    "                outstanding = 1\n",
    "            else:\n",
    "                outstanding = 0\n",
    "\n",
    "            result_node.val = node_sum\n",
    "            \n",
    "            if outstanding > 0 or (node1 and node1.next) or (node2 and node2.next):\n",
    "                result_node.next = ListNode(0)\n",
    "                return next_node(node1.next if node1 else None , node2.next if node2 else None, result_node.next, outstanding)\n",
    "            else:\n",
    "                return result\n",
    "                        \n",
    "        return next_node(l1,l2, result, 0)\n",
    "        "
   ]
  },
  {
   "cell_type": "markdown",
   "metadata": {},
   "source": [
    "#### Result:  Accepted\n",
    "#### Runtime: 64ms (90.82%)"
   ]
  },
  {
   "cell_type": "code",
   "execution_count": null,
   "metadata": {},
   "outputs": [],
   "source": []
  }
 ],
 "metadata": {
  "kernelspec": {
   "display_name": "Python 3",
   "language": "python",
   "name": "python3"
  },
  "language_info": {
   "codemirror_mode": {
    "name": "ipython",
    "version": 3
   },
   "file_extension": ".py",
   "mimetype": "text/x-python",
   "name": "python",
   "nbconvert_exporter": "python",
   "pygments_lexer": "ipython3",
   "version": "3.7.4"
  }
 },
 "nbformat": 4,
 "nbformat_minor": 2
}
