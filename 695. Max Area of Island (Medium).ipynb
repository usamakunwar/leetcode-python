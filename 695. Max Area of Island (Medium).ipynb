{
 "cells": [
  {
   "cell_type": "markdown",
   "metadata": {},
   "source": [
    "# 695. Max Area of Island (Medium)"
   ]
  },
  {
   "cell_type": "markdown",
   "metadata": {},
   "source": [
    "<div><p>Given a non-empty 2D array <code>grid</code> of 0's and 1's, an <b>island</b> is a group of <code>1</code>'s (representing land) connected 4-directionally (horizontal or vertical.) You may assume all four edges of the grid are surrounded by water.</p>\n",
    "\n",
    "<p>Find the maximum area of an island in the given 2D array. (If there is no island, the maximum area is 0.)</p>\n",
    "\n",
    "<p><b>Example 1:</b></p>\n",
    "\n",
    "<pre>[[0,0,1,0,0,0,0,1,0,0,0,0,0],\n",
    " [0,0,0,0,0,0,0,1,1,1,0,0,0],\n",
    " [0,1,1,0,1,0,0,0,0,0,0,0,0],\n",
    " [0,1,0,0,1,1,0,0,<b>1</b>,0,<b>1</b>,0,0],\n",
    " [0,1,0,0,1,1,0,0,<b>1</b>,<b>1</b>,<b>1</b>,0,0],\n",
    " [0,0,0,0,0,0,0,0,0,0,<b>1</b>,0,0],\n",
    " [0,0,0,0,0,0,0,1,1,1,0,0,0],\n",
    " [0,0,0,0,0,0,0,1,1,0,0,0,0]]\n",
    "</pre>\n",
    "Given the above grid, return <code>6</code>. Note the answer is not 11, because the island must be connected 4-directionally.\n",
    "\n",
    "<p><b>Example 2:</b></p>\n",
    "\n",
    "<pre>[[0,0,0,0,0,0,0,0]]</pre>\n",
    "Given the above grid, return <code>0</code>.\n",
    "\n",
    "<p><b>Note:</b> The length of each dimension in the given <code>grid</code> does not exceed 50.</p>\n",
    "</div>"
   ]
  },
  {
   "cell_type": "markdown",
   "metadata": {},
   "source": [
    "## Option 1\n",
    "<p>\n",
    "Time complexity = O(n)\n",
    "<br>\n",
    "Space complexity = O(1)"
   ]
  },
  {
   "cell_type": "code",
   "execution_count": 46,
   "metadata": {
    "scrolled": true
   },
   "outputs": [
    {
     "data": {
      "text/plain": [
       "6"
      ]
     },
     "execution_count": 46,
     "metadata": {},
     "output_type": "execute_result"
    }
   ],
   "source": [
    "import collections\n",
    "class Solution:\n",
    "    def maxAreaOfIsland(self, grid: [[int]]) -> int:\n",
    "        queue = collections.deque()\n",
    "        max_area = 0\n",
    "        def bfs(i,j):\n",
    "            area = 0\n",
    "            grid[i][j] = \"#\"\n",
    "            queue.append((i,j))\n",
    "            while queue:\n",
    "                area += 1\n",
    "                i,j = queue.popleft()\n",
    "                for ni,nj in ((i+1,j),(i,j+1),(i-1,j),(i,j-1)):\n",
    "                    if ni >= 0 and nj >= 0 and ni < len(grid) and nj < len(grid[0]) and grid[ni][nj] == 1:\n",
    "                        grid[ni][nj] = \"#\"\n",
    "                        queue.append((ni,nj))\n",
    "            return area\n",
    "        \n",
    "        for i in range(len(grid)):\n",
    "            for j in range(len(grid[0])):\n",
    "                if grid[i][j] == 1:\n",
    "                    max_area = max(max_area, bfs(i,j))\n",
    "        \n",
    "        return max_area\n",
    "        \n",
    "        \n",
    "Solution().maxAreaOfIsland([[0,0,1,0,0,0,0,1,0,0,0,0,0],\n",
    " [0,0,0,0,0,0,0,1,1,1,0,0,0],\n",
    " [0,1,1,0,1,0,0,0,0,0,0,0,0],\n",
    " [0,1,0,0,1,1,0,0,1,0,1,0,0],\n",
    " [0,1,0,0,1,1,0,0,1,1,1,0,0],\n",
    " [0,0,0,0,0,0,0,0,0,0,1,0,0],\n",
    " [0,0,0,0,0,0,0,1,1,1,0,0,0],\n",
    " [0,0,0,0,0,0,0,1,1,0,0,0,0]])"
   ]
  },
  {
   "cell_type": "markdown",
   "metadata": {},
   "source": [
    "#### Result:  156ms (59.88%)"
   ]
  }
 ],
 "metadata": {
  "kernelspec": {
   "display_name": "Python 3",
   "language": "python",
   "name": "python3"
  },
  "language_info": {
   "codemirror_mode": {
    "name": "ipython",
    "version": 3
   },
   "file_extension": ".py",
   "mimetype": "text/x-python",
   "name": "python",
   "nbconvert_exporter": "python",
   "pygments_lexer": "ipython3",
   "version": "3.7.4"
  }
 },
 "nbformat": 4,
 "nbformat_minor": 2
}
