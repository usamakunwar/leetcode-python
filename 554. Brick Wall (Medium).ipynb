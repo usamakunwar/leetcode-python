{
 "cells": [
  {
   "cell_type": "markdown",
   "metadata": {},
   "source": [
    "# 554. Brick Wall (Medium)"
   ]
  },
  {
   "cell_type": "markdown",
   "metadata": {},
   "source": [
    "<div><p>There is a brick wall in front of you. The wall is rectangular and has several rows of bricks. The bricks have the same height but different width. You want to draw a vertical line from the <b>top</b> to the <b>bottom</b> and cross the <b>least</b> bricks.</p>\n",
    "\n",
    "<p>The brick wall is represented by a list of rows. Each row is a list of integers representing the width of each brick in this row from left to right.</p>\n",
    "\n",
    "<p>If your line go through the edge of a brick, then the brick is not considered as crossed. You need to find out how to draw the line to cross the least bricks and return the number of crossed bricks.</p>\n",
    "\n",
    "<p><b>You cannot draw a line just along one of the two vertical edges of the wall, in which case the line will obviously cross no bricks. </b></p>\n",
    "\n",
    "<p>&nbsp;</p>\n",
    "\n",
    "<p><b>Example:</b></p>\n",
    "\n",
    "<pre><b>Input:</b> [[1,2,2,1],\n",
    "        [3,1,2],\n",
    "        [1,3,2],\n",
    "        [2,4],\n",
    "        [3,1,2],\n",
    "        [1,3,1,1]]\n",
    "\n",
    "<b>Output:</b> 2\n",
    "\n",
    "<b>Explanation:</b> \n",
    "<img src=\"https://assets.leetcode.com/uploads/2018/10/12/brick_wall.png\" style=\"width: 100%; max-width: 350px\">\n",
    "</pre>\n",
    "\n",
    "<p>&nbsp;</p>\n",
    "\n",
    "<p><b>Note:</b></p>\n",
    "\n",
    "<ol>\n",
    "\t<li>The width sum of bricks in different rows are the same and won't exceed INT_MAX.</li>\n",
    "\t<li>The number of bricks in each row is in range [1,10,000]. The height of wall is in range [1,10,000]. Total number of bricks of the wall won't exceed 20,000.</li>\n",
    "</ol>\n",
    "</div>"
   ]
  },
  {
   "cell_type": "markdown",
   "metadata": {},
   "source": [
    "## Option 1\n",
    "<p>\n",
    "Time complexity = O(n)\n",
    "<br>\n",
    "Space complexity = O(w) width of the wall"
   ]
  },
  {
   "cell_type": "code",
   "execution_count": null,
   "metadata": {},
   "outputs": [],
   "source": [
    "import collections\n",
    "class Solution(object):\n",
    "    def leastBricks(self, wall):\n",
    "        splits = collections.Counter()\n",
    "        for i,w in enumerate(wall):\n",
    "            ln = len(w)\n",
    "            for j in range(ln-1):\n",
    "                wall[i][j] = wall[i][j] + (wall[i][j-1] if j > 0 else 0)\n",
    "                splits[wall[i][j]] += 1\n",
    "        return len(wall) - max(splits.values() or [0])\n",
    "\n",
    "Solution().leastBricks([[1,2,2,1],[3,1,2],[1,3,2],[2,4],[3,1,2],[1,3,1,1]])"
   ]
  },
  {
   "cell_type": "markdown",
   "metadata": {},
   "source": [
    "#### Result: 180ms (28.51%)"
   ]
  }
 ],
 "metadata": {
  "kernelspec": {
   "display_name": "Python 2",
   "language": "python",
   "name": "python2"
  },
  "language_info": {
   "codemirror_mode": {
    "name": "ipython",
    "version": 2
   },
   "file_extension": ".py",
   "mimetype": "text/x-python",
   "name": "python",
   "nbconvert_exporter": "python",
   "pygments_lexer": "ipython2",
   "version": "2.7.16"
  }
 },
 "nbformat": 4,
 "nbformat_minor": 2
}
