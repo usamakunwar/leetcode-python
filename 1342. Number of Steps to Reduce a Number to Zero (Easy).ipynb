{
 "cells": [
  {
   "cell_type": "markdown",
   "metadata": {},
   "source": [
    "# 1342. Number of Steps to Reduce a Number to Zero (Easy)"
   ]
  },
  {
   "cell_type": "markdown",
   "metadata": {},
   "source": [
    "<div><p>Given a non-negative integer <code>num</code>, return the number of steps to reduce it to zero. If the current number is even, you have to divide it by 2, otherwise, you have to subtract 1 from it.</p>\n",
    "\n",
    "<p>&nbsp;</p>\n",
    "<p><strong>Example 1:</strong></p>\n",
    "\n",
    "<pre><strong>Input:</strong> num = 14\n",
    "<strong>Output:</strong> 6\n",
    "<strong>Explanation:</strong>&nbsp;\n",
    "Step 1) 14 is even; divide by 2 and obtain 7.&nbsp;\n",
    "Step 2) 7 is odd; subtract 1 and obtain 6.\n",
    "Step 3) 6 is even; divide by 2 and obtain 3.&nbsp;\n",
    "Step 4) 3 is odd; subtract 1 and obtain 2.&nbsp;\n",
    "Step 5) 2 is even; divide by 2 and obtain 1.&nbsp;\n",
    "Step 6) 1 is odd; subtract 1 and obtain 0.\n",
    "</pre>\n",
    "\n",
    "<p><strong>Example 2:</strong></p>\n",
    "\n",
    "<pre><strong>Input:</strong> num = 8\n",
    "<strong>Output:</strong> 4\n",
    "<strong>Explanation:</strong>&nbsp;\n",
    "Step 1) 8 is even; divide by 2 and obtain 4.&nbsp;\n",
    "Step 2) 4 is even; divide by 2 and obtain 2.&nbsp;\n",
    "Step 3) 2 is even; divide by 2 and obtain 1.&nbsp;\n",
    "Step 4) 1 is odd; subtract 1 and obtain 0.\n",
    "</pre>\n",
    "\n",
    "<p><strong>Example 3:</strong></p>\n",
    "\n",
    "<pre><strong>Input:</strong> num = 123\n",
    "<strong>Output:</strong> 12\n",
    "</pre>\n",
    "\n",
    "<p>&nbsp;</p>\n",
    "<p><strong>Constraints:</strong></p>\n",
    "\n",
    "<ul>\n",
    "\t<li><code>0 &lt;= num &lt;= 10^6</code></li>\n",
    "</ul>\n",
    "</div>"
   ]
  },
  {
   "cell_type": "markdown",
   "metadata": {},
   "source": [
    "## Option 1\n",
    "<p>"
   ]
  },
  {
   "cell_type": "code",
   "execution_count": null,
   "metadata": {
    "scrolled": true
   },
   "outputs": [],
   "source": [
    "class Solution(object):\n",
    "    def numberOfSteps(self, num):\n",
    "        res = 0\n",
    "        while num > 0:\n",
    "            if num%2:\n",
    "                num -= 1\n",
    "            else:\n",
    "                num /= 2\n",
    "            res += 1\n",
    "        return res"
   ]
  },
  {
   "cell_type": "markdown",
   "metadata": {},
   "source": [
    "#### Result: 20ms (36.10%)"
   ]
  }
 ],
 "metadata": {
  "kernelspec": {
   "display_name": "Python 2",
   "language": "python",
   "name": "python2"
  },
  "language_info": {
   "codemirror_mode": {
    "name": "ipython",
    "version": 2
   },
   "file_extension": ".py",
   "mimetype": "text/x-python",
   "name": "python",
   "nbconvert_exporter": "python",
   "pygments_lexer": "ipython2",
   "version": "2.7.16"
  }
 },
 "nbformat": 4,
 "nbformat_minor": 2
}
