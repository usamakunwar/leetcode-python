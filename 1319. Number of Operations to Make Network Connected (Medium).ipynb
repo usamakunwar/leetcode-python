{
 "cells": [
  {
   "cell_type": "markdown",
   "metadata": {},
   "source": [
    "# 1319. Number of Operations to Make Network Connected (Medium)"
   ]
  },
  {
   "cell_type": "markdown",
   "metadata": {},
   "source": [
    "<div><p>There are&nbsp;<code>n</code>&nbsp;computers numbered from&nbsp;<code>0</code>&nbsp;to&nbsp;<code>n-1</code>&nbsp;connected by&nbsp;ethernet cables&nbsp;<code>connections</code>&nbsp;forming a network where&nbsp;<code>connections[i] = [a, b]</code>&nbsp;represents a connection between computers&nbsp;<code>a</code>&nbsp;and&nbsp;<code>b</code>. Any computer&nbsp;can reach any other computer directly or indirectly through the network.</p>\n",
    "\n",
    "<p>Given an initial computer network <code>connections</code>. You can extract certain cables between two directly connected computers, and place them between any pair of disconnected computers to make them directly connected. Return the <em>minimum number of times</em> you need to do this in order to make all the computers connected. If it's not possible, return -1.&nbsp;</p>\n",
    "\n",
    "<p>&nbsp;</p>\n",
    "<p><strong>Example 1:</strong></p>\n",
    "\n",
    "<p><strong><img alt=\"\" src=\"https://assets.leetcode.com/uploads/2020/01/02/sample_1_1677.png\" style=\"width: 570px; height: 167px;\"></strong></p>\n",
    "\n",
    "<pre><strong>Input:</strong> n = 4, connections = [[0,1],[0,2],[1,2]]\n",
    "<strong>Output:</strong> 1\n",
    "<strong>Explanation:</strong> Remove cable between computer 1 and 2 and place between computers 1 and 3.\n",
    "</pre>\n",
    "\n",
    "<p><strong>Example 2:</strong></p>\n",
    "\n",
    "<p><strong><img alt=\"\" src=\"https://assets.leetcode.com/uploads/2020/01/02/sample_2_1677.png\" style=\"width: 660px; height: 167px;\"></strong></p>\n",
    "\n",
    "<pre><strong>Input:</strong> n = 6, connections = [[0,1],[0,2],[0,3],[1,2],[1,3]]\n",
    "<strong>Output:</strong> 2\n",
    "</pre>\n",
    "\n",
    "<p><strong>Example 3:</strong></p>\n",
    "\n",
    "<pre><strong>Input:</strong> n = 6, connections = [[0,1],[0,2],[0,3],[1,2]]\n",
    "<strong>Output:</strong> -1\n",
    "<strong>Explanation:</strong> There are not enough cables.\n",
    "</pre>\n",
    "\n",
    "<p><strong>Example 4:</strong></p>\n",
    "\n",
    "<pre><strong>Input:</strong> n = 5, connections = [[0,1],[0,2],[3,4],[2,3]]\n",
    "<strong>Output:</strong> 0\n",
    "</pre>\n",
    "\n",
    "<p>&nbsp;</p>\n",
    "<p><strong>Constraints:</strong></p>\n",
    "\n",
    "<ul>\n",
    "\t<li><code>1 &lt;= n &lt;= 10^5</code></li>\n",
    "\t<li><code>1 &lt;= connections.length &lt;= min(n*(n-1)/2, 10^5)</code></li>\n",
    "\t<li><code>connections[i].length == 2</code></li>\n",
    "\t<li><code>0 &lt;= connections[i][0], connections[i][1]&nbsp;&lt; n</code></li>\n",
    "\t<li><code>connections[i][0] != connections[i][1]</code></li>\n",
    "\t<li>There are no repeated connections.</li>\n",
    "\t<li>No two computers are connected by more than one cable.</li>\n",
    "</ul></div>"
   ]
  },
  {
   "cell_type": "markdown",
   "metadata": {},
   "source": [
    "## Option 1\n",
    "<p>\n",
    "<p>DFS\n",
    "        <p>\n",
    "Time complexity: O(n)\n",
    "    <br>\n",
    "Space complexity: O(n)"
   ]
  },
  {
   "cell_type": "code",
   "execution_count": null,
   "metadata": {
    "scrolled": true
   },
   "outputs": [],
   "source": [
    "import collections\n",
    "class Solution(object):\n",
    "    def makeConnected(self, n, connections):\n",
    "        #If there are enough connections to cover the entire network, that means we must have an answer\n",
    "        #The result is the number of networks-1\n",
    "        if len(connections) < n-1 : return -1\n",
    "        \n",
    "        c_map = collections.defaultdict(list)\n",
    "        for a,b in connections:\n",
    "            c_map[a].append(b)\n",
    "            c_map[b].append(a)\n",
    "               \n",
    "        self.seen = set()\n",
    "        \n",
    "        def search(i):\n",
    "            self.seen.add(i)\n",
    "            for j in c_map[i]:\n",
    "                if j in self.seen: continue\n",
    "                search(j)\n",
    "        \n",
    "        networks = 0\n",
    "        for a,b in connections:\n",
    "            if a not in self.seen and b not in self.seen:\n",
    "                search(a)\n",
    "                networks += 1\n",
    "        \n",
    "        total_networks = networks + n-len(self.seen)\n",
    "        return total_networks-1\n",
    "\n",
    "Solution().makeConnected(6,[[0,1],[0,2],[0,3],[1,2],[1,3]])"
   ]
  },
  {
   "cell_type": "markdown",
   "metadata": {},
   "source": [
    "#### Result: 480ms (80.61%)"
   ]
  }
 ],
 "metadata": {
  "kernelspec": {
   "display_name": "Python 2",
   "language": "python",
   "name": "python2"
  },
  "language_info": {
   "codemirror_mode": {
    "name": "ipython",
    "version": 2
   },
   "file_extension": ".py",
   "mimetype": "text/x-python",
   "name": "python",
   "nbconvert_exporter": "python",
   "pygments_lexer": "ipython2",
   "version": "2.7.16"
  }
 },
 "nbformat": 4,
 "nbformat_minor": 2
}
