{
 "cells": [
  {
   "cell_type": "markdown",
   "metadata": {},
   "source": [
    "# 1133. Largest Unique Number (Easy)"
   ]
  },
  {
   "cell_type": "markdown",
   "metadata": {},
   "source": [
    "<div><p>Given an array of integers <code>A</code>, return the largest integer that only occurs once.</p>\n",
    "\n",
    "<p>If no integer occurs once, return -1.</p>\n",
    "\n",
    "<p>&nbsp;</p>\n",
    "\n",
    "<p><strong>Example 1:</strong></p>\n",
    "\n",
    "<pre><strong>Input: </strong><span id=\"example-input-1-1\">[5,7,3,9,4,9,8,3,1]</span>\n",
    "<strong>Output: </strong><span id=\"example-output-1\">8</span>\n",
    "<strong>Explanation: </strong>\n",
    "The maximum integer in the array is 9 but it is repeated. The number 8 occurs only once, so it's the answer.\n",
    "</pre>\n",
    "\n",
    "<p><strong>Example 2:</strong></p>\n",
    "\n",
    "<pre><strong>Input: </strong><span id=\"example-input-1-1\">[9,9,8,8]</span>\n",
    "<strong>Output: </strong><span id=\"example-output-1\">-1</span>\n",
    "<strong>Explanation: </strong>\n",
    "There is no number that occurs only once.\n",
    "</pre>\n",
    "\n",
    "<p>&nbsp;</p>\n",
    "\n",
    "<p><strong>Note:</strong></p>\n",
    "\n",
    "<ol>\n",
    "\t<li><code>1 &lt;= A.length &lt;= 2000</code></li>\n",
    "\t<li><code>0 &lt;= A[i] &lt;= 1000</code></li>\n",
    "</ol>\n",
    "</div>"
   ]
  },
  {
   "cell_type": "markdown",
   "metadata": {},
   "source": [
    "## Option 1\n",
    "<p>\n",
    "Time complexity = O(n)\n",
    "<br>\n",
    "Space complexity = O(n)"
   ]
  },
  {
   "cell_type": "code",
   "execution_count": 4,
   "metadata": {},
   "outputs": [
    {
     "data": {
      "text/plain": [
       "8"
      ]
     },
     "execution_count": 4,
     "metadata": {},
     "output_type": "execute_result"
    }
   ],
   "source": [
    "import collections\n",
    "class Solution:\n",
    "    def largestUniqueNumber(self, A: [int]) -> int:\n",
    "        d = collections.Counter(A)\n",
    "        max_n = -1\n",
    "        for i in d:\n",
    "            if d[i] == 1:\n",
    "                max_n = max(max_n,i)\n",
    "        return max_n\n",
    "        \n",
    "        \n",
    "Solution().largestUniqueNumber([5,7,3,9,4,9,8,3,7])"
   ]
  },
  {
   "cell_type": "markdown",
   "metadata": {},
   "source": [
    "#### Result:  44ms (82.62%)"
   ]
  }
 ],
 "metadata": {
  "kernelspec": {
   "display_name": "Python 3",
   "language": "python",
   "name": "python3"
  },
  "language_info": {
   "codemirror_mode": {
    "name": "ipython",
    "version": 3
   },
   "file_extension": ".py",
   "mimetype": "text/x-python",
   "name": "python",
   "nbconvert_exporter": "python",
   "pygments_lexer": "ipython3",
   "version": "3.7.4"
  }
 },
 "nbformat": 4,
 "nbformat_minor": 2
}
