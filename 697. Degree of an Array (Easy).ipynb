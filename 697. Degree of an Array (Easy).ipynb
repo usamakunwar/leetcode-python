{
 "cells": [
  {
   "cell_type": "markdown",
   "metadata": {},
   "source": [
    "# 697. Degree of an Array (Easy)"
   ]
  },
  {
   "cell_type": "markdown",
   "metadata": {},
   "source": [
    "<div><p>Given a non-empty array of non-negative integers <code>nums</code>, the <b>degree</b> of this array is defined as the maximum frequency of any one of its elements.</p>\n",
    "<p>Your task is to find the smallest possible length of a (contiguous) subarray of <code>nums</code>, that has the same degree as <code>nums</code>.</p>\n",
    "\n",
    "<p><b>Example 1:</b><br>\n",
    "</p><pre><b>Input:</b> [1, 2, 2, 3, 1]\n",
    "<b>Output:</b> 2\n",
    "<b>Explanation:</b> \n",
    "The input array has a degree of 2 because both elements 1 and 2 appear twice.\n",
    "Of the subarrays that have the same degree:\n",
    "[1, 2, 2, 3, 1], [1, 2, 2, 3], [2, 2, 3, 1], [1, 2, 2], [2, 2, 3], [2, 2]\n",
    "The shortest length is 2. So return 2.\n",
    "</pre>\n",
    "<p></p>\n",
    "\n",
    "\n",
    "<p><b>Example 2:</b><br>\n",
    "</p><pre><b>Input:</b> [1,2,2,3,1,4,2]\n",
    "<b>Output:</b> 6\n",
    "</pre>\n",
    "<p></p>\n",
    "\n",
    "<p><b>Note:</b>\n",
    "</p><li><code>nums.length</code> will be between 1 and 50,000.</li>\n",
    "<li><code>nums[i]</code> will be an integer between 0 and 49,999.</li>\n",
    "<p></p></div>"
   ]
  },
  {
   "cell_type": "markdown",
   "metadata": {},
   "source": [
    "## Option 1\n",
    "\n",
    "  <p>\n",
    "Time complexity: O(n)\n",
    "<br>\n",
    "Space complexity: O(n)"
   ]
  },
  {
   "cell_type": "code",
   "execution_count": null,
   "metadata": {
    "scrolled": false
   },
   "outputs": [],
   "source": [
    "import collections\n",
    "class Solution(object):\n",
    "    def findShortestSubArray(self, nums):\n",
    "        c = collections.defaultdict(list)\n",
    "        #Map all indexes in nums\n",
    "        for i,v in enumerate(nums): c[v].append(i)\n",
    "        #Find the max_count (degree)\n",
    "        max_count = max(len(i) for i in c.values())\n",
    "        #For items that have the same count as max_count, calculate window dize \n",
    "        res = len(nums)\n",
    "        for i in c.values():\n",
    "            if len(i) == max_count:\n",
    "                res = min(res, i[-1]-i[0]+1)\n",
    "        return res\n",
    "        \n",
    "\n",
    "Solution().findShortestSubArray([1])"
   ]
  },
  {
   "cell_type": "markdown",
   "metadata": {},
   "source": [
    "#### Result: 208ms (92.54%)"
   ]
  },
  {
   "cell_type": "markdown",
   "metadata": {},
   "source": [
    "## Option 1\n",
    "<p>One pass\n",
    "   <li>The trick is to only use min() on res when the len == max_count (where len represents the curr count)\n",
    "   <li>If len > max_count, then replace the res as we have a higher count item\n",
    "  <p>\n",
    "  <p>\n",
    "Time complexity: O(n)\n",
    "<br>\n",
    "Space complexity: O(n)"
   ]
  },
  {
   "cell_type": "code",
   "execution_count": null,
   "metadata": {},
   "outputs": [],
   "source": [
    "import collections\n",
    "class Solution(object):\n",
    "    def findShortestSubArray(self, nums):\n",
    "        c = collections.defaultdict(list)\n",
    "        res = len(nums)\n",
    "        max_count = 0\n",
    "        for i,v in enumerate(nums):\n",
    "            c[v].append(i)\n",
    "            if len(c[v]) > max_count:\n",
    "                res = c[v][-1]-c[v][0]+1\n",
    "                max_count = len(c[v])\n",
    "            elif len(c[v]) == max_count:\n",
    "                res = min(res, c[v][-1]-c[v][0]+1)\n",
    "        return res\n",
    "        \n",
    "\n",
    "Solution().findShortestSubArray([2,2,5,3,1,4,1])"
   ]
  },
  {
   "cell_type": "markdown",
   "metadata": {},
   "source": [
    "#### Result: 220ms (67.13%)"
   ]
  }
 ],
 "metadata": {
  "kernelspec": {
   "display_name": "Python 2",
   "language": "python",
   "name": "python2"
  },
  "language_info": {
   "codemirror_mode": {
    "name": "ipython",
    "version": 2
   },
   "file_extension": ".py",
   "mimetype": "text/x-python",
   "name": "python",
   "nbconvert_exporter": "python",
   "pygments_lexer": "ipython2",
   "version": "2.7.16"
  }
 },
 "nbformat": 4,
 "nbformat_minor": 2
}
