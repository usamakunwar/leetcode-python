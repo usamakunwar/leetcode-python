{
 "cells": [
  {
   "cell_type": "markdown",
   "metadata": {},
   "source": [
    "# 112. Path Sum (Easy)"
   ]
  },
  {
   "cell_type": "markdown",
   "metadata": {},
   "source": [
    "<div><p>Given a binary tree and a sum, find all root-to-leaf paths where each path's sum equals the given sum.</p>\n",
    "\n",
    "<p><strong>Note:</strong>&nbsp;A leaf is a node with no children.</p>\n",
    "\n",
    "<p><strong>Example:</strong></p>\n",
    "\n",
    "<p>Given the below binary tree and <code>sum = 22</code>,</p>\n",
    "\n",
    "<pre>      <strong>5</strong>\n",
    "     <strong>/ \\</strong>\n",
    "    <strong>4   8</strong>\n",
    "   <strong>/</strong>   / <strong>\\</strong>\n",
    "  <strong>11</strong>  13  <strong>4</strong>\n",
    " /  <strong>\\</strong>    <strong>/</strong> \\\n",
    "7    <strong>2</strong>  <strong>5</strong>   1\n",
    "</pre>\n",
    "\n",
    "<p>Return:</p>\n",
    "\n",
    "<pre>[\n",
    "   [5,4,11,2],\n",
    "   [5,8,4,5]\n",
    "]\n",
    "</pre>\n",
    "</div>"
   ]
  },
  {
   "cell_type": "markdown",
   "metadata": {},
   "source": [
    "## Option 1\n",
    "\n",
    "DFS using a stack\n",
    "<p>\n",
    "Time complexity = O(n)\n",
    "<br>\n",
    "Space complexity = O(n)"
   ]
  },
  {
   "cell_type": "code",
   "execution_count": null,
   "metadata": {
    "scrolled": false
   },
   "outputs": [],
   "source": [
    "# Definition for a binary tree node.\n",
    "# class TreeNode:\n",
    "#     def __init__(self, x):\n",
    "#         self.val = x\n",
    "#         self.left = None\n",
    "#         self.right = None\n",
    "\n",
    "class Solution:\n",
    "    def pathSum(self, root: TreeNode, sum: int) -> List[List[int]]:\n",
    "        res = []\n",
    "        stack = []\n",
    "        stack.append((root,sum,[]))\n",
    "        \n",
    "        while stack:\n",
    "            node, num, array = stack.pop()\n",
    "            if not node:\n",
    "                continue\n",
    "            num -= node.val\n",
    "\n",
    "            if not node.left and not node.right:\n",
    "                if num == 0:\n",
    "                    res.append(array+[node.val])\n",
    "                continue\n",
    "                \n",
    "            stack.append((node.left,num,array+[node.val]))\n",
    "            stack.append((node.right,num,array+[node.val]))\n",
    "        \n",
    "        return res\n",
    "        \n",
    "        "
   ]
  },
  {
   "cell_type": "markdown",
   "metadata": {},
   "source": [
    "#### Result:  48ms (66.02%)"
   ]
  }
 ],
 "metadata": {
  "kernelspec": {
   "display_name": "Python 3",
   "language": "python",
   "name": "python3"
  },
  "language_info": {
   "codemirror_mode": {
    "name": "ipython",
    "version": 3
   },
   "file_extension": ".py",
   "mimetype": "text/x-python",
   "name": "python",
   "nbconvert_exporter": "python",
   "pygments_lexer": "ipython3",
   "version": "3.7.4"
  }
 },
 "nbformat": 4,
 "nbformat_minor": 2
}
