{
 "cells": [
  {
   "cell_type": "markdown",
   "metadata": {},
   "source": [
    "# 556. Next Greater Element III (Easy)"
   ]
  },
  {
   "cell_type": "markdown",
   "metadata": {},
   "source": [
    "<div><p>Given a positive <strong>32-bit</strong> integer <strong>n</strong>, you need to find the smallest <strong>32-bit</strong> integer which has exactly the same digits existing in the integer <strong>n</strong> and is greater in value than n. If no such positive <strong>32-bit</strong> integer exists, you need to return -1.</p>\n",
    "\n",
    "<p><strong>Example 1:</strong></p>\n",
    "\n",
    "<pre><strong>Input:</strong> 12\n",
    "<strong>Output:</strong> 21\n",
    "</pre>\n",
    "\n",
    "<p>&nbsp;</p>\n",
    "\n",
    "<p><strong>Example 2:</strong></p>\n",
    "\n",
    "<pre><strong>Input:</strong> 21\n",
    "<strong>Output:</strong> -1\n",
    "</pre>\n",
    "\n",
    "<p>&nbsp;</p>\n",
    "</div>"
   ]
  },
  {
   "cell_type": "markdown",
   "metadata": {},
   "source": [
    "## Option 1\n",
    "\n",
    "<p>\n",
    "    Same as 31\n",
    "    <p>\n",
    "Time complexity: O(n)\n",
    "<br>\n",
    "Space complexity: O(n) "
   ]
  },
  {
   "cell_type": "code",
   "execution_count": null,
   "metadata": {},
   "outputs": [],
   "source": [
    "class Solution(object):\n",
    "    def nextGreaterElement(self, n):\n",
    "        arr = []\n",
    "        while n > 0:\n",
    "            arr.append(n%10)\n",
    "            n /= 10\n",
    "        \n",
    "        arr = arr[::-1]\n",
    "        \n",
    "        i = len(arr)-2\n",
    "        while i >= 0 and arr[i] >= arr[i+1]: i -= 1\n",
    "\n",
    "        #Next greater element\n",
    "        if i >= 0:\n",
    "            j = len(arr)-1\n",
    "            while j > i and arr[j] <= arr[i]: j -= 1\n",
    "            #Swap elements\n",
    "            arr[i],arr[j] = arr[j],arr[i]\n",
    "        else:\n",
    "            return -1\n",
    "\n",
    "        #Reverse remaining (after i)\n",
    "        i,j = i+1,len(arr)-1\n",
    "        while i < j:\n",
    "            arr[i],arr[j] = arr[j],arr[i]\n",
    "            i += 1\n",
    "            j -= 1\n",
    "\n",
    "        res = 0\n",
    "        for a in arr: res = res*10 + a\n",
    "        \n",
    "        return res if res < (2**31) else -1        \n",
    "        \n",
    "        \n",
    "Solution().nextGreaterElement(1999999999)"
   ]
  },
  {
   "cell_type": "markdown",
   "metadata": {},
   "source": [
    "#### Result: 20ms (36.93%)\n"
   ]
  }
 ],
 "metadata": {
  "kernelspec": {
   "display_name": "Python 2",
   "language": "python",
   "name": "python2"
  },
  "language_info": {
   "codemirror_mode": {
    "name": "ipython",
    "version": 2
   },
   "file_extension": ".py",
   "mimetype": "text/x-python",
   "name": "python",
   "nbconvert_exporter": "python",
   "pygments_lexer": "ipython2",
   "version": "2.7.16"
  }
 },
 "nbformat": 4,
 "nbformat_minor": 2
}
