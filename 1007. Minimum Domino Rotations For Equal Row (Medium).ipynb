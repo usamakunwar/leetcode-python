{
 "cells": [
  {
   "cell_type": "markdown",
   "metadata": {},
   "source": [
    "# 1007. Minimum Domino Rotations For Equal Row (Medium)\n"
   ]
  },
  {
   "cell_type": "markdown",
   "metadata": {},
   "source": [
    "<div class=\"content__u3I1 question-content__JfgR\"><div><p>In a row of dominoes, <code>A[i]</code> and <code>B[i]</code> represent the top and bottom halves of the <code>i</code>-th domino.&nbsp; (A domino is a tile with two numbers from 1 to 6 - one on each half of the tile.)</p>\n",
    "\n",
    "<p>We may rotate the <code>i</code>-th domino, so that <code>A[i]</code> and <code>B[i]</code> swap values.</p>\n",
    "\n",
    "<p>Return the minimum number of rotations so that all the values in <code>A</code> are the same, or all the values in <code>B</code>&nbsp;are the same.</p>\n",
    "\n",
    "<p>If it cannot be done, return <code>-1</code>.</p>\n",
    "\n",
    "<p>&nbsp;</p>\n",
    "\n",
    "<p><strong>Example 1:</strong></p>\n",
    "\n",
    "<p><img alt=\"\" src=\"1007.png\" style=\"height: 161px; width: 200px;\"></p>\n",
    "\n",
    "<pre><strong>Input: </strong>A = <span id=\"example-input-1-1\">[2,1,2,4,2,2]</span>, B = <span id=\"example-input-1-2\">[5,2,6,2,3,2]</span>\n",
    "<strong>Output: </strong><span id=\"example-output-1\">2</span>\n",
    "<strong>Explanation: </strong>\n",
    "The first figure represents the dominoes as given by A and B: before we do any rotations.\n",
    "If we rotate the second and fourth dominoes, we can make every value in the top row equal to 2, as indicated by the second figure.\n",
    "</pre>\n",
    "\n",
    "<p><strong>Example 2:</strong></p>\n",
    "\n",
    "<pre><strong>Input: </strong>A = <span id=\"example-input-2-1\">[3,5,1,2,3]</span>, B = <span id=\"example-input-2-2\">[3,6,3,3,4]</span>\n",
    "<strong>Output: </strong><span id=\"example-output-2\">-1</span>\n",
    "<strong>Explanation: </strong>\n",
    "In this case, it is not possible to rotate the dominoes to make one row of values equal.\n",
    "</pre>\n",
    "\n",
    "<p>&nbsp;</p>\n",
    "\n",
    "<p><strong>Note:</strong></p>\n",
    "\n",
    "<ol>\n",
    "\t<li><code>1 &lt;= A[i], B[i] &lt;= 6</code></li>\n",
    "\t<li><code>2 &lt;= A.length == B.length &lt;= 20000</code></li>\n",
    "</ol>\n",
    "</div></div>"
   ]
  },
  {
   "cell_type": "code",
   "execution_count": 47,
   "metadata": {
    "scrolled": true
   },
   "outputs": [
    {
     "data": {
      "text/plain": [
       "2"
      ]
     },
     "execution_count": 47,
     "metadata": {},
     "output_type": "execute_result"
    }
   ],
   "source": [
    "class Solution:\n",
    "    def minDominoRotations(self, A: [int], B: [int]) -> int:        \n",
    "        def check(val):\n",
    "            r_A = 0\n",
    "            r_B = 0\n",
    "            for i in range(len(A)):\n",
    "                #If values are all the same, we do not need to rotate\n",
    "                if A[i] == B[i] and val == A[i]:\n",
    "                    continue\n",
    "                if val == A[i]:\n",
    "                    r_A += 1\n",
    "                elif val == B[i]:\n",
    "                    r_B += 1\n",
    "                else:\n",
    "                    #No same values, so a sequence cannot be made\n",
    "                    return -1\n",
    "            return min(r_A,r_B)\n",
    "\n",
    "        rotations = check(A[0])\n",
    "        if A[0] == B[0] or rotations != -1 : \n",
    "            return rotations\n",
    "\n",
    "        return check(B[0])\n",
    "        \n",
    "        \n",
    "Solution().minDominoRotations([1,2,1,1,1,2,2,2], [2,1,2,2,2,2,1,2])"
   ]
  },
  {
   "cell_type": "markdown",
   "metadata": {},
   "source": [
    "#### Result:  Accepted\n",
    "#### Runtime: 1196ms (94.83%)\n",
    "#### Memory: 13.5mb (100%)"
   ]
  }
 ],
 "metadata": {
  "kernelspec": {
   "display_name": "Python 3",
   "language": "python",
   "name": "python3"
  },
  "language_info": {
   "codemirror_mode": {
    "name": "ipython",
    "version": 3
   },
   "file_extension": ".py",
   "mimetype": "text/x-python",
   "name": "python",
   "nbconvert_exporter": "python",
   "pygments_lexer": "ipython3",
   "version": "3.7.4"
  }
 },
 "nbformat": 4,
 "nbformat_minor": 2
}
