{
 "cells": [
  {
   "cell_type": "markdown",
   "metadata": {},
   "source": [
    "# 461. Hamming Distance (Easy)\n"
   ]
  },
  {
   "cell_type": "markdown",
   "metadata": {},
   "source": [
    "<div><p>The <a href=\"https://en.wikipedia.org/wiki/Hamming_distance\" target=\"_blank\">Hamming distance</a> between two integers is the number of positions at which the corresponding bits are different.</p>\n",
    "\n",
    "<p>Given two integers <code>x</code> and <code>y</code>, calculate the Hamming distance.</p>\n",
    "\n",
    "<p><b>Note:</b><br>\n",
    "0 ≤ <code>x</code>, <code>y</code> &lt; 2<sup>31</sup>.\n",
    "</p>\n",
    "\n",
    "<p><b>Example:</b>\n",
    "</p><pre><b>Input:</b> x = 1, y = 4\n",
    "\n",
    "<b>Output:</b> 2\n",
    "\n",
    "<b>Explanation:</b>\n",
    "1   (0 0 0 1)\n",
    "4   (0 1 0 0)\n",
    "       ↑   ↑\n",
    "\n",
    "The above arrows point to positions where the corresponding bits are different.\n",
    "</pre>\n",
    "<p></p></div>"
   ]
  },
  {
   "cell_type": "markdown",
   "metadata": {},
   "source": [
    "## Option 1\n",
    "<p>             \n",
    "<p>\n",
    "    <p>\n",
    "Time complexity: O(1)\n",
    "    <br>\n",
    "Space complexity: O(1)\n"
   ]
  },
  {
   "cell_type": "code",
   "execution_count": null,
   "metadata": {},
   "outputs": [],
   "source": [
    "import math\n",
    "class Solution(object):\n",
    "    def hammingDistance(self, x, y):\n",
    "        curr, res = x^y , 0   #XOR ^ gets us a bit for every different bit\n",
    "        #Calculate the number of 1s in curr\n",
    "        while curr > 0:\n",
    "            curr -= 2**int(math.log(curr,2))\n",
    "            res += 1\n",
    "        return res\n",
    "        \n",
    "Solution().hammingDistance(57,63)\n"
   ]
  },
  {
   "cell_type": "markdown",
   "metadata": {},
   "source": [
    "#### Result: 12ms (94.53%)"
   ]
  },
  {
   "cell_type": "markdown",
   "metadata": {},
   "source": [
    "## Option 2\n",
    "<p>             \n",
    "<p>\n",
    "    <p>\n",
    "Time complexity: O(1)\n",
    "    <br>\n",
    "Space complexity: O(1)\n"
   ]
  },
  {
   "cell_type": "code",
   "execution_count": null,
   "metadata": {},
   "outputs": [],
   "source": [
    "class Solution(object):\n",
    "    def hammingDistance(self, x, y):\n",
    "        curr, res = x^y , 0   #XOR ^ gets us a bit for every different bit\n",
    "        while curr:\n",
    "            if curr & 1:  #Check if the last bit is 1\n",
    "                res += 1\n",
    "            curr = curr >> 1  #Shift bits right\n",
    "        return res\n",
    "        \n",
    "Solution().hammingDistance(57,63)\n"
   ]
  },
  {
   "cell_type": "markdown",
   "metadata": {},
   "source": [
    "#### Result: 16ms (79.23%)"
   ]
  }
 ],
 "metadata": {
  "kernelspec": {
   "display_name": "Python 2",
   "language": "python",
   "name": "python2"
  },
  "language_info": {
   "codemirror_mode": {
    "name": "ipython",
    "version": 2
   },
   "file_extension": ".py",
   "mimetype": "text/x-python",
   "name": "python",
   "nbconvert_exporter": "python",
   "pygments_lexer": "ipython2",
   "version": "2.7.16"
  }
 },
 "nbformat": 4,
 "nbformat_minor": 2
}
