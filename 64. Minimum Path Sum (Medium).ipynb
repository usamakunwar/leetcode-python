{
 "cells": [
  {
   "cell_type": "markdown",
   "metadata": {},
   "source": [
    "# 64. Minimum Path Sum (Medium)"
   ]
  },
  {
   "cell_type": "markdown",
   "metadata": {},
   "source": [
    "<div><p>Given a <em>m</em> x <em>n</em> grid filled with non-negative numbers, find a path from top left to bottom right which <em>minimizes</em> the sum of all numbers along its path.</p>\n",
    "\n",
    "<p><strong>Note:</strong> You can only move either down or right at any point in time.</p>\n",
    "\n",
    "<p><strong>Example:</strong></p>\n",
    "\n",
    "<pre><strong>Input:</strong>\n",
    "[\n",
    "&nbsp; [1,3,1],\n",
    "  [1,5,1],\n",
    "  [4,2,1]\n",
    "]\n",
    "<strong>Output:</strong> 7\n",
    "<strong>Explanation:</strong> Because the path 1→3→1→1→1 minimizes the sum.\n",
    "</pre>\n",
    "</div>"
   ]
  },
  {
   "cell_type": "markdown",
   "metadata": {},
   "source": [
    "## Option 1\n",
    "\n",
    "Search\n",
    "    <p>\n",
    "Time complexity: O(2^(m+n))\n",
    "<br>\n",
    "Space complexity: O(m+n)\n"
   ]
  },
  {
   "cell_type": "code",
   "execution_count": null,
   "metadata": {},
   "outputs": [],
   "source": [
    "class Solution(object):\n",
    "    def minPathSum(self, grid):\n",
    "        li,lj = len(grid)-1,len(grid[0])-1\n",
    "        def search(i,j, curr):\n",
    "            if i > li or  j > lj: return float('inf')\n",
    "            if i == li and j == lj: return curr+grid[i][j]\n",
    "            down,right = search(i+1,j,curr+grid[i][j]), search(i,j+1,curr+grid[i][j])            \n",
    "            return min(down,right)\n",
    "        return search(0,0,0)\n",
    "\n",
    "Solution().minPathSum([[1,3,1],[1,5,1],[4,2,1]])"
   ]
  },
  {
   "cell_type": "markdown",
   "metadata": {},
   "source": [
    "#### Time Exceeded Limit"
   ]
  },
  {
   "cell_type": "markdown",
   "metadata": {},
   "source": [
    "## Option 2\n",
    "\n",
    "Dynamic Programming\n",
    "    <p>\n",
    "Time complexity: O(mn)\n",
    "<br>\n",
    "Space complexity: O(1)\n"
   ]
  },
  {
   "cell_type": "code",
   "execution_count": null,
   "metadata": {},
   "outputs": [],
   "source": [
    "class Solution(object):\n",
    "    def minPathSum(self, grid):\n",
    "        li,lj = len(grid)-1,len(grid[0])-1\n",
    "        for i in range(li,-1,-1):\n",
    "            for j in range(lj,-1,-1):\n",
    "                if i == li and j == lj: continue\n",
    "                bottom = grid[i+1][j] if i < li else float('inf')\n",
    "                right = grid[i][j+1] if j < lj else float('inf')\n",
    "                grid[i][j] += min(bottom,right)\n",
    "        return grid[0][0]\n",
    "\n",
    "Solution().minPathSum([[1,3,1],\n",
    "                       [1,5,1],\n",
    "                       [4,2,1]])\n"
   ]
  },
  {
   "cell_type": "markdown",
   "metadata": {},
   "source": [
    "#### Result: 80ms (77.94%)"
   ]
  },
  {
   "cell_type": "markdown",
   "metadata": {},
   "source": [
    "## Option 3\n",
    "\n",
    "Same as above, without infinity\n",
    "<p>\n",
    "Time complexity: O(mn)\n",
    "<br>\n",
    "Space complexity: O(1)\n"
   ]
  },
  {
   "cell_type": "code",
   "execution_count": null,
   "metadata": {},
   "outputs": [],
   "source": [
    "class Solution(object):\n",
    "    def minPathSum(self, grid):\n",
    "        li,lj = len(grid)-1,len(grid[0])-1\n",
    "        for i in range(li,-1,-1):\n",
    "            for j in range(lj,-1,-1):\n",
    "                if j < lj and i >= li:\n",
    "                    grid[i][j] += grid[i][j+1]\n",
    "                elif i < li and j >= lj:\n",
    "                    grid[i][j] += grid[i+1][j]\n",
    "                elif i < li and j < lj:\n",
    "                    grid[i][j] += min(grid[i][j+1],grid[i+1][j])\n",
    "        return grid[0][0]\n",
    "\n",
    "Solution().minPathSum([[1,3,1],\n",
    "                       [1,5,1],\n",
    "                       [4,2,1]])\n"
   ]
  },
  {
   "cell_type": "markdown",
   "metadata": {},
   "source": [
    "#### Result: 80ms (77.94%)"
   ]
  }
 ],
 "metadata": {
  "kernelspec": {
   "display_name": "Python 2",
   "language": "python",
   "name": "python2"
  },
  "language_info": {
   "codemirror_mode": {
    "name": "ipython",
    "version": 2
   },
   "file_extension": ".py",
   "mimetype": "text/x-python",
   "name": "python",
   "nbconvert_exporter": "python",
   "pygments_lexer": "ipython2",
   "version": "2.7.16"
  }
 },
 "nbformat": 4,
 "nbformat_minor": 2
}
