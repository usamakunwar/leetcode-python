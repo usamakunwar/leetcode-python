{
 "cells": [
  {
   "cell_type": "markdown",
   "metadata": {},
   "source": [
    "# 1436. Destination City (Easy)"
   ]
  },
  {
   "cell_type": "markdown",
   "metadata": {},
   "source": [
    "<div><p>You are given the array <code>paths</code>, where <code>paths[i] = [cityA<sub>i</sub>, cityB<sub>i</sub>]</code> means there&nbsp;exists a direct path going from <code>cityA<sub>i</sub></code> to <code>cityB<sub>i</sub></code>. <em>Return the destination city, that is, the city without any path outgoing to another city.</em></p>\n",
    "\n",
    "<p>It is guaranteed that the graph of paths forms a line without any loop, therefore, there will be exactly one destination city.</p>\n",
    "\n",
    "<p>&nbsp;</p>\n",
    "<p><strong>Example 1:</strong></p>\n",
    "\n",
    "<pre><strong>Input:</strong> paths = [[\"London\",\"New York\"],[\"New York\",\"Lima\"],[\"Lima\",\"Sao Paulo\"]]\n",
    "<strong>Output:</strong> \"Sao Paulo\" \n",
    "<strong>Explanation:</strong> Starting at \"London\" city you will reach \"Sao Paulo\" city which is the destination city. Your trip consist of: \"London\" -&gt; \"New York\" -&gt; \"Lima\" -&gt; \"Sao Paulo\".\n",
    "</pre>\n",
    "\n",
    "<p><strong>Example 2:</strong></p>\n",
    "\n",
    "<pre><strong>Input:</strong> paths = [[\"B\",\"C\"],[\"D\",\"B\"],[\"C\",\"A\"]]\n",
    "<strong>Output:</strong> \"A\"\n",
    "<strong>Explanation:</strong> All possible trips are:&nbsp;\n",
    "\"D\" -&gt; \"B\" -&gt; \"C\" -&gt; \"A\".&nbsp;\n",
    "\"B\" -&gt; \"C\" -&gt; \"A\".&nbsp;\n",
    "\"C\" -&gt; \"A\".&nbsp;\n",
    "\"A\".&nbsp;\n",
    "Clearly the destination city is \"A\".\n",
    "</pre>\n",
    "\n",
    "<p><strong>Example 3:</strong></p>\n",
    "\n",
    "<pre><strong>Input:</strong> paths = [[\"A\",\"Z\"]]\n",
    "<strong>Output:</strong> \"Z\"\n",
    "</pre>\n",
    "\n",
    "<p>&nbsp;</p>\n",
    "<p><strong>Constraints:</strong></p>\n",
    "\n",
    "<ul>\n",
    "\t<li><code>1 &lt;= paths.length &lt;= 100</code></li>\n",
    "\t<li><code>paths[i].length == 2</code></li>\n",
    "\t<li><code>1 &lt;=&nbsp;cityA<sub>i</sub>.length,&nbsp;cityB<sub>i</sub>.length &lt;= 10</code></li>\n",
    "\t<li><code>cityA<sub>i&nbsp;</sub><font face=\"monospace\">!=&nbsp;</font>cityB<sub>i</sub></code></li>\n",
    "\t<li>All strings&nbsp;consist of lowercase and uppercase English letters and the space character.</li>\n",
    "</ul>\n",
    "</div>"
   ]
  },
  {
   "cell_type": "markdown",
   "metadata": {},
   "source": [
    "## Option 1\n",
    "\n",
    "<p>\n",
    "   <p>\n",
    "Time complexity: O(n)\n",
    "    <br>\n",
    "Space complexity: O(n)\n"
   ]
  },
  {
   "cell_type": "code",
   "execution_count": null,
   "metadata": {},
   "outputs": [],
   "source": [
    "class Solution(object):\n",
    "    def destCity(self, paths):\n",
    "        m = set()\n",
    "        for a,b in paths: m.add(a)\n",
    "        for a,b in paths:\n",
    "            if b not in m: return b\n",
    "         \n",
    "    \n",
    "Solution().destCity([[\"B\",\"C\"],[\"D\",\"B\"],[\"C\",\"A\"]])\n",
    "    "
   ]
  },
  {
   "cell_type": "markdown",
   "metadata": {},
   "source": [
    "#### Result: 68ms (16.25%)"
   ]
  }
 ],
 "metadata": {
  "kernelspec": {
   "display_name": "Python 2",
   "language": "python",
   "name": "python2"
  },
  "language_info": {
   "codemirror_mode": {
    "name": "ipython",
    "version": 2
   },
   "file_extension": ".py",
   "mimetype": "text/x-python",
   "name": "python",
   "nbconvert_exporter": "python",
   "pygments_lexer": "ipython2",
   "version": "2.7.16"
  }
 },
 "nbformat": 4,
 "nbformat_minor": 2
}
