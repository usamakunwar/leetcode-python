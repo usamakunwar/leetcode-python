{
 "cells": [
  {
   "cell_type": "markdown",
   "metadata": {},
   "source": [
    "# 250. Count Univalue Subtrees (Medium)\n"
   ]
  },
  {
   "cell_type": "markdown",
   "metadata": {},
   "source": [
    "<div><p>Given a binary tree, count the number of uni-value subtrees.</p>\n",
    "\n",
    "<p>A Uni-value subtree means all nodes of the subtree have the same value.</p>\n",
    "\n",
    "<p><b>Example :</b></p>\n",
    "\n",
    "<pre><b>Input:</b>  root = [5,1,5,5,5,null,5]\n",
    "\n",
    "              5\n",
    "             / \\\n",
    "            1   5\n",
    "           / \\   \\\n",
    "          5   5   5\n",
    "\n",
    "<b>Output:</b> 4\n",
    "</pre>\n",
    "</div>"
   ]
  },
  {
   "cell_type": "markdown",
   "metadata": {},
   "source": [
    "## Option 1\n",
    "<p>\n",
    "Recursive\n",
    "    <p>\n",
    "        <p>\n",
    "Time complexity: O(n)\n",
    "<br>\n",
    "Space complexity: O(n)"
   ]
  },
  {
   "cell_type": "code",
   "execution_count": null,
   "metadata": {
    "scrolled": true
   },
   "outputs": [],
   "source": [
    "# Definition for a binary tree node.\n",
    "# class TreeNode(object):\n",
    "#     def __init__(self, x):\n",
    "#         self.val = x\n",
    "#         self.left = None\n",
    "#         self.right = None\n",
    "\n",
    "class Solution(object):\n",
    "    def countUnivalSubtrees(self, root):\n",
    "        \"\"\"\n",
    "        :type root: TreeNode\n",
    "        :rtype: int\n",
    "        \"\"\"\n",
    "        if not root: return 0\n",
    "        def search(n):\n",
    "            left, l_uni = search(n.left) if n.left else (0,1)\n",
    "            right, r_uni = search(n.right) if n.right else (0,1)\n",
    "            uni = l_uni and r_uni and ((not n.left or (n.left and n.val == n.left.val)) \n",
    "                                       and (not n.right or (n.right and n.val == n.right.val)))\n",
    "            return (left + right + uni), uni\n",
    "        return search(root)[0]\n",
    "    "
   ]
  },
  {
   "cell_type": "markdown",
   "metadata": {},
   "source": [
    "#### Result: 20ms (83.21%)"
   ]
  }
 ],
 "metadata": {
  "kernelspec": {
   "display_name": "Python 2",
   "language": "python",
   "name": "python2"
  },
  "language_info": {
   "codemirror_mode": {
    "name": "ipython",
    "version": 2
   },
   "file_extension": ".py",
   "mimetype": "text/x-python",
   "name": "python",
   "nbconvert_exporter": "python",
   "pygments_lexer": "ipython2",
   "version": "2.7.16"
  }
 },
 "nbformat": 4,
 "nbformat_minor": 2
}
