{
 "cells": [
  {
   "attachments": {},
   "cell_type": "markdown",
   "metadata": {},
   "source": [
    "# 22. Generate Parentheses\n",
    "\n",
    "\n",
    "Given n pairs of parentheses, write a function to generate all combinations of well-formed parentheses.\n",
    "\n",
    "For example, given n = 3, a solution set is:\n",
    "\n",
    "[\n",
    "  \"((()))\",\n",
    "  \"(()())\",\n",
    "  \"(())()\",\n",
    "  \"()(())\",\n",
    "  \"()()()\"\n",
    "]"
   ]
  },
  {
   "cell_type": "markdown",
   "metadata": {},
   "source": [
    "# Option 1\n",
    "\n",
    "Depth first search, exit early if combination is not valid<br>\n",
    "Every n can have 2 different variants '(' and ')' so Time complexity is 2^n\n"
   ]
  },
  {
   "cell_type": "code",
   "execution_count": 76,
   "metadata": {
    "scrolled": false
   },
   "outputs": [
    {
     "data": {
      "text/plain": [
       "[]"
      ]
     },
     "execution_count": 76,
     "metadata": {},
     "output_type": "execute_result"
    }
   ],
   "source": [
    "class Solution:\n",
    "    \n",
    "    def generateParenthesis(self, n: int) -> [str]:\n",
    "        lenght = n * 2\n",
    "        brackets = ['(',')']\n",
    "        combinations = []\n",
    "        \n",
    "        def isValid(value):\n",
    "            opened = value.count(brackets[0])\n",
    "            closed = value.count(brackets[1])\n",
    "            \n",
    "            if closed > opened:\n",
    "                return False\n",
    "            if opened > n:\n",
    "                return False\n",
    "            if closed > n:\n",
    "                return False\n",
    "            return True\n",
    "            \n",
    "        \n",
    "        def search(index, value):\n",
    "            for i in brackets:\n",
    "                new_value = value + i\n",
    "                if isValid(new_value):\n",
    "                    if index < lenght:\n",
    "                        search(index+1, new_value)\n",
    "                    else:\n",
    "                        combinations.append(new_value)\n",
    "            return combinations\n",
    "        \n",
    "        return search(1, \"\")\n",
    "        \n",
    "            \n",
    "        \n",
    "Solution().generateParenthesis(0)\n"
   ]
  },
  {
   "cell_type": "markdown",
   "metadata": {},
   "source": [
    "#### Result:  Accepted\n",
    "#### Runtime: 40ms (69.12%)\n",
    "#### Memory: 12.9mb (100%)"
   ]
  },
  {
   "cell_type": "markdown",
   "metadata": {},
   "source": [
    "The above shortened slightly, no difference to runtime"
   ]
  },
  {
   "cell_type": "code",
   "execution_count": 77,
   "metadata": {},
   "outputs": [
    {
     "data": {
      "text/plain": [
       "[]"
      ]
     },
     "execution_count": 77,
     "metadata": {},
     "output_type": "execute_result"
    }
   ],
   "source": [
    "class Solution:\n",
    "    \n",
    "    def generateParenthesis(self, n: int) -> [str]:\n",
    "        lenght = n * 2\n",
    "        brackets = ['(',')']\n",
    "        combinations = []\n",
    "        \n",
    "        def search(index, value):\n",
    "            for i in brackets:\n",
    "                new_value = value + i\n",
    "                \n",
    "                opened = new_value.count(brackets[0])\n",
    "                closed = new_value.count(brackets[1])\n",
    "                \n",
    "                if closed <= opened and opened <= n:\n",
    "                    if index < lenght:\n",
    "                        search(index+1, new_value)\n",
    "                    else:\n",
    "                        combinations.append(new_value)\n",
    "\n",
    "            return combinations\n",
    "        \n",
    "        return search(1, \"\")\n",
    "        \n",
    "            \n",
    "        \n",
    "Solution().generateParenthesis(0)"
   ]
  }
 ],
 "metadata": {
  "kernelspec": {
   "display_name": "Python 3",
   "language": "python",
   "name": "python3"
  },
  "language_info": {
   "codemirror_mode": {
    "name": "ipython",
    "version": 3
   },
   "file_extension": ".py",
   "mimetype": "text/x-python",
   "name": "python",
   "nbconvert_exporter": "python",
   "pygments_lexer": "ipython3",
   "version": "3.7.4"
  }
 },
 "nbformat": 4,
 "nbformat_minor": 2
}
