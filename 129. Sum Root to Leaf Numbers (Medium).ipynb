{
 "cells": [
  {
   "cell_type": "markdown",
   "metadata": {},
   "source": [
    "# 129. Sum Root to Leaf Numbers (Medium)"
   ]
  },
  {
   "cell_type": "markdown",
   "metadata": {},
   "source": [
    "<div><p>Given a binary tree containing digits from <code>0-9</code> only, each root-to-leaf path could represent a number.</p>\n",
    "\n",
    "<p>An example is the root-to-leaf path <code>1-&gt;2-&gt;3</code> which represents the number <code>123</code>.</p>\n",
    "\n",
    "<p>Find the total sum of all root-to-leaf numbers.</p>\n",
    "\n",
    "<p><strong>Note:</strong>&nbsp;A leaf is a node with no children.</p>\n",
    "\n",
    "<p><strong>Example:</strong></p>\n",
    "\n",
    "<pre><strong>Input:</strong> [1,2,3]\n",
    "    1\n",
    "   / \\\n",
    "  2   3\n",
    "<strong>Output:</strong> 25\n",
    "<strong>Explanation:</strong>\n",
    "The root-to-leaf path <code>1-&gt;2</code> represents the number <code>12</code>.\n",
    "The root-to-leaf path <code>1-&gt;3</code> represents the number <code>13</code>.\n",
    "Therefore, sum = 12 + 13 = <code>25</code>.</pre>\n",
    "\n",
    "<p><strong>Example 2:</strong></p>\n",
    "\n",
    "<pre><strong>Input:</strong> [4,9,0,5,1]\n",
    "    4\n",
    "   / \\\n",
    "  9   0\n",
    "&nbsp;/ \\\n",
    "5   1\n",
    "<strong>Output:</strong> 1026\n",
    "<strong>Explanation:</strong>\n",
    "The root-to-leaf path <code>4-&gt;9-&gt;5</code> represents the number 495.\n",
    "The root-to-leaf path <code>4-&gt;9-&gt;1</code> represents the number 491.\n",
    "The root-to-leaf path <code>4-&gt;0</code> represents the number 40.\n",
    "Therefore, sum = 495 + 491 + 40 = <code>1026</code>.</pre>\n",
    "</div>"
   ]
  },
  {
   "cell_type": "markdown",
   "metadata": {},
   "source": [
    "## Option 1\n",
    "\n",
    "Recursive\n",
    "Time complexity = O(n)\n",
    "<br>\n",
    "Space complexity = O(n)"
   ]
  },
  {
   "cell_type": "code",
   "execution_count": null,
   "metadata": {
    "scrolled": false
   },
   "outputs": [],
   "source": [
    "# Definition for a binary tree node.\n",
    "# class TreeNode:\n",
    "#     def __init__(self, x):\n",
    "#         self.val = x\n",
    "#         self.left = None\n",
    "#         self.right = None\n",
    "\n",
    "class Solution:\n",
    "    def sumNumbers(self, root: TreeNode) -> int:\n",
    "        def dfs(node, val):\n",
    "            val = (val*10) + node.val\n",
    "            if not node.left and not node.right:\n",
    "                return val\n",
    "            left = dfs(node.left, val) if node.left else 0\n",
    "            right = dfs(node.right, val) if node.right else 0\n",
    "            return left + right\n",
    "        return dfs(root,0) if root else 0"
   ]
  },
  {
   "cell_type": "markdown",
   "metadata": {},
   "source": [
    "#### Result:  28ms (80.55%)"
   ]
  }
 ],
 "metadata": {
  "kernelspec": {
   "display_name": "Python 3",
   "language": "python",
   "name": "python3"
  },
  "language_info": {
   "codemirror_mode": {
    "name": "ipython",
    "version": 3
   },
   "file_extension": ".py",
   "mimetype": "text/x-python",
   "name": "python",
   "nbconvert_exporter": "python",
   "pygments_lexer": "ipython3",
   "version": "3.7.4"
  }
 },
 "nbformat": 4,
 "nbformat_minor": 2
}
