{
 "cells": [
  {
   "cell_type": "markdown",
   "metadata": {},
   "source": [
    "# 283. Move Zeroes (Easy)"
   ]
  },
  {
   "cell_type": "markdown",
   "metadata": {},
   "source": [
    "<div><p>Given an array <code>nums</code>, write a function to move all <code>0</code>'s to the end of it while maintaining the relative order of the non-zero elements.</p>\n",
    "\n",
    "<p><b>Example:</b></p>\n",
    "\n",
    "<pre><b>Input:</b> <code>[0,1,0,3,12]</code>\n",
    "<b>Output:</b> <code>[1,3,12,0,0]</code></pre>\n",
    "\n",
    "<p><b>Note</b>:</p>\n",
    "\n",
    "<ol>\n",
    "\t<li>You must do this <b>in-place</b> without making a copy of the array.</li>\n",
    "\t<li>Minimize the total number of operations.</li>\n",
    "</ol></div>"
   ]
  },
  {
   "cell_type": "markdown",
   "metadata": {},
   "source": [
    "## Option 1\n",
    "Time complexity = O(n)\n",
    "<br>"
   ]
  },
  {
   "cell_type": "code",
   "execution_count": 11,
   "metadata": {
    "scrolled": false
   },
   "outputs": [
    {
     "name": "stdout",
     "output_type": "stream",
     "text": [
      "[1, 0]\n"
     ]
    }
   ],
   "source": [
    "class Solution:\n",
    "    def moveZeroes(self, nums: [int]) -> None:\n",
    "        \"\"\"\n",
    "        Do not return anything, modify nums in-place instead.\n",
    "        \"\"\"\n",
    "        p = 0\n",
    "        for i in range(len(nums)):\n",
    "            if nums[i] != 0:\n",
    "                nums[i], nums[p] = nums[p], nums[i]\n",
    "                p += 1\n",
    "        print(nums)\n",
    "Solution().moveZeroes([1,0])"
   ]
  },
  {
   "cell_type": "markdown",
   "metadata": {},
   "source": [
    "#### Result:  48ms (89.48%)"
   ]
  }
 ],
 "metadata": {
  "kernelspec": {
   "display_name": "Python 3",
   "language": "python",
   "name": "python3"
  },
  "language_info": {
   "codemirror_mode": {
    "name": "ipython",
    "version": 3
   },
   "file_extension": ".py",
   "mimetype": "text/x-python",
   "name": "python",
   "nbconvert_exporter": "python",
   "pygments_lexer": "ipython3",
   "version": "3.7.4"
  }
 },
 "nbformat": 4,
 "nbformat_minor": 2
}
