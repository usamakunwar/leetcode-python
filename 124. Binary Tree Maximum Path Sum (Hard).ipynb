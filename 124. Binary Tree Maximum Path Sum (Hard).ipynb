{
 "cells": [
  {
   "cell_type": "markdown",
   "metadata": {},
   "source": [
    "# 124. Binary Tree Maximum Path Sum"
   ]
  },
  {
   "cell_type": "markdown",
   "metadata": {},
   "source": [
    "<div><p>Given a <strong>non-empty</strong> binary tree, find the maximum path sum.</p>\n",
    "\n",
    "<p>For this problem, a path is defined as any sequence of nodes from some starting node to any node in the tree along the parent-child connections. The path must contain <strong>at least one node</strong> and does not need to go through the root.</p>\n",
    "\n",
    "<p><strong>Example 1:</strong></p>\n",
    "\n",
    "<pre><strong>Input:</strong> [1,2,3]\n",
    "\n",
    "       <strong>1</strong>\n",
    "      <strong>/ \\</strong>\n",
    "     <strong>2</strong>   <strong>3</strong>\n",
    "\n",
    "<strong>Output:</strong> 6\n",
    "</pre>\n",
    "\n",
    "<p><strong>Example 2:</strong></p>\n",
    "\n",
    "<pre><strong>Input:</strong> [-10,9,20,null,null,15,7]\n",
    "\n",
    "&nbsp;  -10\n",
    "&nbsp; &nbsp;/ \\\n",
    "&nbsp; 9 &nbsp;<strong>20</strong>\n",
    "&nbsp; &nbsp; <strong>/ &nbsp;\\</strong>\n",
    "&nbsp; &nbsp;<strong>15 &nbsp; 7</strong>\n",
    "\n",
    "<strong>Output:</strong> 42\n",
    "</pre>\n",
    "</div>"
   ]
  },
  {
   "cell_type": "markdown",
   "metadata": {},
   "source": [
    "## Option 1\n",
    "\n",
    "Accumulate values bottom up<br>\n",
    "\n",
    "The trick is that the max of all three values (left right and value) can only be considered in max_path without it being included in the accumulation. Because having all three means above path cannot join - as we need a single path. \n",
    "Other wise we can only consider left or right (not both) as a path\n",
    "<br>\n",
    "Time complexity = O(n)\n",
    "<br>\n",
    "Space complexity = O(n)"
   ]
  },
  {
   "cell_type": "code",
   "execution_count": null,
   "metadata": {
    "scrolled": false
   },
   "outputs": [],
   "source": [
    "# Definition for a binary tree node.\n",
    "# class TreeNode:\n",
    "#     def __init__(self, x):\n",
    "#         self.val = x\n",
    "#         self.left = None\n",
    "#         self.right = None\n",
    "\n",
    "class Solution:\n",
    "    max_path = -2147483648\n",
    "    def maxPathSum(self, root: TreeNode) -> int:\n",
    "        def dfs(node):\n",
    "            if not node: return 0\n",
    "            \n",
    "            left = max(dfs(node.left),0)\n",
    "            right = max(dfs(node.right),0)\n",
    "            \n",
    "            stay = left+right+node.val\n",
    "            send_up = max(left,right)+node.val\n",
    "\n",
    "            self.max_path = max(self.max_path,stay)     \n",
    "            \n",
    "            return send_up\n",
    "        \n",
    "        dfs(root)\n",
    "        \n",
    "        return self.max_path"
   ]
  },
  {
   "cell_type": "markdown",
   "metadata": {},
   "source": [
    "#### Result:  96ms (35.79%)"
   ]
  }
 ],
 "metadata": {
  "kernelspec": {
   "display_name": "Python 3",
   "language": "python",
   "name": "python3"
  },
  "language_info": {
   "codemirror_mode": {
    "name": "ipython",
    "version": 3
   },
   "file_extension": ".py",
   "mimetype": "text/x-python",
   "name": "python",
   "nbconvert_exporter": "python",
   "pygments_lexer": "ipython3",
   "version": "3.7.4"
  }
 },
 "nbformat": 4,
 "nbformat_minor": 2
}
