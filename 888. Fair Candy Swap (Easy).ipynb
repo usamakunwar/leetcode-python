{
 "cells": [
  {
   "cell_type": "markdown",
   "metadata": {},
   "source": [
    "# 888. Fair Candy Swap (Easy)"
   ]
  },
  {
   "cell_type": "markdown",
   "metadata": {},
   "source": [
    "<div><p>Alice and Bob have candy bars of different sizes: <code>A[i]</code> is the size of the <code>i</code>-th bar of candy that Alice has, and <code>B[j]</code> is the size of the <code>j</code>-th bar of candy that Bob has.</p>\n",
    "\n",
    "<p>Since they are friends, they would like to exchange one candy bar each so that after the exchange, they both have the same total&nbsp;amount of candy.&nbsp; (<em>The total amount of candy&nbsp;a person has is the sum of the sizes of candy&nbsp;bars they have.</em>)</p>\n",
    "\n",
    "<p>Return an integer array <code>ans</code>&nbsp;where <code>ans[0]</code> is the size of the candy bar that Alice must exchange, and <code>ans[1]</code> is the size of the candy bar that Bob must exchange.</p>\n",
    "\n",
    "<p>If there are multiple answers, you may return any one of them.&nbsp; It is guaranteed an answer exists.</p>\n",
    "\n",
    "<p>&nbsp;</p>\n",
    "\n",
    "<div>\n",
    "<p><strong>Example 1:</strong></p>\n",
    "\n",
    "<pre><strong>Input: </strong>A = <span id=\"example-input-1-1\">[1,1]</span>, B = <span id=\"example-input-1-2\">[2,2]</span>\n",
    "<strong>Output: </strong><span id=\"example-output-1\">[1,2]</span>\n",
    "</pre>\n",
    "\n",
    "<div>\n",
    "<p><strong>Example 2:</strong></p>\n",
    "\n",
    "<pre><strong>Input: </strong>A = <span id=\"example-input-2-1\">[1,2]</span>, B = <span id=\"example-input-2-2\">[2,3]</span>\n",
    "<strong>Output: </strong><span id=\"example-output-2\">[1,2]</span>\n",
    "</pre>\n",
    "\n",
    "<div>\n",
    "<p><strong>Example 3:</strong></p>\n",
    "\n",
    "<pre><strong>Input: </strong>A = <span id=\"example-input-3-1\">[2]</span>, B = <span id=\"example-input-3-2\">[1,3]</span>\n",
    "<strong>Output: </strong><span id=\"example-output-3\">[2,3]</span>\n",
    "</pre>\n",
    "\n",
    "<div>\n",
    "<p><strong>Example 4:</strong></p>\n",
    "\n",
    "<pre><strong>Input: </strong>A = <span id=\"example-input-4-1\">[1,2,5]</span>, B = <span id=\"example-input-4-2\">[2,4]</span>\n",
    "<strong>Output: </strong><span id=\"example-output-4\">[5,4]</span>\n",
    "</pre>\n",
    "\n",
    "<p>&nbsp;</p>\n",
    "\n",
    "<p><strong><span>Note:</span></strong></p>\n",
    "\n",
    "<ul>\n",
    "\t<li><span><code>1 &lt;= A.length &lt;= 10000</code></span></li>\n",
    "\t<li><span><code>1 &lt;= B.length &lt;= 10000</code></span></li>\n",
    "\t<li><code><span>1 &lt;= A[i] &lt;= 100000</span></code></li>\n",
    "\t<li><code><span>1 &lt;= B[i] &lt;= 100000</span></code></li>\n",
    "\t<li>It is guaranteed that Alice and Bob have different total amounts of&nbsp;candy.</li>\n",
    "\t<li>It is guaranteed there exists an&nbsp;answer.</li>\n",
    "</ul>\n",
    "</div>\n",
    "</div>\n",
    "</div>\n",
    "</div>\n",
    "</div>"
   ]
  },
  {
   "cell_type": "markdown",
   "metadata": {},
   "source": [
    "## Option 1\n",
    "<p>\n",
    "    <p>\n",
    "Time complexity: O(n)\n",
    "    <br>\n",
    "Space complexity: O(n)\n"
   ]
  },
  {
   "cell_type": "code",
   "execution_count": null,
   "metadata": {},
   "outputs": [],
   "source": [
    "class Solution(object):\n",
    "    def fairCandySwap(self, A, B):\n",
    "        diff = sum(A) - sum(B)\n",
    "        map_low = set(B)\n",
    "        \n",
    "        for a in A:\n",
    "            t = a + (abs(diff)/2)*(-1 if diff > 0 else 1)\n",
    "            if t in map_low:\n",
    "                return [a,t]\n",
    "        \n",
    "Solution().fairCandySwap([1,2,5],[2,4])\n",
    "                \n",
    "        "
   ]
  },
  {
   "cell_type": "markdown",
   "metadata": {},
   "source": [
    "\n",
    "#### Result: 336ms (86.90%)"
   ]
  }
 ],
 "metadata": {
  "kernelspec": {
   "display_name": "Python 2",
   "language": "python",
   "name": "python2"
  },
  "language_info": {
   "codemirror_mode": {
    "name": "ipython",
    "version": 2
   },
   "file_extension": ".py",
   "mimetype": "text/x-python",
   "name": "python",
   "nbconvert_exporter": "python",
   "pygments_lexer": "ipython2",
   "version": "2.7.16"
  }
 },
 "nbformat": 4,
 "nbformat_minor": 2
}
