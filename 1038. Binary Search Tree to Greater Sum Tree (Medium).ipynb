{
 "cells": [
  {
   "cell_type": "markdown",
   "metadata": {},
   "source": [
    "# 1038. Binary Search Tree to Greater Sum Tree (Medium)\n"
   ]
  },
  {
   "cell_type": "markdown",
   "metadata": {},
   "source": [
    "<div><p>Given the root of a binary <strong>search</strong> tree with distinct values, modify it so that every <code>node</code>&nbsp;has a new value equal to the sum of the values of the original tree that are greater than or equal to <code>node.val</code>.</p>\n",
    "\n",
    "<p>As a reminder, a&nbsp;<em>binary search tree</em> is a tree that satisfies these constraints:</p>\n",
    "\n",
    "<ul>\n",
    "\t<li>The left subtree of a node contains only nodes with keys&nbsp;<strong>less than</strong>&nbsp;the node's key.</li>\n",
    "\t<li>The right subtree of a node contains only nodes with keys&nbsp;<strong>greater than</strong>&nbsp;the node's key.</li>\n",
    "\t<li>Both the left and right subtrees must also be binary search trees.</li>\n",
    "</ul>\n",
    "\n",
    "<p>&nbsp;</p>\n",
    "\n",
    "<p><strong>Example 1:</strong></p>\n",
    "\n",
    "<p><strong><img alt=\"\" src=\"https://assets.leetcode.com/uploads/2019/05/02/tree.png\" style=\"width: 280px; height: 191px;\"></strong></p>\n",
    "\n",
    "<pre><strong>Input: </strong><span id=\"example-input-1-1\">[4,1,6,0,2,5,7,null,null,null,3,null,null,null,8]</span>\n",
    "<strong>Output: </strong><span id=\"example-output-1\">[30,36,21,36,35,26,15,null,null,null,33,null,null,null,8]</span>\n",
    "</pre>\n",
    "\n",
    "<div>\n",
    "<p>&nbsp;</p>\n",
    "</div>\n",
    "\n",
    "<p><strong>Constraints:</strong></p>\n",
    "\n",
    "<ol>\n",
    "\t<li>The number of nodes in the tree is between <code>1</code> and <code>100</code>.</li>\n",
    "\t<li>Each node will have value between <code>0</code> and <code>100</code>.</li>\n",
    "\t<li>The given tree is a binary search tree.</li>\n",
    "</ol>\n",
    "\n",
    "<div>\n",
    "<div>\n",
    "<div><strong>Note:</strong> This question is the same as 538:&nbsp;<a href=\"https://leetcode.com/problems/convert-bst-to-greater-tree/\">https://leetcode.com/problems/convert-bst-to-greater-tree/</a></div>\n",
    "</div>\n",
    "</div>\n",
    "</div>"
   ]
  },
  {
   "cell_type": "markdown",
   "metadata": {},
   "source": [
    "## Option 1\n",
    "<p>\n",
    "Recursive\n",
    "    <p>\n",
    "        <p>\n",
    "Time complexity: O(n)\n",
    "<br>\n",
    "Space complexity: O(n)"
   ]
  },
  {
   "cell_type": "code",
   "execution_count": null,
   "metadata": {
    "scrolled": true
   },
   "outputs": [],
   "source": [
    "# Definition for a binary tree node.\n",
    "# class TreeNode(object):\n",
    "#     def __init__(self, x):\n",
    "#         self.val = x\n",
    "#         self.left = None\n",
    "#         self.right = None\n",
    "\n",
    "class Solution(object):\n",
    "    def bstToGst(self, root):\n",
    "        self.total = 0\n",
    "        def search(node):\n",
    "            if node.right: search(node.right)\n",
    "            self.total += node.val\n",
    "            node.val = self.total\n",
    "            if node.left: search(node.left)\n",
    "        \n",
    "        search(root)        \n",
    "        return root"
   ]
  },
  {
   "cell_type": "markdown",
   "metadata": {},
   "source": [
    "#### Result: 12ms (97.09%)"
   ]
  }
 ],
 "metadata": {
  "kernelspec": {
   "display_name": "Python 2",
   "language": "python",
   "name": "python2"
  },
  "language_info": {
   "codemirror_mode": {
    "name": "ipython",
    "version": 2
   },
   "file_extension": ".py",
   "mimetype": "text/x-python",
   "name": "python",
   "nbconvert_exporter": "python",
   "pygments_lexer": "ipython2",
   "version": "2.7.16"
  }
 },
 "nbformat": 4,
 "nbformat_minor": 2
}
