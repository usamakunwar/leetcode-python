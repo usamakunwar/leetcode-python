{
 "cells": [
  {
   "cell_type": "markdown",
   "metadata": {},
   "source": [
    "# 720. Longest Word in Dictionary (Easy)"
   ]
  },
  {
   "cell_type": "markdown",
   "metadata": {},
   "source": [
    "<div><p>Given a list of strings <code>words</code> representing an English Dictionary, find the longest word in <code>words</code> that can be built one character at a time by other words in <code>words</code>.  If there is more than one possible answer, return the longest word with the smallest lexicographical order.</p>  If there is no answer, return the empty string.\n",
    "\n",
    "<p><b>Example 1:</b><br>\n",
    "</p><pre><b>Input:</b> \n",
    "words = [\"w\",\"wo\",\"wor\",\"worl\", \"world\"]\n",
    "<b>Output:</b> \"world\"\n",
    "<b>Explanation:</b> \n",
    "The word \"world\" can be built one character at a time by \"w\", \"wo\", \"wor\", and \"worl\".\n",
    "</pre>\n",
    "<p></p>\n",
    "\n",
    "<p><b>Example 2:</b><br>\n",
    "</p><pre><b>Input:</b> \n",
    "words = [\"a\", \"banana\", \"app\", \"appl\", \"ap\", \"apply\", \"apple\"]\n",
    "<b>Output:</b> \"apple\"\n",
    "<b>Explanation:</b> \n",
    "Both \"apply\" and \"apple\" can be built from other words in the dictionary. However, \"apple\" is lexicographically smaller than \"apply\".\n",
    "</pre>\n",
    "<p></p>\n",
    "\n",
    "<p><b>Note:</b>\n",
    "</p><li>All the strings in the input will only contain lowercase letters.</li>\n",
    "<li>The length of <code>words</code> will be in the range <code>[1, 1000]</code>.</li>\n",
    "<li>The length of <code>words[i]</code> will be in the range <code>[1, 30]</code>.</li>\n",
    "<p></p></div>"
   ]
  },
  {
   "cell_type": "markdown",
   "metadata": {},
   "source": [
    "## Option 1\n",
    " <p>\n",
    "    <p>\n",
    "        <p>\n",
    "Time complexity: O(n*c) number of words * characters \n",
    "    <br>\n",
    "Space complexity: O(n) \n"
   ]
  },
  {
   "cell_type": "code",
   "execution_count": null,
   "metadata": {},
   "outputs": [],
   "source": [
    "class Solution(object):\n",
    "    def longestWord(self, words):\n",
    "        m = set(words)\n",
    "        res = ''\n",
    "        for w in words:\n",
    "            i = 0\n",
    "            while i < len(w) and w[:i+1] in m: i += 1\n",
    "            if i == len(w) and (len(res) < i or (len(res) == i and res > w)):\n",
    "                res = w\n",
    "        return res\n",
    "\n",
    "        \n",
    "        \n",
    "        \n",
    "Solution().longestWord([\"wo\",\"wor\",\"worl\",\"w\", \"world\"])\n"
   ]
  },
  {
   "cell_type": "markdown",
   "metadata": {},
   "source": [
    "\n",
    "#### Result: 132ms (41.64%)"
   ]
  }
 ],
 "metadata": {
  "kernelspec": {
   "display_name": "Python 2",
   "language": "python",
   "name": "python2"
  },
  "language_info": {
   "codemirror_mode": {
    "name": "ipython",
    "version": 2
   },
   "file_extension": ".py",
   "mimetype": "text/x-python",
   "name": "python",
   "nbconvert_exporter": "python",
   "pygments_lexer": "ipython2",
   "version": "2.7.16"
  }
 },
 "nbformat": 4,
 "nbformat_minor": 2
}
