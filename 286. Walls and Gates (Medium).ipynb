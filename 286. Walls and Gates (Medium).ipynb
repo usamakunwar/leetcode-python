{
 "cells": [
  {
   "cell_type": "markdown",
   "metadata": {},
   "source": [
    "# 286. Walls and Gates (Medium)"
   ]
  },
  {
   "cell_type": "markdown",
   "metadata": {},
   "source": [
    "<div><p>You are given a <i>m x n</i> 2D grid initialized with these three possible values.</p>\n",
    "\n",
    "<ol>\n",
    "\t<li><code>-1</code> - A wall or an obstacle.</li>\n",
    "\t<li><code>0</code> - A gate.</li>\n",
    "\t<li><code>INF</code> - Infinity means an empty room. We use the value <code>2<sup>31</sup> - 1 = 2147483647</code> to represent <code>INF</code> as you may assume that the distance to a gate is less than <code>2147483647</code>.</li>\n",
    "</ol>\n",
    "\n",
    "<p>Fill each empty room with the distance to its <i>nearest</i> gate. If it is impossible to reach a gate, it should be filled with <code>INF</code>.</p>\n",
    "\n",
    "<p><strong>Example:&nbsp;</strong></p>\n",
    "\n",
    "<p>Given the 2D grid:</p>\n",
    "\n",
    "<pre>INF  -1  0  INF\n",
    "INF INF INF  -1\n",
    "INF  -1 INF  -1\n",
    "  0  -1 INF INF\n",
    "</pre>\n",
    "\n",
    "<p>After running your function, the 2D grid should be:</p>\n",
    "\n",
    "<pre>  3  -1   0   1\n",
    "  2   2   1  -1\n",
    "  1  -1   2  -1\n",
    "  0  -1   3   4\n",
    "</pre>\n",
    "</div>"
   ]
  },
  {
   "cell_type": "markdown",
   "metadata": {},
   "source": [
    "## Option 1\n",
    "\n",
    "BFS. \n",
    "There are 2 issues. \n",
    "<li>1) We know that if we are going from A > Z, the value for D > Z has to be the lowest too. So how do we make use of this.\n",
    "<li>2) We cannot allow duplicate searches, or there can be an infinite loop\n",
    "<p><p>\n",
    "The trick is to start from the 0 values. That way the values can be incremented and we are sure of no duplicates.\n",
    "Also if there are multiple 0's we can be sure the closest one reaches it first and changes the value\n",
    "<p>\n",
    "Time complexity = O(ij)\n",
    "<br>\n",
    "Space complexity = O(ij)"
   ]
  },
  {
   "cell_type": "code",
   "execution_count": 8,
   "metadata": {
    "scrolled": false
   },
   "outputs": [
    {
     "name": "stdout",
     "output_type": "stream",
     "text": [
      "[2147483647, 2147483647]\n",
      "[2147483647, 2147483647]\n"
     ]
    }
   ],
   "source": [
    "import collections\n",
    "class Solution:\n",
    "    def wallsAndGates(self, rooms: [[int]]) -> None:\n",
    "        inf = 2147483647\n",
    "        def neighbours(i,j):\n",
    "            res = []\n",
    "            for ni,nj in ((i+1,j),(i,j+1),(i-1,j),(i,j-1)):\n",
    "                if ni >= 0 and nj >= 0 and ni < len(rooms) and nj < len(rooms[0]):\n",
    "                    res.append((ni,nj)) \n",
    "            return res\n",
    "        \n",
    "        queue = collections.deque()\n",
    "        \n",
    "        for i in range(len(rooms)):\n",
    "            for j in range(len(rooms[0])):\n",
    "                if rooms[i][j] == 0:\n",
    "                    queue.append((i,j))\n",
    "\n",
    "            while queue:\n",
    "                i,j = queue.popleft()\n",
    "                for ni,nj in neighbours(i,j):\n",
    "                    if rooms[ni][nj] == inf:\n",
    "                        rooms[ni][nj] = rooms[i][j] + 1 \n",
    "                        queue.append((ni,nj))   \n",
    "        \n",
    "        for i in rooms:\n",
    "            print(i)\n",
    "            \n",
    "Solution().wallsAndGates([[2147483647,2147483647],[2147483647,2147483647]])"
   ]
  },
  {
   "cell_type": "markdown",
   "metadata": {},
   "source": [
    "#### Result:  312ms (64.69%)"
   ]
  }
 ],
 "metadata": {
  "kernelspec": {
   "display_name": "Python 3",
   "language": "python",
   "name": "python3"
  },
  "language_info": {
   "codemirror_mode": {
    "name": "ipython",
    "version": 3
   },
   "file_extension": ".py",
   "mimetype": "text/x-python",
   "name": "python",
   "nbconvert_exporter": "python",
   "pygments_lexer": "ipython3",
   "version": "3.7.4"
  }
 },
 "nbformat": 4,
 "nbformat_minor": 2
}
