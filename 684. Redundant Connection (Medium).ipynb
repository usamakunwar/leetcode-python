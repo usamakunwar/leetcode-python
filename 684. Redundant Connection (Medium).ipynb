{
 "cells": [
  {
   "cell_type": "markdown",
   "metadata": {},
   "source": [
    "# 684. Redundant Connection (Medium)"
   ]
  },
  {
   "cell_type": "markdown",
   "metadata": {},
   "source": [
    "<div><p>\n",
    "In this problem, a tree is an <b>undirected</b> graph that is connected and has no cycles.\n",
    "</p><p>\n",
    "The given input is a graph that started as a tree with N nodes (with distinct values 1, 2, ..., N), with one additional edge added.  The added edge has two different vertices chosen from 1 to N, and was not an edge that already existed.\n",
    "</p><p>\n",
    "The resulting graph is given as a 2D-array of <code>edges</code>.  Each element of <code>edges</code> is a pair <code>[u, v]</code> with <code>u &lt; v</code>, that represents an <b>undirected</b> edge connecting nodes <code>u</code> and <code>v</code>.\n",
    "</p><p>\n",
    "Return an edge that can be removed so that the resulting graph is a tree of N nodes.  If there are multiple answers, return the answer that occurs last in the given 2D-array.  The answer edge <code>[u, v]</code> should be in the same format, with <code>u &lt; v</code>.\n",
    "</p><p><b>Example 1:</b><br>\n",
    "</p><pre><b>Input:</b> [[1,2], [1,3], [2,3]]\n",
    "<b>Output:</b> [2,3]\n",
    "<b>Explanation:</b> The given undirected graph will be like this:\n",
    "  1\n",
    " / \\\n",
    "2 - 3\n",
    "</pre>\n",
    "<p></p>\n",
    "<p><b>Example 2:</b><br>\n",
    "</p><pre><b>Input:</b> [[1,2], [2,3], [3,4], [1,4], [1,5]]\n",
    "<b>Output:</b> [1,4]\n",
    "<b>Explanation:</b> The given undirected graph will be like this:\n",
    "5 - 1 - 2\n",
    "    |   |\n",
    "    4 - 3\n",
    "</pre>\n",
    "<p></p>\n",
    "<p><b>Note:</b><br>\n",
    "</p><li>The size of the input 2D-array will be between 3 and 1000.</li>\n",
    "<li>Every integer represented in the 2D-array will be between 1 and N, where N is the size of the input array.</li>\n",
    "<p></p>\n",
    "\n",
    "<br>\n",
    "\n",
    "<p>\n",
    "<b><font color=\"red\">Update (2017-09-26):</font></b><br>\n",
    "We have overhauled the problem description + test cases and specified clearly the graph is an <b><i>undirected</i></b> graph. For the <b><i>directed</i></b> graph follow up please see <b><a href=\"https://leetcode.com/problems/redundant-connection-ii/description/\">Redundant Connection II</a></b>). We apologize for any inconvenience caused.\n",
    "</p></div>"
   ]
  },
  {
   "cell_type": "markdown",
   "metadata": {},
   "source": [
    "## Option 1\n",
    "<p>\n",
    "    Union find\n",
    "<p>\n",
    "Time complexity: O(n)\n",
    "    <br>\n",
    "Space complexity: O(n)\n"
   ]
  },
  {
   "cell_type": "code",
   "execution_count": 50,
   "metadata": {},
   "outputs": [
    {
     "data": {
      "text/plain": [
       "[4, 6]"
      ]
     },
     "execution_count": 50,
     "metadata": {},
     "output_type": "execute_result"
    }
   ],
   "source": [
    "import collections\n",
    "class Solution(object):\n",
    "    def findRedundantConnection(self, edges):\n",
    "        arr = range(len(edges)+1)\n",
    "        def find(a):\n",
    "            if arr[a] != a:\n",
    "                arr[a] = find(arr[a])\n",
    "            return arr[a]\n",
    "        \n",
    "        for a,b in edges:\n",
    "            #Do the finding first so arr[a] and arr[b] are at the most compressed value\n",
    "            find_a, find_b = find(a), find(b)\n",
    "            if arr[a] == arr[b]: return [a,b]\n",
    "            arr[find_b] = find_a     \n",
    "        \n",
    "Solution().findRedundantConnection([[1,4],[5,11],[2,5],[3,6],[4,7],[1,2],[0,1],[7,8],[5,9],[1,3],[5,10],[4,6]])\n"
   ]
  },
  {
   "cell_type": "markdown",
   "metadata": {},
   "source": [
    "#### Result: 32ms (98.73%)"
   ]
  }
 ],
 "metadata": {
  "kernelspec": {
   "display_name": "Python 2",
   "language": "python",
   "name": "python2"
  },
  "language_info": {
   "codemirror_mode": {
    "name": "ipython",
    "version": 2
   },
   "file_extension": ".py",
   "mimetype": "text/x-python",
   "name": "python",
   "nbconvert_exporter": "python",
   "pygments_lexer": "ipython2",
   "version": "2.7.16"
  }
 },
 "nbformat": 4,
 "nbformat_minor": 2
}
