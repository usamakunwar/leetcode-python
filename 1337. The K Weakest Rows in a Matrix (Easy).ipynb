{
 "cells": [
  {
   "cell_type": "markdown",
   "metadata": {},
   "source": [
    "# 1337. The K Weakest Rows in a Matrix (Easy)\n",
    "\n"
   ]
  },
  {
   "cell_type": "markdown",
   "metadata": {},
   "source": [
    "<div><p>Given a <code>m&nbsp;* n</code>&nbsp;matrix <code>mat</code> of <em>ones</em>&nbsp;(representing soldiers) and <em>zeros</em>&nbsp;(representing civilians), return the indexes of the <code>k</code> weakest rows in the matrix ordered from the weakest to the strongest.</p>\n",
    "\n",
    "<p>A row <em><strong>i</strong></em> is weaker than row <em><strong>j</strong></em>, if the number of soldiers in row <em><strong>i</strong></em> is less than the number of soldiers in row <em><strong>j</strong></em>, or they have the same number of soldiers but <em><strong>i</strong></em> is less than <em><strong>j</strong></em>. Soldiers are <strong>always</strong> stand in the frontier of a row, that is, always <em>ones</em>&nbsp;may appear first and then <em>zeros</em>.</p>\n",
    "\n",
    "<p>&nbsp;</p>\n",
    "<p><strong>Example 1:</strong></p>\n",
    "\n",
    "<pre><strong>Input:</strong> mat = \n",
    "[[1,1,0,0,0],\n",
    " [1,1,1,1,0],\n",
    " [1,0,0,0,0],\n",
    " [1,1,0,0,0],\n",
    " [1,1,1,1,1]], \n",
    "k = 3\n",
    "<strong>Output:</strong> [2,0,3]\n",
    "<strong>Explanation:</strong> \n",
    "The number of soldiers for each row is: \n",
    "row 0 -&gt; 2 \n",
    "row 1 -&gt; 4 \n",
    "row 2 -&gt; 1 \n",
    "row 3 -&gt; 2 \n",
    "row 4 -&gt; 5 \n",
    "Rows ordered from the weakest to the strongest are [2,0,3,1,4]\n",
    "</pre>\n",
    "\n",
    "<p><strong>Example 2:</strong></p>\n",
    "\n",
    "<pre><strong>Input:</strong> mat = \n",
    "[[1,0,0,0],\n",
    "&nbsp;[1,1,1,1],\n",
    "&nbsp;[1,0,0,0],\n",
    "&nbsp;[1,0,0,0]], \n",
    "k = 2\n",
    "<strong>Output:</strong> [0,2]\n",
    "<strong>Explanation:</strong> \n",
    "The number of soldiers for each row is: \n",
    "row 0 -&gt; 1 \n",
    "row 1 -&gt; 4 \n",
    "row 2 -&gt; 1 \n",
    "row 3 -&gt; 1 \n",
    "Rows ordered from the weakest to the strongest are [0,2,3,1]\n",
    "</pre>\n",
    "\n",
    "<p>&nbsp;</p>\n",
    "<p><strong>Constraints:</strong></p>\n",
    "\n",
    "<ul>\n",
    "\t<li><code>m == mat.length</code></li>\n",
    "\t<li><code>n == mat[i].length</code></li>\n",
    "\t<li><code><font face=\"monospace\">2 &lt;= n, m &lt;= 100</font></code></li>\n",
    "\t<li><code>1 &lt;= k &lt;= m</code></li>\n",
    "\t<li><code>matrix[i][j]</code> is either 0 <strong>or</strong> 1.</li>\n",
    "</ul></div>"
   ]
  },
  {
   "cell_type": "markdown",
   "metadata": {},
   "source": [
    "## Option 1\n",
    "<p>\n",
    "Time complexity: O(n) rows*col\n",
    "<br>\n",
    "Space complexity: O(n)"
   ]
  },
  {
   "cell_type": "code",
   "execution_count": 45,
   "metadata": {
    "scrolled": false
   },
   "outputs": [
    {
     "data": {
      "text/plain": [
       "[0, 1, 2]"
      ]
     },
     "execution_count": 45,
     "metadata": {},
     "output_type": "execute_result"
    }
   ],
   "source": [
    "class Solution(object):\n",
    "    def kWeakestRows(self, mat, k):\n",
    "        li,lj = len(mat), len(mat[0])\n",
    "        res = []\n",
    "        for j in range(lj):\n",
    "            for i in range(li):\n",
    "                if not mat[i][j]:\n",
    "                    if mat[i][j-1] != '#': res.append(i)\n",
    "                    mat[i][j] = \"#\"\n",
    "                if len(res) == k: return res\n",
    "        s = set(res)\n",
    "        return (res + [i for i in range(li) if i not in s])[:k]\n",
    "        \n",
    "Solution().kWeakestRows([[1,1,1,1,1,0], [1,1,1,1,1,1],[1,1,1,1,1,1]], 3)"
   ]
  },
  {
   "cell_type": "markdown",
   "metadata": {},
   "source": [
    "#### Result: 100ms (32.22%)\n"
   ]
  }
 ],
 "metadata": {
  "kernelspec": {
   "display_name": "Python 2",
   "language": "python",
   "name": "python2"
  },
  "language_info": {
   "codemirror_mode": {
    "name": "ipython",
    "version": 2
   },
   "file_extension": ".py",
   "mimetype": "text/x-python",
   "name": "python",
   "nbconvert_exporter": "python",
   "pygments_lexer": "ipython2",
   "version": "2.7.16"
  }
 },
 "nbformat": 4,
 "nbformat_minor": 2
}
