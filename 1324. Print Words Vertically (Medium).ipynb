{
 "cells": [
  {
   "cell_type": "markdown",
   "metadata": {},
   "source": [
    "# 1324. Print Words Vertically (Medium)\n"
   ]
  },
  {
   "cell_type": "markdown",
   "metadata": {},
   "source": [
    "<div><p>Given a string <code>s</code>.&nbsp;Return&nbsp;all the words vertically in the same order in which they appear in <code>s</code>.<br>\n",
    "Words are returned as a list of strings, complete with&nbsp;spaces when is necessary. (Trailing spaces are not allowed).<br>\n",
    "Each word would be put on only one column and that in one column there will be only one word.</p>\n",
    "\n",
    "<p>&nbsp;</p>\n",
    "<p><strong>Example 1:</strong></p>\n",
    "\n",
    "<pre><strong>Input:</strong> s = \"HOW ARE YOU\"\n",
    "<strong>Output:</strong> [\"HAY\",\"ORO\",\"WEU\"]\n",
    "<strong>Explanation: </strong>Each word is printed vertically. \n",
    " \"HAY\"\n",
    "&nbsp;\"ORO\"\n",
    "&nbsp;\"WEU\"\n",
    "</pre>\n",
    "\n",
    "<p><strong>Example 2:</strong></p>\n",
    "\n",
    "<pre><strong>Input:</strong> s = \"TO BE OR NOT TO BE\"\n",
    "<strong>Output:</strong> [\"TBONTB\",\"OEROOE\",\"   T\"]\n",
    "<strong>Explanation: </strong>Trailing spaces is not allowed. \n",
    "\"TBONTB\"\n",
    "\"OEROOE\"\n",
    "\"   T\"\n",
    "</pre>\n",
    "\n",
    "<p><strong>Example 3:</strong></p>\n",
    "\n",
    "<pre><strong>Input:</strong> s = \"CONTEST IS COMING\"\n",
    "<strong>Output:</strong> [\"CIC\",\"OSO\",\"N M\",\"T I\",\"E N\",\"S G\",\"T\"]\n",
    "</pre>\n",
    "\n",
    "<p>&nbsp;</p>\n",
    "<p><strong>Constraints:</strong></p>\n",
    "\n",
    "<ul>\n",
    "\t<li><code>1 &lt;= s.length &lt;= 200</code></li>\n",
    "\t<li><code>s</code>&nbsp;contains only upper case English letters.</li>\n",
    "\t<li>It's guaranteed that there is only one&nbsp;space between 2 words.</li>\n",
    "</ul></div>"
   ]
  },
  {
   "cell_type": "markdown",
   "metadata": {},
   "source": [
    "## Option 1\n",
    "<p>\n",
    "Time complexity: O(n) lenght of s\n",
    "<br>\n",
    "Space complexity: O(w) number of words"
   ]
  },
  {
   "cell_type": "code",
   "execution_count": null,
   "metadata": {
    "scrolled": false
   },
   "outputs": [],
   "source": [
    "class Solution(object):\n",
    "    def printVertically(self, s):\n",
    "        s = s.split(' ')\n",
    "        i,res =0, []\n",
    "        while True:\n",
    "            #Map all ith elements, space if they do not exists. Remove trailing space\n",
    "            word = ''.join(map(lambda x:x[i] if i < len(x) else ' ', s)).rstrip()\n",
    "            #If theres nothing left, we end\n",
    "            if word.strip() == '': break\n",
    "            res.append(word)\n",
    "            i += 1\n",
    "        return res\n",
    "        \n",
    "\n",
    "Solution().printVertically(\"TO BE OR NOT TO BE\")"
   ]
  },
  {
   "cell_type": "markdown",
   "metadata": {},
   "source": [
    "#### Result: 16ms (79.17%)"
   ]
  }
 ],
 "metadata": {
  "kernelspec": {
   "display_name": "Python 2",
   "language": "python",
   "name": "python2"
  },
  "language_info": {
   "codemirror_mode": {
    "name": "ipython",
    "version": 2
   },
   "file_extension": ".py",
   "mimetype": "text/x-python",
   "name": "python",
   "nbconvert_exporter": "python",
   "pygments_lexer": "ipython2",
   "version": "2.7.16"
  }
 },
 "nbformat": 4,
 "nbformat_minor": 2
}
