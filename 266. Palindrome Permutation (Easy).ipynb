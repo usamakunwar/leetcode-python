{
 "cells": [
  {
   "cell_type": "markdown",
   "metadata": {},
   "source": [
    "# 266. Palindrome Permutation (Easy)"
   ]
  },
  {
   "cell_type": "markdown",
   "metadata": {},
   "source": [
    "<div><p>Given a string, determine if a permutation of the string could form a palindrome.</p>\n",
    "\n",
    "<p><strong>Example 1:</strong></p>\n",
    "\n",
    "<pre><strong>Input:</strong> <code>\"code\"</code>\n",
    "<strong>Output:</strong> false</pre>\n",
    "\n",
    "<p><strong>Example 2:</strong></p>\n",
    "\n",
    "<pre><strong>Input:</strong> <code>\"aab\"</code>\n",
    "<strong>Output:</strong> true</pre>\n",
    "\n",
    "<p><strong>Example 3:</strong></p>\n",
    "\n",
    "<pre><strong>Input:</strong> <code>\"carerac\"</code>\n",
    "<strong>Output:</strong> true</pre>\n",
    "</div>"
   ]
  },
  {
   "cell_type": "markdown",
   "metadata": {},
   "source": [
    "## Option 1\n",
    "\n",
    "Time complexity = O(n)\n",
    "<br>\n",
    "Space complexity = O()"
   ]
  },
  {
   "cell_type": "code",
   "execution_count": null,
   "metadata": {},
   "outputs": [],
   "source": [
    "import collections\n",
    "class Solution(object):\n",
    "    def canPermutePalindrome(self, s):\n",
    "        return sum(i%2 != 0 for i in collections.Counter(s).values()) == (0 if len(s)%2 == 0 else 1)\n",
    "Solution().canPermutePalindrome(\"abcddcba\")\n"
   ]
  },
  {
   "cell_type": "markdown",
   "metadata": {},
   "source": [
    "#### Result: 20ms (43.68%)"
   ]
  },
  {
   "cell_type": "markdown",
   "metadata": {},
   "source": [
    "## Option 2\n",
    "\n",
    "Shorter code below<br>\n",
    "The line above \"i%2 != 0\" is the same as \"i % 2\" (result will be 0 if it is even)<br>\n",
    "The line above \"== (0 if len(s)%2 == 0 else 1)\" is the same as  \"< 2\" <br>\n",
    "\n",
    "Time complexity = O(n)\n",
    "<br>\n",
    "Space complexity = O(1)"
   ]
  },
  {
   "cell_type": "code",
   "execution_count": null,
   "metadata": {},
   "outputs": [],
   "source": [
    "import collections\n",
    "class Solution(object):\n",
    "    def canPermutePalindrome(self, s):\n",
    "        return sum(v % 2 for v in collections.Counter(s).values()) < 2\n",
    "Solution().canPermutePalindrome(\"abcddcba\")"
   ]
  },
  {
   "cell_type": "markdown",
   "metadata": {},
   "source": [
    "#### Result: 16ms (73.35%)"
   ]
  }
 ],
 "metadata": {
  "kernelspec": {
   "display_name": "Python 2",
   "language": "python",
   "name": "python2"
  },
  "language_info": {
   "codemirror_mode": {
    "name": "ipython",
    "version": 2
   },
   "file_extension": ".py",
   "mimetype": "text/x-python",
   "name": "python",
   "nbconvert_exporter": "python",
   "pygments_lexer": "ipython2",
   "version": "2.7.16"
  }
 },
 "nbformat": 4,
 "nbformat_minor": 2
}
