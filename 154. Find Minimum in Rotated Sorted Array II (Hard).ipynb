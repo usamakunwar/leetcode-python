{
 "cells": [
  {
   "cell_type": "markdown",
   "metadata": {},
   "source": [
    "# 154. Find Minimum in Rotated Sorted Array II (Hard)\n"
   ]
  },
  {
   "cell_type": "markdown",
   "metadata": {},
   "source": [
    "<div><p>Suppose an array sorted in ascending order is rotated at some pivot unknown to you beforehand.</p>\n",
    "\n",
    "<p>(i.e., &nbsp;<code>[0,1,2,4,5,6,7]</code>&nbsp;might become &nbsp;<code>[4,5,6,7,0,1,2]</code>).</p>\n",
    "\n",
    "<p>Find the minimum element.</p>\n",
    "\n",
    "<p>The array may contain duplicates.</p>\n",
    "\n",
    "<p><strong>Example 1:</strong></p>\n",
    "\n",
    "<pre><strong>Input:</strong> [1,3,5]\n",
    "<strong>Output:</strong> 1</pre>\n",
    "\n",
    "<p><strong>Example 2:</strong></p>\n",
    "\n",
    "<pre><strong>Input:</strong> [2,2,2,0,1]\n",
    "<strong>Output:</strong> 0</pre>\n",
    "\n",
    "<p><strong>Note:</strong></p>\n",
    "\n",
    "<ul>\n",
    "\t<li>This is a follow up problem to&nbsp;<a href=\"https://leetcode.com/problems/find-minimum-in-rotated-sorted-array/description/\">Find Minimum in Rotated Sorted Array</a>.</li>\n",
    "\t<li>Would allow duplicates affect the run-time complexity? How and why?</li>\n",
    "</ul>\n",
    "</div>"
   ]
  },
  {
   "cell_type": "markdown",
   "metadata": {},
   "source": [
    "## Option 1\n",
    "\n",
    "Binary Search, when its equal we cant do anything but reduce the array (right -= 1)\n",
    "<p>\n",
    "Time complexity = O(logn) (worst case is O(n))\n",
    "<br>\n",
    "Space complexity = O(1)"
   ]
  },
  {
   "cell_type": "code",
   "execution_count": 27,
   "metadata": {
    "scrolled": true
   },
   "outputs": [
    {
     "data": {
      "text/plain": [
       "1"
      ]
     },
     "execution_count": 27,
     "metadata": {},
     "output_type": "execute_result"
    }
   ],
   "source": [
    "class Solution:\n",
    "    def findMin(self, nums: [int]) -> int:\n",
    "        left,right = 0, len(nums)-1\n",
    "        while left < right:\n",
    "            mid = (left+right)//2\n",
    "            while right > mid and nums[mid] == nums[right]:right -= 1\n",
    "            if nums[mid] > nums[right]:\n",
    "                left = mid + 1\n",
    "            else:\n",
    "                right = mid\n",
    "        return nums[left]\n",
    "Solution().findMin([3,3,1,3])"
   ]
  },
  {
   "cell_type": "markdown",
   "metadata": {},
   "source": [
    "#### Result:  112ms"
   ]
  },
  {
   "cell_type": "markdown",
   "metadata": {},
   "source": [
    "## Option 2\n",
    "\n",
    "Similar to above, but reduce the right at every search instead. This is quicker, as you perform the binary search more instead of just iterating until duplicates end. (Maybe the same runtime if all numbers are duplicates)\n",
    "<p>\n",
    "Time complexity = O(logn) (worst case is O(n))\n",
    "<br>\n",
    "Space complexity = O(1)"
   ]
  },
  {
   "cell_type": "code",
   "execution_count": 28,
   "metadata": {},
   "outputs": [
    {
     "data": {
      "text/plain": [
       "1"
      ]
     },
     "execution_count": 28,
     "metadata": {},
     "output_type": "execute_result"
    }
   ],
   "source": [
    "class Solution:\n",
    "    def findMin(self, nums: [int]) -> int:\n",
    "        left,right = 0, len(nums)-1\n",
    "        while left < right:\n",
    "            mid = (left+right)//2\n",
    "            if nums[mid] > nums[right]:\n",
    "                left = mid + 1\n",
    "            elif nums[mid] < nums[right]:\n",
    "                right = mid\n",
    "            else:\n",
    "                right -= 1\n",
    "        return nums[left]\n",
    "Solution().findMin([3,3,1,3])"
   ]
  },
  {
   "cell_type": "markdown",
   "metadata": {},
   "source": [
    "#### Result:  56ms (40.81%)"
   ]
  }
 ],
 "metadata": {
  "kernelspec": {
   "display_name": "Python 3",
   "language": "python",
   "name": "python3"
  },
  "language_info": {
   "codemirror_mode": {
    "name": "ipython",
    "version": 3
   },
   "file_extension": ".py",
   "mimetype": "text/x-python",
   "name": "python",
   "nbconvert_exporter": "python",
   "pygments_lexer": "ipython3",
   "version": "3.7.4"
  }
 },
 "nbformat": 4,
 "nbformat_minor": 2
}
