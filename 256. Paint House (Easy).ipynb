{
 "cells": [
  {
   "cell_type": "markdown",
   "metadata": {},
   "source": [
    "# 256. Paint House (Easy)"
   ]
  },
  {
   "cell_type": "markdown",
   "metadata": {},
   "source": [
    "<div><p>There are a row of <i>n</i> houses, each house can be painted with one of the three colors: red, blue or green. The cost of painting each house with a certain color is different. You have to paint all the houses such that no two adjacent houses have the same color.</p>\n",
    "\n",
    "<p>The cost of painting each house with a certain color is represented by a <code><i>n</i> x <i>3</i></code> cost matrix. For example, <code>costs[0][0]</code> is the cost of painting house 0 with color red; <code>costs[1][2]</code> is the cost of painting house 1 with color green, and so on... Find the minimum cost to paint all houses.</p>\n",
    "\n",
    "<p><b>Note:</b><br>\n",
    "All costs are positive integers.</p>\n",
    "\n",
    "<p><strong>Example:</strong></p>\n",
    "\n",
    "<pre><strong>Input:</strong> [[17,2,17],[16,16,5],[14,3,19]]\n",
    "<strong>Output:</strong> 10\n",
    "<strong>Explanation: </strong>Paint house 0 into blue, paint house 1 into green, paint house 2 into blue. \n",
    "&nbsp;            Minimum cost: 2 + 5 + 3 = 10.\n",
    "</pre>\n",
    "</div>"
   ]
  },
  {
   "cell_type": "markdown",
   "metadata": {},
   "source": [
    "## Option 1\n",
    "\n",
    "Dyanmic programming\n",
    "<p>\n",
    "Time complexity = O(n2)\n",
    "<br>\n",
    "Space complexity = O(1)"
   ]
  },
  {
   "cell_type": "code",
   "execution_count": 25,
   "metadata": {
    "scrolled": false
   },
   "outputs": [
    {
     "data": {
      "text/plain": [
       "8"
      ]
     },
     "execution_count": 25,
     "metadata": {},
     "output_type": "execute_result"
    }
   ],
   "source": [
    "class Solution:\n",
    "    def minCost(self, costs: [[int]]) -> int:\n",
    "        for i in range(len(costs)):\n",
    "            for j in range(len(costs[0])):\n",
    "                val = costs[i][j]\n",
    "                costs[i][j] = float('inf')\n",
    "                for nj in range(len(costs[0])):\n",
    "                    if j != nj: costs[i][j] = min(costs[i][j], (val + costs[i-1][nj]) if i > 0 else val) \n",
    "        return min(costs[-1]) if len(costs) > 0 and len(costs[0]) > 0 else 0\n",
    "        \n",
    "Solution().minCost([[17,2,17],[16,16,5],[100,1,200]])"
   ]
  },
  {
   "cell_type": "markdown",
   "metadata": {},
   "source": [
    "#### Result:  68ms (18.54%)"
   ]
  },
  {
   "cell_type": "markdown",
   "metadata": {},
   "source": [
    "## Option 2\n",
    "\n",
    "Dyanmic programming, shorter code below"
   ]
  },
  {
   "cell_type": "code",
   "execution_count": 26,
   "metadata": {},
   "outputs": [
    {
     "data": {
      "text/plain": [
       "8"
      ]
     },
     "execution_count": 26,
     "metadata": {},
     "output_type": "execute_result"
    }
   ],
   "source": [
    "def minCost(self, costs):\n",
    "    prev = [0] * 3\n",
    "    for now in costs:\n",
    "        prev = [now[i] + min(prev[:i] + prev[i+1:]) for i in range(3)]\n",
    "    return min(prev)   \n",
    "Solution().minCost([[17,2,17],[16,16,5],[100,1,200]])"
   ]
  }
 ],
 "metadata": {
  "kernelspec": {
   "display_name": "Python 3",
   "language": "python",
   "name": "python3"
  },
  "language_info": {
   "codemirror_mode": {
    "name": "ipython",
    "version": 3
   },
   "file_extension": ".py",
   "mimetype": "text/x-python",
   "name": "python",
   "nbconvert_exporter": "python",
   "pygments_lexer": "ipython3",
   "version": "3.7.4"
  }
 },
 "nbformat": 4,
 "nbformat_minor": 2
}
