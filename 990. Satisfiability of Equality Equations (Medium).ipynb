{
 "cells": [
  {
   "cell_type": "markdown",
   "metadata": {},
   "source": [
    "# 990. Satisfiability of Equality Equations (Medium)"
   ]
  },
  {
   "cell_type": "markdown",
   "metadata": {},
   "source": [
    "<div><p>Given an array <font face=\"monospace\">equations</font>&nbsp;of strings that represent relationships between variables, each string <code>equations[i]</code>&nbsp;has length <code>4</code> and takes one of two different forms: <code>\"a==b\"</code> or <code>\"a!=b\"</code>.&nbsp; Here, <code>a</code> and <code>b</code> are lowercase letters (not necessarily different) that represent one-letter variable names.</p>\n",
    "\n",
    "<p>Return <code>true</code>&nbsp;if and only if it is possible to assign integers to variable names&nbsp;so as to satisfy all the given equations.</p>\n",
    "\n",
    "<p>&nbsp;</p>\n",
    "\n",
    "<ol>\n",
    "</ol>\n",
    "\n",
    "<div>\n",
    "<p><strong>Example 1:</strong></p>\n",
    "\n",
    "<pre><strong>Input: </strong><span id=\"example-input-1-1\">[\"a==b\",\"b!=a\"]</span>\n",
    "<strong>Output: </strong><span id=\"example-output-1\">false</span>\n",
    "<strong>Explanation: </strong>If we assign say, a = 1 and b = 1, then the first equation is satisfied, but not the second.  There is no way to assign the variables to satisfy both equations.\n",
    "</pre>\n",
    "\n",
    "<div>\n",
    "<p><strong>Example 2:</strong></p>\n",
    "\n",
    "<pre><strong>Input: </strong><span id=\"example-input-2-1\">[\"b==a\",\"a==b\"]</span>\n",
    "<strong>Output: </strong><span id=\"example-output-2\">true</span>\n",
    "<strong>Explanation: </strong>We could assign a = 1 and b = 1 to satisfy both equations.\n",
    "</pre>\n",
    "\n",
    "<div>\n",
    "<p><strong>Example 3:</strong></p>\n",
    "\n",
    "<pre><strong>Input: </strong><span id=\"example-input-3-1\">[\"a==b\",\"b==c\",\"a==c\"]</span>\n",
    "<strong>Output: </strong><span id=\"example-output-3\">true</span>\n",
    "</pre>\n",
    "\n",
    "<div>\n",
    "<p><strong>Example 4:</strong></p>\n",
    "\n",
    "<pre><strong>Input: </strong><span id=\"example-input-4-1\">[\"a==b\",\"b!=c\",\"c==a\"]</span>\n",
    "<strong>Output: </strong><span id=\"example-output-4\">false</span>\n",
    "</pre>\n",
    "\n",
    "<div>\n",
    "<p><strong>Example 5:</strong></p>\n",
    "\n",
    "<pre><strong>Input: </strong><span id=\"example-input-5-1\">[\"c==c\",\"b==d\",\"x!=z\"]</span>\n",
    "<strong>Output: </strong><span id=\"example-output-5\">true</span>\n",
    "</pre>\n",
    "\n",
    "<p>&nbsp;</p>\n",
    "\n",
    "<p><strong>Note:</strong></p>\n",
    "\n",
    "<ol>\n",
    "\t<li><code>1 &lt;= equations.length &lt;= 500</code></li>\n",
    "\t<li><code>equations[i].length == 4</code></li>\n",
    "\t<li><code>equations[i][0]</code> and <code>equations[i][3]</code> are lowercase letters</li>\n",
    "\t<li><code>equations[i][1]</code> is either <code>'='</code> or <code>'!'</code></li>\n",
    "\t<li><code>equations[i][2]</code> is&nbsp;<code>'='</code></li>\n",
    "</ol>\n",
    "</div>\n",
    "</div>\n",
    "</div>\n",
    "</div>\n",
    "</div>\n",
    "</div>"
   ]
  },
  {
   "cell_type": "markdown",
   "metadata": {},
   "source": [
    "## Option 1\n",
    "<p>\n",
    "    DFS\n",
    "    <p>        \n",
    "<p>\n"
   ]
  },
  {
   "cell_type": "code",
   "execution_count": null,
   "metadata": {
    "scrolled": true
   },
   "outputs": [],
   "source": [
    "import collections\n",
    "class Solution(object):\n",
    "    def equationsPossible(self, equations):\n",
    "        e_map = collections.defaultdict(list)\n",
    "        for e in equations:\n",
    "            if e[0] == e[-1] and e[1] == '!': return False\n",
    "            e_map[e[0]].append((e[-1],e[1] == '='))\n",
    "            e_map[e[-1]].append((e[0],e[1] == '='))\n",
    "        \n",
    "        def search(i):\n",
    "            self.seen.add(i)\n",
    "            self.a.add(i)\n",
    "            for j,v in e_map[i]:\n",
    "                if not v: \n",
    "                    if j in self.a: return False\n",
    "                    self.b.add(j)\n",
    "                    continue\n",
    "                if j in self.b or (j not in self.a and not search(j)) :\n",
    "                    return False\n",
    "            return True\n",
    "                    \n",
    "        self.seen = set()\n",
    "        self.a = set()\n",
    "        self.b = set()\n",
    "        \n",
    "        for e in equations:\n",
    "            if e[1] == '=' and e[0] not in self.seen:\n",
    "                if not search(e[0]): return False\n",
    "                self.a.clear()\n",
    "                self.b.clear()\n",
    "            \n",
    "        return True\n",
    "            \n",
    "        \n",
    "        \n",
    "                \n",
    "Solution().equationsPossible([\"a!=a\"])"
   ]
  },
  {
   "cell_type": "markdown",
   "metadata": {},
   "source": [
    "#### Result: 32ms (82.56%)"
   ]
  }
 ],
 "metadata": {
  "kernelspec": {
   "display_name": "Python 2",
   "language": "python",
   "name": "python2"
  },
  "language_info": {
   "codemirror_mode": {
    "name": "ipython",
    "version": 2
   },
   "file_extension": ".py",
   "mimetype": "text/x-python",
   "name": "python",
   "nbconvert_exporter": "python",
   "pygments_lexer": "ipython2",
   "version": "2.7.16"
  }
 },
 "nbformat": 4,
 "nbformat_minor": 2
}
