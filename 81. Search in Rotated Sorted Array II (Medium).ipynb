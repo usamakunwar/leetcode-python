{
 "cells": [
  {
   "cell_type": "markdown",
   "metadata": {},
   "source": [
    "# 81. Search in Rotated Sorted Array II (Medium)"
   ]
  },
  {
   "cell_type": "markdown",
   "metadata": {},
   "source": [
    "<div><p>Suppose an array sorted in ascending order is rotated at some pivot unknown to you beforehand.</p>\n",
    "\n",
    "<p>(i.e., <code>[0,0,1,2,2,5,6]</code> might become <code>[2,5,6,0,0,1,2]</code>).</p>\n",
    "\n",
    "<p>You are given a target value to search. If found in the array return <code>true</code>, otherwise return <code>false</code>.</p>\n",
    "\n",
    "<p><strong>Example 1:</strong></p>\n",
    "\n",
    "<pre><strong>Input:</strong> nums = [2<code>,5,6,0,0,1,2]</code>, target = 0\n",
    "<strong>Output:</strong> true\n",
    "</pre>\n",
    "\n",
    "<p><strong>Example 2:</strong></p>\n",
    "\n",
    "<pre><strong>Input:</strong> nums = [2<code>,5,6,0,0,1,2]</code>, target = 3\n",
    "<strong>Output:</strong> false</pre>\n",
    "\n",
    "<p><strong>Follow up:</strong></p>\n",
    "\n",
    "<ul>\n",
    "\t<li>This is a follow up problem to&nbsp;<a href=\"/problems/search-in-rotated-sorted-array/description/\">Search in Rotated Sorted Array</a>, where <code>nums</code> may contain duplicates.</li>\n",
    "\t<li>Would this affect the run-time complexity? How and why?</li>\n",
    "</ul>\n",
    "</div>"
   ]
  },
  {
   "cell_type": "markdown",
   "metadata": {},
   "source": [
    "## Option 1\n",
    "<p>\n",
    "Time complexity: O(n)\n",
    "<br>\n",
    "Space complexity: O(1)"
   ]
  },
  {
   "cell_type": "code",
   "execution_count": null,
   "metadata": {
    "scrolled": true
   },
   "outputs": [],
   "source": [
    "class Solution(object):\n",
    "    def search(self, nums, target):\n",
    "        if not nums: return False\n",
    "        ln, i = len(nums)-1, 0\n",
    "        #Find the drop\n",
    "        while i < ln and nums[i] <= nums[i+1]: i += 1\n",
    "        #Pick which side to search, then do a binary search\n",
    "        l,r = (i+1,ln) if target < nums[0] else (0, i)\n",
    "        while l <= r:\n",
    "            mid = (l+r)//2\n",
    "            if nums[mid] < target:\n",
    "                l = mid + 1\n",
    "            elif nums[mid] > target:\n",
    "                r = mid - 1\n",
    "            else:\n",
    "                return True\n",
    "        return False\n",
    "            \n",
    "Solution().search([],0)\n"
   ]
  },
  {
   "cell_type": "markdown",
   "metadata": {},
   "source": [
    "#### Result: 44ms 39.93%)"
   ]
  }
 ],
 "metadata": {
  "kernelspec": {
   "display_name": "Python 2",
   "language": "python",
   "name": "python2"
  },
  "language_info": {
   "codemirror_mode": {
    "name": "ipython",
    "version": 2
   },
   "file_extension": ".py",
   "mimetype": "text/x-python",
   "name": "python",
   "nbconvert_exporter": "python",
   "pygments_lexer": "ipython2",
   "version": "2.7.16"
  }
 },
 "nbformat": 4,
 "nbformat_minor": 2
}
