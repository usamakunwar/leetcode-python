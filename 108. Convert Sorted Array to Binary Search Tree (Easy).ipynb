{
 "cells": [
  {
   "cell_type": "markdown",
   "metadata": {},
   "source": [
    "# 108. Convert Sorted Array to Binary Search Tree (Easy)"
   ]
  },
  {
   "cell_type": "markdown",
   "metadata": {},
   "source": [
    "<div><p>Given an array where elements are sorted in ascending order, convert it to a height balanced BST.</p>\n",
    "\n",
    "<p>For this problem, a height-balanced binary tree is defined as a binary tree in which the depth of the two subtrees of <em>every</em> node never differ by more than 1.</p>\n",
    "\n",
    "<p><strong>Example:</strong></p>\n",
    "\n",
    "<pre>Given the sorted array: [-10,-3,0,5,9],\n",
    "\n",
    "One possible answer is: [0,-3,9,-10,null,5], which represents the following height balanced BST:\n",
    "\n",
    "      0\n",
    "     / \\\n",
    "   -3   9\n",
    "   /   /\n",
    " -10  5\n",
    "</pre>\n",
    "</div>"
   ]
  },
  {
   "cell_type": "markdown",
   "metadata": {},
   "source": [
    "## Option 1\n",
    "  <p>\n",
    "    <li>Create an empty balanced binary tree, then fill it up with an inorder of  nums\n",
    "<p>\n",
    "    <p>\n",
    "Time complexity: O(n)\n",
    "<br>\n",
    "Space complexity: O(n) "
   ]
  },
  {
   "cell_type": "code",
   "execution_count": null,
   "metadata": {
    "scrolled": false
   },
   "outputs": [],
   "source": [
    "# Definition for a binary tree node.\n",
    "# class TreeNode(object):\n",
    "#     def __init__(self, x):\n",
    "#         self.val = x\n",
    "#         self.left = None\n",
    "#         self.right = None\n",
    "\n",
    "class Solution(object):\n",
    "    \n",
    "    def sortedArrayToBST(self, nums):\n",
    "        if not nums: return None\n",
    "        \n",
    "        self.count = len(nums)-1\n",
    "        head = node = TreeNode(0)\n",
    "        \n",
    "        #Create a blank balanced tree\n",
    "        q = [node]\n",
    "        while q:\n",
    "            new_q = []\n",
    "            for node in q:\n",
    "                if not self.count: break\n",
    "                self.count -= 1\n",
    "                node.left = TreeNode(0)\n",
    "                new_q.append(node.left)\n",
    "                \n",
    "                if not self.count: break\n",
    "                self.count -= 1                \n",
    "                node.right = TreeNode(0)\n",
    "                new_q.append(node.right)                \n",
    "            q = new_q\n",
    "        \n",
    "        #Fill in the values using LVR\n",
    "        self.i = 0\n",
    "        def lvr(node):\n",
    "            if node.left: lvr(node.left)\n",
    "            node.val = nums[self.i]\n",
    "            self.i += 1\n",
    "            if node.right: lvr(node.right)\n",
    "                \n",
    "        lvr(head)\n",
    "        \n",
    "        return head\n",
    "    "
   ]
  },
  {
   "cell_type": "markdown",
   "metadata": {},
   "source": [
    "#### Result: 68ms (30.29%)"
   ]
  },
  {
   "cell_type": "markdown",
   "metadata": {},
   "source": [
    "## Option 2\n",
    "  <p>\n",
    "    <li>Do a preorder traversal, select the mid as head\n",
    "    <p>\n",
    "\n",
    "Time complexity: O(n)\n",
    "<br>\n",
    "Space complexity: O(logn) "
   ]
  },
  {
   "cell_type": "code",
   "execution_count": null,
   "metadata": {},
   "outputs": [],
   "source": [
    "# Definition for a binary tree node.\n",
    "# class TreeNode(object):\n",
    "#     def __init__(self, x):\n",
    "#         self.val = x\n",
    "#         self.left = None\n",
    "#         self.right = None\n",
    "\n",
    "class Solution(object):\n",
    "    \n",
    "    def sortedArrayToBST(self, nums):\n",
    "        if not nums: return None        \n",
    "        def search(l,r):\n",
    "            if l > r: return None\n",
    "            \n",
    "            mid = (l+r)/2\n",
    "            node = TreeNode(nums[mid])\n",
    "            node.left = search(l,mid-1)\n",
    "            node.right = search(mid+1,r)\n",
    "            \n",
    "            return node\n",
    "                \n",
    "        return search(0, len(nums)-1)\n"
   ]
  },
  {
   "cell_type": "markdown",
   "metadata": {},
   "source": [
    "#### Result: 64ms (62.16%)\n"
   ]
  }
 ],
 "metadata": {
  "kernelspec": {
   "display_name": "Python 2",
   "language": "python",
   "name": "python2"
  },
  "language_info": {
   "codemirror_mode": {
    "name": "ipython",
    "version": 2
   },
   "file_extension": ".py",
   "mimetype": "text/x-python",
   "name": "python",
   "nbconvert_exporter": "python",
   "pygments_lexer": "ipython2",
   "version": "2.7.16"
  }
 },
 "nbformat": 4,
 "nbformat_minor": 2
}
