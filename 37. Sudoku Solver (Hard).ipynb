{
 "cells": [
  {
   "cell_type": "markdown",
   "metadata": {},
   "source": [
    "# 37. Sudoku Solver (Hard)\n",
    "\n"
   ]
  },
  {
   "cell_type": "markdown",
   "metadata": {},
   "source": [
    "<div><p>Write a program to solve a Sudoku puzzle by filling the empty cells.</p>\n",
    "\n",
    "<p>A&nbsp;sudoku solution must satisfy <strong>all of&nbsp;the following rules</strong>:</p>\n",
    "\n",
    "<ol>\n",
    "\t<li>Each of the digits&nbsp;<code>1-9</code> must occur exactly&nbsp;once in each row.</li>\n",
    "\t<li>Each of the digits&nbsp;<code>1-9</code>&nbsp;must occur&nbsp;exactly once in each column.</li>\n",
    "\t<li>Each of the the digits&nbsp;<code>1-9</code> must occur exactly once in each of the 9 <code>3x3</code> sub-boxes of the grid.</li>\n",
    "</ol>\n",
    "\n",
    "<p>Empty cells are indicated by the character <code>'.'</code>.</p>\n",
    "\n",
    "<p><img src=\"https://upload.wikimedia.org/wikipedia/commons/thumb/f/ff/Sudoku-by-L2G-20050714.svg/250px-Sudoku-by-L2G-20050714.svg.png\" style=\"height:250px; width:250px\"><br>\n",
    "<small>A sudoku puzzle...</small></p>\n",
    "\n",
    "<p><img src=\"https://upload.wikimedia.org/wikipedia/commons/thumb/3/31/Sudoku-by-L2G-20050714_solution.svg/250px-Sudoku-by-L2G-20050714_solution.svg.png\" style=\"height:250px; width:250px\"><br>\n",
    "<small>...and its solution numbers marked in red.</small></p>\n",
    "\n",
    "<p><strong>Note:</strong></p>\n",
    "\n",
    "<ul>\n",
    "\t<li>The given board&nbsp;contain only digits <code>1-9</code> and the character <code>'.'</code>.</li>\n",
    "\t<li>You may assume that the given Sudoku puzzle will have a single unique solution.</li>\n",
    "\t<li>The given board size is always <code>9x9</code>.</li>\n",
    "</ul>\n",
    "</div>"
   ]
  },
  {
   "cell_type": "markdown",
   "metadata": {},
   "source": [
    "## Option 1\n",
    "\n",
    "DFS + Backtrack"
   ]
  },
  {
   "cell_type": "code",
   "execution_count": null,
   "metadata": {
    "scrolled": false
   },
   "outputs": [],
   "source": [
    "from collections import defaultdict\n",
    "class Solution(object):\n",
    "    def solveSudoku(self, board):\n",
    "        s,S = 3,9\n",
    "        rows = [defaultdict(int) for i in range(S)]\n",
    "        cols = [defaultdict(int) for i in range(S)]\n",
    "        boxs = [defaultdict(int) for i in range(S)]\n",
    "        \n",
    "        def box_idx(i,j):\n",
    "            return (s*(i//s))+(j//s)\n",
    "        \n",
    "        def valid_(n,i,j):\n",
    "            return not (rows[i][n] > 0 or cols[j][n] > 0 or boxs[box_idx(i,j)][n] > 0)\n",
    "        \n",
    "        def set_(n,i,j):\n",
    "            board[i][j] = str(n)\n",
    "            rows[i][n] = 1\n",
    "            cols[j][n] = 1\n",
    "            boxs[box_idx(i,j)][n] = 1     \n",
    "            \n",
    "        def unset_(n,i,j):\n",
    "            board[i][j] = '.'\n",
    "            rows[i][n] = 0\n",
    "            cols[j][n] = 0\n",
    "            boxs[box_idx(i,j)][n] = 0\n",
    "        \n",
    "        for i in range(S):\n",
    "            for j in range(S):\n",
    "                if board[i][j] != '.':\n",
    "                    set_(int(board[i][j]),i,j)\n",
    "                    \n",
    "        def search(i,j):\n",
    "            #If i passes the box we are done\n",
    "            if i > (S-1): return True            \n",
    "            if board[i][j] != '.':\n",
    "                #Move i and j onwards \n",
    "                return search(i+1 if j == (S-1) else i, 0 if j == (S-1) else j+1)\n",
    "            for n in range(1,S+1):\n",
    "                if valid_(n,i,j):\n",
    "                    set_(n,i,j)\n",
    "                    s = search(i,j)\n",
    "                    if s: return True\n",
    "                    unset_(n,i,j)\n",
    "        search(0,0) \n",
    "        return board\n",
    "\n",
    "Solution().solveSudoku([[\".\",\".\",\"9\",\"7\",\"4\",\"8\",\".\",\".\",\".\"],\n",
    "                        [\"7\",\".\",\".\",\".\",\".\",\".\",\".\",\".\",\".\"],\n",
    "                        [\".\",\"2\",\".\",\"1\",\".\",\"9\",\".\",\".\",\".\"],\n",
    "                        [\".\",\".\",\"7\",\".\",\".\",\".\",\"2\",\"4\",\".\"],\n",
    "                        [\".\",\"6\",\"4\",\".\",\"1\",\".\",\"5\",\"9\",\".\"],\n",
    "                        [\".\",\"9\",\"8\",\".\",\".\",\".\",\"3\",\".\",\".\"],\n",
    "                        [\".\",\".\",\".\",\"8\",\".\",\"3\",\".\",\"2\",\".\"],\n",
    "                        [\".\",\".\",\".\",\".\",\".\",\".\",\".\",\".\",\"6\"],\n",
    "                        [\".\",\".\",\".\",\"2\",\"7\",\"5\",\"9\",\".\",\".\"]])"
   ]
  },
  {
   "cell_type": "markdown",
   "metadata": {},
   "source": [
    "#### Result: 212ms (77.63%)"
   ]
  }
 ],
 "metadata": {
  "kernelspec": {
   "display_name": "Python 2",
   "language": "python",
   "name": "python2"
  },
  "language_info": {
   "codemirror_mode": {
    "name": "ipython",
    "version": 2
   },
   "file_extension": ".py",
   "mimetype": "text/x-python",
   "name": "python",
   "nbconvert_exporter": "python",
   "pygments_lexer": "ipython2",
   "version": "2.7.16"
  }
 },
 "nbformat": 4,
 "nbformat_minor": 2
}
