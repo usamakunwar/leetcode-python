{
 "cells": [
  {
   "cell_type": "markdown",
   "metadata": {},
   "source": [
    "# 792. Number of Matching Subsequences (Medium)"
   ]
  },
  {
   "cell_type": "markdown",
   "metadata": {},
   "source": [
    "<div><p>Given string <code>S</code> and a&nbsp;dictionary of words <code>words</code>, find the number of <code>words[i]</code> that is a subsequence of <code>S</code>.</p>\n",
    "\n",
    "<pre><strong>Example :</strong>\n",
    "<strong>Input:</strong> \n",
    "S = \"abcde\"\n",
    "words = [\"a\", \"bb\", \"acd\", \"ace\"]\n",
    "<strong>Output:</strong> 3\n",
    "<strong>Explanation:</strong> There are three words in <code>words</code> that are a subsequence of <code>S</code>: \"a\", \"acd\", \"ace\".\n",
    "</pre>\n",
    "\n",
    "<p><strong>Note:</strong></p>\n",
    "\n",
    "<ul>\n",
    "\t<li>All words in <code>words</code> and <code>S</code> will only consists of lowercase letters.</li>\n",
    "\t<li>The length of <code>S</code> will be in the range of <code>[1, 50000]</code>.</li>\n",
    "\t<li>The length of <code>words</code> will be in the range of&nbsp;<code>[1, 5000]</code>.</li>\n",
    "\t<li>The length of <code>words[i]</code> will be in the range of <code>[1, 50]</code>.</li>\n",
    "</ul>\n",
    "</div>"
   ]
  },
  {
   "cell_type": "markdown",
   "metadata": {},
   "source": [
    "## Option 1\n",
    "<p>\n",
    "    <p>\n",
    "    Binary Search\n",
    " <p>\n",
    "    <li>Create a map consisting of all indexes where a character exists\n",
    "    <li>Iterate over words, checking if each character appears in the position required\n",
    "    <p>\n",
    "        <p>"
   ]
  },
  {
   "cell_type": "code",
   "execution_count": null,
   "metadata": {},
   "outputs": [],
   "source": [
    "import collections\n",
    "class Solution(object):\n",
    "    def numMatchingSubseq(self, S, words):\n",
    "        c = collections.defaultdict(list)\n",
    "        for i,v in enumerate(S):\n",
    "            c[v].append(i)\n",
    "        \n",
    "        def bs(w):\n",
    "            if not c[w[0]]: return False\n",
    "            #Take the first position (in S) of the first character\n",
    "            t = c[w[0]][0]+1\n",
    "            #The remaining characters must have positions (in S) after one another\n",
    "            for i in range(1,len(w)):\n",
    "                ch = w[i]\n",
    "                if ch not in c: return False\n",
    "                #We do a binary search to see if this character appears after the previous character\n",
    "                l,r = 0,len(c[ch])-1\n",
    "                while l < r:\n",
    "                    mid = (l+r)/2\n",
    "                    if c[ch][mid] < t:\n",
    "                        l = mid + 1\n",
    "                    else:\n",
    "                        r = mid \n",
    "                if c[ch][l] < t: return False\n",
    "                #The next character must appear after this one\n",
    "                t = c[ch][l]+1\n",
    "            return True\n",
    "        \n",
    "        return sum(bs(w)for w in words)\n",
    "    \n",
    "\n",
    "Solution().numMatchingSubseq(\"abcde\", [\"a\", \"bb\", \"acd\", \"ace\"])\n",
    "        "
   ]
  },
  {
   "cell_type": "markdown",
   "metadata": {},
   "source": [
    "#### Result: 1508ms (25.00%)\n"
   ]
  },
  {
   "cell_type": "markdown",
   "metadata": {},
   "source": [
    "## Option 2\n",
    "<p>\n",
    "    <p> Create a map with all future characters and their indexes\n",
    "    <p>\n",
    "        <p>"
   ]
  },
  {
   "cell_type": "code",
   "execution_count": null,
   "metadata": {
    "scrolled": false
   },
   "outputs": [],
   "source": [
    "import collections\n",
    "        \n",
    "class Solution(object):\n",
    "    def numMatchingSubseq(self, S, words):\n",
    "        print(iter(S))\n",
    "        #We need a blank as p[0] will contain a list of all characters including S[0]\n",
    "        S = ' '+S\n",
    "        p = [{} for i in range(len(S))]\n",
    "        \n",
    "        #We create a map, where p[i] = [list of characters after i with there indexes]\n",
    "        for i in range(len(S)-2,-1,-1):\n",
    "            p[i].update(p[i+1])\n",
    "            p[i][S[i+1]] = i+1\n",
    "        \n",
    "        #Follow indexes\n",
    "        res = 0\n",
    "        for w in words:\n",
    "            i = j = 0\n",
    "            while i < len(w) and w[i] in p[j]:\n",
    "                j = p[j][w[i]]\n",
    "                i += 1\n",
    "            res += i == len(w)\n",
    "            \n",
    "        return res\n",
    "\n",
    "Solution().numMatchingSubseq(\"dsahjpjauf\", [\"ahjpjau\",\"ja\",\"ahbwzgqnuk\",\"tnmlanowax\"])\n",
    "    "
   ]
  },
  {
   "cell_type": "markdown",
   "metadata": {},
   "source": [
    "#### Result: 1508 (24.45%)\n"
   ]
  },
  {
   "cell_type": "markdown",
   "metadata": {},
   "source": [
    "## Option 2\n",
    "<p>\n",
    "    <p>\n",
    "       Use buckets. Add words into buckets respective to their first character, then remove the first character and shift the word into the new bucket\n",
    "    <p>\n",
    "        <p>"
   ]
  },
  {
   "cell_type": "code",
   "execution_count": null,
   "metadata": {},
   "outputs": [],
   "source": [
    "import collections\n",
    "        \n",
    "class Solution(object):\n",
    "    def numMatchingSubseq(self, S, words):\n",
    "        buckets = [[] for _ in range(26)]\n",
    "        #Place words into buckets, respective to their first character\n",
    "        for w in words:\n",
    "            it = iter(w)\n",
    "            buckets[ord(next(it))-ord('a')].append(it)        \n",
    "        res = 0\n",
    "        for s in S:\n",
    "            #We need to detach buckets[idx]\n",
    "            #If we were adding to the same bucket, we would end up popping the next item \n",
    "            idx = ord(s)-ord('a')\n",
    "            curr_bucket = buckets[idx]\n",
    "            buckets[idx] = []\n",
    "            while curr_bucket:\n",
    "                it = curr_bucket.pop()\n",
    "                next_ch = next(it, None)\n",
    "                if next_ch:\n",
    "                    buckets[ord(next_ch)-ord('a')].append(it)\n",
    "                else:\n",
    "                    res += 1\n",
    "        return res\n",
    "        \n",
    "\n",
    "Solution().numMatchingSubseq(\"abcde\",[\"abc\", \"bb\", \"acd\", \"ace\"])\n",
    "    "
   ]
  },
  {
   "cell_type": "markdown",
   "metadata": {},
   "source": [
    "#### Result: 588 (66.58%)\n"
   ]
  }
 ],
 "metadata": {
  "kernelspec": {
   "display_name": "Python 2",
   "language": "python",
   "name": "python2"
  },
  "language_info": {
   "codemirror_mode": {
    "name": "ipython",
    "version": 2
   },
   "file_extension": ".py",
   "mimetype": "text/x-python",
   "name": "python",
   "nbconvert_exporter": "python",
   "pygments_lexer": "ipython2",
   "version": "2.7.16"
  }
 },
 "nbformat": 4,
 "nbformat_minor": 2
}
