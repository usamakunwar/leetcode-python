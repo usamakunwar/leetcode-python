{
 "cells": [
  {
   "cell_type": "markdown",
   "metadata": {},
   "source": [
    "# 1248. Count Number of Nice Subarrays (Medium)"
   ]
  },
  {
   "cell_type": "markdown",
   "metadata": {},
   "source": [
    "<div><p>Given an array of integers <code>nums</code> and an integer&nbsp;<code>k</code>. A<em>&nbsp;</em>subarray&nbsp;is called <strong>nice</strong>&nbsp;if there are&nbsp;<code>k</code> odd numbers on it.</p>\n",
    "\n",
    "<p>Return the number of <strong>nice</strong> sub-arrays.</p>\n",
    "\n",
    "<p>&nbsp;</p>\n",
    "<p><strong>Example 1:</strong></p>\n",
    "\n",
    "<pre><strong>Input:</strong> nums = [1,1,2,1,1], k = 3\n",
    "<strong>Output:</strong> 2\n",
    "<strong>Explanation:</strong> The only sub-arrays with 3 odd numbers are [1,1,2,1] and [1,2,1,1].\n",
    "</pre>\n",
    "\n",
    "<p><strong>Example 2:</strong></p>\n",
    "\n",
    "<pre><strong>Input:</strong> nums = [2,4,6], k = 1\n",
    "<strong>Output:</strong> 0\n",
    "<strong>Explanation:</strong> There is no odd numbers in the array.\n",
    "</pre>\n",
    "\n",
    "<p><strong>Example 3:</strong></p>\n",
    "\n",
    "<pre><strong>Input:</strong> nums = [2,2,2,1,2,2,1,2,2,2], k = 2\n",
    "<strong>Output:</strong> 16\n",
    "</pre>\n",
    "\n",
    "<p>&nbsp;</p>\n",
    "<p><strong>Constraints:</strong></p>\n",
    "\n",
    "<ul>\n",
    "\t<li><code>1 &lt;= nums.length &lt;= 50000</code></li>\n",
    "\t<li><code>1 &lt;= nums[i] &lt;= 10^5</code></li>\n",
    "\t<li><code>1 &lt;= k &lt;= nums.length</code></li>\n",
    "</ul>\n",
    "</div>"
   ]
  },
  {
   "cell_type": "markdown",
   "metadata": {},
   "source": [
    "## Option 1\n",
    "<p>\n",
    "<li> Similar to Subarray Sum\n",
    "<p>\n",
    "Time complexity = O(n)\n",
    "<br>\n",
    "Space complexity = O(n)"
   ]
  },
  {
   "cell_type": "code",
   "execution_count": null,
   "metadata": {},
   "outputs": [],
   "source": [
    "import collections\n",
    "class Solution(object):\n",
    "    def numberOfSubarrays(self, nums, k):\n",
    "        n_map, total, count = collections.Counter([0]), 0, 0\n",
    "        for num in nums:\n",
    "            total += num%2 != 0\n",
    "            if n_map[total-k] > 0:\n",
    "                count += n_map[total-k]\n",
    "            n_map[total] += 1\n",
    "        return count\n",
    "Solution().numberOfSubarrays([2,4,6],1)        "
   ]
  },
  {
   "cell_type": "markdown",
   "metadata": {},
   "source": [
    "#### Result: 1116ms (7.93%)"
   ]
  }
 ],
 "metadata": {
  "kernelspec": {
   "display_name": "Python 2",
   "language": "python",
   "name": "python2"
  },
  "language_info": {
   "codemirror_mode": {
    "name": "ipython",
    "version": 2
   },
   "file_extension": ".py",
   "mimetype": "text/x-python",
   "name": "python",
   "nbconvert_exporter": "python",
   "pygments_lexer": "ipython2",
   "version": "2.7.16"
  }
 },
 "nbformat": 4,
 "nbformat_minor": 2
}
