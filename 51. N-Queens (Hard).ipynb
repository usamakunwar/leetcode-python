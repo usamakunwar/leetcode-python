{
 "cells": [
  {
   "cell_type": "markdown",
   "metadata": {},
   "source": [
    "# 51. N-Queens (Hard)\n",
    "\n"
   ]
  },
  {
   "cell_type": "markdown",
   "metadata": {},
   "source": [
    "<div><p>The <em>n</em>-queens puzzle is the problem of placing <em>n</em> queens on an <em>n</em>×<em>n</em> chessboard such that no two queens attack each other.</p>\n",
    "\n",
    "<p><img alt=\"\" src=\"https://assets.leetcode.com/uploads/2018/10/12/8-queens.png\" style=\"width: 258px; height: 276px;\"></p>\n",
    "\n",
    "<p>Given an integer <em>n</em>, return all distinct solutions to the <em>n</em>-queens puzzle.</p>\n",
    "\n",
    "<p>Each solution contains a distinct board configuration of the <em>n</em>-queens' placement, where <code>'Q'</code> and <code>'.'</code> both indicate a queen and an empty space respectively.</p>\n",
    "\n",
    "<p><strong>Example:</strong></p>\n",
    "\n",
    "<pre><strong>Input:</strong> 4\n",
    "<strong>Output:</strong> [\n",
    " [\".Q..\",  // Solution 1\n",
    "  \"...Q\",\n",
    "  \"Q...\",\n",
    "  \"..Q.\"],\n",
    "\n",
    " [\"..Q.\",  // Solution 2\n",
    "  \"Q...\",\n",
    "  \"...Q\",\n",
    "  \".Q..\"]\n",
    "]\n",
    "<strong>Explanation:</strong> There exist two distinct solutions to the 4-queens puzzle as shown above.\n",
    "</pre>\n",
    "</div>"
   ]
  },
  {
   "cell_type": "markdown",
   "metadata": {},
   "source": [
    "## Option 1\n",
    "\n",
    "DFS + Backtrack\n",
    "<li>Ups and Downs are upward diagnols and downward diagnols"
   ]
  },
  {
   "cell_type": "code",
   "execution_count": null,
   "metadata": {
    "scrolled": false
   },
   "outputs": [],
   "source": [
    "import collections\n",
    "class Solution(object):\n",
    "    def solveNQueens(self, n):\n",
    "        def search(row, cols, ups, downs, curr):\n",
    "            if row == n:\n",
    "                return [curr]\n",
    "            res = []\n",
    "            for col in range(n):               \n",
    "                up,down = row+col, row-col\n",
    "                if cols[col] or ups[up] or downs[down]: continue\n",
    "                s = '.'*(col)+'Q'+'.'*(n-col-1)\n",
    "                #position queen\n",
    "                cols[col]=ups[up]=downs[down]= 1\n",
    "                res += search(row+1, cols, ups, downs, curr+[s])\n",
    "                #Rest the change, (ie. move queen back)\n",
    "                cols[col]=ups[up]=downs[down]= 0\n",
    "            return res                \n",
    "        return search(0,[0]*n,[0]*(2*n-1),[0]*(2*n-1),[])\n",
    "\n",
    "Solution().solveNQueens(4)"
   ]
  },
  {
   "cell_type": "markdown",
   "metadata": {},
   "source": [
    "#### Result: 44ms (86.72%)"
   ]
  }
 ],
 "metadata": {
  "kernelspec": {
   "display_name": "Python 2",
   "language": "python",
   "name": "python2"
  },
  "language_info": {
   "codemirror_mode": {
    "name": "ipython",
    "version": 2
   },
   "file_extension": ".py",
   "mimetype": "text/x-python",
   "name": "python",
   "nbconvert_exporter": "python",
   "pygments_lexer": "ipython2",
   "version": "2.7.16"
  }
 },
 "nbformat": 4,
 "nbformat_minor": 2
}
