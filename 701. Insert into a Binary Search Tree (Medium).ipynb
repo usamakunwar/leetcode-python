{
 "cells": [
  {
   "cell_type": "markdown",
   "metadata": {},
   "source": [
    "# 701. Insert into a Binary Search Tree\n"
   ]
  },
  {
   "cell_type": "markdown",
   "metadata": {},
   "source": [
    "<div><p>Given the root node of a binary search tree (BST) and a value to be inserted into the tree,&nbsp;insert the value into the BST. Return the root node of the BST after the insertion. It is guaranteed that the new value does not exist in the original BST.</p>\n",
    "\n",
    "<p>Note that there may exist&nbsp;multiple valid ways for the&nbsp;insertion, as long as the tree remains a BST after insertion. You can return any of them.</p>\n",
    "\n",
    "<p>For example,&nbsp;</p>\n",
    "\n",
    "<pre>Given the tree:\n",
    "        4\n",
    "       / \\\n",
    "      2   7\n",
    "     / \\\n",
    "    1   3\n",
    "And the value to insert: 5\n",
    "</pre>\n",
    "\n",
    "<p>You can return this binary search tree:</p>\n",
    "\n",
    "<pre>         4\n",
    "       /   \\\n",
    "      2     7\n",
    "     / \\   /\n",
    "    1   3 5\n",
    "</pre>\n",
    "\n",
    "<p>This tree is also valid:</p>\n",
    "\n",
    "<pre>         5\n",
    "       /   \\\n",
    "      2     7\n",
    "     / \\   \n",
    "    1   3\n",
    "         \\\n",
    "          4\n",
    "</pre>\n",
    "</div>"
   ]
  },
  {
   "cell_type": "markdown",
   "metadata": {},
   "source": [
    "## Option 1\n",
    "\n",
    "Recursive\n",
    "<p>\n",
    "Time complexity = O(logn) average O(n) worst\n",
    "<br>\n",
    "Space complexity = O(logn) average O(n) worst"
   ]
  },
  {
   "cell_type": "code",
   "execution_count": 34,
   "metadata": {
    "scrolled": false
   },
   "outputs": [
    {
     "data": {
      "text/plain": [
       "15"
      ]
     },
     "execution_count": 34,
     "metadata": {},
     "output_type": "execute_result"
    }
   ],
   "source": [
    "# Definition for a binary tree node.\n",
    "# class TreeNode:\n",
    "#     def __init__(self, x):\n",
    "#         self.val = x\n",
    "#         self.left = None\n",
    "#         self.right = None\n",
    "\n",
    "class Solution:\n",
    "    def insertIntoBST(self, root: TreeNode, val: int) -> TreeNode:\n",
    "        def check(node):\n",
    "            if not node:\n",
    "                return TreeNode(val)\n",
    "            elif val > node.val:\n",
    "                node.right = dfs(node.right)\n",
    "            else:\n",
    "                node.left = dfs(node.left)\n",
    "            return node        \n",
    "        return check(root)"
   ]
  },
  {
   "cell_type": "markdown",
   "metadata": {},
   "source": [
    "#### Result:  144ms (7.00%)"
   ]
  }
 ],
 "metadata": {
  "kernelspec": {
   "display_name": "Python 3",
   "language": "python",
   "name": "python3"
  },
  "language_info": {
   "codemirror_mode": {
    "name": "ipython",
    "version": 3
   },
   "file_extension": ".py",
   "mimetype": "text/x-python",
   "name": "python",
   "nbconvert_exporter": "python",
   "pygments_lexer": "ipython3",
   "version": "3.7.4"
  }
 },
 "nbformat": 4,
 "nbformat_minor": 2
}
