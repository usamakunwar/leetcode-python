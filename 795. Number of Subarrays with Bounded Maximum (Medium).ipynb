{
 "cells": [
  {
   "cell_type": "markdown",
   "metadata": {},
   "source": [
    "# 795. Number of Subarrays with Bounded Maximum (Medium)"
   ]
  },
  {
   "cell_type": "markdown",
   "metadata": {},
   "source": [
    "<div><p>We are given an array <code>A</code> of positive integers, and two positive integers <code>L</code> and <code>R</code> (<code>L &lt;= R</code>).</p>\n",
    "\n",
    "<p>Return the number of (contiguous, non-empty) subarrays such that the value of the maximum array element in that subarray is at least <code>L</code> and at most <code>R</code>.</p>\n",
    "\n",
    "<pre><strong>Example :</strong>\n",
    "<strong>Input:</strong> \n",
    "A = [2, 1, 4, 3]\n",
    "L = 2\n",
    "R = 3\n",
    "<strong>Output:</strong> 3\n",
    "<strong>Explanation:</strong> There are three subarrays that meet the requirements: [2], [2, 1], [3].\n",
    "</pre>\n",
    "\n",
    "<p><strong>Note:</strong></p>\n",
    "\n",
    "<ul>\n",
    "\t<li>L, R&nbsp; and <code>A[i]</code> will be an integer in the range <code>[0, 10^9]</code>.</li>\n",
    "\t<li>The length of <code>A</code> will be in the range of <code>[1, 50000]</code>.</li>\n",
    "</ul>\n",
    "</div>"
   ]
  },
  {
   "cell_type": "markdown",
   "metadata": {},
   "source": [
    "## Option 1\n",
    "<p>\n",
    "    Sliding Window\n",
    "    <p>\n",
    "<li>Expand the window if the within the ceiling (R)\n",
    "<li>Accumulate the size of the window for total number of sub arrays\n",
    "<li>Within the total no. of sub arrays, there are some that cannot be made - values less than L\n",
    "<p>\n",
    "    <p>\n",
    "Time complexity: O(n)\n",
    "<br>\n",
    "Space complexity: O(1)"
   ]
  },
  {
   "cell_type": "code",
   "execution_count": null,
   "metadata": {
    "scrolled": true
   },
   "outputs": [],
   "source": [
    "class Solution(object):\n",
    "    def numSubarrayBoundedMax(self, A, L, R):\n",
    "        res,left = 0,0\n",
    "        reduce_count = 0 #the number of contiguous elements within the window that are less than L\n",
    "        to_reduce = 0 #the total to reduce, including single elements and contiguous\n",
    "        for i,v in enumerate(A):\n",
    "            if v <= R:\n",
    "                reduce_count = reduce_count + 1 if v < L else 0\n",
    "                to_reduce += reduce_count\n",
    "                res += i-left+1\n",
    "            else:\n",
    "                reduce_count = 0\n",
    "                left = i+1\n",
    "        print(res)\n",
    "        return res-to_reduce\n",
    "\n",
    "Solution().numSubarrayBoundedMax([3,2,1,1,1,1,1,2,1],2,4)\n",
    "        "
   ]
  },
  {
   "cell_type": "markdown",
   "metadata": {},
   "source": [
    "#### Result: 320ms (45.28%)"
   ]
  },
  {
   "cell_type": "markdown",
   "metadata": {},
   "source": [
    "## Option 2\n",
    "<p>\n",
    "A sliding window is unnecessary as we can calculate the number of subarrays by simply accummulating the count\n",
    "    <p>\n",
    "Time complexity: O(n)\n",
    "<br>\n",
    "Space complexity: O(1)"
   ]
  },
  {
   "cell_type": "code",
   "execution_count": null,
   "metadata": {},
   "outputs": [],
   "source": [
    "class Solution(object):\n",
    "    def numSubarrayBoundedMax(self, A, L, R):\n",
    "        res=res_count=red=red_count=0\n",
    "        for i,v in enumerate(A):\n",
    "            res_count = res_count + 1 if v <= R else 0\n",
    "            red_count = red_count + 1 if v < L else 0\n",
    "            res += res_count\n",
    "            red += red_count\n",
    "        return res-red\n",
    "\n",
    "Solution().numSubarrayBoundedMax([3,2,1,1,1,1,1,2,1],2,4)\n",
    "        "
   ]
  },
  {
   "cell_type": "markdown",
   "metadata": {},
   "source": [
    "#### Result: 324ms (39.62%)"
   ]
  }
 ],
 "metadata": {
  "kernelspec": {
   "display_name": "Python 2",
   "language": "python",
   "name": "python2"
  },
  "language_info": {
   "codemirror_mode": {
    "name": "ipython",
    "version": 2
   },
   "file_extension": ".py",
   "mimetype": "text/x-python",
   "name": "python",
   "nbconvert_exporter": "python",
   "pygments_lexer": "ipython2",
   "version": "2.7.16"
  }
 },
 "nbformat": 4,
 "nbformat_minor": 2
}
