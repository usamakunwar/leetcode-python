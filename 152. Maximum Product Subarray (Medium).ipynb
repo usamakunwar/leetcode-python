{
 "cells": [
  {
   "cell_type": "markdown",
   "metadata": {},
   "source": [
    "# 152. Maximum Product Subarray (Medium)"
   ]
  },
  {
   "cell_type": "markdown",
   "metadata": {},
   "source": [
    "<div><p>Given an integer array&nbsp;<code>nums</code>, find the contiguous subarray within an array (containing at least one number) which has the largest product.</p>\n",
    "\n",
    "<p><strong>Example 1:</strong></p>\n",
    "\n",
    "<pre><strong>Input:</strong> [2,3,-2,4]\n",
    "<strong>Output:</strong> <code>6</code>\n",
    "<strong>Explanation:</strong>&nbsp;[2,3] has the largest product 6.\n",
    "</pre>\n",
    "\n",
    "<p><strong>Example 2:</strong></p>\n",
    "\n",
    "<pre><strong>Input:</strong> [-2,0,-1]\n",
    "<strong>Output:</strong> 0\n",
    "<strong>Explanation:</strong>&nbsp;The result cannot be 2, because [-2,-1] is not a subarray.</pre>\n",
    "</div>"
   ]
  },
  {
   "cell_type": "markdown",
   "metadata": {},
   "source": [
    "## Option 1\n",
    "<p>\n",
    "<li>Between every two zeros the sum of all products is always the maximum, unless there are an odd number of negatives\n",
    "<li>An odd number of negatives means we can get a higher result for an internal subarray if we reduce the subarray to contain 1 less negative\n",
    "<li>The only subarray with 1 less negative we haven't accounted for (whilst iterating) is the suffix subarray, after the first negative, so keep a track of that value (fnc) and divide by it at the end\n",
    "<p>\n",
    "    <p>\n",
    "Time complexity: O(n)\n",
    "<br>\n",
    "Space complexity: O(1)"
   ]
  },
  {
   "cell_type": "code",
   "execution_count": null,
   "metadata": {},
   "outputs": [],
   "source": [
    "class Solution(object):\n",
    "    def maxProduct(self, nums):\n",
    "        if not nums: return 0\n",
    "        res = float('-inf')\n",
    "        #Current total product\n",
    "        curr = 1\n",
    "        #Size of the window between 2 zeros\n",
    "        window = -1 \n",
    "        #First negative current, between 2 zeros\n",
    "        fnc = float('-inf')\n",
    "        for n in nums:\n",
    "            if n == 0:\n",
    "                res = max(res,0, curr/fnc if window else 0)\n",
    "                fnc, curr, window = float('-inf'), 1, -1\n",
    "            else:\n",
    "                window += 1\n",
    "                curr *= n\n",
    "                res = max(res,curr)\n",
    "                if curr < 0 and fnc == float('-inf'):\n",
    "                    fnc = curr\n",
    "                    \n",
    "        #There maybe no zeros so set max again here\n",
    "        return max(res, curr/fnc if window else res)\n",
    "\n",
    "Solution().maxProduct([2,4,-8,-1,7,4,2,-4,8,9])"
   ]
  },
  {
   "cell_type": "markdown",
   "metadata": {},
   "source": [
    "#### Result: 40ms (68.79%)\n"
   ]
  },
  {
   "cell_type": "markdown",
   "metadata": {},
   "source": [
    "## Option 2\n",
    "<p>\n",
    "<li>We can have a significantly more concise solution\n",
    "<li>Firstly, use the array to store the curr product. And for the suffix, we can do a reverse product at the same time!\n",
    "    <p>\n",
    "        <p>\n",
    "Time complexity: O(n)\n",
    "<br>\n",
    "Space complexity: O(1)"
   ]
  },
  {
   "cell_type": "code",
   "execution_count": null,
   "metadata": {},
   "outputs": [],
   "source": [
    "class Solution(object):\n",
    "    def maxProduct(self, nums):\n",
    "        rev = nums[::-1]\n",
    "        for i in range(1,len(nums)):\n",
    "            nums[i] *= nums[i-1] or 1\n",
    "            rev[i] *= rev[i-1] or 1       \n",
    "        return max(nums+rev)\n",
    "\n",
    "Solution().maxProduct([2,4,-8,-1,7,4,2,-4,8,9])"
   ]
  },
  {
   "cell_type": "markdown",
   "metadata": {},
   "source": [
    "#### Result: 40ms (68.79%)\n"
   ]
  }
 ],
 "metadata": {
  "kernelspec": {
   "display_name": "Python 2",
   "language": "python",
   "name": "python2"
  },
  "language_info": {
   "codemirror_mode": {
    "name": "ipython",
    "version": 2
   },
   "file_extension": ".py",
   "mimetype": "text/x-python",
   "name": "python",
   "nbconvert_exporter": "python",
   "pygments_lexer": "ipython2",
   "version": "2.7.16"
  }
 },
 "nbformat": 4,
 "nbformat_minor": 2
}
