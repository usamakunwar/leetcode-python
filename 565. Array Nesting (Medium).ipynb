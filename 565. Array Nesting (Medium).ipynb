{
 "cells": [
  {
   "cell_type": "markdown",
   "metadata": {},
   "source": [
    "# 565. Array Nesting (Medium)\n"
   ]
  },
  {
   "cell_type": "markdown",
   "metadata": {},
   "source": [
    "<div><p>A zero-indexed array A of length N contains all integers from 0 to N-1. Find and return the longest length of set S, where S[i] = {A[i], A[A[i]], A[A[A[i]]], ... } subjected to the rule below.</p>\n",
    "\n",
    "<p>Suppose the first element in S starts with the selection of element A[i] of index = i, the next element in S should be A[A[i]], and then A[A[A[i]]]… By that analogy, we stop adding right before a duplicate element occurs in S.</p>\n",
    "\n",
    "<p>&nbsp;</p>\n",
    "\n",
    "<p><b>Example 1:</b></p>\n",
    "\n",
    "<pre><b>Input:</b> A = [5,4,0,3,1,6,2]\n",
    "<b>Output:</b> 4\n",
    "<b>Explanation:</b> \n",
    "A[0] = 5, A[1] = 4, A[2] = 0, A[3] = 3, A[4] = 1, A[5] = 6, A[6] = 2.\n",
    "\n",
    "One of the longest S[K]:\n",
    "S[0] = {A[0], A[5], A[6], A[2]} = {5, 6, 2, 0}\n",
    "</pre>\n",
    "\n",
    "<p>&nbsp;</p>\n",
    "\n",
    "<p><b>Note:</b></p>\n",
    "\n",
    "<ol>\n",
    "\t<li>N is an integer within the range [1, 20,000].</li>\n",
    "\t<li>The elements of A are all distinct.</li>\n",
    "\t<li>Each element of A is an integer within the range [0, N-1].</li>\n",
    "</ol>\n",
    "</div>"
   ]
  },
  {
   "cell_type": "markdown",
   "metadata": {},
   "source": [
    "## Option 1\n",
    "\n",
    "Recursive\n",
    "<p>\n",
    "Time complexity = O(n)\n",
    "<br>\n",
    "Space complexity = O(n)"
   ]
  },
  {
   "cell_type": "code",
   "execution_count": 25,
   "metadata": {
    "scrolled": true
   },
   "outputs": [
    {
     "data": {
      "text/plain": [
       "7"
      ]
     },
     "execution_count": 25,
     "metadata": {},
     "output_type": "execute_result"
    }
   ],
   "source": [
    "class Solution:\n",
    "    def arrayNesting(self, nums: [int]) -> int:\n",
    "        def check(i):\n",
    "            if nums[i] >= 0:\n",
    "                val, nums[i] = nums[i], -1\n",
    "                return check(val) + 1\n",
    "            return 0\n",
    "        max_len = 0\n",
    "        for num in nums: max_len = max(max_len,check(num))\n",
    "        return max_len        \n",
    "\n",
    "        \n",
    "Solution().arrayNesting([5,4,0,3,1,7,2,8,9,6])"
   ]
  },
  {
   "cell_type": "markdown",
   "metadata": {},
   "source": [
    "#### Result:  132ms (25.96%)"
   ]
  },
  {
   "cell_type": "markdown",
   "metadata": {},
   "source": [
    "## Option 2\n",
    "\n",
    "Iterative\n",
    "<p>\n",
    "Time complexity = O(n)\n",
    "<br>\n",
    "Space complexity = O(1)"
   ]
  },
  {
   "cell_type": "code",
   "execution_count": 28,
   "metadata": {},
   "outputs": [
    {
     "data": {
      "text/plain": [
       "7"
      ]
     },
     "execution_count": 28,
     "metadata": {},
     "output_type": "execute_result"
    }
   ],
   "source": [
    "class Solution:\n",
    "    def arrayNesting(self, nums: [int]) -> int:\n",
    "        max_len = 0\n",
    "        for num in nums: \n",
    "            count = 0\n",
    "            while nums[num] >= 0:\n",
    "                count += 1\n",
    "                val, nums[num] = nums[num], -1\n",
    "                num = val                \n",
    "            max_len = max(max_len,count)\n",
    "        return max_len        \n",
    "Solution().arrayNesting([5,4,0,3,1,7,2,8,9,6])"
   ]
  },
  {
   "cell_type": "markdown",
   "metadata": {},
   "source": [
    "#### Result:  252ms (5.07%)"
   ]
  }
 ],
 "metadata": {
  "kernelspec": {
   "display_name": "Python 3",
   "language": "python",
   "name": "python3"
  },
  "language_info": {
   "codemirror_mode": {
    "name": "ipython",
    "version": 3
   },
   "file_extension": ".py",
   "mimetype": "text/x-python",
   "name": "python",
   "nbconvert_exporter": "python",
   "pygments_lexer": "ipython3",
   "version": "3.7.4"
  }
 },
 "nbformat": 4,
 "nbformat_minor": 2
}
