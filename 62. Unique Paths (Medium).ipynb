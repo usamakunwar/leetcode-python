{
 "cells": [
  {
   "cell_type": "markdown",
   "metadata": {},
   "source": [
    "# 62. Unique Paths (Medium)"
   ]
  },
  {
   "cell_type": "markdown",
   "metadata": {},
   "source": [
    "<div><p>A robot is located at the top-left corner of a <em>m</em> x <em>n</em> grid (marked 'Start' in the diagram below).</p>\n",
    "\n",
    "<p>The robot can only move either down or right at any point in time. The robot is trying to reach the bottom-right corner of the grid (marked 'Finish' in the diagram below).</p>\n",
    "\n",
    "<p>How many possible unique paths are there?</p>\n",
    "\n",
    "<p><img src=\"https://assets.leetcode.com/uploads/2018/10/22/robot_maze.png\" style=\"width: 400px; height: 183px;\"><br>\n",
    "<small>Above is a 7 x 3 grid. How many possible unique paths are there?</small></p>\n",
    "\n",
    "<p><strong>Note:</strong> <em>m</em> and <em>n</em> will be at most 100.</p>\n",
    "\n",
    "<p><strong>Example 1:</strong></p>\n",
    "\n",
    "<pre><strong>Input:</strong> m = 3, n = 2\n",
    "<strong>Output:</strong> 3\n",
    "<strong>Explanation:</strong>\n",
    "From the top-left corner, there are a total of 3 ways to reach the bottom-right corner:\n",
    "1. Right -&gt; Right -&gt; Down\n",
    "2. Right -&gt; Down -&gt; Right\n",
    "3. Down -&gt; Right -&gt; Right\n",
    "</pre>\n",
    "\n",
    "<p><strong>Example 2:</strong></p>\n",
    "\n",
    "<pre><strong>Input:</strong> m = 7, n = 3\n",
    "<strong>Output:</strong> 28</pre>\n",
    "</div>"
   ]
  },
  {
   "cell_type": "markdown",
   "metadata": {},
   "source": [
    "## Option 1\n",
    "\n",
    "Dynamic Programming, e.g. number of paths to a 3x2 can be made from 2x2 + 3x1\n",
    "<p>\n",
    "Time complexity = O(mn)\n",
    "<br>\n",
    "Space complexity = O(mn)"
   ]
  },
  {
   "cell_type": "code",
   "execution_count": 53,
   "metadata": {
    "scrolled": false
   },
   "outputs": [
    {
     "data": {
      "text/plain": [
       "28"
      ]
     },
     "execution_count": 53,
     "metadata": {},
     "output_type": "execute_result"
    }
   ],
   "source": [
    "import collections\n",
    "class Solution:\n",
    "    def uniquePaths(self, m: int, n: int) -> int:\n",
    "        k = []\n",
    "        for i in range(m):\n",
    "            k.append([])\n",
    "            for j in range(n):\n",
    "                if i == 0 and j == 0: \n",
    "                    k[i].append(1)\n",
    "                    continue;\n",
    "                a = k[i-1][j] if i >= 1 else 0\n",
    "                b = k[i][j-1] if j >= 1 else 0\n",
    "                k[i].append(a+b)\n",
    "        return k[m-1][n-1]\n",
    "        \n",
    "Solution().uniquePaths(7,3)"
   ]
  },
  {
   "cell_type": "markdown",
   "metadata": {},
   "source": [
    "#### Result:  28ms (93.71%)"
   ]
  }
 ],
 "metadata": {
  "kernelspec": {
   "display_name": "Python 3",
   "language": "python",
   "name": "python3"
  },
  "language_info": {
   "codemirror_mode": {
    "name": "ipython",
    "version": 3
   },
   "file_extension": ".py",
   "mimetype": "text/x-python",
   "name": "python",
   "nbconvert_exporter": "python",
   "pygments_lexer": "ipython3",
   "version": "3.7.4"
  }
 },
 "nbformat": 4,
 "nbformat_minor": 2
}
