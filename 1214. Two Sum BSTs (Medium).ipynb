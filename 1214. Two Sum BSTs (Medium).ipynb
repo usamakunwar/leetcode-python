{
 "cells": [
  {
   "cell_type": "markdown",
   "metadata": {},
   "source": [
    "# 1214. Two Sum BSTs (Medium)"
   ]
  },
  {
   "cell_type": "markdown",
   "metadata": {},
   "source": [
    "<div><p>Given two binary search trees, return <code>True</code>&nbsp;if and only if there is a node in the first tree and a node in the second tree whose values&nbsp;sum up to a given integer&nbsp;<code>target</code>.</p>\n",
    "\n",
    "<p>&nbsp;</p>\n",
    "<p><strong>Example 1:</strong></p>\n",
    "\n",
    "<p><strong><img alt=\"\" src=\"https://assets.leetcode.com/uploads/2019/05/31/1368_1_a2.png\" style=\"width: 150px; height: 140px;\"><img alt=\"\" src=\"https://assets.leetcode.com/uploads/2019/05/31/1368_1_b.png\" style=\"width: 150px; height: 136px;\"></strong></p>\n",
    "\n",
    "<pre><strong>Input:</strong> root1 = [2,1,4], root2 = [1,0,3], target = 5\n",
    "<strong>Output:</strong> true\n",
    "<strong>Explanation: </strong>2 and 3 sum up to 5.\n",
    "</pre>\n",
    "\n",
    "<p><strong>Example 2:</strong></p>\n",
    "\n",
    "<p><strong><img alt=\"\" src=\"https://assets.leetcode.com/uploads/2019/05/31/1368_2_a.png\" style=\"width: 150px; height: 137px;\"><img alt=\"\" src=\"https://assets.leetcode.com/uploads/2019/05/31/1368_2_b.png\" style=\"width: 150px; height: 168px;\"></strong></p>\n",
    "\n",
    "<pre><strong>Input:</strong> root1 = [0,-10,10], root2 = [5,1,7,0,2], target = 18\n",
    "<strong>Output:</strong> false\n",
    "</pre>\n",
    "\n",
    "<p>&nbsp;</p>\n",
    "<p><strong>Constraints:</strong></p>\n",
    "\n",
    "<ul>\n",
    "\t<li>Each tree has at most <code>5000</code> nodes.</li>\n",
    "\t<li><code>-10^9 &lt;= target, node.val &lt;= 10^9</code></li>\n",
    "</ul>\n",
    "</div>"
   ]
  },
  {
   "cell_type": "markdown",
   "metadata": {},
   "source": [
    "## Option 1\n",
    "\n",
    "Time complexity: O(nlogn)\n",
    "<br>\n",
    "Space complexity: O(n) "
   ]
  },
  {
   "cell_type": "code",
   "execution_count": null,
   "metadata": {},
   "outputs": [],
   "source": [
    "# Definition for a binary tree node.\n",
    "# class TreeNode(object):\n",
    "#     def __init__(self, x):\n",
    "#         self.val = x\n",
    "#         self.left = None\n",
    "#         self.right = None\n",
    "\n",
    "class Solution(object):\n",
    "    def twoSumBSTs(self, root1, root2, target):\n",
    "\n",
    "        def search(node):\n",
    "            t = target-node.val\n",
    "            curr = root2\n",
    "            while curr:\n",
    "                if curr.val > t:\n",
    "                    curr = curr.left\n",
    "                elif curr.val < t :\n",
    "                    curr = curr.right\n",
    "                else:\n",
    "                    return True\n",
    "            \n",
    "            left = search(node.left) if node.left else False \n",
    "            right = search(node.right) if node.right else False\n",
    "            \n",
    "            return left or right\n",
    "        \n",
    "        return search(root1)\n"
   ]
  },
  {
   "cell_type": "markdown",
   "metadata": {},
   "source": [
    "#### Result: 128ms (23.28%)\n"
   ]
  }
 ],
 "metadata": {
  "kernelspec": {
   "display_name": "Python 2",
   "language": "python",
   "name": "python2"
  },
  "language_info": {
   "codemirror_mode": {
    "name": "ipython",
    "version": 2
   },
   "file_extension": ".py",
   "mimetype": "text/x-python",
   "name": "python",
   "nbconvert_exporter": "python",
   "pygments_lexer": "ipython2",
   "version": "2.7.16"
  }
 },
 "nbformat": 4,
 "nbformat_minor": 2
}
