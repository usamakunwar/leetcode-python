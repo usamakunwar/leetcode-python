{
 "cells": [
  {
   "cell_type": "markdown",
   "metadata": {},
   "source": [
    "# 783. Minimum Distance Between BST Nodes (Easy)"
   ]
  },
  {
   "cell_type": "markdown",
   "metadata": {},
   "source": [
    "<div><p>Given a Binary Search Tree (BST) with the root node <code>root</code>, return&nbsp;the minimum difference between the values of any two different nodes in the tree.</p>\n",
    "\n",
    "<p><strong>Example :</strong></p>\n",
    "\n",
    "<pre><strong>Input:</strong> root = [4,2,6,1,3,null,null]\n",
    "<strong>Output:</strong> 1\n",
    "<strong>Explanation:</strong>\n",
    "Note that root is a TreeNode object, not an array.\n",
    "\n",
    "The given tree [4,2,6,1,3,null,null] is represented by the following diagram:\n",
    "\n",
    "          4\n",
    "        /   \\\n",
    "      2      6\n",
    "     / \\    \n",
    "    1   3  \n",
    "\n",
    "while the minimum difference in this tree is 1, it occurs between node 1 and node 2, also between node 3 and node 2.\n",
    "</pre>\n",
    "\n",
    "<p><strong>Note:</strong></p>\n",
    "\n",
    "<ol>\n",
    "\t<li>The size of the BST will be between 2 and&nbsp;<code>100</code>.</li>\n",
    "\t<li>The BST is always valid, each node's value is an integer, and each node's value is different.</li>\n",
    "\t<li>This question is the same as 530:&nbsp;<a href=\"https://leetcode.com/problems/minimum-absolute-difference-in-bst/\">https://leetcode.com/problems/minimum-absolute-difference-in-bst/</a></li>\n",
    "</ol>\n",
    "</div>"
   ]
  },
  {
   "cell_type": "markdown",
   "metadata": {},
   "source": [
    "## Option 1\n",
    "\n",
    "<p>DFS LVR\n",
    "  <p>\n",
    "Time complexity: O(n)\n",
    "<br>\n",
    "Space complexity: O(h) tree height"
   ]
  },
  {
   "cell_type": "code",
   "execution_count": null,
   "metadata": {
    "scrolled": false
   },
   "outputs": [],
   "source": [
    "# Definition for a binary tree node.\n",
    "# class TreeNode(object):\n",
    "#     def __init__(self, x):\n",
    "#         self.val = x\n",
    "#         self.left = None\n",
    "#         self.right = None\n",
    "\n",
    "class Solution(object):\n",
    "    def minDiffInBST(self, root):\n",
    "        self.res = float('inf')\n",
    "        self.last = None\n",
    "        \n",
    "        def search(node):\n",
    "            if node.left: search(node.left)\n",
    "            if self.last:\n",
    "                self.res = min(self.res, abs(node.val-self.last))\n",
    "            self.last = node.val\n",
    "            if node.right: search(node.right)\n",
    "                \n",
    "        search(root)\n",
    "        \n",
    "        return self.res"
   ]
  },
  {
   "cell_type": "markdown",
   "metadata": {},
   "source": [
    "#### Result: 208ms (92.54%)"
   ]
  }
 ],
 "metadata": {
  "kernelspec": {
   "display_name": "Python 2",
   "language": "python",
   "name": "python2"
  },
  "language_info": {
   "codemirror_mode": {
    "name": "ipython",
    "version": 2
   },
   "file_extension": ".py",
   "mimetype": "text/x-python",
   "name": "python",
   "nbconvert_exporter": "python",
   "pygments_lexer": "ipython2",
   "version": "2.7.16"
  }
 },
 "nbformat": 4,
 "nbformat_minor": 2
}
