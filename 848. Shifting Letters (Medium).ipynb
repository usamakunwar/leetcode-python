{
 "cells": [
  {
   "cell_type": "markdown",
   "metadata": {},
   "source": [
    "# 848. Shifting Letters (Medium)"
   ]
  },
  {
   "cell_type": "markdown",
   "metadata": {},
   "source": [
    "<div><p>We have a string <code>S</code> of lowercase letters, and an integer array <code>shifts</code>.</p>\n",
    "\n",
    "<p>Call the <em>shift</em> of a letter, the next letter in the alphabet, (wrapping around so that <code>'z'</code> becomes <code>'a'</code>).&nbsp;</p>\n",
    "\n",
    "<p>For example, <code>shift('a') = 'b'</code>, <code>shift('t') = 'u'</code>, and <code>shift('z') = 'a'</code>.</p>\n",
    "\n",
    "<p>Now for each <code>shifts[i] = x</code>, we want to shift the first <code>i+1</code>&nbsp;letters of <code>S</code>, <code>x</code> times.</p>\n",
    "\n",
    "<p>Return the final string&nbsp;after all such shifts to <code>S</code> are applied.</p>\n",
    "\n",
    "<p><strong>Example 1:</strong></p>\n",
    "\n",
    "<pre><strong>Input: </strong>S = \"abc\", shifts = [3,5,9]\n",
    "<strong>Output: </strong>\"rpl\"\n",
    "<strong>Explanation: </strong>\n",
    "We start with \"abc\".\n",
    "After shifting the first 1 letters of S by 3, we have \"dbc\".\n",
    "After shifting the first 2 letters of S by 5, we have \"igc\".\n",
    "After shifting the first 3 letters of S by 9, we have \"rpl\", the answer.\n",
    "</pre>\n",
    "\n",
    "<p><strong>Note:</strong></p>\n",
    "\n",
    "<ol>\n",
    "\t<li><code>1 &lt;= S.length = shifts.length &lt;= 20000</code></li>\n",
    "\t<li><code>0 &lt;= shifts[i] &lt;= 10 ^ 9</code></li>\n",
    "</ol>\n",
    "</div>"
   ]
  },
  {
   "cell_type": "markdown",
   "metadata": {},
   "source": [
    "## Option 1\n",
    "<p>\n",
    "Time complexity: O(n)\n",
    "<br>\n",
    "Space complexity: O(1)"
   ]
  },
  {
   "cell_type": "code",
   "execution_count": null,
   "metadata": {
    "scrolled": true
   },
   "outputs": [],
   "source": [
    "class Solution(object):\n",
    "    def shiftingLetters(self, S, shifts):\n",
    "        curr, res = 0, ''\n",
    "        for i in range(len(shifts)-1,-1,-1):\n",
    "            curr += shifts[i]\n",
    "            p = ord(S[i])+curr\n",
    "            res = chr(ord('a')+((p-ord('a'))%26)) + res\n",
    "        return res\n",
    "\n",
    "Solution().shiftingLetters(\"abzuvth\", [3,5,9,3,4,2,9])\n",
    "\n"
   ]
  },
  {
   "cell_type": "markdown",
   "metadata": {},
   "source": [
    "#### Result: 188ms 39.51%)"
   ]
  }
 ],
 "metadata": {
  "kernelspec": {
   "display_name": "Python 2",
   "language": "python",
   "name": "python2"
  },
  "language_info": {
   "codemirror_mode": {
    "name": "ipython",
    "version": 2
   },
   "file_extension": ".py",
   "mimetype": "text/x-python",
   "name": "python",
   "nbconvert_exporter": "python",
   "pygments_lexer": "ipython2",
   "version": "2.7.16"
  }
 },
 "nbformat": 4,
 "nbformat_minor": 2
}
