{
 "cells": [
  {
   "cell_type": "markdown",
   "metadata": {},
   "source": [
    "# 1286. Iterator for Combination (Medium)"
   ]
  },
  {
   "cell_type": "markdown",
   "metadata": {},
   "source": [
    "<div><p>Design an Iterator class, which has:</p>\n",
    "\n",
    "<ul>\n",
    "\t<li>A constructor that takes a string&nbsp;<code>characters</code>&nbsp;of <strong>sorted distinct</strong> lowercase English letters and a number&nbsp;<code>combinationLength</code> as arguments.</li>\n",
    "\t<li>A function <em>next()</em>&nbsp;that returns the next combination of length <code>combinationLength</code>&nbsp;in <strong>lexicographical order</strong>.</li>\n",
    "\t<li>A function <em>hasNext()</em> that returns <code>True</code>&nbsp;if and only if&nbsp;there exists a next combination.</li>\n",
    "</ul>\n",
    "\n",
    "<p>&nbsp;</p>\n",
    "\n",
    "<p><b>Example:</b></p>\n",
    "\n",
    "<pre>CombinationIterator iterator = new CombinationIterator(\"abc\", 2); // creates the iterator.\n",
    "\n",
    "iterator.next(); // returns \"ab\"\n",
    "iterator.hasNext(); // returns true\n",
    "iterator.next(); // returns \"ac\"\n",
    "iterator.hasNext(); // returns true\n",
    "iterator.next(); // returns \"bc\"\n",
    "iterator.hasNext(); // returns false\n",
    "</pre>\n",
    "\n",
    "<p>&nbsp;</p>\n",
    "<p><strong>Constraints:</strong></p>\n",
    "\n",
    "<ul>\n",
    "\t<li><code>1 &lt;= combinationLength &lt;=&nbsp;characters.length &lt;= 15</code></li>\n",
    "\t<li>There will be at most <code>10^4</code> function calls per test.</li>\n",
    "\t<li>It's guaranteed that all&nbsp;calls&nbsp;of the function <code>next</code>&nbsp;are valid.</li>\n",
    "</ul>\n",
    "</div>"
   ]
  },
  {
   "cell_type": "markdown",
   "metadata": {},
   "source": [
    "## Option 1\n",
    "<p>\n",
    " <li>We could store the results in a backtrack search at init, ie. do all the work first\n",
    " <li>Or we can generate the string on demand (as below) by keeping counters of every level)\n",
    " <li>E.g. 'ABCDEF' k=3, our first few are ABC,ABD,ABE,ABF.  Counters are 012,013,014,015\n",
    " <li>Then: ACD, ACE, ACF Counters are 023,024,025\n",
    "  <p>\n",
    "      <p>\n",
    "Time complexity = O(k) size of combination lenght \n",
    "<br>\n",
    "Space complexity = O(k) size of combination lenght \n"
   ]
  },
  {
   "cell_type": "code",
   "execution_count": null,
   "metadata": {
    "scrolled": true
   },
   "outputs": [],
   "source": [
    "class CombinationIterator(object):\n",
    "\n",
    "    def __init__(self, characters, combinationLength):\n",
    "        self.characters = characters\n",
    "        self.combinationLength = combinationLength\n",
    "        #Counter\n",
    "        self.p = [i for i in range(combinationLength)]\n",
    "        self.ln = len(characters)\n",
    "\n",
    "    def next(self):\n",
    "        \n",
    "        if self.p[0] > (self.ln-self.combinationLength): return \"\"\n",
    "        #Create the result\n",
    "        res = ''\n",
    "        for i in self.p: res += self.characters[i]\n",
    "        \n",
    "        #Update counters\n",
    "        lnp = len(self.p)-1\n",
    "        i = lnp\n",
    "        #Increase the last by one, if it overflows change I to last position where its not overflowing\n",
    "        self.p[i] += 1\n",
    "        while i > 0 and (self.p[i]+(lnp-i)) > (self.ln-1): \n",
    "            i -= 1  \n",
    "            self.p[i] += 1\n",
    "        #Go forward and reset\n",
    "        while i < lnp:\n",
    "            i += 1\n",
    "            self.p[i] = self.p[i-1] + 1\n",
    "\n",
    "        return res\n",
    "    \n",
    "\n",
    "    def hasNext(self):\n",
    "        \"\"\"\n",
    "        :rtype: bool\n",
    "        \"\"\"\n",
    "        #The only time we will run out of combinations is when the first counter is has overflowed\n",
    "        return False if self.p[0] > (self.ln-self.combinationLength) else True\n",
    "        "
   ]
  },
  {
   "cell_type": "markdown",
   "metadata": {},
   "source": [
    "#### Result: 36ms (94.97%)"
   ]
  }
 ],
 "metadata": {
  "kernelspec": {
   "display_name": "Python 2",
   "language": "python",
   "name": "python2"
  },
  "language_info": {
   "codemirror_mode": {
    "name": "ipython",
    "version": 2
   },
   "file_extension": ".py",
   "mimetype": "text/x-python",
   "name": "python",
   "nbconvert_exporter": "python",
   "pygments_lexer": "ipython2",
   "version": "2.7.16"
  }
 },
 "nbformat": 4,
 "nbformat_minor": 2
}
