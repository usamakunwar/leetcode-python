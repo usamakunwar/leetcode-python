{
 "cells": [
  {
   "cell_type": "markdown",
   "metadata": {},
   "source": [
    "# 155. Min Stack (Easy)\n",
    "\n"
   ]
  },
  {
   "cell_type": "markdown",
   "metadata": {},
   "source": [
    "<div><p>Design a stack that supports push, pop, top, and retrieving the minimum element in constant time.</p>\n",
    "\n",
    "<ul>\n",
    "\t<li>push(x) -- Push element x onto stack.</li>\n",
    "\t<li>pop() -- Removes the element on top of the stack.</li>\n",
    "\t<li>top() -- Get the top element.</li>\n",
    "\t<li>getMin() -- Retrieve the minimum element in the stack.</li>\n",
    "</ul>\n",
    "\n",
    "<p>&nbsp;</p>\n",
    "\n",
    "<p><b>Example:</b></p>\n",
    "\n",
    "<pre>MinStack minStack = new MinStack();\n",
    "minStack.push(-2);\n",
    "minStack.push(0);\n",
    "minStack.push(-3);\n",
    "minStack.getMin();   --&gt; Returns -3.\n",
    "minStack.pop();\n",
    "minStack.top();      --&gt; Returns 0.\n",
    "minStack.getMin();   --&gt; Returns -2.\n",
    "</pre>\n",
    "\n",
    "<p>&nbsp;</p>\n",
    "</div>"
   ]
  },
  {
   "cell_type": "markdown",
   "metadata": {},
   "source": [
    "## Option 1\n",
    "\n",
    "This interestingly works by keeping a min_stack, that holds values which are smaller then the previous.\n",
    "E.g.\n",
    "<li>Lets say we have [2,-5,-3], our min_stack will look like [2,-5], it does not need to have -3 in the middle, because by the time we pop -5 from the main stack, we would've already popped -3 as it comes after. The only thing smaller than -3 is 2 which is correctly in the min_stack\n",
    "<p>\n",
    "    <p>\n",
    "Time complexity: O(1)\n",
    "<br>\n",
    "Space complexity: O(n)\n"
   ]
  },
  {
   "cell_type": "code",
   "execution_count": null,
   "metadata": {
    "scrolled": false
   },
   "outputs": [],
   "source": [
    "class MinStack(object):\n",
    "    def __init__(self):\n",
    "        self.stack = []\n",
    "        self.min_stack  = []\n",
    "        \n",
    "    def push(self, x):\n",
    "        if not self.min_stack or x <= self.min_stack[-1]:\n",
    "            self.min_stack.append(x)\n",
    "        self.stack.append(x)\n",
    "        \n",
    "    def pop(self):\n",
    "        if self.stack[-1] == self.min_stack[-1]:\n",
    "            self.min_stack.pop()\n",
    "        self.stack.pop()\n",
    "        \n",
    "    def top(self):\n",
    "        return self.stack[-1]\n",
    "        \n",
    "    def getMin(self):\n",
    "        return self.min_stack[-1]"
   ]
  },
  {
   "cell_type": "markdown",
   "metadata": {},
   "source": [
    "#### Result: 52ms (86.2%)"
   ]
  }
 ],
 "metadata": {
  "kernelspec": {
   "display_name": "Python 2",
   "language": "python",
   "name": "python2"
  },
  "language_info": {
   "codemirror_mode": {
    "name": "ipython",
    "version": 2
   },
   "file_extension": ".py",
   "mimetype": "text/x-python",
   "name": "python",
   "nbconvert_exporter": "python",
   "pygments_lexer": "ipython2",
   "version": "2.7.16"
  }
 },
 "nbformat": 4,
 "nbformat_minor": 2
}
