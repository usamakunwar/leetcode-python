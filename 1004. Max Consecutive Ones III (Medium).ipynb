{
 "cells": [
  {
   "cell_type": "markdown",
   "metadata": {},
   "source": [
    "# 1004. Max Consecutive Ones III (Medium)"
   ]
  },
  {
   "cell_type": "markdown",
   "metadata": {},
   "source": [
    "<div><p>Given an array <code>A</code>&nbsp;of 0s and 1s, we may change up to <code>K</code>&nbsp;values from 0 to 1.</p>\n",
    "\n",
    "<p>Return the length of the longest (contiguous) subarray that contains only 1s.&nbsp;</p>\n",
    "\n",
    "<p>&nbsp;</p>\n",
    "\n",
    "<div>\n",
    "<p><strong>Example 1:</strong></p>\n",
    "\n",
    "<pre><strong>Input: </strong>A = <span id=\"example-input-1-1\">[1,1,1,0,0,0,1,1,1,1,0]</span>, K = <span id=\"example-input-1-2\">2</span>\n",
    "<strong>Output: </strong><span id=\"example-output-1\">6</span>\n",
    "<strong>Explanation: </strong>\n",
    "[1,1,1,0,0,<u><strong>1</strong>,1,1,1,1,<strong>1</strong></u>]\n",
    "Bolded numbers were flipped from 0 to 1.  The longest subarray is underlined.</pre>\n",
    "\n",
    "<div>\n",
    "<p><strong>Example 2:</strong></p>\n",
    "\n",
    "<pre><strong>Input: </strong>A = <span id=\"example-input-2-1\">[0,0,1,1,0,0,1,1,1,0,1,1,0,0,0,1,1,1,1]</span>, K = <span id=\"example-input-2-2\">3</span>\n",
    "<strong>Output: </strong><span id=\"example-output-2\">10</span>\n",
    "<strong>Explanation: </strong>\n",
    "[0,0,<u>1,1,<b>1</b>,<strong>1</strong>,1,1,1,<strong>1</strong>,1,1</u>,0,0,0,1,1,1,1]\n",
    "Bolded numbers were flipped from 0 to 1.  The longest subarray is underlined.\n",
    "</pre>\n",
    "\n",
    "<p>&nbsp;</p>\n",
    "\n",
    "<p><strong><span>Note:</span></strong></p>\n",
    "\n",
    "<ol>\n",
    "\t<li><code>1 &lt;= A.length &lt;= 20000</code></li>\n",
    "\t<li><code>0 &lt;= K &lt;= A.length</code></li>\n",
    "\t<li><code>A[i]</code> is <code>0</code> or <code>1</code>&nbsp;</li>\n",
    "</ol>\n",
    "</div>\n",
    "</div></div>"
   ]
  },
  {
   "cell_type": "markdown",
   "metadata": {},
   "source": [
    "## Option 1\n",
    "<p>\n",
    "    Sliding window\n",
    "    <p>\n",
    "Time complexity: O(n)\n",
    "<br>\n",
    "Space complexity: O(1)\n"
   ]
  },
  {
   "cell_type": "code",
   "execution_count": null,
   "metadata": {
    "scrolled": true
   },
   "outputs": [],
   "source": [
    "class Solution(object):\n",
    "    def longestOnes(self, A, K):\n",
    "        left=curr=res=0\n",
    "        for i,v in enumerate(A):\n",
    "            curr += v\n",
    "            if (i-left+1) > curr+K:\n",
    "                curr -= A[left]\n",
    "                left += 1\n",
    "            res = max(res,i-left+1)\n",
    "        return res     \n",
    "\n",
    "        \n",
    "Solution().longestOnes([0,0,1,1,0,0,1,1,1,0,1,1,0,0,0,1,1,1,1],3)"
   ]
  },
  {
   "cell_type": "markdown",
   "metadata": {},
   "source": [
    "#### Result: 568ms 79.49%)"
   ]
  },
  {
   "cell_type": "markdown",
   "metadata": {},
   "source": [
    "## Option 2\n",
    "<p>\n",
    "    Max is not needed as the window size will reach its optimum and never decline, will only shift<br>\n",
    "    Also, the code can be shortened by using K instead of curr\n",
    "    <p>\n",
    "Time complexity: O(n)\n",
    "<br>\n",
    "Space complexity: O(1)\n"
   ]
  },
  {
   "cell_type": "code",
   "execution_count": null,
   "metadata": {},
   "outputs": [],
   "source": [
    "class Solution(object):\n",
    "    def longestOnes(self, A, K):\n",
    "        left=0\n",
    "        for i,v in enumerate(A):\n",
    "            K -= (v == 0)\n",
    "            if K < 0:\n",
    "                K += (A[left] == 0)\n",
    "                left += 1\n",
    "        return i-left+1     \n",
    "\n",
    "        \n",
    "Solution().longestOnes([0,0,1,1,0,0,1,1,1,0,1,1,0,0,0,1,1,1,1],3)"
   ]
  },
  {
   "cell_type": "markdown",
   "metadata": {},
   "source": [
    "#### Result: 528ms 91.67%)"
   ]
  }
 ],
 "metadata": {
  "kernelspec": {
   "display_name": "Python 2",
   "language": "python",
   "name": "python2"
  },
  "language_info": {
   "codemirror_mode": {
    "name": "ipython",
    "version": 2
   },
   "file_extension": ".py",
   "mimetype": "text/x-python",
   "name": "python",
   "nbconvert_exporter": "python",
   "pygments_lexer": "ipython2",
   "version": "2.7.16"
  }
 },
 "nbformat": 4,
 "nbformat_minor": 2
}
