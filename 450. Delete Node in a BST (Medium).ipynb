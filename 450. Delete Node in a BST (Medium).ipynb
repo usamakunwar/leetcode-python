{
 "cells": [
  {
   "cell_type": "markdown",
   "metadata": {},
   "source": [
    "# 450. Delete Node in a BST (Medium)"
   ]
  },
  {
   "cell_type": "markdown",
   "metadata": {},
   "source": [
    "<div><p>Given a root node reference of a BST and a key, delete the node with the given key in the BST. Return the root node reference (possibly updated) of the BST.</p>\n",
    "\n",
    "<p>Basically, the deletion can be divided into two stages:\n",
    "</p><ol>\n",
    "<li>Search for a node to remove.</li>\n",
    "<li>If the node is found, delete the node.</li>\n",
    "</ol>\n",
    "<p></p>\n",
    "\n",
    "<p><b>Note:</b> Time complexity should be O(height of tree).</p>\n",
    "\n",
    "<p><b>Example:</b>\n",
    "</p><pre>root = [5,3,6,2,4,null,7]\n",
    "key = 3\n",
    "\n",
    "    5\n",
    "   / \\\n",
    "  3   6\n",
    " / \\   \\\n",
    "2   4   7\n",
    "\n",
    "Given key to delete is 3. So we find the node with value 3 and delete it.\n",
    "\n",
    "One valid answer is [5,4,6,2,null,null,7], shown in the following BST.\n",
    "\n",
    "    5\n",
    "   / \\\n",
    "  4   6\n",
    " /     \\\n",
    "2       7\n",
    "\n",
    "Another valid answer is [5,2,6,null,4,null,7].\n",
    "\n",
    "    5\n",
    "   / \\\n",
    "  2   6\n",
    "   \\   \\\n",
    "    4   7\n",
    "</pre>\n",
    "<p></p></div>"
   ]
  },
  {
   "cell_type": "markdown",
   "metadata": {},
   "source": [
    "## Option 1\n",
    "\n",
    "<p>\n",
    "    Iterative\n",
    "<p>\n",
    "Time complexity: O(logn)\n",
    "<br>\n",
    "Space complexity: O(H) tree height"
   ]
  },
  {
   "cell_type": "code",
   "execution_count": null,
   "metadata": {
    "scrolled": false
   },
   "outputs": [],
   "source": [
    "# Definition for a binary tree node.\n",
    "# class TreeNode(object):\n",
    "#     def __init__(self, x):\n",
    "#         self.val = x\n",
    "#         self.left = None\n",
    "#         self.right = None\n",
    "\n",
    "class Solution(object):\n",
    "    def deleteNode(self, root, key):\n",
    "        \"\"\"\n",
    "        :type root: TreeNode\n",
    "        :type key: int\n",
    "        :rtype: TreeNode\n",
    "        \"\"\"\n",
    "        if not root: return None\n",
    "        \n",
    "        stack = [(root,None)]\n",
    "        while stack:\n",
    "            node, parent = stack.pop()\n",
    "            #Search the BST for the key\n",
    "            if node.val > key:\n",
    "                if node.left: stack.append((node.left,node))\n",
    "            elif node.val < key:\n",
    "                if node.right: stack.append((node.right,node))\n",
    "            else:\n",
    "                #The key is found\n",
    "                if node.right and node.left:\n",
    "                    #If node.right and node.left, we need to position node.left in the leftmost of node.right\n",
    "                    node2 = node.right\n",
    "                    while node2.left:\n",
    "                        node2 = node2.left\n",
    "                    node2.left = node.left\n",
    "                \n",
    "                replacement = node.right if node.right else node.left\n",
    "                if parent:\n",
    "                    if parent.val > node.val:\n",
    "                        parent.left = replacement\n",
    "                    else:\n",
    "                        parent.right = replacement\n",
    "                else:\n",
    "                    #If the root is the key \n",
    "                    root = replacement\n",
    "        return root  \n",
    "            \n",
    "            "
   ]
  },
  {
   "cell_type": "markdown",
   "metadata": {},
   "source": [
    "#### Result: 64ms (79.44%)"
   ]
  },
  {
   "cell_type": "markdown",
   "metadata": {},
   "source": [
    "## Option 2\n",
    "\n",
    "<p>\n",
    "    Recursive\n",
    "  <li>One other way to look at it, instead of finding the left-most of right to insert the left value, we can find the left most value, change the current node value, then delete that left-most of right\n",
    "<p>\n",
    "    <p>\n",
    "Time complexity: O(logn)\n",
    "<br>\n",
    "Space complexity: O(H) tree height"
   ]
  },
  {
   "cell_type": "code",
   "execution_count": null,
   "metadata": {},
   "outputs": [],
   "source": [
    "# Definition for a binary tree node.\n",
    "# class TreeNode(object):\n",
    "#     def __init__(self, x):\n",
    "#         self.val = x\n",
    "#         self.left = None\n",
    "#         self.right = None\n",
    "\n",
    "class Solution(object):\n",
    "    #left-most\n",
    "    def successor(self, node):\n",
    "        return self.successor(node.left) if node.left else node\n",
    "\n",
    "    def deleteNode(self, root, key):\n",
    "        \"\"\"\n",
    "        :type root: TreeNode\n",
    "        :type key: int\n",
    "        :rtype: TreeNode\n",
    "        \"\"\"\n",
    "        if not root: return root\n",
    "        if root.val > key:\n",
    "            root.left = self.deleteNode(root.left,key)\n",
    "        elif root.val < key:\n",
    "            root.right = self.deleteNode(root.right,key)\n",
    "        else:\n",
    "            if not root.left and not root.right: return None\n",
    "            if root.right:\n",
    "                #Find the left-most of right val, replace current node val\n",
    "                root.val = self.successor(root.right).val\n",
    "                #Delete that left-most of right node\n",
    "                root.right = self.deleteNode(root.right, root.val)\n",
    "            else:\n",
    "                root = root.left\n",
    "        return root\n",
    "                \n",
    "            "
   ]
  },
  {
   "cell_type": "markdown",
   "metadata": {},
   "source": [
    "#### Result: 60ms (93.58%)"
   ]
  }
 ],
 "metadata": {
  "kernelspec": {
   "display_name": "Python 2",
   "language": "python",
   "name": "python2"
  },
  "language_info": {
   "codemirror_mode": {
    "name": "ipython",
    "version": 2
   },
   "file_extension": ".py",
   "mimetype": "text/x-python",
   "name": "python",
   "nbconvert_exporter": "python",
   "pygments_lexer": "ipython2",
   "version": "2.7.16"
  }
 },
 "nbformat": 4,
 "nbformat_minor": 2
}
