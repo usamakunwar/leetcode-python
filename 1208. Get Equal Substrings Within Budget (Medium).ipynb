{
 "cells": [
  {
   "cell_type": "markdown",
   "metadata": {},
   "source": [
    "# 1208. Get Equal Substrings Within Budget (Medium)"
   ]
  },
  {
   "cell_type": "markdown",
   "metadata": {},
   "source": [
    "<div><p>You are given two strings <code>s</code> and <code>t</code> of the same length. You want to change <code>s</code> to <code>t</code>. Changing the <code>i</code>-th character of <code>s</code> to <code>i</code>-th character of <code>t</code> costs <code>|s[i] - t[i]|</code> that is, the absolute difference between the ASCII values of the characters.</p>\n",
    "\n",
    "<p>You are also given an integer <code>maxCost</code>.</p>\n",
    "\n",
    "<p>Return the maximum length of a substring of <code>s</code> that can be changed to be the same as the corresponding substring of <code>t</code>with a cost less than or equal to <code>maxCost</code>.</p>\n",
    "\n",
    "<p>If there is no substring from&nbsp;<code>s</code> that can be changed to its corresponding substring from <code>t</code>, return <code>0</code>.</p>\n",
    "\n",
    "<p>&nbsp;</p>\n",
    "<p><strong>Example 1:</strong></p>\n",
    "\n",
    "<pre><strong>Input:</strong> s = \"abcd\", t = \"bcdf\", maxCost = 3\n",
    "<strong>Output:</strong> 3\n",
    "<strong>Explanation: </strong>\"abc\" of s can change to \"bcd\". That costs 3, so the maximum length is 3.</pre>\n",
    "\n",
    "<p><strong>Example 2:</strong></p>\n",
    "\n",
    "<pre><strong>Input:</strong> s = \"abcd\", t = \"cdef\", maxCost = 3\n",
    "<strong>Output:</strong> 1\n",
    "<strong>Explanation: </strong>Each character in s costs 2 to change to charactor in <code>t, so the maximum length is 1.</code>\n",
    "</pre>\n",
    "\n",
    "<p><strong>Example 3:</strong></p>\n",
    "\n",
    "<pre><strong>Input:</strong> s = \"abcd\", t = \"acde\", maxCost = 0\n",
    "<strong>Output:</strong> 1\n",
    "<strong>Explanation: </strong>You can't make any change, so the maximum length is 1.\n",
    "</pre>\n",
    "\n",
    "<p>&nbsp;</p>\n",
    "<p><strong>Constraints:</strong></p>\n",
    "\n",
    "<ul>\n",
    "\t<li><code>1 &lt;= s.length, t.length &lt;= 10^5</code></li>\n",
    "\t<li><code>0 &lt;= maxCost &lt;= 10^6</code></li>\n",
    "\t<li><code>s</code> and&nbsp;<code>t</code> only contain lower case English letters.</li>\n",
    "</ul>\n",
    "</div>"
   ]
  },
  {
   "cell_type": "markdown",
   "metadata": {},
   "source": [
    "## Option 1\n",
    "\n",
    "Make a differences array, then do a binary search\n",
    "<p>\n",
    "Time complexity = O(nlogn)\n",
    "<br>\n",
    "Space complexity = O(n)"
   ]
  },
  {
   "cell_type": "code",
   "execution_count": null,
   "metadata": {
    "scrolled": true
   },
   "outputs": [],
   "source": [
    "class Solution(object):\n",
    "    def equalSubstring(self, s, t, maxCost):\n",
    "        arr = [abs(ord(v)-ord(t[i])) for i,v in enumerate(s)]\n",
    "\n",
    "        ln = len(arr)\n",
    "        left, right = 0, ln+1\n",
    "        while left < right:\n",
    "            mid = (left+right)//2\n",
    "            prev = sum(arr[:mid])\n",
    "            can_do = prev <= maxCost\n",
    "            for i in range(1,ln-mid+1):\n",
    "                prev = prev - arr[i-1] + arr[i+mid-1]\n",
    "                if prev <= maxCost:\n",
    "                    can_do = True\n",
    "                    break\n",
    "            if can_do == False:\n",
    "                right = mid\n",
    "            else:\n",
    "                left = mid + 1\n",
    "        return right - 1\n",
    "\n",
    "Solution().equalSubstring(\"krpgjbjjznpzdfy\", \"nxargkbydxmsgby\", 14)  "
   ]
  },
  {
   "cell_type": "markdown",
   "metadata": {},
   "source": [
    "#### Result: 180ms"
   ]
  },
  {
   "cell_type": "markdown",
   "metadata": {},
   "source": [
    "## Option 2\n",
    "\n",
    "Above I am doing a sliding window within a binary search, this is unessecary, can do a sliding window directly and just keep track of a max!\n",
    "<p>\n",
    "Time complexity = O(n)\n",
    "<br>\n",
    "Space complexity = O(1)"
   ]
  },
  {
   "cell_type": "code",
   "execution_count": null,
   "metadata": {},
   "outputs": [],
   "source": [
    "class Solution(object):\n",
    "    def equalSubstring(self, s, t, maxCost):\n",
    "        p1,max_len = 0,0\n",
    "        for i in range(len(s)):\n",
    "            maxCost -= abs(ord(s[i])-ord(t[i]))\n",
    "            if maxCost < 0:\n",
    "                maxCost += abs(ord(s[p1])-ord(t[p1]))\n",
    "                p1 += 1\n",
    "            max_len = max(max_len, i-p1+1)\n",
    "        return max_len\n",
    "Solution().equalSubstring(\"krpgjbjjznpzdfy\", \"nxargkbydxmsgby\", 14)  "
   ]
  },
  {
   "cell_type": "markdown",
   "metadata": {},
   "source": [
    "#### Result: 60ms (88.76%)"
   ]
  }
 ],
 "metadata": {
  "kernelspec": {
   "display_name": "Python 3",
   "language": "python",
   "name": "python3"
  },
  "language_info": {
   "codemirror_mode": {
    "name": "ipython",
    "version": 3
   },
   "file_extension": ".py",
   "mimetype": "text/x-python",
   "name": "python",
   "nbconvert_exporter": "python",
   "pygments_lexer": "ipython3",
   "version": "3.7.4"
  }
 },
 "nbformat": 4,
 "nbformat_minor": 2
}
