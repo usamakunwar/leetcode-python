{
 "cells": [
  {
   "cell_type": "markdown",
   "metadata": {},
   "source": [
    "# 130. Surrounded Regions (Medium)"
   ]
  },
  {
   "cell_type": "markdown",
   "metadata": {},
   "source": [
    "<div><p>Given a 2D board containing <code>'X'</code> and <code>'O'</code> (<strong>the letter O</strong>), capture all regions surrounded by <code>'X'</code>.</p>\n",
    "\n",
    "<p>A region is captured by flipping all <code>'O'</code>s into <code>'X'</code>s in that surrounded region.</p>\n",
    "\n",
    "<p><strong>Example:</strong></p>\n",
    "\n",
    "<pre>X X X X\n",
    "X O O X\n",
    "X X O X\n",
    "X O X X\n",
    "</pre>\n",
    "\n",
    "<p>After running your function, the board should be:</p>\n",
    "\n",
    "<pre>X X X X\n",
    "X X X X\n",
    "X X X X\n",
    "X O X X\n",
    "</pre>\n",
    "\n",
    "<p><strong>Explanation:</strong></p>\n",
    "\n",
    "<p>Surrounded regions shouldn’t be on the border, which means that any <code>'O'</code>&nbsp;on the border of the board are not flipped to <code>'X'</code>. Any <code>'O'</code>&nbsp;that is not on the border and it is not connected to an <code>'O'</code>&nbsp;on the border will be flipped to <code>'X'</code>. Two cells are connected if they are adjacent cells connected horizontally or vertically.</p>\n",
    "</div>"
   ]
  },
  {
   "cell_type": "markdown",
   "metadata": {},
   "source": [
    "## Option 1\n",
    "<p>DFS\n",
    "    <p>\n",
    "Time complexity: O(n)\n",
    "<br>\n",
    "Space complexity: O(n)"
   ]
  },
  {
   "cell_type": "code",
   "execution_count": null,
   "metadata": {
    "scrolled": true
   },
   "outputs": [],
   "source": [
    "import collections\n",
    "class Solution(object):\n",
    "    def solve(self, board):\n",
    "        if not board or not board[0] : return\n",
    "        li,lj = len(board),len(board[0])\n",
    "        def search(i,j):\n",
    "            board[i][j] = \"#\"\n",
    "            for ni,nj in ((i+1,j),(i-1,j),(i,j+1),(i,j-1)):\n",
    "                if ni>=0 and ni<li and nj>=0 and nj <lj and board[ni][nj] == \"O\":\n",
    "                    search(ni,nj)\n",
    "        #Run a DFS on all the border cells, change all Os and connected Os to #\n",
    "        for j in range(lj):\n",
    "            if board[0][j] == \"O\": search(0,j)\n",
    "            if board[li-1][j] == \"O\": search(li-1,j)\n",
    "        for i in range(li):\n",
    "            if board[i][0] == \"O\": search(i,0)\n",
    "            if board[i][lj-1] == \"O\": search(i,lj-1)            \n",
    "        # Cells with # mean they cannot be captured so change them back to O and the other Os can be captured\n",
    "        for i in range(li):\n",
    "            for j in range(lj):\n",
    "                if board[i][j] == \"#\": \n",
    "                    board[i][j] = \"O\"\n",
    "                elif board[i][j] == \"O\":\n",
    "                    board[i][j] = \"X\"        \n",
    "        print(board)\n",
    "        \n",
    "Solution().solve([[\"O\"]])\n"
   ]
  },
  {
   "cell_type": "markdown",
   "metadata": {},
   "source": [
    "#### Result: 128ms 86.34%)"
   ]
  }
 ],
 "metadata": {
  "kernelspec": {
   "display_name": "Python 2",
   "language": "python",
   "name": "python2"
  },
  "language_info": {
   "codemirror_mode": {
    "name": "ipython",
    "version": 2
   },
   "file_extension": ".py",
   "mimetype": "text/x-python",
   "name": "python",
   "nbconvert_exporter": "python",
   "pygments_lexer": "ipython2",
   "version": "2.7.16"
  }
 },
 "nbformat": 4,
 "nbformat_minor": 2
}
