{
 "cells": [
  {
   "cell_type": "markdown",
   "metadata": {},
   "source": [
    "# 186. Reverse Words in a String II (Medium)"
   ]
  },
  {
   "cell_type": "markdown",
   "metadata": {},
   "source": [
    "<div><p>Given an input string<strong><em>&nbsp;</em></strong>, reverse the string word by word.&nbsp;</p>\n",
    "\n",
    "<p><strong>Example:</strong></p>\n",
    "\n",
    "<pre><strong>Input:  </strong>[\"t\",\"h\",\"e\",\" \",\"s\",\"k\",\"y\",\" \",\"i\",\"s\",\" \",\"b\",\"l\",\"u\",\"e\"]\n",
    "<strong>Output: </strong>[\"b\",\"l\",\"u\",\"e\",\" \",\"i\",\"s\",\" \",\"s\",\"k\",\"y\",\" \",\"t\",\"h\",\"e\"]</pre>\n",
    "\n",
    "<p><strong>Note:&nbsp;</strong></p>\n",
    "\n",
    "<ul>\n",
    "\t<li>A word is defined as a sequence of non-space characters.</li>\n",
    "\t<li>The input string does not contain leading or trailing spaces.</li>\n",
    "\t<li>The words are always separated by a single space.</li>\n",
    "</ul>\n",
    "\n",
    "<p><strong>Follow up:&nbsp;</strong>Could you do it <i>in-place</i> without allocating extra space?</p>\n",
    "</div>"
   ]
  },
  {
   "cell_type": "markdown",
   "metadata": {},
   "source": [
    "## Option 1\n",
    "<p>\n",
    "Time complexity: O(n)\n",
    "<br>\n",
    "Space complexity: O(1)"
   ]
  },
  {
   "cell_type": "code",
   "execution_count": null,
   "metadata": {
    "scrolled": true
   },
   "outputs": [],
   "source": [
    "import collections\n",
    "class Solution(object):\n",
    "    def reverseWords(self, s):\n",
    "        s[:] = s[::-1]\n",
    "        s.append('')\n",
    "        ln = len(s)\n",
    "        p1=p2=0\n",
    "        while p1 < ln and p2 < ln-2:\n",
    "            while p2 < ln-2 and s[p2+1] != ' ': p2 += 1\n",
    "            new_pos = p2\n",
    "            while p1 < p2:\n",
    "                s[p1],s[p2] = s[p2],s[p1]\n",
    "                p1 += 1\n",
    "                p2 -= 1\n",
    "            p1=p2=new_pos+2\n",
    "        s.pop()\n",
    "        return s\n",
    "        \n",
    "        \n",
    "Solution().reverseWords([\"t\",\"h\",\"e\",\" \",\"s\",\"k\",\"y\",\" \",\"i\",\"s\",\" \",\"b\",\"l\",\"u\",\"e\"])"
   ]
  },
  {
   "cell_type": "markdown",
   "metadata": {},
   "source": [
    "#### Result: 220ms 98.83%)"
   ]
  },
  {
   "cell_type": "markdown",
   "metadata": {},
   "source": [
    "## Option 2\n",
    "<p>\n",
    "Time complexity: O(n)\n",
    "<br>\n",
    "Space complexity: O(1)"
   ]
  },
  {
   "cell_type": "code",
   "execution_count": null,
   "metadata": {},
   "outputs": [],
   "source": [
    "import collections\n",
    "class Solution(object):\n",
    "    def reverseWords(self, s):\n",
    "        ln = len(s)\n",
    "        def reverse(p1,p2):\n",
    "            while p1 < p2:\n",
    "                s[p1],s[p2] = s[p2],s[p1]\n",
    "                p1 += 1\n",
    "                p2 -= 1\n",
    "        \n",
    "        reverse(0,ln-1)        \n",
    "        p1=p2=0\n",
    "        while p1 < ln and p2 < ln:\n",
    "            while p2 < ln and s[p2] != ' ': p2 += 1\n",
    "            reverse(p1,p2-1)\n",
    "            p2 += 1\n",
    "            p1 = p2       \n",
    "        return s\n",
    "        \n",
    "        \n",
    "Solution().reverseWords([\"t\",\"h\",\"e\",\" \",\"s\",\"k\",\"y\",\" \",\"i\",\"s\",\" \",\"b\",\"l\",\"u\"])"
   ]
  },
  {
   "cell_type": "markdown",
   "metadata": {},
   "source": [
    "#### Result: 224ms 55.47%)"
   ]
  }
 ],
 "metadata": {
  "kernelspec": {
   "display_name": "Python 2",
   "language": "python",
   "name": "python2"
  },
  "language_info": {
   "codemirror_mode": {
    "name": "ipython",
    "version": 2
   },
   "file_extension": ".py",
   "mimetype": "text/x-python",
   "name": "python",
   "nbconvert_exporter": "python",
   "pygments_lexer": "ipython2",
   "version": "2.7.16"
  }
 },
 "nbformat": 4,
 "nbformat_minor": 2
}
