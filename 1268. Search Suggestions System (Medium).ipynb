{
 "cells": [
  {
   "cell_type": "markdown",
   "metadata": {},
   "source": [
    "# 1268. Search Suggestions System (Medium)\n"
   ]
  },
  {
   "cell_type": "markdown",
   "metadata": {},
   "source": [
    "<div><p>Given an array of strings <code>products</code> and a string <code>searchWord</code>. We want to design a system that suggests at most three product names from <code>products</code>&nbsp;after each character of&nbsp;<code>searchWord</code> is typed. Suggested products should have common prefix with the searchWord. If there are&nbsp;more than three products with a common prefix&nbsp;return the three lexicographically minimums products.</p>\n",
    "\n",
    "<p>Return <em>list of lists</em> of the suggested <code>products</code> after each character of&nbsp;<code>searchWord</code> is typed.&nbsp;</p>\n",
    "\n",
    "<p>&nbsp;</p>\n",
    "<p><strong>Example 1:</strong></p>\n",
    "\n",
    "<pre><strong>Input:</strong> products = [\"mobile\",\"mouse\",\"moneypot\",\"monitor\",\"mousepad\"], searchWord = \"mouse\"\n",
    "<strong>Output:</strong> [\n",
    "[\"mobile\",\"moneypot\",\"monitor\"],\n",
    "[\"mobile\",\"moneypot\",\"monitor\"],\n",
    "[\"mouse\",\"mousepad\"],\n",
    "[\"mouse\",\"mousepad\"],\n",
    "[\"mouse\",\"mousepad\"]\n",
    "]\n",
    "<strong>Explanation:</strong> products sorted lexicographically = [\"mobile\",\"moneypot\",\"monitor\",\"mouse\",\"mousepad\"]\n",
    "After typing m and mo all products match and we show user [\"mobile\",\"moneypot\",\"monitor\"]\n",
    "After typing mou, mous and mouse the system suggests [\"mouse\",\"mousepad\"]\n",
    "</pre>\n",
    "\n",
    "<p><strong>Example 2:</strong></p>\n",
    "\n",
    "<pre><strong>Input:</strong> products = [\"havana\"], searchWord = \"havana\"\n",
    "<strong>Output:</strong> [[\"havana\"],[\"havana\"],[\"havana\"],[\"havana\"],[\"havana\"],[\"havana\"]]\n",
    "</pre>\n",
    "\n",
    "<p><strong>Example 3:</strong></p>\n",
    "\n",
    "<pre><strong>Input:</strong> products = [\"bags\",\"baggage\",\"banner\",\"box\",\"cloths\"], searchWord = \"bags\"\n",
    "<strong>Output:</strong> [[\"baggage\",\"bags\",\"banner\"],[\"baggage\",\"bags\",\"banner\"],[\"baggage\",\"bags\"],[\"bags\"]]\n",
    "</pre>\n",
    "\n",
    "<p><strong>Example 4:</strong></p>\n",
    "\n",
    "<pre><strong>Input:</strong> products = [\"havana\"], searchWord = \"tatiana\"\n",
    "<strong>Output:</strong> [[],[],[],[],[],[],[]]\n",
    "</pre>\n",
    "\n",
    "<p>&nbsp;</p>\n",
    "<p><strong>Constraints:</strong></p>\n",
    "\n",
    "<ul>\n",
    "\t<li><code>1 &lt;= products.length &lt;= 1000</code></li>\n",
    "\t<li>There are no&nbsp;repeated elements in&nbsp;<code>products</code>.</li>\n",
    "\t<li><code>1 &lt;= Σ products[i].length &lt;= 2 * 10^4</code></li>\n",
    "\t<li>All characters of <code>products[i]</code> are lower-case English letters.</li>\n",
    "\t<li><code>1 &lt;= searchWord.length &lt;= 1000</code></li>\n",
    "\t<li>All characters of <code>searchWord</code>&nbsp;are lower-case English letters.</li>\n",
    "</ul>\n",
    "</div>"
   ]
  },
  {
   "cell_type": "markdown",
   "metadata": {},
   "source": [
    "## Option 1\n",
    "<p>\n",
    "    Trie, keeping a list of all words at every character\n",
    " <p>\n",
    "\n",
    "Time complexity: O(max(n*p, nlogn)) number of products * lenght of product\n",
    "<br>\n",
    "Space complexity: O(np) number of products * lenght of product"
   ]
  },
  {
   "cell_type": "code",
   "execution_count": null,
   "metadata": {},
   "outputs": [],
   "source": [
    "import collections\n",
    "class Trie(object):\n",
    "    def __init__(self):   \n",
    "        self.children = collections.defaultdict(Trie)\n",
    "        self.words = []\n",
    "\n",
    "\n",
    "class Solution(object):\n",
    "    def suggestedProducts(self, products, searchWord):\n",
    "        products.sort()\n",
    "        trie = Trie()\n",
    "        for product in products:\n",
    "            curr = trie\n",
    "            for ch in product:\n",
    "                curr = curr.children[ch]\n",
    "                curr.words.append(product)\n",
    "        \n",
    "        res = []\n",
    "        curr = trie\n",
    "        for ch in searchWord:\n",
    "            curr = curr.children[ch]\n",
    "            res.append(curr.words[:3])\n",
    "            \n",
    "        return res\n",
    "        \n",
    "Solution().suggestedProducts([\"abbaa\",\"ab\",\"c\"],\"abc\")"
   ]
  },
  {
   "cell_type": "markdown",
   "metadata": {},
   "source": [
    "#### Result: 224ms (48.50%)\n"
   ]
  }
 ],
 "metadata": {
  "kernelspec": {
   "display_name": "Python 2",
   "language": "python",
   "name": "python2"
  },
  "language_info": {
   "codemirror_mode": {
    "name": "ipython",
    "version": 2
   },
   "file_extension": ".py",
   "mimetype": "text/x-python",
   "name": "python",
   "nbconvert_exporter": "python",
   "pygments_lexer": "ipython2",
   "version": "2.7.16"
  }
 },
 "nbformat": 4,
 "nbformat_minor": 2
}
