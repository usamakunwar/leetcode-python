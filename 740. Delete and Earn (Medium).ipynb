{
 "cells": [
  {
   "cell_type": "markdown",
   "metadata": {},
   "source": [
    "# 740. Delete and Earn (Medium)"
   ]
  },
  {
   "cell_type": "markdown",
   "metadata": {},
   "source": [
    "<div><p>Given an array <code>nums</code> of integers, you can perform operations on the array.</p>\n",
    "\n",
    "<p>In each operation, you pick any <code>nums[i]</code> and delete it to earn <code>nums[i]</code> points. After, you must delete <b>every</b> element equal to <code>nums[i] - 1</code> or <code>nums[i] + 1</code>.</p>\n",
    "\n",
    "<p>You start with 0 points. Return the maximum number of points you can earn by applying such operations.</p>\n",
    "\n",
    "<p><b>Example 1:</b></p>\n",
    "\n",
    "<pre><b>Input:</b> nums = [3, 4, 2]\n",
    "<b>Output:</b> 6\n",
    "<b>Explanation:</b> \n",
    "Delete 4 to earn 4 points, consequently 3 is also deleted.\n",
    "Then, delete 2 to earn 2 points. 6 total points are earned.\n",
    "</pre>\n",
    "\n",
    "<p>&nbsp;</p>\n",
    "\n",
    "<p><b>Example 2:</b></p>\n",
    "\n",
    "<pre><b>Input:</b> nums = [2, 2, 3, 3, 3, 4]\n",
    "<b>Output:</b> 9\n",
    "<b>Explanation:</b> \n",
    "Delete 3 to earn 3 points, deleting both 2's and the 4.\n",
    "Then, delete 3 again to earn 3 points, and 3 again to earn 3 points.\n",
    "9 total points are earned.\n",
    "</pre>\n",
    "\n",
    "<p>&nbsp;</p>\n",
    "\n",
    "<p><b>Note:</b></p>\n",
    "\n",
    "<ul>\n",
    "\t<li>The length of <code>nums</code> is at most <code>20000</code>.</li>\n",
    "\t<li>Each element <code>nums[i]</code> is an integer in the range <code>[1, 10000]</code>.</li>\n",
    "</ul>\n",
    "\n",
    "<p>&nbsp;</p>\n",
    "</div>"
   ]
  },
  {
   "cell_type": "markdown",
   "metadata": {},
   "source": [
    "## Option 1\n",
    "\n",
    "<p>DP\n",
    "    <p>\n",
    "<li>If an item is continous to the previous (+1) we can definiately join the item before that\n",
    "<li>(1) Use a sentinel for referring to -2\n",
    "<li>(2) Map elements to values and total\n",
    "<li>(3) This is the first value, (the sentinel is at zero)\n",
    "<li>(4) If last item is -1 curr, we cannot join, so join -2\n",
    "<li>(5) The curr val is the (total after join vs the last item), so that means if the last item (which we cannot join) is higher, we use its value. This is because any further items can definetly join this and it is the max\n",
    "<p>\n",
    "   <p>\n",
    "Time complexity: O(nlogn)\n",
    "    <br>\n",
    "Space complexity: O(n)\n"
   ]
  },
  {
   "cell_type": "code",
   "execution_count": null,
   "metadata": {},
   "outputs": [],
   "source": [
    "import collections\n",
    "class Solution(object):\n",
    "    def deleteAndEarn(self, nums):\n",
    "        nums.append(0) #(1)\n",
    "        c = collections.Counter(nums)\n",
    "        m = sorted(map(lambda (x,y):(x,x*y) , c.items())) #(2)\n",
    "        \n",
    "        res = m[1][1] #(3)         \n",
    "        for i in range(2,len(m)):\n",
    "            j = -2 if m[i][0]-1 == m[i-1][0] else -1  #(4)            \n",
    "            m[i] = m[i][0], max(m[i][1]+m[i+j][1], m[i-1][1]) #(5)\n",
    "            res = max(res, m[i][1])\n",
    "        return res\n",
    "        \n",
    "Solution().deleteAndEarn([1,1,1,3,3,3,4,4,6,6,6,7,7])"
   ]
  },
  {
   "cell_type": "markdown",
   "metadata": {},
   "source": [
    "#### Result: 16ms (70.28%)"
   ]
  },
  {
   "cell_type": "markdown",
   "metadata": {},
   "source": [
    "## Option 2\n",
    "\n",
    "<p>DP\n",
    "    <p>\n",
    "<li>Neater solution, similar logic as above\n",
    "   <p>\n",
    "      <p>\n",
    "Time complexity: O(nlogn)\n",
    "    <br>\n",
    "Space complexity: O(n)\n"
   ]
  },
  {
   "cell_type": "code",
   "execution_count": null,
   "metadata": {},
   "outputs": [],
   "source": [
    "import collections\n",
    "class Solution(object):\n",
    "    def deleteAndEarn(self, nums):\n",
    "        c = collections.Counter(nums)\n",
    "        \n",
    "        curr_val = None\n",
    "        prev = curr = 0\n",
    "        for k in sorted(c):\n",
    "            if k-1 == curr_val:\n",
    "                curr, prev = max(curr, prev+(k*c[k])), curr\n",
    "            else:\n",
    "                curr, prev = curr+(k*c[k]), curr\n",
    "            \n",
    "            curr_val = k\n",
    "            \n",
    "        return curr\n",
    "        \n",
    "Solution().deleteAndEarn([1,1,1,3,3,3,4,4,6,6,6,7,7])"
   ]
  },
  {
   "cell_type": "markdown",
   "metadata": {},
   "source": [
    "#### Result: 44ms (69.82%)"
   ]
  }
 ],
 "metadata": {
  "kernelspec": {
   "display_name": "Python 2",
   "language": "python",
   "name": "python2"
  },
  "language_info": {
   "codemirror_mode": {
    "name": "ipython",
    "version": 2
   },
   "file_extension": ".py",
   "mimetype": "text/x-python",
   "name": "python",
   "nbconvert_exporter": "python",
   "pygments_lexer": "ipython2",
   "version": "2.7.16"
  }
 },
 "nbformat": 4,
 "nbformat_minor": 2
}
