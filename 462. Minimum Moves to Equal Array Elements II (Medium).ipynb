{
 "cells": [
  {
   "cell_type": "markdown",
   "metadata": {},
   "source": [
    "# 462. Minimum Moves to Equal Array Elements II (Medium)"
   ]
  },
  {
   "cell_type": "markdown",
   "metadata": {},
   "source": [
    "<div><p></p><p>Given a <b>non-empty</b> integer array, find the minimum number of moves required to make all array elements equal, where a move is incrementing a selected element by 1 or decrementing a selected element by 1.</p>\n",
    "\n",
    "<p>You may assume the array's length is at most 10,000.</p>\n",
    "\n",
    "<p><b>Example:</b>\n",
    "</p><pre><b>Input:</b>\n",
    "[1,2,3]\n",
    "\n",
    "<b>Output:</b>\n",
    "2\n",
    "\n",
    "<b>Explanation:</b>\n",
    "Only two moves are needed (remember each move increments or decrements one element):\n",
    "\n",
    "[1,2,3]  =&gt;  [2,2,3]  =&gt;  [2,2,2]\n",
    "</pre>\n",
    "<p></p><p></p></div>"
   ]
  },
  {
   "cell_type": "markdown",
   "metadata": {},
   "source": [
    "## Option 1\n",
    "\n",
    "<p>Median and Sort\n",
    "    \n",
    "Time complexity: O(nlogn)\n",
    "<br>\n",
    "Space complexity: O(1)"
   ]
  },
  {
   "cell_type": "code",
   "execution_count": null,
   "metadata": {
    "scrolled": true
   },
   "outputs": [],
   "source": [
    "import collections\n",
    "class Solution(object):\n",
    "    def minMoves2(self, nums):\n",
    "        nums.sort()\n",
    "        #The actual median value (for even lenghts) here does not matter here.\n",
    "        #As either side can be the target, having a target inbetween will not make a difference\n",
    "        #For instance if the median is derived from mid values 30,40 (median = 35) \n",
    "        #Getting all the values in the array to 30, 35 or 40 will result in the same value\n",
    "\n",
    "        median = nums[len(nums)/2]\n",
    "        return sum(abs(n-median) for n in nums)\n",
    "\n",
    "Solution().minMoves2([1,2,2,2,2,2,2,2,2,2,3,4,8,10,11,15,16])\n",
    "        "
   ]
  },
  {
   "cell_type": "markdown",
   "metadata": {},
   "source": [
    "#### Result: 56ms (93.0%)"
   ]
  }
 ],
 "metadata": {
  "kernelspec": {
   "display_name": "Python 2",
   "language": "python",
   "name": "python2"
  },
  "language_info": {
   "codemirror_mode": {
    "name": "ipython",
    "version": 2
   },
   "file_extension": ".py",
   "mimetype": "text/x-python",
   "name": "python",
   "nbconvert_exporter": "python",
   "pygments_lexer": "ipython2",
   "version": "2.7.16"
  }
 },
 "nbformat": 4,
 "nbformat_minor": 2
}
