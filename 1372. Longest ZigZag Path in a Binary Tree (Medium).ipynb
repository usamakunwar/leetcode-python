{
 "cells": [
  {
   "cell_type": "markdown",
   "metadata": {},
   "source": [
    "# 1372. Longest ZigZag Path in a Binary Tree (Medium)"
   ]
  },
  {
   "cell_type": "markdown",
   "metadata": {},
   "source": [
    "<div><p>Given a binary tree <code>root</code>, a&nbsp;ZigZag path for a binary tree is defined as follow:</p>\n",
    "\n",
    "<ul>\n",
    "\t<li>Choose <strong>any </strong>node in the binary tree and a direction (right or left).</li>\n",
    "\t<li>If the current direction is right then move to the right child of the current node otherwise move to the left child.</li>\n",
    "\t<li>Change the direction from right to left or right to left.</li>\n",
    "\t<li>Repeat the second and third step until you can't move in the tree.</li>\n",
    "</ul>\n",
    "\n",
    "<p>Zigzag length is defined as the number of nodes visited - 1. (A single node has a length of 0).</p>\n",
    "\n",
    "<p>Return&nbsp;the longest <strong>ZigZag</strong> path contained in that tree.</p>\n",
    "\n",
    "<p>&nbsp;</p>\n",
    "<p><strong>Example 1:</strong></p>\n",
    "\n",
    "<p><strong><img alt=\"\" src=\"https://assets.leetcode.com/uploads/2020/01/22/sample_1_1702.png\" style=\"width: 151px; height: 283px;\"></strong></p>\n",
    "\n",
    "<pre><strong>Input:</strong> root = [1,null,1,1,1,null,null,1,1,null,1,null,null,null,1,null,1]\n",
    "<strong>Output:</strong> 3\n",
    "<strong>Explanation:</strong> Longest ZigZag path in blue nodes (right -&gt; left -&gt; right).\n",
    "</pre>\n",
    "\n",
    "<p><strong>Example 2:</strong></p>\n",
    "\n",
    "<p><strong><img alt=\"\" src=\"https://assets.leetcode.com/uploads/2020/01/22/sample_2_1702.png\" style=\"width: 120px; height: 253px;\"></strong></p>\n",
    "\n",
    "<pre><strong>Input:</strong> root = [1,1,1,null,1,null,null,1,1,null,1]\n",
    "<strong>Output:</strong> 4\n",
    "<strong>Explanation:</strong> Longest ZigZag path in blue nodes (left -&gt; right -&gt; left -&gt; right).\n",
    "</pre>\n",
    "\n",
    "<p><strong>Example 3:</strong></p>\n",
    "\n",
    "<pre><strong>Input:</strong> root = [1]\n",
    "<strong>Output:</strong> 0\n",
    "</pre>\n",
    "\n",
    "<p>&nbsp;</p>\n",
    "<p><strong>Constraints:</strong></p>\n",
    "\n",
    "<ul>\n",
    "\t<li>Each tree has at most <code>50000</code> nodes..</li>\n",
    "\t<li>Each node's value is between <code>[1, 100]</code>.</li>\n",
    "</ul></div>"
   ]
  },
  {
   "cell_type": "markdown",
   "metadata": {},
   "source": [
    "## Option 1\n",
    "<p>\n",
    "DFS\n",
    "<p>\n",
    "<p>\n",
    "Time complexity: O(n)\n",
    "    <br>\n",
    "Space complexity: O(n)\n"
   ]
  },
  {
   "cell_type": "code",
   "execution_count": null,
   "metadata": {
    "scrolled": true
   },
   "outputs": [],
   "source": [
    "# Definition for a binary tree node.\n",
    "# class TreeNode(object):\n",
    "#     def __init__(self, x):\n",
    "#         self.val = x\n",
    "#         self.left = None\n",
    "#         self.right = None\n",
    "\n",
    "class Solution(object):\n",
    "    def longestZigZag(self, root):\n",
    "        \"\"\"\n",
    "        :type root: TreeNode\n",
    "        :rtype: int\n",
    "        \"\"\"\n",
    "        if not root: return 0\n",
    "        self.res = 0\n",
    "        def search(node, dir, curr): #node, direction, current zigzag length       \n",
    "            self.res = max(self.res, curr)\n",
    "\n",
    "            if node.left: search(node.left, False, curr+1 if dir else 1)\n",
    "            if node.right: search(node.right, True, 1 if dir else curr+1)\n",
    "            \n",
    "        search(root, False, 0)\n",
    "        \n",
    "        return self.res"
   ]
  },
  {
   "cell_type": "markdown",
   "metadata": {},
   "source": [
    "#### Result: 492ms (75.59%)"
   ]
  }
 ],
 "metadata": {
  "kernelspec": {
   "display_name": "Python 2",
   "language": "python",
   "name": "python2"
  },
  "language_info": {
   "codemirror_mode": {
    "name": "ipython",
    "version": 2
   },
   "file_extension": ".py",
   "mimetype": "text/x-python",
   "name": "python",
   "nbconvert_exporter": "python",
   "pygments_lexer": "ipython2",
   "version": "2.7.16"
  }
 },
 "nbformat": 4,
 "nbformat_minor": 2
}
