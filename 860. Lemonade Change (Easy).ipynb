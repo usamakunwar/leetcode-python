{
 "cells": [
  {
   "cell_type": "markdown",
   "metadata": {},
   "source": [
    "# 860. Lemonade Change (Easy)"
   ]
  },
  {
   "cell_type": "markdown",
   "metadata": {},
   "source": [
    "<div><p>At a lemonade stand, each lemonade costs <code>5</code>.&nbsp;</p>\n",
    "\n",
    "<p>Customers are standing in a queue to buy from you, and order one at a time (in the order specified by <code>bills</code>).</p>\n",
    "\n",
    "<p>Each customer will only buy one lemonade and&nbsp;pay with either a <code>5</code>, <code>10</code>, or <code>20</code> bill.&nbsp; You must provide the correct change to each customer, so that the net transaction is that the customer pays 5.</p>\n",
    "\n",
    "<p>Note that you don't have any change&nbsp;in hand at first.</p>\n",
    "\n",
    "<p>Return <code>true</code>&nbsp;if and only if you can provide every customer with correct change.</p>\n",
    "\n",
    "<p>&nbsp;</p>\n",
    "\n",
    "<div>\n",
    "<p><strong>Example 1:</strong></p>\n",
    "\n",
    "<pre><strong>Input: </strong><span id=\"example-input-1-1\">[5,5,5,10,20]</span>\n",
    "<strong>Output: </strong><span id=\"example-output-1\">true</span>\n",
    "<strong>Explanation: </strong>\n",
    "From the first 3 customers, we collect three 5 bills in order.\n",
    "From the fourth customer, we collect a 10 bill and give back a 5.\n",
    "From the fifth customer, we give a 10 bill and a 5 bill.\n",
    "Since all customers got correct change, we output true.\n",
    "</pre>\n",
    "\n",
    "<div>\n",
    "<p><strong>Example 2:</strong></p>\n",
    "\n",
    "<pre><strong>Input: </strong><span id=\"example-input-2-1\">[5,5,10]</span>\n",
    "<strong>Output: </strong><span id=\"example-output-2\">true</span>\n",
    "</pre>\n",
    "\n",
    "<div>\n",
    "<p><strong>Example 3:</strong></p>\n",
    "\n",
    "<pre><strong>Input: </strong><span id=\"example-input-3-1\">[10,10]</span>\n",
    "<strong>Output: </strong><span id=\"example-output-3\">false</span>\n",
    "</pre>\n",
    "\n",
    "<div>\n",
    "<p><strong>Example 4:</strong></p>\n",
    "\n",
    "<pre><strong>Input: </strong><span id=\"example-input-4-1\">[5,5,10,10,20]</span>\n",
    "<strong>Output: </strong><span id=\"example-output-4\">false</span>\n",
    "<strong>Explanation: </strong>\n",
    "From the first two customers in order, we collect two 5 bills.\n",
    "For the next two customers in order, we collect a 10 bill and give back a 5 bill.\n",
    "For the last customer, we can't give change of 15 back because we only have two 10 bills.\n",
    "Since not every customer received correct change, the answer is false.\n",
    "</pre>\n",
    "\n",
    "<p>&nbsp;</p>\n",
    "\n",
    "<p><strong><span>Note:</span></strong></p>\n",
    "\n",
    "<ul>\n",
    "\t<li><code>0 &lt;= bills.length &lt;= 10000</code></li>\n",
    "\t<li><code>bills[i]</code>&nbsp;will be either&nbsp;<code>5</code>, <code>10</code>, or <code>20</code>.</li>\n",
    "</ul>\n",
    "</div>\n",
    "</div>\n",
    "</div>\n",
    "</div>\n",
    "</div>"
   ]
  },
  {
   "cell_type": "markdown",
   "metadata": {},
   "source": [
    "## Option 1\n",
    "<p>\n",
    "Time complexity = O(n)\n",
    "<br>\n",
    "Space complexity = O(1)"
   ]
  },
  {
   "cell_type": "code",
   "execution_count": null,
   "metadata": {
    "scrolled": true
   },
   "outputs": [],
   "source": [
    "import collections\n",
    "class Solution(object):\n",
    "    def lemonadeChange(self, bills):\n",
    "        till = collections.Counter()\n",
    "        for i in bills:\n",
    "            if i == 10: till[5] -= 1\n",
    "            if i == 20:\n",
    "                if till[10]: \n",
    "                    till[10] -= 1\n",
    "                    till[5] -= 1\n",
    "                else:\n",
    "                    till[5] -= 3\n",
    "            if till[5] < 0: return False\n",
    "            till[i] += 1    \n",
    "        return True\n",
    "Solution().lemonadeChange([10,10])\n",
    "        "
   ]
  },
  {
   "cell_type": "markdown",
   "metadata": {},
   "source": [
    "#### Result: 148ms (14.16%)"
   ]
  }
 ],
 "metadata": {
  "kernelspec": {
   "display_name": "Python 2",
   "language": "python",
   "name": "python2"
  },
  "language_info": {
   "codemirror_mode": {
    "name": "ipython",
    "version": 2
   },
   "file_extension": ".py",
   "mimetype": "text/x-python",
   "name": "python",
   "nbconvert_exporter": "python",
   "pygments_lexer": "ipython2",
   "version": "2.7.16"
  }
 },
 "nbformat": 4,
 "nbformat_minor": 2
}
