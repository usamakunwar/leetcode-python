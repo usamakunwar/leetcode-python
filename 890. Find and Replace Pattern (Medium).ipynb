{
 "cells": [
  {
   "cell_type": "markdown",
   "metadata": {},
   "source": [
    "# 890. Find and Replace Pattern (Medium)\n"
   ]
  },
  {
   "cell_type": "markdown",
   "metadata": {},
   "source": [
    "<div><p>You have a list of&nbsp;<code>words</code> and a <code>pattern</code>, and you want to know which words in <code>words</code> matches the pattern.</p>\n",
    "\n",
    "<p>A word matches the pattern if there exists a permutation of letters <code>p</code> so that after replacing every letter <code>x</code> in the pattern with <code>p(x)</code>, we get the desired word.</p>\n",
    "\n",
    "<p>(<em>Recall that a permutation of letters is a bijection from letters to letters: every letter maps to another letter, and no two letters map to the same letter.</em>)</p>\n",
    "\n",
    "<p>Return a list of the words in <code>words</code>&nbsp;that match the given pattern.&nbsp;</p>\n",
    "\n",
    "<p>You may return the answer in any order.</p>\n",
    "\n",
    "<p>&nbsp;</p>\n",
    "\n",
    "<div>\n",
    "<p><strong>Example 1:</strong></p>\n",
    "\n",
    "<pre><strong>Input: </strong>words = <span id=\"example-input-1-1\">[\"abc\",\"deq\",\"mee\",\"aqq\",\"dkd\",\"ccc\"]</span>, pattern = <span id=\"example-input-1-2\">\"abb\"</span>\n",
    "<strong>Output: </strong><span id=\"example-output-1\">[\"mee\",\"aqq\"]</span>\n",
    "<strong><span>Explanation: </span></strong>\"mee\" matches the pattern because there is a permutation {a -&gt; m, b -&gt; e, ...}. \n",
    "\"ccc\" does not match the pattern because {a -&gt; c, b -&gt; c, ...} is not a permutation,\n",
    "since a and b map to the same letter.</pre>\n",
    "\n",
    "<p>&nbsp;</p>\n",
    "\n",
    "<p><strong>Note:</strong></p>\n",
    "\n",
    "<ul>\n",
    "\t<li><code>1 &lt;= words.length &lt;= 50</code></li>\n",
    "\t<li><code>1 &lt;= pattern.length = words[i].length&nbsp;&lt;= 20</code></li>\n",
    "</ul>\n",
    "</div>\n",
    "</div>"
   ]
  },
  {
   "cell_type": "markdown",
   "metadata": {},
   "source": [
    "## Option 1\n",
    "\n",
    "Time complexity: O(nk) n = number of words  k = lenght of each word\n",
    "<br>\n",
    "Space complexity: O(nk) n = number of words  k = lenght of each word"
   ]
  },
  {
   "cell_type": "code",
   "execution_count": null,
   "metadata": {
    "scrolled": true
   },
   "outputs": [],
   "source": [
    "class Solution(object):\n",
    "    def findAndReplacePattern(self, words, pattern):\n",
    "        res, lp, p = [], len(pattern), len(set(pattern))\n",
    "        for w in words:\n",
    "            if len(set(zip(w,pattern))) == len(set(w)) == p and len(w) == lp:\n",
    "                res.append(w)\n",
    "        return res\n",
    "    \n",
    "Solution().findAndReplacePattern([\"abc\",\"deq\",\"mee\",\"aqq\",\"dkd\",\"ccc\"], 'abb')\n",
    "        "
   ]
  },
  {
   "cell_type": "markdown",
   "metadata": {},
   "source": [
    "#### Result: 16ms (90.83%)"
   ]
  }
 ],
 "metadata": {
  "kernelspec": {
   "display_name": "Python 2",
   "language": "python",
   "name": "python2"
  },
  "language_info": {
   "codemirror_mode": {
    "name": "ipython",
    "version": 2
   },
   "file_extension": ".py",
   "mimetype": "text/x-python",
   "name": "python",
   "nbconvert_exporter": "python",
   "pygments_lexer": "ipython2",
   "version": "2.7.16"
  }
 },
 "nbformat": 4,
 "nbformat_minor": 2
}
