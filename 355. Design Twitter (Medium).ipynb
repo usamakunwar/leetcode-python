{
 "cells": [
  {
   "cell_type": "markdown",
   "metadata": {},
   "source": [
    "# 355. Design Twitter (Medium)"
   ]
  },
  {
   "cell_type": "markdown",
   "metadata": {},
   "source": [
    "<div><p>Design a simplified version of Twitter where users can post tweets, follow/unfollow another user and is able to see the 10 most recent tweets in the user's news feed. Your design should support the following methods:</p>\n",
    "\n",
    "<p>\n",
    "</p><ol>\n",
    "<li><b>postTweet(userId, tweetId)</b>: Compose a new tweet.</li>\n",
    "<li><b>getNewsFeed(userId)</b>: Retrieve the 10 most recent tweet ids in the user's news feed. Each item in the news feed must be posted by users who the user followed or by the user herself. Tweets must be ordered from most recent to least recent.</li>\n",
    "<li><b>follow(followerId, followeeId)</b>: Follower follows a followee.</li>\n",
    "<li><b>unfollow(followerId, followeeId)</b>: Follower unfollows a followee.</li>\n",
    "</ol>\n",
    "<p></p>\n",
    "\n",
    "<p><b>Example:</b>\n",
    "</p><pre>Twitter twitter = new Twitter();\n",
    "\n",
    "// User 1 posts a new tweet (id = 5).\n",
    "twitter.postTweet(1, 5);\n",
    "\n",
    "// User 1's news feed should return a list with 1 tweet id -&gt; [5].\n",
    "twitter.getNewsFeed(1);\n",
    "\n",
    "// User 1 follows user 2.\n",
    "twitter.follow(1, 2);\n",
    "\n",
    "// User 2 posts a new tweet (id = 6).\n",
    "twitter.postTweet(2, 6);\n",
    "\n",
    "// User 1's news feed should return a list with 2 tweet ids -&gt; [6, 5].\n",
    "// Tweet id 6 should precede tweet id 5 because it is posted after tweet id 5.\n",
    "twitter.getNewsFeed(1);\n",
    "\n",
    "// User 1 unfollows user 2.\n",
    "twitter.unfollow(1, 2);\n",
    "\n",
    "// User 1's news feed should return a list with 1 tweet id -&gt; [5],\n",
    "// since user 1 is no longer following user 2.\n",
    "twitter.getNewsFeed(1);\n",
    "</pre>\n",
    "<p></p></div>"
   ]
  },
  {
   "cell_type": "markdown",
   "metadata": {},
   "source": [
    "## Option 1\n",
    "<p>"
   ]
  },
  {
   "cell_type": "markdown",
   "metadata": {},
   "source": [
    "## Option 1\n",
    "<p>\n",
    "Time complexity = O(f) no. of feeds\n",
    "<br>\n",
    "Space complexity = O(f)"
   ]
  },
  {
   "cell_type": "code",
   "execution_count": null,
   "metadata": {},
   "outputs": [],
   "source": [
    "import collections, bisect\n",
    "class Twitter(object):\n",
    "    def __init__(self):\n",
    "        self.tweets = [] #[(tweetId,userId)]\n",
    "        self.user_followers = collections.defaultdict(set) #userId:set(userId)\n",
    "    \n",
    "    def postTweet(self, userId, tweetId):\n",
    "        self.tweets.append((tweetId, userId))\n",
    "    \n",
    "    def getNewsFeed(self, userId):\n",
    "        if not userId: return []\n",
    "        self.user_followers[userId].add(userId)\n",
    "        return map(lambda x:x[0], filter(lambda x: x[1] in self.user_followers[userId], self.tweets))[-10:][::-1]\n",
    "    \n",
    "    def follow(self, followerId, followeeId):\n",
    "        if not followerId or not followeeId: return\n",
    "        self.user_followers[followerId].add(followeeId)\n",
    "    \n",
    "    def unfollow(self, followerId, followeeId):\n",
    "        if followeeId in self.user_followers[followerId]:\n",
    "            self.user_followers[followerId].remove(followeeId)"
   ]
  },
  {
   "cell_type": "markdown",
   "metadata": {},
   "source": [
    "#### Result: 992ms (5.32%)"
   ]
  },
  {
   "cell_type": "markdown",
   "metadata": {},
   "source": [
    "## Option 2"
   ]
  },
  {
   "cell_type": "code",
   "execution_count": null,
   "metadata": {},
   "outputs": [],
   "source": [
    "import collections, bisect\n",
    "class Twitter(object):\n",
    "    def __init__(self):\n",
    "        self.user_tweets = collections.defaultdict(let) #userId:[tweedId]\n",
    "        self.user_followers = collections.defaultdict(set) #userId:set(userId)\n",
    "        self.count = 0\n",
    "    \n",
    "    def postTweet(self, userId, tweetId):\n",
    "        self.count -= 1\n",
    "        self.user_tweets[userId].append((self.count, tweetId))\n",
    "    \n",
    "    def getNewsFeed(self, userId):\n",
    "        self.user_followers[userId].add(userId)\n",
    "        feed = sorted([(c,t) for uId in self.user_followers[userId] for c,t in self.user_tweets[uId]])[:10]\n",
    "        return map(lambda x:x[0], feed)\n",
    "    \n",
    "    def follow(self, followerId, followeeId):\n",
    "        if not followerId or not followeeId: return\n",
    "        self.user_followers[followerId].add(followeeId)\n",
    "    \n",
    "    def unfollow(self, followerId, followeeId):\n",
    "        if followeeId in self.user_followers[followerId]:\n",
    "            self.user_followers[followerId].remove(followeeId)"
   ]
  },
  {
   "cell_type": "markdown",
   "metadata": {},
   "source": [
    "#### Result: 80ms (74.47%)"
   ]
  }
 ],
 "metadata": {
  "kernelspec": {
   "display_name": "Python 2",
   "language": "python",
   "name": "python2"
  },
  "language_info": {
   "codemirror_mode": {
    "name": "ipython",
    "version": 2
   },
   "file_extension": ".py",
   "mimetype": "text/x-python",
   "name": "python",
   "nbconvert_exporter": "python",
   "pygments_lexer": "ipython2",
   "version": "2.7.16"
  }
 },
 "nbformat": 4,
 "nbformat_minor": 2
}
