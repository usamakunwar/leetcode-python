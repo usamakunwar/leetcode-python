{
 "cells": [
  {
   "cell_type": "markdown",
   "metadata": {},
   "source": [
    "# 128. Longest Consecutive Sequence (Hard)"
   ]
  },
  {
   "cell_type": "markdown",
   "metadata": {},
   "source": [
    "<div><p>Given an unsorted array of integers, find the length of the longest consecutive elements sequence.</p>\n",
    "\n",
    "<p>Your algorithm should run in O(<em>n</em>) complexity.</p>\n",
    "\n",
    "<p><strong>Example:</strong></p>\n",
    "\n",
    "<pre><strong>Input:</strong>&nbsp;[100, 4, 200, 1, 3, 2]\n",
    "<strong>Output:</strong> 4\n",
    "<strong>Explanation:</strong> The longest consecutive elements sequence is <code>[1, 2, 3, 4]</code>. Therefore its length is 4.\n",
    "</pre>\n",
    "</div>"
   ]
  },
  {
   "cell_type": "markdown",
   "metadata": {},
   "source": [
    "## Option 1\n",
    "<p>\n",
    "DFS\n",
    "<p>\n",
    "    <p>\n",
    "Time complexity = O(n)\n",
    "<br>\n",
    "Space complexity = O(n)"
   ]
  },
  {
   "cell_type": "code",
   "execution_count": null,
   "metadata": {},
   "outputs": [],
   "source": [
    "class Solution(object):\n",
    "    def longestConsecutive(self, nums):\n",
    "        self.graph = set(nums)\n",
    "        self.seen = {}\n",
    "        \n",
    "        def search(i):\n",
    "            if i in self.seen: return self.seen[i]\n",
    "            if i not in self.graph: return 0\n",
    "            res = search(i+1) + 1\n",
    "            self.seen[i] = res\n",
    "            return res\n",
    "        \n",
    "        return max([search(n) for n in nums])\n",
    "    \n",
    "Solution().longestConsecutive([100, 4, 200, 1, 3, 2])"
   ]
  },
  {
   "cell_type": "markdown",
   "metadata": {},
   "source": [
    "#### Result: 52ms (49.48%)"
   ]
  }
 ],
 "metadata": {
  "kernelspec": {
   "display_name": "Python 2",
   "language": "python",
   "name": "python2"
  },
  "language_info": {
   "codemirror_mode": {
    "name": "ipython",
    "version": 2
   },
   "file_extension": ".py",
   "mimetype": "text/x-python",
   "name": "python",
   "nbconvert_exporter": "python",
   "pygments_lexer": "ipython2",
   "version": "2.7.16"
  }
 },
 "nbformat": 4,
 "nbformat_minor": 2
}
