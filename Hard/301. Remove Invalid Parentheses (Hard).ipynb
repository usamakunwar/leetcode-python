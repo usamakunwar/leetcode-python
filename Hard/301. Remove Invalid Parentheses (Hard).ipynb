{
 "cells": [
  {
   "cell_type": "markdown",
   "metadata": {},
   "source": [
    "# 301. Remove Invalid Parentheses (Hard)"
   ]
  },
  {
   "cell_type": "markdown",
   "metadata": {},
   "source": [
    "<div><p>Remove the minimum number of invalid parentheses in order to make the input string valid. Return all possible results.</p>\n",
    "\n",
    "<p><strong>Note:</strong>&nbsp;The input string may contain letters other than the parentheses <code>(</code> and <code>)</code>.</p>\n",
    "\n",
    "<p><b>Example 1:</b></p>\n",
    "\n",
    "<pre><b>Input:</b> \"()())()\"\n",
    "<b>Output:</b> [\"()()()\", \"(())()\"]\n",
    "</pre>\n",
    "\n",
    "<p><b>Example 2:</b></p>\n",
    "\n",
    "<pre><b>Input:</b> \"(a)())()\"\n",
    "<b>Output:</b> [\"(a)()()\", \"(a())()\"]\n",
    "</pre>\n",
    "\n",
    "<p><b>Example 3:</b></p>\n",
    "\n",
    "<pre><b>Input:</b> \")(\"\n",
    "<b>Output: </b>[\"\"]\n",
    "</pre></div>"
   ]
  },
  {
   "cell_type": "markdown",
   "metadata": {},
   "source": [
    "## Option 1\n",
    " <p>    \n",
    "DFS\n",
    "<p>\n",
    "            \n",
    "Time complexity: O(2^n)\n",
    "    <br>\n",
    "Space complexity: O(n) "
   ]
  },
  {
   "cell_type": "code",
   "execution_count": null,
   "metadata": {},
   "outputs": [],
   "source": [
    "class Solution(object):\n",
    "    def removeInvalidParentheses(self, S):\n",
    "        count = balance = 0\n",
    "        for s in S:\n",
    "            if s not in '()': continue\n",
    "            balance += 1 if s == '(' else -1\n",
    "            if balance < 0 :\n",
    "                count += 1\n",
    "                balance = 0\n",
    "                \n",
    "        count += balance\n",
    "\n",
    "        self.res = set()\n",
    "        \n",
    "        def search(i, curr, balance, count):\n",
    "            while i < len(S) and S[i] not in '()': \n",
    "                curr += S[i]\n",
    "                i += 1\n",
    "            \n",
    "            if i == len(S):\n",
    "                if count == 0 and balance == 0:\n",
    "                    self.res.add(curr)\n",
    "                return\n",
    "                \n",
    "            if count > 0:\n",
    "                search(i+1, curr, balance, count-1)\n",
    "            \n",
    "            balance += 1 if S[i] == '(' else -1 \n",
    "            \n",
    "            if balance >= 0:\n",
    "                search(i+1, curr+S[i], balance, count)\n",
    "            \n",
    "            \n",
    "        search(0,'', 0, count)\n",
    "        \n",
    "        return list(self.res)\n",
    "\n",
    "Solution().removeInvalidParentheses(\")(\")\n"
   ]
  },
  {
   "cell_type": "markdown",
   "metadata": {},
   "source": [
    "#### Result: 300ms (29.19%)"
   ]
  }
 ],
 "metadata": {
  "kernelspec": {
   "display_name": "Python 2",
   "language": "python",
   "name": "python2"
  },
  "language_info": {
   "codemirror_mode": {
    "name": "ipython",
    "version": 2
   },
   "file_extension": ".py",
   "mimetype": "text/x-python",
   "name": "python",
   "nbconvert_exporter": "python",
   "pygments_lexer": "ipython2",
   "version": "2.7.16"
  }
 },
 "nbformat": 4,
 "nbformat_minor": 2
}
