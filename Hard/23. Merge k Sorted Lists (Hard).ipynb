{
 "cells": [
  {
   "cell_type": "markdown",
   "metadata": {},
   "source": [
    "# 23. Merge k Sorted Lists (Hard)"
   ]
  },
  {
   "cell_type": "markdown",
   "metadata": {},
   "source": [
    "<div><p>You are given an array of <code>k</code> linked-lists <code>lists</code>, each linked-list is sorted in ascending order.</p>\n",
    "\n",
    "<p><em>Merge all the linked-lists into one sorted linked-list and return it.</em></p>\n",
    "\n",
    "<p>&nbsp;</p>\n",
    "<p><strong>Example 1:</strong></p>\n",
    "\n",
    "<pre><strong>Input:</strong> lists = [[1,4,5],[1,3,4],[2,6]]\n",
    "<strong>Output:</strong> [1,1,2,3,4,4,5,6]\n",
    "<strong>Explanation:</strong> The linked-lists are:\n",
    "[\n",
    "  1-&gt;4-&gt;5,\n",
    "  1-&gt;3-&gt;4,\n",
    "  2-&gt;6\n",
    "]\n",
    "merging them into one sorted list:\n",
    "1-&gt;1-&gt;2-&gt;3-&gt;4-&gt;4-&gt;5-&gt;6\n",
    "</pre>\n",
    "\n",
    "<p><strong>Example 2:</strong></p>\n",
    "\n",
    "<pre><strong>Input:</strong> lists = []\n",
    "<strong>Output:</strong> []\n",
    "</pre>\n",
    "\n",
    "<p><strong>Example 3:</strong></p>\n",
    "\n",
    "<pre><strong>Input:</strong> lists = [[]]\n",
    "<strong>Output:</strong> []\n",
    "</pre>\n",
    "\n",
    "<p>&nbsp;</p>\n",
    "<p><strong>Constraints:</strong></p>\n",
    "\n",
    "<ul>\n",
    "\t<li><code>k == lists.length</code></li>\n",
    "\t<li><code>0 &lt;= k &lt;= 10^4</code></li>\n",
    "\t<li><code>0 &lt;= lists[i].length &lt;= 500</code></li>\n",
    "\t<li><code>-10^4 &lt;= lists[i][j] &lt;= 10^4</code></li>\n",
    "\t<li><code>lists[i]</code> is sorted in <strong>ascending order</strong>.</li>\n",
    "\t<li>The sum of <code>lists[i].length</code> won't exceed <code>10^4</code>.</li>\n",
    "</ul>\n",
    "</div>"
   ]
  },
  {
   "cell_type": "markdown",
   "metadata": {},
   "source": [
    "## Option 1\n",
    " <p>    \n",
    "Priority Queue\n",
    "<p>\n",
    "            \n",
    "Time complexity: O(nlogk) n = total nodes, k = length(lists)\n",
    "    <br>\n",
    "Space complexity: O(n) "
   ]
  },
  {
   "cell_type": "code",
   "execution_count": null,
   "metadata": {},
   "outputs": [],
   "source": [
    "class Solution(object):\n",
    "    def mergeKLists(self, lists):\n",
    "        \n",
    "        h = map(lambda x:(x.val, x.next) if x else (None,None) , lists)\n",
    "        heapq.heapify(h)\n",
    "        \n",
    "        head = ListNode()\n",
    "        curr = head\n",
    "        \n",
    "        while h:\n",
    "            val, linkedlist = heapq.heappop(h)\n",
    "            if linkedlist:\n",
    "                heapq.heappush(h,(linkedlist.val, linkedlist.next))\n",
    "            if val != None:\n",
    "                curr.next = ListNode(val)\n",
    "                curr = curr.next            \n",
    "            \n",
    "        return head.next\n",
    "    "
   ]
  },
  {
   "cell_type": "markdown",
   "metadata": {},
   "source": [
    "#### Result: 76ms (99.31%)"
   ]
  }
 ],
 "metadata": {
  "kernelspec": {
   "display_name": "Python 2",
   "language": "python",
   "name": "python2"
  },
  "language_info": {
   "codemirror_mode": {
    "name": "ipython",
    "version": 2
   },
   "file_extension": ".py",
   "mimetype": "text/x-python",
   "name": "python",
   "nbconvert_exporter": "python",
   "pygments_lexer": "ipython2",
   "version": "2.7.16"
  }
 },
 "nbformat": 4,
 "nbformat_minor": 2
}
