{
 "cells": [
  {
   "cell_type": "markdown",
   "metadata": {},
   "source": [
    "# 1377. Frog Position After T Seconds (Hard)"
   ]
  },
  {
   "cell_type": "markdown",
   "metadata": {},
   "source": [
    "<div><p>Given an undirected tree&nbsp;consisting of <code>n</code> vertices numbered from 1 to <code>n</code>. A frog starts jumping&nbsp;from the <strong>vertex 1</strong>. In one second, the frog&nbsp;jumps from its&nbsp;current&nbsp;vertex to another <strong>unvisited</strong> vertex if they are directly connected. The frog can not jump back to a visited vertex.&nbsp;In case the frog can jump to several vertices it jumps randomly to one of them with the same probability, otherwise, when the frog can not jump to any unvisited vertex it jumps forever on the same vertex.&nbsp;</p>\n",
    "\n",
    "<p>The edges of the undirected tree&nbsp;are given in the array <code>edges</code>, where <code>edges[i] = [from<sub>i</sub>, to<sub>i</sub>]</code> means that exists an edge connecting directly the vertices <code>from<sub>i</sub></code> and <code>to<sub>i</sub></code>.</p>\n",
    "\n",
    "<p><em>Return the probability that after <code>t</code> seconds the frog is on the vertex <code><font face=\"monospace\">target</font></code>.</em></p>\n",
    "\n",
    "<p>&nbsp;</p>\n",
    "<p><strong>Example 1:</strong></p>\n",
    "\n",
    "<p><img alt=\"\" src=\"https://assets.leetcode.com/uploads/2020/02/20/frog_2.png\" style=\"width: 350px; height: 236px;\"></p>\n",
    "\n",
    "<pre><strong>Input:</strong> n = 7, edges = [[1,2],[1,3],[1,7],[2,4],[2,6],[3,5]], t = 2, target = 4\n",
    "<strong>Output:</strong> 0.16666666666666666 \n",
    "<strong>Explanation: </strong>The figure above shows the given graph. The frog starts at vertex 1, jumping with 1/3 probability to the vertex 2 after <strong>second 1</strong> and then jumping with 1/2 probability to vertex 4 after <strong>second 2</strong>. Thus the probability for the frog is on the vertex 4 after 2 seconds is 1/3 * 1/2 = 1/6 = 0.16666666666666666. \n",
    "</pre>\n",
    "\n",
    "<p><strong>Example 2:</strong></p>\n",
    "\n",
    "<p><strong><img alt=\"\" src=\"https://assets.leetcode.com/uploads/2020/02/20/frog_3.png\" style=\"width: 350px; height: 236px;\"></strong></p>\n",
    "\n",
    "<pre><strong>Input:</strong> n = 7, edges = [[1,2],[1,3],[1,7],[2,4],[2,6],[3,5]], t = 1, target = 7\n",
    "<strong>Output:</strong> 0.3333333333333333\n",
    "<strong>Explanation: </strong>The figure above shows the given graph. The frog starts at vertex 1, jumping with 1/3 = 0.3333333333333333 probability to the vertex 7 after <strong>second 1</strong>. \n",
    "</pre>\n",
    "\n",
    "<p><strong>Example 3:</strong></p>\n",
    "\n",
    "<pre><strong>Input:</strong> n = 7, edges = [[1,2],[1,3],[1,7],[2,4],[2,6],[3,5]], t = 20, target = 6\n",
    "<strong>Output:</strong> 0.16666666666666666\n",
    "</pre>\n",
    "\n",
    "<p>&nbsp;</p>\n",
    "<p><strong>Constraints:</strong></p>\n",
    "\n",
    "<ul>\n",
    "\t<li><code>1 &lt;= n &lt;= 100</code></li>\n",
    "\t<li><code>edges.length == n-1</code></li>\n",
    "\t<li><code>edges[i].length == 2</code></li>\n",
    "\t<li><code>1 &lt;= edges[i][0], edges[i][1] &lt;= n</code></li>\n",
    "\t<li><code>1 &lt;= t&nbsp;&lt;= 50</code></li>\n",
    "\t<li><code>1 &lt;= target&nbsp;&lt;= n</code></li>\n",
    "\t<li>Answers within <code>10^-5</code> of the actual value will be accepted as correct.</li>\n",
    "</ul>\n",
    "</div>"
   ]
  },
  {
   "cell_type": "markdown",
   "metadata": {},
   "source": [
    "## Option 1\n",
    " <p>    \n",
    "   DFS\n",
    "<p>\n",
    "<p>\n",
    "Time complexity: O(n)\n",
    "    <br>\n",
    "Space complexity: O(n)  "
   ]
  },
  {
   "cell_type": "code",
   "execution_count": null,
   "metadata": {},
   "outputs": [],
   "source": [
    "import collections\n",
    "import heapq\n",
    "\n",
    "class Solution(object):\n",
    "    def frogPosition(self, n, edges, t, target):\n",
    "        graph = collections.defaultdict(set)\n",
    "        for u,v in edges:\n",
    "            graph[u].add(v)\n",
    "            graph[v].add(u)\n",
    "            \n",
    "            \n",
    "        def search(i,lev,curr):\n",
    "            if i == target:\n",
    "                return curr if lev == t or len(graph[i]) == 0 else 0\n",
    "            if lev == t: return 0\n",
    "                 \n",
    "            \n",
    "            if graph[i]:\n",
    "                curr *= 1/float(len(graph[i]))\n",
    "            for j in graph[i]:\n",
    "                graph[j].remove(i)\n",
    "                s = search(j, lev+1, curr)\n",
    "                if s: return s\n",
    "    \n",
    "            return 0\n",
    "            \n",
    "        return search(1,0,1)\n",
    "        \n",
    "Solution().frogPosition(7, [[1,2],[1,3],[1,7],[2,4],[2,6],[3,5]],20, 6)\n"
   ]
  },
  {
   "cell_type": "markdown",
   "metadata": {},
   "source": [
    "#### Result: 72ms (84.00%)"
   ]
  }
 ],
 "metadata": {
  "kernelspec": {
   "display_name": "Python 2",
   "language": "python",
   "name": "python2"
  },
  "language_info": {
   "codemirror_mode": {
    "name": "ipython",
    "version": 2
   },
   "file_extension": ".py",
   "mimetype": "text/x-python",
   "name": "python",
   "nbconvert_exporter": "python",
   "pygments_lexer": "ipython2",
   "version": "2.7.16"
  }
 },
 "nbformat": 4,
 "nbformat_minor": 2
}
