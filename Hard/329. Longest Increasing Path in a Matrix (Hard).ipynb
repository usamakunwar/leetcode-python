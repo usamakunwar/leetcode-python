{
 "cells": [
  {
   "cell_type": "markdown",
   "metadata": {},
   "source": [
    "# 329. Longest Increasing Path in a Matrix (Hard)"
   ]
  },
  {
   "cell_type": "markdown",
   "metadata": {},
   "source": [
    "<div><p>Given an integer matrix, find the length of the longest increasing path.</p>\n",
    "\n",
    "<p>From each cell, you can either move to four directions: left, right, up or down. You may NOT move diagonally or move outside of the boundary (i.e. wrap-around is not allowed).</p>\n",
    "\n",
    "<p><b>Example 1:</b></p>\n",
    "\n",
    "<pre><strong>Input: </strong>nums = \n",
    "[\n",
    "  [<font color=\"red\">9</font>,9,4],\n",
    "  [<font color=\"red\">6</font>,6,8],\n",
    "  [<font color=\"red\">2</font>,<font color=\"red\">1</font>,1]\n",
    "] \n",
    "<strong>Output:</strong> 4 \n",
    "<strong>Explanation:</strong> The longest increasing path is <code>[1, 2, 6, 9]</code>.\n",
    "</pre>\n",
    "\n",
    "<p><b>Example 2:</b></p>\n",
    "\n",
    "<pre><strong>Input:</strong> nums = \n",
    "[\n",
    "  [<font color=\"red\">3</font>,<font color=\"red\">4</font>,<font color=\"red\">5</font>],\n",
    "  [3,2,<font color=\"red\">6</font>],\n",
    "  [2,2,1]\n",
    "] \n",
    "<strong>Output: </strong>4 \n",
    "<strong>Explanation: </strong>The longest increasing path is <code>[3, 4, 5, 6]</code>. Moving diagonally is not allowed.\n",
    "</pre>\n",
    "</div>"
   ]
  },
  {
   "cell_type": "markdown",
   "metadata": {},
   "source": [
    "## Option 1\n",
    "<p>\n",
    "    DFS\n",
    "    <p>\n",
    "Time complexity = O(mn)\n",
    "<br>\n",
    "Space complexity = O(mn)"
   ]
  },
  {
   "cell_type": "code",
   "execution_count": null,
   "metadata": {},
   "outputs": [],
   "source": [
    "import collections\n",
    "\n",
    "class Solution(object):\n",
    "    def longestIncreasingPath(self, matrix):\n",
    "        if not matrix: return 0\n",
    "        m,n = len(matrix), len(matrix[0])\n",
    "        self.seen = {}\n",
    "        \n",
    "        def search(i,j):\n",
    "            if (i,j) in self.seen: return self.seen[(i,j)]\n",
    "            res = 1\n",
    "            for ni,nj in ((i,j+1),(i+1,j),(i,j-1),(i-1,j)):\n",
    "                if ni >= 0 and ni < m and nj >= 0 and nj < n and matrix[ni][nj] > matrix[i][j] :\n",
    "                    res = max(res, search(ni,nj)+1) \n",
    "            self.seen[(i,j)] = res\n",
    "            return res\n",
    "            \n",
    "        res = 0\n",
    "        for i in range(m):\n",
    "            for j in range(n):\n",
    "                res = max(res,search(i,j))\n",
    "        return res\n",
    "        \n",
    "        \n",
    "Solution().longestIncreasingPath([[9,9,4,15,16,3,4],\n",
    "                                  [6,6,8,14,17,2,3],\n",
    "                                  [2,7,1,13,18,3,2],\n",
    "                                  [2,8,11,12,19,3,2],\n",
    "                                  [2,9,10,3,4,20,21],\n",
    "                                 ] )\n",
    "        "
   ]
  },
  {
   "cell_type": "markdown",
   "metadata": {},
   "source": [
    "#### Result: 468ms (64.77%)"
   ]
  }
 ],
 "metadata": {
  "kernelspec": {
   "display_name": "Python 2",
   "language": "python",
   "name": "python2"
  },
  "language_info": {
   "codemirror_mode": {
    "name": "ipython",
    "version": 2
   },
   "file_extension": ".py",
   "mimetype": "text/x-python",
   "name": "python",
   "nbconvert_exporter": "python",
   "pygments_lexer": "ipython2",
   "version": "2.7.16"
  }
 },
 "nbformat": 4,
 "nbformat_minor": 2
}
