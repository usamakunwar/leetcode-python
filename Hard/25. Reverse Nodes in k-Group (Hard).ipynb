{
 "cells": [
  {
   "cell_type": "markdown",
   "metadata": {},
   "source": [
    "# 25. Reverse Nodes in k-Group (Hard)"
   ]
  },
  {
   "cell_type": "markdown",
   "metadata": {},
   "source": [
    "<div><p>Given a linked list, reverse the nodes of a linked list <em>k</em> at a time and return its modified list.</p>\n",
    "\n",
    "<p><em>k</em> is a positive integer and is less than or equal to the length of the linked list. If the number of nodes is not a multiple of <em>k</em> then left-out nodes in the end should remain as it is.</p>\n",
    "\n",
    "<ul>\n",
    "</ul>\n",
    "\n",
    "<p><strong>Example:</strong></p>\n",
    "\n",
    "<p>Given this linked list: <code>1-&gt;2-&gt;3-&gt;4-&gt;5</code></p>\n",
    "\n",
    "<p>For <em>k</em> = 2, you should return: <code>2-&gt;1-&gt;4-&gt;3-&gt;5</code></p>\n",
    "\n",
    "<p>For <em>k</em> = 3, you should return: <code>3-&gt;2-&gt;1-&gt;4-&gt;5</code></p>\n",
    "\n",
    "<p><strong>Note:</strong></p>\n",
    "\n",
    "<ul>\n",
    "\t<li>Only constant extra memory is allowed.</li>\n",
    "\t<li>You may not alter the values in the list's nodes, only nodes itself may be changed.</li>\n",
    "</ul>\n",
    "</div>"
   ]
  },
  {
   "cell_type": "markdown",
   "metadata": {},
   "source": [
    "## Option 1\n",
    " <p>    \n",
    "\n",
    "<p>\n",
    "            \n",
    "Time complexity: O(n)\n",
    "    <br>\n",
    "Space complexity: O(1) "
   ]
  },
  {
   "cell_type": "code",
   "execution_count": null,
   "metadata": {},
   "outputs": [],
   "source": [
    "class Solution(object):\n",
    "    def reverseKGroup(self, head, k):\n",
    "        sentinel = ListNode(0)\n",
    "        \n",
    "        prev = sentinel\n",
    "        curr = head        \n",
    "        while curr:\n",
    "            curr_head = curr #This pointer is essentially the end of the k size list, needed for the next reversal       \n",
    "            i = 0\n",
    "            #Reverse the list even if its less than i\n",
    "            while curr and i < k:\n",
    "                new = curr\n",
    "                curr = curr.next\n",
    "\n",
    "                new.next = prev.next\n",
    "                prev.next = new\n",
    "                i += 1\n",
    "            #At the end if i < k, reverse the end again, so it follows the requirement\n",
    "            if i < k:\n",
    "                curr = prev.next\n",
    "                prev.next = None\n",
    "                k = i\n",
    "            else:\n",
    "                prev = curr_head\n",
    "            \n",
    "        return sentinel.next\n",
    "        "
   ]
  },
  {
   "cell_type": "markdown",
   "metadata": {},
   "source": [
    "#### Result: 40ms (74.71%)"
   ]
  }
 ],
 "metadata": {
  "kernelspec": {
   "display_name": "Python 2",
   "language": "python",
   "name": "python2"
  },
  "language_info": {
   "codemirror_mode": {
    "name": "ipython",
    "version": 2
   },
   "file_extension": ".py",
   "mimetype": "text/x-python",
   "name": "python",
   "nbconvert_exporter": "python",
   "pygments_lexer": "ipython2",
   "version": "2.7.16"
  }
 },
 "nbformat": 4,
 "nbformat_minor": 2
}
