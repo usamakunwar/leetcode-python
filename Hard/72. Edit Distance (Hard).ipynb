{
 "cells": [
  {
   "cell_type": "markdown",
   "metadata": {},
   "source": [
    "# 72. Edit Distance (Hard)"
   ]
  },
  {
   "cell_type": "markdown",
   "metadata": {},
   "source": [
    "<div><p>Given two words <em>word1</em> and <em>word2</em>, find the minimum number of operations required to convert <em>word1</em> to <em>word2</em>.</p>\n",
    "\n",
    "<p>You have the following 3 operations permitted on a word:</p>\n",
    "\n",
    "<ol>\n",
    "\t<li>Insert a character</li>\n",
    "\t<li>Delete a character</li>\n",
    "\t<li>Replace a character</li>\n",
    "</ol>\n",
    "\n",
    "<p><strong>Example 1:</strong></p>\n",
    "\n",
    "<pre><strong>Input:</strong> word1 = \"horse\", word2 = \"ros\"\n",
    "<strong>Output:</strong> 3\n",
    "<strong>Explanation:</strong> \n",
    "horse -&gt; rorse (replace 'h' with 'r')\n",
    "rorse -&gt; rose (remove 'r')\n",
    "rose -&gt; ros (remove 'e')\n",
    "</pre>\n",
    "\n",
    "<p><strong>Example 2:</strong></p>\n",
    "\n",
    "<pre><strong>Input:</strong> word1 = \"intention\", word2 = \"execution\"\n",
    "<strong>Output:</strong> 5\n",
    "<strong>Explanation:</strong> \n",
    "intention -&gt; inention (remove 't')\n",
    "inention -&gt; enention (replace 'i' with 'e')\n",
    "enention -&gt; exention (replace 'n' with 'x')\n",
    "exention -&gt; exection (replace 'n' with 'c')\n",
    "exection -&gt; execution (insert 'u')\n",
    "</pre>\n",
    "</div>"
   ]
  },
  {
   "cell_type": "markdown",
   "metadata": {},
   "source": [
    "## Option 1\n",
    "<p>\n",
    "    BFS\n",
    "    <p>\n",
    "        <p>"
   ]
  },
  {
   "cell_type": "code",
   "execution_count": null,
   "metadata": {},
   "outputs": [],
   "source": [
    "import collections\n",
    "class Solution(object):\n",
    "    def minDistance(self, word1, word2):\n",
    "        \n",
    "        l1, l2 = len(word1), len(word2)\n",
    "        q = collections.deque([(0,0,0)])\n",
    "        self.seen = set()\n",
    "        \n",
    "        while q:\n",
    "            i,j,lev = q.popleft()\n",
    "            if (i,j,lev) in self.seen: continue\n",
    "            self.seen.add((i,j,lev))\n",
    "            \n",
    "            while i < l1 and j < l2 and word1[i] == word2[j]:\n",
    "                i += 1\n",
    "                j += 1\n",
    "            \n",
    "            if i >= l1 and j >= l2: return lev\n",
    "            \n",
    "            if i < l1 and j < l2: q.append((i+1,j+1,lev+1)) #replace\n",
    "            if j < l2 : q.append((i,j+1,lev+1)) #insert\n",
    "            if i < l1: q.append((i+1,j,lev+1)) #delete\n",
    "\n",
    "Solution().minDistance(\"intention\",\"execution\")\n"
   ]
  },
  {
   "cell_type": "markdown",
   "metadata": {},
   "source": [
    "#### Result: 100ms (93.55%)"
   ]
  }
 ],
 "metadata": {
  "kernelspec": {
   "display_name": "Python 2",
   "language": "python",
   "name": "python2"
  },
  "language_info": {
   "codemirror_mode": {
    "name": "ipython",
    "version": 2
   },
   "file_extension": ".py",
   "mimetype": "text/x-python",
   "name": "python",
   "nbconvert_exporter": "python",
   "pygments_lexer": "ipython2",
   "version": "2.7.16"
  }
 },
 "nbformat": 4,
 "nbformat_minor": 2
}
