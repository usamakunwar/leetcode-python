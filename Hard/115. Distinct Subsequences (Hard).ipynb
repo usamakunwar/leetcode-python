{
 "cells": [
  {
   "cell_type": "markdown",
   "metadata": {},
   "source": [
    "# 115. Distinct Subsequences (Hard)"
   ]
  },
  {
   "cell_type": "markdown",
   "metadata": {},
   "source": [
    "<div><p>Given a string <strong>S</strong> and a string <strong>T</strong>, count the number of distinct subsequences of <strong>S</strong> which equals <strong>T</strong>.</p>\n",
    "\n",
    "<p>A subsequence of a string is a new string which is formed from the original string by deleting some (can be none) of the characters without disturbing the relative positions of the remaining characters. (ie, <code>\"ACE\"</code> is a subsequence of <code>\"ABCDE\"</code> while <code>\"AEC\"</code> is not).</p>\n",
    "\n",
    "<p>It's guaranteed the answer fits on a 32-bit signed integer.</p>\n",
    "\n",
    "<p><strong>Example 1:</strong></p>\n",
    "\n",
    "<pre><strong>Input: </strong>S = <code>\"rabbbit\"</code>, T = <code>\"rabbit\"\n",
    "<strong>Output:</strong>&nbsp;3\n",
    "</code><strong>Explanation:</strong>\n",
    "As shown below, there are 3 ways you can generate \"rabbit\" from S.\n",
    "(The caret symbol ^ means the chosen letters)\n",
    "\n",
    "<code>rabbbit</code>\n",
    "^^^^ ^^\n",
    "<code>rabbbit</code>\n",
    "^^ ^^^^\n",
    "<code>rabbbit</code>\n",
    "^^^ ^^^\n",
    "</pre>\n",
    "\n",
    "<p><strong>Example 2:</strong></p>\n",
    "\n",
    "<pre><strong>Input: </strong>S = <code>\"babgbag\"</code>, T = <code>\"bag\"\n",
    "<strong>Output:</strong>&nbsp;5\n",
    "</code><strong>Explanation:</strong>\n",
    "As shown below, there are 5 ways you can generate \"bag\" from S.\n",
    "(The caret symbol ^ means the chosen letters)\n",
    "\n",
    "<code>babgbag</code>\n",
    "^^ ^\n",
    "<code>babgbag</code>\n",
    "^^    ^\n",
    "<code>babgbag</code>\n",
    "^    ^^\n",
    "<code>babgbag</code>\n",
    "  ^  ^^\n",
    "<code>babgbag</code>\n",
    "    ^^^\n",
    "</pre>\n",
    "</div>"
   ]
  },
  {
   "cell_type": "markdown",
   "metadata": {},
   "source": [
    "## Option 1\n",
    "\n",
    "Top Down"
   ]
  },
  {
   "cell_type": "code",
   "execution_count": null,
   "metadata": {
    "scrolled": false
   },
   "outputs": [],
   "source": [
    "class Solution(object):\n",
    "    def numDistinct(self, s, t):\n",
    "        self.seen = {}\n",
    "        def search(i, curr):\n",
    "            if i == len(t): return 1\n",
    "            if (i,curr) in self.seen: return self.seen[(i,curr)]\n",
    "            res = 0\n",
    "            for j in range(len(curr)):\n",
    "                if curr[j] != t[i]: continue\n",
    "                res += search(i+1, curr[j+1:])\n",
    "            self.seen[(i,curr)] = res\n",
    "            return res\n",
    "            \n",
    "        return search(0, s)\n",
    "        \n",
    "    \n",
    "Solution().numDistinct(\"rabbbit\", \"rabbit\")"
   ]
  },
  {
   "cell_type": "markdown",
   "metadata": {},
   "source": [
    "#### Result: 828ms (5.05%)"
   ]
  }
 ],
 "metadata": {
  "kernelspec": {
   "display_name": "Python 2",
   "language": "python",
   "name": "python2"
  },
  "language_info": {
   "codemirror_mode": {
    "name": "ipython",
    "version": 2
   },
   "file_extension": ".py",
   "mimetype": "text/x-python",
   "name": "python",
   "nbconvert_exporter": "python",
   "pygments_lexer": "ipython2",
   "version": "2.7.16"
  }
 },
 "nbformat": 4,
 "nbformat_minor": 2
}
