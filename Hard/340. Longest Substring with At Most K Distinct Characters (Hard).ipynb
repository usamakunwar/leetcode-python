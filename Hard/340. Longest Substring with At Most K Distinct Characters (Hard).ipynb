{
 "cells": [
  {
   "cell_type": "markdown",
   "metadata": {},
   "source": [
    "# 340. Longest Substring with At Most K Distinct Characters (Hard)"
   ]
  },
  {
   "cell_type": "markdown",
   "metadata": {},
   "source": [
    "<div><p>Given a string, find the length of the longest substring T that contains at most <i>k</i> distinct characters.</p>\n",
    "\n",
    "<p><strong>Example 1:</strong></p>\n",
    "\n",
    "<div>\n",
    "<pre><strong>Input: </strong>s = <span id=\"example-input-1-1\">\"eceba\"</span>, k = <span id=\"example-input-1-2\">2</span>\n",
    "<strong>Output: </strong><span id=\"example-output-1\">3</span>\n",
    "<strong>Explanation: </strong>T is \"ece\" which its length is 3.</pre>\n",
    "\n",
    "<div>\n",
    "<p><strong>Example 2:</strong></p>\n",
    "\n",
    "<pre><strong>Input: </strong>s = <span id=\"example-input-2-1\">\"aa\"</span>, k = <span id=\"example-input-2-2\">1</span>\n",
    "<strong>Output: </strong>2\n",
    "<strong>Explanation: </strong>T is \"aa\" which its length is 2.\n",
    "</pre>\n",
    "</div>\n",
    "</div></div>"
   ]
  },
  {
   "cell_type": "markdown",
   "metadata": {},
   "source": [
    "## Option 1\n",
    "<p>\n",
    "    Prefix sum\n",
    "    <p>\n",
    "   <li>If we are going beyond K, we need to remove the smallest possible prefix array to make the current subarray valid again. \n",
    "   <li>The smallest possible prefix array is the minimum right most index of any character. We find this using min(m, key=m.get). This can still be O(n) as the number of distinct characters are always known/limited\n",
    "    <p>\n",
    "        <p>\n",
    "Time complexity = O(n)\n",
    "<br>\n",
    "Space complexity = O(n)"
   ]
  },
  {
   "cell_type": "code",
   "execution_count": null,
   "metadata": {},
   "outputs": [],
   "source": [
    "class Solution(object):\n",
    "    def lengthOfLongestSubstringKDistinct(self, s, k):\n",
    "        if not k: return 0\n",
    "        m = {}\n",
    "        left = res = 0\n",
    "        for i in range(len(s)):\n",
    "            if len(m) == k and s[i] not in m:\n",
    "                to_remove = min(m, key=m.get)\n",
    "                left = m[to_remove]+1\n",
    "                del m[to_remove]\n",
    "            m[s[i]] = i\n",
    "            res = max(res, i-left+1)\n",
    "        \n",
    "        return res\n",
    "        \n",
    "Solution().lengthOfLongestSubstringKDistinct(\"eceba\", 2)\n",
    "        "
   ]
  },
  {
   "cell_type": "markdown",
   "metadata": {},
   "source": [
    "#### Result: 56ms (89.43%)"
   ]
  }
 ],
 "metadata": {
  "kernelspec": {
   "display_name": "Python 2",
   "language": "python",
   "name": "python2"
  },
  "language_info": {
   "codemirror_mode": {
    "name": "ipython",
    "version": 2
   },
   "file_extension": ".py",
   "mimetype": "text/x-python",
   "name": "python",
   "nbconvert_exporter": "python",
   "pygments_lexer": "ipython2",
   "version": "2.7.16"
  }
 },
 "nbformat": 4,
 "nbformat_minor": 2
}
