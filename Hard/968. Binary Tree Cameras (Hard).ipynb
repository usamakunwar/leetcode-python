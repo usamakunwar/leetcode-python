{
 "cells": [
  {
   "cell_type": "markdown",
   "metadata": {},
   "source": [
    "# 968. Binary Tree Cameras (Hard)"
   ]
  },
  {
   "cell_type": "markdown",
   "metadata": {},
   "source": [
    "<div><p>Given a binary tree, we install cameras on the nodes of the tree.&nbsp;</p>\n",
    "\n",
    "<p>Each camera at&nbsp;a node can monitor <strong>its parent, itself, and its immediate children</strong>.</p>\n",
    "\n",
    "<p>Calculate the minimum number of cameras needed to monitor all nodes of the tree.</p>\n",
    "\n",
    "<p>&nbsp;</p>\n",
    "\n",
    "<p><strong>Example 1:</strong></p>\n",
    "<img alt=\"\" src=\"https://assets.leetcode.com/uploads/2018/12/29/bst_cameras_01.png\" style=\"width: 138px; height: 163px;\">\n",
    "<div>\n",
    "<pre><strong>Input: </strong><span id=\"example-input-1-1\">[0,0,null,0,0]</span>\n",
    "<strong>Output: </strong><span id=\"example-output-1\">1</span>\n",
    "<strong>Explanation: </strong>One camera is enough to monitor all nodes if placed as shown.\n",
    "</pre>\n",
    "\n",
    "<div>\n",
    "<p><strong>Example 2:</strong></p>\n",
    "<img alt=\"\" src=\"https://assets.leetcode.com/uploads/2018/12/29/bst_cameras_02.png\" style=\"width: 139px; height: 312px;\">\n",
    "<pre><strong>Input: </strong><span id=\"example-input-2-1\">[0,0,null,0,null,0,null,null,0]</span>\n",
    "<strong>Output: </strong><span id=\"example-output-2\">2\n",
    "<strong>Explanation:</strong> At least two cameras are needed to monitor all nodes of the tree. The above image shows one of the valid configurations of camera placement.</span>\n",
    "</pre>\n",
    "\n",
    "<p><br>\n",
    "<strong>Note:</strong></p>\n",
    "\n",
    "<ol>\n",
    "\t<li>The number of nodes in the given tree will be in the range&nbsp;<code>[1, 1000]</code>.</li>\n",
    "\t<li><strong>Every</strong> node has value 0.</li>\n",
    "</ol>\n",
    "</div>\n",
    "</div>\n",
    "</div>"
   ]
  },
  {
   "cell_type": "markdown",
   "metadata": {},
   "source": [
    "## Option 1\n",
    " <p>    \n",
    "   Greedy\n",
    "    <p>\n",
    "        <li>It is certain that if any child is a leaf, the current node must have a camera\n",
    "        <li>Once a node has a camera we can have a gap of max 2, i.e. delay adding a new camera as much as possible\n",
    "        <li>Then at the end check of the root was covered or not\n",
    "<p>\n",
    "<p>\n",
    "Time complexity: O(n)\n",
    "    <br>\n",
    "Space complexity: O(h)"
   ]
  },
  {
   "cell_type": "code",
   "execution_count": null,
   "metadata": {},
   "outputs": [],
   "source": [
    "class Solution(object):\n",
    "    def minCameraCover(self, root):\n",
    "        def search(node):\n",
    "            \n",
    "            left, left_total = search(node.left) if node.left else (None,0)\n",
    "            right, right_total = search(node.right) if node.right else (None,0)\n",
    "            \n",
    "            if left == None and right == None: #Leaf node\n",
    "                return (0, 0)\n",
    "            if left == 0 or right == 0: #One of the child is leaf (new camera)\n",
    "                return (2, left_total+right_total+1)\n",
    "            \n",
    "            return (max(left,right)-1, left_total+right_total)\n",
    "            \n",
    "        curr, total = search(root)\n",
    "    \n",
    "        return total+(curr == 0)\n",
    "    \n",
    "    "
   ]
  },
  {
   "cell_type": "markdown",
   "metadata": {},
   "source": [
    "#### Result: 28ms (92.59%)"
   ]
  }
 ],
 "metadata": {
  "kernelspec": {
   "display_name": "Python 2",
   "language": "python",
   "name": "python2"
  },
  "language_info": {
   "codemirror_mode": {
    "name": "ipython",
    "version": 2
   },
   "file_extension": ".py",
   "mimetype": "text/x-python",
   "name": "python",
   "nbconvert_exporter": "python",
   "pygments_lexer": "ipython2",
   "version": "2.7.16"
  }
 },
 "nbformat": 4,
 "nbformat_minor": 2
}
