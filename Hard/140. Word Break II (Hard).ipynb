{
 "cells": [
  {
   "cell_type": "markdown",
   "metadata": {},
   "source": [
    "# 140. Word Break II (Hard)"
   ]
  },
  {
   "cell_type": "markdown",
   "metadata": {},
   "source": [
    "<div><p>Given a <strong>non-empty</strong> string <em>s</em> and a dictionary <em>wordDict</em> containing a list of <strong>non-empty</strong> words, add spaces in <em>s</em> to construct a sentence where each word is a valid dictionary word.&nbsp;Return all such possible sentences.</p>\n",
    "\n",
    "<p><strong>Note:</strong></p>\n",
    "\n",
    "<ul>\n",
    "\t<li>The same word in the dictionary may be reused multiple times in the segmentation.</li>\n",
    "\t<li>You may assume the dictionary does not contain duplicate words.</li>\n",
    "</ul>\n",
    "\n",
    "<p><strong>Example 1:</strong></p>\n",
    "\n",
    "<pre><strong>Input:\n",
    "</strong>s = \"<code>catsanddog</code>\"\n",
    "wordDict = <code>[\"cat\", \"cats\", \"and\", \"sand\", \"dog\"]</code>\n",
    "<strong>Output:\n",
    "</strong><code>[\n",
    "&nbsp; \"cats and dog\",\n",
    "&nbsp; \"cat sand dog\"\n",
    "]</code>\n",
    "</pre>\n",
    "\n",
    "<p><strong>Example 2:</strong></p>\n",
    "\n",
    "<pre><strong>Input:\n",
    "</strong>s = \"pineapplepenapple\"\n",
    "wordDict = [\"apple\", \"pen\", \"applepen\", \"pine\", \"pineapple\"]\n",
    "<strong>Output:\n",
    "</strong>[\n",
    "&nbsp; \"pine apple pen apple\",\n",
    "&nbsp; \"pineapple pen apple\",\n",
    "&nbsp; \"pine applepen apple\"\n",
    "]\n",
    "<strong>Explanation:</strong> Note that you are allowed to reuse a dictionary word.\n",
    "</pre>\n",
    "\n",
    "<p><strong>Example 3:</strong></p>\n",
    "\n",
    "<pre><strong>Input:\n",
    "</strong>s = \"catsandog\"\n",
    "wordDict = [\"cats\", \"dog\", \"sand\", \"and\", \"cat\"]\n",
    "<strong>Output:\n",
    "</strong>[]</pre>\n",
    "</div>"
   ]
  },
  {
   "cell_type": "markdown",
   "metadata": {},
   "source": [
    "## Option 1\n",
    "<p>\n",
    "    Top Down\n",
    "    <p>\n",
    "        <p>"
   ]
  },
  {
   "cell_type": "code",
   "execution_count": null,
   "metadata": {},
   "outputs": [],
   "source": [
    "class Solution(object):\n",
    "    def wordBreak(self, s, wordDict):\n",
    "        wordDict = set(wordDict)\n",
    "        self.seen = {}    \n",
    "        def search(i):\n",
    "            if i in self.seen: return self.seen[i]\n",
    "            res = []\n",
    "            curr = ''\n",
    "            for j in range(i,len(s)):\n",
    "                curr += s[j]\n",
    "                if curr in wordDict:\n",
    "                    #We only want to return an empty array if the sentence cannot be made\n",
    "                    #So don't let it go forward\n",
    "                    if j == len(s)-1: \n",
    "                        res.append(curr)\n",
    "                    else:\n",
    "                        nxt = search(j+1)\n",
    "                        if not nxt: continue #Sentence cannot be made\n",
    "                        res += map(lambda x:curr+' '+x ,nxt)\n",
    "            \n",
    "            self.seen[i] = res\n",
    "            return res\n",
    "        \n",
    "        return search(0)\n",
    "        \n",
    "Solution().wordBreak('pineapplepenapple', [\"apple\", \"pen\", \"applepen\", \"pine\", \"pineapple\"])\n"
   ]
  },
  {
   "cell_type": "markdown",
   "metadata": {},
   "source": [
    "#### Result: 32ms (81.18%)"
   ]
  }
 ],
 "metadata": {
  "kernelspec": {
   "display_name": "Python 2",
   "language": "python",
   "name": "python2"
  },
  "language_info": {
   "codemirror_mode": {
    "name": "ipython",
    "version": 2
   },
   "file_extension": ".py",
   "mimetype": "text/x-python",
   "name": "python",
   "nbconvert_exporter": "python",
   "pygments_lexer": "ipython2",
   "version": "2.7.16"
  }
 },
 "nbformat": 4,
 "nbformat_minor": 2
}
