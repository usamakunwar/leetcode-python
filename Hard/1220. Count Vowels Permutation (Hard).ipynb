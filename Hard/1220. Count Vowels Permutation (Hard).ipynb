{
 "cells": [
  {
   "cell_type": "markdown",
   "metadata": {},
   "source": [
    "# 1220. Count Vowels Permutation (Hard)"
   ]
  },
  {
   "cell_type": "markdown",
   "metadata": {},
   "source": [
    "<div><p>Given an integer <code>n</code>, your task is to count how many strings of length <code>n</code> can be formed under the following rules:</p>\n",
    "\n",
    "<ul>\n",
    "\t<li>Each character is a lower case vowel&nbsp;(<code>'a'</code>, <code>'e'</code>, <code>'i'</code>, <code>'o'</code>, <code>'u'</code>)</li>\n",
    "\t<li>Each vowel&nbsp;<code>'a'</code> may only be followed by an <code>'e'</code>.</li>\n",
    "\t<li>Each vowel&nbsp;<code>'e'</code> may only be followed by an <code>'a'</code>&nbsp;or an <code>'i'</code>.</li>\n",
    "\t<li>Each vowel&nbsp;<code>'i'</code> <strong>may not</strong> be followed by another <code>'i'</code>.</li>\n",
    "\t<li>Each vowel&nbsp;<code>'o'</code> may only be followed by an <code>'i'</code> or a&nbsp;<code>'u'</code>.</li>\n",
    "\t<li>Each vowel&nbsp;<code>'u'</code> may only be followed by an <code>'a'.</code></li>\n",
    "</ul>\n",
    "\n",
    "<p>Since the answer&nbsp;may be too large,&nbsp;return it modulo <code>10^9 + 7.</code></p>\n",
    "\n",
    "<p>&nbsp;</p>\n",
    "<p><strong>Example 1:</strong></p>\n",
    "\n",
    "<pre><strong>Input:</strong> n = 1\n",
    "<strong>Output:</strong> 5\n",
    "<strong>Explanation:</strong> All possible strings are: \"a\", \"e\", \"i\" , \"o\" and \"u\".\n",
    "</pre>\n",
    "\n",
    "<p><strong>Example 2:</strong></p>\n",
    "\n",
    "<pre><strong>Input:</strong> n = 2\n",
    "<strong>Output:</strong> 10\n",
    "<strong>Explanation:</strong> All possible strings are: \"ae\", \"ea\", \"ei\", \"ia\", \"ie\", \"io\", \"iu\", \"oi\", \"ou\" and \"ua\".\n",
    "</pre>\n",
    "\n",
    "<p><strong>Example 3:&nbsp;</strong></p>\n",
    "\n",
    "<pre><strong>Input:</strong> n = 5\n",
    "<strong>Output:</strong> 68</pre>\n",
    "\n",
    "<p>&nbsp;</p>\n",
    "<p><strong>Constraints:</strong></p>\n",
    "\n",
    "<ul>\n",
    "\t<li><code>1 &lt;= n &lt;= 2 * 10^4</code></li>\n",
    "</ul>\n",
    "</div>"
   ]
  },
  {
   "cell_type": "markdown",
   "metadata": {},
   "source": [
    "## Option 1\n",
    " <p>    \n",
    "   DP\n",
    "<p>\n",
    "Time complexity: O(n)\n",
    "    <br>\n",
    "Space complexity: O(1)"
   ]
  },
  {
   "cell_type": "code",
   "execution_count": null,
   "metadata": {},
   "outputs": [],
   "source": [
    "class Solution(object):\n",
    "    def countVowelPermutation(self, n):\n",
    "        m = [[1],[0,2],[0,1,3,4],[2,4],[0]] #aeiou indexed\n",
    "        dp = [1]*len(m)\n",
    "        for i in range(n-1):\n",
    "            new_dp = [0]*len(m)\n",
    "            for j in range(len(dp)):\n",
    "                for k in m[j]:\n",
    "                    new_dp[k] += dp[j]\n",
    "            dp = new_dp\n",
    "            \n",
    "        return sum(dp)\n",
    "\n",
    "Solution().countVowelPermutation(1)"
   ]
  },
  {
   "cell_type": "markdown",
   "metadata": {},
   "source": [
    "#### Result: 596ms (30.77%)"
   ]
  }
 ],
 "metadata": {
  "kernelspec": {
   "display_name": "Python 2",
   "language": "python",
   "name": "python2"
  },
  "language_info": {
   "codemirror_mode": {
    "name": "ipython",
    "version": 2
   },
   "file_extension": ".py",
   "mimetype": "text/x-python",
   "name": "python",
   "nbconvert_exporter": "python",
   "pygments_lexer": "ipython2",
   "version": "2.7.16"
  }
 },
 "nbformat": 4,
 "nbformat_minor": 2
}
