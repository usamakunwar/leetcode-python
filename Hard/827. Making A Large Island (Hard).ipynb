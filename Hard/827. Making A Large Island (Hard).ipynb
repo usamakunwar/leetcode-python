{
 "cells": [
  {
   "cell_type": "markdown",
   "metadata": {},
   "source": [
    "# 827. Making A Large Island (Hard)"
   ]
  },
  {
   "cell_type": "markdown",
   "metadata": {},
   "source": [
    "<div><p>In a 2D grid of <code>0</code>s and <code>1</code>s, we change at most one <code>0</code> to a <code>1</code>.</p>\n",
    "\n",
    "<p>After, what is the size of the largest island?&nbsp;(An island is a 4-directionally connected group of <code>1</code>s).</p>\n",
    "\n",
    "<p><strong>Example 1:</strong></p>\n",
    "\n",
    "<pre><strong>Input: </strong>[[1, 0], [0, 1]]\n",
    "<strong>Output:</strong> 3\n",
    "<strong>Explanation:</strong> Change one 0 to 1 and connect two 1s, then we get an island with area = 3.\n",
    "</pre>\n",
    "\n",
    "<p><strong>Example 2:</strong></p>\n",
    "\n",
    "<pre><strong>Input: </strong>[[1, 1], [1, 0]]\n",
    "<strong>Output:</strong> 4\n",
    "<strong>Explanation: </strong>Change the 0 to 1 and make the island bigger, only one island with area = 4.</pre>\n",
    "\n",
    "<p><strong>Example 3:</strong></p>\n",
    "\n",
    "<pre><strong>Input: </strong>[[1, 1], [1, 1]]\n",
    "<strong>Output:</strong> 4\n",
    "<strong>Explanation:</strong> Can't change any 0 to 1, only one island with area = 4.</pre>\n",
    "\n",
    "<p>&nbsp;</p>\n",
    "\n",
    "<p>Notes:</p>\n",
    "\n",
    "<ul>\n",
    "\t<li><code>1 &lt;= grid.length = grid[0].length &lt;= 50</code>.</li>\n",
    "\t<li><code>0 &lt;= grid[i][j] &lt;= 1</code>.</li>\n",
    "</ul>\n",
    "\n",
    "<p>&nbsp;</p>\n",
    "</div>"
   ]
  },
  {
   "cell_type": "markdown",
   "metadata": {},
   "source": [
    "## Option 1\n",
    "<p>\n",
    "    DFS\n",
    "    <p>\n",
    "        <li>Label all the islands\n",
    "        <li>Try and connect them with 0\n",
    "        <p>\n",
    "             <p>\n",
    "\n",
    "\n",
    "Time complexity: O(mn)\n",
    "    <br>\n",
    "Space complexity: O(mn)"
   ]
  },
  {
   "cell_type": "code",
   "execution_count": null,
   "metadata": {},
   "outputs": [],
   "source": [
    "class Solution(object):\n",
    "    def largestIsland(self, grid):\n",
    "        m,n = len(grid), len(grid[0])\n",
    "        def search(i,j,label):\n",
    "            grid[i][j] = label\n",
    "            res = 1\n",
    "            for ni,nj in ((i,j+1),(i+1,j),(i,j-1),(i-1,j)):\n",
    "                if ni >= 0 and ni < m and nj >= 0 and nj < n and grid[ni][nj] == 1:\n",
    "                    res += search(ni,nj,label)\n",
    "            return res\n",
    "            \n",
    "        islands = []\n",
    "        \n",
    "        for i in range(m):\n",
    "            for j in range(n):\n",
    "                if grid[i][j] != 1: continue\n",
    "                island = search(i,j, len(islands)+2)\n",
    "                islands.append(island)\n",
    "\n",
    "        res = max(islands or [0])\n",
    "        for i in range(m):\n",
    "            for j in range(n): \n",
    "                if grid[i][j] != 0: continue\n",
    "                curr_islands = {}\n",
    "                for ni,nj in ((i,j+1),(i+1,j),(i,j-1),(i-1,j)):\n",
    "                    if ni >= 0 and ni < m and nj >= 0 and nj < n and grid[ni][nj] != 0:\n",
    "                        curr_islands[grid[ni][nj]-2] = islands[grid[ni][nj]-2]\n",
    "                res = max(res, sum(curr_islands.values())+1)\n",
    "        \n",
    "        return res\n",
    "\n",
    "Solution().largestIsland([[1,1,1,0,0,1,1,1],\n",
    "                          [1,1,1,1,0,1,1,1],\n",
    "                          [1,0,0,0,0,1,1,1],\n",
    "                          [1,1,0,0,0,1,1,1],\n",
    "                          [1,1,1,1,0,1,1,1],\n",
    "                          [1,0,0,0,0,1,1,1],])\n",
    "        "
   ]
  },
  {
   "cell_type": "markdown",
   "metadata": {},
   "source": [
    "#### Result: 168ms (44.90%)"
   ]
  }
 ],
 "metadata": {
  "kernelspec": {
   "display_name": "Python 2",
   "language": "python",
   "name": "python2"
  },
  "language_info": {
   "codemirror_mode": {
    "name": "ipython",
    "version": 2
   },
   "file_extension": ".py",
   "mimetype": "text/x-python",
   "name": "python",
   "nbconvert_exporter": "python",
   "pygments_lexer": "ipython2",
   "version": "2.7.16"
  }
 },
 "nbformat": 4,
 "nbformat_minor": 2
}
