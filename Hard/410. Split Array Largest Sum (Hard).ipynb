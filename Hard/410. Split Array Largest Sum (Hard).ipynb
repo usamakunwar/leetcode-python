{
 "cells": [
  {
   "cell_type": "markdown",
   "metadata": {},
   "source": [
    "# 410. Split Array Largest Sum (Hard)"
   ]
  },
  {
   "cell_type": "markdown",
   "metadata": {},
   "source": [
    "<div><p>Given an array which consists of non-negative integers and an integer <i>m</i>, you can split the array into <i>m</i> non-empty continuous subarrays. Write an algorithm to minimize the largest sum among these <i>m</i> subarrays.\n",
    "</p>\n",
    "\n",
    "<p><b>Note:</b><br>\n",
    "If <i>n</i> is the length of array, assume the following constraints are satisfied:\n",
    "</p><ul>\n",
    "<li>1 ≤ <i>n</i> ≤ 1000</li>\n",
    "<li>1 ≤ <i>m</i> ≤ min(50, <i>n</i>)</li>\n",
    "</ul>\n",
    "<p></p>\n",
    "\n",
    "<p><b>Examples: </b>\n",
    "</p><pre>Input:\n",
    "<b>nums</b> = [7,2,5,10,8]\n",
    "<b>m</b> = 2\n",
    "\n",
    "Output:\n",
    "18\n",
    "\n",
    "Explanation:\n",
    "There are four ways to split <b>nums</b> into two subarrays.\n",
    "The best way is to split it into <b>[7,2,5]</b> and <b>[10,8]</b>,\n",
    "where the largest sum among the two subarrays is only 18.\n",
    "</pre>\n",
    "<p></p></div>"
   ]
  },
  {
   "cell_type": "markdown",
   "metadata": {},
   "source": [
    "## Option 1\n",
    "<p>\n",
    "    Top down\n",
    "    <p>"
   ]
  },
  {
   "cell_type": "code",
   "execution_count": null,
   "metadata": {},
   "outputs": [],
   "source": [
    "class Solution(object):\n",
    "    def splitArray(self, nums, m):\n",
    "        for i in range(1,len(nums)): nums[i] += nums[i-1]\n",
    "        self.seen = {}\n",
    "        \n",
    "        def search(l,r,lev):\n",
    "            if (l,r,lev) in self.seen: return self.seen[(l,r,lev)]\n",
    "            if l == r or lev == m:\n",
    "                return nums[r]-(nums[l-1] if l > 0 else 0)\n",
    "\n",
    "            res = float('inf')\n",
    "            for i in range(l,r):\n",
    "                res = min(res, max(nums[i]-(nums[l-1] if l > 0 else 0), search(i+1,r, lev+1)))\n",
    "\n",
    "            self.seen[(l,r,lev)] = res\n",
    "            return res\n",
    "        \n",
    "        return search(0,len(nums)-1,1)\n",
    "                \n",
    "        \n",
    "Solution().splitArray([7,2,5,10,8],2)\n",
    "        "
   ]
  },
  {
   "cell_type": "markdown",
   "metadata": {},
   "source": [
    "#### Result: 7644ms (5.26%)"
   ]
  }
 ],
 "metadata": {
  "kernelspec": {
   "display_name": "Python 2",
   "language": "python",
   "name": "python2"
  },
  "language_info": {
   "codemirror_mode": {
    "name": "ipython",
    "version": 2
   },
   "file_extension": ".py",
   "mimetype": "text/x-python",
   "name": "python",
   "nbconvert_exporter": "python",
   "pygments_lexer": "ipython2",
   "version": "2.7.16"
  }
 },
 "nbformat": 4,
 "nbformat_minor": 2
}
