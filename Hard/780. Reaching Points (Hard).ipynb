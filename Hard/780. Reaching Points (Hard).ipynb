{
 "cells": [
  {
   "cell_type": "markdown",
   "metadata": {},
   "source": [
    "# 780. Reaching Points (Hard)"
   ]
  },
  {
   "cell_type": "markdown",
   "metadata": {},
   "source": [
    "<div><p>A move consists of taking a point <code>(x, y)</code> and transforming it to either <code>(x, x+y)</code> or <code>(x+y, y)</code>.</p>\n",
    "\n",
    "<p>Given a starting point <code>(sx, sy)</code> and a target point <code>(tx, ty)</code>, return <code>True</code> if and only if a sequence of moves exists to transform the point <code>(sx, sy)</code> to <code>(tx, ty)</code>. Otherwise, return <code>False</code>.</p>\n",
    "\n",
    "<pre><strong>Examples:</strong>\n",
    "<strong>Input:</strong> sx = 1, sy = 1, tx = 3, ty = 5\n",
    "<strong>Output:</strong> True\n",
    "<strong>Explanation:</strong>\n",
    "One series of moves that transforms the starting point to the target is:\n",
    "(1, 1) -&gt; (1, 2)\n",
    "(1, 2) -&gt; (3, 2)\n",
    "(3, 2) -&gt; (3, 5)\n",
    "\n",
    "<strong>Input:</strong> sx = 1, sy = 1, tx = 2, ty = 2\n",
    "<strong>Output:</strong> False\n",
    "\n",
    "<strong>Input:</strong> sx = 1, sy = 1, tx = 1, ty = 1\n",
    "<strong>Output:</strong> True\n",
    "\n",
    "</pre>\n",
    "\n",
    "<p><strong>Note:</strong></p>\n",
    "\n",
    "<ul>\n",
    "\t<li><code>sx, sy, tx, ty</code> will all be integers in the range <code>[1, 10^9]</code>.</li>\n",
    "</ul>\n",
    "</div>"
   ]
  },
  {
   "cell_type": "markdown",
   "metadata": {},
   "source": [
    "## Option 1\n",
    " <p>    \n",
    "Backward Modulo\n",
    "<p>\n",
    "    <li>Lets try and get from (tx,ty) to (sx,sy)\n",
    "    <li>In order to get from tx to sx, or closest but at least as big as sx, we can find the distance between the two, then as only ty can get us through that distance, so we get the modulo of ty\n",
    "     \n",
    "<p>\n",
    "<p>\n",
    "Time complexity: O(log(max(tx,ty))\n",
    "    <br>\n",
    "Space complexity: O(1) "
   ]
  },
  {
   "cell_type": "code",
   "execution_count": null,
   "metadata": {},
   "outputs": [],
   "source": [
    "class Solution(object):\n",
    "    def reachingPoints(self, sx, sy, tx, ty):\n",
    "        if tx < sx or ty < sy: return False\n",
    "\n",
    "        while True:\n",
    "            nx, ny = tx,ty\n",
    "            if tx > ty:\n",
    "                nx = sx + (tx-sx)%ty\n",
    "            else:\n",
    "                ny = sy + (ty-sy)%tx\n",
    "            \n",
    "            if (nx,ny) == (tx,ty): break\n",
    "                \n",
    "            tx,ty = nx,ny\n",
    "            \n",
    "        return (tx,ty) == (sx,sy)\n",
    "            \n",
    "Solution().reachingPoints(3,5,30,109)\n"
   ]
  },
  {
   "cell_type": "markdown",
   "metadata": {},
   "source": [
    "#### Result: 20ms (66.43%)"
   ]
  }
 ],
 "metadata": {
  "kernelspec": {
   "display_name": "Python 2",
   "language": "python",
   "name": "python2"
  },
  "language_info": {
   "codemirror_mode": {
    "name": "ipython",
    "version": 2
   },
   "file_extension": ".py",
   "mimetype": "text/x-python",
   "name": "python",
   "nbconvert_exporter": "python",
   "pygments_lexer": "ipython2",
   "version": "2.7.16"
  }
 },
 "nbformat": 4,
 "nbformat_minor": 2
}
