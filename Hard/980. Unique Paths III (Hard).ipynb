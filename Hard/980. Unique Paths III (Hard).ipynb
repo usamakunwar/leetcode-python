{
 "cells": [
  {
   "cell_type": "markdown",
   "metadata": {},
   "source": [
    "# 980. Unique Paths III (Hard)\n",
    "\n"
   ]
  },
  {
   "cell_type": "markdown",
   "metadata": {},
   "source": [
    "<div><p>On a 2-dimensional&nbsp;<code>grid</code>, there are 4 types of squares:</p>\n",
    "\n",
    "<ul>\n",
    "\t<li><code>1</code> represents the starting square.&nbsp; There is exactly one starting square.</li>\n",
    "\t<li><code>2</code> represents the ending square.&nbsp; There is exactly one ending square.</li>\n",
    "\t<li><code>0</code> represents empty squares we can walk over.</li>\n",
    "\t<li><code>-1</code> represents obstacles that we cannot walk over.</li>\n",
    "</ul>\n",
    "\n",
    "<p>Return the number of 4-directional walks&nbsp;from the starting square to the ending square, that <strong>walk over every non-obstacle square&nbsp;exactly once</strong>.</p>\n",
    "\n",
    "<p>&nbsp;</p>\n",
    "\n",
    "<div>\n",
    "<p><strong>Example 1:</strong></p>\n",
    "\n",
    "<pre><strong>Input: </strong><span id=\"example-input-1-1\">[[1,0,0,0],[0,0,0,0],[0,0,2,-1]]</span>\n",
    "<strong>Output: </strong><span id=\"example-output-1\">2</span>\n",
    "<strong>Explanation: </strong>We have the following two paths: \n",
    "1. (0,0),(0,1),(0,2),(0,3),(1,3),(1,2),(1,1),(1,0),(2,0),(2,1),(2,2)\n",
    "2. (0,0),(1,0),(2,0),(2,1),(1,1),(0,1),(0,2),(0,3),(1,3),(1,2),(2,2)</pre>\n",
    "\n",
    "<div>\n",
    "<p><strong>Example 2:</strong></p>\n",
    "\n",
    "<pre><strong>Input: </strong><span id=\"example-input-2-1\">[[1,0,0,0],[0,0,0,0],[0,0,0,2]]</span>\n",
    "<strong>Output: </strong><span id=\"example-output-2\">4</span>\n",
    "<strong>Explanation: </strong>We have the following four paths: \n",
    "1. (0,0),(0,1),(0,2),(0,3),(1,3),(1,2),(1,1),(1,0),(2,0),(2,1),(2,2),(2,3)\n",
    "2. (0,0),(0,1),(1,1),(1,0),(2,0),(2,1),(2,2),(1,2),(0,2),(0,3),(1,3),(2,3)\n",
    "3. (0,0),(1,0),(2,0),(2,1),(2,2),(1,2),(1,1),(0,1),(0,2),(0,3),(1,3),(2,3)\n",
    "4. (0,0),(1,0),(2,0),(2,1),(1,1),(0,1),(0,2),(0,3),(1,3),(1,2),(2,2),(2,3)</pre>\n",
    "\n",
    "<div>\n",
    "<p><strong>Example 3:</strong></p>\n",
    "\n",
    "<pre><strong>Input: </strong><span id=\"example-input-3-1\">[[0,1],[2,0]]</span>\n",
    "<strong>Output: </strong><span id=\"example-output-3\">0</span>\n",
    "<strong>Explanation: </strong>\n",
    "There is no path that walks over every empty square exactly once.\n",
    "Note that the starting and ending square can be anywhere in the grid.\n",
    "</pre>\n",
    "</div>\n",
    "</div>\n",
    "</div>\n",
    "\n",
    "<p>&nbsp;</p>\n",
    "\n",
    "<p><strong>Note:</strong></p>\n",
    "\n",
    "<ol>\n",
    "\t<li><code>1 &lt;= grid.length * grid[0].length &lt;= 20</code></li>\n",
    "</ol></div>"
   ]
  },
  {
   "cell_type": "markdown",
   "metadata": {},
   "source": [
    "## Option 1\n",
    "\n",
    "DFS + Backtrack"
   ]
  },
  {
   "cell_type": "code",
   "execution_count": null,
   "metadata": {
    "scrolled": false
   },
   "outputs": [],
   "source": [
    "from collections import defaultdict\n",
    "class Solution(object):\n",
    "    def uniquePathsIII(self, board):\n",
    "        li,lj = len(board),len(board[0])\n",
    "        zeros, start = 0, None\n",
    "        for i in range(li):\n",
    "            for j in range(lj):\n",
    "                if board[i][j] == 0: zeros += 1\n",
    "                if board[i][j] == 1: start = (i,j)\n",
    "\n",
    "        def search(i,j,z):\n",
    "            if board[i][j] == 2:\n",
    "                return 1 if z > zeros else 0\n",
    "            tmp, board[i][j] = board[i][j], -2\n",
    "            res = 0\n",
    "            for ni,nj in ((i+1,j),(i,j+1),(i-1,j),(i,j-1)):\n",
    "                if ni >= 0 and ni < li and nj >= 0 and nj < lj and board[ni][nj] >= 0:\n",
    "                    res += search(ni,nj,z+1)\n",
    "            board[i][j] = tmp\n",
    "            return res\n",
    "            \n",
    "        return search(start[0],start[1],0)\n",
    "        \n",
    "\n",
    "Solution().uniquePathsIII([[1,0,0,0],[0,0,0,0],[0,0,2,-1]])"
   ]
  },
  {
   "cell_type": "markdown",
   "metadata": {},
   "source": [
    "#### Result: 32ms (98.62%)"
   ]
  }
 ],
 "metadata": {
  "kernelspec": {
   "display_name": "Python 2",
   "language": "python",
   "name": "python2"
  },
  "language_info": {
   "codemirror_mode": {
    "name": "ipython",
    "version": 2
   },
   "file_extension": ".py",
   "mimetype": "text/x-python",
   "name": "python",
   "nbconvert_exporter": "python",
   "pygments_lexer": "ipython2",
   "version": "2.7.16"
  }
 },
 "nbformat": 4,
 "nbformat_minor": 2
}
