{
 "cells": [
  {
   "cell_type": "markdown",
   "metadata": {},
   "source": [
    "# 1269. Number of Ways to Stay in the Same Place After Some Steps (Hard)"
   ]
  },
  {
   "cell_type": "markdown",
   "metadata": {},
   "source": [
    "<div><p>You have a pointer at index <code>0</code> in an array of size <code><font face=\"monospace\">arrLen</font></code>. At each step, you can move 1 position to the left, 1 position to the right&nbsp;in the array or stay in the same place&nbsp; (The pointer should not be placed outside the array at any time).</p>\n",
    "\n",
    "<p>Given two integers&nbsp;<code>steps</code> and <code>arrLen</code>, return the number of&nbsp;ways such that your pointer still at index <code>0</code> after <strong>exactly </strong><code><font face=\"monospace\">steps</font></code>&nbsp;steps.</p>\n",
    "\n",
    "<p>Since the answer&nbsp;may be too large,&nbsp;return it <strong>modulo</strong>&nbsp;<code>10^9 + 7</code>.</p>\n",
    "\n",
    "<p>&nbsp;</p>\n",
    "<p><strong>Example 1:</strong></p>\n",
    "\n",
    "<pre><strong>Input:</strong> steps = 3, arrLen = 2\n",
    "<strong>Output:</strong> 4\n",
    "<strong>Explanation: </strong>There are 4 differents ways to stay at index 0 after 3 steps.\n",
    "Right, Left, Stay\n",
    "Stay, Right, Left\n",
    "Right, Stay, Left\n",
    "Stay, Stay, Stay\n",
    "</pre>\n",
    "\n",
    "<p><strong>Example 2:</strong></p>\n",
    "\n",
    "<pre><strong>Input:</strong> steps = 2, arrLen = 4\n",
    "<strong>Output:</strong> 2\n",
    "<strong>Explanation:</strong> There are 2 differents ways to stay at index 0 after 2 steps\n",
    "Right, Left\n",
    "Stay, Stay\n",
    "</pre>\n",
    "\n",
    "<p><strong>Example 3:</strong></p>\n",
    "\n",
    "<pre><strong>Input:</strong> steps = 4, arrLen = 2\n",
    "<strong>Output:</strong> 8\n",
    "</pre>\n",
    "\n",
    "<p>&nbsp;</p>\n",
    "<p><strong>Constraints:</strong></p>\n",
    "\n",
    "<ul>\n",
    "\t<li><code>1 &lt;= steps &lt;= 500</code></li>\n",
    "\t<li><code>1 &lt;= arrLen&nbsp;&lt;= 10^6</code></li>\n",
    "</ul>\n",
    "</div>"
   ]
  },
  {
   "cell_type": "markdown",
   "metadata": {},
   "source": [
    "## Option 1\n",
    " <p>    \n",
    "   DP - Top down\n",
    "<p>\n",
    "Time complexity: O(n^2) n = steps (steps here as its impossible for it go further then steps)\n",
    "    <br>\n",
    "Space complexity: O(n)"
   ]
  },
  {
   "cell_type": "code",
   "execution_count": null,
   "metadata": {},
   "outputs": [],
   "source": [
    "class Solution(object):\n",
    "    def numWays(self, steps, arrLen):\n",
    "        self.seen = {}\n",
    "        def search(i, steps):\n",
    "            if i < 0 or i == arrLen: return 0\n",
    "            if steps == 0:\n",
    "                return i == 0\n",
    "                \n",
    "            if (i,steps) in self.seen: return self.seen[(i,steps)]\n",
    "            \n",
    "            self.seen[(i,steps)] = search(i-1,steps-1)+search(i,steps-1)+search(i+1,steps-1)\n",
    "            return self.seen[(i,steps)]%(10**9+7)\n",
    "        \n",
    "        return search(0,steps)\n",
    "    \n",
    "        \n",
    "Solution().numWays(2,4)"
   ]
  },
  {
   "cell_type": "markdown",
   "metadata": {},
   "source": [
    "#### Result: 976ms (25.22%)"
   ]
  },
  {
   "cell_type": "markdown",
   "metadata": {},
   "source": [
    "## Option 2\n",
    " <p>    \n",
    "   DP - Bottom up\n",
    "<p>\n",
    "Time complexity: O(n^2) n = steps (steps here as its impossible for it go further then steps)\n",
    "    <br>\n",
    "Space complexity: O(n)"
   ]
  },
  {
   "cell_type": "code",
   "execution_count": null,
   "metadata": {},
   "outputs": [],
   "source": [
    "class Solution(object):\n",
    "    def numWays(self, steps, arrLen):        \n",
    "        dp = [0]*(arrLen)\n",
    "        dp[0] = 1\n",
    "        \n",
    "        for i in range(steps):\n",
    "            new_dp = [0]*(arrLen)\n",
    "            for j in range(min(i+2,arrLen)):\n",
    "                new_dp[j] = (dp[j-1] if j > 0 else 0)+dp[j]+(dp[j+1] if j < (arrLen-1) else 0)\n",
    "            dp = new_dp\n",
    "            \n",
    "        return dp[0]%(10**9+7)\n",
    "    \n",
    "        \n",
    "Solution().numWays(4,2)"
   ]
  },
  {
   "cell_type": "markdown",
   "metadata": {},
   "source": [
    "#### Result: 3600ms (5.27%)"
   ]
  }
 ],
 "metadata": {
  "kernelspec": {
   "display_name": "Python 2",
   "language": "python",
   "name": "python2"
  },
  "language_info": {
   "codemirror_mode": {
    "name": "ipython",
    "version": 2
   },
   "file_extension": ".py",
   "mimetype": "text/x-python",
   "name": "python",
   "nbconvert_exporter": "python",
   "pygments_lexer": "ipython2",
   "version": "2.7.16"
  }
 },
 "nbformat": 4,
 "nbformat_minor": 2
}
