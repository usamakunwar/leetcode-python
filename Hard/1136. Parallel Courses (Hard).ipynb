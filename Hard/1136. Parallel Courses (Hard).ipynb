{
 "cells": [
  {
   "cell_type": "markdown",
   "metadata": {},
   "source": [
    "# 1136. Parallel Courses (Hard)"
   ]
  },
  {
   "cell_type": "markdown",
   "metadata": {},
   "source": [
    "<div><p>There are <code>N</code> courses, labelled from 1 to <code>N</code>.</p>\n",
    "\n",
    "<p>We are given&nbsp;<code>relations[i] = [X, Y]</code>, representing a prerequisite relationship between course <code>X</code> and course <code>Y</code>:&nbsp;course <code>X</code>&nbsp;has to be studied before course <code>Y</code>.</p>\n",
    "\n",
    "<p>In one semester you can study any number of courses as long as you have studied all the prerequisites for the course you are studying.</p>\n",
    "\n",
    "<p>Return the minimum number of semesters needed to study all courses.&nbsp; If there is no way to study all the courses, return <code>-1</code>.</p>\n",
    "\n",
    "<p>&nbsp;</p>\n",
    "\n",
    "<p><strong>Example 1:</strong></p>\n",
    "\n",
    "<p><strong><img alt=\"\" src=\"https://assets.leetcode.com/uploads/2019/04/20/1316_ex1.png\" style=\"width: 126px; height: 101px;\"></strong></p>\n",
    "\n",
    "<pre><strong>Input: </strong>N = <span id=\"example-input-1-1\">3</span>, relations = <span id=\"example-input-1-2\">[[1,3],[2,3]]</span>\n",
    "<strong>Output: </strong><span id=\"example-output-1\">2</span>\n",
    "<strong>Explanation: </strong>\n",
    "In the first semester, courses 1 and 2 are studied. In the second semester, course 3 is studied.\n",
    "</pre>\n",
    "\n",
    "<p><strong>Example 2:</strong></p>\n",
    "\n",
    "<p><strong><img alt=\"\" src=\"https://assets.leetcode.com/uploads/2019/04/20/1316_ex2.png\" style=\"width: 126px; height: 101px;\"></strong></p>\n",
    "\n",
    "<pre><strong>Input: </strong>N = <span id=\"example-input-2-1\">3</span>, relations = <span id=\"example-input-2-2\">[[1,2],[2,3],[3,1]]</span>\n",
    "<strong>Output: </strong><span id=\"example-output-2\">-1</span>\n",
    "<strong>Explanation: </strong>\n",
    "No course can be studied because they depend on each other.\n",
    "</pre>\n",
    "\n",
    "<p>&nbsp;</p>\n",
    "\n",
    "<p><strong><span>Note:</span></strong></p>\n",
    "\n",
    "<ol>\n",
    "\t<li><code>1 &lt;= N &lt;= 5000</code></li>\n",
    "\t<li><code>1 &lt;= relations.length &lt;= 5000</code></li>\n",
    "\t<li><code>relations[i][0] != relations[i][1]</code></li>\n",
    "\t<li>There are no repeated relations in the input.</li>\n",
    "</ol>\n",
    "</div>"
   ]
  },
  {
   "cell_type": "markdown",
   "metadata": {},
   "source": [
    "## Option 1\n",
    " <p>    \n",
    "Topological sort - onion peel\n",
    "<p>\n",
    "            \n",
    "Time complexity: O(n)\n",
    "    <br>\n",
    "Space complexity: O(n)"
   ]
  },
  {
   "cell_type": "code",
   "execution_count": null,
   "metadata": {},
   "outputs": [],
   "source": [
    "class Solution(object):\n",
    "    def minimumSemesters(self, N, relations):\n",
    "        graph = collections.defaultdict(set)\n",
    "        inverse_graph = collections.defaultdict(set)\n",
    "        for u,v in relations:\n",
    "            graph[v].add(u)\n",
    "            inverse_graph[u].add(v)\n",
    "            \n",
    "        leaves = [i for i in range(1,N+1) if i not in graph] \n",
    "\n",
    "        res = 0\n",
    "        while leaves:\n",
    "            new_leaves = []\n",
    "            for leaf in leaves:\n",
    "                N -= 1\n",
    "                for i in inverse_graph[leaf]:\n",
    "                    graph[i].remove(leaf)\n",
    "                    if len(graph[i]) == 0:\n",
    "                        new_leaves.append(i)\n",
    "            leaves = new_leaves\n",
    "            res += 1\n",
    "        \n",
    "        return res if N == 0 else -1\n"
   ]
  },
  {
   "cell_type": "markdown",
   "metadata": {},
   "source": [
    "#### Result: 240ms (82.02%)"
   ]
  }
 ],
 "metadata": {
  "kernelspec": {
   "display_name": "Python 2",
   "language": "python",
   "name": "python2"
  },
  "language_info": {
   "codemirror_mode": {
    "name": "ipython",
    "version": 2
   },
   "file_extension": ".py",
   "mimetype": "text/x-python",
   "name": "python",
   "nbconvert_exporter": "python",
   "pygments_lexer": "ipython2",
   "version": "2.7.16"
  }
 },
 "nbformat": 4,
 "nbformat_minor": 2
}
