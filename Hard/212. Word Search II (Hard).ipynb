{
 "cells": [
  {
   "cell_type": "markdown",
   "metadata": {},
   "source": [
    "# 212. Word Search II (Hard)"
   ]
  },
  {
   "cell_type": "markdown",
   "metadata": {},
   "source": [
    "<div><p>Given a 2D board and a list of words from the dictionary, find all words in the board.</p>\n",
    "\n",
    "<p>Each word must be constructed from letters of sequentially adjacent cell, where \"adjacent\" cells are those horizontally or vertically neighboring. The same letter cell may not be used more than once in a word.</p>\n",
    "\n",
    "<p>&nbsp;</p>\n",
    "\n",
    "<p><strong>Example:</strong></p>\n",
    "\n",
    "<pre><strong>Input:</strong> \n",
    "<b>board </b>= [\n",
    "  ['<span style=\"color:#d70\">o</span>','<span style=\"color:#d70\">a</span>','a','n'],\n",
    "  ['e','<span style=\"color:#d30\">t</span>','<span style=\"color:#d00\">a</span>','<span style=\"color:#d00\">e</span>'],\n",
    "  ['i','<span style=\"color:#d70\">h</span>','k','r'],\n",
    "  ['i','f','l','v']\n",
    "]\n",
    "<b>words</b> = <code>[\"oath\",\"pea\",\"eat\",\"rain\"]</code>\n",
    "\n",
    "<strong>Output:&nbsp;</strong><code>[\"eat\",\"oath\"]</code>\n",
    "</pre>\n",
    "\n",
    "<p>&nbsp;</p>\n",
    "\n",
    "<p><b>Note:</b></p>\n",
    "\n",
    "<ol>\n",
    "\t<li>All inputs are consist of lowercase letters <code>a-z</code>.</li>\n",
    "\t<li>The values of&nbsp;<code>words</code> are distinct.</li>\n",
    "</ol>\n",
    "</div>"
   ]
  },
  {
   "cell_type": "markdown",
   "metadata": {},
   "source": [
    "## Option 1\n",
    " <p>    \n",
    "   DFS + Trie\n",
    "<p>\n",
    "Time complexity: O(nm(4**k)) k = max word length\n",
    "    <br>\n",
    "Space complexity: O(l) l = total number of characters in words "
   ]
  },
  {
   "cell_type": "code",
   "execution_count": null,
   "metadata": {},
   "outputs": [],
   "source": [
    "class TrieNode(object):\n",
    "    def __init__(self):\n",
    "        self.children = collections.defaultdict(TrieNode)\n",
    "        self.word = None\n",
    "    \n",
    "\n",
    "class Solution(object):\n",
    "    def findWords(self, board, words):\n",
    "        if not board: return []\n",
    "        n, m = len(board), len(board[0])\n",
    "        \n",
    "        trie = TrieNode()\n",
    "        \n",
    "        for word in words:\n",
    "            curr = trie\n",
    "            for ch in word:\n",
    "                curr = curr.children[ch]\n",
    "            curr.word = word\n",
    "        \n",
    "        self.res = set()\n",
    "        \n",
    "        def search(i,j,curr):\n",
    "            if board[i][j] not in curr.children: return\n",
    "            \n",
    "            curr = curr.children[board[i][j]]\n",
    "            \n",
    "            if curr.word:\n",
    "                self.res.add(curr.word)\n",
    "\n",
    "            tmp, board[i][j] = board[i][j], '#'\n",
    "            \n",
    "            for ni,nj in ((i,j+1),(i+1,j),(i,j-1),(i-1,j)):\n",
    "                if ni >= 0 and ni < n and nj >= 0 and nj < m and board[ni][nj] != '#':\n",
    "                    search(ni, nj, curr)\n",
    "                    \n",
    "            board[i][j] = tmp\n",
    "        \n",
    "        for i in range(n):\n",
    "            for j in range(m):\n",
    "                search(i,j,trie)\n",
    "                \n",
    "        return list(self.res)\n",
    "    \n",
    "    \n",
    "    \n",
    "Solution().findWords([[\"o\",\"a\",\"a\",\"n\"],[\"e\",\"t\",\"a\",\"e\"],[\"i\",\"h\",\"k\",\"r\"],[\"i\",\"f\",\"l\",\"v\"]],\n",
    "                     [\"oath\",\"pea\",\"eat\",\"rain\", \"vre\", \"rv\",\"nervs\", \"flkhii\"])\n",
    "\n",
    "    \n",
    "    "
   ]
  },
  {
   "cell_type": "markdown",
   "metadata": {},
   "source": [
    "#### Result: 328ms (73.72%)"
   ]
  }
 ],
 "metadata": {
  "kernelspec": {
   "display_name": "Python 2",
   "language": "python",
   "name": "python2"
  },
  "language_info": {
   "codemirror_mode": {
    "name": "ipython",
    "version": 2
   },
   "file_extension": ".py",
   "mimetype": "text/x-python",
   "name": "python",
   "nbconvert_exporter": "python",
   "pygments_lexer": "ipython2",
   "version": "2.7.16"
  }
 },
 "nbformat": 4,
 "nbformat_minor": 2
}
