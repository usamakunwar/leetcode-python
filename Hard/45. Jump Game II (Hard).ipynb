{
 "cells": [
  {
   "cell_type": "markdown",
   "metadata": {},
   "source": [
    "# 45. Jump Game II (Hard)"
   ]
  },
  {
   "cell_type": "markdown",
   "metadata": {},
   "source": [
    "<div><p>Given an array of non-negative integers, you are initially positioned at the first index of the array.</p>\n",
    "\n",
    "<p>Each element in the array represents your maximum jump length at that position.</p>\n",
    "\n",
    "<p>Your goal is to reach the last index in the minimum number of jumps.</p>\n",
    "\n",
    "<p><strong>Example:</strong></p>\n",
    "\n",
    "<pre><strong>Input:</strong> [2,3,1,1,4]\n",
    "<strong>Output:</strong> 2\n",
    "<strong>Explanation:</strong> The minimum number of jumps to reach the last index is 2.\n",
    "    Jump 1 step from index 0 to 1, then 3 steps to the last index.</pre>\n",
    "\n",
    "<p><strong>Note:</strong></p>\n",
    "\n",
    "<p>You can assume that you can always reach the last index.</p>\n",
    "</div>"
   ]
  },
  {
   "cell_type": "markdown",
   "metadata": {},
   "source": [
    "## Option 1\n",
    "<p>\n",
    "    BFS\n",
    "    <p>\n",
    "        <p>"
   ]
  },
  {
   "cell_type": "code",
   "execution_count": null,
   "metadata": {},
   "outputs": [],
   "source": [
    "class Solution(object):\n",
    "    def jump(self, nums):\n",
    "        if len(nums) == 1: return 0\n",
    "        \n",
    "        seen = set()\n",
    "        q = collections.deque([(0,0)])\n",
    "        \n",
    "        while q:\n",
    "            i,lev = q.popleft()\n",
    "            for j in range(min(nums[i], len(nums)-i),0,-1):\n",
    "                if i+j >= len(nums)-1: return lev+1\n",
    "                if i+j in seen: continue\n",
    "                seen.add(i+j)\n",
    "                q.append((i+j, lev+1))\n",
    "\n",
    "        \n",
    "Solution().jump([2,3,1,1,4])"
   ]
  },
  {
   "cell_type": "markdown",
   "metadata": {},
   "source": [
    "#### Result: 88ms (57.26%)"
   ]
  },
  {
   "cell_type": "markdown",
   "metadata": {},
   "source": [
    "## Option 2\n",
    "<p>\n",
    "    Greedy\n",
    "    <p>\n",
    "        <p>"
   ]
  },
  {
   "cell_type": "code",
   "execution_count": null,
   "metadata": {},
   "outputs": [],
   "source": []
  }
 ],
 "metadata": {
  "kernelspec": {
   "display_name": "Python 2",
   "language": "python",
   "name": "python2"
  },
  "language_info": {
   "codemirror_mode": {
    "name": "ipython",
    "version": 2
   },
   "file_extension": ".py",
   "mimetype": "text/x-python",
   "name": "python",
   "nbconvert_exporter": "python",
   "pygments_lexer": "ipython2",
   "version": "2.7.16"
  }
 },
 "nbformat": 4,
 "nbformat_minor": 2
}
