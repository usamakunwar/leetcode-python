{
 "cells": [
  {
   "cell_type": "markdown",
   "metadata": {},
   "source": [
    "# 97. Interleaving String (Hard)"
   ]
  },
  {
   "cell_type": "markdown",
   "metadata": {},
   "source": [
    "<div><p>Given <code>s1</code>, <code>s2</code>, and <code>s3</code>, find whether <code>s3</code> is formed by the interleaving of <code>s1</code> and <code>s2</code>.</p>\n",
    "\n",
    "<p>&nbsp;</p>\n",
    "<p><strong>Example 1:</strong></p>\n",
    "<img alt=\"\" src=\"https://assets.leetcode.com/uploads/2020/09/02/interleave.jpg\" style=\"width: 561px; height: 203px;\">\n",
    "<pre><strong>Input:</strong> s1 = \"aabcc\", s2 = \"dbbca\", s3 = \"aadbbcbcac\"\n",
    "<strong>Output:</strong> true\n",
    "</pre>\n",
    "\n",
    "<p><strong>Example 2:</strong></p>\n",
    "\n",
    "<pre><strong>Input:</strong> s1 = \"aabcc\", s2 = \"dbbca\", s3 = \"aadbbbaccc\"\n",
    "<strong>Output:</strong> false\n",
    "</pre>\n",
    "\n",
    "<p><strong>Example 3:</strong></p>\n",
    "\n",
    "<pre><strong>Input:</strong> s1 = \"\", s2 = \"\", s3 = \"\"\n",
    "<strong>Output:</strong> true\n",
    "</pre>\n",
    "\n",
    "<p>&nbsp;</p>\n",
    "<p><strong>Constraints:</strong></p>\n",
    "\n",
    "<ul>\n",
    "\t<li><code>0 &lt;= s1.length, s2.length &lt;= 100</code></li>\n",
    "\t<li><code>0 &lt;= s3.length &lt;= 200</code></li>\n",
    "\t<li><code>s1</code>, <code>s2</code>, and <code>s3</code> consist of lower-case English letters.</li>\n",
    "</ul>\n",
    "</div>"
   ]
  },
  {
   "cell_type": "markdown",
   "metadata": {},
   "source": [
    "## Option 1\n",
    " <p>    \n",
    "   DP Top Down\n",
    "<p>\n",
    "<p>\n",
    "Time complexity: O(m*n) m = len(s1), n = len(s2)\n",
    "    <br>\n",
    "Space complexity: O(m*n)"
   ]
  },
  {
   "cell_type": "code",
   "execution_count": null,
   "metadata": {},
   "outputs": [],
   "source": [
    "class Solution(object):\n",
    "    def isInterleave(self, s1, s2, s3):\n",
    "        if len(s1)+len(s2) != len(s3): return False\n",
    "        \n",
    "        self.seen = {}\n",
    "        \n",
    "        def search(i,j,k):\n",
    "            if (i,j,k) in self.seen: return self.seen[(i,j,k)]\n",
    "            if k == len(s3): return True\n",
    "            \n",
    "            if i < len(s1) and s1[i] == s3[k]:\n",
    "                self.seen[(i,j,k)] = search(i+1,j,k+1)            \n",
    "                if self.seen[(i,j,k)]: return True\n",
    "                \n",
    "            if j < len(s2) and s2[j] == s3[k]:\n",
    "                self.seen[(i,j,k)] = search(i,j+1,k+1)\n",
    "                if self.seen[(i,j,k)]: return True\n",
    "            \n",
    "            return False\n",
    "        \n",
    "        return search(0,0,0)\n",
    "    \n",
    "Solution().isInterleave(\"aabcc\", \"dbbca\", \"aadbbbaccc\")\n"
   ]
  },
  {
   "cell_type": "markdown",
   "metadata": {},
   "source": [
    "#### Result: 12ms (99.26%)"
   ]
  },
  {
   "cell_type": "markdown",
   "metadata": {},
   "source": [
    "## Option 2\n",
    " <p>    \n",
    "   DP Bottom up\n",
    "<p>\n",
    "<p>\n",
    "Time complexity: O(m*n) m = len(s1), n = len(s2)\n",
    "    <br>\n",
    "Space complexity: O(m*n)"
   ]
  },
  {
   "cell_type": "code",
   "execution_count": null,
   "metadata": {},
   "outputs": [],
   "source": [
    "class Solution(object):\n",
    "    def isInterleave(self, s1, s2, s3):\n",
    "        if len(s1)+len(s2) != len(s3): return False\n",
    "        \n",
    "        dp = set([(0,0)])\n",
    "        \n",
    "        for k in range(len(s3)):\n",
    "            new_dp = set()\n",
    "            for i,j in dp:\n",
    "                if i < len(s1) and s1[i] == s3[k]:\n",
    "                    new_dp.add((i+1,j))\n",
    "                if j < len(s2) and s2[j] == s3[k]:\n",
    "                    new_dp.add((i,j+1))\n",
    "            \n",
    "            if not new_dp: return False\n",
    "            dp = new_dp\n",
    "        \n",
    "        return True"
   ]
  },
  {
   "cell_type": "markdown",
   "metadata": {},
   "source": [
    "#### Result: 20ms (88.86%)"
   ]
  }
 ],
 "metadata": {
  "kernelspec": {
   "display_name": "Python 2",
   "language": "python",
   "name": "python2"
  },
  "language_info": {
   "codemirror_mode": {
    "name": "ipython",
    "version": 2
   },
   "file_extension": ".py",
   "mimetype": "text/x-python",
   "name": "python",
   "nbconvert_exporter": "python",
   "pygments_lexer": "ipython2",
   "version": "2.7.16"
  }
 },
 "nbformat": 4,
 "nbformat_minor": 2
}
