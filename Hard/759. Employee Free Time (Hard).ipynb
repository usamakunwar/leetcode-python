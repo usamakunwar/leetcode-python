{
 "cells": [
  {
   "cell_type": "markdown",
   "metadata": {},
   "source": [
    "# 759. Employee Free Time (Hard)"
   ]
  },
  {
   "cell_type": "markdown",
   "metadata": {},
   "source": [
    "<div><p>We are given a list <code>schedule</code> of employees, which represents the working time for each employee.</p>\n",
    "\n",
    "<p>Each employee has a list of non-overlapping <code>Intervals</code>, and these intervals are in sorted order.</p>\n",
    "\n",
    "<p>Return the list of finite intervals representing <b>common, positive-length free time</b> for <i>all</i> employees, also in sorted order.</p>\n",
    "\n",
    "<p>(Even though we are representing <code>Intervals</code> in the form <code>[x, y]</code>, the objects inside are <code>Intervals</code>, not lists or arrays. For example, <code>schedule[0][0].start = 1</code>, <code>schedule[0][0].end = 2</code>, and <code>schedule[0][0][0]</code> is not defined).&nbsp; Also, we wouldn't include intervals like [5, 5] in our answer, as they have zero length.</p>\n",
    "\n",
    "<p>&nbsp;</p>\n",
    "<p><strong>Example 1:</strong></p>\n",
    "\n",
    "<pre><strong>Input:</strong> schedule = [[[1,2],[5,6]],[[1,3]],[[4,10]]]\n",
    "<strong>Output:</strong> [[3,4]]\n",
    "<strong>Explanation:</strong> There are a total of three employees, and all common\n",
    "free time intervals would be [-inf, 1], [3, 4], [10, inf].\n",
    "We discard any intervals that contain inf as they aren't finite.\n",
    "</pre>\n",
    "\n",
    "<p><strong>Example 2:</strong></p>\n",
    "\n",
    "<pre><strong>Input:</strong> schedule = [[[1,3],[6,7]],[[2,4]],[[2,5],[9,12]]]\n",
    "<strong>Output:</strong> [[5,6],[7,9]]\n",
    "</pre>\n",
    "\n",
    "<p>&nbsp;</p>\n",
    "<p><strong>Constraints:</strong></p>\n",
    "\n",
    "<ul>\n",
    "\t<li><code>1 &lt;= schedule.length , schedule[i].length &lt;= 50</code></li>\n",
    "\t<li><code>0 &lt;= schedule[i].start &lt; schedule[i].end &lt;= 10^8</code></li>\n",
    "</ul>\n",
    "</div>"
   ]
  },
  {
   "cell_type": "markdown",
   "metadata": {},
   "source": [
    "## Option 1\n",
    " <p>    \n",
    "    Priority Queue \n",
    "<p>\n",
    "<p>\n",
    "Time complexity: O(klogn) k = count of all intervals, n = len(schedule)\n",
    "    <br>\n",
    "Space complexity: O(n) "
   ]
  },
  {
   "cell_type": "code",
   "execution_count": null,
   "metadata": {},
   "outputs": [],
   "source": [
    "class Solution(object):\n",
    "    def employeeFreeTime(self, schedule):\n",
    "        h = []\n",
    "        for s in schedule:\n",
    "            iterator = iter(s)\n",
    "            val = next(iterator)\n",
    "            heapq.heappush(h, ([val.start, val.end],iterator))\n",
    "        \n",
    "        res, stack = [], []\n",
    "        \n",
    "        while h:\n",
    "            val, iterator = heapq.heappop(h)\n",
    "            if stack and val[0] <= stack[-1][1]:\n",
    "                stack[-1] = (stack[-1][0], max(stack[-1][1], val[1]))\n",
    "            else:\n",
    "                if stack: \n",
    "                    res.append(Interval(stack[-1][1], val[0]))\n",
    "                stack.append(val)\n",
    "            try:\n",
    "                nxt = next(iterator)\n",
    "                heapq.heappush(h, ([nxt.start, nxt.end], iterator))\n",
    "            except:\n",
    "                continue\n",
    "            \n",
    "        return res"
   ]
  },
  {
   "cell_type": "markdown",
   "metadata": {},
   "source": [
    "#### Result: 100ms (44.33%)"
   ]
  }
 ],
 "metadata": {
  "kernelspec": {
   "display_name": "Python 2",
   "language": "python",
   "name": "python2"
  },
  "language_info": {
   "codemirror_mode": {
    "name": "ipython",
    "version": 2
   },
   "file_extension": ".py",
   "mimetype": "text/x-python",
   "name": "python",
   "nbconvert_exporter": "python",
   "pygments_lexer": "ipython2",
   "version": "2.7.16"
  }
 },
 "nbformat": 4,
 "nbformat_minor": 2
}
