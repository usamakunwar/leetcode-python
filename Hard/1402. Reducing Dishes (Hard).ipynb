{
 "cells": [
  {
   "cell_type": "markdown",
   "metadata": {},
   "source": [
    "# 1402. Reducing Dishes (Hard)"
   ]
  },
  {
   "cell_type": "markdown",
   "metadata": {},
   "source": [
    "<div><p>A chef&nbsp;has collected data on the <code>satisfaction</code> level of his&nbsp;<code>n</code> dishes.&nbsp;Chef can cook any dish in 1 unit of time.</p>\n",
    "\n",
    "<p><em>Like-time coefficient</em>&nbsp;of a dish is defined as&nbsp;the time taken to cook that dish including previous dishes multiplied by its satisfaction level &nbsp;i.e.&nbsp; <code>time[i]</code>*<code>satisfaction[i]</code></p>\n",
    "\n",
    "<p>Return&nbsp;the maximum sum of&nbsp;<em>Like-time coefficient </em>that the chef can obtain after dishes preparation.</p>\n",
    "\n",
    "<p>Dishes can be prepared in <strong>any </strong>order and the chef can discard some dishes to get this maximum value.</p>\n",
    "\n",
    "<p>&nbsp;</p>\n",
    "<p><strong>Example 1:</strong></p>\n",
    "\n",
    "<pre><strong>Input:</strong> satisfaction = [-1,-8,0,5,-9]\n",
    "<strong>Output:</strong> 14\n",
    "<strong>Explanation: </strong>After Removing the second and last dish, the maximum total <em>Like-time coefficient</em> will be equal to (-1*1 + 0*2 + 5*3 = 14). Each dish is prepared in one unit of time.</pre>\n",
    "\n",
    "<p><strong>Example 2:</strong></p>\n",
    "\n",
    "<pre><strong>Input:</strong> satisfaction = [4,3,2]\n",
    "<strong>Output:</strong> 20\n",
    "<strong>Explanation:</strong> Dishes can be prepared in any order, (2*1 + 3*2 + 4*3 = 20)\n",
    "</pre>\n",
    "\n",
    "<p><strong>Example 3:</strong></p>\n",
    "\n",
    "<pre><strong>Input:</strong> satisfaction = [-1,-4,-5]\n",
    "<strong>Output:</strong> 0\n",
    "<strong>Explanation:</strong> People don't like the dishes. No dish is prepared.\n",
    "</pre>\n",
    "\n",
    "<p><strong>Example 4:</strong></p>\n",
    "\n",
    "<pre><strong>Input:</strong> satisfaction = [-2,5,-1,0,3,-3]\n",
    "<strong>Output:</strong> 35\n",
    "</pre>\n",
    "\n",
    "<p>&nbsp;</p>\n",
    "<p><strong>Constraints:</strong></p>\n",
    "\n",
    "<ul>\n",
    "\t<li><code>n == satisfaction.length</code></li>\n",
    "\t<li><code>1 &lt;= n &lt;= 500</code></li>\n",
    "\t<li><code>-10^3 &lt;=&nbsp;satisfaction[i] &lt;= 10^3</code></li>\n",
    "</ul></div>"
   ]
  },
  {
   "cell_type": "markdown",
   "metadata": {},
   "source": [
    "## Option 1\n",
    " <p>    \n",
    "   Brute force\n",
    "    <p>\n",
    "<p>\n",
    "<p>\n",
    "Time complexity: O(n^2)\n",
    "    <br>\n",
    "Space complexity: O(1)"
   ]
  },
  {
   "cell_type": "code",
   "execution_count": null,
   "metadata": {},
   "outputs": [],
   "source": [
    "class Solution(object):\n",
    "    def maxSatisfaction(self, s):\n",
    "        s.sort()\n",
    "        res = 0\n",
    "        for i in range(len(s)):\n",
    "            curr = 0\n",
    "            for j in range(i,len(s)):\n",
    "                curr += s[j]*(j-i+1)\n",
    "            res = max(res, curr)\n",
    "        \n",
    "        return res\n",
    "        \n",
    "Solution().maxSatisfaction([4,3,2])\n"
   ]
  },
  {
   "cell_type": "markdown",
   "metadata": {},
   "source": [
    "#### Result: 100ms (36.09%)"
   ]
  },
  {
   "cell_type": "markdown",
   "metadata": {},
   "source": [
    "## Option 2\n",
    " <p>    \n",
    "   <li>So main idea here is, given  arr = [a,b,c,d,e,f] say k = sum of all arr[i]*(i+1) \n",
    "   <li>arr[i]*(i+2) will simply be k + sum(arr). As by increasing all the coefficients by 1, all we are doing is adding each element 1 more time\n",
    "<p>\n",
    "<p>\n",
    "Time complexity: O(nlogn)\n",
    "    <br>\n",
    "Space complexity: O(1)"
   ]
  },
  {
   "cell_type": "code",
   "execution_count": null,
   "metadata": {},
   "outputs": [],
   "source": [
    "class Solution(object):\n",
    "    def maxSatisfaction(self, s):\n",
    "        s.sort(reverse=True)\n",
    "        res = curr = 0\n",
    "        for i in range(len(s)):\n",
    "            curr += s[i]\n",
    "            if res + curr < res: break \n",
    "            res += curr\n",
    "            \n",
    "        return res\n",
    "        \n",
    "Solution().maxSatisfaction([-1,-8,0,5,-9])\n"
   ]
  },
  {
   "cell_type": "markdown",
   "metadata": {},
   "source": [
    "#### Result: 20ms (98.50%)"
   ]
  }
 ],
 "metadata": {
  "kernelspec": {
   "display_name": "Python 2",
   "language": "python",
   "name": "python2"
  },
  "language_info": {
   "codemirror_mode": {
    "name": "ipython",
    "version": 2
   },
   "file_extension": ".py",
   "mimetype": "text/x-python",
   "name": "python",
   "nbconvert_exporter": "python",
   "pygments_lexer": "ipython2",
   "version": "2.7.16"
  }
 },
 "nbformat": 4,
 "nbformat_minor": 2
}
