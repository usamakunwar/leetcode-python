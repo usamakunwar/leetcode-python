{
 "cells": [
  {
   "cell_type": "markdown",
   "metadata": {},
   "source": [
    "# 265. Paint House II (Hard)"
   ]
  },
  {
   "cell_type": "markdown",
   "metadata": {},
   "source": [
    "<div><p>There are a row of <i>n</i> houses, each house can be painted with one of the <i>k</i> colors. The cost of painting each house with a certain color is different. You have to paint all the houses such that no two adjacent houses have the same color.</p>\n",
    "\n",
    "<p>The cost of painting each house with a certain color is represented by a <code><i>n</i> x <i>k</i></code> cost matrix. For example, <code>costs[0][0]</code> is the cost of painting house 0 with color 0; <code>costs[1][2]</code> is the cost of painting house 1 with color 2, and so on... Find the minimum cost to paint all houses.</p>\n",
    "\n",
    "<p><b>Note:</b><br>\n",
    "All costs are positive integers.</p>\n",
    "\n",
    "<p><strong>Example:</strong></p>\n",
    "\n",
    "<pre><strong>Input:</strong> [[1,5,3],[2,9,4]]\n",
    "<strong>Output:</strong> 5\n",
    "<strong>Explanation: </strong>Paint house 0 into color 0, paint house 1 into color 2. Minimum cost: 1 + 4 = 5; \n",
    "&nbsp;            Or paint house 0 into color 2, paint house 1 into color 0. Minimum cost: 3 + 2 = 5. \n",
    "</pre>\n",
    "\n",
    "<p><b>Follow up:</b><br>\n",
    "Could you solve it in <i>O</i>(<i>nk</i>) runtime?</p>\n",
    "</div>"
   ]
  },
  {
   "cell_type": "markdown",
   "metadata": {},
   "source": [
    "## Option 1\n",
    " <p>    \n",
    "   DP\n",
    "    <p>\n",
    "    <li>So cost[i][j] = cost[i][j] + the minimum tail above that is not directly above. So we just need to store the 2 minimum tails above\n",
    "<p>\n",
    "<p>\n",
    "Time complexity: O(nm)\n",
    "    <br>\n",
    "Space complexity: O(1)"
   ]
  },
  {
   "cell_type": "code",
   "execution_count": null,
   "metadata": {},
   "outputs": [],
   "source": [
    "class Solution(object):\n",
    "    def minCostII(self, costs):\n",
    "        if not costs or not costs[0] : return 0\n",
    "\n",
    "        n, m = len(costs), len(costs[0])\n",
    "        min_1 = min_2 = 0\n",
    "        \n",
    "        for i in range(n):\n",
    "            new_min_1 = new_min_2 = float('inf')\n",
    "            for j in range(m):\n",
    "                if i > 0 and costs[i-1][j] == min_1:\n",
    "                    costs[i][j] += min_2\n",
    "                else:\n",
    "                    costs[i][j] += min_1\n",
    "                 \n",
    "                new_min_1, new_min_2 = min(costs[i][j] , new_min_1), min(new_min_2, max(costs[i][j] , new_min_1))\n",
    "            \n",
    "            min_1, min_2 = new_min_1, new_min_2\n",
    "        \n",
    "        return min_1"
   ]
  },
  {
   "cell_type": "markdown",
   "metadata": {},
   "source": [
    "#### Result: 96ms (79.34%)"
   ]
  }
 ],
 "metadata": {
  "kernelspec": {
   "display_name": "Python 2",
   "language": "python",
   "name": "python2"
  },
  "language_info": {
   "codemirror_mode": {
    "name": "ipython",
    "version": 2
   },
   "file_extension": ".py",
   "mimetype": "text/x-python",
   "name": "python",
   "nbconvert_exporter": "python",
   "pygments_lexer": "ipython2",
   "version": "2.7.16"
  }
 },
 "nbformat": 4,
 "nbformat_minor": 2
}
