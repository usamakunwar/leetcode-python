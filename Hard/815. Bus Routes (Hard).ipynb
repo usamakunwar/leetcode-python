{
 "cells": [
  {
   "cell_type": "markdown",
   "metadata": {},
   "source": [
    "# 815. Bus Routes (Hard)"
   ]
  },
  {
   "cell_type": "markdown",
   "metadata": {},
   "source": [
    "<div><p>We have a list of bus routes. Each <code>routes[i]</code> is a bus route that the i-th bus&nbsp;repeats forever. For example if <code>routes[0] = [1, 5, 7]</code>, this means that the first&nbsp;bus (0-th indexed) travels in the sequence 1-&gt;5-&gt;7-&gt;1-&gt;5-&gt;7-&gt;1-&gt;... forever.</p>\n",
    "\n",
    "<p>We start at bus stop <code>S</code> (initially not on a bus), and we want to go to bus stop <code>T</code>. Travelling by buses only, what is the least number of buses we must take to reach our destination? Return -1 if it is not possible.</p>\n",
    "\n",
    "<pre><strong>Example:</strong>\n",
    "<strong>Input:</strong> \n",
    "routes = [[1, 2, 7], [3, 6, 7]]\n",
    "S = 1\n",
    "T = 6\n",
    "<strong>Output:</strong> 2\n",
    "<strong>Explanation:</strong> \n",
    "The best strategy is take the first bus to the bus stop 7, then take the second bus to the bus stop 6.\n",
    "</pre>\n",
    "\n",
    "<p>&nbsp;</p>\n",
    "<p><strong>Constraints:</strong></p>\n",
    "\n",
    "<ul>\n",
    "\t<li><code>1 &lt;= routes.length &lt;= 500</code>.</li>\n",
    "\t<li><code>1 &lt;= routes[i].length &lt;= 10^5</code>.</li>\n",
    "\t<li><code>0 &lt;= routes[i][j] &lt; 10 ^ 6</code>.</li>\n",
    "</ul>\n",
    "</div>"
   ]
  },
  {
   "cell_type": "markdown",
   "metadata": {},
   "source": [
    "## Option 1\n",
    "<p>\n",
    "    BFS\n",
    "    <p>\n",
    "             <p>\n",
    "Time complexity: O(n^2)\n",
    "    <br>\n",
    "Space complexity: O(n^2)"
   ]
  },
  {
   "cell_type": "code",
   "execution_count": null,
   "metadata": {},
   "outputs": [],
   "source": [
    "import collections\n",
    "class Solution(object):\n",
    "    def numBusesToDestination(self, routes, S, T):\n",
    "        graph = collections.defaultdict(set)\n",
    "                \n",
    "        for i in range(len(routes)):\n",
    "            for stop in routes[i]:\n",
    "                graph[stop].add(i)\n",
    "            \n",
    "        q = collections.deque([(S,0)])\n",
    "        seen = set([S])\n",
    "        while q:\n",
    "            curr,lev = q.popleft()\n",
    "            \n",
    "            if curr == T:  return lev\n",
    "            \n",
    "            for bus in graph[curr]:\n",
    "                for stop in routes[bus]:\n",
    "                    if stop in seen: continue\n",
    "                    seen.add(stop)\n",
    "                    q.append((stop,lev+1))\n",
    "                \n",
    "        return -1\n",
    "        \n",
    "\n",
    "Solution().numBusesToDestination([[1, 2, 7], [3, 6, 7]], 1, 6)\n",
    "        "
   ]
  },
  {
   "cell_type": "markdown",
   "metadata": {},
   "source": [
    "#### Result: 3072ms (5.43%)"
   ]
  },
  {
   "cell_type": "markdown",
   "metadata": {},
   "source": [
    "## Option 2\n",
    "<p>\n",
    "    BFS. With improved cache, add a seen for buses\n",
    "    <p>\n",
    "             <p>\n",
    "\n",
    "\n",
    "Time complexity: O(n^2)\n",
    "    <br>\n",
    "Space complexity: O(n^2)"
   ]
  },
  {
   "cell_type": "code",
   "execution_count": null,
   "metadata": {},
   "outputs": [],
   "source": [
    "import collections\n",
    "class Solution(object):\n",
    "    def numBusesToDestination(self, routes, S, T):\n",
    "        graph = collections.defaultdict(set)\n",
    "                \n",
    "        for i in range(len(routes)):\n",
    "            for stop in routes[i]:\n",
    "                graph[stop].add(i)\n",
    "            \n",
    "        q = collections.deque([(S,0)])\n",
    "        seen_stops, seen_buses = set([S]), set()\n",
    "        while q:\n",
    "            curr,lev = q.popleft()\n",
    "            \n",
    "            if curr == T: \n",
    "                return lev\n",
    "            \n",
    "            for bus in graph[curr]:\n",
    "                if bus in seen_buses: continue\n",
    "                seen_buses.add(bus)\n",
    "                for stop in routes[bus]:\n",
    "                    if stop in seen_stops: continue\n",
    "                    seen_stops.add(stop)\n",
    "                    q.append((stop,lev+1))\n",
    "                \n",
    "        return -1\n",
    "        \n",
    "\n",
    "Solution().numBusesToDestination([[1, 2, 7], [3, 6, 7]], 1, 6)\n",
    "        "
   ]
  },
  {
   "cell_type": "markdown",
   "metadata": {},
   "source": [
    "#### Result: 580ms (50.23%)"
   ]
  }
 ],
 "metadata": {
  "kernelspec": {
   "display_name": "Python 2",
   "language": "python",
   "name": "python2"
  },
  "language_info": {
   "codemirror_mode": {
    "name": "ipython",
    "version": 2
   },
   "file_extension": ".py",
   "mimetype": "text/x-python",
   "name": "python",
   "nbconvert_exporter": "python",
   "pygments_lexer": "ipython2",
   "version": "2.7.16"
  }
 },
 "nbformat": 4,
 "nbformat_minor": 2
}
