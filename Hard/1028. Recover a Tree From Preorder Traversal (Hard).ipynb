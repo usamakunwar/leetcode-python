{
 "cells": [
  {
   "cell_type": "markdown",
   "metadata": {},
   "source": [
    "# 1028. Recover a Tree From Preorder Traversal (Hard)"
   ]
  },
  {
   "cell_type": "markdown",
   "metadata": {},
   "source": [
    "<div><p>We run a&nbsp;preorder&nbsp;depth first search on the <code>root</code> of a binary tree.</p>\n",
    "\n",
    "<p>At each node in this traversal, we output <code>D</code> dashes (where <code>D</code> is the <em>depth</em> of this node), then we output the value of this node.&nbsp;&nbsp;<em>(If the depth of a node is <code>D</code>, the depth of its immediate child is <code>D+1</code>.&nbsp; The depth of the root node is <code>0</code>.)</em></p>\n",
    "\n",
    "<p>If a node has only one child, that child is guaranteed to be the left child.</p>\n",
    "\n",
    "<p>Given the output <code>S</code> of this traversal, recover the tree and return its <code>root</code>.</p>\n",
    "\n",
    "<p>&nbsp;</p>\n",
    "\n",
    "<p><strong>Example 1:</strong></p>\n",
    "\n",
    "<p><strong><img alt=\"\" src=\"https://assets.leetcode.com/uploads/2019/04/08/recover-a-tree-from-preorder-traversal.png\" style=\"width: 320px; height: 200px;\"></strong></p>\n",
    "\n",
    "<pre><strong>Input: </strong><span id=\"example-input-1-1\">\"1-2--3--4-5--6--7\"</span>\n",
    "<strong>Output: </strong><span id=\"example-output-1\">[1,2,5,3,4,6,7]</span>\n",
    "</pre>\n",
    "\n",
    "<div>\n",
    "<p><strong>Example 2:</strong></p>\n",
    "\n",
    "<p><strong><img alt=\"\" src=\"https://assets.leetcode.com/uploads/2019/04/11/screen-shot-2019-04-10-at-114101-pm.png\" style=\"width: 256px; height: 250px;\"></strong></p>\n",
    "\n",
    "<pre><strong>Input: </strong><span id=\"example-input-2-1\">\"1-2--3---4-5--6---7\"</span>\n",
    "<strong>Output: </strong><span id=\"example-output-2\">[1,2,5,3,null,6,null,4,null,7]</span></pre>\n",
    "</div>\n",
    "\n",
    "<div>\n",
    "<p>&nbsp;</p>\n",
    "\n",
    "<div>\n",
    "<p><strong>Example 3:</strong></p>\n",
    "\n",
    "<p><span><img alt=\"\" src=\"https://assets.leetcode.com/uploads/2019/04/11/screen-shot-2019-04-10-at-114955-pm.png\" style=\"width: 276px; height: 250px;\"></span></p>\n",
    "\n",
    "<pre><strong>Input: </strong><span id=\"example-input-3-1\">\"1-401--349---90--88\"</span>\n",
    "<strong>Output: </strong><span id=\"example-output-3\">[1,401,null,349,88,90]</span>\n",
    "</pre>\n",
    "</div>\n",
    "\n",
    "<p>&nbsp;</p>\n",
    "\n",
    "<p><strong>Note:</strong></p>\n",
    "\n",
    "<ul>\n",
    "\t<li>The number of nodes in the original tree is between <code>1</code> and <code>1000</code>.</li>\n",
    "\t<li>Each node will have a value between <code>1</code> and <code>10^9</code>.</li>\n",
    "</ul>\n",
    "</div>\n",
    "</div>"
   ]
  },
  {
   "cell_type": "markdown",
   "metadata": {},
   "source": [
    "## Option 1\n",
    "\n",
    "Recursive,  make the S into array of levels and values (so its easier to handle in DFS)\n",
    "\n",
    "Time complexity = O(n)\n",
    "<br>\n",
    "Space complexity = O(n)"
   ]
  },
  {
   "cell_type": "code",
   "execution_count": null,
   "metadata": {
    "scrolled": false
   },
   "outputs": [],
   "source": [
    "# Definition for a binary tree node.\n",
    "# class TreeNode:\n",
    "#     def __init__(self, x):\n",
    "#         self.val = x\n",
    "#         self.left = None\n",
    "#         self.right = None\n",
    "\n",
    "class Solution:\n",
    "    def recoverFromPreorder(self, S: str) -> TreeNode:\n",
    "        levels = []\n",
    "        values = []\n",
    "        \n",
    "        p = len(S)-1\n",
    "        while p >= 0:\n",
    "            val = \"\"\n",
    "            while p >=0 and S[p] != \"-\":\n",
    "                val = S[p]+val\n",
    "                p -= 1\n",
    "            values.append(val)\n",
    "            level = 0\n",
    "            while p >= 0 and S[p] == \"-\":\n",
    "                level += 1\n",
    "                p -= 1\n",
    "                if p < 0 : break\n",
    "            levels.append(level)\n",
    "        \n",
    "        def dfs(node,level):\n",
    "            if not node: return node\n",
    "            values.pop()\n",
    "            levels.pop()\n",
    "            if len(levels) > 0 and (level+1) == levels[-1]:\n",
    "                node.left = dfs(TreeNode(values[-1]),levels[-1])\n",
    "            if len(levels) > 0 and (level+1) == levels[-1]: \n",
    "                node.right = dfs(TreeNode(values[-1]),levels[-1])\n",
    "            return node\n",
    "        \n",
    "        return dfs(TreeNode(values[-1]), levels[-1])"
   ]
  },
  {
   "cell_type": "markdown",
   "metadata": {},
   "source": [
    "#### Result:  80ms (39.92%)"
   ]
  },
  {
   "cell_type": "markdown",
   "metadata": {},
   "source": [
    "## Option 2\n",
    "\n",
    "We can make the tree whilst working on S, saving some time - using a stack.\n",
    "The trick is to pop of the stack when trying to access a prior node\n",
    "<p>\n",
    "Time complexity = O(n)\n",
    "<br>\n",
    "Space complexity = O(n)"
   ]
  },
  {
   "cell_type": "code",
   "execution_count": null,
   "metadata": {},
   "outputs": [],
   "source": [
    "# Definition for a binary tree node.\n",
    "# class TreeNode:\n",
    "#     def __init__(self, x):\n",
    "#         self.val = x\n",
    "#         self.left = None\n",
    "#         self.right = None\n",
    "\n",
    "class Solution:\n",
    "    def recoverFromPreorder(self, S: str) -> TreeNode:\n",
    "        stack = []\n",
    "        p = 0\n",
    "        while p < len(S):\n",
    "            level = 0\n",
    "            while p < len(S) and S[p] == \"-\":\n",
    "                level += 1\n",
    "                p += 1\n",
    "            val = \"\"\n",
    "            while p < len(S) and S[p] != \"-\":\n",
    "                val += S[p]\n",
    "                p += 1\n",
    "            \n",
    "            while len(stack) > level:\n",
    "                stack.pop()\n",
    "            \n",
    "            node = TreeNode(val)\n",
    "            \n",
    "            if stack and stack[-1].left == None:\n",
    "                stack[-1].left = node\n",
    "            elif stack:\n",
    "                stack[-1].right = node            \n",
    "            \n",
    "            stack.append(node)\n",
    "        \n",
    "        return stack[0]"
   ]
  },
  {
   "cell_type": "markdown",
   "metadata": {},
   "source": [
    "#### Result:  72ms (61.66%)"
   ]
  }
 ],
 "metadata": {
  "kernelspec": {
   "display_name": "Python 3",
   "language": "python",
   "name": "python3"
  },
  "language_info": {
   "codemirror_mode": {
    "name": "ipython",
    "version": 3
   },
   "file_extension": ".py",
   "mimetype": "text/x-python",
   "name": "python",
   "nbconvert_exporter": "python",
   "pygments_lexer": "ipython3",
   "version": "3.7.4"
  }
 },
 "nbformat": 4,
 "nbformat_minor": 2
}
