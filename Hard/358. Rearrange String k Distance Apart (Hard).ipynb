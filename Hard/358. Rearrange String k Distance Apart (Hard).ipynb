{
 "cells": [
  {
   "cell_type": "markdown",
   "metadata": {},
   "source": [
    "# 358. Rearrange String k Distance Apart (Medium)"
   ]
  },
  {
   "cell_type": "markdown",
   "metadata": {},
   "source": [
    "<div><p>Given a non-empty string <b>s</b> and an integer <b>k</b>, rearrange the string such that the same characters are at least distance <b>k</b> from each other.</p>\n",
    "\n",
    "<p>All input strings are given in lowercase letters. If it is not possible to rearrange the string, return an empty string <code>\"\"</code>.</p>\n",
    "\n",
    "<p><strong>Example 1:</strong></p>\n",
    "\n",
    "<div>\n",
    "<pre><strong>Input: </strong>s = <span id=\"example-input-1-1\">\"aabbcc\"</span>, k = <span id=\"example-input-1-2\">3</span>\n",
    "<strong>Output: </strong><span id=\"example-output-1\">\"abcabc\" \n",
    "<strong>Explanation: </strong></span>The same letters are at least distance 3 from each other.\n",
    "</pre>\n",
    "\n",
    "<div>\n",
    "<p><strong>Example 2:</strong></p>\n",
    "\n",
    "<pre><strong>Input: </strong>s = <span id=\"example-input-2-1\">\"aaabc\"</span>, k = <span id=\"example-input-2-2\">3</span>\n",
    "<strong>Output: </strong><span id=\"example-output-2\">\"\" \n",
    "<strong>Explanation:</strong> </span>It is not possible to rearrange the string.\n",
    "</pre>\n",
    "\n",
    "<div>\n",
    "<p><strong>Example 3:</strong></p>\n",
    "\n",
    "<pre><strong>Input: </strong>s = <span id=\"example-input-3-1\">\"aaadbbcc\"</span>, k = <span id=\"example-input-3-2\">2</span>\n",
    "<strong>Output: </strong><span id=\"example-output-3\">\"abacabcd\"\n",
    "</span><span id=\"example-output-2\"><strong>Explanation:</strong> </span>The same letters are at least distance 2 from each other.\n",
    "</pre>\n",
    "</div>\n",
    "</div>\n",
    "</div></div>"
   ]
  },
  {
   "cell_type": "markdown",
   "metadata": {},
   "source": [
    "## Option 1\n",
    " <p>    \n",
    "   Heap + Queue\n",
    "<p>\n",
    "<p>\n",
    "Time complexity: O(nlogm) n = length of s,  m = unique characters\n",
    "    <br>\n",
    "Space complexity: O(m)  "
   ]
  },
  {
   "cell_type": "code",
   "execution_count": null,
   "metadata": {},
   "outputs": [],
   "source": [
    "import collections\n",
    "import heapq\n",
    "\n",
    "class Solution(object):\n",
    "    def rearrangeString(self, s, k):\n",
    "        if k == 0: return s\n",
    "        \n",
    "        c = collections.Counter(s)        \n",
    "        h = [(-c[key],key,0) for key in c]\n",
    "        heapq.heapify(h)\n",
    "        \n",
    "        q = collections.deque()\n",
    "        \n",
    "        res = ''\n",
    "        for i in range(len(s)):\n",
    "            if q and q[0][2] == i:\n",
    "                heapq.heappush(h, q.popleft())    \n",
    "                \n",
    "            if not h: return ''\n",
    "            \n",
    "            count, val, _ = heapq.heappop(h)\n",
    "            res += val\n",
    "\n",
    "            if count+1 < 0:\n",
    "                q.append((count+1, val, i+k))\n",
    "        return res\n",
    "        \n",
    "        \n",
    "Solution().rearrangeString(\"ababababacabacabacabacabacabacabaca\", 2)\n",
    "\n"
   ]
  },
  {
   "cell_type": "markdown",
   "metadata": {},
   "source": [
    "#### Result: 1176ms (27.18%)"
   ]
  }
 ],
 "metadata": {
  "kernelspec": {
   "display_name": "Python 2",
   "language": "python",
   "name": "python2"
  },
  "language_info": {
   "codemirror_mode": {
    "name": "ipython",
    "version": 2
   },
   "file_extension": ".py",
   "mimetype": "text/x-python",
   "name": "python",
   "nbconvert_exporter": "python",
   "pygments_lexer": "ipython2",
   "version": "2.7.16"
  }
 },
 "nbformat": 4,
 "nbformat_minor": 2
}
