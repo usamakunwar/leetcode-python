{
 "cells": [
  {
   "cell_type": "markdown",
   "metadata": {},
   "source": [
    "# 428. Serialize and Deserialize N-ary Tree (Hard)"
   ]
  },
  {
   "cell_type": "markdown",
   "metadata": {},
   "source": [
    "<div><p>Serialization is the process of converting a data structure or object into a sequence of bits so that it can be stored in a file or memory buffer, or transmitted across a network connection link to be reconstructed later in the same or another computer environment.</p>\n",
    "\n",
    "<p>Design an algorithm to serialize and deserialize an N-ary tree. An N-ary tree is a rooted tree in which each node has no more than N children. There is no restriction on how your serialization/deserialization algorithm should work. You just need to ensure that an N-ary tree can be serialized to a string and this string can be deserialized to the original tree structure.</p>\n",
    "\n",
    "<p>For example, you may serialize the following&nbsp;<code>3-ary</code>&nbsp;tree</p>\n",
    "\n",
    "<p><img src=\"https://assets.leetcode.com/uploads/2018/10/12/narytreeexample.png\" style=\"width: 100%; max-width: 300px;\"></p>\n",
    "\n",
    "<p>as&nbsp;<code>[1 [3[5 6] 2 4]]</code>. Note that this is just an example, you do not necessarily need to follow this format.</p>\n",
    "\n",
    "<p>Or you can follow LeetCode's level order traversal serialization format, where each group of children is separated by the null value.</p>\n",
    "\n",
    "<p><img alt=\"\" src=\"https://assets.leetcode.com/uploads/2019/11/08/sample_4_964.png\" style=\"width: 296px; height: 241px;\"></p>\n",
    "\n",
    "<p>For example, the above tree may be serialized as <code>[1,null,2,3,4,5,null,null,6,7,null,8,null,9,10,null,null,11,null,12,null,13,null,null,14]</code>.</p>\n",
    "\n",
    "<p>You do not necessarily need to follow the above suggested formats, there are many more different formats that work so please be creative and come up with different approaches yourself.</p>\n",
    "\n",
    "<p>&nbsp;</p>\n",
    "<p><strong>Constraints:</strong></p>\n",
    "\n",
    "<ul>\n",
    "\t<li>The height of the n-ary tree is less than or equal to <code>1000</code></li>\n",
    "\t<li>The total number of nodes is between <code>[0,&nbsp;10^4]</code></li>\n",
    "\t<li>Do not use class member/global/static variables to store states. Your encode and decode algorithms should be stateless.</li>\n",
    "</ul>\n",
    "</div>"
   ]
  },
  {
   "cell_type": "markdown",
   "metadata": {},
   "source": [
    "## Option 1\n",
    "<p>\n",
    "    <p>\n",
    "             <p>"
   ]
  },
  {
   "cell_type": "code",
   "execution_count": null,
   "metadata": {},
   "outputs": [],
   "source": [
    "class Codec:\n",
    "    def serialize(self, root):\n",
    "        def search(node):\n",
    "            res = str(node.val)\n",
    "            if node.children:\n",
    "                res += '('\n",
    "                for child in node.children:\n",
    "                    res += search(child)+','\n",
    "                res += ')'\n",
    "                \n",
    "            return res                \n",
    "        return search(root) if root else ''\n",
    "    \n",
    "    def deserialize(self, data):\n",
    "        def search(data):\n",
    "            i = 0\n",
    "            while i < len(data) and data[i].isdigit(): i += 1\n",
    "            node = Node(int(data[:i]))\n",
    "            node.children = []\n",
    "            \n",
    "            i += 1\n",
    "            curr = ''\n",
    "            balance = 0\n",
    "            while i < len(data):\n",
    "                if data[i] == '(':  balance += 1\n",
    "                if data[i] == ')':  balance -= 1 \n",
    "                \n",
    "                if data[i] == ',' and balance == 0:\n",
    "                    node.children.append(search(curr))\n",
    "                    curr = ''\n",
    "                else:\n",
    "                    curr += data[i]\n",
    "                    \n",
    "                i += 1\n",
    "\n",
    "            return node\n",
    "    \n",
    "        return search(data) if data else None\n",
    "        \n"
   ]
  },
  {
   "cell_type": "markdown",
   "metadata": {},
   "source": [
    "#### Result: 264ms (5.49%)"
   ]
  }
 ],
 "metadata": {
  "kernelspec": {
   "display_name": "Python 2",
   "language": "python",
   "name": "python2"
  },
  "language_info": {
   "codemirror_mode": {
    "name": "ipython",
    "version": 2
   },
   "file_extension": ".py",
   "mimetype": "text/x-python",
   "name": "python",
   "nbconvert_exporter": "python",
   "pygments_lexer": "ipython2",
   "version": "2.7.16"
  }
 },
 "nbformat": 4,
 "nbformat_minor": 2
}
