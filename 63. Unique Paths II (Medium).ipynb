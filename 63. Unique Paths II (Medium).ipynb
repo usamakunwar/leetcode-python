{
 "cells": [
  {
   "cell_type": "markdown",
   "metadata": {},
   "source": [
    "# 63. Unique Paths II (Medium)\n"
   ]
  },
  {
   "cell_type": "markdown",
   "metadata": {},
   "source": [
    "<div><p>A robot is located at the top-left corner of a <em>m</em> x <em>n</em> grid (marked 'Start' in the diagram below).</p>\n",
    "\n",
    "<p>The robot can only move either down or right at any point in time. The robot is trying to reach the bottom-right corner of the grid (marked 'Finish' in the diagram below).</p>\n",
    "\n",
    "<p>Now consider if some obstacles are added to the grids. How many unique paths would there be?</p>\n",
    "\n",
    "<p><img src=\"https://assets.leetcode.com/uploads/2018/10/22/robot_maze.png\" style=\"width: 400px; height: 183px;\"></p>\n",
    "\n",
    "<p>An obstacle and empty space is marked as <code>1</code> and <code>0</code> respectively in the grid.</p>\n",
    "\n",
    "<p><strong>Note:</strong> <em>m</em> and <em>n</em> will be at most 100.</p>\n",
    "\n",
    "<p><strong>Example 1:</strong></p>\n",
    "\n",
    "<pre><strong>Input:\n",
    "</strong>[\n",
    "&nbsp; [0,0,0],\n",
    "&nbsp; [0,1,0],\n",
    "&nbsp; [0,0,0]\n",
    "]\n",
    "<strong>Output:</strong> 2\n",
    "<strong>Explanation:</strong>\n",
    "There is one obstacle in the middle of the 3x3 grid above.\n",
    "There are two ways to reach the bottom-right corner:\n",
    "1. Right -&gt; Right -&gt; Down -&gt; Down\n",
    "2. Down -&gt; Down -&gt; Right -&gt; Right\n",
    "</pre>\n",
    "</div>"
   ]
  },
  {
   "cell_type": "markdown",
   "metadata": {},
   "source": [
    "## Option 1\n",
    " <p>\n",
    "Time complexity: O(n)\n",
    "<br>\n",
    "Space complexity: O(1)"
   ]
  },
  {
   "cell_type": "code",
   "execution_count": 61,
   "metadata": {},
   "outputs": [
    {
     "data": {
      "text/plain": [
       "0"
      ]
     },
     "execution_count": 61,
     "metadata": {},
     "output_type": "execute_result"
    }
   ],
   "source": [
    "class Solution(object):\n",
    "    def uniquePathsWithObstacles(self, g):\n",
    "        if not g or not g[0] or g[0][0] or g[-1][-1]: return 0\n",
    "        li,lj = len(g), len(g[0])\n",
    "        g[0][0] = 1        \n",
    "        for i in range(li):\n",
    "            for j in range(lj):\n",
    "                if i == 0 and j == 0: continue\n",
    "                if g[i][j]:\n",
    "                    g[i][j] = -1\n",
    "                else:\n",
    "                    g[i][j] += g[i-1][j] if i > 0 and g[i-1][j] > 0 else 0\n",
    "                    g[i][j] += g[i][j-1] if j > 0 and g[i][j-1] > 0 else 0\n",
    "        \n",
    "        return g[-1][-1]\n",
    "                \n",
    "Solution().uniquePathsWithObstacles([[0,1]])     "
   ]
  },
  {
   "cell_type": "markdown",
   "metadata": {},
   "source": [
    "#### Result: 36ms (38.69%)\n"
   ]
  }
 ],
 "metadata": {
  "kernelspec": {
   "display_name": "Python 2",
   "language": "python",
   "name": "python2"
  },
  "language_info": {
   "codemirror_mode": {
    "name": "ipython",
    "version": 2
   },
   "file_extension": ".py",
   "mimetype": "text/x-python",
   "name": "python",
   "nbconvert_exporter": "python",
   "pygments_lexer": "ipython2",
   "version": "2.7.16"
  }
 },
 "nbformat": 4,
 "nbformat_minor": 2
}
