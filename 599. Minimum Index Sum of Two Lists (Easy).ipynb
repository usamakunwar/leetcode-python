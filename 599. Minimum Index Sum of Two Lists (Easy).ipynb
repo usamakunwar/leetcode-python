{
 "cells": [
  {
   "cell_type": "markdown",
   "metadata": {},
   "source": [
    "# 599. Minimum Index Sum of Two Lists (Easy)"
   ]
  },
  {
   "cell_type": "markdown",
   "metadata": {},
   "source": [
    "<div><p>\n",
    "Suppose Andy and Doris want to choose a restaurant for dinner, and they both have a list of favorite restaurants represented by strings. \n",
    "</p>\n",
    "<p>\n",
    "You need to help them find out their <b>common interest</b> with the <b>least list index sum</b>. If there is a choice tie between answers, output all of them with no order requirement. You could assume there always exists an answer.\n",
    "</p>\n",
    "\n",
    "\n",
    "<p><b>Example 1:</b><br>\n",
    "</p><pre><b>Input:</b>\n",
    "[\"Shogun\", \"Tapioca Express\", \"Burger King\", \"KFC\"]\n",
    "[\"Piatti\", \"The Grill at Torrey Pines\", \"Hungry Hunter Steakhouse\", \"Shogun\"]\n",
    "<b>Output:</b> [\"Shogun\"]\n",
    "<b>Explanation:</b> The only restaurant they both like is \"Shogun\".\n",
    "</pre>\n",
    "<p></p>\n",
    "\n",
    "<p><b>Example 2:</b><br>\n",
    "</p><pre><b>Input:</b>\n",
    "[\"Shogun\", \"Tapioca Express\", \"Burger King\", \"KFC\"]\n",
    "[\"KFC\", \"Shogun\", \"Burger King\"]\n",
    "<b>Output:</b> [\"Shogun\"]\n",
    "<b>Explanation:</b> The restaurant they both like and have the least index sum is \"Shogun\" with index sum 1 (0+1).\n",
    "</pre>\n",
    "<p></p>\n",
    "\n",
    "\n",
    "<p><b>Note:</b><br>\n",
    "</p><ol>\n",
    "<li>The length of both lists will be in the range of [1, 1000].</li>\n",
    "<li>The length of strings in both lists will be in the range of [1, 30].</li>\n",
    "<li>The index is starting from 0 to the list length minus 1.</li>\n",
    "<li>No duplicates in both lists.</li>\n",
    "</ol>\n",
    "<p></p></div>"
   ]
  },
  {
   "cell_type": "markdown",
   "metadata": {},
   "source": [
    "## Option 1\n",
    "\n",
    "Time complexity = O(n)\n",
    "<br>\n",
    "Space complexity = O(n)"
   ]
  },
  {
   "cell_type": "code",
   "execution_count": 1,
   "metadata": {},
   "outputs": [
    {
     "data": {
      "text/plain": [
       "['Shogun']"
      ]
     },
     "execution_count": 1,
     "metadata": {},
     "output_type": "execute_result"
    }
   ],
   "source": [
    "import collections\n",
    "class Solution(object):\n",
    "    def findRestaurant(self, list1, list2):\n",
    "        l1_map, min_sum, res = {v:i for i,v in enumerate(list1)}, 2000, []\n",
    "        for i,v in enumerate(list2):\n",
    "            if v in l1_map:\n",
    "                s = i + l1_map[v] \n",
    "                if s < min_sum:\n",
    "                    min_sum, res = s, [v]\n",
    "                elif s == min_sum:\n",
    "                    res.append(v)\n",
    "        return res\n",
    "\n",
    "Solution().findRestaurant([\"Shogun\", \"Tapioca Express\", \"Burger King\", \"KFC\"], [\"Piatti\", \"The Grill at Torrey Pines\", \"Hungry Hunter Steakhouse\", \"Shogun\"])"
   ]
  },
  {
   "cell_type": "markdown",
   "metadata": {},
   "source": [
    "#### Result: 128ms (50.58%)"
   ]
  }
 ],
 "metadata": {
  "kernelspec": {
   "display_name": "Python 2",
   "language": "python",
   "name": "python2"
  },
  "language_info": {
   "codemirror_mode": {
    "name": "ipython",
    "version": 2
   },
   "file_extension": ".py",
   "mimetype": "text/x-python",
   "name": "python",
   "nbconvert_exporter": "python",
   "pygments_lexer": "ipython2",
   "version": "2.7.16"
  }
 },
 "nbformat": 4,
 "nbformat_minor": 2
}
