{
 "cells": [
  {
   "cell_type": "markdown",
   "metadata": {},
   "source": [
    "# 216. Combination Sum III (Medium)"
   ]
  },
  {
   "cell_type": "markdown",
   "metadata": {},
   "source": [
    "<div>\n",
    "<p>Find all possible combinations of <i><b>k</b></i> numbers that add up to a number <i><b>n</b></i>, given that only numbers from 1 to 9 can be used and each combination should be a unique set of numbers.</p>\n",
    "\n",
    "<p><strong>Note:</strong></p>\n",
    "\n",
    "<ul>\n",
    "\t<li>All numbers will be positive integers.</li>\n",
    "\t<li>The solution set must not contain duplicate combinations.</li>\n",
    "</ul>\n",
    "\n",
    "<p><strong>Example 1:</strong></p>\n",
    "\n",
    "<pre><strong>Input:</strong> <i><b>k</b></i> = 3, <i><b>n</b></i> = 7\n",
    "<strong>Output:</strong> [[1,2,4]]\n",
    "</pre>\n",
    "\n",
    "<p><strong>Example 2:</strong></p>\n",
    "\n",
    "<pre><strong>Input:</strong> <i><b>k</b></i> = 3, <i><b>n</b></i> = 9\n",
    "<strong>Output:</strong> [[1,2,6], [1,3,5], [2,3,4]]\n",
    "</pre>\n",
    "</div>"
   ]
  },
  {
   "cell_type": "markdown",
   "metadata": {},
   "source": [
    "## Option 1\n",
    "<p>\n",
    "<li>DFS\n",
    "<li>Its important to allow the search to continue even if we reach the sum with less than needed length\n",
    "<li>For instance, if k = 9, n = 15  [1,2,3,4,5], we reached 15 in less than 9. It maybe compelling to think we should end the search if the sum is reached before length, as anything further would just increase the sum?\n",
    "<li>However, say k = 3, n = 9. [1,8] Has reached 9 before the length, if we end the search we miss [2,3,4]!\n",
    "<p>\n",
    "    <p>\n",
    "Time complexity: O(n)\n",
    "<br>\n",
    "Space complexity: O(1)"
   ]
  },
  {
   "cell_type": "code",
   "execution_count": null,
   "metadata": {},
   "outputs": [],
   "source": [
    "class Solution(object):\n",
    "    def combinationSum3(self, k, n):\n",
    "        def search(i, curr, sum):\n",
    "            if len(curr) == k: \n",
    "                return [curr] if sum == n else []\n",
    "            res = []\n",
    "            #Restrict the search to whatever fits within n\n",
    "            for j in range(i+1, min(n-sum+1,10)):\n",
    "                res += search(j, curr+[j], sum+j)\n",
    "            return res\n",
    "            \n",
    "        return search(0,[],0)\n",
    "        \n",
    "Solution().combinationSum3(9,15)"
   ]
  },
  {
   "cell_type": "markdown",
   "metadata": {},
   "source": [
    "#### Result: 20ms (62.18%)\n"
   ]
  }
 ],
 "metadata": {
  "kernelspec": {
   "display_name": "Python 2",
   "language": "python",
   "name": "python2"
  },
  "language_info": {
   "codemirror_mode": {
    "name": "ipython",
    "version": 2
   },
   "file_extension": ".py",
   "mimetype": "text/x-python",
   "name": "python",
   "nbconvert_exporter": "python",
   "pygments_lexer": "ipython2",
   "version": "2.7.16"
  }
 },
 "nbformat": 4,
 "nbformat_minor": 2
}
