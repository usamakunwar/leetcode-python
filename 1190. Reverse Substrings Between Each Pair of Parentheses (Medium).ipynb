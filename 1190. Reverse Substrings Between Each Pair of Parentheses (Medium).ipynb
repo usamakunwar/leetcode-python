{
 "cells": [
  {
   "cell_type": "markdown",
   "metadata": {},
   "source": [
    "# 1190. Reverse Substrings Between Each Pair of Parentheses (Medium)\n"
   ]
  },
  {
   "cell_type": "markdown",
   "metadata": {},
   "source": [
    "<div><p>Given two sequences <code>pushed</code> and <code>popped</code>&nbsp;<strong>with distinct values</strong>,&nbsp;return <code>true</code> if and only if this could have been the result of a sequence of push and pop operations on an initially empty stack.</p>\n",
    "\n",
    "<p>&nbsp;</p>\n",
    "\n",
    "<div>\n",
    "<p><strong>Example 1:</strong></p>\n",
    "\n",
    "<pre><strong>Input: </strong>pushed = <span id=\"example-input-1-1\">[1,2,3,4,5]</span>, popped = <span id=\"example-input-1-2\">[4,5,3,2,1]</span>\n",
    "<strong>Output: </strong><span id=\"example-output-1\">true</span>\n",
    "<strong>Explanation: </strong>We might do the following sequence:\n",
    "push(1), push(2), push(3), push(4), pop() -&gt; 4,\n",
    "push(5), pop() -&gt; 5, pop() -&gt; 3, pop() -&gt; 2, pop() -&gt; 1\n",
    "</pre>\n",
    "\n",
    "<div>\n",
    "<p><strong>Example 2:</strong></p>\n",
    "\n",
    "<pre><strong>Input: </strong>pushed = <span id=\"example-input-2-1\">[1,2,3,4,5]</span>, popped = <span id=\"example-input-2-2\">[4,3,5,1,2]</span>\n",
    "<strong>Output: </strong><span id=\"example-output-2\">false</span>\n",
    "<strong>Explanation: </strong>1 cannot be popped before 2.\n",
    "</pre>\n",
    "\n",
    "<p>&nbsp;</p>\n",
    "\n",
    "<p><strong>Note:</strong></p>\n",
    "\n",
    "<ol>\n",
    "\t<li><code>0 &lt;= pushed.length == popped.length &lt;= 1000</code></li>\n",
    "\t<li><code>0 &lt;= pushed[i], popped[i] &lt; 1000</code></li>\n",
    "\t<li><code>pushed</code> is a permutation of <code>popped</code>.</li>\n",
    "\t<li><code>pushed</code> and <code>popped</code> have distinct values.</li>\n",
    "</ol>\n",
    "</div>\n",
    "</div></div>"
   ]
  },
  {
   "cell_type": "markdown",
   "metadata": {},
   "source": [
    "## Option 1\n",
    "\n",
    "Time complexity: O(n^2) Due to the string reverse\n",
    "<br>\n",
    "Space complexity: O(n)\n"
   ]
  },
  {
   "cell_type": "code",
   "execution_count": null,
   "metadata": {
    "scrolled": false
   },
   "outputs": [],
   "source": [
    "import collections\n",
    "class Solution(object):\n",
    "    def reverseParentheses(self, s):\n",
    "        stack = ['']\n",
    "        for i in s:\n",
    "            if i == '(':\n",
    "                stack.append('')\n",
    "            elif i == ')':\n",
    "                s = stack.pop()[::-1]\n",
    "                stack[-1] += s\n",
    "            elif stack:\n",
    "                stack[-1] += i\n",
    "        return stack[0]\n",
    "\n",
    "Solution().reverseParentheses('(u(love)i)')"
   ]
  },
  {
   "cell_type": "markdown",
   "metadata": {},
   "source": [
    "#### Result: 20ms (65.58%)"
   ]
  },
  {
   "cell_type": "markdown",
   "metadata": {},
   "source": [
    "## Option 2\n",
    "\n",
    "Can make this linear by doing some magic. Store indexes of all pairs, then iterate whilst changing direction. \n",
    "\n",
    "Time complexity: O(n)\n",
    "<br>\n",
    "Space complexity: O(n)\n"
   ]
  },
  {
   "cell_type": "code",
   "execution_count": null,
   "metadata": {},
   "outputs": [],
   "source": [
    "import collections\n",
    "class Solution(object):\n",
    "    def reverseParentheses(self, s):\n",
    "        pairs = {}\n",
    "        opened = []\n",
    "        for i,v in enumerate(s):\n",
    "            if v == '(':\n",
    "                opened.append(i)\n",
    "            if v == ')':\n",
    "                pair_idx = opened.pop()\n",
    "                pairs[pair_idx],pairs[i] = i,pair_idx\n",
    "        \n",
    "        res,i,direction = [],0,1\n",
    "        while i < len(s):\n",
    "            if s[i] in '()':\n",
    "                i = pairs[i]\n",
    "                direction = -direction\n",
    "            else:\n",
    "                res.append(s[i])\n",
    "            i += direction\n",
    "        return ''.join(res)\n",
    "\n",
    "Solution().reverseParentheses('(ed(ed(oc))el)')"
   ]
  },
  {
   "cell_type": "markdown",
   "metadata": {},
   "source": [
    "#### Result: 20ms (65.58%)"
   ]
  }
 ],
 "metadata": {
  "kernelspec": {
   "display_name": "Python 2",
   "language": "python",
   "name": "python2"
  },
  "language_info": {
   "codemirror_mode": {
    "name": "ipython",
    "version": 2
   },
   "file_extension": ".py",
   "mimetype": "text/x-python",
   "name": "python",
   "nbconvert_exporter": "python",
   "pygments_lexer": "ipython2",
   "version": "2.7.16"
  }
 },
 "nbformat": 4,
 "nbformat_minor": 2
}
