{
 "cells": [
  {
   "cell_type": "markdown",
   "metadata": {},
   "source": [
    "# 785. Is Graph Bipartite? (Medium)"
   ]
  },
  {
   "cell_type": "markdown",
   "metadata": {},
   "source": [
    "<div><p>Given an undirected&nbsp;<code>graph</code>, return <code>true</code> if and only if it is bipartite.</p>\n",
    "\n",
    "<p>Recall that a graph is <em>bipartite</em> if we can split it's set of nodes into two independent&nbsp;subsets A and B such that every edge in the graph has one node in A and another node in B.</p>\n",
    "\n",
    "<p>The graph is given in the following form: <code>graph[i]</code> is a list of indexes <code>j</code> for which the edge between nodes <code>i</code> and <code>j</code> exists.&nbsp; Each node is an integer between <code>0</code> and <code>graph.length - 1</code>.&nbsp; There are no self edges or parallel edges: <code>graph[i]</code> does not contain <code>i</code>, and it doesn't contain any element twice.</p>\n",
    "\n",
    "<pre><strong>Example 1:</strong>\n",
    "<strong>Input:</strong> [[1,3], [0,2], [1,3], [0,2]]\n",
    "<strong>Output:</strong> true\n",
    "<strong>Explanation:</strong> \n",
    "The graph looks like this:\n",
    "0----1\n",
    "|    |\n",
    "|    |\n",
    "3----2\n",
    "We can divide the vertices into two groups: {0, 2} and {1, 3}.\n",
    "</pre>\n",
    "\n",
    "<pre><strong>Example 2:</strong>\n",
    "<strong>Input:</strong> [[1,2,3], [0,2], [0,1,3], [0,2]]\n",
    "<strong>Output:</strong> false\n",
    "<strong>Explanation:</strong> \n",
    "The graph looks like this:\n",
    "0----1\n",
    "| \\  |\n",
    "|  \\ |\n",
    "3----2\n",
    "We cannot find a way to divide the set of nodes into two independent subsets.\n",
    "</pre>\n",
    "\n",
    "<p>&nbsp;</p>\n",
    "\n",
    "<p><strong>Note:</strong></p>\n",
    "\n",
    "<ul>\n",
    "\t<li><code>graph</code> will have length in range <code>[1, 100]</code>.</li>\n",
    "\t<li><code>graph[i]</code> will contain integers in range <code>[0, graph.length - 1]</code>.</li>\n",
    "\t<li><code>graph[i]</code> will not contain <code>i</code> or duplicate values.</li>\n",
    "\t<li>The graph is undirected: if any element <code>j</code> is in <code>graph[i]</code>, then <code>i</code> will be in <code>graph[j]</code>.</li>\n",
    "</ul>\n",
    "</div>"
   ]
  },
  {
   "cell_type": "markdown",
   "metadata": {},
   "source": [
    "## Option 1\n",
    "<p>\n",
    "    DFS\n",
    "    <p>\n",
    "   <li>If there is an odd cycle it cannot be bipartite. Odd cycles can be identifed by assigning a 1/0 (color) to each level. If a node that has already been done with the same color shows up, we have an odd cycle\n",
    "<p>\n"
   ]
  },
  {
   "cell_type": "code",
   "execution_count": null,
   "metadata": {
    "scrolled": true
   },
   "outputs": [],
   "source": [
    "from collections import defaultdict\n",
    "class Solution(object):\n",
    "    def isBipartite(self, graph):\n",
    "        self.seen = {}\n",
    "        \n",
    "        def search(i,curr):\n",
    "            self.seen[i] = curr\n",
    "            for j in graph[i]:\n",
    "                if j not in self.seen:\n",
    "                    if not search(j, not curr): return False\n",
    "                elif self.seen[j] == curr:\n",
    "                    return False\n",
    "            return True\n",
    "        \n",
    "        return all(search(i,True) for i in range(len(graph)) if i not in self.seen)\n",
    "        \n",
    "        \n",
    "Solution().isBipartite([[1],[0],[3],[4],[2]])"
   ]
  },
  {
   "cell_type": "markdown",
   "metadata": {},
   "source": [
    "#### Result: 160ms (66.34%)"
   ]
  }
 ],
 "metadata": {
  "kernelspec": {
   "display_name": "Python 2",
   "language": "python",
   "name": "python2"
  },
  "language_info": {
   "codemirror_mode": {
    "name": "ipython",
    "version": 2
   },
   "file_extension": ".py",
   "mimetype": "text/x-python",
   "name": "python",
   "nbconvert_exporter": "python",
   "pygments_lexer": "ipython2",
   "version": "2.7.16"
  }
 },
 "nbformat": 4,
 "nbformat_minor": 2
}
