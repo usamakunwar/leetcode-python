{
 "cells": [
  {
   "cell_type": "markdown",
   "metadata": {},
   "source": [
    "# 487. Max Consecutive Ones II (Medium)"
   ]
  },
  {
   "cell_type": "markdown",
   "metadata": {},
   "source": [
    "<div><p>\n",
    "Given a binary array, find the maximum number of consecutive 1s in this array if you can flip at most one 0.\n",
    "</p>\n",
    "\n",
    "<p><b>Example 1:</b><br>\n",
    "</p><pre><b>Input:</b> [1,0,1,1,0]\n",
    "<b>Output:</b> 4\n",
    "<b>Explanation:</b> Flip the first zero will get the the maximum number of consecutive 1s.\n",
    "    After flipping, the maximum number of consecutive 1s is 4.\n",
    "</pre>\n",
    "<p></p>\n",
    "\n",
    "<p><b>Note:</b>\n",
    "</p><ul>\n",
    "<li>The input array will only contain <code>0</code> and <code>1</code>.</li>\n",
    "<li>The length of input array is a positive integer and will not exceed 10,000</li>\n",
    "</ul>\n",
    "<p></p>\n",
    "\n",
    "<p><b>Follow up:</b><br>\n",
    "What if the input numbers come in one by one as an <b>infinite stream</b>? In other words, you can't store all numbers coming from the stream as it's too large to hold in memory. Could you solve it efficiently?\n",
    "</p></div>"
   ]
  },
  {
   "cell_type": "markdown",
   "metadata": {},
   "source": [
    "## Option 1\n",
    "\n",
    "<p>Sliding Window\n",
    "    \n",
    "Time complexity: O(n)\n",
    "<br>\n",
    "Space complexity: O(1)"
   ]
  },
  {
   "cell_type": "code",
   "execution_count": null,
   "metadata": {
    "scrolled": true
   },
   "outputs": [],
   "source": [
    "import collections\n",
    "class Solution(object):\n",
    "    def findMaxConsecutiveOnes(self, nums):\n",
    "        left=res=0\n",
    "        last_zero = -1\n",
    "        for i,v in enumerate(nums):\n",
    "            if not v:\n",
    "                left = last_zero+1\n",
    "                last_zero = i\n",
    "            res = max(res,i-left+1)\n",
    "        return res\n",
    "                \n",
    "Solution().findMaxConsecutiveOnes([1,0,1,0,1,1,1,1])\n",
    "        "
   ]
  },
  {
   "cell_type": "markdown",
   "metadata": {},
   "source": [
    "#### Result: 340ms (85.11%)"
   ]
  }
 ],
 "metadata": {
  "kernelspec": {
   "display_name": "Python 2",
   "language": "python",
   "name": "python2"
  },
  "language_info": {
   "codemirror_mode": {
    "name": "ipython",
    "version": 2
   },
   "file_extension": ".py",
   "mimetype": "text/x-python",
   "name": "python",
   "nbconvert_exporter": "python",
   "pygments_lexer": "ipython2",
   "version": "2.7.16"
  }
 },
 "nbformat": 4,
 "nbformat_minor": 2
}
