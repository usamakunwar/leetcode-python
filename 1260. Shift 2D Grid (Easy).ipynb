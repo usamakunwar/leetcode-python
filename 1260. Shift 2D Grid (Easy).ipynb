{
 "cells": [
  {
   "cell_type": "markdown",
   "metadata": {},
   "source": [
    "# 1260. Shift 2D Grid (Easy)\n",
    "\n"
   ]
  },
  {
   "cell_type": "markdown",
   "metadata": {},
   "source": [
    "<div><p>Given a 2D <code>grid</code> of size <code>m x n</code>&nbsp;and an integer <code>k</code>. You need to shift the <code>grid</code>&nbsp;<code>k</code> times.</p>\n",
    "\n",
    "<p>In one shift operation:</p>\n",
    "\n",
    "<ul>\n",
    "\t<li>Element at <code>grid[i][j]</code> moves to <code>grid[i][j + 1]</code>.</li>\n",
    "\t<li>Element at <code>grid[i][n - 1]</code> moves to <code>grid[i + 1][0]</code>.</li>\n",
    "\t<li>Element at <code>grid[m&nbsp;- 1][n - 1]</code> moves to <code>grid[0][0]</code>.</li>\n",
    "</ul>\n",
    "\n",
    "<p>Return the <em>2D grid</em> after applying shift operation <code>k</code> times.</p>\n",
    "\n",
    "<p>&nbsp;</p>\n",
    "<p><strong>Example 1:</strong></p>\n",
    "<img alt=\"\" src=\"https://assets.leetcode.com/uploads/2019/11/05/e1.png\" style=\"width: 400px; height: 178px;\">\n",
    "<pre><strong>Input:</strong> <code>grid</code> = [[1,2,3],[4,5,6],[7,8,9]], k = 1\n",
    "<strong>Output:</strong> [[9,1,2],[3,4,5],[6,7,8]]\n",
    "</pre>\n",
    "\n",
    "<p><strong>Example 2:</strong></p>\n",
    "<img alt=\"\" src=\"https://assets.leetcode.com/uploads/2019/11/05/e2.png\" style=\"width: 400px; height: 166px;\">\n",
    "<pre><strong>Input:</strong> <code>grid</code> = [[3,8,1,9],[19,7,2,5],[4,6,11,10],[12,0,21,13]], k = 4\n",
    "<strong>Output:</strong> [[12,0,21,13],[3,8,1,9],[19,7,2,5],[4,6,11,10]]\n",
    "</pre>\n",
    "\n",
    "<p><strong>Example 3:</strong></p>\n",
    "\n",
    "<pre><strong>Input:</strong> <code>grid</code> = [[1,2,3],[4,5,6],[7,8,9]], k = 9\n",
    "<strong>Output:</strong> [[1,2,3],[4,5,6],[7,8,9]]\n",
    "</pre>\n",
    "\n",
    "<p>&nbsp;</p>\n",
    "<p><strong>Constraints:</strong></p>\n",
    "\n",
    "<ul>\n",
    "\t<li><code>m ==&nbsp;grid.length</code></li>\n",
    "\t<li><code>n ==&nbsp;grid[i].length</code></li>\n",
    "\t<li><code>1 &lt;= m &lt;= 50</code></li>\n",
    "\t<li><code>1 &lt;= n &lt;= 50</code></li>\n",
    "\t<li><code>-1000 &lt;= grid[i][j] &lt;= 1000</code></li>\n",
    "\t<li><code>0 &lt;= k &lt;= 100</code></li>\n",
    "</ul>\n",
    "</div>"
   ]
  },
  {
   "cell_type": "markdown",
   "metadata": {},
   "source": [
    "## Option 1\n",
    "<p>        <p>\n",
    "            <p>\n",
    "Time complexity: O(n) m*n\n",
    "<br>\n",
    "Space complexity: O(1)"
   ]
  },
  {
   "cell_type": "code",
   "execution_count": 17,
   "metadata": {},
   "outputs": [
    {
     "data": {
      "text/plain": [
       "[[12, 0, 21, 13], [3, 8, 1, 9], [19, 7, 2, 5], [4, 6, 11, 10]]"
      ]
     },
     "execution_count": 17,
     "metadata": {},
     "output_type": "execute_result"
    }
   ],
   "source": [
    "class Solution(object):\n",
    "    def shiftGrid(self, grid, k):\n",
    "        li,lj = len(grid),len(grid[0])\n",
    "        new = [[0]*lj for i in range(li)]\n",
    "        \n",
    "        for i in range(li):\n",
    "            for j in range(lj):\n",
    "                nj = k+j #new j position\n",
    "                ni = i+(nj/lj) #new i position\n",
    "                #mod to fit within i and j\n",
    "                new[ni%li][nj%lj] = grid[i][j]\n",
    "        return new\n",
    "            \n",
    "Solution().shiftGrid([[3,8,1,9],[19,7,2,5],[4,6,11,10],[12,0,21,13]],4)"
   ]
  },
  {
   "cell_type": "markdown",
   "metadata": {},
   "source": [
    "#### Result: 152ms (66.84%)\n"
   ]
  }
 ],
 "metadata": {
  "kernelspec": {
   "display_name": "Python 2",
   "language": "python",
   "name": "python2"
  },
  "language_info": {
   "codemirror_mode": {
    "name": "ipython",
    "version": 2
   },
   "file_extension": ".py",
   "mimetype": "text/x-python",
   "name": "python",
   "nbconvert_exporter": "python",
   "pygments_lexer": "ipython2",
   "version": "2.7.16"
  }
 },
 "nbformat": 4,
 "nbformat_minor": 2
}
