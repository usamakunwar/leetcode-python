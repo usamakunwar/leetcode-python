{
 "cells": [
  {
   "cell_type": "markdown",
   "metadata": {},
   "source": [
    "# 841. Keys and Rooms (Medium)"
   ]
  },
  {
   "cell_type": "markdown",
   "metadata": {},
   "source": [
    "<div><p>There are <code>N</code> rooms and you start in room <code>0</code>.&nbsp; Each room has a distinct number in <code>0, 1, 2, ..., N-1</code>, and each room may have&nbsp;some keys to access the next room.&nbsp;</p>\n",
    "\n",
    "<p>Formally, each room <code>i</code>&nbsp;has a list of keys <code>rooms[i]</code>, and each key <code>rooms[i][j]</code> is an integer in <code>[0, 1, ..., N-1]</code> where <code>N = rooms.length</code>.&nbsp; A key <code>rooms[i][j] = v</code>&nbsp;opens the room with number <code>v</code>.</p>\n",
    "\n",
    "<p>Initially, all the rooms start locked (except for room <code>0</code>).&nbsp;</p>\n",
    "\n",
    "<p>You can walk back and forth between rooms freely.</p>\n",
    "\n",
    "<p>Return <code>true</code>&nbsp;if and only if you can enter&nbsp;every room.</p>\n",
    "\n",
    "<ol>\n",
    "</ol>\n",
    "\n",
    "<p><strong>Example 1:</strong></p>\n",
    "\n",
    "<pre><strong>Input: </strong>[[1],[2],[3],[]]\n",
    "<strong>Output: </strong>true\n",
    "<strong>Explanation:  </strong>\n",
    "We start in room 0, and pick up key 1.\n",
    "We then go to room 1, and pick up key 2.\n",
    "We then go to room 2, and pick up key 3.\n",
    "We then go to room 3.  Since we were able to go to every room, we return true.\n",
    "</pre>\n",
    "\n",
    "<p><strong>Example 2:</strong></p>\n",
    "\n",
    "<pre><strong>Input: </strong>[[1,3],[3,0,1],[2],[0]]\n",
    "<strong>Output: </strong>false\n",
    "<strong>Explanation: </strong>We can't enter the room with number 2.\n",
    "</pre>\n",
    "\n",
    "<p><b>Note:</b></p>\n",
    "\n",
    "<ol>\n",
    "\t<li><code>1 &lt;= rooms.length &lt;=&nbsp;1000</code></li>\n",
    "\t<li><code>0 &lt;= rooms[i].length &lt;= 1000</code></li>\n",
    "\t<li>The number of keys in all rooms combined is at most&nbsp;<code>3000</code>.</li>\n",
    "</ol>\n",
    "</div>"
   ]
  },
  {
   "cell_type": "markdown",
   "metadata": {},
   "source": [
    "## Option 1\n",
    "\n",
    "<p>DFS\n",
    "    <p>\n",
    "\n",
    "Time complexity: O(n)\n",
    "<br>\n",
    "Space complexity: O(n) "
   ]
  },
  {
   "cell_type": "code",
   "execution_count": null,
   "metadata": {
    "scrolled": false
   },
   "outputs": [],
   "source": [
    "class Solution(object):\n",
    "    def canVisitAllRooms(self, rooms):\n",
    "        self.seen = set([0])\n",
    "        def search(i):\n",
    "            res = 1\n",
    "            for j in rooms[i]:\n",
    "                if j not in self.seen:\n",
    "                    self.seen.add(j)\n",
    "                    res += search(j)\n",
    "            return res\n",
    "        return search(0) == len(rooms)\n",
    "        \n",
    "    \n",
    "Solution().canVisitAllRooms([[1,3],[3,0,1],[2],[0]])\n",
    "        "
   ]
  },
  {
   "cell_type": "markdown",
   "metadata": {},
   "source": [
    "#### Result: 68ms (17.54%)"
   ]
  }
 ],
 "metadata": {
  "kernelspec": {
   "display_name": "Python 2",
   "language": "python",
   "name": "python2"
  },
  "language_info": {
   "codemirror_mode": {
    "name": "ipython",
    "version": 2
   },
   "file_extension": ".py",
   "mimetype": "text/x-python",
   "name": "python",
   "nbconvert_exporter": "python",
   "pygments_lexer": "ipython2",
   "version": "2.7.16"
  }
 },
 "nbformat": 4,
 "nbformat_minor": 2
}
