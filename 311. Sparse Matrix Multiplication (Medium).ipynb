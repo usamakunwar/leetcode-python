{
 "cells": [
  {
   "cell_type": "markdown",
   "metadata": {},
   "source": [
    "# 311. Sparse Matrix Multiplication (Medium)"
   ]
  },
  {
   "cell_type": "markdown",
   "metadata": {},
   "source": [
    "<div><p>Given two <a href=\"https://en.wikipedia.org/wiki/Sparse_matrix\" target=\"_blank\">sparse matrices</a> <b>A</b> and <b>B</b>, return the result of <b>AB</b>.</p>\n",
    "\n",
    "<p>You may assume that <b>A</b>'s column number is equal to <b>B</b>'s row number.</p>\n",
    "\n",
    "<p><b>Example:</b></p>\n",
    "\n",
    "<pre><b>Input:\n",
    "\n",
    "</b><strong>A</strong> = [\n",
    "  [ 1, 0, 0],\n",
    "  [-1, 0, 3]\n",
    "]\n",
    "\n",
    "<strong>B</strong> = [\n",
    "  [ 7, 0, 0 ],\n",
    "  [ 0, 0, 0 ],\n",
    "  [ 0, 0, 1 ]\n",
    "]\n",
    "\n",
    "<strong>Output:</strong>\n",
    "\n",
    "     |  1 0 0 |   | 7 0 0 |   |  7 0 0 |\n",
    "<b>AB</b> = | -1 0 3 | x | 0 0 0 | = | -7 0 3 |\n",
    "                  | 0 0 1 |\n",
    "</pre>\n",
    "</div>"
   ]
  },
  {
   "cell_type": "markdown",
   "metadata": {},
   "source": [
    "## Option 1\n",
    "\n",
    "<p>As the matrices are sparse, we could go over them taking note of the non-zero values. Then cross them\n",
    "\n",
    "Time complexity: O(n)\n",
    "    <br>\n",
    "Space complexity: O(n) \n"
   ]
  },
  {
   "cell_type": "code",
   "execution_count": null,
   "metadata": {},
   "outputs": [],
   "source": [
    "class Solution(object):\n",
    "    def multiply(self, A, B):\n",
    "        res = [[0]*len(B[0]) for i in range(len(A))]  #Create empty result matrix\n",
    "        \n",
    "        set_a, set_b = set(), set()\n",
    "        \n",
    "        for i in range(len(A)):\n",
    "            for j in range(len(A[0])):\n",
    "                if A[i][j]: set_a.add((i,j)) #Gather non zero values in A\n",
    "        \n",
    "        for i in range(len(B)):\n",
    "            for j in range(len(B[0])):\n",
    "                if B[i][j]: set_b.add((i,j)) #Gather non zero values in B       \n",
    "        \n",
    "        for row_a, col_a in set_a:\n",
    "            for row_b, col_b in set_b:\n",
    "                if col_a == row_b: #Cross the values if they are in the required col/row\n",
    "                    res[row_a][col_b] += A[row_a][col_a]*B[row_b][col_b]\n",
    "        \n",
    "        return res\n",
    "        \n",
    "Solution().multiply([[1,0,0],[-1,0,3]], [[7,0,0],[0,0,0],[0,0,1]])\n",
    "        "
   ]
  },
  {
   "cell_type": "markdown",
   "metadata": {},
   "source": [
    "\n",
    "#### Result: 52ms (44.67%)"
   ]
  },
  {
   "cell_type": "markdown",
   "metadata": {},
   "source": [
    "## Option 2\n",
    "\n",
    "Time complexity: O(n)\n",
    "    <br>\n",
    "Space complexity: O(n) \n"
   ]
  },
  {
   "cell_type": "code",
   "execution_count": null,
   "metadata": {},
   "outputs": [],
   "source": [
    "import collections\n",
    "class Solution(object):\n",
    "    def multiply(self, A, B):\n",
    "        res = [[0]*len(B[0]) for i in range(len(A))]  #Create empty result matrix\n",
    "        \n",
    "        set_a = collections.defaultdict(list)\n",
    "        \n",
    "        for i in range(len(A)):\n",
    "            for j in range(len(A[0])):\n",
    "                if A[i][j]: set_a[j].append(i)\n",
    "        \n",
    "        for i in range(len(B)):\n",
    "            for j in range(len(B[0])):\n",
    "                if B[i][j]: \n",
    "                    for k in set_a[i]:\n",
    "                        res[k][j] += A[k][i]*B[i][j]\n",
    "        return res\n",
    "        \n",
    "Solution().multiply([[1,0,0],[-1,0,3]], [[7,0,0],[0,0,0],[0,0,1]])\n",
    "        "
   ]
  },
  {
   "cell_type": "markdown",
   "metadata": {},
   "source": [
    "#### Result: 40ms (93.33%)"
   ]
  }
 ],
 "metadata": {
  "kernelspec": {
   "display_name": "Python 2",
   "language": "python",
   "name": "python2"
  },
  "language_info": {
   "codemirror_mode": {
    "name": "ipython",
    "version": 2
   },
   "file_extension": ".py",
   "mimetype": "text/x-python",
   "name": "python",
   "nbconvert_exporter": "python",
   "pygments_lexer": "ipython2",
   "version": "2.7.16"
  }
 },
 "nbformat": 4,
 "nbformat_minor": 2
}
