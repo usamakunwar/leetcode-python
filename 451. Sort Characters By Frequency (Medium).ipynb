{
 "cells": [
  {
   "cell_type": "markdown",
   "metadata": {},
   "source": [
    "# 451. Sort Characters By Frequency (Medium)"
   ]
  },
  {
   "cell_type": "markdown",
   "metadata": {},
   "source": [
    "<div><p>Given a string, sort it in decreasing order based on the frequency of characters.</p>\n",
    "\n",
    "<p><b>Example 1:</b>\n",
    "</p><pre><b>Input:</b>\n",
    "\"tree\"\n",
    "\n",
    "<b>Output:</b>\n",
    "\"eert\"\n",
    "\n",
    "<b>Explanation:</b>\n",
    "'e' appears twice while 'r' and 't' both appear once.\n",
    "So 'e' must appear before both 'r' and 't'. Therefore \"eetr\" is also a valid answer.\n",
    "</pre>\n",
    "<p></p>\n",
    "\n",
    "<p><b>Example 2:</b>\n",
    "</p><pre><b>Input:</b>\n",
    "\"cccaaa\"\n",
    "\n",
    "<b>Output:</b>\n",
    "\"cccaaa\"\n",
    "\n",
    "<b>Explanation:</b>\n",
    "Both 'c' and 'a' appear three times, so \"aaaccc\" is also a valid answer.\n",
    "Note that \"cacaca\" is incorrect, as the same characters must be together.\n",
    "</pre>\n",
    "<p></p>\n",
    "\n",
    "<p><b>Example 3:</b>\n",
    "</p><pre><b>Input:</b>\n",
    "\"Aabb\"\n",
    "\n",
    "<b>Output:</b>\n",
    "\"bbAa\"\n",
    "\n",
    "<b>Explanation:</b>\n",
    "\"bbaA\" is also a valid answer, but \"Aabb\" is incorrect.\n",
    "Note that 'A' and 'a' are treated as two different characters.\n",
    "</pre>\n",
    "<p></p></div>"
   ]
  },
  {
   "cell_type": "markdown",
   "metadata": {},
   "source": [
    "## Option 1\n",
    "<p>\n",
    "<p>\n",
    "<p>\n",
    "Time complexity = O(n)\n",
    "<br>\n",
    "Space complexity = O(n)"
   ]
  },
  {
   "cell_type": "code",
   "execution_count": null,
   "metadata": {},
   "outputs": [],
   "source": [
    "import collections\n",
    "class Solution(object):\n",
    "    def frequencySort(self, s):\n",
    "        c = collections.Counter(s)\n",
    "        count_val = sorted(zip(c.values(),c.keys()), reverse=True)\n",
    "        return ''.join([v*c for c,v in count_val])\n",
    "\n",
    "Solution().frequencySort(\"loveleetcode\")"
   ]
  },
  {
   "cell_type": "markdown",
   "metadata": {},
   "source": [
    "#### Result: 60ms (48.89%)"
   ]
  }
 ],
 "metadata": {
  "kernelspec": {
   "display_name": "Python 2",
   "language": "python",
   "name": "python2"
  },
  "language_info": {
   "codemirror_mode": {
    "name": "ipython",
    "version": 2
   },
   "file_extension": ".py",
   "mimetype": "text/x-python",
   "name": "python",
   "nbconvert_exporter": "python",
   "pygments_lexer": "ipython2",
   "version": "2.7.16"
  }
 },
 "nbformat": 4,
 "nbformat_minor": 2
}
