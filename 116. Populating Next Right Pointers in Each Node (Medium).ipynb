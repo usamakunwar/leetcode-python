{
 "cells": [
  {
   "cell_type": "markdown",
   "metadata": {},
   "source": [
    "# 116. Populating Next Right Pointers in Each Node (Medium)"
   ]
  },
  {
   "cell_type": "markdown",
   "metadata": {},
   "source": [
    "<div><p>You are given a <strong>perfect binary tree</strong>&nbsp;where&nbsp;all leaves are on the same level, and every parent has two children. The binary tree has the following definition:</p>\n",
    "\n",
    "<pre>struct Node {\n",
    "  int val;\n",
    "  Node *left;\n",
    "  Node *right;\n",
    "  Node *next;\n",
    "}\n",
    "</pre>\n",
    "\n",
    "<p>Populate each next pointer to point to its next right node. If there is no next right node, the next pointer should be set to <code>NULL</code>.</p>\n",
    "\n",
    "<p>Initially, all next pointers are set to <code>NULL</code>.</p>\n",
    "\n",
    "<p>&nbsp;</p>\n",
    "\n",
    "<p><strong>Follow up:</strong></p>\n",
    "\n",
    "<ul>\n",
    "\t<li>You may only use constant extra space.</li>\n",
    "\t<li>Recursive approach is fine, you may assume implicit stack space does not count as extra space for this problem.</li>\n",
    "</ul>\n",
    "\n",
    "<p>&nbsp;</p>\n",
    "<p><strong>Example 1:</strong></p>\n",
    "\n",
    "<p><img alt=\"\" src=\"https://assets.leetcode.com/uploads/2019/02/14/116_sample.png\" style=\"width: 640px; height: 218px;\"></p>\n",
    "\n",
    "<pre><strong>Input:</strong> root = [1,2,3,4,5,6,7]\n",
    "<strong>Output:</strong> [1,#,2,3,#,4,5,6,7,#]\n",
    "<strong>Explanation: </strong>Given the above perfect binary tree (Figure A), your function should populate each next pointer to point to its next right node, just like in Figure B. The serialized output is in level order as connected by the next pointers, with '#' signifying the end of each level.\n",
    "</pre>\n",
    "\n",
    "<p>&nbsp;</p>\n",
    "<p><strong>Constraints:</strong></p>\n",
    "\n",
    "<ul>\n",
    "\t<li>The number of nodes in the given tree is less than <code>4096</code>.</li>\n",
    "\t<li><code>-1000 &lt;= node.val &lt;= 1000</code></li>\n",
    "</ul>\n",
    "</div>"
   ]
  },
  {
   "cell_type": "markdown",
   "metadata": {},
   "source": [
    "## Option 1\n",
    "\n",
    "Iterative BFS, keep a track of prev node to make the next connections\n",
    "<br>\n",
    "Time complexity = O(n)\n",
    "<br>\n",
    "Space complexity = O(n)"
   ]
  },
  {
   "cell_type": "code",
   "execution_count": null,
   "metadata": {
    "scrolled": false
   },
   "outputs": [],
   "source": [
    "\"\"\"\n",
    "# Definition for a Node.\n",
    "class Node:\n",
    "    def __init__(self, val: int = 0, left: 'Node' = None, right: 'Node' = None, next: 'Node' = None):\n",
    "        self.val = val\n",
    "        self.left = left\n",
    "        self.right = right\n",
    "        self.next = next\n",
    "\"\"\"\n",
    "class Solution:\n",
    "    def connect(self, root: 'Node') -> 'Node':\n",
    "        queue = collections.deque()\n",
    "        queue.append((root,1))\n",
    "        curr_level, prev = 0,None\n",
    "        while queue:\n",
    "            node,level = queue.popleft()\n",
    "            if not node: continue\n",
    "            if level == curr_level:\n",
    "                prev.next = node\n",
    "            else:\n",
    "                curr_level = level\n",
    "            prev = node\n",
    "            queue.append((node.left,level+1))\n",
    "            queue.append((node.right,level+1))\n",
    "        return root"
   ]
  },
  {
   "cell_type": "markdown",
   "metadata": {},
   "source": [
    "#### Result:  68ms (31.50%)"
   ]
  },
  {
   "cell_type": "markdown",
   "metadata": {},
   "source": [
    "## Option 2\n",
    "\n",
    "We can use a different method to save space. Do it without a queue.\n",
    "<li>If we create connections of future (child) nodes, we can iterate from left most to right most on every level\n",
    "<br>\n",
    "Time complexity = O(n)\n",
    "<br>\n",
    "Space complexity = O(n)"
   ]
  },
  {
   "cell_type": "code",
   "execution_count": null,
   "metadata": {},
   "outputs": [],
   "source": [
    "class Solution:\n",
    "    def connect(self, root: 'Node') -> 'Node':\n",
    "        #we will iterate from left to right of a level, then down a level\n",
    "        node = root\n",
    "        while node and node.left:\n",
    "            #keep a reference of where to start the next level\n",
    "            next_level = node.left\n",
    "            #iterate left to right\n",
    "            while node:\n",
    "                #This connects the inner nodes\n",
    "                node.left.next = node.right\n",
    "                #This connects the outer nodes\n",
    "                node.right.next = node.next.left if node.next else None\n",
    "                node = node.next\n",
    "            #down level\n",
    "            node = next_level\n",
    "            \n",
    "        return root"
   ]
  },
  {
   "cell_type": "markdown",
   "metadata": {},
   "source": [
    "#### Result:  64ms (55.24%)"
   ]
  }
 ],
 "metadata": {
  "kernelspec": {
   "display_name": "Python 3",
   "language": "python",
   "name": "python3"
  },
  "language_info": {
   "codemirror_mode": {
    "name": "ipython",
    "version": 3
   },
   "file_extension": ".py",
   "mimetype": "text/x-python",
   "name": "python",
   "nbconvert_exporter": "python",
   "pygments_lexer": "ipython3",
   "version": "3.7.4"
  }
 },
 "nbformat": 4,
 "nbformat_minor": 2
}
